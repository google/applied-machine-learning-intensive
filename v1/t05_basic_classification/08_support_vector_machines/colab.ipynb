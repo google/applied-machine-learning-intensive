{
 "cells": [
  {
   "cell_type": "markdown",
   "metadata": {
    "colab_type": "text",
    "id": "copyright"
   },
   "source": [
    "#### Copyright 2019 Google LLC."
   ]
  },
  {
   "cell_type": "code",
   "execution_count": 0,
   "metadata": {
    "colab": {},
    "colab_type": "code",
    "id": "ZJWsDPX6cIC0"
   },
   "outputs": [],
   "source": [
    "# Licensed under the Apache License, Version 2.0 (the \"License\");\n",
    "# you may not use this file except in compliance with the License.\n",
    "# You may obtain a copy of the License at\n",
    "#\n",
    "# https://www.apache.org/licenses/LICENSE-2.0\n",
    "#\n",
    "# Unless required by applicable law or agreed to in writing, software\n",
    "# distributed under the License is distributed on an \"AS IS\" BASIS,\n",
    "# WITHOUT WARRANTIES OR CONDITIONS OF ANY KIND, either express or implied.\n",
    "# See the License for the specific language governing permissions and\n",
    "# limitations under the License."
   ]
  },
  {
   "cell_type": "markdown",
   "metadata": {
    "colab_type": "text",
    "id": "DTotGjoicova"
   },
   "source": [
    "# Support Vector Machines"
   ]
  },
  {
   "cell_type": "markdown",
   "metadata": {
    "colab_type": "text",
    "id": "bTOkXjCecolX"
   },
   "source": [
    "Support Vector Machines (SVM) are a powerful tool for performing both classification and regression tasks. In this Colab we'll create a classification model using a support vector machine Scikit Learn."
   ]
  },
  {
   "cell_type": "markdown",
   "metadata": {
    "colab_type": "text",
    "id": "dLogZ3BHMSSf"
   },
   "source": [
    "## Overview"
   ]
  },
  {
   "cell_type": "markdown",
   "metadata": {
    "colab_type": "text",
    "id": "1V_9BBF-NFbI"
   },
   "source": [
    "### Learning Objectives\n",
    "\n",
    "* Define problems for which support vector machines are a good fit.\n",
    "* Understand the primary settings used to tune a support vector machine and their tradeoffs."
   ]
  },
  {
   "cell_type": "markdown",
   "metadata": {
    "colab_type": "text",
    "id": "6742ZS-CNWx3"
   },
   "source": [
    "### Prerequisites\n",
    "\n",
    "* Introduction to scikit-learn\n",
    "* Classification\n",
    "* Visualizations"
   ]
  },
  {
   "cell_type": "markdown",
   "metadata": {
    "colab_type": "text",
    "id": "V70MuVq5Nphk"
   },
   "source": [
    "### Estimated Duration\n",
    "\n",
    "60 minutes"
   ]
  },
  {
   "cell_type": "markdown",
   "metadata": {
    "colab_type": "text",
    "id": "2tETdpcuNrjD"
   },
   "source": [
    "### Grading Criteria\n",
    "\n",
    "Each exercise is worth 3 points. The rubric for calculating those points is:\n",
    "\n",
    "| Points | Description |\n",
    "|--------|-------------|\n",
    "| 0      | No attempt at exercise |\n",
    "| 1      | Attempted exercise, but code does not run |\n",
    "| 2      | Attempted exercise, code runs, but produces incorrect answer |\n",
    "| 3      | Exercise completed successfully |\n",
    "\n",
    "There are 4 exercises in this Colab so there are 12 points available. The grading scale will be 9 points."
   ]
  },
  {
   "cell_type": "markdown",
   "metadata": {
    "colab_type": "text",
    "id": "zxkLg1AkNtGb"
   },
   "source": [
    "## SVM"
   ]
  },
  {
   "cell_type": "markdown",
   "metadata": {
    "colab_type": "text",
    "id": "lEKsqN3jwYfm"
   },
   "source": [
    "Let's begin by loading a dataset that we'll use for classification."
   ]
  },
  {
   "cell_type": "code",
   "execution_count": 0,
   "metadata": {
    "colab": {},
    "colab_type": "code",
    "id": "BXTshi78c4iv"
   },
   "outputs": [],
   "source": [
    "import pandas as pd\n",
    "from sklearn.datasets import load_iris\n",
    "\n",
    "iris_bunch = load_iris()\n",
    "\n",
    "iris_df = pd.DataFrame(iris_bunch.data, columns=iris_bunch.feature_names)\n",
    "iris_df['species'] = iris_bunch.target\n",
    "\n",
    "iris_df.describe() "
   ]
  },
  {
   "cell_type": "markdown",
   "metadata": {
    "colab_type": "text",
    "id": "8BkQvJdEwuOl"
   },
   "source": [
    "You can see in the data description above that the ranges of values for each of the columns is quite a bit different. For instance the mean sepal length is almost twice as big as the sepal width.\n",
    "\n",
    "SVM is sensitive to features with different scales. We'll run the data through the `StandardScaler` to get all of the feature data scaled.\n",
    "\n",
    "First, let's create the scalar and fit it to our features."
   ]
  },
  {
   "cell_type": "code",
   "execution_count": 0,
   "metadata": {
    "colab": {},
    "colab_type": "code",
    "id": "3ecXA8GndgrP"
   },
   "outputs": [],
   "source": [
    "from sklearn.preprocessing import StandardScaler\n",
    "\n",
    "scaler = StandardScaler()\n",
    "scaler.fit(iris_df[iris_bunch.feature_names])\n",
    "\n",
    "scaler.mean_"
   ]
  },
  {
   "cell_type": "markdown",
   "metadata": {
    "colab_type": "text",
    "id": "mz8AZsCtxVRb"
   },
   "source": [
    "We can now transform the data, which applies the scaling."
   ]
  },
  {
   "cell_type": "code",
   "execution_count": 0,
   "metadata": {
    "colab": {},
    "colab_type": "code",
    "id": "mYBrKIUbeauS"
   },
   "outputs": [],
   "source": [
    "iris_df[iris_bunch.feature_names] = scaler.transform(iris_df[iris_bunch.feature_names])\n",
    "\n",
    "iris_df.describe()"
   ]
  },
  {
   "cell_type": "markdown",
   "metadata": {
    "colab_type": "text",
    "id": "uZZby8uQxmgT"
   },
   "source": [
    "That looks better now."
   ]
  },
  {
   "cell_type": "markdown",
   "metadata": {
    "colab_type": "text",
    "id": "xKlDUcz0xr36"
   },
   "source": [
    "Since we scaled the data, the column names are now a bit deceiving. Let's rename the columns to get \"(cm)\" out of the names."
   ]
  },
  {
   "cell_type": "code",
   "execution_count": 0,
   "metadata": {
    "colab": {},
    "colab_type": "code",
    "id": "uobpnTYfiTr7"
   },
   "outputs": [],
   "source": [
    "iris_df = iris_df.rename(index=str, columns={\n",
    "  'sepal length (cm)': 'sepal_length',\n",
    "  'sepal width (cm)': 'sepal_width',\n",
    "  'petal length (cm)': 'petal_length',\n",
    "  'petal width (cm)': 'petal_width'})\n",
    "iris_df.head()"
   ]
  },
  {
   "cell_type": "markdown",
   "metadata": {
    "colab_type": "text",
    "id": "EauTJlfmx5FA"
   },
   "source": [
    "We could use all of the features to train our model, but in this case we are going to pick two features so that we can make some nice visualizations later on in the colab."
   ]
  },
  {
   "cell_type": "code",
   "execution_count": 0,
   "metadata": {
    "colab": {},
    "colab_type": "code",
    "id": "JukPMMb2ivPT"
   },
   "outputs": [],
   "source": [
    "features = ['petal_length', 'petal_width']\n",
    "target = 'species'"
   ]
  },
  {
   "cell_type": "markdown",
   "metadata": {
    "colab_type": "text",
    "id": "AfZKRDJwyLRm"
   },
   "source": [
    "Now we can create and train a classifier. There are multiple ways to create an SVM model in scikit-learn. In this case we are going to use the [linear support vector classifier](https://scikit-learn.org/stable/modules/generated/sklearn.svm.LinearSVC.html)"
   ]
  },
  {
   "cell_type": "code",
   "execution_count": 0,
   "metadata": {
    "colab": {},
    "colab_type": "code",
    "id": "weVHIEeue5xM"
   },
   "outputs": [],
   "source": [
    "from sklearn.svm import LinearSVC\n",
    "\n",
    "classifier = LinearSVC()\n",
    "classifier.fit(iris_df[features], iris_df[target])"
   ]
  },
  {
   "cell_type": "markdown",
   "metadata": {
    "colab_type": "text",
    "id": "3YdEuhgWyhFO"
   },
   "source": [
    "We can now use our model to make predictions. In this case we are making predictions on the data that we just trained on in order to get and F1 score."
   ]
  },
  {
   "cell_type": "code",
   "execution_count": 0,
   "metadata": {
    "colab": {},
    "colab_type": "code",
    "id": "swJb81CdgIRe"
   },
   "outputs": [],
   "source": [
    "from sklearn.metrics import f1_score\n",
    "\n",
    "predictions = classifier.predict(iris_df[features])\n",
    "\n",
    "f1_score(iris_df[target], predictions, average='micro')"
   ]
  },
  {
   "cell_type": "markdown",
   "metadata": {
    "colab_type": "text",
    "id": "d5eMo6VRyyfH"
   },
   "source": [
    "We can visualize the decision boundaries using the pyplot `contourf` function."
   ]
  },
  {
   "cell_type": "code",
   "execution_count": 0,
   "metadata": {
    "colab": {},
    "colab_type": "code",
    "id": "FsuT2Fc7g0b0"
   },
   "outputs": [],
   "source": [
    "import matplotlib.pyplot as plt\n",
    "import numpy as np\n",
    "\n",
    "# Find the smallest value in the feature data. In this case we are looking\n",
    "# across both features since we scaled them. Make the min value a little smaller\n",
    "# than reality in order to get better see all of the points on the chart.\n",
    "min_val = min(iris_df[features].min()) - 0.25\n",
    "\n",
    "# Find the largets value in the feature data. Add a little extra to it to make\n",
    "# the chart look better.\n",
    "max_val = max(iris_df[features].max()) + 0.25\n",
    "\n",
    "# Create a range of numbers from min to max with some small step. This will be\n",
    "# used to make multple predictions that will create the decision boundary\n",
    "# outline.\n",
    "rng = np.arange(min_val, max_val, .02)\n",
    "\n",
    "# Create a grid of points.\n",
    "xx, yy = np.meshgrid(rng, rng)\n",
    "\n",
    "# Make predictions on every point in the grid.\n",
    "predictions = classifier.predict(np.c_[xx.ravel(), yy.ravel()])\n",
    "\n",
    "# Reshape the predctions for plotting.\n",
    "zz = predictions.reshape(xx.shape)\n",
    "\n",
    "# Plot the predictions on the grid.\n",
    "plt.contourf(xx, yy, zz)\n",
    "\n",
    "# Plot each class of iris with a different marker.\n",
    "#   Class 0 with circles\n",
    "#   Class 1 with triangles\n",
    "#   Class 2 with squares\n",
    "for species_and_marker in ((0, 'o'), (1, '^'), (2, 's')):\n",
    "  plt.scatter(\n",
    "    iris_df[iris_df[target] == species_and_marker[0]][features[0]],\n",
    "    iris_df[iris_df[target] == species_and_marker[0]][features[1]],\n",
    "    marker=species_and_marker[1])\n",
    "plt.show()"
   ]
  },
  {
   "cell_type": "markdown",
   "metadata": {
    "colab_type": "text",
    "id": "-Tg74ogrczAA"
   },
   "source": [
    "# Exercises"
   ]
  },
  {
   "cell_type": "markdown",
   "metadata": {
    "colab_type": "text",
    "id": "2kvNGHbE1oCr"
   },
   "source": [
    "## Exercise 1: Polynomial SVC"
   ]
  },
  {
   "cell_type": "markdown",
   "metadata": {
    "colab_type": "text",
    "id": "d1VfxQIclnA1"
   },
   "source": [
    "Scikit Learn also has an [SVC](https://scikit-learn.org/stable/modules/generated/sklearn.svm.SVC.html) classifier that can use non-linear kernels. Create an `SVC` classifier with a 3-degree polynomial kernel and train it on the iris data. Make predictions on the iris data that you trained on and then print out the F1 score."
   ]
  },
  {
   "cell_type": "markdown",
   "metadata": {
    "colab_type": "text",
    "id": "AFj-ndSgOSXG"
   },
   "source": [
    "### Student Solution"
   ]
  },
  {
   "cell_type": "code",
   "execution_count": 0,
   "metadata": {
    "colab": {},
    "colab_type": "code",
    "id": "xkEjTGN8OU49"
   },
   "outputs": [],
   "source": [
    "# Your code goes here"
   ]
  },
  {
   "cell_type": "markdown",
   "metadata": {
    "colab_type": "text",
    "id": "exercise-1-key-1"
   },
   "source": [
    "### Answer Key"
   ]
  },
  {
   "cell_type": "markdown",
   "metadata": {
    "colab_type": "text",
    "id": "exercise-1-solution-1"
   },
   "source": [
    "**Solution**"
   ]
  },
  {
   "cell_type": "code",
   "execution_count": 0,
   "metadata": {
    "colab": {},
    "colab_type": "code",
    "id": "JLzvOQ6-vKYf"
   },
   "outputs": [],
   "source": [
    "from sklearn.svm import SVC\n",
    "import matplotlib.pyplot as plt\n",
    "import numpy as np\n",
    "\n",
    "classifier = SVC(kernel='poly', degree=3)\n",
    "classifier.fit(iris_df[features], iris_df[target])\n",
    "predictions = classifier.predict(iris_df[features])\n",
    "\n",
    "print(f1_score(iris_df[target], predictions, average='micro'))"
   ]
  },
  {
   "cell_type": "markdown",
   "metadata": {
    "colab_type": "text",
    "id": "tQbk3JB3ObsK"
   },
   "source": [
    "**Validation**"
   ]
  },
  {
   "cell_type": "code",
   "execution_count": 0,
   "metadata": {
    "colab": {},
    "colab_type": "code",
    "id": "Qclpm0noOdSS"
   },
   "outputs": [],
   "source": [
    "# TODO"
   ]
  },
  {
   "cell_type": "markdown",
   "metadata": {
    "colab_type": "text",
    "id": "tHrAE0uP17Pb"
   },
   "source": [
    "## Exercise 2: Plotting"
   ]
  },
  {
   "cell_type": "markdown",
   "metadata": {
    "colab_type": "text",
    "id": "rtwiXlXVlpA3"
   },
   "source": [
    "Create a plot that shows the decision boundaries of the polynomial SVC that you created in exercise 1."
   ]
  },
  {
   "cell_type": "markdown",
   "metadata": {
    "colab_type": "text",
    "id": "t-LvggLkOgn_"
   },
   "source": [
    "### Student Solution"
   ]
  },
  {
   "cell_type": "code",
   "execution_count": 0,
   "metadata": {
    "colab": {},
    "colab_type": "code",
    "id": "199xq34kOoHz"
   },
   "outputs": [],
   "source": [
    "# Your code goes here"
   ]
  },
  {
   "cell_type": "markdown",
   "metadata": {
    "colab_type": "text",
    "id": "exercise-2-key-1"
   },
   "source": [
    "### Answer Key"
   ]
  },
  {
   "cell_type": "markdown",
   "metadata": {
    "colab_type": "text",
    "id": "exercise-2-solution-1"
   },
   "source": [
    "**Solution**"
   ]
  },
  {
   "cell_type": "code",
   "execution_count": 0,
   "metadata": {
    "colab": {},
    "colab_type": "code",
    "id": "J4v51aS51ffx"
   },
   "outputs": [],
   "source": [
    "min_val = min(iris_df[features].min()) - 1\n",
    "max_val = max(iris_df[features].max()) + 1\n",
    "xx, yy = np.meshgrid(np.arange(min_val, max_val, .02), np.arange(min_val, max_val, .02))\n",
    "predictions = classifier.predict(np.c_[xx.ravel(), yy.ravel()])\n",
    "zz = predictions.reshape(xx.shape)\n",
    "plt.contourf(xx, yy, zz)\n",
    "\n",
    "for species_and_marker in ((0, 'o'), (1, '^'), (2, 's')):\n",
    "  plt.scatter(\n",
    "    iris_df[iris_df[target] == species_and_marker[0]][features[0]],\n",
    "    iris_df[iris_df[target] == species_and_marker[0]][features[1]],\n",
    "    marker=species_and_marker[1])\n",
    "plt.show()"
   ]
  },
  {
   "cell_type": "markdown",
   "metadata": {
    "colab_type": "text",
    "id": "p1_MMoHvOvaW"
   },
   "source": [
    "**Validation**"
   ]
  },
  {
   "cell_type": "code",
   "execution_count": 0,
   "metadata": {
    "colab": {},
    "colab_type": "code",
    "id": "ggm0kgUaOw3y"
   },
   "outputs": [],
   "source": [
    "# TODO"
   ]
  },
  {
   "cell_type": "markdown",
   "metadata": {
    "colab_type": "text",
    "id": "ocYP9cb-28Hk"
   },
   "source": [
    "## Exercise 3: C Hyperparameter"
   ]
  },
  {
   "cell_type": "markdown",
   "metadata": {
    "colab_type": "text",
    "id": "IiH7HqPalrS4"
   },
   "source": [
    "We accepted the default 1.0 C hyperparameter in the classifier above. Try halving and doubling the C value. How does it affect the F1 score?\n",
    "\n",
    "Visualize the decision boundaries. Do they visibly change?"
   ]
  },
  {
   "cell_type": "markdown",
   "metadata": {
    "colab_type": "text",
    "id": "Kdckx6PUOzX0"
   },
   "source": [
    "### Student Solution"
   ]
  },
  {
   "cell_type": "code",
   "execution_count": 0,
   "metadata": {
    "colab": {},
    "colab_type": "code",
    "id": "8GRkvd4F3i4r"
   },
   "outputs": [],
   "source": [
    "# Your code goes here"
   ]
  },
  {
   "cell_type": "markdown",
   "metadata": {
    "colab_type": "text",
    "id": "exercise-3-key-1"
   },
   "source": [
    "### Answer Key"
   ]
  },
  {
   "cell_type": "markdown",
   "metadata": {
    "colab_type": "text",
    "id": "exercise-3-solution-1"
   },
   "source": [
    "**Solution**"
   ]
  },
  {
   "cell_type": "code",
   "execution_count": 0,
   "metadata": {
    "colab": {},
    "colab_type": "code",
    "id": "J3wEVWmqO3Eu"
   },
   "outputs": [],
   "source": [
    "# TODO"
   ]
  },
  {
   "cell_type": "markdown",
   "metadata": {
    "colab_type": "text",
    "id": "-Nasghc6O38p"
   },
   "source": [
    "**Validation**"
   ]
  },
  {
   "cell_type": "code",
   "execution_count": 0,
   "metadata": {
    "colab": {},
    "colab_type": "code",
    "id": "SmSpnVRvO5QM"
   },
   "outputs": [],
   "source": [
    "# TODO"
   ]
  },
  {
   "cell_type": "markdown",
   "metadata": {
    "colab_type": "text",
    "id": "DJGWvH4k3krS"
   },
   "source": [
    "## Exercise 4: Regression"
   ]
  },
  {
   "cell_type": "markdown",
   "metadata": {
    "colab_type": "text",
    "id": "jBGddbZvvRT7"
   },
   "source": [
    "Use the [LinearSVR](https://scikit-learn.org/stable/modules/generated/sklearn.svm.LinearSVR.html) to predict Boston housing prices in the [Boston housing dataset](https://scikit-learn.org/stable/modules/generated/sklearn.datasets.load_boston.html)"
   ]
  },
  {
   "cell_type": "markdown",
   "metadata": {
    "colab_type": "text",
    "id": "OTERkp24O63j"
   },
   "source": [
    "### Student Solution"
   ]
  },
  {
   "cell_type": "code",
   "execution_count": 0,
   "metadata": {
    "colab": {},
    "colab_type": "code",
    "id": "kH72ajYw3pb9"
   },
   "outputs": [],
   "source": [
    "# Your code goes here"
   ]
  },
  {
   "cell_type": "markdown",
   "metadata": {
    "colab_type": "text",
    "id": "exercise-4-key-1"
   },
   "source": [
    "### Answer Key"
   ]
  },
  {
   "cell_type": "markdown",
   "metadata": {
    "colab_type": "text",
    "id": "exercise-4-solution-1"
   },
   "source": [
    "**Solution**"
   ]
  },
  {
   "cell_type": "code",
   "execution_count": 0,
   "metadata": {
    "colab": {},
    "colab_type": "code",
    "id": "-g5PiWr2PBZL"
   },
   "outputs": [],
   "source": [
    "# TODO"
   ]
  },
  {
   "cell_type": "markdown",
   "metadata": {
    "colab_type": "text",
    "id": "d3e1mOnVPCMm"
   },
   "source": [
    "**Validation**"
   ]
  },
  {
   "cell_type": "code",
   "execution_count": 0,
   "metadata": {
    "colab": {},
    "colab_type": "code",
    "id": "gJZHUcksPD8u"
   },
   "outputs": [],
   "source": [
    "# TODO"
   ]
  }
 ],
 "metadata": {
  "colab": {
   "collapsed_sections": [
    "copyright",
    "exercise-1-key-1",
    "exercise-2-key-1",
    "exercise-3-key-1",
    "exercise-4-key-1"
   ],
   "name": "Support Vector Machines",
   "private_outputs": true,
   "provenance": [],
   "toc_visible": true,
   "version": "0.3.2"
  },
  "kernelspec": {
   "display_name": "Python 3",
   "name": "python3"
  }
 },
 "nbformat": 4,
 "nbformat_minor": 0
}
