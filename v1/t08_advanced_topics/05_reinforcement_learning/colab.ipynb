{
  "nbformat": 4,
  "nbformat_minor": 0,
  "metadata": {
    "colab": {
      "name": "Reinforcement Learning",
      "version": "0.3.2",
      "provenance": [],
      "private_outputs": true,
      "collapsed_sections": [
        "copyright",
        "exercise-1-key-1"
      ],
      "toc_visible": true
    },
    "kernelspec": {
      "name": "python3",
      "display_name": "Python 3"
    },
    "accelerator": "GPU"
  },
  "cells": [
    {
      "cell_type": "markdown",
      "metadata": {
        "colab_type": "text",
        "id": "copyright"
      },
      "source": [
        "#### Copyright 2019 Google LLC."
      ]
    },
    {
      "cell_type": "code",
      "metadata": {
        "colab_type": "code",
        "id": "7PLP9Q30PKtv",
        "colab": {}
      },
      "source": [
        "# Licensed under the Apache License, Version 2.0 (the \"License\");\n",
        "# you may not use this file except in compliance with the License.\n",
        "# You may obtain a copy of the License at\n",
        "#\n",
        "# https://www.apache.org/licenses/LICENSE-2.0\n",
        "#\n",
        "# Unless required by applicable law or agreed to in writing, software\n",
        "# distributed under the License is distributed on an \"AS IS\" BASIS,\n",
        "# WITHOUT WARRANTIES OR CONDITIONS OF ANY KIND, either express or implied.\n",
        "# See the License for the specific language governing permissions and\n",
        "# limitations under the License."
      ],
      "execution_count": 0,
      "outputs": []
    },
    {
      "cell_type": "markdown",
      "metadata": {
        "colab_type": "text",
        "id": "f5W9rkuBmBu9"
      },
      "source": [
        "# Reinforcement Learning"
      ]
    },
    {
      "cell_type": "markdown",
      "metadata": {
        "colab_type": "text",
        "id": "zIykBQbYXrXA"
      },
      "source": [
        "Reinforcement Learning (RL) is equivalent to teaching a machine to make complex decisions given the inputs from an environment in which an agent is tasked.  It is the third paradigm of machine learning after supervised, and unsupervised learning, and it is the AI problem .  The reinforcement part allows an AI agent to experiment in its environment while optimizing its actions through consequences, observations and rewards.  Deep Reinforcement Learning is a merger of Deep Learning and Reinforcement Learning, and is wonderfully taught in this [UC Berkeley course](https://sites.google.com/corp/view/deep-rl-bootcamp/lectures).\n"
      ]
    },
    {
      "cell_type": "markdown",
      "metadata": {
        "colab_type": "text",
        "id": "vSwFn8YlaDL2"
      },
      "source": [
        "## Overview"
      ]
    },
    {
      "cell_type": "markdown",
      "metadata": {
        "colab_type": "text",
        "id": "xHVHPJhSaEEM"
      },
      "source": [
        "### Learning Objectives\n",
        "\n",
        "* Markov Decision Process\n",
        "* Planning (Dynamic Programming)\n",
        "* Policy Gradient Methods\n",
        "* Deep RL"
      ]
    },
    {
      "cell_type": "markdown",
      "metadata": {
        "colab_type": "text",
        "id": "gGrUipVEawYy"
      },
      "source": [
        "### Prerequisites\n",
        "\n",
        "* CNN\n",
        "* Sequential Models\n",
        "* Deep Neural Networks"
      ]
    },
    {
      "cell_type": "markdown",
      "metadata": {
        "colab_type": "text",
        "id": "0bExBYnwa7i2"
      },
      "source": [
        "### Estimated Duration\n",
        "\n",
        "60 minutes"
      ]
    },
    {
      "cell_type": "markdown",
      "metadata": {
        "colab_type": "text",
        "id": "SavoD7IUa-vY"
      },
      "source": [
        "### Grading Criteria\n",
        "\n",
        "Each exercise is worth 3 points. The rubric for calculating those points is:\n",
        "\n",
        "| Points | Description |\n",
        "|--------|-------------|\n",
        "| 0      | No attempt at exercise |\n",
        "| 1      | Attempted exercise, but code does not run |\n",
        "| 2      | Attempted exercise, code runs, but produces incorrect answer |\n",
        "| 3      | Exercise completed successfully |\n",
        "\n",
        "There are 2 exercises in this Colab so there are 6 points available. The grading scale will be 6 points."
      ]
    },
    {
      "cell_type": "markdown",
      "metadata": {
        "colab_type": "text",
        "id": "G8u2lYRWbE37"
      },
      "source": [
        "## Reinforcement Learning (RL)"
      ]
    },
    {
      "cell_type": "markdown",
      "metadata": {
        "id": "Q2SxCqR9qVf5",
        "colab_type": "text"
      },
      "source": [
        "Over the past few years, RL has been used in many applications of robotics, flight, autonomous driving, video games, board games, and other simulations.  Facebook just open sourced [AI Habitat](https://ai.facebook.com/blog/open-sourcing-ai-habitat-an-simulation-platform-for-embodied-ai-research/), a research environment for training agents in photo-realistic environments.\n",
        "\n",
        "Reinforcement learning will continue to push the state-of-the-art AI agents to reason about more complex tasks in both physical, and digital decision making."
      ]
    },
    {
      "cell_type": "markdown",
      "metadata": {
        "id": "Z8RkuzTRXpcF",
        "colab_type": "text"
      },
      "source": [
        "### Fields of RL\n",
        "\n",
        "<img src=\"https://raw.githubusercontent.com/googleDBS/images/master/RL.png\" width=\"400\">\n",
        "\n",
        "[source: David Silver](http://www0.cs.ucl.ac.uk/staff/D.Silver/web/Teaching_files/intro_RL.pdf)"
      ]
    },
    {
      "cell_type": "markdown",
      "metadata": {
        "id": "M4PNkiQa_Kgf",
        "colab_type": "text"
      },
      "source": [
        "### Markov Decision Process (MDP)\n",
        "\n",
        "The roots of RL begin with the simple Agent-State model outlined in the MDP.   "
      ]
    },
    {
      "cell_type": "markdown",
      "metadata": {
        "id": "Qw-qxI02Iyq3",
        "colab_type": "text"
      },
      "source": [
        "<img src=\"https://docs.google.com/a/google.com/drawings/d/e/2PACX-1vRkmWkNLKmlxMIh3E_8UtTsXQvucl4NZyTfrrgi14MMU_KWjcX2YZkxRFb7jtQ_9G5yGLde4Q0t3FIo/pub?w=795&amp;h=443\"\n",
        "     width=\"500\">"
      ]
    },
    {
      "cell_type": "markdown",
      "metadata": {
        "id": "BW4HwerXLv1M",
        "colab_type": "text"
      },
      "source": [
        "The assumption here us that the Agent is free to observe the state."
      ]
    },
    {
      "cell_type": "markdown",
      "metadata": {
        "id": "kkz74YBJN5y-",
        "colab_type": "text"
      },
      "source": [
        "### OpenAI `gym` with Space Invaders"
      ]
    },
    {
      "cell_type": "code",
      "metadata": {
        "id": "Empvw9ybL5XF",
        "colab_type": "code",
        "colab": {}
      },
      "source": [
        "import gym\n",
        "from gym import wrappers\n",
        "\n",
        "env = gym.make('SpaceInvaders-v0')\n",
        "env = wrappers.Monitor(env, \"./gym-results\", force=True)\n",
        "env.reset()\n",
        "for _ in range(1000):\n",
        "    action = env.action_space.sample()\n",
        "    observation, reward, done, info = env.step(action)\n",
        "    if done: break\n",
        "env.close()"
      ],
      "execution_count": 0,
      "outputs": []
    },
    {
      "cell_type": "code",
      "metadata": {
        "id": "MB_wp2FMNZli",
        "colab_type": "code",
        "colab": {}
      },
      "source": [
        "import io\n",
        "import base64\n",
        "from IPython.display import HTML\n",
        "\n",
        "video = io.open('./gym-results/openaigym.video.%s.video000000.mp4' % env.file_infix,\n",
        "                'r+b').read()\n",
        "encoded = base64.b64encode(video)\n",
        "HTML(data='''\n",
        "    <video width=\"360\" height=\"auto\" alt=\"test\" controls>\n",
        "    <source src=\"data:video/mp4;base64,{0}\" type=\"video/mp4\" /></video>'''\n",
        ".format(encoded.decode('ascii')))"
      ],
      "execution_count": 0,
      "outputs": []
    },
    {
      "cell_type": "markdown",
      "metadata": {
        "colab_type": "text",
        "id": "5WFLU7hWbO8_"
      },
      "source": [
        "# Resources\n",
        "\n",
        "* https://fullstackdeeplearning.com\n",
        "* [UCL Course on RL](http://www0.cs.ucl.ac.uk/staff/D.Silver/web/Teaching.html)\n",
        "* [Berkeley Deep RL](https://sites.google.com/corp/view/deep-rl-bootcamp/lectures)\n",
        "* [OpenAI Spinup](https://spinningup.openai.com/en/latest/index.html)\n",
        "* [OpenAI gym](http://gym.openai.com/)"
      ]
    },
    {
      "cell_type": "markdown",
      "metadata": {
        "colab_type": "text",
        "id": "Swt2fxm-fG_B"
      },
      "source": [
        "# Exercises"
      ]
    },
    {
      "cell_type": "markdown",
      "metadata": {
        "colab_type": "text",
        "id": "iWq38ASlb2aY"
      },
      "source": [
        "## Exercise 1"
      ]
    },
    {
      "cell_type": "markdown",
      "metadata": {
        "colab_type": "text",
        "id": "iWq38ASlb2aX"
      },
      "source": [
        "Implement OpenAI gym\n",
        "\n"
      ]
    },
    {
      "cell_type": "markdown",
      "metadata": {
        "colab_type": "text",
        "id": "CYZEXNK1VDIJ"
      },
      "source": [
        "### Student Solution"
      ]
    },
    {
      "cell_type": "code",
      "metadata": {
        "colab_type": "code",
        "id": "TI_WxOyjcfNu",
        "colab": {}
      },
      "source": [
        "# Your answer goes here"
      ],
      "execution_count": 0,
      "outputs": []
    },
    {
      "cell_type": "markdown",
      "metadata": {
        "colab_type": "text",
        "id": "exercise-1-key-1"
      },
      "source": [
        "### Answer Key"
      ]
    },
    {
      "cell_type": "markdown",
      "metadata": {
        "colab_type": "text",
        "id": "exercise-1-solution-1"
      },
      "source": [
        "**Solution**"
      ]
    },
    {
      "cell_type": "code",
      "metadata": {
        "colab_type": "code",
        "id": "AKb-7oqrcfox",
        "colab": {}
      },
      "source": [
        "# Put the recommended solution here; if there is more than one \"good\" solution\n",
        "# that you think students should know put those solutions in subsequent code\n",
        "# boxes with \"# Solution\" in the first line."
      ],
      "execution_count": 0,
      "outputs": []
    },
    {
      "cell_type": "markdown",
      "metadata": {
        "colab_type": "text",
        "id": "5EndkJMJVKjw"
      },
      "source": [
        "**Validation**"
      ]
    },
    {
      "cell_type": "code",
      "metadata": {
        "colab_type": "code",
        "id": "SgzIrUK1dFdQ",
        "colab": {}
      },
      "source": [
        "# If the solution can be auto-graded, perform the autograding here."
      ],
      "execution_count": 0,
      "outputs": []
    }
  ]
}