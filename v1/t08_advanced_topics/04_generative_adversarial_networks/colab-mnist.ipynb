{
  "nbformat": 4,
  "nbformat_minor": 0,
  "metadata": {
    "colab": {
      "name": "Generative Adversarial Networks",
      "version": "0.3.2",
      "provenance": [],
      "private_outputs": true,
      "collapsed_sections": [
        "wyFCddyhxlME",
        "0wfqCicXyUfN"
      ],
      "toc_visible": true
    },
    "kernelspec": {
      "name": "python3",
      "display_name": "Python 3"
    },
    "accelerator": "GPU"
  },
  "cells": [
    {
      "cell_type": "markdown",
      "metadata": {
        "id": "wyFCddyhxlME",
        "colab_type": "text"
      },
      "source": [
        "#### Copyright 2019 Google LLC."
      ]
    },
    {
      "cell_type": "code",
      "metadata": {
        "id": "a6j8j0OsxmGF",
        "colab_type": "code",
        "colab": {}
      },
      "source": [
        "# Licensed under the Apache License, Version 2.0 (the \"License\");\n",
        "# you may not use this file except in compliance with the License.\n",
        "# You may obtain a copy of the License at\n",
        "#\n",
        "# https://www.apache.org/licenses/LICENSE-2.0\n",
        "#\n",
        "# Unless required by applicable law or agreed to in writing, software\n",
        "# distributed under the License is distributed on an \"AS IS\" BASIS,\n",
        "# WITHOUT WARRANTIES OR CONDITIONS OF ANY KIND, either express or implied.\n",
        "# See the License for the specific language governing permissions and\n",
        "# limitations under the License."
      ],
      "execution_count": 0,
      "outputs": []
    },
    {
      "cell_type": "markdown",
      "metadata": {
        "id": "rVDvD01q97eX",
        "colab_type": "text"
      },
      "source": [
        "# Generative Adversarial Networks"
      ]
    },
    {
      "cell_type": "markdown",
      "metadata": {
        "id": "VWK0Lnfw-W6V",
        "colab_type": "text"
      },
      "source": [
        "This colab is a highly modified version of [this blog post](https://medium.com/datadriveninvestor/generative-adversarial-network-gan-using-keras-ce1c05cfdfd3)., by Renu Khandelwal. For a beautiful illustration of how GANs work, see also this [interactive demonstration](https://poloclub.github.io/ganlab/)."
      ]
    },
    {
      "cell_type": "markdown",
      "metadata": {
        "id": "jg480PPnxvjK",
        "colab_type": "text"
      },
      "source": [
        "## Overview"
      ]
    },
    {
      "cell_type": "markdown",
      "metadata": {
        "id": "cdoZITY1xwi2",
        "colab_type": "text"
      },
      "source": [
        "### Learning Objectives\n",
        "\n",
        "* Create a Generative Adversarial Network"
      ]
    },
    {
      "cell_type": "markdown",
      "metadata": {
        "id": "YtV8CL3Uxz1P",
        "colab_type": "text"
      },
      "source": [
        "### Prerequisites\n",
        "\n",
        "* Embeddings\n",
        "* Recurrent Neural Networks"
      ]
    },
    {
      "cell_type": "markdown",
      "metadata": {
        "id": "9uzuEF9Xx5Y4",
        "colab_type": "text"
      },
      "source": [
        "### Estimated Duration\n",
        "\n",
        "60 minutes"
      ]
    },
    {
      "cell_type": "markdown",
      "metadata": {
        "id": "Z8IDWNL9x7PC",
        "colab_type": "text"
      },
      "source": [
        "### Grading Criteria\n",
        "\n",
        "Each exercise is worth 3 points. The rubric for calculating those points is:\n",
        "\n",
        "| Points | Description |\n",
        "|--------|-------------|\n",
        "| 0      | No attempt at exercise |\n",
        "| 1      | Attempted exercise, but code does not run |\n",
        "| 2      | Attempted exercise, code runs, but produces incorrect answer |\n",
        "| 3      | Exercise completed successfully |\n",
        "\n",
        "There are 4 exercises in this Colab so there are 12 points available. The grading scale will be 6 points."
      ]
    },
    {
      "cell_type": "markdown",
      "metadata": {
        "id": "Kj4vaSFWyGeE",
        "colab_type": "text"
      },
      "source": [
        "## Understanding GANs"
      ]
    },
    {
      "cell_type": "markdown",
      "metadata": {
        "id": "O61Y1_19-BCx",
        "colab_type": "text"
      },
      "source": [
        "A Generative Adversarial Network (GAN) is an unsupervised deep learning algorithm where a \"Generator\" Network is pitted against an adversarial network, called the \"Discriminator.\"\"\n",
        "\n",
        "The role of the Generator is to create new objects similar to those in a set of training data. For this colab the training data will come from the MNIST images of handwritten numerals. Our Generator that we create will produce images similar to those. \n",
        "\n",
        "The role of the Discriminator is to distinguish between images that are not in our training set (including random noise), and those that are. \n",
        "\n",
        "The strategy of a GAN is to put these together, and alternately train them. We ask the Generator to produce an image, and train the Discriminator to recognize that this is artificially constructed (i.e. it did not come from the training set). We then ask the Generator to refine its output so that the Discriminator is fooled. Then we go back to training the Discriminator, and repeat.\n",
        "\n",
        "**Before starting this Colab, enable the GPU runtime.**\n",
        "\n",
        "We begin by importing all required libraries.\n"
      ]
    },
    {
      "cell_type": "code",
      "metadata": {
        "id": "qa-gkFbu9zeP",
        "colab_type": "code",
        "colab": {}
      },
      "source": [
        "import numpy as np\n",
        "import pandas as pd\n",
        "import matplotlib.pyplot as plt\n",
        "%matplotlib inline\n",
        "import keras\n",
        "from keras.layers import Dense, Dropout, Input\n",
        "from keras.models import Model,Sequential\n",
        "from keras.datasets import mnist\n",
        "from tqdm import tqdm\n",
        "from keras.optimizers import adam"
      ],
      "execution_count": 0,
      "outputs": []
    },
    {
      "cell_type": "markdown",
      "metadata": {
        "id": "HMGEsm__-bU4",
        "colab_type": "text"
      },
      "source": [
        "We now loading the data from the MNIST dataset. "
      ]
    },
    {
      "cell_type": "code",
      "metadata": {
        "id": "o8DpRNaP-Tyo",
        "colab_type": "code",
        "colab": {}
      },
      "source": [
        "(x_train, y_train), (x_test, y_test) = mnist.load_data()\n",
        "x_train = (x_train.astype(np.float32) - 127.5)/127.5\n",
        "\n",
        "# convert shape of x_train from (60000, 28, 28) to (60000, 784) \n",
        "# 784 columns per row\n",
        "X_train = x_train.reshape(60000, 784)\n",
        "\n",
        "X_train.shape"
      ],
      "execution_count": 0,
      "outputs": []
    },
    {
      "cell_type": "markdown",
      "metadata": {
        "id": "gI1PfKaw-uaC",
        "colab_type": "text"
      },
      "source": [
        "We create Generator as a sequence of dense layers."
      ]
    },
    {
      "cell_type": "code",
      "metadata": {
        "id": "qFE0HhKc-0-N",
        "colab_type": "code",
        "colab": {}
      },
      "source": [
        "generator=Sequential([\n",
        "    Dense(units=256,input_dim=100,activation='relu'),\n",
        "    Dense(units=512, activation='relu'),\n",
        "    Dense(units=1024, activation='relu'),\n",
        "    Dense(units=784, activation='tanh'),\n",
        "])\n",
        "\n",
        "generator.summary()\n",
        "    \n",
        "generator.compile(loss='binary_crossentropy', optimizer=adam(lr=0.0002, beta_1=0.5))\n"
      ],
      "execution_count": 0,
      "outputs": []
    },
    {
      "cell_type": "markdown",
      "metadata": {
        "id": "VQy-ep8c-saD",
        "colab_type": "text"
      },
      "source": [
        "The Discriminator is also a sequence of dense layers. The input will have shape (784,) (originally coming from a 28x28 image), and the output will be a number between 0 and 1, representing the confidence of the Discriminator that its input is \"genuine\" (i.e. from the training set)."
      ]
    },
    {
      "cell_type": "code",
      "metadata": {
        "id": "AetR9CLL-8Ec",
        "colab_type": "code",
        "colab": {}
      },
      "source": [
        "##model building\n",
        "discriminator = Sequential([\n",
        "    Dense(1024, activation='relu',input_dim=784),\n",
        "    Dropout(0.3),\n",
        "    Dense(512, activation='relu'),\n",
        "    Dropout(0.3),\n",
        "    Dense(256, activation='relu'),\n",
        "    Dropout(0.2),\n",
        "    Dense(1, activation='sigmoid')\n",
        "])\n",
        "\n",
        "\n",
        "discriminator.compile(loss='binary_crossentropy', optimizer=adam(lr=0.0002, beta_1=0.5))\n",
        "\n",
        "discriminator.summary()"
      ],
      "execution_count": 0,
      "outputs": []
    },
    {
      "cell_type": "markdown",
      "metadata": {
        "id": "yuuktv6N-_-Q",
        "colab_type": "text"
      },
      "source": [
        "We now create the GAN where we combine the Generator and Discriminator. When we train the Generator we will freeze the Discriminator.\n",
        "\n",
        "We will input the noised image of shape 100 units to the Generator. The output generated from the Generator will be fed to the Discriminator."
      ]
    },
    {
      "cell_type": "code",
      "metadata": {
        "id": "LpOM3JXh_HYs",
        "colab_type": "code",
        "colab": {}
      },
      "source": [
        "#When we train the GAN that we are about to create, we will freeze the parameters of the Discriminator. \n",
        "#It is not necessary to do this now, but it will help us determine how many parameters there are at training time.\n",
        "discriminator.trainable=False \n",
        "\n",
        "gan_input = Input(shape=(100,))\n",
        "x = generator(gan_input)\n",
        "gan_output= discriminator(x)\n",
        "gan= Model(inputs=gan_input, outputs=gan_output)\n",
        "\n",
        "gan.summary()\n",
        "\n",
        "gan.compile(loss='binary_crossentropy', optimizer='adam')"
      ],
      "execution_count": 0,
      "outputs": []
    },
    {
      "cell_type": "markdown",
      "metadata": {
        "id": "LYLSjKIP_Efe",
        "colab_type": "text"
      },
      "source": [
        "Before we start training the model, we will write a function plot_generated_images to plot the generated images. This way we can see how the images are generated. We save the generated images to file that we can view later"
      ]
    },
    {
      "cell_type": "code",
      "metadata": {
        "id": "PmRmsvFZ_LVM",
        "colab_type": "code",
        "colab": {}
      },
      "source": [
        "def plot_generated_images(epoch, generator, examples=100, dim=(10,10), figsize=(10,10)):\n",
        "    noise= np.random.normal(loc=0, scale=1, size=[examples, 100])\n",
        "    generated_images = generator.predict(noise)\n",
        "    generated_images = generated_images.reshape(100,28,28)\n",
        "    plt.figure(figsize=figsize)\n",
        "    for i in range(generated_images.shape[0]):\n",
        "        plt.subplot(dim[0], dim[1], i+1)\n",
        "        plt.imshow(generated_images[i], cmap='gray', interpolation='nearest')\n",
        "        plt.axis('off')\n",
        "    plt.tight_layout()\n",
        "    plt.savefig('gan_generated_image %d.png' %epoch)"
      ],
      "execution_count": 0,
      "outputs": []
    },
    {
      "cell_type": "markdown",
      "metadata": {
        "id": "NsZz5CIV_UDB",
        "colab_type": "text"
      },
      "source": [
        "We finally start to train GAN. "
      ]
    },
    {
      "cell_type": "code",
      "metadata": {
        "id": "mR6D3ult_hfU",
        "colab_type": "code",
        "colab": {}
      },
      "source": [
        "epochs=200\n",
        "batch_size=128\n",
        "        \n",
        "for e in range(1,epochs+1 ):\n",
        "  print(\"Epoch %d\" %e)\n",
        "  for _ in tqdm(range(100)): #tqdm just displays a progress bar \n",
        "\n",
        "    #generate  random noise as an input  to  initialize the  generator\n",
        "    noise= np.random.normal(0,1, [batch_size, 100])\n",
        "\n",
        "    # Generate fake MNIST images from noised input\n",
        "    generated_images = generator.predict(noise)\n",
        "\n",
        "    # Get a random set of  real images\n",
        "    image_batch =X_train[np.random.randint(low=0,high=X_train.shape[0],size=batch_size)]\n",
        "\n",
        "    #Construct different batches of  real and fake data \n",
        "    X= np.concatenate([image_batch, generated_images])\n",
        "\n",
        "    # Labels for generated and real data\n",
        "    y_dis=np.zeros(2*batch_size)\n",
        "    y_dis[:batch_size]=0.9\n",
        "\n",
        "    #Pre train discriminator on  fake and real data  before starting the gan. \n",
        "    discriminator.trainable=True\n",
        "    discriminator.train_on_batch(X, y_dis)\n",
        "\n",
        "    #Tricking the noised input of the Generator as real data\n",
        "    y_gen = np.ones(batch_size)\n",
        "\n",
        "    # During the training of gan, \n",
        "    # the weights of discriminator should be fixed. \n",
        "    #We can enforce that by setting the trainable flag\n",
        "    discriminator.trainable=False\n",
        "\n",
        "    #training  the GAN by alternating the training of the Discriminator \n",
        "    #and training the chained GAN model with Discriminator’s weights freezed.\n",
        "    gan.train_on_batch(noise, y_gen)\n",
        "\n",
        "  if e == 1 or e % 20 == 0:\n",
        "           \n",
        "    plot_generated_images(e, generator)\n",
        "\n"
      ],
      "execution_count": 0,
      "outputs": []
    },
    {
      "cell_type": "markdown",
      "metadata": {
        "id": "BmIh9_mDEY-v",
        "colab_type": "text"
      },
      "source": [
        "As an illustration of the power of our generator, we will choose two random inputs and produce a sequence of characters that interpolate between them."
      ]
    },
    {
      "cell_type": "code",
      "metadata": {
        "id": "12gbEWhK4usP",
        "colab_type": "code",
        "colab": {}
      },
      "source": [
        "noise= np.random.normal(loc=0, scale=1, size=[2,100])\n",
        "\n",
        "noise_interp=np.zeros((60,100))\n",
        "for i in range(60):\n",
        "  t=i/59\n",
        "  noise_interp[i]=t*noise[0]+(1-t)*noise[1]\n",
        "  \n",
        "images = generator.predict(noise_interp)\n",
        "images = images.reshape(60,28,28)\n",
        "  "
      ],
      "execution_count": 0,
      "outputs": []
    },
    {
      "cell_type": "code",
      "metadata": {
        "id": "a_Skq2awRbQx",
        "colab_type": "code",
        "colab": {}
      },
      "source": [
        "plt.imshow(images[0],cmap='gray')"
      ],
      "execution_count": 0,
      "outputs": []
    },
    {
      "cell_type": "code",
      "metadata": {
        "id": "nyX-OefVS_3L",
        "colab_type": "code",
        "colab": {}
      },
      "source": [
        "plt.imshow(images[59],cmap='gray')"
      ],
      "execution_count": 0,
      "outputs": []
    },
    {
      "cell_type": "code",
      "metadata": {
        "id": "53uZ9mvk6EKB",
        "colab_type": "code",
        "colab": {}
      },
      "source": [
        "dim=(10,6)\n",
        "plt.figure(figsize=(10,10))\n",
        "for i in range(60):\n",
        "  plt.subplot(dim[0], dim[1], i+1)\n",
        "  plt.imshow(images[i], cmap='gray')\n",
        "  plt.axis('off')\n"
      ],
      "execution_count": 0,
      "outputs": []
    },
    {
      "cell_type": "markdown",
      "metadata": {
        "id": "OTK5KnmhEo1j",
        "colab_type": "text"
      },
      "source": [
        "# Exercises"
      ]
    },
    {
      "cell_type": "markdown",
      "metadata": {
        "id": "ChnntXy4Erpm",
        "colab_type": "text"
      },
      "source": [
        "## Exercise 1"
      ]
    },
    {
      "cell_type": "markdown",
      "metadata": {
        "id": "ChnntUy4Erpm",
        "colab_type": "text"
      },
      "source": [
        "Import the Sign Language MNIST dataset from Kaggle, and train the above GAN on it. When it is done, use OpenCV to output the frames of the final image interpolation to a video file."
      ]
    },
    {
      "cell_type": "markdown",
      "metadata": {
        "id": "7hoF_cdVyTa-",
        "colab_type": "text"
      },
      "source": [
        "### Student Solution"
      ]
    },
    {
      "cell_type": "code",
      "metadata": {
        "id": "n59dDbCKLtAD",
        "colab_type": "code",
        "colab": {}
      },
      "source": [
        "## Your code here."
      ],
      "execution_count": 0,
      "outputs": []
    },
    {
      "cell_type": "markdown",
      "metadata": {
        "id": "0wfqCicXyUfN",
        "colab_type": "text"
      },
      "source": [
        "### Answer Key"
      ]
    },
    {
      "cell_type": "markdown",
      "metadata": {
        "id": "D7gQBcdkyXGX",
        "colab_type": "text"
      },
      "source": [
        "**Solution**"
      ]
    },
    {
      "cell_type": "code",
      "metadata": {
        "id": "wLtnbdaTyZps",
        "colab_type": "code",
        "colab": {}
      },
      "source": [
        "# TODO(joshmcadams)"
      ],
      "execution_count": 0,
      "outputs": []
    },
    {
      "cell_type": "markdown",
      "metadata": {
        "id": "RE-C-EDLybNJ",
        "colab_type": "text"
      },
      "source": [
        "**Validation**"
      ]
    },
    {
      "cell_type": "code",
      "metadata": {
        "id": "SBczDZ0fycxY",
        "colab_type": "code",
        "colab": {}
      },
      "source": [
        "# TODO(joshmcadams)"
      ],
      "execution_count": 0,
      "outputs": []
    }
  ]
}