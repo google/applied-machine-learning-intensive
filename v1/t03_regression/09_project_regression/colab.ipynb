{
 "cells": [
  {
   "cell_type": "markdown",
   "metadata": {
    "colab_type": "text",
    "id": "copyright"
   },
   "source": [
    "#### Copyright 2019 Google LLC."
   ]
  },
  {
   "cell_type": "code",
   "execution_count": 0,
   "metadata": {
    "colab": {},
    "colab_type": "code",
    "id": "cSdG7cSNFro-"
   },
   "outputs": [],
   "source": [
    "# Licensed under the Apache License, Version 2.0 (the \"License\");\n",
    "# you may not use this file except in compliance with the License.\n",
    "# You may obtain a copy of the License at\n",
    "#\n",
    "# https://www.apache.org/licenses/LICENSE-2.0\n",
    "#\n",
    "# Unless required by applicable law or agreed to in writing, software\n",
    "# distributed under the License is distributed on an \"AS IS\" BASIS,\n",
    "# WITHOUT WARRANTIES OR CONDITIONS OF ANY KIND, either express or implied.\n",
    "# See the License for the specific language governing permissions and\n",
    "# limitations under the License."
   ]
  },
  {
   "cell_type": "markdown",
   "metadata": {
    "colab_type": "text",
    "id": "_FdRu8E0F6EJ"
   },
   "source": [
    "# Regression Project"
   ]
  },
  {
   "cell_type": "markdown",
   "metadata": {
    "colab_type": "text",
    "id": "Mm5d3zEpKE00"
   },
   "source": [
    "In this project you will be divided into small groups (two or three people). You will be pointed to a dataset and asked to create a model to solve a problem. Over the course of the day, your team will explore the data and train the best model you can for solving the problem. At the end of the day, your team will give a short presentation about your solution."
   ]
  },
  {
   "cell_type": "markdown",
   "metadata": {
    "colab_type": "text",
    "id": "2iIQ-XduKJZz"
   },
   "source": [
    "## Overview"
   ]
  },
  {
   "cell_type": "markdown",
   "metadata": {
    "colab_type": "text",
    "id": "B-TOrwufKQhD"
   },
   "source": [
    "### Learning Objectives\n",
    "\n",
    "* Apply scikit-learn or TensorFlow to a dataset to create a regression model.\n",
    "* Preprocess data for feeding into a model.\n",
    "* Use a hand-built model to make predictions.\n",
    "* Measure the quality of predictions from your model."
   ]
  },
  {
   "cell_type": "markdown",
   "metadata": {
    "colab_type": "text",
    "id": "6LqnO7DiKmwi"
   },
   "source": [
    "### Prerequisites\n",
    "\n",
    "* Introduction to Colab\n",
    "* Intermediate Python\n",
    "* Intermediate Pandas\n",
    "* Visualizations\n",
    "* Regression\n",
    "* Regression with scikit-learn\n",
    "* Regression with TensorFlow"
   ]
  },
  {
   "cell_type": "markdown",
   "metadata": {
    "colab_type": "text",
    "id": "3qhlIRMGLDea"
   },
   "source": [
    "### Estimated Duration\n",
    "\n",
    "330 minutes (285 minutes working time, 45 minutes for presentations)"
   ]
  },
  {
   "cell_type": "markdown",
   "metadata": {
    "colab_type": "text",
    "id": "Nb9YD_6cWefp"
   },
   "source": [
    "### Deliverables\n",
    "\n",
    "1. A copy of this Colab notebook containing your code and responses to the ethical considerations below.\n",
    "1. A group presentation. After everyone is done, we will ask each group to stand in front of the class and give a brief presentation about what they have done in this lab. The presentation can be a code walkthrough, a group discussion, a slide show, or any other means that conveys what you did over the course of the day and what you learned. If you do create any artifacts for your presentation, please share them in the class folder."
   ]
  },
  {
   "cell_type": "markdown",
   "metadata": {
    "colab_type": "text",
    "id": "dZj2NF0gLGjp"
   },
   "source": [
    "### Grading Criteria\n",
    "\n",
    "This project is graded in separate sections that each contribute a percentage of the total score:\n",
    "\n",
    "1. Building and Using a Model (80%)\n",
    "1. Ethical Implications (10%)\n",
    "1. Project Presentation (10%)\n",
    "\n",
    "#### Building and Using a Model\n",
    "\n",
    "There are 6 demonstrations of competency listed in the problem statement below. Each competency is graded on a 3 point scale for a total of 18 available points. The following rubric will be used:\n",
    "\n",
    "| Points | Description |\n",
    "|--------|-------------|\n",
    "| 0      | No attempt at the competency |\n",
    "| 1      | Attempted competency, but in an incorrect manner |\n",
    "| 2      | Attempted competency correctly, but sub-optimally |\n",
    "| 3      | Successful demonstration of competency |\n",
    "\n",
    "The demonstrations of competency show that the team knows how to use the tools of a data scientist, but they are not a good judge of \"thinking like a data scientist\". 3 additional points will be graded on the teams demonstration of skillful application of data science concepts and graded on the following rubric:\n",
    "\n",
    "| Points | Description |\n",
    "|--------|-------------|\n",
    "| 0      | No attempt at exercise |\n",
    "| 1      | Created a generic model with little insight |\n",
    "| 2      | Performed some basic data science processes and patterns |\n",
    "| 3      | Demonstrated mastery of data science and exploration concepts learned so far |\n",
    "\n",
    "#### Ethical Implications\n",
    "\n",
    "There are six questions in the **Ethical Implications** section. Each question is worth 2 points. The rubric for calculating those points is:\n",
    "\n",
    "| Points | Description |\n",
    "|--------|-------------|\n",
    "| 0      | No attempt at question or answer was off-topic or didn't make sense |\n",
    "| 1      | Question was answered, but answer missed important considerations  |\n",
    "| 2      | Answer adequately considered ethical implications |\n",
    "\n",
    "#### Project Presentation\n",
    "\n",
    "The project presentation will be graded on participation. All members of a team should actively participate."
   ]
  },
  {
   "cell_type": "markdown",
   "metadata": {
    "colab_type": "text",
    "id": "JzEoFw-TPi7r"
   },
   "source": [
    "## Team\n",
    "\n",
    "Please enter your team members names in the placeholders in this text area:\n",
    "\n",
    "*   *Team Member Placeholder*\n",
    "*   *Team Member Placeholder*\n",
    "*   *Team Member Placeholder*\n",
    "\n"
   ]
  },
  {
   "cell_type": "markdown",
   "metadata": {
    "colab_type": "text",
    "id": "NkF2j1JBJaM2"
   },
   "source": [
    "# Exercises"
   ]
  },
  {
   "cell_type": "markdown",
   "metadata": {
    "colab_type": "text",
    "id": "kGWV97GDJfiD"
   },
   "source": [
    "## Exercise 1: Coding"
   ]
  },
  {
   "cell_type": "markdown",
   "metadata": {
    "colab_type": "text",
    "id": "cr12EFb2WQym"
   },
   "source": [
    "[Kaggle](http://www.kaggle.com) hosts a [dataset containing intake and outcome data](https://www.kaggle.com/aaronschlegel/austin-animal-center-shelter-intakes-and-outcomes) for the [Austin Animal Care Shelter](http://www.austintexas.gov/department/aac). In this project we will **use intake data to predict the number of days that an animal is likely to stay in the shelter before being adopted**.\n",
    "\n",
    "You are free to use any toolkit that we have covered in this class to solve the problem. That should be at least scikit-learn and TensorFlow.\n",
    "\n",
    "Important details:\n",
    "\n",
    "* The [dataset](https://www.kaggle.com/aaronschlegel/austin-animal-center-shelter-intakes-and-outcomes) offers three files, one for intakes, one for outcomes, and one that joins the two and adds some additional columns. Feel free to use any combination of the files.\n",
    "* The column we are trying to predict is 'time_in_shelter_days'.\n",
    "* Do not use any outcome data as features for training the model. We want to be able to predict the time in shelter for any given animal at intake.\n",
    "* Not all animals have outcomes. Not all outcomes are adoption.\n",
    "\n",
    "**Graded** demonstrations of competency:\n",
    "1. Get the data into a Python object.\n",
    "1. The ability to examine the data programmatically and visually.\n",
    "1. Perform at least one preprocessing transformation on the data.\n",
    "1. Creation and training of a regression model.\n",
    "1. Testing and/or scoring of a model.\n",
    "1. Model experimentation and tuning: record parameters and objects used along with resulting scores."
   ]
  },
  {
   "cell_type": "markdown",
   "metadata": {
    "colab_type": "text",
    "id": "WgFU38b7rfbv"
   },
   "source": [
    "### Student Solution"
   ]
  },
  {
   "cell_type": "code",
   "execution_count": 0,
   "metadata": {
    "colab": {},
    "colab_type": "code",
    "id": "wOdOl0qqPyL-"
   },
   "outputs": [],
   "source": [
    "# Use as many text and code blocks as you need to create your solution and take notes.\n",
    "\n",
    "print(\"Good luck!\")"
   ]
  },
  {
   "cell_type": "markdown",
   "metadata": {
    "colab_type": "text",
    "id": "B2OkbjaHmicA"
   },
   "source": [
    "**Iterations**\n",
    "\n",
    "Record different attempts at model configurations here:\n",
    "\n",
    "| Model                        | Parameters                | Score         |\n",
    "|------------------------------|---------------------------|---------------|\n",
    "| sklearn LinearRegressor      | none                      | R^2 = 0.00123 |\n",
    "| sklearn SGDRegressor         | batch_size=50, epochs=100 | R^2 = 0.00011 |"
   ]
  },
  {
   "cell_type": "markdown",
   "metadata": {
    "colab_type": "text",
    "id": "exercise-1-key-1"
   },
   "source": [
    "### Answer Key"
   ]
  },
  {
   "cell_type": "markdown",
   "metadata": {
    "colab_type": "text",
    "id": "OVuvxZChi6JE"
   },
   "source": [
    "**Solution**"
   ]
  },
  {
   "cell_type": "markdown",
   "metadata": {
    "colab_type": "text",
    "id": "r3xo3ZhwdirB"
   },
   "source": [
    "**Unzip the file**\n",
    "\n",
    "Students might not have this step codified if they unzipped the file on another machine and uploaded the uncompressed file."
   ]
  },
  {
   "cell_type": "code",
   "execution_count": 0,
   "metadata": {
    "colab": {},
    "colab_type": "code",
    "id": "tgZ2C3GIcbyt"
   },
   "outputs": [],
   "source": [
    "import zipfile\n",
    "\n",
    "filename = \"aac_intakes_outcomes.csv.zip\"\n",
    "\n",
    "with zipfile.ZipFile(filename) as f:\n",
    "  f.extractall()\n",
    "\n",
    "filename = filename[0:-4]\n",
    "\n",
    "\n",
    "print(filename)"
   ]
  },
  {
   "cell_type": "markdown",
   "metadata": {
    "colab_type": "text",
    "id": "FuehUF9_dmJh"
   },
   "source": [
    "**Load the file into a `DataFrame`**\n",
    "\n",
    "This isn't strictly required, but so far in the class we have been loading the data into `DataFrame`s so expect that the students will continue with this pattern."
   ]
  },
  {
   "cell_type": "code",
   "execution_count": 0,
   "metadata": {
    "colab": {},
    "colab_type": "code",
    "id": "VUNozGUSdSj7"
   },
   "outputs": [],
   "source": [
    "import pandas as pd\n",
    "\n",
    "dataframe = pd.read_csv(filename)\n",
    "dataframe"
   ]
  },
  {
   "cell_type": "markdown",
   "metadata": {
    "colab_type": "text",
    "id": "GV_RmOUPdxqj"
   },
   "source": [
    "**Explore the data**\n",
    "\n",
    "Every project will likely be different, but look for evidence that the students looked at the data. There should be at least one visualization."
   ]
  },
  {
   "cell_type": "code",
   "execution_count": 0,
   "metadata": {
    "colab": {},
    "colab_type": "code",
    "id": "RgDp1BhRdlgB"
   },
   "outputs": [],
   "source": [
    "dataframe.describe()"
   ]
  },
  {
   "cell_type": "code",
   "execution_count": 0,
   "metadata": {
    "colab": {},
    "colab_type": "code",
    "id": "xDbMKiYldVV7"
   },
   "outputs": [],
   "source": [
    "dataframe.columns"
   ]
  },
  {
   "cell_type": "code",
   "execution_count": 0,
   "metadata": {
    "colab": {},
    "colab_type": "code",
    "id": "XWKUD4creIao"
   },
   "outputs": [],
   "source": [
    "dataframe.dtypes"
   ]
  },
  {
   "cell_type": "code",
   "execution_count": 0,
   "metadata": {
    "colab": {},
    "colab_type": "code",
    "id": "dD-XH-cDhQsz"
   },
   "outputs": [],
   "source": [
    "dataframe['time_in_shelter_days'].describe()"
   ]
  },
  {
   "cell_type": "code",
   "execution_count": 0,
   "metadata": {
    "colab": {},
    "colab_type": "code",
    "id": "4UeQMJu2hIus"
   },
   "outputs": [],
   "source": [
    "dataframe['age_upon_intake_(days)'].describe()"
   ]
  },
  {
   "cell_type": "code",
   "execution_count": 0,
   "metadata": {
    "colab": {},
    "colab_type": "code",
    "id": "XEFTzmUWgoU3"
   },
   "outputs": [],
   "source": [
    "import matplotlib.pyplot as plt\n",
    "\n",
    "plt.plot(dataframe['age_upon_intake_(days)'], dataframe['time_in_shelter_days'], 'b.')\n",
    "plt.show()"
   ]
  },
  {
   "cell_type": "markdown",
   "metadata": {
    "colab_type": "text",
    "id": "0v6dDBe1gQi3"
   },
   "source": [
    "**Preprocess data**\n",
    "\n",
    "Student solutions will vary, but there should be some data pre-processing. Many of the columns are strings that could be converted to numeric columns.\n",
    "\n",
    "At the very least the students should recognize the there are multiple outcome types and that we are only interested in predicting adoption."
   ]
  },
  {
   "cell_type": "code",
   "execution_count": 0,
   "metadata": {
    "colab": {},
    "colab_type": "code",
    "id": "wns1JdnVhxfN"
   },
   "outputs": [],
   "source": [
    "dataframe = dataframe[dataframe['outcome_type'] == 'Adoption']"
   ]
  },
  {
   "cell_type": "markdown",
   "metadata": {
    "colab_type": "text",
    "id": "hKMtVQlSh4-b"
   },
   "source": [
    "**Build and train the model**\n",
    "\n",
    "The students are welcome to use scikit-learn and/or TensorFlow. They need to create a regression model, but aren't limited to linear regression. Expect a wide variety of choices at this point.\n",
    "\n",
    "In the example below the full dataset and did a closed-form solution. Students might use other models that use test/train splits."
   ]
  },
  {
   "cell_type": "code",
   "execution_count": 0,
   "metadata": {
    "colab": {},
    "colab_type": "code",
    "id": "sPCC7QEqfCNg"
   },
   "outputs": [],
   "source": [
    "from sklearn.linear_model import LinearRegression\n",
    "\n",
    "features = ['age_upon_intake_(days)', 'intake_month', 'intake_year']\n",
    "target = 'time_in_shelter_days'\n",
    "\n",
    "lin_reg = LinearRegression()\n",
    "lin_reg.fit(dataframe[features], dataframe[target])"
   ]
  },
  {
   "cell_type": "markdown",
   "metadata": {
    "colab_type": "text",
    "id": "bLYZe9tKiuPE"
   },
   "source": [
    "**Validate**\n",
    "\n",
    "Do a testing, validation, or scoring check of the model."
   ]
  },
  {
   "cell_type": "code",
   "execution_count": 0,
   "metadata": {
    "colab": {},
    "colab_type": "code",
    "id": "Vu0Qgi6HfRMm"
   },
   "outputs": [],
   "source": [
    "lin_reg.score(dataframe[features], dataframe[target])"
   ]
  },
  {
   "cell_type": "markdown",
   "metadata": {
    "colab_type": "text",
    "id": "h8vBhrAhJ734"
   },
   "source": [
    "**Validation**"
   ]
  },
  {
   "cell_type": "code",
   "execution_count": 0,
   "metadata": {
    "colab": {},
    "colab_type": "code",
    "id": "EXf4_dVxJ9kG"
   },
   "outputs": [],
   "source": [
    "# TODO"
   ]
  },
  {
   "cell_type": "markdown",
   "metadata": {
    "colab_type": "text",
    "id": "oxXecyKaKI4z"
   },
   "source": [
    "## Exercise 2: Ethical Implications"
   ]
  },
  {
   "cell_type": "markdown",
   "metadata": {
    "colab_type": "text",
    "id": "uK8XzfVHLi1K"
   },
   "source": [
    "Even the most basic of models have the potential to affect segments of the population in different ways. It is important to consider how your model might positively and negative effect different types of users.\n",
    "\n",
    "In this section of the project you will reflect on the positive and negative implications of your model."
   ]
  },
  {
   "cell_type": "markdown",
   "metadata": {
    "colab_type": "text",
    "id": "ezdLjd0BKeDF"
   },
   "source": [
    "### Student Solution"
   ]
  },
  {
   "cell_type": "markdown",
   "metadata": {
    "colab_type": "text",
    "id": "_U3L0F9FLmwa"
   },
   "source": [
    "**Positive Impact**\n",
    "\n",
    "Your model is trying to solve a problem. Think about who will benefit from that problem being solved and write a brief narrative about how the model will help.\n",
    "\n",
    "---"
   ]
  },
  {
   "cell_type": "markdown",
   "metadata": {
    "colab_type": "text",
    "id": "g582VerYL0so"
   },
   "source": [
    "*Hypothetical entities will benefit because...*"
   ]
  },
  {
   "cell_type": "markdown",
   "metadata": {
    "colab_type": "text",
    "id": "ALr018eQMuUw"
   },
   "source": [
    "**Negative Impact**\n",
    "\n",
    "Models don't often have universal benefit. Think about who might be negatively impacted by the predictions your model is making. This person or persons might not be directly using the model, but instead might be impacted indirectly.\n",
    "\n",
    "---"
   ]
  },
  {
   "cell_type": "markdown",
   "metadata": {
    "colab_type": "text",
    "id": "We8_W4WtNDLw"
   },
   "source": [
    "*Hypothetical entity will be negatively impacted because...*"
   ]
  },
  {
   "cell_type": "markdown",
   "metadata": {
    "colab_type": "text",
    "id": "07J-8ljpL85I"
   },
   "source": [
    "**Bias**\n",
    "\n",
    "Models can be bias for many reasons. The bias can come from the data used to build the model (eg. sampling, data collection methods, available sources) and from the interpretation of the predictions generated by the model.\n",
    "\n",
    "Think of at least two ways that bias might have been introduced to your model and explain both below.\n",
    "\n",
    "---"
   ]
  },
  {
   "cell_type": "markdown",
   "metadata": {
    "colab_type": "text",
    "id": "Jg_PSw3NMyFX"
   },
   "source": [
    "*One source of bias in the model could be...*\n",
    "\n",
    "*Another source of bias in the model could be...*"
   ]
  },
  {
   "cell_type": "markdown",
   "metadata": {
    "colab_type": "text",
    "id": "7j9AWdJLMTJI"
   },
   "source": [
    "**Changing the Dataset to Mitigate Bias**\n",
    "\n",
    "Bias datasets are one of the primary ways in which bias is introduced to a machine learning model. Look back at the input data that you fed to your model. Think about how you might change something about the data to reduce bias in your model.\n",
    "\n",
    "What change or changes could you make to your dataset less bias? Consider the data that you have, how and where that data was collected, and what other sources of data might be used to reduce bias.\n",
    "\n",
    "Write a summary of change that could be made to your input data.\n",
    "\n",
    "---"
   ]
  },
  {
   "cell_type": "markdown",
   "metadata": {
    "colab_type": "text",
    "id": "yzzfrQ-xNZo5"
   },
   "source": [
    "*Since the data has potential bias A we can adjust...*"
   ]
  },
  {
   "cell_type": "markdown",
   "metadata": {
    "colab_type": "text",
    "id": "ePs6hpLiMNSx"
   },
   "source": [
    "**Changing the Model to Mitigate Bias**\n",
    "\n",
    "Is there any way to reduce bias by changing the model itself? This could include modifying algorithmic choices, tweaking hyperparameters, etc.\n",
    "\n",
    "Write a brief summary of changes that you could make to help reduce bias in your model.\n",
    "\n",
    "---"
   ]
  },
  {
   "cell_type": "markdown",
   "metadata": {
    "colab_type": "text",
    "id": "bZ3PS8bRNRCv"
   },
   "source": [
    "*Since the model has potential bias A we can adjust...*"
   ]
  },
  {
   "cell_type": "markdown",
   "metadata": {
    "colab_type": "text",
    "id": "YYY7lk55MgdX"
   },
   "source": [
    "**Mitigating Bias Downstream**\n",
    "\n",
    "Models make predictions. Downstream processes make decisions. What processes and/or rules should be in place for people and systems interpreting and acting on the results of your model to reduce the bias? Describe these below.\n",
    "\n",
    "---"
   ]
  },
  {
   "cell_type": "markdown",
   "metadata": {
    "colab_type": "text",
    "id": "Mp3TkmalNcR-"
   },
   "source": [
    "*Since the predictions have potential bias A we can adjust...*"
   ]
  },
  {
   "cell_type": "markdown",
   "metadata": {
    "colab_type": "text",
    "id": "exercise-2-key-1"
   },
   "source": [
    "### Answer Key"
   ]
  },
  {
   "cell_type": "markdown",
   "metadata": {
    "colab_type": "text",
    "id": "ZUTJ4sbCKi8E"
   },
   "source": [
    "**Solution**"
   ]
  },
  {
   "cell_type": "code",
   "execution_count": 0,
   "metadata": {
    "colab": {},
    "colab_type": "code",
    "id": "NiXw-ACkKlCT"
   },
   "outputs": [],
   "source": [
    "# TODO"
   ]
  },
  {
   "cell_type": "markdown",
   "metadata": {
    "colab_type": "text",
    "id": "xBvWylwgKmXB"
   },
   "source": [
    "**Validation**"
   ]
  },
  {
   "cell_type": "code",
   "execution_count": 0,
   "metadata": {
    "colab": {},
    "colab_type": "code",
    "id": "Xi_75MIoKpMS"
   },
   "outputs": [],
   "source": [
    "# N/A"
   ]
  }
 ],
 "metadata": {
  "colab": {
   "collapsed_sections": [
    "copyright",
    "exercise-1-key-1",
    "exercise-2-key-1"
   ],
   "name": "Regression Project",
   "private_outputs": true,
   "provenance": [],
   "toc_visible": true,
   "version": "0.3.2"
  },
  "kernelspec": {
   "display_name": "Python 3",
   "name": "python3"
  }
 },
 "nbformat": 4,
 "nbformat_minor": 0
}
