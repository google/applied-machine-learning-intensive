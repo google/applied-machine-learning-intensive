{
  "nbformat": 4,
  "nbformat_minor": 0,
  "metadata": {
    "colab": {
      "name": "Intermediate Python - Objects",
      "provenance": [],
      "private_outputs": true,
      "collapsed_sections": [
        "exercise-4-answer-keyP",
        "copyright",
        "exercise-1-key-1",
        "exercise-2-key-1",
        "exercise-3-key-1",
        "exercise-4-key-1"
      ],
      "toc_visible": true
    },
    "kernelspec": {
      "display_name": "Python 3",
      "name": "python3"
    }
  },
  "cells": [
    {
      "cell_type": "markdown",
      "metadata": {
        "colab_type": "text",
        "id": "copyright"
      },
      "source": [
        "#### Copyright 2019 Google LLC."
      ]
    },
    {
      "cell_type": "code",
      "metadata": {
        "colab_type": "code",
        "id": "h8rAl_sPizbx",
        "colab": {}
      },
      "source": [
        "# Licensed under the Apache License, Version 2.0 (the \"License\");\n",
        "# you may not use this file except in compliance with the License.\n",
        "# You may obtain a copy of the License at\n",
        "#\n",
        "# https://www.apache.org/licenses/LICENSE-2.0\n",
        "#\n",
        "# Unless required by applicable law or agreed to in writing, software\n",
        "# distributed under the License is distributed on an \"AS IS\" BASIS,\n",
        "# WITHOUT WARRANTIES OR CONDITIONS OF ANY KIND, either express or implied.\n",
        "# See the License for the specific language governing permissions and\n",
        "# limitations under the License."
      ],
      "execution_count": 0,
      "outputs": []
    },
    {
      "cell_type": "markdown",
      "metadata": {
        "colab_type": "text",
        "id": "zXUyqihI0cQ8"
      },
      "source": [
        "# Intermediate Python - Objects\n"
      ]
    },
    {
      "cell_type": "markdown",
      "metadata": {
        "colab_type": "text",
        "id": "u_ff6_8Yi6yV"
      },
      "source": [
        "At this point in your Python journey, you should be familiar with the following concepts and when to use them.\n",
        "\n",
        "- different data types\n",
        "  - string\n",
        "  - number\n",
        "  - list\n",
        "  - tuple\n",
        "  - dictionary\n",
        "- printing\n",
        "- `for` and `while` loops\n",
        "- `if`/`else` statements\n",
        "- functions\n",
        "- code commenting\n",
        "\n",
        "In this lab, we will move into the more advanced concept of objects. You may have heard of object-oriented programming, especially in other languages. If not, don't worry. This will be a gentle introduction that will give you the skills you need to know in order to build your own objects in Python."
      ]
    },
    {
      "cell_type": "markdown",
      "metadata": {
        "colab_type": "text",
        "id": "8ErYS1G0FN-c"
      },
      "source": [
        "## Overview"
      ]
    },
    {
      "cell_type": "markdown",
      "metadata": {
        "colab_type": "text",
        "id": "VmIC9K6fFZ6q"
      },
      "source": [
        "### Learning Objectives\n",
        "\n",
        "* Build a basic Python object\n",
        "* Build a hierarchy of objects\n",
        "* Distinguish procedural from object-oriented programming styles\n",
        "* Distinguish a class from an instance"
      ]
    },
    {
      "cell_type": "markdown",
      "metadata": {
        "colab_type": "text",
        "id": "gajiQsoOGn3J"
      },
      "source": [
        "### Prerequisites\n",
        "\n",
        "* Introduction to Python"
      ]
    },
    {
      "cell_type": "markdown",
      "metadata": {
        "colab_type": "text",
        "id": "cGBAhKcDGsa0"
      },
      "source": [
        "### Estimated Duration\n",
        "\n",
        "60 minutes"
      ]
    },
    {
      "cell_type": "markdown",
      "metadata": {
        "colab_type": "text",
        "id": "YH-KmSKlGxlA"
      },
      "source": [
        "### Grading Criteria\n",
        "\n",
        "Each exercise is worth 3 points. The rubric for calculating those points is:\n",
        "\n",
        "| Points | Description |\n",
        "|--------|-------------|\n",
        "| 0      | No attempt at exercise |\n",
        "| 1      | Attempted exercise, but code does not run |\n",
        "| 2      | Attempted exercise, code runs, but produces incorrect answer |\n",
        "| 3      | Exercise completed successfully |\n",
        "\n",
        "There are 4 exercises in this Colab so there are 12 points available. The grading scale will be 9 points."
      ]
    },
    {
      "cell_type": "markdown",
      "metadata": {
        "colab_type": "text",
        "id": "xxK3InH3Blo9"
      },
      "source": [
        "## Objects"
      ]
    },
    {
      "cell_type": "markdown",
      "metadata": {
        "colab_type": "text",
        "id": "RUGjLiQ-vErM"
      },
      "source": [
        "### Introduction"
      ]
    },
    {
      "cell_type": "markdown",
      "metadata": {
        "colab_type": "text",
        "id": "4TduRFoE6nCM"
      },
      "source": [
        "It is likely that you have seen programs written in a procedural programming style. These programs consist of procedures (also called functions andmethods) that operate on data passed to them.\n",
        "\n",
        "Imagine that you had a function `compute_paycheck` that computed the weekly paychek for a worker. If you wanted to compute the paycheck of a given employee in a procedural style, you would pass the necessary data to compute the pay to the `compute_paycheck` function.\n",
        "\n",
        "```\n",
        "employee_data = get_employee_data()\n",
        "pay = compute_paycheck(employee_data)\n",
        "```\n",
        "\n",
        "Though you *could* write something like this in Python, it isn't necessarily idiomatic to the language. What this means is that Python tends to work better and look better when you use **object-oriented programming**.\n",
        "\n",
        "Python is an object-oriented language. This means that your program can be modeled as logical objects with methods built in to the object to operate on data.\n",
        "\n",
        "In an object-oriented programming style, you could encode each employee as its own object, and write a method called `compute_paycheck` which returns the weekly paycheck for a given employee. In that case, computing an employee's paycheck would look more like the following.\n",
        "\n",
        "```\n",
        "employee_data = get_employee_data()\n",
        "pay = employee_data.compute_paycheck()\n",
        "```\n",
        "\n",
        "In this case, `compute_paycheck` is a method that is bound to the returned argument `employee_data`, and can be called directly on this type.\n",
        "\n",
        "A method is just a function that is tied to an object. However, the terms \"function\" and \"method\" are often used interchangeably. See [here](https://stackoverflow.com/questions/155609/whats-the-difference-between-a-method-and-a-function) for a more in-depth discussion.\n",
        "\n",
        "Using object-oriented programming does not mean that you can't pass data to functions/methods. Imagine that the employee data only contained information like hourly wage and tax holdouts. In this case, `compute_paycheck` would need to know the number of hours worked in order to calculate the employee's pay.\n",
        "\n",
        "```\n",
        "employee_data = get_employee_data()\n",
        "hours_worked = get_hours_worked()\n",
        "pay = employee_data.compute_paycheck(hours_worked)\n",
        "```\n",
        "\n",
        "In the example above, you can see the procedural and object-oriented styles mixed together in the same block. (The `hours_worked` variable is computed using the `get_hours_worked` function, and the `employee_data` variable is computed using the `get_employee_data` function.) However, even these variable could be computing in an object-oriented style. For example, `hours_worked` could come from an object representing the time clock, and `employee_data` could come from an object representing the HR system.\n",
        "\n",
        "```\n",
        "employee_data = hr.get_employee_data()\n",
        "hours_worked = timeclock.get_hours_worked()\n",
        "employee_data.compute_pay(hours_worked)\n",
        "```\n"
      ]
    },
    {
      "cell_type": "markdown",
      "metadata": {
        "colab_type": "text",
        "id": "gpNmfStYHDgQ"
      },
      "source": [
        "In Python, everything is an object. The code below uses the inbuilt `isinstance` function to check if each item is an instance of an `object`."
      ]
    },
    {
      "cell_type": "code",
      "metadata": {
        "colab_type": "code",
        "id": "3dZDMZsOICyZ",
        "colab": {}
      },
      "source": [
        "for data in (\n",
        "  1,                         # integer\n",
        "  3.5,                       # float\n",
        "  \"Hello Python\",            # string\n",
        "  (1, \"funny\", \"tuple\"),     # tuple\n",
        "  [\"a\", \"list\"],             # list\n",
        "  {\"and\": \"a\", \"dict\": 2}    # dictionary\n",
        "  ):\n",
        "  print(\"Is {} an object? {}\".format(type(data), isinstance(data, object)))"
      ],
      "execution_count": 0,
      "outputs": []
    },
    {
      "cell_type": "markdown",
      "metadata": {
        "colab_type": "text",
        "id": "K4jbzjqIp84A"
      },
      "source": [
        "You can create your own object using the `class` keyword."
      ]
    },
    {
      "cell_type": "code",
      "metadata": {
        "colab_type": "code",
        "id": "zeJVuLmdqGKm",
        "colab": {}
      },
      "source": [
        "class Cow:\n",
        "  pass"
      ],
      "execution_count": 0,
      "outputs": []
    },
    {
      "cell_type": "markdown",
      "metadata": {
        "colab_type": "text",
        "id": "TCCGHpJKqeMe"
      },
      "source": [
        "Why did we use the keyword `class` and not `object`? You can think of the class as a template for the object, and the object itself as an instance of the class. To create an object from a class, you use parentheses to instantiate the class."
      ]
    },
    {
      "cell_type": "code",
      "metadata": {
        "colab_type": "code",
        "id": "ZvjYC848qxm0",
        "colab": {}
      },
      "source": [
        "# Create an instance of Cow called elsie\n",
        "elsie = Cow()\n",
        "\n",
        "# Create an instance of Cow called annabelle\n",
        "annabelle = Cow()\n",
        "\n",
        "print(Cow)\n",
        "print(elsie)\n",
        "print(annabelle)"
      ],
      "execution_count": 0,
      "outputs": []
    },
    {
      "cell_type": "markdown",
      "metadata": {
        "colab_type": "text",
        "id": "a4irk5uyrihI"
      },
      "source": [
        "Notice that `Cow` is a `class` and that `elsie` and `annabelle` are Cow objects. The text following `at` indicates where in memory these objects are stored. You might have to look close, but `elsie` and `annabelle` are located at different locations in memory."
      ]
    },
    {
      "cell_type": "markdown",
      "metadata": {
        "colab_type": "text",
        "id": "_tGJ-8foqKUj"
      },
      "source": [
        "Adding methods to a class is easy. You simple create a function, but have it indented so that it is inside the class."
      ]
    },
    {
      "cell_type": "code",
      "metadata": {
        "colab_type": "code",
        "id": "vgD60LqhqUn6",
        "colab": {}
      },
      "source": [
        "class Cow:\n",
        "  def talk():\n",
        "    print(\"Moo\")"
      ],
      "execution_count": 0,
      "outputs": []
    },
    {
      "cell_type": "markdown",
      "metadata": {
        "colab_type": "text",
        "id": "d8niOAhdsKr5"
      },
      "source": [
        "You can then call the method directly on the class."
      ]
    },
    {
      "cell_type": "code",
      "metadata": {
        "colab_type": "code",
        "id": "nz_L_k9vr_-C",
        "colab": {}
      },
      "source": [
        "Cow.talk()"
      ],
      "execution_count": 0,
      "outputs": []
    },
    {
      "cell_type": "markdown",
      "metadata": {
        "colab_type": "text",
        "id": "WqUQumEXsOzX"
      },
      "source": [
        "While you can call `talk()` on the `Cow` class, you can't actually call `talk()` on any instances of `Cow`, such as `elsie` and `annabelle`.\n",
        "\n",
        "In order to make Elsie and Annabelle talk, we need to pass the `self` keyword to the `talk` method. In general, all object functions should pass **`self`** as the first parameter.\n",
        "\n",
        "Let's modify the `Cow` class to make `talk` an object (also known as instance) function instead of a class function."
      ]
    },
    {
      "cell_type": "code",
      "metadata": {
        "colab_type": "code",
        "id": "tr9sZAMhtUPz",
        "colab": {}
      },
      "source": [
        "class Cow:\n",
        "  def talk(self):\n",
        "    print(\"Moo\")\n",
        "\n",
        "elsie = Cow()\n",
        "elsie.talk()"
      ],
      "execution_count": 0,
      "outputs": []
    },
    {
      "cell_type": "markdown",
      "metadata": {
        "colab_type": "text",
        "id": "42_id9U3toPF"
      },
      "source": [
        "Now `talk` can be called on objects of type `Cow`, but not on the `Cow` class itself."
      ]
    },
    {
      "cell_type": "markdown",
      "metadata": {
        "colab_type": "text",
        "id": "L5qwgSTQtypi"
      },
      "source": [
        "You can add as many methods as you want to a class."
      ]
    },
    {
      "cell_type": "code",
      "metadata": {
        "colab_type": "code",
        "id": "a2BYfP41t3HN",
        "colab": {}
      },
      "source": [
        "class Cow:\n",
        "  def talk(self):\n",
        "    print(\"Moo\")\n",
        "    \n",
        "  def eat(self):\n",
        "    print(\"Crunch\")\n",
        "\n",
        "elsie = Cow()\n",
        "elsie.eat()\n",
        "elsie.talk()"
      ],
      "execution_count": 0,
      "outputs": []
    },
    {
      "cell_type": "markdown",
      "metadata": {
        "colab_type": "text",
        "id": "4Su1J-hRvuXL"
      },
      "source": [
        "### Initialization"
      ]
    },
    {
      "cell_type": "markdown",
      "metadata": {
        "colab_type": "text",
        "id": "IPKe-F6vsVAa"
      },
      "source": [
        "There are special functions that you can define on a class. These functions do things like initialize an object, convert an object to a string, determine the length of an object, and more.\n",
        "\n",
        "These special functions all start and end with double-underscores. The most common of these is `__init__`. `__init__` initializes the class. Let's add an initializer to our `Cow` class."
      ]
    },
    {
      "cell_type": "code",
      "metadata": {
        "colab_type": "code",
        "id": "4lKYcqlXtb6p",
        "colab": {}
      },
      "source": [
        "class Cow:\n",
        "  def __init__(self, name):\n",
        "    self.__name = name\n",
        "  \n",
        "  def talk(self):\n",
        "    print(\"{} says Moo\".format(self.__name))\n",
        "\n",
        "annie = Cow(\"Annabelle\")\n",
        "annie.talk()\n",
        "\n",
        "elly = Cow(\"Elsie\")\n",
        "elly.talk()"
      ],
      "execution_count": 0,
      "outputs": []
    },
    {
      "cell_type": "markdown",
      "metadata": {
        "colab_type": "text",
        "id": "kU9c1icMqaPi"
      },
      "source": [
        "There are a few new concepts in the code above.\n",
        "\n",
        "1. `__init__`\n",
        "\n",
        "You can see that `__init__` is passed the object itself, commonly referred to as **self**.\n",
        "\n",
        "`__init__` can also accept any number of other arguments. In this case, we want the name of the cow. We save that name in the object (represented by `self`), and also use it in the `talk` method.\n",
        "\n",
        "Notice that the instance variable `__name` has two underscores before it. This naming is a way to tell Python to hide the variable from the rest of the program. This data hiding provides [**encapsulation**](https://en.wikipedia.org/wiki/Encapsulation_(computer_programming)) which is an important concept in object-oriented programming.\n",
        "\n",
        "Had `__name` been called `name` or `_name` (single-underscore), it would not be hidden, and could then be accessed on the object (eg. `annie.name`).\n",
        "\n",
        "There are many different double-underscore (dunder) methods. They are all documented in the [official Python documentation](https://docs.python.org/3/reference/datamodel.html)."
      ]
    },
    {
      "cell_type": "markdown",
      "metadata": {
        "colab_type": "text",
        "id": "Uf7LDFuQwieB"
      },
      "source": [
        "### Inheritance"
      ]
    },
    {
      "cell_type": "markdown",
      "metadata": {
        "colab_type": "text",
        "id": "QjCtWgVpwtgC"
      },
      "source": [
        "Python objects are able to inherit functionality from other Python objects. Let's look at an example."
      ]
    },
    {
      "cell_type": "code",
      "metadata": {
        "colab_type": "code",
        "id": "cPNB-XV7w4dY",
        "colab": {}
      },
      "source": [
        "class Animal:\n",
        "  def talk(self):\n",
        "    print(\"...\")  # The sound of silence\n",
        "  \n",
        "  def eat(self):\n",
        "    print(\"crunch\")\n",
        "\n",
        "class Cow(Animal):\n",
        "  def talk(self):\n",
        "    print(\"Moo\")\n",
        "\n",
        "class Worm(Animal):\n",
        "  pass\n",
        "\n",
        "cow = Cow()\n",
        "worm = Worm()\n",
        "\n",
        "cow.talk()\n",
        "cow.eat()\n",
        "worm.talk()\n",
        "worm.eat()"
      ],
      "execution_count": 0,
      "outputs": []
    },
    {
      "cell_type": "markdown",
      "metadata": {
        "colab_type": "text",
        "id": "ypxaiCdexbZX"
      },
      "source": [
        "In the code above, we create an `Animal` class that has a generic implementation of the `talk` and `eat` functions that we created earlier. We then create a `Cow` object that implements its own `talk` function but relies on the `Animal`'s `eat` function. We also create a `Worm` class that fully relies on `Animal` to provide `talk` and `eat` functions.\n",
        "\n",
        "The reason this is so useful is that we can scaffold classes to inherit base features. For example, we that we might want different base classes `Plant` and `Animal` that represent generic plants and animals respectively. Then, we could create different plants such as `Cactus` and `Sunflower` inheriting from the `Plant` class, and different animals such as `Cow` and `Worm`."
      ]
    },
    {
      "cell_type": "markdown",
      "metadata": {
        "colab_type": "text",
        "id": "sZo8mvJ3zR-c"
      },
      "source": [
        "Python also supports multiple inheritance and many layers of inheritance. In the code below, `move` and `eat` are methods of the base class `Animal`, which are then inherited by different types of animals."
      ]
    },
    {
      "cell_type": "code",
      "metadata": {
        "colab_type": "code",
        "id": "yB9F3J2lzoGu",
        "colab": {}
      },
      "source": [
        "class Animal:\n",
        "  def move(self):\n",
        "    pass\n",
        "  \n",
        "  def eat(self):\n",
        "    pass\n",
        "\n",
        "class Legless(Animal):\n",
        "  def move(self):\n",
        "    print(\"Wriggle wriggle\")\n",
        "\n",
        "class Legged(Animal):\n",
        "  def move(self):\n",
        "    print(\"Trot trot trot\")\n",
        "\n",
        "class Toothless(Animal):\n",
        "  def eat(self):\n",
        "    print(\"Slurp\")\n",
        "\n",
        "class Toothed(Animal):\n",
        "  def eat(self):\n",
        "    print(\"Chomp\")\n",
        "\n",
        "class Worm(Legless, Toothless):\n",
        "  pass\n",
        "\n",
        "class Cow(Legged, Toothed):\n",
        "  pass\n",
        "\n",
        "class Rock:\n",
        "  pass\n",
        "\n",
        "def live(animal):\n",
        "  if isinstance(animal, Animal):\n",
        "    animal.move()\n",
        "    animal.eat()\n",
        "\n",
        "w = Worm()\n",
        "c = Cow()\n",
        "r = Rock()\n",
        "\n",
        "print(\"The worm goes...\")\n",
        "live(w)\n",
        "\n",
        "print(\"The cow goes...\")\n",
        "live(c)\n",
        "\n",
        "print(\"The rock goes...\")\n",
        "live(r)\n"
      ],
      "execution_count": 0,
      "outputs": []
    },
    {
      "cell_type": "markdown",
      "metadata": {
        "colab_type": "text",
        "id": "0fAWbmGP2KEg"
      },
      "source": [
        "# Exercises"
      ]
    },
    {
      "cell_type": "markdown",
      "metadata": {
        "colab_type": "text",
        "id": "Va99s7pW2MNx"
      },
      "source": [
        "## Exercise 1"
      ]
    },
    {
      "cell_type": "markdown",
      "metadata": {
        "colab_type": "text",
        "id": "E34IeEYpqcK7"
      },
      "source": [
        "In the code block below, create a `Cow` class that has an `__init__` method that accepts a name and breed so that a cow can be created like:\n",
        "\n",
        "```\n",
        "elsie = Cow(\"Elsie\", \"Jersey\")\n",
        "```\n",
        "\n",
        "Name the class variables **name** and **breed**.\n",
        "\n",
        "Make sure that if the name and breed of cow passed in to the constructor are changed, the values stored in the instance variables reflect the different names. Don't hard-code \"Elsie\" and \"Jersey\"."
      ]
    },
    {
      "cell_type": "markdown",
      "metadata": {
        "colab_type": "text",
        "id": "GzixSvOrJhv9"
      },
      "source": [
        "### Student Solution"
      ]
    },
    {
      "cell_type": "code",
      "metadata": {
        "colab_type": "code",
        "id": "-1qtuRMR3ioX",
        "colab": {}
      },
      "source": [
        "# Your code goes here"
      ],
      "execution_count": 0,
      "outputs": []
    },
    {
      "cell_type": "markdown",
      "metadata": {
        "colab_type": "text",
        "id": "exercise-1-key-1"
      },
      "source": [
        "### Answer Key"
      ]
    },
    {
      "cell_type": "markdown",
      "metadata": {
        "colab_type": "text",
        "id": "exercise-1-solution-1"
      },
      "source": [
        "**Solution**"
      ]
    },
    {
      "cell_type": "code",
      "metadata": {
        "colab_type": "code",
        "id": "vgkJpqxwxUZw",
        "colab": {}
      },
      "source": [
        "class Cow:\n",
        "  def __init__(self, name, breed):\n",
        "    self.__name = name\n",
        "    self.__breed = breed"
      ],
      "execution_count": 0,
      "outputs": []
    },
    {
      "cell_type": "markdown",
      "metadata": {
        "colab_type": "text",
        "id": "qNZv2RvIJwll"
      },
      "source": [
        "**Validation**"
      ]
    },
    {
      "cell_type": "code",
      "metadata": {
        "colab_type": "code",
        "id": "JiUA6YfaKPfv",
        "colab": {}
      },
      "source": [
        "cow = Cow(\"Ellabelle\", \"Holstein\")\n",
        "\n",
        "if cow._Cow__name != \"Ellabelle\":\n",
        "  raise Exception(\"name field doesn't seem to be set\")\n",
        "\n",
        "if cow._Cow__breed != \"Holstein\":\n",
        "  raise Exception(\"breed field doesn't seem to be set\")\n",
        "\n",
        "print(\"LGTM\")"
      ],
      "execution_count": 0,
      "outputs": []
    },
    {
      "cell_type": "markdown",
      "metadata": {
        "colab_type": "text",
        "id": "scKmN0-5Lnvu"
      },
      "source": [
        "## Exercise 2"
      ]
    },
    {
      "cell_type": "markdown",
      "metadata": {
        "colab_type": "text",
        "id": "BWpnGypbqed8"
      },
      "source": [
        "Take the `Cow` class that you implemented in exercise one, and add a double-underscore method so that if you create a cow using:\n",
        "\n",
        "```\n",
        "cow = Cow(\"Elsie\", \"Shorthorn\")\n",
        "```\n",
        "\n",
        "Calling `print(cow)` prints:\n",
        "\n",
        "> Elsie is a Shorthorn cow."
      ]
    },
    {
      "cell_type": "markdown",
      "metadata": {
        "colab_type": "text",
        "id": "apWWOkBxNGEz"
      },
      "source": [
        "### Student Solution"
      ]
    },
    {
      "cell_type": "code",
      "metadata": {
        "colab_type": "code",
        "id": "Ts1xoBquNIHg",
        "colab": {}
      },
      "source": [
        "# Your code goes here"
      ],
      "execution_count": 0,
      "outputs": []
    },
    {
      "cell_type": "markdown",
      "metadata": {
        "colab_type": "text",
        "id": "exercise-2-key-1"
      },
      "source": [
        "### Answer Key"
      ]
    },
    {
      "cell_type": "markdown",
      "metadata": {
        "colab_type": "text",
        "id": "exercise-2-solution-1"
      },
      "source": [
        "**Solution**"
      ]
    },
    {
      "cell_type": "code",
      "metadata": {
        "colab_type": "code",
        "id": "19PLy1jkNbdl",
        "colab": {}
      },
      "source": [
        "class Cow:\n",
        "  def __init__(self, name, breed):\n",
        "    self.__name = name\n",
        "    self.__breed = breed\n",
        "  \n",
        "  def __str__(self):\n",
        "    return \"{} is a {} cow.\".format(self.__name, self.__breed)"
      ],
      "execution_count": 0,
      "outputs": []
    },
    {
      "cell_type": "markdown",
      "metadata": {
        "colab_type": "text",
        "id": "t7CUpwcHNdjg"
      },
      "source": [
        "**Validation**"
      ]
    },
    {
      "cell_type": "code",
      "metadata": {
        "colab_type": "code",
        "id": "_vpeq_gtNfB1",
        "colab": {}
      },
      "source": [
        "cow = Cow(\"Ellabelle\", \"Holstein\")\n",
        "\n",
        "if str(cow) != 'Ellabelle is a Holstein cow.':\n",
        "  raise Exception('__str__ does not seem to be correctly implemented')\n",
        "\n",
        "print(\"LGTM\")"
      ],
      "execution_count": 0,
      "outputs": []
    },
    {
      "cell_type": "markdown",
      "metadata": {
        "colab_type": "text",
        "id": "ytnyY_QwMNRb"
      },
      "source": [
        "## Exercise 3"
      ]
    },
    {
      "cell_type": "markdown",
      "metadata": {
        "colab_type": "text",
        "id": "oB9TZADkqkzS"
      },
      "source": [
        "Take the `Cow` class that you implemented in exercise two (or one), and add a double-underscore method so that `print(repr(elsie))` prints:\n",
        "\n",
        "> Cow(\"Elsie\", \"Jersey\")"
      ]
    },
    {
      "cell_type": "markdown",
      "metadata": {
        "colab_type": "text",
        "id": "NdgnJl0aO3e0"
      },
      "source": [
        "### Student Solution"
      ]
    },
    {
      "cell_type": "code",
      "metadata": {
        "colab_type": "code",
        "id": "S0fvt1H6O4vz",
        "colab": {}
      },
      "source": [
        "# Your code goes here"
      ],
      "execution_count": 0,
      "outputs": []
    },
    {
      "cell_type": "markdown",
      "metadata": {
        "colab_type": "text",
        "id": "exercise-3-key-1"
      },
      "source": [
        "### Answer Key"
      ]
    },
    {
      "cell_type": "markdown",
      "metadata": {
        "colab_type": "text",
        "id": "exercise-3-solution-1"
      },
      "source": [
        "**Solution**"
      ]
    },
    {
      "cell_type": "code",
      "metadata": {
        "colab_type": "code",
        "id": "P0j5MbXrOwnd",
        "colab": {}
      },
      "source": [
        "class Cow:\n",
        "  def __init__(self, name, breed):\n",
        "    self.__name = name\n",
        "    self.__breed = breed\n",
        "  \n",
        "  def __str__(self):\n",
        "    return \"{} is a {} cow.\".format(self.__name, self.__breed)\n",
        "  \n",
        "  def __repr__(self):\n",
        "    return 'Cow(\"{}\",\"{}\")'.format(self.__name, self.__breed)"
      ],
      "execution_count": 0,
      "outputs": []
    },
    {
      "cell_type": "markdown",
      "metadata": {
        "colab_type": "text",
        "id": "oKzeDNvSO9tz"
      },
      "source": [
        "**Validation**"
      ]
    },
    {
      "cell_type": "code",
      "metadata": {
        "colab_type": "code",
        "id": "55DZz5J4O8mS",
        "colab": {}
      },
      "source": [
        "cow = Cow(\"Ellabelle\", \"Holstein\")\n",
        "\n",
        "if repr(cow) != 'Cow(\"Ellabelle\",\"Holstein\")' and repr(cow) != \"Cow('Ellabelle','Holstein')\":\n",
        "  raise Exception(\"__repr__ does not seem to be correctly implemented\")\n",
        "\n",
        "print(\"LGTM\")"
      ],
      "execution_count": 0,
      "outputs": []
    },
    {
      "cell_type": "markdown",
      "metadata": {
        "colab_type": "text",
        "id": "zq7EK5os4ZiB"
      },
      "source": [
        "## Exercise 4"
      ]
    },
    {
      "cell_type": "markdown",
      "metadata": {
        "colab_type": "text",
        "id": "g1nGexJcqhlg"
      },
      "source": [
        "Fix the class in the code inheritance below so that \"Vroom!\" is printed."
      ]
    },
    {
      "cell_type": "markdown",
      "metadata": {
        "colab_type": "text",
        "id": "jWJe5kvZP6z6"
      },
      "source": [
        "### Student Solution"
      ]
    },
    {
      "cell_type": "code",
      "metadata": {
        "colab_type": "code",
        "id": "wZwV_GbdPv3l",
        "colab": {}
      },
      "source": [
        "# Your code goes here\n",
        "\n",
        "class Vehicle:\n",
        "  def go():\n",
        "    pass\n",
        "\n",
        "class Car:\n",
        "  def go():\n",
        "    print(\"Vroom!\")\n",
        "\n",
        "# No changes below here!\n",
        "car = Car()\n",
        "if isinstance(car, Vehicle):\n",
        "  car.go()"
      ],
      "execution_count": 0,
      "outputs": []
    },
    {
      "cell_type": "markdown",
      "metadata": {
        "colab_type": "text",
        "id": "exercise-4-key-1"
      },
      "source": [
        "### Answer Key"
      ]
    },
    {
      "cell_type": "markdown",
      "metadata": {
        "colab_type": "text",
        "id": "exercise-4-solution-1"
      },
      "source": [
        "**Solution**"
      ]
    },
    {
      "cell_type": "code",
      "metadata": {
        "colab_type": "code",
        "id": "uGtxKAEg5zSt",
        "colab": {}
      },
      "source": [
        "class Vehicle:\n",
        "  def go():\n",
        "    pass\n",
        "\n",
        "class Car(Vehicle):\n",
        "  def go(self):\n",
        "    print(\"Vroom!\")\n",
        "\n",
        "# No changes below here!\n",
        "car = Car()\n",
        "if isinstance(car, Vehicle):\n",
        "  car.go()"
      ],
      "execution_count": 0,
      "outputs": []
    },
    {
      "cell_type": "markdown",
      "metadata": {
        "colab_type": "text",
        "id": "IEflzjmeQDuu"
      },
      "source": [
        "**Validation**"
      ]
    },
    {
      "cell_type": "code",
      "metadata": {
        "colab_type": "code",
        "id": "_LbtrL4RxsSZ",
        "colab": {}
      },
      "source": [
        "automobile = Car()\n",
        "\n",
        "if not isinstance(car, Vehicle):\n",
        "  raise Exception(\"Inheritance doesn't seem to be set up correctly\")"
      ],
      "execution_count": 0,
      "outputs": []
    }
  ]
}