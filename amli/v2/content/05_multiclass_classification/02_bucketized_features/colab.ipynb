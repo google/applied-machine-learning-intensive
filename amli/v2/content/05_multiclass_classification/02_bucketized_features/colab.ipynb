{
 "cells": [
  {
   "cell_type": "markdown",
   "metadata": {
    "colab_type": "text",
    "id": "copyright"
   },
   "source": [
    "#### Copyright 2019 Google LLC."
   ]
  },
  {
   "cell_type": "code",
   "execution_count": 0,
   "metadata": {
    "colab": {},
    "colab_type": "code",
    "id": "khlO4Bu21oZ4"
   },
   "outputs": [],
   "source": [
    "# Licensed under the Apache License, Version 2.0 (the \"License\");\n",
    "# you may not use this file except in compliance with the License.\n",
    "# You may obtain a copy of the License at\n",
    "#\n",
    "# https://www.apache.org/licenses/LICENSE-2.0\n",
    "#\n",
    "# Unless required by applicable law or agreed to in writing, software\n",
    "# distributed under the License is distributed on an \"AS IS\" BASIS,\n",
    "# WITHOUT WARRANTIES OR CONDITIONS OF ANY KIND, either express or implied.\n",
    "# See the License for the specific language governing permissions and\n",
    "# limitations under the License."
   ]
  },
  {
   "cell_type": "markdown",
   "metadata": {
    "colab_type": "text",
    "id": "NcaRZbO52BIX"
   },
   "source": [
    "# Bucketized Features"
   ]
  },
  {
   "cell_type": "markdown",
   "metadata": {
    "colab_type": "text",
    "id": "8whHMSZEXI8C"
   },
   "source": [
    "There are times when we would like to split a continuous feature into multiple features with different learned model weights. We do this by adding a new feature, which records which region of a scatterplot a given datapoint would fall in - that is, which \"bucket\" we would place it.\n",
    "\n",
    "This is often referred to as dichotomizing variables. In TensorFlow parlance it is called [bucketizing columns](https://www.tensorflow.org/api_docs/python/tf/feature_column/bucketized_column)."
   ]
  },
  {
   "cell_type": "markdown",
   "metadata": {
    "colab_type": "text",
    "id": "7fz_1lEAXeW2"
   },
   "source": [
    "## Overview"
   ]
  },
  {
   "cell_type": "markdown",
   "metadata": {
    "colab_type": "text",
    "id": "lbXXnlHyXiKa"
   },
   "source": [
    "### Learning Objectives\n",
    "\n",
    "* Know when to convert a column from continuous values to discrete values.\n",
    "* Apply bucketization to a feature."
   ]
  },
  {
   "cell_type": "markdown",
   "metadata": {
    "colab_type": "text",
    "id": "M62dLnxpX6Le"
   },
   "source": [
    "### Prerequisites\n",
    "\n",
    "* Linear Regression with TensorFlow"
   ]
  },
  {
   "cell_type": "markdown",
   "metadata": {
    "colab_type": "text",
    "id": "IrPi5LSZYIrw"
   },
   "source": [
    "### Estimated Duration\n",
    "\n",
    "30 minutes"
   ]
  },
  {
   "cell_type": "markdown",
   "metadata": {
    "colab_type": "text",
    "id": "pzCWjL4DYLgf"
   },
   "source": [
    "### Grading Criteria\n",
    "\n",
    "Each exercise is worth 3 points. The rubric for calculating those points is:\n",
    "\n",
    "| Points | Description |\n",
    "|--------|-------------|\n",
    "| 0      | No attempt at exercise |\n",
    "| 1      | Attempted exercise, but code does not run |\n",
    "| 2      | Attempted exercise, code runs, but produces incorrect answer |\n",
    "| 3      | Exercise completed successfully |\n",
    "\n",
    "There is 1 exercise in this Colab so there are 3 points available. The grading scale will be 3 points."
   ]
  },
  {
   "cell_type": "markdown",
   "metadata": {
    "colab_type": "text",
    "id": "xk8BwRH6ZK5g"
   },
   "source": [
    "## Setup\n",
    "Run this code block to set up the exercise ;) "
   ]
  },
  {
   "cell_type": "code",
   "execution_count": 0,
   "metadata": {
    "colab": {},
    "colab_type": "code",
    "id": "441P5NOWZJo3"
   },
   "outputs": [],
   "source": [
    "from tensorflow.data import Dataset\n",
    "from tensorflow.estimator import LinearRegressor\n",
    "from tensorflow.feature_column import numeric_column\n",
    "import pandas as pd\n",
    "\n",
    "df = pd.DataFrame([\n",
    "  [26.99, 3.33],\n",
    "  [3.99, 4.16],\n",
    "  [5.99, 3.83],\n",
    "  [4.50, 4.11],\n",
    "  [17.99, 2.33],\n",
    "  [36.99, 4.66],\n",
    "  [34.99, 4.5],\n",
    "  [1.99, 4.5],\n",
    "  [2.10, 4.33],\n",
    "  [18.99, 2.42],\n",
    "  [7.99, 3.75],\n",
    "  [25.00, 3.33],\n",
    "  [29.99, 3.67],\n",
    "  [30.99, 3.83],\n",
    "  [6.99, 3.75],\n",
    "  [9.99, 3.63],\n",
    "  [19.99, 2.67],\n",
    "], columns=['price', 'satisfaction'])\n",
    "\n",
    "def run_model(features):\n",
    "  def training_input():\n",
    "    features = {\n",
    "      'price': df['price'],\n",
    "    }\n",
    "    labels = df['satisfaction']\n",
    "    return Dataset.from_tensor_slices((features, labels)).batch(1)\n",
    "  linear_regressor = LinearRegressor(\n",
    "      feature_columns=features,\n",
    "  )\n",
    "  linear_regressor.train(\n",
    "   input_fn=training_input,\n",
    "  )\n",
    "  return linear_regressor\n"
   ]
  },
  {
   "cell_type": "markdown",
   "metadata": {
    "colab_type": "text",
    "id": "r2QxAw5_DEWG"
   },
   "source": [
    "## Motivation\n",
    "\n",
    "Let's set up an artificial example where we would like to create a model that will predict customer satisfaction of items on our menu based on the cost of the item. The prices are continuous and we would like to divide them into price buckets when training our model.\n",
    "\n",
    "First let's take a look at our data."
   ]
  },
  {
   "cell_type": "code",
   "execution_count": 0,
   "metadata": {
    "colab": {},
    "colab_type": "code",
    "id": "EYGpSJX1-YF5"
   },
   "outputs": [],
   "source": [
    "df"
   ]
  },
  {
   "cell_type": "markdown",
   "metadata": {
    "colab_type": "text",
    "id": "FPqkLSckMH6X"
   },
   "source": [
    "Cool. Let's scatter-plot it to see if there are any trends:"
   ]
  },
  {
   "cell_type": "code",
   "execution_count": 0,
   "metadata": {
    "colab": {},
    "colab_type": "code",
    "id": "nYYSlyIOKDnJ"
   },
   "outputs": [],
   "source": [
    "import matplotlib.pyplot as plt\n",
    "\n",
    "plt.plot(df.price, df.satisfaction, '.')"
   ]
  },
  {
   "cell_type": "markdown",
   "metadata": {
    "colab_type": "text",
    "id": "DOXleOHWML-I"
   },
   "source": [
    "Hmm, looks like there are actually *two* linear trends here! For low-price items, the higher cost they are the more satisfaction goes down. For higher-price items, however, increasing cost correlates to increasing satisfaction! It's possible we're observing two different trends here: people don't like paying more for appetizers, but are happy to buy expensive entrees.\n",
    "\n",
    "A normal linear regression would be unable to accurately reflect this behavior, which is where bucketization comes in."
   ]
  },
  {
   "cell_type": "markdown",
   "metadata": {
    "colab_type": "text",
    "id": "ct3avkmdNiXt"
   },
   "source": [
    "Indeed, the RMSE for a linear model predicting satisfaction from price doesn't have a great loss:\n"
   ]
  },
  {
   "cell_type": "code",
   "execution_count": 0,
   "metadata": {
    "colab": {},
    "colab_type": "code",
    "id": "5_lBXcnQNmt5"
   },
   "outputs": [],
   "source": [
    "from tensorflow.feature_column import numeric_column\n",
    "run_model([\n",
    "  numeric_column('price')\n",
    "])\n"
   ]
  },
  {
   "cell_type": "markdown",
   "metadata": {
    "colab_type": "text",
    "id": "zesOUZCxSK1L"
   },
   "source": [
    "If we read the output, we see that the final loss the model ended up at is around 0.88, almost whole satisfaction point off! We can do better ;) "
   ]
  },
  {
   "cell_type": "markdown",
   "metadata": {
    "colab_type": "text",
    "id": "s5AlNrAjcvMu"
   },
   "source": [
    "## Pros and cons of bucketization\n",
    "\n",
    "Bucketizing/Dichotomizing feature columns can actually reduce model accuracy when overused: they prevent the computer from discovering trends _across_ bucket boundaries, while the divisions we choose might not have as much predictive value. Dichotomizing removes outliers and increases bias.\n",
    "\n",
    "So when should you use this tool? When there is a natural division that you can clearly see or when there is some hidden encoding in the continuous data.\n",
    "\n",
    "For example, Costco is rumored to hide data in their pricing. Items that end in .99 are regular priced. Items with .97 are discounted by the manufacturer. Items ending in .88 are manager markdowns, and so on.\n",
    "\n",
    "Given only the pricing data, an analyst that knew these encodings might extract them using bucketization so that the model would have a clearer picture as to the categories.\n",
    "\n",
    "Another use case might be restaurant data where the menu changes at a fixed time each day between meals. If we had sales data for that restaurant we might bucketize the time of purchase to delineate breakfast, lunch, and dinner menus for the model.\n",
    "\n",
    "Can you think of other scenarios where bucketization might be useful? Where might it be dangerous?"
   ]
  },
  {
   "cell_type": "markdown",
   "metadata": {
    "colab_type": "text",
    "id": "3wvVzuqMMysL"
   },
   "source": [
    "# Exercises\n"
   ]
  },
  {
   "cell_type": "markdown",
   "metadata": {
    "colab_type": "text",
    "id": "RlObw231X6Rm"
   },
   "source": [
    "## Exercise 1"
   ]
  },
  {
   "cell_type": "markdown",
   "metadata": {
    "colab_type": "text",
    "id": "4hi9pYcKDwba"
   },
   "source": [
    "We'll add a new feature that tells the model whether a price is in the 'low' range or 'high' range. To do this, we first need to figure out where to divide our buckets. Let's look at the scatter plot again:\n"
   ]
  },
  {
   "cell_type": "code",
   "execution_count": 0,
   "metadata": {
    "colab": {},
    "colab_type": "code",
    "id": "bB9Wjsga_rmU"
   },
   "outputs": [],
   "source": [
    "plt.plot(df.price, df.satisfaction, '.')"
   ]
  },
  {
   "cell_type": "markdown",
   "metadata": {
    "colab_type": "text",
    "id": "vGvsEuIbWikx"
   },
   "source": [
    "At what price does the downward trend stop, and the upward trend start?"
   ]
  },
  {
   "cell_type": "markdown",
   "metadata": {
    "colab_type": "text",
    "id": "6O0aCIH7X8Xd"
   },
   "source": [
    "### Student Solution"
   ]
  },
  {
   "cell_type": "code",
   "execution_count": 0,
   "metadata": {
    "colab": {},
    "colab_type": "code",
    "id": "M4yjG1l_KBjJ"
   },
   "outputs": [],
   "source": [
    "###############\n",
    "## YOUR ANSWER HERE:\n",
    "\n",
    "threshold_price = ???????"
   ]
  },
  {
   "cell_type": "markdown",
   "metadata": {
    "colab_type": "text",
    "id": "exercise-1-key-1"
   },
   "source": [
    "### Answer Key"
   ]
  },
  {
   "cell_type": "markdown",
   "metadata": {
    "colab_type": "text",
    "id": "exercise-1-solution-1"
   },
   "source": [
    "**Solution**"
   ]
  },
  {
   "cell_type": "code",
   "execution_count": 0,
   "metadata": {
    "colab": {},
    "colab_type": "code",
    "id": "wKvG5dkNX-8q"
   },
   "outputs": [],
   "source": [
    "# TODO"
   ]
  },
  {
   "cell_type": "markdown",
   "metadata": {
    "colab_type": "text",
    "id": "Ig5yZFJ9YALn"
   },
   "source": [
    "**Validation**"
   ]
  },
  {
   "cell_type": "code",
   "execution_count": 0,
   "metadata": {
    "colab": {},
    "colab_type": "code",
    "id": "hCiFpJ8xYCEP"
   },
   "outputs": [],
   "source": [
    "# TODO"
   ]
  },
  {
   "cell_type": "markdown",
   "metadata": {
    "colab_type": "text",
    "id": "UIQROIduYD2a"
   },
   "source": [
    "## Exercise 2"
   ]
  },
  {
   "cell_type": "markdown",
   "metadata": {
    "colab_type": "text",
    "id": "hbWbbWW2FPjf"
   },
   "source": [
    "To create a bucketized column, we'll use the TensorFlow function \n",
    "[bucketized_column()](https://www.tensorflow.org/api_docs/python/tf/feature_column/bucketized_column). Taking a look at the documentation, we need to plug in two parameters:\n",
    "- The TensorFlow column we're adding buckets for.\n",
    "- A _list_ of thresholds around which we'll divide our buckets. In this case, we're only splitting the data into two buckets, so we're only going to have one element in our list."
   ]
  },
  {
   "cell_type": "markdown",
   "metadata": {
    "colab_type": "text",
    "id": "tGGumrySYHn6"
   },
   "source": [
    "### Student Solution"
   ]
  },
  {
   "cell_type": "code",
   "execution_count": 0,
   "metadata": {
    "colab": {},
    "colab_type": "code",
    "id": "pLxtFXvZ_0yG"
   },
   "outputs": [],
   "source": [
    "from tensorflow.feature_column import bucketized_column\n",
    "\n",
    "price_feature = numeric_column('price')\n",
    "\n",
    "###############\n",
    "## YOUR ANSWER HERE:\n",
    "bucket_feature = ???????"
   ]
  },
  {
   "cell_type": "markdown",
   "metadata": {
    "colab_type": "text",
    "id": "exercise-2-key-1"
   },
   "source": [
    "### Answer Key"
   ]
  },
  {
   "cell_type": "markdown",
   "metadata": {
    "colab_type": "text",
    "id": "exercise-2-solution-1"
   },
   "source": [
    "**Solution**"
   ]
  },
  {
   "cell_type": "code",
   "execution_count": 0,
   "metadata": {
    "colab": {},
    "colab_type": "code",
    "id": "FD1pkVryYLxq"
   },
   "outputs": [],
   "source": [
    "# TODO"
   ]
  },
  {
   "cell_type": "markdown",
   "metadata": {
    "colab_type": "text",
    "id": "h2FBg_TuYM6x"
   },
   "source": [
    "**Validation**"
   ]
  },
  {
   "cell_type": "code",
   "execution_count": 0,
   "metadata": {
    "colab": {},
    "colab_type": "code",
    "id": "g0qykR-0YRbl"
   },
   "outputs": [],
   "source": [
    "# TODO"
   ]
  },
  {
   "cell_type": "markdown",
   "metadata": {
    "colab_type": "text",
    "id": "v-PUQ8JnYULh"
   },
   "source": [
    "## Exercise 3"
   ]
  },
  {
   "cell_type": "markdown",
   "metadata": {
    "colab_type": "text",
    "id": "6z2KoCC9FjkE"
   },
   "source": [
    "Now, let's train a model that includes both the price feature _and_ our bucketization feature."
   ]
  },
  {
   "cell_type": "code",
   "execution_count": 0,
   "metadata": {
    "colab": {},
    "colab_type": "code",
    "id": "nYP4TXhsAIMz"
   },
   "outputs": [],
   "source": [
    "run_model(\n",
    "    [price_feature, bucket_feature]\n",
    ")"
   ]
  },
  {
   "cell_type": "markdown",
   "metadata": {
    "colab_type": "text",
    "id": "6qikydFHFwjy"
   },
   "source": [
    "How does the loss on your new bucketized model compare to the simple one we trained earlier? :) "
   ]
  },
  {
   "cell_type": "markdown",
   "metadata": {
    "colab_type": "text",
    "id": "aMAq_agMYWt7"
   },
   "source": [
    "### Student Solution"
   ]
  },
  {
   "cell_type": "markdown",
   "metadata": {
    "colab_type": "text",
    "id": "rj_KCs_iYZfb"
   },
   "source": [
    "*Your answer goes here..*"
   ]
  },
  {
   "cell_type": "markdown",
   "metadata": {
    "colab_type": "text",
    "id": "exercise-3-key-1"
   },
   "source": [
    "### Answer Key"
   ]
  },
  {
   "cell_type": "markdown",
   "metadata": {
    "colab_type": "text",
    "id": "exercise-3-solution-1"
   },
   "source": [
    "**Solution**"
   ]
  },
  {
   "cell_type": "code",
   "execution_count": 0,
   "metadata": {
    "colab": {},
    "colab_type": "code",
    "id": "zdn4IiO6YYHV"
   },
   "outputs": [],
   "source": [
    "# TODO"
   ]
  },
  {
   "cell_type": "markdown",
   "metadata": {
    "colab_type": "text",
    "id": "NJA7arDYYdY_"
   },
   "source": [
    "**Validation**"
   ]
  },
  {
   "cell_type": "code",
   "execution_count": 0,
   "metadata": {
    "colab": {},
    "colab_type": "code",
    "id": "mmaarP2JYgq7"
   },
   "outputs": [],
   "source": [
    "# TODO"
   ]
  }
 ],
 "metadata": {
  "colab": {
   "collapsed_sections": [
    "copyright",
    "exercise-1-key-1",
    "exercise-2-key-1",
    "exercise-3-key-1"
   ],
   "name": "Bucketized Features",
   "private_outputs": true,
   "provenance": [],
   "toc_visible": true,
   "version": "0.3.2"
  },
  "kernelspec": {
   "display_name": "Python 3",
   "name": "python3"
  }
 },
 "nbformat": 4,
 "nbformat_minor": 0
}
