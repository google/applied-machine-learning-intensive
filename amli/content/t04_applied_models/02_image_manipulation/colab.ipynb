{
 "cells": [
  {
   "cell_type": "markdown",
   "metadata": {
    "colab_type": "text",
    "id": "copyright"
   },
   "source": [
    "#### Copyright 2019 Google LLC."
   ]
  },
  {
   "cell_type": "code",
   "execution_count": 0,
   "metadata": {
    "colab": {},
    "colab_type": "code",
    "id": "24p97VuTvYVT"
   },
   "outputs": [],
   "source": [
    "# Licensed under the Apache License, Version 2.0 (the \"License\");\n",
    "# you may not use this file except in compliance with the License.\n",
    "# You may obtain a copy of the License at\n",
    "#\n",
    "# https://www.apache.org/licenses/LICENSE-2.0\n",
    "#\n",
    "# Unless required by applicable law or agreed to in writing, software\n",
    "# distributed under the License is distributed on an \"AS IS\" BASIS,\n",
    "# WITHOUT WARRANTIES OR CONDITIONS OF ANY KIND, either express or implied.\n",
    "# See the License for the specific language governing permissions and\n",
    "# limitations under the License."
   ]
  },
  {
   "cell_type": "markdown",
   "metadata": {
    "colab_type": "text",
    "id": "CVmV0M74xwm7"
   },
   "source": [
    "# Manipulating an Image in Python"
   ]
  },
  {
   "cell_type": "markdown",
   "metadata": {
    "colab_type": "text",
    "id": "XuFjSsW53I9_"
   },
   "source": [
    "So far the data that we have encountered has been in a textual format, such as comma separated values of strings and numbers. Other data has been directly loaded from Scikit Learn as a `Bunch` of NumPy arrays, also containing strings and numbers.\n",
    "\n",
    "Data scientists will sometimes find themselves working with collections of images, which are represented in a much more compact binary format.\n",
    "\n",
    "Often these images are contained in a zip file, but they can also just be in a directory on your computer, stored somewhere on the internet, or in any of many other potential types of locations. It is often the job of the data scientist to gather these images in a central location for processing.\n",
    "\n",
    "Once you have the images, you'll typically need to perform some type of modification on them before you can feed them to your model.\n",
    "\n",
    "Most models expect a specific size of image, so you'll need to resize images you feed your model if they differ from what is expected. Resizing might including cropping, stretching, padding, and/or scaling an image. Resizing to a smaller size also helps speed up your model by reducing the size of the input data.\n",
    "\n",
    "Images can also be encoded in many different ways. Some are grayscale, others are color. Color images might be encoded red-green-blue (RGB), blue-green-red (BRG), rgb-alpha, bgr-alpha, hue-saturation-lightness (HSL), hue-saturation-value (HSV), or some other encoding scheme. You will need to make sure your input images encoding for all of your training data is the same.\n",
    "\n",
    "It is also common to normalize or standardize your images, which are just two different ways of reducing a wide range of pixel values (typically 0 to 255 inclusive) into a tighter range.\n",
    "\n",
    "There are even strategies for increasing the size of your dataset by using the same image rotated different ways or cropped in different ways to introduce some variance.\n",
    "\n",
    "This might all sound like a lot of work... and it is, but luckily you don't have to worry too much about the details. There are numerous Python toolkits for manipulating images. In this unit, we will use the [Image](https://pillow.readthedocs.io/en/stable/reference/Image.html) and [ImageOps](https://pillow.readthedocs.io/en/stable/reference/ImageOps.html) modules from the [PIL, now called Pillow](https://python-pillow.org/) library."
   ]
  },
  {
   "cell_type": "markdown",
   "metadata": {
    "colab_type": "text",
    "id": "452jWTVV230i"
   },
   "source": [
    "## Overview"
   ]
  },
  {
   "cell_type": "markdown",
   "metadata": {
    "colab_type": "text",
    "id": "PGXJElrBvyVT"
   },
   "source": [
    "### Learning Objectives\n",
    "\n",
    "* Read and write an image file\n",
    "* Resize, pad, and change the orientation of an image\n"
   ]
  },
  {
   "cell_type": "markdown",
   "metadata": {
    "colab_type": "text",
    "id": "VZe4Xj9tyQRD"
   },
   "source": [
    "### Prerequisites\n",
    "\n",
    "* Intermediate Python"
   ]
  },
  {
   "cell_type": "markdown",
   "metadata": {
    "colab_type": "text",
    "id": "DbbAmmIhynVu"
   },
   "source": [
    "### Estimated Duration\n",
    "\n",
    "60 minutes"
   ]
  },
  {
   "cell_type": "markdown",
   "metadata": {
    "colab_type": "text",
    "id": "7MHrGEyty2VI"
   },
   "source": [
    "### Grading Criteria\n",
    "\n",
    "Each exercise is worth 3 points. The rubric for calculating those points is:\n",
    "\n",
    "| Points | Description |\n",
    "|--------|-------------|\n",
    "| 0      | No attempt at exercise |\n",
    "| 1      | Attempted exercise, but code does not run |\n",
    "| 2      | Attempted exercise, code runs, but produces incorrect answer |\n",
    "| 3      | Exercise completed successfully |\n",
    "\n",
    "There are 2 exercises in this Colab so there are 6 points available. The grading scale will be 3 points."
   ]
  },
  {
   "cell_type": "markdown",
   "metadata": {
    "colab_type": "text",
    "id": "jk3COdKGIB7l"
   },
   "source": [
    "## Get image\n",
    "\n",
    "For this Colab we'll work with just one image.\n",
    "\n",
    "We'll source the image from [Pixabay](https://pixabay.com/photos/running-shoe-shoe-brooks-371624/). On the image page you'll see the option to download. Choose the 1920x1280 version of the image.\n",
    "\n",
    "After you have download the image to your local computer, upload it into this Colab by running the code block below, clicking \"Choose Files\" in the form that appears, selecting the image that was just downloaded from the dialog box, and then pressing 'Open'. You should see messages about the file being uploaded and then eventually you'll see a notification that the file upload is complete."
   ]
  },
  {
   "cell_type": "code",
   "execution_count": 0,
   "metadata": {
    "colab": {},
    "colab_type": "code",
    "id": "euRZuE9MLHd0"
   },
   "outputs": [],
   "source": [
    "from google.colab import files\n",
    "\n",
    "uploaded = files.upload()\n",
    "\n",
    "for fn in uploaded.keys():\n",
    "  print('User uploaded file \"{name}\" with length {length} bytes'.format(\n",
    "      name=fn, length=len(uploaded[fn])))"
   ]
  },
  {
   "cell_type": "markdown",
   "metadata": {
    "colab_type": "text",
    "id": "LboFaJ47r6x-"
   },
   "source": [
    "We can now take a look at our image to see if we uploaded it properly. To do this we will use [Matplotlib](https://matplotlib.org/) to actually show the image. But first, we must load the image from the virtual machine hosting this Colab. Right now that image is stored on the virtual machine's hard drive.\n",
    "\n",
    "We could use Python's native [open](https://docs.python.org/3/library/functions.html#open) function to load the image from disk into Python, but we'd have a binary blob of data that we'd have to decode ourselves. Instead we'll use Pillow's `Image` module to open the file.\n",
    "\n",
    "Notice that we use a context block to automatically close the image that we opened to free up resources. We could also have just explicitly called close after we were done with the image."
   ]
  },
  {
   "cell_type": "code",
   "execution_count": 0,
   "metadata": {
    "colab": {},
    "colab_type": "code",
    "id": "xhd_d5vzrc_h"
   },
   "outputs": [],
   "source": [
    "from PIL import Image\n",
    "import matplotlib.pyplot as plt\n",
    "\n",
    "with Image.open(\"running-shoe-371624_960_720.jpg\") as sneaker:\n",
    "  plt.imshow(sneaker)\n",
    "  plt.show()"
   ]
  },
  {
   "cell_type": "markdown",
   "metadata": {
    "colab_type": "text",
    "id": "-Goq0Frawyuk"
   },
   "source": [
    "## Reshaping\n",
    "\n",
    "The image we currently have is wider than it is tall (landscape). It could have just as easily been taller than it is wide (portrait). It could have even been a square.\n",
    "\n",
    "Does the model care? *No... and Yes.*\n",
    "\n",
    "The model simply wants consistent inputs. These could be of any shape, but we have to decide on one and stick with it.\n",
    "\n",
    "Maybe we are always processing images in a specific aspect ratio, maybe we aren't. If we are then we are guaranteed to always use the same aspect ratio for the model the reshaping might not be necessary. If the input images might differ in aspect ratio, then reshaping is a critical skill... let's see how to do it.\n",
    "\n",
    "First, we must know the size of the image we are working with. We can get that from Pillow by simply asking for the image size."
   ]
  },
  {
   "cell_type": "code",
   "execution_count": 0,
   "metadata": {
    "colab": {},
    "colab_type": "code",
    "id": "LfcdK_js_dQd"
   },
   "outputs": [],
   "source": [
    "from PIL import Image\n",
    "import matplotlib.pyplot as plt\n",
    "\n",
    "image_width_height = None\n",
    "\n",
    "with Image.open(\"running-shoe-371624_960_720.jpg\") as sneaker:\n",
    "  image_width_height = sneaker.size\n",
    "\n",
    "print(image_width_height)"
   ]
  },
  {
   "cell_type": "markdown",
   "metadata": {
    "colab_type": "text",
    "id": "u617UoBvzI_A"
   },
   "source": [
    "As expected, we have dimensions that indicate that we have an image in landscape: 960 pixels wide and 640 pixels tall.\n",
    "\n",
    "Now we have to figure out *if* and *how* to reshape it.\n",
    "\n",
    "For the question of *if*, let's assume that we expect a variable set of input shapes and based on this we believe that reshaping is necessary.\n",
    "\n",
    "Now we need to think about *how* to reshape the image. *How* can take many different formats:\n",
    "\n",
    "* Do we find the smaller dimension and just add blank padding to it until it is the same size as the larger dimension?\n",
    " * If so, do we pad one side? Both?\n",
    " * And what pixel value(s) do we use for the padding? Min? Max? Average? Other?\n",
    "* Do we crop a fixed portion of the image?\n",
    " * If so do we center? Randomly crop? Multiple times?\n",
    "* Do we simply resize the image and let it be proportionally distorted?\n",
    "\n",
    "The answer to all of these questions is both *yes* and *no* while also *other*. It completely depends on your problem domain and use case. This is actually part of the **science** of data science. Hypothesize, experiment, repeat.\n",
    "\n",
    "But for this Colab we have to make a definitive decision. For simplicity we will choose to evenly pad the smaller dimension with the max pixel values as evenly as possible on either side.\n",
    "\n",
    "To do this we first need to find the larger side (height or width) of the image."
   ]
  },
  {
   "cell_type": "code",
   "execution_count": 0,
   "metadata": {
    "colab": {},
    "colab_type": "code",
    "id": "nX-sWA3Z2uu3"
   },
   "outputs": [],
   "source": [
    "max_dimension = max(image_width_height)\n",
    "\n",
    "print(max_dimension)"
   ]
  },
  {
   "cell_type": "markdown",
   "metadata": {
    "colab_type": "text",
    "id": "r8Uv3iI725Mb"
   },
   "source": [
    "Not completely unexpected. 960 is definitely larger than 640.\n",
    "\n",
    "Now we need to find out how much padding we need to add to each side of the image. The longer side shouldn't get any extra padding and the shorter side should get enough padding to make it equal to the longer side since we are making the image a square.\n",
    "\n",
    "In this case, we have a landscape picture so no extra width is needed and 640 pixels of height is needed."
   ]
  },
  {
   "cell_type": "code",
   "execution_count": 0,
   "metadata": {
    "colab": {},
    "colab_type": "code",
    "id": "O-6VBoda3agD"
   },
   "outputs": [],
   "source": [
    "width_padding = max_dimension - image_width_height[0]\n",
    "height_padding = max_dimension - image_width_height[1]\n",
    "\n",
    "print(\"Width padding: {}, Height padding: {}\".format(width_padding, height_padding))"
   ]
  },
  {
   "cell_type": "markdown",
   "metadata": {
    "colab_type": "text",
    "id": "B7Cl6fRyDuDI"
   },
   "source": [
    "We don't want all of the padding to go to one side of the image though. We need to split the amount of padding in half and then add each half of the padding to each side of the shorter dimension of the image.\n",
    "\n",
    "There is a problem when the padding is an odd number of pixels. A half of a pixel doesn't make sense, so instead we just need to choose a side of the image to put the extra bit of padding onto. In order to do this we first do integer division to split the padding in half and then use subtraction to find the size of the other portion of the padding."
   ]
  },
  {
   "cell_type": "code",
   "execution_count": 0,
   "metadata": {
    "colab": {},
    "colab_type": "code",
    "id": "bsve7z4TFJyk"
   },
   "outputs": [],
   "source": [
    "left_padding = width_padding // 2\n",
    "right_padding = width_padding - left_padding\n",
    "\n",
    "top_padding = height_padding // 2\n",
    "bottom_padding = height_padding - top_padding\n",
    "\n",
    "print(\"Left padding: {}, Top padding {}, Right padding: {}, Bottom padding {}\".format(\n",
    "  left_padding, \n",
    "  top_padding, \n",
    "  right_padding, \n",
    "  bottom_padding))"
   ]
  },
  {
   "cell_type": "markdown",
   "metadata": {
    "colab_type": "text",
    "id": "ucstp6tBFt94"
   },
   "source": [
    "Now that we know how much padding to add to the image, we can do so by asking Pillow to expand the image.\n",
    "\n",
    "In this case we asked for the padding to be white (RGBA all 255). This made sense because this particular image contains one \"object\" and a solid white background. If your images are not so well produced, you might need to use a different strategy for coloring the image padding."
   ]
  },
  {
   "cell_type": "code",
   "execution_count": 0,
   "metadata": {
    "colab": {},
    "colab_type": "code",
    "id": "Uj3FVyQ7Fx_x"
   },
   "outputs": [],
   "source": [
    "from PIL import ImageOps\n",
    "\n",
    "padding = (\n",
    "  left_padding, \n",
    "  top_padding, \n",
    "  right_padding, \n",
    "  bottom_padding\n",
    ")\n",
    "\n",
    "image = Image.open(\"running-shoe-371624_960_720.jpg\")\n",
    "padded_image = ImageOps.expand(image, padding, (255,255,255,255))\n",
    "image.close()\n",
    "\n",
    "plt.imshow(padded_image)"
   ]
  },
  {
   "cell_type": "markdown",
   "metadata": {
    "colab_type": "text",
    "id": "yG5AIH79JE2F"
   },
   "source": [
    "We will do one final check to confirm that the image is indeed a square now. You should now have a 1920x1920 image."
   ]
  },
  {
   "cell_type": "code",
   "execution_count": 0,
   "metadata": {
    "colab": {},
    "colab_type": "code",
    "id": "8uP8N77nJCcQ"
   },
   "outputs": [],
   "source": [
    "padded_image.size"
   ]
  },
  {
   "cell_type": "markdown",
   "metadata": {
    "colab_type": "text",
    "id": "w9Clq0KWL2dD"
   },
   "source": [
    "## Scale the Image"
   ]
  },
  {
   "cell_type": "markdown",
   "metadata": {
    "colab_type": "text",
    "id": "f8DaPLm2tki9"
   },
   "source": [
    "960x960 is a pretty big image for a machine learning model to handle. If each pixel were used as input that would be 921,600 values in the input vector for a model. It is common for each pixel to have three or four channels for a color image: red, green, blue, alpha. If there are four channels the actual number of inputs is closer to 3,686,400 for this image.\n",
    "\n",
    "A common strategy to reduce the size of the inputs is to simple reduce the size of the image by scaling it down. Let's use Pillow to do that."
   ]
  },
  {
   "cell_type": "code",
   "execution_count": 0,
   "metadata": {
    "colab": {},
    "colab_type": "code",
    "id": "GfhuSpMqfngD"
   },
   "outputs": [],
   "source": [
    "desired_size = (200, 200)\n",
    "\n",
    "resized_image = padded_image.resize(desired_size, Image.ANTIALIAS)\n",
    "plt.imshow(resized_image)"
   ]
  },
  {
   "cell_type": "markdown",
   "metadata": {
    "colab_type": "text",
    "id": "ODIrlPDiJrDP"
   },
   "source": [
    "We can see the exact size of the resized image."
   ]
  },
  {
   "cell_type": "code",
   "execution_count": 0,
   "metadata": {
    "colab": {},
    "colab_type": "code",
    "id": "VFcv3PYzJwjl"
   },
   "outputs": [],
   "source": [
    "resized_image.size"
   ]
  },
  {
   "cell_type": "markdown",
   "metadata": {
    "colab_type": "text",
    "id": "uLCSnMlwJy3j"
   },
   "source": [
    "Padding before resizing allowed is to not distort the shape of the contents of our image, but it did require that we apply an artificial background.\n",
    "\n",
    "We could have also just scaled the image into a 200x200 square and distorted the image.\n",
    "\n",
    "Which is better? It really depends on what type of image you have coming into your system and the problem you are trying to solve."
   ]
  },
  {
   "cell_type": "markdown",
   "metadata": {
    "colab_type": "text",
    "id": "SdqWCg3eLldl"
   },
   "source": [
    "# Exercises"
   ]
  },
  {
   "cell_type": "markdown",
   "metadata": {
    "colab_type": "text",
    "id": "xs-QlHuc6IbK"
   },
   "source": [
    "## Exercise 1"
   ]
  },
  {
   "cell_type": "markdown",
   "metadata": {
    "colab_type": "text",
    "id": "axURTCgJwOjY"
   },
   "source": [
    "Your turn!  Find another sneaker image and make it square and a size of 100 by 100 pixels.  Use your favorite image search website if you don't have a sneaker image handy, eg: [Pixabay](https://pixabay.com), [Google Image Search](https://images.google.com), etc."
   ]
  },
  {
   "cell_type": "markdown",
   "metadata": {
    "colab_type": "text",
    "id": "tJiERBW68otc"
   },
   "source": [
    "### Student Solution"
   ]
  },
  {
   "cell_type": "code",
   "execution_count": 0,
   "metadata": {
    "colab": {},
    "colab_type": "code",
    "id": "mM2z0RJQfWev"
   },
   "outputs": [],
   "source": [
    "# Upload the file you just downloaded from your computer to the colab runtime\n",
    "\n",
    "from google.colab import files\n",
    "\n",
    "uploaded = files.upload()\n",
    "\n",
    "for fn in uploaded.keys():\n",
    "  print('User uploaded file \"{name}\" with length {length} bytes'.format(\n",
    "      name=fn, length=len(uploaded[fn])))\n"
   ]
  },
  {
   "cell_type": "code",
   "execution_count": 0,
   "metadata": {
    "colab": {},
    "colab_type": "code",
    "id": "NlafXcm_wMNc"
   },
   "outputs": [],
   "source": [
    "### YOUR CODE HERE ###\n",
    "\n",
    "# Open the image file and plot the image\n",
    "\n",
    "# Print the dimension of the image\n",
    "\n",
    "# Find the longer dimension  \n",
    "\n",
    "# Compute the delta width and height\n",
    "\n",
    "# Compute the padding amounts\n",
    "\n",
    "# Pad and plot the image\n",
    "\n",
    "# Resize and plot the image\n"
   ]
  },
  {
   "cell_type": "markdown",
   "metadata": {
    "colab_type": "text",
    "id": "exercise-1-key-1"
   },
   "source": [
    "### Answer Key"
   ]
  },
  {
   "cell_type": "markdown",
   "metadata": {
    "colab_type": "text",
    "id": "exercise-1-solution-1"
   },
   "source": [
    "**Solution**"
   ]
  },
  {
   "cell_type": "code",
   "execution_count": 0,
   "metadata": {
    "colab": {},
    "colab_type": "code",
    "id": "p2kNso7P6fem"
   },
   "outputs": [],
   "source": [
    "# Open the image file and plot the image\n",
    "from PIL import Image\n",
    "import matplotlib.pyplot as plt\n",
    "\n",
    "with Image.open(\"sneaker_image.jpg\") as sneaker:\n",
    "  plt.imshow(sneaker)\n",
    "  plt.show()\n",
    "\n",
    "# Print the dimension of the image\n",
    "image_width_height = None\n",
    "with Image.open(\"sneaker_image.jpg\") as sneaker:\n",
    "  image_width_height = sneaker.size\n",
    "print(image_width_height)\n",
    "  \n",
    "# Find the longer dimension  \n",
    "max_dimension = max(image_width_height)\n",
    "print(max_dimension)\n",
    "\n",
    "# Compute the delta width and height\n",
    "width_padding = max_dimension - image_width_height[0]\n",
    "height_padding = max_dimension - image_width_height[1]\n",
    "print(\"Width padding: {}, Height padding: {}\".format(width_padding, height_padding))\n",
    "\n",
    "# Compute the padding amounts\n",
    "left_padding = width_padding // 2\n",
    "right_padding = width_padding - left_padding\n",
    "\n",
    "top_padding = height_padding // 2\n",
    "bottom_padding = height_padding - top_padding\n",
    "\n",
    "print(\"Left padding: {}, Top padding {}, Right padding: {}, Bottom padding {}\".format(\n",
    "  left_padding, \n",
    "  top_padding, \n",
    "  right_padding, \n",
    "  bottom_padding))\n",
    "\n",
    "# Pad and plot the image\n",
    "from PIL import ImageOps\n",
    "\n",
    "padding = (\n",
    "  left_padding, \n",
    "  top_padding, \n",
    "  right_padding, \n",
    "  bottom_padding\n",
    ")\n",
    "\n",
    "image = Image.open(\"sneaker_image.jpg\")\n",
    "padded_image = ImageOps.expand(image, padding, (255,255,255,255))\n",
    "image.close()\n",
    "\n",
    "plt.imshow(padded_image)\n",
    "padded_image.size\n",
    "\n",
    "# Resize and plot the image\n",
    "desired_size = (200, 200)\n",
    "\n",
    "resized_image = padded_image.resize(desired_size, Image.ANTIALIAS)\n",
    "plt.imshow(resized_image)\n",
    "\n",
    "resized_image.size"
   ]
  },
  {
   "cell_type": "markdown",
   "metadata": {
    "colab_type": "text",
    "id": "I0XL76bg8v4J"
   },
   "source": [
    "**Validation**"
   ]
  },
  {
   "cell_type": "code",
   "execution_count": 0,
   "metadata": {
    "colab": {},
    "colab_type": "code",
    "id": "5WxwMXke8xXe"
   },
   "outputs": [],
   "source": [
    "# TODO"
   ]
  },
  {
   "cell_type": "markdown",
   "metadata": {
    "colab_type": "text",
    "id": "-SK6FT1nwFkP"
   },
   "source": [
    "## Exercise 2"
   ]
  },
  {
   "cell_type": "markdown",
   "metadata": {
    "colab_type": "text",
    "id": "T7EgQSQCwjrK"
   },
   "source": [
    "Pick one of the images above, and do the following:\n",
    "\n",
    "1.   Flip the image horizontally (left to right).\n",
    "2.   Then, save the flipped image back to overwrite the original image file.\n",
    "\n",
    "Resource: [PIL Reference Guide](https://pillow.readthedocs.io/en/3.0.x/reference/ImageOps.html)\n",
    "\n"
   ]
  },
  {
   "cell_type": "markdown",
   "metadata": {
    "colab_type": "text",
    "id": "ViMkTsVX8zV9"
   },
   "source": [
    "### Student Solution"
   ]
  },
  {
   "cell_type": "code",
   "execution_count": 0,
   "metadata": {
    "colab": {},
    "colab_type": "code",
    "id": "tBTnDLI8ZBry"
   },
   "outputs": [],
   "source": [
    "### YOUR CODE HERE ###\n",
    "\n",
    "# Flip the image horizontally (left to right)\n",
    "\n",
    "\n",
    "\n",
    "# Plot the image to show the image is indeed flipped horizontally\n",
    "\n"
   ]
  },
  {
   "cell_type": "code",
   "execution_count": 0,
   "metadata": {
    "colab": {},
    "colab_type": "code",
    "id": "tY0967odCyZs"
   },
   "outputs": [],
   "source": [
    "### YOUR CODE HERE ###\n",
    "\n",
    "# Save newly generated image to the folder\n",
    "\n"
   ]
  },
  {
   "cell_type": "markdown",
   "metadata": {
    "colab_type": "text",
    "id": "exercise-2-key-1"
   },
   "source": [
    "### Answer Key"
   ]
  },
  {
   "cell_type": "markdown",
   "metadata": {
    "colab_type": "text",
    "id": "exercise-2-solution-1"
   },
   "source": [
    "**Solution**"
   ]
  },
  {
   "cell_type": "code",
   "execution_count": 0,
   "metadata": {
    "colab": {},
    "colab_type": "code",
    "id": "3PQosase60Ds"
   },
   "outputs": [],
   "source": [
    "# Flip the image horizontally (left to right)\n",
    "mirror_image = ImageOps.mirror(resized_image)\n",
    "\n",
    "# Plot the image to show the image is indeed flipped horizontally\n",
    "plt.figure(figsize = (1,1))\n",
    "plt.imshow(mirror_image)\n",
    "\n",
    "# Save newly generated image to the folder\n",
    "mirror_image.save('sneaker_image_mirror.jpg')\n"
   ]
  },
  {
   "cell_type": "markdown",
   "metadata": {
    "colab_type": "text",
    "id": "QVzsOf2J849J"
   },
   "source": [
    "**Validation**"
   ]
  },
  {
   "cell_type": "code",
   "execution_count": 0,
   "metadata": {
    "colab": {},
    "colab_type": "code",
    "id": "QonJpF9u86Eg"
   },
   "outputs": [],
   "source": [
    "# TODO"
   ]
  }
 ],
 "metadata": {
  "colab": {
   "collapsed_sections": [
    "copyright",
    "exercise-1-key-1",
    "exercise-2-key-1"
   ],
   "name": "Manipulating an Image in Python",
   "private_outputs": true,
   "provenance": [],
   "toc_visible": true,
   "version": "0.3.2"
  },
  "kernelspec": {
   "display_name": "Python 3",
   "name": "python3"
  }
 },
 "nbformat": 4,
 "nbformat_minor": 0
}
