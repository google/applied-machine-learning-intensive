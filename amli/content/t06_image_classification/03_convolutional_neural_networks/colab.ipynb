{
  "nbformat": 4,
  "nbformat_minor": 0,
  "metadata": {
    "colab": {
      "name": "WIP Convolutional Neural Networks",
      "version": "0.3.2",
      "provenance": [],
      "private_outputs": true,
      "collapsed_sections": [
        "axhMVhTdjZ-7",
        "exercise-9-key-1"
      ],
      "toc_visible": true
    },
    "kernelspec": {
      "name": "python3",
      "display_name": "Python 3"
    }
  },
  "cells": [
    {
      "cell_type": "markdown",
      "metadata": {
        "id": "axhMVhTdjZ-7",
        "colab_type": "text"
      },
      "source": [
        "#### Copyright 2019 Google LLC."
      ]
    },
    {
      "cell_type": "code",
      "metadata": {
        "id": "bpiN4SUKjbOW",
        "colab_type": "code",
        "colab": {}
      },
      "source": [
        "# Licensed under the Apache License, Version 2.0 (the \"License\");\n",
        "# you may not use this file except in compliance with the License.\n",
        "# You may obtain a copy of the License at\n",
        "#\n",
        "# https://www.apache.org/licenses/LICENSE-2.0\n",
        "#\n",
        "# Unless required by applicable law or agreed to in writing, software\n",
        "# distributed under the License is distributed on an \"AS IS\" BASIS,\n",
        "# WITHOUT WARRANTIES OR CONDITIONS OF ANY KIND, either express or implied.\n",
        "# See the License for the specific language governing permissions and\n",
        "# limitations under the License."
      ],
      "execution_count": 0,
      "outputs": []
    },
    {
      "cell_type": "markdown",
      "metadata": {
        "id": "A-ivEsaENhCB",
        "colab_type": "text"
      },
      "source": [
        "# WIP Convolutional Neural Networks"
      ]
    },
    {
      "cell_type": "markdown",
      "metadata": {
        "id": "XqPpkBh3Nnct",
        "colab_type": "text"
      },
      "source": [
        "Convolutional Neural Networks (CNN) are deep neural networks with the addition of two very special types of layers: convolutional layers and pooling layers. Let's take a look at both."
      ]
    },
    {
      "cell_type": "markdown",
      "metadata": {
        "colab_type": "text",
        "id": "Agmd40ZSFOPN"
      },
      "source": [
        "## Overview"
      ]
    },
    {
      "cell_type": "markdown",
      "metadata": {
        "colab_type": "text",
        "id": "rY7emKinFRCr"
      },
      "source": [
        "### Learning Objectives\n",
        "\n",
        "* Introduction to Convolutional Neural Networks\n",
        "* Using TensorFlow to implement CNN"
      ]
    },
    {
      "cell_type": "markdown",
      "metadata": {
        "colab_type": "text",
        "id": "f3-v7hCmGI1K"
      },
      "source": [
        "### Prerequisites\n",
        "\n",
        "* Introduction to TensorFLow\n",
        "* Image Manipulation"
      ]
    },
    {
      "cell_type": "markdown",
      "metadata": {
        "colab_type": "text",
        "id": "w-9f1tPWGNPG"
      },
      "source": [
        "### Estimated Duration\n",
        "\n",
        "60 minutes"
      ]
    },
    {
      "cell_type": "markdown",
      "metadata": {
        "colab_type": "text",
        "id": "eXOYSL4vGQ1r"
      },
      "source": [
        "### Grading Criteria\n",
        "\n",
        "Each exercise is worth 3 points. The rubric for calculating those points is:\n",
        "\n",
        "| Points | Description |\n",
        "|--------|-------------|\n",
        "| 0      | No attempt at exercise |\n",
        "| 1      | Attempted exercise, but code does not run |\n",
        "| 2      | Attempted exercise, code runs, but produces incorrect answer |\n",
        "| 3      | Exercise completed successfully |\n",
        "\n",
        "There is no graded exercise in this Colab so there is 0 points available."
      ]
    },
    {
      "cell_type": "markdown",
      "metadata": {
        "id": "YBKkcm6ROLLn",
        "colab_type": "text"
      },
      "source": [
        "## Convolutional Layers"
      ]
    },
    {
      "cell_type": "markdown",
      "metadata": {
        "id": "537m9PSIONyR",
        "colab_type": "text"
      },
      "source": [
        "Convolutional layers are layers in the network that only partially connect to their input layers. The layer is divided into receptive fields that only look at a portion of the input layer and apply filters to it.\n",
        "\n",
        "Let's see this in action. First, we will create a 100 x 100 x 3 image that contains red vertical stripes centered every 10 pixels on the image."
      ]
    },
    {
      "cell_type": "code",
      "metadata": {
        "id": "PxJ9X6YaH6ta",
        "colab_type": "code",
        "colab": {}
      },
      "source": [
        "import matplotlib.pyplot as plt\n",
        "import numpy as np\n",
        "\n",
        "# Create an image that is completely black\n",
        "vertical_stripes = np.zeros((100, 100, 3))\n",
        "\n",
        "# Loop over the image 10 pixels at a time turning the\n",
        "# center line of vertial pixels red\n",
        "for x in range(4, 101, 10):\n",
        "  vertical_stripes[:, x:x+2, 0] = 255\n",
        "\n",
        "plt.imshow(vertical_stripes)"
      ],
      "execution_count": 0,
      "outputs": []
    },
    {
      "cell_type": "markdown",
      "metadata": {
        "id": "K0uXETOLP6Jc",
        "colab_type": "text"
      },
      "source": [
        "We will now create a filter that we'll apply using TensorFlow's [tf.nn.conv2d](https://www.tensorflow.org/api_docs/python/tf/nn/conv2d) function. For illustrative purposes we'll create a filter to extract the red out of the image we just created.\n",
        "\n",
        "The filter will be 10 x 10 x 3 (remember that our vertical red lines are centered every 10 pixels and that our image has RGB values). The final number in the filter, 1, is the number of output channels we'd like the filter to produce. These output channels are called \"feature maps\". You get one feature map per filter."
      ]
    },
    {
      "cell_type": "code",
      "metadata": {
        "id": "kGs7yR7GLFz5",
        "colab_type": "code",
        "colab": {}
      },
      "source": [
        "receptor_height, receptor_width, input_color_channels, output_color_channels = (10, 10, 3, 1)\n",
        "filters = np.zeros(shape=(receptor_height, receptor_width, input_color_channels, output_color_channels), dtype=np.float32)"
      ],
      "execution_count": 0,
      "outputs": []
    },
    {
      "cell_type": "markdown",
      "metadata": {
        "id": "-APXHrDtRNRy",
        "colab_type": "text"
      },
      "source": [
        "We created our filter and set it to all zeros. We now need to indicate what portion of the receptor field we want to extract data from. In this case we are trying to extract the vertical red line which we know is centered every ten pixels (pixels 5 and 6). To capture the red line we'll tell the filter that we only care about the 5th and 6th pixel in every row of data."
      ]
    },
    {
      "cell_type": "code",
      "metadata": {
        "id": "dL9L8RlsRMho",
        "colab_type": "code",
        "colab": {}
      },
      "source": [
        "filters[:, 5:7, :, 0] = 1"
      ],
      "execution_count": 0,
      "outputs": []
    },
    {
      "cell_type": "markdown",
      "metadata": {
        "id": "ze9FVE1VSBt_",
        "colab_type": "text"
      },
      "source": [
        "Let's now get our image ready to pass to our convolutional layer. To that we package the 3-dimensional image in yet another array to create a dataset for TensorFlow. TensorFlow's convolutional function expects a 4-dimensional dataset."
      ]
    },
    {
      "cell_type": "code",
      "metadata": {
        "id": "wxp8DjcxSKon",
        "colab_type": "code",
        "colab": {}
      },
      "source": [
        "dataset = np.array([vertical_stripes], dtype=np.float32)\n",
        "image_count, image_height, image_width, color_channels = dataset.shape\n",
        "\n",
        "image_count, image_height, image_width, color_channels"
      ],
      "execution_count": 0,
      "outputs": []
    },
    {
      "cell_type": "markdown",
      "metadata": {
        "id": "zS8Vmt-5TAgG",
        "colab_type": "text"
      },
      "source": [
        "To get the image into TensorFlow we need to create a placeholder. We'll create one that can take any number of images (None as the first value of `shape`). We could have also passed in `image_count` since we knew exactly how many images we were processing in this case, but it isn't required."
      ]
    },
    {
      "cell_type": "code",
      "metadata": {
        "id": "y19a0mrfS-cy",
        "colab_type": "code",
        "colab": {}
      },
      "source": [
        "import tensorflow as tf\n",
        "\n",
        "X = tf.placeholder(tf.float32, shape=(None, image_height, image_width, color_channels))"
      ],
      "execution_count": 0,
      "outputs": []
    },
    {
      "cell_type": "markdown",
      "metadata": {
        "id": "0rnO7icvTkYm",
        "colab_type": "text"
      },
      "source": [
        "To create our convolutional layer we use [tf.nn.conv2d](https://www.tensorflow.org/api_docs/python/tf/nn/conv2d). The arguments we are passing it are:\n",
        "\n",
        "*  Our placeholder that we'll use to pass data into the layer.\n",
        "*  The filters that we want to apply to the data. In this case we are passing in the filter that will capture the middle vertical pixels in a 10x10 receptor.\n",
        "*  The strides we want the layer to take when operating on the data. In this case we want the input data to be processed for every image (the first 1) and every color channel (the last 1). The 10s cause the receptor to shift by 10 pixels every vertical and horizontal step through the image. This is exactly our filter size and allows us to stay centered on the red vertical lines. In practice you'd likely want some overlap.\n",
        "*  A padding argument. In this case we chose \"SAME\" which causes TensorFlow to pad the image if necessary (equal padding on each size) in order to make the filter process the entire image."
      ]
    },
    {
      "cell_type": "code",
      "metadata": {
        "id": "JAVxgudyTjtX",
        "colab_type": "code",
        "colab": {}
      },
      "source": [
        "convolution = tf.nn.conv2d(X, filters, strides=[1,10,10,1], padding=\"SAME\")"
      ],
      "execution_count": 0,
      "outputs": []
    },
    {
      "cell_type": "markdown",
      "metadata": {
        "id": "sbdSrKvCUmob",
        "colab_type": "text"
      },
      "source": [
        "We can now run our convolutional layer using a TensorFlow session.\n",
        "\n",
        "Notice that our output shape reduces the input image to a 10 x 10 x 1 matrix from a 100 x 100 x 3 matrix. This is because we processed the image using a 10 x 10 single-channel-output filter and stepped 10 pixels each time. "
      ]
    },
    {
      "cell_type": "code",
      "metadata": {
        "id": "JwRTfa2WLham",
        "colab_type": "code",
        "colab": {}
      },
      "source": [
        "with tf.Session() as sess:\n",
        "  output = sess.run(convolution, feed_dict={X: dataset})\n",
        "\n",
        "output.shape"
      ],
      "execution_count": 0,
      "outputs": []
    },
    {
      "cell_type": "markdown",
      "metadata": {
        "id": "pnS92oLHWK2u",
        "colab_type": "text"
      },
      "source": [
        "Looking at the image isn't very telling. It simply looks like a single-color image."
      ]
    },
    {
      "cell_type": "code",
      "metadata": {
        "id": "a16GKcd9M4_i",
        "colab_type": "code",
        "colab": {}
      },
      "source": [
        "plt.imshow(output[0, :, :, 0 ])"
      ],
      "execution_count": 0,
      "outputs": []
    },
    {
      "cell_type": "markdown",
      "metadata": {
        "id": "ynnmYDmDWTdQ",
        "colab_type": "text"
      },
      "source": [
        "If you look at the data you can see that the values are uniformly 2550."
      ]
    },
    {
      "cell_type": "code",
      "metadata": {
        "id": "Q8Q-xZ0_WSad",
        "colab_type": "code",
        "colab": {}
      },
      "source": [
        "np.unique(output)"
      ],
      "execution_count": 0,
      "outputs": []
    },
    {
      "cell_type": "markdown",
      "metadata": {
        "id": "anfmmmNtYAWQ",
        "colab_type": "text"
      },
      "source": [
        "What happens if we include some black pixels by increasing our vertical filter to capture the four vertical pixels in the center? Our output number changes to 5100.\n"
      ]
    },
    {
      "cell_type": "code",
      "metadata": {
        "id": "1LEydsmQXepS",
        "colab_type": "code",
        "colab": {}
      },
      "source": [
        "filters = np.zeros(shape=(receptor_height, receptor_width, input_color_channels, output_color_channels), dtype=np.float32)\n",
        "filters[:, 4:8, :, :] = 1\n",
        "\n",
        "X = tf.placeholder(tf.float32, shape=(None, image_height, image_width, color_channels))\n",
        "convolution = tf.nn.conv2d(X, filters, strides=[1,10,10,1], padding=\"SAME\")\n",
        "\n",
        "with tf.Session() as sess:\n",
        "  output = sess.run(convolution, feed_dict={X: dataset})\n",
        "\n",
        "np.unique(output)"
      ],
      "execution_count": 0,
      "outputs": []
    },
    {
      "cell_type": "markdown",
      "metadata": {
        "id": "Wqz32nZMYk7-",
        "colab_type": "text"
      },
      "source": [
        "If we move our filter to only capture black pixels our output becomes 0."
      ]
    },
    {
      "cell_type": "code",
      "metadata": {
        "id": "OH3g9ZFiXyDo",
        "colab_type": "code",
        "colab": {}
      },
      "source": [
        "filters = np.zeros(shape=(receptor_height, receptor_width, input_color_channels, output_color_channels), dtype=np.float32)\n",
        "filters[:, :2, :, :] = 1\n",
        "\n",
        "X = tf.placeholder(tf.float32, shape=(None, image_height, image_width, color_channels))\n",
        "convolution = tf.nn.conv2d(X, filters, strides=[1,10,10,1], padding=\"SAME\")\n",
        "\n",
        "with tf.Session() as sess:\n",
        "  output = sess.run(convolution, feed_dict={X: dataset})\n",
        "\n",
        "np.unique(output)"
      ],
      "execution_count": 0,
      "outputs": []
    },
    {
      "cell_type": "markdown",
      "metadata": {
        "id": "eDDOOkvsZLRG",
        "colab_type": "text"
      },
      "source": [
        "Let's look at a convolutional layer on a real image. We'll load a sample image from Scikit Learn."
      ]
    },
    {
      "cell_type": "code",
      "metadata": {
        "id": "QoIJALbzZP48",
        "colab_type": "code",
        "colab": {}
      },
      "source": [
        "from sklearn.datasets import load_sample_image\n",
        "\n",
        "china = load_sample_image('china.jpg')\n",
        "\n",
        "plt.imshow(china)"
      ],
      "execution_count": 0,
      "outputs": []
    },
    {
      "cell_type": "markdown",
      "metadata": {
        "id": "xsVJwfWcZWFz",
        "colab_type": "text"
      },
      "source": [
        "We will package the image in a 4-dimensional matrix for processing by TensorFlow."
      ]
    },
    {
      "cell_type": "code",
      "metadata": {
        "id": "zqzNI8cwZb4q",
        "colab_type": "code",
        "colab": {}
      },
      "source": [
        "dataset = np.array([china], dtype=np.float32)\n",
        "image_count, image_height, image_width, color_channels = dataset.shape\n",
        "\n",
        "image_count, image_height, image_width, color_channels"
      ],
      "execution_count": 0,
      "outputs": []
    },
    {
      "cell_type": "markdown",
      "metadata": {
        "id": "kdL-m32vZh5a",
        "colab_type": "text"
      },
      "source": [
        "Let's re-create our vertical line filter and apply it to the image to see the convolutional layer in action."
      ]
    },
    {
      "cell_type": "code",
      "metadata": {
        "id": "GiOxub1oY_Pb",
        "colab_type": "code",
        "colab": {}
      },
      "source": [
        "receptor_height, receptor_width, input_color_channels, output_color_channels = (10, 10, 3, 1)\n",
        "filters = np.zeros(shape=(receptor_height, receptor_width, input_color_channels, output_color_channels), dtype=np.float32)\n",
        "filters[:, 5:7, :, :] = 1\n",
        "\n",
        "image_count, image_height, image_width, color_channels = dataset.shape\n",
        "X = tf.placeholder(tf.float32, shape=(None, image_height, image_width, color_channels))\n",
        "\n",
        "convolution = tf.nn.conv2d(X, filters, strides=[1,4,4,1], padding=\"SAME\")\n",
        "\n",
        "with tf.Session() as sess:\n",
        "  output = sess.run(convolution, feed_dict={X: dataset})\n",
        "\n",
        "plt.imshow(output[0, :, :, 0], cmap=\"gray\")\n",
        "plt.show()"
      ],
      "execution_count": 0,
      "outputs": []
    },
    {
      "cell_type": "markdown",
      "metadata": {
        "id": "Zh-uhsWqcfUD",
        "colab_type": "text"
      },
      "source": [
        "Typically you won't define your own filters though. You can let TensorFlow discover them by using [tf.layers.conv2d](https://www.tensorflow.org/api_docs/python/tf/layers/conv2d) instead of [tf.nn.conv2d](https://www.tensorflow.org/api_docs/python/tf/nn/conv2d).\n",
        "\n",
        "In this example we ask for three features with a 5x5 visual receptor stepping two pixels at a time."
      ]
    },
    {
      "cell_type": "code",
      "metadata": {
        "id": "ufZGmFneaTfE",
        "colab_type": "code",
        "colab": {}
      },
      "source": [
        "image_count, image_height, image_width, color_channels = dataset.shape\n",
        "X = tf.placeholder(tf.float32, shape=(None, image_height, image_width, color_channels))\n",
        "\n",
        "convolution = tf.layers.conv2d(X, filters=3, kernel_size=5, strides=[2,2], padding=\"SAME\")\n",
        "\n",
        "with tf.Session() as sess:\n",
        "  sess.run(tf.global_variables_initializer())\n",
        "  output = sess.run(convolution, feed_dict={X: dataset})"
      ],
      "execution_count": 0,
      "outputs": []
    },
    {
      "cell_type": "markdown",
      "metadata": {
        "id": "eVRW0OmFjJds",
        "colab_type": "text"
      },
      "source": [
        "Let's look at the first feature map."
      ]
    },
    {
      "cell_type": "code",
      "metadata": {
        "id": "AVy5abuBjIIZ",
        "colab_type": "code",
        "colab": {}
      },
      "source": [
        "plt.imshow(output[0, :, :, 0])\n",
        "plt.show()"
      ],
      "execution_count": 0,
      "outputs": []
    },
    {
      "cell_type": "markdown",
      "metadata": {
        "id": "NiKLRKzui1Qz",
        "colab_type": "text"
      },
      "source": [
        "Here is the second feature map."
      ]
    },
    {
      "cell_type": "code",
      "metadata": {
        "id": "HD7LNVBRiw4y",
        "colab_type": "code",
        "colab": {}
      },
      "source": [
        "plt.imshow(output[0, :, :, 1])\n",
        "plt.show()"
      ],
      "execution_count": 0,
      "outputs": []
    },
    {
      "cell_type": "markdown",
      "metadata": {
        "id": "LN0iB6JNi4Ox",
        "colab_type": "text"
      },
      "source": [
        "And the third."
      ]
    },
    {
      "cell_type": "code",
      "metadata": {
        "id": "WoLh4DO4iy74",
        "colab_type": "code",
        "colab": {}
      },
      "source": [
        "plt.imshow(output[0, :, :, 2])\n",
        "plt.show()"
      ],
      "execution_count": 0,
      "outputs": []
    },
    {
      "cell_type": "markdown",
      "metadata": {
        "id": "Wc3X_R2ac_g9",
        "colab_type": "text"
      },
      "source": [
        "## Pooling Layers"
      ]
    },
    {
      "cell_type": "markdown",
      "metadata": {
        "id": "ri1rpacidD3k",
        "colab_type": "text"
      },
      "source": [
        "Pooling layers are simply used to shrink the data from their input layer by sampling the data per receptor. Let's look at an example. We'll first load a sample image."
      ]
    },
    {
      "cell_type": "code",
      "metadata": {
        "id": "lJiUonz2dmnP",
        "colab_type": "code",
        "colab": {}
      },
      "source": [
        "flower = load_sample_image('flower.jpg')\n",
        "\n",
        "plt.imshow(flower)\n",
        "plt.show()"
      ],
      "execution_count": 0,
      "outputs": []
    },
    {
      "cell_type": "markdown",
      "metadata": {
        "id": "YsFrv0BCdrPX",
        "colab_type": "text"
      },
      "source": [
        "We can package this image in a 4-dimensional matrix and pass it to the [tf.nn.max_pool](https://www.tensorflow.org/api_docs/python/tf/nn/max_pool) function. This function extracts the maximum value from each receptor field.\n",
        "\n",
        "In the example below we create a 2 x 2 receptor (ksize) and move it around the image shifting 2 pixels each time. This reduces the height and width of the image by half, effectively reducing our dataset size by 75%."
      ]
    },
    {
      "cell_type": "code",
      "metadata": {
        "id": "J_8YirYZswEH",
        "colab_type": "code",
        "colab": {}
      },
      "source": [
        "dataset = np.array([flower], dtype=np.float32)\n",
        "image_count, image_height, image_width, color_channels = dataset.shape\n",
        "\n",
        "X = tf.placeholder(tf.float32, shape=(None, image_height, image_width, color_channels))\n",
        "max_pool = tf.nn.max_pool(X, ksize=[1,2,2,1], strides=[1,2,2,1], padding=\"VALID\")\n",
        "\n",
        "with tf.Session() as sess:\n",
        "  output = sess.run(max_pool, feed_dict={X: dataset})\n",
        "\n",
        "plt.imshow(output[0].astype(np.uint8))\n",
        "plt.show()"
      ],
      "execution_count": 0,
      "outputs": []
    },
    {
      "cell_type": "markdown",
      "metadata": {
        "id": "TChNDQJ2e0X4",
        "colab_type": "text"
      },
      "source": [
        "# Exercises"
      ]
    },
    {
      "cell_type": "markdown",
      "metadata": {
        "id": "yWwPocAWentg",
        "colab_type": "text"
      },
      "source": [
        "## Exercise 1: Challenge (Ungraded)"
      ]
    },
    {
      "cell_type": "markdown",
      "metadata": {
        "id": "JD9H1pj9vK9z",
        "colab_type": "text"
      },
      "source": [
        "Use [tf.nn.conv2d](https://www.tensorflow.org/api_docs/python/tf/nn/conv2d) to apply a stack of filters to the Scikit Learn built in flower image mentioned earlier in this colab.\n",
        "\n",
        "* Create a (7, 7, 3, 2) filter set. The `2` on the end indicates that we'll create two filters and get two output channels (feature maps).\n",
        "* Make the first filter be a vertical line filter on the middle pixel of each row.\n",
        "* Make the second filter be a horizontal line filter on the middle pixel of each row.\n",
        "* Pass the flower image and filters to [tf.nn.conv2d](https://www.tensorflow.org/api_docs/python/tf/nn/conv2d), step 3 pixels vertically and horizontally.\n",
        "* Display the first feature map as an image.\n",
        "* Display the second feature map as an image."
      ]
    },
    {
      "cell_type": "markdown",
      "metadata": {
        "colab_type": "text",
        "id": "QK1tz626LjZU"
      },
      "source": [
        "### Student Solution"
      ]
    },
    {
      "cell_type": "code",
      "metadata": {
        "id": "PlBg4KCAgumu",
        "colab_type": "code",
        "colab": {}
      },
      "source": [
        "# Create your filters and apply them to the flower image using TensorFlow here.\n",
        "\n",
        "\n",
        "\n",
        "# Use PyPlot to output the first feature map here.\n",
        "\n",
        "\n",
        "\n",
        "# Use PyPlot to output the second feature map here."
      ],
      "execution_count": 0,
      "outputs": []
    },
    {
      "cell_type": "markdown",
      "metadata": {
        "colab_type": "text",
        "id": "exercise-9-key-1"
      },
      "source": [
        "### Answer Key"
      ]
    },
    {
      "cell_type": "markdown",
      "metadata": {
        "colab_type": "text",
        "id": "exercise-9-solution-1"
      },
      "source": [
        "**Solution**"
      ]
    },
    {
      "cell_type": "code",
      "metadata": {
        "colab_type": "code",
        "id": "thpPZba4CCtP",
        "colab": {}
      },
      "source": [
        "# TODO"
      ],
      "execution_count": 0,
      "outputs": []
    },
    {
      "cell_type": "markdown",
      "metadata": {
        "colab_type": "text",
        "id": "dOwVBjU5Lq41"
      },
      "source": [
        "**Validation**"
      ]
    },
    {
      "cell_type": "code",
      "metadata": {
        "colab_type": "code",
        "id": "N-RroA16LsCm",
        "colab": {}
      },
      "source": [
        "# TODO"
      ],
      "execution_count": 0,
      "outputs": []
    }
  ]
}