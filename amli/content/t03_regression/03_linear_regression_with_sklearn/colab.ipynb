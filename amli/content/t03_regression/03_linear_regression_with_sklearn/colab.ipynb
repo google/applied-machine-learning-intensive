{
  "nbformat": 4,
  "nbformat_minor": 0,
  "metadata": {
    "colab": {
      "name": "Linear Regression With scikit-learn",
      "version": "0.3.2",
      "provenance": [],
      "private_outputs": true,
      "collapsed_sections": [
        "copyright",
        "lY0RT_8fGgD1",
        "Nwo_ivq3IuZB",
        "K-aV3H3vJcjm",
        "exercise-1-key-1",
        "exercise-2-key-1",
        "exercise-3-key-1",
        "exercise-4-key-1",
        "exercise-5-key-1",
        "exercise-6-key-1",
        "exercise-7-key-1",
        "exercise-8-key-1",
        "exercise-9-key-1",
        "exercise-10-key-1"
      ],
      "toc_visible": true
    },
    "kernelspec": {
      "display_name": "Python 3",
      "name": "python3"
    }
  },
  "cells": [
    {
      "cell_type": "markdown",
      "metadata": {
        "colab_type": "text",
        "id": "copyright"
      },
      "source": [
        "#### Copyright 2018 Google LLC."
      ]
    },
    {
      "cell_type": "code",
      "metadata": {
        "colab_type": "code",
        "id": "GTcSKOCAomf-",
        "colab": {}
      },
      "source": [
        "# Licensed under the Apache License, Version 2.0 (the \"License\");\n",
        "# you may not use this file except in compliance with the License.\n",
        "# You may obtain a copy of the License at\n",
        "#\n",
        "# https://www.apache.org/licenses/LICENSE-2.0\n",
        "#\n",
        "# Unless required by applicable law or agreed to in writing, software\n",
        "# distributed under the License is distributed on an \"AS IS\" BASIS,\n",
        "# WITHOUT WARRANTIES OR CONDITIONS OF ANY KIND, either express or implied.\n",
        "# See the License for the specific language governing permissions and\n",
        "# limitations under the License."
      ],
      "execution_count": 0,
      "outputs": []
    },
    {
      "cell_type": "markdown",
      "metadata": {
        "colab_type": "text",
        "id": "Lsn0Av7YmMza"
      },
      "source": [
        "# Linear Regression With scikit-learn"
      ]
    },
    {
      "cell_type": "markdown",
      "metadata": {
        "colab_type": "text",
        "id": "Lsn0Ag7YmMza"
      },
      "source": [
        "We have learned about linear regression in theory, now let's put our newly found skills into practice. In this Colab we will create multiple linear regression models using the scikit-learn toolkit."
      ]
    },
    {
      "cell_type": "markdown",
      "metadata": {
        "colab_type": "text",
        "id": "overview"
      },
      "source": [
        "## Overview"
      ]
    },
    {
      "cell_type": "markdown",
      "metadata": {
        "colab_type": "text",
        "id": "Pa-sPusPmfma"
      },
      "source": [
        "### Learning Objectives\n",
        "\n",
        "* Create a closed-formed linear regression model\n",
        "* Create a linear regression model using an optimizer"
      ]
    },
    {
      "cell_type": "markdown",
      "metadata": {
        "colab_type": "text",
        "id": "yTy09bOmmwAb"
      },
      "source": [
        "### Prerequisites\n",
        "\n",
        "* Introduction to Colab\n",
        "* Intermediate Python\n",
        "* Introduction to Pandas\n",
        "* Visualizations\n",
        "* Introduction to scikit-learn"
      ]
    },
    {
      "cell_type": "markdown",
      "metadata": {
        "colab_type": "text",
        "id": "mt_cA20cm2wt"
      },
      "source": [
        "### Estimated Duration\n",
        "\n",
        "60 minutes"
      ]
    },
    {
      "cell_type": "markdown",
      "metadata": {
        "colab_type": "text",
        "id": "-AwNxbgom3kr"
      },
      "source": [
        "### Grading Criteria\n",
        "\n",
        "Each exercise is worth 3 points. The rubric for calculating those points is:\n",
        "\n",
        "| Points | Description |\n",
        "|--------|-------------|\n",
        "| 0      | No attempt at exercise |\n",
        "| 1      | Attempted exercise, but code does not run |\n",
        "| 2      | Attempted exercise, code runs, but produces incorrect answer |\n",
        "| 3      | Exercise completed successfully |\n",
        "\n",
        "There is 1 exercises in this Colab so there are 3 points available. The grading scale will be 3 points."
      ]
    },
    {
      "cell_type": "markdown",
      "metadata": {
        "colab_type": "text",
        "id": "VWTTVoS4OoQ2"
      },
      "source": [
        "# Creating a dataset\n",
        "\n",
        "In this colab we will examine different methods of applying a linear regression to a data set. Calculating a linear regression can be done with a simple equation if the data is small enough. If the data is large, there are methods to calculate the regression using sampling and/or batching.\n",
        "\n",
        "But before we get started, let's create some sample data to perform our regression on. The code below creates 1000 data points."
      ]
    },
    {
      "cell_type": "code",
      "metadata": {
        "colab_type": "code",
        "id": "6_TyEuBi_qul",
        "colab": {}
      },
      "source": [
        "import numpy as np\n",
        "\n",
        "np.random.seed(312)\n",
        "\n",
        "# The size of the dataset that we'll be using to perform our linear regression.\n",
        "DATA_SET_SIZE = 1000\n",
        "\n",
        "# The maximum value of the x coordinate. The range of values of X will be\n",
        "# (0, X_MAX).\n",
        "X_MAX = 5\n",
        "\n",
        "# The Y-intercept is one of the \"secret\" values that we'll be trying to predict\n",
        "# via linear regression.\n",
        "INTERCEPT = 4\n",
        "\n",
        "# The slope is another value that we'll be trying to predict using linear\n",
        "# regression.\n",
        "SLOPE = 3\n",
        "\n",
        "# Generate the x-coordinates for our dataset.\n",
        "coffee = X_MAX * np.random.rand(DATA_SET_SIZE, 1)\n",
        "\n",
        "# Generate the y-coordinates for our dataset using the linear equation\n",
        "# y = mx + b.\n",
        "energy = SLOPE * coffee + INTERCEPT"
      ],
      "execution_count": 0,
      "outputs": []
    },
    {
      "cell_type": "markdown",
      "metadata": {
        "colab_type": "text",
        "id": "cAsf4qWOSQfP"
      },
      "source": [
        "Let's take a look at the data set that was just generated."
      ]
    },
    {
      "cell_type": "code",
      "metadata": {
        "colab_type": "code",
        "id": "QcnLIrlBRWS5",
        "colab": {}
      },
      "source": [
        "import matplotlib\n",
        "import matplotlib.pyplot as plt\n",
        "\n",
        "plt.plot(coffee, energy, 'b.')\n",
        "plt.show()"
      ],
      "execution_count": 0,
      "outputs": []
    },
    {
      "cell_type": "markdown",
      "metadata": {
        "colab_type": "text",
        "id": "o9_bV-puRYsM"
      },
      "source": [
        "The data does indeed have an x range from zero to our max x value. Notice that the y-intercept and slope match our seeded values.\n",
        "\n",
        "This data looks nothing like we'd see in the real world though. It would be trivial to fit a line to the data as is. Let's add a little randomness to the data to make it more realistic."
      ]
    },
    {
      "cell_type": "code",
      "metadata": {
        "colab_type": "code",
        "id": "hIidIGmLR2QG",
        "colab": {}
      },
      "source": [
        "energy = energy + 2 * np.random.randn(DATA_SET_SIZE, 1)\n",
        "\n",
        "plt.plot(coffee, energy, 'b.')\n",
        "plt.show()"
      ],
      "execution_count": 0,
      "outputs": []
    },
    {
      "cell_type": "markdown",
      "metadata": {
        "colab_type": "text",
        "id": "_teA7dekSCbu"
      },
      "source": [
        "That's much better! There is still a linear trend to the data, but there is also much more noise."
      ]
    },
    {
      "cell_type": "markdown",
      "metadata": {
        "colab_type": "text",
        "id": "TftzlfnrS9jp"
      },
      "source": [
        "# The Normal Equation\n",
        "\n",
        "If the dataset being processed is small enough, then the Normal Equation can be used to calculate the slope and y-intercept of the regression line in-memory. The normal equation can easily be written in NumPy as seen below."
      ]
    },
    {
      "cell_type": "code",
      "metadata": {
        "colab_type": "code",
        "id": "6dHn3z3dC0R3",
        "colab": {}
      },
      "source": [
        "# x is a Nx1 matrix containing our x-values. The first step in calculating the\n",
        "# Normal Equation is to create an Nx2 matrix where each \"row\" has the value 1\n",
        "# and the x value.\n",
        "coffee_ = np.c_[np.ones((DATA_SET_SIZE, 1)), coffee]\n",
        "\n",
        "norm = np.linalg.inv(coffee_.T.dot(coffee_)).dot(coffee_.T).dot(energy)\n",
        "\n",
        "calculated_intercept = norm[0][0]\n",
        "calculated_slope = norm[1][0]\n",
        "\n",
        "print(\"Calculated slope {} vs actual {}\".format(calculated_slope, SLOPE))\n",
        "print(\"Calculated intercept {} vs actual {}\".format(calculated_intercept, INTERCEPT))"
      ],
      "execution_count": 0,
      "outputs": []
    },
    {
      "cell_type": "markdown",
      "metadata": {
        "colab_type": "text",
        "id": "BVNp6DfEWFzy"
      },
      "source": [
        "Not bad! The random noise we added to the data prevented us from exactly predicting the slope and intercept, but our calculations were pretty close.\n",
        "\n",
        "We can now use these values to make predictions."
      ]
    },
    {
      "cell_type": "code",
      "metadata": {
        "colab_type": "code",
        "id": "8w9L1n4tD3Ol",
        "colab": {}
      },
      "source": [
        "# Create a (5,1) matrix of containing values to make predictions on.\n",
        "coffee_ = np.array([[0.34], [1.65], [2.45], [3.78], [4.56]])\n",
        "\n",
        "# Convert the matrix to a (5, 2) matrix with 1s in the first column\n",
        "# in order to perform a dot-product against the calculated slope and\n",
        "# intercept.\n",
        "coffee_predict = np.c_[np.ones((5, 1)), coffee_]\n",
        "\n",
        "# Make the predictions\n",
        "energy_predict = coffee_predict.dot(norm)\n",
        "\n",
        "# Plot the original data as blue dots.\n",
        "plt.plot(coffee, energy, 'b.')\n",
        "\n",
        "# Plot the predictions as red dots.\n",
        "plt.plot(coffee_, energy_predict, 'r.')\n",
        "plt.show()"
      ],
      "execution_count": 0,
      "outputs": []
    },
    {
      "cell_type": "markdown",
      "metadata": {
        "colab_type": "text",
        "id": "r2dvyzHEYLOm"
      },
      "source": [
        "If we want to plot the calculated line we can ask for the prediction at the min and max values for x and plot the line."
      ]
    },
    {
      "cell_type": "code",
      "metadata": {
        "colab_type": "code",
        "id": "U9g-KRzoYUpH",
        "colab": {}
      },
      "source": [
        "coffee_ = np.array([[0.0], [X_MAX]])\n",
        "coffee_predict = np.c_[np.ones((2,1)), coffee_]\n",
        "energy_predict = coffee_predict.dot(norm)\n",
        "\n",
        "plt.plot(coffee, energy, 'b.')\n",
        "plt.plot(coffee_, energy_predict, 'r-')\n",
        "plt.show()"
      ],
      "execution_count": 0,
      "outputs": []
    },
    {
      "cell_type": "markdown",
      "metadata": {
        "colab_type": "text",
        "id": "2nqG8-MEc1SL"
      },
      "source": [
        "# Challenge: Optimized Normal Equation\n",
        "\n",
        "It turns out that the math operations used to calculate the Normal Equation are quite expensive. We'll explore other methods of performing a linear regression soon, but there is a purely mathematical optimization that has been discovered. The equation uses the pseudoinverse of the input matrix to predict y.\n",
        "\n",
        "> $\\hat{\\theta} = X^+y$\n",
        "\n",
        "Find the NumPy function that calculates the pseudoinverse of a matrix and then use that function to write a more optimal method for finding the slope and intercept for a linear regression in memory."
      ]
    },
    {
      "cell_type": "code",
      "metadata": {
        "colab_type": "code",
        "id": "0ANUfb9xE412",
        "colab": {}
      },
      "source": [
        "coffee_ = np.c_[np.ones((DATA_SET_SIZE, 1)), coffee]\n",
        "\n",
        "norm2 = [[0], [0]] # Update this line to perform an in-memory calculation of a\n",
        "                   # linear regression using the optimized equation in the place\n",
        "                   # of the [[0], [0]] matrix.\n",
        "\n",
        "calculated_intercept2 = norm2[0][0] \n",
        "calculated_slope2 = norm2[1][0]\n",
        "\n",
        "EPSILON = 0.00001\n",
        "if abs(calculated_slope - calculated_slope2) < EPSILON and abs(calculated_intercept - calculated_intercept2) < EPSILON:\n",
        "  print(\"You win!\")\n",
        "else:\n",
        "  print(\"Try again :(\")"
      ],
      "execution_count": 0,
      "outputs": []
    },
    {
      "cell_type": "markdown",
      "metadata": {
        "id": "lY0RT_8fGgD1",
        "colab_type": "text"
      },
      "source": [
        "### Answer Key"
      ]
    },
    {
      "cell_type": "markdown",
      "metadata": {
        "id": "M4KMSj7aGifC",
        "colab_type": "text"
      },
      "source": [
        "**Solution**"
      ]
    },
    {
      "cell_type": "code",
      "metadata": {
        "id": "z-19ioHvGo7Q",
        "colab_type": "code",
        "colab": {}
      },
      "source": [
        "from numpy.linalg import pinv\n",
        "\n",
        "coffee_ = np.c_[np.ones((DATA_SET_SIZE, 1)), coffee]\n",
        "\n",
        "norm2 = pinv(coffee_).dot(energy)\n",
        "\n",
        "calculated_intercept2 = norm2[0][0] \n",
        "calculated_slope2 = norm2[1][0]"
      ],
      "execution_count": 0,
      "outputs": []
    },
    {
      "cell_type": "markdown",
      "metadata": {
        "id": "Kq4yUViOGkyM",
        "colab_type": "text"
      },
      "source": [
        "**Validation**"
      ]
    },
    {
      "cell_type": "code",
      "metadata": {
        "id": "7nk0jSo2Gmjl",
        "colab_type": "code",
        "colab": {}
      },
      "source": [
        "EPSILON = 0.00001\n",
        "if abs(calculated_slope - calculated_slope2) >= EPSILON:\n",
        "  raise Exception(f'calculated slope of {calculated_slope2} is too far from {calculated_slope}')\n",
        "if abs(calculated_intercept - calculated_intercept2) >= EPSILON:\n",
        "  raise Exception(f'calculated intercept of {calculated_intercept2} is too far from {calculated_intercept}')\n",
        "print(\"LGTM\")"
      ],
      "execution_count": 0,
      "outputs": []
    },
    {
      "cell_type": "markdown",
      "metadata": {
        "colab_type": "text",
        "id": "pH3KFfPAdROS"
      },
      "source": [
        "# Linear Regression in SciKit Learn\n",
        "\n",
        "Using NumPy to calculate the slope and intercept for a linear regression isn't difficult, but it can be error-prone. Luckily you won't have to perform these calculations directly in most cases. SciKit Learn performs the optimized in-memory calculations that we just created above in its LinearRegression implementation."
      ]
    },
    {
      "cell_type": "code",
      "metadata": {
        "colab_type": "code",
        "id": "372l9BTOFD09",
        "colab": {}
      },
      "source": [
        "from sklearn.linear_model import LinearRegression\n",
        "\n",
        "lin_reg = LinearRegression()\n",
        "lin_reg.fit(coffee, energy)\n",
        "lin_reg.coef_, lin_reg.intercept_"
      ],
      "execution_count": 0,
      "outputs": []
    },
    {
      "cell_type": "markdown",
      "metadata": {
        "colab_type": "text",
        "id": "Dw-MgHUWeM9C"
      },
      "source": [
        "Notice that the slope (SciKit Learn calls this coef_) and intercept are the same values that we calculated above manually."
      ]
    },
    {
      "cell_type": "markdown",
      "metadata": {
        "colab_type": "text",
        "id": "ZDO1af98ehT2"
      },
      "source": [
        "We can use this slope and intercept to predict y values given x values."
      ]
    },
    {
      "cell_type": "code",
      "metadata": {
        "colab_type": "code",
        "id": "cCBGwUFlFQf8",
        "colab": {}
      },
      "source": [
        "coffee_ = np.array([[0.34], [1.65], [2.45], [3.78], [4.56]])\n",
        "\n",
        "energy_predict = lin_reg.predict(coffee_)\n",
        "energy_predict"
      ],
      "execution_count": 0,
      "outputs": []
    },
    {
      "cell_type": "markdown",
      "metadata": {
        "colab_type": "text",
        "id": "wkgl5O1ke_9_"
      },
      "source": [
        "Plotting these values we see they are the same that were predicted by our manual process."
      ]
    },
    {
      "cell_type": "code",
      "metadata": {
        "colab_type": "code",
        "id": "79D5EP8CfEZ6",
        "colab": {}
      },
      "source": [
        "plt.plot(coffee, energy, 'b.')\n",
        "plt.plot(coffee_, energy_predict, 'r.')\n",
        "plt.show()"
      ],
      "execution_count": 0,
      "outputs": []
    },
    {
      "cell_type": "markdown",
      "metadata": {
        "colab_type": "text",
        "id": "2k_FnFl9fTVR"
      },
      "source": [
        "And we can calculate two points and use those to draw the regression line."
      ]
    },
    {
      "cell_type": "code",
      "metadata": {
        "colab_type": "code",
        "id": "N1IdQ92Yfa64",
        "colab": {}
      },
      "source": [
        "coffee_ = np.array([[0.0], [5.0]])\n",
        "energy_predict = lin_reg.predict(coffee_)\n",
        "\n",
        "plt.plot(coffee, energy, 'b.')\n",
        "plt.plot(coffee_, energy_predict, 'r-')\n",
        "plt.show()"
      ],
      "execution_count": 0,
      "outputs": []
    },
    {
      "cell_type": "markdown",
      "metadata": {
        "colab_type": "text",
        "id": "-IbhNb9sfoXc"
      },
      "source": [
        "# Stochastic Gradient Descent\n",
        "\n",
        "It is not always practical to compute the linear regression using the entire training data set. For cases where training using the entire set is impractical the stochastic gradient descent method can be used. In SciKit Learn this is as simple as using the SGDRegressor."
      ]
    },
    {
      "cell_type": "code",
      "metadata": {
        "colab_type": "code",
        "id": "_1ad3bCyHFHY",
        "colab": {}
      },
      "source": [
        "from sklearn.linear_model import SGDRegressor\n",
        "\n",
        "# Create a new Stochastic Gradient Descent regressor\n",
        "sgd_reg = SGDRegressor()\n",
        "\n",
        "# Fit the model\n",
        "sgd_reg.fit(coffee, energy.ravel())\n",
        "\n",
        "# Display the slope and intercept\n",
        "sgd_reg.coef_, sgd_reg.intercept_"
      ],
      "execution_count": 0,
      "outputs": []
    },
    {
      "cell_type": "markdown",
      "metadata": {
        "colab_type": "text",
        "id": "HiPCUcIog3Tv"
      },
      "source": [
        "You might notice that the slope and intercept aren't nearly as accurate as what we were getting when processing the entire dataset. This is because the SGDRegressor is only using a subset of the training data."
      ]
    },
    {
      "cell_type": "markdown",
      "metadata": {
        "colab_type": "text",
        "id": "6070sBV2hGwZ"
      },
      "source": [
        "Let's take a look at the regression line calculated by the full linear regressor and the SGD one."
      ]
    },
    {
      "cell_type": "code",
      "metadata": {
        "colab_type": "code",
        "id": "v0tqrFIlhO4f",
        "colab": {}
      },
      "source": [
        "coffee_ = np.array([[0.0], [5.0]])\n",
        "\n",
        "lin_predict = lin_reg.predict(coffee_)\n",
        "sgd_predict = sgd_reg.predict(coffee_)\n",
        "\n",
        "plt.plot(coffee, energy, 'b.')\n",
        "plt.plot(coffee_, lin_predict, 'r-')\n",
        "plt.plot(coffee_, sgd_predict, 'g-')\n",
        "plt.show()"
      ],
      "execution_count": 0,
      "outputs": []
    },
    {
      "cell_type": "markdown",
      "metadata": {
        "colab_type": "text",
        "id": "IYeviiuNi_Ut"
      },
      "source": [
        "# Challenge: Regressor Parameters\n",
        "\n",
        "The SGDRegressor has many parameters that can be tuned. Out-of-the-box, our regressor didn't do that well. Let's see if we can tune some of the parameters of the regressor to get its predicted values for the slope and intercept closer to those we predicted using the entire data set.\n",
        "\n",
        "Check out the [SGDRegressor documentation](https://scikit-learn.org/stable/modules/generated/sklearn.linear_model.SGDRegressor.html) and look over the parameters available. Pay special attention to parameters related to learning rate and iterations over the data. See if you can tweak the parameters to get with epsilon of our calculated values below. Think about why your changes worked."
      ]
    },
    {
      "cell_type": "code",
      "metadata": {
        "colab_type": "code",
        "id": "Cszel2xOhsXm",
        "colab": {}
      },
      "source": [
        "np.random.seed(1)\n",
        "\n",
        "sgd_reg = SGDRegressor() # Update the parameters to SGDRegressor\n",
        "\n",
        "# Fit the model\n",
        "sgd_reg.fit(coffee, energy.ravel())\n",
        "\n",
        "EPSILON = 0.05\n",
        "if abs(calculated_slope - sgd_reg.coef_) < EPSILON and abs(calculated_intercept - sgd_reg.intercept_) < EPSILON:\n",
        "  print(\"You win!\")\n",
        "else:\n",
        "  print(\"Try again :(\")"
      ],
      "execution_count": 0,
      "outputs": []
    },
    {
      "cell_type": "markdown",
      "metadata": {
        "id": "Nwo_ivq3IuZB",
        "colab_type": "text"
      },
      "source": [
        "### Answer Key"
      ]
    },
    {
      "cell_type": "markdown",
      "metadata": {
        "id": "Duh0teqgIwoc",
        "colab_type": "text"
      },
      "source": [
        "**Solution**"
      ]
    },
    {
      "cell_type": "code",
      "metadata": {
        "id": "Lmn0BHdLIv8D",
        "colab_type": "code",
        "colab": {}
      },
      "source": [
        "np.random.seed(1)\n",
        "\n",
        "sgd_reg = SGDRegressor(max_iter=50, tol=None, eta0=0.01)\n",
        "\n",
        "# Fit the model\n",
        "sgd_reg.fit(coffee, energy.ravel())"
      ],
      "execution_count": 0,
      "outputs": []
    },
    {
      "cell_type": "markdown",
      "metadata": {
        "id": "aQ8uZsdpIyAd",
        "colab_type": "text"
      },
      "source": [
        "**Validation**"
      ]
    },
    {
      "cell_type": "code",
      "metadata": {
        "id": "cn-SwMpgIzQl",
        "colab_type": "code",
        "colab": {}
      },
      "source": [
        "EPSILON = 0.05\n",
        "if abs(calculated_slope - sgd_reg.coef_) >= EPSILON:\n",
        "  print(f'Slope {sgd_reg.coef_} is too far from expected {calculated_slope}')\n",
        "if abs(calculated_intercept - sgd_reg.intercept_) >= EPSILON:\n",
        "  print(f'Intercept {sgd_reg.intercept_} is too far from expected {calculated_intercept}')\n",
        "\n",
        "print(\"LGTM\")"
      ],
      "execution_count": 0,
      "outputs": []
    },
    {
      "cell_type": "markdown",
      "metadata": {
        "colab_type": "text",
        "id": "mCpedmoekELg"
      },
      "source": [
        "# Challenge: Mini Batching\n",
        "\n",
        "So far in this colab every method that we have used relied on the entire dataset being in memory at one time. For \"big data\" problems, this won't always be possible.\n",
        "\n",
        "In the code below we have broken our data set up into small batches. In practice these batches might be loaded into memory one at a time. Each batch is fed to the SGDRegressor using the `partial_fit` method. This allows us to train the model in chunks.\n",
        "\n",
        "Your challenge is to mini-batch train the model within the desired epsilon of our calculated slope and intercept. You'll find hints in the [SGDRegressor](https://scikit-learn.org/stable/modules/generated/sklearn.linear_model.SGDRegressor.html) documentation by searching for `partial_fit`. Pay attention to parameters that don't apply to `partial_fit`."
      ]
    },
    {
      "cell_type": "code",
      "metadata": {
        "colab_type": "code",
        "id": "yKt2XvVDIpt5",
        "colab": {}
      },
      "source": [
        "np.random.seed(1)\n",
        "\n",
        "BATCH_SIZE = 50\n",
        "\n",
        "sgd_reg = SGDRegressor()\n",
        "\n",
        "for i in range(0, DATA_SET_SIZE, BATCH_SIZE):\n",
        "  sgd_reg.partial_fit(coffee[i:i+BATCH_SIZE], energy[i:i+BATCH_SIZE].ravel())\n",
        "\n",
        "print(\"Intercept: {}, Coef: {}\".format(sgd_reg.intercept_, sgd_reg.coef_))\n",
        "\n",
        "EPSILON = 0.05\n",
        "if abs(calculated_slope - sgd_reg.coef_) < EPSILON and abs(calculated_intercept - sgd_reg.intercept_) < EPSILON:\n",
        "  print(\"You win!\")\n",
        "else:\n",
        "  print(\"Try again :(\")"
      ],
      "execution_count": 0,
      "outputs": []
    },
    {
      "cell_type": "markdown",
      "metadata": {
        "id": "K-aV3H3vJcjm",
        "colab_type": "text"
      },
      "source": [
        "### Answer Key"
      ]
    },
    {
      "cell_type": "markdown",
      "metadata": {
        "id": "KCKy1NSjJeHs",
        "colab_type": "text"
      },
      "source": [
        "**Solution**"
      ]
    },
    {
      "cell_type": "code",
      "metadata": {
        "id": "SiK2YBWkJhT_",
        "colab_type": "code",
        "colab": {}
      },
      "source": [
        "np.random.seed(1)\n",
        "\n",
        "BATCH_SIZE = 50\n",
        "\n",
        "sgd_reg = SGDRegressor()\n",
        "\n",
        "for _ in range(15):\n",
        "  for i in range(0, DATA_SET_SIZE, BATCH_SIZE):\n",
        "    sgd_reg.partial_fit(coffee[i:i+BATCH_SIZE], energy[i:i+BATCH_SIZE].ravel())\n",
        "\n",
        "print(\"Intercept: {}, Coef: {}\".format(sgd_reg.intercept_, sgd_reg.coef_))"
      ],
      "execution_count": 0,
      "outputs": []
    },
    {
      "cell_type": "markdown",
      "metadata": {
        "id": "CKehjgsxJf7N",
        "colab_type": "text"
      },
      "source": [
        "**Validation**"
      ]
    },
    {
      "cell_type": "code",
      "metadata": {
        "id": "XG3IYNI6JzXm",
        "colab_type": "code",
        "colab": {}
      },
      "source": [
        "EPSILON = 0.05\n",
        "if abs(calculated_slope - sgd_reg.coef_) >= EPSILON:\n",
        "  raise Exception(f'Slope {sgd_reg.coef_} is too far from expected {calculated_slope}')\n",
        "if abs(calculated_intercept - sgd_reg.intercept_) >= EPSILON:\n",
        "  raise Exception(f'Intercept {sgd_reg.intercept_} is too far from expected {calculated_intercept}')\n",
        "print(\"LGTM\")"
      ],
      "execution_count": 0,
      "outputs": []
    },
    {
      "cell_type": "markdown",
      "metadata": {
        "colab_type": "text",
        "id": "hhnHS71gkTGG"
      },
      "source": [
        "# Exercises\n",
        "\n",
        "For these exercises we will download a CSV of life expectancies from [GapMinder](https://www.gapminder.org/data/) and create a linear regression for life expectancy in the United States."
      ]
    },
    {
      "cell_type": "markdown",
      "metadata": {
        "colab_type": "text",
        "id": "TeZpmfYslA0n"
      },
      "source": [
        "## Exercise 1: Obtain the data"
      ]
    },
    {
      "cell_type": "markdown",
      "metadata": {
        "colab_type": "text",
        "id": "MAp0fOaingQL"
      },
      "source": [
        "Download a CSV of life expectancy data from [GapMinder](https://www.gapminder.org/data/), upload it to this Colab, and read the data into memory using Pandas.\n",
        "\n",
        "Examine the data using describe."
      ]
    },
    {
      "cell_type": "markdown",
      "metadata": {
        "colab_type": "text",
        "id": "4k9TCn3KQpVe"
      },
      "source": [
        "### Student Solution"
      ]
    },
    {
      "cell_type": "code",
      "metadata": {
        "colab_type": "code",
        "id": "wzylGqFydG7R",
        "colab": {}
      },
      "source": [
        "# Your code goes here"
      ],
      "execution_count": 0,
      "outputs": []
    },
    {
      "cell_type": "markdown",
      "metadata": {
        "colab_type": "text",
        "id": "exercise-1-key-1"
      },
      "source": [
        "### Answer Key"
      ]
    },
    {
      "cell_type": "markdown",
      "metadata": {
        "colab_type": "text",
        "id": "exercise-1-solution-1"
      },
      "source": [
        "**Solution**"
      ]
    },
    {
      "cell_type": "code",
      "metadata": {
        "colab_type": "code",
        "id": "xzxKGzppQuND",
        "colab": {}
      },
      "source": [
        "import pandas as pd\n",
        "\n",
        "data = pd.read_csv('life_expectancy_years.csv')\n",
        "data.describe()"
      ],
      "execution_count": 0,
      "outputs": []
    },
    {
      "cell_type": "markdown",
      "metadata": {
        "colab_type": "text",
        "id": "RPml6f_pQvPp"
      },
      "source": [
        "**Validation**"
      ]
    },
    {
      "cell_type": "code",
      "metadata": {
        "id": "yFxsLBX5MKe3",
        "colab_type": "code",
        "colab": {}
      },
      "source": [
        "import datetime\n",
        "now = datetime.datetime.now()\n",
        "\n",
        "if len(data.columns) != now.year - 1800 + 1:\n",
        "  raise Exception(\"Unexpected column count\")\n",
        "if len(data) != 187:\n",
        "  raise Exception(\"Unexpected row count\")\n",
        "if data.columns[0] != 'country' and data.columns['1'] != 1800:\n",
        "  raise Exception(\"Unexpected column names\")\n",
        "print(\"LGTM\")"
      ],
      "execution_count": 0,
      "outputs": []
    },
    {
      "cell_type": "markdown",
      "metadata": {
        "colab_type": "text",
        "id": "hm_yiqt9lkRh"
      },
      "source": [
        "## Exercise 2: Look at the data"
      ]
    },
    {
      "cell_type": "markdown",
      "metadata": {
        "colab_type": "text",
        "id": "Wef2akPdniWy"
      },
      "source": [
        "Examine the data using head and/or tail."
      ]
    },
    {
      "cell_type": "markdown",
      "metadata": {
        "colab_type": "text",
        "id": "xPk41fIoQ6sv"
      },
      "source": [
        "### Student Solution"
      ]
    },
    {
      "cell_type": "code",
      "metadata": {
        "colab_type": "code",
        "id": "rO2eP1B_dyFA",
        "colab": {}
      },
      "source": [
        "# Your code goes here"
      ],
      "execution_count": 0,
      "outputs": []
    },
    {
      "cell_type": "markdown",
      "metadata": {
        "colab_type": "text",
        "id": "exercise-2-key-1"
      },
      "source": [
        "### Answer Key"
      ]
    },
    {
      "cell_type": "markdown",
      "metadata": {
        "colab_type": "text",
        "id": "exercise-2-solution-1"
      },
      "source": [
        "**Solution**"
      ]
    },
    {
      "cell_type": "code",
      "metadata": {
        "colab_type": "code",
        "id": "w3YjCESAQ9cD",
        "colab": {}
      },
      "source": [
        "data.head()\n",
        "data.tail()"
      ],
      "execution_count": 0,
      "outputs": []
    },
    {
      "cell_type": "markdown",
      "metadata": {
        "colab_type": "text",
        "id": "89EnbfqSQ_Lp"
      },
      "source": [
        "**Validation**"
      ]
    },
    {
      "cell_type": "code",
      "metadata": {
        "colab_type": "code",
        "id": "HNxigFsJRA2L",
        "colab": {}
      },
      "source": [
        "# N/A"
      ],
      "execution_count": 0,
      "outputs": []
    },
    {
      "cell_type": "markdown",
      "metadata": {
        "colab_type": "text",
        "id": "HKbB0goxl-gQ"
      },
      "source": [
        "## Exercise 3: Prep Life Expectancy"
      ]
    },
    {
      "cell_type": "markdown",
      "metadata": {
        "colab_type": "text",
        "id": "DEYyHO4knkg8"
      },
      "source": [
        "Extract the life expectancy values for the United States into a NumPy array. \n",
        "\n",
        "To do this you'll need to find the row that contains data for the United States. When you find that row of data you'll find the word 'United States' in the first column and then floating point numbers in subsequent columns. The goal of this step is to create a NumPy array containing those numbers."
      ]
    },
    {
      "cell_type": "markdown",
      "metadata": {
        "colab_type": "text",
        "id": "sSyjgiQXRHYC"
      },
      "source": [
        "### Student Solution"
      ]
    },
    {
      "cell_type": "code",
      "metadata": {
        "colab_type": "code",
        "id": "6Z1Dz7Ffd6_Y",
        "colab": {}
      },
      "source": [
        "# Your code goes here"
      ],
      "execution_count": 0,
      "outputs": []
    },
    {
      "cell_type": "markdown",
      "metadata": {
        "colab_type": "text",
        "id": "exercise-3-key-1"
      },
      "source": [
        "### Answer Key"
      ]
    },
    {
      "cell_type": "markdown",
      "metadata": {
        "colab_type": "text",
        "id": "exercise-3-solution-1"
      },
      "source": [
        "**Solution**"
      ]
    },
    {
      "cell_type": "code",
      "metadata": {
        "colab_type": "code",
        "id": "hM4DevAERKxX",
        "colab": {}
      },
      "source": [
        "life_expectancy = data.iloc[178][1:].values"
      ],
      "execution_count": 0,
      "outputs": []
    },
    {
      "cell_type": "markdown",
      "metadata": {
        "colab_type": "text",
        "id": "aCHwr-L1RNU9"
      },
      "source": [
        "**Validation**"
      ]
    },
    {
      "cell_type": "code",
      "metadata": {
        "colab_type": "code",
        "id": "t3k2ZOnxROYj",
        "colab": {}
      },
      "source": [
        "import datetime\n",
        "now = datetime.datetime.now()\n",
        "wanted_row_count = now.year - 1800\n",
        "\n",
        "if len(life_expectancy) != wanted_row_count:\n",
        "  raise Exception(f'got {len(life_expectancy)} rows, wanted {wanted_row_count}')\n",
        "if all(map(lambda x: x == 39.4, life_expectancy[0:20])):\n",
        "  raise Exception(\"Unexpected values in life_expectancy\")\n",
        "print('LGTM')"
      ],
      "execution_count": 0,
      "outputs": []
    },
    {
      "cell_type": "markdown",
      "metadata": {
        "colab_type": "text",
        "id": "VKjiMJUYmPxB"
      },
      "source": [
        "## Exercise 4: Create year data"
      ]
    },
    {
      "cell_type": "markdown",
      "metadata": {
        "colab_type": "text",
        "id": "fxaHozJBnnEZ"
      },
      "source": [
        "We need to now create an array of year data from the min to the max year in the dataset. There are a couple of ways that this can be done.\n",
        "\n",
        "The column names (except column 0) are the years. You can extract those years into an array similarly to what you did for life expectancy. Note that the columns names are strings so you'll want to convert those names into integers.\n",
        "\n",
        "If no years are missing from the data set you can also just use a range function to generate numbers between the min and max years."
      ]
    },
    {
      "cell_type": "markdown",
      "metadata": {
        "colab_type": "text",
        "id": "QImI7PELRSmz"
      },
      "source": [
        "### Student Solution"
      ]
    },
    {
      "cell_type": "code",
      "metadata": {
        "colab_type": "code",
        "id": "dpPEWZK-fVl7",
        "colab": {}
      },
      "source": [
        "# Your code goes here"
      ],
      "execution_count": 0,
      "outputs": []
    },
    {
      "cell_type": "markdown",
      "metadata": {
        "colab_type": "text",
        "id": "exercise-4-key-1"
      },
      "source": [
        "### Answer Key"
      ]
    },
    {
      "cell_type": "markdown",
      "metadata": {
        "colab_type": "text",
        "id": "exercise-4-solution-1"
      },
      "source": [
        "**Solution**"
      ]
    },
    {
      "cell_type": "code",
      "metadata": {
        "colab_type": "code",
        "id": "qzgwfg4XRX0V",
        "colab": {}
      },
      "source": [
        "import numpy as np\n",
        "\n",
        "years = np.array(range(int(data.columns[1:].min()), int(data.columns[1:].max()) + 1))"
      ],
      "execution_count": 0,
      "outputs": []
    },
    {
      "cell_type": "markdown",
      "metadata": {
        "colab_type": "text",
        "id": "BUGj54HURYnS"
      },
      "source": [
        "**Validation**"
      ]
    },
    {
      "cell_type": "code",
      "metadata": {
        "colab_type": "code",
        "id": "3CZ0l7PTRZ8M",
        "colab": {}
      },
      "source": [
        "import datetime\n",
        "now = datetime.datetime.now()\n",
        "wanted_row_count = now.year - 1800\n",
        "\n",
        "if len(years) != wanted_row_count:\n",
        "  raise Exception(f'got {len(life_expectancy)} rows, wanted {wanted_row_count}')\n",
        "if years[0] != 1800 and years[100] != 1900:\n",
        "  raise Exception(\"Unexpected values in life_expectancy\")\n",
        "print('LGTM')"
      ],
      "execution_count": 0,
      "outputs": []
    },
    {
      "cell_type": "markdown",
      "metadata": {
        "colab_type": "text",
        "id": "XaAeDllAmeQk"
      },
      "source": [
        "## Exercise 5: Plot the data"
      ]
    },
    {
      "cell_type": "markdown",
      "metadata": {
        "colab_type": "text",
        "id": "Av4o6raqnpeT"
      },
      "source": [
        "Create a scatterplot of the data."
      ]
    },
    {
      "cell_type": "markdown",
      "metadata": {
        "colab_type": "text",
        "id": "R7sBzMhmRejB"
      },
      "source": [
        "### Student Solution"
      ]
    },
    {
      "cell_type": "code",
      "metadata": {
        "colab_type": "code",
        "id": "iY2K1x7Wf-yr",
        "colab": {}
      },
      "source": [
        "# Your code goes here"
      ],
      "execution_count": 0,
      "outputs": []
    },
    {
      "cell_type": "markdown",
      "metadata": {
        "colab_type": "text",
        "id": "exercise-5-key-1"
      },
      "source": [
        "### Answer Key"
      ]
    },
    {
      "cell_type": "markdown",
      "metadata": {
        "colab_type": "text",
        "id": "exercise-5-solution-1"
      },
      "source": [
        "**Solution**"
      ]
    },
    {
      "cell_type": "code",
      "metadata": {
        "colab_type": "code",
        "id": "02T6z5gNRtEC",
        "colab": {}
      },
      "source": [
        "import matplotlib.pyplot as plt\n",
        "\n",
        "plt.plot(years, life_expectancy, 'b.')\n",
        "plt.show()"
      ],
      "execution_count": 0,
      "outputs": []
    },
    {
      "cell_type": "markdown",
      "metadata": {
        "colab_type": "text",
        "id": "gGGrCq1ARuLw"
      },
      "source": [
        "**Validation**"
      ]
    },
    {
      "cell_type": "code",
      "metadata": {
        "colab_type": "code",
        "id": "KR-lxIxaRvU0",
        "colab": {}
      },
      "source": [
        "# N/A"
      ],
      "execution_count": 0,
      "outputs": []
    },
    {
      "cell_type": "markdown",
      "metadata": {
        "colab_type": "text",
        "id": "iQp6L7K2mj6F"
      },
      "source": [
        "## Exercise 6: Divide the data"
      ]
    },
    {
      "cell_type": "markdown",
      "metadata": {
        "colab_type": "text",
        "id": "ygr_3N79nsQu"
      },
      "source": [
        "Split off 20% of the data as a test set and keep the rest for training data.\n",
        "\n",
        "To do this, it will be useful to create a `DataFrame` and store the years and life expectancy arrays created above as columns in that data frame.\n",
        "\n",
        "You can then randomize and split the data frame or use scikit-learn's built in test/train data splitter."
      ]
    },
    {
      "cell_type": "markdown",
      "metadata": {
        "colab_type": "text",
        "id": "JPUqZXnxR5d8"
      },
      "source": [
        "### Student Solution"
      ]
    },
    {
      "cell_type": "code",
      "metadata": {
        "colab_type": "code",
        "id": "j4D8uwmhmqqp",
        "colab": {}
      },
      "source": [
        "# Your code goes here"
      ],
      "execution_count": 0,
      "outputs": []
    },
    {
      "cell_type": "markdown",
      "metadata": {
        "colab_type": "text",
        "id": "exercise-6-key-1"
      },
      "source": [
        "### Answer Key"
      ]
    },
    {
      "cell_type": "markdown",
      "metadata": {
        "colab_type": "text",
        "id": "exercise-6-solution-1"
      },
      "source": [
        "**Solution**"
      ]
    },
    {
      "cell_type": "code",
      "metadata": {
        "colab_type": "code",
        "id": "tNXxhS-AR8fo",
        "colab": {}
      },
      "source": [
        "df = pd.DataFrame()\n",
        "df[\"Years\"] = years\n",
        "df[\"Life Expectancy\"] = life_expectancy\n",
        "df = df.iloc[np.random.permutation(len(df))]\n",
        "test_set_size = int(len(df) * 0.2)\n",
        "\n",
        "test_data = df.iloc[:test_set_size]\n",
        "train_data = df.iloc[test_set_size:]"
      ],
      "execution_count": 0,
      "outputs": []
    },
    {
      "cell_type": "markdown",
      "metadata": {
        "id": "dlr413G1l_PT",
        "colab_type": "text"
      },
      "source": [
        "Alternative solution using sklearn"
      ]
    },
    {
      "cell_type": "code",
      "metadata": {
        "id": "RBnkpnmqlSv_",
        "colab_type": "code",
        "colab": {}
      },
      "source": [
        "from sklearn.model_selection import train_test_split\n",
        "\n",
        "X_train, X_test, y_train, y_test = train_test_split(df['Years'], df['Life Expectancy'])"
      ],
      "execution_count": 0,
      "outputs": []
    },
    {
      "cell_type": "markdown",
      "metadata": {
        "colab_type": "text",
        "id": "ClfyvTziR9VN"
      },
      "source": [
        "**Validation**"
      ]
    },
    {
      "cell_type": "code",
      "metadata": {
        "colab_type": "code",
        "id": "pv6GhWTIR_5Z",
        "colab": {}
      },
      "source": [
        "import datetime\n",
        "now = datetime.datetime.now()\n",
        "wanted_row_count = now.year - 1800\n",
        "\n",
        "if df.columns[0] != 'Years' or df.columns[1] != 'Life Expectancy':\n",
        "  raise Exception('Unexpected columns')\n",
        "\n",
        "if len(df) != wanted_row_count:\n",
        "  raise Exception('Unexpected row count')\n",
        "\n",
        "if len(test_data) != int(wanted_row_count * .2):\n",
        "  raise Exception('Unexpected test data row count')\n",
        "\n",
        "if len(train_data) != wanted_row_count - int(wanted_row_count * .2):\n",
        "  raise Exception('Unexpected train data row count')\n",
        "\n",
        "print('LGTM')"
      ],
      "execution_count": 0,
      "outputs": []
    },
    {
      "cell_type": "markdown",
      "metadata": {
        "colab_type": "text",
        "id": "JN_s6eb_mswQ"
      },
      "source": [
        "## Exercise 7: Create and train a model"
      ]
    },
    {
      "cell_type": "markdown",
      "metadata": {
        "colab_type": "text",
        "id": "pV7ZhE6qnumn"
      },
      "source": [
        "Use LinearRegression to create a model."
      ]
    },
    {
      "cell_type": "markdown",
      "metadata": {
        "colab_type": "text",
        "id": "lDKFaGk4SHMA"
      },
      "source": [
        "### Student Solution"
      ]
    },
    {
      "cell_type": "code",
      "metadata": {
        "colab_type": "code",
        "id": "-H0VAClvOACh",
        "colab": {}
      },
      "source": [
        "# Your code goes here"
      ],
      "execution_count": 0,
      "outputs": []
    },
    {
      "cell_type": "markdown",
      "metadata": {
        "colab_type": "text",
        "id": "exercise-7-key-1"
      },
      "source": [
        "### Answer Key"
      ]
    },
    {
      "cell_type": "markdown",
      "metadata": {
        "colab_type": "text",
        "id": "exercise-7-solution-1"
      },
      "source": [
        "**Solution**"
      ]
    },
    {
      "cell_type": "code",
      "metadata": {
        "colab_type": "code",
        "id": "sBkxgip9SKFH",
        "colab": {}
      },
      "source": [
        "from sklearn.linear_model import LinearRegression\n",
        "\n",
        "x = train_data[[\"Years\"]]\n",
        "y = train_data[\"Life Expectancy\"]\n",
        "\n",
        "lin_reg = LinearRegression()\n",
        "lin_reg.fit(x, y)"
      ],
      "execution_count": 0,
      "outputs": []
    },
    {
      "cell_type": "markdown",
      "metadata": {
        "colab_type": "text",
        "id": "Bo7eAYDBSLnY"
      },
      "source": [
        "**Validation**"
      ]
    },
    {
      "cell_type": "code",
      "metadata": {
        "colab_type": "code",
        "id": "r-afGDzdSM33",
        "colab": {}
      },
      "source": [
        "from sklearn.linear_model import LinearRegression\n",
        "\n",
        "x = train_data[[\"Years\"]]\n",
        "y = train_data[\"Life Expectancy\"]\n",
        "\n",
        "validator_lin_reg = LinearRegression()\n",
        "validator_lin_reg.fit(x, y)\n",
        "\n",
        "if validator_lin_reg.coef_ != lin_reg.coef_:\n",
        "  raise Exception('Unexpected coef_')\n",
        "if validator_lin_reg.intercept_ != lin_reg.intercept_:\n",
        "  raise Exception('Unexpected intercept_')\n",
        "\n",
        "print('LGTM')"
      ],
      "execution_count": 0,
      "outputs": []
    },
    {
      "cell_type": "markdown",
      "metadata": {
        "colab_type": "text",
        "id": "dtFpVNwEnX9Q"
      },
      "source": [
        "## Exercise 8: Test your model"
      ]
    },
    {
      "cell_type": "markdown",
      "metadata": {
        "colab_type": "text",
        "id": "mALMCq0SnwoR"
      },
      "source": [
        "Use the test data you retained to make predictions of life expectancy based on year. Compare the predictions to the actual data. Use scikit-learn to calculate root mean squared error."
      ]
    },
    {
      "cell_type": "markdown",
      "metadata": {
        "colab_type": "text",
        "id": "8my8vKLBSZPE"
      },
      "source": [
        "### Student Solution"
      ]
    },
    {
      "cell_type": "code",
      "metadata": {
        "colab_type": "code",
        "id": "3xABv08xnzNg",
        "colab": {}
      },
      "source": [
        "# Your code goes here"
      ],
      "execution_count": 0,
      "outputs": []
    },
    {
      "cell_type": "markdown",
      "metadata": {
        "colab_type": "text",
        "id": "exercise-8-key-1"
      },
      "source": [
        "### Answer Key"
      ]
    },
    {
      "cell_type": "markdown",
      "metadata": {
        "colab_type": "text",
        "id": "exercise-8-solution-1"
      },
      "source": [
        "**Solution**"
      ]
    },
    {
      "cell_type": "code",
      "metadata": {
        "colab_type": "code",
        "id": "uierIM6wSdeY",
        "colab": {}
      },
      "source": [
        "from sklearn.metrics import mean_squared_error\n",
        "import math\n",
        "\n",
        "predictions = lin_reg.predict(test_data[[\"Years\"]])\n",
        "rmse = math.sqrt(mean_squared_error(test_data[[\"Life Expectancy\"]], predictions))"
      ],
      "execution_count": 0,
      "outputs": []
    },
    {
      "cell_type": "markdown",
      "metadata": {
        "colab_type": "text",
        "id": "gXlYzCZvSe8Y"
      },
      "source": [
        "**Validation**"
      ]
    },
    {
      "cell_type": "code",
      "metadata": {
        "colab_type": "code",
        "id": "WWYTh3g6Sf_5",
        "colab": {}
      },
      "source": [
        "from sklearn.metrics import mean_squared_error\n",
        "import math\n",
        "\n",
        "predictions = lin_reg.predict(test_data[[\"Years\"]])\n",
        "validator_rmse = math.sqrt(mean_squared_error(test_data[[\"Life Expectancy\"]], predictions))\n",
        "\n",
        "if rmse != validator_rmse:\n",
        "  raise Exception('Unexpected RMSE')\n",
        "\n",
        "print('LGTM')"
      ],
      "execution_count": 0,
      "outputs": []
    },
    {
      "cell_type": "markdown",
      "metadata": {
        "colab_type": "text",
        "id": "yN34XjZpn8YS"
      },
      "source": [
        "## Exercise 9: Plot your regression"
      ]
    },
    {
      "cell_type": "markdown",
      "metadata": {
        "colab_type": "text",
        "id": "6XxLAdoan1J6"
      },
      "source": [
        "Create a scatter plot of the full set of life expectancy data. Draw your regression line over the scatterplot."
      ]
    },
    {
      "cell_type": "markdown",
      "metadata": {
        "colab_type": "text",
        "id": "CtivIm4GSoVI"
      },
      "source": [
        "### Student Solution"
      ]
    },
    {
      "cell_type": "code",
      "metadata": {
        "colab_type": "code",
        "id": "XJUdILlKoQ4T",
        "colab": {}
      },
      "source": [
        "# Your code goes here"
      ],
      "execution_count": 0,
      "outputs": []
    },
    {
      "cell_type": "markdown",
      "metadata": {
        "colab_type": "text",
        "id": "exercise-9-key-1"
      },
      "source": [
        "### Answer Key"
      ]
    },
    {
      "cell_type": "markdown",
      "metadata": {
        "colab_type": "text",
        "id": "exercise-9-solution-1"
      },
      "source": [
        "**Solution**"
      ]
    },
    {
      "cell_type": "code",
      "metadata": {
        "colab_type": "code",
        "id": "MKLbAz3BSrdw",
        "colab": {}
      },
      "source": [
        "import matplotlib\n",
        "import matplotlib.pyplot as plt\n",
        "\n",
        "x_line = [[df[\"Years\"].min()], [df[\"Years\"].max()]]\n",
        "y_line = lin_reg.predict(x_line)\n",
        "\n",
        "plt.plot(df[\"Years\"], df[\"Life Expectancy\"], 'b.')\n",
        "plt.plot(x_line, y_line, 'r-')\n",
        "plt.show()"
      ],
      "execution_count": 0,
      "outputs": []
    },
    {
      "cell_type": "markdown",
      "metadata": {
        "colab_type": "text",
        "id": "Q5VvxNZ9SsPQ"
      },
      "source": [
        "**Validation**"
      ]
    },
    {
      "cell_type": "code",
      "metadata": {
        "colab_type": "code",
        "id": "MrTx8RmOStU0",
        "colab": {}
      },
      "source": [
        "# N/A"
      ],
      "execution_count": 0,
      "outputs": []
    },
    {
      "cell_type": "markdown",
      "metadata": {
        "colab_type": "text",
        "id": "WClC4PzQIXXr"
      },
      "source": [
        "## Exercise 10: Challenge (Ungraded)"
      ]
    },
    {
      "cell_type": "markdown",
      "metadata": {
        "colab_type": "text",
        "id": "sJvVUYPmn4i9"
      },
      "source": [
        "The [CalCOFI](https://www.kaggle.com/sohier/calcofi/version/2) dataset contains decades of oceanic data. In this exercise we will use this data to attempt to predict water temperature based on salinity. The exercise is divided into multiple steps, each with a code block after it for your solution."
      ]
    },
    {
      "cell_type": "markdown",
      "metadata": {
        "colab_type": "text",
        "id": "IXJfxu8lKNsg"
      },
      "source": [
        "**Acquire the data**\n",
        "\n",
        "The [CalCOFI](https://www.kaggle.com/sohier/calcofi/version/2) data consists of two files, one containing data about \"Casts\" and the other about \"Bottles\". Look at the data files and try to get an understanding of what a cast is and what a bottle is.\n",
        "\n",
        "Find the file that contains temperature and salinity information, download that file, and then upload it to Colab. You'll want to use the zipped version of the file so that the upload doesn't take too long.\n",
        "\n",
        "Once the file is uploaded, write some Python code to unzip the file."
      ]
    },
    {
      "cell_type": "markdown",
      "metadata": {
        "colab_type": "text",
        "id": "4NAaW2FpLEe7"
      },
      "source": [
        "**Load the data using Pandas**\n",
        "\n",
        "Now that you have an unzipped version of the file you can load the data into memory using Pandas. Write code to read the file into memory and describe the data table that was created."
      ]
    },
    {
      "cell_type": "markdown",
      "metadata": {
        "colab_type": "text",
        "id": "y8My0tHlLhZV"
      },
      "source": [
        "**Drop rows with missing data**\n",
        "\n",
        "Looking at the counts for temperature and salinity you can see that there are some rows with missing data. Remove the rows with missing temperature or salinity data from the data frame. After you are done, describe the data to make sure that every temperature and salinity row has data."
      ]
    },
    {
      "cell_type": "markdown",
      "metadata": {
        "colab_type": "text",
        "id": "n1pqkRynMBHK"
      },
      "source": [
        "**Plot the data**\n",
        "\n",
        "Create a scatterplot of salinity and temperature."
      ]
    },
    {
      "cell_type": "markdown",
      "metadata": {
        "colab_type": "text",
        "id": "44I2gHTnMPbh"
      },
      "source": [
        "**Shuffle the data**\n",
        "\n",
        "In this exercise we will split the data into a training and test set. Since the data is ordered we will shuffle the data frame before splitting it. Write code to shuffle the data frame and look at the data (using head, tail, or some other means) to make sure that it is shuffled."
      ]
    },
    {
      "cell_type": "markdown",
      "metadata": {
        "colab_type": "text",
        "id": "7WlqxPwqMrsU"
      },
      "source": [
        "**Split the data frame**\n",
        "\n",
        "For this exercise we'll split the data frame so that 20% of the data is held out for testing and the remaining data is used for training. Write code below to split the data into two data frames, one for testing and one for training."
      ]
    },
    {
      "cell_type": "markdown",
      "metadata": {
        "colab_type": "text",
        "id": "r7kzz9AJNOOQ"
      },
      "source": [
        "**Create a linear regression model**\n",
        "\n",
        "Use scikit-learn's LinearRegression to fit a linear regression model to your training data."
      ]
    },
    {
      "cell_type": "markdown",
      "metadata": {
        "colab_type": "text",
        "id": "5lye2Pf_QUEA"
      },
      "source": [
        "**Test your model**\n",
        "\n",
        "Use your test data to make predictions and then find the mean squared error of those predictions vs. the actual measured temperatures for the test data.\n",
        "\n",
        "scikit-learn has support for calculating mean squared error."
      ]
    },
    {
      "cell_type": "markdown",
      "metadata": {
        "colab_type": "text",
        "id": "mgStCm0HTYT_"
      },
      "source": [
        "**Plot your regression line**\n",
        "\n",
        "Create another plot that contains the scatterplot of the salinity and temperatures. Draw the prediction line over the scatterplot."
      ]
    },
    {
      "cell_type": "markdown",
      "metadata": {
        "colab_type": "text",
        "id": "Su3zVHG2ffZw"
      },
      "source": [
        "**Dig deeper**\n",
        "\n",
        "The model we built wasn't very good; however, we only used one feature. Are there other features or combinations of features that are more predictive of temperature?\n",
        "\n",
        "Measurements were recorded at different depths. Is salinity a good predictor of temperature at any depth range?"
      ]
    },
    {
      "cell_type": "markdown",
      "metadata": {
        "colab_type": "text",
        "id": "Ly-Yql3A7ooA"
      },
      "source": [
        "### Student Solution"
      ]
    },
    {
      "cell_type": "code",
      "metadata": {
        "colab_type": "code",
        "id": "tK1898HdHTdh",
        "colab": {}
      },
      "source": [
        "# Your code goes here"
      ],
      "execution_count": 0,
      "outputs": []
    },
    {
      "cell_type": "markdown",
      "metadata": {
        "colab_type": "text",
        "id": "exercise-10-key-1"
      },
      "source": [
        "### Answer Key"
      ]
    },
    {
      "cell_type": "markdown",
      "metadata": {
        "colab_type": "text",
        "id": "exercise-10-solution-1"
      },
      "source": [
        "**Solution**"
      ]
    },
    {
      "cell_type": "code",
      "metadata": {
        "colab_type": "code",
        "id": "04k-r2u77sv_",
        "colab": {}
      },
      "source": [
        "from sklearn.linear_model import LinearRegression\n",
        "from sklearn.metrics import mean_squared_error\n",
        "from sklearn.utils import shuffle\n",
        "\n",
        "import matplotlib.pyplot as plt\n",
        "import pandas as pd\n",
        "import zipfile\n",
        "\n",
        "zip_ref = zipfile.ZipFile(\"./bottle.csv.zip\", 'r')\n",
        "zip_ref.extractall(\"./\")\n",
        "zip_ref.close()\n",
        "\n",
        "data = pd.read_csv(\"./bottle.csv\")\n",
        "data.describe()\n",
        "\n",
        "data=data[~(data[\"T_degC\"].isna() | data[\"Salnty\"].isna())]\n",
        "data.describe()\n",
        "\n",
        "plt.plot(data[\"Salnty\"], data[\"T_degC\"], 'b.')\n",
        "plt.show()\n",
        "\n",
        "data = shuffle(data)\n",
        "data.head()\n",
        "\n",
        "test_set_size = int(data[\"Salnty\"].count() * .2)\n",
        "\n",
        "test_data = data[:test_set_size]\n",
        "train_data = data[test_set_size:]\n",
        "\n",
        "print(\"{} test data points; {} train data points\".format(test_data[\"Salnty\"].count(), train_data[\"Salnty\"].count()))\n",
        "\n",
        "x = train_data[[\"Salnty\"]]\n",
        "y = train_data[\"T_degC\"]\n",
        "\n",
        "lin_reg = LinearRegression()\n",
        "lin_reg.fit(x, y)\n",
        "\n",
        "predictions = lin_reg.predict(test_data[[\"Salnty\"]])\n",
        "mean_squared_error(test_data[[\"T_degC\"]], predictions)\n",
        "\n",
        "x_line = [[data[\"Salnty\"].min()], [data[\"Salnty\"].max()]]\n",
        "y_line = lin_reg.predict(x_line)\n",
        "\n",
        "plt.plot(data[\"Salnty\"], data[\"T_degC\"], 'b.')\n",
        "plt.plot(x_line, y_line, 'r-')\n",
        "plt.show()\n"
      ],
      "execution_count": 0,
      "outputs": []
    },
    {
      "cell_type": "markdown",
      "metadata": {
        "colab_type": "text",
        "id": "sol6HyQ77uMC"
      },
      "source": [
        "**Validation**"
      ]
    },
    {
      "cell_type": "code",
      "metadata": {
        "colab_type": "code",
        "id": "l3MDINLO7vYc",
        "colab": {}
      },
      "source": [
        "# N/A"
      ],
      "execution_count": 0,
      "outputs": []
    }
  ]
}