{
  "nbformat": 4,
  "nbformat_minor": 0,
  "metadata": {
    "colab": {
      "name": "Introduction to Python Accelerated",
      "version": "0.3.2",
      "provenance": [],
      "private_outputs": true,
      "collapsed_sections": [
        "copyright",
        "exercise-1-key-1",
        "exercise-2-key-1",
        "exercise-3-key-1",
        "exercise-4-key-1"
      ],
      "toc_visible": true
    },
    "kernelspec": {
      "display_name": "Python 3",
      "name": "python3"
    }
  },
  "cells": [
    {
      "cell_type": "markdown",
      "metadata": {
        "colab_type": "text",
        "id": "copyright",
        "slideshow": {
          "slide_type": "slide"
        }
      },
      "source": [
        "#### Copyright 2018 Google LLC."
      ]
    },
    {
      "cell_type": "code",
      "metadata": {
        "colab_type": "code",
        "id": "vUL-MxtcowtQ",
        "slideshow": {
          "slide_type": "-"
        },
        "colab": {}
      },
      "source": [
        "# Licensed under the Apache License, Version 2.0 (the \"License\");\n",
        "# you may not use this file except in compliance with the License.\n",
        "# You may obtain a copy of the License at\n",
        "#\n",
        "# https://www.apache.org/licenses/LICENSE-2.0\n",
        "#\n",
        "# Unless required by applicable law or agreed to in writing, software\n",
        "# distributed under the License is distributed on an \"AS IS\" BASIS,\n",
        "# WITHOUT WARRANTIES OR CONDITIONS OF ANY KIND, either express or implied.\n",
        "# See the License for the specific language governing permissions and\n",
        "# limitations under the License."
      ],
      "execution_count": 0,
      "outputs": []
    },
    {
      "cell_type": "markdown",
      "metadata": {
        "colab_type": "text",
        "id": "ZutSxI49o8Jh",
        "slideshow": {
          "slide_type": "slide"
        }
      },
      "source": [
        "# Introduction to Python Accelerated"
      ]
    },
    {
      "cell_type": "markdown",
      "metadata": {
        "colab_type": "text",
        "id": "ZutS4I49o8Jh",
        "slideshow": {
          "slide_type": "slide"
        }
      },
      "source": [
        "Python is a language commonly used for machine learning. It is an approachable, yet rich, language that can be used for a variety of tasks.\n",
        "\n",
        "It can take years to truly become an expert in the language, but luckily you can learn enough Python to become proficient in machine learning in a much shorter period of time.\n",
        "\n",
        "This colab is a quick introduction to the core pieces of Python that you'll need to know to get started. This is only a brief peek into parts of the language that you'll commonly encounter as a data scientist.  As you progress through this course we'll introduce new Python concepts along the way.\n",
        "\n",
        "This colab is intended for people who have at least a year of experience in another programming language such as Java or C++. If you do not have that experience, please follow the standard colab instead of this one. "
      ]
    },
    {
      "cell_type": "markdown",
      "metadata": {
        "colab_type": "text",
        "id": "overview"
      },
      "source": [
        "## Overview"
      ]
    },
    {
      "cell_type": "markdown",
      "metadata": {
        "colab_type": "text",
        "id": "learning-objectives"
      },
      "source": [
        "### Learning Objectives\n",
        "\n",
        "* Create, use, and troubleshoot variables and data structures.\n",
        "* Read and write Python statements, expressions, conditionals, and loops.\n",
        "* Use functions"
      ]
    },
    {
      "cell_type": "markdown",
      "metadata": {
        "colab_type": "text",
        "id": "VZe4Xj9tyQRD"
      },
      "source": [
        "### Prerequisites\n",
        "\n",
        "* CS1\n",
        "* CS2 (optional)"
      ]
    },
    {
      "cell_type": "markdown",
      "metadata": {
        "colab_type": "text",
        "id": "duration"
      },
      "source": [
        "### Estimated Duration\n",
        "\n",
        "60 minutes"
      ]
    },
    {
      "cell_type": "markdown",
      "metadata": {
        "colab_type": "text",
        "id": "I7KYyR11pR7G",
        "slideshow": {
          "slide_type": "slide"
        }
      },
      "source": [
        "## Data types\n",
        "\n",
        "Python variables are dynamically typed which means that their type can change when they are reassigned. "
      ]
    },
    {
      "cell_type": "markdown",
      "metadata": {
        "colab_type": "text",
        "id": "4ee4By1ppGSW",
        "slideshow": {
          "slide_type": "slide"
        }
      },
      "source": [
        "### Numbers\n",
        "\n",
        "Python supports all standard numeric operations:"
      ]
    },
    {
      "cell_type": "code",
      "metadata": {
        "colab_type": "code",
        "id": "Y6ENY1AaCe-R",
        "slideshow": {
          "slide_type": "-"
        },
        "colab": {}
      },
      "source": [
        "print(42 + 8)\n",
        "print(4 - 2)\n",
        "print(2 * 3)\n",
        "print(50 / 10)\n",
        "print(2.0 + 3)"
      ],
      "execution_count": 0,
      "outputs": []
    },
    {
      "cell_type": "markdown",
      "metadata": {
        "colab_type": "text",
        "id": "StSlr3ENHczu",
        "slideshow": {
          "slide_type": "-"
        }
      },
      "source": [
        "Operations that mix integers and floats result in floats:"
      ]
    },
    {
      "cell_type": "code",
      "metadata": {
        "colab_type": "code",
        "id": "HnX7JoF7IjL-",
        "slideshow": {
          "slide_type": "-"
        },
        "colab": {}
      },
      "source": [
        "print(2.0  + 3)"
      ],
      "execution_count": 0,
      "outputs": []
    },
    {
      "cell_type": "markdown",
      "metadata": {
        "colab_type": "text",
        "id": "MsSSofZeDUMQ",
        "slideshow": {
          "slide_type": "slide"
        }
      },
      "source": [
        "Exponentiation uses double asterisks. "
      ]
    },
    {
      "cell_type": "code",
      "metadata": {
        "colab_type": "code",
        "id": "xtTP561IDd7V",
        "slideshow": {
          "slide_type": "-"
        },
        "colab": {}
      },
      "source": [
        "2 ** 3"
      ],
      "execution_count": 0,
      "outputs": []
    },
    {
      "cell_type": "markdown",
      "metadata": {
        "colab_type": "text",
        "id": "DDBNWSohsmhZ",
        "slideshow": {
          "slide_type": "slide"
        }
      },
      "source": [
        "\n",
        "\n",
        "---"
      ]
    },
    {
      "cell_type": "markdown",
      "metadata": {
        "colab_type": "text",
        "id": "l6b187QoP4D8",
        "slideshow": {
          "slide_type": "-"
        }
      },
      "source": [
        "Python has both the standard division operator (/) and the **floor division** operator (//)."
      ]
    },
    {
      "cell_type": "code",
      "metadata": {
        "colab_type": "code",
        "id": "BI-TEL_ARVvM",
        "slideshow": {
          "slide_type": "-"
        },
        "colab": {}
      },
      "source": [
        "print(322.231 / 2)\n",
        "print(322.231 // 2)"
      ],
      "execution_count": 0,
      "outputs": []
    },
    {
      "cell_type": "markdown",
      "metadata": {
        "colab_type": "text",
        "id": "Xa6TfcsAs5Qa",
        "slideshow": {
          "slide_type": "-"
        }
      },
      "source": [
        "\n",
        "\n",
        "---"
      ]
    },
    {
      "cell_type": "markdown",
      "metadata": {
        "colab_type": "text",
        "id": "xhWi4A7G9sxP",
        "slideshow": {
          "slide_type": "slide"
        }
      },
      "source": [
        "### Booleans\n",
        "\n",
        "Python has two special boolean values **True** and **False**. In general, you should not compare values to these constant using direct logic instead:"
      ]
    },
    {
      "cell_type": "code",
      "metadata": {
        "colab_type": "code",
        "id": "8kK7X0KTh9cT",
        "slideshow": {
          "slide_type": "-"
        },
        "colab": {}
      },
      "source": [
        "a = 5\n",
        "my_boolean = a < 10\n",
        "if my_boolean == True:\n",
        "  print(\"Don't do this\")\n",
        "if my_boolean:\n",
        "  print(\"Do that instead\")\n",
        "if not my_boolean:\n",
        "  print(\"Or this\")"
      ],
      "execution_count": 0,
      "outputs": []
    },
    {
      "cell_type": "markdown",
      "metadata": {
        "colab_type": "text",
        "id": "GjxWzrHGiLvS",
        "slideshow": {
          "slide_type": "-"
        }
      },
      "source": [
        "Logical operator are the words `and`, `or` and `not`. `|`, `^` and `!` are reserved for bit manipulations. \n"
      ]
    },
    {
      "cell_type": "code",
      "metadata": {
        "colab_type": "code",
        "id": "ku0QRmgOiwqi",
        "slideshow": {
          "slide_type": "-"
        },
        "colab": {}
      },
      "source": [
        "True and True or not False"
      ],
      "execution_count": 0,
      "outputs": []
    },
    {
      "cell_type": "markdown",
      "metadata": {
        "colab_type": "text",
        "id": "MAMZiWVKkRyj",
        "slideshow": {
          "slide_type": "-"
        }
      },
      "source": [
        "Inequality works the same as other languages including the ability to use `!=`:"
      ]
    },
    {
      "cell_type": "code",
      "metadata": {
        "colab_type": "code",
        "id": "kvrU-MbntJxF",
        "slideshow": {
          "slide_type": "-"
        },
        "colab": {}
      },
      "source": [
        "2 > 1"
      ],
      "execution_count": 0,
      "outputs": []
    },
    {
      "cell_type": "code",
      "metadata": {
        "colab_type": "code",
        "id": "jC3Tu27etMz9",
        "slideshow": {
          "slide_type": "-"
        },
        "colab": {}
      },
      "source": [
        "2 < 1"
      ],
      "execution_count": 0,
      "outputs": []
    },
    {
      "cell_type": "code",
      "metadata": {
        "colab_type": "code",
        "id": "dyAbguAZtStV",
        "slideshow": {
          "slide_type": "-"
        },
        "colab": {}
      },
      "source": [
        "1 >= 1"
      ],
      "execution_count": 0,
      "outputs": []
    },
    {
      "cell_type": "code",
      "metadata": {
        "colab_type": "code",
        "id": "lV4LB8yltXX0",
        "slideshow": {
          "slide_type": "-"
        },
        "colab": {}
      },
      "source": [
        "2 <= 1"
      ],
      "execution_count": 0,
      "outputs": []
    },
    {
      "cell_type": "code",
      "metadata": {
        "colab_type": "code",
        "id": "aWh_nf2Ct6BF",
        "slideshow": {
          "slide_type": "slide"
        },
        "colab": {}
      },
      "source": [
        "1 == 2"
      ],
      "execution_count": 0,
      "outputs": []
    },
    {
      "cell_type": "code",
      "metadata": {
        "colab_type": "code",
        "id": "DqD57oCjt9Fc",
        "slideshow": {
          "slide_type": "-"
        },
        "colab": {}
      },
      "source": [
        "1 != 2"
      ],
      "execution_count": 0,
      "outputs": []
    },
    {
      "cell_type": "markdown",
      "metadata": {
        "colab_type": "text",
        "id": "nitMt74ZpjSN",
        "slideshow": {
          "slide_type": "slide"
        }
      },
      "source": [
        "### Variables\n",
        " \n",
        "Python variables are dynamically typed so they can change type over the course of a program. Try to avoid doing that.\n"
      ]
    },
    {
      "cell_type": "code",
      "metadata": {
        "colab_type": "code",
        "id": "rNMTYmdOuS1t",
        "slideshow": {
          "slide_type": "-"
        },
        "colab": {}
      },
      "source": [
        "print(1)\n",
        "x = 2 + 3\n",
        "print(\"x is a %s of value %s\" % (type(x), x))\n",
        "x = \"foo\"\n",
        "print(\"x is a %s of value %s\" % (type(x), x))\n",
        "x = 1.4\n",
        "print(\"x is a %s of value %s\" % (type(x), x))\n",
        "x = len\n",
        "print(\"x is a %s of value %s\" % (type(x), x))\n"
      ],
      "execution_count": 0,
      "outputs": []
    },
    {
      "cell_type": "markdown",
      "metadata": {
        "colab_type": "text",
        "id": "mT_0fsbuFses",
        "slideshow": {
          "slide_type": "slide"
        }
      },
      "source": [
        "There is very little limit to what you can name a variable. The first character needs to be an alphabetic character. Numbers aren't allowed as a prefix. After the first character any alphanumeric character can be used. Underscores are also okay to use anywhere in a variable name, but stay away from naming a variable with two underscores at the beginning since Python uses leading double-underscores for internal things.\n",
        "\n",
        "Here are a few valid variable names:"
      ]
    },
    {
      "cell_type": "code",
      "metadata": {
        "colab_type": "code",
        "id": "_EVPT2D-GbUp",
        "slideshow": {
          "slide_type": "-"
        },
        "colab": {}
      },
      "source": [
        "number = 1\n",
        "my_number = 2\n",
        "YourNumber = 3\n",
        "_the_number_four = 4\n",
        "n5 = 5\n",
        "NUMBER = 6\n",
        "\n",
        "number + my_number + YourNumber + _the_number_four + n5 + NUMBER"
      ],
      "execution_count": 0,
      "outputs": []
    },
    {
      "cell_type": "markdown",
      "metadata": {
        "colab_type": "text",
        "id": "6LYdiJ4DGyy5",
        "slideshow": {
          "slide_type": "-"
        }
      },
      "source": [
        "Notice that `number` and `NUMBER` are different variables. Case matters.\n",
        "\n",
        "Although Python will accept other styles, you should name constants in all-caps (e.g. THE_NUMBER) and variables using lower_with_underscore syntax (e.g. a_number)."
      ]
    },
    {
      "cell_type": "markdown",
      "metadata": {
        "colab_type": "text",
        "id": "qr-j8x9DHAwK",
        "slideshow": {
          "slide_type": "-"
        }
      },
      "source": [
        "---"
      ]
    },
    {
      "cell_type": "markdown",
      "metadata": {
        "colab_type": "text",
        "id": "n6232TxSHCdA",
        "slideshow": {
          "slide_type": "-"
        }
      },
      "source": [
        "Variable names are one of the trickier aspects of computer programming. Variables serve as a form of documentation within your code. Good names will help your teammates and your future self understand what your code is doing when they are trying to modify it. Take some time to think about your variable names as you create new variables.\n",
        " \n",
        "Also, keep your variable style consistent. Don't mix variable styles like `this_variable` and `thisVariable` together unless you have good reason. Python has a [guide to naming variables in an idiomatic manner](https://www.python.org/dev/peps/pep-0008/#naming-conventions). Adhere to the guide when you can. It will help others understand your code and it will train you to be able to read other programmers' Python code."
      ]
    },
    {
      "cell_type": "markdown",
      "metadata": {
        "colab_type": "text",
        "id": "z953Qlkk7RvE",
        "slideshow": {
          "slide_type": "slide"
        }
      },
      "source": [
        "### Strings\n",
        "\n",
        "Strings can be single, double of triple-double quoted to facilitate handling of strings containing quotes and multi-line strings:"
      ]
    },
    {
      "cell_type": "code",
      "metadata": {
        "colab_type": "code",
        "id": "bkdwYrWTDdSu",
        "slideshow": {
          "slide_type": "-"
        },
        "colab": {}
      },
      "source": [
        "s1 = \"Python is a \"\n",
        "s2 = 'useful programming language'\n",
        "s3 = \"\"\"That supports multi-line strings\n",
        "that just\n",
        "keep going\n",
        "and going\"\"\"\n",
        "print(s1 + s2 + s3)"
      ],
      "execution_count": 0,
      "outputs": []
    },
    {
      "cell_type": "markdown",
      "metadata": {
        "colab_type": "text",
        "id": "f6yO48xYMQ8h",
        "slideshow": {
          "slide_type": "-"
        }
      },
      "source": [
        "Interestingly enough `*` works with strings. It causes a string to be repeated multiple times."
      ]
    },
    {
      "cell_type": "code",
      "metadata": {
        "colab_type": "code",
        "id": "tFEZNL-UMMuS",
        "slideshow": {
          "slide_type": "-"
        },
        "colab": {}
      },
      "source": [
        "'ABC ' * 5"
      ],
      "execution_count": 0,
      "outputs": []
    },
    {
      "cell_type": "markdown",
      "metadata": {
        "colab_type": "text",
        "id": "bmqwHLl6Mng8",
        "slideshow": {
          "slide_type": "-"
        }
      },
      "source": [
        "Python has a handy built in way to find the length of a string when you need it."
      ]
    },
    {
      "cell_type": "code",
      "metadata": {
        "colab_type": "code",
        "id": "L-aLHVrANalL",
        "slideshow": {
          "slide_type": "-"
        },
        "colab": {}
      },
      "source": [
        "len(\"pneumonoultramicroscopicsilicovolcanoconiosis\")"
      ],
      "execution_count": 0,
      "outputs": []
    },
    {
      "cell_type": "markdown",
      "metadata": {
        "colab_type": "text",
        "id": "dG3TxrOxOEry",
        "slideshow": {
          "slide_type": "slide"
        }
      },
      "source": [
        "You can extract particular characters from a string using indexing like you would an array in other languages:"
      ]
    },
    {
      "cell_type": "code",
      "metadata": {
        "colab_type": "code",
        "id": "fym2JmR4O2O1",
        "slideshow": {
          "slide_type": "-"
        },
        "colab": {}
      },
      "source": [
        "\"abcdefghijklmnopqrstuvwxyz\"[1]"
      ],
      "execution_count": 0,
      "outputs": []
    },
    {
      "cell_type": "markdown",
      "metadata": {
        "colab_type": "text",
        "id": "mdsjwVSBO_kN",
        "slideshow": {
          "slide_type": "-"
        }
      },
      "source": [
        "But Python's indexing is quite powerful allowing negative indexes to grab characters from the end of the string:"
      ]
    },
    {
      "cell_type": "code",
      "metadata": {
        "colab_type": "code",
        "id": "Catcl26sPPpK",
        "slideshow": {
          "slide_type": "-"
        },
        "colab": {}
      },
      "source": [
        "alphabet = \"abcdefghijklmnopqrstuvwxyz\"\n",
        "alphabet[-1]"
      ],
      "execution_count": 0,
      "outputs": []
    },
    {
      "cell_type": "markdown",
      "metadata": {
        "colab_type": "text",
        "id": "bv18nj19P0y6",
        "slideshow": {
          "slide_type": "-"
        }
      },
      "source": [
        "You can also extract a *slice* of a string. A slice is a portion of a string referenced by starting and ending index. The starting index is inclusive and the ending index is exclusive as you can see below where indexing a slice starting at 3 and ending at 12 returns a nine-character string.\n",
        "\n",
        "Slices have some handy shortcuts if you want to start at the beginning or go all the way to the end of a string."
      ]
    },
    {
      "cell_type": "code",
      "metadata": {
        "colab_type": "code",
        "id": "s4CTYF86P_8c",
        "slideshow": {
          "slide_type": "-"
        },
        "colab": {}
      },
      "source": [
        "print(alphabet[:3])\n",
        "print(alphabet[23:])\n",
        "print(alphabet[3:12])"
      ],
      "execution_count": 0,
      "outputs": []
    },
    {
      "cell_type": "markdown",
      "metadata": {
        "colab_type": "text",
        "id": "zMRmvX9qQkON",
        "slideshow": {
          "slide_type": "-"
        }
      },
      "source": [
        "Strings are *objects* in Python. Strings implement many useful methods:"
      ]
    },
    {
      "cell_type": "code",
      "metadata": {
        "colab_type": "code",
        "id": "zQCvFzGUQg4r",
        "slideshow": {
          "slide_type": "-"
        },
        "colab": {}
      },
      "source": [
        "s = \"This is my string\"\n",
        "print(s.upper())\n",
        "print(s.lower())\n",
        "print(s.find('my'))\n",
        "print(s.startswith('This'))\n",
        "print(s.split(' '))   # To split a string into a list of string by the given separator"
      ],
      "execution_count": 0,
      "outputs": []
    },
    {
      "cell_type": "markdown",
      "metadata": {
        "colab_type": "text",
        "id": "WXBznfKiRcsb",
        "slideshow": {
          "slide_type": "slide"
        }
      },
      "source": [
        "We've barely scratched the surface of what you can do with strings in Python. More information can be found in the [Python string](https://docs.python.org/3.7/library/stdtypes.html#textseq) documentation.\n",
        "\n",
        "And speaking of lists..."
      ]
    },
    {
      "cell_type": "markdown",
      "metadata": {
        "colab_type": "text",
        "id": "4aeUPXVUpoVb",
        "slideshow": {
          "slide_type": "slide"
        }
      },
      "source": [
        "### Lists"
      ]
    },
    {
      "cell_type": "markdown",
      "metadata": {
        "colab_type": "text",
        "id": "hvrg40h6Sacg",
        "slideshow": {
          "slide_type": "-"
        }
      },
      "source": [
        "Python's lists are its linear collection type (equivalent to arrays or vectors in other languages). The key differences are:\n",
        "\n",
        "- Lists can contain a mix of types\n",
        "- Lists can be sliced like strings\n"
      ]
    },
    {
      "cell_type": "code",
      "metadata": {
        "colab_type": "code",
        "id": "0c7EWoTkTBXc",
        "slideshow": {
          "slide_type": "-"
        },
        "colab": {}
      },
      "source": [
        "my_numbers = [9, 8, 7, 6, 5]\n",
        "print(my_numbers)\n",
        "my_list = [True, \"Shark!\", 3.4, False, 6]\n",
        "print(my_list)\n",
        "print(my_list[3:])\n",
        "my_list[1] = \"Wolf!\"\n",
        "print(my_list)\n",
        "my_list[-1] = True\n",
        "print(my_list)"
      ],
      "execution_count": 0,
      "outputs": []
    },
    {
      "cell_type": "markdown",
      "metadata": {
        "colab_type": "text",
        "id": "ffB5qW6iTEkp",
        "slideshow": {
          "slide_type": "-"
        }
      },
      "source": [
        "Lists can be sorted. Don't use the `sort` method, use the `sorted` function instead which returns a sorted copy of the list (but leaves the original list unchanged)."
      ]
    },
    {
      "cell_type": "code",
      "metadata": {
        "colab_type": "code",
        "id": "d9UaR3X8THH-",
        "slideshow": {
          "slide_type": "-"
        },
        "colab": {}
      },
      "source": [
        "my_sorted_numbers = sorted(my_numbers)\n",
        "print(\"%s -> %s\" % (my_numbers, my_sorted_numbers))"
      ],
      "execution_count": 0,
      "outputs": []
    },
    {
      "cell_type": "markdown",
      "metadata": {
        "colab_type": "text",
        "id": "lZTvQem9VUQk",
        "slideshow": {
          "slide_type": "-"
        }
      },
      "source": [
        "Lists can be nested which will come in handy for a lot of data science work:"
      ]
    },
    {
      "cell_type": "code",
      "metadata": {
        "colab_type": "code",
        "id": "oLhCs9bUVXtD",
        "slideshow": {
          "slide_type": "-"
        },
        "colab": {}
      },
      "source": [
        "customers = [\n",
        "    [\"C0\", 42, 56000, 12.30],\n",
        "    [\"C1\", 19, 15000, 43.21],\n",
        "    [\"C2\", 35, 123000, 45.67],\n",
        "]\n",
        "print(customers[1][2])"
      ],
      "execution_count": 0,
      "outputs": []
    },
    {
      "cell_type": "markdown",
      "metadata": {
        "colab_type": "text",
        "id": "np3pCakUWqzH",
        "slideshow": {
          "slide_type": "-"
        }
      },
      "source": [
        "Python supports other native data structures but lists are a widespread tool."
      ]
    },
    {
      "cell_type": "markdown",
      "metadata": {
        "colab_type": "text",
        "id": "DaHEjvmwpqzT",
        "slideshow": {
          "slide_type": "slide"
        }
      },
      "source": [
        "### Tuples\n",
        "\n",
        "Tuples are immutable lists. They use parentheses instead of square brackets:"
      ]
    },
    {
      "cell_type": "code",
      "metadata": {
        "colab_type": "code",
        "id": "s2wbBKB2YYr9",
        "slideshow": {
          "slide_type": "-"
        },
        "colab": {}
      },
      "source": [
        "my_tuple = (1, \"dog\", 3.987, False, [\"a\", \"list\", \"inside\", 1.0, \"tuples\"])\n",
        "\n",
        "# Easy swaps!\n",
        "var1 = \"foo\"\n",
        "var2 = \"bar\"\n",
        "(var1, var2) = (var2, var1)\n",
        "print(var1)\n",
        "print(var2)\n",
        "\n",
        "my_tuple[1] = \"cat\"  # Can't do that\n"
      ],
      "execution_count": 0,
      "outputs": []
    },
    {
      "cell_type": "markdown",
      "metadata": {
        "colab_type": "text",
        "id": "nUg1VzvqbAIR",
        "slideshow": {
          "slide_type": "-"
        }
      },
      "source": [
        "---"
      ]
    },
    {
      "cell_type": "markdown",
      "metadata": {
        "colab_type": "text",
        "id": "OUI-5GqHbB5L",
        "slideshow": {
          "slide_type": "-"
        }
      },
      "source": [
        "You may encounter tuples in various places in the code that you interact with. In general, you should be able to treat them as you would lists.\n",
        "One important exception is code that requires immutable objects. For example, the key of dictionary must be immutable..."
      ]
    },
    {
      "cell_type": "markdown",
      "metadata": {
        "colab_type": "text",
        "id": "AM2MY7EPpsS5",
        "slideshow": {
          "slide_type": "slide"
        }
      },
      "source": [
        "### Dictionaries\n",
        "\n",
        "Dictionaries are a built-in implementation of a hashmap or hashtable. "
      ]
    },
    {
      "cell_type": "code",
      "metadata": {
        "colab_type": "code",
        "id": "GkvFhLkguhln",
        "slideshow": {
          "slide_type": "-"
        },
        "colab": {}
      },
      "source": [
        "my_dictionary = {\n",
        "    \"pet\": \"cat\",\n",
        "    \"car\": \"Tesla\",\n",
        "    \"lodging\": \"apartment\",\n",
        "}\n",
        "\n",
        "my_dictionary[\"pet\"]"
      ],
      "execution_count": 0,
      "outputs": []
    },
    {
      "cell_type": "markdown",
      "metadata": {
        "colab_type": "text",
        "id": "jhS92kCxu2N-",
        "slideshow": {
          "slide_type": "-"
        }
      },
      "source": [
        "Notice that we used the *indexing* notation that should be familiar to you from strings, lists, and tuples. Instead of a numeric index, the lookup is done by key.\n",
        "\n",
        "A key can be any non-mutable data value. Keys can be numbers, strings, and even tuples. You can't us a dictionary or list as a key, but you can use them as values."
      ]
    },
    {
      "cell_type": "code",
      "metadata": {
        "colab_type": "code",
        "id": "F7H45vAkvTc-",
        "slideshow": {
          "slide_type": "-"
        },
        "colab": {}
      },
      "source": [
        "the_dictionary = {\n",
        "    57: \"the sneaky fox\",\n",
        "    \"many things\": [1, \"little list\", \" of \", 5.0, \"things\"],\n",
        "    (8, \"ocho\"): \"Hi there\",\n",
        "    \"KEY_ONE\": {\n",
        "        \"a\": \"dictionary\",\n",
        "        \"as a\": \"value\"\n",
        "    },\n",
        "}\n",
        "\n",
        "the_dictionary[(8, \"ocho\")]"
      ],
      "execution_count": 0,
      "outputs": []
    },
    {
      "cell_type": "markdown",
      "metadata": {
        "colab_type": "text",
        "id": "Ljuhxa7sv0Ze",
        "slideshow": {
          "slide_type": "slide"
        }
      },
      "source": [
        "The dictionary above is much more unstructured than dictionaries that you'll typically encounter in practice, but it illustrates the broad range of key types and value types that a dictionary can store.\n",
        "\n",
        "You can also index many levels down in a dictionary. For example in `the_dictionary` above there is a sub-dictionary at the `KEY_ONE` key. Let's pull something out of the sub-dictionary."
      ]
    },
    {
      "cell_type": "code",
      "metadata": {
        "colab_type": "code",
        "id": "-9d8N3kxwgp_",
        "slideshow": {
          "slide_type": "-"
        },
        "colab": {}
      },
      "source": [
        "the_dictionary[\"key_one\".upper()]['as a']"
      ],
      "execution_count": 0,
      "outputs": []
    },
    {
      "cell_type": "markdown",
      "metadata": {
        "colab_type": "text",
        "id": "5faIdUYRwrZp",
        "slideshow": {
          "slide_type": "-"
        }
      },
      "source": [
        "You can also index into sub-lists."
      ]
    },
    {
      "cell_type": "code",
      "metadata": {
        "colab_type": "code",
        "id": "8QI8rJKMwtyH",
        "slideshow": {
          "slide_type": "-"
        },
        "colab": {}
      },
      "source": [
        "the_dictionary[\"many things\"][1]"
      ],
      "execution_count": 0,
      "outputs": []
    },
    {
      "cell_type": "markdown",
      "metadata": {
        "colab_type": "text",
        "id": "gBwk3lyzxFlg",
        "slideshow": {
          "slide_type": "-"
        }
      },
      "source": [
        "Dictionaries, lists, tuples, and other data structures can nest as much as you want or need to nest them."
      ]
    },
    {
      "cell_type": "markdown",
      "metadata": {
        "colab_type": "text",
        "id": "FyKt13WvxO0K",
        "slideshow": {
          "slide_type": "-"
        }
      },
      "source": [
        "Dictionaries store their values by key. Only one value can exist per key, so if you put write a new value to a key, the old value goes away."
      ]
    },
    {
      "cell_type": "code",
      "metadata": {
        "colab_type": "code",
        "id": "XjvSiO5pxaQb",
        "slideshow": {
          "slide_type": "-"
        },
        "colab": {}
      },
      "source": [
        "my_dictionary = {\n",
        "    \"k1\": \"name\",\n",
        "    \"k2\": \"age\"\n",
        "}\n",
        "\n",
        "my_dictionary[\"k1\"] = \"surname\"\n",
        "\n",
        "my_dictionary"
      ],
      "execution_count": 0,
      "outputs": []
    },
    {
      "cell_type": "markdown",
      "metadata": {
        "colab_type": "text",
        "id": "dySuvUTfxn-h",
        "slideshow": {
          "slide_type": "-"
        }
      },
      "source": [
        "You can add entries to a dictionary by assigning them to a key."
      ]
    },
    {
      "cell_type": "code",
      "metadata": {
        "colab_type": "code",
        "id": "KbMBUHKgxtWl",
        "slideshow": {
          "slide_type": "slide"
        },
        "colab": {}
      },
      "source": [
        "my_dictionary[\"k3\"] = \"rank\"\n",
        "\n",
        "my_dictionary"
      ],
      "execution_count": 0,
      "outputs": []
    },
    {
      "cell_type": "markdown",
      "metadata": {
        "colab_type": "text",
        "id": "BAi6X1T9xznZ",
        "slideshow": {
          "slide_type": "-"
        }
      },
      "source": [
        "And you can remove entries from a dictionary using the **`del`** operator."
      ]
    },
    {
      "cell_type": "code",
      "metadata": {
        "colab_type": "code",
        "id": "DzeaUA_lx7Vh",
        "slideshow": {
          "slide_type": "-"
        },
        "colab": {}
      },
      "source": [
        "del my_dictionary[\"k2\"]\n",
        "\n",
        "my_dictionary"
      ],
      "execution_count": 0,
      "outputs": []
    },
    {
      "cell_type": "markdown",
      "metadata": {
        "colab_type": "text",
        "id": "DF9ipqh2yDwM",
        "slideshow": {
          "slide_type": "-"
        }
      },
      "source": [
        "To see if a key exists in a dictionary use the **`in`** operator. Notice that it returns a boolean value."
      ]
    },
    {
      "cell_type": "code",
      "metadata": {
        "colab_type": "code",
        "id": "7-M5xn9DyJcS",
        "slideshow": {
          "slide_type": "-"
        },
        "colab": {}
      },
      "source": [
        "\"k2\" in my_dictionary"
      ],
      "execution_count": 0,
      "outputs": []
    },
    {
      "cell_type": "markdown",
      "metadata": {
        "colab_type": "text",
        "id": "mGe0UEq4yUaI",
        "slideshow": {
          "slide_type": "-"
        }
      },
      "source": [
        "It is advisable to check if a key exists in a dictionary before trying to index that key. If you try to access a key that doesn't exist using square brackets your program will throw an exception and possibly crash.\n",
        "\n",
        "There is also a safer **`get`** method on the dictionary object that you can access using the dot notation reference earlier. You provide `get` with a key and a default value to return if the key isn't present."
      ]
    },
    {
      "cell_type": "code",
      "metadata": {
        "colab_type": "code",
        "id": "gm5yy399y2Hk",
        "slideshow": {
          "slide_type": "-"
        },
        "colab": {}
      },
      "source": [
        "my_dictionary.get(\"k2\", \"I can't find it\")"
      ],
      "execution_count": 0,
      "outputs": []
    },
    {
      "cell_type": "markdown",
      "metadata": {
        "colab_type": "text",
        "id": "N4eyTWNPy7Fc",
        "slideshow": {
          "slide_type": "-"
        }
      },
      "source": [
        "Dictionaries are a powerful data structure with many uses. We've only mentioned the most common things to do with a dictionary. For more information check out the [official Python dictionary documentation](https://docs.python.org/3/tutorial/datastructures.html#dictionaries)."
      ]
    },
    {
      "cell_type": "markdown",
      "metadata": {
        "colab_type": "text",
        "id": "fztJxWa34xZP",
        "slideshow": {
          "slide_type": "slide"
        }
      },
      "source": [
        "---"
      ]
    },
    {
      "cell_type": "markdown",
      "metadata": {
        "colab_type": "text",
        "id": "KiF3xtSI40Tw",
        "slideshow": {
          "slide_type": "-"
        }
      },
      "source": [
        "We've learned about the most fundamental data structures in Python: numbers, booleans, lists, tuples, and dictionaries. Along the way we learned how to store data in variables and how to change data in variables, dictionaries and lists. Each of these data types have more functionality than we have gone over in this tutorial, so please do take some time to see what more we can do with these data types in Python.\n",
        " \n",
        "There are also many data types that we did not cover. Some are low-level data types dealing with bits and bytes on you computer. Some are higher-level, using these core data structures that we just studied to build rich representation of queues, dates, times, and more.\n",
        " \n",
        "As we encounter the need for other types of data in our study of machine learning and data science we will introduce and explain them. But now, it is time to move on and learn how to make decisions about and with our data and control the flow of program execution."
      ]
    },
    {
      "cell_type": "markdown",
      "metadata": {
        "colab_type": "text",
        "id": "eRV7n-FxpzIS",
        "slideshow": {
          "slide_type": "slide"
        }
      },
      "source": [
        "## Flow Control\n",
        "\n",
        "Python's flow control looks very similar to Java's and C's:"
      ]
    },
    {
      "cell_type": "markdown",
      "metadata": {
        "colab_type": "text",
        "id": "j0CX7jke7lqR",
        "slideshow": {
          "slide_type": "slide"
        }
      },
      "source": [
        "### If-statements\n",
        "\n",
        "If-statements don't require parenthesis around the boolean expression and finish in a colon:"
      ]
    },
    {
      "cell_type": "code",
      "metadata": {
        "colab_type": "code",
        "id": "zuF7LVOS7FhQ",
        "slideshow": {
          "slide_type": "-"
        },
        "colab": {}
      },
      "source": [
        "if 1 > 3:\n",
        "  print(\"One is greater than three\")\n",
        "\n",
        "if 1 < 3:\n",
        "  print(\"One is less than three\")"
      ],
      "execution_count": 0,
      "outputs": []
    },
    {
      "cell_type": "markdown",
      "metadata": {
        "colab_type": "text",
        "id": "Cv30H9ZrB1cI",
        "slideshow": {
          "slide_type": "-"
        }
      },
      "source": [
        "One weird difference: `else if` is written `elif`."
      ]
    },
    {
      "cell_type": "code",
      "metadata": {
        "colab_type": "code",
        "id": "nTi0_DBTGJsK",
        "slideshow": {
          "slide_type": "-"
        },
        "colab": {}
      },
      "source": [
        "my_age = 39\n",
        "\n",
        "if my_age >= 100:\n",
        "  print(\"Centenarian\")\n",
        "elif my_age >= 90:\n",
        "  print(\"Nonagenarian\")\n",
        "elif my_age >= 80:\n",
        "  print(\"Octogenarian\")\n",
        "elif my_age >= 70:\n",
        "  print(\"Septuagenarian\")\n",
        "elif my_age >= 60:\n",
        "  print(\"Sexagenarian\")\n",
        "elif my_age >= 50:\n",
        "  print(\"Quinquagenarian\")\n",
        "elif my_age >= 40:\n",
        "  print(\"Quadragenarian\")\n",
        "elif my_age >= 30:\n",
        "  print(\"Tricenarian\")\n",
        "elif my_age >= 20:\n",
        "  print(\"Vicenarian\")\n",
        "elif my_age >= 10:\n",
        "  print(\"Denarian\")\n",
        "else:\n",
        "  print(\"Kiddo\")"
      ],
      "execution_count": 0,
      "outputs": []
    },
    {
      "cell_type": "markdown",
      "metadata": {
        "colab_type": "text",
        "id": "qFPc3YgQ7ocD",
        "slideshow": {
          "slide_type": "slide"
        }
      },
      "source": [
        "### For Loops\n",
        "\n",
        "For loops are used to loop over iterables like strings, lists, tuples and dictionaries:"
      ]
    },
    {
      "cell_type": "code",
      "metadata": {
        "colab_type": "code",
        "id": "sk8Aw0yZJCUf",
        "colab": {}
      },
      "source": [
        "my_list = ['a', 'b', 'c']\n",
        "\n",
        "for item in my_list:\n",
        "  print(item)"
      ],
      "execution_count": 0,
      "outputs": []
    },
    {
      "cell_type": "markdown",
      "metadata": {
        "colab_type": "text",
        "id": "-VfTc3TBJk5r"
      },
      "source": [
        "Dictionaries default to iterate over their keys:"
      ]
    },
    {
      "cell_type": "code",
      "metadata": {
        "colab_type": "code",
        "id": "gSZist0eJrVY",
        "colab": {}
      },
      "source": [
        "my_dictionary = {\n",
        "    \"first_name\": \"Jane\",\n",
        "    \"last_name\": \"Doe\",\n",
        "    \"title\": \"Dr.\"\n",
        "}\n",
        "\n",
        "for k in my_dictionary:\n",
        "  print(\"{}: {}\".format(k, my_dictionary[k]))"
      ],
      "execution_count": 0,
      "outputs": []
    },
    {
      "cell_type": "markdown",
      "metadata": {
        "colab_type": "text",
        "id": "Ir9HX9bSJ827"
      },
      "source": [
        "If only values are interesting to you it is possible to ask the dictionary to return it's `values`."
      ]
    },
    {
      "cell_type": "code",
      "metadata": {
        "colab_type": "code",
        "id": "ktslT2NVKD3o",
        "colab": {}
      },
      "source": [
        "for v in my_dictionary.values():\n",
        "  print(v)"
      ],
      "execution_count": 0,
      "outputs": []
    },
    {
      "cell_type": "markdown",
      "metadata": {
        "colab_type": "text",
        "id": "n4ohtpYDKRPY"
      },
      "source": [
        "If you want both keys and values without a lookup you can asked the dictionary for its `items`."
      ]
    },
    {
      "cell_type": "code",
      "metadata": {
        "colab_type": "code",
        "id": "bGGDRbzPKIf9",
        "colab": {}
      },
      "source": [
        "for (k, v) in my_dictionary.items():\n",
        "  print(\"{}: {}\".format(k, v))"
      ],
      "execution_count": 0,
      "outputs": []
    },
    {
      "cell_type": "markdown",
      "metadata": {
        "colab_type": "text",
        "id": "ivbCdgpXKn0z"
      },
      "source": [
        "You can operate on a string character by character but `c` is not really a character, it's a one-character string. "
      ]
    },
    {
      "cell_type": "code",
      "metadata": {
        "colab_type": "code",
        "id": "gt5Ru7HjKkjp",
        "colab": {}
      },
      "source": [
        "for c in \"this string\":\n",
        "  print(c)"
      ],
      "execution_count": 0,
      "outputs": []
    },
    {
      "cell_type": "markdown",
      "metadata": {
        "colab_type": "text",
        "id": "H2y1EkjmK6eL"
      },
      "source": [
        "If you want a numerical look like you would use `range` to create a dynamically generated list of numbers."
      ]
    },
    {
      "cell_type": "code",
      "metadata": {
        "colab_type": "code",
        "id": "rGqDXpv6KwYy",
        "colab": {}
      },
      "source": [
        "for i in range(len(my_list)):\n",
        "  print(\"{}: {}\".format(i, my_list[i]))"
      ],
      "execution_count": 0,
      "outputs": []
    },
    {
      "cell_type": "markdown",
      "metadata": {
        "colab_type": "text",
        "id": "7vazK2DeLIxU"
      },
      "source": [
        "`range` is quite flexible:"
      ]
    },
    {
      "cell_type": "code",
      "metadata": {
        "colab_type": "code",
        "id": "7n2oLEzGLXw7",
        "colab": {}
      },
      "source": [
        "print(range(5))\n",
        "print(range(6, 12))\n",
        "print(range(20, 100, 10))"
      ],
      "execution_count": 0,
      "outputs": []
    },
    {
      "cell_type": "markdown",
      "metadata": {
        "colab_type": "text",
        "id": "bxhdbYLYL7tY"
      },
      "source": [
        "Ranges are lazily evaluated so even very large ranges will not occupy a significant amount of memory."
      ]
    },
    {
      "cell_type": "markdown",
      "metadata": {
        "colab_type": "text",
        "id": "iogbsWBcMdbr"
      },
      "source": [
        "### While Loops\n",
        "\n",
        "`while` loops are more like `while` loops in other languages with the same syntactic differences as it statements:"
      ]
    },
    {
      "cell_type": "code",
      "metadata": {
        "colab_type": "code",
        "id": "Lo1YXGn8M6XT",
        "colab": {}
      },
      "source": [
        "counter = 0\n",
        "while counter < 5:\n",
        "  print(counter)\n",
        "  if counter == 1:\n",
        "    counter += 2\n",
        "  else:\n",
        "    counter += 1\n"
      ],
      "execution_count": 0,
      "outputs": []
    },
    {
      "cell_type": "markdown",
      "metadata": {
        "colab_type": "text",
        "id": "HhN1wqr1NAQx"
      },
      "source": [
        "Note that Python has `+=`, `-=`, etc. but no `++` or `--`."
      ]
    },
    {
      "cell_type": "markdown",
      "metadata": {
        "colab_type": "text",
        "id": "TwPCggdfN8GP"
      },
      "source": [
        "### Break and continue\n",
        "\n",
        "Work the same as in  Java and C."
      ]
    },
    {
      "cell_type": "code",
      "metadata": {
        "colab_type": "code",
        "id": "CHhiRnYTOCqG",
        "colab": {}
      },
      "source": [
        "for x in range(1000000):\n",
        "  if x >= 5:\n",
        "    break\n",
        "  print(x)"
      ],
      "execution_count": 0,
      "outputs": []
    },
    {
      "cell_type": "markdown",
      "metadata": {
        "colab_type": "text",
        "id": "u9DuFDG_p2rz",
        "slideshow": {
          "slide_type": "slide"
        }
      },
      "source": [
        "## Functions\n",
        "\n",
        "Functions are defined by the `def` statement."
      ]
    },
    {
      "cell_type": "code",
      "metadata": {
        "colab_type": "code",
        "id": "BVpNQ4swQr3u",
        "colab": {}
      },
      "source": [
        "def my_function():\n",
        "  print(\"I wrote a function\")\n",
        "\n",
        "my_function()\n",
        "my_function()\n",
        "my_function()"
      ],
      "execution_count": 0,
      "outputs": []
    },
    {
      "cell_type": "markdown",
      "metadata": {
        "colab_type": "text",
        "id": "6NcFKBi2Q8De"
      },
      "source": [
        "Functions can take parameters:"
      ]
    },
    {
      "cell_type": "code",
      "metadata": {
        "colab_type": "code",
        "id": "m0Cm8vbzSOxo",
        "colab": {}
      },
      "source": [
        "def my_function(adj1, color, animal1, verb, animal2):\n",
        "  print(\"The {} {} {} {} over the lazy {}\".format(adj1, color, animal1, verb, animal2))\n",
        "\n",
        "my_function(\"quick\", \"brown\", \"fox\", \"jumped\", \"dog\")\n",
        "\n",
        "my_function(\"smelly\", \"fuschia\", \"chipmunk\", \"cartwheeled\", \"elephant\")"
      ],
      "execution_count": 0,
      "outputs": []
    },
    {
      "cell_type": "markdown",
      "metadata": {
        "colab_type": "text",
        "id": "tPhUa3P7T9W3"
      },
      "source": [
        "Parameters can be optional:"
      ]
    },
    {
      "cell_type": "code",
      "metadata": {
        "colab_type": "code",
        "id": "CB1b7Q-dUJkc",
        "colab": {}
      },
      "source": [
        "def doubler(n = 5):\n",
        "  return n * 2\n",
        "\n",
        "print(doubler())\n",
        "print(doubler(55))"
      ],
      "execution_count": 0,
      "outputs": []
    },
    {
      "cell_type": "markdown",
      "metadata": {
        "colab_type": "text",
        "id": "PZqgCw08V7CC"
      },
      "source": [
        "Be careful with default values, you should never use [] or {} as default values for a function. It'll lead to hard to debug, unexpected results:"
      ]
    },
    {
      "cell_type": "code",
      "metadata": {
        "colab_type": "code",
        "id": "QTehn16iWDHG",
        "colab": {}
      },
      "source": [
        "def my_append(value_to_append, list_parameter=[]):\n",
        "  list_parameter.append(value_to_append)\n",
        "  return list_parameter\n",
        "  \n",
        "my_list = my_append(1)\n",
        "print(\"So far, so good: %s\" % my_list)\n",
        "\n",
        "my_other_list = my_append(5)\n",
        "print(\"What? %s\" % my_other_list)"
      ],
      "execution_count": 0,
      "outputs": []
    },
    {
      "cell_type": "markdown",
      "metadata": {
        "colab_type": "text",
        "id": "ZG5jeM7nWmfE"
      },
      "source": [
        "If you want a default empty list or dictionary, implement it like this instead:"
      ]
    },
    {
      "cell_type": "code",
      "metadata": {
        "colab_type": "code",
        "id": "UImz9KuQWsox",
        "colab": {}
      },
      "source": [
        "def my_append(value_to_append, list_parameter=None):\n",
        "  if list_parameter is None:\n",
        "    list_parameter = []\n",
        "  list_parameter.append(value_to_append)\n",
        "  return list_parameter\n",
        "  \n",
        "my_list = my_append(1)\n",
        "print(\"So far, so good: %s\" % my_list)\n",
        "\n",
        "my_other_list = my_append(5)\n",
        "print(\"Better: %s\" % my_other_list)"
      ],
      "execution_count": 0,
      "outputs": []
    },
    {
      "cell_type": "markdown",
      "metadata": {
        "colab_type": "text",
        "id": "dECmjCN-UU0d"
      },
      "source": [
        "Functions can return multiple values as a tuple."
      ]
    },
    {
      "cell_type": "code",
      "metadata": {
        "colab_type": "code",
        "id": "umXslWytUXkT",
        "colab": {}
      },
      "source": [
        "def min_max(numbers):\n",
        "  min = 0\n",
        "  max = 0\n",
        "  for n in numbers:\n",
        "    if n > max:\n",
        "      max = n\n",
        "    if n < min:\n",
        "      min = n\n",
        "  return min, max\n",
        "\n",
        "print(min_max([-6, 78, -102, 45, 5.98, 3.1243]))"
      ],
      "execution_count": 0,
      "outputs": []
    },
    {
      "cell_type": "markdown",
      "metadata": {
        "colab_type": "text",
        "id": "3sFqKkIuVCfv"
      },
      "source": [
        "It is important to note that numeric, boolean, and string data types are passed by value, whereas lists and dictionaries are passed by reference:"
      ]
    },
    {
      "cell_type": "code",
      "metadata": {
        "colab_type": "code",
        "id": "FMpdW55IVWCJ",
        "colab": {}
      },
      "source": [
        "def number_changer(n):\n",
        "  n = 42\n",
        "\n",
        "my_number = 24\n",
        "number_changer(my_number)\n",
        "print(my_number)"
      ],
      "execution_count": 0,
      "outputs": []
    },
    {
      "cell_type": "markdown",
      "metadata": {
        "colab_type": "text",
        "id": "rGdDthSaWLGt"
      },
      "source": [
        "The same is true for booleans. The function can't modify `my_bool`"
      ]
    },
    {
      "cell_type": "code",
      "metadata": {
        "colab_type": "code",
        "id": "0IKK0XRaWPxT",
        "colab": {}
      },
      "source": [
        "def boolean_changer(b):\n",
        "  b = False\n",
        "\n",
        "my_bool = True\n",
        "boolean_changer(my_bool)\n",
        "print(my_bool)"
      ],
      "execution_count": 0,
      "outputs": []
    },
    {
      "cell_type": "markdown",
      "metadata": {
        "colab_type": "text",
        "id": "8cyusJcMWbD9"
      },
      "source": [
        "We can see the same for strings."
      ]
    },
    {
      "cell_type": "code",
      "metadata": {
        "colab_type": "code",
        "id": "BiIbX1b2WeGm",
        "colab": {}
      },
      "source": [
        "def string_changer(s):\n",
        "  s = \"Got you!\"\n",
        "\n",
        "my_string = \"Can't get me\"\n",
        "string_changer(my_string)\n",
        "print(my_string)"
      ],
      "execution_count": 0,
      "outputs": []
    },
    {
      "cell_type": "markdown",
      "metadata": {
        "colab_type": "text",
        "id": "2yJ03-RCWrcs"
      },
      "source": [
        "Lists can be modified though."
      ]
    },
    {
      "cell_type": "code",
      "metadata": {
        "colab_type": "code",
        "id": "7Wd-GGGeWwBY",
        "colab": {}
      },
      "source": [
        "def list_changer(list_parameter):\n",
        "  list_parameter[0] = \"pwned\"\n",
        "\n",
        "my_list = [1, 2, 3]\n",
        "list_changer(my_list)\n",
        "print(my_list)"
      ],
      "execution_count": 0,
      "outputs": []
    },
    {
      "cell_type": "markdown",
      "metadata": {
        "colab_type": "text",
        "id": "wGqGcQvbXAKJ"
      },
      "source": [
        "However, the change of list location done by the function doesn't stick."
      ]
    },
    {
      "cell_type": "code",
      "metadata": {
        "colab_type": "code",
        "id": "D-qahKSCXJj6",
        "colab": {}
      },
      "source": [
        "def list_changer(list_parameter):\n",
        "  list_parameter = [\"this is my list now\"]\n",
        "\n",
        "my_list = [1, 2, 3]\n",
        "list_changer(my_list)\n",
        "print(my_list)"
      ],
      "execution_count": 0,
      "outputs": []
    },
    {
      "cell_type": "markdown",
      "metadata": {
        "colab_type": "text",
        "id": "mgArUXxCXT_6"
      },
      "source": [
        "Dictionaries interact with functions exactly like lists do."
      ]
    },
    {
      "cell_type": "code",
      "metadata": {
        "colab_type": "code",
        "id": "-hbfpZx5Xb2E",
        "colab": {}
      },
      "source": [
        "def dictionary_changer(d):\n",
        "  d[\"my_entry\"] = 100\n",
        "\n",
        "my_dictionary = {\"a\": 100, \"b\": \"bee\"}\n",
        "dictionary_changer(my_dictionary)\n",
        "print(my_dictionary)"
      ],
      "execution_count": 0,
      "outputs": []
    },
    {
      "cell_type": "code",
      "metadata": {
        "colab_type": "code",
        "id": "xcpPFrnZXtwM",
        "colab": {}
      },
      "source": [
        "def dictionary_changer(d):\n",
        "  d = {\"this is\": \"my dictionary\"}\n",
        "\n",
        "my_dictionary = {\"a\": 100, \"b\": \"bee\"}\n",
        "dictionary_changer(my_dictionary)\n",
        "print(my_dictionary)"
      ],
      "execution_count": 0,
      "outputs": []
    },
    {
      "cell_type": "markdown",
      "metadata": {
        "colab_type": "text",
        "id": "w1CW590FbAy4"
      },
      "source": [
        "## Pass\n",
        "\n",
        "`pass` is a Python keyword that is used as a placeholder when code hasn't been written yet. It is used in places where code would normally be required, but hasn't been written yet. You'll see `pass` often in your exercises as a placeholder for the code you'll need to write."
      ]
    },
    {
      "cell_type": "code",
      "metadata": {
        "colab_type": "code",
        "id": "_NA64T75bXAU",
        "colab": {}
      },
      "source": [
        "def do_nothing_function():\n",
        "  pass\n",
        "\n",
        "do_nothing_function()"
      ],
      "execution_count": 0,
      "outputs": []
    },
    {
      "cell_type": "markdown",
      "metadata": {
        "colab_type": "text",
        "id": "rgjTJDgFahSC"
      },
      "source": [
        "# Exercises"
      ]
    },
    {
      "cell_type": "markdown",
      "metadata": {
        "colab_type": "text",
        "id": "5CORN6WcalLz"
      },
      "source": [
        "## Exercise 1"
      ]
    },
    {
      "cell_type": "markdown",
      "metadata": {
        "colab_type": "text",
        "id": "T3Bi8-LaqukF"
      },
      "source": [
        "In the code block below complete the function by making it return the square of the provided number."
      ]
    },
    {
      "cell_type": "markdown",
      "metadata": {
        "colab_type": "text",
        "id": "xteI-3Hpq1uG"
      },
      "source": [
        "### Student Solution"
      ]
    },
    {
      "cell_type": "code",
      "metadata": {
        "colab_type": "code",
        "id": "-9DYcdrWa3cJ",
        "colab": {}
      },
      "source": [
        "def find_the_square(n):\n",
        "  pass # your code goes here\n",
        "\n",
        "print(find_the_square(5))"
      ],
      "execution_count": 0,
      "outputs": []
    },
    {
      "cell_type": "markdown",
      "metadata": {
        "colab_type": "text",
        "id": "exercise-1-key-1"
      },
      "source": [
        "### Answer Key"
      ]
    },
    {
      "cell_type": "markdown",
      "metadata": {
        "colab_type": "text",
        "id": "exercise-1-solution-1"
      },
      "source": [
        "**Solution**"
      ]
    },
    {
      "cell_type": "code",
      "metadata": {
        "colab_type": "code",
        "id": "ZHRz4JIlq9hY",
        "colab": {}
      },
      "source": [
        "def find_the_square(n):\n",
        "  return n*n\n",
        "\n",
        "print(find_the_square(5))"
      ],
      "execution_count": 0,
      "outputs": []
    },
    {
      "cell_type": "markdown",
      "metadata": {
        "colab_type": "text",
        "id": "9hK4OJo9q6iV"
      },
      "source": [
        "**Validation**"
      ]
    },
    {
      "cell_type": "code",
      "metadata": {
        "colab_type": "code",
        "id": "ZxNjW7RtrAYU",
        "colab": {}
      },
      "source": [
        "assert list(map(find_the_square, range(11))) == [0,1,4,9,16,25,36,49,64,81,100], \"Wrong result\"\n",
        "\n",
        "\"LGTM\""
      ],
      "execution_count": 0,
      "outputs": []
    },
    {
      "cell_type": "markdown",
      "metadata": {
        "colab_type": "text",
        "id": "vCd361qEbiRB"
      },
      "source": [
        "## Exercise 2"
      ]
    },
    {
      "cell_type": "markdown",
      "metadata": {
        "colab_type": "text",
        "id": "gy2KWUq2qxCg"
      },
      "source": [
        "In the code block below complete the function by making it return the sum of the even numbers of the provided sequence (list or tuple)"
      ]
    },
    {
      "cell_type": "markdown",
      "metadata": {
        "colab_type": "text",
        "id": "GnChhq7YrBGM"
      },
      "source": [
        "### Student Solution"
      ]
    },
    {
      "cell_type": "code",
      "metadata": {
        "colab_type": "code",
        "id": "TYCBS1xXbsoW",
        "colab": {}
      },
      "source": [
        "def sum_of_evens(seq):\n",
        "  pass # your code goes here\n",
        "\n",
        "print(sum_of_evens([5, 14, 6, -2, 0, 45, 66]))"
      ],
      "execution_count": 0,
      "outputs": []
    },
    {
      "cell_type": "markdown",
      "metadata": {
        "colab_type": "text",
        "id": "exercise-2-key-1"
      },
      "source": [
        "### Answer Key"
      ]
    },
    {
      "cell_type": "markdown",
      "metadata": {
        "colab_type": "text",
        "id": "exercise-2-solution-1"
      },
      "source": [
        "**Solution**"
      ]
    },
    {
      "cell_type": "code",
      "metadata": {
        "colab_type": "code",
        "id": "309UVLg-rGPN",
        "colab": {}
      },
      "source": [
        "def sum_of_evens(seq):\n",
        "  return sum([x for x in seq if x%2==0])\n",
        "\n",
        "print(sum_of_evens([5, 14, 6, -2, 0, 45, 66]))"
      ],
      "execution_count": 0,
      "outputs": []
    },
    {
      "cell_type": "markdown",
      "metadata": {
        "colab_type": "text",
        "id": "AVC_eACCrHpO"
      },
      "source": [
        "**Validation**"
      ]
    },
    {
      "cell_type": "code",
      "metadata": {
        "colab_type": "code",
        "id": "uvPG3THZrKT1",
        "colab": {}
      },
      "source": [
        "test_list = [5, 14, 6, -2, 0, 45, 66]\n",
        "assert sum_of_evens(test_list) == 84, \"Wrong Result\"\n",
        "\n",
        "\"LGTM\""
      ],
      "execution_count": 0,
      "outputs": []
    },
    {
      "cell_type": "markdown",
      "metadata": {
        "colab_type": "text",
        "id": "SNzbvnMYbwff"
      },
      "source": [
        "## Exercise 3"
      ]
    },
    {
      "cell_type": "markdown",
      "metadata": {
        "colab_type": "text",
        "id": "IuL2vCoRqyD9"
      },
      "source": [
        "In the code block below complete the function by making it convert the values of the provided dictionary to uppercase if the key has a length of four. Convert the value to lowercase if the length of the key is not four."
      ]
    },
    {
      "cell_type": "markdown",
      "metadata": {
        "colab_type": "text",
        "id": "4A9vLcukw3zQ"
      },
      "source": [
        "### Student Solution"
      ]
    },
    {
      "cell_type": "code",
      "metadata": {
        "colab_type": "code",
        "id": "p4ZsxD5vcbsL",
        "colab": {}
      },
      "source": [
        "def upper_case_sometimes(d):\n",
        "  pass # your code goes here\n",
        "\n",
        "print(upper_case_sometimes({\n",
        "    \"12\": \"Joe\",\n",
        "    (5, 6, \"X\", 4.56): \"python\",\n",
        "    \"Jean\": \"Doe\",\n",
        "    \"1234\": \"one two three four\",\n",
        "    (6, \"t\"): \"XoXo\"\n",
        "}))"
      ],
      "execution_count": 0,
      "outputs": []
    },
    {
      "cell_type": "markdown",
      "metadata": {
        "colab_type": "text",
        "id": "exercise-3-key-1"
      },
      "source": [
        "### Answer Key"
      ]
    },
    {
      "cell_type": "markdown",
      "metadata": {
        "colab_type": "text",
        "id": "exercise-3-solution-1"
      },
      "source": [
        "**Solution**"
      ]
    },
    {
      "cell_type": "code",
      "metadata": {
        "colab_type": "code",
        "id": "-yPcWEVRxDW5",
        "colab": {}
      },
      "source": [
        "def upper_case_sometimes(d):\n",
        "  return [v.upper() if len(k)==4 else v.lower() for k, v in d.items()]\n",
        "\n",
        "print(upper_case_sometimes({\n",
        "    \"12\": \"Joe\",\n",
        "    (5, 6, \"X\", 4.56): \"python\",\n",
        "    \"Jean\": \"Doe\",\n",
        "    \"1234\": \"one two three four\",\n",
        "    (6, \"t\"): \"XoXo\"\n",
        "}))"
      ],
      "execution_count": 0,
      "outputs": []
    },
    {
      "cell_type": "markdown",
      "metadata": {
        "colab_type": "text",
        "id": "oBdnQTvHxFVy"
      },
      "source": [
        "**Validation**"
      ]
    },
    {
      "cell_type": "code",
      "metadata": {
        "colab_type": "code",
        "id": "rREaPDJ6xILM",
        "colab": {}
      },
      "source": [
        "test_dict = {\n",
        "    \"12\": \"Joe\",\n",
        "    (5, 6, \"X\", 4.56): \"python\",\n",
        "    \"Jean\": \"Doe\",\n",
        "    \"1234\": \"one two three four\",\n",
        "    (6, \"t\"): \"XoXo\"\n",
        "}\n",
        "\n",
        "assert upper_case_sometimes(test_dict) == ['joe', 'PYTHON', 'DOE', 'ONE TWO THREE FOUR', 'xoxo'], \"Wrong Result\"\n",
        "\n",
        "\"LGTM\""
      ],
      "execution_count": 0,
      "outputs": []
    },
    {
      "cell_type": "markdown",
      "metadata": {
        "colab_type": "text",
        "id": "iCso5rcO5bPm"
      },
      "source": [
        "## Exercise 4: Challenge (Ungraded)"
      ]
    },
    {
      "cell_type": "markdown",
      "metadata": {
        "colab_type": "text",
        "id": "m6MDmRsIXEC1"
      },
      "source": [
        "Implement [Pig the dice game](https://en.wikipedia.org/wiki/Pig_(dice_game%29), a game where two players (in our case one human, one computer) take turns rolling a dice to build up their score while trying to avoid rolling a 1.\n",
        " \n",
        " Both players alternate turns. On their turn, a player rolls a six-sided dice. If the roll is 1, they lose their turn's points and it becomes the other player's turn. If they roll another value, that value is added to their turn total. After each die roll, the player has the option to end their turn or roll again. If they end their turn, their round total is added to their overall total. The overall total is safe from future rolls of 1.\n",
        " \n",
        " First player to 100 points win. \n",
        " \n",
        " The human player should be presented with their round total and asked whether to roll again (using the `raw_input` function illustrated below). For the computer player, we'll use a simple heuristic: the computer will re-roll until they hit at least 20 points in the round or roll a 1. \n",
        " \n",
        " Make sure to use functions at least for the `PlayerTurn` and `ComputerTurn` functionality. "
      ]
    },
    {
      "cell_type": "code",
      "metadata": {
        "colab_type": "code",
        "id": "10CaYgk1Y-BM",
        "colab": {}
      },
      "source": [
        "import random      # import brings in additional functionality\n",
        "\n",
        "print(random.randint(1, 6)) # Random integer between 1 and 6, simulating a dice\n",
        "m = raw_input(\"Type 'y' to roll again \")   # ask the user for input\n",
        "print(\"You entered: %s\" % m)"
      ],
      "execution_count": 0,
      "outputs": []
    },
    {
      "cell_type": "markdown",
      "metadata": {
        "colab_type": "text",
        "id": "-GzoAuk-xVNK"
      },
      "source": [
        "### Student Solution"
      ]
    },
    {
      "cell_type": "code",
      "metadata": {
        "colab_type": "code",
        "id": "tYwtFzofZADz",
        "colab": {}
      },
      "source": [
        "# Your code goes here"
      ],
      "execution_count": 0,
      "outputs": []
    },
    {
      "cell_type": "markdown",
      "metadata": {
        "colab_type": "text",
        "id": "exercise-4-key-1"
      },
      "source": [
        "### Answer Key"
      ]
    },
    {
      "cell_type": "markdown",
      "metadata": {
        "colab_type": "text",
        "id": "exercise-4-solution-1"
      },
      "source": [
        "**Solution**"
      ]
    },
    {
      "cell_type": "code",
      "metadata": {
        "colab_type": "code",
        "id": "AqMt3MqoxfhU",
        "colab": {}
      },
      "source": [
        "# TODO"
      ],
      "execution_count": 0,
      "outputs": []
    },
    {
      "cell_type": "markdown",
      "metadata": {
        "colab_type": "text",
        "id": "CzzJzOlAxhP3"
      },
      "source": [
        "**Validation**"
      ]
    },
    {
      "cell_type": "code",
      "metadata": {
        "colab_type": "code",
        "id": "ihYIA7aHxidN",
        "colab": {}
      },
      "source": [
        "# TODO"
      ],
      "execution_count": 0,
      "outputs": []
    }
  ]
}