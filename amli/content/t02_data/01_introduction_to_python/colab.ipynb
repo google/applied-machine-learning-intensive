{
  "nbformat": 4,
  "nbformat_minor": 0,
  "metadata": {
    "colab": {
      "name": "Introduction to Python",
      "version": "0.3.2",
      "provenance": [],
      "private_outputs": true,
      "collapsed_sections": [
        "copyright",
        "exercise-1-key-1",
        "exercise-2-key-1",
        "exercise-3-key-1"
      ],
      "toc_visible": true
    },
    "kernelspec": {
      "display_name": "Python 3",
      "name": "python3"
    }
  },
  "cells": [
    {
      "cell_type": "markdown",
      "metadata": {
        "colab_type": "text",
        "id": "copyright",
        "slideshow": {
          "slide_type": "slide"
        }
      },
      "source": [
        "#### Copyright 2018 Google LLC."
      ]
    },
    {
      "cell_type": "code",
      "metadata": {
        "colab_type": "code",
        "id": "vUL-MxtcowtQ",
        "slideshow": {
          "slide_type": "-"
        },
        "colab": {}
      },
      "source": [
        "# Licensed under the Apache License, Version 2.0 (the \"License\");\n",
        "# you may not use this file except in compliance with the License.\n",
        "# You may obtain a copy of the License at\n",
        "#\n",
        "# https://www.apache.org/licenses/LICENSE-2.0\n",
        "#\n",
        "# Unless required by applicable law or agreed to in writing, software\n",
        "# distributed under the License is distributed on an \"AS IS\" BASIS,\n",
        "# WITHOUT WARRANTIES OR CONDITIONS OF ANY KIND, either express or implied.\n",
        "# See the License for the specific language governing permissions and\n",
        "# limitations under the License."
      ],
      "execution_count": 0,
      "outputs": []
    },
    {
      "cell_type": "markdown",
      "metadata": {
        "colab_type": "text",
        "id": "ZutSxI49o8Jh",
        "slideshow": {
          "slide_type": "slide"
        }
      },
      "source": [
        "# Introduction to Python"
      ]
    },
    {
      "cell_type": "markdown",
      "metadata": {
        "colab_type": "text",
        "id": "ZutSxI49o8J5",
        "slideshow": {
          "slide_type": "slide"
        }
      },
      "source": [
        "Python is a language commonly used for machine learning. It is an approachable, yet rich, language that can be used for a variety of tasks.\n",
        "\n",
        "It can take years to truly become an expert in the language, but luckily you can learn enough Python to become proficient in machine learning in a much shorter period of time.\n",
        "\n",
        "This colab is a quick introduction to the core pieces of Python that you'll need to know to get started. This is only a brief peek into parts of the language that you'll commonly encounter as a data scientist.  As you progress through this course we'll introduce new Python concepts along the way.\n",
        "\n",
        "If you already know Python, this lesson should just be a quick refresher. You might be able to simply skip to the challenges at the bottom of the document.\n",
        "\n",
        "If you know another programming language, you will want to pay close attention because Python is markedly different than most popular languages in use today.\n",
        "\n",
        "If you are new to programming, welcome! Hopefully this lesson will give you the tools to get started on your adventures in data science."
      ]
    },
    {
      "cell_type": "markdown",
      "metadata": {
        "colab_type": "text",
        "id": "overview"
      },
      "source": [
        "## Overview"
      ]
    },
    {
      "cell_type": "markdown",
      "metadata": {
        "colab_type": "text",
        "id": "learning-objectives"
      },
      "source": [
        "### Learning Objectives\n",
        "\n",
        "* Create, use, and troubleshoot variables and data structures.\n",
        "* Read and write Python statements, expressions, conditionals, and loops.\n",
        "* Use functions"
      ]
    },
    {
      "cell_type": "markdown",
      "metadata": {
        "colab_type": "text",
        "id": "VZe4Xj9tyQRD"
      },
      "source": [
        "### Prerequisites\n",
        "\n",
        "* CS1\n",
        "* CS2 (optional)"
      ]
    },
    {
      "cell_type": "markdown",
      "metadata": {
        "colab_type": "text",
        "id": "duration"
      },
      "source": [
        "### Estimated Duration\n",
        "\n",
        "60 minutes"
      ]
    },
    {
      "cell_type": "markdown",
      "metadata": {
        "colab_type": "text",
        "id": "I7KYyR11pR7G",
        "slideshow": {
          "slide_type": "slide"
        }
      },
      "source": [
        "## Data\n",
        "\n",
        "Even the simplest computer program performs some action on some type of data. The data that a program processes can be arbitrarily complex, but even the most complex data structures are built out of a few foundational data types. This section will introduce you to some of the more common data types that you'll encounter."
      ]
    },
    {
      "cell_type": "markdown",
      "metadata": {
        "colab_type": "text",
        "id": "4ee4By1ppGSW",
        "slideshow": {
          "slide_type": "slide"
        }
      },
      "source": [
        "### Numbers\n",
        "\n",
        "How hard can numbers be? 1, 2, 3, 4, and so on.\n",
        "\n",
        "To some extent numbers are that simple. Python is certainly capable of working with whole numbers. Take for instance the code example below that adds two numbers."
      ]
    },
    {
      "cell_type": "code",
      "metadata": {
        "colab_type": "code",
        "id": "Y6ENY1AaCe-R",
        "slideshow": {
          "slide_type": "-"
        },
        "colab": {}
      },
      "source": [
        "42 + 8"
      ],
      "execution_count": 0,
      "outputs": []
    },
    {
      "cell_type": "markdown",
      "metadata": {
        "colab_type": "text",
        "id": "xa2r21GQDyX_",
        "slideshow": {
          "slide_type": "-"
        }
      },
      "source": [
        "Python can do all sorts of common math operations on numbers as you can see below."
      ]
    },
    {
      "cell_type": "markdown",
      "metadata": {
        "colab_type": "text",
        "id": "JL759v61C8WB",
        "slideshow": {
          "slide_type": "-"
        }
      },
      "source": [
        "Subtraction"
      ]
    },
    {
      "cell_type": "code",
      "metadata": {
        "colab_type": "code",
        "id": "bmpIeEdCC0qy",
        "slideshow": {
          "slide_type": "-"
        },
        "colab": {}
      },
      "source": [
        "4 - 2"
      ],
      "execution_count": 0,
      "outputs": []
    },
    {
      "cell_type": "markdown",
      "metadata": {
        "colab_type": "text",
        "id": "MRcuhLf3DBYK",
        "slideshow": {
          "slide_type": "-"
        }
      },
      "source": [
        "Multiplication"
      ]
    },
    {
      "cell_type": "code",
      "metadata": {
        "colab_type": "code",
        "id": "rFTc9fNiDLBO",
        "slideshow": {
          "slide_type": "-"
        },
        "colab": {}
      },
      "source": [
        "2 * 3"
      ],
      "execution_count": 0,
      "outputs": []
    },
    {
      "cell_type": "markdown",
      "metadata": {
        "colab_type": "text",
        "id": "DvqJenegDNiP",
        "slideshow": {
          "slide_type": "-"
        }
      },
      "source": [
        "Division"
      ]
    },
    {
      "cell_type": "code",
      "metadata": {
        "colab_type": "code",
        "id": "5Xl53vhnDP04",
        "slideshow": {
          "slide_type": "-"
        },
        "colab": {}
      },
      "source": [
        "50 / 10"
      ],
      "execution_count": 0,
      "outputs": []
    },
    {
      "cell_type": "markdown",
      "metadata": {
        "colab_type": "text",
        "id": "StSlr3ENHczu",
        "slideshow": {
          "slide_type": "-"
        }
      },
      "source": [
        "You might have noticed that the number output from this cell looks different than what we have seen so far.\n",
        "\n",
        "It turns out that all of the numbers we have been working with so far at **integer** numbers. For the most part you can think of integers simply as whole numbers with no fractions. If you want fractions you need to use a **floating point** number. Floating points can typically be identified by sight based on having a dot (`.`) present.\n",
        "\n",
        "You can force operations to be floating point operations by including one floating point number in the equation."
      ]
    },
    {
      "cell_type": "code",
      "metadata": {
        "colab_type": "code",
        "id": "HnX7JoF7IjL-",
        "slideshow": {
          "slide_type": "-"
        },
        "colab": {}
      },
      "source": [
        "2.0  + 3"
      ],
      "execution_count": 0,
      "outputs": []
    },
    {
      "cell_type": "markdown",
      "metadata": {
        "colab_type": "text",
        "id": "MsSSofZeDUMQ",
        "slideshow": {
          "slide_type": "slide"
        }
      },
      "source": [
        "Raise to the power of an exponent"
      ]
    },
    {
      "cell_type": "code",
      "metadata": {
        "colab_type": "code",
        "id": "xtTP561IDd7V",
        "slideshow": {
          "slide_type": "-"
        },
        "colab": {}
      },
      "source": [
        "2 ** 3"
      ],
      "execution_count": 0,
      "outputs": []
    },
    {
      "cell_type": "markdown",
      "metadata": {
        "colab_type": "text",
        "id": "X2TdlbVkD8KL",
        "slideshow": {
          "slide_type": "-"
        }
      },
      "source": [
        "Mathematical operations can be arbitrarily combined."
      ]
    },
    {
      "cell_type": "code",
      "metadata": {
        "colab_type": "code",
        "id": "RWqn9KPpEBSa",
        "slideshow": {
          "slide_type": "-"
        },
        "colab": {}
      },
      "source": [
        "2 ** 2 + 8 * 4 - 7 * 4 / 3"
      ],
      "execution_count": 0,
      "outputs": []
    },
    {
      "cell_type": "markdown",
      "metadata": {
        "colab_type": "text",
        "id": "GhFbGDuhEkOn",
        "slideshow": {
          "slide_type": "-"
        }
      },
      "source": [
        "The code above can be a bit difficult to read. Which numbers get processed first?\n",
        "\n",
        "Python enforces an order of precedence where operations like taking the exponent come before multiplication and division, which comes before addition and subtraction. There are actually more operators that what we've seen so far and it can be tricky to remember, so when in doubt you can wrap parentheses around operations to make things clearer."
      ]
    },
    {
      "cell_type": "code",
      "metadata": {
        "colab_type": "code",
        "id": "WUHW2o4BEeeg",
        "slideshow": {
          "slide_type": "-"
        },
        "colab": {}
      },
      "source": [
        "(2 ** 2) + (8 * 4) - ((7 * 4) / 3)"
      ],
      "execution_count": 0,
      "outputs": []
    },
    {
      "cell_type": "markdown",
      "metadata": {
        "colab_type": "text",
        "id": "kC10wZPyjLyC",
        "slideshow": {
          "slide_type": "-"
        }
      },
      "source": [
        "You can change the precedence by wrapping different expressions in parenthesis. Run the code snippets above and below and notice they have different results despite having the same numbers and operators."
      ]
    },
    {
      "cell_type": "code",
      "metadata": {
        "colab_type": "code",
        "id": "BZpQixwpFjFZ",
        "slideshow": {
          "slide_type": "-"
        },
        "colab": {}
      },
      "source": [
        "(2 ** (2 + 8)) * 4 - (7 * (4 / 3))"
      ],
      "execution_count": 0,
      "outputs": []
    },
    {
      "cell_type": "markdown",
      "metadata": {
        "colab_type": "text",
        "id": "hE54jmP2LS1p",
        "slideshow": {
          "slide_type": "-"
        }
      },
      "source": [
        "Why are there two (at least) ways to represent numbers in Python?\n",
        "\n",
        "Rest assured that this is not the fault of Python or any other programming language. To understand this you have to remember that at the most basic level computers only recognize whether an electrical signal is above or below some threshold. You can think of it like a light switch that can be in one of two states. Even though a switch might move across many small positions to get from one state to another it is really only making the decision of if the lights are on or off.\n",
        "\n",
        "Computer scientist had to figure out some way to take this binary signal and turn it into numbers that you and I would recognize. In the end a few schemes won out. Those schemes clustered into two primary buckets: schemes that didn't lose data but were limited to whole numbers and schemes that could represent arbitrary decimal numbers, but might have some rounding error.\n",
        "\n",
        "Each type of number has a place in the world of computing that it shines. In some languages you have to go through great pains (we might be exaggerating here) to move from one type of number to another. In Python the mixing of integers and floating point numbers is fluid. This is great most of the time, but can be problematic at times. It is important to be aware, especially when doing division, if you are working with floating point numbers or integers.\n"
      ]
    },
    {
      "cell_type": "markdown",
      "metadata": {
        "colab_type": "text",
        "id": "DDBNWSohsmhZ",
        "slideshow": {
          "slide_type": "slide"
        }
      },
      "source": [
        "\n",
        "\n",
        "---"
      ]
    },
    {
      "cell_type": "markdown",
      "metadata": {
        "colab_type": "text",
        "id": "l6b187QoP4D8",
        "slideshow": {
          "slide_type": "-"
        }
      },
      "source": [
        "As we near the end of our tour of Python numbers, it is good to learn about a couple of more division operators that can assist in your handling of integer and floating point numbers. One of these is the **floor division** operator. Floor division simply means cutting off the non-whole number part of the result of division and returning only the whole number part."
      ]
    },
    {
      "cell_type": "markdown",
      "metadata": {
        "colab_type": "text",
        "id": "gcMocTbXQu4z",
        "slideshow": {
          "slide_type": "-"
        }
      },
      "source": [
        "First, let's do regular division and make sure that we get a floating point number with decimal precision:"
      ]
    },
    {
      "cell_type": "code",
      "metadata": {
        "colab_type": "code",
        "id": "BI-TEL_ARVvM",
        "slideshow": {
          "slide_type": "-"
        },
        "colab": {}
      },
      "source": [
        "322.231 / 0.03"
      ],
      "execution_count": 0,
      "outputs": []
    },
    {
      "cell_type": "markdown",
      "metadata": {
        "colab_type": "text",
        "id": "DAdljqYvRfif",
        "slideshow": {
          "slide_type": "-"
        }
      },
      "source": [
        "`10741.033333333333` definitely has an a decimal portion. Now apply floor division:"
      ]
    },
    {
      "cell_type": "code",
      "metadata": {
        "colab_type": "code",
        "id": "RMUAi_QgRl7V",
        "slideshow": {
          "slide_type": "-"
        },
        "colab": {}
      },
      "source": [
        "322.231 // 0.03"
      ],
      "execution_count": 0,
      "outputs": []
    },
    {
      "cell_type": "markdown",
      "metadata": {
        "colab_type": "text",
        "id": "eGF6o-DSRp8Q",
        "slideshow": {
          "slide_type": "-"
        }
      },
      "source": [
        "Note that the resultant `10741.0` loses precision, but remains a floating point number."
      ]
    },
    {
      "cell_type": "markdown",
      "metadata": {
        "colab_type": "text",
        "id": "LD1JN6x0Sz1M",
        "slideshow": {
          "slide_type": "-"
        }
      },
      "source": [
        "So how do we find the value that gets rounded off during floor division? The **modulus** operator can do that:"
      ]
    },
    {
      "cell_type": "code",
      "metadata": {
        "colab_type": "code",
        "id": "ZMfJ8Cw-S6x9",
        "slideshow": {
          "slide_type": "slide"
        },
        "colab": {}
      },
      "source": [
        "14 % 4"
      ],
      "execution_count": 0,
      "outputs": []
    },
    {
      "cell_type": "markdown",
      "metadata": {
        "colab_type": "text",
        "id": "QQdUTOoeTBtr",
        "slideshow": {
          "slide_type": "-"
        }
      },
      "source": [
        "In the code sample above `14 % 4` returned `2`, which is the remainder of `14 // 2`."
      ]
    },
    {
      "cell_type": "markdown",
      "metadata": {
        "colab_type": "text",
        "id": "wSwWIv3PTgAP",
        "slideshow": {
          "slide_type": "-"
        }
      },
      "source": [
        "Does the **modulus** operator work with floating point numbers? Yes, it does:"
      ]
    },
    {
      "cell_type": "code",
      "metadata": {
        "colab_type": "code",
        "id": "EIg1bPPmTlJ_",
        "slideshow": {
          "slide_type": "-"
        },
        "colab": {}
      },
      "source": [
        "14.2 % 6.0"
      ],
      "execution_count": 0,
      "outputs": []
    },
    {
      "cell_type": "markdown",
      "metadata": {
        "colab_type": "text",
        "id": "rBKr7j66Tokn",
        "slideshow": {
          "slide_type": "-"
        }
      },
      "source": [
        "But notice that the result of modulus is `2.1999999999999993`. We expect it to be `2.2`. This is an example where the underlying floating point representation of the data can lose some precision. (I'd prefer to keep this away from my bank account)"
      ]
    },
    {
      "cell_type": "markdown",
      "metadata": {
        "colab_type": "text",
        "id": "Xa6TfcsAs5Qa",
        "slideshow": {
          "slide_type": "-"
        }
      },
      "source": [
        "\n",
        "\n",
        "---"
      ]
    },
    {
      "cell_type": "markdown",
      "metadata": {
        "colab_type": "text",
        "id": "ZbyMX1f-UFxj",
        "slideshow": {
          "slide_type": "-"
        }
      },
      "source": [
        "That wraps is up for our introduction to numbers in Python. This tutorial only scratched the surface, but hopefully gave you a gentle introduction to how Python represents numbers and how to perform mathematical operations on those numbers.\n",
        " \n",
        "Don't be intimidated by the differences and interactions between floating point numbers. Most of the time you won't have to be concerned about it. However, if you see surprising results when doing math in Python, but sure to double-check the type of numbers your equations are operating on."
      ]
    },
    {
      "cell_type": "markdown",
      "metadata": {
        "colab_type": "text",
        "id": "xhWi4A7G9sxP",
        "slideshow": {
          "slide_type": "slide"
        }
      },
      "source": [
        "### Booleans\n",
        "\n",
        "Boolean values are another core data type in Python. Bools, as they are sometimes called, are found throughout most computer programs. They are the bit of data that directs the computer to make decisions. Boolean values can be represented simply by **True** and **False**."
      ]
    },
    {
      "cell_type": "code",
      "metadata": {
        "colab_type": "code",
        "id": "8kK7X0KTh9cT",
        "slideshow": {
          "slide_type": "-"
        },
        "colab": {}
      },
      "source": [
        "True"
      ],
      "execution_count": 0,
      "outputs": []
    },
    {
      "cell_type": "code",
      "metadata": {
        "colab_type": "code",
        "id": "yb8R0X5piBmy",
        "slideshow": {
          "slide_type": "-"
        },
        "colab": {}
      },
      "source": [
        "False"
      ],
      "execution_count": 0,
      "outputs": []
    },
    {
      "cell_type": "markdown",
      "metadata": {
        "colab_type": "text",
        "id": "GjxWzrHGiLvS",
        "slideshow": {
          "slide_type": "-"
        }
      },
      "source": [
        "Don't let the seemingly limited applications of **True** and **False** lead you to discount the power and prevalence of these data values. For one, they can be combined with logical operators such as **and**:\n"
      ]
    },
    {
      "cell_type": "code",
      "metadata": {
        "colab_type": "code",
        "id": "ku0QRmgOiwqi",
        "slideshow": {
          "slide_type": "-"
        },
        "colab": {}
      },
      "source": [
        "True and True"
      ],
      "execution_count": 0,
      "outputs": []
    },
    {
      "cell_type": "code",
      "metadata": {
        "colab_type": "code",
        "id": "n5jaK8mAi1kr",
        "slideshow": {
          "slide_type": "-"
        },
        "colab": {}
      },
      "source": [
        "True and False"
      ],
      "execution_count": 0,
      "outputs": []
    },
    {
      "cell_type": "code",
      "metadata": {
        "colab_type": "code",
        "id": "1QsUSB_HjFQi",
        "slideshow": {
          "slide_type": "-"
        },
        "colab": {}
      },
      "source": [
        "False and True"
      ],
      "execution_count": 0,
      "outputs": []
    },
    {
      "cell_type": "code",
      "metadata": {
        "colab_type": "code",
        "id": "kbFv2tF2i5uC",
        "slideshow": {
          "slide_type": "-"
        },
        "colab": {}
      },
      "source": [
        "False and False"
      ],
      "execution_count": 0,
      "outputs": []
    },
    {
      "cell_type": "markdown",
      "metadata": {
        "colab_type": "text",
        "id": "sET2TTb5i9gx",
        "slideshow": {
          "slide_type": "slide"
        }
      },
      "source": [
        "There is also the **or** operator that works with boolean values:"
      ]
    },
    {
      "cell_type": "code",
      "metadata": {
        "colab_type": "code",
        "id": "TvaiLtfIjCHK",
        "slideshow": {
          "slide_type": "-"
        },
        "colab": {}
      },
      "source": [
        "True or True"
      ],
      "execution_count": 0,
      "outputs": []
    },
    {
      "cell_type": "code",
      "metadata": {
        "colab_type": "code",
        "id": "fNC2DXODjO1j",
        "slideshow": {
          "slide_type": "-"
        },
        "colab": {}
      },
      "source": [
        "True or False"
      ],
      "execution_count": 0,
      "outputs": []
    },
    {
      "cell_type": "code",
      "metadata": {
        "colab_type": "code",
        "id": "E4Vsi4yyjRIU",
        "slideshow": {
          "slide_type": "-"
        },
        "colab": {}
      },
      "source": [
        "False or True"
      ],
      "execution_count": 0,
      "outputs": []
    },
    {
      "cell_type": "code",
      "metadata": {
        "colab_type": "code",
        "id": "dPHZfa0SjTpi",
        "slideshow": {
          "slide_type": "-"
        },
        "colab": {}
      },
      "source": [
        "False or False"
      ],
      "execution_count": 0,
      "outputs": []
    },
    {
      "cell_type": "markdown",
      "metadata": {
        "colab_type": "text",
        "id": "IkD2zrpVjXLa",
        "slideshow": {
          "slide_type": "-"
        }
      },
      "source": [
        "Notice that the presence of **False** in any **and** operation turns the expression **False**. Likewise, the presence of **True** in any **or** operation turns the expression **True**."
      ]
    },
    {
      "cell_type": "markdown",
      "metadata": {
        "colab_type": "text",
        "id": "CTFYOYm-jl8s",
        "slideshow": {
          "slide_type": "-"
        }
      },
      "source": [
        "These expressions of *truthiness* can be expanded beyond two operands:"
      ]
    },
    {
      "cell_type": "code",
      "metadata": {
        "colab_type": "code",
        "id": "dHDN9rlHju1K",
        "slideshow": {
          "slide_type": "-"
        },
        "colab": {}
      },
      "source": [
        "False and True or True and False or True"
      ],
      "execution_count": 0,
      "outputs": []
    },
    {
      "cell_type": "markdown",
      "metadata": {
        "colab_type": "text",
        "id": "EWds8NZcjzLm",
        "slideshow": {
          "slide_type": "-"
        }
      },
      "source": [
        "**and** and **or** have the same precedence, but that can be changed with parentheses just like with numbers:"
      ]
    },
    {
      "cell_type": "code",
      "metadata": {
        "colab_type": "code",
        "id": "bmNET_M0j8n6",
        "slideshow": {
          "slide_type": "-"
        },
        "colab": {}
      },
      "source": [
        "False and (True or True and False or True)"
      ],
      "execution_count": 0,
      "outputs": []
    },
    {
      "cell_type": "markdown",
      "metadata": {
        "colab_type": "text",
        "id": "a6qGkJawkKOy",
        "slideshow": {
          "slide_type": "slide"
        }
      },
      "source": [
        "Truthiness can be flipped with the **not** operator:"
      ]
    },
    {
      "cell_type": "code",
      "metadata": {
        "colab_type": "code",
        "id": "0QuMqZr-kNuq",
        "slideshow": {
          "slide_type": "-"
        },
        "colab": {}
      },
      "source": [
        "not True"
      ],
      "execution_count": 0,
      "outputs": []
    },
    {
      "cell_type": "code",
      "metadata": {
        "colab_type": "code",
        "id": "ktrkaFPvkP3C",
        "slideshow": {
          "slide_type": "-"
        },
        "colab": {}
      },
      "source": [
        "not False"
      ],
      "execution_count": 0,
      "outputs": []
    },
    {
      "cell_type": "markdown",
      "metadata": {
        "colab_type": "text",
        "id": "MAMZiWVKkRyj",
        "slideshow": {
          "slide_type": "-"
        }
      },
      "source": [
        "You will only work directly with **True** and  **False** on occasion. Most of the time these values will be returned from other expressions. Take for instance the greater than, less than, greater than or equal to, and less than or equal to expressions below:"
      ]
    },
    {
      "cell_type": "code",
      "metadata": {
        "colab_type": "code",
        "id": "kvrU-MbntJxF",
        "slideshow": {
          "slide_type": "-"
        },
        "colab": {}
      },
      "source": [
        "2 > 1"
      ],
      "execution_count": 0,
      "outputs": []
    },
    {
      "cell_type": "code",
      "metadata": {
        "colab_type": "code",
        "id": "jC3Tu27etMz9",
        "slideshow": {
          "slide_type": "-"
        },
        "colab": {}
      },
      "source": [
        "2 < 1"
      ],
      "execution_count": 0,
      "outputs": []
    },
    {
      "cell_type": "code",
      "metadata": {
        "colab_type": "code",
        "id": "dyAbguAZtStV",
        "slideshow": {
          "slide_type": "-"
        },
        "colab": {}
      },
      "source": [
        "1 >= 1"
      ],
      "execution_count": 0,
      "outputs": []
    },
    {
      "cell_type": "code",
      "metadata": {
        "colab_type": "code",
        "id": "lV4LB8yltXX0",
        "slideshow": {
          "slide_type": "-"
        },
        "colab": {}
      },
      "source": [
        "2 <= 1"
      ],
      "execution_count": 0,
      "outputs": []
    },
    {
      "cell_type": "markdown",
      "metadata": {
        "colab_type": "text",
        "id": "iM0WzNIzt2e6",
        "slideshow": {
          "slide_type": "-"
        }
      },
      "source": [
        "Then there are equality and inequality checks:"
      ]
    },
    {
      "cell_type": "code",
      "metadata": {
        "colab_type": "code",
        "id": "aWh_nf2Ct6BF",
        "slideshow": {
          "slide_type": "slide"
        },
        "colab": {}
      },
      "source": [
        "1 == 2"
      ],
      "execution_count": 0,
      "outputs": []
    },
    {
      "cell_type": "code",
      "metadata": {
        "colab_type": "code",
        "id": "DqD57oCjt9Fc",
        "slideshow": {
          "slide_type": "-"
        },
        "colab": {}
      },
      "source": [
        "1 != 2"
      ],
      "execution_count": 0,
      "outputs": []
    },
    {
      "cell_type": "markdown",
      "metadata": {
        "colab_type": "text",
        "id": "bPxW9UbyuOM8",
        "slideshow": {
          "slide_type": "-"
        }
      },
      "source": [
        "Why is \"equals\" **==** instead of just a single equal sign? It turns out that the single equal sign is reserved for other uses in the language (and most languages). We'll get to this point soon."
      ]
    },
    {
      "cell_type": "markdown",
      "metadata": {
        "colab_type": "text",
        "id": "xCtBPbjZteEN",
        "slideshow": {
          "slide_type": "-"
        }
      },
      "source": [
        "Of course you can combine the logical **and**, **or**, and **not** expressions and the **>**, **>=**, **<**, **<=**, **==**, **!=** expressions as needed. Parentheses change the order of operations as expected."
      ]
    },
    {
      "cell_type": "code",
      "metadata": {
        "colab_type": "code",
        "id": "31SI26qkutT9",
        "slideshow": {
          "slide_type": "-"
        },
        "colab": {}
      },
      "source": [
        "(1 < 2) and (3 == 3) or ((4 > 1) and (not 1 < 2))"
      ],
      "execution_count": 0,
      "outputs": []
    },
    {
      "cell_type": "markdown",
      "metadata": {
        "colab_type": "text",
        "id": "nitMt74ZpjSN",
        "slideshow": {
          "slide_type": "slide"
        }
      },
      "source": [
        "### Variables\n",
        " \n",
        "We've learned about **numbers** which can be **integers** or **floating point** and we have learned about **boolean**s. There are other core data types that are present in just about every Python program, but before we introduce those let's talk about persistence.\n",
        " \n",
        "When we have an expression like `2 + 3` Python calculates the value of `5` and then forgets that the value ever existed. This makes for a very limited and heavyweight calculator! We need some way to store the values of expressions so that they can be used later in the program. To do that we use variables.\n",
        " \n",
        "In the example below the value of `2 + 3` is stored in the variable `x`."
      ]
    },
    {
      "cell_type": "code",
      "metadata": {
        "colab_type": "code",
        "id": "rNMTYmdOuS1t",
        "slideshow": {
          "slide_type": "-"
        },
        "colab": {}
      },
      "source": [
        "x = 2 + 3\n",
        "x"
      ],
      "execution_count": 0,
      "outputs": []
    },
    {
      "cell_type": "markdown",
      "metadata": {
        "colab_type": "text",
        "id": "eixDMWWW1oDo",
        "slideshow": {
          "slide_type": "-"
        }
      },
      "source": [
        "Variables store values and those values can be used in expressions."
      ]
    },
    {
      "cell_type": "code",
      "metadata": {
        "colab_type": "code",
        "id": "mgUEjQbk1yEV",
        "slideshow": {
          "slide_type": "-"
        },
        "colab": {}
      },
      "source": [
        "num1 = 2\n",
        "num2 = 3\n",
        "num1 + num2"
      ],
      "execution_count": 0,
      "outputs": []
    },
    {
      "cell_type": "markdown",
      "metadata": {
        "colab_type": "text",
        "id": "jC17KacSEvdZ",
        "slideshow": {
          "slide_type": "-"
        }
      },
      "source": [
        "Variable value can also be changed... hence the name variable."
      ]
    },
    {
      "cell_type": "code",
      "metadata": {
        "colab_type": "code",
        "id": "2wYs4zbuE6rA",
        "slideshow": {
          "slide_type": "-"
        },
        "colab": {}
      },
      "source": [
        "num = 123\n",
        "num = 456\n",
        "num"
      ],
      "execution_count": 0,
      "outputs": []
    },
    {
      "cell_type": "markdown",
      "metadata": {
        "colab_type": "text",
        "id": "mT_0fsbuFses",
        "slideshow": {
          "slide_type": "slide"
        }
      },
      "source": [
        "There is very little limit to what you can name a variable. The first character needs to be an alphabetic character. Numbers aren't allowed first. After the first character any alphanumeric character can be used. Underscores are also okay to use anywhere in a variable name, but stay away from naming a variable with two underscores at the beginning since Python uses leading double-underscores for internal things.\n",
        "\n",
        "Here are a few valid variable names:"
      ]
    },
    {
      "cell_type": "code",
      "metadata": {
        "colab_type": "code",
        "id": "_EVPT2D-GbUp",
        "slideshow": {
          "slide_type": "-"
        },
        "colab": {}
      },
      "source": [
        "number = 1\n",
        "my_number = 2\n",
        "YourNumber = 3\n",
        "_the_number_four = 4\n",
        "n5 = 5\n",
        "NUMBER = 6\n",
        "\n",
        "number + my_number + YourNumber + _the_number_four + n5 + NUMBER"
      ],
      "execution_count": 0,
      "outputs": []
    },
    {
      "cell_type": "markdown",
      "metadata": {
        "colab_type": "text",
        "id": "6LYdiJ4DGyy5",
        "slideshow": {
          "slide_type": "-"
        }
      },
      "source": [
        "Notice that `number` and `NUMBER` are different variables. Case matters.\n",
        "\n",
        "Although Python will accept other styles, you should name constants in all-caps (e.g. THE_NUMBER) and variables using lower_with_underscore syntax (e.g. a_number)."
      ]
    },
    {
      "cell_type": "markdown",
      "metadata": {
        "colab_type": "text",
        "id": "qr-j8x9DHAwK",
        "slideshow": {
          "slide_type": "-"
        }
      },
      "source": [
        "---"
      ]
    },
    {
      "cell_type": "markdown",
      "metadata": {
        "colab_type": "text",
        "id": "n6232TxSHCdA",
        "slideshow": {
          "slide_type": "-"
        }
      },
      "source": [
        "Variable names are one of the trickier aspects of computer programming. Variables serve as a form of documentation within your code. Good names will help your teammates and your future self understand what your code is doing when they are trying to modify it. Take some time to think about your variable names as you create new variables.\n",
        " \n",
        "Also, keep your variable style consistent. Don't mix variable styles like `this_variable` and `thisVariable` together unless you have good reason. Python has a [guide to naming variables in an idiomatic manner](https://www.python.org/dev/peps/pep-0008/#naming-conventions). Adhere to the guide when you can. It will help others understand your code and it will train you to be able to read other programmers' Python code."
      ]
    },
    {
      "cell_type": "markdown",
      "metadata": {
        "colab_type": "text",
        "id": "z953Qlkk7RvE",
        "slideshow": {
          "slide_type": "slide"
        }
      },
      "source": [
        "### Strings\n",
        "\n",
        "Strings are a data type that can contain a group of one or more characters. They are different from the other data types that we've seen because they have to be wrapped in quotes.\n",
        "\n",
        "Some example strings are:"
      ]
    },
    {
      "cell_type": "code",
      "metadata": {
        "colab_type": "code",
        "id": "bkdwYrWTDdSu",
        "slideshow": {
          "slide_type": "-"
        },
        "colab": {}
      },
      "source": [
        "\"Python is a \"\n",
        "'useful programming language'"
      ],
      "execution_count": 0,
      "outputs": []
    },
    {
      "cell_type": "markdown",
      "metadata": {
        "colab_type": "text",
        "id": "oG8rzEjCIrFN",
        "slideshow": {
          "slide_type": "-"
        }
      },
      "source": [
        "Single and double-quotes are command and interchangeable. Pick one and stick with it unless you need to use that type of quote in a string."
      ]
    },
    {
      "cell_type": "code",
      "metadata": {
        "colab_type": "code",
        "id": "7i7kcmjWJOiq",
        "slideshow": {
          "slide_type": "-"
        },
        "colab": {}
      },
      "source": [
        "\"I've been learning Python\""
      ],
      "execution_count": 0,
      "outputs": []
    },
    {
      "cell_type": "markdown",
      "metadata": {
        "colab_type": "text",
        "id": "s23P6KyYJXmB",
        "slideshow": {
          "slide_type": "-"
        }
      },
      "source": [
        "But what if you need to use both? In that case you can *escape* the embedded quote."
      ]
    },
    {
      "cell_type": "code",
      "metadata": {
        "colab_type": "code",
        "id": "4ko6NWgQJet7",
        "slideshow": {
          "slide_type": "-"
        },
        "colab": {}
      },
      "source": [
        "'They\\'ve had a \"good\" trip'"
      ],
      "execution_count": 0,
      "outputs": []
    },
    {
      "cell_type": "markdown",
      "metadata": {
        "colab_type": "text",
        "id": "2oQvnltzJ0ii",
        "slideshow": {
          "slide_type": "-"
        }
      },
      "source": [
        "You probably noticed that the escape character, `\\`, shows up in the output. This is just a side-effect of how Colab is printing the string. We'll learn how to print a cleaner looking string soon."
      ]
    },
    {
      "cell_type": "markdown",
      "metadata": {
        "colab_type": "text",
        "id": "S57KwUN6KYlc",
        "slideshow": {
          "slide_type": "-"
        }
      },
      "source": [
        "The triple-quote is another type of quote that you can use to create a string. The triple-quote allows you to have a multi-line string. It is often used when writing documentation directly in your code."
      ]
    },
    {
      "cell_type": "code",
      "metadata": {
        "colab_type": "code",
        "id": "kENH5-B_Ky3j",
        "slideshow": {
          "slide_type": "slide"
        },
        "colab": {}
      },
      "source": [
        "\"\"\"This is a string\n",
        "surronded by three quotes\n",
        "and spanning multiple lines\n",
        "\"\"\""
      ],
      "execution_count": 0,
      "outputs": []
    },
    {
      "cell_type": "markdown",
      "metadata": {
        "colab_type": "text",
        "id": "W2DnBnAZK2Hh",
        "slideshow": {
          "slide_type": "-"
        }
      },
      "source": [
        "You can see in the output that the string shows up on one line with `\\n` added where the line breaks were. `\\n` is a special escape sequence that means \"line feed\", which is typewriter-speak for moving to the next line. `\\t` is another common escape sequence that represents a tab. `\\\\` adds a backslash to the string."
      ]
    },
    {
      "cell_type": "markdown",
      "metadata": {
        "colab_type": "text",
        "id": "CqrJdWZMLzYt",
        "slideshow": {
          "slide_type": "-"
        }
      },
      "source": [
        "Strings can be stored in variables. The `+` operator also works on strings. It concatenates them together. Operators like `-` and `/` don't work with strings."
      ]
    },
    {
      "cell_type": "code",
      "metadata": {
        "colab_type": "code",
        "id": "ATDV6CX_MDD6",
        "slideshow": {
          "slide_type": "-"
        },
        "colab": {}
      },
      "source": [
        "s1 = \"The Python \"\n",
        "s2 = \"programming\"\n",
        "s3 = \" language is easy to learn\"\n",
        "s1 + s2 + s3"
      ],
      "execution_count": 0,
      "outputs": []
    },
    {
      "cell_type": "markdown",
      "metadata": {
        "colab_type": "text",
        "id": "f6yO48xYMQ8h",
        "slideshow": {
          "slide_type": "-"
        }
      },
      "source": [
        "Interestingly enough `*` works with strings. It causes a string to be repeated multiple times."
      ]
    },
    {
      "cell_type": "code",
      "metadata": {
        "colab_type": "code",
        "id": "tFEZNL-UMMuS",
        "slideshow": {
          "slide_type": "-"
        },
        "colab": {}
      },
      "source": [
        "'ABC ' * 5"
      ],
      "execution_count": 0,
      "outputs": []
    },
    {
      "cell_type": "markdown",
      "metadata": {
        "colab_type": "text",
        "id": "bmqwHLl6Mng8",
        "slideshow": {
          "slide_type": "-"
        }
      },
      "source": [
        "Python has a handy built in way to find the length of a string when you need it."
      ]
    },
    {
      "cell_type": "code",
      "metadata": {
        "colab_type": "code",
        "id": "L-aLHVrANalL",
        "slideshow": {
          "slide_type": "-"
        },
        "colab": {}
      },
      "source": [
        "len(\"pneumonoultramicroscopicsilicovolcanoconiosis\")"
      ],
      "execution_count": 0,
      "outputs": []
    },
    {
      "cell_type": "markdown",
      "metadata": {
        "colab_type": "text",
        "id": "dG3TxrOxOEry",
        "slideshow": {
          "slide_type": "slide"
        }
      },
      "source": [
        "If you need to extract a specific character from a string you can specify that character by *indexing* it. Notice that in Python the first character of a string is at index 0. Most popular programming languages start counting at 0. You'll see this throughout your career as a data scientist."
      ]
    },
    {
      "cell_type": "code",
      "metadata": {
        "colab_type": "code",
        "id": "fym2JmR4O2O1",
        "slideshow": {
          "slide_type": "-"
        },
        "colab": {}
      },
      "source": [
        "\"abcdefghijklmnopqrstuvwxyz\"[1]"
      ],
      "execution_count": 0,
      "outputs": []
    },
    {
      "cell_type": "markdown",
      "metadata": {
        "colab_type": "text",
        "id": "mdsjwVSBO_kN",
        "slideshow": {
          "slide_type": "-"
        }
      },
      "source": [
        "You can also extract a *slice* of a string. A slice is a portion of a string referenced by starting and ending index. The starting index is inclusive and the ending index is exclusive as you can see below where indexing a slice starting at 1 and ending at 5 returns a four-character string."
      ]
    },
    {
      "cell_type": "code",
      "metadata": {
        "colab_type": "code",
        "id": "Catcl26sPPpK",
        "slideshow": {
          "slide_type": "-"
        },
        "colab": {}
      },
      "source": [
        "alphabet = \"abcdefghijklmnopqrstuvwxyz\"\n",
        "alphabet[1:5]"
      ],
      "execution_count": 0,
      "outputs": []
    },
    {
      "cell_type": "markdown",
      "metadata": {
        "colab_type": "text",
        "id": "bv18nj19P0y6",
        "slideshow": {
          "slide_type": "-"
        }
      },
      "source": [
        "Slices have some handy shortcuts if you want to start at the beginning or go all the way to the end of a string."
      ]
    },
    {
      "cell_type": "code",
      "metadata": {
        "colab_type": "code",
        "id": "s4CTYF86P_8c",
        "slideshow": {
          "slide_type": "-"
        },
        "colab": {}
      },
      "source": [
        "alphabet[:3]"
      ],
      "execution_count": 0,
      "outputs": []
    },
    {
      "cell_type": "code",
      "metadata": {
        "colab_type": "code",
        "id": "8PNkhfs-QHPg",
        "slideshow": {
          "slide_type": "-"
        },
        "colab": {}
      },
      "source": [
        "alphabet[23:]"
      ],
      "execution_count": 0,
      "outputs": []
    },
    {
      "cell_type": "markdown",
      "metadata": {
        "colab_type": "text",
        "id": "zMRmvX9qQkON",
        "slideshow": {
          "slide_type": "-"
        }
      },
      "source": [
        "Strings are *objects* in Python. We won't get into the details of objects in this tutorial other than to mention that objects can have functions called on them using **dot notation**. There is an example object call on the `alphabet` string below that converts the entire string to upper-case. Notice how the function is called like `alphabet.upper()` instead of `upper(alphabet)` as we saw before with the `len()` function."
      ]
    },
    {
      "cell_type": "code",
      "metadata": {
        "colab_type": "code",
        "id": "zQCvFzGUQg4r",
        "slideshow": {
          "slide_type": "-"
        },
        "colab": {}
      },
      "source": [
        "alphabet.upper()"
      ],
      "execution_count": 0,
      "outputs": []
    },
    {
      "cell_type": "markdown",
      "metadata": {
        "colab_type": "text",
        "id": "WXBznfKiRcsb",
        "slideshow": {
          "slide_type": "slide"
        }
      },
      "source": [
        "We've barely scratched the surface of what you can do with strings in Python. More information can be found in the [Python string](https://docs.python.org/3.7/library/string.html) documentation."
      ]
    },
    {
      "cell_type": "markdown",
      "metadata": {
        "colab_type": "text",
        "id": "4aeUPXVUpoVb",
        "slideshow": {
          "slide_type": "slide"
        }
      },
      "source": [
        "### Lists"
      ]
    },
    {
      "cell_type": "markdown",
      "metadata": {
        "colab_type": "text",
        "id": "hvrg40h6Sacg",
        "slideshow": {
          "slide_type": "-"
        }
      },
      "source": [
        "So far the data types we've seen can be thought of as singular entities. You have \"a number\", \"a bool\", or \"a string\".\n",
        "\n",
        "Working with individual pieces of data can be useful, but many times you'll find yourself needing to work with multiple data elements. One option for working with many pieces of data is to use a list.\n",
        "\n",
        "A list is just a sequence of other data types."
      ]
    },
    {
      "cell_type": "code",
      "metadata": {
        "colab_type": "code",
        "id": "0c7EWoTkTBXc",
        "slideshow": {
          "slide_type": "-"
        },
        "colab": {}
      },
      "source": [
        "[9, 8, 7, 6, 5]"
      ],
      "execution_count": 0,
      "outputs": []
    },
    {
      "cell_type": "markdown",
      "metadata": {
        "colab_type": "text",
        "id": "ffB5qW6iTEkp",
        "slideshow": {
          "slide_type": "-"
        }
      },
      "source": [
        "You can mix different data types."
      ]
    },
    {
      "cell_type": "code",
      "metadata": {
        "colab_type": "code",
        "id": "d9UaR3X8THH-",
        "slideshow": {
          "slide_type": "-"
        },
        "colab": {}
      },
      "source": [
        "[True, \"Shark!\", 3.4, False, 6]"
      ],
      "execution_count": 0,
      "outputs": []
    },
    {
      "cell_type": "markdown",
      "metadata": {
        "colab_type": "text",
        "id": "RaFVKpWYTMoV",
        "slideshow": {
          "slide_type": "-"
        }
      },
      "source": [
        "You can assign a list to a variable."
      ]
    },
    {
      "cell_type": "code",
      "metadata": {
        "colab_type": "code",
        "id": "GxoedcOvTdBb",
        "slideshow": {
          "slide_type": "-"
        },
        "colab": {}
      },
      "source": [
        "my_list = [True, \"Shark!\", 3.4, False, 6]\n",
        "my_list"
      ],
      "execution_count": 0,
      "outputs": []
    },
    {
      "cell_type": "markdown",
      "metadata": {
        "colab_type": "text",
        "id": "UzZ3LCjiUnj-",
        "slideshow": {
          "slide_type": "-"
        }
      },
      "source": [
        "You can also index a list and take slices from it just like you can from a string. Conceptually you can think of \"a string\" to be a sequence of characters similar to a list."
      ]
    },
    {
      "cell_type": "code",
      "metadata": {
        "colab_type": "code",
        "id": "1FGtpudFU9FV",
        "slideshow": {
          "slide_type": "-"
        },
        "colab": {}
      },
      "source": [
        "my_list[3:]"
      ],
      "execution_count": 0,
      "outputs": []
    },
    {
      "cell_type": "markdown",
      "metadata": {
        "colab_type": "text",
        "id": "tLH5kW4pXodm",
        "slideshow": {
          "slide_type": "slide"
        }
      },
      "source": [
        "Indexing can even be used to selectively replace items in a list."
      ]
    },
    {
      "cell_type": "code",
      "metadata": {
        "colab_type": "code",
        "id": "aVhNNk3EXtAX",
        "slideshow": {
          "slide_type": "-"
        },
        "colab": {}
      },
      "source": [
        "my_list[1] = \"Wolf!\"\n",
        "my_list"
      ],
      "execution_count": 0,
      "outputs": []
    },
    {
      "cell_type": "markdown",
      "metadata": {
        "colab_type": "text",
        "id": "rXjH5eZ0VDGo",
        "slideshow": {
          "slide_type": "-"
        }
      },
      "source": [
        "Lists have other interesting features. For example you can sort the list in place."
      ]
    },
    {
      "cell_type": "code",
      "metadata": {
        "colab_type": "code",
        "id": "NsDXdr4OVINd",
        "slideshow": {
          "slide_type": "-"
        },
        "colab": {}
      },
      "source": [
        "number_list = [4, 2, 7, 9 ,3, 5, 3, 2, 9]\n",
        "number_list.sort()\n",
        "number_list"
      ],
      "execution_count": 0,
      "outputs": []
    },
    {
      "cell_type": "markdown",
      "metadata": {
        "colab_type": "text",
        "id": "lZTvQem9VUQk",
        "slideshow": {
          "slide_type": "-"
        }
      },
      "source": [
        "You can also have lists within lists."
      ]
    },
    {
      "cell_type": "code",
      "metadata": {
        "colab_type": "code",
        "id": "oLhCs9bUVXtD",
        "slideshow": {
          "slide_type": "-"
        },
        "colab": {}
      },
      "source": [
        "[\"List 1\", [\"List 2\", 3, 4], False]"
      ],
      "execution_count": 0,
      "outputs": []
    },
    {
      "cell_type": "markdown",
      "metadata": {
        "colab_type": "text",
        "id": "z1igsdg_Vfaa",
        "slideshow": {
          "slide_type": "-"
        }
      },
      "source": [
        "Lists-of-lists come in really handy, especially in data science since much of the data that you'll work with will be in a tabular format. In these cases the internal lists are typically the same size. For example, you might have a list of data points about a customer, such as their age, income, and the amount they spent at your company last month."
      ]
    },
    {
      "cell_type": "code",
      "metadata": {
        "colab_type": "code",
        "id": "vCbbTrx8WCRb",
        "slideshow": {
          "slide_type": "-"
        },
        "colab": {}
      },
      "source": [
        "customers = [\n",
        "    [\"C0\", 42, 56000, 12.30],\n",
        "    [\"C1\", 19, 15000, 43.21],\n",
        "    [\"C2\", 35, 123000, 45.67],\n",
        "]\n",
        "customers"
      ],
      "execution_count": 0,
      "outputs": []
    },
    {
      "cell_type": "markdown",
      "metadata": {
        "colab_type": "text",
        "id": "RJjfjKPXW3_b",
        "slideshow": {
          "slide_type": "slide"
        }
      },
      "source": [
        "How do you get data out of nested lists? You can stack indexes. In the example below we pull out the income of our second customer."
      ]
    },
    {
      "cell_type": "code",
      "metadata": {
        "colab_type": "code",
        "id": "m3tVFhSpXOxU",
        "slideshow": {
          "slide_type": "-"
        },
        "colab": {}
      },
      "source": [
        "customers[1][2]"
      ],
      "execution_count": 0,
      "outputs": []
    },
    {
      "cell_type": "markdown",
      "metadata": {
        "colab_type": "text",
        "id": "np3pCakUWqzH",
        "slideshow": {
          "slide_type": "-"
        }
      },
      "source": [
        "We will explore lists more deeply and other data structures in future tutorials, but lists are a key tool of machine learning work."
      ]
    },
    {
      "cell_type": "markdown",
      "metadata": {
        "colab_type": "text",
        "id": "DaHEjvmwpqzT",
        "slideshow": {
          "slide_type": "slide"
        }
      },
      "source": [
        "### Tuples\n",
        "\n",
        "Tuples look and feel a whole lot like lists in Python. They can contain a sequence of data including lists and other tuples. The primary difference between lists and tuples is that you can't modify a tuple like you can a list.\n",
        "\n",
        "Before we get too deep into immutability let's take a look at a tuple."
      ]
    },
    {
      "cell_type": "code",
      "metadata": {
        "colab_type": "code",
        "id": "s2wbBKB2YYr9",
        "slideshow": {
          "slide_type": "-"
        },
        "colab": {}
      },
      "source": [
        "my_tuple = (1, \"dog\", 3.987, False, [\"a\", \"list\", \"inside\", 1.0, \"tuples\"])\n",
        "my_tuple"
      ],
      "execution_count": 0,
      "outputs": []
    },
    {
      "cell_type": "markdown",
      "metadata": {
        "colab_type": "text",
        "id": "5gTQ6Gx6Yp1g",
        "slideshow": {
          "slide_type": "-"
        }
      },
      "source": [
        "Looks pretty list-like doesn't it? The visible difference is that we create a tuple with parentheses instead of square brackets.\n",
        "\n",
        "You can index a tuple and take a slice from a tuple just like you can from a list. You just can't change a tuple.\n",
        "\n",
        "This is useful because Python can perform some optimizations when it knows a data structure can't change. It can also do a few tricks. We'll take a peek at one of the tricks now and learn more later in this tutorial.\n",
        "\n",
        "The trick that we are going to learn is variable swapping. In most languages you need three variables to swap the value of two variables. Here is an example."
      ]
    },
    {
      "cell_type": "code",
      "metadata": {
        "colab_type": "code",
        "id": "0Ufn_-6vZfws",
        "slideshow": {
          "slide_type": "-"
        },
        "colab": {}
      },
      "source": [
        "var1 = \"Python\"\n",
        "var2 = \"Perl\"\n",
        "\n",
        "tmp = var1\n",
        "var1 = var2\n",
        "var2 = tmp\n",
        "\n",
        "var1, var2"
      ],
      "execution_count": 0,
      "outputs": []
    },
    {
      "cell_type": "markdown",
      "metadata": {
        "colab_type": "text",
        "id": "e86S6sL9ZzwO",
        "slideshow": {
          "slide_type": "-"
        }
      },
      "source": [
        "We had to introduce a `tmp` variable to perform the swap and needed three lines of easy to mess-up code. With tuples we can do this more cleanly.\n",
        "\n",
        "**Note:** you might have noticed that when we put `var1, var2` at the bottom of the last code section a tuple was printed out. Having any variable followed by a comma automatically creates a tuple in Python."
      ]
    },
    {
      "cell_type": "code",
      "metadata": {
        "colab_type": "code",
        "id": "kmbYg8KdaVNW",
        "slideshow": {
          "slide_type": "slide"
        },
        "colab": {}
      },
      "source": [
        "var1 = \"Perl\"\n",
        "var2 = \"Python\"\n",
        "\n",
        "(var1, var2) = (var2, var1)\n",
        "\n",
        "var1, var2"
      ],
      "execution_count": 0,
      "outputs": []
    },
    {
      "cell_type": "markdown",
      "metadata": {
        "colab_type": "text",
        "id": "UMvM-x4baz6o",
        "slideshow": {
          "slide_type": "-"
        }
      },
      "source": [
        "As you can see, swapping variables using tuples is much easier to read and less error-prone than having to use three variables."
      ]
    },
    {
      "cell_type": "markdown",
      "metadata": {
        "colab_type": "text",
        "id": "nUg1VzvqbAIR",
        "slideshow": {
          "slide_type": "-"
        }
      },
      "source": [
        "---"
      ]
    },
    {
      "cell_type": "markdown",
      "metadata": {
        "colab_type": "text",
        "id": "OUI-5GqHbB5L",
        "slideshow": {
          "slide_type": "-"
        }
      },
      "source": [
        "You will encounter tuples throughout your Python programs. Sometimes you won't even realize that you are working with a tuple since they are so integrated with the language.\n",
        "\n",
        "As we continue our journey into Python you'll see a few more places where tuples are vital, but for now let us move on into one of the more powerful data structures in Python: dictionaries."
      ]
    },
    {
      "cell_type": "markdown",
      "metadata": {
        "colab_type": "text",
        "id": "AM2MY7EPpsS5",
        "slideshow": {
          "slide_type": "slide"
        }
      },
      "source": [
        "### Dictionaries\n",
        "\n",
        "Dictionaries are an invaluable data structure that you'll find yourself using often in Python programming. If you have experience with other programming languages you might have encountered a similar data structure with a different name such hash, map, or hashmap.\n",
        "\n",
        "Dictionaries contain key/value pairs. You can look up keys in a dictionary in constant time regardless of the number of elements in a dictionary.\n",
        "\n",
        "Let's take a look at some code that creates a dictionary and accesses a value in the dictionary by key."
      ]
    },
    {
      "cell_type": "code",
      "metadata": {
        "colab_type": "code",
        "id": "GkvFhLkguhln",
        "slideshow": {
          "slide_type": "-"
        },
        "colab": {}
      },
      "source": [
        "my_dictionary = {\n",
        "    \"pet\": \"cat\",\n",
        "    \"car\": \"Tesla\",\n",
        "    \"lodging\": \"apartment\",\n",
        "}\n",
        "\n",
        "my_dictionary[\"pet\"]"
      ],
      "execution_count": 0,
      "outputs": []
    },
    {
      "cell_type": "markdown",
      "metadata": {
        "colab_type": "text",
        "id": "jhS92kCxu2N-",
        "slideshow": {
          "slide_type": "-"
        }
      },
      "source": [
        "Notice that we used the *indexing* notation that should be familiar to you from strings, lists, and tuples. Instead of a numeric index, the lookup is done by key.\n",
        "\n",
        "A key can be any non-mutable data value. Keys can be numbers, strings, and even tuples. You can't us a dictionary or list as a key, but you can use them as values."
      ]
    },
    {
      "cell_type": "code",
      "metadata": {
        "colab_type": "code",
        "id": "F7H45vAkvTc-",
        "slideshow": {
          "slide_type": "-"
        },
        "colab": {}
      },
      "source": [
        "the_dictionary = {\n",
        "    57: \"the sneaky fox\",\n",
        "    \"many things\": [1, \"little list\", \" of \", 5.0, \"things\"],\n",
        "    (8, \"ocho\"): \"Hi there\",\n",
        "    \"KEY_ONE\": {\n",
        "        \"a\": \"dictionary\",\n",
        "        \"as a\": \"value\"\n",
        "    },\n",
        "}\n",
        "\n",
        "the_dictionary[(8, \"ocho\")]"
      ],
      "execution_count": 0,
      "outputs": []
    },
    {
      "cell_type": "markdown",
      "metadata": {
        "colab_type": "text",
        "id": "Ljuhxa7sv0Ze",
        "slideshow": {
          "slide_type": "slide"
        }
      },
      "source": [
        "The dictionary above is much more unstructured than dictionaries that you'll typically encounter in practice, but it illustrates the broad range of key types and value types that a dictionary can store.\n",
        "\n",
        "You can also index many levels down in a dictionary. For example in `the_dictionary` above there is a sub-dictionary at the `KEY_ONE` key. Let's pull something out of the sub-dictionary."
      ]
    },
    {
      "cell_type": "code",
      "metadata": {
        "colab_type": "code",
        "id": "-9d8N3kxwgp_",
        "slideshow": {
          "slide_type": "-"
        },
        "colab": {}
      },
      "source": [
        "the_dictionary[\"key_one\".upper()]['as a']"
      ],
      "execution_count": 0,
      "outputs": []
    },
    {
      "cell_type": "markdown",
      "metadata": {
        "colab_type": "text",
        "id": "5faIdUYRwrZp",
        "slideshow": {
          "slide_type": "-"
        }
      },
      "source": [
        "You can also index into sub-lists."
      ]
    },
    {
      "cell_type": "code",
      "metadata": {
        "colab_type": "code",
        "id": "8QI8rJKMwtyH",
        "slideshow": {
          "slide_type": "-"
        },
        "colab": {}
      },
      "source": [
        "the_dictionary[\"many things\"][1]"
      ],
      "execution_count": 0,
      "outputs": []
    },
    {
      "cell_type": "markdown",
      "metadata": {
        "colab_type": "text",
        "id": "gBwk3lyzxFlg",
        "slideshow": {
          "slide_type": "-"
        }
      },
      "source": [
        "Dictionaries, lists, tuples, and other data structures can nest as much as you want or need to nest them."
      ]
    },
    {
      "cell_type": "markdown",
      "metadata": {
        "colab_type": "text",
        "id": "FyKt13WvxO0K",
        "slideshow": {
          "slide_type": "-"
        }
      },
      "source": [
        "Dictionaries store their values by key. Only one value can exist per key, so if you put write a new value to a key, the old value goes away."
      ]
    },
    {
      "cell_type": "code",
      "metadata": {
        "colab_type": "code",
        "id": "XjvSiO5pxaQb",
        "slideshow": {
          "slide_type": "-"
        },
        "colab": {}
      },
      "source": [
        "my_dictionary = {\n",
        "    \"k1\": \"name\",\n",
        "    \"k2\": \"age\"\n",
        "}\n",
        "\n",
        "my_dictionary[\"k1\"] = \"surname\"\n",
        "\n",
        "my_dictionary"
      ],
      "execution_count": 0,
      "outputs": []
    },
    {
      "cell_type": "markdown",
      "metadata": {
        "colab_type": "text",
        "id": "dySuvUTfxn-h",
        "slideshow": {
          "slide_type": "-"
        }
      },
      "source": [
        "You can add entries to a dictionary by assigning them to a key."
      ]
    },
    {
      "cell_type": "code",
      "metadata": {
        "colab_type": "code",
        "id": "KbMBUHKgxtWl",
        "slideshow": {
          "slide_type": "slide"
        },
        "colab": {}
      },
      "source": [
        "my_dictionary[\"k3\"] = \"rank\"\n",
        "\n",
        "my_dictionary"
      ],
      "execution_count": 0,
      "outputs": []
    },
    {
      "cell_type": "markdown",
      "metadata": {
        "colab_type": "text",
        "id": "BAi6X1T9xznZ",
        "slideshow": {
          "slide_type": "-"
        }
      },
      "source": [
        "And you can remove entries from a dictionary using the **`del`** operator."
      ]
    },
    {
      "cell_type": "code",
      "metadata": {
        "colab_type": "code",
        "id": "DzeaUA_lx7Vh",
        "slideshow": {
          "slide_type": "-"
        },
        "colab": {}
      },
      "source": [
        "del my_dictionary[\"k2\"]\n",
        "\n",
        "my_dictionary"
      ],
      "execution_count": 0,
      "outputs": []
    },
    {
      "cell_type": "markdown",
      "metadata": {
        "colab_type": "text",
        "id": "DF9ipqh2yDwM",
        "slideshow": {
          "slide_type": "-"
        }
      },
      "source": [
        "To see if a key exists in a dictionary use the **`in`** operator. Notice that it returns a boolean value."
      ]
    },
    {
      "cell_type": "code",
      "metadata": {
        "colab_type": "code",
        "id": "7-M5xn9DyJcS",
        "slideshow": {
          "slide_type": "-"
        },
        "colab": {}
      },
      "source": [
        "\"k2\" in my_dictionary"
      ],
      "execution_count": 0,
      "outputs": []
    },
    {
      "cell_type": "markdown",
      "metadata": {
        "colab_type": "text",
        "id": "mGe0UEq4yUaI",
        "slideshow": {
          "slide_type": "-"
        }
      },
      "source": [
        "It is advisable to check if a key exists in a dictionary before trying to index that key. If you try to access a key that doesn't exist using square brackets your program will throw an exception and possibly crash.\n",
        "\n",
        "There is also a safer **`get`** method on the dictionary object that you can access using the dot notation reference earlier. You provide `get` with a key and a default value to return if the key isn't present."
      ]
    },
    {
      "cell_type": "code",
      "metadata": {
        "colab_type": "code",
        "id": "gm5yy399y2Hk",
        "slideshow": {
          "slide_type": "-"
        },
        "colab": {}
      },
      "source": [
        "my_dictionary.get(\"k2\", \"I can't find it\")"
      ],
      "execution_count": 0,
      "outputs": []
    },
    {
      "cell_type": "markdown",
      "metadata": {
        "colab_type": "text",
        "id": "N4eyTWNPy7Fc",
        "slideshow": {
          "slide_type": "-"
        }
      },
      "source": [
        "Dictionaries are a powerful data structure with many uses. We've only mentioned the most common things to do with a dictionary. For more information check out the [official Python dictionary documentation](https://docs.python.org/3/tutorial/datastructures.html#dictionaries)."
      ]
    },
    {
      "cell_type": "markdown",
      "metadata": {
        "colab_type": "text",
        "id": "fztJxWa34xZP",
        "slideshow": {
          "slide_type": "slide"
        }
      },
      "source": [
        "---"
      ]
    },
    {
      "cell_type": "markdown",
      "metadata": {
        "colab_type": "text",
        "id": "KiF3xtSI40Tw",
        "slideshow": {
          "slide_type": "-"
        }
      },
      "source": [
        "We've learned about the most fundamental data structures in Python: numbers, booleans, lists, tuples, and dictionaries. Along the way we learned how to store data in variables and how to change data in variables, dictionaries and lists. Each of these data types have more functionality than we have gone over in this tutorial, so please do take some time to see what more we can do with these data types in Python.\n",
        " \n",
        "There are also many data types that we did not cover. Some are low-level data types dealing with bits and bytes on you computer. Some are higher-level, using these core data structures that we just studied to build rich representation of queues, dates, times, and more.\n",
        " \n",
        "As we encounter the need for other types of data in our study of machine learning and data science we will introduce and explain them. But now, it is time to move on and learn how to make decisions about and with our data and control the flow of program execution."
      ]
    },
    {
      "cell_type": "markdown",
      "metadata": {
        "colab_type": "text",
        "id": "HQiy9fRO7Kil",
        "slideshow": {
          "slide_type": "slide"
        }
      },
      "source": [
        "## Printing\n",
        "\n",
        "So far we have relied on Colab to print out the data that we have been working with. This works fine for simple examples, but doesn't work if you want to print multiple times in a code snippet.\n",
        "\n",
        "The **`print`** function allows you to print any data structure to the screen."
      ]
    },
    {
      "cell_type": "code",
      "metadata": {
        "colab_type": "code",
        "id": "mV5Etx6a7KF4",
        "slideshow": {
          "slide_type": "-"
        },
        "colab": {}
      },
      "source": [
        "my_variable = \"I'm a variable\"\n",
        "print(my_variable)\n",
        "print(\"Hello class!\")\n",
        "print(12345)\n",
        "print(123.45)\n",
        "print(['a', 3, 'element list'])\n",
        "print(('a', 3, 'element tuple'))\n",
        "print({\"my\": \"dictionary\"})"
      ],
      "execution_count": 0,
      "outputs": []
    },
    {
      "cell_type": "markdown",
      "metadata": {
        "colab_type": "text",
        "id": "C9T1AQAy7rtH",
        "slideshow": {
          "slide_type": "-"
        }
      },
      "source": [
        "You'll notice that `print` adds a new line to the output every time it is called. We can add an end argument that takes away the new line."
      ]
    },
    {
      "cell_type": "code",
      "metadata": {
        "colab_type": "code",
        "id": "l0DhlYIe-r7N",
        "slideshow": {
          "slide_type": "slide"
        },
        "colab": {}
      },
      "source": [
        "print(\"The magic number is \", end='')\n",
        "print(42)"
      ],
      "execution_count": 0,
      "outputs": []
    },
    {
      "cell_type": "markdown",
      "metadata": {
        "colab_type": "text",
        "id": "7Z8cpsJS-v5X",
        "slideshow": {
          "slide_type": "-"
        }
      },
      "source": [
        "There is another Python feature that, though not strictly just for printing, is commonly used when printing: text formatting.\n",
        "\n",
        "What happens if you want to print out multiple values in a print statement? Or mix strings and numbers? To do that we can use the formatting operator **`%`**."
      ]
    },
    {
      "cell_type": "code",
      "metadata": {
        "colab_type": "code",
        "id": "lduxpZjc_BG_",
        "slideshow": {
          "slide_type": "-"
        },
        "colab": {}
      },
      "source": [
        "print(\"%s says that the numbers %d and %f sum to %f\" % (\"Bob\", 3, 5.1, 3 + 5.1))"
      ],
      "execution_count": 0,
      "outputs": []
    },
    {
      "cell_type": "markdown",
      "metadata": {
        "colab_type": "text",
        "id": "ETTZioQx_o6Y",
        "slideshow": {
          "slide_type": "-"
        }
      },
      "source": [
        "There is quite a bit going on in the code above, so let's break it down into pieces.\n",
        " \n",
        "The first string we see in the call to print is `\"%s says that the numbers %d and %f sum to %f\"`. This string contains `%s`, `%d`, and `%f` placeholders. These placeholders tell Python that we expect a string (`%s`), integer (`%d`), or floating point number (`%f`) that we'll put in the string.\n",
        " \n",
        "Next we see a percentage sign after the string: `%`. This is the string formatting operator. It comes after a string and lets Python know that it is about to get a tuple containing data to put into a string.\n",
        " \n",
        "And finally comes the tuple containing the data. The data in the tuple should be in the same order that the placeholders appear in the string. For example the second placeholder is `%d` and the second item in the tuple is the integer `3`."
      ]
    },
    {
      "cell_type": "markdown",
      "metadata": {
        "colab_type": "text",
        "id": "x5XeA-VoBLlX",
        "slideshow": {
          "slide_type": "-"
        }
      },
      "source": [
        "There is a more modern and object-oriented formatting function that can be used to achieve the same goal. Notice that in the target string in this function placeholders are all curly braces. Also, the floating point values are truncated in the ``format`` output."
      ]
    },
    {
      "cell_type": "code",
      "metadata": {
        "colab_type": "code",
        "id": "9lznzowzA8H_",
        "slideshow": {
          "slide_type": "-"
        },
        "colab": {}
      },
      "source": [
        "print(\"{} says that the numbers {} and {} sum to {}\".format(\"Bob\", 3, 5.1, 3 + 5.1))"
      ],
      "execution_count": 0,
      "outputs": []
    },
    {
      "cell_type": "markdown",
      "metadata": {
        "colab_type": "text",
        "id": "eRV7n-FxpzIS",
        "slideshow": {
          "slide_type": "slide"
        }
      },
      "source": [
        "## Flow Control\n",
        "\n",
        "Now that we have an understanding about data, variables, and printing in Python, let's learn how to use that data to control the program. We'll cover making if/then/else decisions and looping over lists, tuples, and characters in a string."
      ]
    },
    {
      "cell_type": "markdown",
      "metadata": {
        "colab_type": "text",
        "id": "j0CX7jke7lqR",
        "slideshow": {
          "slide_type": "slide"
        }
      },
      "source": [
        "### Conditional Decisions\n",
        "\n",
        "One of the most common tasks that you'll do as you program is ask some question and, depending on the answer, perform some action. The most common way to do this in Python is with the **`if`** statement. The `if` statement looks at a boolean value and if that value is `True`, the statement runs some code.\n",
        "\n",
        "Let's look at an example."
      ]
    },
    {
      "cell_type": "code",
      "metadata": {
        "colab_type": "code",
        "id": "zuF7LVOS7FhQ",
        "slideshow": {
          "slide_type": "-"
        },
        "colab": {}
      },
      "source": [
        "if 1 > 3:\n",
        "  print(\"One is greater than three\")\n",
        "\n",
        "if 1 < 3:\n",
        "  print(\"One is less than three\")"
      ],
      "execution_count": 0,
      "outputs": []
    },
    {
      "cell_type": "markdown",
      "metadata": {
        "colab_type": "text",
        "id": "Cv30H9ZrB1cI",
        "slideshow": {
          "slide_type": "-"
        }
      },
      "source": [
        "Only the second print statement was called. The condition `1 < 3` is true so the code under the second `if` executed.\n",
        " \n",
        "Also notice that the two print statements are indented beneath each if statement. This isn't by accident. Python creates \"blocks\" of code using the code's indentation level. This indentation can be done with tabs or with spaces, but it must be consistent throughout your code file.\n",
        " \n",
        "block 1\n",
        "> block 1.1\n",
        ">> block 1.1.1\n",
        " \n",
        ">> block 1.1.1\n",
        " \n",
        "> block 1.1\n",
        " \n",
        " \n",
        "The code below shows blocks in action."
      ]
    },
    {
      "cell_type": "code",
      "metadata": {
        "colab_type": "code",
        "id": "gBDfIw-bErkp",
        "slideshow": {
          "slide_type": "-"
        },
        "colab": {}
      },
      "source": [
        "if False:\n",
        "  print(\"This shouldn't print\")\n",
        "print(\"But this always will\")"
      ],
      "execution_count": 0,
      "outputs": []
    },
    {
      "cell_type": "markdown",
      "metadata": {
        "colab_type": "text",
        "id": "RXYHdR-JFiET",
        "slideshow": {
          "slide_type": "slide"
        }
      },
      "source": [
        "You will run into situations where you need to check a condition and if it is true do something and if it is not true do something else. You could write code to check both conditions or you can use the `else` condition."
      ]
    },
    {
      "cell_type": "code",
      "metadata": {
        "colab_type": "code",
        "id": "5SsJLEarF3kZ",
        "slideshow": {
          "slide_type": "-"
        },
        "colab": {}
      },
      "source": [
        "if 1 > 3:\n",
        "  print(\"Math is broken as we know it\")\n",
        "else:\n",
        "  print(\"Everything looks normal\")"
      ],
      "execution_count": 0,
      "outputs": []
    },
    {
      "cell_type": "markdown",
      "metadata": {
        "colab_type": "text",
        "id": "HyMZNuRjF_J6",
        "slideshow": {
          "slide_type": "-"
        }
      },
      "source": [
        "You might also want to check many if conditions and only execute the code if one condition passes. For that you can use the `elif` clause."
      ]
    },
    {
      "cell_type": "code",
      "metadata": {
        "colab_type": "code",
        "id": "nTi0_DBTGJsK",
        "slideshow": {
          "slide_type": "-"
        },
        "colab": {}
      },
      "source": [
        "my_age = 39\n",
        "\n",
        "if my_age >= 100:\n",
        "  print(\"Centenarian\")\n",
        "elif my_age >= 90:\n",
        "  print(\"Nonagenarian\")\n",
        "elif my_age >= 80:\n",
        "  print(\"Octogenarian\")\n",
        "elif my_age >= 70:\n",
        "  print(\"Septuagenarian\")\n",
        "elif my_age >= 60:\n",
        "  print(\"Sexagenarian\")\n",
        "elif my_age >= 50:\n",
        "  print(\"Quinquagenarian\")\n",
        "elif my_age >= 40:\n",
        "  print(\"Quadragenarian\")\n",
        "elif my_age >= 30:\n",
        "  print(\"Tricenarian\")\n",
        "elif my_age >= 20:\n",
        "  print(\"Vicenarian\")\n",
        "elif my_age >= 10:\n",
        "  print(\"Denarian\")\n",
        "else:\n",
        "  print(\"Kiddo\")"
      ],
      "execution_count": 0,
      "outputs": []
    },
    {
      "cell_type": "markdown",
      "metadata": {
        "colab_type": "text",
        "id": "qFPc3YgQ7ocD",
        "slideshow": {
          "slide_type": "slide"
        }
      },
      "source": [
        "### For Loops\n",
        "\n",
        "Another powerful control structure that you'll see often in Python is the `for` loop. The `for` loop can be useful for iterating over a list, tuple, dictionary, and even the characters in a string. It can also be used to repeat an action a number of times.\n",
        "\n",
        "Let's start by looping over a list."
      ]
    },
    {
      "cell_type": "code",
      "metadata": {
        "colab_type": "code",
        "id": "sk8Aw0yZJCUf",
        "colab": {}
      },
      "source": [
        "my_list = ['a', 'b', 'c']\n",
        "\n",
        "for item in my_list:\n",
        "  print(item)"
      ],
      "execution_count": 0,
      "outputs": []
    },
    {
      "cell_type": "markdown",
      "metadata": {
        "colab_type": "text",
        "id": "dirxZstuJQnI"
      },
      "source": [
        "As you can see, the `for` loop executes print three times, once for each item in the list.\n",
        "\n",
        "The `for` loop works for tuples too."
      ]
    },
    {
      "cell_type": "code",
      "metadata": {
        "colab_type": "code",
        "id": "p4Q9TFIEJZdK",
        "colab": {}
      },
      "source": [
        "my_tuple = (5, 3, 1, -1, -3, -5)\n",
        "for x in my_tuple:\n",
        "  print(x)"
      ],
      "execution_count": 0,
      "outputs": []
    },
    {
      "cell_type": "markdown",
      "metadata": {
        "colab_type": "text",
        "id": "-VfTc3TBJk5r"
      },
      "source": [
        "Dictionaries are a little more interesting. By default the loop works in terms of keys."
      ]
    },
    {
      "cell_type": "code",
      "metadata": {
        "colab_type": "code",
        "id": "gSZist0eJrVY",
        "colab": {}
      },
      "source": [
        "my_dictionary = {\n",
        "    \"first_name\": \"Jane\",\n",
        "    \"last_name\": \"Doe\",\n",
        "    \"title\": \"Dr.\"\n",
        "}\n",
        "\n",
        "for k in my_dictionary:\n",
        "  print(\"{}: {}\".format(k, my_dictionary[k]))"
      ],
      "execution_count": 0,
      "outputs": []
    },
    {
      "cell_type": "markdown",
      "metadata": {
        "colab_type": "text",
        "id": "Ir9HX9bSJ827"
      },
      "source": [
        "If only values are interesting to you it is possible to ask the dictionary to return it's `values`."
      ]
    },
    {
      "cell_type": "code",
      "metadata": {
        "colab_type": "code",
        "id": "ktslT2NVKD3o",
        "colab": {}
      },
      "source": [
        "for v in my_dictionary.values():\n",
        "  print(v)"
      ],
      "execution_count": 0,
      "outputs": []
    },
    {
      "cell_type": "markdown",
      "metadata": {
        "colab_type": "text",
        "id": "n4ohtpYDKRPY"
      },
      "source": [
        "If you want both keys and values without a lookup you can asked the dictionary for its `items`."
      ]
    },
    {
      "cell_type": "code",
      "metadata": {
        "colab_type": "code",
        "id": "bGGDRbzPKIf9",
        "colab": {}
      },
      "source": [
        "for (k, v) in my_dictionary.items():\n",
        "  print(\"{}: {}\".format(k, v))"
      ],
      "execution_count": 0,
      "outputs": []
    },
    {
      "cell_type": "markdown",
      "metadata": {
        "colab_type": "text",
        "id": "ivbCdgpXKn0z"
      },
      "source": [
        "You can operate on a string character by character but `c` is not really a character, it's a one-character string. "
      ]
    },
    {
      "cell_type": "code",
      "metadata": {
        "colab_type": "code",
        "id": "gt5Ru7HjKkjp",
        "colab": {}
      },
      "source": [
        "for c in \"this string\":\n",
        "  print(c)"
      ],
      "execution_count": 0,
      "outputs": []
    },
    {
      "cell_type": "markdown",
      "metadata": {
        "colab_type": "text",
        "id": "H2y1EkjmK6eL"
      },
      "source": [
        "If you need to iterate over a list or tuple and need the index of each item you can use the `range` function along with the `len` function to get the indices of the list or tuple."
      ]
    },
    {
      "cell_type": "code",
      "metadata": {
        "colab_type": "code",
        "id": "rGqDXpv6KwYy",
        "colab": {}
      },
      "source": [
        "for i in range(len(my_list)):\n",
        "  print(\"{}: {}\".format(i, my_list[i]))"
      ],
      "execution_count": 0,
      "outputs": []
    },
    {
      "cell_type": "markdown",
      "metadata": {
        "colab_type": "text",
        "id": "7vazK2DeLIxU"
      },
      "source": [
        "`range` is a function that returns a sequence of numbers. It can take one argument, two arguments, or three arguments.\n",
        "\n",
        "When it takes one argument it considers that argument to be the end of the range (exclusive)."
      ]
    },
    {
      "cell_type": "code",
      "metadata": {
        "colab_type": "code",
        "id": "7n2oLEzGLXw7",
        "colab": {}
      },
      "source": [
        "print(range(5))"
      ],
      "execution_count": 0,
      "outputs": []
    },
    {
      "cell_type": "markdown",
      "metadata": {
        "colab_type": "text",
        "id": "JNHvCaZcLbOF"
      },
      "source": [
        "If there are two arguments, they are considered to be the start (inclusive) and end (exclusive) of the sequence."
      ]
    },
    {
      "cell_type": "code",
      "metadata": {
        "colab_type": "code",
        "id": "C8dmRqSPLqQV",
        "colab": {}
      },
      "source": [
        "print(range(6, 12))"
      ],
      "execution_count": 0,
      "outputs": []
    },
    {
      "cell_type": "markdown",
      "metadata": {
        "colab_type": "text",
        "id": "RdmqeIAdLtDK"
      },
      "source": [
        "If there are three arguments, they are considered to be the start (inclusive), end (exclusive), and step of the sequence of the sequence."
      ]
    },
    {
      "cell_type": "code",
      "metadata": {
        "colab_type": "code",
        "id": "tu933OcnL3eq",
        "colab": {}
      },
      "source": [
        "print(range(20, 100, 10))"
      ],
      "execution_count": 0,
      "outputs": []
    },
    {
      "cell_type": "markdown",
      "metadata": {
        "colab_type": "text",
        "id": "bxhdbYLYL7tY"
      },
      "source": [
        "Ranges are lazily evaluated so even very large ranges will not occupy a significant amount of memory."
      ]
    },
    {
      "cell_type": "markdown",
      "metadata": {
        "colab_type": "text",
        "id": "iogbsWBcMdbr"
      },
      "source": [
        "### While Loops\n",
        "\n",
        "`for` loops aren't the only loops in town. There is also a `while` loop that you can use to repeat a block of code until some arbitrary condition is met."
      ]
    },
    {
      "cell_type": "code",
      "metadata": {
        "colab_type": "code",
        "id": "Lo1YXGn8M6XT",
        "colab": {}
      },
      "source": [
        "counter = 0\n",
        "while counter < 5:\n",
        "  print(counter)\n",
        "  if counter == 1:\n",
        "    counter += 2\n",
        "  else:\n",
        "    counter += 1\n"
      ],
      "execution_count": 0,
      "outputs": []
    },
    {
      "cell_type": "markdown",
      "metadata": {
        "colab_type": "text",
        "id": "HhN1wqr1NAQx"
      },
      "source": [
        "`while` loops can be useful in many situations, especially those when you don't know for sure how many times you might need to loop.\n",
        " \n",
        "You might have also noticed the `+=` operator in the example above. This is a shortcut that Python provides so that we don't have to write out `counter = counter + 1`. There are equivalents for subtraction, multiplication, division, and more."
      ]
    },
    {
      "cell_type": "markdown",
      "metadata": {
        "colab_type": "text",
        "id": "TwPCggdfN8GP"
      },
      "source": [
        "### Break\n",
        "\n",
        "There are times when you might want to exit a loop before it is complete. For this you can use the `break` statement.\n",
        "\n",
        "In the example below the loop only executes 5 times despite having a range of 1,000,000 numbers to iterate."
      ]
    },
    {
      "cell_type": "code",
      "metadata": {
        "colab_type": "code",
        "id": "CHhiRnYTOCqG",
        "colab": {}
      },
      "source": [
        "for x in range(1000000):\n",
        "  if x >= 5:\n",
        "    break\n",
        "  print(x)"
      ],
      "execution_count": 0,
      "outputs": []
    },
    {
      "cell_type": "markdown",
      "metadata": {
        "colab_type": "text",
        "id": "MldYIF3jOTF4"
      },
      "source": [
        "### Continue\n",
        "\n",
        "`continue` is similar to `break`, but instead of exiting the loop entirely it just skips the current iteration.\n",
        "\n",
        "Let's see this in action with a loop that only prints out even numbers."
      ]
    },
    {
      "cell_type": "code",
      "metadata": {
        "colab_type": "code",
        "id": "awLAZUqCOfCo",
        "colab": {}
      },
      "source": [
        "for x in range(10):\n",
        "  if x % 2 > 0:\n",
        "    continue\n",
        "  print(x)"
      ],
      "execution_count": 0,
      "outputs": []
    },
    {
      "cell_type": "markdown",
      "metadata": {
        "colab_type": "text",
        "id": "voPvfQJDOoIl"
      },
      "source": [
        "We now have a pretty good toolset for creating programs in Python. We know about data, how to make decisions about it, and how to operate on it in a loop.\n",
        "\n",
        "However, if we were to write a large program it would quickly become difficult to understand because all of the code would be jammed together in one big block. Next we'll learn how to combat this with functions."
      ]
    },
    {
      "cell_type": "markdown",
      "metadata": {
        "colab_type": "text",
        "id": "u9DuFDG_p2rz",
        "slideshow": {
          "slide_type": "slide"
        }
      },
      "source": [
        "## Functions\n",
        "\n",
        "Functions are a way to organize and re-use your code. Functions allow you to take a block of your code, give it a name, and then call that code by name as many times as you need to.\n",
        "\n",
        "Functions are defined by the `def` statement."
      ]
    },
    {
      "cell_type": "code",
      "metadata": {
        "colab_type": "code",
        "id": "BVpNQ4swQr3u",
        "colab": {}
      },
      "source": [
        "def my_function():\n",
        "  print(\"I wrote a function\")\n",
        "\n",
        "my_function()\n",
        "my_function()\n",
        "my_function()"
      ],
      "execution_count": 0,
      "outputs": []
    },
    {
      "cell_type": "markdown",
      "metadata": {
        "colab_type": "text",
        "id": "6NcFKBi2Q8De"
      },
      "source": [
        "Standard function definitions always begin with the `def` keyword followed by the name of the function. Function naming follows the same rules as variable naming, which we covered earlier in this tutorial.\n",
        "\n",
        "After the name of the function comes opening and closing parentheses. These parentheses can have more code between them, but will get to that in a bit.\n",
        "\n",
        "Finally there is a trailing colon that signals that the following code will be part of the function.\n",
        "\n",
        "The function's code is indented under the function definition."
      ]
    },
    {
      "cell_type": "markdown",
      "metadata": {
        "colab_type": "text",
        "id": "upFwmsk3R5R4"
      },
      "source": [
        "Let's revisit those opening and closing parenthesis. They hold the names of variables that are considered *arguments* to the function. Function arguments, also called parameters, are used to provide the function with data."
      ]
    },
    {
      "cell_type": "code",
      "metadata": {
        "colab_type": "code",
        "id": "m0Cm8vbzSOxo",
        "colab": {}
      },
      "source": [
        "def my_function(adj1, color, animal1, verb, animal2):\n",
        "  print(\"The {} {} {} {} over the lazy {}\".format(adj1, color, animal1, verb, animal2))\n",
        "\n",
        "my_function(\"quick\", \"brown\", \"fox\", \"jumped\", \"dog\")\n",
        "\n",
        "my_function(\"smelly\", \"fuschia\", \"chipmunk\", \"cartwheeled\", \"elephant\")"
      ],
      "execution_count": 0,
      "outputs": []
    },
    {
      "cell_type": "markdown",
      "metadata": {
        "colab_type": "text",
        "id": "tPhUa3P7T9W3"
      },
      "source": [
        "Functions can also return data. To illustrate this we'll write a function that doubles a number."
      ]
    },
    {
      "cell_type": "code",
      "metadata": {
        "colab_type": "code",
        "id": "CB1b7Q-dUJkc",
        "colab": {}
      },
      "source": [
        "def doubler(n):\n",
        "  return n * 2\n",
        "\n",
        "print(doubler(55))"
      ],
      "execution_count": 0,
      "outputs": []
    },
    {
      "cell_type": "markdown",
      "metadata": {
        "colab_type": "text",
        "id": "dECmjCN-UU0d"
      },
      "source": [
        "Functions can return multiple values as a tuple."
      ]
    },
    {
      "cell_type": "code",
      "metadata": {
        "colab_type": "code",
        "id": "umXslWytUXkT",
        "colab": {}
      },
      "source": [
        "def min_max(numbers):\n",
        "  min = 0\n",
        "  max = 0\n",
        "  for n in numbers:\n",
        "    if n > max:\n",
        "      max = n\n",
        "    if n < min:\n",
        "      min = n\n",
        "  return min, max\n",
        "\n",
        "print(min_max([-6, 78, -102, 45, 5.98, 3.1243]))"
      ],
      "execution_count": 0,
      "outputs": []
    },
    {
      "cell_type": "markdown",
      "metadata": {
        "colab_type": "text",
        "id": "3sFqKkIuVCfv"
      },
      "source": [
        "It is important to note that when you pass data to a function, the function gets a copy of the data. For numeric, boolean, and string data types, that means that the function can't directly modify the data you passed in. For lists and dictionaries it is a little more complicated. The function gets a copy of the location/address of the data structure. While the function can change that address, it can modify the data structure.\n",
        "\n",
        "Let's see some examples to solidify the point. In this first example we can see that the number changer can't make any changes to `my_number`."
      ]
    },
    {
      "cell_type": "code",
      "metadata": {
        "colab_type": "code",
        "id": "FMpdW55IVWCJ",
        "colab": {}
      },
      "source": [
        "def number_changer(n):\n",
        "  n = 42\n",
        "\n",
        "my_number = 24\n",
        "number_changer(my_number)\n",
        "print(my_number)"
      ],
      "execution_count": 0,
      "outputs": []
    },
    {
      "cell_type": "markdown",
      "metadata": {
        "colab_type": "text",
        "id": "rGdDthSaWLGt"
      },
      "source": [
        "The same is true for booleans. The function can't modify `my_bool`"
      ]
    },
    {
      "cell_type": "code",
      "metadata": {
        "colab_type": "code",
        "id": "0IKK0XRaWPxT",
        "colab": {}
      },
      "source": [
        "def boolean_changer(b):\n",
        "  b = False\n",
        "\n",
        "my_bool = True\n",
        "boolean_changer(my_bool)\n",
        "print(my_bool)"
      ],
      "execution_count": 0,
      "outputs": []
    },
    {
      "cell_type": "markdown",
      "metadata": {
        "colab_type": "text",
        "id": "8cyusJcMWbD9"
      },
      "source": [
        "We can see the same for strings."
      ]
    },
    {
      "cell_type": "code",
      "metadata": {
        "colab_type": "code",
        "id": "BiIbX1b2WeGm",
        "colab": {}
      },
      "source": [
        "def string_changer(s):\n",
        "  s = \"Got you!\"\n",
        "\n",
        "my_string = \"Can't get me\"\n",
        "string_changer(my_string)\n",
        "print(my_string)"
      ],
      "execution_count": 0,
      "outputs": []
    },
    {
      "cell_type": "markdown",
      "metadata": {
        "colab_type": "text",
        "id": "2yJ03-RCWrcs"
      },
      "source": [
        "Lists can be modified though."
      ]
    },
    {
      "cell_type": "code",
      "metadata": {
        "colab_type": "code",
        "id": "7Wd-GGGeWwBY",
        "colab": {}
      },
      "source": [
        "def list_changer(list_parameter):\n",
        "  list_parameter[0] = \"pwned\"\n",
        "\n",
        "my_list = [1, 2, 3]\n",
        "list_changer(my_list)\n",
        "print(my_list)"
      ],
      "execution_count": 0,
      "outputs": []
    },
    {
      "cell_type": "markdown",
      "metadata": {
        "colab_type": "text",
        "id": "wGqGcQvbXAKJ"
      },
      "source": [
        "However, the change of list location done by the function doesn't stick."
      ]
    },
    {
      "cell_type": "code",
      "metadata": {
        "colab_type": "code",
        "id": "D-qahKSCXJj6",
        "colab": {}
      },
      "source": [
        "def list_changer(list_parameter):\n",
        "  list_parameter = [\"this is my list now\"]\n",
        "\n",
        "my_list = [1, 2, 3]\n",
        "list_changer(my_list)\n",
        "print(my_list)"
      ],
      "execution_count": 0,
      "outputs": []
    },
    {
      "cell_type": "markdown",
      "metadata": {
        "colab_type": "text",
        "id": "mgArUXxCXT_6"
      },
      "source": [
        "Dictionaries interact with functions exactly like lists do."
      ]
    },
    {
      "cell_type": "code",
      "metadata": {
        "colab_type": "code",
        "id": "-hbfpZx5Xb2E",
        "colab": {}
      },
      "source": [
        "def dictionary_changer(d):\n",
        "  d[\"my_entry\"] = 100\n",
        "\n",
        "my_dictionary = {\"a\": 100, \"b\": \"bee\"}\n",
        "dictionary_changer(my_dictionary)\n",
        "print(my_dictionary)"
      ],
      "execution_count": 0,
      "outputs": []
    },
    {
      "cell_type": "code",
      "metadata": {
        "colab_type": "code",
        "id": "xcpPFrnZXtwM",
        "colab": {}
      },
      "source": [
        "def dictionary_changer(d):\n",
        "  d = {\"this is\": \"my dictionary\"}\n",
        "\n",
        "my_dictionary = {\"a\": 100, \"b\": \"bee\"}\n",
        "dictionary_changer(my_dictionary)\n",
        "print(my_dictionary)"
      ],
      "execution_count": 0,
      "outputs": []
    },
    {
      "cell_type": "markdown",
      "metadata": {
        "colab_type": "text",
        "id": "i7dfFTnqX2O2"
      },
      "source": [
        "So how do you get a function to modify a number, bool, or string? You simple assign the return value of the function to the original variable."
      ]
    },
    {
      "cell_type": "code",
      "metadata": {
        "colab_type": "code",
        "id": "xM5nDmNuYA2N",
        "colab": {}
      },
      "source": [
        "def number_changer(n):\n",
        "  return n * n\n",
        "\n",
        "def boolean_changer(b):\n",
        "  return not b\n",
        "\n",
        "def string_changer(s):\n",
        "  return s.upper()\n",
        "\n",
        "my_number = 42\n",
        "my_bool = False\n",
        "my_string = \"Python\"\n",
        "\n",
        "my_number = number_changer(my_number)\n",
        "my_bool = boolean_changer(my_bool)\n",
        "my_string = string_changer(my_string)\n",
        "\n",
        "print(my_number)\n",
        "print(my_bool)\n",
        "print(my_string)"
      ],
      "execution_count": 0,
      "outputs": []
    },
    {
      "cell_type": "markdown",
      "metadata": {
        "colab_type": "text",
        "id": "j3r3XF98ZAbk"
      },
      "source": [
        "There are many more fun things we can do with functions, but this is enough to get us started on our exploration into machine learning."
      ]
    },
    {
      "cell_type": "markdown",
      "metadata": {
        "colab_type": "text",
        "id": "D_bKEdYtZdFd"
      },
      "source": [
        "## Comments\n",
        "\n",
        "So far we have only explored code that is to be consumed by the Python interpreter. We did discuss how naming variables is important to the human reader and how functions can help code be more programmer-friendly, but if you want to leave a note behind about what you did or why without changing the flow of the program, how do you do that? You use comments.\n",
        "\n",
        "Comments are simply pieces of your code that will be skipped over when the program is running.\n",
        "\n",
        "Python considers the hashtag, `#` to be the start of a comment. This hashtag can be just about anywhere in a line. Anything after the hashtag on the same line won't be executed.\n",
        "\n",
        "Let's look at an example."
      ]
    },
    {
      "cell_type": "code",
      "metadata": {
        "colab_type": "code",
        "id": "y6OIz3kWaL5a",
        "colab": {}
      },
      "source": [
        "# This is a comment used to document.\n",
        "# If I need more than one line\n",
        "# then I need to add more hash-tags.\n",
        "\n",
        "print(\"Hello\") # comments don't have to be at the start of a line\n",
        "\n",
        "# print(\"This won't run\") # and this code won't run because it is 'commented out'"
      ],
      "execution_count": 0,
      "outputs": []
    },
    {
      "cell_type": "markdown",
      "metadata": {
        "colab_type": "text",
        "id": "w1CW590FbAy4"
      },
      "source": [
        "## Pass\n",
        "\n",
        "`pass` is a Python keyword that is used as a placeholder when code hasn't been written yet. It is used in places where code would normally be required, but hasn't been written yet. You'll see `pass` often in your exercises as a placeholder for the code you'll need to write."
      ]
    },
    {
      "cell_type": "code",
      "metadata": {
        "colab_type": "code",
        "id": "_NA64T75bXAU",
        "colab": {}
      },
      "source": [
        "def do_nothing_function():\n",
        "  pass\n",
        "\n",
        "do_nothing_function()"
      ],
      "execution_count": 0,
      "outputs": []
    },
    {
      "cell_type": "markdown",
      "metadata": {
        "colab_type": "text",
        "id": "rgjTJDgFahSC"
      },
      "source": [
        "# Exercises"
      ]
    },
    {
      "cell_type": "markdown",
      "metadata": {
        "colab_type": "text",
        "id": "5CORN6WcalLz"
      },
      "source": [
        "## Exercise 1"
      ]
    },
    {
      "cell_type": "markdown",
      "metadata": {
        "colab_type": "text",
        "id": "KlzvSZ13rW19"
      },
      "source": [
        "In the code block below complete the function by making it return the square of the provided number."
      ]
    },
    {
      "cell_type": "markdown",
      "metadata": {
        "colab_type": "text",
        "id": "31lkzGYRxu9P"
      },
      "source": [
        "### Student Solution"
      ]
    },
    {
      "cell_type": "code",
      "metadata": {
        "colab_type": "code",
        "id": "-9DYcdrWa3cJ",
        "colab": {}
      },
      "source": [
        "def find_the_square(n):\n",
        "  pass # your code goes here\n",
        "\n",
        "print(find_the_square(5))"
      ],
      "execution_count": 0,
      "outputs": []
    },
    {
      "cell_type": "markdown",
      "metadata": {
        "colab_type": "text",
        "id": "exercise-1-key-1"
      },
      "source": [
        "### Answer Key"
      ]
    },
    {
      "cell_type": "markdown",
      "metadata": {
        "colab_type": "text",
        "id": "exercise-1-solution-1"
      },
      "source": [
        "**Solution**"
      ]
    },
    {
      "cell_type": "code",
      "metadata": {
        "colab_type": "code",
        "id": "zXiy9zOax074",
        "colab": {}
      },
      "source": [
        "def find_the_square(n):\n",
        "  return n*n\n",
        "\n",
        "print(find_the_square(5))"
      ],
      "execution_count": 0,
      "outputs": []
    },
    {
      "cell_type": "markdown",
      "metadata": {
        "colab_type": "text",
        "id": "UMhNCyhVxzsr"
      },
      "source": [
        "**Validation**"
      ]
    },
    {
      "cell_type": "code",
      "metadata": {
        "colab_type": "code",
        "id": "gjXCVaI0x2LZ",
        "colab": {}
      },
      "source": [
        "assert list(map(find_the_square, range(11))) == [0,1,4,9,16,25,36,49,64,81,100], \"Wrong result\"\n",
        "\n",
        "\"LGTM\""
      ],
      "execution_count": 0,
      "outputs": []
    },
    {
      "cell_type": "markdown",
      "metadata": {
        "colab_type": "text",
        "id": "vCd361qEbiRB"
      },
      "source": [
        "## Exercise 2"
      ]
    },
    {
      "cell_type": "markdown",
      "metadata": {
        "colab_type": "text",
        "id": "TuYoUIixrY7T"
      },
      "source": [
        "In the code block below complete the function by making it return the sum of the even numbers of the provided sequence (list or tuple)"
      ]
    },
    {
      "cell_type": "markdown",
      "metadata": {
        "colab_type": "text",
        "id": "XUvoqKWNx5hV"
      },
      "source": [
        "### Student Solution"
      ]
    },
    {
      "cell_type": "code",
      "metadata": {
        "colab_type": "code",
        "id": "TYCBS1xXbsoW",
        "colab": {}
      },
      "source": [
        "def sum_of_evens(seq):\n",
        "  pass # your code goes here\n",
        "\n",
        "print(sum_of_evens([5, 14, 6, -2, 0, 45, 66]))"
      ],
      "execution_count": 0,
      "outputs": []
    },
    {
      "cell_type": "markdown",
      "metadata": {
        "colab_type": "text",
        "id": "exercise-2-key-1"
      },
      "source": [
        "### Answer Key"
      ]
    },
    {
      "cell_type": "markdown",
      "metadata": {
        "colab_type": "text",
        "id": "exercise-2-solution-1"
      },
      "source": [
        "**Solution**"
      ]
    },
    {
      "cell_type": "code",
      "metadata": {
        "colab_type": "code",
        "id": "tbGemFW-x7Z4",
        "colab": {}
      },
      "source": [
        "def sum_of_evens(seq):\n",
        "  return sum([x for x in seq if x%2==0])\n",
        "\n",
        "print(sum_of_evens([5, 14, 6, -2, 0, 45, 66]))"
      ],
      "execution_count": 0,
      "outputs": []
    },
    {
      "cell_type": "markdown",
      "metadata": {
        "colab_type": "text",
        "id": "e5hyvH_Sx8xZ"
      },
      "source": [
        "**Validation**"
      ]
    },
    {
      "cell_type": "code",
      "metadata": {
        "colab_type": "code",
        "id": "zGZ6axVlx-XR",
        "colab": {}
      },
      "source": [
        "test_list = [5, 14, 6, -2, 0, 45, 66]\n",
        "assert sum_of_evens(test_list) == 84, \"Wrong Result\"\n",
        "\n",
        "\"LGTM\""
      ],
      "execution_count": 0,
      "outputs": []
    },
    {
      "cell_type": "markdown",
      "metadata": {
        "colab_type": "text",
        "id": "SNzbvnMYbwff"
      },
      "source": [
        "## Exercise 3"
      ]
    },
    {
      "cell_type": "markdown",
      "metadata": {
        "colab_type": "text",
        "id": "VPx_YEOkrbHJ"
      },
      "source": [
        "In the code block below complete the function by making it convert the values of the provided dictionary to uppercase if the key has a length of four. Convert the value to lowercase if the length of the key is not four."
      ]
    },
    {
      "cell_type": "markdown",
      "metadata": {
        "colab_type": "text",
        "id": "xfOuW44xx_6C"
      },
      "source": [
        "### Student Solution"
      ]
    },
    {
      "cell_type": "code",
      "metadata": {
        "colab_type": "code",
        "id": "p4ZsxD5vcbsL",
        "colab": {}
      },
      "source": [
        "def upper_case_sometimes(d):\n",
        "  pass # your code goes here\n",
        "\n",
        "print(upper_case_sometimes({\n",
        "    \"12\": \"Joe\",\n",
        "    (5, 6, \"X\", 4.56): \"python\",\n",
        "    \"Jean\": \"Doe\",\n",
        "    \"1234\": \"one two three four\",\n",
        "    (6, \"t\"): \"XoXo\"\n",
        "}))"
      ],
      "execution_count": 0,
      "outputs": []
    },
    {
      "cell_type": "markdown",
      "metadata": {
        "colab_type": "text",
        "id": "exercise-3-key-1"
      },
      "source": [
        "### Answer Key"
      ]
    },
    {
      "cell_type": "markdown",
      "metadata": {
        "colab_type": "text",
        "id": "exercise-3-solution-1"
      },
      "source": [
        "**Solution**"
      ]
    },
    {
      "cell_type": "code",
      "metadata": {
        "colab_type": "code",
        "id": "hDL7D19lyCyQ",
        "colab": {}
      },
      "source": [
        "def upper_case_sometimes(d):\n",
        "  return [v.upper() if len(k)==4 else v.lower() for k, v in d.items()]\n",
        "\n",
        "print(upper_case_sometimes({\n",
        "    \"12\": \"Joe\",\n",
        "    (5, 6, \"X\", 4.56): \"python\",\n",
        "    \"Jean\": \"Doe\",\n",
        "    \"1234\": \"one two three four\",\n",
        "    (6, \"t\"): \"XoXo\"\n",
        "}))"
      ],
      "execution_count": 0,
      "outputs": []
    },
    {
      "cell_type": "markdown",
      "metadata": {
        "colab_type": "text",
        "id": "Bly6U4K3yDsX"
      },
      "source": [
        "**Validation**"
      ]
    },
    {
      "cell_type": "code",
      "metadata": {
        "colab_type": "code",
        "id": "E_EYR3H0yE5d",
        "colab": {}
      },
      "source": [
        "test_dict = {\n",
        "    \"12\": \"Joe\",\n",
        "    (5, 6, \"X\", 4.56): \"python\",\n",
        "    \"Jean\": \"Doe\",\n",
        "    \"1234\": \"one two three four\",\n",
        "    (6, \"t\"): \"XoXo\"\n",
        "}\n",
        "\n",
        "assert upper_case_sometimes(test_dict) == ['joe', 'PYTHON', 'DOE', 'ONE TWO THREE FOUR', 'xoxo'], \"Wrong Result\"\n",
        "\n",
        "\"LGTM\""
      ],
      "execution_count": 0,
      "outputs": []
    }
  ]
}