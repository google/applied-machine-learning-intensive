{
  "cells": [
    {
      "cell_type": "markdown",
      "metadata": {
        "colab_type": "text",
        "id": "copyright"
      },
      "source": [
        "#### Copyright 2019 Google LLC."
      ]
    },
    {
      "cell_type": "code",
      "execution_count": 0,
      "metadata": {
        "colab": {},
        "colab_type": "code",
        "id": "7PLP9Q30PKtv"
      },
      "outputs": [],
      "source": [
        "# Licensed under the Apache License, Version 2.0 (the \"License\");\n",
        "# you may not use this file except in compliance with the License.\n",
        "# You may obtain a copy of the License at\n",
        "#\n",
        "# https://www.apache.org/licenses/LICENSE-2.0\n",
        "#\n",
        "# Unless required by applicable law or agreed to in writing, software\n",
        "# distributed under the License is distributed on an \"AS IS\" BASIS,\n",
        "# WITHOUT WARRANTIES OR CONDITIONS OF ANY KIND, either express or implied.\n",
        "# See the License for the specific language governing permissions and\n",
        "# limitations under the License."
      ]
    },
    {
      "cell_type": "markdown",
      "metadata": {
        "colab_type": "text",
        "id": "evBbn0N5ec2H"
      },
      "source": [
        "# Probability"
      ]
    },
    {
      "cell_type": "markdown",
      "metadata": {
        "colab_type": "text",
        "id": "f5W9rkuBmBu9"
      },
      "source": [
        "Probabilistic functions are responsible for many algorithms used in both traditional programming, and machine learning applications.  This module discusses the differences between Frequentist and Bayesian approaches, and why probability is not always what it seems.\n",
        "\n",
        "- Basic Probability\n",
        "- Conditional Probability\n",
        "- Frequentist vs. Bayesian\n",
        "- Bayes' Theorem\n",
        "- Monty Hall Problem\n",
        "- Estimation\n"
      ]
    },
    {
      "cell_type": "markdown",
      "metadata": {
        "colab_type": "text",
        "id": "vSwFn8YlaDL2"
      },
      "source": [
        "## Overview"
      ]
    },
    {
      "cell_type": "markdown",
      "metadata": {
        "colab_type": "text",
        "id": "xHVHPJhSaEEM"
      },
      "source": [
        "### Learning Objectives\n",
        "\n",
        " * Understand what probability is, and how to use it as a Data Scientist.\n",
        " * How to design an experiment around independence.\n",
        " * Be able to code up simple experiments using ```random``` and ```scipy```\n",
        " * How do frequentists' measure of probability differ from Bayesians?\n",
        " * Know how to solve the cookie problem using Bayes' Rule or Theorem.\n",
        " * Apply Bayesian Statistics to solve the Monty Hall Problem.\n",
        " * Estimate the probability of a certain outcome of an experiment."
      ]
    },
    {
      "cell_type": "markdown",
      "metadata": {
        "colab_type": "text",
        "id": "gGrUipVEawYy"
      },
      "source": [
        "### Prerequisites\n",
        "\n",
        "* Intermediate Python\n",
        "* Pandas\n",
        "* Visualizations"
      ]
    },
    {
      "cell_type": "markdown",
      "metadata": {
        "colab_type": "text",
        "id": "0bExBYnwa7i2"
      },
      "source": [
        "### Estimated Duration\n",
        "\n",
        "90 minutes"
      ]
    },
    {
      "cell_type": "markdown",
      "metadata": {
        "colab_type": "text",
        "id": "SavoD7IUa-vY"
      },
      "source": [
        "### Grading Criteria\n",
        "\n",
        "Each exercise is worth 3 points. The rubric for calculating those points is:\n",
        "\n",
        "| Points | Description |\n",
        "|--------|-------------|\n",
        "| 0      | No attempt at exercise |\n",
        "| 1      | Attempted exercise, but code does not run |\n",
        "| 2      | Attempted exercise, code runs, but produces incorrect answer |\n",
        "| 3      | Exercise completed successfully |\n",
        "\n",
        "There are 8 exercises in this Colab so there are 24 points available. The grading scale will be 24 points."
      ]
    },
    {
      "cell_type": "markdown",
      "metadata": {
        "colab_type": "text",
        "id": "nRNG-gImKwQL"
      },
      "source": [
        "### Load Packages"
      ]
    },
    {
      "cell_type": "code",
      "execution_count": 0,
      "metadata": {
        "colab": {},
        "colab_type": "code",
        "id": "SfuP5J47Kyfm"
      },
      "outputs": [],
      "source": [
        "%matplotlib inline\n",
        "\n",
        "import random\n",
        "import pandas as pd\n",
        "import seaborn as sns\n",
        "import matplotlib.pyplot as plt\n",
        "import numpy as np"
      ]
    },
    {
      "cell_type": "markdown",
      "metadata": {
        "colab_type": "text",
        "id": "G8u2lYRWbE37"
      },
      "source": [
        "## Basic Probability\n",
        "\n",
        "If probability is just a number between 0 and 1, what are the odds of getting heads when you flip a coin?  Most would say 50%, and that is just an estimate for an experiment in which you flip exactly one coin.\n",
        "\n",
        "$P(Heads)=1/2$\n",
        "\n",
        "In the case of a coin flip, the probability of the event heads is 50%.  We could then estimate that if we flip a coin 1000 times, we will get 500 heads. Most of the time we will not get 500, but the results of the coin flip experiment show that we come pretty close. Perhaps this deviation from our estimate could be due to some bias, or simply random noise.  We can however expect that most of the time our experiment will yield a fairly even split.\n",
        "\n",
        "\n"
      ]
    },
    {
      "cell_type": "markdown",
      "metadata": {
        "colab_type": "text",
        "id": "bSrLugIxrI1I"
      },
      "source": [
        "## Independence and Dependence\n",
        "\n",
        "Two or more events can either be independent of, or dependent on one or more prior events. When thinking like a data scientist, it is important to take note of the sequence of events, especially when designing an experiment.  Assuming that two events are independent is a convenience that is used in statistics so we can test our hypotheses.  However, if there is significant evidence that two events are not independent, then it is imperative to determine their order of dependence, as well as their conditional independence. Some events happen in their own chronological order, while others happen as a result of some other trigger.  \n",
        "\n",
        "\n",
        "\n"
      ]
    },
    {
      "cell_type": "markdown",
      "metadata": {
        "colab_type": "text",
        "id": "kTk_mMUZ9SPU"
      },
      "source": [
        "## Conditional Probability \n",
        "\n",
        "When thinking about conditional probability, it is important to consider independence versus dependence.  Say you had a bag of marbles with 5 red and 5 blue.  To prove that conditional probability works, you can experiment by drawing marbles with and without replacement.\n",
        "\n",
        "### Marbles with replacement\n",
        "First experiment with independent events by using replacement.  What is the probability that you: \n",
        "\n",
        "1. Draw either a blue or red?\n",
        "2. Draw a red followed by a blue?\n",
        "3. Draw two blues in a row?\n"
      ]
    },
    {
      "cell_type": "markdown",
      "metadata": {
        "colab_type": "text",
        "id": "IghIc4XhOtMa"
      },
      "source": [
        "1. $P(Blue) = P(Red) =1/2$\n",
        "\n",
        "2. $P(Blue \\cap  Red) = P(Red) * P(Blue) = 1/4$\n",
        "\n",
        "3. $P(Blue \\cap Blue) = P(Blue) * P(Blue) = 1/4$"
      ]
    },
    {
      "cell_type": "markdown",
      "metadata": {
        "colab_type": "text",
        "id": "SJAlnH24VfXZ"
      },
      "source": [
        "### Marbles without replacement\n",
        "\n",
        "The probability of drawing a marble A, given that you've drawn a marble B is as follows:\n",
        "1. $P(Blue \\mid Red) = 5/(10-1) = 5/9$\n",
        "2. $P(Blue \\mid Blue) = (5-1)/(10-1) = 4/9$\n",
        "\n",
        "We can then say the probability of both events A and B happening is the same as the probability of event A multiplied by the probability of B given A .\n",
        "\n",
        "$P(A \\cap B) = P(A) * P(B \\mid A)$\n"
      ]
    },
    {
      "cell_type": "markdown",
      "metadata": {
        "colab_type": "text",
        "id": "ChL3NDI-VS1t"
      },
      "source": [
        "What is the probability that you: \n",
        "\n",
        "1. Draw a blue followed by a red?\n",
        "2. Draw two blues in a row?"
      ]
    },
    {
      "cell_type": "markdown",
      "metadata": {
        "colab_type": "text",
        "id": "b9dVDVNUp3gq"
      },
      "source": [
        "1. $P(Blue)*P(Red \\mid Blue) =\\frac{1}{2}*5/9=5/18$\n",
        "2. $P(Blue)*P(Blue \\mid Blue) = \\frac{1}{2}*4/9=2/9$"
      ]
    },
    {
      "cell_type": "markdown",
      "metadata": {
        "colab_type": "text",
        "id": "vWl31RguWk-n"
      },
      "source": [
        "## Bayes' Theorem\n",
        "\n",
        "Say the probability of A given B is unknown, but the probability of B given A is known. Then $P(A|B)$ can be calculated by multiplying the probability of A by the probability of B given A and dividing the result by the probability of B.\n",
        "\n",
        "$P(A|B) =\\frac{P(A)P(B|A)}{P(B)}$\n",
        "\n",
        "\n"
      ]
    },
    {
      "cell_type": "markdown",
      "metadata": {
        "colab_type": "text",
        "id": "wWbAOwJLT0kJ"
      },
      "source": [
        "## Frequentist vs. Bayesian\n",
        "\n",
        "Not all probability was created equal.  Depending on your perspective, and the context in which you are modeling something, probability estimates can differ. Frequentists say that if an experiment were repeated over many trials, the probability of say a coin flip, would be 50%. Bayesians are actually looking at a different context.  For instance, a Bayesian sets up a 100 flip experiment, and wants to estimate the probability of getting at least 50 heads.\n",
        "\n",
        "To solve this we can look at a [Probability Density Function](https://en.wikipedia.org/wiki/Probability_density_function).  Knowing that the *σ* is equal to the standard deviation for a normal distribution, we can see from the 3rd plot that there is a 68.27% chance of flipping 50 heads +- 1σ which is equivalent to a range of approximately 45 to 55 heads\n",
        "\n",
        "\u003ca title=\"Jhguch at en.wikipedia [CC BY-SA 2.5 (https://creativecommons.org/licenses/by-sa/2.5)], via Wikimedia Commons\" href=\"https://commons.wikimedia.org/wiki/File:Boxplot_vs_PDF.svg\"\u003e\u003cimg width=\"364\" alt=\"Boxplot vs PDF\" src=\"https://upload.wikimedia.org/wikipedia/commons/thumb/1/1a/Boxplot_vs_PDF.svg/512px-Boxplot_vs_PDF.svg.png\"\u003e\u003c/a\u003e\n"
      ]
    },
    {
      "cell_type": "code",
      "execution_count": 0,
      "metadata": {
        "cellView": "both",
        "colab": {},
        "colab_type": "code",
        "id": "qg2JwMRQA2xz"
      },
      "outputs": [],
      "source": [
        "#@title #### Change the parameters to make the standard deviation lower than 4\n",
        "\n",
        "n=100 #@param {type:\"integer\"} number of flips\n",
        "p=0.5 #@param {type:\"number\"} probability of heads\n",
        "size=10000 #@param {type:\"number\"} number of experiments\n",
        "b = np.random.binomial(n=n, p=p, size=size)\n",
        "\n",
        "sns.distplot(b)\n",
        "print(\"Standard Deviation:\",np.std(b))\n",
        "plt.show()"
      ]
    },
    {
      "cell_type": "markdown",
      "metadata": {
        "colab_type": "text",
        "id": "x1fBUSKX--5U"
      },
      "source": [
        "#### How to interpret probability as a frequency distribution\n",
        "\n",
        "If we conducted a 100 flip experiment 10000 times, we would expect to see 50 heads about 800 times, so the likelihood of seeing exactly 50 heads is about 8%"
      ]
    },
    {
      "cell_type": "markdown",
      "metadata": {
        "colab_type": "text",
        "id": "uTma3gXrWvzV"
      },
      "source": [
        "## Estimation\n",
        "\n",
        "If we have a biased coin, how could we estimate the probability of getting, say, k heads?\n",
        "\n",
        "The Probability Mass Function (PMF) allows us to calculate the probability of a distinct set of outcomes for an experiment with a predetermined number of trials. For example, we can use the PMF to estimate the probability of getting *k heads* over *n tosses*, given that P(heads) = p, i.e., the probability of heads is p.\n",
        "\n",
        "\n",
        "The function states that the probability of having an outcome exactly equal to k given that the probability of that event is p and the number of trials is n is equal to: the combination of n,k multiplied by p to the kth power, where p is the known probability, multiplied by 1 minus p to the n minus kth power.\n",
        "\n",
        "$P(k | p,n) = \\binom{n}{k} (p)^{k}(1-p)^{n-k}$\n"
      ]
    },
    {
      "cell_type": "markdown",
      "metadata": {
        "colab_type": "text",
        "id": "5WFLU7hWbO8_"
      },
      "source": [
        "## Resources\n",
        "\n",
        " \u003ca href=\"http://www.greenteapress.com/thinkstats/\"\u003e\u003cimg height=\"150px\" src=\"http://www.greenteapress.com/thinkstats/think_stats_comp.png\" align=\"left\" hspace=\"100px\" vspace=\"10px\"\u003e\n",
        "\u003ca/\u003e\n",
        " \n",
        "\n",
        "\n",
        " \u003ca href=\"https://greenteapress.com/wp/think-bayes/\"\u003e\u003cimg height=\"150px\" src=\"http://www.greenteapress.com/thinkbayes/think_bayes_cover_medium.png\" align=\"left\" hspace=\"100px\" vspace=\"10px\"\u003e\n",
        "\u003ca/\u003e\n",
        "\n",
        "\n"
      ]
    },
    {
      "cell_type": "markdown",
      "metadata": {
        "colab_type": "text",
        "id": "Swt2fxm-fG_B"
      },
      "source": [
        "# Exercises"
      ]
    },
    {
      "cell_type": "markdown",
      "metadata": {
        "colab_type": "text",
        "id": "iWq38ASlb2aY"
      },
      "source": [
        "## Exercise 1"
      ]
    },
    {
      "cell_type": "markdown",
      "metadata": {
        "colab_type": "text",
        "id": "08TkYi1Yobq9"
      },
      "source": [
        "Create a function that executes a coin flip experiment,  and a second that visualizes the results with a barplot"
      ]
    },
    {
      "cell_type": "markdown",
      "metadata": {
        "colab_type": "text",
        "id": "eKS_GsFa-5Q_"
      },
      "source": [
        "### Student Solution"
      ]
    },
    {
      "cell_type": "code",
      "execution_count": 0,
      "metadata": {
        "colab": {},
        "colab_type": "code",
        "id": "jkam75BLTBrm"
      },
      "outputs": [],
      "source": [
        "# Your answer goes here"
      ]
    },
    {
      "cell_type": "markdown",
      "metadata": {
        "colab_type": "text",
        "id": "exercise-1-key-1"
      },
      "source": [
        "### Answer Key"
      ]
    },
    {
      "cell_type": "markdown",
      "metadata": {
        "colab_type": "text",
        "id": "exercise-1-solution-1"
      },
      "source": [
        "**Solution**"
      ]
    },
    {
      "cell_type": "code",
      "execution_count": 0,
      "metadata": {
        "colab": {},
        "colab_type": "code",
        "id": "Kdqd2I2XQKoT"
      },
      "outputs": [],
      "source": [
        "def barPlotter(series, title):\n",
        "    \"\"\"\n",
        "    Take in a Pandas Series and a String,\n",
        "    Create a horizontal bar plot with numbers printed\n",
        "    \"\"\"\n",
        "    fig, ax = plt.subplots(1,1,figsize=(5,4))\n",
        "    ax = series.sort_values().plot.barh()\n",
        "    ax.set_facecolor('white')\n",
        "    \n",
        "    for loc in ['right', 'top', 'bottom']:\n",
        "        ax.spines[loc].set_visible(False)\n",
        "    for i, v in enumerate(series.sort_values(ascending=True).tolist()):\n",
        "        ax.text(v + 1, i, str(v), fontweight='bold')\n",
        "        \n",
        "    fig.subplots_adjust(right=1)\n",
        "    plt.xticks([])\n",
        "    plt.suptitle(title)\n",
        "    plt.show()\n",
        "    \n",
        "    return ax\n",
        "\n",
        "def coinFlips(times=1000):\n",
        "    \"\"\"\n",
        "    Execute a coin flip experiment and return the results as a Series\n",
        "    \"\"\"\n",
        "    coin = ['H', 'T']  \n",
        "    flips = []\n",
        "    for _ in range(times):\n",
        "        random.shuffle(coin)\n",
        "        flips.append(coin[0])\n",
        "    return pd.Series(flips).value_counts()\n",
        " "
      ]
    },
    {
      "cell_type": "markdown",
      "metadata": {
        "colab_type": "text",
        "id": "jv6F4nYJ-9DB"
      },
      "source": [
        "**Validation**"
      ]
    },
    {
      "cell_type": "code",
      "execution_count": 0,
      "metadata": {
        "colab": {},
        "colab_type": "code",
        "id": "SiykOJtrWvRi"
      },
      "outputs": [],
      "source": [
        "!pip install plotchecker\n",
        "\n",
        "from plotchecker import BarPlotChecker\n",
        "pc = BarPlotChecker(barPlotter(coinFlips(), 'coinflips'))\n",
        "pc.assert_num_bars(2)"
      ]
    },
    {
      "cell_type": "markdown",
      "metadata": {
        "colab_type": "text",
        "id": "6ODqhnKqcJrJ"
      },
      "source": [
        "## Exercise 2"
      ]
    },
    {
      "cell_type": "markdown",
      "metadata": {
        "colab_type": "text",
        "id": "G2pA1LZRodtq"
      },
      "source": [
        "Design an experiment where you could test the theory of independence.  Minimum 100 words."
      ]
    },
    {
      "cell_type": "markdown",
      "metadata": {
        "colab_type": "text",
        "id": "BPWFM3cZ_Abw"
      },
      "source": [
        "### Student Solution"
      ]
    },
    {
      "cell_type": "code",
      "execution_count": 0,
      "metadata": {
        "colab": {},
        "colab_type": "code",
        "id": "87woiPHCD6Ft"
      },
      "outputs": [],
      "source": [
        "# Your answer goes here\n",
        "answer = \"\"\" your answer \"\"\""
      ]
    },
    {
      "cell_type": "markdown",
      "metadata": {
        "colab_type": "text",
        "id": "exercise-2-key-1"
      },
      "source": [
        "### Answer Key"
      ]
    },
    {
      "cell_type": "markdown",
      "metadata": {
        "colab_type": "text",
        "id": "exercise-2-solution-1"
      },
      "source": [
        "**Solution**"
      ]
    },
    {
      "cell_type": "code",
      "execution_count": 0,
      "metadata": {
        "colab": {},
        "colab_type": "code",
        "id": "ndn3cSwhdCKv"
      },
      "outputs": [],
      "source": [
        "answer = ('a '*100)"
      ]
    },
    {
      "cell_type": "markdown",
      "metadata": {
        "colab_type": "text",
        "id": "loqM9kP3_Hqo"
      },
      "source": [
        "**Validation**"
      ]
    },
    {
      "cell_type": "code",
      "execution_count": 0,
      "metadata": {
        "colab": {},
        "colab_type": "code",
        "id": "4hDVk296cz2a"
      },
      "outputs": [],
      "source": [
        "assert len(answer.split()) \u003e= 100"
      ]
    },
    {
      "cell_type": "markdown",
      "metadata": {
        "colab_type": "text",
        "id": "gvKyuwz9eGwD"
      },
      "source": [
        "## Exercise 3"
      ]
    },
    {
      "cell_type": "markdown",
      "metadata": {
        "colab_type": "text",
        "id": "Y9ifjMVHoggU"
      },
      "source": [
        "Code a bag of marbles, draw 1000 marbles, and visualize the results with a barplot"
      ]
    },
    {
      "cell_type": "markdown",
      "metadata": {
        "colab_type": "text",
        "id": "x_457LlU_KZR"
      },
      "source": [
        "### Student Solution"
      ]
    },
    {
      "cell_type": "code",
      "execution_count": 0,
      "metadata": {
        "colab": {},
        "colab_type": "code",
        "id": "QIOwHnBOeoGd"
      },
      "outputs": [],
      "source": [
        "# Your answer goes here"
      ]
    },
    {
      "cell_type": "markdown",
      "metadata": {
        "colab_type": "text",
        "id": "exercise-3-key-1"
      },
      "source": [
        "### Answer Key"
      ]
    },
    {
      "cell_type": "markdown",
      "metadata": {
        "colab_type": "text",
        "id": "exercise-3-solution-1"
      },
      "source": [
        "**Solution**"
      ]
    },
    {
      "cell_type": "code",
      "execution_count": 0,
      "metadata": {
        "colab": {},
        "colab_type": "code",
        "id": "Ff6qu7iRCmve"
      },
      "outputs": [],
      "source": [
        "def createMarbles(colors=['R','B'], number=10):\n",
        "    \"\"\"\n",
        "    take a list of colors and total bag count.\n",
        "    Create a bag of evenly distributed marbles.\n",
        "    \"\"\"\n",
        "    bag = []\n",
        "    for c in colors:\n",
        "        for _ in range(number//len(colors)):\n",
        "            bag.append(c)\n",
        "    \n",
        "    random.shuffle(bag)\n",
        "    return bag\n",
        "\n",
        "\n",
        "def marbleDraws(times=1000):\n",
        "    \"\"\"\n",
        "    Execute a marble draw experiment and return the results as a Series\n",
        "    \"\"\"\n",
        "    draws = []\n",
        "    m = createMarbles()\n",
        "    for _ in range(times):\n",
        "        draws.append(random.choice(m))\n",
        "    return pd.Series(draws).value_counts()\n"
      ]
    },
    {
      "cell_type": "markdown",
      "metadata": {
        "colab_type": "text",
        "id": "Or8SLZ_w_ROg"
      },
      "source": [
        "**Validation**"
      ]
    },
    {
      "cell_type": "code",
      "execution_count": 0,
      "metadata": {
        "colab": {},
        "colab_type": "code",
        "id": "6fGo0bOqeoG2"
      },
      "outputs": [],
      "source": [
        "from plotchecker import BarPlotChecker\n",
        "pc = BarPlotChecker(barPlotter(marbleDraws(), 'marble draws'))\n",
        "pc.assert_num_bars(2)"
      ]
    },
    {
      "cell_type": "markdown",
      "metadata": {
        "colab_type": "text",
        "id": "IhNcrI_IfYz8"
      },
      "source": [
        "## Exercise 4"
      ]
    },
    {
      "cell_type": "markdown",
      "metadata": {
        "colab_type": "text",
        "id": "X-T6JLMaojGJ"
      },
      "source": [
        "Code an experiment where you draw a first, then draw a second marble and replace them after, and visualize the results for 1000 draws with a barplot."
      ]
    },
    {
      "cell_type": "markdown",
      "metadata": {
        "colab_type": "text",
        "id": "VOj4ISTM_T-H"
      },
      "source": [
        "### Student Solution"
      ]
    },
    {
      "cell_type": "code",
      "execution_count": 0,
      "metadata": {
        "colab": {},
        "colab_type": "code",
        "id": "cGVh2VMHf7cb"
      },
      "outputs": [],
      "source": [
        "# Your Answer Goes Here"
      ]
    },
    {
      "cell_type": "markdown",
      "metadata": {
        "colab_type": "text",
        "id": "exercise-4-key-1"
      },
      "source": [
        "### Answer Key"
      ]
    },
    {
      "cell_type": "markdown",
      "metadata": {
        "colab_type": "text",
        "id": "exercise-4-solution-1"
      },
      "source": [
        "**Solution**"
      ]
    },
    {
      "cell_type": "code",
      "execution_count": 0,
      "metadata": {
        "colab": {},
        "colab_type": "code",
        "id": "Taahjtb79JAh"
      },
      "outputs": [],
      "source": [
        "def marbleReplace(times=1000):\n",
        "    \"\"\"\n",
        "    Execute a marble draw experiment and return the results as a Series\n",
        "    \"\"\"\n",
        "    draws = []\n",
        "    for i in range(times):\n",
        "        m = createMarbles()\n",
        "        m1 = m.pop()\n",
        "        m2 = m.pop()\n",
        "        draws.append((m1, m2))\n",
        "    return pd.Series(draws).value_counts()"
      ]
    },
    {
      "cell_type": "markdown",
      "metadata": {
        "colab_type": "text",
        "id": "sTkjeVbD_Zqn"
      },
      "source": [
        "**Validation**"
      ]
    },
    {
      "cell_type": "code",
      "execution_count": 0,
      "metadata": {
        "colab": {},
        "colab_type": "code",
        "id": "1xN45HLDfTZd"
      },
      "outputs": [],
      "source": [
        "from plotchecker import BarPlotChecker\n",
        "pc = BarPlotChecker(barPlotter(marbleReplace(), '2 marble draws'))\n",
        "pc.assert_num_bars(4)"
      ]
    },
    {
      "cell_type": "markdown",
      "metadata": {
        "colab_type": "text",
        "id": "fVwNZMg-gPmf"
      },
      "source": [
        "## Exercise 5"
      ]
    },
    {
      "cell_type": "markdown",
      "metadata": {
        "colab_type": "text",
        "id": "QrIRkHtIomAh"
      },
      "source": [
        "Use the plot below to visually estimate the probability of flipping exactly 50 heads."
      ]
    },
    {
      "cell_type": "code",
      "execution_count": 0,
      "metadata": {
        "colab": {},
        "colab_type": "code",
        "id": "7PQFnqb2jWPW"
      },
      "outputs": [],
      "source": [
        "random.seed(0)\n",
        "sns.distplot(np.random.binomial(n=100, p=0.5, size=10000), hist=False)\n",
        "plt.show()"
      ]
    },
    {
      "cell_type": "markdown",
      "metadata": {
        "colab_type": "text",
        "id": "mV9330jy_c3U"
      },
      "source": [
        "### Student Solution"
      ]
    },
    {
      "cell_type": "code",
      "execution_count": 0,
      "metadata": {
        "colab": {},
        "colab_type": "code",
        "id": "ypfqe51vhRRw"
      },
      "outputs": [],
      "source": [
        "# Your Answer Goes Here\n",
        "answer = 'some float'"
      ]
    },
    {
      "cell_type": "markdown",
      "metadata": {
        "colab_type": "text",
        "id": "exercise-5-key-1"
      },
      "source": [
        "### Answer Key"
      ]
    },
    {
      "cell_type": "markdown",
      "metadata": {
        "colab_type": "text",
        "id": "exercise-5-solution-1"
      },
      "source": [
        "**Solution**"
      ]
    },
    {
      "cell_type": "code",
      "execution_count": 0,
      "metadata": {
        "colab": {},
        "colab_type": "code",
        "id": "DigyteUThVTe"
      },
      "outputs": [],
      "source": [
        "answer = .079"
      ]
    },
    {
      "cell_type": "markdown",
      "metadata": {
        "colab_type": "text",
        "id": "ypoMzmOE_lgH"
      },
      "source": [
        "**Validation**"
      ]
    },
    {
      "cell_type": "code",
      "execution_count": 0,
      "metadata": {
        "colab": {},
        "colab_type": "code",
        "id": "kXHL1EuUhfV3"
      },
      "outputs": [],
      "source": [
        "assert answer \u003e= 0.075 and answer \u003c= 0.085"
      ]
    },
    {
      "cell_type": "markdown",
      "metadata": {
        "colab_type": "text",
        "id": "eZfWTVPrhQAa"
      },
      "source": [
        "## Exercise 6: The Cookie Problem\n"
      ]
    },
    {
      "cell_type": "markdown",
      "metadata": {
        "colab_type": "text",
        "id": "oGzaU_t6opgg"
      },
      "source": [
        "There are 2 jars of cookies, Jar A has 30 Chocolate, and 10 Raisin, and Jar B has 20 of each. You then select 1 cookie at random, it happens to be Chocolate. \n",
        "\n",
        "What is the probability the chocolate cookie came from Jar A?  Provide your answer as a fraction.\n",
        "\n",
        "\u003e***Hint: Use Bayes' Theorem***"
      ]
    },
    {
      "cell_type": "markdown",
      "metadata": {
        "colab_type": "text",
        "id": "Ii5O660C_wxp"
      },
      "source": [
        "### Student Solution"
      ]
    },
    {
      "cell_type": "code",
      "execution_count": 0,
      "metadata": {
        "colab": {},
        "colab_type": "code",
        "id": "spAG7UzdyXCF"
      },
      "outputs": [],
      "source": [
        "# Your answer goes here\n",
        "answer = 'some number/some other number'"
      ]
    },
    {
      "cell_type": "markdown",
      "metadata": {
        "colab_type": "text",
        "id": "6s4Yh7xfzSZG"
      },
      "source": [
        "$P(J_{A}|C) =\\frac{P(J_{A})P(C|J_{A})}{P(C)}=\\frac{(\\frac{1}{2})(\\frac{3}{4})}{\\frac{5}{8}}=3/5$"
      ]
    },
    {
      "cell_type": "markdown",
      "metadata": {
        "colab_type": "text",
        "id": "exercise-6-key-1"
      },
      "source": [
        "### Answer Key"
      ]
    },
    {
      "cell_type": "markdown",
      "metadata": {
        "colab_type": "text",
        "id": "exercise-6-solution-1"
      },
      "source": [
        "**Solution**"
      ]
    },
    {
      "cell_type": "code",
      "execution_count": 0,
      "metadata": {
        "colab": {},
        "colab_type": "code",
        "id": "8WIAZ_440_M1"
      },
      "outputs": [],
      "source": [
        "answer = 3/5"
      ]
    },
    {
      "cell_type": "markdown",
      "metadata": {
        "colab_type": "text",
        "id": "9qjZS5eZ_2km"
      },
      "source": [
        "**Validation**"
      ]
    },
    {
      "cell_type": "code",
      "execution_count": 0,
      "metadata": {
        "colab": {},
        "colab_type": "code",
        "id": "2NjNR_pGyXCQ"
      },
      "outputs": [],
      "source": [
        "assert answer == 3/5"
      ]
    },
    {
      "cell_type": "markdown",
      "metadata": {
        "colab_type": "text",
        "id": "2vKXsXaX7yeu"
      },
      "source": [
        "## Exercise 7: Monty Hall Problem\n"
      ]
    },
    {
      "cell_type": "markdown",
      "metadata": {
        "colab_type": "text",
        "id": "zjJ-IwSeow3Q"
      },
      "source": [
        "Monty Hall was a gameshow host, and as such is the problem which is solvable only by using information in a Bayesian approach.  The problem states there are 3 doors to choose from. 1 of the doors has a prize, and the other two have duds.  You choose your a door, Monty then offers to reveal one of the doors which is not a prize, and is not the door you choose.  You then have the choice of sticking with your original door or switching.\n",
        "\n",
        "\n",
        "- Do you switch doors?\n",
        "- What is the probability of getting the prize if you switch doors?\n",
        "\n",
        "\u003ca href=\"https://commons.wikimedia.org/wiki/File:Monty_open_door.svg#/media/File:Monty_open_door.svg\"\u003e\u003cimg align=\"center\" src=\"https://upload.wikimedia.org/wikipedia/commons/thumb/3/3f/Monty_open_door.svg/1200px-Monty_open_door.svg.png\" alt=\"Monty open door.svg\" height=\"100px\"\u003e\u003ca/\u003e"
      ]
    },
    {
      "cell_type": "markdown",
      "metadata": {
        "colab_type": "text",
        "id": "fizFM9hJApFu"
      },
      "source": [
        "### Student Solution"
      ]
    },
    {
      "cell_type": "code",
      "execution_count": 0,
      "metadata": {
        "colab": {},
        "colab_type": "code",
        "id": "TI_WxOyjcfNu"
      },
      "outputs": [],
      "source": [
        "answer = ('yes or no', 'some number/some other number')"
      ]
    },
    {
      "cell_type": "markdown",
      "metadata": {
        "colab_type": "text",
        "id": "exercise-7-key-1"
      },
      "source": [
        "### Answer Key"
      ]
    },
    {
      "cell_type": "markdown",
      "metadata": {
        "colab_type": "text",
        "id": "exercise-7-solution-1"
      },
      "source": [
        "**Solution**"
      ]
    },
    {
      "cell_type": "code",
      "execution_count": 0,
      "metadata": {
        "colab": {},
        "colab_type": "code",
        "id": "AKb-7oqrcfox"
      },
      "outputs": [],
      "source": [
        "answer = ('Yes', 2/3)"
      ]
    },
    {
      "cell_type": "markdown",
      "metadata": {
        "colab_type": "text",
        "id": "LD16nHWqAutp"
      },
      "source": [
        "**Validation**"
      ]
    },
    {
      "cell_type": "code",
      "execution_count": 0,
      "metadata": {
        "colab": {},
        "colab_type": "code",
        "id": "SgzIrUK1dFdQ"
      },
      "outputs": [],
      "source": [
        "assert answer[0].lower() in ['y', 'yes'] and answer[1]==2/3"
      ]
    },
    {
      "cell_type": "markdown",
      "metadata": {
        "colab_type": "text",
        "id": "K_LUbm2JKBgx"
      },
      "source": [
        "## Exercise 8: Probability Mass Function"
      ]
    },
    {
      "cell_type": "markdown",
      "metadata": {
        "colab_type": "text",
        "id": "8-NpM_vMo0NE"
      },
      "source": [
        "$P(k | p,n) = \\binom{n}{k} (p)^{k}(1-p)^{n-k}$\n",
        "\n",
        "Code the formula above and calculate the likelihood of exactly 55 heads in a 100 coin toss experiment.\n",
        "\n",
        "*** *hint look at [SciPy](https://docs.scipy.org)***\n",
        "🔬🐍"
      ]
    },
    {
      "cell_type": "markdown",
      "metadata": {
        "colab_type": "text",
        "id": "ISovFmc_A1Cy"
      },
      "source": [
        "### Student Solution"
      ]
    },
    {
      "cell_type": "code",
      "execution_count": 0,
      "metadata": {
        "colab": {},
        "colab_type": "code",
        "id": "LY60dvAnK3gy"
      },
      "outputs": [],
      "source": [
        "# Your answer goes here\n",
        "\n",
        "answer = 'some float'"
      ]
    },
    {
      "cell_type": "markdown",
      "metadata": {
        "colab_type": "text",
        "id": "exercise-8-key-1"
      },
      "source": [
        "### Answer Key"
      ]
    },
    {
      "cell_type": "markdown",
      "metadata": {
        "colab_type": "text",
        "id": "exercise-8-solution-1"
      },
      "source": [
        "**Solution**"
      ]
    },
    {
      "cell_type": "code",
      "execution_count": 0,
      "metadata": {
        "colab": {},
        "colab_type": "code",
        "id": "NiOLzu-mK3g3"
      },
      "outputs": [],
      "source": [
        "from scipy.special import comb\n",
        "N=100\n",
        "k=55\n",
        "p=0.5\n",
        "\n",
        "answer = comb(N,k)*(.5**k)*(1-p)**(N-k)\n",
        "print(answer)"
      ]
    },
    {
      "cell_type": "markdown",
      "metadata": {
        "colab_type": "text",
        "id": "aidCE2QWA73R"
      },
      "source": [
        "**Validation**"
      ]
    },
    {
      "cell_type": "code",
      "execution_count": 0,
      "metadata": {
        "colab": {},
        "colab_type": "code",
        "id": "L13lVAz0K3g8"
      },
      "outputs": [],
      "source": [
        "assert answer \u003e= 0.0484 and answer \u003c= 0.0485"
      ]
    }
  ],
  "metadata": {
    "colab": {
      "collapsed_sections": [
        "copyright",
        "exercise-1-key-1",
        "exercise-2-key-1",
        "exercise-3-key-1",
        "exercise-4-key-1",
        "exercise-5-key-1",
        "exercise-6-key-1",
        "exercise-7-key-1",
        "exercise-8-key-1"
      ],
      "name": "Probability",
      "private_outputs": true,
      "toc_visible": true,
      "version": "0.3.2"
    },
    "kernelspec": {
      "display_name": "Python 3",
      "name": "python3"
    }
  },
  "nbformat": 4,
  "nbformat_minor": 0
}
