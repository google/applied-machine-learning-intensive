{
  "cells": [
    {
      "cell_type": "markdown",
      "metadata": {
        "colab_type": "text",
        "id": "copyright"
      },
      "source": [
        "#### Copyright 2019 Google LLC."
      ]
    },
    {
      "cell_type": "code",
      "execution_count": 0,
      "metadata": {
        "colab": {},
        "colab_type": "code",
        "id": "JxI782D_VLzp"
      },
      "outputs": [],
      "source": [
        "# Licensed under the Apache License, Version 2.0 (the \"License\");\n",
        "# you may not use this file except in compliance with the License.\n",
        "# You may obtain a copy of the License at\n",
        "#\n",
        "# https://www.apache.org/licenses/LICENSE-2.0\n",
        "#\n",
        "# Unless required by applicable law or agreed to in writing, software\n",
        "# distributed under the License is distributed on an \"AS IS\" BASIS,\n",
        "# WITHOUT WARRANTIES OR CONDITIONS OF ANY KIND, either express or implied.\n",
        "# See the License for the specific language governing permissions and\n",
        "# limitations under the License."
      ]
    },
    {
      "cell_type": "markdown",
      "metadata": {
        "colab_type": "text",
        "id": "MKsRDH5ZUdfasdv"
      },
      "source": [
        "# Intermediate Pandas"
      ]
    },
    {
      "cell_type": "markdown",
      "metadata": {
        "colab_type": "text",
        "id": "43534tdfgs-v"
      },
      "source": [
        "Pandas is a powerful toolkit for data analysis and manipulation. In this colab we'll explore Pandas features such as filtering, grouping, merging, and more."
      ]
    },
    {
      "cell_type": "markdown",
      "metadata": {
        "colab_type": "text",
        "id": "overview"
      },
      "source": [
        "## Overview"
      ]
    },
    {
      "cell_type": "markdown",
      "metadata": {
        "colab_type": "text",
        "id": "rY7emKinFRCr"
      },
      "source": [
        "### Learning Objectives\n",
        "\n",
        " * Learn and practice filtering of data using Pandas\n",
        " * Use column arithmetic\n",
        " * Group values in a `DataFrame`\n",
        " * Merging multiple `DataFrame`s\n"
      ]
    },
    {
      "cell_type": "markdown",
      "metadata": {
        "colab_type": "text",
        "id": "VZe4Xj9tyQRD"
      },
      "source": [
        "### Prerequisites\n",
        "\n",
        "* Introduction to Pandas"
      ]
    },
    {
      "cell_type": "markdown",
      "metadata": {
        "colab_type": "text",
        "id": "duration"
      },
      "source": [
        "### Estimated Duration\n",
        "\n",
        "60 minutes"
      ]
    },
    {
      "cell_type": "markdown",
      "metadata": {
        "colab_type": "text",
        "id": "MKsRDH5ZUH-v"
      },
      "source": [
        "All these concepts are explained in more details in [Chapter 3](https://jakevdp.github.io/PythonDataScienceHandbook/03.00-introduction-to-pandas.html) of the Python Data Science Handbook.\n",
        "\n",
        "We're going to be using a dataset about movies to try out processing some data with Pandas.\n",
        "\n",
        "We start with some standard imports:"
      ]
    },
    {
      "cell_type": "code",
      "execution_count": 0,
      "metadata": {
        "colab": {},
        "colab_type": "code",
        "id": "7X58hOMTUH-w"
      },
      "outputs": [],
      "source": [
        "import pandas as pd\n",
        "import numpy as np"
      ]
    },
    {
      "cell_type": "markdown",
      "metadata": {
        "colab_type": "text",
        "id": "F3JYwMxdj9Ly"
      },
      "source": [
        "Let's [download the movies_metadata.csv](https://storage.cloud.google.com/amli/public/movies_metadata.csv?folder=true&organizationId=433637338589) and save a copy to your computer.  Then upload the file into your colab runtime.\n",
        "\n",
        "__Note__:  The file is ~30MB in size, expect the download and upload to take a few minutes depending on your internet connection speed."
      ]
    },
    {
      "cell_type": "code",
      "execution_count": 0,
      "metadata": {
        "colab": {},
        "colab_type": "code",
        "id": "uvmXhBe5iaDp"
      },
      "outputs": [],
      "source": [
        "# Upload the file you just downloaded from your computer to the colab runtime\n",
        "\n",
        "from google.colab import files\n",
        "\n",
        "uploaded = files.upload()\n",
        "\n",
        "for fn in uploaded.keys():\n",
        "  print('User uploaded file \"{name}\" with length {length} bytes'.format(\n",
        "      name=fn, length=len(uploaded[fn])))\n",
        "  \n",
        "# List to verify that the file is uploaded to the colab runtime\n",
        "!ls -l *"
      ]
    },
    {
      "cell_type": "markdown",
      "metadata": {
        "colab_type": "text",
        "id": "NbAMcc3hUH-0"
      },
      "source": [
        "Then we load the data and checkout their shape:"
      ]
    },
    {
      "cell_type": "code",
      "execution_count": 0,
      "metadata": {
        "colab": {},
        "colab_type": "code",
        "id": "iBL96Oi_UH-1"
      },
      "outputs": [],
      "source": [
        "df = pd.read_csv('./movies_metadata.csv').dropna(axis=1, how='all')\n",
        "\n",
        "df.head()\n"
      ]
    },
    {
      "cell_type": "markdown",
      "metadata": {
        "colab_type": "text",
        "id": "6oAXhktbUH-3"
      },
      "source": [
        "## Exploring the data\n",
        "\n",
        "This dataset was obtained from [Kaggle](https://www.kaggle.com/rounakbanik/the-movies-dataset/home) who downloaded it\n",
        "through the TMDB API. \n",
        "\n",
        "The movies available in this dataset are in correspondence with the movies that are listed in the [MovieLens \n",
        "Latest Full Dataset](https://grouplens.org/datasets/movielens/latest/).\n",
        "\n",
        "Let's see what data we have:"
      ]
    },
    {
      "cell_type": "code",
      "execution_count": 0,
      "metadata": {
        "colab": {},
        "colab_type": "code",
        "id": "a729-5V8UH-4"
      },
      "outputs": [],
      "source": [
        "df.shape"
      ]
    },
    {
      "cell_type": "markdown",
      "metadata": {
        "colab_type": "text",
        "id": "uqcWqV5wUH-7"
      },
      "source": [
        "Twenty-three columns of data for over 45,000 movies is going be a lot to look at but let's start by looking at what the columns represent:"
      ]
    },
    {
      "cell_type": "code",
      "execution_count": 0,
      "metadata": {
        "colab": {},
        "colab_type": "code",
        "id": "_XnhKmO2UH-8"
      },
      "outputs": [],
      "source": [
        "df.columns"
      ]
    },
    {
      "cell_type": "markdown",
      "metadata": {
        "colab_type": "text",
        "id": "A6u-IoIJUH-_"
      },
      "source": [
        "Here's an explanation of each column:\n",
        "- __belongs_to_collection__: A stringified dictionary that identifies the collection that a movie belongs to (if any).\n",
        "- __budget__: The budget of the movie in dollars.\n",
        "- __genres__: A stringified list of dictionaries that list out all the genres associated with the movie.\n",
        "- __homepage__: The Official Homepage of the movie.\n",
        "- __id__: An arbitrary ID for the movie.\n",
        "- __imdb_id__: The IMDB ID of the movie.\n",
        "- __original_language__: The language in which the movie was filmed.\n",
        "- __original_title__: The title of the movie in its original language.\n",
        "- __overview__: A blurb of the movie.\n",
        "- __popularity__: The Popularity Score assigned by TMDB.\n",
        "- __poster_path__: The URL of the poster image (relative to http://image.tmdb.org/t/p/w185/).\n",
        "- __production_companies__: A stringified list of production companies involved with the making of the movie.\n",
        "- __production_countries__: A stringified list of countries where the movie was filmed or produced.\n",
        "- __release_date__: Theatrical release date of the movie.\n",
        "- __revenue__: World-wide revenue of the movie in dollars.\n",
        "- __runtime__: Duration of the movie in minutes.\n",
        "- __spoken_languages__: A stringified list of spoken languages in the film.\n",
        "- __status__: Released, To Be Released, Announced, etc.\n",
        "- __tagline__: The tagline of the movie.\n",
        "- __title__: The official title of the movie.\n",
        "- __video__: Indicates if there is a video present of the movie with TMDB.\n",
        "- __vote_average__: The average rating of the movie on TMDB.\n",
        "- __vote_count__: The number of votes by users, as counted by TMDB.\n",
        "\n",
        "## Filtering the rows \n",
        "\n",
        "We often need to look at only a subset of the data that we are provided with. This is called filtering and Pandas provides us with many ways to filter our data.\n",
        "We can filter out a `DataFrame` by using the array indexing notation from Python `[]` but putting a boolean test inside the brackets. \n",
        "\n",
        "For example, to consider films that earned less money than they cost to make, we could create a variable called `money_losers_df` that contains all columns for the movies whose revenue was less than their budget."
      ]
    },
    {
      "cell_type": "code",
      "execution_count": 0,
      "metadata": {
        "colab": {},
        "colab_type": "code",
        "id": "E2IPSdaPUH-_"
      },
      "outputs": [],
      "source": [
        "money_loser_df = df[df.revenue \u003c df.budget]\n",
        "\n",
        "print(money_loser_df.shape)\n",
        "money_loser_df.head()\n"
      ]
    },
    {
      "cell_type": "markdown",
      "metadata": {
        "colab_type": "text",
        "id": "hiuq-_WVUH_C"
      },
      "source": [
        "That's more than 5000 movies that lost money! Clearly a risky business.\n",
        "\n",
        "Behind the scenes, numpy has taken `df.revenue \u003c df.budget` and turned it into an array of `True` and `False` values. Pandas takes that array and uses it to decide which rows to include in the output and which rows to exclude:"
      ]
    },
    {
      "cell_type": "code",
      "execution_count": 0,
      "metadata": {
        "colab": {},
        "colab_type": "code",
        "id": "rQAGRKe5UH_C"
      },
      "outputs": [],
      "source": [
        "df.revenue \u003c df.budget"
      ]
    },
    {
      "cell_type": "markdown",
      "metadata": {
        "colab_type": "text",
        "id": "rDAZdPJrUH_G"
      },
      "source": [
        "We will usually use boolean operations over a column to filter our data but could similarly filter with a list that we had constructed some other way. For example, to select every other movie:"
      ]
    },
    {
      "cell_type": "code",
      "execution_count": 0,
      "metadata": {
        "colab": {},
        "colab_type": "code",
        "id": "mHfjzMgeUH_H"
      },
      "outputs": [],
      "source": [
        "trues_and_falses = [True, False] * int(len(money_loser_df)/2) + [True]\n",
        "money_loser_df[trues_and_falses]"
      ]
    },
    {
      "cell_type": "markdown",
      "metadata": {
        "colab_type": "text",
        "id": "t-IJhX7OUH_K"
      },
      "source": [
        "One weird quirk of filtering with booleans is that when our test has multiple clauses (like: A and B), we don't use the standard Python syntax of `and`, `or` and `not`. Instead we must use the bitwise operators which are `\u0026`, `|` and `!` respectively and put parentheses around each clause. So, for example, to select all movies that lost money and cost more than 1 million to make, we would use:"
      ]
    },
    {
      "cell_type": "code",
      "execution_count": 0,
      "metadata": {
        "colab": {},
        "colab_type": "code",
        "id": "JQSp4sCbUH_L"
      },
      "outputs": [],
      "source": [
        "expensive_failures = df[(df.revenue \u003c df.budget) \u0026 (df.budget \u003e 1000000)]\n",
        "\n",
        "expensive_failures.head()"
      ]
    },
    {
      "cell_type": "markdown",
      "metadata": {
        "colab_type": "text",
        "id": "rqZr5lzpUH_O"
      },
      "source": [
        "## Filtering columns\n",
        "\n",
        "\n",
        "Often times, a dataset will also contain a lot of columns that we don't care about. We can filter columns by using the double-bracket notation and specifying the string names of the columns:"
      ]
    },
    {
      "cell_type": "code",
      "execution_count": 0,
      "metadata": {
        "colab": {},
        "colab_type": "code",
        "id": "1NRkoaYZUH_P"
      },
      "outputs": [],
      "source": [
        "expensive_failures[['title', 'budget', 'revenue']]"
      ]
    },
    {
      "cell_type": "markdown",
      "metadata": {
        "colab_type": "text",
        "id": "ObC1CH0fUH_R"
      },
      "source": [
        "*TIP: To remember this, generally remember that single brackets filter the rows while double brackets filter the columns.*\n",
        "\n",
        "We can create a `Series` object from a column in a `DataFrame` by referring to its `values`. When doing this, it's helpful to specify an index by which we want to access the values in the `Series`. For example. we can create a `Series` called `vote_lookup` such that we are able to use a call to `vote_lookup['Dead Presidents']` to find the vote average of that movie."
      ]
    },
    {
      "cell_type": "code",
      "execution_count": 0,
      "metadata": {
        "colab": {},
        "colab_type": "code",
        "id": "WbaQ7BrwUH_S"
      },
      "outputs": [],
      "source": [
        "vote_lookup = pd.Series(money_loser_df['vote_average'].values, index=money_loser_df['title'])\n",
        "\n",
        "vote_lookup['Dead Presidents']"
      ]
    },
    {
      "cell_type": "markdown",
      "metadata": {
        "colab_type": "text",
        "id": "XMUX3HArUH_V"
      },
      "source": [
        "There are other types of filters that we can use. For example, all string predicates are accessible via a column attribute called `str`. We can then use the `startswith` predicate to find all movies that start with a particular string or letter. \n",
        "\n",
        "`sort_index` and double-bracket notation (`[[]]`) allows us to find the first movie that starts with a `P` or the last one that starts with an 'R':"
      ]
    },
    {
      "cell_type": "code",
      "execution_count": 0,
      "metadata": {
        "colab": {},
        "colab_type": "code",
        "id": "mu1F6p7SUH_W"
      },
      "outputs": [],
      "source": [
        "print('First: ', vote_lookup[vote_lookup.index.str.startswith('P')].sort_index()[[0]])\n",
        "print('\\nLast: ',vote_lookup[vote_lookup.index.str.startswith('R')].sort_index()[[-1]])"
      ]
    },
    {
      "cell_type": "markdown",
      "metadata": {
        "colab_type": "text",
        "id": "_DYddgsbUH_Y"
      },
      "source": [
        "Note that we could have used `iloc` instead to access values by location but that only gives us the value, not the index with the title:"
      ]
    },
    {
      "cell_type": "code",
      "execution_count": 0,
      "metadata": {
        "colab": {},
        "colab_type": "code",
        "id": "lCu4Six-UH_Z"
      },
      "outputs": [],
      "source": [
        "vote_lookup[vote_lookup.index.str.startswith('P')].sort_index().iloc[0]"
      ]
    },
    {
      "cell_type": "markdown",
      "metadata": {
        "colab_type": "text",
        "id": "i8WDyR1vUH_d"
      },
      "source": [
        "We can even do slices using strings to get all the movies that start with P or R (we could do this using the `|` operator too)."
      ]
    },
    {
      "cell_type": "code",
      "execution_count": 0,
      "metadata": {
        "colab": {},
        "colab_type": "code",
        "id": "609_P55tUH_f"
      },
      "outputs": [],
      "source": [
        "vote_lookup_ps_and_rs = vote_lookup.sort_index()[\"P2\":\"Ryna\"]\n",
        "\n",
        "vote_lookup_ps_and_rs"
      ]
    },
    {
      "cell_type": "markdown",
      "metadata": {
        "colab_type": "text",
        "id": "zgiH8REoUH_k"
      },
      "source": [
        "## Column Arithmetic\n",
        "\n",
        "As we saw in the previous colab, we can do arithmetic on columns as if they were numbers. This applies to using multiple columns too:"
      ]
    },
    {
      "cell_type": "code",
      "execution_count": 0,
      "metadata": {
        "colab": {},
        "colab_type": "code",
        "id": "IlujboFcUH_l"
      },
      "outputs": [],
      "source": [
        "money_loser_df['budget'] - money_loser_df['revenue']"
      ]
    },
    {
      "cell_type": "markdown",
      "metadata": {
        "colab_type": "text",
        "id": "AsqhgmKfUH_t"
      },
      "source": [
        "We can then assign this value back to the `DataFrame` to create a new column:"
      ]
    },
    {
      "cell_type": "code",
      "execution_count": 0,
      "metadata": {
        "colab": {},
        "colab_type": "code",
        "id": "trdRjopLUH_u"
      },
      "outputs": [],
      "source": [
        "money_loser_df.loc[: , 'loss'] = money_loser_df['budget'] - money_loser_df['revenue']\n",
        "\n",
        "money_loser_df.head()"
      ]
    },
    {
      "cell_type": "markdown",
      "metadata": {
        "colab_type": "text",
        "id": "SgR2RQMdUH_y"
      },
      "source": [
        "## Grouping\n",
        "\n",
        "It is often useful to group data by a categorical value. For example, we might choose to group movies by language, country or origin, movie studio, etc.\n",
        "Let's try it out with language: "
      ]
    },
    {
      "cell_type": "code",
      "execution_count": 0,
      "metadata": {
        "colab": {},
        "colab_type": "code",
        "id": "2-laJfC0UH_z"
      },
      "outputs": [],
      "source": [
        "dir(df.groupby('original_language'))"
      ]
    },
    {
      "cell_type": "markdown",
      "metadata": {
        "colab_type": "text",
        "id": "aXSQ2uJYUH_4"
      },
      "source": [
        "Note that the result is not a `DataFrame` but a `DataFrameGroupBy` object. This object has one row for each language represented in `df` but isn't a `DataFrame` because Pandas doesn't know what to do with the other columns. We need to tell Pandas how we want the entries in the other columns to be combined. Even in the case where all entries are the same (like status in the illustration below) or there's a single entry being \"grouped\" (like nl below), Pandas awaits our instructions:\n",
        "\n",
        "![group by figure](https://storage.googleapis.com/amli/public/group_by.png)\n",
        "\n",
        "In the simple case where we want to combine all values in the same way, we can call one of the combining functions directly on the `DataFrameGroupBy` object. The most common combining functions are `sum`, `mean` and `count`:"
      ]
    },
    {
      "cell_type": "code",
      "execution_count": 0,
      "metadata": {
        "colab": {},
        "colab_type": "code",
        "id": "6I4a0GKQUH_5"
      },
      "outputs": [],
      "source": [
        "original_language_averages = df.groupby('original_language').mean()\n",
        "\n",
        "original_language_averages.head(20)"
      ]
    },
    {
      "cell_type": "markdown",
      "metadata": {
        "colab_type": "text",
        "id": "-TfWf5YYUH_8"
      },
      "source": [
        "There are a few things to notice here:\n",
        "- non-numeric columns (like status or overview) were dropped from the output\n",
        "- the column that we grouped by (__original_language__) is no longer a column of our output `DataFrame` but is its index instead\n",
        "- some of these values are nonsensical: what does the average of an id mean?"
      ]
    },
    {
      "cell_type": "markdown",
      "metadata": {
        "colab_type": "text",
        "id": "Mh3oRCOXUH_9"
      },
      "source": [
        "I can now lookup information for a particular language:"
      ]
    },
    {
      "cell_type": "code",
      "execution_count": 0,
      "metadata": {
        "colab": {},
        "colab_type": "code",
        "id": "nH_0c0jhUH__"
      },
      "outputs": [],
      "source": [
        "original_language_averages.loc[\"fr\"]"
      ]
    },
    {
      "cell_type": "markdown",
      "metadata": {
        "colab_type": "text",
        "id": "_VC_BjFEUIAC"
      },
      "source": [
        "For more fine-grained analysis, you can specify individual combining functions using the `agg` method:"
      ]
    },
    {
      "cell_type": "code",
      "execution_count": 0,
      "metadata": {
        "colab": {},
        "colab_type": "code",
        "id": "cbRHObhbUIAD"
      },
      "outputs": [],
      "source": [
        "df.groupby('original_language').agg({'budget': 'sum', 'revenue': 'mean'}).head()"
      ]
    },
    {
      "cell_type": "markdown",
      "metadata": {
        "colab_type": "text",
        "id": "YaydP08lUIAG"
      },
      "source": [
        "## Merging\n",
        "\n",
        "Frequently, data comes from different sources and has to be merged into a single data frame. For example, let's say that I have some notes about some of these movies that I want to merge:"
      ]
    },
    {
      "cell_type": "code",
      "execution_count": 0,
      "metadata": {
        "colab": {},
        "colab_type": "code",
        "id": "LHW-MKntUIAI"
      },
      "outputs": [],
      "source": [
        "# Take a dictionary of my data\n",
        "my_notes_dict = {\n",
        "    \"Cutthroat Island\": \"Has one of my favorite stunts\",\n",
        "    \"The Neverending Story III: Escape from Fantasia\": \"Too many sequels here\",\n",
        "    \"Bio-Dome\": \"First Pauly Shore movie I ever saw\",\n",
        "    \"The Empire Strikes Back\": \"My favorite in the SW series\",\n",
        "    \"Mighty Aphrodite\": \"Features Helena Bonham Carter\",\n",
        "}\n",
        "\n",
        "# Turn it into a DataFrame (print the intermediate value if you want to see the result)\n",
        "my_notes = pd.DataFrame(pd.Series(my_notes_dict), columns=['my_notes'])\n",
        "\n",
        "# Make sure the titles are in a column\n",
        "my_notes['title'] = my_notes.index\n",
        "\n",
        "# Then merge the data (just looking at the three columns I care about)\n",
        "pd.merge(my_notes, money_loser_df)[[\"title\", \"my_notes\", \"loss\"]]"
      ]
    },
    {
      "cell_type": "markdown",
      "metadata": {
        "colab_type": "text",
        "id": "z-SuZF1gUIAM"
      },
      "source": [
        "# Exercises\n",
        "\n",
        "Note: Use the initial DataFrame `df` for exercises, not `money_loser_df`\n",
        "\n",
        "We'll continue using the movies data for these exercises:"
      ]
    },
    {
      "cell_type": "markdown",
      "metadata": {
        "colab_type": "text",
        "id": "T4wvvzKoUIAN"
      },
      "source": [
        "## Exercise 1"
      ]
    },
    {
      "cell_type": "markdown",
      "metadata": {
        "colab_type": "text",
        "id": "W6coKbXSpXOz"
      },
      "source": [
        "I'd like to have a way to look up the budget of a particular movie.\n",
        "\n",
        "Create a `Series` object called `budget_lookup` such that you are able to use a call to `budget_lookup['Dead Presidents']` to find the budget of that movie."
      ]
    },
    {
      "cell_type": "markdown",
      "metadata": {
        "colab_type": "text",
        "id": "V-z7qTVRJo5B"
      },
      "source": [
        "### Student Solution"
      ]
    },
    {
      "cell_type": "code",
      "execution_count": 0,
      "metadata": {
        "colab": {},
        "colab_type": "code",
        "id": "AHIY5kNXUIAP"
      },
      "outputs": [],
      "source": [
        "budget_lookup = # Your code goes here\n",
        "budget_lookup['Dead Presidents']"
      ]
    },
    {
      "cell_type": "markdown",
      "metadata": {
        "colab_type": "text",
        "id": "exercise-1-key-1"
      },
      "source": [
        "### Answer Key"
      ]
    },
    {
      "cell_type": "markdown",
      "metadata": {
        "colab_type": "text",
        "id": "exercise-1-solution-1"
      },
      "source": [
        "**Solution**"
      ]
    },
    {
      "cell_type": "code",
      "execution_count": 0,
      "metadata": {
        "colab": {},
        "colab_type": "code",
        "id": "mvDFTY6rAQmN"
      },
      "outputs": [],
      "source": [
        "budget_lookup = pd.Series(df[\"budget\"].values, index = df[\"title\"])\n",
        "budget_lookup['Dead Presidents']"
      ]
    },
    {
      "cell_type": "markdown",
      "metadata": {
        "colab_type": "text",
        "id": "OzPlWmLSJtv5"
      },
      "source": [
        "**Validation**"
      ]
    },
    {
      "cell_type": "code",
      "execution_count": 0,
      "metadata": {
        "colab": {},
        "colab_type": "code",
        "id": "XRhHHZDBJxh8"
      },
      "outputs": [],
      "source": [
        "# TODO(b/129330036)"
      ]
    },
    {
      "cell_type": "markdown",
      "metadata": {
        "colab_type": "text",
        "id": "207mtqL5UIAZ"
      },
      "source": [
        "## Exercise 2"
      ]
    },
    {
      "cell_type": "markdown",
      "metadata": {
        "colab_type": "text",
        "id": "fiIx21wdpZky"
      },
      "source": [
        "Create a `Series` that contains budget information for all the movies that start with an 'A' or a 'B'. \n",
        "\n",
        "HINT: You may need to check for NaN indices."
      ]
    },
    {
      "cell_type": "markdown",
      "metadata": {
        "colab_type": "text",
        "id": "FrGZDIj5J1v_"
      },
      "source": [
        "### Student Solution"
      ]
    },
    {
      "cell_type": "code",
      "execution_count": 0,
      "metadata": {
        "colab": {},
        "colab_type": "code",
        "id": "uzoQQ6ULUIAa"
      },
      "outputs": [],
      "source": [
        "budget_lookup_as_and_bs = # Your code goes here\n",
        "budget_lookup_as_and_bs.shape"
      ]
    },
    {
      "cell_type": "markdown",
      "metadata": {
        "colab_type": "text",
        "id": "exercise-2-key-1"
      },
      "source": [
        "### Answer Key"
      ]
    },
    {
      "cell_type": "markdown",
      "metadata": {
        "colab_type": "text",
        "id": "exercise-2-solution-1"
      },
      "source": [
        "**Solution**"
      ]
    },
    {
      "cell_type": "code",
      "execution_count": 0,
      "metadata": {
        "colab": {},
        "colab_type": "code",
        "id": "wImAHMIdARuo"
      },
      "outputs": [],
      "source": [
        "# Trick: title has 3 Nan which results in Nan index in budget_lookup\n",
        "# will encounter \"ValueError: cannot index with vector containing NA / NaN values\"\n",
        "\n",
        "# Need to drop Nan indices\n",
        "budget_lookup = budget_lookup[budget_lookup.index.isnull() == False]\n",
        "budget_lookup.shape\n",
        "\n",
        "# Step 1: Get the first movie that starts with an 'A'\n",
        "budget_lookup_as = budget_lookup[budget_lookup.index.str.startswith('A')].sort_index().index[0]\n",
        "print(budget_lookup_as)\n",
        "\n",
        "# Step 2: Get the last movie that starts with a 'B': \n",
        "budget_lookup_bs = budget_lookup[budget_lookup.index.str.startswith('B')].sort_index().index[-1]\n",
        "print(budget_lookup_bs)\n",
        "\n",
        "# Step 3: Get all the movies that start with A or B\n",
        "budget_lookup_as_and_bs = budget_lookup.sort_index()[budget_lookup_as:budget_lookup_bs]\n",
        "budget_lookup_as_and_bs\n",
        "\n",
        "# # one line solution - put it all together\n",
        "# budget_lookup_as_and_bs = budget_lookup.sort_index()[budget_lookup[\n",
        "#     budget_lookup.index.str.startswith('A')].sort_index().index[0] : \n",
        "#                                                      budget_lookup[budget_lookup.index.str.startswith('B')].sort_index().index[-1]]\n",
        "\n",
        "# # Or: \n",
        "# budget_lookup_as_and_bs = budget_lookup[(budget_lookup.index.str.startswith('A') | budget_lookup.index.str.startswith('B'))].sort_index()\n",
        "\n",
        "# budget_lookup_as_and_bs"
      ]
    },
    {
      "cell_type": "markdown",
      "metadata": {
        "colab_type": "text",
        "id": "hp-Ud33pJ50Q"
      },
      "source": [
        "**Validation**"
      ]
    },
    {
      "cell_type": "code",
      "execution_count": 0,
      "metadata": {
        "colab": {},
        "colab_type": "code",
        "id": "BhqLzQ0KJ7CR"
      },
      "outputs": [],
      "source": [
        "# TODO(b/129330036)"
      ]
    },
    {
      "cell_type": "markdown",
      "metadata": {
        "colab_type": "text",
        "id": "uRmi0lJvUIAk"
      },
      "source": [
        "## Exercise 3: Numbers as indices"
      ]
    },
    {
      "cell_type": "markdown",
      "metadata": {
        "colab_type": "text",
        "id": "EOyu0xuwpcCY"
      },
      "source": [
        "Enough about movie budgets, it's time to budget my time instead. Because I schedule my day to the minute, I like to be able to look up movies by their runtime. So that when I have a spare two hours and 34 minutes, I can find all the movies that would fit precisely in that time slot (popcorn-making time is budgeted separately).\n",
        "\n",
        "Create a `Series` called `time_scheduler` that is indexed by runtime and has the movie's title as its values. Note that you will need to use `sort_index()` in order to be able to look up movies by their duration.\n",
        "\n",
        "While you're at it, remove any movie that is less than 10 minutes (can't get into it if it's too short) or longer than 3 hours (who's got time for that).\n",
        "\n",
        "HINT: You'll have to use `pd.to_numeric` to force the runtimes to be numbers (instead of numbers in a string)"
      ]
    },
    {
      "cell_type": "markdown",
      "metadata": {
        "colab_type": "text",
        "id": "quhpFLsCKC4X"
      },
      "source": [
        "### Student Solution"
      ]
    },
    {
      "cell_type": "code",
      "execution_count": 0,
      "metadata": {
        "colab": {},
        "colab_type": "code",
        "id": "Otvo1WbVUIAl"
      },
      "outputs": [],
      "source": [
        "time_scheduler = # Your code goes here\n",
        "time_scheduler"
      ]
    },
    {
      "cell_type": "markdown",
      "metadata": {
        "colab_type": "text",
        "id": "exercise-3-key-1"
      },
      "source": [
        "### Answer Key"
      ]
    },
    {
      "cell_type": "markdown",
      "metadata": {
        "colab_type": "text",
        "id": "exercise-3-solution-1"
      },
      "source": [
        "**Solution**"
      ]
    },
    {
      "cell_type": "code",
      "execution_count": 0,
      "metadata": {
        "colab": {},
        "colab_type": "code",
        "id": "Fja-ANn0AT4Y"
      },
      "outputs": [],
      "source": [
        "# create time_scheduler - beware of 260 Nan runtimes and 3 Nan movie titles\n",
        "time_scheduler = pd.Series(df.title.values, index = df['runtime'])\n",
        "\n",
        "# drop Nan indices\n",
        "time_scheduler = time_scheduler[time_scheduler.index.isnull()==False]\n",
        "print(time_scheduler.shape)\n",
        "\n",
        "time_scheduler.isnull().sum() # no Nan title exist -\u003e all 3 Nan happened to be dropped with dropping Nan indices\n",
        "\n",
        "\n",
        "# drop movie less than 10 minutes or longer than 3 hours\n",
        "print(\"total number of movies need to be dropped: \"\n",
        "      ,((time_scheduler.index \u003c 10) | (time_scheduler.index \u003e 180)).sum())\n",
        "\n",
        "time_scheduler = time_scheduler[(time_scheduler.index \u003e 10) \u0026 (time_scheduler.index \u003c 180)]\n",
        "time_scheduler.shape"
      ]
    },
    {
      "cell_type": "markdown",
      "metadata": {
        "colab_type": "text",
        "id": "UIV76f5zKUWX"
      },
      "source": [
        "**Validation**"
      ]
    },
    {
      "cell_type": "code",
      "execution_count": 0,
      "metadata": {
        "colab": {},
        "colab_type": "code",
        "id": "YsY01GSKKVgX"
      },
      "outputs": [],
      "source": [
        "# TODO(b/129330036)"
      ]
    },
    {
      "cell_type": "markdown",
      "metadata": {
        "colab_type": "text",
        "id": "1NAPDM6wKKwa"
      },
      "source": [
        "## Exercise 4"
      ]
    },
    {
      "cell_type": "markdown",
      "metadata": {
        "colab_type": "text",
        "id": "3q9QkItIUIAr"
      },
      "source": [
        "Continuing with your solution from the exercise above, let's find all those two-hour-and-34-minute movies:"
      ]
    },
    {
      "cell_type": "code",
      "execution_count": 0,
      "metadata": {
        "colab": {},
        "colab_type": "code",
        "id": "uqVCm-2DUIAs"
      },
      "outputs": [],
      "source": [
        "time_scheduler[154]"
      ]
    },
    {
      "cell_type": "markdown",
      "metadata": {
        "colab_type": "text",
        "id": "lPIJ89bIUIA0"
      },
      "source": [
        "But what is the 154th shortest movie in this collection?\n",
        "\n",
        "HINT: Use `iloc` to get it."
      ]
    },
    {
      "cell_type": "markdown",
      "metadata": {
        "colab_type": "text",
        "id": "kYu-K5IhKWqG"
      },
      "source": [
        "### Student Solution"
      ]
    },
    {
      "cell_type": "code",
      "execution_count": 0,
      "metadata": {
        "colab": {},
        "colab_type": "code",
        "id": "55xjs5zdUIA1"
      },
      "outputs": [],
      "source": [
        "movie_number_154 = # Your code goes here\n",
        "movie_number_154"
      ]
    },
    {
      "cell_type": "markdown",
      "metadata": {
        "colab_type": "text",
        "id": "exercise-4-key-1"
      },
      "source": [
        "### Answer Key"
      ]
    },
    {
      "cell_type": "markdown",
      "metadata": {
        "colab_type": "text",
        "id": "exercise-4-solution-1"
      },
      "source": [
        "**Solution**"
      ]
    },
    {
      "cell_type": "code",
      "execution_count": 0,
      "metadata": {
        "colab": {},
        "colab_type": "code",
        "id": "cyapT7RAAWOG"
      },
      "outputs": [],
      "source": [
        "movie_number_154 = time_scheduler.sort_index().iloc[153]\n",
        "movie_number_154"
      ]
    },
    {
      "cell_type": "markdown",
      "metadata": {
        "colab_type": "text",
        "id": "jhaDMloVKbA7"
      },
      "source": [
        "**Validation**"
      ]
    },
    {
      "cell_type": "code",
      "execution_count": 0,
      "metadata": {
        "colab": {},
        "colab_type": "code",
        "id": "Uak6Zl9cKcHh"
      },
      "outputs": [],
      "source": [
        "# TODO(b/129330036)"
      ]
    },
    {
      "cell_type": "markdown",
      "metadata": {
        "colab_type": "text",
        "id": "5GSNF7s3UIA3"
      },
      "source": [
        "## Exercise 5: Grouping"
      ]
    },
    {
      "cell_type": "markdown",
      "metadata": {
        "colab_type": "text",
        "id": "GZFnJNRwptPk"
      },
      "source": [
        "I'd like to find out the total budget for the movies in our data for recent years that we have in the records (we don't have a lot of budget info for really old films). Create a `DataFrame` with a row for each year from 1990 through 2017 (inclusive) and one column: the sum of all budgets in that year. Note that you'll need to process the __release_date__ column to extract the year."
      ]
    },
    {
      "cell_type": "markdown",
      "metadata": {
        "colab_type": "text",
        "id": "wKpzbH4VKft2"
      },
      "source": [
        "### Student Solution"
      ]
    },
    {
      "cell_type": "code",
      "execution_count": 0,
      "metadata": {
        "colab": {},
        "colab_type": "code",
        "id": "WH_h2hX1UIA3"
      },
      "outputs": [],
      "source": [
        "yearly_budgets = # Your code goes here"
      ]
    },
    {
      "cell_type": "markdown",
      "metadata": {
        "colab_type": "text",
        "id": "exercise-5-key-1"
      },
      "source": [
        "### Answer Key"
      ]
    },
    {
      "cell_type": "markdown",
      "metadata": {
        "colab_type": "text",
        "id": "exercise-5-solution-1"
      },
      "source": [
        "**Solution**"
      ]
    },
    {
      "cell_type": "code",
      "execution_count": 0,
      "metadata": {
        "colab": {},
        "colab_type": "code",
        "id": "ekdpwl8bAb8D"
      },
      "outputs": [],
      "source": [
        "# Drop Nan first since we need the year to be numerical to compare with\n",
        "df.release_date.isnull().sum()\n",
        "df = df[df.release_date.isnull() == False]\n",
        "\n",
        "# Slice out year from release_date and convert to int\n",
        "df['year'] = df.release_date.str.slice(stop=4).astype(int)\n",
        "\n",
        "# Create grouped yearly_budget\n",
        "yearly_budgets = df[(df.year \u003e= 1990) \u0026 (df.year \u003c= 2017)][[\"year\", \"budget\"]].groupby('year').agg('sum')\n",
        "yearly_budgets"
      ]
    },
    {
      "cell_type": "markdown",
      "metadata": {
        "colab_type": "text",
        "id": "2twzVnUiKkLe"
      },
      "source": [
        "**Validation**"
      ]
    },
    {
      "cell_type": "code",
      "execution_count": 0,
      "metadata": {
        "colab": {},
        "colab_type": "code",
        "id": "wR2RzFdHKlQz"
      },
      "outputs": [],
      "source": [
        "# TODO(b/129330036)"
      ]
    },
    {
      "cell_type": "markdown",
      "metadata": {
        "colab_type": "text",
        "id": "D5fysHKdUIA6"
      },
      "source": [
        "## Exercise 6: Dealing with multiple DataFrames"
      ]
    },
    {
      "cell_type": "markdown",
      "metadata": {
        "colab_type": "text",
        "id": "tORgy3QMpfbo"
      },
      "source": [
        "Forget about budget or runtimes as criteria for selecting a movie, let's take a look at popular opinion. Our dataset has two relevant columns: `vote_average` and `vote_count`.\n",
        "\n",
        "Let's create a variable called `df_high_rated` that only contains movies that have received more than 20 votes and whose average score is greater than 8."
      ]
    },
    {
      "cell_type": "markdown",
      "metadata": {
        "colab_type": "text",
        "id": "1SKZcrqQKpW-"
      },
      "source": [
        "### Student Solution"
      ]
    },
    {
      "cell_type": "code",
      "execution_count": 0,
      "metadata": {
        "colab": {},
        "colab_type": "code",
        "id": "Psh4C_OFUIA7"
      },
      "outputs": [],
      "source": [
        "df_high_rated = # Your code goes here\n",
        "df_high_rated[['title', 'vote_average', 'vote_count']]\n"
      ]
    },
    {
      "cell_type": "markdown",
      "metadata": {
        "colab_type": "text",
        "id": "exercise-6-key-1"
      },
      "source": [
        "### Answer Key"
      ]
    },
    {
      "cell_type": "markdown",
      "metadata": {
        "colab_type": "text",
        "id": "exercise-6-solution-1"
      },
      "source": [
        "**Solution**"
      ]
    },
    {
      "cell_type": "code",
      "execution_count": 0,
      "metadata": {
        "colab": {},
        "colab_type": "code",
        "id": "bojZRZKcAdb1"
      },
      "outputs": [],
      "source": [
        "df_high_rated = df[(df.vote_count \u003e 20) \u0026 (df.vote_average \u003e 8)]\n",
        "df_high_rated[['title', 'vote_average', 'vote_count']]"
      ]
    },
    {
      "cell_type": "markdown",
      "metadata": {
        "colab_type": "text",
        "id": "tBCQ2338K0r0"
      },
      "source": [
        "**Validation**"
      ]
    },
    {
      "cell_type": "code",
      "execution_count": 0,
      "metadata": {
        "colab": {},
        "colab_type": "code",
        "id": "gJPaYrvPK2Cx"
      },
      "outputs": [],
      "source": [
        "# TODO(b/129330036)"
      ]
    },
    {
      "cell_type": "markdown",
      "metadata": {
        "colab_type": "text",
        "id": "DAg5CE2hLDzb"
      },
      "source": [
        "## Exercise 7: Dealing with multiple DataFrames (continued)\n"
      ]
    },
    {
      "cell_type": "markdown",
      "metadata": {
        "colab_type": "text",
        "id": "JraD-vV3UIA9"
      },
      "source": [
        "Here we have 178 high-quality movies, at least according to some people. But what about **my** opinion? \n",
        "\n",
        "Here are my favorite movies and their relative scores:"
      ]
    },
    {
      "cell_type": "code",
      "execution_count": 0,
      "metadata": {
        "colab": {},
        "colab_type": "code",
        "id": "gSVlIvC_UIA-"
      },
      "outputs": [],
      "source": [
        "{\n",
        "    \"Star Wars\": 9,\n",
        "    \"Paris is Burning\": 8,\n",
        "    \"Dead Poets Society\": 7,\n",
        "    \"The Empire Strikes Back\": 9.5,\n",
        "    \"The Shining\": 8,\n",
        "    \"Return of the Jedi\": 8,\n",
        "    \"1941\": 8,\n",
        "    \"Forrest Gump\": 7.5,\n",
        "}"
      ]
    },
    {
      "cell_type": "markdown",
      "metadata": {
        "colab_type": "text",
        "id": "XmKOrRjLcZQE"
      },
      "source": [
        " Create a DataFrame called `compare_votes` that contains the title as an index and both the `vote_average` and `my_vote` as its columns. Also only keep the movies that are both my favorites and popular favorites.\n",
        "\n",
        "HINT: You'll need to create two `DataFrame`s, one for my ratings and one that maps titles to `vote_average`."
      ]
    },
    {
      "cell_type": "markdown",
      "metadata": {
        "colab_type": "text",
        "id": "U-vdDOhhLKLg"
      },
      "source": [
        "### Student Solution"
      ]
    },
    {
      "cell_type": "code",
      "execution_count": 0,
      "metadata": {
        "colab": {},
        "colab_type": "code",
        "id": "xX_fKdeScfPb"
      },
      "outputs": [],
      "source": [
        "compare_votes = # Your code goes here"
      ]
    },
    {
      "cell_type": "markdown",
      "metadata": {
        "colab_type": "text",
        "id": "exercise-7-key-1"
      },
      "source": [
        "### Answer Key"
      ]
    },
    {
      "cell_type": "markdown",
      "metadata": {
        "colab_type": "text",
        "id": "exercise-7-solution-1"
      },
      "source": [
        "**Solution**"
      ]
    },
    {
      "cell_type": "code",
      "execution_count": 0,
      "metadata": {
        "colab": {},
        "colab_type": "code",
        "id": "-0MmxJaDAe26"
      },
      "outputs": [],
      "source": [
        "# create DataFrame of popular votes\n",
        "popular_votes = pd.DataFrame(df_high_rated['vote_average'].values, \n",
        "                             index = df_high_rated['title'],\n",
        "                             columns = ['vote_average'])\n",
        "popular_votes\n",
        "\n",
        "# create DataFrame of my votes\n",
        "my_votes = pd.DataFrame(pd.Series({\n",
        "        \"Star Wars\": 9,\n",
        "        \"Paris is Burning\": 8,\n",
        "        \"Dead Poets Society\": 7,\n",
        "        \"The Empire Strikes Back\": 9.5,\n",
        "        \"The Shining\": 8,\n",
        "        \"Return of the Jedi\": 8,\n",
        "        \"1941\": 8,\n",
        "        \"Forrest Gump\": 7.5,\n",
        "    }), columns = ['my_vote'])\n",
        "\n",
        "my_votes\n",
        "\n",
        "# add in common feature\n",
        "my_votes['title'] = my_votes.index\n",
        "popular_votes['title'] = popular_votes.index\n",
        "\n",
        "# merge\n",
        "compare_votes = pd.merge(popular_votes, my_votes)\n",
        "compare_votes"
      ]
    },
    {
      "cell_type": "markdown",
      "metadata": {
        "colab_type": "text",
        "id": "CVAcFRppLOfN"
      },
      "source": [
        "**Validation**"
      ]
    },
    {
      "cell_type": "code",
      "execution_count": 0,
      "metadata": {
        "colab": {},
        "colab_type": "code",
        "id": "_I6XKgF6LREd"
      },
      "outputs": [],
      "source": [
        "# TODO(b/129330036)"
      ]
    },
    {
      "cell_type": "markdown",
      "metadata": {
        "colab_type": "text",
        "id": "E9bHmNDrLU10"
      },
      "source": [
        "## Exercise 8: Dealing with multiple DataFrames (continued)\n"
      ]
    },
    {
      "cell_type": "markdown",
      "metadata": {
        "colab_type": "text",
        "id": "PR-rugfCUIA_"
      },
      "source": [
        "There should be only 6 movies remaining.\n",
        "\n",
        "Now add a column to `compare_votes` that measures the percentage difference between my rating and the popular rating for each movie. You'll need to take the difference between the `vote_average` and `my_vote` and divide it by `my_vote`.\n"
      ]
    },
    {
      "cell_type": "markdown",
      "metadata": {
        "colab_type": "text",
        "id": "Hf27EQoFLXqU"
      },
      "source": [
        "### Student Solution"
      ]
    },
    {
      "cell_type": "code",
      "execution_count": 0,
      "metadata": {
        "colab": {},
        "colab_type": "code",
        "id": "Yf52vgJeUIBA"
      },
      "outputs": [],
      "source": [
        "# Your code goes here"
      ]
    },
    {
      "cell_type": "markdown",
      "metadata": {
        "colab_type": "text",
        "id": "exercise-8-key-1"
      },
      "source": [
        "### Answer Key"
      ]
    },
    {
      "cell_type": "markdown",
      "metadata": {
        "colab_type": "text",
        "id": "exercise-8-solution-1"
      },
      "source": [
        "**Solution**"
      ]
    },
    {
      "cell_type": "code",
      "execution_count": 0,
      "metadata": {
        "colab": {},
        "colab_type": "code",
        "id": "vSBSiBT1B4Sw"
      },
      "outputs": [],
      "source": [
        "compare_votes['voting_diff'] = (compare_votes.vote_average - compare_votes.my_vote) / compare_votes.my_vote\n",
        "compare_votes"
      ]
    },
    {
      "cell_type": "markdown",
      "metadata": {
        "colab_type": "text",
        "id": "juk_C46eLcnN"
      },
      "source": [
        "**Validation**"
      ]
    },
    {
      "cell_type": "code",
      "execution_count": 0,
      "metadata": {
        "colab": {},
        "colab_type": "code",
        "id": "0VSriLI_Ldse"
      },
      "outputs": [],
      "source": [
        "# TODO(b/129330036)"
      ]
    },
    {
      "cell_type": "markdown",
      "metadata": {
        "colab_type": "text",
        "id": "LI_9iwG5UIBS"
      },
      "source": [
        "## Exercise 9: Challenge (Ungraded)"
      ]
    },
    {
      "cell_type": "markdown",
      "metadata": {
        "colab_type": "text",
        "id": "_jvilMh1pjY0"
      },
      "source": [
        "Process the data in the __production_countries__ columns to extract one production country (one is enough, you can just use the first one). Then download the life expectancies dataset from [Gapminder](https://www.gapminder.org/data/) (the same dataset that we used for our `Linear Regression with Scikit` colab) and use it to compute for each country, the percentage of each country's GDP that the movies produced in that country represent."
      ]
    },
    {
      "cell_type": "markdown",
      "metadata": {
        "colab_type": "text",
        "id": "QK1tz626LjZU"
      },
      "source": [
        "### Student Solution"
      ]
    },
    {
      "cell_type": "code",
      "execution_count": 0,
      "metadata": {
        "colab": {},
        "colab_type": "code",
        "id": "JLxHFLnVdbPS"
      },
      "outputs": [],
      "source": [
        "# Your code goes here"
      ]
    },
    {
      "cell_type": "markdown",
      "metadata": {
        "colab_type": "text",
        "id": "exercise-9-key-1"
      },
      "source": [
        "### Answer Key"
      ]
    },
    {
      "cell_type": "markdown",
      "metadata": {
        "colab_type": "text",
        "id": "exercise-9-solution-1"
      },
      "source": [
        "**Solution**"
      ]
    },
    {
      "cell_type": "code",
      "execution_count": 0,
      "metadata": {
        "colab": {},
        "colab_type": "code",
        "id": "thpPZba4CCtP"
      },
      "outputs": [],
      "source": [
        "df['production_countries']"
      ]
    },
    {
      "cell_type": "code",
      "execution_count": 0,
      "metadata": {
        "colab": {},
        "colab_type": "code",
        "id": "KtBr8zu_e8-Z"
      },
      "outputs": [],
      "source": [
        "gdp = pd.read_csv(\"total_gdp_us_inflation_adjusted.csv\")\n",
        "gdp"
      ]
    },
    {
      "cell_type": "markdown",
      "metadata": {
        "colab_type": "text",
        "id": "dOwVBjU5Lq41"
      },
      "source": [
        "**Validation**"
      ]
    },
    {
      "cell_type": "code",
      "execution_count": 0,
      "metadata": {
        "colab": {},
        "colab_type": "code",
        "id": "N-RroA16LsCm"
      },
      "outputs": [],
      "source": [
        "# TODO(b/129330036)"
      ]
    }
  ],
  "metadata": {
    "colab": {
      "collapsed_sections": [
        "copyright",
        "exercise-1-key-1",
        "exercise-2-key-1",
        "exercise-3-key-1",
        "exercise-4-key-1",
        "exercise-5-key-1",
        "exercise-6-key-1",
        "exercise-7-key-1",
        "exercise-8-key-1",
        "exercise-9-key-1"
      ],
      "name": "Intermediate Pandas",
      "private_outputs": true,
      "provenance": [],
      "toc_visible": true,
      "version": "0.3.2"
    },
    "kernelspec": {
      "display_name": "Python 3",
      "name": "python3"
    }
  },
  "nbformat": 4,
  "nbformat_minor": 0
}
