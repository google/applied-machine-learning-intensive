{
 "cells": [
  {
   "cell_type": "markdown",
   "metadata": {
    "colab_type": "text",
    "id": "copyright"
   },
   "source": [
    "#### Copyright 2019 Google LLC."
   ]
  },
  {
   "cell_type": "code",
   "execution_count": 0,
   "metadata": {
    "colab": {},
    "colab_type": "code",
    "id": "h8rAl_sPizbx"
   },
   "outputs": [],
   "source": [
    "# Licensed under the Apache License, Version 2.0 (the \"License\");\n",
    "# you may not use this file except in compliance with the License.\n",
    "# You may obtain a copy of the License at\n",
    "#\n",
    "# https://www.apache.org/licenses/LICENSE-2.0\n",
    "#\n",
    "# Unless required by applicable law or agreed to in writing, software\n",
    "# distributed under the License is distributed on an \"AS IS\" BASIS,\n",
    "# WITHOUT WARRANTIES OR CONDITIONS OF ANY KIND, either express or implied.\n",
    "# See the License for the specific language governing permissions and\n",
    "# limitations under the License."
   ]
  },
  {
   "cell_type": "markdown",
   "metadata": {
    "colab_type": "text",
    "id": "zXUyqihI0cQ8"
   },
   "source": [
    "# Intermediate Python - Objects\n"
   ]
  },
  {
   "cell_type": "markdown",
   "metadata": {
    "colab_type": "text",
    "id": "u_ff6_8Yi6yV"
   },
   "source": [
    "We have explored the basics of Python. At this point in your journey you should be familiar with the string, number, list, tuple, and dictionary data types in Python. You should know how to write a loop, an if/else statement, and a function. And you should know how to add comments to your code and how to print output.\n",
    "\n",
    "In this colab we will move into a more advanced concept called objects. You might know objects from some other language and if so, the Python object system will look familiar to you. If not, don't worry! This will be a gentle introduction that will give you the skills you need to know in order to build your own objects in Python."
   ]
  },
  {
   "cell_type": "markdown",
   "metadata": {
    "colab_type": "text",
    "id": "8ErYS1G0FN-c"
   },
   "source": [
    "## Overview"
   ]
  },
  {
   "cell_type": "markdown",
   "metadata": {
    "colab_type": "text",
    "id": "VmIC9K6fFZ6q"
   },
   "source": [
    "### Learning Objectives\n",
    "\n",
    "* Build a basic Python object.\n",
    "* Build a hierarchy of objects.\n",
    "* Distinguish procedural from object-oriented programming styles.\n",
    "* Distinguish a class from an instance."
   ]
  },
  {
   "cell_type": "markdown",
   "metadata": {
    "colab_type": "text",
    "id": "gajiQsoOGn3J"
   },
   "source": [
    "### Prerequisites\n",
    "\n",
    "* Introduction to Python"
   ]
  },
  {
   "cell_type": "markdown",
   "metadata": {
    "colab_type": "text",
    "id": "cGBAhKcDGsa0"
   },
   "source": [
    "### Estimated Duration\n",
    "\n",
    "60 minutes"
   ]
  },
  {
   "cell_type": "markdown",
   "metadata": {
    "colab_type": "text",
    "id": "YH-KmSKlGxlA"
   },
   "source": [
    "### Grading Criteria\n",
    "\n",
    "Each exercise is worth 3 points. The rubric for calculating those points is:\n",
    "\n",
    "| Points | Description |\n",
    "|--------|-------------|\n",
    "| 0      | No attempt at exercise |\n",
    "| 1      | Attempted exercise, but code does not run |\n",
    "| 2      | Attempted exercise, code runs, but produces incorrect answer |\n",
    "| 3      | Exercise completed successfully |\n",
    "\n",
    "There are 4 exercises in this Colab so there are 12 points available. The grading scale will be 9 points."
   ]
  },
  {
   "cell_type": "markdown",
   "metadata": {
    "colab_type": "text",
    "id": "xxK3InH3Blo9"
   },
   "source": [
    "## Objects"
   ]
  },
  {
   "cell_type": "markdown",
   "metadata": {
    "colab_type": "text",
    "id": "RUGjLiQ-vErM"
   },
   "source": [
    "### Introduction"
   ]
  },
  {
   "cell_type": "markdown",
   "metadata": {
    "colab_type": "text",
    "id": "4TduRFoE6nCM"
   },
   "source": [
    "It is likely that you have seen programs written in procedural programming style. These programs consist of procedures (also called functions and methods, among others) that operate on data passed to them.\n",
    "\n",
    "Imagine that you had a function `compute_pay` that computed the paycheck for a worker. In the procedural style you would pass the data necessary to compute the pay to the `compute_pay` function:\n",
    "\n",
    "```\n",
    "employee_data = get_employee_data()\n",
    "compute_pay(employee_data)\n",
    "```\n",
    "\n",
    "Though you could write something like this in Python, it isn't necessarily idiomatic to the language.\n",
    "\n",
    "Python is an object-oriented programming language. This means that your program can be modeled as logical objects with data and the methods that operate on that data packaged together.\n",
    "\n",
    "In an object-oriented programming, the `compute_pay` function could be tightly bound to the data itself. In that case, computing an employee's pay would look more like:\n",
    "\n",
    "```\n",
    "employee_data = get_employee_data()\n",
    "employee_data.compute_pay()\n",
    "```\n",
    "\n",
    "In this case `compute_pay` is a function that is bound to the employee data and `compute_pay` can be called directly on the data.\n",
    "\n",
    "This doesn't mean that you can't pass data to functions. Imagine that the employee data only contained information like hourly wage and tax holdouts. In this case, `compute_pay` might need to know the number of hours worked.\n",
    "\n",
    "```\n",
    "employee_data = get_employee_data()\n",
    "hours_worked = get_hours_worked()\n",
    "employee_data.compute_pay(hours_worked)\n",
    "```\n",
    "\n",
    "In the example above you can see the procedural and object-oriented styles mixed together in the same block of code. This isn't uncommon, but it isn't necessary. Hours worked could originate from an object representing the time clock and employee data could come from an object representing the HR system.\n",
    "\n",
    "```\n",
    "employee_data = hr.get_employee_data()\n",
    "hours_worked = timeclock.get_hours_worked()\n",
    "employee_data.compute_pay(hours_worked)\n",
    "```\n"
   ]
  },
  {
   "cell_type": "markdown",
   "metadata": {
    "colab_type": "text",
    "id": "gpNmfStYHDgQ"
   },
   "source": [
    "In Python everything is an object."
   ]
  },
  {
   "cell_type": "code",
   "execution_count": 0,
   "metadata": {
    "colab": {},
    "colab_type": "code",
    "id": "3dZDMZsOICyZ"
   },
   "outputs": [],
   "source": [
    "for data in (\n",
    "  1,                         # integer\n",
    "  3.5,                       # float\n",
    "  \"Hello Python\",            # string\n",
    "  (1, \"funny\", \"tuple\"),     # tuple\n",
    "  [\"a\", \"list\"],             # list\n",
    "  {\"and\": \"a\", \"dict\": 2}    # dictionary\n",
    "  ):\n",
    "  print(\"Is {} an object? {}\".format(type(data), isinstance(data, object)))"
   ]
  },
  {
   "cell_type": "markdown",
   "metadata": {
    "colab_type": "text",
    "id": "K4jbzjqIp84A"
   },
   "source": [
    "Objects are not limited to the built-in types in Python. You can create your own object using the `class` keyword."
   ]
  },
  {
   "cell_type": "code",
   "execution_count": 0,
   "metadata": {
    "colab": {},
    "colab_type": "code",
    "id": "zeJVuLmdqGKm"
   },
   "outputs": [],
   "source": [
    "class Cow:\n",
    "  pass"
   ]
  },
  {
   "cell_type": "markdown",
   "metadata": {
    "colab_type": "text",
    "id": "TCCGHpJKqeMe"
   },
   "source": [
    "Why did we use the keyword `class` and not `object`? You can think of the class as a template for the object and the object itself as an instance of the class. To create an object from a class you use parentheses to instantiate the class."
   ]
  },
  {
   "cell_type": "code",
   "execution_count": 0,
   "metadata": {
    "colab": {},
    "colab_type": "code",
    "id": "ZvjYC848qxm0"
   },
   "outputs": [],
   "source": [
    "# Create an instance of Cow called elsie\n",
    "elsie = Cow()\n",
    "\n",
    "# Create an instance of Cow called annabelle\n",
    "annabelle = Cow()\n",
    "\n",
    "print(Cow)\n",
    "print(elsie)\n",
    "print(annabelle)"
   ]
  },
  {
   "cell_type": "markdown",
   "metadata": {
    "colab_type": "text",
    "id": "a4irk5uyrihI"
   },
   "source": [
    "Notice that `Cow` is a `class` and that `elsie` and `annabelle` are \"Cow objects\". You might have to look close, but `elsie` and `annabelle` are located at different locations in memory."
   ]
  },
  {
   "cell_type": "markdown",
   "metadata": {
    "colab_type": "text",
    "id": "_tGJ-8foqKUj"
   },
   "source": [
    "Adding functions to a class is easy. You simple create a function, but have it indented so that it is inside the class."
   ]
  },
  {
   "cell_type": "code",
   "execution_count": 0,
   "metadata": {
    "colab": {},
    "colab_type": "code",
    "id": "vgD60LqhqUn6"
   },
   "outputs": [],
   "source": [
    "class Cow:\n",
    "  def talk():\n",
    "    print(\"Moo\")"
   ]
  },
  {
   "cell_type": "markdown",
   "metadata": {
    "colab_type": "text",
    "id": "d8niOAhdsKr5"
   },
   "source": [
    "You can then call the method directly on the class."
   ]
  },
  {
   "cell_type": "code",
   "execution_count": 0,
   "metadata": {
    "colab": {},
    "colab_type": "code",
    "id": "nz_L_k9vr_-C"
   },
   "outputs": [],
   "source": [
    "Cow.talk()"
   ]
  },
  {
   "cell_type": "markdown",
   "metadata": {
    "colab_type": "text",
    "id": "WqUQumEXsOzX"
   },
   "source": [
    "But you can't call `talk` on any `Cow` objects at the moment.\n",
    "\n",
    "Look above where we printed the address of `elsie` and `annabelle`. These are two distinct objects in memory that might contain data. When you call a function on an object Python passes the object to the function as the first parameter of the function.\n",
    "\n",
    "Let's modify the `Cow` class to make `talk` an object (also known as instance) function instead of a class function."
   ]
  },
  {
   "cell_type": "code",
   "execution_count": 0,
   "metadata": {
    "colab": {},
    "colab_type": "code",
    "id": "tr9sZAMhtUPz"
   },
   "outputs": [],
   "source": [
    "class Cow:\n",
    "  def talk(self):\n",
    "    print(\"Moo\")\n",
    "\n",
    "elsie = Cow()\n",
    "elsie.talk()"
   ]
  },
  {
   "cell_type": "markdown",
   "metadata": {
    "colab_type": "text",
    "id": "42_id9U3toPF"
   },
   "source": [
    "Now `talk` can be called on objects of type `Cow`, but not on the `Cow` class itself."
   ]
  },
  {
   "cell_type": "markdown",
   "metadata": {
    "colab_type": "text",
    "id": "L5qwgSTQtypi"
   },
   "source": [
    "You can add as many methods as you want to a class."
   ]
  },
  {
   "cell_type": "code",
   "execution_count": 0,
   "metadata": {
    "colab": {},
    "colab_type": "code",
    "id": "a2BYfP41t3HN"
   },
   "outputs": [],
   "source": [
    "class Cow:\n",
    "  def talk(self):\n",
    "    print(\"Moo\")\n",
    "    \n",
    "  def eat(self):\n",
    "    print(\"Crunch\")\n",
    "\n",
    "elsie = Cow()\n",
    "elsie.eat()\n",
    "elsie.talk()"
   ]
  },
  {
   "cell_type": "markdown",
   "metadata": {
    "colab_type": "text",
    "id": "4Su1J-hRvuXL"
   },
   "source": [
    "### Double Underscores"
   ]
  },
  {
   "cell_type": "markdown",
   "metadata": {
    "colab_type": "text",
    "id": "IPKe-F6vsVAa"
   },
   "source": [
    "There are special functions that you can define on a class. These functions do things like initialize an object, convert an object to a string, determine the length of an object, and more.\n",
    "\n",
    "These special functions all start and end with double-underscores. The most common one of these special functions is `__init__`.\n",
    "\n",
    "`__init__` initializes the class. Let's add an initializer to our `Cow` class."
   ]
  },
  {
   "cell_type": "code",
   "execution_count": 0,
   "metadata": {
    "colab": {},
    "colab_type": "code",
    "id": "4lKYcqlXtb6p"
   },
   "outputs": [],
   "source": [
    "class Cow:\n",
    "  def __init__(self, name):\n",
    "    self.__name = name\n",
    "  \n",
    "  def talk(self):\n",
    "    print(\"{} says moo\".format(self.__name))\n",
    "\n",
    "ab = Cow(\"Annabelle\")\n",
    "ab.talk()\n",
    "\n",
    "el = Cow(\"Elsie\")\n",
    "el.talk()"
   ]
  },
  {
   "cell_type": "markdown",
   "metadata": {
    "colab_type": "text",
    "id": "kU9c1icMqaPi"
   },
   "source": [
    "There are a few new concepts in the code above. First is the introduction of the `__init__` method that we mentioned before. You can see that `__init__` is passed the object itself, commonly referred to as **self**.\n",
    "\n",
    "`__init__` can also accept any number of other arguments. In this case we want the name of the cow. We save that name in the object (represented by `self`). We then use that name in the `talk` method.\n",
    "\n",
    "Notice that the instance variable `__name` has two underscores before it. This hides the variable from the rest of the program. This data hiding provides **encapsulation** which is an important object-oriented concept.\n",
    "\n",
    "Had `__name` been called `name` or `_name` (one underscore) it would not be hidden and could be accessed on the object (ex. `ab.name`).\n",
    "\n",
    "There are many different double-underscore (dunder) methods. They are all documented in the [official Python documentation](https://docs.python.org/3/reference/datamodel.html)."
   ]
  },
  {
   "cell_type": "markdown",
   "metadata": {
    "colab_type": "text",
    "id": "Uf7LDFuQwieB"
   },
   "source": [
    "### Inheritance"
   ]
  },
  {
   "cell_type": "markdown",
   "metadata": {
    "colab_type": "text",
    "id": "QjCtWgVpwtgC"
   },
   "source": [
    "Python objects are able to inherit functionality from other Python objects. Let's look at an example."
   ]
  },
  {
   "cell_type": "code",
   "execution_count": 0,
   "metadata": {
    "colab": {},
    "colab_type": "code",
    "id": "cPNB-XV7w4dY"
   },
   "outputs": [],
   "source": [
    "class Animal:\n",
    "  def talk(self):\n",
    "    print(\"...\")  # The sound of silence\n",
    "  \n",
    "  def eat(self):\n",
    "    print(\"crunch\")\n",
    "\n",
    "class Cow(Animal):\n",
    "  def talk(self):\n",
    "    print(\"moo\")\n",
    "\n",
    "class Worm(Animal):\n",
    "  pass\n",
    "\n",
    "cow = Cow()\n",
    "worm = Worm()\n",
    "\n",
    "cow.talk()\n",
    "cow.eat()\n",
    "worm.talk()\n",
    "worm.eat()"
   ]
  },
  {
   "cell_type": "markdown",
   "metadata": {
    "colab_type": "text",
    "id": "ypxaiCdexbZX"
   },
   "source": [
    "In the code above we create an `Animal` class that has a generic implementation of the `talk` and `eat` functions. We then create a `Cow` object that implements its own `talk` function but relies on the `Animal`'s `eat` function. We also create a `Worm` class that fully relies on `Animal` to provide `talk` and `eat` functions.\n",
    "\n",
    "Why is this useful?\n",
    "\n",
    "There are multiple reasons, but one of the most powerful is that we can now rely on the fact that `Cow` and `Worm` implement every method in `Animal` so we can write functions that work with `Animal` objects regardless of the actual type of animal."
   ]
  },
  {
   "cell_type": "code",
   "execution_count": 0,
   "metadata": {
    "colab": {},
    "colab_type": "code",
    "id": "SyPcyK35yuji"
   },
   "outputs": [],
   "source": [
    "def make_it_talk(animal):\n",
    "  if isinstance(animal, Animal):\n",
    "    animal.talk()\n",
    "\n",
    "make_it_talk(cow)\n",
    "make_it_talk(worm)"
   ]
  },
  {
   "cell_type": "markdown",
   "metadata": {
    "colab_type": "text",
    "id": "sZo8mvJ3zR-c"
   },
   "source": [
    "Python also supports multiple inheritance and many layers of inheritance."
   ]
  },
  {
   "cell_type": "code",
   "execution_count": 0,
   "metadata": {
    "colab": {},
    "colab_type": "code",
    "id": "yB9F3J2lzoGu"
   },
   "outputs": [],
   "source": [
    "class Animal:\n",
    "  def move(self):\n",
    "    pass\n",
    "  \n",
    "  def eat(self):\n",
    "    pass\n",
    "\n",
    "class Legless(Animal):\n",
    "  def move(self):\n",
    "    print(\"Wriggle wriggle\")\n",
    "\n",
    "class Legged(Animal):\n",
    "  def move(self):\n",
    "    print(\"Trot trot trot\")\n",
    "\n",
    "class Toothless(Animal):\n",
    "  def eat(self):\n",
    "    print(\"Slurp\")\n",
    "\n",
    "class Toothed(Animal):\n",
    "  def eat(self):\n",
    "    print(\"Chomp\")\n",
    "\n",
    "class Worm(Legless, Toothless):\n",
    "  pass\n",
    "\n",
    "class Cow(Legged, Toothed):\n",
    "  pass\n",
    "\n",
    "class Rock:\n",
    "  pass\n",
    "\n",
    "def live(animal):\n",
    "  if isinstance(animal, Animal):\n",
    "    animal.move()\n",
    "    animal.eat()\n",
    "\n",
    "w = Worm()\n",
    "c = Cow()\n",
    "r = Rock()\n",
    "\n",
    "print(\"The worm goes...\")\n",
    "live(w)\n",
    "\n",
    "print(\"The cow goes...\")\n",
    "live(c)\n",
    "\n",
    "print(\"The rock goes...\")\n",
    "live(r)\n"
   ]
  },
  {
   "cell_type": "markdown",
   "metadata": {
    "colab_type": "text",
    "id": "M4DjbnzJ1hDB"
   },
   "source": [
    "You can see that `Cow` and `Worm` are `Animal` objects thanks to multiple levels of inheritance.\n",
    "\n",
    "The leg and tooth-related classes each provide a bit of functionality for `Cow` and `Worm`."
   ]
  },
  {
   "cell_type": "markdown",
   "metadata": {
    "colab_type": "text",
    "id": "0fAWbmGP2KEg"
   },
   "source": [
    "# Exercises"
   ]
  },
  {
   "cell_type": "markdown",
   "metadata": {
    "colab_type": "text",
    "id": "Va99s7pW2MNx"
   },
   "source": [
    "## Exercise 1"
   ]
  },
  {
   "cell_type": "markdown",
   "metadata": {
    "colab_type": "text",
    "id": "E34IeEYpqcK7"
   },
   "source": [
    "In the code block below create a `Cow` class that has an `__init__` method that accepts a name and breed so that a cow can be created like:\n",
    "\n",
    "```\n",
    "  elsie = Cow(\"Elsie\", \"Jersey\")\n",
    "```\n",
    "\n",
    "Name the class variables **name** and **breed**.\n",
    "\n",
    "Make sure that if the name and breed of cow passed in to the constructor are changed, the values stored in the instance variables reflect the different names. Don't hard-code \"Elsie\" and \"Jersey\"."
   ]
  },
  {
   "cell_type": "markdown",
   "metadata": {
    "colab_type": "text",
    "id": "GzixSvOrJhv9"
   },
   "source": [
    "### Student Solution"
   ]
  },
  {
   "cell_type": "code",
   "execution_count": 0,
   "metadata": {
    "colab": {},
    "colab_type": "code",
    "id": "-1qtuRMR3ioX"
   },
   "outputs": [],
   "source": [
    "# Your code goes here"
   ]
  },
  {
   "cell_type": "markdown",
   "metadata": {
    "colab_type": "text",
    "id": "exercise-1-key-1"
   },
   "source": [
    "### Answer Key"
   ]
  },
  {
   "cell_type": "markdown",
   "metadata": {
    "colab_type": "text",
    "id": "exercise-1-solution-1"
   },
   "source": [
    "**Solution**"
   ]
  },
  {
   "cell_type": "code",
   "execution_count": 0,
   "metadata": {
    "colab": {},
    "colab_type": "code",
    "id": "vgkJpqxwxUZw"
   },
   "outputs": [],
   "source": [
    "class Cow:\n",
    "  def __init__(self, name, breed):\n",
    "    self.__name = name\n",
    "    self.__breed = breed"
   ]
  },
  {
   "cell_type": "markdown",
   "metadata": {
    "colab_type": "text",
    "id": "qNZv2RvIJwll"
   },
   "source": [
    "**Validation**"
   ]
  },
  {
   "cell_type": "code",
   "execution_count": 0,
   "metadata": {
    "colab": {},
    "colab_type": "code",
    "id": "JiUA6YfaKPfv"
   },
   "outputs": [],
   "source": [
    "cow = Cow(\"Ellabelle\", \"Holstein\")\n",
    "\n",
    "if cow._Cow__name != \"Ellabelle\":\n",
    "  raise Exception(\"name field doesn't seem to be set\")\n",
    "\n",
    "if cow._Cow__breed != \"Holstein\":\n",
    "  raise Exception(\"breed field doesn't seem to be set\")\n",
    "\n",
    "print(\"LGTM\")"
   ]
  },
  {
   "cell_type": "markdown",
   "metadata": {
    "colab_type": "text",
    "id": "scKmN0-5Lnvu"
   },
   "source": [
    "## Exercise 2"
   ]
  },
  {
   "cell_type": "markdown",
   "metadata": {
    "colab_type": "text",
    "id": "BWpnGypbqed8"
   },
   "source": [
    "Take the `Cow` class that you implemented in exercise one and add a double-underscore method so that if you create a cow using:\n",
    "\n",
    "```\n",
    "  cow = Cow(\"Elsie\", \"Shorthorn\")\n",
    "```\n",
    "\n",
    "Calling `print(cow)` prints:\n",
    "\n",
    "> Elsie is a Shorthorn cow."
   ]
  },
  {
   "cell_type": "markdown",
   "metadata": {
    "colab_type": "text",
    "id": "apWWOkBxNGEz"
   },
   "source": [
    "### Student Solution"
   ]
  },
  {
   "cell_type": "code",
   "execution_count": 0,
   "metadata": {
    "colab": {},
    "colab_type": "code",
    "id": "Ts1xoBquNIHg"
   },
   "outputs": [],
   "source": [
    "# Your code goes here"
   ]
  },
  {
   "cell_type": "markdown",
   "metadata": {
    "colab_type": "text",
    "id": "exercise-2-key-1"
   },
   "source": [
    "### Answer Key"
   ]
  },
  {
   "cell_type": "markdown",
   "metadata": {
    "colab_type": "text",
    "id": "exercise-2-solution-1"
   },
   "source": [
    "**Solution**"
   ]
  },
  {
   "cell_type": "code",
   "execution_count": 0,
   "metadata": {
    "colab": {},
    "colab_type": "code",
    "id": "19PLy1jkNbdl"
   },
   "outputs": [],
   "source": [
    "class Cow:\n",
    "  def __init__(self, name, breed):\n",
    "    self.__name = name\n",
    "    self.__breed = breed\n",
    "  \n",
    "  def __str__(self):\n",
    "    return \"{} is a {} cow.\".format(self.__name, self.__breed)"
   ]
  },
  {
   "cell_type": "markdown",
   "metadata": {
    "colab_type": "text",
    "id": "t7CUpwcHNdjg"
   },
   "source": [
    "**Validation**"
   ]
  },
  {
   "cell_type": "code",
   "execution_count": 0,
   "metadata": {
    "colab": {},
    "colab_type": "code",
    "id": "_vpeq_gtNfB1"
   },
   "outputs": [],
   "source": [
    "cow = Cow(\"Ellabelle\", \"Holstein\")\n",
    "\n",
    "if str(cow) != 'Ellabelle is a Holstein cow.':\n",
    "  raise Exception('__str__ does not seem to be correctly implemented')\n",
    "\n",
    "print(\"LGTM\")"
   ]
  },
  {
   "cell_type": "markdown",
   "metadata": {
    "colab_type": "text",
    "id": "ytnyY_QwMNRb"
   },
   "source": [
    "## Exercise 3"
   ]
  },
  {
   "cell_type": "markdown",
   "metadata": {
    "colab_type": "text",
    "id": "oB9TZADkqkzS"
   },
   "source": [
    "Take the `Cow` class that you implemented in exercise two (or one) and add a double-underscore method so that `print(repr(elsie))` prints:\n",
    "\n",
    "> Cow(\"Elsie\", \"Jersey\")"
   ]
  },
  {
   "cell_type": "markdown",
   "metadata": {
    "colab_type": "text",
    "id": "NdgnJl0aO3e0"
   },
   "source": [
    "### Student Solution"
   ]
  },
  {
   "cell_type": "code",
   "execution_count": 0,
   "metadata": {
    "colab": {},
    "colab_type": "code",
    "id": "S0fvt1H6O4vz"
   },
   "outputs": [],
   "source": [
    "# Your code goes here"
   ]
  },
  {
   "cell_type": "markdown",
   "metadata": {
    "colab_type": "text",
    "id": "exercise-3-key-1"
   },
   "source": [
    "### Answer Key"
   ]
  },
  {
   "cell_type": "markdown",
   "metadata": {
    "colab_type": "text",
    "id": "exercise-3-solution-1"
   },
   "source": [
    "**Solution**"
   ]
  },
  {
   "cell_type": "code",
   "execution_count": 0,
   "metadata": {
    "colab": {},
    "colab_type": "code",
    "id": "P0j5MbXrOwnd"
   },
   "outputs": [],
   "source": [
    "class Cow:\n",
    "  def __init__(self, name, breed):\n",
    "    self.__name = name\n",
    "    self.__breed = breed\n",
    "  \n",
    "  def __str__(self):\n",
    "    return \"{} is a {} cow.\".format(self.__name, self.__breed)\n",
    "  \n",
    "  def __repr__(self):\n",
    "    return 'Cow(\"{}\",\"{}\")'.format(self.__name, self.__breed)"
   ]
  },
  {
   "cell_type": "markdown",
   "metadata": {
    "colab_type": "text",
    "id": "oKzeDNvSO9tz"
   },
   "source": [
    "**Validation**"
   ]
  },
  {
   "cell_type": "code",
   "execution_count": 0,
   "metadata": {
    "colab": {},
    "colab_type": "code",
    "id": "55DZz5J4O8mS"
   },
   "outputs": [],
   "source": [
    "cow = Cow(\"Ellabelle\", \"Holstein\")\n",
    "\n",
    "if repr(cow) != 'Cow(\"Ellabelle\",\"Holstein\")' and repr(cow) != \"Cow('Ellabelle','Holstein')\":\n",
    "  raise Exception(\"__repr__ does not seem to be correctly implemented\")\n",
    "\n",
    "print(\"LGTM\")"
   ]
  },
  {
   "cell_type": "markdown",
   "metadata": {
    "colab_type": "text",
    "id": "zq7EK5os4ZiB"
   },
   "source": [
    "## Exercise 4"
   ]
  },
  {
   "cell_type": "markdown",
   "metadata": {
    "colab_type": "text",
    "id": "g1nGexJcqhlg"
   },
   "source": [
    "Fix the class hierarchy below so that \"Vroom!\" is printed."
   ]
  },
  {
   "cell_type": "markdown",
   "metadata": {
    "colab_type": "text",
    "id": "jWJe5kvZP6z6"
   },
   "source": [
    "### Student Solution"
   ]
  },
  {
   "cell_type": "code",
   "execution_count": 0,
   "metadata": {
    "colab": {},
    "colab_type": "code",
    "id": "wZwV_GbdPv3l"
   },
   "outputs": [],
   "source": [
    "# Your code goes here\n",
    "\n",
    "class Vehicle:\n",
    "  def go():\n",
    "    pass\n",
    "\n",
    "class Car:\n",
    "  def go():\n",
    "    print(\"Vroom!\")\n",
    "\n",
    "# No changes below here!\n",
    "car = Car()\n",
    "if isinstance(car, Vehicle):\n",
    "  car.go()"
   ]
  },
  {
   "cell_type": "markdown",
   "metadata": {
    "colab_type": "text",
    "id": "exercise-4-key-1"
   },
   "source": [
    "### Answer Key"
   ]
  },
  {
   "cell_type": "markdown",
   "metadata": {
    "colab_type": "text",
    "id": "exercise-4-solution-1"
   },
   "source": [
    "**Solution**"
   ]
  },
  {
   "cell_type": "code",
   "execution_count": 0,
   "metadata": {
    "colab": {},
    "colab_type": "code",
    "id": "uGtxKAEg5zSt"
   },
   "outputs": [],
   "source": [
    "class Vehicle:\n",
    "  def go():\n",
    "    pass\n",
    "\n",
    "class Car(Vehicle):\n",
    "  def go(self):\n",
    "    print(\"Vroom!\")\n",
    "\n",
    "# No changes below here!\n",
    "car = Car()\n",
    "if isinstance(car, Vehicle):\n",
    "  car.go()"
   ]
  },
  {
   "cell_type": "markdown",
   "metadata": {
    "colab_type": "text",
    "id": "IEflzjmeQDuu"
   },
   "source": [
    "**Validation**"
   ]
  },
  {
   "cell_type": "code",
   "execution_count": 0,
   "metadata": {
    "colab": {},
    "colab_type": "code",
    "id": "_LbtrL4RxsSZ"
   },
   "outputs": [],
   "source": [
    "automobile = Car()\n",
    "\n",
    "if not isinstance(car, Vehicle):\n",
    "  raise Exception(\"Inheritance doesn't seem to be set up correctly\")"
   ]
  }
 ],
 "metadata": {
  "colab": {
   "collapsed_sections": [
    "exercise-4-answer-keyP",
    "copyright",
    "exercise-1-key-1",
    "exercise-2-key-1",
    "exercise-3-key-1",
    "exercise-4-key-1"
   ],
   "name": "Intermediate Python - Objects",
   "private_outputs": true,
   "provenance": [],
   "toc_visible": true,
   "version": "0.3.2"
  },
  "kernelspec": {
   "display_name": "Python 3",
   "name": "python3"
  }
 },
 "nbformat": 4,
 "nbformat_minor": 0
}
