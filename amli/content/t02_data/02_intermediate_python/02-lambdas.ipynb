{
  "cells": [
    {
      "cell_type": "markdown",
      "metadata": {
        "colab_type": "text",
        "id": "copyright"
      },
      "source": [
        "#### Copyright 2019 Google LLC."
      ]
    },
    {
      "cell_type": "code",
      "execution_count": 0,
      "metadata": {
        "colab": {},
        "colab_type": "code",
        "id": "h8rAl_sPizbx"
      },
      "outputs": [],
      "source": [
        "# Licensed under the Apache License, Version 2.0 (the \"License\");\n",
        "# you may not use this file except in compliance with the License.\n",
        "# You may obtain a copy of the License at\n",
        "#\n",
        "# https://www.apache.org/licenses/LICENSE-2.0\n",
        "#\n",
        "# Unless required by applicable law or agreed to in writing, software\n",
        "# distributed under the License is distributed on an \"AS IS\" BASIS,\n",
        "# WITHOUT WARRANTIES OR CONDITIONS OF ANY KIND, either express or implied.\n",
        "# See the License for the specific language governing permissions and\n",
        "# limitations under the License."
      ]
    },
    {
      "cell_type": "markdown",
      "metadata": {
        "colab_type": "text",
        "id": "zXUyqihI0cQ8"
      },
      "source": [
        "# Intermediate Python - Lambdas\n"
      ]
    },
    {
      "cell_type": "markdown",
      "metadata": {
        "colab_type": "text",
        "id": "u_ff6_8Yi6yV"
      },
      "source": [
        "We have explored the basics of Python. At this point in your journey you should be familiar with the string, number, list, tuple, and dictionary data types in Python. You should know how to write a loop, an if/else statement, and a function. And you should know how to add comments to your code and how to print output.\n",
        "\n",
        "In this colab we will move into a more advanced concepts called lambdas."
      ]
    },
    {
      "cell_type": "markdown",
      "metadata": {
        "colab_type": "text",
        "id": "overview"
      },
      "source": [
        "## Overview"
      ]
    },
    {
      "cell_type": "markdown",
      "metadata": {
        "colab_type": "text",
        "id": "learning-objectives"
      },
      "source": [
        "### Learning Objectives\n",
        "\n",
        "* TODO(joshmcadams)"
      ]
    },
    {
      "cell_type": "markdown",
      "metadata": {
        "colab_type": "text",
        "id": "VZe4Xj9tyQRD"
      },
      "source": [
        "### Prerequisites\n",
        "\n",
        "* TODO(joshmcadams)"
      ]
    },
    {
      "cell_type": "markdown",
      "metadata": {
        "colab_type": "text",
        "id": "duration"
      },
      "source": [
        "### Estimated Duration\n",
        "\n",
        "60 minutes"
      ]
    },
    {
      "cell_type": "markdown",
      "metadata": {
        "colab_type": "text",
        "id": "6nGxfnkuPKLe"
      },
      "source": [
        "## Lambdas"
      ]
    },
    {
      "cell_type": "markdown",
      "metadata": {
        "colab_type": "text",
        "id": "-LMsrj8C2HO5"
      },
      "source": [
        "We previously learned how to create named functions and how to call them."
      ]
    },
    {
      "cell_type": "code",
      "execution_count": 0,
      "metadata": {
        "colab": {},
        "colab_type": "code",
        "id": "E3h97Pl_uSrG"
      },
      "outputs": [],
      "source": [
        "def my_function():\n",
        "  print(\"Hello ML\")\n",
        "\n",
        "my_function()"
      ]
    },
    {
      "cell_type": "markdown",
      "metadata": {
        "colab_type": "text",
        "id": "hXE07vNUJprt"
      },
      "source": [
        "What you might not know is that functions are first-class objects in Python, so you can treat them as objects. For instance, you can assign functions to variables:"
      ]
    },
    {
      "cell_type": "code",
      "execution_count": 0,
      "metadata": {
        "colab": {},
        "colab_type": "code",
        "id": "q_JGeYZnttk3"
      },
      "outputs": [],
      "source": [
        "def say_hello():\n",
        "  print(\"Hello\")\n",
        "\n",
        "greeting = say_hello\n",
        "\n",
        "greeting()"
      ]
    },
    {
      "cell_type": "markdown",
      "metadata": {
        "colab_type": "text",
        "id": "_JXP6aVrt_Mm"
      },
      "source": [
        "And you can pass functions to other functions:"
      ]
    },
    {
      "cell_type": "code",
      "execution_count": 0,
      "metadata": {
        "colab": {},
        "colab_type": "code",
        "id": "rIzeqk3MuCVt"
      },
      "outputs": [],
      "source": [
        "def say_hello():\n",
        "  print(\"Hello\")\n",
        "\n",
        "def call_another_function(f):\n",
        "  print(\"Calling function {}\".format(f))\n",
        "  f()\n",
        "\n",
        "call_another_function(say_hello)"
      ]
    },
    {
      "cell_type": "markdown",
      "metadata": {
        "colab_type": "text",
        "id": "_m_0kCDawhPz"
      },
      "source": [
        "Functions don't have to have names though. Sometimes you need a one-time function and many times those types of functions are difficult to meaningfully name. Lambda functions are a great solution for these scenarios."
      ]
    },
    {
      "cell_type": "code",
      "execution_count": 0,
      "metadata": {
        "colab": {},
        "colab_type": "code",
        "id": "RlziAxW1wgmm"
      },
      "outputs": [],
      "source": [
        "def call_another_function(f):\n",
        "  print(\"Calling function {}\".format(f))\n",
        "  f()\n",
        "\n",
        "call_another_function(lambda: print(\"Hi there\"))"
      ]
    },
    {
      "cell_type": "markdown",
      "metadata": {
        "colab_type": "text",
        "id": "K1i-0iMtJpjr"
      },
      "source": [
        "Lambda functions start with the **lambda** keyword. Later a colon signals the start of the function body.\n",
        "\n",
        "Lambda functions can accept arguments. Just put the variable names between the lambda keyword and the colon:"
      ]
    },
    {
      "cell_type": "code",
      "execution_count": 0,
      "metadata": {
        "colab": {},
        "colab_type": "code",
        "id": "2eCwss1vOFys"
      },
      "outputs": [],
      "source": [
        "def call_another_function(f):\n",
        "  print(\"Calling function {}\".format(f))\n",
        "  f(\"Hello\", \"lambda\")\n",
        "\n",
        "call_another_function(lambda h, t: print(\"{} {}\".format(h, t)))"
      ]
    },
    {
      "cell_type": "markdown",
      "metadata": {
        "colab_type": "text",
        "id": "2-_I1QCA262w"
      },
      "source": [
        "There are many places where it is Pythonic to use lambdas instead of named function. Some examples are the [map](https://docs.python.org/3/library/functions.html#map), [filter](https://docs.python.org/3/library/functions.html#filter), and [sorted](https://docs.python.org/3/library/functions.html#sorted) built-in functions."
      ]
    },
    {
      "cell_type": "markdown",
      "metadata": {
        "colab_type": "text",
        "id": "2-zIBQSV4o0B"
      },
      "source": [
        "# Exercises"
      ]
    },
    {
      "cell_type": "markdown",
      "metadata": {
        "colab_type": "text",
        "id": "Ic0MFmLJO8Wr"
      },
      "source": [
        "## Exercise 1"
      ]
    },
    {
      "cell_type": "markdown",
      "metadata": {
        "colab_type": "text",
        "id": "pBJKL9gb4qfP"
      },
      "source": [
        "Use the [map](https://docs.python.org/3/library/functions.html#map) function and a lambda to increase the value of every item in `my_list` below by one. You'll probably end up needing the [list](https://docs.python.org/3/library/functions.html#func-list) function to make the return value of map become a list again."
      ]
    },
    {
      "cell_type": "markdown",
      "metadata": {
        "colab_type": "text",
        "id": "cR13YD1JFfJC"
      },
      "source": [
        "### Student Solution"
      ]
    },
    {
      "cell_type": "code",
      "execution_count": 0,
      "metadata": {
        "colab": {},
        "colab_type": "code",
        "id": "wdgnJtP4427K"
      },
      "outputs": [],
      "source": [
        "my_list = [4, 7, 9, 12, 34, 67]\n",
        "\n",
        "### YOUR CODE HERE ###"
      ]
    },
    {
      "cell_type": "markdown",
      "metadata": {
        "colab_type": "text",
        "id": "exercise-1-key-1"
      },
      "source": [
        "### Answer Key"
      ]
    },
    {
      "cell_type": "markdown",
      "metadata": {
        "colab_type": "text",
        "id": "exercise-1-solution-1"
      },
      "source": [
        "**Solution**"
      ]
    },
    {
      "cell_type": "code",
      "execution_count": 0,
      "metadata": {
        "colab": {},
        "colab_type": "code",
        "id": "9wtdusgpKFRO"
      },
      "outputs": [],
      "source": [
        "list(map(lambda x: x + 1, my_list))"
      ]
    },
    {
      "cell_type": "markdown",
      "metadata": {
        "colab_type": "text",
        "id": "VNYawVpkFmP1"
      },
      "source": [
        "**Validation**"
      ]
    },
    {
      "cell_type": "code",
      "execution_count": 0,
      "metadata": {
        "colab": {},
        "colab_type": "code",
        "id": "pSgyBv-dFoNF"
      },
      "outputs": [],
      "source": [
        "# TODO"
      ]
    },
    {
      "cell_type": "markdown",
      "metadata": {
        "colab_type": "text",
        "id": "IsgFDn9UO_vx"
      },
      "source": [
        "## Exercise 2"
      ]
    },
    {
      "cell_type": "markdown",
      "metadata": {
        "colab_type": "text",
        "id": "1YiifgS2-HN7"
      },
      "source": [
        "Use the [sorted](https://docs.python.org/3/library/functions.html#sorted) function and a lambda to sort the values in `my_list` by the \"sort_order\" value in each dictionary contained within the list."
      ]
    },
    {
      "cell_type": "markdown",
      "metadata": {
        "colab_type": "text",
        "id": "zZw29QnNs6Gl"
      },
      "source": [
        "### Student Solution"
      ]
    },
    {
      "cell_type": "code",
      "execution_count": 0,
      "metadata": {
        "colab": {},
        "colab_type": "code",
        "id": "Egd1aN3e-hVL"
      },
      "outputs": [],
      "source": [
        "my_list = [\n",
        "  {\"value\": 123, \"sort_order\": 1},\n",
        "  {\"value\": 543, \"sort_order\": 0},\n",
        "  {\"value\": 101, \"sort_order\": 4},\n",
        "  {\"value\": 654, \"sort_order\": 3},\n",
        "]\n",
        "\n",
        "### YOUR CODE HERE ###"
      ]
    },
    {
      "cell_type": "markdown",
      "metadata": {
        "colab_type": "text",
        "id": "exercise-2-key-1"
      },
      "source": [
        "### Answer Key"
      ]
    },
    {
      "cell_type": "markdown",
      "metadata": {
        "colab_type": "text",
        "id": "wAF4a24dU2ca"
      },
      "source": [
        "**Solution**"
      ]
    },
    {
      "cell_type": "code",
      "execution_count": 0,
      "metadata": {
        "colab": {},
        "colab_type": "code",
        "id": "Rgd_dkZMFfAU"
      },
      "outputs": [],
      "source": [
        "sorted(my_list, key=lambda x: x[\"sort_order\"])"
      ]
    },
    {
      "cell_type": "markdown",
      "metadata": {
        "colab_type": "text",
        "id": "wXBEMCCltCGF"
      },
      "source": [
        "**Validation**"
      ]
    },
    {
      "cell_type": "code",
      "execution_count": 0,
      "metadata": {
        "colab": {},
        "colab_type": "code",
        "id": "pTxZZ92itD_i"
      },
      "outputs": [],
      "source": [
        "# TODO"
      ]
    }
  ],
  "metadata": {
    "colab": {
      "collapsed_sections": [
        "copyright",
        "exercise-1-key-1",
        "exercise-2-key-1"
      ],
      "name": "Intermediate Python - Lambdas",
      "private_outputs": true,
      "provenance": [],
      "toc_visible": true,
      "version": "0.3.2"
    },
    "kernelspec": {
      "display_name": "Python 3",
      "name": "python3"
    }
  },
  "nbformat": 4,
  "nbformat_minor": 0
}
