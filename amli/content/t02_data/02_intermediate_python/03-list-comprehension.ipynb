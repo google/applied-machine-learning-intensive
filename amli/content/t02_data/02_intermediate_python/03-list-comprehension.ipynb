{
 "cells": [
  {
   "cell_type": "markdown",
   "metadata": {
    "colab_type": "text",
    "id": "copyright"
   },
   "source": [
    "#### Copyright 2019 Google LLC."
   ]
  },
  {
   "cell_type": "code",
   "execution_count": 0,
   "metadata": {
    "colab": {},
    "colab_type": "code",
    "id": "h8rAl_sPizbx"
   },
   "outputs": [],
   "source": [
    "# Licensed under the Apache License, Version 2.0 (the \"License\");\n",
    "# you may not use this file except in compliance with the License.\n",
    "# You may obtain a copy of the License at\n",
    "#\n",
    "# https://www.apache.org/licenses/LICENSE-2.0\n",
    "#\n",
    "# Unless required by applicable law or agreed to in writing, software\n",
    "# distributed under the License is distributed on an \"AS IS\" BASIS,\n",
    "# WITHOUT WARRANTIES OR CONDITIONS OF ANY KIND, either express or implied.\n",
    "# See the License for the specific language governing permissions and\n",
    "# limitations under the License."
   ]
  },
  {
   "cell_type": "markdown",
   "metadata": {
    "colab_type": "text",
    "id": "zXUyqihI0cQ8"
   },
   "source": [
    "# Intermediate Python - List Comprehension\n"
   ]
  },
  {
   "cell_type": "markdown",
   "metadata": {
    "colab_type": "text",
    "id": "u_ff6_8Yi6yV"
   },
   "source": [
    "We have explored the basics of Python. At this point in your journey you should be familiar with the string, number, list, tuple, and dictionary data types in Python. You should know how to write a loop, an if/else statement, and a function. And you should know how to add comments to your code and how to print output.\n",
    "\n",
    "In this colab we will move into a more advanced concepts called lambdas."
   ]
  },
  {
   "cell_type": "markdown",
   "metadata": {
    "colab_type": "text",
    "id": "overview"
   },
   "source": [
    "## Overview"
   ]
  },
  {
   "cell_type": "markdown",
   "metadata": {
    "colab_type": "text",
    "id": "learning-objectives"
   },
   "source": [
    "### Learning Objectives\n",
    "\n",
    "* TODO(joshmcadams)"
   ]
  },
  {
   "cell_type": "markdown",
   "metadata": {
    "colab_type": "text",
    "id": "VZe4Xj9tyQRD"
   },
   "source": [
    "### Prerequisites\n",
    "\n",
    "* TODO(joshmcadams)"
   ]
  },
  {
   "cell_type": "markdown",
   "metadata": {
    "colab_type": "text",
    "id": "duration"
   },
   "source": [
    "### Estimated Duration\n",
    "\n",
    "60 minutes"
   ]
  },
  {
   "cell_type": "markdown",
   "metadata": {
    "colab_type": "text",
    "id": "1A-dJQ7ePP-W"
   },
   "source": [
    "## List Comprehension"
   ]
  },
  {
   "cell_type": "markdown",
   "metadata": {
    "colab_type": "text",
    "id": "AUikpEkwAVN1"
   },
   "source": [
    "Another Pythonic bit of code you'll encounter over your career is a list comprehension. List comprehension is a compact way to create a list of data.\n",
    "\n",
    "Say you want to create a list containing ten random numbers. One way to do this is to just hard-code a ten-element list.\n",
    "\n",
    "\n",
    "\n",
    "> *Note* that we've introduced the **random** module. [random](https://docs.python.org/3/library/random.html) is a Python package that comes as part of the standard Python distribution. To use Python packages we rely on the **import** keyword.\n"
   ]
  },
  {
   "cell_type": "code",
   "execution_count": 0,
   "metadata": {
    "colab": {},
    "colab_type": "code",
    "id": "rqUnCfIfAuYU"
   },
   "outputs": [],
   "source": [
    "import random\n",
    "\n",
    "[\n",
    "  random.randint(0, 100),\n",
    "  random.randint(0, 100),\n",
    "  random.randint(0, 100),\n",
    "  random.randint(0, 100),\n",
    "  random.randint(0, 100),\n",
    "  random.randint(0, 100),\n",
    "  random.randint(0, 100),\n",
    "  random.randint(0, 100),\n",
    "  random.randint(0, 100),\n",
    "  random.randint(0, 100),\n",
    "]"
   ]
  },
  {
   "cell_type": "markdown",
   "metadata": {
    "colab_type": "text",
    "id": "-nyI060dEwn3"
   },
   "source": [
    "That's pretty ugly. We could clean it up with a loop:"
   ]
  },
  {
   "cell_type": "code",
   "execution_count": 0,
   "metadata": {
    "colab": {},
    "colab_type": "code",
    "id": "dmp8RgFGFC6M"
   },
   "outputs": [],
   "source": [
    "import random\n",
    "\n",
    "my_list = []\n",
    "for _ in range(10):\n",
    "  my_list.append(random.randint(0, 100))\n",
    "\n",
    "my_list"
   ]
  },
  {
   "cell_type": "markdown",
   "metadata": {
    "colab_type": "text",
    "id": "mv4Lm8iNFl70"
   },
   "source": [
    "That is much better. Less repetition is always good!\n",
    "\n",
    "> *Note*: did you notice the use of the underscore to \"eat\" the value returned from range?\n",
    "\n",
    "There is a more idiomatic Python way of creating this list of numbers. Here is an example of a list comprehension:"
   ]
  },
  {
   "cell_type": "code",
   "execution_count": 0,
   "metadata": {
    "colab": {},
    "colab_type": "code",
    "id": "1Wcy4FXxHnKd"
   },
   "outputs": [],
   "source": [
    "import random\n",
    "\n",
    "[random.randint(0, 100) for _ in range(10)]"
   ]
  },
  {
   "cell_type": "markdown",
   "metadata": {
    "colab_type": "text",
    "id": "5-8p7fw3IXFD"
   },
   "source": [
    "Let's start by looking at the \"`for _ in range()`\" part. This looks like the `for` loop that we are familiar with. In this case it is a loop over the range from zero through nine.\n",
    "\n",
    "The strange part is the `for` doesn't start the expression. We are used to seeing a `for` loop with a body of statements indented below it. In this case, the body of the for loop is to the left of the `for` keyword."
   ]
  },
  {
   "cell_type": "markdown",
   "metadata": {
    "colab_type": "text",
    "id": "KuKXY_avKnnC"
   },
   "source": [
    "`for` isn't the only option for list comprehensions. You can also add `if` conditions."
   ]
  },
  {
   "cell_type": "code",
   "execution_count": 0,
   "metadata": {
    "colab": {},
    "colab_type": "code",
    "id": "fH-jnyZ0Kzxn"
   },
   "outputs": [],
   "source": [
    "[x for x in range(10) if x % 2 == 0]"
   ]
  },
  {
   "cell_type": "markdown",
   "metadata": {
    "colab_type": "text",
    "id": "5NtZYqFVK_Ka"
   },
   "source": [
    "In this case we only added the integer to the list if the current number produced by the range is even.\n",
    "\n",
    "Also note that the variable `x` is in scope throughout the list expression. `x` receives its value to the right of the `for` keyword. The `if` is next to `x` to check if `x` meets a given condition. And finally `x` is used and inserted into the list to the left of the `for` keyword."
   ]
  },
  {
   "cell_type": "markdown",
   "metadata": {
    "colab_type": "text",
    "id": "tPvIQlVxO-Kb"
   },
   "source": [
    "You can even have multiple loops chained in a single list comprehension. The left-most loop is the outer loop and the subsequent loops are nested within."
   ]
  },
  {
   "cell_type": "code",
   "execution_count": 0,
   "metadata": {
    "colab": {},
    "colab_type": "code",
    "id": "-sOogiH1MVFA"
   },
   "outputs": [],
   "source": [
    "[(x, y) for x in range(5) for y in range(3)]"
   ]
  },
  {
   "cell_type": "markdown",
   "metadata": {
    "colab_type": "text",
    "id": "h7cGL8dHP1A4"
   },
   "source": [
    "# Exercises"
   ]
  },
  {
   "cell_type": "markdown",
   "metadata": {
    "colab_type": "text",
    "id": "02rTlQnPOkf_"
   },
   "source": [
    "## Exercise 1"
   ]
  },
  {
   "cell_type": "markdown",
   "metadata": {
    "colab_type": "text",
    "id": "VI0U1vdzP3IE"
   },
   "source": [
    "Create a list expansion that builds a list of odd numbers from (and including) 5 to (and including) 67."
   ]
  },
  {
   "cell_type": "markdown",
   "metadata": {
    "colab_type": "text",
    "id": "0frrpHdctK-3"
   },
   "source": [
    "### Student Solution"
   ]
  },
  {
   "cell_type": "code",
   "execution_count": 0,
   "metadata": {
    "colab": {},
    "colab_type": "code",
    "id": "iWOZspofRMKN"
   },
   "outputs": [],
   "source": [
    "### YOUR CODE HERE ###"
   ]
  },
  {
   "cell_type": "markdown",
   "metadata": {
    "colab_type": "text",
    "id": "exercise-1-key-1"
   },
   "source": [
    "### Answer Key"
   ]
  },
  {
   "cell_type": "markdown",
   "metadata": {
    "colab_type": "text",
    "id": "exercise-1-solution-1"
   },
   "source": [
    "**Solution**"
   ]
  },
  {
   "cell_type": "code",
   "execution_count": 0,
   "metadata": {
    "colab": {},
    "colab_type": "code",
    "id": "WqGlVB3JtOZZ"
   },
   "outputs": [],
   "source": [
    "# TODO(joshmcadams)"
   ]
  },
  {
   "cell_type": "markdown",
   "metadata": {
    "colab_type": "text",
    "id": "ZUrEMeN1tP23"
   },
   "source": [
    "**Validation**"
   ]
  },
  {
   "cell_type": "code",
   "execution_count": 0,
   "metadata": {
    "colab": {},
    "colab_type": "code",
    "id": "eQiCwrIztROj"
   },
   "outputs": [],
   "source": [
    "# TODO(joshmcadams)"
   ]
  }
 ],
 "metadata": {
  "colab": {
   "collapsed_sections": [
    "copyright",
    "exercise-1-key-1"
   ],
   "name": "Intermediate Python - List Comprehension",
   "private_outputs": true,
   "provenance": [],
   "toc_visible": true,
   "version": "0.3.2"
  },
  "kernelspec": {
   "display_name": "Python 3",
   "name": "python3"
  }
 },
 "nbformat": 4,
 "nbformat_minor": 0
}
