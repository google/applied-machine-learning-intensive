{
 "cells": [
  {
   "cell_type": "markdown",
   "metadata": {
    "colab_type": "text",
    "id": "copyright"
   },
   "source": [
    "#### Copyright 2019 Google LLC."
   ]
  },
  {
   "cell_type": "code",
   "execution_count": 0,
   "metadata": {
    "colab": {},
    "colab_type": "code",
    "id": "h8rAl_sPizbx"
   },
   "outputs": [],
   "source": [
    "# Licensed under the Apache License, Version 2.0 (the \"License\");\n",
    "# you may not use this file except in compliance with the License.\n",
    "# You may obtain a copy of the License at\n",
    "#\n",
    "# https://www.apache.org/licenses/LICENSE-2.0\n",
    "#\n",
    "# Unless required by applicable law or agreed to in writing, software\n",
    "# distributed under the License is distributed on an \"AS IS\" BASIS,\n",
    "# WITHOUT WARRANTIES OR CONDITIONS OF ANY KIND, either express or implied.\n",
    "# See the License for the specific language governing permissions and\n",
    "# limitations under the License."
   ]
  },
  {
   "cell_type": "markdown",
   "metadata": {
    "colab_type": "text",
    "id": "zXUyqihI0cQ8"
   },
   "source": [
    "# Intermediate Python - Exceptions"
   ]
  },
  {
   "cell_type": "markdown",
   "metadata": {
    "colab_type": "text",
    "id": "u_ff6_8Yi6yV"
   },
   "source": [
    "We have explored the basics of Python. At this point in your journey you should be familiar with the string, number, list, tuple, and dictionary data types in Python. You should know how to write a loop, an if/else statement, and a function. And you should know how to add comments to your code and how to print output.\n",
    "\n",
    "In this colab we will move into a more advanced concept called exceptions. You'll learn how to handle pre-built exceptions and how to build your own exceptions."
   ]
  },
  {
   "cell_type": "markdown",
   "metadata": {
    "colab_type": "text",
    "id": "overview"
   },
   "source": [
    "## Overview"
   ]
  },
  {
   "cell_type": "markdown",
   "metadata": {
    "colab_type": "text",
    "id": "learning-objectives"
   },
   "source": [
    "### Learning Objectives\n",
    "\n",
    "* TODO(joshmcadams)"
   ]
  },
  {
   "cell_type": "markdown",
   "metadata": {
    "colab_type": "text",
    "id": "VZe4Xj9tyQRD"
   },
   "source": [
    "### Prerequisites\n",
    "\n",
    "* TODO(joshmcadams)"
   ]
  },
  {
   "cell_type": "markdown",
   "metadata": {
    "colab_type": "text",
    "id": "duration"
   },
   "source": [
    "### Estimated Duration\n",
    "\n",
    "60 minutes"
   ]
  },
  {
   "cell_type": "markdown",
   "metadata": {
    "colab_type": "text",
    "id": "kRCwiJVGO8SW"
   },
   "source": [
    "## Exceptions"
   ]
  },
  {
   "cell_type": "markdown",
   "metadata": {
    "colab_type": "text",
    "id": "mjefp6Xi7JGY"
   },
   "source": [
    "Inevitably things will go wrong in your program. Data might be of the wrong type. Memory might run out. Disks might be read-only when you try to write to them. The list goes on-and-on.\n",
    "\n",
    "To handle many of these cases Python relies on exceptions. Let's see some exceptions in action.\n",
    "\n",
    "We'll start by attempting to divide by zero:"
   ]
  },
  {
   "cell_type": "code",
   "execution_count": 0,
   "metadata": {
    "colab": {},
    "colab_type": "code",
    "id": "zNM0AH847Iu1"
   },
   "outputs": [],
   "source": [
    "1 / 0"
   ]
  },
  {
   "cell_type": "markdown",
   "metadata": {
    "colab_type": "text",
    "id": "AcPX9OEG7_Hc"
   },
   "source": [
    "This is mathematically impossible. Not knowing what else to do, Python throws a `ZeroDivisionError`.\n",
    "\n",
    "But would this ever happen in practice? You'd never hard-code a zero as a denominator. However, you might divide by the length of an array or some other dynamically calculated value:\n"
   ]
  },
  {
   "cell_type": "code",
   "execution_count": 0,
   "metadata": {
    "colab": {},
    "colab_type": "code",
    "id": "3_ivi-549K3T"
   },
   "outputs": [],
   "source": [
    "my_array = [2, 3, 4]\n",
    "your_array = []\n",
    "\n",
    "ratio = len(my_array) / len(your_array)"
   ]
  },
  {
   "cell_type": "markdown",
   "metadata": {
    "colab_type": "text",
    "id": "Ax4rAeYt9jQi"
   },
   "source": [
    "There are a few ways to handle this scenario. One is defensive programming:"
   ]
  },
  {
   "cell_type": "code",
   "execution_count": 0,
   "metadata": {
    "colab": {},
    "colab_type": "code",
    "id": "nFw0-hIJ9ohH"
   },
   "outputs": [],
   "source": [
    "my_array = [2, 3, 4]\n",
    "your_array = []\n",
    "\n",
    "ratio = 0\n",
    "if len(your_array) != 0:\n",
    "  ratio = len(my_array) / len(your_array)\n",
    "else:\n",
    "  print(\"Couldn't calculate ratio\")"
   ]
  },
  {
   "cell_type": "markdown",
   "metadata": {
    "colab_type": "text",
    "id": "kTYwCr7I956S"
   },
   "source": [
    "Another option is to allow an exception to be thrown, but then catch the exception."
   ]
  },
  {
   "cell_type": "code",
   "execution_count": 0,
   "metadata": {
    "colab": {},
    "colab_type": "code",
    "id": "IFXloMvr95kI"
   },
   "outputs": [],
   "source": [
    "my_array = [2, 3, 4]\n",
    "your_array = []\n",
    "\n",
    "ratio = 0\n",
    "try:\n",
    "  ratio = len(my_array) / len(your_array)\n",
    "except ZeroDivisionError:\n",
    "  print(\"Couldn't calculate ratio\")"
   ]
  },
  {
   "cell_type": "markdown",
   "metadata": {
    "colab_type": "text",
    "id": "OzKm4yf9-Zt2"
   },
   "source": [
    "In the example above we caught the `ZeroDivisionError`. This code block could have been written to catch any exception by leaving out the error name:"
   ]
  },
  {
   "cell_type": "code",
   "execution_count": 0,
   "metadata": {
    "colab": {},
    "colab_type": "code",
    "id": "PsPsjywS-qZC"
   },
   "outputs": [],
   "source": [
    "my_array = [2, 3, 4]\n",
    "your_array = []\n",
    "\n",
    "ratio = 0\n",
    "try:\n",
    "  ratio = len(my_array) / len(your_array)\n",
    "except:\n",
    "  print(\"Couldn't calculate ratio\")"
   ]
  },
  {
   "cell_type": "markdown",
   "metadata": {
    "colab_type": "text",
    "id": "jUyR0kkM-wy0"
   },
   "source": [
    "Catching every possible exception in the `except` block is easy (read: lazy), but can be problematic because you can hide bigger problems in your program. Typically it is best to catch and handle specific errors.\n",
    "\n",
    "If an exception isn't handled by your code, then it terminates the program. In some cases this is what you want to happen. For instance, if the program is out of memory, there isn't much you can do at the moment to gracefully handle the problem.\n",
    "\n",
    "There are varying opinions on preventing vs. handling exceptions in your code. Is it best to check if a value is zero before dividing by it or is it best to wrap division in a try/except block?\n",
    "\n",
    "In general using exceptions for control flow is probably not a good idea. Exceptions should be used for \"exceptional\" cases that you don't expect.\n",
    "\n",
    "Let's look at some other common exceptions you'll see."
   ]
  },
  {
   "cell_type": "markdown",
   "metadata": {
    "colab_type": "text",
    "id": "NDaQ6OMLBMqF"
   },
   "source": [
    "You'll get a `KeyError` if you try to access an element in a dictionary with square braces and the key doesn't exist."
   ]
  },
  {
   "cell_type": "code",
   "execution_count": 0,
   "metadata": {
    "colab": {},
    "colab_type": "code",
    "id": "Dky7cLlXBEwQ"
   },
   "outputs": [],
   "source": [
    "my_dict = {\n",
    "  \"a\": 1234\n",
    "}\n",
    "\n",
    "my_dict[\"b\"]"
   ]
  },
  {
   "cell_type": "markdown",
   "metadata": {
    "colab_type": "text",
    "id": "CH6fqWSYBdkL"
   },
   "source": [
    "You'll get an `IndexError` if you try to access an index in a string, list, or tuple and that index doesn't exist."
   ]
  },
  {
   "cell_type": "code",
   "execution_count": 0,
   "metadata": {
    "colab": {},
    "colab_type": "code",
    "id": "HVEG7IbCBY-4"
   },
   "outputs": [],
   "source": [
    "my_array = [1, 2, 3, 4]\n",
    "my_array[56]"
   ]
  },
  {
   "cell_type": "markdown",
   "metadata": {
    "colab_type": "text",
    "id": "ZstGPJOjCAVg"
   },
   "source": [
    "There are many many more exceptions that Python might throw. The comprehensive list of built-in errors can be found in the [official Python documentation](https://docs.python.org/3/library/exceptions.html)."
   ]
  },
  {
   "cell_type": "markdown",
   "metadata": {
    "colab_type": "text",
    "id": "BDqieWwCCOER"
   },
   "source": [
    "You might have noticed that the text above referenced \"built-in\" errors. Built-in in errors are core errors provided by Python. You are free to create your own errors if you want.\n",
    "\n",
    "To create your own error you simply need to create a class that inherits from `Exception` and then `raise` an instance of that class:"
   ]
  },
  {
   "cell_type": "code",
   "execution_count": 0,
   "metadata": {
    "colab": {},
    "colab_type": "code",
    "id": "iFCWl9KfDCEL"
   },
   "outputs": [],
   "source": [
    "class MyVeryOwnError(Exception):\n",
    "  pass\n",
    "\n",
    "raise MyVeryOwnError"
   ]
  },
  {
   "cell_type": "markdown",
   "metadata": {
    "colab_type": "text",
    "id": "uNmC8ligDnAF"
   },
   "source": [
    "You can try/except your error just like any system error:"
   ]
  },
  {
   "cell_type": "code",
   "execution_count": 0,
   "metadata": {
    "colab": {},
    "colab_type": "code",
    "id": "Y7RVjfO_DrQP"
   },
   "outputs": [],
   "source": [
    "class MyVeryOwnError(Exception):\n",
    "  pass\n",
    "\n",
    "try:\n",
    "  raise MyVeryOwnError\n",
    "except MyVeryOwnError:\n",
    "  print(\"Handling my custom exception\")"
   ]
  },
  {
   "cell_type": "markdown",
   "metadata": {
    "colab_type": "text",
    "id": "GnavZP1tFWEZ"
   },
   "source": [
    "# Exercises"
   ]
  },
  {
   "cell_type": "markdown",
   "metadata": {
    "colab_type": "text",
    "id": "l6FbU_oSPKwk"
   },
   "source": [
    "## Exercise 1"
   ]
  },
  {
   "cell_type": "markdown",
   "metadata": {
    "colab_type": "text",
    "id": "0gBLFnUXFZBS"
   },
   "source": [
    "What are some reasons that you might want to create your own exception?\n"
   ]
  },
  {
   "cell_type": "markdown",
   "metadata": {
    "colab_type": "text",
    "id": "J45CYZQE7l3Q"
   },
   "source": [
    "### Student Solution"
   ]
  },
  {
   "cell_type": "markdown",
   "metadata": {
    "colab_type": "text",
    "id": "_IyHuI-dHWKM"
   },
   "source": [
    "*Your answer here*"
   ]
  },
  {
   "cell_type": "markdown",
   "metadata": {
    "colab_type": "text",
    "id": "exercise-1-key-1"
   },
   "source": [
    "### Answer Key"
   ]
  },
  {
   "cell_type": "markdown",
   "metadata": {
    "colab_type": "text",
    "id": "exercise-1-solution-1"
   },
   "source": [
    "**Solution**"
   ]
  },
  {
   "cell_type": "markdown",
   "metadata": {
    "colab_type": "text",
    "id": "pBF0zPgPIIus"
   },
   "source": [
    "To provide more readable and specific information when the code throws an error, which is helpful for debugging.\n",
    "\n",
    "This article has a nice explanation: https://dbader.org/blog/python-custom-exceptions"
   ]
  },
  {
   "cell_type": "markdown",
   "metadata": {
    "colab_type": "text",
    "id": "jBC7bVHt714y"
   },
   "source": [
    "**Validation**"
   ]
  },
  {
   "cell_type": "code",
   "execution_count": 0,
   "metadata": {
    "colab": {},
    "colab_type": "code",
    "id": "6ngm6BIu74ge"
   },
   "outputs": [],
   "source": [
    "# N/A"
   ]
  },
  {
   "cell_type": "markdown",
   "metadata": {
    "colab_type": "text",
    "id": "S3qFdLwtPNig"
   },
   "source": [
    "## Exercise 2"
   ]
  },
  {
   "cell_type": "markdown",
   "metadata": {
    "colab_type": "text",
    "id": "crpuwPeQFm3g"
   },
   "source": [
    "Handle the exception in the code block below using try/except. If the addition can't be done print \"Unable to add\"."
   ]
  },
  {
   "cell_type": "markdown",
   "metadata": {
    "colab_type": "text",
    "id": "yZgWoufL8ACG"
   },
   "source": [
    "### Student Solution"
   ]
  },
  {
   "cell_type": "code",
   "execution_count": 0,
   "metadata": {
    "colab": {},
    "colab_type": "code",
    "id": "eo18xFbzFuIT"
   },
   "outputs": [],
   "source": [
    "left = 1\n",
    "right = \"2\"\n",
    "\n",
    "### YOUR CODE HERE ###\n",
    "\n",
    "left + right"
   ]
  },
  {
   "cell_type": "markdown",
   "metadata": {
    "colab_type": "text",
    "id": "exercise-2-key-1"
   },
   "source": [
    "### Answer Key"
   ]
  },
  {
   "cell_type": "markdown",
   "metadata": {
    "colab_type": "text",
    "id": "LZ94GU56VDWT"
   },
   "source": [
    "**Solution**"
   ]
  },
  {
   "cell_type": "code",
   "execution_count": 0,
   "metadata": {
    "colab": {},
    "colab_type": "code",
    "id": "KwEWdUzCFFrZ"
   },
   "outputs": [],
   "source": [
    "left = 1\n",
    "right = \"2\"\n",
    "\n",
    "try:\n",
    "  left + right\n",
    "except:\n",
    "  print(\"Unable to add\")"
   ]
  },
  {
   "cell_type": "markdown",
   "metadata": {
    "colab_type": "text",
    "id": "SWkbIPK78FrA"
   },
   "source": [
    "**Validation**"
   ]
  },
  {
   "cell_type": "code",
   "execution_count": 0,
   "metadata": {
    "colab": {},
    "colab_type": "code",
    "id": "d3fFNgbX8G3Y"
   },
   "outputs": [],
   "source": [
    "# TODO"
   ]
  },
  {
   "cell_type": "markdown",
   "metadata": {
    "colab_type": "text",
    "id": "rBXxC_IEPU5c"
   },
   "source": [
    "## Exercise 3"
   ]
  },
  {
   "cell_type": "markdown",
   "metadata": {
    "colab_type": "text",
    "id": "A2ypEESJGsDu"
   },
   "source": [
    "Using if/else or some other flow control, prevent the exception in the code below from being thrown."
   ]
  },
  {
   "cell_type": "markdown",
   "metadata": {
    "colab_type": "text",
    "id": "QaJNZW8H8JxL"
   },
   "source": [
    "### Student Solution"
   ]
  },
  {
   "cell_type": "code",
   "execution_count": 0,
   "metadata": {
    "colab": {},
    "colab_type": "code",
    "id": "Cb2DNg3kG5dh"
   },
   "outputs": [],
   "source": [
    "array_one = [1, 2, 3]\n",
    "array_two = [4, 5]\n",
    "\n",
    "\n",
    "### YOUR CODE HERE ###\n",
    "\n",
    "for i in range(len(array_one)):\n",
    "  print(array_one[i] + array_two[i])"
   ]
  },
  {
   "cell_type": "markdown",
   "metadata": {
    "colab_type": "text",
    "id": "exercise-3-key-1"
   },
   "source": [
    "### Answer Key"
   ]
  },
  {
   "cell_type": "markdown",
   "metadata": {
    "colab_type": "text",
    "id": "0Jz4tQ9XVGNd"
   },
   "source": [
    "**Solution**"
   ]
  },
  {
   "cell_type": "code",
   "execution_count": 0,
   "metadata": {
    "colab": {},
    "colab_type": "code",
    "id": "XFtKF2RiFPWI"
   },
   "outputs": [],
   "source": [
    "array_one = [1, 2, 3]\n",
    "array_two = [4, 5]\n",
    "\n",
    "for i in range(len(array_one)):\n",
    "  if i < len(array_two):\n",
    "    print(array_one[i] + array_two[i])\n",
    "  else:\n",
    "    break\n",
    "    \n",
    "    \n",
    "# Alternatively, print the remaining elements from the larger array\n",
    "larger = array_one if len(array_one) > len(array_two) else array_two\n",
    "for i in range(len(larger)):\n",
    "  if i < len(array_one) and i < len(array_two):\n",
    "    print(array_one[i] + array_two[i])\n",
    "  else:\n",
    "    print(larger[i])"
   ]
  },
  {
   "cell_type": "markdown",
   "metadata": {
    "colab_type": "text",
    "id": "cxeUMkpE8R4N"
   },
   "source": [
    "**Validation**"
   ]
  },
  {
   "cell_type": "code",
   "execution_count": 0,
   "metadata": {
    "colab": {},
    "colab_type": "code",
    "id": "10ZmyZIt8TKI"
   },
   "outputs": [],
   "source": []
  }
 ],
 "metadata": {
  "colab": {
   "collapsed_sections": [
    "copyright",
    "exercise-1-key-1",
    "exercise-2-key-1",
    "exercise-3-key-1"
   ],
   "name": "Intermediate Python - Exceptions",
   "private_outputs": true,
   "provenance": [],
   "toc_visible": true,
   "version": "0.3.2"
  },
  "kernelspec": {
   "display_name": "Python 3",
   "name": "python3"
  }
 },
 "nbformat": 4,
 "nbformat_minor": 0
}
