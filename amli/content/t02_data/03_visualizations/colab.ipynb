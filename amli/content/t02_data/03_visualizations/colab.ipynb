{
 "cells": [
  {
   "cell_type": "markdown",
   "metadata": {
    "colab_type": "text",
    "id": "copyright"
   },
   "source": [
    "#### Copyright 2019 Google LLC."
   ]
  },
  {
   "cell_type": "code",
   "execution_count": 0,
   "metadata": {
    "colab": {},
    "colab_type": "code",
    "id": "-Xt6PXeVjxQN"
   },
   "outputs": [],
   "source": [
    "# Licensed under the Apache License, Version 2.0 (the \"License\");\n",
    "# you may not use this file except in compliance with the License.\n",
    "# You may obtain a copy of the License at\n",
    "#\n",
    "# https://www.apache.org/licenses/LICENSE-2.0\n",
    "#\n",
    "# Unless required by applicable law or agreed to in writing, software\n",
    "# distributed under the License is distributed on an \"AS IS\" BASIS,\n",
    "# WITHOUT WARRANTIES OR CONDITIONS OF ANY KIND, either express or implied.\n",
    "# See the License for the specific language governing permissions and\n",
    "# limitations under the License."
   ]
  },
  {
   "cell_type": "markdown",
   "metadata": {
    "colab_type": "text",
    "id": "c2hPzRb6j_CA"
   },
   "source": [
    "# Visualizations"
   ]
  },
  {
   "cell_type": "markdown",
   "metadata": {
    "colab_type": "text",
    "id": "AajikVZckB8S"
   },
   "source": [
    "[NumPy](http://www.numpy.org/) and [Matplotlib](https://matplotlib.org/) are two packages that you'll use regularly throughout your machine learning code. These packages are tightly integrated with [Pandas](https://pandas.pydata.org/) and other machine learning libraries.\n",
    "\n",
    "NumPy is a package for scientific computing with Python. It makes working with multidimensional arrays easy and contains many useful linear algebra algorithms.\n",
    "\n",
    "Matplotlib is a library for creating two-dimensional charts. It is integrated with Pandas and can display charts in-line in Jupyter notebooks and Colab."
   ]
  },
  {
   "cell_type": "markdown",
   "metadata": {
    "colab_type": "text",
    "id": "overview"
   },
   "source": [
    "## Overview"
   ]
  },
  {
   "cell_type": "markdown",
   "metadata": {
    "colab_type": "text",
    "id": "learning-objectives"
   },
   "source": [
    "### Learning Objectives\n",
    "\n",
    "* TODO(joshmcadams)"
   ]
  },
  {
   "cell_type": "markdown",
   "metadata": {
    "colab_type": "text",
    "id": "VZe4Xj9tyQRD"
   },
   "source": [
    "### Prerequisites\n",
    "\n",
    "* TODO(joshmcadams)"
   ]
  },
  {
   "cell_type": "markdown",
   "metadata": {
    "colab_type": "text",
    "id": "duration"
   },
   "source": [
    "### Estimated Duration\n",
    "\n",
    "60 minutes"
   ]
  },
  {
   "cell_type": "markdown",
   "metadata": {
    "colab_type": "text",
    "id": "sxmnIepvmdCx"
   },
   "source": [
    "## NumPy"
   ]
  },
  {
   "cell_type": "markdown",
   "metadata": {
    "colab_type": "text",
    "id": "mntl2Njdme0h"
   },
   "source": [
    "Python has a built in list data type. Lists are simply sequences of other pieces of data. The elements contained in a list could be of any data type that Python supports, including other lists.\n",
    "\n",
    "Lists are \"container\" data types. This means that they can contain other types of data. Dictionaries and tuples are also containers.\n",
    "\n",
    "A container can contain another container data type. This is referred to as \"nesting\". Nesting of data structures can be arbitrarily deep."
   ]
  },
  {
   "cell_type": "code",
   "execution_count": 0,
   "metadata": {
    "colab": {},
    "colab_type": "code",
    "id": "zKgNoBuEm2h0"
   },
   "outputs": [],
   "source": [
    "my_list = [         # outermost list begins\n",
    "  ['a', 'b', 'c'],  # sub-list\n",
    "  ['x',             # another sub-list\n",
    "    ['y', 'z'],     # a sub-list two levels deep\n",
    "  ],\n",
    "]\n",
    "\n",
    "print(my_list)"
   ]
  },
  {
   "cell_type": "markdown",
   "metadata": {
    "colab_type": "text",
    "id": "6M-8k5jpoT6u"
   },
   "source": [
    "Python lists are powerful data structures, but for scientific computing and machine learning, NumPy provides an even more powerful structure: `numpy.array`.\n",
    "\n",
    "A `numpy.array` is an n-dimensional array. n can be 1 (similar to a flat list) or more.\n",
    "\n",
    "`numpy.array` also comes with utilities for performing mathematical operations to every element in the array, linear algebra, and manipulating the dimensions of the array.\n",
    "\n",
    "There are many ways to create an `numpy.array`, but one of the most straightforward is to use a Python list:"
   ]
  },
  {
   "cell_type": "code",
   "execution_count": 0,
   "metadata": {
    "colab": {},
    "colab_type": "code",
    "id": "Rsv7XHuOp3XM"
   },
   "outputs": [],
   "source": [
    "import numpy as np\n",
    "\n",
    "np.array([4, 5, 6])"
   ]
  },
  {
   "cell_type": "markdown",
   "metadata": {
    "colab_type": "text",
    "id": "KUAKzBi5p9Ux"
   },
   "source": [
    "You can even pass in nested lists:"
   ]
  },
  {
   "cell_type": "code",
   "execution_count": 0,
   "metadata": {
    "colab": {},
    "colab_type": "code",
    "id": "2HlrSGcXqAdK"
   },
   "outputs": [],
   "source": [
    "import numpy as np\n",
    "\n",
    "np.array(\n",
    "  [\n",
    "    [9, 8, 7],\n",
    "    [6, 5, 4],\n",
    "    [3, 2, 1],\n",
    "  ]\n",
    ")"
   ]
  },
  {
   "cell_type": "markdown",
   "metadata": {
    "colab_type": "text",
    "id": "cd-qNQo0rR2K"
   },
   "source": [
    "You can see the dimensions of the array by asking for its shape."
   ]
  },
  {
   "cell_type": "code",
   "execution_count": 0,
   "metadata": {
    "colab": {},
    "colab_type": "code",
    "id": "XmN5QQJIraG1"
   },
   "outputs": [],
   "source": [
    "import numpy as np\n",
    "\n",
    "my_array = np.array(\n",
    "  [\n",
    "    [9, 8, 7, 6, 5],\n",
    "    [4, 3, 2, 1, 0],\n",
    "  ]\n",
    ")\n",
    "\n",
    "print(my_array.shape)"
   ]
  },
  {
   "cell_type": "markdown",
   "metadata": {
    "colab_type": "text",
    "id": "MUthcR17qTPB"
   },
   "source": [
    "If you have a one-dimensional list and would like to convert it to a multidimensional `numpy.array`, you can just tell NumPy to reshape the array."
   ]
  },
  {
   "cell_type": "code",
   "execution_count": 0,
   "metadata": {
    "colab": {},
    "colab_type": "code",
    "id": "Wy6KZiJvqd6T"
   },
   "outputs": [],
   "source": [
    "import numpy as np\n",
    "\n",
    "# Create a one-dimensional array with 21 elements\n",
    "my_array = np.array(range(21))\n",
    "print(\"Starting shape: {}\".format(my_array.shape))\n",
    "print(my_array)\n",
    "\n",
    "# Reshape the array into a two-dimensional array\n",
    "my_array = my_array.reshape(3, 7)\n",
    "print(\"New shape: {}\".format(my_array.shape))\n",
    "print(my_array)"
   ]
  },
  {
   "cell_type": "markdown",
   "metadata": {
    "colab_type": "text",
    "id": "sM1lKMtfr752"
   },
   "source": [
    "There are convenience initializers for initializing an n-dimensional array with the same value in every element. In the example below we create a three-dimensional array with every element containing zeros. There are also a method for initializing a matrix with all [ones](https://docs.scipy.org/doc/numpy/reference/generated/numpy.ones.html#numpy.ones), [empty](https://docs.scipy.org/doc/numpy/reference/generated/numpy.empty.html#numpy.empty) values, from a [file](https://docs.scipy.org/doc/numpy/reference/generated/numpy.fromfile.html#numpy.fromfile), and more. Check out the [NumPy documentation](https://docs.scipy.org/doc/) for the full list of ways to create and initialize a `numpy.array`."
   ]
  },
  {
   "cell_type": "code",
   "execution_count": 0,
   "metadata": {
    "colab": {},
    "colab_type": "code",
    "id": "rdIKF77Wrq4z"
   },
   "outputs": [],
   "source": [
    "import numpy as np\n",
    "\n",
    "my_array = np.zeros((3,4,5))\n",
    "\n",
    "print(my_array)"
   ]
  },
  {
   "cell_type": "markdown",
   "metadata": {
    "colab_type": "text",
    "id": "Dlzk45WLtdNm"
   },
   "source": [
    "You might have noticed in the call to `zeros` above that we passed in a tuple with the dimensions of the array that we wanted. `zeros` and many other NumPy functions that accept dimensions typically expect those dimensions to be provided as a list or tuple.\n",
    "\n",
    "For example, this is okay:\n",
    "\n",
    "```\n",
    "  np.zeros((2, 3))\n",
    "```\n",
    "\n",
    "As is this:\n",
    "\n",
    "```\n",
    "  np.zeros([2, 3])\n",
    "```\n",
    "\n",
    "But this is not:\n",
    "\n",
    "```\n",
    "  np.zeros(2, 3)\n",
    "```\n",
    "\n",
    "This is because these functions expect their first parameter to be the full set of dimensions. Packaging those dimensions in a list or tuple allows NumPy to know exactly which parameters are dimensions.\n",
    "\n",
    "You might have also noticed that our zeros were all floating point numbers. What if you wanted integers or some other data type? For that you can add a named `dtype` parameter."
   ]
  },
  {
   "cell_type": "code",
   "execution_count": 0,
   "metadata": {
    "colab": {},
    "colab_type": "code",
    "id": "DKklUNwZuc4T"
   },
   "outputs": [],
   "source": [
    "import numpy as np\n",
    "\n",
    "my_array = np.zeros((2,2,2,2), dtype='int')\n",
    "\n",
    "print(my_array)"
   ]
  },
  {
   "cell_type": "markdown",
   "metadata": {
    "colab_type": "text",
    "id": "gHWXoiv02IE9"
   },
   "source": [
    "It can also be useful to create arrays of random numbers. There are numerous functions for doing this, each with different characteristics for the numbers they generate.\n",
    "\n",
    "[numpy.random.random](https://docs.scipy.org/doc/numpy/reference/generated/numpy.random.random.html) generates floating point numbers between [0.0, 1.0) that are uniformly distributed while [numpy.random.standard_normal](https://docs.scipy.org/doc/numpy/reference/generated/numpy.random.standard_normal.html#numpy.random.standard_normal) generates numbers in a standard distribution. Check out [the documentation](https://docs.scipy.org/doc/numpy/reference/routines.random.html) for other functions for generating random numbers."
   ]
  },
  {
   "cell_type": "code",
   "execution_count": 0,
   "metadata": {
    "colab": {},
    "colab_type": "code",
    "id": "cwMXYygK2HgB"
   },
   "outputs": [],
   "source": [
    "import numpy as np\n",
    "\n",
    "ran = np.random.random((2,3))\n",
    "std = np.random.standard_normal((2,3))\n",
    "\n",
    "print(ran)\n",
    "print(std)"
   ]
  },
  {
   "cell_type": "markdown",
   "metadata": {
    "colab_type": "text",
    "id": "yCPTYSl5unat"
   },
   "source": [
    "Now that we know how to create a `numpy.array` we can move on and start using the array.\n",
    "\n",
    "One of the simplest ways to use a NumPy array is to perform some mathematical operation on every element in the array. In the example below we create a two-dimensional array of zeros and then add one to every element in the array.\n",
    "\n",
    "Think about how you would do this with a list of lists in Python. You'd need nested for loops to iterate through each element of the data structure. With NumPy it is as simple as a `+`.\n",
    "\n",
    "Other operators such as `*`, `-`, `/`, and `**` also work elementwise on each item in the array."
   ]
  },
  {
   "cell_type": "code",
   "execution_count": 0,
   "metadata": {
    "colab": {},
    "colab_type": "code",
    "id": "fmBzv2PNuyQH"
   },
   "outputs": [],
   "source": [
    "import numpy as np\n",
    "\n",
    "my_array = np.zeros([4,4])\n",
    "\n",
    "my_array = my_array + 1\n",
    "\n",
    "print(my_array)"
   ]
  },
  {
   "cell_type": "markdown",
   "metadata": {
    "colab_type": "text",
    "id": "aaInXNKdwSKn"
   },
   "source": [
    "NumPy also allows you to perform mathematical operations between multiple arrays. The `+`, `-`, `/`, and `*` perform element-wise operations on like-sized arrays."
   ]
  },
  {
   "cell_type": "code",
   "execution_count": 0,
   "metadata": {
    "colab": {},
    "colab_type": "code",
    "id": "Smu7QrE4wmPq"
   },
   "outputs": [],
   "source": [
    "import numpy as np\n",
    "\n",
    "array_one = np.array(range(1, 7))\n",
    "print(array_one, '\\n')\n",
    "\n",
    "array_one = array_one.reshape(3,2)\n",
    "print(array_one, '\\n')\n",
    "\n",
    "array_two = np.array(range(1, 7)).reshape(3,2)\n",
    "\n",
    "print(array_one / array_two, '\\n')\n",
    "print(array_one + array_two)\n"
   ]
  },
  {
   "cell_type": "markdown",
   "metadata": {
    "colab_type": "text",
    "id": "5iWA4Dw-xAj2"
   },
   "source": [
    "There are even linear algebra functions. One of the most common is the dot product. The dot product can be performed with the `@` operator:"
   ]
  },
  {
   "cell_type": "code",
   "execution_count": 0,
   "metadata": {
    "colab": {},
    "colab_type": "code",
    "id": "QfhodCg1xKvL"
   },
   "outputs": [],
   "source": [
    "import numpy as np\n",
    "\n",
    "array_one = np.array(range(1, 7)).reshape(3,2)\n",
    "array_two = np.array(range(1, 7)).reshape(2,3)\n",
    "\n",
    "array_one @ array_two"
   ]
  },
  {
   "cell_type": "markdown",
   "metadata": {
    "colab_type": "text",
    "id": "Ghc4dlXkxcWv"
   },
   "source": [
    "Though you might see the `@` operator in code, it is more clear to use the `dot` function to get the dot product."
   ]
  },
  {
   "cell_type": "code",
   "execution_count": 0,
   "metadata": {
    "colab": {},
    "colab_type": "code",
    "id": "k_swFB4AxY-_"
   },
   "outputs": [],
   "source": [
    "import numpy as np\n",
    "\n",
    "array_one = np.array(range(1, 7)).reshape(3,2)\n",
    "array_two = np.array(range(1, 7)).reshape(2,3)\n",
    "\n",
    "array_one.dot(array_two)"
   ]
  },
  {
   "cell_type": "markdown",
   "metadata": {
    "colab_type": "text",
    "id": "DQuE6tidxjx7"
   },
   "source": [
    "There is also a `transpose` function. You might also see it in code as `T` (for example, `array.T`).\n",
    "\n",
    "Also note the use of the `arange` function instead of `array(range(...))`. `arange` is a wrapper around `range` to make it a top-level component in NumPy. It is called in a similar manner to Python's built-in `range` function."
   ]
  },
  {
   "cell_type": "code",
   "execution_count": 0,
   "metadata": {
    "colab": {},
    "colab_type": "code",
    "id": "6NdvrRl4x3TS"
   },
   "outputs": [],
   "source": [
    "import numpy as np\n",
    "\n",
    "array = np.arange(12).reshape(4,3)\n",
    "print(array, '\\n')\n",
    "\n",
    "array = array.transpose()\n",
    "print(array)"
   ]
  },
  {
   "cell_type": "markdown",
   "metadata": {
    "colab_type": "text",
    "id": "yXJCSsAdz-f0"
   },
   "source": [
    "## Matplotlib"
   ]
  },
  {
   "cell_type": "markdown",
   "metadata": {
    "colab_type": "text",
    "id": "C781-AwN4q9Z"
   },
   "source": [
    "Matplotlib is a great way to visualize datasets. In this Colab we will generate some artificial data sets with NumPy and then use Matplotlib to visualize them.\n",
    "\n",
    "We will start with a dataset that has a linear pattern to its data. We will randomly create the `x` data and then use a linear equation to derive the `y` data."
   ]
  },
  {
   "cell_type": "code",
   "execution_count": 0,
   "metadata": {
    "colab": {},
    "colab_type": "code",
    "id": "_sXHTtz_5GzP"
   },
   "outputs": [],
   "source": [
    "import numpy as np\n",
    "\n",
    "# The size of the dataset that we'll be using to perform our linear regression.\n",
    "DATA_SET_SIZE = 1000\n",
    "\n",
    "# The maximum value of the x coordinate. The range of values of X will be\n",
    "# (0, X_MAX).\n",
    "X_MAX = 5\n",
    "\n",
    "# The Y-intercept is one of the \"secret\" values that we'll be trying to predict\n",
    "# via linear regression.\n",
    "INTERCEPT = 4\n",
    "\n",
    "# The slope is another value that we'll be trying to predict using linear\n",
    "# regression.\n",
    "SLOPE = 3\n",
    "\n",
    "# Generate the x-coordinates for our dataset \n",
    "x = X_MAX * np.random.rand(DATA_SET_SIZE, 1)\n",
    "\n",
    "# Generate the y-coordinates for our dataset using the linear equation\n",
    "# y = mx + b.\n",
    "y = SLOPE * x + INTERCEPT"
   ]
  },
  {
   "cell_type": "markdown",
   "metadata": {
    "colab_type": "text",
    "id": "No0O5JP65a7t"
   },
   "source": [
    "We can then import Matplotlib and use it to plot the data.\n",
    "\n",
    "We import the `pyplot` subpackage of `matplotlib` and then use it to plot the `x` and `y` data. The `'b.'` tells `pyplot` to use blue dots to represent each data point."
   ]
  },
  {
   "cell_type": "code",
   "execution_count": 0,
   "metadata": {
    "colab": {},
    "colab_type": "code",
    "id": "x02gAIN95eYC"
   },
   "outputs": [],
   "source": [
    "import matplotlib\n",
    "import matplotlib.pyplot as plt\n",
    "\n",
    "plt.plot(x, y, 'b.')\n",
    "plt.show()"
   ]
  },
  {
   "cell_type": "markdown",
   "metadata": {
    "colab_type": "text",
    "id": "lUlw4PQ_5hSs"
   },
   "source": [
    "The data does indeed have an x range from zero to our max x value. Notice that the y-intercept and slope match our seeded values.\n",
    "\n",
    "This data looks nothing like we'd see in the real world though. Let's add a little randomness to the data to make it more realistic."
   ]
  },
  {
   "cell_type": "code",
   "execution_count": 0,
   "metadata": {
    "colab": {},
    "colab_type": "code",
    "id": "bTGkUXes5sJP"
   },
   "outputs": [],
   "source": [
    "y = y + 2 * np.random.randn(DATA_SET_SIZE, 1)\n",
    "\n",
    "plt.plot(x, y, 'b.')\n",
    "plt.show()"
   ]
  },
  {
   "cell_type": "markdown",
   "metadata": {
    "colab_type": "text",
    "id": "TZiOmhdG6Bin"
   },
   "source": [
    "We will now draw a red line representing the actual linear equation used to build this data. Notice that we use `'r-'` to tell `pyplot` that we want a red line."
   ]
  },
  {
   "cell_type": "code",
   "execution_count": 0,
   "metadata": {
    "colab": {},
    "colab_type": "code",
    "id": "dA9rdU4l6Smq"
   },
   "outputs": [],
   "source": [
    "plt.plot(x, y, 'b.')\n",
    "(low_x, high_x) = (0, 5)\n",
    "plt.plot([low_x, high_x], [SLOPE * low_x + INTERCEPT, SLOPE * high_x + INTERCEPT], 'r-')\n",
    "plt.show()"
   ]
  },
  {
   "cell_type": "markdown",
   "metadata": {
    "colab_type": "text",
    "id": "65dNIfTm7AAG"
   },
   "source": [
    "Matplotlib is not limited to line graphs and scatterplots. The library supports many different chart types. Check out the [gallery](https://matplotlib.org/gallery.html) to see many of them in action."
   ]
  },
  {
   "cell_type": "markdown",
   "metadata": {
    "colab_type": "text",
    "id": "othEpE-e8TtC"
   },
   "source": [
    "Below is an example of a simple bar chart. The code doesn't look too much different than the code for the scatterplot and line chart above."
   ]
  },
  {
   "cell_type": "code",
   "execution_count": 0,
   "metadata": {
    "colab": {},
    "colab_type": "code",
    "id": "BZFzQeUV7c9K"
   },
   "outputs": [],
   "source": [
    "import numpy as np\n",
    "import matplotlib.pyplot as plt\n",
    "\n",
    "bar_count = 5\n",
    "\n",
    "x = np.arange(bar_count)\n",
    "y = np.random.rand(bar_count)\n",
    "\n",
    "plt.bar(x, y, color='green')\n",
    "plt.show()"
   ]
  },
  {
   "cell_type": "markdown",
   "metadata": {
    "colab_type": "text",
    "id": "S_Elxz5N9ttt"
   },
   "source": [
    "You can access [subplots](https://matplotlib.org/api/_as_gen/matplotlib.pyplot.subplot.html) of the current figure. Any figure can have one or more subplots. In the example below we got access to the one-and-only subplot of the figure and created a horizontal bar chart with labels and titles."
   ]
  },
  {
   "cell_type": "code",
   "execution_count": 0,
   "metadata": {
    "colab": {},
    "colab_type": "code",
    "id": "MDEErS0f8oi7"
   },
   "outputs": [],
   "source": [
    "import numpy as np\n",
    "import matplotlib.pyplot as plt\n",
    "\n",
    "_, ax = plt.subplots()\n",
    "\n",
    "bar_count = 4\n",
    "y = np.arange(bar_count)\n",
    "x = np.random.rand(bar_count)\n",
    "x_error = np.random.rand(bar_count) / 10\n",
    "\n",
    "ax.barh(y, x, xerr=x_error, align='center', color='blue', ecolor='red')\n",
    "ax.set_yticks(y)\n",
    "ax.set_yticklabels(['A', 'B', 'C', 'D'])\n",
    "ax.set_xlabel('Some Measure')\n",
    "ax.set_title('This is a title')\n",
    "\n",
    "plt.show()"
   ]
  },
  {
   "cell_type": "markdown",
   "metadata": {
    "colab_type": "text",
    "id": "V3jKwgsETYXX"
   },
   "source": [
    "## Seaborn"
   ]
  },
  {
   "cell_type": "markdown",
   "metadata": {
    "colab_type": "text",
    "id": "Rfi8pItttOSZ"
   },
   "source": [
    "Matplotlib is just one of the many visualization libraries to choose from.  Let's take a closer look at another one, [Seaborn](https://seaborn.pydata.org/introduction.html)\n",
    "\n",
    "Seaborn is a library for making statistical graphics in Python. It is built on top of Matplotlib and closely integrated with Pandas data structures.\n",
    "\n",
    "We will use `tips dataset` which is one of the example datasets from the [Seaborn data repository](https://github.com/mwaskom/seaborn-data).  "
   ]
  },
  {
   "cell_type": "code",
   "execution_count": 0,
   "metadata": {
    "colab": {},
    "colab_type": "code",
    "id": "rX4e6R6aqJFj"
   },
   "outputs": [],
   "source": [
    "# Import Seaborn Python library\n",
    "import seaborn as sns\n",
    "\n",
    "# Load tips dataset\n",
    "tips = sns.load_dataset(\"tips\")\n",
    "\n",
    "# Add a new column for percentage of tip from the total bill amount\n",
    "tips['percent_tip'] = 100 * tips[\"tip\"] / tips[\"total_bill\"]\n",
    "\n",
    "# Print out the first 10 rows\n",
    "tips.head(10)"
   ]
  },
  {
   "cell_type": "markdown",
   "metadata": {
    "colab_type": "text",
    "id": "GCNDHg3N8o8N"
   },
   "source": [
    "Let's plot the histogram of the `percent_tip` values.  [Seaborn.distplot()](https://seaborn.pydata.org/generated/seaborn.distplot.html) function automatically calculates a good default bin size to produce a histogram."
   ]
  },
  {
   "cell_type": "code",
   "execution_count": 0,
   "metadata": {
    "colab": {},
    "colab_type": "code",
    "id": "hc8HwRcKpSRJ"
   },
   "outputs": [],
   "source": [
    "# Set the grid background color to white\n",
    "sns.set(style=\"whitegrid\")\n",
    "\n",
    "# Plot histogram of the percent_tip values\n",
    "sns.distplot(tips[\"percent_tip\"], vertical=True)"
   ]
  },
  {
   "cell_type": "markdown",
   "metadata": {
    "colab_type": "text",
    "id": "S2LdBnp2-Eaf"
   },
   "source": [
    "Now, a histogram plot combine values into bins or buckets resulting in frequency data for each bins.  What if you'd like to see each of the values plotted separately?  This only makes sense when the dataset is reasonably small, otherwise the resulting graph might be overwhelming and not useful.\n",
    "\n",
    "It can be accomplished by charting using [seaborn.swarmplot()](https://seaborn.pydata.org/generated/seaborn.swarmplot.html) function."
   ]
  },
  {
   "cell_type": "code",
   "execution_count": 0,
   "metadata": {
    "colab": {},
    "colab_type": "code",
    "id": "YJO9zuhYTa3r"
   },
   "outputs": [],
   "source": [
    "ax = sns.swarmplot(y=tips[\"percent_tip\"])"
   ]
  },
  {
   "cell_type": "markdown",
   "metadata": {
    "colab_type": "text",
    "id": "pHiuTjlV_vvF"
   },
   "source": [
    "Looking at the plot above, you can get sense of the values distribution and can still see where individual values land.  However, `seaborn.swarmplot()` is especially useful when you're trying to segment the data along categories.\n",
    "\n",
    "The chart below splits the data over category of time of dining: Lunch or Dinner."
   ]
  },
  {
   "cell_type": "code",
   "execution_count": 0,
   "metadata": {
    "colab": {},
    "colab_type": "code",
    "id": "D_XhR0AFsmS1"
   },
   "outputs": [],
   "source": [
    "ax = sns.swarmplot(x=\"time\", y=\"percent_tip\", data=tips)"
   ]
  },
  {
   "cell_type": "markdown",
   "metadata": {
    "colab_type": "text",
    "id": "63ccFPFlAleP"
   },
   "source": [
    "Here's another example of the data being split across days of the week, rather than time of day."
   ]
  },
  {
   "cell_type": "code",
   "execution_count": 0,
   "metadata": {
    "colab": {},
    "colab_type": "code",
    "id": "pPK03WylUFGV"
   },
   "outputs": [],
   "source": [
    "ax = sns.swarmplot(x=\"day\", y=\"percent_tip\", data=tips)"
   ]
  },
  {
   "cell_type": "markdown",
   "metadata": {
    "colab_type": "text",
    "id": "UztxKaxhBAgS"
   },
   "source": [
    "Lastly, here's a more complex example where the previous chart is augmented with a second data categorization - in this case the gender of the person."
   ]
  },
  {
   "cell_type": "code",
   "execution_count": 0,
   "metadata": {
    "colab": {},
    "colab_type": "code",
    "id": "HJfxVyXoUNe0"
   },
   "outputs": [],
   "source": [
    "ax = sns.swarmplot(x=\"day\", y=\"percent_tip\", hue=\"sex\", palette=[\"r\", \"c\"], data=tips)"
   ]
  },
  {
   "cell_type": "markdown",
   "metadata": {
    "colab_type": "text",
    "id": "QFFInD4j-VMc"
   },
   "source": [
    "# Exercises"
   ]
  },
  {
   "cell_type": "markdown",
   "metadata": {
    "colab_type": "text",
    "id": "93t_PYx6-W_N"
   },
   "source": [
    "## Exercise 1"
   ]
  },
  {
   "cell_type": "markdown",
   "metadata": {
    "colab_type": "text",
    "id": "rwTuqL4oqARv"
   },
   "source": [
    "1. Create a 5 x 6 x 2 matrix filled with random floating point numbers in a normal distribution.\n",
    "2. Multiply every data point in the matrix by 10."
   ]
  },
  {
   "cell_type": "markdown",
   "metadata": {
    "colab_type": "text",
    "id": "VfbBvJmzMHIN"
   },
   "source": [
    "### Student Solution"
   ]
  },
  {
   "cell_type": "code",
   "execution_count": 0,
   "metadata": {
    "colab": {},
    "colab_type": "code",
    "id": "IJFTn4cN-aM-"
   },
   "outputs": [],
   "source": [
    "# Your code goes here"
   ]
  },
  {
   "cell_type": "markdown",
   "metadata": {
    "colab_type": "text",
    "id": "exercise-1-key-1"
   },
   "source": [
    "### Answer Key"
   ]
  },
  {
   "cell_type": "markdown",
   "metadata": {
    "colab_type": "text",
    "id": "exercise-1-solution-1"
   },
   "source": [
    "**Solution**"
   ]
  },
  {
   "cell_type": "code",
   "execution_count": 0,
   "metadata": {
    "colab": {},
    "colab_type": "code",
    "id": "BpKcIyFgcji0"
   },
   "outputs": [],
   "source": [
    "import numpy as np\n",
    "\n",
    "# 1\n",
    "normal_dist = np.random.randn(5,6,2)\n",
    "\n",
    "# 2\n",
    "normal_dist = normal_dist * 10\n",
    "\n",
    "normal_dist"
   ]
  },
  {
   "cell_type": "markdown",
   "metadata": {
    "colab_type": "text",
    "id": "FqUYPhKIMLQF"
   },
   "source": [
    "**Validation**"
   ]
  },
  {
   "cell_type": "code",
   "execution_count": 0,
   "metadata": {
    "colab": {},
    "colab_type": "code",
    "id": "4pkcjg4NMMQ_"
   },
   "outputs": [],
   "source": [
    "# TODO"
   ]
  },
  {
   "cell_type": "markdown",
   "metadata": {
    "colab_type": "text",
    "id": "WQJBuZEi-usg"
   },
   "source": [
    "## Exercise 2"
   ]
  },
  {
   "cell_type": "markdown",
   "metadata": {
    "colab_type": "text",
    "id": "v9oag2cWqCH8"
   },
   "source": [
    "1. Convert `list_one` and `list_two` into NumPy arrays.\n",
    "2. Transpose the first matrix.\n",
    "3. Find the dot product of the first matrix by the second matrix."
   ]
  },
  {
   "cell_type": "markdown",
   "metadata": {
    "colab_type": "text",
    "id": "wIndH853MPZf"
   },
   "source": [
    "### Student Solution"
   ]
  },
  {
   "cell_type": "code",
   "execution_count": 0,
   "metadata": {
    "colab": {},
    "colab_type": "code",
    "id": "htQmgV5Q-yFc"
   },
   "outputs": [],
   "source": [
    "list_one = [\n",
    "  [5, 6, 1, 5],\n",
    "  [1, 2, 9, 0],\n",
    "  [3, 2, 6, 1], \n",
    "]\n",
    "\n",
    "list_two = [\n",
    "  [4, 3, 1, 8],\n",
    "  [3, 9, 0, 5],\n",
    "  [2, 8, 4, 0],\n",
    "]\n",
    "\n",
    "# Your code goes here"
   ]
  },
  {
   "cell_type": "markdown",
   "metadata": {
    "colab_type": "text",
    "id": "exercise-2-key-1"
   },
   "source": [
    "### Answer Key"
   ]
  },
  {
   "cell_type": "markdown",
   "metadata": {
    "colab_type": "text",
    "id": "exercise-2-solution-1"
   },
   "source": [
    "**Solution**"
   ]
  },
  {
   "cell_type": "code",
   "execution_count": 0,
   "metadata": {
    "colab": {},
    "colab_type": "code",
    "id": "nmslAeQngT9l"
   },
   "outputs": [],
   "source": [
    "# 1\n",
    "list_one = np.array(list_one)\n",
    "print(list_one, '\\n')\n",
    "list_two = np.array(list_two)\n",
    "print(list_two, '\\n')\n",
    "\n",
    "# 2\n",
    "list_one = np.transpose(list_one)\n",
    "print(list_one, '\\n')\n",
    "\n",
    "# 3\n",
    "print(list_one.dot(list_two))"
   ]
  },
  {
   "cell_type": "markdown",
   "metadata": {
    "colab_type": "text",
    "id": "Ddw9yxlwMTJD"
   },
   "source": [
    "**Validation**"
   ]
  },
  {
   "cell_type": "code",
   "execution_count": 0,
   "metadata": {
    "colab": {},
    "colab_type": "code",
    "id": "TokiobteMULV"
   },
   "outputs": [],
   "source": [
    "# TODO"
   ]
  },
  {
   "cell_type": "markdown",
   "metadata": {
    "colab_type": "text",
    "id": "Lxpbmoy8JfOo"
   },
   "source": [
    "## Exercise 3"
   ]
  },
  {
   "cell_type": "markdown",
   "metadata": {
    "colab_type": "text",
    "id": "zTyuSKFcqEJ7"
   },
   "source": [
    "1. Generate a dataset of 1000 x, y data points based on a polynomial function.\n",
    "1. Add some randomness to the dataset.\n",
    "1. Use matplotlib to plot the points as green dots in a scatterplot.\n",
    "1. Draw the polynomial line as a black line on the chart."
   ]
  },
  {
   "cell_type": "markdown",
   "metadata": {
    "colab_type": "text",
    "id": "ZBkwkQN_MZjy"
   },
   "source": [
    "### Student Solution"
   ]
  },
  {
   "cell_type": "code",
   "execution_count": 0,
   "metadata": {
    "colab": {},
    "colab_type": "code",
    "id": "OSxQita6KA30"
   },
   "outputs": [],
   "source": [
    "# Your code goes here"
   ]
  },
  {
   "cell_type": "markdown",
   "metadata": {
    "colab_type": "text",
    "id": "exercise-3-key-1"
   },
   "source": [
    "### Answer Key"
   ]
  },
  {
   "cell_type": "markdown",
   "metadata": {
    "colab_type": "text",
    "id": "exercise-3-solution-1"
   },
   "source": [
    "**Solution**"
   ]
  },
  {
   "cell_type": "code",
   "execution_count": 0,
   "metadata": {
    "colab": {},
    "colab_type": "code",
    "id": "q36er80eleer"
   },
   "outputs": [],
   "source": [
    "import numpy as np\n",
    "import matplotlib.pyplot as plt\n",
    "import random\n",
    "\n",
    "# 1. Generate a dataset of 1000 x, y data points based on a polynomial function.\n",
    "DATA_SET_SIZE = 1000\n",
    "X_MAX = 5\n",
    "\n",
    "x = X_MAX * np.random.rand(DATA_SET_SIZE, 1)\n",
    "f = lambda x: x**3\n",
    "y = f(x)\n",
    "\n",
    "# 2. Add some randomness to the dataset.\n",
    "y = y + 20 * np.random.randn(DATA_SET_SIZE, 1)\n",
    "\n",
    "# 3. Use matplotlib to plot the points as green dots in a scatterplot.\n",
    "plt.plot(x, y, 'g.')\n",
    "\n",
    "# 4. Draw the polynomial line as a black line on the chart.\n",
    "x_range = np.linspace(0, X_MAX, 1000)\n",
    "plt.plot(x_range, f(x_range), 'k-')\n",
    "plt.show()\n"
   ]
  },
  {
   "cell_type": "markdown",
   "metadata": {
    "colab_type": "text",
    "id": "12C6VtJpMdSb"
   },
   "source": [
    "**Validation**"
   ]
  },
  {
   "cell_type": "code",
   "execution_count": 0,
   "metadata": {
    "colab": {},
    "colab_type": "code",
    "id": "TctGzBnwMeSR"
   },
   "outputs": [],
   "source": [
    "# TODO"
   ]
  },
  {
   "cell_type": "markdown",
   "metadata": {
    "colab_type": "text",
    "id": "cPqL6sKEKKOc"
   },
   "source": [
    "## Exercise 4"
   ]
  },
  {
   "cell_type": "markdown",
   "metadata": {
    "colab_type": "text",
    "id": "9H36RSycqGkq"
   },
   "source": [
    "Create a box-and-whisker plot of the polynomial dataset created in exercise three. Have one plot for x and one for y. These plots show the domain and range of the two axes of our dataset."
   ]
  },
  {
   "cell_type": "markdown",
   "metadata": {
    "colab_type": "text",
    "id": "tlCNyyOnMgEb"
   },
   "source": [
    "### Student Solution"
   ]
  },
  {
   "cell_type": "code",
   "execution_count": 0,
   "metadata": {
    "colab": {},
    "colab_type": "code",
    "id": "LSXsGs4JKaeR"
   },
   "outputs": [],
   "source": [
    "# Your code goes here"
   ]
  },
  {
   "cell_type": "markdown",
   "metadata": {
    "colab_type": "text",
    "id": "exercise-4-key-1"
   },
   "source": [
    "### Answer Key"
   ]
  },
  {
   "cell_type": "markdown",
   "metadata": {
    "colab_type": "text",
    "id": "exercise-4-solution-1"
   },
   "source": [
    "**Solution**"
   ]
  },
  {
   "cell_type": "code",
   "execution_count": 0,
   "metadata": {
    "colab": {},
    "colab_type": "code",
    "id": "dyZUt208lhVh"
   },
   "outputs": [],
   "source": [
    "import matplotlib.pyplot as plt\n",
    "\n",
    "fig, (ax1, ax2) = plt.subplots(ncols=2)\n",
    "ax1.set_title('X')\n",
    "ax1.boxplot(x)\n",
    "\n",
    "ax2.set_title('Y')\n",
    "ax2.boxplot(y)\n"
   ]
  },
  {
   "cell_type": "markdown",
   "metadata": {
    "colab_type": "text",
    "id": "jo58uKCgMkGz"
   },
   "source": [
    "**Validation**"
   ]
  },
  {
   "cell_type": "code",
   "execution_count": 0,
   "metadata": {
    "colab": {},
    "colab_type": "code",
    "id": "DIuGagsGMlVt"
   },
   "outputs": [],
   "source": [
    "# TODO"
   ]
  },
  {
   "cell_type": "markdown",
   "metadata": {
    "colab_type": "text",
    "id": "8ybc1L-NKouM"
   },
   "source": [
    "## Exercise 5: Challenge (Ungraded)"
   ]
  },
  {
   "cell_type": "markdown",
   "metadata": {
    "colab_type": "text",
    "id": "_eVKRbzPqI1H"
   },
   "source": [
    "1. Visit data.gov's CSV datasets and find \"Demographic Statistics By Zip Code: City of New York — Demographic statistics broken down by zip code\".\n",
    "1. Load that data into your Colab using Pandas.\n",
    "1. Create a heatmap of one of the columns overlayed on a map of the city of New York"
   ]
  },
  {
   "cell_type": "markdown",
   "metadata": {
    "colab_type": "text",
    "id": "TOldL6oSMpr9"
   },
   "source": [
    "### Student Solution"
   ]
  },
  {
   "cell_type": "code",
   "execution_count": 0,
   "metadata": {
    "colab": {},
    "colab_type": "code",
    "id": "7g38rSm0LKBT"
   },
   "outputs": [],
   "source": [
    "# Your code goes here"
   ]
  },
  {
   "cell_type": "markdown",
   "metadata": {
    "colab_type": "text",
    "id": "exercise-5-key-1"
   },
   "source": [
    "### Answer Key"
   ]
  },
  {
   "cell_type": "markdown",
   "metadata": {
    "colab_type": "text",
    "id": "exercise-5-solution-1"
   },
   "source": [
    "**Solution**"
   ]
  },
  {
   "cell_type": "code",
   "execution_count": 0,
   "metadata": {
    "colab": {},
    "colab_type": "code",
    "id": "9xvEDrtRMsVj"
   },
   "outputs": [],
   "source": [
    "# TODO"
   ]
  },
  {
   "cell_type": "markdown",
   "metadata": {
    "colab_type": "text",
    "id": "lHnZNsOfMti8"
   },
   "source": [
    "**Validation**"
   ]
  },
  {
   "cell_type": "code",
   "execution_count": 0,
   "metadata": {
    "colab": {},
    "colab_type": "code",
    "id": "vM_qocoEMuzo"
   },
   "outputs": [],
   "source": [
    "# TODO"
   ]
  }
 ],
 "metadata": {
  "colab": {
   "collapsed_sections": [
    "copyright",
    "exercise-1-key-1",
    "exercise-2-key-1",
    "exercise-3-key-1",
    "exercise-4-key-1",
    "exercise-5-key-1"
   ],
   "name": "Visualizations",
   "private_outputs": true,
   "provenance": [],
   "toc_visible": true,
   "version": "0.3.2"
  },
  "kernelspec": {
   "display_name": "Python 3",
   "name": "python3"
  }
 },
 "nbformat": 4,
 "nbformat_minor": 0
}
