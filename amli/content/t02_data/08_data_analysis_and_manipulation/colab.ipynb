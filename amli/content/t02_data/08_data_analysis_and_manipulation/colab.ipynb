{
  "cells": [
    {
      "cell_type": "markdown",
      "metadata": {
        "colab_type": "text",
        "id": "copyright"
      },
      "source": [
        "#### Copyright 2018 Google LLC."
      ]
    },
    {
      "cell_type": "code",
      "execution_count": 0,
      "metadata": {
        "colab": {},
        "colab_type": "code",
        "id": "jHUQ8PUGZh8y"
      },
      "outputs": [],
      "source": [
        "# Licensed under the Apache License, Version 2.0 (the \"License\");\n",
        "# you may not use this file except in compliance with the License.\n",
        "# You may obtain a copy of the License at\n",
        "#\n",
        "# https://www.apache.org/licenses/LICENSE-2.0\n",
        "#\n",
        "# Unless required by applicable law or agreed to in writing, software\n",
        "# distributed under the License is distributed on an \"AS IS\" BASIS,\n",
        "# WITHOUT WARRANTIES OR CONDITIONS OF ANY KIND, either express or implied.\n",
        "# See the License for the specific language governing permissions and\n",
        "# limitations under the License."
      ]
    },
    {
      "cell_type": "markdown",
      "metadata": {
        "colab_type": "text",
        "id": "HQswfu6M_ZBR"
      },
      "source": [
        "# Data Preparation and Exploration"
      ]
    },
    {
      "cell_type": "markdown",
      "metadata": {
        "colab_type": "text",
        "id": "invE35z3n2Yn"
      },
      "source": [
        "In a machine learning pipeline, the data exploration step helps inform feature selection and engineering."
      ]
    },
    {
      "cell_type": "markdown",
      "metadata": {
        "colab_type": "text",
        "id": "overview"
      },
      "source": [
        "## Overview"
      ]
    },
    {
      "cell_type": "markdown",
      "metadata": {
        "colab_type": "text",
        "id": "learning-objectives"
      },
      "source": [
        "### Learning Objectives\n",
        "\n",
        "* Import and clean a dataset.\n",
        "* Evaluate the dataset using summary statistics.\n",
        "* Learn the appropriate plots to visualize a dataset's properties.\n",
        "* Gain insights into the data that will help inform the selection of promising features for a machine learning problem.\n"
      ]
    },
    {
      "cell_type": "markdown",
      "metadata": {
        "colab_type": "text",
        "id": "VZe4Xj9tyQRD"
      },
      "source": [
        "### Prerequisites\n",
        "\n",
        "* Intermediate Python\n",
        "* Intermediate Pandas\n",
        "* Visualization"
      ]
    },
    {
      "cell_type": "markdown",
      "metadata": {
        "colab_type": "text",
        "id": "duration"
      },
      "source": [
        "### Estimated Duration\n",
        "\n",
        "120 minutes"
      ]
    },
    {
      "cell_type": "markdown",
      "metadata": {
        "colab_type": "text",
        "id": "1LFuIPQzBULE"
      },
      "source": [
        "### Tools \u0026 Techniques\n",
        "\n",
        "There are many tools and techniques to perform initial exploration of a dataset.  In this lab, we use several of commonly available tools and through hands-on examples - you can learn by following along and completing additional practice sections on your own.  Reference materials are provided below.\n",
        "\n",
        "  *   [NumPy](http://www.numpy.org/) and [Pandas](https://pandas.pydata.org/) are two libraries for data manipulation and analysis.\n",
        "  *   [Matplotlib](https://matplotlib.org/), [Seaborn](https://seaborn.pydata.org/index.html) and [Altair](https://altair-viz.github.io/) provide methods to create plots and visualizations.\n"
      ]
    },
    {
      "cell_type": "markdown",
      "metadata": {
        "colab_type": "text",
        "id": "u80aeT8TAwem"
      },
      "source": [
        "Note: you will be modifying the dataset as you work through the different data preparation steps, so the order in which you run the code cells will make a difference. We recommend you run the code cells in order (at least the first time)."
      ]
    },
    {
      "cell_type": "markdown",
      "metadata": {
        "colab_type": "text",
        "id": "4eabAIFFJymi"
      },
      "source": [
        "## Outline"
      ]
    },
    {
      "cell_type": "markdown",
      "metadata": {
        "colab_type": "text",
        "id": "vC-8p8vLA1W4"
      },
      "source": [
        "###Introduction\n",
        "  * The dataset: chocolate bar ratings\n",
        "  * Motivating questions\n",
        "\n",
        "###Setup\n",
        "  * Import relevant Python modules\n",
        "  * Acquire and load dataset\n",
        "  \n",
        "###Data Preparation \n",
        "  * Inspecting the data\n",
        "  * Preparing the data for analysis\n",
        "  \n",
        "###Data Exploration\n",
        "  * Some basic statistics\n",
        "  * Visualizing the data\n",
        "  * Examining characteristics of top rated chocolate bars\n",
        "  * Mapping chocolate bars across the world\n",
        "  * Looking for correlations\n",
        "  * Selecting promising features for a machine learning problem\n",
        "\n",
        "###Next steps"
      ]
    },
    {
      "cell_type": "markdown",
      "metadata": {
        "colab_type": "text",
        "id": "bIxZkNQzBiyc"
      },
      "source": [
        "## Introduction\n",
        "\n"
      ]
    },
    {
      "cell_type": "markdown",
      "metadata": {
        "colab_type": "text",
        "id": "U4nDJfscDH9o"
      },
      "source": [
        "### The dataset: Flavors of Cacao Database\n",
        "\n",
        "In this lab, we use a dataset from the [Flavors of Cacao Database](http://flavorsofcacao.com/chocolate_database.html).  The dataset contains:\n",
        "\n",
        "*   Expert ratings of over 1,700 individual chocolate bars from 2006 to 2017.\n",
        "*   Chocolate maker information.\n",
        "*   Variety and origin of cacao bean used.\n",
        "*   Percentage of cocoa.\n",
        "\n",
        "From the [documentation](http://flavorsofcacao.com/review_guide.html) about the dataset, ratings on chocolate bars are numeric scores from 1 to 5, as follows:\n",
        "\n",
        "Rating |  Category | Notes\n",
        "--- | --- | ---\n",
        "**5** | Elite | Transcending beyond the ordinary limits\n",
        "**4** | Premium |  Superior flavor development, character and style\n",
        "**3** | Satisfactory (3.0) to Praiseworthy (3.75) | Well made with special qualities\n",
        "**2** | Disappointing | Passable but contains at least one significant flaw\n",
        "**1** | Unpleasant | Mostly unpalatable\n",
        "\n",
        "\n",
        "Ratings are based on flavor, texture, aftermelt, and overall (subjective) evaluation. For more information, see the [Review Guide](http://flavorsofcacao.com/review_guide.html) on the Flavors of Cacao site."
      ]
    },
    {
      "cell_type": "markdown",
      "metadata": {
        "colab_type": "text",
        "id": "KxXq5BzNBp3a"
      },
      "source": [
        "### Motivating questions\n",
        "\n",
        "Before examining the data, let's list some questions to direct our exploration, such as the following:\n",
        "\n",
        "*   Is there a relationship between numeric rating and properties such as percentage of cacao, bean type, origin, and maker?\n",
        "*   Are some of the properties of cacao beans correlated?\n",
        "*   Where are the top chocolate bars from?\n",
        "*   Are there multiple entries for the same bar from the same maker, but with different ratings over the years? If so, has there been any change in the chocolate bar which could account for the differences?\n",
        "*   Do makers who produce a wide variety of bars have a higher chance of creating a top-rated chocolate bar?"
      ]
    },
    {
      "cell_type": "markdown",
      "metadata": {
        "colab_type": "text",
        "id": "PK_EQb4yBsD7"
      },
      "source": [
        "## Setup"
      ]
    },
    {
      "cell_type": "markdown",
      "metadata": {
        "colab_type": "text",
        "id": "BDoUeU2vdXL2"
      },
      "source": [
        "### Import relevant Python modules\n",
        "We import some code written by others and collected in libraries to process the input data and create visualizations."
      ]
    },
    {
      "cell_type": "code",
      "execution_count": 0,
      "metadata": {
        "cellView": "both",
        "colab": {},
        "colab_type": "code",
        "id": "Z1ZVr0efD0dV"
      },
      "outputs": [],
      "source": [
        "#Import libraries\n",
        "\n",
        "import altair as alt\n",
        "import numpy as np \n",
        "import pandas as pd\n",
        "import math\n",
        "import matplotlib\n",
        "import matplotlib.pyplot as plt\n",
        "import re\n",
        "import seaborn as sns"
      ]
    },
    {
      "cell_type": "markdown",
      "metadata": {
        "colab_type": "text",
        "id": "ry3zX0OlDaGA"
      },
      "source": [
        "### Acquire and load dataset\n",
        "\n",
        "Let get the dataset by [opening the cocoa rating csv](https://storage.cloud.google.com/amli/public/flavors_of_cacao.csv?folder=true\u0026organizationId=433637338589) file.\n",
        "\n",
        "  * Download and save a copy on your computer.\n",
        "  * Upload the file into the colab runtime\n",
        "    * Click on the __Choose Files__ button to specify the name of the file to be uploaded\n",
        "  * Using Pandas module to read the dataset into a Pandas DataFrame.\n",
        "\n"
      ]
    },
    {
      "cell_type": "code",
      "execution_count": 0,
      "metadata": {
        "cellView": "both",
        "colab": {},
        "colab_type": "code",
        "id": "QXmvYCiYD5Pc"
      },
      "outputs": [],
      "source": [
        "# Upload the file from your computer to the colab runtime\n",
        "\n",
        "from google.colab import files\n",
        "\n",
        "uploaded = files.upload()\n",
        "\n",
        "for fn in uploaded.keys():\n",
        "  print('User uploaded file \"{name}\" with length {length} bytes'.format(\n",
        "      name=fn, length=len(uploaded[fn])))\n",
        "\n",
        "# Read the dataset into a Pandas DataFrame\n",
        "\n",
        "dataset_filename = \"./public_flavors_of_cacao.csv\"\n",
        "chocolate_reviews = pd.read_csv(dataset_filename, encoding='latin-1')\n",
        "\n",
        "# Rename the columns' headers\n",
        "\n",
        "chocolate_reviews.columns = ['maker', 'specific_bean_origin',\n",
        "                             'reference_number', 'review_date',\n",
        "                             'cocoa_percent', 'maker_location',\n",
        "                             'rating', 'bean_type', 'broad_bean_origin']"
      ]
    },
    {
      "cell_type": "markdown",
      "metadata": {
        "colab_type": "text",
        "id": "Pz2K8WHsEJ4_"
      },
      "source": [
        "To make sure everything worked, we examine a few examples from the dataset."
      ]
    },
    {
      "cell_type": "code",
      "execution_count": 0,
      "metadata": {
        "cellView": "both",
        "colab": {},
        "colab_type": "code",
        "id": "TBzeYwcjEN_-"
      },
      "outputs": [],
      "source": [
        "# Print examples\n",
        "\n",
        "chocolate_reviews.head()"
      ]
    },
    {
      "cell_type": "markdown",
      "metadata": {
        "colab_type": "text",
        "id": "W9OC5hsCB6bE"
      },
      "source": [
        "## 4. Inspecting the data\n",
        "\n",
        "Now that we've verified that the data has been loaded, we look at the different fields in more detail."
      ]
    },
    {
      "cell_type": "markdown",
      "metadata": {
        "colab_type": "text",
        "id": "yW4Vv1D9GS0i"
      },
      "source": [
        "**Where does this data come from?**\n",
        "\n",
        "We know that this data comes from the [Flavors of Cacao](http://flavorsofcacao.com/chocolate_database.html\n",
        ") database. From what we can tell, it looks like the ratings were entered manually (as opposed to automatically, say, by some robotic tasting system that rates chocolate bars).\n",
        "\n",
        "Let's look for misspellings, abbreviations, and formatting issues."
      ]
    },
    {
      "cell_type": "markdown",
      "metadata": {
        "colab_type": "text",
        "id": "nqEoTJ1pHZ3b"
      },
      "source": [
        "**What are the columns?**\n",
        "\n",
        "In step 3, we loaded the data into a [DataFrame](http://pandas.pydata.org/pandas-docs/version/0.23.4/generated/pandas.DataFrame.html) using the Pandas library. A DataFrame is a tabular data structure with labeled rows and columns. The columns represent the features that describe the data.\n",
        "\n",
        "Let's look at each column for the following:\n",
        "\n",
        "*   Definition: feature meaning.\n",
        "*   Encoding: numeric or string.\n",
        "*   Data type: continuous, discrete, categorical binary, or ordinal."
      ]
    },
    {
      "cell_type": "markdown",
      "metadata": {
        "colab_type": "text",
        "id": "kaRHsrDPKvkF"
      },
      "source": [
        "Run the following cell to see how the data is encoded:"
      ]
    },
    {
      "cell_type": "code",
      "execution_count": 0,
      "metadata": {
        "cellView": "both",
        "colab": {},
        "colab_type": "code",
        "id": "jmK2j-6oK2B7"
      },
      "outputs": [],
      "source": [
        "# Get data types\n",
        "\n",
        "chocolate_reviews.dtypes"
      ]
    },
    {
      "cell_type": "markdown",
      "metadata": {
        "colab_type": "text",
        "id": "VaY456IBLN11"
      },
      "source": [
        "Let's now try to gain a better understanding of our data. It will allow us to be better equipped to select and use relevant statistical techniques, and types of plots and visualizations, when working with our data to answer questions of interest.\n",
        "\n",
        "Explore the information on the dataset at [Flavors of Cacao site](http://flavorsofcacao.com/chocolate_database.html) to learn more about the different columns.\n",
        "\n",
        "Can you describe each of the columns here?\n",
        "\n",
        "Note: you can double-click on the cell below to edit it and add your responses."
      ]
    },
    {
      "cell_type": "markdown",
      "metadata": {
        "colab_type": "text",
        "id": "mHaMraxXId3G"
      },
      "source": [
        "\n",
        "*   **maker** (string): company producing the chocolate bar\n",
        "*   **maker_location** ():\n",
        "*   **cocoa_percent** ():\n",
        "*   **bean_type** ():\n",
        "*   **specific_bean_origin** ():\n",
        "*   **broad_bean_origin** ():\n",
        "*   **reference_number** ():\n",
        "*   **review_date** ():\n",
        "*   **rating** ():"
      ]
    },
    {
      "cell_type": "markdown",
      "metadata": {
        "colab_type": "text",
        "id": "Lb1qJEfdlEFr"
      },
      "source": [
        "### Solution (click on hidden cell to expand it)"
      ]
    },
    {
      "cell_type": "markdown",
      "metadata": {
        "colab_type": "text",
        "id": "sGlEXubXlOkA"
      },
      "source": [
        "*   **maker** (string): company producing the chocolate bar\n",
        "*   **maker_location** (string): company's location\n",
        "*   **cocoa_percent** (string): percentage of cacao in the bar\n",
        "*   **bean_type** (string): type of cacao bean\n",
        "*   **specific_bean_origin** (string): bean's region of origin\n",
        "*   **broad_bean_origin** (string): bean's country of origin\n",
        "*   **reference_number** (integer, discrete): review ID; a higher value indicates a more recent review\n",
        "*   **review_date** (integer, discrete): date review was submitted\n",
        "*   **rating** (float, continuous): score given to the chocolate bar"
      ]
    },
    {
      "cell_type": "markdown",
      "metadata": {
        "colab_type": "text",
        "id": "Va0xQuK5B9nk"
      },
      "source": [
        "## 5. Preparing the data for analysis\n",
        "\n",
        "Now that we've had an initial look at the data, it's time to consider whether it needs further processing before we can examine the data with summary statistics and visualizations.\n",
        "\n",
        "As we mentioned earlier, we should look out for missing values, erroneous and inconsistent spellings and abbreviations, and formatting issues (e.g., odd/unexpected characters or punctuation).\n",
        "\n",
        "Let's start by reviewing a larger set of examples from our dataset:"
      ]
    },
    {
      "cell_type": "code",
      "execution_count": 0,
      "metadata": {
        "cellView": "both",
        "colab": {},
        "colab_type": "code",
        "id": "nh28gmnSMahi"
      },
      "outputs": [],
      "source": [
        "# Print the first 100 entries\n",
        "\n",
        "chocolate_reviews.head(100)"
      ]
    },
    {
      "cell_type": "markdown",
      "metadata": {
        "colab_type": "text",
        "id": "CCRwelnCh84Z"
      },
      "source": [
        "We can then check for missing values, such as `null` or `NaN` (Not a Number), in all columns.\n",
        "\n",
        "The following code displays a count of null and non-null values in each column."
      ]
    },
    {
      "cell_type": "code",
      "execution_count": 0,
      "metadata": {
        "cellView": "both",
        "colab": {},
        "colab_type": "code",
        "id": "cUSRbpomgo3c"
      },
      "outputs": [],
      "source": [
        "# Count number of null values for all of the columns\n",
        "\n",
        "n = len(chocolate_reviews)\n",
        "print( 'maker: ' + str(n - chocolate_reviews['maker'].isnull().value_counts().values.tolist()[0]))\n",
        "print( 'maker_location: ' + str(n - chocolate_reviews['maker_location'].isnull().value_counts().values.tolist()[0]))\n",
        "print( 'cocoa_percent: ' + str(n - chocolate_reviews['cocoa_percent'].isnull().value_counts().values.tolist()[0]))\n",
        "print( 'bean_type: ' + str(n - chocolate_reviews['bean_type'].isnull().value_counts().values.tolist()[0]))\n",
        "print( 'specific_bean_origin: ' + str(n - chocolate_reviews['specific_bean_origin'].isnull().value_counts().values.tolist()[0]))\n",
        "print( 'broad_bean_origin: ' + str(n - chocolate_reviews['broad_bean_origin'].isnull().value_counts().values.tolist()[0]))\n",
        "print( 'reference_number: ' + str(n - chocolate_reviews['reference_number'].isnull().value_counts().values.tolist()[0]))\n",
        "print( 'review_data: ' + str(n - chocolate_reviews['review_date'].isnull().value_counts().values.tolist()[0]))\n",
        "print( 'rating: ' + str(n - chocolate_reviews['rating'].isnull().value_counts().values.tolist()[0]))"
      ]
    },
    {
      "cell_type": "markdown",
      "metadata": {
        "colab_type": "text",
        "id": "iqkDHC3cjB3b"
      },
      "source": [
        "Two fields appear to have missing values:\n",
        "\n",
        "*   **bean_type**: Almost half the entries are null. A best practice would be to convert the nulls to something more descriptive in general, such as the string `\"missing\"`. In this case, however, we have additional information from the field description: a null value indicates a blend. So, we'll replace each null with a string stating exactly that.\n",
        "\n",
        "*   **broad_bean_origin**: Some entries are missing their values. In some cases, the missing value is a list of locations, indicating that the chocolate bar is made of a blend of beans from different origins."
      ]
    },
    {
      "cell_type": "markdown",
      "metadata": {
        "colab_type": "text",
        "id": "bnpCZgxOM-Mt"
      },
      "source": [
        "We also can make observations about several other fields:\n",
        "\n",
        "*   **cocoa_percent**: the values include the \"%\" symbol, so this field will be considered a string rather than a numeric value. We will want to remove the \"%\" and convert the value to a numeric one instead so that we can compute statistics and draw plots with it.\n",
        "\n",
        "*   **maker_location**: some entries here are countries, whereas others are cities. We can replace the cities with corresponding countries instead.\n"
      ]
    },
    {
      "cell_type": "markdown",
      "metadata": {
        "colab_type": "text",
        "id": "BiTXCTWuMR2a"
      },
      "source": [
        "Several remaining fields appear ready for use without any additional processing for now:\n",
        "\n",
        "**maker**, **reference_number**, **review_data**, and **rating**."
      ]
    },
    {
      "cell_type": "markdown",
      "metadata": {
        "colab_type": "text",
        "id": "3DxzqlYhNS5E"
      },
      "source": [
        "### Bean type\n",
        "\n",
        "Let's start by replacing null entries for **bean_type** with a more descriptive string value."
      ]
    },
    {
      "cell_type": "code",
      "execution_count": 0,
      "metadata": {
        "cellView": "both",
        "colab": {},
        "colab_type": "code",
        "id": "r2LyuUC3NZxW"
      },
      "outputs": [],
      "source": [
        "# Replace empty/null values with \"Blend\"\n",
        "\n",
        "chocolate_reviews['bean_type'] = chocolate_reviews['bean_type'].fillna('Blend')"
      ]
    },
    {
      "cell_type": "markdown",
      "metadata": {
        "colab_type": "text",
        "id": "y6jvA-izaCPy"
      },
      "source": [
        "We then confirm that the replacement was successful."
      ]
    },
    {
      "cell_type": "code",
      "execution_count": 0,
      "metadata": {
        "cellView": "both",
        "colab": {},
        "colab_type": "code",
        "id": "UlbyE8-Upb3t"
      },
      "outputs": [],
      "source": [
        "# Inspect a few examples to make sure this worked\n",
        "\n",
        "chocolate_reviews.head()"
      ]
    },
    {
      "cell_type": "code",
      "execution_count": 0,
      "metadata": {
        "cellView": "both",
        "colab": {},
        "colab_type": "code",
        "id": "CqjXXWi8piq8"
      },
      "outputs": [],
      "source": [
        "# Inspect list of possible values bean_type can take to ensure \"NaN\" has been replaced with \"Blend\"\n",
        "\n",
        "for bean_type in chocolate_reviews['bean_type'].unique():\n",
        "  print( bean_type)"
      ]
    },
    {
      "cell_type": "markdown",
      "metadata": {
        "colab_type": "text",
        "id": "pFI9iJZ-WAdF"
      },
      "source": [
        "We can also convert **bean_type** from unicode to string to remove the leading 'u' in front of values."
      ]
    },
    {
      "cell_type": "code",
      "execution_count": 0,
      "metadata": {
        "cellView": "both",
        "colab": {},
        "colab_type": "code",
        "id": "BAA52k2CTcNB"
      },
      "outputs": [],
      "source": [
        "# Cast bean_type to string\n",
        "\n",
        "chocolate_reviews['bean_type'] = chocolate_reviews['bean_type'].astype(str)"
      ]
    },
    {
      "cell_type": "code",
      "execution_count": 0,
      "metadata": {
        "cellView": "both",
        "colab": {},
        "colab_type": "code",
        "id": "yh0evLJQWUWy"
      },
      "outputs": [],
      "source": [
        "# Inspect list of possible values for bean_type again\n",
        "\n",
        "chocolate_reviews['bean_type'].unique()\n"
      ]
    },
    {
      "cell_type": "code",
      "execution_count": 0,
      "metadata": {
        "cellView": "both",
        "colab": {},
        "colab_type": "code",
        "id": "VumBSsacp4tV"
      },
      "outputs": [],
      "source": [
        "# Check null values for bean_type\n",
        "\n",
        "chocolate_reviews['bean_type'].isnull().value_counts()"
      ]
    },
    {
      "cell_type": "markdown",
      "metadata": {
        "colab_type": "text",
        "id": "Z4TnHjvyNobo"
      },
      "source": [
        "### Cocoa percentage\n",
        "\n",
        "The **cocoa_percent** field is currently encoded as a string (object) type. We need to convert it to a numeric value to compute summary statistics and plots for it.\n",
        "\n",
        "We strip the \"%\" symbols from  **cocoa_percent** , and convert the resulting value to an integer."
      ]
    },
    {
      "cell_type": "code",
      "execution_count": 0,
      "metadata": {
        "cellView": "both",
        "colab": {},
        "colab_type": "code",
        "id": "FP4bNOJ-NsEq"
      },
      "outputs": [],
      "source": [
        "# Remove \"%\" symbol from cocoa_percent values and convert field to numeric\n",
        "\n",
        "chocolate_reviews['cocoa_percent'] = chocolate_reviews['cocoa_percent'].str.strip('%')\n",
        "chocolate_reviews['cocoa_percent'] = pd.to_numeric(chocolate_reviews['cocoa_percent'])"
      ]
    },
    {
      "cell_type": "code",
      "execution_count": 0,
      "metadata": {
        "cellView": "both",
        "colab": {},
        "colab_type": "code",
        "id": "9Yam36GwqFHP"
      },
      "outputs": [],
      "source": [
        "# Inspect a few examples to make sure this worked\n",
        "\n",
        "chocolate_reviews.head()"
      ]
    },
    {
      "cell_type": "markdown",
      "metadata": {
        "colab_type": "text",
        "id": "UseiTCjVN1AJ"
      },
      "source": [
        "### Maker location\n",
        "\n",
        "Entries for this column are a mix of countries and cities. For consistency, we might decide to make them all countries. The benefits include the following:\n",
        "\n",
        "*   It's easier to compare **maker** values.\n",
        "*   Perhaps we'd like to plot our data on a map as part of our analysis, and having at the same granularity/level would help!\n",
        "*   We might want to join this table with another table containing other country attributes.\n",
        "\n",
        "It turns out that several **maker** entries are misspelled, so we'll make these corrections at the same time."
      ]
    },
    {
      "cell_type": "code",
      "execution_count": 0,
      "metadata": {
        "cellView": "both",
        "colab": {},
        "colab_type": "code",
        "id": "4FZkqw4xN0kI"
      },
      "outputs": [],
      "source": [
        "# Correct spelling mistakes, and replace city with country name\n",
        "\n",
        "chocolate_reviews['maker_location'] = chocolate_reviews['maker_location']\\\n",
        ".str.replace('Amsterdam', 'Holland')\\\n",
        ".str.replace('U.K.', 'England')\\\n",
        ".str.replace('Niacragua', 'Nicaragua')\\\n",
        ".str.replace('Domincan Republic', 'Dominican Republic')\n",
        "\n",
        "# Adding this so that Holland and Netherlands map to the same country.\n",
        "\n",
        "chocolate_reviews['maker_location'] = chocolate_reviews['maker_location']\\\n",
        ".str.replace('Holland', 'Netherlands')"
      ]
    },
    {
      "cell_type": "markdown",
      "metadata": {
        "colab_type": "text",
        "id": "nudbLMugbAda"
      },
      "source": [
        "### Specific bean origin\n",
        "By inspecting some of the values for this field, we can see that there are some misspellings and abbreviations referring to the same location:\n"
      ]
    },
    {
      "cell_type": "code",
      "execution_count": 0,
      "metadata": {
        "cellView": "both",
        "colab": {},
        "colab_type": "code",
        "id": "MxBr9zaPPHY7"
      },
      "outputs": [],
      "source": [
        "# Print list of locations/values for specific_bean_origin\n",
        "\n",
        "for specific_bean_origin in chocolate_reviews['specific_bean_origin'].sort_values().unique():\n",
        "  print( specific_bean_origin)"
      ]
    },
    {
      "cell_type": "markdown",
      "metadata": {
        "colab_type": "text",
        "id": "xuqqzXiubqrs"
      },
      "source": [
        "Let's process this field so that we have the same value designate a unique location."
      ]
    },
    {
      "cell_type": "code",
      "execution_count": 0,
      "metadata": {
        "cellView": "both",
        "colab": {},
        "colab_type": "code",
        "id": "1HTZn_Nobq5T"
      },
      "outputs": [],
      "source": [
        "# Clean up spelling mistakes and deal with abbreviations\n",
        "\n",
        "def cleanup_spelling_abbrev(text):\n",
        "    replacements = [\n",
        "        ['-', ', '], ['/ ', ', '], ['/', ', '], ['\\(', ', '], [' and', ', '], [' \u0026', ', '], ['\\)', ''],\n",
        "        ['Dom Rep|DR|Domin Rep|Dominican Rep,|Domincan Republic', 'Dominican Republic'],\n",
        "        ['Mad,|Mad$', 'Madagascar, '],\n",
        "        ['PNG', 'Papua New Guinea, '],\n",
        "        ['Guat,|Guat$', 'Guatemala, '],\n",
        "        ['Ven,|Ven$|Venez,|Venez$', 'Venezuela, '],\n",
        "        ['Ecu,|Ecu$|Ecuad,|Ecuad$', 'Ecuador, '],\n",
        "        ['Nic,|Nic$', 'Nicaragua, '],\n",
        "        ['Cost Rica', 'Costa Rica'],\n",
        "        ['Mex,|Mex$', 'Mexico, '],\n",
        "        ['Jam,|Jam$', 'Jamaica, '],\n",
        "        ['Haw,|Haw$', 'Hawaii, '],\n",
        "        ['Gre,|Gre$', 'Grenada, '],\n",
        "        ['Tri,|Tri$', 'Trinidad, '],\n",
        "        ['C Am', 'Central America'],\n",
        "        ['S America', 'South America'],\n",
        "        [', $', ''], [',  ', ', '], [', ,', ', '], ['\\xa0', ' '],[',\\s+', ','],\n",
        "        [' Bali', ',Bali']\n",
        "    ]\n",
        "    for i, j in replacements:\n",
        "        text = re.sub(i, j, text)\n",
        "    return text\n",
        "\n",
        "chocolate_reviews['specific_bean_origin'] = chocolate_reviews['specific_bean_origin'].str.replace('.', '').apply(cleanup_spelling_abbrev)"
      ]
    },
    {
      "cell_type": "markdown",
      "metadata": {
        "colab_type": "text",
        "id": "3jKGcJ34cHik"
      },
      "source": [
        "As with **bean_type**, we convert **specific_bean_origin** from unicode to string:"
      ]
    },
    {
      "cell_type": "code",
      "execution_count": 0,
      "metadata": {
        "cellView": "both",
        "colab": {},
        "colab_type": "code",
        "id": "eq1hWIaDcMRu"
      },
      "outputs": [],
      "source": [
        "# Cast specific_bean_origin to string\n",
        "\n",
        "chocolate_reviews['specific_bean_origin'] = chocolate_reviews['specific_bean_origin'].astype(str)"
      ]
    },
    {
      "cell_type": "markdown",
      "metadata": {
        "colab_type": "text",
        "id": "eQdXM85IOqIS"
      },
      "source": [
        "### Broad bean origin\n",
        "\n",
        "We can now eliminate null values for **broad_bean_origin** (country) by replacing them with the value of **specific_bean_origin** (bean species)."
      ]
    },
    {
      "cell_type": "code",
      "execution_count": 0,
      "metadata": {
        "cellView": "both",
        "colab": {},
        "colab_type": "code",
        "id": "xsE_oaJBOvY4"
      },
      "outputs": [],
      "source": [
        "# Replace null-valued fields with the same value as for specific_bean_origin\n",
        "\n",
        "chocolate_reviews['broad_bean_origin'] = chocolate_reviews['broad_bean_origin'].fillna(chocolate_reviews['specific_bean_origin'])"
      ]
    },
    {
      "cell_type": "markdown",
      "metadata": {
        "colab_type": "text",
        "id": "DuBT_4ndjs12"
      },
      "source": [
        "Convert **broad_bean_origin** from unicode to string:"
      ]
    },
    {
      "cell_type": "markdown",
      "metadata": {
        "colab_type": "text",
        "id": "ilaFnsNzO77A"
      },
      "source": [
        "Also, by inspecting some of the values for this field, we see that there are some more misspellings and abbreviations referring to the same location:"
      ]
    },
    {
      "cell_type": "code",
      "execution_count": 0,
      "metadata": {
        "cellView": "both",
        "colab": {},
        "colab_type": "code",
        "id": "X4e8opicbXgD"
      },
      "outputs": [],
      "source": [
        "# Print out list of locations/values for broad_bean_origin\n",
        "\n",
        "chocolate_reviews['broad_bean_origin'].sort_values().unique()"
      ]
    },
    {
      "cell_type": "markdown",
      "metadata": {
        "colab_type": "text",
        "id": "5Yh0iTmyPRmO"
      },
      "source": [
        "Let's process this field so that we have the same value designate a unique location."
      ]
    },
    {
      "cell_type": "code",
      "execution_count": 0,
      "metadata": {
        "cellView": "both",
        "colab": {},
        "colab_type": "code",
        "id": "lTrDeRBhPUdy"
      },
      "outputs": [],
      "source": [
        "# Clean up spelling mistakes and deal with abbreviations\n",
        "\n",
        "chocolate_reviews['broad_bean_origin'] = chocolate_reviews['broad_bean_origin'].str.replace('.', '').apply(cleanup_spelling_abbrev)"
      ]
    },
    {
      "cell_type": "markdown",
      "metadata": {
        "colab_type": "text",
        "id": "kb42F1RHeOfN"
      },
      "source": [
        "Finally, we review some examples to check that our fixes have been applied."
      ]
    },
    {
      "cell_type": "code",
      "execution_count": 0,
      "metadata": {
        "cellView": "both",
        "colab": {},
        "colab_type": "code",
        "id": "4pyTMDaneWCZ"
      },
      "outputs": [],
      "source": [
        "# Print out the first 100 entries\n",
        "\n",
        "chocolate_reviews.head(100)"
      ]
    },
    {
      "cell_type": "markdown",
      "metadata": {
        "colab_type": "text",
        "id": "cerK9WmcCATF"
      },
      "source": [
        "## 6. Some basic statistics\n",
        "\n",
        "Now that we've dealt with some of the more pressing data issues, we can look at some summary statistics to describe our data.\n",
        "\n",
        "Some helpful statistics include:\n",
        "\n",
        "*   **count**: number of non-null values\n",
        "*   **unique**: number of unique (distinct) values\n",
        "*   **min**, **max**: minimum and maximum values\n",
        "*   **mean**: sum of values divided by the number of values\n",
        "*   **median**: arithmetic median (50% quantile) of values; value that divides the list in half, falls at the midpoint of the distribution\n",
        "*   **variance**: expectation of squared deviation of a random value from its mean; sum of squared deviation from the mean divide by *n*-1, where *n* is the number of data values; also known as mean-squared error\n",
        "*   **standard deviation**: measure used to quantify the amount of variation or dispersion of a set of values; equal to square root of variance\n",
        "*   **percentiles**: measure indicating the value below which a given percentage of observations in a group fall; also known as quantile\n",
        "\n",
        "\n",
        "Let's compute some basic statistics on our dataset:"
      ]
    },
    {
      "cell_type": "code",
      "execution_count": 0,
      "metadata": {
        "cellView": "form",
        "colab": {},
        "colab_type": "code",
        "id": "X8-0Rg8bQT_K"
      },
      "outputs": [],
      "source": [
        "#@title Summary statistics for all columns\n",
        "chocolate_reviews.describe(include='all')"
      ]
    },
    {
      "cell_type": "markdown",
      "metadata": {
        "colab_type": "text",
        "id": "eoIaYlQaQiKV"
      },
      "source": [
        "As we can tell from the output, some of these statistics apply only to numeric fields, which is why we end up with `NaN` (Not a Number) values for string fields."
      ]
    },
    {
      "cell_type": "markdown",
      "metadata": {
        "colab_type": "text",
        "id": "BDhOWlWQQzza"
      },
      "source": [
        "## 7. Visualizing the data\n",
        "\n",
        "We can now dig deeper and visualize some data distributions for various columns.\n",
        "\n",
        "We start by plotting some some simple univariate (single variable) distributions: ratings and cocoa percentage across chocolate bars. Histograms are helpful for such visualizations."
      ]
    },
    {
      "cell_type": "code",
      "execution_count": 0,
      "metadata": {
        "cellView": "both",
        "colab": {},
        "colab_type": "code",
        "id": "qtY5jUiJYA0k"
      },
      "outputs": [],
      "source": [
        "# Ratings distribution\n",
        "\n",
        "sns.distplot(chocolate_reviews['rating'])"
      ]
    },
    {
      "cell_type": "markdown",
      "metadata": {
        "colab_type": "text",
        "id": "AiEPl4vr15RZ"
      },
      "source": [
        "This plot indicates that the majority of chocolate bars reviewed in the Flavors of Cocoa database tend to have a rating between 2.5 and 4. Can you identify the distribution here?"
      ]
    },
    {
      "cell_type": "code",
      "execution_count": 0,
      "metadata": {
        "cellView": "both",
        "colab": {},
        "colab_type": "code",
        "id": "asDNcfdrXw-5"
      },
      "outputs": [],
      "source": [
        "# Cocoa percentage distribution\n",
        "\n",
        "sns.distplot(chocolate_reviews['cocoa_percent'])"
      ]
    },
    {
      "cell_type": "markdown",
      "metadata": {
        "colab_type": "text",
        "id": "9bQCTf0nz0ek"
      },
      "source": [
        "As we can tell from this plot, a very large proportion of chocolate bars rated have around 70% cocoa. We may want to ask whether this sample is representative of chocolate bars on the market in general, or whether reviewers favor such bars because they expect them to be more enjoyable. (i.e. Is our sample representative of the population?)"
      ]
    },
    {
      "cell_type": "markdown",
      "metadata": {
        "colab_type": "text",
        "id": "G0e6LcTBhTZN"
      },
      "source": [
        "### Rating distributions by chocolate bar attributes\n",
        "\n",
        "We can then plot ratings distributions by bean type, bean origin or maker country origin.\n",
        "\n",
        "In these examples, we use box plots (a.k.a., box and whisker plots), which show the distribution across categories. These plots are informative as they display a five-number summary of a dataset, including its:\n",
        "\n",
        "1.   Minimum\n",
        "1.   First quartile (about 25% of the numbers in the dataset lie below it)\n",
        "1.   Median (splits the dataset in half)\n",
        "1.   Third quartile (about 75% of the numbers in the dataset lie below it)\n",
        "1.   Maximum\n",
        "\n"
      ]
    },
    {
      "cell_type": "code",
      "execution_count": 0,
      "metadata": {
        "cellView": "both",
        "colab": {},
        "colab_type": "code",
        "id": "3eCG0Z6RiIbz"
      },
      "outputs": [],
      "source": [
        "# By bean type\n",
        "\n",
        "fig, ax = plt.subplots(figsize=[6, 16])\n",
        "sns.boxplot(\n",
        "    data=chocolate_reviews,\n",
        "    y='bean_type',\n",
        "    x='rating',\n",
        "    order = sorted(chocolate_reviews.bean_type.unique()),\n",
        ")\n",
        "ax.set_title('Ratings distribution by bean_type')"
      ]
    },
    {
      "cell_type": "code",
      "execution_count": 0,
      "metadata": {
        "cellView": "both",
        "colab": {},
        "colab_type": "code",
        "id": "_W6Ggd8Og-n4"
      },
      "outputs": [],
      "source": [
        "# By bean origin\n",
        "\n",
        "fig, ax = plt.subplots(figsize=[6, 24])\n",
        "sns.boxplot(\n",
        "    data=chocolate_reviews,\n",
        "    y='broad_bean_origin',\n",
        "    x='rating',\n",
        "    order = sorted(chocolate_reviews.broad_bean_origin.unique()),\n",
        ")\n",
        "ax.set_title('Ratings distribution by bean origin; note: this includes blended bars')"
      ]
    },
    {
      "cell_type": "code",
      "execution_count": 0,
      "metadata": {
        "cellView": "both",
        "colab": {},
        "colab_type": "code",
        "id": "gTpubYvHh7_s"
      },
      "outputs": [],
      "source": [
        "# By maker location\n",
        "\n",
        "fig, ax = plt.subplots(figsize=[6, 16])\n",
        "sns.boxplot(\n",
        "    data=chocolate_reviews,\n",
        "    y='maker_location',\n",
        "    x='rating',\n",
        "    order = sorted(chocolate_reviews.maker_location.unique()),\n",
        ")\n",
        "ax.set_title('Ratings distribution by maker location')"
      ]
    },
    {
      "cell_type": "markdown",
      "metadata": {
        "colab_type": "text",
        "id": "nX1FRNPXxjGE"
      },
      "source": [
        "### Alternate plot types"
      ]
    },
    {
      "cell_type": "markdown",
      "metadata": {
        "colab_type": "text",
        "id": "WqWVumCjszgu"
      },
      "source": [
        "Alternatively, we can use a swarm plot to display the data. The swarm plot is a generalization of a scatterplot in which one variable is categorical, and each scatterplot point is placed on the categorical axis using an algorithm that avoids overlapping points. A swarm plot may be a good option when wanting to see the distribution of individual values. However, this type of plot may not be as helpful when working with a very large dataset, as individual points may be harder to see."
      ]
    },
    {
      "cell_type": "code",
      "execution_count": 0,
      "metadata": {
        "cellView": "both",
        "colab": {},
        "colab_type": "code",
        "id": "pyr0aF21kJiT"
      },
      "outputs": [],
      "source": [
        "# By maker_location: swarm plot\n",
        "\n",
        "fig, ax = plt.subplots(figsize=[6, 16])\n",
        "sns.swarmplot(\n",
        "    x=\"rating\",\n",
        "    y=\"maker_location\",\n",
        "    order = sorted(chocolate_reviews.maker_location.unique()),\n",
        "    data=chocolate_reviews);\n",
        "ax.set_title('Ratings distribution by maker_location')"
      ]
    },
    {
      "cell_type": "markdown",
      "metadata": {
        "colab_type": "text",
        "id": "mi-eVwjFtjk8"
      },
      "source": [
        "Another helpful type of plot for displaying categorical values' distribution is a violin plot, which combines a boxplot with a [kernel density estimate](https://en.wikipedia.org/wiki/Kernel_density_estimation)."
      ]
    },
    {
      "cell_type": "code",
      "execution_count": 0,
      "metadata": {
        "cellView": "both",
        "colab": {},
        "colab_type": "code",
        "id": "TZN49zm2tuCw"
      },
      "outputs": [],
      "source": [
        "# By maker_location: violin plot\n",
        "\n",
        "fig, ax = plt.subplots(figsize=[6, 24])\n",
        "sns.violinplot(\n",
        "    x=\"rating\",\n",
        "    y=\"maker_location\",\n",
        "    order = sorted(chocolate_reviews.maker_location.unique()),\n",
        "    data=chocolate_reviews);"
      ]
    },
    {
      "cell_type": "markdown",
      "metadata": {
        "colab_type": "text",
        "id": "jWQm1UXbo38l"
      },
      "source": [
        "## 8. Examining characteristics of top rated chocolate bars\n",
        "\n",
        "Now that we've looked at our entire sample, we may wish to examine the properties of top rated chocolate bars. Here are some questions we may wish to ask:\n",
        "\n",
        "*   Which makers have the highest average rating on chocolate bars they've produced?\n",
        "*   Where are these markers located?\n",
        "*   What are the bean types (or blends) used in top chocolate bars?\n",
        "*   What are the bean origins of top rated chocolate bars?\n",
        "\n"
      ]
    },
    {
      "cell_type": "code",
      "execution_count": 0,
      "metadata": {
        "cellView": "both",
        "colab": {},
        "colab_type": "code",
        "id": "VftXEGoio-NW"
      },
      "outputs": [],
      "source": [
        "# Show top 10 rated maker locations\n",
        "\n",
        "chocolate_reviews.groupby('maker_location')[['rating']].mean().sort_values(by='rating', ascending=False).head(10)"
      ]
    },
    {
      "cell_type": "code",
      "execution_count": 0,
      "metadata": {
        "cellView": "both",
        "colab": {},
        "colab_type": "code",
        "id": "gMEE7TBPrYwE"
      },
      "outputs": [],
      "source": [
        "# Show top 10 rated broad bean origins\n",
        "\n",
        "chocolate_reviews.groupby('broad_bean_origin')[['rating']].mean().sort_values(by='rating', ascending=False).head(10)"
      ]
    },
    {
      "cell_type": "code",
      "execution_count": 0,
      "metadata": {
        "cellView": "both",
        "colab": {},
        "colab_type": "code",
        "id": "b2qVb-oSsc-P"
      },
      "outputs": [],
      "source": [
        "# Show top 10 rated specific bean origins\n",
        "\n",
        "chocolate_reviews.groupby('specific_bean_origin')[['rating']].mean().sort_values(by='rating', ascending=False).head(10)"
      ]
    },
    {
      "cell_type": "code",
      "execution_count": 0,
      "metadata": {
        "cellView": "both",
        "colab": {},
        "colab_type": "code",
        "id": "5ScA0a6Fsa1G"
      },
      "outputs": [],
      "source": [
        "# Show top 10 rated bean types\n",
        "\n",
        "chocolate_reviews.groupby('bean_type')[['rating']].mean().sort_values(by='rating', ascending=False).head(10)"
      ]
    },
    {
      "cell_type": "code",
      "execution_count": 0,
      "metadata": {
        "cellView": "both",
        "colab": {},
        "colab_type": "code",
        "id": "JrIYH5E-4K3o"
      },
      "outputs": [],
      "source": [
        "# Show top 10 rated makers\n",
        "\n",
        "chocolate_reviews.groupby('maker')[['rating']].mean().sort_values(by='rating', ascending=False).head(10)"
      ]
    },
    {
      "cell_type": "markdown",
      "metadata": {
        "colab_type": "text",
        "id": "o3MXAS1jB3DM"
      },
      "source": [
        "## 9. Mapping chocolate bars across the world\n",
        "\n",
        "Where do the cocoa beans used in top rated chocolate bars tend to come from? Where are the chocolate bar makers with the highest average chocolate bar rating located?\n",
        "\n",
        "For each of these questions, we'd like to plot a map of chocolate bars across the world."
      ]
    },
    {
      "cell_type": "markdown",
      "metadata": {
        "colab_type": "text",
        "id": "bmbFg1B8C1cT"
      },
      "source": [
        "Before we can do this, however, we need to do a bit more work. We do have the cocoa beans' country of origin information (**broad_bean_origin**), but we do not have geographic information needed for the plot, such as longitude and latitude of the countries.\n",
        "\n",
        "Luckily, this geographic information is available in another table on developer.google.com! The [dataset Publishing Language (DSPL) Countries table](https://developers.google.com/public-data/docs/canonical/countries_csv) can be joined with our chocolate reviews table, using the country name as the key.\n",
        "\n",
        "Let get the dataset by [opening the countries lat long csv](https://storage.googleapis.com/amli/public/countries_lat_long_info.csv) file.\n",
        "\n",
        "  * Download and save a copy on your computer.\n",
        "  * Upload the file into the colab runtime\n",
        "    * Click on the __Choose Files__ button to specify the name of the file to be uploaded\n",
        "  * Using Pandas module to read the dataset into a Pandas DataFrame.\n",
        "\n"
      ]
    },
    {
      "cell_type": "code",
      "execution_count": 0,
      "metadata": {
        "cellView": "both",
        "colab": {},
        "colab_type": "code",
        "id": "bsrg_y3h7y8y"
      },
      "outputs": [],
      "source": [
        "# Upload the file from your computer to the colab runtime\n",
        "\n",
        "from google.colab import files\n",
        "\n",
        "uploaded = files.upload()\n",
        "\n",
        "for fn in uploaded.keys():\n",
        "  print('User uploaded file \"{name}\" with length {length} bytes'.format(\n",
        "      name=fn, length=len(uploaded[fn])))\n",
        "\n",
        "# Read the dataset into a Pandas DataFrame\n",
        "\n",
        "dataset_filename = \"./countries_lat_long_info.csv\"\n",
        "\n",
        "countries_info = pd.read_csv(dataset_filename, encoding='latin-1')"
      ]
    },
    {
      "cell_type": "code",
      "execution_count": 0,
      "metadata": {
        "cellView": "both",
        "colab": {},
        "colab_type": "code",
        "id": "SKHjdgcoDoru"
      },
      "outputs": [],
      "source": [
        "# Inspect a few examples\n",
        "\n",
        "countries_info.head()"
      ]
    },
    {
      "cell_type": "markdown",
      "metadata": {
        "colab_type": "text",
        "id": "8q6FJOk-D49f"
      },
      "source": [
        "### Maker location\n",
        "\n",
        "We can then look at chocolate maker locations as well:"
      ]
    },
    {
      "cell_type": "code",
      "execution_count": 0,
      "metadata": {
        "cellView": "both",
        "colab": {},
        "colab_type": "code",
        "id": "FPa6tpTW9tvu"
      },
      "outputs": [],
      "source": [
        "# Join the chocolate review and geographic information tables on maker country name\n",
        "\n",
        "mappable_ratings = pd.merge(chocolate_reviews, countries_info, left_on='maker_location', right_on='name')"
      ]
    },
    {
      "cell_type": "markdown",
      "metadata": {
        "colab_type": "text",
        "id": "wlsxI48zHb7X"
      },
      "source": [
        "We're now ready to plot our map of chocolate bars across the world!"
      ]
    },
    {
      "cell_type": "code",
      "execution_count": 0,
      "metadata": {
        "cellView": "both",
        "colab": {},
        "colab_type": "code",
        "id": "8uo1e8mdELmx"
      },
      "outputs": [],
      "source": [
        "# Draw a scatter plot to visualize average chocolate bar ratings by maker location\n",
        "\n",
        "alt.Chart(mappable_ratings).mark_point().encode(\n",
        "    x='longitude',\n",
        "    y='latitude',\n",
        "    size='rating',\n",
        "    tooltip=['broad_bean_origin', 'maker', 'cocoa_percent', 'rating', 'specific_bean_origin', 'country', 'maker_location', 'name', 'bean_type', 'longitude', 'latitude']\n",
        ").interactive()"
      ]
    },
    {
      "cell_type": "markdown",
      "metadata": {
        "colab_type": "text",
        "id": "8B5uTpojEZtX"
      },
      "source": [
        "**Observation**\n",
        "\n",
        "Do you notice a pattern here? A map of South America is emerging, as well as clusters of ratings in other parts of the world!\n",
        "\n",
        "\n",
        "**Note**: This scatter plot is interactive. Hover over the bubbles to see details about that point on the map. Here's an example:\n",
        "\n",
        "![map_hover](https://storage.googleapis.com/amli/public/south_america_map.png)\n",
        "\n",
        "You can also grab the \"map\" and move it up/down/left/right if needed."
      ]
    },
    {
      "cell_type": "markdown",
      "metadata": {
        "colab_type": "text",
        "id": "aoyPU7QmGvHl"
      },
      "source": [
        "### Bean origin"
      ]
    },
    {
      "cell_type": "code",
      "execution_count": 0,
      "metadata": {
        "cellView": "both",
        "colab": {},
        "colab_type": "code",
        "id": "hq52dfwwAbE4"
      },
      "outputs": [],
      "source": [
        "# Join the chocolate review and geographic information tables on bean country of origin\n",
        "\n",
        "mappable_ratings_origin = pd.merge(chocolate_reviews, countries_info, left_on='broad_bean_origin', right_on='name')"
      ]
    },
    {
      "cell_type": "code",
      "execution_count": 0,
      "metadata": {
        "cellView": "both",
        "colab": {},
        "colab_type": "code",
        "id": "Ub9vaR4cBHXz"
      },
      "outputs": [],
      "source": [
        "# Draw a scatter plot to visualize average chocolate bar ratings by bean country of origin\n",
        "\n",
        "alt.Chart(mappable_ratings_origin).mark_point().encode(\n",
        "    x='longitude',\n",
        "    y='latitude',\n",
        "    size='rating',\n",
        "    tooltip=['broad_bean_origin', 'maker', 'cocoa_percent', 'rating', 'specific_bean_origin', 'country', 'maker_location', 'name', 'bean_type', 'longitude', 'latitude']\n",
        ").interactive()"
      ]
    },
    {
      "cell_type": "markdown",
      "metadata": {
        "colab_type": "text",
        "id": "CAPYkS8PHOth"
      },
      "source": [
        "**Observation**\n",
        "\n",
        "Just as in our earlier scatter plot, some map properties emerge here as well."
      ]
    },
    {
      "cell_type": "markdown",
      "metadata": {
        "colab_type": "text",
        "id": "abK4XMR6CCzC"
      },
      "source": [
        "## 10. Looking for correlations\n",
        "\n",
        "Now that we've looked at each field in the dataset, computed some basic statistics and plotted distributions, let's check whether a chocolate bar's features may be related to a high rating.\n",
        "\n",
        "We can start by creating a simple heatmap for all numeric features in our dataset:"
      ]
    },
    {
      "cell_type": "code",
      "execution_count": 0,
      "metadata": {
        "cellView": "both",
        "colab": {},
        "colab_type": "code",
        "id": "ODTM-wVLokjX"
      },
      "outputs": [],
      "source": [
        "# Show heatmap\n",
        "\n",
        "f, ax = plt.subplots(figsize=(9, 6))\n",
        "sns.heatmap(chocolate_reviews.corr(), cmap=\"Blues\", annot=True, ax=ax)"
      ]
    },
    {
      "cell_type": "markdown",
      "metadata": {
        "colab_type": "text",
        "id": "Q9TKbXSKpOvk"
      },
      "source": [
        "Unfortunately, this heatmap seems to tell us only that **reference_number** and **review_date** are highly correlated. This makes sense, because a higher reference number value indicates a more recent review, but this insight does not tell us anything important. Furthermore, the heatmap does not provide any insights on what makes a highly-rated chocolate bar. We see only that **cocoa_percent** is likely not a strong indicator of rating.\n",
        "\n",
        "Let's look at our other features instead. To plot a full heatmap for all features, we'll have to do a little more work. Most of the other fields of interest (e.g., **bean_type**, **broad_bean_origin**, **specific_bean_origin**, **maker, maker_location**) are all string objects, so we'll need to convert them to numeric values. Since they are categorical values, we can change their encoding so they are represented as integers."
      ]
    },
    {
      "cell_type": "code",
      "execution_count": 0,
      "metadata": {
        "cellView": "both",
        "colab": {},
        "colab_type": "code",
        "id": "RoeU1lsOrJeF"
      },
      "outputs": [],
      "source": [
        "# Convert string objects to categories\n",
        "\n",
        "chocolate_reviews['bean_type'] = chocolate_reviews['bean_type'].astype('category')\n",
        "chocolate_reviews['broad_bean_origin'] = chocolate_reviews['broad_bean_origin'].astype('category')\n",
        "chocolate_reviews['specific_bean_origin'] = chocolate_reviews['specific_bean_origin'].astype('category')\n",
        "chocolate_reviews['maker_location'] = chocolate_reviews['maker_location'].astype('category')\n",
        "chocolate_reviews['maker'] = chocolate_reviews['maker'].astype('category')\n",
        "chocolate_reviews.dtypes"
      ]
    },
    {
      "cell_type": "markdown",
      "metadata": {
        "colab_type": "text",
        "id": "GSGdDv0usl0Z"
      },
      "source": [
        "We can now try to display our heatmap again:"
      ]
    },
    {
      "cell_type": "code",
      "execution_count": 0,
      "metadata": {
        "cellView": "form",
        "colab": {},
        "colab_type": "code",
        "id": "ZTIplY3mr6ua"
      },
      "outputs": [],
      "source": [
        "#@title Convert the categories to numeric codes\n",
        "cat_columns = chocolate_reviews.select_dtypes(['category']).columns\n",
        "chocolate_reviews[cat_columns] = chocolate_reviews[cat_columns].apply(lambda x: x.cat.codes)"
      ]
    },
    {
      "cell_type": "code",
      "execution_count": 0,
      "metadata": {
        "cellView": "both",
        "colab": {},
        "colab_type": "code",
        "id": "-eldgHwRsi-y"
      },
      "outputs": [],
      "source": [
        "# Show heatmap\n",
        "\n",
        "f, ax = plt.subplots(figsize=(9, 6))\n",
        "sns.heatmap(chocolate_reviews.corr(), cmap=\"Blues\", annot=True, ax=ax)"
      ]
    },
    {
      "cell_type": "markdown",
      "metadata": {
        "colab_type": "text",
        "id": "ancln2pVu3i7"
      },
      "source": [
        "**Observations**\n",
        "\n",
        "We can now see the other features, but none of them individually seems to be strongly correlated with the rating. In fact, the only notable observation is that **rating** is inversely correlated with the value of **cocoa_percent** at -0.16, which is still not that strong an indicator. However, this result is not entirely surprising if we look back at some of our earlier plots!\n",
        "\n",
        "In particular, recall the chocolate bar distribution by **cocoa_percent**:"
      ]
    },
    {
      "cell_type": "code",
      "execution_count": 0,
      "metadata": {
        "cellView": "both",
        "colab": {},
        "colab_type": "code",
        "id": "QxkYLPtYy-8C"
      },
      "outputs": [],
      "source": [
        "# Cocoa percent distribution\n",
        "\n",
        "sns.distplot(chocolate_reviews['cocoa_percent'])"
      ]
    },
    {
      "cell_type": "markdown",
      "metadata": {
        "colab_type": "text",
        "id": "e849vur-zfI7"
      },
      "source": [
        "And the top chocolate bars' **cocoa_percent** values:"
      ]
    },
    {
      "cell_type": "code",
      "execution_count": 0,
      "metadata": {
        "cellView": "both",
        "colab": {},
        "colab_type": "code",
        "id": "0xux6Wh7zjRb"
      },
      "outputs": [],
      "source": [
        "# Get average rating per cocoa percentage category: 0 to 60, 61 to 70, 71 to 80, 81 to 90, 91 to 100\n",
        "\n",
        "cocoa_percent_bins = [0, 60, 70, 80, 90, 100]\n",
        "\n",
        "#Convert numeric cocoa percentage values to categories: (0-60], (60-70], (70-80], (80-90], (91-100]\n",
        "cocoa_percent_bins = [0, 60, 70, 80, 90, 100]\n",
        "cocoa_percent_cat_names = ['\u003c60', '70', '80', '90', '\u003e90']\n",
        "cocoa_percent_cats = pd.cut(chocolate_reviews['cocoa_percent'], cocoa_percent_bins, labels=cocoa_percent_cat_names)\n",
        "chocolate_reviews['cocoa_percent'] = cocoa_percent_cats\n",
        "\n",
        "# Get top rated cocoa percentage categories\n",
        "chocolate_reviews.groupby('cocoa_percent')[['rating']].mean().sort_values(by='rating', ascending=False).head(10)"
      ]
    },
    {
      "cell_type": "markdown",
      "metadata": {
        "colab_type": "text",
        "id": "0ab4q3FIzIei"
      },
      "source": [
        "As we can tell from the results above, on average, chocolate bars with ~70% cocoa are among the most frequently top rated. Furthermore, a majority of bars do seem to contain 70-80% cocoa:"
      ]
    },
    {
      "cell_type": "code",
      "execution_count": 0,
      "metadata": {
        "cellView": "both",
        "colab": {},
        "colab_type": "code",
        "id": "5KKtkECR1mV9"
      },
      "outputs": [],
      "source": [
        "# Plot cocoa_percent distribution\n",
        "\n",
        "f, ax = plt.subplots(figsize=(9, 6))\n",
        "sns.countplot(x=\"cocoa_percent\", data=chocolate_reviews, palette=\"Greens_d\");"
      ]
    },
    {
      "cell_type": "markdown",
      "metadata": {
        "colab_type": "text",
        "id": "WO24-dLj1V3W"
      },
      "source": [
        "**Observations**\n",
        "\n",
        "As we can tell from the average rating per **cocoa_percent** category, **rating** and **cocoa_percent** do not increase/decrease together. One hypothesis is that chocolate bar ratings increase with the cocoa content *up to a certain point* (80% +/- 10), after which a lower-content bar might be better than a very high content one."
      ]
    },
    {
      "cell_type": "markdown",
      "metadata": {
        "colab_type": "text",
        "id": "ERVp0ogjCFYK"
      },
      "source": [
        "## 11. Selecting promising features for a machine learning problem\n",
        "\n",
        "Now that we are a lot more familiar with our dataset, we can use some of these insights when training our first model to predict chocolate bar ratings based on bar attributes. We might end up having to apply further transformations to our data, but it's a good practice to start simple, e.g., with 1 or 2 features. Then build a model, evaluate it, and then keep iterating to improve it.\n",
        "\n",
        "Given our exploratory data analysis, which features do you think we should start with? Cocoa percentage and bean type may be good first guesses, along with geographic and maker information. Try experimenting with some combinations!"
      ]
    },
    {
      "cell_type": "markdown",
      "metadata": {
        "colab_type": "text",
        "id": "2zEnmhyUMNhZ"
      },
      "source": [
        "# Exercises"
      ]
    },
    {
      "cell_type": "markdown",
      "metadata": {
        "colab_type": "text",
        "id": "R8cgx5hQJ-OK"
      },
      "source": [
        "## Exercise 1: Challenge (Optional)"
      ]
    },
    {
      "cell_type": "markdown",
      "metadata": {
        "colab_type": "text",
        "id": "nBY9JKqHMSIy"
      },
      "source": [
        "Using the methods illustrated above...\n",
        "\n",
        "1. Find the \"College Scorecard\" dataset on the internet. The dataset is published in CSV format by the Department of Education and can be found at [data.gov](http://data.gov).\n",
        "1. Load the dataset into Colab.\n",
        "1. Examine the dataset.\n",
        "  1. How many rows are there?\n",
        "  1. How many columns are there?\n",
        "  1. Is there missing data?\n",
        "  1. Are are there columns that are similar that might can be combined into a less sparse column. For instance, if there are ACT and SAT score columns, can there be a single \"score\" column that has the normalized version of those scores?\n",
        "1. Create a map with the \"quality\" of schools per state. Color code these. You'll need to make up some measure of quality."
      ]
    },
    {
      "cell_type": "markdown",
      "metadata": {
        "colab_type": "text",
        "id": "xLzqTAJ2MTkK"
      },
      "source": [
        "### Student Solution"
      ]
    },
    {
      "cell_type": "code",
      "execution_count": 0,
      "metadata": {
        "colab": {},
        "colab_type": "code",
        "id": "VZpbmx2DMViY"
      },
      "outputs": [],
      "source": [
        "# Your code goes here"
      ]
    },
    {
      "cell_type": "markdown",
      "metadata": {
        "colab_type": "text",
        "id": "exercise-1-key-1"
      },
      "source": [
        "### Answer Key"
      ]
    },
    {
      "cell_type": "markdown",
      "metadata": {
        "colab_type": "text",
        "id": "Cr3LrsuJMdPI"
      },
      "source": [
        "**Solution**"
      ]
    },
    {
      "cell_type": "code",
      "execution_count": 0,
      "metadata": {
        "colab": {},
        "colab_type": "code",
        "id": "9lRbM2cwMYgN"
      },
      "outputs": [],
      "source": [
        "# TODO"
      ]
    },
    {
      "cell_type": "markdown",
      "metadata": {
        "colab_type": "text",
        "id": "MoIBIp2WMZw_"
      },
      "source": [
        "**Validation**"
      ]
    },
    {
      "cell_type": "code",
      "execution_count": 0,
      "metadata": {
        "colab": {},
        "colab_type": "code",
        "id": "9JfnsTsMMcBp"
      },
      "outputs": [],
      "source": [
        "# TODO"
      ]
    }
  ],
  "metadata": {
    "colab": {
      "collapsed_sections": [
        "Lb1qJEfdlEFr",
        "copyright",
        "exercise-1-key-1"
      ],
      "name": "Data Preparation and Exploration",
      "private_outputs": true,
      "provenance": [],
      "toc_visible": true,
      "version": "0.3.2"
    },
    "kernelspec": {
      "display_name": "Python 3",
      "name": "python3"
    }
  },
  "nbformat": 4,
  "nbformat_minor": 0
}
