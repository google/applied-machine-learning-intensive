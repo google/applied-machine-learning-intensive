{
  "nbformat": 4,
  "nbformat_minor": 0,
  "metadata": {
    "colab": {
      "name": "KNN or K-Nearest-Neighbors",
      "version": "0.3.2",
      "provenance": [],
      "private_outputs": true,
      "collapsed_sections": [
        "dAO2bb0bDpI-",
        "6zNepVNvvab1",
        "exercise-12-key-1",
        "KE7Z99e5uQuq",
        "6od8OO0NvnUp"
      ],
      "toc_visible": true
    },
    "language_info": {
      "codemirror_mode": {
        "name": "ipython",
        "version": 3
      },
      "file_extension": ".py",
      "mimetype": "text/x-python",
      "name": "python",
      "nbconvert_exporter": "python",
      "pygments_lexer": "ipython3",
      "version": "3.5.2"
    },
    "kernelspec": {
      "name": "python3",
      "display_name": "Python 3"
    }
  },
  "cells": [
    {
      "cell_type": "markdown",
      "metadata": {
        "id": "dAO2bb0bDpI-",
        "colab_type": "text"
      },
      "source": [
        "#### Copyright 2019 Google LLC."
      ]
    },
    {
      "cell_type": "code",
      "metadata": {
        "id": "iO30fGEDDrkO",
        "colab_type": "code",
        "colab": {}
      },
      "source": [
        "# Licensed under the Apache License, Version 2.0 (the \"License\");\n",
        "# you may not use this file except in compliance with the License.\n",
        "# You may obtain a copy of the License at\n",
        "#\n",
        "# https://www.apache.org/licenses/LICENSE-2.0\n",
        "#\n",
        "# Unless required by applicable law or agreed to in writing, software\n",
        "# distributed under the License is distributed on an \"AS IS\" BASIS,\n",
        "# WITHOUT WARRANTIES OR CONDITIONS OF ANY KIND, either express or implied.\n",
        "# See the License for the specific language governing permissions and\n",
        "# limitations under the License."
      ],
      "execution_count": 0,
      "outputs": []
    },
    {
      "cell_type": "markdown",
      "metadata": {
        "deletable": true,
        "editable": true,
        "id": "LjFnI22EFDIo",
        "colab_type": "text"
      },
      "source": [
        "# KNN or K-Nearest-Neighbors"
      ]
    },
    {
      "cell_type": "markdown",
      "metadata": {
        "id": "vn1krl8WC4kC",
        "colab_type": "text"
      },
      "source": [
        "KNN is a simple concept: define some distance metric between the items in your dataset, and find the K closest items. You can then use those items to predict some property of a test item, by having them somehow \"vote\" on it."
      ]
    },
    {
      "cell_type": "markdown",
      "metadata": {
        "id": "067gNF7ACXUo",
        "colab_type": "text"
      },
      "source": [
        "## Overview"
      ]
    },
    {
      "cell_type": "markdown",
      "metadata": {
        "id": "uFg1cuBPsdZa",
        "colab_type": "text"
      },
      "source": [
        "### Learning Objectives\n",
        "\n",
        "* Understand the basic concept of KNN \n",
        "* Use KNN to solve a classification problem"
      ]
    },
    {
      "cell_type": "markdown",
      "metadata": {
        "id": "FRQ2wWBlssae",
        "colab_type": "text"
      },
      "source": [
        "### Prerequisites\n",
        "\n",
        "* Introduction to Colab\n",
        "* Intermediate Python\n",
        "* Introduction to Pandas\n",
        "* Visualizations"
      ]
    },
    {
      "cell_type": "markdown",
      "metadata": {
        "id": "fi_QrEMcs3IA",
        "colab_type": "text"
      },
      "source": [
        "### Estimated Duration\n",
        "\n",
        "60 minutes"
      ]
    },
    {
      "cell_type": "markdown",
      "metadata": {
        "id": "_XQ-r3FOs6gc",
        "colab_type": "text"
      },
      "source": [
        "### Grading Criteria\n",
        "\n",
        "Each exercise is worth 3 points. The rubric for calculating those points is:\n",
        "\n",
        "| Points | Description |\n",
        "|--------|-------------|\n",
        "| 0      | No attempt at exercise |\n",
        "| 1      | Attempted exercise, but code does not run |\n",
        "| 2      | Attempted exercise, code runs, but produces incorrect answer |\n",
        "| 3      | Exercise completed successfully |\n"
      ]
    },
    {
      "cell_type": "markdown",
      "metadata": {
        "id": "6DucpmlICqfV",
        "colab_type": "text"
      },
      "source": [
        "## K-Nearest-Neighbors for Classification\n"
      ]
    },
    {
      "cell_type": "markdown",
      "metadata": {
        "id": "zgl3IeAgEUEr",
        "colab_type": "text"
      },
      "source": [
        "In this example, we will use KNN to predict whether or not a person will be diagnosed with diabetes. You can download the dataset [here](https://www.kaggle.com/uciml/pima-indians-diabetes-database/downloads/pima-indians-diabetes-database.zip/1). Save it as diabetes.csv and upload the file into the runtime. "
      ]
    },
    {
      "cell_type": "code",
      "metadata": {
        "id": "F5-QyBteDws3",
        "colab_type": "code",
        "colab": {}
      },
      "source": [
        "import pandas as pd \n",
        "\n",
        "diabetes = pd.read_csv('./diabetes.csv')\n",
        "diabetes.head()"
      ],
      "execution_count": 0,
      "outputs": []
    },
    {
      "cell_type": "code",
      "metadata": {
        "id": "D_ysgP9sEHyv",
        "colab_type": "code",
        "colab": {}
      },
      "source": [
        "print(\"dimension of diabetes data: {}\".format(diabetes.shape))"
      ],
      "execution_count": 0,
      "outputs": []
    },
    {
      "cell_type": "code",
      "metadata": {
        "id": "xQMsjKviF0Tx",
        "colab_type": "code",
        "colab": {}
      },
      "source": [
        "list(diabetes)"
      ],
      "execution_count": 0,
      "outputs": []
    },
    {
      "cell_type": "markdown",
      "metadata": {
        "id": "6CB2QMgVEsag",
        "colab_type": "text"
      },
      "source": [
        "In this example, our features are 'Pregnancies',\n",
        " 'Glucose',\n",
        " 'BloodPressure',\n",
        " 'SkinThickness',\n",
        " 'Insulin',\n",
        " 'BMI',\n",
        " 'DiabetesPedigreeFunction', and \n",
        " 'Age.' Our target is \"Outcome\" which is currently encoded with a 1 for a positive diabetes diagnosis and 0 for a negative diabetes diagnosis. "
      ]
    },
    {
      "cell_type": "code",
      "metadata": {
        "id": "F8zDRrH2E1sk",
        "colab_type": "code",
        "colab": {}
      },
      "source": [
        "print(diabetes.groupby('Outcome').size())"
      ],
      "execution_count": 0,
      "outputs": []
    },
    {
      "cell_type": "markdown",
      "metadata": {
        "id": "7YYpRLoVG9M0",
        "colab_type": "text"
      },
      "source": [
        "We notice that there are several 0's in the dataset. These are likely cases where the data simply wasn't collected or stored properly. We need to clean these up or they will have an incorrect affect on the outcome of our KNN."
      ]
    },
    {
      "cell_type": "code",
      "metadata": {
        "id": "ZaKRyuhXHdDT",
        "colab_type": "code",
        "colab": {}
      },
      "source": [
        "import numpy as np\n",
        "no_zero = ['Glucose', 'BloodPressure', 'SkinThickness', 'Insulin', 'BMI']\n",
        "\n",
        "for column in no_zero:\n",
        "  diabetes[column] = diabetes[column].replace(0,np.NaN)\n",
        "  mean = int(diabetes[column].mean(skipna=True))\n",
        "  diabetes[column] = diabetes[column].replace(np.NaN, mean)"
      ],
      "execution_count": 0,
      "outputs": []
    },
    {
      "cell_type": "markdown",
      "metadata": {
        "id": "yP_5N-vVFwcZ",
        "colab_type": "text"
      },
      "source": [
        "We create a training and testing sets, remembering to separate 'Outcome' as our target value y. "
      ]
    },
    {
      "cell_type": "code",
      "metadata": {
        "id": "8sxRClkUI_80",
        "colab_type": "code",
        "colab": {}
      },
      "source": [
        "from sklearn.model_selection import train_test_split\n",
        "\n",
        "X = diabetes.iloc[:,0:8]\n",
        "y = diabetes.iloc[:,8]\n",
        "X_train, X_test, y_train, y_test = train_test_split(X, y, test_size = 0.2)"
      ],
      "execution_count": 0,
      "outputs": []
    },
    {
      "cell_type": "markdown",
      "metadata": {
        "id": "wNmQ-WJSG8U1",
        "colab_type": "text"
      },
      "source": [
        "Now we scale our features using StandardScaler. "
      ]
    },
    {
      "cell_type": "code",
      "metadata": {
        "id": "kUweJhpqJ7-J",
        "colab_type": "code",
        "colab": {}
      },
      "source": [
        "from sklearn.preprocessing import StandardScaler\n",
        "\n",
        "sc_X = StandardScaler()\n",
        "X_train = sc_X.fit_transform(X_train)\n",
        "X_test= sc_X.transform(X_test)"
      ],
      "execution_count": 0,
      "outputs": []
    },
    {
      "cell_type": "markdown",
      "metadata": {
        "id": "wzS68VfgKzs4",
        "colab_type": "text"
      },
      "source": [
        "Finally, we use the SciKit Learn KNN model. "
      ]
    },
    {
      "cell_type": "code",
      "metadata": {
        "id": "STqlJ4B6Kuzk",
        "colab_type": "code",
        "colab": {}
      },
      "source": [
        "from sklearn.neighbors import KNeighborsClassifier\n",
        "\n",
        "n_neighbors = 14\n",
        "\n",
        "KNN = KNeighborsClassifier(n_neighbors = n_neighbors, p=2, metric = 'euclidean')\n",
        "KNN.fit(X_train, y_train)\n",
        "\n",
        "y_pred = KNN.predict(X_test)"
      ],
      "execution_count": 0,
      "outputs": []
    },
    {
      "cell_type": "markdown",
      "metadata": {
        "id": "3JFuPHd0MlSo",
        "colab_type": "text"
      },
      "source": [
        "We now evaluate our model. First let's look at the confusion matrix. "
      ]
    },
    {
      "cell_type": "code",
      "metadata": {
        "id": "W6WbuXywMsT5",
        "colab_type": "code",
        "colab": {}
      },
      "source": [
        "from sklearn.metrics import confusion_matrix\n",
        "from sklearn.metrics import f1_score\n",
        "from sklearn.metrics import accuracy_score\n",
        "\n",
        "cm = confusion_matrix(y_test,y_pred)\n",
        "f1 = f1_score(y_test,y_pred)\n",
        "accuracy = accuracy_score(y_test,y_pred)\n",
        "\n",
        "\n",
        "print('The confusion matrix is', cm)\n",
        "print('The f1 score is', f1)\n",
        "print('The accuracy score is', accuracy)\n",
        "\n"
      ],
      "execution_count": 0,
      "outputs": []
    },
    {
      "cell_type": "markdown",
      "metadata": {
        "id": "a89atWiVOWGQ",
        "colab_type": "text"
      },
      "source": [
        "## K-Nearest-Neighbors for Regression"
      ]
    },
    {
      "cell_type": "markdown",
      "metadata": {
        "id": "NDXgoCAXxExG",
        "colab_type": "text"
      },
      "source": [
        "We can also use KNN for regression. In this example, we also define our own distance metric (as Euclidean distance is not well defined for these data) and write our own KNN function. \n",
        "\n",
        "Let's look at the MovieLens data which you can download [here](http://files.grouplens.org/datasets/movielens/ml-latest-small.zip) **. Once you download and unzip the file, please upload the ratings.csv and movies.csv files. \n",
        "\n",
        "\n",
        "---\n",
        "** MovieLens data is available in relation to the following paper:\n",
        "F. Maxwell Harper and Joseph A. Konstan. 2015. The MovieLens Datasets: History and Context. ACM Transactions on Interactive Intelligent Systems (TiiS) 5, 4: 19:1–19:19. https://doi.org/10.1145/2827872\n",
        "\n"
      ]
    },
    {
      "cell_type": "markdown",
      "metadata": {
        "id": "_oVdwx-o4hts",
        "colab_type": "text"
      },
      "source": [
        "We'll use KNN to guess the rating of a movie by looking at the 10 movies that are closest to it in terms of genres and popularity.\n",
        "\n",
        "To start, we'll load up every rating in the data set into a Pandas DataFrame:"
      ]
    },
    {
      "cell_type": "code",
      "metadata": {
        "deletable": true,
        "editable": true,
        "id": "fxzo6I1RFDIq",
        "colab_type": "code",
        "colab": {}
      },
      "source": [
        "import pandas as pd\n",
        "\n",
        "ratings = pd.read_csv('./ratings.csv')\n",
        "ratings.head()"
      ],
      "execution_count": 0,
      "outputs": []
    },
    {
      "cell_type": "markdown",
      "metadata": {
        "deletable": true,
        "editable": true,
        "id": "vaMWVgAuFDIw",
        "colab_type": "text"
      },
      "source": [
        "Now, we'll group everything by movie ID, and compute the total number of ratings (each movie's popularity) and the average rating for every movie."
      ]
    },
    {
      "cell_type": "code",
      "metadata": {
        "deletable": true,
        "editable": true,
        "id": "_ez_3B3lFDIx",
        "colab_type": "code",
        "colab": {}
      },
      "source": [
        "import numpy as np\n",
        "\n",
        "movieProperties = ratings.groupby('movieId').agg({'rating': [np.size, np.mean]})\n",
        "movieProperties.head()"
      ],
      "execution_count": 0,
      "outputs": []
    },
    {
      "cell_type": "markdown",
      "metadata": {
        "deletable": true,
        "editable": true,
        "id": "uDe77nJjFDI1",
        "colab_type": "text"
      },
      "source": [
        "The raw number of ratings isn't very useful for computing distances between movies, so we'll create a new DataFrame that contains the normalized number of ratings. So, a value of 0 means nobody rated it, and a value of 1 will mean it's the most popular movie there is."
      ]
    },
    {
      "cell_type": "code",
      "metadata": {
        "deletable": true,
        "editable": true,
        "id": "W1IsBi8gFDI2",
        "colab_type": "code",
        "colab": {}
      },
      "source": [
        "movieNumRatings = pd.DataFrame(movieProperties['rating']['size'])\n",
        "movieNormalizedNumRatings = movieNumRatings.apply(lambda x: (x - np.min(x)) / (np.max(x) - np.min(x)))\n",
        "movieNormalizedNumRatings.head()"
      ],
      "execution_count": 0,
      "outputs": []
    },
    {
      "cell_type": "markdown",
      "metadata": {
        "deletable": true,
        "editable": true,
        "id": "Mgy7PuTYFDI5",
        "colab_type": "text"
      },
      "source": [
        "Now, let's get the genre information from the movies.csv file. In the genres column, we see the list of genres for each movie separated by a '|'. Note that a movie may have more than one genre. \n",
        "\n",
        "First we read the file into a DataFrame. "
      ]
    },
    {
      "cell_type": "code",
      "metadata": {
        "id": "e0Il1YUZCu5N",
        "colab_type": "code",
        "colab": {}
      },
      "source": [
        "movies = pd.read_csv('./movies.csv')\n",
        "movies.head()"
      ],
      "execution_count": 0,
      "outputs": []
    },
    {
      "cell_type": "markdown",
      "metadata": {
        "id": "55Rl0TPgv6YD",
        "colab_type": "text"
      },
      "source": [
        "Now we split the genres column on the '|' and create a new DataFrame called movies_split. "
      ]
    },
    {
      "cell_type": "code",
      "metadata": {
        "id": "_J5xMDq7vr4W",
        "colab_type": "code",
        "colab": {}
      },
      "source": [
        "movies_split = movies.genres.str.split('|', expand=True)\n",
        "movies_split.head()"
      ],
      "execution_count": 0,
      "outputs": []
    },
    {
      "cell_type": "markdown",
      "metadata": {
        "id": "1xuTZEM4J9i5",
        "colab_type": "text"
      },
      "source": [
        "We now create a list of all the unique genres that appear in this DataFrame. It is called genres_list. "
      ]
    },
    {
      "cell_type": "code",
      "metadata": {
        "id": "OUPXs_XBwlw9",
        "colab_type": "code",
        "colab": {}
      },
      "source": [
        "genres = pd.unique(movies_split[[0,1,2,3,4,5,6,7,8,9]].values.ravel('K'))\n",
        "genres_list = list(genres)\n",
        "genres_list.remove(None)\n",
        "print(genres_list)\n",
        "print(len(genres_list))"
      ],
      "execution_count": 0,
      "outputs": []
    },
    {
      "cell_type": "markdown",
      "metadata": {
        "id": "LQDnShPNw6YT",
        "colab_type": "text"
      },
      "source": [
        "In the movies DataFrame, we want to recode the values of the genres column to be a list of twenty 0's and 1's that correspond to the values in genres_list (in the order they appear in genres_list). For example, if a movie has genres Adventure and Children, then we would like the element in the genres column to be: \\\n",
        "[1, 0, 0, 0, 0, 1, 0, 0, 0, 0, 0, 0, 0, 0, 0, 0, 0, 0, 0, 0]"
      ]
    },
    {
      "cell_type": "markdown",
      "metadata": {
        "id": "itN7X7X-yZ2G",
        "colab_type": "text"
      },
      "source": [
        "The function defined below iterates through a list of genres and compares the values to the elements of genres_list. It then returns an appropriate array of 0's and 1's as described above. "
      ]
    },
    {
      "cell_type": "code",
      "metadata": {
        "id": "jiC9efbJyYmk",
        "colab_type": "code",
        "colab": {}
      },
      "source": [
        "#Definition of the function f to create the array of 0's and 1's based on genres\n",
        "def f(mylist):\n",
        "  a = np.zeros(20).astype(int)\n",
        "  for i in mylist:\n",
        "    for j in range(20):\n",
        "      if i == genres_list[j]:\n",
        "        a[j] = 1\n",
        "  return a\n",
        "\n",
        "#Test that f works as expected on an example list \n",
        "print(f(['Adventure', 'Children']))"
      ],
      "execution_count": 0,
      "outputs": []
    },
    {
      "cell_type": "markdown",
      "metadata": {
        "id": "lfRuqHf6zjU5",
        "colab_type": "text"
      },
      "source": [
        "We split the genres column of the movies DataFrame to be a list (in preparation for applying the function, f)."
      ]
    },
    {
      "cell_type": "code",
      "metadata": {
        "id": "j8nMO-TxtKqP",
        "colab_type": "code",
        "colab": {}
      },
      "source": [
        "movies['genres'] = movies.genres.str.split('|')\n",
        "movies.head()"
      ],
      "execution_count": 0,
      "outputs": []
    },
    {
      "cell_type": "markdown",
      "metadata": {
        "id": "VyheaFd60-sr",
        "colab_type": "text"
      },
      "source": [
        "We apply the function f to the genres column to change the elements to arrays of 0's and 1's representing the genres. We also set the index to be the movieID. "
      ]
    },
    {
      "cell_type": "code",
      "metadata": {
        "colab_type": "code",
        "id": "ngyoL_vDuKG2",
        "colab": {}
      },
      "source": [
        "movies['genres'] = movies.genres.apply(f)\n",
        "movies = movies.set_index('movieId')\n",
        "movies.head()"
      ],
      "execution_count": 0,
      "outputs": []
    },
    {
      "cell_type": "code",
      "metadata": {
        "id": "_FtzJuGK3ChG",
        "colab_type": "code",
        "colab": {}
      },
      "source": [
        "df = pd.concat([movies, movieNormalizedNumRatings, movieProperties], axis=1)\n",
        "df.head()"
      ],
      "execution_count": 0,
      "outputs": []
    },
    {
      "cell_type": "markdown",
      "metadata": {
        "id": "WPlf-wAP81TA",
        "colab_type": "text"
      },
      "source": [
        "Convert the DataFrame to a dictionary, and check the first entry. "
      ]
    },
    {
      "cell_type": "code",
      "metadata": {
        "id": "_kVvF8Ms8B6z",
        "colab_type": "code",
        "colab": {}
      },
      "source": [
        "movieDict = df.T.to_dict('list')\n",
        "movieDict[1]"
      ],
      "execution_count": 0,
      "outputs": []
    },
    {
      "cell_type": "markdown",
      "metadata": {
        "deletable": true,
        "editable": true,
        "id": "KJNB_C6yFDJC",
        "colab_type": "text"
      },
      "source": [
        "Now let's define a function that computes the \"distance\" between two movies based on how similar their genres are, and how similar their popularity is. Just to make sure it works, we'll compute the distance between movie ID's 2 and 4:"
      ]
    },
    {
      "cell_type": "code",
      "metadata": {
        "deletable": true,
        "editable": true,
        "id": "aJ-SYL1qFDJC",
        "colab_type": "code",
        "colab": {}
      },
      "source": [
        "from scipy import spatial\n",
        "\n",
        "def ComputeDistance(a, b):\n",
        "    genresA = a[1]\n",
        "    genresB = b[1]\n",
        "    genreDistance = spatial.distance.cosine(genresA, genresB) #this will be 1 if there are no overlapping genres\n",
        "    #print('The genre distance is', genreDistance)\n",
        "    popularityA = a[2]\n",
        "    popularityB = b[2]\n",
        "    popularityDistance = abs(popularityA - popularityB)\n",
        "    #print('The popularity distance is', popularityDistance)\n",
        "    return genreDistance + popularityDistance\n",
        "    \n",
        "ComputeDistance(movieDict[2], movieDict[4])\n",
        "\n"
      ],
      "execution_count": 0,
      "outputs": []
    },
    {
      "cell_type": "markdown",
      "metadata": {
        "deletable": true,
        "editable": true,
        "id": "PykcDKS9FDJG",
        "colab_type": "text"
      },
      "source": [
        "Remember the higher the distance, the less similar the movies are. Let's check what movies 2 and 4 actually are - and confirm they're not really all that similar:"
      ]
    },
    {
      "cell_type": "code",
      "metadata": {
        "deletable": true,
        "editable": true,
        "id": "YdtviIH_FDJH",
        "colab_type": "code",
        "colab": {}
      },
      "source": [
        "print(movieDict[2])\n",
        "print(movieDict[4])\n"
      ],
      "execution_count": 0,
      "outputs": []
    },
    {
      "cell_type": "markdown",
      "metadata": {
        "deletable": true,
        "editable": true,
        "id": "MZeyQceHFDJK",
        "colab_type": "text"
      },
      "source": [
        "Now, we just need a little code to compute the distance between some given test movie (Toy Story, in this example) and all of the movies in our data set. When the sort those by distance, and print out the K nearest neighbors:"
      ]
    },
    {
      "cell_type": "code",
      "metadata": {
        "deletable": true,
        "editable": true,
        "id": "Lh8rhcoEFDJK",
        "colab_type": "code",
        "colab": {}
      },
      "source": [
        "import operator\n",
        "\n",
        "def getNeighbors(movieID, K):\n",
        "    distances = []\n",
        "    for movie in movieDict:\n",
        "        if (movie != movieID):\n",
        "            dist = ComputeDistance(movieDict[movieID], movieDict[movie])\n",
        "            distances.append((movie, dist))\n",
        "    distances.sort(key=operator.itemgetter(1))\n",
        "    neighbors = []\n",
        "    for x in range(K):\n",
        "        neighbors.append(distances[x][0])\n",
        "    return neighbors\n",
        "\n",
        "K = 10\n",
        "avgRating = 0\n",
        "neighbors = getNeighbors(1, K)\n",
        "for neighbor in neighbors:\n",
        "    avgRating += movieDict[neighbor][4]\n",
        "    print (movieDict[neighbor][0] + \" \" + str(movieDict[neighbor][4]))\n",
        "    \n",
        "avgRating /= K"
      ],
      "execution_count": 0,
      "outputs": []
    },
    {
      "cell_type": "markdown",
      "metadata": {
        "deletable": true,
        "editable": true,
        "id": "X6cLyDcpFDJO",
        "colab_type": "text"
      },
      "source": [
        "While we were at it, we computed the average rating of the 10 nearest neighbors to Toy Story:"
      ]
    },
    {
      "cell_type": "code",
      "metadata": {
        "deletable": true,
        "editable": true,
        "id": "Ap6ApVVaFDJO",
        "colab_type": "code",
        "colab": {}
      },
      "source": [
        "avgRating"
      ],
      "execution_count": 0,
      "outputs": []
    },
    {
      "cell_type": "markdown",
      "metadata": {
        "deletable": true,
        "editable": true,
        "id": "IxqjFl8lFDJS",
        "colab_type": "text"
      },
      "source": [
        "How does this compare to Toy Story's actual average rating?"
      ]
    },
    {
      "cell_type": "code",
      "metadata": {
        "deletable": true,
        "editable": true,
        "id": "NqQXZlaVFDJS",
        "colab_type": "code",
        "colab": {}
      },
      "source": [
        "movieDict[1]"
      ],
      "execution_count": 0,
      "outputs": []
    },
    {
      "cell_type": "markdown",
      "metadata": {
        "deletable": true,
        "editable": true,
        "id": "mN9imUY-FDJW",
        "colab_type": "text"
      },
      "source": [
        "Not too bad!\n"
      ]
    },
    {
      "cell_type": "markdown",
      "metadata": {
        "id": "Hrp2xsTMEbsG",
        "colab_type": "text"
      },
      "source": [
        "# Exercises"
      ]
    },
    {
      "cell_type": "markdown",
      "metadata": {
        "id": "JDQEcMhtOM6U",
        "colab_type": "text"
      },
      "source": [
        "## Exercise 1: K-Nearest-Neighbors for Classification\n"
      ]
    },
    {
      "cell_type": "markdown",
      "metadata": {
        "id": "85PL36PnOx0V",
        "colab_type": "text"
      },
      "source": [
        "Our choice of 14 for the number of neighbors was arbitrary - what effect do different values have on the results? Run some tests and explain what you find. "
      ]
    },
    {
      "cell_type": "markdown",
      "metadata": {
        "colab_type": "text",
        "id": "llT-wF3ovabr"
      },
      "source": [
        "### Student Solution"
      ]
    },
    {
      "cell_type": "markdown",
      "metadata": {
        "colab_type": "text",
        "id": "-BoHsSHFvabz"
      },
      "source": [
        "ANSWER = "
      ]
    },
    {
      "cell_type": "markdown",
      "metadata": {
        "colab_type": "text",
        "id": "6zNepVNvvab1"
      },
      "source": [
        "### Answer Key"
      ]
    },
    {
      "cell_type": "markdown",
      "metadata": {
        "colab_type": "text",
        "id": "7MnQnSHqvab3"
      },
      "source": [
        "**Solution**"
      ]
    },
    {
      "cell_type": "code",
      "metadata": {
        "colab_type": "code",
        "id": "vmT5-suXvab6",
        "colab": {}
      },
      "source": [
        "# TODO"
      ],
      "execution_count": 0,
      "outputs": []
    },
    {
      "cell_type": "markdown",
      "metadata": {
        "colab_type": "text",
        "id": "j4nEgEPuvacI"
      },
      "source": [
        "**Validation**"
      ]
    },
    {
      "cell_type": "code",
      "metadata": {
        "colab_type": "code",
        "id": "L4yJqjx_vacK",
        "colab": {}
      },
      "source": [
        "# TODO"
      ],
      "execution_count": 0,
      "outputs": []
    },
    {
      "cell_type": "markdown",
      "metadata": {
        "id": "0gyUkT3zPh6d",
        "colab_type": "text"
      },
      "source": [
        "## Exercise 2: K-Nearest-Neighbors for Classification\n"
      ]
    },
    {
      "cell_type": "markdown",
      "metadata": {
        "id": "nSo6AfjZPraU",
        "colab_type": "text"
      },
      "source": [
        "Create a plot of accuracy vs. n_neighbors (i.e. accuracy on the y-axis and n_neighbors on the x-axis). Let the number of neighbors (x-axis) range from 1 to 20.  Your plot should contain two lines. The first line should plot the model's training accuracy and the second line should show the model's testing accuracy. "
      ]
    },
    {
      "cell_type": "markdown",
      "metadata": {
        "colab_type": "text",
        "id": "mpxsRdBFb3E4"
      },
      "source": [
        "### Student Solution"
      ]
    },
    {
      "cell_type": "code",
      "metadata": {
        "colab_type": "code",
        "id": "6e7e-bCfj70d",
        "colab": {}
      },
      "source": [
        "# Your code goes here."
      ],
      "execution_count": 0,
      "outputs": []
    },
    {
      "cell_type": "markdown",
      "metadata": {
        "colab_type": "text",
        "id": "exercise-12-key-1"
      },
      "source": [
        "### Answer Key"
      ]
    },
    {
      "cell_type": "markdown",
      "metadata": {
        "colab_type": "text",
        "id": "exercise-12-solution-1"
      },
      "source": [
        "**Solution**"
      ]
    },
    {
      "cell_type": "code",
      "metadata": {
        "id": "UbxCDv0tFBWO",
        "colab_type": "code",
        "colab": {}
      },
      "source": [
        "from sklearn.model_selection import train_test_split\n",
        "\n",
        "X = diabetes.iloc[:,0:8]\n",
        "y = diabetes.iloc[:,8]\n",
        "X_train, X_test, y_train, y_test = train_test_split(X, y, test_size = 0.2)\n",
        "\n",
        "\n",
        "from sklearn.neighbors import KNeighborsClassifier\n",
        "training_accuracy = []\n",
        "test_accuracy = []\n",
        "# try n_neighbors from 1 to 20\n",
        "neighbors_settings = range(1, 20)\n",
        "for n_neighbors in neighbors_settings:\n",
        "    # build the model\n",
        "    KNN = KNeighborsClassifier(n_neighbors=n_neighbors)\n",
        "    KNN.fit(X_train, y_train)\n",
        "    # record training set accuracy\n",
        "    training_accuracy.append(KNN.score(X_train, y_train))\n",
        "    # record test set accuracy\n",
        "    test_accuracy.append(KNN.score(X_test, y_test))\n",
        "    \n",
        "import matplotlib.pyplot as plt\n",
        "   \n",
        "plt.plot(neighbors_settings, training_accuracy, label=\"training accuracy\")\n",
        "plt.plot(neighbors_settings, test_accuracy, label=\"test accuracy\")\n",
        "plt.ylabel(\"Accuracy\")\n",
        "plt.xlabel(\"n_neighbors\")\n",
        "plt.legend()\n",
        "plt.savefig('knn_compare_model')"
      ],
      "execution_count": 0,
      "outputs": []
    },
    {
      "cell_type": "markdown",
      "metadata": {
        "colab_type": "text",
        "id": "qNgaMzV-b6wn"
      },
      "source": [
        "**Validation**"
      ]
    },
    {
      "cell_type": "code",
      "metadata": {
        "colab_type": "code",
        "id": "5Uc0wyKQb704",
        "colab": {}
      },
      "source": [
        "# TODO"
      ],
      "execution_count": 0,
      "outputs": []
    },
    {
      "cell_type": "markdown",
      "metadata": {
        "deletable": true,
        "editable": true,
        "id": "gS4urz5NFDJW",
        "colab_type": "text"
      },
      "source": [
        "## Exercise 3: K-Nearest-Neighbors for Regression\n"
      ]
    },
    {
      "cell_type": "markdown",
      "metadata": {
        "deletable": true,
        "editable": true,
        "id": "jtfKP5btFDJX",
        "colab_type": "text"
      },
      "source": [
        "Our choice of 10 for K was arbitrary - what effect do different K values have on the results?\n"
      ]
    },
    {
      "cell_type": "markdown",
      "metadata": {
        "colab_type": "text",
        "id": "C37Cbh4puQuj"
      },
      "source": [
        "### Student Solution"
      ]
    },
    {
      "cell_type": "markdown",
      "metadata": {
        "id": "Ji2KbdVoBjFu",
        "colab_type": "text"
      },
      "source": [
        "ANSWER = "
      ]
    },
    {
      "cell_type": "markdown",
      "metadata": {
        "colab_type": "text",
        "id": "KE7Z99e5uQuq"
      },
      "source": [
        "### Answer Key"
      ]
    },
    {
      "cell_type": "markdown",
      "metadata": {
        "colab_type": "text",
        "id": "ek_aH-vQuQup"
      },
      "source": [
        "**Solution**"
      ]
    },
    {
      "cell_type": "code",
      "metadata": {
        "colab_type": "code",
        "id": "FIMr6Ip8uQur",
        "colab": {}
      },
      "source": [
        "# TODO"
      ],
      "execution_count": 0,
      "outputs": []
    },
    {
      "cell_type": "markdown",
      "metadata": {
        "colab_type": "text",
        "id": "FuH0xzk4uQuv"
      },
      "source": [
        "**Validation**"
      ]
    },
    {
      "cell_type": "code",
      "metadata": {
        "colab_type": "code",
        "id": "236eBKNTuQuw",
        "colab": {}
      },
      "source": [
        "# TODO"
      ],
      "execution_count": 0,
      "outputs": []
    },
    {
      "cell_type": "markdown",
      "metadata": {
        "id": "3ZU77SdwWq2w",
        "colab_type": "text"
      },
      "source": [
        "## Exercise 4: Challenge (Ungraded)"
      ]
    },
    {
      "cell_type": "markdown",
      "metadata": {
        "id": "X1GMbvvaWxU-",
        "colab_type": "text"
      },
      "source": [
        "Our distance metric was also somewhat arbitrary - we just took the cosine distance between the genres and added it to the difference between the normalized popularity scores. Can you improve on that?\n"
      ]
    },
    {
      "cell_type": "markdown",
      "metadata": {
        "colab_type": "text",
        "id": "SmFexBeovnUe"
      },
      "source": [
        "### Student Solution"
      ]
    },
    {
      "cell_type": "markdown",
      "metadata": {
        "colab_type": "text",
        "id": "lR4sq6CrvnUj"
      },
      "source": [
        "ANSWER = "
      ]
    },
    {
      "cell_type": "markdown",
      "metadata": {
        "colab_type": "text",
        "id": "6od8OO0NvnUp"
      },
      "source": [
        "### Answer Key"
      ]
    },
    {
      "cell_type": "markdown",
      "metadata": {
        "colab_type": "text",
        "id": "LVnu-pwYvnUw"
      },
      "source": [
        "**Solution**"
      ]
    },
    {
      "cell_type": "code",
      "metadata": {
        "colab_type": "code",
        "id": "4qYhRaQFvnVF",
        "colab": {}
      },
      "source": [
        "# TODO"
      ],
      "execution_count": 0,
      "outputs": []
    },
    {
      "cell_type": "markdown",
      "metadata": {
        "colab_type": "text",
        "id": "bsE3KCRpvnVq"
      },
      "source": [
        "**Validation**"
      ]
    },
    {
      "cell_type": "code",
      "metadata": {
        "colab_type": "code",
        "id": "-ADTn4qTvnVt",
        "colab": {}
      },
      "source": [
        "# TODO"
      ],
      "execution_count": 0,
      "outputs": []
    }
  ]
}