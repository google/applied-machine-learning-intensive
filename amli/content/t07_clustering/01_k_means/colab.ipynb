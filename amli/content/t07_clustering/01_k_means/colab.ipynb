{
 "cells": [
  {
   "cell_type": "markdown",
   "metadata": {
    "colab_type": "text",
    "id": "copyright"
   },
   "source": [
    "#### Copyright 2018 Google LLC."
   ]
  },
  {
   "cell_type": "code",
   "execution_count": 0,
   "metadata": {
    "colab": {},
    "colab_type": "code",
    "id": "DIk2MioaatFI"
   },
   "outputs": [],
   "source": [
    "# Licensed under the Apache License, Version 2.0 (the \"License\");\n",
    "# you may not use this file except in compliance with the License.\n",
    "# You may obtain a copy of the License at\n",
    "#\n",
    "# https://www.apache.org/licenses/LICENSE-2.0\n",
    "#\n",
    "# Unless required by applicable law or agreed to in writing, software\n",
    "# distributed under the License is distributed on an \"AS IS\" BASIS,\n",
    "# WITHOUT WARRANTIES OR CONDITIONS OF ANY KIND, either express or implied.\n",
    "# See the License for the specific language governing permissions and\n",
    "# limitations under the License."
   ]
  },
  {
   "cell_type": "markdown",
   "metadata": {
    "colab_type": "text",
    "id": "daX5oL8aDZLn"
   },
   "source": [
    "# k-Means\n"
   ]
  },
  {
   "cell_type": "markdown",
   "metadata": {
    "colab_type": "text",
    "id": "e5jEmmM1wQBC"
   },
   "source": [
    "K-Means is an *unsupervised* machine learning algorithm that can be used to group items into clusters.\n",
    "\n",
    "So far we have only worked with supervised algorithms. Supervised algorithms have training data with labels that identify the numeric value or class for each item. These algorithms use labeled data to build a model that can be used to make predictions.\n",
    "\n",
    "K-Means clustering is different. The training data is not labeled. Unlabeled training data is fed into the model. The model attempts to find relationships in the data and create clusters based on those relationships. Once these clusters are formed, predictions can be made about which cluster new data items belong to.\n",
    "\n",
    "The clusters can't easily be labeled in many cases. The clusters are \"emergent clusters\" which are created by the algorithm and don't always map to groupings that fit our mental model."
   ]
  },
  {
   "cell_type": "markdown",
   "metadata": {
    "colab_type": "text",
    "id": "JHPq12OpuwY7"
   },
   "source": [
    "## Overview"
   ]
  },
  {
   "cell_type": "markdown",
   "metadata": {
    "colab_type": "text",
    "id": "HSr6m-Zruyu4"
   },
   "source": [
    "### Learning Objectives\n",
    "\n",
    "* Understand the difference between supervised and unsupervised learning.\n",
    "* Create a k-means model.\n",
    "* Understand the output of a k-means model."
   ]
  },
  {
   "cell_type": "markdown",
   "metadata": {
    "colab_type": "text",
    "id": "kSMTA5lTvAmp"
   },
   "source": [
    "### Prerequisites\n",
    "\n",
    "* Introduction to Colab\n",
    "* Intermediate Python\n",
    "* Introduction to Pandas\n",
    "* Visualizations\n",
    "* Introduction to scikit-learn\n",
    "* Clustering"
   ]
  },
  {
   "cell_type": "markdown",
   "metadata": {
    "colab_type": "text",
    "id": "lPQLKoJZvF3N"
   },
   "source": [
    "### Estimated Duration\n",
    "\n",
    "60 minutes"
   ]
  },
  {
   "cell_type": "markdown",
   "metadata": {
    "colab_type": "text",
    "id": "bgXx5ecbvHjp"
   },
   "source": [
    "### Grading Criteria\n",
    "\n",
    "Each exercise is worth 3 points. The rubric for calculating those points is:\n",
    "\n",
    "| Points | Description |\n",
    "|--------|-------------|\n",
    "| 0      | No attempt at exercise |\n",
    "| 1      | Attempted exercise, but code does not run |\n",
    "| 2      | Attempted exercise, code runs, but produces incorrect answer |\n",
    "| 3      | Exercise completed successfully |\n",
    "\n",
    "There are 2 exercises in this Colab so there are 6 points available. The grading scale will be 3 points."
   ]
  },
  {
   "cell_type": "markdown",
   "metadata": {
    "colab_type": "text",
    "id": "ytHWSs1qG3e5"
   },
   "source": [
    "## Clustering Example: Customer Segmentation\n",
    "\n",
    "Let's get started by looking at a potential real world use case: customer segmentation.\n",
    "\n",
    "Businesses often segment their customers into groups for marketing purposes. Often these segments are based on some characteristic of the customer: age, gender, spending bracket, etc. These segments are created based on assumptions that marketers have about their customers.\n",
    "\n",
    "In this example we will use K-Means clustering to find customer segments for us instead of relying on traditional segmentation methods.\n"
   ]
  },
  {
   "cell_type": "markdown",
   "metadata": {
    "colab_type": "text",
    "id": "1NUs6PhaH9J7"
   },
   "source": [
    "### Load the data\n",
    "\n",
    "For this example we'll load the [Kaggle Black Friday](https://www.kaggle.com/mehdidag/black-friday#BlackFriday.csv) data. The dataset contains demographic and purchasing information about shoppers on Black Friday.\n",
    "\n",
    "Download the `BlackFriday.csv` file and upload it to this Colab.\n",
    "\n",
    "Now use Pandas to read the data."
   ]
  },
  {
   "cell_type": "code",
   "execution_count": 0,
   "metadata": {
    "colab": {},
    "colab_type": "code",
    "id": "j4Rit-br0X-d"
   },
   "outputs": [],
   "source": [
    "import pandas as pd\n",
    "\n",
    "data = pd.read_csv('BlackFriday.csv')\n",
    "\n",
    "data.head()"
   ]
  },
  {
   "cell_type": "markdown",
   "metadata": {
    "colab_type": "text",
    "id": "ZfPT80UiId3l"
   },
   "source": [
    "### Examine and clean the data\n",
    "\n",
    "There are many useful columns of data in this data file that could be used for segmenting customers. In this case we'll ignore the common segmentation attributes (gender, age, etc.) and instead focus solely on the product categories and purchase amounts of the customers. The hope is that we can find clusters of customers based on their purchases so that we can fine tune our marketing for each cluster.\n",
    "\n",
    "For this we'll be looking at the 'Product_Category_1', 'Product_Category_2', 'Product_Category_3', and 'Purchase' fields.\n",
    "\n",
    "Let's peek at the data types.\n"
   ]
  },
  {
   "cell_type": "code",
   "execution_count": 0,
   "metadata": {
    "colab": {},
    "colab_type": "code",
    "id": "qX4yxwUoJP4m"
   },
   "outputs": [],
   "source": [
    "data.dtypes"
   ]
  },
  {
   "cell_type": "markdown",
   "metadata": {
    "colab_type": "text",
    "id": "YbuFGwMpJdfe"
   },
   "source": [
    "'Purchase' is a numeric value that contains the amount spent. The product category fields seem to be encoding a category as numeric value. 'Product_Category_1' holds ints, which fits that theory."
   ]
  },
  {
   "cell_type": "code",
   "execution_count": 0,
   "metadata": {
    "colab": {},
    "colab_type": "code",
    "id": "hMuQeootJwRb"
   },
   "outputs": [],
   "source": [
    "data.groupby('Product_Category_1')['Product_Category_1'].count()"
   ]
  },
  {
   "cell_type": "markdown",
   "metadata": {
    "colab_type": "text",
    "id": "TtJnKpkxJ5KA"
   },
   "source": [
    "But 'Product_Category_2' and 'Product_Category_3' contain floats instead of ints."
   ]
  },
  {
   "cell_type": "code",
   "execution_count": 0,
   "metadata": {
    "colab": {},
    "colab_type": "code",
    "id": "UzKswhwZKBaP"
   },
   "outputs": [],
   "source": [
    "data.groupby('Product_Category_2')['Product_Category_2'].count()"
   ]
  },
  {
   "cell_type": "markdown",
   "metadata": {
    "colab_type": "text",
    "id": "2dRApzxrKG0B"
   },
   "source": [
    "Why is this? It is because some of the columns contain NaNs.\n",
    "\n",
    "We can see from above that our valid category ranges from 1 through 18. Let's convert all of the categories to integers and just fill in invalid categories with zeros."
   ]
  },
  {
   "cell_type": "code",
   "execution_count": 0,
   "metadata": {
    "colab": {},
    "colab_type": "code",
    "id": "_BGia8YZ2OeB"
   },
   "outputs": [],
   "source": [
    "data['Product_Category_2'] = data['Product_Category_2'].fillna(0).astype(int)\n",
    "data['Product_Category_3'] = data['Product_Category_3'].fillna(0).astype(int)\n",
    "\n",
    "data.groupby('Product_Category_2')['Product_Category_2'].count()"
   ]
  },
  {
   "cell_type": "markdown",
   "metadata": {
    "colab_type": "text",
    "id": "hej2WUf5Kl79"
   },
   "source": [
    "### Create Synthetic Columns\n",
    "\n",
    "We want to be able to cluster based on the categories that customers purchased in. The current encoding makes that a little difficult. Instead of having three category columns with a number between 0 and 18 in them, let's create 18 columns with a 1 in that column if the customer purchased from the category and a 0 if they did not."
   ]
  },
  {
   "cell_type": "code",
   "execution_count": 0,
   "metadata": {
    "colab": {},
    "colab_type": "code",
    "id": "czbGR4nb3BNa"
   },
   "outputs": [],
   "source": [
    "for i in range(1, 19):\n",
    "  new_column = \"PC_{}\".format(i)\n",
    "  data[new_column] = ((data['Product_Category_1'] == i) | (data['Product_Category_2'] == i) | (data['Product_Category_3'] == i)).astype(int)\n",
    "\n",
    "data.head()"
   ]
  },
  {
   "cell_type": "markdown",
   "metadata": {
    "colab_type": "text",
    "id": "OCKLOEpRLJaO"
   },
   "source": [
    "Since customers show up on more than one row of data, we need to aggregate the data by customer so that we have only one customer per row. To do this we can group by 'User_ID' and sum each category. This will give us a nice picture of how many purchases each customer made in each category."
   ]
  },
  {
   "cell_type": "code",
   "execution_count": 0,
   "metadata": {
    "colab": {},
    "colab_type": "code",
    "id": "kkyF7oHk3qfy"
   },
   "outputs": [],
   "source": [
    "aggregations = {'Purchase': 'sum'}\n",
    "\n",
    "for i in range(1, 19):\n",
    "  col = \"PC_{}\".format(i)\n",
    "  aggregations[col] = 'sum'\n",
    "  \n",
    "data_by_user = data.groupby('User_ID').agg(aggregations)\n",
    "\n",
    "data_by_user.head()"
   ]
  },
  {
   "cell_type": "markdown",
   "metadata": {
    "colab_type": "text",
    "id": "-Zc7hXJuLcZ7"
   },
   "source": [
    "### Perform Clustering\n",
    "\n",
    "We now have a nice data format containing purchasing information for each customer. To run k-means clustering on the data we simply load [k-Means](https://scikit-learn.org/stable/modules/generated/sklearn.cluster.KMeans.html) from Scikit Learn and ask the model to find a specific number of clusters for us.\n",
    "\n",
    "Notice that we are scaling the data. Our purchase total and category counts are very different in magnitude. In order not to give the purchase total too much weight we scale the values."
   ]
  },
  {
   "cell_type": "code",
   "execution_count": 0,
   "metadata": {
    "colab": {},
    "colab_type": "code",
    "id": "5p2mvrZgMcQk"
   },
   "outputs": [],
   "source": [
    "from sklearn.cluster import KMeans\n",
    "from sklearn.preprocessing import scale\n",
    "\n",
    "model = KMeans(n_clusters=10)\n",
    "model.fit(scale(data_by_user))\n",
    "\n",
    "print(model.inertia_)"
   ]
  },
  {
   "cell_type": "markdown",
   "metadata": {
    "colab_type": "text",
    "id": "qRd--xi9MufR"
   },
   "source": [
    "Above we asked Scikit Learn to create 10 clusters for us and we then printed out the *inertia* for the resultant clusters. Inertia is the sum of the squared distances of samples to their closest cluster center. Typically the smaller the inertia the better.\n",
    "\n",
    "But why did we choose 10 clusters? And is the inertia that we received reasonable?\n",
    "\n",
    "### Find the optimal number of clusters\n",
    "\n",
    "With just one run of the algorithm it is difficult to tell. k-means is trying to discover things about your data that you do not know. Picking a number of clusters at random isn't the best way to use k-means.\n",
    "\n",
    "Instead, you should experiment with a few different cluster values and measure the inertia of each. As you increase the number of clusters, your inertia should decrease."
   ]
  },
  {
   "cell_type": "code",
   "execution_count": 0,
   "metadata": {
    "colab": {},
    "colab_type": "code",
    "id": "kIwp4Bqb7GH0"
   },
   "outputs": [],
   "source": [
    "from sklearn.cluster import KMeans\n",
    "from sklearn.preprocessing import scale\n",
    "import matplotlib.pyplot as plt\n",
    "\n",
    "clusters = list(range(5, 50, 5))\n",
    "inertias = []\n",
    "\n",
    "scaled_data = scale(data_by_user)\n",
    "\n",
    "for c in clusters:\n",
    "  model = KMeans(n_clusters=c)\n",
    "  model = model.fit(scaled_data)\n",
    "  inertias.append(model.inertia_)\n",
    "\n",
    "plt.plot(clusters, inertias)\n",
    "plt.show()"
   ]
  },
  {
   "cell_type": "markdown",
   "metadata": {
    "colab_type": "text",
    "id": "95wkeNNHOcn6"
   },
   "source": [
    "The resulting graph should start high and to the left and curve down as the number of clusters grows. The initial slope is steep, but begins to level off. Your optimal number of clusters is somewhere in the \"elbow\" of the graph, as the slope levels.\n",
    "\n",
    "Once you have this number, you need to then check to see if the number is reasonable for your use case. Say that the 'optimal' number of clusters for our customer segmentation is 20. Is it reasonable to ask our marketing department to market to 20 distinct segments?\n",
    "\n",
    "And what makes the segments distinct? We only know that specific customers clustered together. Was it due to age? Purchase price? Maybe the groups are formed on unexpected combinations such as \"Bought snack food and cosmetics and spent between 100 and 150 USD\". What is a good name for that segment?\n",
    "\n",
    "Clustering the data is often just the start of your journey. Once you have clusters you'll need to look at each group and try to determine what makes them similar. What patterns did the clustering find and will it be useful to you?"
   ]
  },
  {
   "cell_type": "markdown",
   "metadata": {
    "colab_type": "text",
    "id": "t2ySDMeeP-6J"
   },
   "source": [
    "## Clustering Example: Classification of Digits\n",
    "\n",
    "Clustering for data exploration purposes can lead to interesting insights into your data, but clustering can also be used for classification purposes.\n",
    "\n",
    "In the example below we'll try to use k-means clustering to predict handwritten digits."
   ]
  },
  {
   "cell_type": "markdown",
   "metadata": {
    "colab_type": "text",
    "id": "QePSEGmwQY2W"
   },
   "source": [
    "### Load the data\n",
    "\n",
    "We'll load the digits dataset packaged with Scikit Learn."
   ]
  },
  {
   "cell_type": "code",
   "execution_count": 0,
   "metadata": {
    "colab": {},
    "colab_type": "code",
    "id": "C9pGH4rfQUgA"
   },
   "outputs": [],
   "source": [
    "from sklearn.datasets import load_digits\n",
    "\n",
    "digits = load_digits()"
   ]
  },
  {
   "cell_type": "markdown",
   "metadata": {
    "colab_type": "text",
    "id": "5OTRl2plQgDi"
   },
   "source": [
    "### Scale the data\n",
    "\n",
    "It is a good practice to scale the data to ensure that outliers don't have too big of an impact on the clustering."
   ]
  },
  {
   "cell_type": "code",
   "execution_count": 0,
   "metadata": {
    "colab": {},
    "colab_type": "code",
    "id": "t0aBmYGPQnri"
   },
   "outputs": [],
   "source": [
    "from sklearn.preprocessing import scale\n",
    "\n",
    "scaled_digits = scale(digits.data)"
   ]
  },
  {
   "cell_type": "markdown",
   "metadata": {
    "colab_type": "text",
    "id": "dwQ9Df4zQ_a_"
   },
   "source": [
    "### Fit a model\n",
    "\n",
    "We can then create a k-means model with 10 clusters (we know there are 10 digits from 0 through 9)."
   ]
  },
  {
   "cell_type": "code",
   "execution_count": 0,
   "metadata": {
    "colab": {},
    "colab_type": "code",
    "id": "gZaOn2gRQzsu"
   },
   "outputs": [],
   "source": [
    "from sklearn.cluster import KMeans\n",
    "\n",
    "model = KMeans(n_clusters=10)\n",
    "model = model.fit(scaled_digits)"
   ]
  },
  {
   "cell_type": "markdown",
   "metadata": {
    "colab_type": "text",
    "id": "M0bCgYN_SCw5"
   },
   "source": [
    "### Make predictions\n",
    "\n",
    "We can then use the model to predict which category a data point belongs to.\n",
    "\n",
    "In the case below we'll just use some of the data that we trained with for illustrative purposes. The prediction will provide a numeric value."
   ]
  },
  {
   "cell_type": "code",
   "execution_count": 0,
   "metadata": {
    "colab": {},
    "colab_type": "code",
    "id": "mpLDPTMyRm7i"
   },
   "outputs": [],
   "source": [
    "cluster = model.predict([scaled_digits[0]])[0]\n",
    "\n",
    "cluster"
   ]
  },
  {
   "cell_type": "markdown",
   "metadata": {
    "colab_type": "text",
    "id": "R_yDe1QZSaBj"
   },
   "source": [
    "What is this value? Is it the predicted digit?\n",
    "\n",
    "No, it is the cluster that the model thinks the digit belongs in. To determine the predicted digit, we'll need to see what other digits are in the cluster and choose the most popular one for our classification.\n"
   ]
  },
  {
   "cell_type": "code",
   "execution_count": 0,
   "metadata": {
    "colab": {},
    "colab_type": "code",
    "id": "RzccT4gMSxi2"
   },
   "outputs": [],
   "source": [
    "# Create a dictionary with the keys 0 through 9 with 0 values\n",
    "label_counts = {i:0 for i in range(10)}\n",
    "labels = digits.target\n",
    "\n",
    "# Loop through all of the model labels\n",
    "for i in range(len(model.labels_)):\n",
    "  # If the current model label matches our predicted cluster\n",
    "  if model.labels_[i] == cluster:\n",
    "    # Increment the actual number\n",
    "    label_counts[labels[i]] += 1\n",
    "\n",
    "# Now find which number is the most frequent in the cluster\n",
    "most_common_label = 0\n",
    "for k in label_counts.keys():\n",
    "  if label_counts[k] > label_counts[most_common_label]:\n",
    "    most_common_label = k\n",
    "\n",
    "print(\"Cluster {} prediction: {}; actual: {}\".format(cluster, most_common_label, digits.target[0]))"
   ]
  },
  {
   "cell_type": "markdown",
   "metadata": {
    "colab_type": "text",
    "id": "LtBucdm7j9vQ"
   },
   "source": [
    "What just happened? We reported the cluster that was predicted, the most common label in that cluster, and the actual number that was written. In this case, we see that the predicted label for the first digit was not correct, which indicates that we shouldn't be using a model with such low homogeneity and completeness scores."
   ]
  },
  {
   "cell_type": "markdown",
   "metadata": {
    "colab_type": "text",
    "id": "Y1aVtOwEVdQf"
   },
   "source": [
    "### Measure model quality\n",
    "\n",
    "If we do have labeled data, as is the case with our digits data, then we can measure the quality of our model using the [homogeneity](https://scikit-learn.org/stable/modules/generated/sklearn.metrics.homogeneity_score.html#sklearn.metrics.homogeneity_score_) score and the [completeness](https://scikit-learn.org/stable/modules/generated/sklearn.metrics.completeness_score.html#sklearn.metrics.completeness_score) score."
   ]
  },
  {
   "cell_type": "code",
   "execution_count": 0,
   "metadata": {
    "colab": {},
    "colab_type": "code",
    "id": "r85vjdc0_l6S"
   },
   "outputs": [],
   "source": [
    "from sklearn.metrics import homogeneity_score\n",
    "from sklearn.metrics import completeness_score\n",
    "\n",
    "homogeneity = homogeneity_score(labels, model.labels_)\n",
    "completeness = completeness_score(labels, model.labels_)\n",
    "homogeneity, completeness"
   ]
  },
  {
   "cell_type": "markdown",
   "metadata": {
    "colab_type": "text",
    "id": "X5IZSU1OvPMN"
   },
   "source": [
    "# Exercises"
   ]
  },
  {
   "cell_type": "markdown",
   "metadata": {
    "colab_type": "text",
    "id": "sCkXnAZHXEUL"
   },
   "source": [
    "## Exercise 1"
   ]
  },
  {
   "cell_type": "markdown",
   "metadata": {
    "colab_type": "text",
    "id": "Pzwm9vnEkoAf"
   },
   "source": [
    "Load the [iris dataset](https://scikit-learn.org/stable/auto_examples/datasets/plot_iris_dataset.html), create a k-means model with three clusters, and find the homogeneity and completeness scores for the model. "
   ]
  },
  {
   "cell_type": "markdown",
   "metadata": {
    "colab_type": "text",
    "id": "abvbIkWfvSl3"
   },
   "source": [
    "### Student Solution"
   ]
  },
  {
   "cell_type": "code",
   "execution_count": 0,
   "metadata": {
    "colab": {},
    "colab_type": "code",
    "id": "s3rLeWvIXhoo"
   },
   "outputs": [],
   "source": [
    "# Your code goes here"
   ]
  },
  {
   "cell_type": "markdown",
   "metadata": {
    "colab_type": "text",
    "id": "exercise-1-key-1"
   },
   "source": [
    "### Answer Key"
   ]
  },
  {
   "cell_type": "markdown",
   "metadata": {
    "colab_type": "text",
    "id": "exercise-1-solution-1"
   },
   "source": [
    "**Solution**"
   ]
  },
  {
   "cell_type": "code",
   "execution_count": 0,
   "metadata": {
    "colab": {},
    "colab_type": "code",
    "id": "y_NR_771vWJz"
   },
   "outputs": [],
   "source": [
    "# TODO"
   ]
  },
  {
   "cell_type": "markdown",
   "metadata": {
    "colab_type": "text",
    "id": "omyOeTX8ueiY"
   },
   "source": [
    "**Validation**"
   ]
  },
  {
   "cell_type": "code",
   "execution_count": 0,
   "metadata": {
    "colab": {},
    "colab_type": "code",
    "id": "W0hKgICDufmp"
   },
   "outputs": [],
   "source": [
    "# TODO"
   ]
  },
  {
   "cell_type": "markdown",
   "metadata": {
    "colab_type": "text",
    "id": "fjo4qeMNYu1T"
   },
   "source": [
    "## Exercise 2"
   ]
  },
  {
   "cell_type": "markdown",
   "metadata": {
    "colab_type": "text",
    "id": "5VetIjZ1kqNk"
   },
   "source": [
    "Load the  [iris dataset](https://scikit-learn.org/stable/auto_examples/datasets/plot_iris_dataset.html), create a k-means model with three clusters using only two features (try to find the best two features for clustering). Create a plot of the two features.\n",
    "\n",
    "For each datapoint in the chart use a [marker](https://matplotlib.org/api/markers_api.html) to encode the actual/correct species. For instance use a triangle for Setosa, a square for Versicolour, and a circle for Virginica). Color each marker green if the predicted class matches the actual. Color each marker red if the classes don't match."
   ]
  },
  {
   "cell_type": "markdown",
   "metadata": {
    "colab_type": "text",
    "id": "6ewsx_qWvXM8"
   },
   "source": [
    "### Student Solution"
   ]
  },
  {
   "cell_type": "code",
   "execution_count": 0,
   "metadata": {
    "colab": {},
    "colab_type": "code",
    "id": "Q-tgFdNHYuI5"
   },
   "outputs": [],
   "source": [
    "# Your code goes here"
   ]
  },
  {
   "cell_type": "markdown",
   "metadata": {
    "colab_type": "text",
    "id": "exercise-2-key-1"
   },
   "source": [
    "### Answer Key"
   ]
  },
  {
   "cell_type": "markdown",
   "metadata": {
    "colab_type": "text",
    "id": "exercise-2-solution-1"
   },
   "source": [
    "**Solution**"
   ]
  },
  {
   "cell_type": "code",
   "execution_count": 0,
   "metadata": {
    "colab": {},
    "colab_type": "code",
    "id": "0AAebgXKvaad"
   },
   "outputs": [],
   "source": [
    "# TODO"
   ]
  },
  {
   "cell_type": "markdown",
   "metadata": {
    "colab_type": "text",
    "id": "31iDul9nug9p"
   },
   "source": [
    "**Validation**"
   ]
  },
  {
   "cell_type": "code",
   "execution_count": 0,
   "metadata": {
    "colab": {},
    "colab_type": "code",
    "id": "rFTz3DxtuiGV"
   },
   "outputs": [],
   "source": [
    "# TODO"
   ]
  }
 ],
 "metadata": {
  "colab": {
   "collapsed_sections": [
    "copyright",
    "exercise-1-key-1",
    "exercise-2-key-1"
   ],
   "name": "k-Means",
   "private_outputs": true,
   "provenance": [],
   "toc_visible": true,
   "version": "0.3.2"
  },
  "kernelspec": {
   "display_name": "Python 3",
   "name": "python3"
  }
 },
 "nbformat": 4,
 "nbformat_minor": 0
}
