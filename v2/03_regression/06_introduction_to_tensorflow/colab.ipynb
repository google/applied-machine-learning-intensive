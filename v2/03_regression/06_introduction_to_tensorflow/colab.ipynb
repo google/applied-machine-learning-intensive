{
 "cells": [
  {
   "cell_type": "markdown",
   "metadata": {
    "colab_type": "text",
    "id": "copyright"
   },
   "source": [
    "#### Copyright 2019 Google LLC."
   ]
  },
  {
   "cell_type": "code",
   "execution_count": 0,
   "metadata": {
    "colab": {},
    "colab_type": "code",
    "id": "nUILHfaIXp8i"
   },
   "outputs": [],
   "source": [
    "# Licensed under the Apache License, Version 2.0 (the \"License\");\n",
    "# you may not use this file except in compliance with the License.\n",
    "# You may obtain a copy of the License at\n",
    "#\n",
    "# https://www.apache.org/licenses/LICENSE-2.0\n",
    "#\n",
    "# Unless required by applicable law or agreed to in writing, software\n",
    "# distributed under the License is distributed on an \"AS IS\" BASIS,\n",
    "# WITHOUT WARRANTIES OR CONDITIONS OF ANY KIND, either express or implied.\n",
    "# See the License for the specific language governing permissions and\n",
    "# limitations under the License."
   ]
  },
  {
   "cell_type": "markdown",
   "metadata": {
    "colab_type": "text",
    "id": "_FdRu8E0F6EJ"
   },
   "source": [
    "# Introduction to TensorFlow"
   ]
  },
  {
   "cell_type": "markdown",
   "metadata": {
    "colab_type": "text",
    "id": "-BAA5YllEH3S"
   },
   "source": [
    "[TensorFlow](http://tensorflow.org) is a software library used for high-performance numerical computation. It can be used from a variety of languages and deployed on a large number of operating systems and hardware platforms.\n",
    "\n",
    "TensorFlow is particularly good at machine learning and is often associated with it. However, TensorFlow isn't limited to machine learning applications.\n",
    "\n",
    "The programming model within TensorFlow is different enough from the programming style we have seen so far that we will set machine learning to the side for a bit and take a look at the core concepts of programming with TensorFlow. \n"
   ]
  },
  {
   "cell_type": "markdown",
   "metadata": {
    "colab_type": "text",
    "id": "8V1mp2A0PEId"
   },
   "source": [
    "## Overview"
   ]
  },
  {
   "cell_type": "markdown",
   "metadata": {
    "colab_type": "text",
    "id": "B9po7CtnPE4b"
   },
   "source": [
    "### Learning Objectives\n",
    "\n",
    "* Define \"tensor\" in terms of TensorFlow\n",
    "* Understand common TensorFlow object types\n",
    "* Create and execute a Tensorflow graph"
   ]
  },
  {
   "cell_type": "markdown",
   "metadata": {
    "colab_type": "text",
    "id": "o9J0gBVfPIB5"
   },
   "source": [
    "### Prerequisites\n",
    "\n",
    "* Introduction to Colab\n",
    "* Intermediate Python"
   ]
  },
  {
   "cell_type": "markdown",
   "metadata": {
    "colab_type": "text",
    "id": "8mKI999DPKsh"
   },
   "source": [
    "### Estimated Duration\n",
    "\n",
    "60 minutes"
   ]
  },
  {
   "cell_type": "markdown",
   "metadata": {
    "colab_type": "text",
    "id": "0n6OCNFUPOKb"
   },
   "source": [
    "### Grading Criteria\n",
    "\n",
    "Each exercise is worth 3 points. The rubric for calculating those points is:\n",
    "\n",
    "| Points | Description |\n",
    "|--------|-------------|\n",
    "| 0      | No attempt at exercise |\n",
    "| 1      | Attempted exercise, but code does not run |\n",
    "| 2      | Attempted exercise, code runs, but produces incorrect answer |\n",
    "| 3      | Exercise completed successfully |\n",
    "\n",
    "There are 3 exercises in this Colab so there are 12 points available. The grading scale will be 12 points."
   ]
  },
  {
   "cell_type": "markdown",
   "metadata": {
    "colab_type": "text",
    "id": "r36Rz1wzcUro"
   },
   "source": [
    "## Tensors\n",
    "\n",
    "TensorFlow gets its name from **tensors**, which are arrays of arbitrary dimensionality. Using TensorFlow, you can manipulate tensors with a very high number of dimensions. That said, most of the time you will work with one or more of the following low-dimensional tensors:\n",
    "\n",
    "  * A **scalar** is a 0-d array (a 0th-order tensor).\n",
    "  \n",
    "  ``` \n",
    "  \"Howdy\"\n",
    "  ```\n",
    "  or \n",
    "  ```\n",
    "  5\n",
    "  ```\n",
    "  * A **vector** is a 1-d array (a 1st-order tensor).\n",
    "  ```\n",
    "    [2, 3, 5, 7, 11]\n",
    "  ```\n",
    "  or\n",
    "  ```\n",
    "    [5]\n",
    "  ```\n",
    "  * A **matrix** is a 2-d array (a 2nd-order tensor).\n",
    "  ```\n",
    "    [\n",
    "      [3.1, 8.2, 5.9],\n",
    "      [4.3, -2.7, 6.5],\n",
    "    ]\n",
    "  ```\n",
    "  * A **cube** is a 3d array (a 3rd-order tensor).\n",
    "  ```\n",
    "    [\n",
    "      [\n",
    "        [3.1, 8.2, 5.9],\n",
    "        [4.3, 2.7, 6.5],\n",
    "      ],\n",
    "      [\n",
    "        [4.5, 5.2, 3.1],\n",
    "        [3.4, 2.0, 5.9],\n",
    "      ],\n",
    "      [\n",
    "        [4.2, 3.7, 9.1],\n",
    "        [6.4, 1.2, 6.4],\n",
    "      ],\n",
    "      [\n",
    "        [9.9, 6.1, 8.8],\n",
    "        [3.1, 8.7, 4.5],\n",
    "      ],\n",
    "    ]\n",
    "  ```"
   ]
  },
  {
   "cell_type": "markdown",
   "metadata": {
    "colab_type": "text",
    "id": "W0yEKtTaDYr7"
   },
   "source": [
    "## Constants\n",
    "\n",
    "There are many ways to create tensors. To create a tensor that doesn't change you can use the `tf.constant` type.\n",
    "\n",
    "Below we create a scalar, vector, matrix, and cube tensor and print them out. Notice that the tensor is an object and the information printed includes the name, shape, and type."
   ]
  },
  {
   "cell_type": "code",
   "execution_count": 0,
   "metadata": {
    "colab": {},
    "colab_type": "code",
    "id": "yi06gBLDDb7t"
   },
   "outputs": [],
   "source": [
    "import tensorflow as tf\n",
    "\n",
    "scalar_tensor = tf.constant(\"Hi Mom!\")\n",
    "print(scalar_tensor)\n",
    "\n",
    "vector_tensor = tf.constant([1, 2, 3])\n",
    "print(vector_tensor)\n",
    "\n",
    "matrix_tensor = tf.constant([[1.2, 3.4, 5.6], [7.8, 9.0, 1.2]])\n",
    "print(matrix_tensor)\n",
    "\n",
    "cube_tensor = tf.constant([\n",
    "  [\n",
    "    [3.1, 8.2, 5.9],\n",
    "    [4.3, 2.7, 6.5],\n",
    "  ],\n",
    "  [\n",
    "    [4.5, 5.2, 3.1],\n",
    "    [3.4, 2.0, 5.9],\n",
    "  ],\n",
    "  [\n",
    "    [4.2, 3.7, 9.1],\n",
    "    [6.4, 1.2, 6.4],\n",
    "  ],\n",
    "  [\n",
    "    [9.9, 6.1, 8.8],\n",
    "    [3.1, 8.7, 4.5],\n",
    "  ],\n",
    "])\n",
    "print(cube_tensor)"
   ]
  },
  {
   "cell_type": "markdown",
   "metadata": {
    "colab_type": "text",
    "id": "5qS4EkNVE64R"
   },
   "source": [
    "## Variables\n",
    "\n",
    "A variable is a type of tensor that can change. Creating variable tensors doesn't look much different than creating constant tensors."
   ]
  },
  {
   "cell_type": "code",
   "execution_count": 0,
   "metadata": {
    "colab": {},
    "colab_type": "code",
    "id": "CXFIG_FkF5bJ"
   },
   "outputs": [],
   "source": [
    "import tensorflow as tf\n",
    "\n",
    "scalar_tensor = tf.Variable(\"Hi Mom!\")\n",
    "print(scalar_tensor)\n",
    "\n",
    "vector_tensor = tf.Variable([1, 2, 3])\n",
    "print(vector_tensor)\n",
    "\n",
    "matrix_tensor = tf.Variable([[1.2, 3.4, 5.6], [7.8, 9.0, 1.2]])\n",
    "print(matrix_tensor)\n",
    "\n",
    "cube_tensor = tf.Variable([\n",
    "  [\n",
    "    [3.1, 8.2, 5.9],\n",
    "    [4.3, -2.7, 6.5],\n",
    "  ],\n",
    "  [\n",
    "    [4.5, 5.2, 3.1],\n",
    "    [3.4, -2.0, 5.9],\n",
    "  ],\n",
    "])\n",
    "print(cube_tensor)"
   ]
  },
  {
   "cell_type": "markdown",
   "metadata": {
    "colab_type": "text",
    "id": "V1EiBLkwGSmy"
   },
   "source": [
    "## Operations\n",
    "\n",
    "In order for variables to change, something must operate on them. TensorFlow operations create, destroy, and manipulate tensors. Most of the lines of code in a typical TensorFlow program are operations.\n",
    "\n",
    "Let's start by looking at a basic operation that simply assigns a variable to another value."
   ]
  },
  {
   "cell_type": "code",
   "execution_count": 0,
   "metadata": {
    "colab": {},
    "colab_type": "code",
    "id": "J8pFGSAxHVxN"
   },
   "outputs": [],
   "source": [
    "import tensorflow as tf\n",
    "\n",
    "scalar_tensor = tf.Variable(\"Hi Mom!\")\n",
    "tf.assign(scalar_tensor, \"¡Hola Mamá!\")\n",
    "\n",
    "print(scalar_tensor)"
   ]
  },
  {
   "cell_type": "markdown",
   "metadata": {
    "colab_type": "text",
    "id": "xJnmaFcxH84E"
   },
   "source": [
    "Did it work? That is difficult to tell. When we print a tensor we get information about the tensor object and not the actual data in the tensor.\n",
    "\n",
    "All of the code that we have seen so far is just setting up the TensorFlow code that will run. To actually execute the code we need to use a TensorFlow session."
   ]
  },
  {
   "cell_type": "code",
   "execution_count": 0,
   "metadata": {
    "colab": {},
    "colab_type": "code",
    "id": "exdCXL73IGU-"
   },
   "outputs": [],
   "source": [
    "import tensorflow as tf\n",
    "\n",
    "# Create a session\n",
    "session = tf.Session()\n",
    "\n",
    "# Set up the scalar variable tensor with an initial value\n",
    "scalar_tensor = tf.Variable(\"Hi Mom!\")\n",
    "\n",
    "# Assign a new value to the scalar variable tensor\n",
    "print(session.run(tf.assign(scalar_tensor, \"¡Hola Mamá!\")))\n",
    "\n",
    "# Clean up\n",
    "session.close()"
   ]
  },
  {
   "cell_type": "markdown",
   "metadata": {
    "colab_type": "text",
    "id": "Yl05Bw87Ld49"
   },
   "source": [
    "The code works! We build an operation to assign a new value to a variable and then ask a session to run the operation.\n",
    "\n",
    "There is a little housekeeping that we have to do closing the session. This keeps TensorFlow from leaking memory. The context manager is a feature of Python that will automatically handle closing the session for us.\n",
    "\n",
    "You can see the context manager in action starting with the keyword `with` below. That line creates a new `tf.Session`, assigns it to the variable `session`, and then closes the session at the end of the block."
   ]
  },
  {
   "cell_type": "code",
   "execution_count": 0,
   "metadata": {
    "colab": {},
    "colab_type": "code",
    "id": "LXrhAOIuM3iH"
   },
   "outputs": [],
   "source": [
    "import tensorflow as tf\n",
    "\n",
    "with tf.Session() as session:\n",
    "  # Set up the scalar variable tensor with an initial value\n",
    "  scalar_tensor = tf.Variable(\"Hi Mom!\")\n",
    "\n",
    "  # Assign a new value to the scalar variable tensor\n",
    "  print(session.run(tf.assign(scalar_tensor, \"¡Hola Mamá!\")))"
   ]
  },
  {
   "cell_type": "markdown",
   "metadata": {
    "colab_type": "text",
    "id": "qpAWhV6ZRVAs"
   },
   "source": [
    "If you only need one session, or one session at a time, TensorFlow allows you to flag a session as the default session. This allows you to call `eval` on the tensor operation that you want executed instead of passing that operation to a session. `eval` will cause the operation to run in the current default session.\n",
    "\n",
    "You'll often see default sessions combined with the Python context manager. In this case the context manager isn't responsible for closing the session, but will simply set the session as default within a given context."
   ]
  },
  {
   "cell_type": "code",
   "execution_count": 0,
   "metadata": {
    "colab": {},
    "colab_type": "code",
    "id": "d_erw3ETQ9r-"
   },
   "outputs": [],
   "source": [
    "import tensorflow as tf\n",
    "\n",
    "session = tf.Session()\n",
    "with session.as_default():\n",
    "  # Set up the scalar variable tensor with an initial value\n",
    "  scalar_tensor = tf.Variable(\"Hi Mom!\")\n",
    "\n",
    "  # Assign a new value to the scalar variable tensor\n",
    "  print(tf.assign(scalar_tensor, \"¡Hola Mamá!\").eval())\n",
    "\n",
    "session.close()"
   ]
  },
  {
   "cell_type": "markdown",
   "metadata": {
    "colab_type": "text",
    "id": "ax_QOGBCSFeM"
   },
   "source": [
    "*Which way is correct?* That depends on your use case, code structure, and coding standards for the project you are working on.\n",
    "\n",
    "*Why did we show you these?* Because you will see them all in practice (and on Stack Overflow).\n",
    "\n",
    "*Why would you choose one form over the other?* There are trade-offs. Having many `session.run` calls can make code difficult to read; however, you can pass many operations to `session.run` and have them start simultaneously. `eval` can sometimes be easier to read, but can only trigger one operation at a time.\n",
    "\n",
    "The key takeaway is that explicit calls to `.run(...)` or `.eval()()` are just telling TensorFlow to execute your code. Until one of those calls are made, you are setting up a group of steps to be executed but not executing those steps. `.run(...)` and `.eval()` trigger operations to start.\n",
    "\n",
    "---\n",
    "\n",
    "Note that you might also see TensorFlow code with the word \"eager\" in it. This is yet another way to execute TensorFlow commands. Eager is telling the system not to build up steps and then run them, but to instead run them as soon as possible.\n",
    "\n",
    "Eager execution allows you to program more naturally and to more elegantly integrate with Python. The cost is that TensorFlow isn't always able to rely on the faster C++ code that it is built on and some features aren't necessarily available.\n",
    "\n",
    "In TensorFlow v1 the lazy execution model is the default and eager is an add-on option. In TensorFlow v2, which is expected to preview in 2019, eager mode is supposed to be the default."
   ]
  },
  {
   "cell_type": "markdown",
   "metadata": {
    "colab_type": "text",
    "id": "Xm8l132bW1ZN"
   },
   "source": [
    "Let's look at a few more operations."
   ]
  },
  {
   "cell_type": "code",
   "execution_count": 0,
   "metadata": {
    "colab": {},
    "colab_type": "code",
    "id": "Ulah_i4TdHKV"
   },
   "outputs": [],
   "source": [
    "import tensorflow as tf\n",
    "\n",
    "a = tf.constant(5)\n",
    "b = tf.constant(2)\n",
    "\n",
    "session = tf.Session()\n",
    "session.as_default()\n",
    "\n",
    "addition_operation = a + b\n",
    "print(addition_operation)\n",
    "print(session.run(addition_operation))\n",
    "\n",
    "subtraction_operation = a - b\n",
    "print(subtraction_operation)\n",
    "print(session.run(subtraction_operation))\n",
    "\n",
    "multipication_operation = a * b\n",
    "print(multipication_operation)\n",
    "print(session.run(multipication_operation))\n",
    "\n",
    "division_operation = a / b\n",
    "print(division_operation)\n",
    "print(session.run(division_operation))\n",
    "\n",
    "session.close()"
   ]
  },
  {
   "cell_type": "markdown",
   "metadata": {
    "colab_type": "text",
    "id": "J7uQM1BmgDYS"
   },
   "source": [
    "TensorFlow also has support for linear algebra operations."
   ]
  },
  {
   "cell_type": "code",
   "execution_count": 0,
   "metadata": {
    "colab": {},
    "colab_type": "code",
    "id": "XvboMHpfeg8D"
   },
   "outputs": [],
   "source": [
    "import tensorflow as tf\n",
    "\n",
    "matrix_one = tf.constant([\n",
    "  [11, 12, 13],\n",
    "  [21, 22, 23],\n",
    "  [31, 32, 33],\n",
    "])\n",
    "\n",
    "matrix_two = tf.constant([\n",
    "  [1, 0, 0],\n",
    "  [0, 1, 0],\n",
    "  [0, 0, 1],\n",
    "])\n",
    "\n",
    "matrix_dimensionality = 2  # we are working with 2D matrices\n",
    "\n",
    "dot_product = tf.tensordot(matrix_one, matrix_two, matrix_dimensionality)\n",
    "\n",
    "session = tf.Session()\n",
    "print(session.run(dot_product))\n",
    "session.close()"
   ]
  },
  {
   "cell_type": "markdown",
   "metadata": {
    "colab_type": "text",
    "id": "BTQRkyz3iUVq"
   },
   "source": [
    "Operations can be chained together to form a graph. You can then ask TensorFlow to `run` or `eval` any node in the graph and it will execute all of the nodes that the requested node depends on."
   ]
  },
  {
   "cell_type": "code",
   "execution_count": 0,
   "metadata": {
    "colab": {},
    "colab_type": "code",
    "id": "iUJ5Mibtgs-J"
   },
   "outputs": [],
   "source": [
    "import tensorflow as tf\n",
    "\n",
    "matrix_one = tf.constant([\n",
    "  [11, 12, 13],\n",
    "  [21, 22, 23],\n",
    "  [31, 32, 33],\n",
    "])\n",
    "\n",
    "matrix_two = tf.constant([\n",
    "  [1, 0, 0],\n",
    "  [0, 1, 0],\n",
    "  [0, 0, 1],\n",
    "])\n",
    "\n",
    "matrix_dimensionality = 2  # we are working with 2D matrices\n",
    "\n",
    "dot_product = tf.tensordot(matrix_one, matrix_two, matrix_dimensionality)\n",
    "\n",
    "matrix_one_t = tf.linalg.transpose(matrix_one)\n",
    "\n",
    "matrix_two_t = tf.linalg.transpose(matrix_two)\n",
    "\n",
    "mult_op = dot_product * matrix_one_t\n",
    "\n",
    "div_op = matrix_two / dot_product\n",
    "\n",
    "session = tf.Session()\n",
    "print(session.run([mult_op, div_op]))\n",
    "session.close()"
   ]
  },
  {
   "cell_type": "markdown",
   "metadata": {
    "colab_type": "text",
    "id": "Gff5ByDbACDq"
   },
   "source": [
    "## Placeholders\n",
    "\n",
    "So far we have worked with constant and variable tensors. These are intended to be used within a graph that eventually runs within a session. A session is started and retains the values of variables and constants across runs.\n",
    "\n",
    "This session is part of a larger program and that program needs a way to continue to put new data into the session. Placeholder tensors serve as the boundary between a session and the containing program. These placeholders can be used to feed data into and active session."
   ]
  },
  {
   "cell_type": "code",
   "execution_count": 0,
   "metadata": {
    "colab": {},
    "colab_type": "code",
    "id": "9G4vF3HtkQtg"
   },
   "outputs": [],
   "source": [
    "import tensorflow as tf\n",
    "\n",
    "data_in = tf.placeholder(tf.int32, shape=())\n",
    "\n",
    "v = tf.Variable(0)\n",
    "\n",
    "op = tf.assign_add(v, data_in)\n",
    "\n",
    "session = tf.Session()\n",
    "\n",
    "session.run(tf.global_variables_initializer())\n",
    "\n",
    "print(session.run(op, feed_dict={data_in: 5}))\n",
    "print(session.run(op, feed_dict={data_in: 5}))\n",
    "\n",
    "session.close()"
   ]
  },
  {
   "cell_type": "markdown",
   "metadata": {
    "colab_type": "text",
    "id": "HhPeGS9u4vRJ"
   },
   "source": [
    "You might have also noticed that we added a call to `tf.global_variables_initializer`.\n",
    "\n",
    "Variables need to be given an initial value before they are used. In many cases, like when a variable value is set by the output of an operation, this happens naturally. In cases where a value was hard-coded outside of a session this initialization doesn't happen.\n",
    "\n",
    "To remedy this you need to initialize the variables. This causes the values set in the Python runtime to become part of the session. Doing this can be as simple as adding a call to `tf.global_variables_initializer` to your code as seen below.\n",
    "\n",
    "This finds all of the variables that need to be initialized and performs the initialization. There is a way to do this variable-by-variable, but the more common pattern is to see `tf.global_variables_initializer`."
   ]
  },
  {
   "cell_type": "markdown",
   "metadata": {
    "colab_type": "text",
    "id": "FqwErJMmzTP9"
   },
   "source": [
    "Tensors are multidimensional arrays. `DataFrame`s are also multidimensional arrays. Unsurprisingly you can pass a `DataFrame` directly to TensorFlow."
   ]
  },
  {
   "cell_type": "code",
   "execution_count": 0,
   "metadata": {
    "colab": {},
    "colab_type": "code",
    "id": "6IQY3dYvydSf"
   },
   "outputs": [],
   "source": [
    "import tensorflow as tf\n",
    "import pandas as pd\n",
    "\n",
    "data_frame = pd.DataFrame([[1.1, 2.2, 3.3], [4.4, 5.5, 6.6]])\n",
    "\n",
    "data_in = tf.placeholder(tf.float32, shape=(2, 3))\n",
    "plus_one = data_in + 1\n",
    "\n",
    "session = tf.Session()\n",
    "print(session.run(plus_one, feed_dict={data_in: data_frame}))\n",
    "session.close()"
   ]
  },
  {
   "cell_type": "markdown",
   "metadata": {
    "colab_type": "text",
    "id": "ZCVF2u1wo5Mx"
   },
   "source": [
    "# Exercises"
   ]
  },
  {
   "cell_type": "markdown",
   "metadata": {
    "colab_type": "text",
    "id": "NUxx9rTzo7X_"
   },
   "source": [
    "## Exercise 1"
   ]
  },
  {
   "cell_type": "markdown",
   "metadata": {
    "colab_type": "text",
    "id": "Hs1FSTXoDOIe"
   },
   "source": [
    "Create a TensorFlow graph that adds two constant 0D tensors. The constant values are 34 and 46.\n",
    "\n",
    "These values should be stored in a tensor.\n",
    "\n",
    "Print the result of executing the tensor in a session. Make sure the session gets closed."
   ]
  },
  {
   "cell_type": "markdown",
   "metadata": {
    "colab_type": "text",
    "id": "Hlp5uIJ_DO7R"
   },
   "source": [
    "### Student Solution"
   ]
  },
  {
   "cell_type": "code",
   "execution_count": 0,
   "metadata": {
    "colab": {},
    "colab_type": "code",
    "id": "S-gi_ZyEpK3J"
   },
   "outputs": [],
   "source": [
    "# Your code goes here"
   ]
  },
  {
   "cell_type": "markdown",
   "metadata": {
    "colab_type": "text",
    "id": "exercise-1-key-1"
   },
   "source": [
    "### Answer Key"
   ]
  },
  {
   "cell_type": "markdown",
   "metadata": {
    "colab_type": "text",
    "id": "eKcvnSaiDSY-"
   },
   "source": [
    "**Solution**"
   ]
  },
  {
   "cell_type": "code",
   "execution_count": 0,
   "metadata": {
    "colab": {},
    "colab_type": "code",
    "id": "VPGbZDt_Ot5A"
   },
   "outputs": [],
   "source": [
    "import tensorflow as tf\n",
    "\n",
    "a = tf.constant(34)\n",
    "b = tf.constant(46)\n",
    "c = a + b\n",
    "\n",
    "s = tf.Session()\n",
    "print(s.run(c))\n",
    "s.close()"
   ]
  },
  {
   "cell_type": "markdown",
   "metadata": {
    "colab_type": "text",
    "id": "ru17CcJuDUF8"
   },
   "source": [
    "**Validation**"
   ]
  },
  {
   "cell_type": "code",
   "execution_count": 0,
   "metadata": {
    "colab": {},
    "colab_type": "code",
    "id": "5vtQklXwDXvy"
   },
   "outputs": [],
   "source": [
    "# TODO"
   ]
  },
  {
   "cell_type": "markdown",
   "metadata": {
    "colab_type": "text",
    "id": "Af25DbqlpL9P"
   },
   "source": [
    "## Exercise 2"
   ]
  },
  {
   "cell_type": "markdown",
   "metadata": {
    "colab_type": "text",
    "id": "xJPDMLjVDLWe"
   },
   "source": [
    "Create a TensorFlow graph that performs the linear equation, `y = mx + b`.\n",
    "\n",
    "*   `m` should be a 0D constant tensor with a value of 12.\n",
    "*   `b` should be a 0D constant tensor with a value of 32.\n",
    "*   `x` should be a 0D placeholder tensor of type int32.\n",
    "*   `y` should be tensor that receives the result of `mx + b`.\n",
    "\n",
    "Create a session and then:\n",
    "\n",
    "* print the value of `y` with `x` set to 4 by feeding the `x` placeholder into an execution of the session.\n",
    "* print the value of `y` with `x` set to 40 by feeding the `x` placeholder into an execution of the session.\n",
    "* print the value of `y` with `x` set to 400 by feeding the `x` placeholder into an execution of the session.\n",
    "\n",
    "After you are done, be sure that the session is closed."
   ]
  },
  {
   "cell_type": "markdown",
   "metadata": {
    "colab_type": "text",
    "id": "OeYG9IBhDamd"
   },
   "source": [
    "### Student Solution"
   ]
  },
  {
   "cell_type": "code",
   "execution_count": 0,
   "metadata": {
    "colab": {},
    "colab_type": "code",
    "id": "toVERAtwtupZ"
   },
   "outputs": [],
   "source": [
    "# Your code goes here"
   ]
  },
  {
   "cell_type": "markdown",
   "metadata": {
    "colab_type": "text",
    "id": "exercise-2-key-1"
   },
   "source": [
    "### Answer Key"
   ]
  },
  {
   "cell_type": "markdown",
   "metadata": {
    "colab_type": "text",
    "id": "yQ8hKI7WDdjo"
   },
   "source": [
    "**Solution**"
   ]
  },
  {
   "cell_type": "code",
   "execution_count": 0,
   "metadata": {
    "colab": {},
    "colab_type": "code",
    "id": "e_MnKd8JOxum"
   },
   "outputs": [],
   "source": [
    "# Solution\n",
    "\n",
    "import tensorflow as tf\n",
    "\n",
    "m = tf.constant(12)\n",
    "b = tf.constant(32)\n",
    "x = tf.placeholder(dtype=tf.int32)\n",
    "y = m * x + b\n",
    "\n",
    "s = tf.Session()\n",
    "print(s.run(y, feed_dict={x: 4}))\n",
    "print(s.run(y, feed_dict={x: 40}))\n",
    "print(s.run(y, feed_dict={x: 400}))\n",
    "s.close()\n"
   ]
  },
  {
   "cell_type": "markdown",
   "metadata": {
    "colab_type": "text",
    "id": "ztk29pL_Dfox"
   },
   "source": [
    "**Validation**"
   ]
  },
  {
   "cell_type": "code",
   "execution_count": 0,
   "metadata": {
    "colab": {},
    "colab_type": "code",
    "id": "3RA6cWdaDiKY"
   },
   "outputs": [],
   "source": [
    "# TODO"
   ]
  },
  {
   "cell_type": "markdown",
   "metadata": {
    "colab_type": "text",
    "id": "fag329aODDtT"
   },
   "source": [
    "## Exercise 3"
   ]
  },
  {
   "cell_type": "markdown",
   "metadata": {
    "colab_type": "text",
    "id": "1Fkn4SQRuosy"
   },
   "source": [
    "Create a TensorFlow graph that performs the linear equation, `y = mx + b`.\n",
    "\n",
    "*   `m` should be a 0D constant tensor with a value of 12.\n",
    "*   `b` should be a 0D constant tensor with a value of 32.\n",
    "*   `x` should be a 1D placeholder tensor of type int32.\n",
    "*   `y` should be variable tensor that receives the result of `mx + b`.\n",
    "\n",
    "Create a session and then:\n",
    "\n",
    "* print the value of `y` if `x` is [3, 30, 300] by feeding the `x` placeholder into an execution of the session.\n",
    "* print the value of `y` if `x` is [4, 40, 400, 4000] by feeding the `x` placeholder into an execution of the session.\n",
    "* print the value of `y` if `x` is [5, 50, 500, 50000, 500000] by feeding the `x` placeholder into an execution of the session.\n",
    "\n",
    "After you are done, be sure that the session is closed."
   ]
  },
  {
   "cell_type": "markdown",
   "metadata": {
    "colab_type": "text",
    "id": "2J0exBlRDl4y"
   },
   "source": [
    "### Student Solution"
   ]
  },
  {
   "cell_type": "code",
   "execution_count": 0,
   "metadata": {
    "colab": {},
    "colab_type": "code",
    "id": "F2BVbnA6u6Vg"
   },
   "outputs": [],
   "source": [
    "# Your code goes here"
   ]
  },
  {
   "cell_type": "markdown",
   "metadata": {
    "colab_type": "text",
    "id": "exercise-3-key-1"
   },
   "source": [
    "### Answer Key"
   ]
  },
  {
   "cell_type": "markdown",
   "metadata": {
    "colab_type": "text",
    "id": "B9lSsDaLDqrn"
   },
   "source": [
    "**Solution**"
   ]
  },
  {
   "cell_type": "code",
   "execution_count": 0,
   "metadata": {
    "colab": {},
    "colab_type": "code",
    "id": "woKMoxziO16O"
   },
   "outputs": [],
   "source": [
    "# Solution\n",
    "\n",
    "import tensorflow as tf\n",
    "\n",
    "m = tf.constant(12)\n",
    "b = tf.constant(32)\n",
    "x = tf.placeholder(dtype=tf.int32)\n",
    "y = m * x + b\n",
    "\n",
    "s = tf.Session()\n",
    "print(s.run(y, feed_dict={x: [3, 30, 300]}))\n",
    "print(s.run(y, feed_dict={x: [4, 40, 400, 4000]}))\n",
    "print(s.run(y, feed_dict={x: [5, 50, 500, 5000, 50000]}))\n",
    "s.close()\n"
   ]
  },
  {
   "cell_type": "markdown",
   "metadata": {
    "colab_type": "text",
    "id": "ochyLhvBDsDL"
   },
   "source": [
    "**Validation**"
   ]
  },
  {
   "cell_type": "code",
   "execution_count": 0,
   "metadata": {
    "colab": {},
    "colab_type": "code",
    "id": "Tpe07IahDtMG"
   },
   "outputs": [],
   "source": [
    "# TODO"
   ]
  },
  {
   "cell_type": "markdown",
   "metadata": {
    "colab_type": "text",
    "id": "Y2VadKhFvkzZ"
   },
   "source": [
    "## Exercise 4: Challenge (Ungraded)"
   ]
  },
  {
   "cell_type": "markdown",
   "metadata": {
    "colab_type": "text",
    "id": "3Q_Yxn-_DII3"
   },
   "source": [
    "Create a graph that performs the optimized normal equation with the pseudoinverse of the input matrix.\n",
    "\n",
    "The equation is:\n",
    "\n",
    "> $\\hat{\\theta} = X^+y$\n",
    "\n",
    "In your code:\n",
    "\n",
    "*  `X` is the input matrix of features.\n",
    "*  `y` is the input vector of targets.\n",
    "*  `theta` should be the variable result of the equation.\n",
    "\n",
    "Both `X` and `y` should be placeholder tensors.\n",
    "\n",
    "Load the [Pandas diabetes data](https://scikit-learn.org/stable/modules/generated/sklearn.datasets.load_diabetes.html).\n",
    "\n",
    "Pass in the diabetes data features as `X` and the targets as `y` and print the result of the equation. This can be done by creating a session and evaluating `theta` given the input data."
   ]
  },
  {
   "cell_type": "markdown",
   "metadata": {
    "colab_type": "text",
    "id": "Kc6vIQVTDvBw"
   },
   "source": [
    "### Student Solution"
   ]
  },
  {
   "cell_type": "code",
   "execution_count": 0,
   "metadata": {
    "colab": {},
    "colab_type": "code",
    "id": "VblZQhQ1yQlp"
   },
   "outputs": [],
   "source": [
    "# Your code goes here"
   ]
  },
  {
   "cell_type": "markdown",
   "metadata": {
    "colab_type": "text",
    "id": "exercise-4-key-1"
   },
   "source": [
    "### Answer Key"
   ]
  },
  {
   "cell_type": "markdown",
   "metadata": {
    "colab_type": "text",
    "id": "cDISpyMID0eP"
   },
   "source": [
    "**Solution**"
   ]
  },
  {
   "cell_type": "code",
   "execution_count": 0,
   "metadata": {
    "colab": {},
    "colab_type": "code",
    "id": "d_vCgyibDx4W"
   },
   "outputs": [],
   "source": [
    "# TODO"
   ]
  },
  {
   "cell_type": "markdown",
   "metadata": {
    "colab_type": "text",
    "id": "QWORaNTyDy0L"
   },
   "source": [
    "**Validation**"
   ]
  },
  {
   "cell_type": "code",
   "execution_count": 0,
   "metadata": {
    "colab": {},
    "colab_type": "code",
    "id": "sXSvhXX9D4lK"
   },
   "outputs": [],
   "source": [
    "# TODO"
   ]
  }
 ],
 "metadata": {
  "colab": {
   "collapsed_sections": [
    "copyright",
    "exercise-1-key-1",
    "exercise-2-key-1",
    "exercise-3-key-1",
    "exercise-4-key-1"
   ],
   "name": "Introduction to TensorFlow",
   "private_outputs": true,
   "provenance": [],
   "toc_visible": true,
   "version": "0.3.2"
  },
  "kernelspec": {
   "display_name": "Python 3",
   "name": "python3"
  }
 },
 "nbformat": 4,
 "nbformat_minor": 0
}
