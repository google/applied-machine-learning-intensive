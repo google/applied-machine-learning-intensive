{
  "nbformat": 4,
  "nbformat_minor": 0,
  "metadata": {
    "colab": {
      "name": "Acquiring Data",
      "provenance": [],
      "collapsed_sections": [
        "OzLFRcmOksBr"
      ],
      "toc_visible": true,
      "authorship_tag": "ABX9TyOSrvxXrou/h5GxRJosMIA2"
    },
    "kernelspec": {
      "name": "python3",
      "display_name": "Python 3"
    }
  },
  "cells": [
    {
      "cell_type": "markdown",
      "metadata": {
        "id": "OzLFRcmOksBr",
        "colab_type": "text"
      },
      "source": [
        "#### Copyright 2020 Google LLC."
      ]
    },
    {
      "cell_type": "code",
      "metadata": {
        "id": "3tZgyec1kaQy",
        "colab_type": "code",
        "colab": {}
      },
      "source": [
        "# Licensed under the Apache License, Version 2.0 (the \"License\");\n",
        "# you may not use this file except in compliance with the License.\n",
        "# You may obtain a copy of the License at\n",
        "#\n",
        "# https://www.apache.org/licenses/LICENSE-2.0\n",
        "#\n",
        "# Unless required by applicable law or agreed to in writing, software\n",
        "# distributed under the License is distributed on an \"AS IS\" BASIS,\n",
        "# WITHOUT WARRANTIES OR CONDITIONS OF ANY KIND, either express or implied.\n",
        "# See the License for the specific language governing permissions and\n",
        "# limitations under the License."
      ],
      "execution_count": 0,
      "outputs": []
    },
    {
      "cell_type": "markdown",
      "metadata": {
        "id": "PyPyGxHwkwdy",
        "colab_type": "text"
      },
      "source": [
        "# Acquiring Data"
      ]
    },
    {
      "cell_type": "markdown",
      "metadata": {
        "id": "KnIZ7zaIk1Jp",
        "colab_type": "text"
      },
      "source": [
        "The datasets that we have worked with so far have all been small enough that we have directly typed them in our code blocks. In reality, you'll need to bring in your data from an outside source.\n",
        "\n",
        "This can be done in many ways. We'll explore a few in this lab and also mention some methods that are out of scope for this course, but often seen in the wild."
      ]
    },
    {
      "cell_type": "markdown",
      "metadata": {
        "id": "hEF_UYMsleDY",
        "colab_type": "text"
      },
      "source": [
        "## Uploading Data"
      ]
    },
    {
      "cell_type": "markdown",
      "metadata": {
        "id": "nkTOvJPmlgpJ",
        "colab_type": "text"
      },
      "source": [
        "If you have the data that you want to work with on your computer you can work with it locally using [Python](http://python.org), [Jupyter](https://jupyter.org/), and/or many other tools. If you want to work with that data in Colab, you'll need to upload the data to Colab since Colab executes code on a virtual machine in the cloud, not locally on your computer.\n",
        "\n",
        "The first step of uploading data is having the data on your local machine.\n",
        "\n",
        "For this example we will use the famous [Iris Dataset](https://en.wikipedia.org/wiki/Iris_flower_data_set). There are many copies of this dataset on the internet. We'll use the [version hosted by the University of California Irvine](https://archive.ics.uci.edu/ml/datasets/Iris).\n",
        "\n",
        "The direct link to the dataset is [https://archive.ics.uci.edu/ml/machine-learning-databases/iris/iris.data](https://archive.ics.uci.edu/ml/machine-learning-databases/iris/iris.data).\n",
        "\n",
        "**Download `iris.data` now.**\n",
        "\n",
        "Once you have the data downloaded, you can upload the file to this Colab environment. To do that:\n",
        "\n",
        "1. click on the folder icon on the left of the Colab interface. This opens the 'Files' sidebar.\n",
        "1. At the top of the sidebar there is an 'Upload' link. Click the link in order to open a file selctor.\n",
        "1. Through the selector, find the `iris.data` file that you just downloaded.\n",
        "1. Click 'Open' or 'OK' to confirm the upload.\n",
        "\n",
        "You will see a warning about files not being saved. This is because the file is stored on a virutal machine in the cloud and when that machine is turned off, all files in it are lost. For classes like this you should be fine. For longer projects or long-running model trainings there are other ways and places to store your files. We'll get to those later in the course.\n",
        "\n",
        "Let's see if you uploaded the file successfully.\n",
        "\n",
        "**Run the code block below**"
      ]
    },
    {
      "cell_type": "code",
      "metadata": {
        "id": "vmb-D-kzri28",
        "colab_type": "code",
        "outputId": "a4be663d-4e93-449f-f348-dff1347c364d",
        "colab": {
          "base_uri": "https://localhost:8080/",
          "height": 419
        }
      },
      "source": [
        "import pandas as pd\n",
        "\n",
        "column_names = [\n",
        "  'sepal length',\n",
        "  'sepal width',\n",
        "  'petal length',\n",
        "  'petal width',\n",
        "  'class'\n",
        "]\n",
        "\n",
        "pd.read_csv('iris.data', names=column_names)"
      ],
      "execution_count": 0,
      "outputs": [
        {
          "output_type": "execute_result",
          "data": {
            "text/html": [
              "<div>\n",
              "<style scoped>\n",
              "    .dataframe tbody tr th:only-of-type {\n",
              "        vertical-align: middle;\n",
              "    }\n",
              "\n",
              "    .dataframe tbody tr th {\n",
              "        vertical-align: top;\n",
              "    }\n",
              "\n",
              "    .dataframe thead th {\n",
              "        text-align: right;\n",
              "    }\n",
              "</style>\n",
              "<table border=\"1\" class=\"dataframe\">\n",
              "  <thead>\n",
              "    <tr style=\"text-align: right;\">\n",
              "      <th></th>\n",
              "      <th>sepal length</th>\n",
              "      <th>sepal width</th>\n",
              "      <th>petal length</th>\n",
              "      <th>petal width</th>\n",
              "      <th>class</th>\n",
              "    </tr>\n",
              "  </thead>\n",
              "  <tbody>\n",
              "    <tr>\n",
              "      <th>0</th>\n",
              "      <td>5.1</td>\n",
              "      <td>3.5</td>\n",
              "      <td>1.4</td>\n",
              "      <td>0.2</td>\n",
              "      <td>Iris-setosa</td>\n",
              "    </tr>\n",
              "    <tr>\n",
              "      <th>1</th>\n",
              "      <td>4.9</td>\n",
              "      <td>3.0</td>\n",
              "      <td>1.4</td>\n",
              "      <td>0.2</td>\n",
              "      <td>Iris-setosa</td>\n",
              "    </tr>\n",
              "    <tr>\n",
              "      <th>2</th>\n",
              "      <td>4.7</td>\n",
              "      <td>3.2</td>\n",
              "      <td>1.3</td>\n",
              "      <td>0.2</td>\n",
              "      <td>Iris-setosa</td>\n",
              "    </tr>\n",
              "    <tr>\n",
              "      <th>3</th>\n",
              "      <td>4.6</td>\n",
              "      <td>3.1</td>\n",
              "      <td>1.5</td>\n",
              "      <td>0.2</td>\n",
              "      <td>Iris-setosa</td>\n",
              "    </tr>\n",
              "    <tr>\n",
              "      <th>4</th>\n",
              "      <td>5.0</td>\n",
              "      <td>3.6</td>\n",
              "      <td>1.4</td>\n",
              "      <td>0.2</td>\n",
              "      <td>Iris-setosa</td>\n",
              "    </tr>\n",
              "    <tr>\n",
              "      <th>...</th>\n",
              "      <td>...</td>\n",
              "      <td>...</td>\n",
              "      <td>...</td>\n",
              "      <td>...</td>\n",
              "      <td>...</td>\n",
              "    </tr>\n",
              "    <tr>\n",
              "      <th>145</th>\n",
              "      <td>6.7</td>\n",
              "      <td>3.0</td>\n",
              "      <td>5.2</td>\n",
              "      <td>2.3</td>\n",
              "      <td>Iris-virginica</td>\n",
              "    </tr>\n",
              "    <tr>\n",
              "      <th>146</th>\n",
              "      <td>6.3</td>\n",
              "      <td>2.5</td>\n",
              "      <td>5.0</td>\n",
              "      <td>1.9</td>\n",
              "      <td>Iris-virginica</td>\n",
              "    </tr>\n",
              "    <tr>\n",
              "      <th>147</th>\n",
              "      <td>6.5</td>\n",
              "      <td>3.0</td>\n",
              "      <td>5.2</td>\n",
              "      <td>2.0</td>\n",
              "      <td>Iris-virginica</td>\n",
              "    </tr>\n",
              "    <tr>\n",
              "      <th>148</th>\n",
              "      <td>6.2</td>\n",
              "      <td>3.4</td>\n",
              "      <td>5.4</td>\n",
              "      <td>2.3</td>\n",
              "      <td>Iris-virginica</td>\n",
              "    </tr>\n",
              "    <tr>\n",
              "      <th>149</th>\n",
              "      <td>5.9</td>\n",
              "      <td>3.0</td>\n",
              "      <td>5.1</td>\n",
              "      <td>1.8</td>\n",
              "      <td>Iris-virginica</td>\n",
              "    </tr>\n",
              "  </tbody>\n",
              "</table>\n",
              "<p>150 rows × 5 columns</p>\n",
              "</div>"
            ],
            "text/plain": [
              "     sepal length  sepal width  petal length  petal width           class\n",
              "0             5.1          3.5           1.4          0.2     Iris-setosa\n",
              "1             4.9          3.0           1.4          0.2     Iris-setosa\n",
              "2             4.7          3.2           1.3          0.2     Iris-setosa\n",
              "3             4.6          3.1           1.5          0.2     Iris-setosa\n",
              "4             5.0          3.6           1.4          0.2     Iris-setosa\n",
              "..            ...          ...           ...          ...             ...\n",
              "145           6.7          3.0           5.2          2.3  Iris-virginica\n",
              "146           6.3          2.5           5.0          1.9  Iris-virginica\n",
              "147           6.5          3.0           5.2          2.0  Iris-virginica\n",
              "148           6.2          3.4           5.4          2.3  Iris-virginica\n",
              "149           5.9          3.0           5.1          1.8  Iris-virginica\n",
              "\n",
              "[150 rows x 5 columns]"
            ]
          },
          "metadata": {
            "tags": []
          },
          "execution_count": 4
        }
      ]
    },
    {
      "cell_type": "markdown",
      "metadata": {
        "id": "Vjh_Fy1Bronb",
        "colab_type": "text"
      },
      "source": [
        "You should see a `DataFrame` containing information about iris flowers.\n",
        "\n",
        "If you get an error, you likely uploaded the wrong file or uploaded the file to the wrong location.\n",
        "\n",
        "By default Colab works in the `/content/` folder of the virtual machine. Most of the time this is invisible to you. However, when you uploaded the file you might have hit the 'Parent Directory' link instead of the 'Upload' link since they are close to each other and both have \"up arrow\" icons. If you see a long list of folders instead of a single `sample_data` folder in the files list, then you hit the 'Parent Directory' button. Unfortunately, the only way to redirect uploads to the correct folder is to restart your runtime."
      ]
    },
    {
      "cell_type": "markdown",
      "metadata": {
        "id": "WlLpm2Jmuq46",
        "colab_type": "text"
      },
      "source": [
        "## Downloading With Python"
      ]
    },
    {
      "cell_type": "markdown",
      "metadata": {
        "id": "W8iw28Imuw_9",
        "colab_type": "text"
      },
      "source": [
        "If your data is hosted online, you can use Python to directly download the data and bypass the download/upload cycle mentioned in the last section.\n",
        "\n",
        "One way to do this is to use the [`urllib.request`](https://docs.python.org/3/library/urllib.request.html) library's [`urlretrieve`](https://docs.python.org/3/library/urllib.request.html#urllib.request.urlretrieve) method.\n",
        "\n",
        "In the example below we request the `iris.names` file from UCI and then list the directory where it was downloaded. Notice that we "
      ]
    },
    {
      "cell_type": "code",
      "metadata": {
        "id": "1MgfvECEvQT8",
        "colab_type": "code",
        "outputId": "6be6a037-6c15-4ab2-db58-f61713258e37",
        "colab": {
          "base_uri": "https://localhost:8080/",
          "height": 51
        }
      },
      "source": [
        "import urllib.request\n",
        "import os\n",
        "\n",
        "urllib.request.urlretrieve(\n",
        "    'https://archive.ics.uci.edu/ml/machine-learning-databases/iris/iris.names',\n",
        "    'iris.names')\n",
        "\n",
        "os.listdir()"
      ],
      "execution_count": 0,
      "outputs": [
        {
          "output_type": "stream",
          "text": [
            ".\n",
            "['.config', 'iris.data', 'iris.names', 'sample_data']\n"
          ],
          "name": "stdout"
        }
      ]
    },
    {
      "cell_type": "markdown",
      "metadata": {
        "id": "_GkeI7jAw8qN",
        "colab_type": "text"
      },
      "source": [
        "## Downloading With Pandas"
      ]
    },
    {
      "cell_type": "markdown",
      "metadata": {
        "id": "m5umC0gNxP-Z",
        "colab_type": "text"
      },
      "source": [
        "It is possible to download data directly into a Pandas `DataFrame`. We have used `read_csv` in previous labs to load files from disk. If you pass `read_csv` a URL it will pull data from the internet and load that dat into a `DataFrame` in one shot."
      ]
    },
    {
      "cell_type": "code",
      "metadata": {
        "id": "AKCn7epnwLVH",
        "colab_type": "code",
        "outputId": "e91cd66d-f028-47c6-b37d-cfec62b4b7ba",
        "colab": {
          "base_uri": "https://localhost:8080/",
          "height": 419
        }
      },
      "source": [
        "import pandas as pd\n",
        "\n",
        "column_names = [\n",
        "  'sepal length',\n",
        "  'sepal width',\n",
        "  'petal length',\n",
        "  'petal width',\n",
        "  'class'\n",
        "]\n",
        "\n",
        "url = 'https://archive.ics.uci.edu/ml/machine-learning-databases/iris/iris.data'\n",
        "\n",
        "pd.read_csv(url, names=column_names)"
      ],
      "execution_count": 0,
      "outputs": [
        {
          "output_type": "execute_result",
          "data": {
            "text/html": [
              "<div>\n",
              "<style scoped>\n",
              "    .dataframe tbody tr th:only-of-type {\n",
              "        vertical-align: middle;\n",
              "    }\n",
              "\n",
              "    .dataframe tbody tr th {\n",
              "        vertical-align: top;\n",
              "    }\n",
              "\n",
              "    .dataframe thead th {\n",
              "        text-align: right;\n",
              "    }\n",
              "</style>\n",
              "<table border=\"1\" class=\"dataframe\">\n",
              "  <thead>\n",
              "    <tr style=\"text-align: right;\">\n",
              "      <th></th>\n",
              "      <th>sepal length</th>\n",
              "      <th>sepal width</th>\n",
              "      <th>petal length</th>\n",
              "      <th>petal width</th>\n",
              "      <th>class</th>\n",
              "    </tr>\n",
              "  </thead>\n",
              "  <tbody>\n",
              "    <tr>\n",
              "      <th>0</th>\n",
              "      <td>5.1</td>\n",
              "      <td>3.5</td>\n",
              "      <td>1.4</td>\n",
              "      <td>0.2</td>\n",
              "      <td>Iris-setosa</td>\n",
              "    </tr>\n",
              "    <tr>\n",
              "      <th>1</th>\n",
              "      <td>4.9</td>\n",
              "      <td>3.0</td>\n",
              "      <td>1.4</td>\n",
              "      <td>0.2</td>\n",
              "      <td>Iris-setosa</td>\n",
              "    </tr>\n",
              "    <tr>\n",
              "      <th>2</th>\n",
              "      <td>4.7</td>\n",
              "      <td>3.2</td>\n",
              "      <td>1.3</td>\n",
              "      <td>0.2</td>\n",
              "      <td>Iris-setosa</td>\n",
              "    </tr>\n",
              "    <tr>\n",
              "      <th>3</th>\n",
              "      <td>4.6</td>\n",
              "      <td>3.1</td>\n",
              "      <td>1.5</td>\n",
              "      <td>0.2</td>\n",
              "      <td>Iris-setosa</td>\n",
              "    </tr>\n",
              "    <tr>\n",
              "      <th>4</th>\n",
              "      <td>5.0</td>\n",
              "      <td>3.6</td>\n",
              "      <td>1.4</td>\n",
              "      <td>0.2</td>\n",
              "      <td>Iris-setosa</td>\n",
              "    </tr>\n",
              "    <tr>\n",
              "      <th>...</th>\n",
              "      <td>...</td>\n",
              "      <td>...</td>\n",
              "      <td>...</td>\n",
              "      <td>...</td>\n",
              "      <td>...</td>\n",
              "    </tr>\n",
              "    <tr>\n",
              "      <th>145</th>\n",
              "      <td>6.7</td>\n",
              "      <td>3.0</td>\n",
              "      <td>5.2</td>\n",
              "      <td>2.3</td>\n",
              "      <td>Iris-virginica</td>\n",
              "    </tr>\n",
              "    <tr>\n",
              "      <th>146</th>\n",
              "      <td>6.3</td>\n",
              "      <td>2.5</td>\n",
              "      <td>5.0</td>\n",
              "      <td>1.9</td>\n",
              "      <td>Iris-virginica</td>\n",
              "    </tr>\n",
              "    <tr>\n",
              "      <th>147</th>\n",
              "      <td>6.5</td>\n",
              "      <td>3.0</td>\n",
              "      <td>5.2</td>\n",
              "      <td>2.0</td>\n",
              "      <td>Iris-virginica</td>\n",
              "    </tr>\n",
              "    <tr>\n",
              "      <th>148</th>\n",
              "      <td>6.2</td>\n",
              "      <td>3.4</td>\n",
              "      <td>5.4</td>\n",
              "      <td>2.3</td>\n",
              "      <td>Iris-virginica</td>\n",
              "    </tr>\n",
              "    <tr>\n",
              "      <th>149</th>\n",
              "      <td>5.9</td>\n",
              "      <td>3.0</td>\n",
              "      <td>5.1</td>\n",
              "      <td>1.8</td>\n",
              "      <td>Iris-virginica</td>\n",
              "    </tr>\n",
              "  </tbody>\n",
              "</table>\n",
              "<p>150 rows × 5 columns</p>\n",
              "</div>"
            ],
            "text/plain": [
              "     sepal length  sepal width  petal length  petal width           class\n",
              "0             5.1          3.5           1.4          0.2     Iris-setosa\n",
              "1             4.9          3.0           1.4          0.2     Iris-setosa\n",
              "2             4.7          3.2           1.3          0.2     Iris-setosa\n",
              "3             4.6          3.1           1.5          0.2     Iris-setosa\n",
              "4             5.0          3.6           1.4          0.2     Iris-setosa\n",
              "..            ...          ...           ...          ...             ...\n",
              "145           6.7          3.0           5.2          2.3  Iris-virginica\n",
              "146           6.3          2.5           5.0          1.9  Iris-virginica\n",
              "147           6.5          3.0           5.2          2.0  Iris-virginica\n",
              "148           6.2          3.4           5.4          2.3  Iris-virginica\n",
              "149           5.9          3.0           5.1          1.8  Iris-virginica\n",
              "\n",
              "[150 rows x 5 columns]"
            ]
          },
          "metadata": {
            "tags": []
          },
          "execution_count": 14
        }
      ]
    },
    {
      "cell_type": "markdown",
      "metadata": {
        "id": "QCf9PZcExl1_",
        "colab_type": "text"
      },
      "source": [
        "## Kaggle Data"
      ]
    },
    {
      "cell_type": "markdown",
      "metadata": {
        "id": "Ohm8LanNxnqi",
        "colab_type": "text"
      },
      "source": [
        "Kaggle is a popular machine learning and data science educational playground. There are many interesting datasets hosted on [Kaggle's datasets page](https://www.kaggle.com/datasets).\n",
        "\n",
        "If you [navigate to a dataset](https://www.kaggle.com/joshmcadams/oranges-vs-grapefruit) you won't be able to download it until you create a Kaggle account.\n",
        "\n",
        "We'll be using Kaggle in this course. Even outside of the course, Kaggle is a great place to learn and experiment with machine learning and data science, all while building your public machine learning and data science resume.\n",
        "\n",
        "**Log in to Kaggle now. Create a new account if you need to.**\n",
        "\n",
        "At this point you should have a Kaggle account. You can now download [a dataset](https://www.kaggle.com/joshmcadams/oranges-vs-grapefruit) by clicking on the 'Download' link at the top of the information page for the dataset.\n",
        "\n",
        "If you download the [Oranges vs. Grapefruit](https://www.kaggle.com/static/images/site-logo.png) dataset you should not have a file called `oranges-vs-grapefruit.zip` on your computer.\n",
        "\n",
        "**Upload `oranges-vs-grapefruit.zip` to this lab.**\n",
        "\n",
        "Now that you have uploaded `oranges-vs-grapefruit.zip`, we can load it into a `DataFrame`."
      ]
    },
    {
      "cell_type": "code",
      "metadata": {
        "id": "yLT5gyw5zS02",
        "colab_type": "code",
        "outputId": "be529372-dc66-4c7a-ca5f-a0ffc2df7ce0",
        "colab": {
          "base_uri": "https://localhost:8080/",
          "height": 419
        }
      },
      "source": [
        "import pandas as pd\n",
        "\n",
        "pd.read_csv('oranges-vs-grapefruit.zip')"
      ],
      "execution_count": 0,
      "outputs": [
        {
          "output_type": "execute_result",
          "data": {
            "text/html": [
              "<div>\n",
              "<style scoped>\n",
              "    .dataframe tbody tr th:only-of-type {\n",
              "        vertical-align: middle;\n",
              "    }\n",
              "\n",
              "    .dataframe tbody tr th {\n",
              "        vertical-align: top;\n",
              "    }\n",
              "\n",
              "    .dataframe thead th {\n",
              "        text-align: right;\n",
              "    }\n",
              "</style>\n",
              "<table border=\"1\" class=\"dataframe\">\n",
              "  <thead>\n",
              "    <tr style=\"text-align: right;\">\n",
              "      <th></th>\n",
              "      <th>name</th>\n",
              "      <th>diameter</th>\n",
              "      <th>weight</th>\n",
              "      <th>red</th>\n",
              "      <th>green</th>\n",
              "      <th>blue</th>\n",
              "    </tr>\n",
              "  </thead>\n",
              "  <tbody>\n",
              "    <tr>\n",
              "      <th>0</th>\n",
              "      <td>orange</td>\n",
              "      <td>2.96</td>\n",
              "      <td>86.76</td>\n",
              "      <td>172</td>\n",
              "      <td>85</td>\n",
              "      <td>2</td>\n",
              "    </tr>\n",
              "    <tr>\n",
              "      <th>1</th>\n",
              "      <td>orange</td>\n",
              "      <td>3.91</td>\n",
              "      <td>88.05</td>\n",
              "      <td>166</td>\n",
              "      <td>78</td>\n",
              "      <td>3</td>\n",
              "    </tr>\n",
              "    <tr>\n",
              "      <th>2</th>\n",
              "      <td>orange</td>\n",
              "      <td>4.42</td>\n",
              "      <td>95.17</td>\n",
              "      <td>156</td>\n",
              "      <td>81</td>\n",
              "      <td>2</td>\n",
              "    </tr>\n",
              "    <tr>\n",
              "      <th>3</th>\n",
              "      <td>orange</td>\n",
              "      <td>4.47</td>\n",
              "      <td>95.60</td>\n",
              "      <td>163</td>\n",
              "      <td>81</td>\n",
              "      <td>4</td>\n",
              "    </tr>\n",
              "    <tr>\n",
              "      <th>4</th>\n",
              "      <td>orange</td>\n",
              "      <td>4.48</td>\n",
              "      <td>95.76</td>\n",
              "      <td>161</td>\n",
              "      <td>72</td>\n",
              "      <td>9</td>\n",
              "    </tr>\n",
              "    <tr>\n",
              "      <th>...</th>\n",
              "      <td>...</td>\n",
              "      <td>...</td>\n",
              "      <td>...</td>\n",
              "      <td>...</td>\n",
              "      <td>...</td>\n",
              "      <td>...</td>\n",
              "    </tr>\n",
              "    <tr>\n",
              "      <th>9995</th>\n",
              "      <td>grapefruit</td>\n",
              "      <td>15.35</td>\n",
              "      <td>253.89</td>\n",
              "      <td>149</td>\n",
              "      <td>77</td>\n",
              "      <td>20</td>\n",
              "    </tr>\n",
              "    <tr>\n",
              "      <th>9996</th>\n",
              "      <td>grapefruit</td>\n",
              "      <td>15.41</td>\n",
              "      <td>254.67</td>\n",
              "      <td>148</td>\n",
              "      <td>68</td>\n",
              "      <td>7</td>\n",
              "    </tr>\n",
              "    <tr>\n",
              "      <th>9997</th>\n",
              "      <td>grapefruit</td>\n",
              "      <td>15.59</td>\n",
              "      <td>256.50</td>\n",
              "      <td>168</td>\n",
              "      <td>82</td>\n",
              "      <td>20</td>\n",
              "    </tr>\n",
              "    <tr>\n",
              "      <th>9998</th>\n",
              "      <td>grapefruit</td>\n",
              "      <td>15.92</td>\n",
              "      <td>260.14</td>\n",
              "      <td>142</td>\n",
              "      <td>72</td>\n",
              "      <td>11</td>\n",
              "    </tr>\n",
              "    <tr>\n",
              "      <th>9999</th>\n",
              "      <td>grapefruit</td>\n",
              "      <td>16.45</td>\n",
              "      <td>261.51</td>\n",
              "      <td>152</td>\n",
              "      <td>74</td>\n",
              "      <td>2</td>\n",
              "    </tr>\n",
              "  </tbody>\n",
              "</table>\n",
              "<p>10000 rows × 6 columns</p>\n",
              "</div>"
            ],
            "text/plain": [
              "            name  diameter  weight  red  green  blue\n",
              "0         orange      2.96   86.76  172     85     2\n",
              "1         orange      3.91   88.05  166     78     3\n",
              "2         orange      4.42   95.17  156     81     2\n",
              "3         orange      4.47   95.60  163     81     4\n",
              "4         orange      4.48   95.76  161     72     9\n",
              "...          ...       ...     ...  ...    ...   ...\n",
              "9995  grapefruit     15.35  253.89  149     77    20\n",
              "9996  grapefruit     15.41  254.67  148     68     7\n",
              "9997  grapefruit     15.59  256.50  168     82    20\n",
              "9998  grapefruit     15.92  260.14  142     72    11\n",
              "9999  grapefruit     16.45  261.51  152     74     2\n",
              "\n",
              "[10000 rows x 6 columns]"
            ]
          },
          "metadata": {
            "tags": []
          },
          "execution_count": 16
        }
      ]
    },
    {
      "cell_type": "markdown",
      "metadata": {
        "id": "PBCwLg-Ozheo",
        "colab_type": "text"
      },
      "source": [
        "Notice that the file that we loaded was `oranges-vs-grapefruit.zip`, which is a zip file, not a csv file. Zip files are 'compressed' files. We do this to save space. However, if you were to open `oranges-vs-grapefruit.zip` in a text editor you wouldn't be able to read it. Lucky for us, `read_csv` knows what to do when it receives a compressed file."
      ]
    },
    {
      "cell_type": "markdown",
      "metadata": {
        "id": "JmNyBu5k0PgP",
        "colab_type": "text"
      },
      "source": [
        "Sometimes we will want to decompress a file before creating a `DataFrame`. Zip files can contain more than one file, so we might need to unzip and then load files individually into `DataFrame` objects.\n",
        "\n",
        "To do this we use the `zipfile` library.\n",
        "\n",
        "In the example below we open the zip file and then extract all of the contained files into the current directory. We then list the directory and see that we now have a `citrus.csv` file, which is the uncompressed contents of `oranges-vs-grapefruit.zip`. This csv can then be loaded into a `DataFrame` directly."
      ]
    },
    {
      "cell_type": "code",
      "metadata": {
        "id": "w-3EWuA1z7ay",
        "colab_type": "code",
        "outputId": "00eca29e-0d16-4dfc-e6f4-f92c3ebd9bc3",
        "colab": {
          "base_uri": "https://localhost:8080/",
          "height": 34
        }
      },
      "source": [
        "import zipfile\n",
        "import os\n",
        "\n",
        "with zipfile.ZipFile('oranges-vs-grapefruit.zip','r') as z:\n",
        "    z.extractall('./')\n",
        "\n",
        "os.listdir()"
      ],
      "execution_count": 0,
      "outputs": [
        {
          "output_type": "execute_result",
          "data": {
            "text/plain": [
              "['.config', 'iris.data', 'targeted', 'iris.names', 'citrus.csv', 'sample_data']"
            ]
          },
          "metadata": {
            "tags": []
          },
          "execution_count": 18
        }
      ]
    },
    {
      "cell_type": "markdown",
      "metadata": {
        "id": "oWRsl7N30-Km",
        "colab_type": "text"
      },
      "source": [
        "Zip is one of my file compression formats. And, it is actually more than just a compression format. Remember when we mentioned above that a zip file might contain multiple files? The combining of one or more files is known as archiving. The reduction in size of files is known as compression. Zip is actually an archiving and compression algorithm.\n",
        "\n",
        "You can find a list of similar types of algorithms [on Wikipedia](https://en.wikipedia.org/wiki/List_of_archive_formats)."
      ]
    },
    {
      "cell_type": "markdown",
      "metadata": {
        "id": "1eBUwkGZ1qnW",
        "colab_type": "text"
      },
      "source": [
        "### Direct Downloads"
      ]
    },
    {
      "cell_type": "markdown",
      "metadata": {
        "id": "KCl0OpHT1v8M",
        "colab_type": "text"
      },
      "source": [
        "We've been able to download data from Kaggle and then upload it to Colab. For large datasets this might not work well. You'll have to download the data once from Kaggle's servers to your local machine. Then you need to upload it from your local machine to Colab's servers in order to actually process the data.\n",
        "\n",
        "Kaggle offers an [API](https://github.com/Kaggle/kaggle-api) that comes with a command line program that can help you download files directly from Kaggle to Colab."
      ]
    },
    {
      "cell_type": "markdown",
      "metadata": {
        "id": "D3IrHnuS2LxO",
        "colab_type": "text"
      },
      "source": [
        "#### Credentials"
      ]
    },
    {
      "cell_type": "markdown",
      "metadata": {
        "id": "ymODi7Hz2dtE",
        "colab_type": "text"
      },
      "source": [
        "In order to use the API you'll need to \"log in\" to Kaggle. This is done using [API credentials](https://github.com/Kaggle/kaggle-api#api-credentials) in the form of an API token.\n",
        "\n",
        "To do that:\n",
        "\n",
        "1. Navigate to the 'Account' tab of your user profile in Kaggle: https://www.kaggle.com/<username>/account.\n",
        "1. Click the \"Create New API Token\" button. This will download a `kaggle.json` file containing your API credentials\n",
        "1. Upload the `kaggle.json` file to this lab.\n",
        "\n",
        "**Warning: Keep your `kaggle.json` private! It contains information that will allow people to authenticate into Kaggle using your user account.**\n",
        "\n",
        "At this point you should have a `kaggle.json` file in the file list on the left. We can now download a dataset using the `kaggle` command and `datasets` subcommand:"
      ]
    },
    {
      "cell_type": "code",
      "metadata": {
        "id": "MlR0BhcL7fOK",
        "colab_type": "code",
        "outputId": "b4e4292d-1dfc-4d06-acbd-921f5d5128f6",
        "colab": {
          "base_uri": "https://localhost:8080/",
          "height": 85
        }
      },
      "source": [
        "! KAGGLE_CONFIG_DIR=/content/ kaggle datasets download joshmcadams/oranges-vs-grapefruit"
      ],
      "execution_count": 0,
      "outputs": [
        {
          "output_type": "stream",
          "text": [
            "Warning: Your Kaggle API key is readable by other users on this system! To fix this, you can run 'chmod 600 /content/kaggle.json'\n",
            "Downloading oranges-vs-grapefruit.zip to /content\n",
            "  0% 0.00/61.2k [00:00<?, ?B/s]\n",
            "100% 61.2k/61.2k [00:00<00:00, 23.1MB/s]\n"
          ],
          "name": "stdout"
        }
      ]
    },
    {
      "cell_type": "markdown",
      "metadata": {
        "id": "zO0x1RZS-E-k",
        "colab_type": "text"
      },
      "source": [
        "You should see text similar to:\n",
        "\n",
        "```\n",
        "Downloading oranges-vs-grapefruit.zip to /content\n",
        "  0% 0.00/61.2k [00:00<?, ?B/s]\n",
        "100% 61.2k/61.2k [00:00<00:00, 23.1MB/s]\n",
        "```\n",
        "\n",
        "If you do, then you successfully downloaded the dataset!\n",
        "\n",
        "You might have also seen a warning like this:\n",
        "\n",
        "```\n",
        "Warning: Your Kaggle API key is readable by other users on this system! To fix this, you can run 'chmod 600 /content/kaggle.json'\n",
        "```\n",
        "\n",
        "If so, it means that the `kaggle.json` file is readable by people other than you. This is probably okay since you are own a virtual machine by yourself. If you do want to fix the warning run `chmod` as instructed."
      ]
    },
    {
      "cell_type": "code",
      "metadata": {
        "id": "Dv_01Ph4-cuo",
        "colab_type": "code",
        "outputId": "3e4e729f-c175-407a-9a5f-f3ac38a4243c",
        "colab": {
          "base_uri": "https://localhost:8080/",
          "height": 34
        }
      },
      "source": [
        "! chmod 600 kaggle.json"
      ],
      "execution_count": 0,
      "outputs": [
        {
          "output_type": "stream",
          "text": [
            "-rw------- 1 root root 67 Feb 26 23:56 kaggle.json\n"
          ],
          "name": "stdout"
        }
      ]
    },
    {
      "cell_type": "markdown",
      "metadata": {
        "id": "bq22us4ZAKuc",
        "colab_type": "text"
      },
      "source": [
        "You might also be wondering what that `KAGGLE_CONFIG_DIR=/content/` in front of the `kaggle` command.\n",
        "\n",
        "This is telling `kaggle` where to find your `kaggle.json` file. `kaggle` expects the file to be in `~/.kaggle/`. Since we didn't upload it there, `kaggle` can't find `kaggle.json` without us leading it to the correct folder.\n",
        "\n",
        "If you want to not have to do this, move `kaggle.json`."
      ]
    },
    {
      "cell_type": "markdown",
      "metadata": {
        "id": "yLTyib-S5Tcr",
        "colab_type": "text"
      },
      "source": [
        "First make sure the directory exists."
      ]
    },
    {
      "cell_type": "code",
      "metadata": {
        "id": "UyzQyfhJ5W7i",
        "colab_type": "code",
        "colab": {}
      },
      "source": [
        "! ls ~/.kaggle 2>/dev/null || mkdir ~/.kaggle"
      ],
      "execution_count": 0,
      "outputs": []
    },
    {
      "cell_type": "markdown",
      "metadata": {
        "id": "eU0tGSrF5aU9",
        "colab_type": "text"
      },
      "source": [
        "And then move the file."
      ]
    },
    {
      "cell_type": "code",
      "metadata": {
        "id": "8WUEnObbAmoU",
        "colab_type": "code",
        "outputId": "9eaf1351-8cd6-463c-9640-b71ad554fdf7",
        "colab": {
          "base_uri": "https://localhost:8080/",
          "height": 34
        }
      },
      "source": [
        "! mv kaggle.json ~/.kaggle"
      ],
      "execution_count": 0,
      "outputs": [
        {
          "output_type": "stream",
          "text": [
            "mv: cannot stat 'kaggle.json': No such file or directory\n"
          ],
          "name": "stdout"
        }
      ]
    },
    {
      "cell_type": "markdown",
      "metadata": {
        "id": "4JfmzwIZA0mY",
        "colab_type": "text"
      },
      "source": [
        "Now you can run the `kaggle` command without having to set the configuration directory."
      ]
    },
    {
      "cell_type": "code",
      "metadata": {
        "id": "5lAvVVC-A4sQ",
        "colab_type": "code",
        "outputId": "ee484dfa-6ae6-4ddd-fcad-95bfccc45a69",
        "colab": {
          "base_uri": "https://localhost:8080/",
          "height": 34
        }
      },
      "source": [
        "! kaggle datasets download joshmcadams/oranges-vs-grapefruit"
      ],
      "execution_count": 0,
      "outputs": [
        {
          "output_type": "stream",
          "text": [
            "oranges-vs-grapefruit.zip: Skipping, found more recently modified local copy (use --force to force download)\n"
          ],
          "name": "stdout"
        }
      ]
    },
    {
      "cell_type": "markdown",
      "metadata": {
        "id": "ON00-WJMA8Rf",
        "colab_type": "text"
      },
      "source": [
        "Note that you'll have to repeat this process every time your virtual machine resets. The setup will live through reloads though.\n",
        "\n",
        "Keep a copy of your `kaggle.json` file on your local machine. Then, when you need to load your credentials into a colab just:\n",
        "\n",
        "1. Upload `kaggle.json`\n",
        "1. Create a code block and run `! chmod 600 kaggle.json && (ls ~/.kaggle 2>/dev/null || mkdir ~/.kaggle) && mv kaggle.json ~/.kaggle/ && echo 'Done'`"
      ]
    },
    {
      "cell_type": "markdown",
      "metadata": {
        "id": "JbZ9rcZnCvEX",
        "colab_type": "text"
      },
      "source": [
        "## Other Data Acquisition Methods\n",
        "\n",
        "### Databases\n",
        "\n",
        "It is possible to interact with databases directly from Python and therefore from Colab and other notebook environments. Python has a standard [database API](https://www.python.org/dev/peps/pep-0249/) and [many toolkits](https://docs.python-guide.org/scenarios/db/) that make interacting with databases easier.\n",
        "\n",
        "If your data is stored in a database, you'll need to work with a database administrator to get access credentials and to understand the data and how it is stored.\n",
        "\n",
        "### APIs\n",
        "\n",
        "Data can also be accessed by application programming interface (API). APIs provide a way for you to write Python code that interacts with another system in a well defined way.\n",
        "\n",
        "For example, [Twitter](http://twitter.com) has an [API](https://developer.twitter.com/en/docs) that allows you to work with tweets. There are even abstraction layers like [Tweepy](https://www.tweepy.org/) that make working with the API even easier.\n",
        "\n",
        "Every system has their own API with different methods and calling patterns. You'll hear terms like REST and SOAP, JSON and XML thrown around when talking about specific APIs."
      ]
    }
  ]
}
