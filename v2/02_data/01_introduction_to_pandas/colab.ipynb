{
  "nbformat": 4,
  "nbformat_minor": 0,
  "metadata": {
    "colab": {
      "name": "Introduction to Pandas",
      "provenance": [],
      "private_outputs": true,
      "collapsed_sections": [
        "J2a8KT0jNMrt",
        "CcuCM7zaBsgS",
        "4F9kWpQ3X3xG",
        "rf7_6EyjjrRZ",
        "4G8kskdkd_lv",
        "I2yL_Oyoh_0c"
      ],
      "toc_visible": true
    },
    "kernelspec": {
      "name": "python3",
      "display_name": "Python 3"
    }
  },
  "cells": [
    {
      "cell_type": "markdown",
      "metadata": {
        "id": "J2a8KT0jNMrt",
        "colab_type": "text"
      },
      "source": [
        "####Copyright 2020 Google LLC."
      ]
    },
    {
      "cell_type": "code",
      "metadata": {
        "id": "5i5kL8_wNNvo",
        "colab_type": "code",
        "colab": {}
      },
      "source": [
        "# Licensed under the Apache License, Version 2.0 (the \"License\");\n",
        "# you may not use this file except in compliance with the License.\n",
        "# You may obtain a copy of the License at\n",
        "#\n",
        "# https://www.apache.org/licenses/LICENSE-2.0\n",
        "#\n",
        "# Unless required by applicable law or agreed to in writing, software\n",
        "# distributed under the License is distributed on an \"AS IS\" BASIS,\n",
        "# WITHOUT WARRANTIES OR CONDITIONS OF ANY KIND, either express or implied.\n",
        "# See the License for the specific language governing permissions and\n",
        "# limitations under the License."
      ],
      "execution_count": 0,
      "outputs": []
    },
    {
      "cell_type": "markdown",
      "metadata": {
        "colab_type": "text",
        "id": "4b6a60p_OCiW"
      },
      "source": [
        "# Introduction to Pandas\n",
        "\n",
        "[Pandas](https://pandas.pydata.org/) is an open-source library for data analysis and manipulation. It is a go-to toolkit for data scientists and is used extensively in this course.\n",
        "\n",
        "Pandas integrates seamlessly with other Python libraries such as [NumPy](http://www.numpy.org) and [Matplotlib](http://www.matplotlib.org) for numeric processing and visualizations.\n",
        "\n",
        "When using Pandas, we will primarily interact with [DataFrames](https://pandas.pydata.org/pandas-docs/stable/reference/api/pandas.DataFrame.html) and [Series](https://pandas.pydata.org/pandas-docs/stable/reference/series.html), which we will introduce in this lab."
      ]
    },
    {
      "cell_type": "markdown",
      "metadata": {
        "id": "vkjMnw7c7WTc",
        "colab_type": "text"
      },
      "source": [
        "## Importing Pandas\n",
        "\n",
        "In order to use Pandas, you must import it. This is as simple as:\n",
        "\n",
        "```python\n",
        "import pandas\n",
        "```\n",
        "\n",
        "However, you'll rarely see Pandas imported this way. By convention programmers rename Pandas to `pd`. This isn't a requirement, but it is a pattern that you'll see repeated often.\n",
        "\n",
        "To import Pandas in the conventional manner run the code block below."
      ]
    },
    {
      "cell_type": "code",
      "metadata": {
        "id": "t_i-rT9N8Iou",
        "colab_type": "code",
        "colab": {}
      },
      "source": [
        "import pandas as pd\n",
        "\n",
        "pd.__version__"
      ],
      "execution_count": 0,
      "outputs": []
    },
    {
      "cell_type": "markdown",
      "metadata": {
        "id": "C07_w8VL8l_J",
        "colab_type": "text"
      },
      "source": [
        "After importing Pandas as `pd` we can use pandas by calling methods provided by `pd`. In the code block above we printed the Pandas version.\n",
        "\n",
        "Pandas went 1.0.0 on January 29, 2020. The interface should stay relatively stable until a 2.0.0 release is declared sometime in the future. If you ever have a problem where a Pandas function isn't acting the way you think it should, be sure to check out which version you are using and find the documentation for that specific version."
      ]
    },
    {
      "cell_type": "markdown",
      "metadata": {
        "id": "6Lde64-x9QX5",
        "colab_type": "text"
      },
      "source": [
        "## Pandas Series"
      ]
    },
    {
      "cell_type": "markdown",
      "metadata": {
        "id": "3z9fwxzVHDBp",
        "colab_type": "text"
      },
      "source": [
        "A [Series](https://pandas.pydata.org/pandas-docs/stable/reference/series.html) represents a sequential list of data. It is a foundational building block of the powerful [DataFrame](https://pandas.pydata.org/pandas-docs/stable/reference/api/pandas.DataFrame.html) that we'll cover later in this lab."
      ]
    },
    {
      "cell_type": "markdown",
      "metadata": {
        "id": "-oAlhrAG9lc6",
        "colab_type": "text"
      },
      "source": [
        "### Creating a Series\n",
        "\n",
        "We create a new `Series` object as we would any Python object:\n",
        "\n",
        "```python\n",
        "s = pd.Series()\n",
        "```\n",
        "\n",
        "This creates a new, empty `Series` object, which isn't very interesting. You can create a series object with data by passing it a list or tuple:"
      ]
    },
    {
      "cell_type": "code",
      "metadata": {
        "id": "7vXrfIIJ9ocv",
        "colab_type": "code",
        "colab": {}
      },
      "source": [
        "temperatures = [55, 63, 72, 65, 63, 75, 67, 59, 82, 54]\n",
        "\n",
        "series = pd.Series(temperatures)\n",
        "\n",
        "print(type(series))\n",
        "print(series)"
      ],
      "execution_count": 0,
      "outputs": []
    },
    {
      "cell_type": "markdown",
      "metadata": {
        "id": "grcARA89-4BI",
        "colab_type": "text"
      },
      "source": [
        "Here we created a new `pandas.core.series.Series` object with ten values presumably representing some temperature measurement."
      ]
    },
    {
      "cell_type": "markdown",
      "metadata": {
        "id": "N13kNb0m_T3t",
        "colab_type": "text"
      },
      "source": [
        "### Analyzing a Series\n",
        "\n",
        "You can ask the series to compute information about itself. The `describe()` method provides statistics about the series."
      ]
    },
    {
      "cell_type": "code",
      "metadata": {
        "id": "b3sVqlhj_M61",
        "colab_type": "code",
        "colab": {}
      },
      "source": [
        "series.describe()"
      ],
      "execution_count": 0,
      "outputs": []
    },
    {
      "cell_type": "markdown",
      "metadata": {
        "id": "v3POByAk_1U2",
        "colab_type": "text"
      },
      "source": [
        "You can also find other information about a `Series` such as if its values are all unique:"
      ]
    },
    {
      "cell_type": "code",
      "metadata": {
        "id": "bYppQOdnADYw",
        "colab_type": "code",
        "colab": {}
      },
      "source": [
        "series.is_unique"
      ],
      "execution_count": 0,
      "outputs": []
    },
    {
      "cell_type": "markdown",
      "metadata": {
        "id": "dnf7A_IyAJ-o",
        "colab_type": "text"
      },
      "source": [
        "Or if it is monotonically increasing or decreasing:"
      ]
    },
    {
      "cell_type": "code",
      "metadata": {
        "id": "nwnBtvZvAOk8",
        "colab_type": "code",
        "colab": {}
      },
      "source": [
        "print(series.is_monotonic)"
      ],
      "execution_count": 0,
      "outputs": []
    },
    {
      "cell_type": "markdown",
      "metadata": {
        "id": "kyc0HP_eAZ9q",
        "colab_type": "text"
      },
      "source": [
        "#### Exercise 1: Standard Deviation\n",
        "\n",
        "Create a series using the list of values provided below. Then, using a function in the [Series](https://pandas.pydata.org/pandas-docs/stable/reference/series.html) class, find the standard deviation of the values in that series and store it in the variable `std_dev`."
      ]
    },
    {
      "cell_type": "markdown",
      "metadata": {
        "id": "s_8aPljkA_Om",
        "colab_type": "text"
      },
      "source": [
        "**Student Solution**"
      ]
    },
    {
      "cell_type": "code",
      "metadata": {
        "id": "HQ430Um3BBXE",
        "colab_type": "code",
        "colab": {}
      },
      "source": [
        "import pandas as pd\n",
        "\n",
        "weights = (120, 143, 98, 280, 175, 205, 210, 115, 122, 175, 201)\n",
        "\n",
        "series = None # Create a series and assign it here.\n",
        "\n",
        "std_dev = None # Find the standard deviation of the series and assign it here.\n",
        "\n",
        "print(std_dev)"
      ],
      "execution_count": 0,
      "outputs": []
    },
    {
      "cell_type": "markdown",
      "metadata": {
        "id": "bJELcyz-7kXH",
        "colab_type": "text"
      },
      "source": [
        "---"
      ]
    },
    {
      "cell_type": "markdown",
      "metadata": {
        "id": "CcuCM7zaBsgS",
        "colab_type": "text"
      },
      "source": [
        "##### Answer Key"
      ]
    },
    {
      "cell_type": "code",
      "metadata": {
        "id": "FRQ712JfBvNy",
        "colab_type": "code",
        "colab": {}
      },
      "source": [
        "import pandas as pd\n",
        "\n",
        "weights = (120, 143, 98, 280, 175, 205, 210, 115, 122, 175, 201)\n",
        "\n",
        "series = pd.Series(weights)\n",
        "\n",
        "std_dev = series.std()\n",
        "\n",
        "print(std_dev)"
      ],
      "execution_count": 0,
      "outputs": []
    },
    {
      "cell_type": "markdown",
      "metadata": {
        "id": "RJ27wdPx7mUv",
        "colab_type": "text"
      },
      "source": [
        "---"
      ]
    },
    {
      "cell_type": "markdown",
      "metadata": {
        "id": "4icP6JbDB8Iy",
        "colab_type": "text"
      },
      "source": [
        "### Accessing Values\n",
        "\n",
        "Let's take another look at the first series that we created in this lab:"
      ]
    },
    {
      "cell_type": "code",
      "metadata": {
        "id": "EIsjHq0LCTBi",
        "colab_type": "code",
        "colab": {}
      },
      "source": [
        "temperatures = [55, 63, 72, 65, 63, 75, 67, 59, 82, 54]\n",
        "\n",
        "series = pd.Series(temperatures)\n",
        "\n",
        "print(type(series))\n",
        "print(series)"
      ],
      "execution_count": 0,
      "outputs": []
    },
    {
      "cell_type": "markdown",
      "metadata": {
        "id": "-Az7xR9eCYgD",
        "colab_type": "text"
      },
      "source": [
        "We can see the values printed down the right-side column. But what are those numbers along the left?\n",
        "\n",
        "They are **indices**.\n",
        "\n",
        "You are probably thinking that `Series` objects feel a whole lot like lists, tuples, and `NumPy` arrays. If so, you are correct.\n",
        "\n",
        "They are very similar to these other sequential data structures, and individual items in a series can be accessed by index as expected."
      ]
    },
    {
      "cell_type": "code",
      "metadata": {
        "id": "5fIJthCqCyhg",
        "colab_type": "code",
        "colab": {}
      },
      "source": [
        "series[4]"
      ],
      "execution_count": 0,
      "outputs": []
    },
    {
      "cell_type": "markdown",
      "metadata": {
        "id": "uQ25ozJdEfIf",
        "colab_type": "text"
      },
      "source": [
        "You can also loop over the values in a `Series`."
      ]
    },
    {
      "cell_type": "code",
      "metadata": {
        "id": "cbvHuOQrEaSo",
        "colab_type": "code",
        "colab": {}
      },
      "source": [
        "for temp in series:\n",
        "  print(temp)"
      ],
      "execution_count": 0,
      "outputs": []
    },
    {
      "cell_type": "markdown",
      "metadata": {
        "id": "1LzL_Fd3GE44",
        "colab_type": "text"
      },
      "source": [
        "### Modifying Values"
      ]
    },
    {
      "cell_type": "markdown",
      "metadata": {
        "id": "GOY4ZG8pCx1J",
        "colab_type": "text"
      },
      "source": [
        "Series are mutable, so you can modify individual values."
      ]
    },
    {
      "cell_type": "code",
      "metadata": {
        "id": "VChNSnoiE7Ou",
        "colab_type": "code",
        "colab": {}
      },
      "source": [
        "temperatures = [55, 63, 72, 65, 63, 75, 67, 59, 82, 54]\n",
        "series = pd.Series(temperatures)\n",
        "\n",
        "print(series[1])\n",
        "\n",
        "series[1] = 65\n",
        "\n",
        "print(series[1])"
      ],
      "execution_count": 0,
      "outputs": []
    },
    {
      "cell_type": "markdown",
      "metadata": {
        "id": "NsJ3RQgZSrmV",
        "colab_type": "text"
      },
      "source": [
        "You can also modify all of the elements in a series using standard Python expressions. For instance, if we wanted to add `1` to every item in a series, we can just do:"
      ]
    },
    {
      "cell_type": "code",
      "metadata": {
        "id": "e3ebIBLBS2qM",
        "colab_type": "code",
        "colab": {}
      },
      "source": [
        "series + 1"
      ],
      "execution_count": 0,
      "outputs": []
    },
    {
      "cell_type": "markdown",
      "metadata": {
        "id": "PYL0lCxLS53k",
        "colab_type": "text"
      },
      "source": [
        "Note that this doesn't actually change the `Series` though. To do that we need to assign the computation back to our original series.\n",
        "\n",
        "More operations than addition can be applied. You can add, subtract, multiple, divide, and more with a simple Python expression."
      ]
    },
    {
      "cell_type": "code",
      "metadata": {
        "id": "1AAsYHEiTBfH",
        "colab_type": "code",
        "colab": {}
      },
      "source": [
        "series = series + 1"
      ],
      "execution_count": 0,
      "outputs": []
    },
    {
      "cell_type": "markdown",
      "metadata": {
        "id": "O_CCr4BBGo3e",
        "colab_type": "text"
      },
      "source": [
        "You can remove values from the series by index using `pop`:\n"
      ]
    },
    {
      "cell_type": "code",
      "metadata": {
        "id": "Lib564--GsbO",
        "colab_type": "code",
        "colab": {}
      },
      "source": [
        "temperatures = [55, 63, 72, 65, 63, 75, 67, 59, 82, 54]\n",
        "series = pd.Series(temperatures)\n",
        "\n",
        "print(series)\n",
        "\n",
        "series.pop(4)\n",
        "\n",
        "print(series)"
      ],
      "execution_count": 0,
      "outputs": []
    },
    {
      "cell_type": "markdown",
      "metadata": {
        "id": "_wAoxGO2Id-t",
        "colab_type": "text"
      },
      "source": [
        "Notice that when we print the series out a second time, the index with value `4` is missing. After we pop the value out, the index is no longer valid to access!"
      ]
    },
    {
      "cell_type": "code",
      "metadata": {
        "id": "UG967A4PIXLi",
        "colab_type": "code",
        "colab": {}
      },
      "source": [
        "try:\n",
        "  print(series[4])\n",
        "except:\n",
        "  print('Unable to print the value at index 4')"
      ],
      "execution_count": 0,
      "outputs": []
    },
    {
      "cell_type": "markdown",
      "metadata": {
        "id": "rDGbTJZ6R4HK",
        "colab_type": "text"
      },
      "source": [
        "In order to get the indices back into a smooth sequential order, we can call the `reset_index` function. We pass the argument `drop=True` to tell Pandas *not* to save the old index as a new column. We pass the argument `inplace=True` to tell Pandas to modify the series directly instead of making a copy. "
      ]
    },
    {
      "cell_type": "code",
      "metadata": {
        "id": "3pNFx47CQ9QT",
        "colab_type": "code",
        "colab": {}
      },
      "source": [
        "series.reset_index(drop=True, inplace=True)\n",
        "series"
      ],
      "execution_count": 0,
      "outputs": []
    },
    {
      "cell_type": "markdown",
      "metadata": {
        "id": "nBdi6PqrizOF",
        "colab_type": "text"
      },
      "source": [
        "This is very different than what we would expect from a normal Python list! While it is possible to use `pop` on a list, the indices will automatically reset."
      ]
    },
    {
      "cell_type": "code",
      "metadata": {
        "id": "wljBRcPCikxQ",
        "colab_type": "code",
        "colab": {}
      },
      "source": [
        "temperatures = [55, 63, 72, 65, 63, 75, 67, 59, 82, 54]\n",
        "\n",
        "print(temperatures)\n",
        "\n",
        "temperatures.pop(4)\n",
        "\n",
        "print(temperatures[4])"
      ],
      "execution_count": 0,
      "outputs": []
    },
    {
      "cell_type": "markdown",
      "metadata": {
        "id": "xPXWRLqIHNk9",
        "colab_type": "text"
      },
      "source": [
        "You can also add values to a `Series` by appending another `Series` to it. We pass the argument `ignore_index=True` to tell Pandas to append the values with new indices, rather than copying over the old indices of the appended values. In this case, that means the new values (`66` and `74`) get the indices `10` and `11`, rather than `0` and `1`:"
      ]
    },
    {
      "cell_type": "code",
      "metadata": {
        "id": "s_VBjALUHWlr",
        "colab_type": "code",
        "colab": {}
      },
      "source": [
        "temperatures = [55, 63, 72, 65, 63, 75, 67, 59, 82, 54]\n",
        "series = pd.Series(temperatures)\n",
        "\n",
        "print(series)\n",
        "\n",
        "new_series = pd.Series([66, 74])\n",
        "series = series.append(new_series, ignore_index=True)\n",
        "\n",
        "print(series)"
      ],
      "execution_count": 0,
      "outputs": []
    },
    {
      "cell_type": "markdown",
      "metadata": {
        "id": "nnnkyznaET1H",
        "colab_type": "text"
      },
      "source": [
        "#### Exercise 2: Sorting a Series\n",
        "\n",
        "Find the correct method in the [Series documentation](https://pandas.pydata.org/pandas-docs/stable/reference/api/pandas.Series.html) to sort the values in `series` in ascending order. Be sure the indices are also sorted and that the new sorted series is stored in the `series` variable."
      ]
    },
    {
      "cell_type": "markdown",
      "metadata": {
        "id": "llEvrONtFSg5",
        "colab_type": "text"
      },
      "source": [
        "**Student Solution**"
      ]
    },
    {
      "cell_type": "code",
      "metadata": {
        "id": "0Iy_JGihEeQU",
        "colab_type": "code",
        "colab": {}
      },
      "source": [
        "temperatures = [55, 63, 72, 65, 63, 75, 67, 59, 82, 54]\n",
        "series = pd.Series(temperatures)\n",
        "\n",
        "# Your code goes here.\n",
        "\n",
        "print(series.sort_values())"
      ],
      "execution_count": 0,
      "outputs": []
    },
    {
      "cell_type": "markdown",
      "metadata": {
        "id": "z1CZZGSYGG_B",
        "colab_type": "text"
      },
      "source": [
        "---"
      ]
    },
    {
      "cell_type": "markdown",
      "metadata": {
        "id": "8wzPxZzSFwoj",
        "colab_type": "text"
      },
      "source": [
        "##### Answer Key"
      ]
    },
    {
      "cell_type": "markdown",
      "metadata": {
        "id": "F683Ge9gGGOW",
        "colab_type": "text"
      },
      "source": [
        "Two-step solution:"
      ]
    },
    {
      "cell_type": "code",
      "metadata": {
        "id": "OlRmIK7eFx04",
        "colab_type": "code",
        "colab": {}
      },
      "source": [
        "temperatures = [55, 63, 72, 65, 63, 75, 67, 59, 82, 54]\n",
        "series = pd.Series(temperatures)\n",
        "\n",
        "series.sort_values(inplace=True)\n",
        "series.reset_index(drop=True, inplace=True)\n",
        "\n",
        "print(series.sort_values())"
      ],
      "execution_count": 0,
      "outputs": []
    },
    {
      "cell_type": "markdown",
      "metadata": {
        "id": "n0qDeElfGKxZ",
        "colab_type": "text"
      },
      "source": [
        "Solution valid in version 1.0 or higher."
      ]
    },
    {
      "cell_type": "code",
      "metadata": {
        "id": "_eP_Ur1vGVAf",
        "colab_type": "code",
        "colab": {}
      },
      "source": [
        "temperatures = [55, 63, 72, 65, 63, 75, 67, 59, 82, 54]\n",
        "series = pd.Series(temperatures)\n",
        "\n",
        "series.sort_values(inplace=True, ignore_index=True)\n",
        "\n",
        "print(series.sort_values())"
      ],
      "execution_count": 0,
      "outputs": []
    },
    {
      "cell_type": "markdown",
      "metadata": {
        "id": "42Ki6kqX-rbo",
        "colab_type": "text"
      },
      "source": [
        "---"
      ]
    },
    {
      "cell_type": "markdown",
      "metadata": {
        "id": "DluyH3N3tyPE",
        "colab_type": "text"
      },
      "source": [
        "## Pandas Dataframe"
      ]
    },
    {
      "cell_type": "markdown",
      "metadata": {
        "id": "DN1Efp21HO6u",
        "colab_type": "text"
      },
      "source": [
        "Now that we have a basic understanding of `Series`, let's dive into the [DataFrame](https://pandas.pydata.org/pandas-docs/stable/reference/api/pandas.DataFrame.html). If you picture `Series` as a *list* of data, you can think of `DataFrame` as a *table* of data.\n",
        "\n",
        "A `DataFrame` consists of one or more `Series` presented in a tabular format. Each `Series` in the `DataFrame` is a column."
      ]
    },
    {
      "cell_type": "markdown",
      "metadata": {
        "id": "16datPOKIC9p",
        "colab_type": "text"
      },
      "source": [
        "### Creating a DataFrame"
      ]
    },
    {
      "cell_type": "markdown",
      "metadata": {
        "id": "pYTSLBdEAuau",
        "colab_type": "text"
      },
      "source": [
        "We can create an empty `DataFrame` using the `DataFrame` class in Pandas:\n",
        "\n",
        "```python\n",
        "df = pd.DataFrame()\n",
        "```\n",
        "\n",
        "But an empty `DataFrame` isn't particularly exciting. Instead, let's create a `DataFrame` using a few series.\n",
        "\n",
        "In the code block below you'll see that we have three series:\n",
        "\n",
        "1. Cities\n",
        "1. Populations of those cities\n",
        "1. Number of airports in those cities\n"
      ]
    },
    {
      "cell_type": "code",
      "metadata": {
        "id": "hErWNo6RS0-N",
        "colab_type": "code",
        "colab": {}
      },
      "source": [
        "city_names = pd.Series([\n",
        "  'Atlanta', \n",
        "  'Austin', \n",
        "  'Kansas City',\n",
        "  'New York City', \n",
        "  'Portland', \n",
        "  'San Francisco', \n",
        "  'Seattle',\n",
        "])\n",
        "\n",
        "population = pd.Series([\n",
        "  498044,\n",
        "  964254,\n",
        "  491918,\n",
        "  8398748,\n",
        "  653115,\n",
        "  883305, \n",
        "  744955,\n",
        "])\n",
        "\n",
        "num_airports = pd.Series([\n",
        "  2,\n",
        "  2,\n",
        "  8,\n",
        "  3,\n",
        "  1,\n",
        "  3,\n",
        "  2,\n",
        "])\n",
        "\n",
        "print(city_names, population, num_airports)"
      ],
      "execution_count": 0,
      "outputs": []
    },
    {
      "cell_type": "markdown",
      "metadata": {
        "id": "_weonc5sL2eB",
        "colab_type": "text"
      },
      "source": [
        "We can now combine these series into a `DataFrame`, using a dictionary with keys as the column names and values as the series:"
      ]
    },
    {
      "cell_type": "code",
      "metadata": {
        "id": "HOTQnmJjL_qI",
        "colab_type": "code",
        "colab": {}
      },
      "source": [
        "df = pd.DataFrame({\n",
        "  'City Name': city_names,\n",
        "  'Population': population, \n",
        "  'Airports': num_airports,\n",
        "})\n",
        "\n",
        "print(df)"
      ],
      "execution_count": 0,
      "outputs": []
    },
    {
      "cell_type": "markdown",
      "metadata": {
        "id": "G6XEeFU7MN-J",
        "colab_type": "text"
      },
      "source": [
        "The data is now displayed in a tabular format. We can see that there are three columns: `City Name`, `Population`, and `Airports`. There are six rows, each row representing the data for a single city."
      ]
    },
    {
      "cell_type": "markdown",
      "metadata": {
        "id": "jMCslIbiMfDB",
        "colab_type": "text"
      },
      "source": [
        "In the block above we used the `print` function to display the `DataFrame`, which printed out the data in a plain text form. Colab and other notebook environments can \"pretty print\" DataFrames if you make it the last part of a code block and don't wrap the variable in a `print` statement. Run the code block below to see this in action."
      ]
    },
    {
      "cell_type": "code",
      "metadata": {
        "id": "C0VbODk7M3NL",
        "colab_type": "code",
        "colab": {}
      },
      "source": [
        "df = pd.DataFrame({\n",
        "  'City Name': city_names,\n",
        "  'Population': population, \n",
        "  'Airports': num_airports,\n",
        "})\n",
        "\n",
        "df"
      ],
      "execution_count": 0,
      "outputs": []
    },
    {
      "cell_type": "markdown",
      "metadata": {
        "id": "ppMjIT9gM6L1",
        "colab_type": "text"
      },
      "source": [
        "That's much easier on the eyes! The rows are colored in an alternating background color scheme, which makes long rows of data easier to view."
      ]
    },
    {
      "cell_type": "markdown",
      "metadata": {
        "id": "A397Fja_NOdX",
        "colab_type": "text"
      },
      "source": [
        "### Analyzing a DataFrame\n",
        "\n",
        "Similar to a `Series`, you can ask the `DataFrame` to compute information about itself. The `describe()` method provides statistics about the `DataFrame`."
      ]
    },
    {
      "cell_type": "code",
      "metadata": {
        "id": "YLIM4mGkAsjT",
        "colab_type": "code",
        "colab": {}
      },
      "source": [
        "df.describe()"
      ],
      "execution_count": 0,
      "outputs": []
    },
    {
      "cell_type": "markdown",
      "metadata": {
        "id": "VhWWKfKlOQoT",
        "colab_type": "text"
      },
      "source": [
        "These are the same statistics that we got when we called `describe` on a `Series` above. As you work with Pandas, you'll find that many of the methods that operate on `Series` also work with `DataFrame` objects.\n",
        "\n",
        "*Did you notice something missing in the output from `describe` though?*\n",
        "\n",
        "We have three columns in our `DataFrame`, but only two columns have statistics printed for them. This is because `describe` only works with numeric `Series` by default, and the 'City Name' column is a string.\n",
        "\n",
        "To show all columns add an `include='all'` argument to describe:"
      ]
    },
    {
      "cell_type": "code",
      "metadata": {
        "id": "AmWICoAVVqYi",
        "colab_type": "code",
        "colab": {}
      },
      "source": [
        "df.describe(include='all')"
      ],
      "execution_count": 0,
      "outputs": []
    },
    {
      "cell_type": "markdown",
      "metadata": {
        "id": "LYMlR8S1Vy7v",
        "colab_type": "text"
      },
      "source": [
        "We now get a few more metrics specific to string columns: `unique`, `top`, and `freq`. We also now can see the 'City Name' column."
      ]
    },
    {
      "cell_type": "markdown",
      "metadata": {
        "id": "LyvcomOpD_bw",
        "colab_type": "text"
      },
      "source": [
        "If we want to look at the data we could print the entire `DataFrame`, but that doesn't scale well for really large `DataFrames`. The `head` method is a way to just look at the first few rows of a `DataFrame`."
      ]
    },
    {
      "cell_type": "code",
      "metadata": {
        "id": "xKh5SCetDXER",
        "colab_type": "code",
        "colab": {}
      },
      "source": [
        "df.head()"
      ],
      "execution_count": 0,
      "outputs": []
    },
    {
      "cell_type": "markdown",
      "metadata": {
        "id": "UFlAcJryWYFx",
        "colab_type": "text"
      },
      "source": [
        "Conversely, the `tail` method returns the last few rows of a data frame."
      ]
    },
    {
      "cell_type": "code",
      "metadata": {
        "id": "LZAD5VbtDYqH",
        "colab_type": "code",
        "colab": {}
      },
      "source": [
        "df.tail()"
      ],
      "execution_count": 0,
      "outputs": []
    },
    {
      "cell_type": "markdown",
      "metadata": {
        "id": "nYziu5ScrsIn",
        "colab_type": "text"
      },
      "source": [
        "You can also choose the number of rows you want to print as part of `head` and `tail`."
      ]
    },
    {
      "cell_type": "code",
      "metadata": {
        "id": "xRuRx_Zkrwxx",
        "colab_type": "code",
        "colab": {}
      },
      "source": [
        "df.head(12)"
      ],
      "execution_count": 0,
      "outputs": []
    },
    {
      "cell_type": "markdown",
      "metadata": {
        "id": "UkDcNsq2Wi2l",
        "colab_type": "text"
      },
      "source": [
        "These are useful ways at taking a look at actual data, but they can have some inherent bias in them. If the data is sorted by any column values, `head` or `tail` might show a skewed view of the data.\n",
        "\n",
        "One way to combat this is to always look at both the head an tail of your data. Another way is to randomly sample your data and look at the sample. This will reduce the chance that you are seeing a lopsided view of your data."
      ]
    },
    {
      "cell_type": "markdown",
      "metadata": {
        "id": "SjTWrMmfETIi",
        "colab_type": "text"
      },
      "source": [
        "We can also visualize the data in a `DataFrame`. The `hist` command will make a histogram of each of the numerical columns. As you will see, some of these histograms are more informative than others."
      ]
    },
    {
      "cell_type": "code",
      "metadata": {
        "id": "iOiWtVR2DZyR",
        "colab_type": "code",
        "colab": {}
      },
      "source": [
        "_ = df.hist()"
      ],
      "execution_count": 0,
      "outputs": []
    },
    {
      "cell_type": "markdown",
      "metadata": {
        "id": "35ne0g79WoYM",
        "colab_type": "text"
      },
      "source": [
        "**What information might we gain from these histograms?**\n",
        "\n",
        "In the airports histogram, we can see that there is one outlier (Kansas City), and all other cities have roughly two airports.\n",
        "\n",
        "In the population histogram, we can see that there is also one outlier (New York City), which has an order of magnitude more population, such that all other populations are very close to zero in comparison. We also see here how the axis can get very messy."
      ]
    },
    {
      "cell_type": "markdown",
      "metadata": {
        "id": "dXr-NQYcXF23",
        "colab_type": "text"
      },
      "source": [
        "#### Exercise 3: Sampling Data\n",
        "\n",
        "Find a method in the [DataFrame documentation](https://pandas.pydata.org/pandas-docs/stable/reference/api/pandas.DataFrame.html) that returns a random sample of your `DataFrame`. Call that method and make it return five rows of data."
      ]
    },
    {
      "cell_type": "markdown",
      "metadata": {
        "id": "8qXQUroOXYcd",
        "colab_type": "text"
      },
      "source": [
        "**Student Solution**"
      ]
    },
    {
      "cell_type": "code",
      "metadata": {
        "id": "ag_gH8H7XaO8",
        "colab_type": "code",
        "colab": {}
      },
      "source": [
        "city_names = pd.Series(['Atlanta', 'Austin', 'Kansas City', 'New York City', \n",
        "                        'Portland', 'San Francisco', 'Seattle'])\n",
        "population = pd.Series([498044, 964254, 491918, 8398748, 653115, 883305, 744955])\n",
        "num_airports = pd.Series([2, 2, 8, 3, 1, 3, 2])\n",
        "\n",
        "df = pd.DataFrame({\n",
        "  'City Name': city_names,\n",
        "  'Population': population, \n",
        "  'Airports': num_airports,\n",
        "})\n",
        "\n",
        "# Your Code Goes Here"
      ],
      "execution_count": 0,
      "outputs": []
    },
    {
      "cell_type": "markdown",
      "metadata": {
        "id": "eZhR8SFsX9mm",
        "colab_type": "text"
      },
      "source": [
        "---"
      ]
    },
    {
      "cell_type": "markdown",
      "metadata": {
        "id": "4F9kWpQ3X3xG",
        "colab_type": "text"
      },
      "source": [
        "##### Answer Key"
      ]
    },
    {
      "cell_type": "code",
      "metadata": {
        "id": "Bs_4iGo5X6pQ",
        "colab_type": "code",
        "colab": {}
      },
      "source": [
        "city_names = pd.Series(['Atlanta', 'Austin', 'Kansas City', 'New York City', \n",
        "                        'Portland', 'San Francisco', 'Seattle'])\n",
        "population = pd.Series([498044, 964254, 491918, 8398748, 653115, 883305, 744955])\n",
        "num_airports = pd.Series([2, 2, 8, 3, 1, 3, 2])\n",
        "\n",
        "df = pd.DataFrame({\n",
        "  'City Name': city_names,\n",
        "  'Population': population, \n",
        "  'Airports': num_airports,\n",
        "})\n",
        "\n",
        "df.sample(n=5)"
      ],
      "execution_count": 0,
      "outputs": []
    },
    {
      "cell_type": "markdown",
      "metadata": {
        "id": "LDcFIreuX-m9",
        "colab_type": "text"
      },
      "source": [
        "---"
      ]
    },
    {
      "cell_type": "markdown",
      "metadata": {
        "id": "rk03BOzuYNhM",
        "colab_type": "text"
      },
      "source": [
        "### Accessing Values\n",
        "\n",
        "We saw that individual values in a  `Series` can be accessed using indexing similar to that seen in standard Python lists and tuples. Accessing values in `DataFrame` objects is a little more involved."
      ]
    },
    {
      "cell_type": "markdown",
      "metadata": {
        "id": "qWtjPJr_Ygz0",
        "colab_type": "text"
      },
      "source": [
        "#### Accessing Columns\n",
        "\n",
        "To access an entire column of data you can index the `DataFrame` by column name. For instance, to return the entire `City Name` column as a `Series` you can run the code below:"
      ]
    },
    {
      "cell_type": "code",
      "metadata": {
        "id": "8WAQRgoYbJxX",
        "colab_type": "code",
        "colab": {}
      },
      "source": [
        "df['City Name']"
      ],
      "execution_count": 0,
      "outputs": []
    },
    {
      "cell_type": "markdown",
      "metadata": {
        "id": "o66D4v6GgwJj",
        "colab_type": "text"
      },
      "source": [
        "But when if you want a `DataFrame` instead of a `Series`?\n",
        "\n",
        "In this case, you index the `DataFrame` using a list, where the list contains the name of the column that you want returned as a `DataFrame`:"
      ]
    },
    {
      "cell_type": "code",
      "metadata": {
        "id": "FPSyeueTgtqH",
        "colab_type": "code",
        "colab": {}
      },
      "source": [
        "df[['City Name']]"
      ],
      "execution_count": 0,
      "outputs": []
    },
    {
      "cell_type": "markdown",
      "metadata": {
        "id": "0eVwq3W5hB4K",
        "colab_type": "text"
      },
      "source": [
        "Similarly, you can return more than one column in the resultant `DataFrame`:"
      ]
    },
    {
      "cell_type": "code",
      "metadata": {
        "id": "UvKD5hIPhISw",
        "colab_type": "code",
        "colab": {}
      },
      "source": [
        "df[['City Name', 'Population']]"
      ],
      "execution_count": 0,
      "outputs": []
    },
    {
      "cell_type": "markdown",
      "metadata": {
        "id": "ZHr4L2LghLvx",
        "colab_type": "text"
      },
      "source": [
        "Sometimes you might also see columns of data referenced using the dot notation:"
      ]
    },
    {
      "cell_type": "code",
      "metadata": {
        "id": "XsE5Phm8hMqp",
        "colab_type": "code",
        "colab": {}
      },
      "source": [
        "df.Population"
      ],
      "execution_count": 0,
      "outputs": []
    },
    {
      "cell_type": "markdown",
      "metadata": {
        "id": "CPpoBPTRhS2B",
        "colab_type": "text"
      },
      "source": [
        "This is a neat trick, but it is problematic for a couple of reasons:\n",
        "\n",
        "1. You can only get a `Series` back.\n",
        "1. It is impossible to reference columns with spaces in the names with this notation (ex. 'City Name').\n",
        "1. It is confusing if a column has the same name as an inbuilt method of a `DataFrame`, such as `size`.\n",
        "\n",
        "We mention this notation because you'll likely see it. However, we don't advise using it."
      ]
    },
    {
      "cell_type": "markdown",
      "metadata": {
        "id": "nnTuc0y0hrQu",
        "colab_type": "text"
      },
      "source": [
        "#### Accessing Rows\n",
        "\n",
        "In order to access rows of data, you can't use standard indexing. It would seem natural to index using a numeric row value, but as you can see in the example below, this yields a `KeyError`."
      ]
    },
    {
      "cell_type": "code",
      "metadata": {
        "id": "KcD_78_thoNL",
        "colab_type": "code",
        "colab": {}
      },
      "source": [
        "try:\n",
        "  df[1]\n",
        "except KeyError:\n",
        "  print('Got KeyError')"
      ],
      "execution_count": 0,
      "outputs": []
    },
    {
      "cell_type": "markdown",
      "metadata": {
        "id": "vrm4fuNTiVbz",
        "colab_type": "text"
      },
      "source": [
        "This is because the default indexing is to look for column names, and numbers are valid column names. If you had a column named `1` in a `DataFrame` with at least two rows, Pandas wouldn't know if you wanted row `1` or column `1`.\n",
        "\n",
        "In order to index by row, you must use the `iloc` feature of the `DataFrame` object."
      ]
    },
    {
      "cell_type": "code",
      "metadata": {
        "id": "vzHQh72JiezU",
        "colab_type": "code",
        "colab": {}
      },
      "source": [
        "df.iloc[1]"
      ],
      "execution_count": 0,
      "outputs": []
    },
    {
      "cell_type": "markdown",
      "metadata": {
        "id": "MXfytch_imDy",
        "colab_type": "text"
      },
      "source": [
        "The code above returns the second row of data in the `DataFrame` as a `Series`.\n",
        "\n",
        "You can also return multiple rows using slices:"
      ]
    },
    {
      "cell_type": "code",
      "metadata": {
        "id": "UKDTY0aEihFN",
        "colab_type": "code",
        "colab": {}
      },
      "source": [
        "df.iloc[1:3]"
      ],
      "execution_count": 0,
      "outputs": []
    },
    {
      "cell_type": "markdown",
      "metadata": {
        "id": "qtmJzbuRkhJ9",
        "colab_type": "text"
      },
      "source": [
        "As an aside, if you do use a range, then `iloc` is optional since columns can't be referenced in a range, and the default selector can disambiguate what you are doing. This can be a little confusing, though, so try to avoid it."
      ]
    },
    {
      "cell_type": "code",
      "metadata": {
        "id": "Dv1kBnrAkuG_",
        "colab_type": "code",
        "colab": {}
      },
      "source": [
        "df[1:3]"
      ],
      "execution_count": 0,
      "outputs": []
    },
    {
      "cell_type": "markdown",
      "metadata": {
        "id": "fF0IS7r_jFcG",
        "colab_type": "text"
      },
      "source": [
        "If you want sparse rows that don't fall into an easily defined range, you can pass `iloc` a list of rows that you would like returned:"
      ]
    },
    {
      "cell_type": "code",
      "metadata": {
        "id": "jgGFU_fGi3YI",
        "colab_type": "code",
        "colab": {}
      },
      "source": [
        "df.iloc[[1, 3]]"
      ],
      "execution_count": 0,
      "outputs": []
    },
    {
      "cell_type": "markdown",
      "metadata": {
        "id": "KDt0iotCjNtQ",
        "colab_type": "text"
      },
      "source": [
        "##### Exercise 4: Single Row as a `DataFrame`\n",
        "\n",
        "Given the methods of accessing rows in a `DataFrame` that we have learned so far, how would you access the third row in the `df` `DataFrame` defined below as a `DataFrame` itself (as opposed to as a `Series`)?"
      ]
    },
    {
      "cell_type": "markdown",
      "metadata": {
        "id": "qMDjTzIQjlUJ",
        "colab_type": "text"
      },
      "source": [
        "**Student Solution**"
      ]
    },
    {
      "cell_type": "code",
      "metadata": {
        "id": "Me-p2uNXjnFJ",
        "colab_type": "code",
        "colab": {}
      },
      "source": [
        "city_names = pd.Series(['Atlanta', 'Austin', 'Kansas City', 'New York City', \n",
        "                        'Portland', 'San Francisco', 'Seattle'])\n",
        "population = pd.Series([498044, 964254, 491918, 8398748, 653115, 883305, 744955])\n",
        "num_airports = pd.Series([2, 2, 8, 3, 1, 3, 2])\n",
        "\n",
        "df = pd.DataFrame({\n",
        "    \n",
        "  'City Name': city_names,\n",
        "  'Population': population, \n",
        "  'Airports': num_airports,\n",
        "})\n",
        "\n",
        "# Your Code Goes Here"
      ],
      "execution_count": 0,
      "outputs": []
    },
    {
      "cell_type": "markdown",
      "metadata": {
        "id": "uHSFpxGkj7ZQ",
        "colab_type": "text"
      },
      "source": [
        "---"
      ]
    },
    {
      "cell_type": "markdown",
      "metadata": {
        "id": "rf7_6EyjjrRZ",
        "colab_type": "text"
      },
      "source": [
        "###### Answer Key"
      ]
    },
    {
      "cell_type": "markdown",
      "metadata": {
        "id": "MDX78aVsj9HH",
        "colab_type": "text"
      },
      "source": [
        "Using a range:"
      ]
    },
    {
      "cell_type": "code",
      "metadata": {
        "id": "3rYDoFTMj-Qh",
        "colab_type": "code",
        "colab": {}
      },
      "source": [
        "city_names = pd.Series(['Atlanta', 'Austin', 'Kansas City', 'New York City', \n",
        "                        'Portland', 'San Francisco', 'Seattle'])\n",
        "population = pd.Series([498044, 964254, 491918, 8398748, 653115, 883305, 744955])\n",
        "num_airports = pd.Series([2, 2, 8, 3, 1, 3, 2])\n",
        "\n",
        "df = pd.DataFrame({\n",
        "  'City Name': city_names,\n",
        "  'Population': population, \n",
        "  'Airports': num_airports,\n",
        "})\n",
        "\n",
        "\n",
        "df.iloc[2:3]"
      ],
      "execution_count": 0,
      "outputs": []
    },
    {
      "cell_type": "markdown",
      "metadata": {
        "id": "ZyhXDEvJkBvE",
        "colab_type": "text"
      },
      "source": [
        "Using a list:"
      ]
    },
    {
      "cell_type": "code",
      "metadata": {
        "id": "DoMBGyMzkDmO",
        "colab_type": "code",
        "colab": {}
      },
      "source": [
        "city_names = pd.Series(['Atlanta', 'Austin', 'Kansas City', 'New York City', \n",
        "                        'Portland', 'San Francisco', 'Seattle'])\n",
        "population = pd.Series([498044, 964254, 491918, 8398748, 653115, 883305, 744955])\n",
        "num_airports = pd.Series([2, 2, 8, 3, 1, 3, 2])\n",
        "\n",
        "df = pd.DataFrame({\n",
        "  'City Name': city_names,\n",
        "  'Population': population, \n",
        "  'Airports': num_airports,\n",
        "})\n",
        "\n",
        "df.iloc[[2]]"
      ],
      "execution_count": 0,
      "outputs": []
    },
    {
      "cell_type": "markdown",
      "metadata": {
        "id": "hH0cxrZdkWjG",
        "colab_type": "text"
      },
      "source": [
        "Using a range without `iloc` (not recommended):"
      ]
    },
    {
      "cell_type": "code",
      "metadata": {
        "id": "x0-8TqfskbIy",
        "colab_type": "code",
        "colab": {}
      },
      "source": [
        "city_names = pd.Series(['Atlanta', 'Austin', 'Kansas City', 'New York City', \n",
        "                        'Portland', 'San Francisco', 'Seattle'])\n",
        "population = pd.Series([498044, 964254, 491918, 8398748, 653115, 883305, 744955])\n",
        "num_airports = pd.Series([2, 2, 8, 3, 1, 3, 2])\n",
        "\n",
        "df = pd.DataFrame({\n",
        "  'City Name': city_names,\n",
        "  'Population': population, \n",
        "  'Airports': num_airports,\n",
        "})\n",
        "\n",
        "df[2:3]"
      ],
      "execution_count": 0,
      "outputs": []
    },
    {
      "cell_type": "markdown",
      "metadata": {
        "id": "qdlZ4rSIkc62",
        "colab_type": "text"
      },
      "source": [
        "---"
      ]
    },
    {
      "cell_type": "markdown",
      "metadata": {
        "id": "Lyx0bH8xuCg0",
        "colab_type": "text"
      },
      "source": [
        "##### Accessing Row/Column Intersections\n",
        "\n",
        "We've learned how to access columns by direct indexing on the `DataFrame`. We've learned how to access rows by using `iloc`. You can combine these two access methods using the `loc` functionality of the `DataFrame` object.\n",
        "\n",
        "Simply call `loc` and pass it two arguments:\n",
        "\n",
        "1. The row(s) you want to access\n",
        "1. The column(s) you want to access\n",
        "\n",
        "In the example below we access the 'City Name' in the third row of the `DataFrame`:"
      ]
    },
    {
      "cell_type": "code",
      "metadata": {
        "id": "2SEzG3jXuYah",
        "colab_type": "code",
        "colab": {}
      },
      "source": [
        "city_names = pd.Series(['Atlanta', 'Austin', 'Kansas City', 'New York City', \n",
        "                        'Portland', 'San Francisco', 'Seattle'])\n",
        "population = pd.Series([498044, 964254, 491918, 8398748, 653115, 883305, 744955])\n",
        "num_airports = pd.Series([2, 2, 8, 3, 1, 3, 2])\n",
        "\n",
        "df = pd.DataFrame({\n",
        "  'City Name': city_names,\n",
        "  'Population': population, \n",
        "  'Airports': num_airports,\n",
        "})\n",
        "\n",
        "df.loc[2, 'City Name']"
      ],
      "execution_count": 0,
      "outputs": []
    },
    {
      "cell_type": "markdown",
      "metadata": {
        "id": "K3lc7le8ChF1",
        "colab_type": "text"
      },
      "source": [
        "In the example below we access the 'City Name' and 'Airports' columns in the third and fourth rows of the `DataFrame`:"
      ]
    },
    {
      "cell_type": "code",
      "metadata": {
        "id": "OKCMEAhhuyPl",
        "colab_type": "code",
        "colab": {}
      },
      "source": [
        "city_names = pd.Series(['Atlanta', 'Austin', 'Kansas City', 'New York City', \n",
        "                        'Portland', 'San Francisco', 'Seattle'])\n",
        "population = pd.Series([498044, 964254, 491918, 8398748, 653115, 883305, 744955])\n",
        "num_airports = pd.Series([2, 2, 8, 3, 1, 3, 2])\n",
        "\n",
        "df = pd.DataFrame({\n",
        "  'City Name': city_names,\n",
        "  'Population': population, \n",
        "  'Airports': num_airports,\n",
        "})\n",
        "\n",
        "df.loc[[2,3], ['City Name', 'Airports']]"
      ],
      "execution_count": 0,
      "outputs": []
    },
    {
      "cell_type": "markdown",
      "metadata": {
        "id": "xtV_FAiJUMD4",
        "colab_type": "text"
      },
      "source": [
        "We will learn more about `loc` in the next section. Specifically, we will come to understand how using `loc` enables us to access a `DataFrame` directly in order to modify it."
      ]
    },
    {
      "cell_type": "markdown",
      "metadata": {
        "id": "4_aCEXgSrfxa",
        "colab_type": "text"
      },
      "source": [
        "#### Modifying Values\n",
        "\n",
        "There are many ways to modify values in a `DataFrame`. We'll look at a few of the more straightforward ways in this section."
      ]
    },
    {
      "cell_type": "markdown",
      "metadata": {
        "id": "tuL-wDyIWeZD",
        "colab_type": "text"
      },
      "source": [
        "##### Modifying Individual Values\n",
        "\n",
        "The easiest way to modify a single value in a `DataFrame` is to directly index it on the left-hand sign of an expression.\n",
        "\n",
        "Let's say the Seattle area got a new commerical airport called Paine Field. If we want to increment the number of airports for Seattle, we could access the Seatle airport count directly and modify it:"
      ]
    },
    {
      "cell_type": "code",
      "metadata": {
        "id": "T2uZqM9ZsXsR",
        "colab_type": "code",
        "colab": {}
      },
      "source": [
        "city_names = pd.Series(['Atlanta', 'Austin', 'Kansas City', 'New York City', \n",
        "                        'Portland', 'San Francisco', 'Seattle'])\n",
        "population = pd.Series([498044, 964254, 491918, 8398748, 653115, 883305, 744955])\n",
        "num_airports = pd.Series([2, 2, 8, 3, 1, 3, 2])\n",
        "\n",
        "df = pd.DataFrame({\n",
        "  'City Name': city_names,\n",
        "  'Population': population, \n",
        "  'Airports': num_airports,\n",
        "})\n",
        "\n",
        "df.loc[6, 'Airports'] = 3\n",
        "df"
      ],
      "execution_count": 0,
      "outputs": []
    },
    {
      "cell_type": "markdown",
      "metadata": {
        "id": "FD1SlNIzUtmQ",
        "colab_type": "text"
      },
      "source": [
        "##### Modifying an Entire Column\n",
        "\n",
        "Modifying a single value is a great skill to have, especially when working with small numbers of  **outliers**. However, you'll often want to work with larger swaths of data.\n",
        "\n",
        "When would you want to do this?\n",
        "\n",
        "Consider the 'Population' column that we have been working with in this lab. It is integer-valued, however in some cases it might be better to work with the \"thousands\" value. For this we can do column-level modifications.\n",
        "\n",
        "In the example below we simply divide the population by 1,000."
      ]
    },
    {
      "cell_type": "code",
      "metadata": {
        "id": "ncU6tftLUzFz",
        "colab_type": "code",
        "colab": {}
      },
      "source": [
        "city_names = pd.Series(['Atlanta', 'Austin', 'Kansas City', 'New York City', \n",
        "                        'Portland', 'San Francisco', 'Seattle'])\n",
        "population = pd.Series([498044, 964254, 491918, 8398748, 653115, 883305, 744955])\n",
        "num_airports = pd.Series([2, 2, 8, 3, 1, 3, 2])\n",
        "\n",
        "df = pd.DataFrame({\n",
        "  'City Name': city_names,\n",
        "  'Population': population, \n",
        "  'Airports': num_airports,\n",
        "})\n",
        "\n",
        "df['Population'] /= 1000\n",
        "df"
      ],
      "execution_count": 0,
      "outputs": []
    },
    {
      "cell_type": "markdown",
      "metadata": {
        "id": "tgzG63uPbJ5T",
        "colab_type": "text"
      },
      "source": [
        "Instead of overwriting the existing column, you may instead want to create a new column. This can be done by assigning to a new column name:"
      ]
    },
    {
      "cell_type": "code",
      "metadata": {
        "id": "OhCE-9pPcFeL",
        "colab_type": "code",
        "colab": {}
      },
      "source": [
        "city_names = pd.Series(['Atlanta', 'Austin', 'Kansas City', 'New York City', \n",
        "                        'Portland', 'San Francisco', 'Seattle'])\n",
        "population = pd.Series([498044, 964254, 491918, 8398748, 653115, 883305, 744955])\n",
        "num_airports = pd.Series([2, 2, 8, 3, 1, 3, 2])\n",
        "\n",
        "df = pd.DataFrame({\n",
        "  'City Name': city_names,\n",
        "  'Population': population, \n",
        "  'Airports': num_airports,\n",
        "})\n",
        "\n",
        "df['Population_M'] = df['Population'] / 1000\n",
        "df"
      ],
      "execution_count": 0,
      "outputs": []
    },
    {
      "cell_type": "markdown",
      "metadata": {
        "id": "5wIgLlZlW1h_",
        "colab_type": "text"
      },
      "source": [
        "### Fetching Data"
      ]
    },
    {
      "cell_type": "markdown",
      "metadata": {
        "id": "7fCcGyteW6jx",
        "colab_type": "text"
      },
      "source": [
        "\n",
        "So far we have created the data that we have worked with from scratch. In reality, we'll load our data from a file system, the internet, a database, or one of many other sources.\n",
        "\n",
        "Throughout this course, we'll load data in many ways. Let's start by loading the data from the internet directly.\n",
        "\n",
        "For this, we'll use the Pandas method `read_csv`. This method can read comma-separated data from a URL. See an example below:"
      ]
    },
    {
      "cell_type": "code",
      "metadata": {
        "id": "yAcjA1sEXzNQ",
        "colab_type": "code",
        "colab": {}
      },
      "source": [
        "url = \"https://download.mlcc.google.com/mledu-datasets/california_housing_train.csv\"\n",
        "california_housing_dataframe = pd.read_csv(url)\n",
        "california_housing_dataframe"
      ],
      "execution_count": 0,
      "outputs": []
    },
    {
      "cell_type": "markdown",
      "metadata": {
        "id": "8QEbef-5X26x",
        "colab_type": "text"
      },
      "source": [
        "We now have a `DataFrame` full of data about housing prices in California. This is a classic dataset that we'll look at more closely in future labs. For now, we'll load it in and try to get an understanding of the data."
      ]
    },
    {
      "cell_type": "markdown",
      "metadata": {
        "id": "fMlB8JM-Eggv",
        "colab_type": "text"
      },
      "source": [
        "## Exercise 5: Exploring Data\n",
        "\n",
        "In this exercise we will write code to explore the California housing dataset mentioned earlier in this lab. As seen previously, we can load the data using the following code:"
      ]
    },
    {
      "cell_type": "code",
      "metadata": {
        "id": "cs5Zny9dE2S5",
        "colab_type": "code",
        "colab": {}
      },
      "source": [
        "url = \"https://download.mlcc.google.com/mledu-datasets/california_housing_train.csv\"\n",
        "california_housing_df = pd.read_csv(url)\n",
        "california_housing_df"
      ],
      "execution_count": 0,
      "outputs": []
    },
    {
      "cell_type": "markdown",
      "metadata": {
        "id": "FU2N1NDEdXb_",
        "colab_type": "text"
      },
      "source": [
        "### Question 1: Histograms\n",
        "\n",
        "This question will have two parts: one coding and one data analysis.\n",
        "\n",
        "#### Question 1.1: Display Histograms\n",
        "\n",
        "Write the code to display histograms for all numeric columns in the `california_housing_df` object.\n",
        "\n",
        "**Student Solution**"
      ]
    },
    {
      "cell_type": "code",
      "metadata": {
        "id": "VESvrqqEd845",
        "colab_type": "code",
        "colab": {}
      },
      "source": [
        "# Your Code Goes Here"
      ],
      "execution_count": 0,
      "outputs": []
    },
    {
      "cell_type": "markdown",
      "metadata": {
        "id": "JvUQhwWsDx2S",
        "colab_type": "text"
      },
      "source": [
        "---"
      ]
    },
    {
      "cell_type": "markdown",
      "metadata": {
        "id": "4G8kskdkd_lv",
        "colab_type": "text"
      },
      "source": [
        "##### Answer Key"
      ]
    },
    {
      "cell_type": "code",
      "metadata": {
        "id": "8rJtH_n6dxRz",
        "colab_type": "code",
        "colab": {}
      },
      "source": [
        "url = \"https://download.mlcc.google.com/mledu-datasets/california_housing_train.csv\"\n",
        "california_housing_df = pd.read_csv(url)\n",
        "california_housing_df.hist()"
      ],
      "execution_count": 0,
      "outputs": []
    },
    {
      "cell_type": "markdown",
      "metadata": {
        "id": "VD9u1WzOeGWD",
        "colab_type": "text"
      },
      "source": [
        "---"
      ]
    },
    {
      "cell_type": "markdown",
      "metadata": {
        "id": "PHDDgUJteHY2",
        "colab_type": "text"
      },
      "source": [
        "#### Question 1.2: Histogram Analysis\n",
        "\n",
        "Two of the histograms have two strong peaks rather than one. Which columns are these? What do you think this tells us about the data?"
      ]
    },
    {
      "cell_type": "markdown",
      "metadata": {
        "id": "H5SCdTyaFW_q",
        "colab_type": "text"
      },
      "source": [
        "**Student Solution**"
      ]
    },
    {
      "cell_type": "markdown",
      "metadata": {
        "id": "EwzTPaISebrx",
        "colab_type": "text"
      },
      "source": [
        "What are the names of the two columns with two strong peaks each?\n",
        "1. *Write the first column name here*\n",
        "1. *Write the second column name here*\n",
        "\n",
        "What insights do you gather from the columns with dual peaks?:\n",
        "* *Write your answer here*"
      ]
    },
    {
      "cell_type": "markdown",
      "metadata": {
        "id": "MoAz4DxUEy_-",
        "colab_type": "text"
      },
      "source": [
        "---"
      ]
    },
    {
      "cell_type": "markdown",
      "metadata": {
        "id": "Tf8MJDS1ejgD",
        "colab_type": "text"
      },
      "source": [
        "##### Answer Key"
      ]
    },
    {
      "cell_type": "markdown",
      "metadata": {
        "id": "Yqc0x4HFek62",
        "colab_type": "text"
      },
      "source": [
        "1. latitude\n",
        "1. population\n",
        "\n",
        "Insights from the peaks: *There are likely two large population centers in California*"
      ]
    },
    {
      "cell_type": "markdown",
      "metadata": {
        "id": "QJ1IHkYaexhl",
        "colab_type": "text"
      },
      "source": [
        "---"
      ]
    },
    {
      "cell_type": "markdown",
      "metadata": {
        "id": "mCBkUlYvfj0X",
        "colab_type": "text"
      },
      "source": [
        "### Question 2: Ordering\n",
        "\n",
        "Does there seem to be any obvious ordering to the data? If so, what is the ordering? Show the code that you used to determine your answer.\n"
      ]
    },
    {
      "cell_type": "markdown",
      "metadata": {
        "id": "sdgWRcYYfsGg",
        "colab_type": "text"
      },
      "source": [
        "**Student Solution**"
      ]
    },
    {
      "cell_type": "markdown",
      "metadata": {
        "id": "rgZpIOT7fufN",
        "colab_type": "text"
      },
      "source": [
        "Is there any ordering?\n",
        "* *(Yes/No)*\n",
        "\n",
        "If there was ordering, what columns were sorted and in what order (ascending/descending)?:\n",
        "* *Write your answer here*\n",
        "\n"
      ]
    },
    {
      "cell_type": "markdown",
      "metadata": {
        "id": "6JbbqruzgHWJ",
        "colab_type": "text"
      },
      "source": [
        "What code did you use to determine the answer?"
      ]
    },
    {
      "cell_type": "code",
      "metadata": {
        "id": "gABo8DFVfttD",
        "colab_type": "code",
        "colab": {}
      },
      "source": [
        "# Your code goes here"
      ],
      "execution_count": 0,
      "outputs": []
    },
    {
      "cell_type": "markdown",
      "metadata": {
        "id": "EOU9lI8yhDC-",
        "colab_type": "text"
      },
      "source": [
        "---"
      ]
    },
    {
      "cell_type": "markdown",
      "metadata": {
        "id": "vD2DdOM9gPBU",
        "colab_type": "text"
      },
      "source": [
        "#### Answer Key"
      ]
    },
    {
      "cell_type": "markdown",
      "metadata": {
        "id": "kYUCw0NGgRS1",
        "colab_type": "text"
      },
      "source": [
        "Is there any ordering?\n",
        "\n",
        "> Yes\n",
        "\n",
        "If there was ordering, what columns were sorted and in what order (ascending/descending)?\n",
        "\n",
        "> At a minimum, `longitude` is in descending order. `latitiude` also seems to be in descending order relative to `longitude`, but that is more difficult to determine at a glance."
      ]
    },
    {
      "cell_type": "code",
      "metadata": {
        "id": "GtwvfQsGgrW4",
        "colab_type": "code",
        "colab": {}
      },
      "source": [
        "url = \"https://download.mlcc.google.com/mledu-datasets/california_housing_train.csv\"\n",
        "california_housing_df = pd.read_csv(url)\n",
        "\n",
        "print(california_housing_df.head(n=10))\n",
        "print(california_housing_df.tail(n=10))"
      ],
      "execution_count": 0,
      "outputs": []
    },
    {
      "cell_type": "markdown",
      "metadata": {
        "id": "WAcNpuyBcr0u",
        "colab_type": "text"
      },
      "source": [
        "---"
      ]
    },
    {
      "cell_type": "markdown",
      "metadata": {
        "id": "KhYviOYIhGNy",
        "colab_type": "text"
      },
      "source": [
        "## Exercise 6: Creating a New Column\n",
        "\n",
        "Create a new column in `california_housing_df` called `persons_per_bedroom` that is the ratio of `population` to `total_bedrooms`."
      ]
    },
    {
      "cell_type": "markdown",
      "metadata": {
        "id": "ymqzKjJDh9zg",
        "colab_type": "text"
      },
      "source": [
        "**Student Solution**"
      ]
    },
    {
      "cell_type": "code",
      "metadata": {
        "id": "qSjv3cwZh55t",
        "colab_type": "code",
        "colab": {}
      },
      "source": [
        "url = \"https://download.mlcc.google.com/mledu-datasets/california_housing_train.csv\"\n",
        "california_housing_df = pd.read_csv(url)\n",
        "\n",
        "# Your Code Goes Here"
      ],
      "execution_count": 0,
      "outputs": []
    },
    {
      "cell_type": "markdown",
      "metadata": {
        "id": "tfT14I7kGxJT",
        "colab_type": "text"
      },
      "source": [
        "---"
      ]
    },
    {
      "cell_type": "markdown",
      "metadata": {
        "id": "I2yL_Oyoh_0c",
        "colab_type": "text"
      },
      "source": [
        "### Answer Key"
      ]
    },
    {
      "cell_type": "code",
      "metadata": {
        "id": "565XA7WfheZO",
        "colab_type": "code",
        "colab": {}
      },
      "source": [
        "url = \"https://download.mlcc.google.com/mledu-datasets/california_housing_train.csv\"\n",
        "california_housing_df = pd.read_csv(url)\n",
        "california_housing_df['persons_per_bedroom'] = california_housing_df['population'] / california_housing_df['total_bedrooms']"
      ],
      "execution_count": 0,
      "outputs": []
    },
    {
      "cell_type": "markdown",
      "metadata": {
        "id": "MPbq1jU2iB0R",
        "colab_type": "text"
      },
      "source": [
        "---"
      ]
    }
  ]
}
