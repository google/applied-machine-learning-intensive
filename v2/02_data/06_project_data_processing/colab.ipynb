{
  "nbformat": 4,
  "nbformat_minor": 0,
  "metadata": {
    "colab": {
      "name": "Dataset Exploration",
      "provenance": [],
      "private_outputs": true,
      "collapsed_sections": [
        "jx_FnF6HFucc",
        "obXcnV7Ldc2M",
        "exercise-2-key-1"
      ],
      "toc_visible": true
    },
    "kernelspec": {
      "display_name": "Python 3",
      "name": "python3"
    }
  },
  "cells": [
    {
      "cell_type": "markdown",
      "metadata": {
        "colab_type": "text",
        "id": "jx_FnF6HFucc"
      },
      "source": [
        "#### Copyright 2019 Google LLC."
      ]
    },
    {
      "cell_type": "code",
      "metadata": {
        "colab_type": "code",
        "id": "cSdG7cSNFro-",
        "colab": {}
      },
      "source": [
        "# Licensed under the Apache License, Version 2.0 (the \"License\");\n",
        "# you may not use this file except in compliance with the License.\n",
        "# You may obtain a copy of the License at\n",
        "#\n",
        "# https://www.apache.org/licenses/LICENSE-2.0\n",
        "#\n",
        "# Unless required by applicable law or agreed to in writing, software\n",
        "# distributed under the License is distributed on an \"AS IS\" BASIS,\n",
        "# WITHOUT WARRANTIES OR CONDITIONS OF ANY KIND, either express or implied.\n",
        "# See the License for the specific language governing permissions and\n",
        "# limitations under the License."
      ],
      "execution_count": 0,
      "outputs": []
    },
    {
      "cell_type": "markdown",
      "metadata": {
        "colab_type": "text",
        "id": "_FdRu8E0F6EJ"
      },
      "source": [
        "# Dataset Exploration\n"
      ]
    },
    {
      "cell_type": "markdown",
      "metadata": {
        "colab_type": "text",
        "id": "Mm5d3zEpKE00"
      },
      "source": [
        "For this project, you will be divided into small groups of 2-3 people. You will be given a dataset and an associated problem. Over the course of the day, your team will explore the dataset and train the best model you can in order to solve the problem. At the end of the day, your team will give a short presentation about your model and solution."
      ]
    },
    {
      "cell_type": "markdown",
      "metadata": {
        "colab_type": "text",
        "id": "2iIQ-XduKJZz"
      },
      "source": [
        "## Overview"
      ]
    },
    {
      "cell_type": "markdown",
      "metadata": {
        "colab_type": "text",
        "id": "B-TOrwufKQhD"
      },
      "source": [
        "### Learning Objectives\n",
        "\n",
        "* Acquire and load dataset(s) into the Pandas structures\n",
        "* Inspect data columns description and statistics\n",
        "* Explore data to understand relationship between features\n",
        "* Draw data insights"
      ]
    },
    {
      "cell_type": "markdown",
      "metadata": {
        "colab_type": "text",
        "id": "6LqnO7DiKmwi"
      },
      "source": [
        "### Prerequisites\n",
        "\n",
        "* Introduction to Colab\n",
        "* Intermediate Python\n",
        "* Intermediate Pandas\n",
        "* Visualizations\n",
        "* Data Exploration"
      ]
    },
    {
      "cell_type": "markdown",
      "metadata": {
        "colab_type": "text",
        "id": "3qhlIRMGLDea"
      },
      "source": [
        "### Estimated Duration\n",
        "\n",
        "240 minutes"
      ]
    },
    {
      "cell_type": "markdown",
      "metadata": {
        "colab_type": "text",
        "id": "Nb9YD_6cWefp"
      },
      "source": [
        "### Deliverables\n",
        "\n",
        "1. A **copy of this Colab notebook** containing your code and responses to the ethical considerations below.\n",
        "1. At the end of the day, we will ask you and your group to stand in front of the class and give a brief **presentation about what you have done**. The presentation can be a code walkthrough, a group discussion, a slide show, or anything else that conveys what you did over the course of the day and what you learned. If you do create any artifacts for your presentation, please share them in the class folder."
      ]
    },
    {
      "cell_type": "markdown",
      "metadata": {
        "colab_type": "text",
        "id": "dZj2NF0gLGjp"
      },
      "source": [
        "### Grading Criteria\n",
        "\n",
        "This project is graded in separate sections that each contribute a percentage of the total score:\n",
        "\n",
        "1. Explore data to gain insights (80%)\n",
        "1. Ethical Implications (10%)\n",
        "1. Project Presentation (10%)\n",
        "\n",
        "#### Building and Using a Model\n",
        "\n",
        "There are 6 demonstrations of competency listed in the problem statement below. Each competency is graded on a scale from 0 to 3 for a total of 18 available points. The following rubric will be used:\n",
        "\n",
        "| Points | Description |\n",
        "|--------|-------------|\n",
        "| 0      | No attempt at competency |\n",
        "| 1      | Attempted competency, but in an incorrect manner |\n",
        "| 2      | Attempted competency correctly, but sub-optimally |\n",
        "| 3      | Successfully demonstrated competency |\n",
        "\n",
        "The demonstrations of competency show that the team knows how to use the tools of a data scientist, but they are not a good judge of \"thinking like a data scientist\". 3 additional points will be graded on the team's demonstration of skillful application of data science concepts, using the following rubric:\n",
        "\n",
        "| Points | Description |\n",
        "|--------|-------------|\n",
        "| 0      | No attempt at exercise |\n",
        "| 1      | Created a generic model with little insight |\n",
        "| 2      | Performed some basic data science processes and patterns |\n",
        "| 3      | Demonstrated mastery of data science and exploration concepts learned so far |\n",
        "\n",
        "#### Ethical Implications\n",
        "\n",
        "There are six questions in the **Ethical Implications** section. Each question is worth 2 points. The rubric for calculating those points is:\n",
        "\n",
        "| Points | Description |\n",
        "|--------|-------------|\n",
        "| 0      | No attempt at question or answer was irrelevant |\n",
        "| 1      | Question was answered, but answer missed important considerations  |\n",
        "| 2      | Answer adequately addressed ethical implications |\n",
        "\n",
        "#### Project Presentation\n",
        "\n",
        "The project presentation will be graded on participation. All members of a team should actively participate."
      ]
    },
    {
      "cell_type": "markdown",
      "metadata": {
        "colab_type": "text",
        "id": "JzEoFw-TPi7r"
      },
      "source": [
        "## Team\n",
        "\n",
        "Please enter your team members' names in the placeholders in this text area:\n",
        "\n",
        "*   *Team Member Placeholder*\n",
        "*   *Team Member Placeholder*\n",
        "*   *Team Member Placeholder*\n",
        "\n"
      ]
    },
    {
      "cell_type": "markdown",
      "metadata": {
        "colab_type": "text",
        "id": "a0-9HPLU43Xf"
      },
      "source": [
        "# Exercises"
      ]
    },
    {
      "cell_type": "markdown",
      "metadata": {
        "colab_type": "text",
        "id": "8rqFJ-Ch4_mU"
      },
      "source": [
        "## Exercise 1: Coding"
      ]
    },
    {
      "cell_type": "markdown",
      "metadata": {
        "colab_type": "text",
        "id": "cr12EFb2WQym"
      },
      "source": [
        "[Kaggle](http://www.kaggle.com) hosts a [dataset containing US airline on-time statistics and delay data](https://www.kaggle.com/giovamata/airlinedelaycauses) from the [US Department of Transportation's Bureau of Transportation Statistics (BTS)](https://www.bts.gov/). In this project we will *use flight statistics data to gain insights into US airports and airlines flights in 2008*.\n",
        "\n",
        "You are free to use any toolkit that we have covered in class to solve the problem (e.g. Pandas, Matplotlib, Seaborn).\n",
        "\n",
        "**Graded** demonstrations of competency:\n",
        "1. Get the data into a Python object.\n",
        "1. Inspect the data for each column's datatype and summary statistics.\n",
        "1. Explore the data programmatically and visually.\n",
        "1. Produce an answer and visualization where applicable for at least 3 questions from the list below (or feel free to come up with your own), and discuss any relevant insights.\n",
        "\n",
        "  * Which US airports is the busiest airport? You can decide how you'd like to measure \"business\" e.g.: annually, monthly, daily.\n",
        "  * Of the 2008 flights that are *actually delayed*, think about:\n",
        "    * Which 10 US airlines have the most delays?\n",
        "    * Which 10 US airlines have the longest average delay time?\n",
        "    * Which 10 US airports have the most delays?\n",
        "    * Which 10 US airports have the longest average delay time?\n",
        "  * More analysis:\n",
        "    * Are there patterns on how flight delays are distributed across different hours of the day?\n",
        "    * How about across months or season? Can you think of any reasons for these seasonal delays?\n",
        "    * If you look at average delay time or number of delays by airport, does the data show linearity? Does any subset of the data show linearity?\n",
        "    * Add reason for delay to your delay analysis above.\n",
        "    * Examine flight frequencies, delays, time of day or year, etc. for a specific airport, airline or origin-arrival airport pair."
      ]
    },
    {
      "cell_type": "markdown",
      "metadata": {
        "colab_type": "text",
        "id": "WgFU38b7rfbv"
      },
      "source": [
        "### Student Solution"
      ]
    },
    {
      "cell_type": "code",
      "metadata": {
        "colab_type": "code",
        "id": "wOdOl0qqPyL-",
        "colab": {}
      },
      "source": [
        "# Use as many text and code blocks as you need to create your solution.\n",
        "# Make sure to take notes and add lots of code comments, so your instructor\n",
        "# understands what you are doing!\n",
        "\n",
        "print(\"Good luck!\")"
      ],
      "execution_count": 0,
      "outputs": []
    },
    {
      "cell_type": "markdown",
      "metadata": {
        "colab_type": "text",
        "id": "obXcnV7Ldc2M"
      },
      "source": [
        "### Answer Key"
      ]
    },
    {
      "cell_type": "markdown",
      "metadata": {
        "colab_type": "text",
        "id": "OVuvxZChi6JE"
      },
      "source": [
        "Solutions may vary widely. Below is an example solution."
      ]
    },
    {
      "cell_type": "markdown",
      "metadata": {
        "colab_type": "text",
        "id": "6tIXFo1R94Et"
      },
      "source": [
        "**Solution**"
      ]
    },
    {
      "cell_type": "markdown",
      "metadata": {
        "colab_type": "text",
        "id": "K1QlfIDo-44L"
      },
      "source": [
        "**Upload dataset**"
      ]
    },
    {
      "cell_type": "code",
      "metadata": {
        "colab_type": "code",
        "id": "AmR2oeHwKar3",
        "colab": {}
      },
      "source": [
        "# Upload the file from your computer to the colab runtime.\n",
        "\n",
        "from google.colab import files\n",
        "\n",
        "uploaded = files.upload()\n",
        "\n",
        "for fn in uploaded.keys():\n",
        "  print('User uploaded file \"{name}\" with length {length} bytes'.format(\n",
        "      name=fn, length=len(uploaded[fn])))"
      ],
      "execution_count": 0,
      "outputs": []
    },
    {
      "cell_type": "markdown",
      "metadata": {
        "colab_type": "text",
        "id": "r3xo3ZhwdirB"
      },
      "source": [
        "**Unzip the file**\n",
        "\n",
        "Students might not have this step codified if they unzipped the file on another machine and uploaded the uncompressed file."
      ]
    },
    {
      "cell_type": "code",
      "metadata": {
        "colab_type": "code",
        "id": "tgZ2C3GIcbyt",
        "colab": {}
      },
      "source": [
        "import zipfile\n",
        "\n",
        "filename = \"airlinedelaycauses.zip\"\n",
        "\n",
        "with zipfile.ZipFile(filename) as f:\n",
        "  f.extractall()\n",
        "\n",
        "filename = \"DelayedFlights.csv\"\n",
        "\n",
        "print(filename)"
      ],
      "execution_count": 0,
      "outputs": []
    },
    {
      "cell_type": "code",
      "metadata": {
        "colab_type": "code",
        "id": "q4GzhmjPMBr9",
        "colab": {}
      },
      "source": [
        "!ls"
      ],
      "execution_count": 0,
      "outputs": []
    },
    {
      "cell_type": "markdown",
      "metadata": {
        "colab_type": "text",
        "id": "FuehUF9_dmJh"
      },
      "source": [
        "**Load the file into a `DataFrame`**\n",
        "\n",
        "This isn't strictly required, but so far in the class we have been using dataframes, so expect that the students will continue with this pattern."
      ]
    },
    {
      "cell_type": "code",
      "metadata": {
        "colab_type": "code",
        "id": "VUNozGUSdSj7",
        "colab": {}
      },
      "source": [
        "import pandas as pd\n",
        "\n",
        "dataframe = pd.read_csv(filename)\n",
        "dataframe.head()"
      ],
      "execution_count": 0,
      "outputs": []
    },
    {
      "cell_type": "markdown",
      "metadata": {
        "colab_type": "text",
        "id": "IlprMZFryqVL"
      },
      "source": [
        "**Examine the dataset statistics**"
      ]
    },
    {
      "cell_type": "code",
      "metadata": {
        "colab_type": "code",
        "id": "RgDp1BhRdlgB",
        "colab": {}
      },
      "source": [
        "dataframe.describe()"
      ],
      "execution_count": 0,
      "outputs": []
    },
    {
      "cell_type": "code",
      "metadata": {
        "colab_type": "code",
        "id": "xDbMKiYldVV7",
        "colab": {}
      },
      "source": [
        "dataframe.columns"
      ],
      "execution_count": 0,
      "outputs": []
    },
    {
      "cell_type": "code",
      "metadata": {
        "colab_type": "code",
        "id": "XWKUD4creIao",
        "colab": {}
      },
      "source": [
        "dataframe.dtypes"
      ],
      "execution_count": 0,
      "outputs": []
    },
    {
      "cell_type": "markdown",
      "metadata": {
        "colab_type": "text",
        "id": "GV_RmOUPdxqj"
      },
      "source": [
        "**Explore the data**\n",
        "\n",
        "Every project will likely be different, but look for evidence that the students looked at the data. There should be at least one visualization."
      ]
    },
    {
      "cell_type": "code",
      "metadata": {
        "colab_type": "code",
        "id": "dD-XH-cDhQsz",
        "colab": {}
      },
      "source": [
        "dataframe['DepDelay'].describe()"
      ],
      "execution_count": 0,
      "outputs": []
    },
    {
      "cell_type": "code",
      "metadata": {
        "colab_type": "code",
        "id": "4UeQMJu2hIus",
        "colab": {}
      },
      "source": [
        "dataframe['ArrTime'].describe()"
      ],
      "execution_count": 0,
      "outputs": []
    },
    {
      "cell_type": "code",
      "metadata": {
        "colab_type": "code",
        "id": "XEFTzmUWgoU3",
        "colab": {}
      },
      "source": [
        "import matplotlib.pyplot as plt\n",
        "\n",
        "plt.plot(dataframe['DepDelay'], dataframe['ArrDelay'], 'b.')\n",
        "plt.show()"
      ],
      "execution_count": 0,
      "outputs": []
    },
    {
      "cell_type": "code",
      "metadata": {
        "colab_type": "code",
        "id": "wP-zRjiUz4Ib",
        "colab": {}
      },
      "source": [
        "dataframe.groupby(['UniqueCarrier'])[['UniqueCarrier']].count().rename(\n",
        "    columns={'UniqueCarrier': 'FlightCount'}).sort_values(\n",
        "        'FlightCount', ascending=False)"
      ],
      "execution_count": 0,
      "outputs": []
    },
    {
      "cell_type": "markdown",
      "metadata": {
        "colab_type": "text",
        "id": "0v6dDBe1gQi3"
      },
      "source": [
        "**Searching for insights**\n",
        "\n",
        "Student solutions will vary, but there should be some preprocessing of the data. Many of the columns contain strings that could be converted to numeric columns.\n",
        "\n",
        "At the very least, students should recognize that there are multiple outcome types and that we are only interested in predicting adoption."
      ]
    },
    {
      "cell_type": "code",
      "metadata": {
        "colab_type": "code",
        "id": "rez-OoynCcme",
        "colab": {}
      },
      "source": [
        "top10_df = grouped_df.sort_values(by=['Flight Count'], ascending=False).head(10)\n",
        "top10_df.index"
      ],
      "execution_count": 0,
      "outputs": []
    },
    {
      "cell_type": "code",
      "metadata": {
        "colab_type": "code",
        "id": "TRu_CLwnI0TF",
        "colab": {}
      },
      "source": [
        "delayByMonth = dataframe[dataframe.ArrDelay >= 0].groupby(\n",
        "    ['Month'])[['ArrDelay']].mean()"
      ],
      "execution_count": 0,
      "outputs": []
    },
    {
      "cell_type": "code",
      "metadata": {
        "colab_type": "code",
        "id": "zs6po8bpxXlu",
        "colab": {}
      },
      "source": [
        "dataframe[dataframe.ArrDelay >= 0].groupby(\n",
        "    ['Dest'])[['ArrDelay']].mean().sort_values('ArrDelay', ascending=False)"
      ],
      "execution_count": 0,
      "outputs": []
    },
    {
      "cell_type": "markdown",
      "metadata": {
        "colab_type": "text",
        "id": "2IY331QgBEm5"
      },
      "source": [
        "## Exercise 2: Ethical Implications"
      ]
    },
    {
      "cell_type": "markdown",
      "metadata": {
        "colab_type": "text",
        "id": "uK8XzfVHLi1K"
      },
      "source": [
        "Even the most basic models have the potential to affect segments of the population in different ways. It is important to consider how your model might positively and negatively affect different types of users.\n",
        "\n",
        "In this section of the project, you will reflect on the ethical implications of your model."
      ]
    },
    {
      "cell_type": "markdown",
      "metadata": {
        "colab_type": "text",
        "id": "BqyxriWE53Du"
      },
      "source": [
        "### Student Solution"
      ]
    },
    {
      "cell_type": "markdown",
      "metadata": {
        "colab_type": "text",
        "id": "_U3L0F9FLmwa"
      },
      "source": [
        "**Positive Impact**\n",
        "\n",
        "Your model is trying to solve a problem. Think about who will benefit if the problem is solved, and write a brief narrative about how the model will help.\n",
        "\n",
        "---"
      ]
    },
    {
      "cell_type": "markdown",
      "metadata": {
        "colab_type": "text",
        "id": "g582VerYL0so"
      },
      "source": [
        "*Hypothetical entities will benefit because...*"
      ]
    },
    {
      "cell_type": "markdown",
      "metadata": {
        "colab_type": "text",
        "id": "ALr018eQMuUw"
      },
      "source": [
        "**Negative Impact**\n",
        "\n",
        "Models usually don't have a universal benefit. Think about who might be negatively impacted by the predictions your model is making. This person or persons might not be directly using the model, but instead might be impacted indirectly.\n",
        "\n",
        "---"
      ]
    },
    {
      "cell_type": "markdown",
      "metadata": {
        "colab_type": "text",
        "id": "We8_W4WtNDLw"
      },
      "source": [
        "*Hypothetical entity will be negatively impacted because...*"
      ]
    },
    {
      "cell_type": "markdown",
      "metadata": {
        "colab_type": "text",
        "id": "07J-8ljpL85I"
      },
      "source": [
        "**Bias**\n",
        "\n",
        "Models can be biased for many reasons. The bias can come from the data used to build the model (e.g. sampling, data collection methods, available sources), and from the interpretation of the predictions generated by the model.\n",
        "\n",
        "Think of at least two ways that bias might have been introduced to your model and explain them below.\n",
        "\n",
        "---"
      ]
    },
    {
      "cell_type": "markdown",
      "metadata": {
        "colab_type": "text",
        "id": "Jg_PSw3NMyFX"
      },
      "source": [
        "*One source of bias in the model could be...*\n",
        "\n",
        "*Another source of bias in the model could be...*"
      ]
    },
    {
      "cell_type": "markdown",
      "metadata": {
        "colab_type": "text",
        "id": "7j9AWdJLMTJI"
      },
      "source": [
        "**Changing the Dataset to Mitigate Bias**\n",
        "\n",
        "The most common way that a model is biased is when the dataset itself is biased. Look back at the input data that you fed to your model. Think about how you might change something about the data to reduce bias in your model.\n",
        "\n",
        "What changes could you make to make your dataset less biased? Consider the data that you have, how and where that data was collected, and what other sources of data might be used to reduce bias.\n",
        "\n",
        "Write a summary of the changes that could be made to your input data.\n",
        "\n",
        "---"
      ]
    },
    {
      "cell_type": "markdown",
      "metadata": {
        "colab_type": "text",
        "id": "yzzfrQ-xNZo5"
      },
      "source": [
        "*Since the data has potential bias X, we can adjust...*"
      ]
    },
    {
      "cell_type": "markdown",
      "metadata": {
        "colab_type": "text",
        "id": "ePs6hpLiMNSx"
      },
      "source": [
        "**Changing the Model to Mitigate Bias**\n",
        "\n",
        "Are there any ways to reduce bias by changing the model itself? This could include modifying the choice of algorithm,tweaking hyperparameters, etc.\n",
        "\n",
        "Write a brief summary of any changes that you could make to help reduce bias in your model.\n",
        "\n",
        "---"
      ]
    },
    {
      "cell_type": "markdown",
      "metadata": {
        "colab_type": "text",
        "id": "bZ3PS8bRNRCv"
      },
      "source": [
        "*Since the model has potential bias X, we can adjust...*"
      ]
    },
    {
      "cell_type": "markdown",
      "metadata": {
        "colab_type": "text",
        "id": "YYY7lk55MgdX"
      },
      "source": [
        "**Mitigating Bias Downstream**\n",
        "\n",
        "Models make predictions. Downstream processes make decisions. What processes and/or rules should be in place for people and systems interpreting and acting on the results of your model to reduce the bias? Describe these below.\n",
        "\n",
        "---"
      ]
    },
    {
      "cell_type": "markdown",
      "metadata": {
        "colab_type": "text",
        "id": "Mp3TkmalNcR-"
      },
      "source": [
        "*Since the predictions have potential bias X, we can implement processes...*"
      ]
    }
  ]
}