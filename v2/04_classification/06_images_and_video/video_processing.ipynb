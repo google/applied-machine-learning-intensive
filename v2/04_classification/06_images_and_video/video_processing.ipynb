{
  "nbformat": 4,
  "nbformat_minor": 0,
  "metadata": {
    "colab": {
      "name": "Video Processing",
      "provenance": [],
      "private_outputs": true,
      "collapsed_sections": [
        "copyright",
        "H3voR3OOxDv1"
      ],
      "toc_visible": true
    },
    "kernelspec": {
      "display_name": "Python 3",
      "name": "python3"
    }
  },
  "cells": [
    {
      "cell_type": "markdown",
      "metadata": {
        "colab_type": "text",
        "id": "copyright"
      },
      "source": [
        "#### Copyright 2019 Google LLC."
      ]
    },
    {
      "cell_type": "code",
      "metadata": {
        "colab_type": "code",
        "id": "khlO4Bu21oZ4",
        "colab": {}
      },
      "source": [
        "# Licensed under the Apache License, Version 2.0 (the \"License\");\n",
        "# you may not use this file except in compliance with the License.\n",
        "# You may obtain a copy of the License at\n",
        "#\n",
        "# https://www.apache.org/licenses/LICENSE-2.0\n",
        "#\n",
        "# Unless required by applicable law or agreed to in writing, software\n",
        "# distributed under the License is distributed on an \"AS IS\" BASIS,\n",
        "# WITHOUT WARRANTIES OR CONDITIONS OF ANY KIND, either express or implied.\n",
        "# See the License for the specific language governing permissions and\n",
        "# limitations under the License."
      ],
      "execution_count": 0,
      "outputs": []
    },
    {
      "cell_type": "markdown",
      "metadata": {
        "colab_type": "text",
        "id": "AlzIlBsScJJ_"
      },
      "source": [
        "# Video Processing"
      ]
    },
    {
      "cell_type": "markdown",
      "metadata": {
        "colab_type": "text",
        "id": "nTirVS4FWaPx"
      },
      "source": [
        "In this lesson, we will process video data using the [OpenCV](https://opencv.org/) Python library."
      ]
    },
    {
      "cell_type": "markdown",
      "metadata": {
        "id": "QmPyT9q4fEyp",
        "colab_type": "text"
      },
      "source": [
        "## Obtain a Video"
      ]
    },
    {
      "cell_type": "markdown",
      "metadata": {
        "id": "PmhKfT5OfIET",
        "colab_type": "text"
      },
      "source": [
        "Let's start by uploading the smallest version of [this video](https://pixabay.com/videos/cars-motorway-speed-motion-traffic-1900/) to the colab. Rename the video to `cars.mp4` or change the name of the video in the code below."
      ]
    },
    {
      "cell_type": "markdown",
      "metadata": {
        "colab_type": "text",
        "id": "K0Z3-prQMBph"
      },
      "source": [
        "## Reading the Video\n",
        "\n",
        "OpenCV is an Open Source library for performing computer vision tasks. One of these tasks is reading and writing video frames. To read the `cars.mp4` video file, we use the [VideoCapture](https://docs.opencv.org/2.4/modules/highgui/doc/reading_and_writing_images_and_video.html#videocapture) class."
      ]
    },
    {
      "cell_type": "code",
      "metadata": {
        "colab_type": "code",
        "id": "xwwkoH0WMArG",
        "colab": {}
      },
      "source": [
        "import cv2 as cv\n",
        "\n",
        "cars_video = cv.VideoCapture('cars.mp4')"
      ],
      "execution_count": 0,
      "outputs": []
    },
    {
      "cell_type": "markdown",
      "metadata": {
        "id": "jzxNrZmigdz5",
        "colab_type": "text"
      },
      "source": [
        "Once you have created a `VideoCapture` object you can obtain information about the video that you are processing."
      ]
    },
    {
      "cell_type": "code",
      "metadata": {
        "id": "vHhBlRVFgiBu",
        "colab_type": "code",
        "colab": {}
      },
      "source": [
        "height = int(cars_video.get(cv.CAP_PROP_FRAME_HEIGHT))\n",
        "width = int(cars_video.get(cv.CAP_PROP_FRAME_WIDTH))\n",
        "fps = cars_video.get(cv.CAP_PROP_FPS)\n",
        "total_frames = int(cars_video.get(cv.CAP_PROP_FRAME_COUNT))\n",
        "\n",
        "print(f'height: {height}')\n",
        "print(f'width: {width}')\n",
        "print(f'frames per second: {fps}')\n",
        "print(f'total frames: {total_frames}')\n",
        "print(f'video length (seconds): {total_frames / fps}')"
      ],
      "execution_count": 0,
      "outputs": []
    },
    {
      "cell_type": "markdown",
      "metadata": {
        "id": "yUQ5ZW6OhHgM",
        "colab_type": "text"
      },
      "source": [
        "It is a good idea to release the video to free up memory in your program."
      ]
    },
    {
      "cell_type": "code",
      "metadata": {
        "id": "o_Ubw7Wlgk52",
        "colab_type": "code",
        "colab": {}
      },
      "source": [
        "cars_video.release()"
      ],
      "execution_count": 0,
      "outputs": []
    },
    {
      "cell_type": "markdown",
      "metadata": {
        "colab_type": "text",
        "id": "0pRQOHZ9nxIE"
      },
      "source": [
        "We can now loop through the video frame-by-frame. To do this, we need to know the total number of frames in the video. For each frame, we set the current frame position and then read that frame. This causes the frame to be loaded from disk into memory. This is done because video can be enormous in size, so we don't necessarily want the entire thing in memory.\n",
        " \n",
        "You might also notice that we read the frame from the cars video and then check the return value to make sure that the read was successful. This is because the underlying video processing library is written in the C++ programming language, and a common practice in that language is to return a status code indicating if a function succeeds or not. This isn't a very idiomatic in Python; it is just the underlying library's style leaking through into the Python wrapper."
      ]
    },
    {
      "cell_type": "code",
      "metadata": {
        "colab_type": "code",
        "id": "c7j0yculnH4-",
        "colab": {}
      },
      "source": [
        "cars_video = cv.VideoCapture('cars.mp4')\n",
        "\n",
        "total_frames = int(cars_video.get(cv.CAP_PROP_FRAME_COUNT))\n",
        "\n",
        "frames_read = 0\n",
        "\n",
        "for current_frame in range(0, total_frames):\n",
        "  cars_video.set(cv.CAP_PROP_POS_FRAMES, current_frame)\n",
        "  ret, _ = cars_video.read()\n",
        "  if not ret:\n",
        "    raise Exception(f'Problem reading frame {current_frame} from video')\n",
        "  if (current_frame+1) % 50 == 0:\n",
        "    print(f'Read {current_frame+1} frames so far')\n",
        "\n",
        "cars_video.release()\n",
        "\n",
        "print(f'Read {total_frames} frames')"
      ],
      "execution_count": 0,
      "outputs": []
    },
    {
      "cell_type": "markdown",
      "metadata": {
        "colab_type": "text",
        "id": "2tNLbfYtn74T"
      },
      "source": [
        "That code took a while to execute. The video is just over a minute long and it takes a while to iterate over every frame. Consider the amount of time it would take to perform object recognition on each frame.\n",
        "\n",
        "In practice, you will be doing this kind of processing on a much bigger machine (or machines) than Colab provides for free. You can also process many frames in parallel.\n",
        "\n",
        "For our purposes, let's just make the video shorter."
      ]
    },
    {
      "cell_type": "markdown",
      "metadata": {
        "id": "47T_WTF0i_Fd",
        "colab_type": "text"
      },
      "source": [
        "We'll load the video one more time and read out a single frame to illustrate that the frame is just an image."
      ]
    },
    {
      "cell_type": "code",
      "metadata": {
        "id": "xT7_5wLWi6nW",
        "colab_type": "code",
        "colab": {}
      },
      "source": [
        "import matplotlib.pyplot as plt\n",
        "\n",
        "cars_video = cv.VideoCapture('cars.mp4')\n",
        "cars_video.set(cv.CAP_PROP_POS_FRAMES, 123)\n",
        "ret, frame = cars_video.read()\n",
        "if not ret:\n",
        "  raise Exception(f'Problem reading frame {current_frame} from video')\n",
        "\n",
        "cars_video.release()\n",
        "\n",
        "plt.imshow(frame)"
      ],
      "execution_count": 0,
      "outputs": []
    },
    {
      "cell_type": "markdown",
      "metadata": {
        "colab_type": "text",
        "id": "muBJqjcCoiIi"
      },
      "source": [
        "## Writing a Video\n",
        "\n",
        "OpenCV also supports writing video data. Let's loop through the long video that we have and save only one second of it into a new file."
      ]
    },
    {
      "cell_type": "markdown",
      "metadata": {
        "id": "OZ_WjoBiknW_",
        "colab_type": "text"
      },
      "source": [
        "First we need to open our input video and get information about the frame rate, height, and width."
      ]
    },
    {
      "cell_type": "code",
      "metadata": {
        "id": "HAp-Xom7kuV6",
        "colab_type": "code",
        "colab": {}
      },
      "source": [
        "input_video = cv.VideoCapture('cars.mp4')\n",
        "\n",
        "height = int(input_video.get(cv.CAP_PROP_FRAME_HEIGHT))\n",
        "width = int(input_video.get(cv.CAP_PROP_FRAME_WIDTH))\n",
        "fps = input_video.get(cv.CAP_PROP_FPS)"
      ],
      "execution_count": 0,
      "outputs": []
    },
    {
      "cell_type": "markdown",
      "metadata": {
        "id": "xL7bq84AkwVR",
        "colab_type": "text"
      },
      "source": [
        "Using that information we can create a [VideoWriter](https://docs.opencv.org/2.4/modules/highgui/doc/reading_and_writing_images_and_video.html#videowriter) that we'll use to write the shorter video.\n",
        "\n",
        "Video can be encoded using many different formats. In order to tell OpenCV which format to use, we choose a \"four character code\" from [fourcc](https://www.fourcc.org/). In this case we use \"mp4v\" to keep our input and output files consistent."
      ]
    },
    {
      "cell_type": "code",
      "metadata": {
        "colab_type": "code",
        "id": "6BrWL2cJovEU",
        "colab": {}
      },
      "source": [
        "fourcc = cv.VideoWriter_fourcc(*'mp4v')\n",
        "output_video = cv.VideoWriter('cars-short.mp4', fourcc, fps, (width, height))"
      ],
      "execution_count": 0,
      "outputs": []
    },
    {
      "cell_type": "markdown",
      "metadata": {
        "id": "z87NtCMOnMnL",
        "colab_type": "text"
      },
      "source": [
        "Now we can loop through one second of video frames and write each frame to our output video."
      ]
    },
    {
      "cell_type": "code",
      "metadata": {
        "colab_type": "code",
        "id": "Ns_6ESqXyWSS",
        "colab": {}
      },
      "source": [
        "for i in range(0, int(fps)):\n",
        "  input_video.set(cv.CAP_PROP_POS_FRAMES, i)\n",
        "  ret, frame = input_video.read()\n",
        "  if not ret:\n",
        "    raise Exception(\"Problem reading frame\", i, \" from video\")\n",
        "  output_video.write(frame)"
      ],
      "execution_count": 0,
      "outputs": []
    },
    {
      "cell_type": "markdown",
      "metadata": {
        "id": "gN-eK_4knWWh",
        "colab_type": "text"
      },
      "source": [
        "Once processing is complete, be sure to release the video objects from memory."
      ]
    },
    {
      "cell_type": "code",
      "metadata": {
        "id": "IblYT5rUnaQ4",
        "colab_type": "code",
        "colab": {}
      },
      "source": [
        "input_video.release()\n",
        "output_video.release()"
      ],
      "execution_count": 0,
      "outputs": []
    },
    {
      "cell_type": "markdown",
      "metadata": {
        "id": "vRrkuRxrydtn",
        "colab_type": "text"
      },
      "source": [
        "And now we can list the directory to see if our new file was created."
      ]
    },
    {
      "cell_type": "code",
      "metadata": {
        "id": "yABTY1HoPcpC",
        "colab_type": "code",
        "colab": {}
      },
      "source": [
        "import os\n",
        "\n",
        "os.listdir('./')"
      ],
      "execution_count": 0,
      "outputs": []
    },
    {
      "cell_type": "markdown",
      "metadata": {
        "colab_type": "text",
        "id": "cJiP6TUxqMM4"
      },
      "source": [
        "You should now see a `cars-short.mp4` file in your file browser in Colab. Download and view the video to make sure that it only lasts for a second."
      ]
    },
    {
      "cell_type": "markdown",
      "metadata": {
        "id": "qc5FP_s2nqQg",
        "colab_type": "text"
      },
      "source": [
        "Notice that we have only concerned ourselves with the visual portion of the video. Videos contain both visual and auditory elements. OpenCV is only concerned with computer vision, so it doesn't handle audio processing."
      ]
    },
    {
      "cell_type": "markdown",
      "metadata": {
        "colab_type": "text",
        "id": "YTVUYxPwcHhp"
      },
      "source": [
        "# Exercises"
      ]
    },
    {
      "cell_type": "markdown",
      "metadata": {
        "colab_type": "text",
        "id": "LdIOgOHP1ces"
      },
      "source": [
        "## Exercise 1"
      ]
    },
    {
      "cell_type": "markdown",
      "metadata": {
        "colab_type": "text",
        "id": "jhTEOK1ZmqN8"
      },
      "source": [
        "Above, we shortened our video to 1 second by simply grabbing the first second of frames from the video file. Since not much typically changes from frame-to-frame within a second of video, a better video processing technique is to sample frames throughout the entire video and skip some frames. For example, it might be more beneficial to process every 10th frame or only process 1 of the frames in every second of video.\n",
        "\n",
        "In this exercise, take the original cars video used in this colab, and reduce it to a short 25-fps (frames per second) video by grabbing the first frame of every second of video. Save the video as `cars-sampled.mp4`."
      ]
    },
    {
      "cell_type": "markdown",
      "metadata": {
        "colab_type": "text",
        "id": "7XM35vYWSbim"
      },
      "source": [
        "### Student Solution"
      ]
    },
    {
      "cell_type": "code",
      "metadata": {
        "colab_type": "code",
        "id": "ivTzfzQN5jDk",
        "colab": {}
      },
      "source": [
        "# Your code goes here"
      ],
      "execution_count": 0,
      "outputs": []
    },
    {
      "cell_type": "markdown",
      "metadata": {
        "id": "H3voR3OOxDv1",
        "colab_type": "text"
      },
      "source": [
        "### Answer Key"
      ]
    },
    {
      "cell_type": "markdown",
      "metadata": {
        "id": "Oy6nXnZuxGxo",
        "colab_type": "text"
      },
      "source": [
        "**Solution**"
      ]
    },
    {
      "cell_type": "code",
      "metadata": {
        "colab_type": "code",
        "id": "nd6rxMENyygJ",
        "colab": {}
      },
      "source": [
        "import cv2 as cv\n",
        "\n",
        "input_video = cv.VideoCapture('cars.mp4')\n",
        "\n",
        "height = int(input_video.get(cv.CAP_PROP_FRAME_HEIGHT))\n",
        "width = int(input_video.get(cv.CAP_PROP_FRAME_WIDTH))\n",
        "fps = int(input_video.get(cv.CAP_PROP_FPS))\n",
        "total_frames = int(input_video.get(cv.CAP_PROP_FRAME_COUNT))\n",
        "\n",
        "fourcc = cv.VideoWriter_fourcc(*'mp4v')\n",
        "output_video = cv.VideoWriter('cars-sampled.mp4', fourcc, fps, (width, height))\n",
        "\n",
        "for current_frame in range(0, total_frames, fps):\n",
        "  input_video.set(cv.CAP_PROP_POS_FRAMES, current_frame)\n",
        "  ret, frame = input_video.read()\n",
        "  if not ret:\n",
        "    raise Exception(f'Problem reading frame {current_frame} from video')\n",
        "  output_video.write(frame)\n",
        "\n",
        "input_video.release()\n",
        "output_video.release()"
      ],
      "execution_count": 0,
      "outputs": []
    },
    {
      "cell_type": "markdown",
      "metadata": {
        "id": "-R_rxJM-xIuB",
        "colab_type": "text"
      },
      "source": [
        "**Validation**"
      ]
    },
    {
      "cell_type": "code",
      "metadata": {
        "id": "tw-4n-0BS8jX",
        "colab_type": "code",
        "colab": {}
      },
      "source": [
        "from shutil import copyfile\n",
        "import cv2 as cv\n",
        "\n",
        "def convert_file_to_mp4v(from_file, to_file):\n",
        "  fourcc_mp4v = cv.VideoWriter_fourcc(*'mp4v')\n",
        "\n",
        "  # Already created correctly encoded file\n",
        "  output_video = cv.VideoCapture(to_file)\n",
        "  \n",
        "  if fourcc_mp4v == int(output_video.get(cv.CAP_PROP_FOURCC)):\n",
        "    output_video.release()\n",
        "    return\n",
        "\n",
        "  # From-file was correctly encoded already, just copy it\n",
        "  input_video = cv.VideoCapture(from_file)\n",
        "  if fourcc_mp4v == int(input_video.get(cv.CAP_PROP_FOURCC)):\n",
        "    copyfile(from_file, to_file)\n",
        "    return\n",
        "  \n",
        "  # Copy file altering encoding\n",
        "  frame_count = int(input_video.get(cv.CAP_PROP_FRAME_COUNT))\n",
        "  output_video = cv.VideoWriter(to_file, fourcc_mp4v, fps, (width, height))\n",
        "\n",
        "  for current_frame in range(0, frame_count):\n",
        "    input_video.set(cv.CAP_PROP_POS_FRAMES, current_frame)\n",
        "    ret, frame = input_video.read()\n",
        "    if not ret:\n",
        "      raise Exception(f'Problem reading frame {current_frame} from video')\n",
        "    output_video.write(frame)\n",
        "\n",
        "  input_video.release()\n",
        "  output_video.release()"
      ],
      "execution_count": 0,
      "outputs": []
    },
    {
      "cell_type": "code",
      "metadata": {
        "id": "QWHPVmC3w-kC",
        "colab_type": "code",
        "colab": {}
      },
      "source": [
        "def create_canonical_target_file(from_file, to_file):\n",
        "  input_video = cv.VideoCapture(from_file)\n",
        "\n",
        "  height = int(input_video.get(cv.CAP_PROP_FRAME_HEIGHT))\n",
        "  width = int(input_video.get(cv.CAP_PROP_FRAME_WIDTH))\n",
        "  fps = int(input_video.get(cv.CAP_PROP_FPS))\n",
        "  total_frames = int(input_video.get(cv.CAP_PROP_FRAME_COUNT))\n",
        "\n",
        "  fourcc = cv.VideoWriter_fourcc(*'mp4v')\n",
        "  output_video = cv.VideoWriter(to_file, fourcc, fps, (width, height))\n",
        "\n",
        "  for current_frame in range(0, total_frames, fps):\n",
        "    input_video.set(cv.CAP_PROP_POS_FRAMES, current_frame)\n",
        "    ret, frame = input_video.read()\n",
        "    if not ret:\n",
        "      raise Exception(f'Problem reading frame {current_frame} from video')\n",
        "    output_video.write(frame)\n",
        "\n",
        "  input_video.release()\n",
        "  output_video.release()"
      ],
      "execution_count": 0,
      "outputs": []
    },
    {
      "cell_type": "code",
      "metadata": {
        "id": "VJn5aRUbX7dX",
        "colab_type": "code",
        "colab": {}
      },
      "source": [
        "def check_fps(master, graded, errors):\n",
        "  fps_want = 25\n",
        "  master_fps = int(master.get(cv.CAP_PROP_FPS))\n",
        "  graded_fps = int(graded.get(cv.CAP_PROP_FPS))\n",
        "  if fps_want != graded_fps:\n",
        "    errors.append(f'fps: want {fps_want}, got {graded_fps}')"
      ],
      "execution_count": 0,
      "outputs": []
    },
    {
      "cell_type": "code",
      "metadata": {
        "id": "Pp3x67TBZXct",
        "colab_type": "code",
        "colab": {}
      },
      "source": [
        "def check_total_frames(master, graded, errors):\n",
        "  total_frames_want = 61\n",
        "  master_total_frames = int(master.get(cv.CAP_PROP_FRAME_COUNT))\n",
        "  graded_total_frames = int(graded.get(cv.CAP_PROP_FRAME_COUNT))\n",
        "  if total_frames_want != graded_total_frames:\n",
        "    errors.append(f'total frames: want {total_frames_want}, got {graded_total_frames}')"
      ],
      "execution_count": 0,
      "outputs": []
    },
    {
      "cell_type": "code",
      "metadata": {
        "id": "nG_uY2HLZn3I",
        "colab_type": "code",
        "colab": {}
      },
      "source": [
        "def check_fourcc(master, graded, errors):\n",
        "  fourcc_want = cv.VideoWriter_fourcc(*'mp4v')\n",
        "  master_fourcc = int(master.get(cv.CAP_PROP_FOURCC))\n",
        "  graded_fourcc = int(graded.get(cv.CAP_PROP_FOURCC))\n",
        "  if fourcc_want != graded_fourcc:\n",
        "    errors.append(f'fourcc: want {fourcc_want}, got {graded_fourcc}')"
      ],
      "execution_count": 0,
      "outputs": []
    },
    {
      "cell_type": "code",
      "metadata": {
        "id": "IncheVBIfukX",
        "colab_type": "code",
        "colab": {}
      },
      "source": [
        "import hashlib\n",
        "\n",
        "def check_individual_frames(master, graded, errors):\n",
        "  frame_count = int(master.get(cv.CAP_PROP_FRAME_COUNT))\n",
        "  master_hashes = {}\n",
        "  for i in range(frame_count):\n",
        "    master.set(cv.CAP_PROP_POS_FRAMES, i)\n",
        "    ret, frame = master.read()\n",
        "    if not ret:\n",
        "      raise Exception(f'Problem reading frame {i} from video')\n",
        "    sha = hashlib.sha256()\n",
        "    sha.update(frame.ravel())\n",
        "    digest = sha.digest()\n",
        "    master_hashes[digest] = i\n",
        "  \n",
        "  frame_matches = []\n",
        "  frame_count = int(graded.get(cv.CAP_PROP_FRAME_COUNT))\n",
        "  for i in range(frame_count):\n",
        "    graded.set(cv.CAP_PROP_POS_FRAMES, i)\n",
        "    ret, frame = graded.read()\n",
        "    if not ret:\n",
        "      raise Exception(f'Problem reading frame {i} from video')\n",
        "    sha = hashlib.sha256()\n",
        "    sha.update(frame.ravel())\n",
        "    digest = sha.digest()\n",
        "    if digest not in master_hashes:\n",
        "      errors.append(f'Frame {i} in graded material not found in master video')\n",
        "    frame_matches.append(master_hashes.get(digest, -1))"
      ],
      "execution_count": 0,
      "outputs": []
    },
    {
      "cell_type": "code",
      "metadata": {
        "id": "PlZdxCFpRr5H",
        "colab_type": "code",
        "colab": {}
      },
      "source": [
        "import cv2 as cv\n",
        "import numpy as np\n",
        "\n",
        "import os\n",
        "import hashlib\n",
        "\n",
        "master_file_name = 'cars.mp4'\n",
        "graded_file_name = 'cars-sampled.mp4'\n",
        "canonical_target_file_name = 'cars-sampled-canonical.mp4'\n",
        "\n",
        "if not os.path.exists(master_file_name):\n",
        "  raise Exception(f'unable to find {master_file_name}')\n",
        "\n",
        "if not os.path.exists(graded_file_name):\n",
        "  raise Exception(f'unable to find {graded_file_name}')\n",
        "\n",
        "create_canonical_target_file(master_file_name, canonical_target_file_name)\n",
        "\n",
        "graded_video = cv.VideoCapture(graded_file_name)\n",
        "canonical_target_video = cv.VideoCapture(canonical_target_file_name)\n",
        "\n",
        "errors = []\n",
        "\n",
        "check_fps(canonical_target_video, graded_video, errors)\n",
        "check_total_frames(canonical_target_video, graded_video, errors)\n",
        "check_fourcc(canonical_target_video, graded_video, errors)\n",
        "check_individual_frames(canonical_target_video, graded_video, errors)\n",
        "\n",
        "graded_video.release()\n",
        "canonical_target_video.release()\n",
        "\n",
        "if errors:\n",
        "  print(errors)\n",
        "  raise Exception('errors encountered')\n",
        "\n",
        "'LGTM'"
      ],
      "execution_count": 0,
      "outputs": []
    }
  ]
}