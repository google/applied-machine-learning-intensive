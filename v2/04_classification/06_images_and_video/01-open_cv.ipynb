{
  "nbformat": 4,
  "nbformat_minor": 0,
  "metadata": {
    "colab": {
      "name": "OpenCV",
      "provenance": [],
      "private_outputs": true,
      "collapsed_sections": [
        "copyright",
        "exercise-1-key-1"
      ],
      "toc_visible": true,
      "include_colab_link": true
    },
    "kernelspec": {
      "display_name": "Python 3",
      "name": "python3"
    }
  },
  "cells": [
    {
      "cell_type": "markdown",
      "metadata": {
        "id": "view-in-github",
        "colab_type": "text"
      },
      "source": [
        "<a href=\"https://colab.research.google.com/github/google/applied-machine-learning-intensive/blob/master/v2/04_classification/06_images_and_video/open_cv.ipynb\" target=\"_parent\"><img src=\"https://colab.research.google.com/assets/colab-badge.svg\" alt=\"Open In Colab\"/></a>"
      ]
    },
    {
      "cell_type": "markdown",
      "metadata": {
        "colab_type": "text",
        "id": "copyright"
      },
      "source": [
        "#### Copyright 2020 Google LLC."
      ]
    },
    {
      "cell_type": "code",
      "metadata": {
        "colab_type": "code",
        "id": "7PLP9Q30PKtv",
        "colab": {}
      },
      "source": [
        "# Licensed under the Apache License, Version 2.0 (the \"License\");\n",
        "# you may not use this file except in compliance with the License.\n",
        "# You may obtain a copy of the License at\n",
        "#\n",
        "# https://www.apache.org/licenses/LICENSE-2.0\n",
        "#\n",
        "# Unless required by applicable law or agreed to in writing, software\n",
        "# distributed under the License is distributed on an \"AS IS\" BASIS,\n",
        "# WITHOUT WARRANTIES OR CONDITIONS OF ANY KIND, either express or implied.\n",
        "# See the License for the specific language governing permissions and\n",
        "# limitations under the License."
      ],
      "execution_count": 0,
      "outputs": []
    },
    {
      "cell_type": "markdown",
      "metadata": {
        "colab_type": "text",
        "id": "f5W9rkuBmBu9"
      },
      "source": [
        "# OpenCV"
      ]
    },
    {
      "cell_type": "markdown",
      "metadata": {
        "colab_type": "text",
        "id": "zIykBQbYXrXA"
      },
      "source": [
        "[OpenCV](https://opencv.org/) is an open-source computer vision library. It comes packaged with many powerful computer vision tools, including image and video processing utilities. The library has a lot of the same functionality as the [Python Image Library (PIL)](https://python-pillow.org/) but also includes some computer vision support that PIL doesn't include.\n",
        "\n",
        "In this lesson we will learn how to use OpenCV to process images."
      ]
    },
    {
      "cell_type": "markdown",
      "metadata": {
        "colab_type": "text",
        "id": "G8u2lYRWbE37"
      },
      "source": [
        "## Load an Image"
      ]
    },
    {
      "cell_type": "markdown",
      "metadata": {
        "id": "RRFdZwtwLKKV",
        "colab_type": "text"
      },
      "source": [
        "Start by downloading a small (640x360) version of [this image of a car](https://pixabay.com/illustrations/car-sports-car-racing-car-speed-49278/) from Pixabay and then uploading it to this Colab.\n",
        "\n",
        "Either save the image as `car.jpg` or change the `image_file` variable below to the name of the image file.\n",
        "\n",
        "**Be sure to load the small 640x360 version of the image for this lab.**\n",
        "\n",
        "After loading the image, we can use matplotlib to view the image."
      ]
    },
    {
      "cell_type": "code",
      "metadata": {
        "id": "RmoZ6R9bKnEH",
        "colab_type": "code",
        "colab": {}
      },
      "source": [
        "import cv2 as cv\n",
        "import matplotlib.pyplot as plt\n",
        "\n",
        "image_file = 'car.jpg'\n",
        "\n",
        "image = cv.imread(image_file)\n",
        "\n",
        "plt.imshow(image)\n",
        "plt.show()"
      ],
      "execution_count": 0,
      "outputs": []
    },
    {
      "cell_type": "markdown",
      "metadata": {
        "id": "GVzr4XfQLO23",
        "colab_type": "text"
      },
      "source": [
        "### Color Ordering"
      ]
    },
    {
      "cell_type": "markdown",
      "metadata": {
        "id": "bQTzqEf1K3Tv",
        "colab_type": "text"
      },
      "source": [
        "Does something look off? Wasn't the car red when we downloaded the image?\n",
        "\n",
        "OpenCV assumes the image is stored with blue-green-red (BGR) encoding instead of [red-green-blue (RGB)](https://en.wikipedia.org/wiki/RGB_color_model), but matplotlib assumes RBG. So, the reds and blues in the image are inverted when displayed.\n",
        "\n",
        "Why does OpenCV assume images are BGR?\n",
        "\n",
        "BGR was historically a popular storage format used by digital camera manufacturers and many software packages. At the time it was a good choice for a default. Defaults are difficult to change, so BGR is here to stay in OpenCV.\n",
        "\n",
        "It doesn't really matter which format is used as long as the inputs to our model are consistent. However, it can be annoying to look at images with inverted colors. You just need to know how to tell OpenCV to fix it.\n",
        "\n",
        "Luckily it is easy to change from BGR to RGB. We can just use `cvtColor`. There are [scores of conversions](https://docs.opencv.org/3.1.0/d7/d1b/group__imgproc__misc.html) possible."
      ]
    },
    {
      "cell_type": "code",
      "metadata": {
        "id": "OrxvjU6gK7Fy",
        "colab_type": "code",
        "colab": {}
      },
      "source": [
        "image = cv.cvtColor(image, cv.COLOR_BGR2RGB)\n",
        "\n",
        "plt.imshow(image)\n",
        "plt.show()"
      ],
      "execution_count": 0,
      "outputs": []
    },
    {
      "cell_type": "markdown",
      "metadata": {
        "id": "nYyEWvL8Lf8H",
        "colab_type": "text"
      },
      "source": [
        "## Drawing on Images"
      ]
    },
    {
      "cell_type": "markdown",
      "metadata": {
        "id": "yMGhqtBvLilk",
        "colab_type": "text"
      },
      "source": [
        "### Drawing Rectangles on Images\n",
        "\n",
        "Suppose we want to draw a rectangle around objects we identify in an image. This can be done with the OpenCV `rectangle` method."
      ]
    },
    {
      "cell_type": "code",
      "metadata": {
        "id": "mQxOqUiSLhoN",
        "colab_type": "code",
        "colab": {}
      },
      "source": [
        "left = 100\n",
        "right = 580\n",
        "top = 100\n",
        "bottom = 300\n",
        "\n",
        "r = 255\n",
        "g = 0\n",
        "b = 0\n",
        "\n",
        "cv.rectangle(image, (left, top), (right, bottom), (r, g, b), thickness=2)\n",
        "plt.imshow(image)\n",
        "plt.show()"
      ],
      "execution_count": 0,
      "outputs": []
    },
    {
      "cell_type": "markdown",
      "metadata": {
        "id": "-eyAAN5ZLqcX",
        "colab_type": "text"
      },
      "source": [
        "### Drawing Text on Images\n",
        "\n",
        "You can also draw text on images using `putText`."
      ]
    },
    {
      "cell_type": "code",
      "metadata": {
        "id": "ytbjF3IxLuzl",
        "colab_type": "code",
        "colab": {}
      },
      "source": [
        "left = 150\n",
        "top = 50\n",
        "\n",
        "r = 0\n",
        "g = 0\n",
        "b = 0\n",
        "scale = 1.0\n",
        "thickness = 2\n",
        "\n",
        "cv.putText(image, \"It is a car!\", (left, top), cv.FONT_HERSHEY_SIMPLEX, scale,\n",
        "           [r, g, b], thickness)\n",
        "\n",
        "plt.imshow(image)\n",
        "plt.show()"
      ],
      "execution_count": 0,
      "outputs": []
    },
    {
      "cell_type": "markdown",
      "metadata": {
        "id": "MkLGTqteLEHC",
        "colab_type": "text"
      },
      "source": [
        "## Image Scaling"
      ]
    },
    {
      "cell_type": "markdown",
      "metadata": {
        "id": "NW-RlIP9LHfx",
        "colab_type": "text"
      },
      "source": [
        "Models are trained with images scaled to a specific size and are sensitive to the input size being consistent. One solution is to simply scale the image to the required size using the `resize` method.\n",
        " \n",
        "In the example below, we scale the image to 300x300 pixels. This creates a pretty distorted image, which might affect the training and predictions made by the model."
      ]
    },
    {
      "cell_type": "code",
      "metadata": {
        "id": "KzsGZK3mLW5t",
        "colab_type": "code",
        "colab": {}
      },
      "source": [
        "image_scaled = cv.resize(image, (300, 300))\n",
        "\n",
        "plt.imshow(image_scaled)\n",
        "plt.show()"
      ],
      "execution_count": 0,
      "outputs": []
    },
    {
      "cell_type": "markdown",
      "metadata": {
        "id": "mBKsIs4ykMtR",
        "colab_type": "text"
      },
      "source": [
        "## Cropping With Edge Detection"
      ]
    },
    {
      "cell_type": "markdown",
      "metadata": {
        "id": "mGr77pUvkROt",
        "colab_type": "text"
      },
      "source": [
        "Another strategy is to crop the image using \"edge detection\", then scale the image after you have cropped it down. This strategy can be error-prone, but it can also be really helpful in isolating individual objects in an image.\n",
        "\n",
        "In the case of the car image that we have loaded, cropping based on edge detection is both simple and effective. In images with more noise in the background, automatic cropping will be much more difficult."
      ]
    },
    {
      "cell_type": "markdown",
      "metadata": {
        "id": "DbHQuRbjk29f",
        "colab_type": "text"
      },
      "source": [
        "To begin cropping, we'll rely on OpenCV's [Canny](https://docs.opencv.org/2.4/modules/imgproc/doc/feature_detection.html?highlight=canny#canny) detection algorithm."
      ]
    },
    {
      "cell_type": "code",
      "metadata": {
        "id": "LlNs5Wb-ZOz3",
        "colab_type": "code",
        "colab": {}
      },
      "source": [
        "threshold = 200\n",
        "edges = cv.Canny(image, threshold, threshold*2)\n",
        "\n",
        "fig, (orig, edge) = plt.subplots(2)\n",
        "orig.imshow(image, cmap='gray')\n",
        "edge.imshow(edges, cmap='gray')\n",
        "plt.show()"
      ],
      "execution_count": 0,
      "outputs": []
    },
    {
      "cell_type": "markdown",
      "metadata": {
        "id": "2L5zF8EomT7v",
        "colab_type": "text"
      },
      "source": [
        "The `threshold` parameter is a tuning value set to the images you are processing. More details can be found on [Canny's Wikipedia page](https://en.wikipedia.org/wiki/Canny_edge_detector).\n",
        "\n",
        "Let's see a few different thresholds in action."
      ]
    },
    {
      "cell_type": "code",
      "metadata": {
        "id": "8TQu_1D8mTiE",
        "colab_type": "code",
        "colab": {}
      },
      "source": [
        "fig, (orig, t1, t50, t100, t200, t300, t500) = plt.subplots(7, figsize=(5, 25))\n",
        "\n",
        "orig.imshow(image)\n",
        "t1.imshow(cv.Canny(image, 10, 10*2), cmap='gray')\n",
        "t50.imshow(cv.Canny(image, 50, 50*2), cmap='gray')\n",
        "t100.imshow(cv.Canny(image, 100, 100*2), cmap='gray')\n",
        "t200.imshow(cv.Canny(image, 200, 200*2), cmap='gray')\n",
        "t300.imshow(cv.Canny(image, 300, 300*2), cmap='gray')\n",
        "t500.imshow(cv.Canny(image, 500, 500*2), cmap='gray')\n",
        "plt.show()"
      ],
      "execution_count": 0,
      "outputs": []
    },
    {
      "cell_type": "markdown",
      "metadata": {
        "id": "ayTn7dXyoa_J",
        "colab_type": "text"
      },
      "source": [
        "None of these settings do too badly, though a threshold of 10 has a lot of noise, and a threshold of 500 barely outlines the car. We have to remember that our goal is to build a bounding box around the car and crop on that bounding box."
      ]
    },
    {
      "cell_type": "markdown",
      "metadata": {
        "id": "a8zzsxWko1G0",
        "colab_type": "text"
      },
      "source": [
        "Another consideration is that the edge detection algorithm is often more effective if the image is grayscale and if there is some blurring.\n",
        " \n",
        "First, let's convert the image to grayscale."
      ]
    },
    {
      "cell_type": "code",
      "metadata": {
        "id": "IZSbCNDXaGSV",
        "colab_type": "code",
        "colab": {}
      },
      "source": [
        "img_gray = cv.cvtColor(image, cv.COLOR_RGB2GRAY)\n",
        "plt.imshow(img_gray, cmap='gray')"
      ],
      "execution_count": 0,
      "outputs": []
    },
    {
      "cell_type": "markdown",
      "metadata": {
        "id": "MHRWyjhYpN3P",
        "colab_type": "text"
      },
      "source": [
        "And now we'll blur the image a bit."
      ]
    },
    {
      "cell_type": "code",
      "metadata": {
        "id": "LIUmsFFrpL-1",
        "colab_type": "code",
        "colab": {}
      },
      "source": [
        "img_gray = cv.blur(img_gray, (3,3))\n",
        "plt.imshow(img_gray, cmap='gray')"
      ],
      "execution_count": 0,
      "outputs": []
    },
    {
      "cell_type": "markdown",
      "metadata": {
        "id": "-anEZ9NopW37",
        "colab_type": "text"
      },
      "source": [
        "Given this new grayscale and blurred image, we can run the edge detection algorithm again."
      ]
    },
    {
      "cell_type": "code",
      "metadata": {
        "id": "tbyr6n9Opcrt",
        "colab_type": "code",
        "colab": {}
      },
      "source": [
        "fig, (orig, t1, t50, t100, t200, t300, t500) = plt.subplots(7, figsize=(5, 25))\n",
        "\n",
        "orig.imshow(img_gray, cmap='gray')\n",
        "t1.imshow(cv.Canny(img_gray, 10, 10*2), cmap='gray')\n",
        "t50.imshow(cv.Canny(img_gray, 50, 50*2), cmap='gray')\n",
        "t100.imshow(cv.Canny(img_gray, 100, 100*2), cmap='gray')\n",
        "t200.imshow(cv.Canny(img_gray, 200, 200*2), cmap='gray')\n",
        "t300.imshow(cv.Canny(img_gray, 300, 300*2), cmap='gray')\n",
        "t500.imshow(cv.Canny(img_gray, 500, 500*2), cmap='gray')\n",
        "plt.show()"
      ],
      "execution_count": 0,
      "outputs": []
    },
    {
      "cell_type": "markdown",
      "metadata": {
        "id": "DkIIp4JZpnlz",
        "colab_type": "text"
      },
      "source": [
        "In this case, our edges completely disappear at higher thresholds!\n",
        "\n",
        "The threshold of 200 seemed to perform reasonably well in both situations, so let's stick with that."
      ]
    },
    {
      "cell_type": "code",
      "metadata": {
        "id": "P4KI438bp7Dv",
        "colab_type": "code",
        "colab": {}
      },
      "source": [
        "img_canny = cv.Canny(img_gray, 200, 200*2)\n",
        "\n",
        "plt.imshow(img_canny, cmap='gray')\n",
        "plt.show()"
      ],
      "execution_count": 0,
      "outputs": []
    },
    {
      "cell_type": "markdown",
      "metadata": {
        "id": "grY78Cwwp-Qk",
        "colab_type": "text"
      },
      "source": [
        "We now need to find the bounding box around the item in the image that we want to crop. The first step in doing this is to utilize the [findContours](https://docs.opencv.org/3.4/d3/dc0/group__imgproc__shape.html#ga17ed9f5d79ae97bd4c7cf18403e1689a) function. This function returns a list of contours found in the output of the Canny algorithm. The contours are defined by lists of $(x, y)$ values."
      ]
    },
    {
      "cell_type": "code",
      "metadata": {
        "id": "Thhz47TwrFow",
        "colab_type": "code",
        "colab": {}
      },
      "source": [
        "contours, _ = cv.findContours(img_canny, cv.RETR_TREE,\n",
        "                                 cv.CHAIN_APPROX_SIMPLE)\n",
        "\n",
        "print(len(contours))\n",
        "print(contours[0])"
      ],
      "execution_count": 0,
      "outputs": []
    },
    {
      "cell_type": "markdown",
      "metadata": {
        "id": "L41cRvQHr5IA",
        "colab_type": "text"
      },
      "source": [
        "Given the contours, we can approximate the polygon that the contour forms and then create a bounding box around each contour."
      ]
    },
    {
      "cell_type": "code",
      "metadata": {
        "id": "dSBmgd_fbHJn",
        "colab_type": "code",
        "colab": {}
      },
      "source": [
        "bounding_boxes = []\n",
        "contours_poly = []\n",
        "\n",
        "for contour in contours:\n",
        "  polygon = cv.approxPolyDP(contour, 3, True)\n",
        "  contours_poly.append(polygon)\n",
        "  bounding_boxes.append(cv.boundingRect(polygon))\n",
        "\n",
        "print(len(contours_poly))\n",
        "print(len(bounding_boxes))\n",
        "print(bounding_boxes)"
      ],
      "execution_count": 0,
      "outputs": []
    },
    {
      "cell_type": "markdown",
      "metadata": {
        "id": "mQCc84RqsFUO",
        "colab_type": "text"
      },
      "source": [
        "Now we have to decide how to crop the image. For this simple example with an image with relatively little noise in the background, we'll find the largest bounding box and crop to it.\n",
        " \n",
        "First we need to find the largest bounding box in the list of bounding boxes."
      ]
    },
    {
      "cell_type": "code",
      "metadata": {
        "id": "4RD5raacdMGL",
        "colab_type": "code",
        "colab": {}
      },
      "source": [
        "largest_box = None\n",
        "largest_area = 0\n",
        "\n",
        "for box in bounding_boxes:\n",
        "  x, y, width, height = box\n",
        "  area = height * width\n",
        "  if area > largest_area:\n",
        "    largest_area = area\n",
        "    largest_box = box\n",
        "\n",
        "print(largest_area)\n",
        "print(largest_box)"
      ],
      "execution_count": 0,
      "outputs": []
    },
    {
      "cell_type": "markdown",
      "metadata": {
        "id": "DPuLhn-917Nm",
        "colab_type": "text"
      },
      "source": [
        "Now that we have a bounding box, let's draw that box over a copy of the image to see if it captures the car."
      ]
    },
    {
      "cell_type": "code",
      "metadata": {
        "id": "FEqvK5_ds7Df",
        "colab_type": "code",
        "colab": {}
      },
      "source": [
        "import numpy as np\n",
        "\n",
        "image_copy = np.copy(image)\n",
        "\n",
        "x, y, width, height = largest_box\n",
        "cv.rectangle(image_copy, (x, y), (x+width, y+height), [0, 0, 255], 2)\n",
        "\n",
        "plt.imshow(image_copy)"
      ],
      "execution_count": 0,
      "outputs": []
    },
    {
      "cell_type": "markdown",
      "metadata": {
        "id": "_DD8Kbvo2BWD",
        "colab_type": "text"
      },
      "source": [
        "The box does clip the car a bit, but for the most part, the car is within the box."
      ]
    },
    {
      "cell_type": "markdown",
      "metadata": {
        "id": "AwKwraUa2GT3",
        "colab_type": "text"
      },
      "source": [
        "Now we need to crop the image to just the car itself.\n",
        "\n",
        "Notice that we pair the `x` coordinate with `height` and the `y` with `width`. This is because we want all of the rows for a given height and the columns for a given width."
      ]
    },
    {
      "cell_type": "code",
      "metadata": {
        "id": "6aM1Q8cid_Xv",
        "colab_type": "code",
        "colab": {}
      },
      "source": [
        "x, y, width, height = largest_box\n",
        "cropped_img = image[x:x+height, y:y+width]\n",
        "plt.imshow(cropped_img)"
      ],
      "execution_count": 0,
      "outputs": []
    },
    {
      "cell_type": "markdown",
      "metadata": {
        "id": "bYccBq4k2bQv",
        "colab_type": "text"
      },
      "source": [
        "Now we need to make the image into a square by padding the image. We find the longest side and then pad the shorter side with the necessary pixels to make the image a square.\n",
        "\n",
        "To add the padding we use OpenCV's `copyMakeBorder` function."
      ]
    },
    {
      "cell_type": "code",
      "metadata": {
        "id": "tygNEuGXe2Aj",
        "colab_type": "code",
        "colab": {}
      },
      "source": [
        "height = cropped_img.shape[0]\n",
        "width = cropped_img.shape[1]\n",
        "\n",
        "left_pad, right_pad, top_pad, bottom_pad = 0, 0, 0, 0\n",
        "if height > width:\n",
        "  left_pad = int((height-width) / 2)\n",
        "  right_pad = height-width-left_pad\n",
        "elif width > height:\n",
        "  top_pad = int((width-height) / 2)\n",
        "  bottom_pad = width-height-top_pad\n",
        "\n",
        "img_square = cv.copyMakeBorder(\n",
        "    cropped_img,\n",
        "    top_pad,\n",
        "    bottom_pad,\n",
        "    left_pad,\n",
        "    right_pad,\n",
        "    cv.BORDER_CONSTANT,\n",
        "    value=(255,255,255))\n",
        "\n",
        "plt.imshow(img_square)"
      ],
      "execution_count": 0,
      "outputs": []
    },
    {
      "cell_type": "markdown",
      "metadata": {
        "id": "-XW_qEgu23z9",
        "colab_type": "text"
      },
      "source": [
        "And finally, we can scale the image down to a 300x300 image to feed to our model using OpenCV's `resize` function again."
      ]
    },
    {
      "cell_type": "code",
      "metadata": {
        "id": "Im_q3Xf3ggP2",
        "colab_type": "code",
        "colab": {}
      },
      "source": [
        "image_scaled = cv.resize(img_square, (300, 300))\n",
        "\n",
        "plt.imshow(image_scaled)\n",
        "plt.show()"
      ],
      "execution_count": 0,
      "outputs": []
    },
    {
      "cell_type": "markdown",
      "metadata": {
        "id": "Xo1wnMSl3BuN",
        "colab_type": "text"
      },
      "source": [
        "## Rotating Images"
      ]
    },
    {
      "cell_type": "markdown",
      "metadata": {
        "id": "MRANxOVN3Hgn",
        "colab_type": "text"
      },
      "source": [
        "It is sometimes useful to rotate images before feeding them to your model. This increases the size of your training data, and it makes your model more resilient to subtle patterns that might exist within your base images.\n",
        " \n",
        "For example, in a popular fashion image dataset, most boots are pointed in one direction and sandals in the other. When the model attempts to identify a boot pointed in the wrong direction, it will often predict 'sandal' based purely on the orientation of the object.\n",
        " \n",
        "To flip an image on the horizontal or vertical axis, we can just use the `flip` function.\n",
        " \n",
        "Here is an example of flipping an image on the horizontal axis."
      ]
    },
    {
      "cell_type": "code",
      "metadata": {
        "id": "1x9PemhtgrRv",
        "colab_type": "code",
        "colab": {}
      },
      "source": [
        "horizontal_img = cv.flip(image_scaled, 0)\n",
        "plt.imshow(horizontal_img)\n",
        "plt.show()"
      ],
      "execution_count": 0,
      "outputs": []
    },
    {
      "cell_type": "markdown",
      "metadata": {
        "id": "A7IbPf3l4tbt",
        "colab_type": "text"
      },
      "source": [
        "And now the vertical axis."
      ]
    },
    {
      "cell_type": "code",
      "metadata": {
        "id": "ORzVDhHfgyEy",
        "colab_type": "code",
        "colab": {}
      },
      "source": [
        "vertical_img = cv.flip(image_scaled, 1)\n",
        "plt.imshow(vertical_img)\n",
        "plt.show()"
      ],
      "execution_count": 0,
      "outputs": []
    },
    {
      "cell_type": "markdown",
      "metadata": {
        "id": "HfXe8OOm4vPZ",
        "colab_type": "text"
      },
      "source": [
        "And finally, both."
      ]
    },
    {
      "cell_type": "code",
      "metadata": {
        "id": "hhhdEiutg250",
        "colab_type": "code",
        "colab": {}
      },
      "source": [
        "horizontal_and_vertical_img = cv.flip(image_scaled, -1)\n",
        "plt.imshow(horizontal_and_vertical_img)\n",
        "plt.show()"
      ],
      "execution_count": 0,
      "outputs": []
    },
    {
      "cell_type": "markdown",
      "metadata": {
        "colab_type": "text",
        "id": "5WFLU7hWbO8_"
      },
      "source": [
        "# Resources\n",
        "\n",
        "* [OpenCV Documentation on Edge Detection](https://docs.opencv.org/3.4/da/d0c/tutorial_bounding_rects_circles.html)\n",
        "* Canny Edge Detector: [Wikipedia](https://en.wikipedia.org/wiki/Canny_edge_detector), [OpenCV Documentation](https://docs.opencv.org/3.1.0/da/d22/tutorial_py_canny.html)"
      ]
    },
    {
      "cell_type": "markdown",
      "metadata": {
        "colab_type": "text",
        "id": "Swt2fxm-fG_B"
      },
      "source": [
        "# Exercises"
      ]
    },
    {
      "cell_type": "markdown",
      "metadata": {
        "id": "vaiwWLygsq5M",
        "colab_type": "text"
      },
      "source": [
        "## Exercise 1"
      ]
    },
    {
      "cell_type": "markdown",
      "metadata": {
        "colab_type": "text",
        "id": "iWq38ASlb2aY"
      },
      "source": [
        "We have seen how to rotate an image on its horizontal and vertical axes. This technique works well for increasing the size of your training set and the capabilities of your model, while also providing resiliency to biases that might be hidden in your data.\n",
        "\n",
        "It is also possible to rotate an image by different angles.\n",
        "\n",
        "Use OpenCV to take our `image_scaled` image from above and rotate it so that the car is angled at 45 degrees. Do this for every corner of the squared image.\n",
        " \n",
        "There should be eight images in total. The order of the images isn't important, but the variety is. There should be one image for each case below:\n",
        " \n",
        "1. Car pointed to the top-left corner of the image\n",
        "1. Upside-down car pointed to the top-left corner of the image\n",
        "1. Car pointed to the top-right corner of the image\n",
        "1. Upside-down car pointed to the top-right corner of the image\n",
        "1. Car pointed to the bottom-left corner of the image\n",
        "1. Upside-down car pointed to the bottom-left corner of the image\n",
        "1. Car pointed to the bottom-right corner of the image\n",
        "1. Upside-down car pointed to the bottom-right corner of the image\n",
        "\n",
        "Display the images using `matplotlib.pyplot`.\n",
        " \n",
        "Hint: Check out the `getRotationMatrix2D` and `warpAffine` methods.\n"
      ]
    },
    {
      "cell_type": "markdown",
      "metadata": {
        "colab_type": "text",
        "id": "CYZEXNK1VDIJ"
      },
      "source": [
        "### **Student Solution**"
      ]
    },
    {
      "cell_type": "code",
      "metadata": {
        "colab_type": "code",
        "id": "TI_WxOyjcfNu",
        "colab": {}
      },
      "source": [
        "# Your answer goes here"
      ],
      "execution_count": 0,
      "outputs": []
    },
    {
      "cell_type": "markdown",
      "metadata": {
        "id": "4lI64FdEeP1-",
        "colab_type": "text"
      },
      "source": [
        "---"
      ]
    },
    {
      "cell_type": "markdown",
      "metadata": {
        "colab_type": "text",
        "id": "exercise-1-key-1"
      },
      "source": [
        "### Answer Key"
      ]
    },
    {
      "cell_type": "markdown",
      "metadata": {
        "colab_type": "text",
        "id": "exercise-1-solution-1"
      },
      "source": [
        "**Solution**"
      ]
    },
    {
      "cell_type": "code",
      "metadata": {
        "id": "sAO5bciUiHZs",
        "colab_type": "code",
        "colab": {}
      },
      "source": [
        "row,col,_ = image_scaled.shape\n",
        "center=tuple(np.array([row,col])/2)\n",
        "\n",
        "rot_mat = cv.getRotationMatrix2D(center, 45, 1.0)\n",
        "new_image = cv.warpAffine(image_scaled, rot_mat, (col,row),\n",
        "                          borderValue=(255, 255, 255))\n",
        "\n",
        "rot_mat = cv.getRotationMatrix2D(center, -45, 1.0)\n",
        "new_image2 = cv.warpAffine(image_scaled, rot_mat, (col,row),\n",
        "                           borderValue=(255, 255, 255))\n",
        "\n",
        "fig, (sp1, sp2, sp3, sp4, sp5, sp6, sp7, sp8) = plt.subplots(8, figsize=(5, 25))\n",
        "\n",
        "sp1.imshow(new_image)\n",
        "sp2.imshow(cv.flip(new_image, 0))\n",
        "sp3.imshow(cv.flip(new_image, 1))\n",
        "sp4.imshow(cv.flip(new_image, -1))\n",
        "sp5.imshow(new_image2)\n",
        "sp6.imshow(cv.flip(new_image2, 0))\n",
        "sp7.imshow(cv.flip(new_image2, 1))\n",
        "sp8.imshow(cv.flip(new_image2, -1))\n",
        "\n",
        "plt.show()"
      ],
      "execution_count": 0,
      "outputs": []
    },
    {
      "cell_type": "markdown",
      "metadata": {
        "id": "AHqrU8PZeQqQ",
        "colab_type": "text"
      },
      "source": [
        "---"
      ]
    }
  ]
}
