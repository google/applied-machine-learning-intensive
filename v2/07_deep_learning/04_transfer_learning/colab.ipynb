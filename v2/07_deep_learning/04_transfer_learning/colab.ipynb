{
  "nbformat": 4,
  "nbformat_minor": 0,
  "metadata": {
    "colab": {
      "name": "Transfer Learning",
      "provenance": [],
      "private_outputs": true,
      "collapsed_sections": [
        "copyright",
        "exercise-1-key-1"
      ],
      "toc_visible": true
    },
    "kernelspec": {
      "name": "python3",
      "display_name": "Python 3"
    },
    "accelerator": "GPU"
  },
  "cells": [
    {
      "cell_type": "markdown",
      "metadata": {
        "colab_type": "text",
        "id": "copyright"
      },
      "source": [
        "#### Copyright 2019 Google LLC."
      ]
    },
    {
      "cell_type": "code",
      "metadata": {
        "colab_type": "code",
        "id": "7PLP9Q30PKtv",
        "colab": {}
      },
      "source": [
        "# Licensed under the Apache License, Version 2.0 (the \"License\");\n",
        "# you may not use this file except in compliance with the License.\n",
        "# You may obtain a copy of the License at\n",
        "#\n",
        "# https://www.apache.org/licenses/LICENSE-2.0\n",
        "#\n",
        "# Unless required by applicable law or agreed to in writing, software\n",
        "# distributed under the License is distributed on an \"AS IS\" BASIS,\n",
        "# WITHOUT WARRANTIES OR CONDITIONS OF ANY KIND, either express or implied.\n",
        "# See the License for the specific language governing permissions and\n",
        "# limitations under the License."
      ],
      "execution_count": 0,
      "outputs": []
    },
    {
      "cell_type": "markdown",
      "metadata": {
        "colab_type": "text",
        "id": "f5W9rkuBmBu9"
      },
      "source": [
        "# Transfer Learning"
      ]
    },
    {
      "cell_type": "markdown",
      "metadata": {
        "colab_type": "text",
        "id": "zIykBQbYXrXA"
      },
      "source": [
        "In Deep Learning, \"transfer learning\" is defined as the conveyance of knowledge from one pretrained model to a new model. This means using a pretrained model to train a new model. This approach is used in few-shot learning, where you have many class labels, and not many samples. Using transfer learning, we can train very accurate models in a fraction of the time, and with far less training data."
      ]
    },
    {
      "cell_type": "markdown",
      "metadata": {
        "colab_type": "text",
        "id": "-Vi3O347bIWz"
      },
      "source": [
        "Transfer learning has been touted as the future of Artificial General Intelligence (AGI); it allows knowledge to be consolidated. Prebuilt models trained on [ImageNet](http://www.image-net.org) are generally good at classifying images, and using a pretrained model, we can extend the model by training it on new images. [ModelZoo](https://modelzoo.co/) is a good resource for browsing a wide variety of pretrained models for deep learning."
      ]
    },
    {
      "cell_type": "markdown",
      "metadata": {
        "id": "1e5nT_DqUYMu",
        "colab_type": "text"
      },
      "source": [
        "### Train a convolutional neural network using fastai\n",
        "\n",
        "The first thing we need to do when training a CNN model is to change the runtime type in your colab to GPU.  It should already be activated, but be aware of this requirement, as a CPU will take much, much longer to train. This is generally going to be the case, and Google Cloud offers various levels of GPU activation.  There are also tutorials on fastai setup with many different GPU cloud services providers [here](https://course.fast.ai/start_gcp.html)."
      ]
    },
    {
      "cell_type": "markdown",
      "metadata": {
        "id": "LUiS6OB7UwEP",
        "colab_type": "text"
      },
      "source": [
        "Use these magic commands to display everything correctly in Colab, as well as preserve any changes you make to the library."
      ]
    },
    {
      "cell_type": "code",
      "metadata": {
        "id": "rDmaA0ZkUiAV",
        "colab_type": "code",
        "colab": {}
      },
      "source": [
        "%reload_ext autoreload\n",
        "%autoreload 2\n",
        "%matplotlib inline"
      ],
      "execution_count": 0,
      "outputs": []
    },
    {
      "cell_type": "markdown",
      "metadata": {
        "id": "UzBbfGQ0VhGW",
        "colab_type": "text"
      },
      "source": [
        "Now you can import [fastai](https://course.fast.ai/), which is built on top of PyTorch.  [PyTorch](https://pytorch.org) is a deep learning framework like tensorflow, and fastai provides a high level API to build, train, and deploy models. Check out this [PyTorch tutorial](https://pytorch.org/tutorials/beginner/nn_tutorial.html), from Jeremy Howard, former Kaggle President, and creator of fastai."
      ]
    },
    {
      "cell_type": "code",
      "metadata": {
        "id": "d8qx-9fBVffQ",
        "colab_type": "code",
        "colab": {}
      },
      "source": [
        "from fastai.vision import *\n",
        "from fastai.metrics import error_rate"
      ],
      "execution_count": 0,
      "outputs": []
    },
    {
      "cell_type": "markdown",
      "metadata": {
        "id": "QNv0tVPuYCOI",
        "colab_type": "text"
      },
      "source": [
        "If you get a memory error, it is because Colab has not provisioned enough GPU to process 64 batches at a time. You might need to reset the batch size to 16."
      ]
    },
    {
      "cell_type": "code",
      "metadata": {
        "id": "wyfgY32QX9xY",
        "colab_type": "code",
        "colab": {}
      },
      "source": [
        "bs = 64\n",
        "# Uncomment the following line if you run out of memory even after clicking\n",
        "# Kernel->Restart.\n",
        "# bs = 16"
      ],
      "execution_count": 0,
      "outputs": []
    },
    {
      "cell_type": "markdown",
      "metadata": {
        "id": "Xf9ay3vOYytP",
        "colab_type": "text"
      },
      "source": [
        "### Getting the Data\n",
        "\n",
        "We will be working with is the [Oxford-IIIT Pet Dataset](http://www.robots.ox.ac.uk/~vgg/data/pets/) dataset by [O. M. Parkhi et al., 2012](http://www.robots.ox.ac.uk/~vgg/publications/2012/parkhi12a/parkhi12a.pdf). There are 37 classes contained in this dataset: 12 cat breeds and 25 dog breeds. There are roughly 200 example images of each category, for a total of 7349 images."
      ]
    },
    {
      "cell_type": "markdown",
      "metadata": {
        "id": "LzVh7UOKZt7p",
        "colab_type": "text"
      },
      "source": [
        "First, untar the data. `.tar` files are a common compression format for images, similar to zip files, but they are much smaller for portability."
      ]
    },
    {
      "cell_type": "code",
      "metadata": {
        "id": "vPpTvRuxYvXH",
        "colab_type": "code",
        "colab": {}
      },
      "source": [
        "path = untar_data(URLs.PETS); path"
      ],
      "execution_count": 0,
      "outputs": []
    },
    {
      "cell_type": "code",
      "metadata": {
        "id": "4fypk5GcaJZH",
        "colab_type": "code",
        "colab": {}
      },
      "source": [
        "path.ls()"
      ],
      "execution_count": 0,
      "outputs": []
    },
    {
      "cell_type": "markdown",
      "metadata": {
        "id": "zdp-17gSaqNB",
        "colab_type": "text"
      },
      "source": [
        "We can then set the paths for both images and annotations, or labels."
      ]
    },
    {
      "cell_type": "code",
      "metadata": {
        "id": "RDypJlfBa8Jl",
        "colab_type": "code",
        "colab": {}
      },
      "source": [
        "path_anno = path/'annotations'\n",
        "path_img = path/'images'"
      ],
      "execution_count": 0,
      "outputs": []
    },
    {
      "cell_type": "markdown",
      "metadata": {
        "id": "UYYVHVQOa9qf",
        "colab_type": "text"
      },
      "source": [
        "We will need to extract the image labels from their filenames, so a regex is needed to complete this process.  Fastai has a method called `ImageDataBunch.from_name_re` which will sort your data and labels as they exist. "
      ]
    },
    {
      "cell_type": "code",
      "metadata": {
        "id": "g1CD86ZSaBPa",
        "colab_type": "code",
        "colab": {}
      },
      "source": [
        "fnames = get_image_files(path_img)\n",
        "fnames[:5]"
      ],
      "execution_count": 0,
      "outputs": []
    },
    {
      "cell_type": "markdown",
      "metadata": {
        "id": "sv6G6E48bgIk",
        "colab_type": "text"
      },
      "source": [
        "We create the regex pattern for the data bunch object to extract, and set a random seed for demonstration purposes."
      ]
    },
    {
      "cell_type": "code",
      "metadata": {
        "id": "r1oeuVMBbu3Q",
        "colab_type": "code",
        "colab": {}
      },
      "source": [
        "np.random.seed(2)\n",
        "pat = r'/([^/]+)_\\d+.jpg$'"
      ],
      "execution_count": 0,
      "outputs": []
    },
    {
      "cell_type": "markdown",
      "metadata": {
        "id": "CqARtWePbxTY",
        "colab_type": "text"
      },
      "source": [
        "Now, let's create the data bunch with the paths, filenames, and regex to extract labels from the filenames, transforms which will provide default transformations for the images (cropping, resizing, padding, and other augmentations). Size limits are 224 pixels, so that we don't have different sized images, and their size doesn't impact performance. The batch size is already set, and normalizing the images actually standardizes the image pixel values."
      ]
    },
    {
      "cell_type": "code",
      "metadata": {
        "id": "LFO54l7ZbwMq",
        "colab_type": "code",
        "colab": {}
      },
      "source": [
        "data = ImageDataBunch.from_name_re(path_img, fnames, pat,\n",
        "                                   ds_tfms=get_transforms(), size=224, bs=bs\n",
        "                                  ).normalize(imagenet_stats)"
      ],
      "execution_count": 0,
      "outputs": []
    },
    {
      "cell_type": "markdown",
      "metadata": {
        "id": "wIBTrZjvdct6",
        "colab_type": "text"
      },
      "source": [
        "We show a random selection of images after they have been processed. This will often help as a sanity check, and also to find any images that do not belong, or are otherwise unusable for the task."
      ]
    },
    {
      "cell_type": "code",
      "metadata": {
        "id": "KnnDqeS8djxG",
        "colab_type": "code",
        "colab": {}
      },
      "source": [
        "data.show_batch(rows=3, figsize=(7, 6))"
      ],
      "execution_count": 0,
      "outputs": []
    },
    {
      "cell_type": "code",
      "metadata": {
        "id": "CiuK9srkd92B",
        "colab_type": "code",
        "colab": {}
      },
      "source": [
        "display(sorted(data.classes, key=lambda s: s.lower()))\n",
        "len(data.classes),data.c"
      ],
      "execution_count": 0,
      "outputs": []
    },
    {
      "cell_type": "markdown",
      "metadata": {
        "id": "DpGz4CfPfO1F",
        "colab_type": "text"
      },
      "source": [
        "### Train CNN using ResNet-34\n",
        "\n",
        "We instantiate `cnn_learner` to create a CNN model using our images object `data`, and the residual neural network (ResNet) architecture. In this case, ResNet-34 is a 34 layer neural network architecture for training CNNs. You can read deeper into residual neural networks and ResNet [here](https://arxiv.org/abs/1512.03385).  ResNet has been proven to work extremely well for most image classification tasks. There is also ResNet-50, if ResNet-34 doesn't work well, but it takes longer to train.\n",
        "\n",
        "The model automatically creates training, validation, and test sets automatically by default, so overfitting shouldn't be a problem. You can tune all of these parameters if you need to, but the defaults should provide a good benchmark.\n",
        "\n",
        "We will download the ResNet-34 prebuilt model. This model was trained on the ImageNet dataset of approximately 1.5 million images across a multitude of classes. This model is essentially a set of weights, stored in matrices that we will use to perform transfer learning."
      ]
    },
    {
      "cell_type": "code",
      "metadata": {
        "id": "kWLGLnNYeAOx",
        "colab_type": "code",
        "colab": {}
      },
      "source": [
        "learn = cnn_learner(data, models.resnet34, metrics=error_rate)"
      ],
      "execution_count": 0,
      "outputs": []
    },
    {
      "cell_type": "markdown",
      "metadata": {
        "id": "jCTMXU3oiBBS",
        "colab_type": "text"
      },
      "source": [
        "View the model architecture of the RNN using `.model`."
      ]
    },
    {
      "cell_type": "code",
      "metadata": {
        "id": "O6hmEj9DiE1x",
        "colab_type": "code",
        "colab": {}
      },
      "source": [
        "learn.model"
      ],
      "execution_count": 0,
      "outputs": []
    },
    {
      "cell_type": "markdown",
      "metadata": {
        "id": "108pqwc3j1gF",
        "colab_type": "text"
      },
      "source": [
        "Now that we have a `learn` object we can train it in one cycle, over 4 epochs.\n",
        "\n",
        "*Note: This may take a few minutes to run.*"
      ]
    },
    {
      "cell_type": "code",
      "metadata": {
        "id": "3lmS2lKmh84v",
        "colab_type": "code",
        "colab": {}
      },
      "source": [
        "learn.fit_one_cycle(4)"
      ],
      "execution_count": 0,
      "outputs": []
    },
    {
      "cell_type": "markdown",
      "metadata": {
        "id": "Ea7Omi6SkDIf",
        "colab_type": "text"
      },
      "source": [
        "Our model beat the model from the research paper associated with this dataset. Our error rate of 7%, or overall accuracy of 93% across all 37 classes of dogs and cats beat the researchers' reported accuracy of 59%."
      ]
    },
    {
      "cell_type": "code",
      "metadata": {
        "id": "Mi1Q4j0wkBx-",
        "colab_type": "code",
        "colab": {}
      },
      "source": [
        "# Save model locally as a pickled file.\n",
        "learn.save('stage-1')"
      ],
      "execution_count": 0,
      "outputs": []
    },
    {
      "cell_type": "markdown",
      "metadata": {
        "id": "nfBNnnCGmqQt",
        "colab_type": "text"
      },
      "source": [
        "### Interpreting the Results\n",
        "\n",
        "We can use fastai to interpret where the model that we trained is failing."
      ]
    },
    {
      "cell_type": "code",
      "metadata": {
        "id": "xN0C9SgSmwx8",
        "colab_type": "code",
        "colab": {}
      },
      "source": [
        "interp = ClassificationInterpretation.from_learner(learn)\n",
        "losses,idxs = interp.top_losses()\n",
        "len(data.valid_ds)==len(losses)==len(idxs)"
      ],
      "execution_count": 0,
      "outputs": []
    },
    {
      "cell_type": "markdown",
      "metadata": {
        "id": "ZiPneCamnfyA",
        "colab_type": "text"
      },
      "source": [
        "The plot below shows the most confused classes, as well as a heatmap of the most interesting activation locations.  The loss is equivalent to the level of confidence associated with each wrong prediction."
      ]
    },
    {
      "cell_type": "code",
      "metadata": {
        "id": "Amtp5DjLmzYH",
        "colab_type": "code",
        "colab": {}
      },
      "source": [
        "interp.plot_top_losses(9, figsize=(15, 11))"
      ],
      "execution_count": 0,
      "outputs": []
    },
    {
      "cell_type": "markdown",
      "metadata": {
        "id": "-2KKzTRyoRzu",
        "colab_type": "text"
      },
      "source": [
        "We can also plot a confusion matrix."
      ]
    },
    {
      "cell_type": "code",
      "metadata": {
        "id": "NEeP0ze_dlxz",
        "colab_type": "code",
        "colab": {}
      },
      "source": [
        "interp.plot_confusion_matrix(figsize=(12, 12), dpi=60)"
      ],
      "execution_count": 0,
      "outputs": []
    },
    {
      "cell_type": "markdown",
      "metadata": {
        "id": "7cqhq6tDocZu",
        "colab_type": "text"
      },
      "source": [
        "Below, we used the `.most_confused` method to inspect the most confused classes, and their frequency of error."
      ]
    },
    {
      "cell_type": "code",
      "metadata": {
        "id": "m-folbXNoKSD",
        "colab_type": "code",
        "colab": {}
      },
      "source": [
        "interp.most_confused(min_val=2)"
      ],
      "execution_count": 0,
      "outputs": []
    },
    {
      "cell_type": "markdown",
      "metadata": {
        "id": "3RCXFfwxqt_y",
        "colab_type": "text"
      },
      "source": [
        "### Iterating on the saved model\n",
        "\n",
        "- Unfreezing\n",
        "- Fine-tuning\n",
        "- Learning rates"
      ]
    },
    {
      "cell_type": "markdown",
      "metadata": {
        "id": "yQrpgr24rInt",
        "colab_type": "text"
      },
      "source": [
        "Training our model with only 4 epochs ensured that our training time would be extremely fast. fastai allowed us to use transfer learning by adding some extra layers to the ResNet-34 model and trained only those extra layers.\n",
        "\n",
        "By unfreezing the `learn` object, we can go back and retrain the whole model"
      ]
    },
    {
      "cell_type": "code",
      "metadata": {
        "id": "N5ezDs6xcHNl",
        "colab_type": "code",
        "colab": {}
      },
      "source": [
        "learn.unfreeze()"
      ],
      "execution_count": 0,
      "outputs": []
    },
    {
      "cell_type": "markdown",
      "metadata": {
        "id": "KAg7DLNBssj6",
        "colab_type": "text"
      },
      "source": [
        "After the model is unfrozen, we can train it again using `fit_one_cycle` for 1 epoch."
      ]
    },
    {
      "cell_type": "code",
      "metadata": {
        "id": "R1kttffAtNMA",
        "colab_type": "code",
        "colab": {}
      },
      "source": [
        "learn.fit_one_cycle(1)"
      ],
      "execution_count": 0,
      "outputs": []
    },
    {
      "cell_type": "markdown",
      "metadata": {
        "id": "S5dhz7NptUrN",
        "colab_type": "text"
      },
      "source": [
        "Wait, so our loss is higher now! What happened?\n",
        "\n",
        "Our attempt at fine-tuning the model didn't work because it tried to train all the layers at the same speed. This is called the *learning rate*, and we can use fastai to tune this parameter as well."
      ]
    },
    {
      "cell_type": "code",
      "metadata": {
        "id": "WLJGwpA1t5VA",
        "colab_type": "code",
        "colab": {}
      },
      "source": [
        "learn.load('stage-1')"
      ],
      "execution_count": 0,
      "outputs": []
    },
    {
      "cell_type": "markdown",
      "metadata": {
        "id": "BUjH9Te7t-z6",
        "colab_type": "text"
      },
      "source": [
        "Now that the model is loaded, we can call `lr_find()` to plot the learning rate vs. loss, and search for the optimal learning rate (the fastest you can train the model without vanishing gradients). If you are interested, you can read more about the Vanishing Gradient Problem [here](https://towardsdatascience.com/the-vanishing-gradient-problem-69bf08b15484)."
      ]
    },
    {
      "cell_type": "code",
      "metadata": {
        "id": "3OQeS479uGoh",
        "colab_type": "code",
        "colab": {}
      },
      "source": [
        "learn.lr_find()"
      ],
      "execution_count": 0,
      "outputs": []
    },
    {
      "cell_type": "code",
      "metadata": {
        "id": "fralnFLJa37E",
        "colab_type": "code",
        "colab": {}
      },
      "source": [
        "learn.recorder.plot()"
      ],
      "execution_count": 0,
      "outputs": []
    },
    {
      "cell_type": "markdown",
      "metadata": {
        "id": "CBfsqR9-uSJm",
        "colab_type": "text"
      },
      "source": [
        "Now, looking at this plot we can see the learning rate explodes at around `1e-02`. We want to look for the learning rate where the loss is decreasing the fastest, or the point before it starts getting worse. A learning rate of `1e-04` meets both these criteria.\n",
        "\n",
        "Note that we don't need to train all the layers at this rate. Because we know that the later layers of our model train fast, we can apply a range of learning rates to our `learn` object."
      ]
    },
    {
      "cell_type": "code",
      "metadata": {
        "id": "IfgvS1UjweYr",
        "colab_type": "code",
        "colab": {}
      },
      "source": [
        "learn.unfreeze()\n",
        "learn.fit_one_cycle(2, max_lr=slice(1e-4, 1e-3))"
      ],
      "execution_count": 0,
      "outputs": []
    },
    {
      "cell_type": "markdown",
      "metadata": {
        "id": "fYLyX4-SwlO_",
        "colab_type": "text"
      },
      "source": [
        "As a rule of thumb, we should pick a range that is at least 10 times smaller than the minimum learning rate observed from the plot. We are using a Python `slice` to define the range from `1e-4` to `1e-03`."
      ]
    },
    {
      "cell_type": "markdown",
      "metadata": {
        "id": "UrAHW8rtx0OJ",
        "colab_type": "text"
      },
      "source": [
        "### Implement ResNet-50\n",
        "\n",
        "By using a model that was trained on an architecture with 50 layers, we can train our model with a deeper network, and we might be able to obtain better results using this pretrained model in place of of ResNet-34."
      ]
    },
    {
      "cell_type": "code",
      "metadata": {
        "id": "xM2a62uax4Tg",
        "colab_type": "code",
        "colab": {}
      },
      "source": [
        "data = ImageDataBunch.from_name_re(path_img, fnames, pat,\n",
        "                                   ds_tfms=get_transforms(), size=299, bs=bs//2\n",
        "                                   ).normalize(imagenet_stats)"
      ],
      "execution_count": 0,
      "outputs": []
    },
    {
      "cell_type": "code",
      "metadata": {
        "id": "pvFcHaiDyQXX",
        "colab_type": "code",
        "colab": {}
      },
      "source": [
        "learn = cnn_learner(data, models.resnet50, metrics=error_rate)"
      ],
      "execution_count": 0,
      "outputs": []
    },
    {
      "cell_type": "code",
      "metadata": {
        "id": "ADBkusTOyRnW",
        "colab_type": "code",
        "colab": {}
      },
      "source": [
        "learn.lr_find()\n",
        "learn.recorder.plot()"
      ],
      "execution_count": 0,
      "outputs": []
    },
    {
      "cell_type": "code",
      "metadata": {
        "id": "0-g_smCvyTDG",
        "colab_type": "code",
        "colab": {}
      },
      "source": [
        "learn.fit_one_cycle(8)"
      ],
      "execution_count": 0,
      "outputs": []
    },
    {
      "cell_type": "code",
      "metadata": {
        "id": "hO8uKqM2yY7R",
        "colab_type": "code",
        "colab": {}
      },
      "source": [
        "learn.save('stage-1-50')"
      ],
      "execution_count": 0,
      "outputs": []
    },
    {
      "cell_type": "markdown",
      "metadata": {
        "colab_type": "text",
        "id": "HFJNJ-_RGnBo"
      },
      "source": [
        "Try and fine-tune ResNet-50 model using unfreeze, and setting the range of learning rates as before."
      ]
    },
    {
      "cell_type": "code",
      "metadata": {
        "id": "4nMkayqdyqL6",
        "colab_type": "code",
        "colab": {}
      },
      "source": [
        "learn.unfreeze()\n",
        "learn.fit_one_cycle(3, max_lr=slice(1e-3, 1e-1))"
      ],
      "execution_count": 0,
      "outputs": []
    },
    {
      "cell_type": "markdown",
      "metadata": {
        "id": "Q1bKTBfRzGeI",
        "colab_type": "text"
      },
      "source": [
        "If fine-tuning doesn't work, you can load your previous model, and look at the classification interpretation."
      ]
    },
    {
      "cell_type": "code",
      "metadata": {
        "id": "e2h48T8hyaon",
        "colab_type": "code",
        "colab": {}
      },
      "source": [
        "learn.load('stage-1-50');"
      ],
      "execution_count": 0,
      "outputs": []
    },
    {
      "cell_type": "code",
      "metadata": {
        "id": "7UzBlpbwxznQ",
        "colab_type": "code",
        "colab": {}
      },
      "source": [
        "interp = ClassificationInterpretation.from_learner(learn)"
      ],
      "execution_count": 0,
      "outputs": []
    },
    {
      "cell_type": "code",
      "metadata": {
        "id": "QVYxzW6Swgvv",
        "colab_type": "code",
        "colab": {}
      },
      "source": [
        "interp.most_confused(min_val=2)"
      ],
      "execution_count": 0,
      "outputs": []
    },
    {
      "cell_type": "markdown",
      "metadata": {
        "colab_type": "text",
        "id": "5WFLU7hWbO8_"
      },
      "source": [
        "# Resources\n",
        "\n",
        "* [fast.ai Lesson 1](https://course.fast.ai/videos/?lesson=1)\n",
        "* [fast.ai](https://www.fast.ai/)\n",
        "* [fast.ai Documentation](https://docs.fast.ai/)\n",
        "* [ModelZoo](https://modelzoo.co/)"
      ]
    },
    {
      "cell_type": "markdown",
      "metadata": {
        "colab_type": "text",
        "id": "Swt2fxm-fG_B"
      },
      "source": [
        "# Exercises"
      ]
    },
    {
      "cell_type": "markdown",
      "metadata": {
        "colab_type": "text",
        "id": "iWq38ASlb2aY"
      },
      "source": [
        "## Exercise 1"
      ]
    },
    {
      "cell_type": "markdown",
      "metadata": {
        "colab_type": "text",
        "id": "iWq38ASlb2aX"
      },
      "source": [
        "Complete [fastai lesson 2](https://course.fast.ai/videos/?lesson=2)."
      ]
    },
    {
      "cell_type": "markdown",
      "metadata": {
        "colab_type": "text",
        "id": "CYZEXNK1VDIJ"
      },
      "source": [
        "### Student Solution"
      ]
    },
    {
      "cell_type": "code",
      "metadata": {
        "colab_type": "code",
        "id": "TI_WxOyjcfNu",
        "colab": {}
      },
      "source": [
        "# Your answer goes here"
      ],
      "execution_count": 0,
      "outputs": []
    },
    {
      "cell_type": "markdown",
      "metadata": {
        "colab_type": "text",
        "id": "exercise-1-key-1"
      },
      "source": [
        "### Answer Key"
      ]
    },
    {
      "cell_type": "markdown",
      "metadata": {
        "colab_type": "text",
        "id": "exercise-1-solution-1"
      },
      "source": [
        "**Solution**"
      ]
    },
    {
      "cell_type": "code",
      "metadata": {
        "colab_type": "code",
        "id": "AKb-7oqrcfox",
        "colab": {}
      },
      "source": [
        "# Put the recommended solution here; if there is more than one \"good\" solution\n",
        "# that you think students should know put those solutions in subsequent code\n",
        "# boxes with \"# Solution\" in the first line."
      ],
      "execution_count": 0,
      "outputs": []
    }
  ]
}