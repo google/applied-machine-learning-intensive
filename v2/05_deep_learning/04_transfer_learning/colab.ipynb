{
  "nbformat": 4,
  "nbformat_minor": 0,
  "metadata": {
    "colab": {
      "name": "Transfer Learning",
      "provenance": [],
      "private_outputs": true,
      "collapsed_sections": [
        "copyright",
        "tmD8WSZDhAeR"
      ],
      "toc_visible": true,
      "include_colab_link": true
    },
    "kernelspec": {
      "name": "python3",
      "display_name": "Python 3"
    },
    "accelerator": "GPU"
  },
  "cells": [
    {
      "cell_type": "markdown",
      "metadata": {
        "id": "view-in-github",
        "colab_type": "text"
      },
      "source": [
        "<a href=\"https://colab.research.google.com/github/google/applied-machine-learning-intensive/blob/master/v2/05_deep_learning/04_transfer_learning/colab.ipynb\" target=\"_parent\"><img src=\"https://colab.research.google.com/assets/colab-badge.svg\" alt=\"Open In Colab\"/></a>"
      ]
    },
    {
      "cell_type": "markdown",
      "metadata": {
        "colab_type": "text",
        "id": "copyright"
      },
      "source": [
        "#### Copyright 2020 Google LLC."
      ]
    },
    {
      "cell_type": "code",
      "metadata": {
        "colab_type": "code",
        "id": "7PLP9Q30PKtv",
        "colab": {}
      },
      "source": [
        "# Licensed under the Apache License, Version 2.0 (the \"License\");\n",
        "# you may not use this file except in compliance with the License.\n",
        "# You may obtain a copy of the License at\n",
        "#\n",
        "# https://www.apache.org/licenses/LICENSE-2.0\n",
        "#\n",
        "# Unless required by applicable law or agreed to in writing, software\n",
        "# distributed under the License is distributed on an \"AS IS\" BASIS,\n",
        "# WITHOUT WARRANTIES OR CONDITIONS OF ANY KIND, either express or implied.\n",
        "# See the License for the specific language governing permissions and\n",
        "# limitations under the License."
      ],
      "execution_count": 0,
      "outputs": []
    },
    {
      "cell_type": "markdown",
      "metadata": {
        "colab_type": "text",
        "id": "f5W9rkuBmBu9"
      },
      "source": [
        "# Transfer Learning"
      ]
    },
    {
      "cell_type": "markdown",
      "metadata": {
        "id": "IXaViQKr8_LK",
        "colab_type": "text"
      },
      "source": [
        "In the field of deep learning, **transfer learning** is defined as the conveyance of knowledge from one pretrained model to a new model. This simply means that transfer learning uses a pretrained model to train a new model. Typically the new model will have a more specific application than the pre-trained model.\n",
        "\n",
        "*Note that this lab is largely based on [an excellent transfer learning lab](https://www.tensorflow.org/tutorials/images/transfer_learning) from TensorFlow.*"
      ]
    },
    {
      "cell_type": "markdown",
      "metadata": {
        "id": "5UWnlfCWDG1a",
        "colab_type": "text"
      },
      "source": [
        "## Exploratory Data Analysis"
      ]
    },
    {
      "cell_type": "markdown",
      "metadata": {
        "id": "zXfX-YoQDLYM",
        "colab_type": "text"
      },
      "source": [
        "The [`tensorflow_datasets`](https://www.tensorflow.org/datasets/api_docs/python/tfds) package has a [catalog of datasets](https://www.tensorflow.org/datasets/catalog/overview) that are easy to load into your TensorFlow environment for experimentation.\n",
        "\n",
        "In this lab we'll work with the [`cats_vs_dogs`](https://www.tensorflow.org/datasets/catalog/cats_vs_dogs) dataset. This dataset contains thousands of images of cats and dogs. Looking at the [documentation for the dataset](https://www.tensorflow.org/datasets/catalog/cats_vs_dogs), we can see there are `23,262` examples in the 'train' split of data. There are no test and validation splits.\n",
        "\n",
        "We could just load this one split directly and then split the data once we download it. Another option is to tell `tfds.load()` to split the data for us. To do that we must specify the splits.\n",
        "\n",
        "There is a specific notation we can use that tells the function how much of the data we want in each split. For instance `'train[:80%]'` indicates that we want the first `80%` of the train split in one tranche. `'train[80%:90%]'` indicates that we want the next 10% of the data in another tranche, and so on. You can see this at work in our `split` example below."
      ]
    },
    {
      "cell_type": "code",
      "metadata": {
        "id": "EIQRzs7_1U-R",
        "colab_type": "code",
        "colab": {}
      },
      "source": [
        "import tensorflow_datasets as tfds\n",
        "\n",
        "(raw_train, raw_validation, raw_test), metadata = tfds.load(\n",
        "    'cats_vs_dogs',\n",
        "    split=['train[:80%]', 'train[80%:90%]', 'train[90%:]'],\n",
        "    with_info=True,\n",
        "    as_supervised=True,\n",
        ")"
      ],
      "execution_count": 0,
      "outputs": []
    },
    {
      "cell_type": "markdown",
      "metadata": {
        "id": "lPSYyMbMOptP",
        "colab_type": "text"
      },
      "source": [
        "The metadata returned from our dataset contains useful information about the data. For instance, it includes the number of classes:"
      ]
    },
    {
      "cell_type": "code",
      "metadata": {
        "id": "c_BUimcNOufF",
        "colab_type": "code",
        "colab": {}
      },
      "source": [
        "metadata.features['label'].num_classes"
      ],
      "execution_count": 0,
      "outputs": []
    },
    {
      "cell_type": "markdown",
      "metadata": {
        "id": "ItdkkKmxPB56",
        "colab_type": "text"
      },
      "source": [
        "And the class names:"
      ]
    },
    {
      "cell_type": "code",
      "metadata": {
        "id": "ci7G9seIPDSR",
        "colab_type": "code",
        "colab": {}
      },
      "source": [
        "metadata.features['label'].names"
      ],
      "execution_count": 0,
      "outputs": []
    },
    {
      "cell_type": "markdown",
      "metadata": {
        "id": "t1OMxk5WPJr7",
        "colab_type": "text"
      },
      "source": [
        "It even comes with some handy functions for converting between class names and numbers:"
      ]
    },
    {
      "cell_type": "code",
      "metadata": {
        "id": "p6mOsZr1PRMA",
        "colab_type": "code",
        "colab": {}
      },
      "source": [
        "print(metadata.features['label'].int2str(1))\n",
        "print(metadata.features['label'].str2int('cat'))"
      ],
      "execution_count": 0,
      "outputs": []
    },
    {
      "cell_type": "markdown",
      "metadata": {
        "id": "JuYfsy0APlxa",
        "colab_type": "text"
      },
      "source": [
        "Let's store the `int2str` into a more conveniently named function for later use."
      ]
    },
    {
      "cell_type": "code",
      "metadata": {
        "id": "us7d6Xy6PsVp",
        "colab_type": "code",
        "colab": {}
      },
      "source": [
        "get_class_name = metadata.features['label'].int2str\n",
        "get_class_name(0), get_class_name(1)"
      ],
      "execution_count": 0,
      "outputs": []
    },
    {
      "cell_type": "markdown",
      "metadata": {
        "id": "xAiYymNUIFNn",
        "colab_type": "text"
      },
      "source": [
        "Let's take a quick look at our dataset. First we'll peek at the shape of the data."
      ]
    },
    {
      "cell_type": "code",
      "metadata": {
        "id": "jw5r5BI61kky",
        "colab_type": "code",
        "colab": {}
      },
      "source": [
        "raw_train"
      ],
      "execution_count": 0,
      "outputs": []
    },
    {
      "cell_type": "markdown",
      "metadata": {
        "id": "CCeBgxY-ISAu",
        "colab_type": "text"
      },
      "source": [
        "`(None, None, 3)` lets us know that we have three channel images, but we aren't sure of the lengths and widths. They are likely different depending on the image. We also don't know how many images we have.\n",
        "\n",
        "Let's do some deeper analysis.\n",
        "\n",
        "It turns out that you can iterate over a `DatasetV1Adapter` with a standard `for` loop. The items returned at each iteration are the image and the label.\n",
        "\n",
        "We'll create a helper function to analyze a split of our data."
      ]
    },
    {
      "cell_type": "code",
      "metadata": {
        "id": "ZjXEqFe2FRyj",
        "colab_type": "code",
        "colab": {}
      },
      "source": [
        "import collections\n",
        "\n",
        "\n",
        "def split_details(split):\n",
        "  counts = collections.defaultdict(int)\n",
        "  for image, label in split:\n",
        "    counts[label.numpy()]+=1\n",
        "\n",
        "  total = 0\n",
        "  for cls, cnt in counts.items():\n",
        "    print(f\"Class {get_class_name(cls)}: {cnt}\")\n",
        "    total += cnt\n",
        "  \n",
        "  print(f\"Total: {total}\")\n",
        "\n",
        "for s in (\n",
        "    (\"Train\", raw_train),\n",
        "    (\"Validation\", raw_validation),\n",
        "    (\"Test\", raw_test)):\n",
        "  print(s[0])\n",
        "  split_details(s[1])\n",
        "  print()"
      ],
      "execution_count": 0,
      "outputs": []
    },
    {
      "cell_type": "markdown",
      "metadata": {
        "id": "8PXX0P1pKZcq",
        "colab_type": "text"
      },
      "source": [
        "We'll train on `18,610` examples, validating on `2,326`, and performing our final testing on `2,326`. Our classes look pretty evenly spread across all of the splits. The classes also seem to have a similar number of total examples.\n",
        "\n",
        "Let's now see what our images look like. We'll display one dog and one cat."
      ]
    },
    {
      "cell_type": "code",
      "metadata": {
        "id": "ZptUQCfFFPc6",
        "colab_type": "code",
        "colab": {}
      },
      "source": [
        "import matplotlib.pyplot as plt\n",
        "\n",
        "\n",
        "for cls in (0, 1):\n",
        "  for image, label in raw_train:\n",
        "    if label == cls:\n",
        "      plt.figure()\n",
        "      plt.imshow(image)\n",
        "      break"
      ],
      "execution_count": 0,
      "outputs": []
    },
    {
      "cell_type": "markdown",
      "metadata": {
        "id": "4S9_nR8tL7eh",
        "colab_type": "text"
      },
      "source": [
        "These are color images with noisy backgrounds. Also, the images aren't the same size, so we'll need to eventually resize them to feed our model.\n",
        "\n",
        "Let's find the range of color values and image sizes."
      ]
    },
    {
      "cell_type": "code",
      "metadata": {
        "id": "TZ8jaTmwQqxD",
        "colab_type": "code",
        "colab": {}
      },
      "source": [
        "import sys \n",
        "\n",
        "global_min = sys.maxsize \n",
        "global_max = -sys.maxsize-1\n",
        "sizes = collections.defaultdict(int)\n",
        "\n",
        "for split in (raw_train, raw_validation, raw_test):\n",
        "  for image, _ in split:\n",
        "    local_max = image.numpy().max()\n",
        "    local_min = image.numpy().min()\n",
        "    sizes[image.numpy().shape] += 1\n",
        "\n",
        "    if local_max > global_max:\n",
        "      global_max = local_max\n",
        "    \n",
        "    if local_min < global_min:\n",
        "      global_min = local_min\n",
        "\n",
        "print(f\"Color values range from {global_min} to {global_max}\")\n",
        "resolutions = [x[0] for x in sorted(sizes.items(), key=lambda r: r[0])]\n",
        "print(f\"There are {len(resolutions)} resolutions ranging from \",\n",
        "      f\"{resolutions[0]} to {resolutions[-1]}\")\n"
      ],
      "execution_count": 0,
      "outputs": []
    },
    {
      "cell_type": "markdown",
      "metadata": {
        "id": "8120tpjjR9kg",
        "colab_type": "text"
      },
      "source": [
        "It looks like we are dealing with color values from `0` through `255`, which is pretty standard.\n",
        "\n",
        "We have a huge number of different resolutions. There are over `6,000` different image sizes in this dataset, some as small as `4x4x3`! It is difficult to imagine that an image that small would be meaningful. Let's see how many tiny images we are dealing with.\n"
      ]
    },
    {
      "cell_type": "code",
      "metadata": {
        "id": "sZNs0y4QVbfV",
        "colab_type": "code",
        "colab": {}
      },
      "source": [
        "for resolution in sorted(sizes.items(), key=lambda r: r[0])[:10]:\n",
        "  print(resolution[0], ': ', resolution[1])"
      ],
      "execution_count": 0,
      "outputs": []
    },
    {
      "cell_type": "markdown",
      "metadata": {
        "id": "6PB-kkRdV-qp",
        "colab_type": "text"
      },
      "source": [
        "There is only one truly tiny image. Let's take a look at it."
      ]
    },
    {
      "cell_type": "code",
      "metadata": {
        "id": "eyE0awq0WK7f",
        "colab_type": "code",
        "colab": {}
      },
      "source": [
        "shown = False\n",
        "for split in (raw_train, raw_validation, raw_test):\n",
        "  if shown:\n",
        "    break\n",
        "  for image, _ in split:\n",
        "    if image.numpy().shape == (4, 4, 3):\n",
        "      plt.figure()\n",
        "      plt.imshow(image)\n",
        "      shown = True\n",
        "      break"
      ],
      "execution_count": 0,
      "outputs": []
    },
    {
      "cell_type": "markdown",
      "metadata": {
        "id": "_RnfdYnGWpf6",
        "colab_type": "text"
      },
      "source": [
        "That's definitely bad data. Let's go ahead and sample some of the other small images."
      ]
    },
    {
      "cell_type": "code",
      "metadata": {
        "id": "vIiBJoILWgZp",
        "colab_type": "code",
        "colab": {}
      },
      "source": [
        "for split in (raw_train, raw_validation, raw_test):\n",
        "  for image, _ in split:\n",
        "    if image.numpy().shape[0] < 50 and image.numpy().shape[0] > 4:\n",
        "      plt.figure()\n",
        "      plt.imshow(image)      "
      ],
      "execution_count": 0,
      "outputs": []
    },
    {
      "cell_type": "markdown",
      "metadata": {
        "id": "t5FKNGraW9a-",
        "colab_type": "text"
      },
      "source": [
        "Though some are difficult to interpret, you can probably tell that each image contains either cats or dogs."
      ]
    },
    {
      "cell_type": "markdown",
      "metadata": {
        "id": "RT1sgXpiopxy",
        "colab_type": "text"
      },
      "source": [
        "In order to not process the tiny image, we can write a filter function. We know the shape is `(4, 4, 3)`, so we can filter for that exact shape. To make the filter a little more generic, we'll instead filter out any image that is shorter or narrower than `6` pixels."
      ]
    },
    {
      "cell_type": "code",
      "metadata": {
        "id": "GQDouruunYk7",
        "colab_type": "code",
        "colab": {}
      },
      "source": [
        "import tensorflow as tf\n",
        "\n",
        "def filter_out_small(image, _):\n",
        "  return tf.math.reduce_any(tf.shape(image)[0] > 5 and tf.shape(image)[1] > 5)\n",
        "\n",
        "for s in (\n",
        "    (\"Train\", raw_train.filter(filter_out_small)),\n",
        "    (\"Validation\", raw_validation.filter(filter_out_small)),\n",
        "    (\"Test\", raw_test.filter(filter_out_small))):\n",
        "  print(s[0])\n",
        "  split_details(s[1])\n",
        "  print()"
      ],
      "execution_count": 0,
      "outputs": []
    },
    {
      "cell_type": "markdown",
      "metadata": {
        "id": "jAOR8oQ7yIMO",
        "colab_type": "text"
      },
      "source": [
        "It looks like our problematic image was a cat in the holdout test set."
      ]
    },
    {
      "cell_type": "markdown",
      "metadata": {
        "id": "6vLVLZdySHj4",
        "colab_type": "text"
      },
      "source": [
        "## The Pretrained Model"
      ]
    },
    {
      "cell_type": "markdown",
      "metadata": {
        "id": "rYBHZvDZSNLx",
        "colab_type": "text"
      },
      "source": [
        "To build our cat/dog classifier, we'll use the learnings of a pre-trained model. Specifically [`MobileNetV2`](https://arxiv.org/abs/1801.04381). We'll use [`tf.keras.applications.MobileNetV2`](https://www.tensorflow.org/api_docs/python/tf/keras/applications/MobileNetV2) to load the data."
      ]
    },
    {
      "cell_type": "markdown",
      "metadata": {
        "id": "fF0-RdJUqptF",
        "colab_type": "text"
      },
      "source": [
        "### Model-Specific Preprocessing"
      ]
    },
    {
      "cell_type": "markdown",
      "metadata": {
        "id": "mYJM80kQqnX7",
        "colab_type": "text"
      },
      "source": [
        "[Researching `MobileNetV2`](https://arxiv.org/pdf/1801.04381.pdf), you'll find that the neural network by default takes an input of image of size `(224, 224, 3)`. Though the model can be configured to take other inputs, all of our images are different sizes. So we might as well resize them to fit the default."
      ]
    },
    {
      "cell_type": "code",
      "metadata": {
        "id": "EraGNJ-a4ER_",
        "colab_type": "code",
        "colab": {}
      },
      "source": [
        "IMG_SIZE = 224 \n",
        "\n",
        "def resize_images(image, label):\n",
        "  image = tf.image.resize(image, (IMG_SIZE, IMG_SIZE))\n",
        "  return image, label\n",
        "\n",
        "train_resized = raw_train.map(resize_images)\n",
        "validation_resized = raw_validation.map(resize_images)\n",
        "test_resized = raw_test.map(resize_images)"
      ],
      "execution_count": 0,
      "outputs": []
    },
    {
      "cell_type": "markdown",
      "metadata": {
        "id": "izrQTKugq-F6",
        "colab_type": "text"
      },
      "source": [
        "We also need to normalize our data, but what should our input values be scaled to? Ideally our input data should look like the input data that the `MobileNetV2` was trained on. Unfortunately, this isn't published.\n",
        "\n",
        "`MobileNetV2` [internally](https://github.com/tensorflow/models/blob/master/research/slim/nets/mobilenet/mobilenet_v2.py) uses [`relu6`](https://www.tensorflow.org/api_docs/python/tf/nn/relu6), which limits activation outputs to the range of `0` through `6`. This hints that we might want to normalize our values between `[0, 1]` or even `[0, 6]`.\n",
        "\n",
        "It also performs **batch normalization** throughout the network. This is the process of dividing input values by the mean and subtracting the standard deviation of each batch of data processed. So \"batch normalization\" is really \"batch standardization\".\n",
        "\n",
        "Standardizing our data by batch is possible. We could also calculate the mean and standard deviation of all of the data and standardize the entire dataset in one pass. Or we could *approximate* standardization and simply divide our input data by `127.5` (the midpoint of our `[0, 255]` range) and then subtract `1` (a guessed standard deviation)."
      ]
    },
    {
      "cell_type": "code",
      "metadata": {
        "id": "fslYHkuJ4IPx",
        "colab_type": "code",
        "colab": {}
      },
      "source": [
        "def standardize_images(image, label):\n",
        "  image = tf.cast(image, tf.float32)\n",
        "  image = (image/127.5) - 1\n",
        "  image = tf.image.resize(image, (IMG_SIZE, IMG_SIZE))\n",
        "  return image, label\n",
        "\n",
        "train_standardized = train_resized.map(standardize_images)\n",
        "validation_standardized = validation_resized.map(standardize_images)\n",
        "test_standardized = test_resized.map(standardize_images)"
      ],
      "execution_count": 0,
      "outputs": []
    },
    {
      "cell_type": "markdown",
      "metadata": {
        "id": "CZcdAv-Pse18",
        "colab_type": "text"
      },
      "source": [
        "Did it work? Let's check it out."
      ]
    },
    {
      "cell_type": "code",
      "metadata": {
        "id": "1LOehxAGsniN",
        "colab_type": "code",
        "colab": {}
      },
      "source": [
        "import sys \n",
        "\n",
        "global_min = sys.maxsize \n",
        "global_max = -sys.maxsize-1\n",
        "sizes = collections.defaultdict(int)\n",
        "\n",
        "for split in (train_standardized, validation_standardized, test_standardized):\n",
        "  for image, _ in split:\n",
        "    local_max = image.numpy().max()\n",
        "    local_min = image.numpy().min()\n",
        "    sizes[image.numpy().shape] += 1\n",
        "\n",
        "    if local_max > global_max:\n",
        "      global_max = local_max\n",
        "    \n",
        "    if local_min < global_min:\n",
        "      global_min = local_min\n",
        "\n",
        "print(f\"Color values range from {global_min} to {global_max}\")\n",
        "resolutions = [x[0] for x in sorted(sizes.items(), key=lambda r: r[0])]\n",
        "print(f\"There are {len(resolutions)} resolutions ranging from \",\n",
        "      f\"{resolutions[0]} to {resolutions[-1]}\")\n"
      ],
      "execution_count": 0,
      "outputs": []
    },
    {
      "cell_type": "markdown",
      "metadata": {
        "id": "mqwTjL4Js-SW",
        "colab_type": "text"
      },
      "source": [
        "Looks great! Now it is time to load our pretrained model."
      ]
    },
    {
      "cell_type": "markdown",
      "metadata": {
        "id": "g7DADZBitDv0",
        "colab_type": "text"
      },
      "source": [
        "### Loading MobileNetV2"
      ]
    },
    {
      "cell_type": "markdown",
      "metadata": {
        "id": "hh4pFkiatZG_",
        "colab_type": "text"
      },
      "source": [
        "Loading `MobileNetV2` is pretty straight-forward.\n",
        "\n",
        "We need to pass in the input shape, which is `(224, 224, 3)` for each image.\n",
        "\n",
        "We also include pre-trained weights based on [`ImageNet`](http://www.image-net.org/). This is where the transfer learning comes in. `ImageNet` has over a million images that map to a thousand labels. `MobileNetV2` has been trained on `ImageNet`. We'll use those learnings and then add a few more layers of our own model to build a cat/dog classifier.\n",
        "\n",
        "The final argument is `include_top`. Typically when building a classification model, toward the end of the model, high-dimensional layers are flattened down into two-dimensional tensors. This is considered the top of the model since diagrams often show the final layers at the top. For transfer learning we'll leave this dimensionality reduction off.\n",
        "\n",
        "If you do include the top of the model, the following extra layers will be shown:\n",
        "\n",
        "```text    \n",
        "__________________________________________________________________________________________________\n",
        "global_average_pooling2d_1 (Glo (None, 1280)         0           out_relu[0][0]                   \n",
        "__________________________________________________________________________________________________\n",
        "predictions (Dense)             (None, 1000)         1281000     global_average_pooling2d_1[0][0] \n",
        "```"
      ]
    },
    {
      "cell_type": "code",
      "metadata": {
        "id": "jezbRG_lsjNW",
        "colab_type": "code",
        "colab": {}
      },
      "source": [
        "IMG_SHAPE = (IMG_SIZE, IMG_SIZE, 3)\n",
        "\n",
        "mnv2 = tf.keras.applications.MobileNetV2(input_shape=IMG_SHAPE,\n",
        "                                         weights='imagenet',\n",
        "                                         include_top=False)\n",
        "\n",
        "mnv2.summary()"
      ],
      "execution_count": 0,
      "outputs": []
    },
    {
      "cell_type": "markdown",
      "metadata": {
        "id": "ogAS920-wMPn",
        "colab_type": "text"
      },
      "source": [
        "It is often a good idea to \"freeze\" the trained model. This prevents its weights from being updated when we train our new model.\n",
        "\n",
        "It is really only recommended to update the weights of the pretrained model when you are about to train on a large and similar dataset, as compared to the one that was originally trained on. This is not the case in our example. `ImageNet` has a thousand classes and over a million images. We have two classes and a few thousand images."
      ]
    },
    {
      "cell_type": "code",
      "metadata": {
        "id": "k4pxUcpFwD72",
        "colab_type": "code",
        "colab": {}
      },
      "source": [
        "mnv2.trainable = False"
      ],
      "execution_count": 0,
      "outputs": []
    },
    {
      "cell_type": "markdown",
      "metadata": {
        "id": "hUmCzu-MxJpp",
        "colab_type": "text"
      },
      "source": [
        "### Batching"
      ]
    },
    {
      "cell_type": "markdown",
      "metadata": {
        "id": "_PpC7peUxPVi",
        "colab_type": "text"
      },
      "source": [
        "We will want to train our model in batches. In our case we'll use a batch size of `32`. You might want to experiment with other sizes."
      ]
    },
    {
      "cell_type": "code",
      "metadata": {
        "id": "HRLy4sdM4PcB",
        "colab_type": "code",
        "colab": {}
      },
      "source": [
        "BATCH_SIZE = 32\n",
        "SHUFFLE_BUFFER_SIZE = 1000\n",
        "\n",
        "train_batches = train_standardized.shuffle(SHUFFLE_BUFFER_SIZE).batch(BATCH_SIZE)\n",
        "validation_batches = validation_standardized.batch(BATCH_SIZE)\n",
        "test_batches = test_standardized.filter(filter_out_small).batch(BATCH_SIZE)"
      ],
      "execution_count": 0,
      "outputs": []
    },
    {
      "cell_type": "markdown",
      "metadata": {
        "id": "WBDaCXb7xjRQ",
        "colab_type": "text"
      },
      "source": [
        "You can see that we now have a well-defined input shape for each training batch."
      ]
    },
    {
      "cell_type": "code",
      "metadata": {
        "id": "Y3Vjs4S-4ZRR",
        "colab_type": "code",
        "colab": {}
      },
      "source": [
        "image_batch, label_batch = next(iter(train_batches.take(1)))\n",
        "\n",
        "image_batch.shape"
      ],
      "execution_count": 0,
      "outputs": []
    },
    {
      "cell_type": "markdown",
      "metadata": {
        "id": "CCByIZ6BykVB",
        "colab_type": "text"
      },
      "source": [
        "If we apply our model to our first batch, you can see that we get a `(32, 7, 7, 1280)` block of features. These will be the input to our cat/dog model."
      ]
    },
    {
      "cell_type": "code",
      "metadata": {
        "id": "en5H-9fh5eqN",
        "colab_type": "code",
        "colab": {}
      },
      "source": [
        "feature_batch = mnv2(image_batch)\n",
        "print(feature_batch.shape)"
      ],
      "execution_count": 0,
      "outputs": []
    },
    {
      "cell_type": "markdown",
      "metadata": {
        "id": "Su6ldmrnzR0W",
        "colab_type": "text"
      },
      "source": [
        "### Extending the Model"
      ]
    },
    {
      "cell_type": "markdown",
      "metadata": {
        "id": "FJ_mNo045qlM",
        "colab_type": "text"
      },
      "source": [
        "Now we can perform the actual transfer learning. We'll build a new model that classifies images as containing dogs or cats. In order to do that, we can use a `Sequential` model with the pretrained model as the first layer.\n",
        "\n",
        "Note that the output layer of our pretrained model is:\n",
        "\n",
        "```text\n",
        "out_relu (ReLU)                 (None, 7, 7, 1280)   0           Conv_1_bn[0][0]  \n",
        "```\n",
        "\n",
        "Since the activation function is `relu6`, we know that the data that we'll be receiving is in the range of `[0, 6]`. We apply a pooling layer to reduce our inputs. In our output layer, we distill the inputs down to a single number that indicates if the image is of a cat or dog. We chose the sigmoid function, which will cause the output to be in a range of `[0, 1]`. This represents the confidence in an image being a dog, since dog is encoded as `1`.\n",
        "\n"
      ]
    },
    {
      "cell_type": "code",
      "metadata": {
        "id": "DJOpWMn5zay6",
        "colab_type": "code",
        "colab": {}
      },
      "source": [
        "model = tf.keras.Sequential([\n",
        "  mnv2,\n",
        "  tf.keras.layers.GlobalAveragePooling2D(),\n",
        "  tf.keras.layers.Dense(1, activation='sigmoid'),\n",
        "])\n",
        "\n",
        "model.summary()"
      ],
      "execution_count": 0,
      "outputs": []
    },
    {
      "cell_type": "markdown",
      "metadata": {
        "id": "eaSD-7hr9qx4",
        "colab_type": "text"
      },
      "source": [
        "We now compile the model, training for accuracy with binary cross entropy used to calculate loss."
      ]
    },
    {
      "cell_type": "code",
      "metadata": {
        "id": "fNn8X9r8zjE1",
        "colab_type": "code",
        "colab": {}
      },
      "source": [
        "model.compile(\n",
        "  loss=tf.keras.losses.BinaryCrossentropy(),\n",
        "  metrics=['accuracy']\n",
        ")\n",
        "\n",
        "model.summary()"
      ],
      "execution_count": 0,
      "outputs": []
    },
    {
      "cell_type": "markdown",
      "metadata": {
        "id": "odoqqyzL9yjH",
        "colab_type": "text"
      },
      "source": [
        "Training will take a few minutes. Be sure to use GPU, or it will take a really long time."
      ]
    },
    {
      "cell_type": "code",
      "metadata": {
        "id": "Cz2Z1y6L6cyI",
        "colab_type": "code",
        "colab": {}
      },
      "source": [
        "history = model.fit(\n",
        "  train_batches,\n",
        "  epochs=10,\n",
        "  validation_data=validation_batches\n",
        ")"
      ],
      "execution_count": 0,
      "outputs": []
    },
    {
      "cell_type": "markdown",
      "metadata": {
        "id": "eiL5fu2W-nG5",
        "colab_type": "text"
      },
      "source": [
        "We got a training accuracy of over `99%` and a validation accuracy close to `99%`! Let's graph the accuracy and loss per epoch."
      ]
    },
    {
      "cell_type": "code",
      "metadata": {
        "id": "znoDaMev830w",
        "colab_type": "code",
        "colab": {}
      },
      "source": [
        "acc = history.history['accuracy']\n",
        "val_acc = history.history['val_accuracy']\n",
        "\n",
        "loss = history.history['loss']\n",
        "val_loss = history.history['val_loss']\n",
        "\n",
        "plt.figure(figsize=(8, 8))\n",
        "plt.subplot(2, 1, 1)\n",
        "plt.plot(acc, label='Training Accuracy')\n",
        "plt.plot(val_acc, label='Validation Accuracy')\n",
        "plt.legend(loc='lower right')\n",
        "plt.ylabel('Accuracy')\n",
        "plt.ylim([min(plt.ylim()),1])\n",
        "plt.title('Training and Validation Accuracy')\n",
        "\n",
        "plt.subplot(2, 1, 2)\n",
        "plt.plot(loss, label='Training Loss')\n",
        "plt.plot(val_loss, label='Validation Loss')\n",
        "plt.legend(loc='upper right')\n",
        "plt.ylabel('Cross Entropy')\n",
        "plt.ylim([0,1.0])\n",
        "plt.title('Training and Validation Loss')\n",
        "plt.xlabel('epoch')"
      ],
      "execution_count": 0,
      "outputs": []
    },
    {
      "cell_type": "markdown",
      "metadata": {
        "id": "IEJxZoCm-0xf",
        "colab_type": "text"
      },
      "source": [
        "The graph makes it look like we might be overfitting, but if you look at the range on the y-axis, we actually aren't doing too badly. We should, however, perform a final test to see if we can generalize well."
      ]
    },
    {
      "cell_type": "code",
      "metadata": {
        "id": "CQsFrH8k_OVD",
        "colab_type": "code",
        "colab": {}
      },
      "source": [
        "model.evaluate(test_batches)"
      ],
      "execution_count": 0,
      "outputs": []
    },
    {
      "cell_type": "markdown",
      "metadata": {
        "id": "qbKT0oqU_wRe",
        "colab_type": "text"
      },
      "source": [
        "We got an accuracy of just over `99%`, which can give us some confidence that this model generalizes well."
      ]
    },
    {
      "cell_type": "markdown",
      "metadata": {
        "id": "m7VptkBN__s8",
        "colab_type": "text"
      },
      "source": [
        "### Making Predictions"
      ]
    },
    {
      "cell_type": "markdown",
      "metadata": {
        "id": "NoRc2-8bACqo",
        "colab_type": "text"
      },
      "source": [
        "We can use the model to make predictions by using the `predict()` function."
      ]
    },
    {
      "cell_type": "code",
      "metadata": {
        "id": "8atvraZy_2kU",
        "colab_type": "code",
        "colab": {}
      },
      "source": [
        "predictions = model.predict(test_batches)\n",
        "\n",
        "predictions.min(), predictions.max()"
      ],
      "execution_count": 0,
      "outputs": []
    },
    {
      "cell_type": "markdown",
      "metadata": {
        "id": "WtSukjLWA5i3",
        "colab_type": "text"
      },
      "source": [
        "Remember the predictions can range from `0.0` to `1.0`. We can round them and cast them to integers to get class mappings."
      ]
    },
    {
      "cell_type": "code",
      "metadata": {
        "id": "kirLe5Gy_54B",
        "colab_type": "code",
        "colab": {}
      },
      "source": [
        "import numpy as np\n",
        "\n",
        "predictions = np.round(predictions.flatten(), 0).astype(np.int)\n",
        "predictions"
      ],
      "execution_count": 0,
      "outputs": []
    },
    {
      "cell_type": "markdown",
      "metadata": {
        "id": "gBtScX8zC-8e",
        "colab_type": "text"
      },
      "source": [
        "And we can now print the predicted class alongside the original image."
      ]
    },
    {
      "cell_type": "code",
      "metadata": {
        "id": "WuadhqEaBC5-",
        "colab_type": "code",
        "colab": {}
      },
      "source": [
        "print(get_class_name(predictions[0]))\n",
        "_ = plt.imshow(next(iter(raw_test.take(1)))[0].numpy())"
      ],
      "execution_count": 0,
      "outputs": []
    },
    {
      "cell_type": "markdown",
      "metadata": {
        "id": "z0xj8vECoQq1",
        "colab_type": "text"
      },
      "source": [
        "You can also make predictions by calling the model directly and passing it a single batch."
      ]
    },
    {
      "cell_type": "code",
      "metadata": {
        "id": "hsUt3fBcoTOJ",
        "colab_type": "code",
        "colab": {}
      },
      "source": [
        "predictions = model(next(iter(test_batches)))\n",
        "predictions = np.round(predictions, 0).astype(np.int).flatten()\n",
        "\n",
        "print(get_class_name(predictions[0]))\n",
        "_ = plt.imshow(next(iter(raw_test.take(1)))[0].numpy())"
      ],
      "execution_count": 0,
      "outputs": []
    },
    {
      "cell_type": "markdown",
      "metadata": {
        "id": "yww1QiWWDN0r",
        "colab_type": "text"
      },
      "source": [
        "# Exercises"
      ]
    },
    {
      "cell_type": "markdown",
      "metadata": {
        "id": "G-BKV0dDDPXk",
        "colab_type": "text"
      },
      "source": [
        "## Exercise 1: Food 101"
      ]
    },
    {
      "cell_type": "markdown",
      "metadata": {
        "id": "kq2E02AoevMb",
        "colab_type": "text"
      },
      "source": [
        "In this exercise you'll build a classifier for the [Food 101](https://www.tensorflow.org/datasets/catalog/food101) dataset. The classifier will transfer learnings from [`DenseNet201`](https://www.tensorflow.org/api_docs/python/tf/keras/applications/DenseNet201).\n",
        "\n",
        "In order to complete the exercise, you will need to:\n",
        "* Load the [Food 101](https://www.tensorflow.org/datasets/catalog/food101) dataset. *Be sure to pay attention to the splits!*\n",
        "* Perform exploratory data analysis on the dataset.\n",
        "* Ensure every class is represented in your train, test, and validation splits of the dataset.\n",
        "* Normalize or standardize your data in the way that the model was trained. *You can find this information in the [paper introducing the model](https://arxiv.org/pdf/1608.06993.pdf).*\n",
        "* Extend [`DenseNet201`](https://www.tensorflow.org/api_docs/python/tf/keras/applications/DenseNet201) with a new model, and have it classify the `101` food types. *Note that [`one_hot`](https://www.tensorflow.org/api_docs/python/tf/one_hot) and [`Dataset.map`](https://www.tensorflow.org/api_docs/python/tf/data/Dataset#map) can help you manipulate the targets to make the model train faster.*\n",
        "* Graph training accuracy and loss.\n",
        "* Calculate accuracy and loss for your holdout test set.*\n",
        "* Make predictions and print out one predicted label and original image.\n",
        "\n",
        "> **Don't sweat too much about your model's performance. We were only able to get about `75%` training accuracy (with obvious overfitting) in our naive model after `10` training epochs. This model is trying to classify `101` different things with messy images. Don't expect it to perform anywhere close to our binary model above.*\n",
        "\n",
        "Use as many code and text cells as you need to complete this task. Explain your work."
      ]
    },
    {
      "cell_type": "markdown",
      "metadata": {
        "id": "GgqpSFHwg3J6",
        "colab_type": "text"
      },
      "source": [
        "### **Student Solution**"
      ]
    },
    {
      "cell_type": "code",
      "metadata": {
        "id": "Fscnp0FJg-b5",
        "colab_type": "code",
        "colab": {}
      },
      "source": [
        "# Your Solution Goes Here"
      ],
      "execution_count": 0,
      "outputs": []
    },
    {
      "cell_type": "markdown",
      "metadata": {
        "id": "asAB1I45g_2o",
        "colab_type": "text"
      },
      "source": [
        "---"
      ]
    },
    {
      "cell_type": "markdown",
      "metadata": {
        "id": "tmD8WSZDhAeR",
        "colab_type": "text"
      },
      "source": [
        "### Answer Key"
      ]
    },
    {
      "cell_type": "markdown",
      "metadata": {
        "id": "63CbS2V_hCt7",
        "colab_type": "text"
      },
      "source": [
        "We first load the data. Notice that we split the training set for train/validation, and then we use the validation split for our final holdout test."
      ]
    },
    {
      "cell_type": "code",
      "metadata": {
        "id": "Ri82N8BzDOtc",
        "colab_type": "code",
        "colab": {}
      },
      "source": [
        "import tensorflow_datasets as tfds\n",
        "\n",
        "(raw_train, raw_validation, raw_test), metadata = tfds.load(\n",
        "    'food101',\n",
        "    split=['train[:90%]', 'train[90%:]', 'validation'],\n",
        "    with_info=True,\n",
        "    as_supervised=True,\n",
        ")"
      ],
      "execution_count": 0,
      "outputs": []
    },
    {
      "cell_type": "markdown",
      "metadata": {
        "id": "mbx9NS8uhOVh",
        "colab_type": "text"
      },
      "source": [
        "Check out the feature names. Notice [many aren't in ImageNet](http://image-net.org/challenges/LSVRC/2012/browse-synsets)."
      ]
    },
    {
      "cell_type": "code",
      "metadata": {
        "id": "SDYoH74jQDZx",
        "colab_type": "code",
        "colab": {}
      },
      "source": [
        "metadata.features['label'].names"
      ],
      "execution_count": 0,
      "outputs": []
    },
    {
      "cell_type": "markdown",
      "metadata": {
        "id": "0phGveDqhVFx",
        "colab_type": "text"
      },
      "source": [
        "Create our class lookup."
      ]
    },
    {
      "cell_type": "code",
      "metadata": {
        "id": "1klSTKu_Ts5X",
        "colab_type": "code",
        "colab": {}
      },
      "source": [
        "get_class_name = metadata.features['label'].int2str"
      ],
      "execution_count": 0,
      "outputs": []
    },
    {
      "cell_type": "markdown",
      "metadata": {
        "id": "E_MBMogDTqSU",
        "colab_type": "text"
      },
      "source": [
        "Ensure every label is represented in every dataset."
      ]
    },
    {
      "cell_type": "code",
      "metadata": {
        "id": "7UlGOFRSTwIW",
        "colab_type": "code",
        "colab": {}
      },
      "source": [
        "train_labels, validation_labels, test_labels = set(), set(), set()\n",
        "\n",
        "for s in (\n",
        "    (raw_train, train_labels),\n",
        "    (raw_validation, validation_labels),\n",
        "    (raw_test, test_labels)):\n",
        "    for _, label in s[0]:\n",
        "      s[1].add(label.numpy())\n",
        "\n",
        "print(train_labels.symmetric_difference(validation_labels))\n",
        "print(train_labels.symmetric_difference(test_labels))"
      ],
      "execution_count": 0,
      "outputs": []
    },
    {
      "cell_type": "markdown",
      "metadata": {
        "id": "elZfHL38ha0p",
        "colab_type": "text"
      },
      "source": [
        "Display a few images."
      ]
    },
    {
      "cell_type": "code",
      "metadata": {
        "id": "9-DK97gHXgR8",
        "colab_type": "code",
        "colab": {}
      },
      "source": [
        "import matplotlib.pyplot as plt\n",
        "\n",
        "for cls in range(10):\n",
        "  for image, label in raw_train:\n",
        "    if label == cls:\n",
        "      plt.figure()\n",
        "      plt.imshow(image)\n",
        "      break"
      ],
      "execution_count": 0,
      "outputs": []
    },
    {
      "cell_type": "markdown",
      "metadata": {
        "id": "9pXyNXmVhipS",
        "colab_type": "text"
      },
      "source": [
        "Check out the distribution of color and resolution. Resolution varies. Color looks fine."
      ]
    },
    {
      "cell_type": "code",
      "metadata": {
        "id": "AyCY38OjX2gb",
        "colab_type": "code",
        "colab": {}
      },
      "source": [
        "import sys \n",
        "\n",
        "global_min = sys.maxsize \n",
        "global_max = -sys.maxsize-1\n",
        "sizes = collections.defaultdict(int)\n",
        "\n",
        "for split in (raw_train, raw_validation, raw_test):\n",
        "  for image, _ in split:\n",
        "    local_max = image.numpy().max()\n",
        "    local_min = image.numpy().min()\n",
        "    sizes[image.numpy().shape] += 1\n",
        "\n",
        "    if local_max > global_max:\n",
        "      global_max = local_max\n",
        "    \n",
        "    if local_min < global_min:\n",
        "      global_min = local_min\n",
        "\n",
        "print(f\"Color values range from {global_min} to {global_max}\")\n",
        "resolutions = [x[0] for x in sorted(sizes.items(), key=lambda r: r[0])]\n",
        "print(f\"There are {len(resolutions)} resolutions ranging from \",\n",
        "      f\"{resolutions[0]} to {resolutions[-1]}\")\n"
      ],
      "execution_count": 0,
      "outputs": []
    },
    {
      "cell_type": "markdown",
      "metadata": {
        "id": "XCWOMi80hohB",
        "colab_type": "text"
      },
      "source": [
        "Resize our images to the size that our pre-trained network expects."
      ]
    },
    {
      "cell_type": "code",
      "metadata": {
        "id": "ybxBYDu9Y9bR",
        "colab_type": "code",
        "colab": {}
      },
      "source": [
        "IMG_SIZE = 224 \n",
        "\n",
        "def resize_images(image, label):\n",
        "  image = tf.image.resize(image, (IMG_SIZE, IMG_SIZE))\n",
        "  return image, label\n",
        "\n",
        "train_resized = raw_train.map(resize_images)\n",
        "validation_resized = raw_validation.map(resize_images)\n",
        "test_resized = raw_test.map(resize_images)"
      ],
      "execution_count": 0,
      "outputs": []
    },
    {
      "cell_type": "markdown",
      "metadata": {
        "id": "tsaReYRChtq_",
        "colab_type": "text"
      },
      "source": [
        "The original model performed whole-dataset standardization. You can do that, or approximate it like we did below."
      ]
    },
    {
      "cell_type": "code",
      "metadata": {
        "id": "6iKOMF36ZAAe",
        "colab_type": "code",
        "colab": {}
      },
      "source": [
        "def standardize_images(image, label):\n",
        "  image = tf.cast(image, tf.float32)\n",
        "  image = (image/127.5) - 1\n",
        "  image = tf.image.resize(image, (IMG_SIZE, IMG_SIZE))\n",
        "  return image, label\n",
        "\n",
        "train_standardized = train_resized.map(standardize_images)\n",
        "validation_standardized = validation_resized.map(standardize_images)\n",
        "test_standardized = test_resized.map(standardize_images)"
      ],
      "execution_count": 0,
      "outputs": []
    },
    {
      "cell_type": "markdown",
      "metadata": {
        "id": "DU23WwhAhz2y",
        "colab_type": "text"
      },
      "source": [
        "Make sure that our standardization and resizing worked."
      ]
    },
    {
      "cell_type": "code",
      "metadata": {
        "id": "V18UmbJ6ZGo7",
        "colab_type": "code",
        "colab": {}
      },
      "source": [
        "import sys \n",
        "\n",
        "global_min = sys.maxsize \n",
        "global_max = -sys.maxsize-1\n",
        "sizes = collections.defaultdict(int)\n",
        "\n",
        "for split in (train_standardized, validation_standardized, test_standardized):\n",
        "  for image, _ in split:\n",
        "    local_max = image.numpy().max()\n",
        "    local_min = image.numpy().min()\n",
        "    sizes[image.numpy().shape] += 1\n",
        "\n",
        "    if local_max > global_max:\n",
        "      global_max = local_max\n",
        "    \n",
        "    if local_min < global_min:\n",
        "      global_min = local_min\n",
        "\n",
        "print(f\"Color values range from {global_min} to {global_max}\")\n",
        "resolutions = [x[0] for x in sorted(sizes.items(), key=lambda r: r[0])]\n",
        "print(f\"There are {len(resolutions)} resolutions ranging from \",\n",
        "      f\"{resolutions[0]} to {resolutions[-1]}\")\n"
      ],
      "execution_count": 0,
      "outputs": []
    },
    {
      "cell_type": "markdown",
      "metadata": {
        "id": "Hug98qMvh3jy",
        "colab_type": "text"
      },
      "source": [
        "Load `DenseNet201`."
      ]
    },
    {
      "cell_type": "code",
      "metadata": {
        "id": "vVgxzHPKZI59",
        "colab_type": "code",
        "colab": {}
      },
      "source": [
        "IMG_SHAPE = (IMG_SIZE, IMG_SIZE, 3)\n",
        "\n",
        "densenet = tf.keras.applications.DenseNet201(input_shape=IMG_SHAPE,\n",
        "                                             weights='imagenet',\n",
        "                                             include_top=False)\n",
        "\n",
        "densenet.summary()"
      ],
      "execution_count": 0,
      "outputs": []
    },
    {
      "cell_type": "markdown",
      "metadata": {
        "id": "LJGX8ZjZh7So",
        "colab_type": "text"
      },
      "source": [
        "Make it non-trainable. *It's okay if you made your pretrained model trainable, but we chose not to due to the diversity of datasets.*"
      ]
    },
    {
      "cell_type": "code",
      "metadata": {
        "id": "oTsMTSzTZ_5Q",
        "colab_type": "code",
        "colab": {}
      },
      "source": [
        "densenet.trainable = False"
      ],
      "execution_count": 0,
      "outputs": []
    },
    {
      "cell_type": "markdown",
      "metadata": {
        "id": "0l00YrbdiBWC",
        "colab_type": "text"
      },
      "source": [
        "Extend the model. We'll pool down to a dense layer with `101` outputs with a softmax activation applied. Each output is the confidence that the input matches a given class."
      ]
    },
    {
      "cell_type": "code",
      "metadata": {
        "id": "pUO0oj3zaJoV",
        "colab_type": "code",
        "colab": {}
      },
      "source": [
        "model = tf.keras.Sequential([\n",
        "  densenet,\n",
        "  tf.keras.layers.GlobalAveragePooling2D(),\n",
        "  tf.keras.layers.Dense(101, activation='softmax'),\n",
        "])\n",
        "\n",
        "model.summary()"
      ],
      "execution_count": 0,
      "outputs": []
    },
    {
      "cell_type": "markdown",
      "metadata": {
        "id": "VUCTCmfYiVLU",
        "colab_type": "text"
      },
      "source": [
        "Compile the model. We need to use `CategoricalCrossentropy` this time since we have a multi-class model."
      ]
    },
    {
      "cell_type": "code",
      "metadata": {
        "id": "ymM8LE0WancV",
        "colab_type": "code",
        "colab": {}
      },
      "source": [
        "model.compile(\n",
        "  loss=tf.keras.losses.CategoricalCrossentropy(),\n",
        "  metrics=['accuracy']\n",
        ")\n",
        "\n",
        "model.summary()"
      ],
      "execution_count": 0,
      "outputs": []
    },
    {
      "cell_type": "markdown",
      "metadata": {
        "id": "4nu-dNS2icU5",
        "colab_type": "text"
      },
      "source": [
        "Set up batching."
      ]
    },
    {
      "cell_type": "code",
      "metadata": {
        "id": "lQ5mjkSqaBuP",
        "colab_type": "code",
        "colab": {}
      },
      "source": [
        "BATCH_SIZE = 128\n",
        "SHUFFLE_BUFFER_SIZE = 1000\n",
        "\n",
        "train_batches = train_standardized.shuffle(SHUFFLE_BUFFER_SIZE).batch(BATCH_SIZE)\n",
        "validation_batches = validation_standardized.batch(BATCH_SIZE)\n",
        "test_batches = test_standardized.batch(BATCH_SIZE)"
      ],
      "execution_count": 0,
      "outputs": []
    },
    {
      "cell_type": "markdown",
      "metadata": {
        "id": "hBjnNqwDid-0",
        "colab_type": "text"
      },
      "source": [
        "Now we can train the model. We one-hot encode the targets to make it easier for the model to train. Training to an ordinal value between `0` and `101` is slow. Even the one-hot takes a while."
      ]
    },
    {
      "cell_type": "code",
      "metadata": {
        "id": "sRwOdGg3ajJ6",
        "colab_type": "code",
        "colab": {}
      },
      "source": [
        "def make_one_hot(image, cls):\n",
        "  return image, tf.one_hot(cls, 101)\n",
        "\n",
        "history = model.fit(\n",
        "  train_batches.map(make_one_hot),\n",
        "  epochs=10,\n",
        "  validation_data=validation_batches.map(make_one_hot)\n",
        ")"
      ],
      "execution_count": 0,
      "outputs": []
    },
    {
      "cell_type": "markdown",
      "metadata": {
        "id": "M8Gi2xqqi1eC",
        "colab_type": "text"
      },
      "source": [
        "Graph the accuracy and loss over each epoch."
      ]
    },
    {
      "cell_type": "code",
      "metadata": {
        "id": "hC98H7mgjBDp",
        "colab_type": "code",
        "colab": {}
      },
      "source": [
        "acc = history.history['accuracy']\n",
        "val_acc = history.history['val_accuracy']\n",
        "\n",
        "loss = history.history['loss']\n",
        "val_loss = history.history['val_loss']\n",
        "\n",
        "plt.figure(figsize=(8, 8))\n",
        "plt.subplot(2, 1, 1)\n",
        "plt.plot(acc, label='Training Accuracy')\n",
        "plt.plot(val_acc, label='Validation Accuracy')\n",
        "plt.legend(loc='lower right')\n",
        "plt.ylabel('Accuracy')\n",
        "plt.ylim([min(plt.ylim()),1])\n",
        "plt.title('Training and Validation Accuracy')\n",
        "\n",
        "plt.subplot(2, 1, 2)\n",
        "plt.plot(loss, label='Training Loss')\n",
        "plt.plot(val_loss, label='Validation Loss')\n",
        "plt.legend(loc='upper right')\n",
        "plt.ylabel('Cross Entropy')\n",
        "plt.ylim([0,3.0])\n",
        "plt.title('Training and Validation Loss')\n",
        "plt.xlabel('epoch')"
      ],
      "execution_count": 0,
      "outputs": []
    },
    {
      "cell_type": "markdown",
      "metadata": {
        "id": "Dw7rKE65jD3w",
        "colab_type": "text"
      },
      "source": [
        "And now evaluate how well the model generalizes."
      ]
    },
    {
      "cell_type": "code",
      "metadata": {
        "id": "G5Id5LxxjHNO",
        "colab_type": "code",
        "colab": {}
      },
      "source": [
        "model.evaluate(test_batches.map(make_one_hot))"
      ],
      "execution_count": 0,
      "outputs": []
    },
    {
      "cell_type": "markdown",
      "metadata": {
        "id": "2nNEl7I5jNRV",
        "colab_type": "text"
      },
      "source": [
        "Print the first prediction."
      ]
    },
    {
      "cell_type": "code",
      "metadata": {
        "id": "4Z7o7YawjOzH",
        "colab_type": "code",
        "colab": {}
      },
      "source": [
        "predictions = model(next(iter(test_batches.map(make_one_hot))))\n",
        "\n",
        "print(get_class_name(np.argmax(predictions[0].numpy())))\n",
        "plt.figure()\n",
        "_ = plt.imshow(next(iter(raw_test))[0].numpy())"
      ],
      "execution_count": 0,
      "outputs": []
    },
    {
      "cell_type": "markdown",
      "metadata": {
        "id": "K3xIpxO0lp0-",
        "colab_type": "text"
      },
      "source": [
        "---"
      ]
    }
  ]
}
