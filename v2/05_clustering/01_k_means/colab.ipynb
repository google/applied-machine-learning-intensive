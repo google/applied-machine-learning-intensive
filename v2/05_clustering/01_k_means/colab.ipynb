{
  "nbformat": 4,
  "nbformat_minor": 0,
  "metadata": {
    "colab": {
      "name": "k-Means",
      "provenance": [],
      "private_outputs": true,
      "collapsed_sections": [
        "copyright",
        "exercise-1-key-1",
        "exercise-2-key-1"
      ],
      "toc_visible": true,
      "include_colab_link": true
    },
    "kernelspec": {
      "display_name": "Python 3",
      "name": "python3"
    }
  },
  "cells": [
    {
      "cell_type": "markdown",
      "metadata": {
        "id": "view-in-github",
        "colab_type": "text"
      },
      "source": [
        "<a href=\"https://colab.research.google.com/github/google/applied-machine-learning-intensive/blob/master/v2/05_clustering/01_k_means/colab.ipynb\" target=\"_parent\"><img src=\"https://colab.research.google.com/assets/colab-badge.svg\" alt=\"Open In Colab\"/></a>"
      ]
    },
    {
      "cell_type": "markdown",
      "metadata": {
        "colab_type": "text",
        "id": "copyright"
      },
      "source": [
        "#### Copyright 2020 Google LLC."
      ]
    },
    {
      "cell_type": "code",
      "metadata": {
        "colab_type": "code",
        "id": "DIk2MioaatFI",
        "colab": {}
      },
      "source": [
        "# Licensed under the Apache License, Version 2.0 (the \"License\");\n",
        "# you may not use this file except in compliance with the License.\n",
        "# You may obtain a copy of the License at\n",
        "#\n",
        "# https://www.apache.org/licenses/LICENSE-2.0\n",
        "#\n",
        "# Unless required by applicable law or agreed to in writing, software\n",
        "# distributed under the License is distributed on an \"AS IS\" BASIS,\n",
        "# WITHOUT WARRANTIES OR CONDITIONS OF ANY KIND, either express or implied.\n",
        "# See the License for the specific language governing permissions and\n",
        "# limitations under the License."
      ],
      "execution_count": 0,
      "outputs": []
    },
    {
      "cell_type": "markdown",
      "metadata": {
        "colab_type": "text",
        "id": "daX5oL8aDZLn"
      },
      "source": [
        "# k-means\n"
      ]
    },
    {
      "cell_type": "markdown",
      "metadata": {
        "colab_type": "text",
        "id": "e5jEmmM1wQBC"
      },
      "source": [
        "k-means clustering is an *unsupervised* machine learning algorithm that can be used to group items into clusters.\n",
        "\n",
        "So far we have only worked with supervised algorithms. Supervised algorithms have training data with labels that identify the numeric value or class for each item. These algorithms use labeled data to build a model that can be used to make predictions.\n",
        "\n",
        "k-means clustering is different. The training data is not labeled. Unlabeled training data is fed into the model, which attempts to find relationships in the data and create clusters based on those relationships. Once these clusters are formed, predictions can be made about which cluster new data items belong to.\n",
        "\n",
        "The clusters can't easily be labeled in many cases. The clusters are \"emergent clusters\" which are created by the algorithm and don't always map to groupings that you might expect."
      ]
    },
    {
      "cell_type": "markdown",
      "metadata": {
        "colab_type": "text",
        "id": "ytHWSs1qG3e5"
      },
      "source": [
        "## Example: Customer Segmentation\n",
        "\n",
        "Let's start by looking at a real world use case: customer segmentation.\n",
        "\n",
        "Businesses often segment their customers into groups for marketing purposes. Often these segments are based on some characteristic of the customer: age, gender, spending bracket, etc. These segments are created based on assumptions that marketers have about their customers.\n",
        "\n",
        "In this example we will use k-means clustering to find customer segments instead of relying on traditional segmentation methods.\n"
      ]
    },
    {
      "cell_type": "markdown",
      "metadata": {
        "colab_type": "text",
        "id": "1NUs6PhaH9J7"
      },
      "source": [
        "### Load the data\n",
        "\n",
        "For this example we'll load the [Kaggle Black Friday](https://www.kaggle.com/dalalmanish/black-friday) data. The dataset contains demographic and purchasing information about shoppers on Black Friday.\n",
        "\n",
        "Upload your `kaggle.json` file and run the code block below."
      ]
    },
    {
      "cell_type": "code",
      "metadata": {
        "id": "-IXUekcf9kLk",
        "colab_type": "code",
        "colab": {}
      },
      "source": [
        "! chmod 600 kaggle.json && (ls ~/.kaggle 2>/dev/null || mkdir ~/.kaggle) && mv kaggle.json ~/.kaggle/ && echo 'Done'"
      ],
      "execution_count": 0,
      "outputs": []
    },
    {
      "cell_type": "markdown",
      "metadata": {
        "id": "90kxf9D89sh-",
        "colab_type": "text"
      },
      "source": [
        "And then use the Kaggle API to download the dataset."
      ]
    },
    {
      "cell_type": "code",
      "metadata": {
        "id": "qNox0PoV-IAt",
        "colab_type": "code",
        "colab": {}
      },
      "source": [
        "! kaggle datasets download dalalmanish/black-friday\n",
        "! ls"
      ],
      "execution_count": 0,
      "outputs": []
    },
    {
      "cell_type": "markdown",
      "metadata": {
        "id": "ZRALkZzA_9tU",
        "colab_type": "text"
      },
      "source": [
        "And unzip the file."
      ]
    },
    {
      "cell_type": "code",
      "metadata": {
        "id": "FgRx7aKb__Rt",
        "colab_type": "code",
        "colab": {}
      },
      "source": [
        "! unzip black-friday.zip\n",
        "! ls 'black friday'"
      ],
      "execution_count": 0,
      "outputs": []
    },
    {
      "cell_type": "markdown",
      "metadata": {
        "id": "ttaniIlAAS1_",
        "colab_type": "text"
      },
      "source": [
        "And finally, load the training data into a `DataFrame`."
      ]
    },
    {
      "cell_type": "code",
      "metadata": {
        "colab_type": "code",
        "id": "j4Rit-br0X-d",
        "colab": {}
      },
      "source": [
        "import pandas as pd\n",
        "\n",
        "data = pd.read_csv('black friday/train.csv')\n",
        "data.head()"
      ],
      "execution_count": 0,
      "outputs": []
    },
    {
      "cell_type": "markdown",
      "metadata": {
        "colab_type": "text",
        "id": "ZfPT80UiId3l"
      },
      "source": [
        "### Examine and clean the data\n",
        "\n",
        "There are many useful columns of data in this data file that could be used for segmenting customers. In this case we'll ignore the common segmentation attributes (age, gender, spending bracket etc.) and instead focus solely on the product categories and purchase amounts of the customers. The aim is that we can find clusters of customers based on their purchases so that we can fine-tune our marketing for each cluster.\n",
        "\n",
        "For this we'll be looking at the 'Product_Category_1', 'Product_Category_2', 'Product_Category_3', and 'Purchase' fields.\n",
        "\n",
        "Let's peek at the data types.\n"
      ]
    },
    {
      "cell_type": "code",
      "metadata": {
        "colab_type": "code",
        "id": "qX4yxwUoJP4m",
        "colab": {}
      },
      "source": [
        "data.dtypes"
      ],
      "execution_count": 0,
      "outputs": []
    },
    {
      "cell_type": "markdown",
      "metadata": {
        "colab_type": "text",
        "id": "YbuFGwMpJdfe"
      },
      "source": [
        "'Purchase' is a numeric value that contains the amount spent. The product category fields seem to be encoding a category as a numeric value. 'Product_Category_1' holds integers, which matches that assumption."
      ]
    },
    {
      "cell_type": "code",
      "metadata": {
        "colab_type": "code",
        "id": "hMuQeootJwRb",
        "colab": {}
      },
      "source": [
        "data.groupby('Product_Category_1')['Product_Category_1'].count()"
      ],
      "execution_count": 0,
      "outputs": []
    },
    {
      "cell_type": "markdown",
      "metadata": {
        "colab_type": "text",
        "id": "TtJnKpkxJ5KA"
      },
      "source": [
        "But 'Product_Category_2' and 'Product_Category_3' contain floats instead of integers. This is because some of the columns contain `NaN` values."
      ]
    },
    {
      "cell_type": "code",
      "metadata": {
        "colab_type": "code",
        "id": "UzKswhwZKBaP",
        "colab": {}
      },
      "source": [
        "data.groupby('Product_Category_2')['Product_Category_2'].count()"
      ],
      "execution_count": 0,
      "outputs": []
    },
    {
      "cell_type": "markdown",
      "metadata": {
        "colab_type": "text",
        "id": "2dRApzxrKG0B"
      },
      "source": [
        "We can see from above that our valid category ranges from 1 through 18. Let's convert all of the categories to integers and just fill in invalid categories with zeros."
      ]
    },
    {
      "cell_type": "code",
      "metadata": {
        "colab_type": "code",
        "id": "_BGia8YZ2OeB",
        "colab": {}
      },
      "source": [
        "data['Product_Category_2'] = data['Product_Category_2'].fillna(0).astype(int)\n",
        "data['Product_Category_3'] = data['Product_Category_3'].fillna(0).astype(int)\n",
        "\n",
        "data.groupby('Product_Category_2')['Product_Category_2'].count()"
      ],
      "execution_count": 0,
      "outputs": []
    },
    {
      "cell_type": "markdown",
      "metadata": {
        "colab_type": "text",
        "id": "hej2WUf5Kl79"
      },
      "source": [
        "### Create Synthetic Columns\n",
        "\n",
        "We want to be able to cluster based on the categories that customers purchased in. The current encoding makes that a little difficult. Instead of having three category columns with a number between 0 and 18 in them, let's create 18 columns with a 1 in that column if the customer purchased from the category and a 0 if they did not."
      ]
    },
    {
      "cell_type": "code",
      "metadata": {
        "colab_type": "code",
        "id": "czbGR4nb3BNa",
        "colab": {}
      },
      "source": [
        "for i in range(1, 19):\n",
        "  new_column = \"PC_{}\".format(i)\n",
        "  data[new_column] = ((data['Product_Category_1'] == i) |\n",
        "                      (data['Product_Category_2'] == i) |\n",
        "                      (data['Product_Category_3'] == i)).astype(int)\n",
        "\n",
        "data.head()"
      ],
      "execution_count": 0,
      "outputs": []
    },
    {
      "cell_type": "markdown",
      "metadata": {
        "colab_type": "text",
        "id": "OCKLOEpRLJaO"
      },
      "source": [
        "Since customers show up on more than one row of data, we need to aggregate the data by customer so that we have only one customer per row. To do this we can group by 'User_ID' and sum each category. This will give us a nice idea of how many purchases each customer made in each category."
      ]
    },
    {
      "cell_type": "code",
      "metadata": {
        "colab_type": "code",
        "id": "kkyF7oHk3qfy",
        "colab": {}
      },
      "source": [
        "aggregations = {'Purchase': 'sum'}\n",
        "\n",
        "for i in range(1, 19):\n",
        "  col = \"PC_{}\".format(i)\n",
        "  aggregations[col] = 'sum'\n",
        "  \n",
        "data_by_user = data.groupby('User_ID').agg(aggregations)\n",
        "\n",
        "data_by_user.head()"
      ],
      "execution_count": 0,
      "outputs": []
    },
    {
      "cell_type": "markdown",
      "metadata": {
        "colab_type": "text",
        "id": "-Zc7hXJuLcZ7"
      },
      "source": [
        "### Perform Clustering\n",
        "\n",
        "We now have a nice data format containing purchasing information for each customer. To run k-means clustering on the data we simply load [k-means](https://scikit-learn.org/stable/modules/generated/sklearn.cluster.KMeans.html) from scikit-learn and ask the model to find a specific number of clusters for us.\n",
        "\n",
        "Notice that we are scaling the data. Our purchase total and category counts are very different in magnitude. In order not to give the purchase total too much weight we scale the values."
      ]
    },
    {
      "cell_type": "code",
      "metadata": {
        "colab_type": "code",
        "id": "5p2mvrZgMcQk",
        "colab": {}
      },
      "source": [
        "from sklearn.cluster import KMeans\n",
        "from sklearn.preprocessing import scale\n",
        "\n",
        "model = KMeans(n_clusters=10)\n",
        "model.fit(scale(data_by_user))\n",
        "\n",
        "print(model.inertia_)"
      ],
      "execution_count": 0,
      "outputs": []
    },
    {
      "cell_type": "markdown",
      "metadata": {
        "colab_type": "text",
        "id": "qRd--xi9MufR"
      },
      "source": [
        "We asked scikit-learn to create 10 clusters for us and we then printed out the `inertia_` for the resultant clusters. *Inertia* is the sum of the squared distances of samples to their closest cluster center. Typically, the smaller the inertia the better.\n",
        "\n",
        "But why did we choose 10 clusters? And is the inertia that we received reasonable?\n",
        "\n",
        "### Find the optimal number of clusters\n",
        "\n",
        "With just one run of the algorithm, it is difficult to tell how many clusters we should have an what an appropriate inertia value is. k-means is trying to discover things about your data that you do not know. Picking a number of clusters at random isn't the best way to use k-means.\n",
        "\n",
        "Instead, you should experiment with a few different cluster values and measure the inertia of each. As you increase the number of clusters, your inertia should decrease."
      ]
    },
    {
      "cell_type": "code",
      "metadata": {
        "colab_type": "code",
        "id": "kIwp4Bqb7GH0",
        "colab": {}
      },
      "source": [
        "from sklearn.cluster import KMeans\n",
        "from sklearn.preprocessing import scale\n",
        "import matplotlib.pyplot as plt\n",
        "\n",
        "clusters = list(range(5, 50, 5))\n",
        "inertias = []\n",
        "\n",
        "scaled_data = scale(data_by_user)\n",
        "\n",
        "for c in clusters:\n",
        "  model = KMeans(n_clusters=c)\n",
        "  model = model.fit(scaled_data)\n",
        "  inertias.append(model.inertia_)\n",
        "\n",
        "plt.plot(clusters, inertias)\n",
        "plt.show()"
      ],
      "execution_count": 0,
      "outputs": []
    },
    {
      "cell_type": "markdown",
      "metadata": {
        "colab_type": "text",
        "id": "95wkeNNHOcn6"
      },
      "source": [
        "The resulting graph should start high and to the left and curve down as the number of clusters grows. The initial slope is steep, but begins to level off. Your optimal number of clusters is somewhere in the [\"elbow\" of the graph](https://en.wikipedia.org/wiki/Elbow_method_(clustering)), as the slope levels.\n",
        "\n",
        "Once you have this number, you need to then check to see if the number is reasonable for your use case. Say that the 'optimal' number of clusters for our customer segmentation is 20. Is it reasonable to ask our marketing department to market to 20 distinct segments?\n",
        "\n",
        "And what makes the segments distinct? We only know that specific customers are clustered together. Was it due to age, or maybe purchase price? Perhaps the groups are formed based on unexpected combinations such as \"bought snack food and cosmetics and spent between $100-150\". What is a good name for that segment?\n",
        "\n",
        "Clustering the data is often just the start of your journey. Once you have clusters you'll need to look at each group and try to determine what makes them similar. What patterns did the clustering find, and will that clustering be useful to you?"
      ]
    },
    {
      "cell_type": "markdown",
      "metadata": {
        "colab_type": "text",
        "id": "t2ySDMeeP-6J"
      },
      "source": [
        "## Example: Classification of Digits\n",
        "\n",
        "Clustering for data exploration purposes can lead to interesting insights into your data, but clustering can also be used for classification purposes.\n",
        "\n",
        "In the example below we'll try to use k-means clustering to predict handwritten digits."
      ]
    },
    {
      "cell_type": "markdown",
      "metadata": {
        "colab_type": "text",
        "id": "QePSEGmwQY2W"
      },
      "source": [
        "### Load the data\n",
        "\n",
        "We'll load the digits dataset packaged with Scikit Learn."
      ]
    },
    {
      "cell_type": "code",
      "metadata": {
        "colab_type": "code",
        "id": "C9pGH4rfQUgA",
        "colab": {}
      },
      "source": [
        "from sklearn.datasets import load_digits\n",
        "\n",
        "digits = load_digits()"
      ],
      "execution_count": 0,
      "outputs": []
    },
    {
      "cell_type": "markdown",
      "metadata": {
        "colab_type": "text",
        "id": "5OTRl2plQgDi"
      },
      "source": [
        "### Scale the data\n",
        "\n",
        "It is a good practice to scale the data to ensure that outliers don't have too big of an impact on the clustering."
      ]
    },
    {
      "cell_type": "code",
      "metadata": {
        "colab_type": "code",
        "id": "t0aBmYGPQnri",
        "colab": {}
      },
      "source": [
        "from sklearn.preprocessing import scale\n",
        "\n",
        "scaled_digits = scale(digits.data)"
      ],
      "execution_count": 0,
      "outputs": []
    },
    {
      "cell_type": "markdown",
      "metadata": {
        "colab_type": "text",
        "id": "dwQ9Df4zQ_a_"
      },
      "source": [
        "### Fit a model\n",
        "\n",
        "We can then create a k-means model with 10 clusters (we know there are 10 digits from 0 through 9)."
      ]
    },
    {
      "cell_type": "code",
      "metadata": {
        "colab_type": "code",
        "id": "gZaOn2gRQzsu",
        "colab": {}
      },
      "source": [
        "from sklearn.cluster import KMeans\n",
        "\n",
        "model = KMeans(n_clusters=10)\n",
        "model = model.fit(scaled_digits)"
      ],
      "execution_count": 0,
      "outputs": []
    },
    {
      "cell_type": "markdown",
      "metadata": {
        "colab_type": "text",
        "id": "M0bCgYN_SCw5"
      },
      "source": [
        "### Make predictions\n",
        "\n",
        "We can then use the model to predict which category a data point belongs to.\n",
        "\n",
        "In the case below we'll just use some of the data that we trained with for illustrative purposes. The prediction will provide a numeric value."
      ]
    },
    {
      "cell_type": "code",
      "metadata": {
        "colab_type": "code",
        "id": "mpLDPTMyRm7i",
        "colab": {}
      },
      "source": [
        "cluster = model.predict([scaled_digits[0]])[0]\n",
        "\n",
        "cluster"
      ],
      "execution_count": 0,
      "outputs": []
    },
    {
      "cell_type": "markdown",
      "metadata": {
        "colab_type": "text",
        "id": "R_yDe1QZSaBj"
      },
      "source": [
        "What is this value? Is it the predicted digit?\n",
        "\n",
        "No. This number is the cluster that the model thinks the digit belongs to. To determine the predicted digit, we'll need to see what other digits are in the cluster and choose the most popular one for our classification.\n"
      ]
    },
    {
      "cell_type": "code",
      "metadata": {
        "colab_type": "code",
        "id": "RzccT4gMSxi2",
        "colab": {}
      },
      "source": [
        "import numpy as np\n",
        "\n",
        "labels = digits.target\n",
        "\n",
        "cluster_to_digit = [\n",
        "  np.argmax(\n",
        "      np.bincount(\n",
        "        np.array(\n",
        "          [labels[i] for i in range(len(model.labels_)) if model.labels_[i] == cluster]\n",
        "        )\n",
        "      )\n",
        "    ) for cluster in range(10)\n",
        "]\n",
        "\n",
        "cluster_to_digit"
      ],
      "execution_count": 0,
      "outputs": []
    },
    {
      "cell_type": "markdown",
      "metadata": {
        "colab_type": "text",
        "id": "LtBucdm7j9vQ"
      },
      "source": [
        "Here we can see the digit that each cluster represents."
      ]
    },
    {
      "cell_type": "markdown",
      "metadata": {
        "colab_type": "text",
        "id": "Y1aVtOwEVdQf"
      },
      "source": [
        "### Measure model quality\n",
        "\n",
        "If we do have labeled data, as is the case with our digits data, then we can measure the quality of our model using the [homogeneity](https://scikit-learn.org/stable/modules/generated/sklearn.metrics.homogeneity_score.html#sklearn.metrics.homogeneity_score_) score and the [completeness](https://scikit-learn.org/stable/modules/generated/sklearn.metrics.completeness_score.html#sklearn.metrics.completeness_score) score."
      ]
    },
    {
      "cell_type": "code",
      "metadata": {
        "colab_type": "code",
        "id": "r85vjdc0_l6S",
        "colab": {}
      },
      "source": [
        "from sklearn.metrics import homogeneity_score\n",
        "from sklearn.metrics import completeness_score\n",
        "\n",
        "homogeneity = homogeneity_score(labels, model.labels_)\n",
        "completeness = completeness_score(labels, model.labels_)\n",
        "homogeneity, completeness"
      ],
      "execution_count": 0,
      "outputs": []
    },
    {
      "cell_type": "markdown",
      "metadata": {
        "colab_type": "text",
        "id": "X5IZSU1OvPMN"
      },
      "source": [
        "# Exercises"
      ]
    },
    {
      "cell_type": "markdown",
      "metadata": {
        "colab_type": "text",
        "id": "sCkXnAZHXEUL"
      },
      "source": [
        "## Exercise 1"
      ]
    },
    {
      "cell_type": "markdown",
      "metadata": {
        "colab_type": "text",
        "id": "Pzwm9vnEkoAf"
      },
      "source": [
        "Load the [iris dataset](https://scikit-learn.org/stable/auto_examples/datasets/plot_iris_dataset.html), then create a k-means model with three clusters, and find the homogeneity and completeness scores for the model. "
      ]
    },
    {
      "cell_type": "markdown",
      "metadata": {
        "colab_type": "text",
        "id": "abvbIkWfvSl3"
      },
      "source": [
        "**Student Solution**"
      ]
    },
    {
      "cell_type": "code",
      "metadata": {
        "colab_type": "code",
        "id": "s3rLeWvIXhoo",
        "colab": {}
      },
      "source": [
        "# Your code goes here"
      ],
      "execution_count": 0,
      "outputs": []
    },
    {
      "cell_type": "markdown",
      "metadata": {
        "id": "qqSceBD3HDkU",
        "colab_type": "text"
      },
      "source": [
        "---"
      ]
    },
    {
      "cell_type": "markdown",
      "metadata": {
        "colab_type": "text",
        "id": "exercise-1-key-1"
      },
      "source": [
        "### Answer Key"
      ]
    },
    {
      "cell_type": "code",
      "metadata": {
        "colab_type": "code",
        "id": "W0hKgICDufmp",
        "colab": {}
      },
      "source": [
        "from sklearn.cluster import KMeans\n",
        "from sklearn.datasets import load_iris\n",
        "from sklearn.metrics import homogeneity_score\n",
        "from sklearn.metrics import completeness_score\n",
        "from sklearn.preprocessing import scale\n",
        "\n",
        "import numpy as np\n",
        "\n",
        "iris = load_iris()\n",
        "\n",
        "scaled_iris = scale(iris.data)\n",
        "\n",
        "model = KMeans(n_clusters=3)\n",
        "model = model.fit(scaled_iris)\n",
        "\n",
        "labels = iris.target\n",
        "\n",
        "cluster_to_species = [\n",
        "  np.argmax(\n",
        "      np.bincount(\n",
        "        np.array([\n",
        "                  labels[i]\n",
        "                  for i in range(len(model.labels_))\n",
        "                  if model.labels_[i] == cluster\n",
        "        ])\n",
        "      )\n",
        "    ) for cluster in range(3)\n",
        "]\n",
        "\n",
        "homogeneity = homogeneity_score(labels, model.labels_)\n",
        "completeness = completeness_score(labels, model.labels_)\n",
        "homogeneity, completeness"
      ],
      "execution_count": 0,
      "outputs": []
    },
    {
      "cell_type": "markdown",
      "metadata": {
        "id": "pg0Nc1gpHE1L",
        "colab_type": "text"
      },
      "source": [
        "---"
      ]
    },
    {
      "cell_type": "markdown",
      "metadata": {
        "colab_type": "text",
        "id": "fjo4qeMNYu1T"
      },
      "source": [
        "## Exercise 2"
      ]
    },
    {
      "cell_type": "markdown",
      "metadata": {
        "colab_type": "text",
        "id": "5VetIjZ1kqNk"
      },
      "source": [
        "Load the [iris dataset](https://scikit-learn.org/stable/auto_examples/datasets/plot_iris_dataset.html), then create a k-means model with three clusters using only two features. (Try to find the best two features for clustering.) Create a plot of the two features.\n",
        "\n",
        "For each datapoint in the chart use a [marker](https://matplotlib.org/api/markers_api.html) to encode the actual/correct species. For instance use a triangle for Setosa, a square for Versicolour, and a circle for Virginica). Color each marker green if the predicted class matches the actual. Color each marker red if the classes don't match."
      ]
    },
    {
      "cell_type": "markdown",
      "metadata": {
        "colab_type": "text",
        "id": "6ewsx_qWvXM8"
      },
      "source": [
        "**Student Solution**"
      ]
    },
    {
      "cell_type": "code",
      "metadata": {
        "colab_type": "code",
        "id": "Q-tgFdNHYuI5",
        "colab": {}
      },
      "source": [
        "# Your code goes here"
      ],
      "execution_count": 0,
      "outputs": []
    },
    {
      "cell_type": "markdown",
      "metadata": {
        "id": "eiHWlzVxHge1",
        "colab_type": "text"
      },
      "source": [
        "---"
      ]
    },
    {
      "cell_type": "markdown",
      "metadata": {
        "colab_type": "text",
        "id": "exercise-2-key-1"
      },
      "source": [
        "### Answer Key"
      ]
    },
    {
      "cell_type": "code",
      "metadata": {
        "colab_type": "code",
        "id": "rFTz3DxtuiGV",
        "colab": {}
      },
      "source": [
        "from sklearn.cluster import KMeans\n",
        "from sklearn.datasets import load_iris\n",
        "from sklearn.metrics import homogeneity_score\n",
        "from sklearn.metrics import completeness_score\n",
        "from sklearn.preprocessing import scale\n",
        "\n",
        "import matplotlib.pyplot as plt\n",
        "import numpy as np\n",
        "import pandas as pd\n",
        "\n",
        "iris = load_iris()\n",
        "\n",
        "scaled_iris = scale(iris.data)\n",
        "scaled_iris = np.array(scaled_iris)\n",
        "labels = iris.target\n",
        "\n",
        "highest_score, best_i, best_j = 0, 0, 0\n",
        "\n",
        "for i in range(3):\n",
        "  for j in range(3):\n",
        "    if i != j:\n",
        "      model = KMeans(n_clusters=3)\n",
        "      model = model.fit(\n",
        "          list(zip(np.array(iris.data)[:, i], np.array(iris.data)[:, j])))\n",
        "\n",
        "      homogeneity = homogeneity_score(labels, model.labels_)\n",
        "      completeness = completeness_score(labels, model.labels_)\n",
        "      combined_score = homogeneity + completeness\n",
        "\n",
        "      if combined_score > highest_score:\n",
        "        highest_score = combined_score\n",
        "        best_i = i\n",
        "        best_j = j\n",
        "\n",
        "cluster_to_species = [\n",
        "  np.argmax(\n",
        "      np.bincount(\n",
        "        np.array([\n",
        "                  labels[i]\n",
        "                  for i in range(len(model.labels_))\n",
        "                  if model.labels_[i] == cluster\n",
        "        ])\n",
        "      )\n",
        "    ) for cluster in range(3)\n",
        "]\n",
        "\n",
        "correct = [cluster_to_species[model.labels_[i]] == labels[i] \n",
        "           for i in range(len(model.labels_))]\n",
        "\n",
        "df = pd.DataFrame()\n",
        "iris_data = np.array(iris.data)\n",
        "\n",
        "df[iris.feature_names[best_i]] = iris_data[:, best_i]\n",
        "df[iris.feature_names[best_j]] = iris_data[:, best_j]\n",
        "df['species'] = labels\n",
        "df['predicted_species'] = [cluster_to_species[model.labels_[i]] for i in range(len(model.labels_))]\n",
        "\n",
        "MARKERS = ('^', 's', 'o')\n",
        "\n",
        "fig, ax = plt.subplots(figsize=(10, 10))\n",
        "\n",
        "for i in range(3):\n",
        "  selector = (df['species'] == i) & (df['predicted_species'] == i)\n",
        "  ax.scatter(\n",
        "      df[selector][iris.feature_names[best_i]],\n",
        "      df[selector][iris.feature_names[best_j]],\n",
        "      marker = MARKERS[i],\n",
        "      color = 'g',\n",
        "      label = iris.feature_names[i] + ' correct'\n",
        "  )\n",
        "  selector = (df['species'] == i) & (df['predicted_species'] != i)\n",
        "  ax.scatter(\n",
        "      df[selector][iris.feature_names[best_i]],\n",
        "      df[selector][iris.feature_names[best_j]],\n",
        "      marker = MARKERS[i],\n",
        "      color = 'r',\n",
        "      label = iris.feature_names[i] + ' incorrect'\n",
        "  )\n",
        "\n",
        "ax.legend()\n",
        "_ = plt.show()"
      ],
      "execution_count": 0,
      "outputs": []
    },
    {
      "cell_type": "markdown",
      "metadata": {
        "id": "1tJxZ8s0HhX6",
        "colab_type": "text"
      },
      "source": [
        "---"
      ]
    }
  ]
}
