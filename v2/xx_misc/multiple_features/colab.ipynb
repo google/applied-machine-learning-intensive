{
  "nbformat": 4,
  "nbformat_minor": 0,
  "metadata": {
    "colab": {
      "name": "WIP Multiple Features",
      "version": "0.3.2",
      "provenance": [],
      "private_outputs": true,
      "collapsed_sections": [
        "KK6_RsuJRyQq",
        "exercise-9-key-1"
      ],
      "toc_visible": true
    },
    "kernelspec": {
      "name": "python3",
      "display_name": "Python 3"
    }
  },
  "cells": [
    {
      "cell_type": "markdown",
      "metadata": {
        "id": "KK6_RsuJRyQq",
        "colab_type": "text"
      },
      "source": [
        "#### Copyright 2019 Google LLC."
      ]
    },
    {
      "cell_type": "code",
      "metadata": {
        "id": "RTgbZ3wBRwdJ",
        "colab_type": "code",
        "colab": {}
      },
      "source": [
        "# Licensed under the Apache License, Version 2.0 (the \"License\");\n",
        "# you may not use this file except in compliance with the License.\n",
        "# You may obtain a copy of the License at\n",
        "#\n",
        "# https://www.apache.org/licenses/LICENSE-2.0\n",
        "#\n",
        "# Unless required by applicable law or agreed to in writing, software\n",
        "# distributed under the License is distributed on an \"AS IS\" BASIS,\n",
        "# WITHOUT WARRANTIES OR CONDITIONS OF ANY KIND, either express or implied.\n",
        "# See the License for the specific language governing permissions and\n",
        "# limitations under the License."
      ],
      "execution_count": 0,
      "outputs": []
    },
    {
      "cell_type": "markdown",
      "metadata": {
        "id": "TKaiXlekR4gY",
        "colab_type": "text"
      },
      "source": [
        "# WIP Multiple Features"
      ]
    },
    {
      "cell_type": "markdown",
      "metadata": {
        "id": "c9C06EuT3mhd",
        "colab_type": "text"
      },
      "source": [
        "\n",
        "So far we have only done linear regressions with single features. It is possible to use multiple features to predict target values.\n",
        "\n",
        "Let's see the use of multiple features in action."
      ]
    },
    {
      "cell_type": "markdown",
      "metadata": {
        "colab_type": "text",
        "id": "bW7AVurPpb0u"
      },
      "source": [
        "## Overview"
      ]
    },
    {
      "cell_type": "markdown",
      "metadata": {
        "colab_type": "text",
        "id": "Bd2Zkk1LE2Zr"
      },
      "source": [
        "### Learning Objectives\n",
        "\n",
        "  * Regression with multiple features"
      ]
    },
    {
      "cell_type": "markdown",
      "metadata": {
        "colab_type": "text",
        "id": "MCw0L_c7pg0L"
      },
      "source": [
        "### Prerequisites\n",
        "\n",
        "* Intermediate Python\n",
        "* Intermediate Pandas\n",
        "* Linear Regression with scikit-learn"
      ]
    },
    {
      "cell_type": "markdown",
      "metadata": {
        "colab_type": "text",
        "id": "1GF_PMg4plQ-"
      },
      "source": [
        "### Estimated Duration\n",
        "\n",
        "60 minutes"
      ]
    },
    {
      "cell_type": "markdown",
      "metadata": {
        "colab_type": "text",
        "id": "4KJWVzfcpnBg"
      },
      "source": [
        "### Grading Criteria\n",
        "\n",
        "Each exercise is worth 3 points. The rubric for calculating those points is:\n",
        "\n",
        "| Points | Description |\n",
        "|--------|-------------|\n",
        "| 0      | No attempt at exercise |\n",
        "| 1      | Attempted exercise, but code does not run |\n",
        "| 2      | Attempted exercise, code runs, but produces incorrect answer |\n",
        "| 3      | Exercise completed successfully |\n",
        "\n",
        "There is no graded exercises in this Colab so there is 0 points available."
      ]
    },
    {
      "cell_type": "markdown",
      "metadata": {
        "id": "rmkqY0vq8wo3",
        "colab_type": "text"
      },
      "source": [
        "## Data"
      ]
    },
    {
      "cell_type": "markdown",
      "metadata": {
        "id": "4se5uIMKYqBh",
        "colab_type": "text"
      },
      "source": [
        "First we'll load the [Boston dataset](https://scikit-learn.org/stable/modules/generated/sklearn.datasets.load_boston.html) and convert it into a `DataFrame`.\n",
        "\n",
        "The Boston dataset is a tiny dataset that comes packaged with Scikit Learn. It is one of many [toy datasets](https://scikit-learn.org/stable/datasets/index.html) that can be useful for experimenting with machine learning.\n",
        "\n",
        "In the example below, we load the dataset and convert it into a `DataFrame`. The feature data and target data are stored separately in the loaded data. In this example we combine them into a single `DataFrame`. This isn't strictly required, but can make things like shuffling data and creating correlation matrices easier, so we go ahead and do it here."
      ]
    },
    {
      "cell_type": "code",
      "metadata": {
        "id": "KUQD3bG_RqJx",
        "colab_type": "code",
        "colab": {}
      },
      "source": [
        "import pandas as pd\n",
        "import numpy as np\n",
        "\n",
        "from sklearn.datasets import load_boston\n",
        "\n",
        "boston = load_boston()\n",
        "\n",
        "df = pd.DataFrame(data=np.c_[boston.data, boston.target], columns=np.append(boston.feature_names, 'TARGET'))\n",
        "\n",
        "df"
      ],
      "execution_count": 0,
      "outputs": []
    },
    {
      "cell_type": "markdown",
      "metadata": {
        "id": "PBZwmN0R82mj",
        "colab_type": "text"
      },
      "source": [
        "## LinearRegression"
      ]
    },
    {
      "cell_type": "markdown",
      "metadata": {
        "id": "ud2Vu_nnY2d-",
        "colab_type": "text"
      },
      "source": [
        "Next we train a `LinearRegression` model on more than one feature. It is as simple as passing `fit` a list of features with more than one element in the list."
      ]
    },
    {
      "cell_type": "code",
      "metadata": {
        "id": "pH-NatF6Y9FN",
        "colab_type": "code",
        "colab": {}
      },
      "source": [
        "from sklearn.linear_model import LinearRegression\n",
        "\n",
        "features = ['CRIM', 'ZN']\n",
        "\n",
        "lin_reg = LinearRegression()\n",
        "lin_reg.fit(df[features], df['TARGET'])"
      ],
      "execution_count": 0,
      "outputs": []
    },
    {
      "cell_type": "markdown",
      "metadata": {
        "id": "z8zrfTSIZFYN",
        "colab_type": "text"
      },
      "source": [
        "We can then check the [R-squared score](https://en.wikipedia.org/wiki/Coefficient_of_determination) for the model across the entire data set."
      ]
    },
    {
      "cell_type": "code",
      "metadata": {
        "id": "NY8FEFdGZKkR",
        "colab_type": "code",
        "colab": {}
      },
      "source": [
        "lin_reg.score(df[features], df['TARGET'])"
      ],
      "execution_count": 0,
      "outputs": []
    },
    {
      "cell_type": "markdown",
      "metadata": {
        "id": "_iobUxDGtdzE",
        "colab_type": "text"
      },
      "source": [
        "That is all there is to using multiple features in a linear regression.\n",
        "\n",
        "A few notes about this Colab:\n",
        "\n",
        "*  We didn't split out test data when training a model. Typically this is a bad practice, but the goal of this Colab was to show the use of multiple features and not how to properly build a model.\n",
        "* Adding features does not scale linearly. Behind the scenes Scikit Learn is using Singular Value Decomposition (SVD) to project the variance of the features into a single dimension for the model. This operation takes nearly $O(n^2)$ time, so two features takes about four times as long to process."
      ]
    },
    {
      "cell_type": "markdown",
      "metadata": {
        "id": "TAtpUUT089ED",
        "colab_type": "text"
      },
      "source": [
        "# Exercises"
      ]
    },
    {
      "cell_type": "markdown",
      "metadata": {
        "colab_type": "text",
        "id": "g3z6-Pon9MZR"
      },
      "source": [
        "## Exercise 1"
      ]
    },
    {
      "cell_type": "markdown",
      "metadata": {
        "id": "opPvHHfPvnVZ",
        "colab_type": "text"
      },
      "source": [
        "Scikit Learn has a [diabetes dataset](https://scikit-learn.org/stable/modules/generated/sklearn.datasets.load_diabetes.html#sklearn.datasets.load_diabetes) that works well for regression. Load this dataset into a `DataFrame` and take a few minutes to experiment with a different groupings of feature columns. Note the fit for each grouping. When you are done, save the model with the best fitting features."
      ]
    },
    {
      "cell_type": "markdown",
      "metadata": {
        "colab_type": "text",
        "id": "QK1tz626LjZU"
      },
      "source": [
        "### Student Solution"
      ]
    },
    {
      "cell_type": "code",
      "metadata": {
        "id": "1L7eH6CowjT8",
        "colab_type": "code",
        "colab": {}
      },
      "source": [
        "from sklearn.datasets import load_diabetes\n",
        "\n",
        "diabetes = load_diabetes()\n",
        "\n",
        "import numpy as np\n",
        "\n",
        "all_data = np.c_[diabetes.data, diabetes.target]\n",
        "\n",
        "all_names = diabetes.feature_names + ['target']\n",
        "\n",
        "import pandas as pd\n",
        "\n",
        "diabetes_df = pd.DataFrame(data=all_data, columns=all_names)\n",
        "\n",
        "from sklearn.linear_model import LinearRegression\n",
        "\n",
        "my_features = [\"age\", \"sex\", \"bmi\", \"s3\", \"s5\"]\n",
        "lr = LinearRegression()\n",
        "lr.fit(diabetes_df[my_features], diabetes_df[\"target\"])\n",
        "lr.score(diabetes_df[my_features], diabetes_df[\"target\"])"
      ],
      "execution_count": 0,
      "outputs": []
    },
    {
      "cell_type": "code",
      "metadata": {
        "id": "f3JG6ihaJRxU",
        "colab_type": "code",
        "colab": {}
      },
      "source": [
        "diabetes_df.corr()"
      ],
      "execution_count": 0,
      "outputs": []
    },
    {
      "cell_type": "markdown",
      "metadata": {
        "colab_type": "text",
        "id": "exercise-9-key-1"
      },
      "source": [
        "### Answer Key"
      ]
    },
    {
      "cell_type": "markdown",
      "metadata": {
        "colab_type": "text",
        "id": "exercise-9-solution-1"
      },
      "source": [
        "**Solution**"
      ]
    },
    {
      "cell_type": "code",
      "metadata": {
        "colab_type": "code",
        "id": "thpPZba4CCtP",
        "colab": {}
      },
      "source": [
        "# TODO"
      ],
      "execution_count": 0,
      "outputs": []
    },
    {
      "cell_type": "markdown",
      "metadata": {
        "colab_type": "text",
        "id": "dOwVBjU5Lq41"
      },
      "source": [
        "**Validation**"
      ]
    },
    {
      "cell_type": "code",
      "metadata": {
        "colab_type": "code",
        "id": "N-RroA16LsCm",
        "colab": {}
      },
      "source": [
        "# TODO"
      ],
      "execution_count": 0,
      "outputs": []
    }
  ]
}