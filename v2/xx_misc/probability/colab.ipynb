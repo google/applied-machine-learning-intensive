{
  "nbformat": 4,
  "nbformat_minor": 0,
  "metadata": {
    "colab": {
      "name": "Active Copy of Probability Exercises Part 1.ipynb",
      "provenance": [],
      "private_outputs": true,
      "collapsed_sections": [
        "copyright",
        "vTQ-c1BpY1mr",
        "uGNHmvcNal7B",
        "Tg4z4-snYuc_",
        "exercise-2-key-1",
        "DSQ03RLSI7Xj"
      ],
      "toc_visible": true
    },
    "kernelspec": {
      "name": "python3",
      "display_name": "Python 3"
    }
  },
  "cells": [
    {
      "cell_type": "markdown",
      "metadata": {
        "colab_type": "text",
        "id": "copyright"
      },
      "source": [
        "#### Copyright 2019 Google LLC."
      ]
    },
    {
      "cell_type": "code",
      "metadata": {
        "colab_type": "code",
        "id": "7PLP9Q30PKtv",
        "colab": {}
      },
      "source": [
        "# Licensed under the Apache License, Version 2.0 (the \"License\");\n",
        "# you may not use this file except in compliance with the License.\n",
        "# You may obtain a copy of the License at\n",
        "#\n",
        "# https://www.apache.org/licenses/LICENSE-2.0\n",
        "#\n",
        "# Unless required by applicable law or agreed to in writing, software\n",
        "# distributed under the License is distributed on an \"AS IS\" BASIS,\n",
        "# WITHOUT WARRANTIES OR CONDITIONS OF ANY KIND, either express or implied.\n",
        "# See the License for the specific language governing permissions and\n",
        "# limitations under the License."
      ],
      "execution_count": 0,
      "outputs": []
    },
    {
      "cell_type": "markdown",
      "metadata": {
        "colab_type": "text",
        "id": "evBbn0N5ec2H"
      },
      "source": [
        "# Probability"
      ]
    },
    {
      "cell_type": "markdown",
      "metadata": {
        "colab_type": "text",
        "id": "overview"
      },
      "source": [
        "## Overview"
      ]
    },
    {
      "cell_type": "markdown",
      "metadata": {
        "colab_type": "text",
        "id": "learning-objectives"
      },
      "source": [
        "### Learning Objectives\n",
        "\n",
        "* Know how to calculate the probability of an event from a probabiltiy distribution\n",
        "* Understand the definition of and how to calculate expected value\n",
        "* Be comfortable doing simple probability calculations and coding simple probability distributions"
      ]
    },
    {
      "cell_type": "markdown",
      "metadata": {
        "colab_type": "text",
        "id": "VZe4Xj9tyQRD"
      },
      "source": [
        "### Prerequisites\n",
        "\n",
        "* Track 02-01: Intro to Python \n",
        "* Track 02-03: Visualizations\n"
      ]
    },
    {
      "cell_type": "markdown",
      "metadata": {
        "colab_type": "text",
        "id": "duration"
      },
      "source": [
        "### Estimated Duration\n",
        "\n",
        "45 minutes"
      ]
    },
    {
      "cell_type": "markdown",
      "metadata": {
        "id": "VfB_QUVtQR0O",
        "colab_type": "text"
      },
      "source": [
        "# Uniform Probability Distributions"
      ]
    },
    {
      "cell_type": "markdown",
      "metadata": {
        "id": "YQ7LzcUPQXRV",
        "colab_type": "text"
      },
      "source": [
        "Rolling an unweighted die has a *uniform probability* -- that is, any specific side has equal probability.\n",
        "\n",
        "So, if we roll a six sided die, it is equally likely that any number will be rolled.\n",
        "\n",
        "Roll (r) | Probability $\\big($P(r)$\\big)$\n",
        ":---:|:---:\n",
        "1 | 1/6\n",
        "2 | 1/6\n",
        "3 | 1/6\n",
        "4 | 1/6\n",
        "5 | 1/6\n",
        "6 | 1/6"
      ]
    },
    {
      "cell_type": "markdown",
      "metadata": {
        "id": "oCgsI5oPQaco",
        "colab_type": "text"
      },
      "source": [
        "### Expected Value for Uniform Probability Distributions"
      ]
    },
    {
      "cell_type": "markdown",
      "metadata": {
        "id": "IPu9h8YNVldm",
        "colab_type": "text"
      },
      "source": [
        "\n",
        "For rolling dice, the expected value is the \"average\" roll. For uniform probabilities, we can simply compute the average of all possible outcomes:\n",
        "\n",
        "$\n",
        "E[r] = \\frac{\\sum_{r = 1}^6 r}{6} = 3.5\n",
        "$\n",
        "\n",
        "However, there is a little more going on behind the scenes here. In general, expected value is actually a weighted average, so expanding this computation we see that:\n",
        "\n",
        "\\begin{align*}\n",
        "E[r] &= \\sum_{r}r\\cdot P(r)\\\\\n",
        "&= (1 \\cdot 1/6) + (2 \\cdot 1/6) + (3 \\cdot 1/6) + (4 \\cdot 1/6) + (5 \\cdot 1/6) + (6 \\cdot 1/6) = 3.5\n",
        "\\end{align*}\n",
        "\n",
        "For uniform distribution, as each option does have the same probability, we can simplify the expected value to just be the average, but this is not the case for general distributions.\n",
        "\n",
        "Run the code below to see how expected value for dice rolls plays out in an experiment."
      ]
    },
    {
      "cell_type": "code",
      "metadata": {
        "id": "h91G8qU9idHy",
        "colab_type": "code",
        "colab": {}
      },
      "source": [
        "import random\n",
        "def roll6():\n",
        "  return random.randint(1, 6)\n",
        "\n",
        "my_sum = 0\n",
        "my_count = 0\n",
        "for x in range(1,10000):\n",
        "  my_sum = my_sum + roll6()\n",
        "  my_count = my_count + 1\n",
        "\n",
        "print(my_sum/my_count)"
      ],
      "execution_count": 0,
      "outputs": []
    },
    {
      "cell_type": "markdown",
      "metadata": {
        "id": "EJ7mvFA9RL3r",
        "colab_type": "text"
      },
      "source": [
        "# Non-Uniform Probability Distributions"
      ]
    },
    {
      "cell_type": "markdown",
      "metadata": {
        "id": "_MCzlYEPRQNl",
        "colab_type": "text"
      },
      "source": [
        "Not all probability distributions are uniform.\n",
        "\n",
        "Consider a sample university P.E. class:\n",
        "\n",
        "Student age (s) | Number of students (n) | Probability $\\big($P(s)$\\big)$\n",
        ":---:|:---:|:---:\n",
        "17 | 1  | 0.02\n",
        "18 | 7  | 0.14\n",
        "19 | 10 | 0.20\n",
        "20 | 11 | 0.22\n",
        "21 | 10 | 0.20\n",
        "22 | 6  | 0.12\n",
        "23 | 4  | 0.08\n",
        "26 | 1  | 0.02\n",
        "\n",
        "Here the expected age of a student is\n",
        "\\begin{align*}\n",
        "E[s] &= 17\\cdot0.02 + 18\\cdot0.14 + 19\\cdot0.20+20\\cdot0.22 + 21\\cdot0.20 + 22\\cdot0.12 + 23\\cdot0.08 + 26\\cdot0.02\\\\\n",
        "&= 20.26\n",
        "\\end{align*}"
      ]
    },
    {
      "cell_type": "markdown",
      "metadata": {
        "id": "MPdDQ8MhlnlU",
        "colab_type": "text"
      },
      "source": [
        "### Example: Dice Attacks\n",
        "\n",
        "Say we are playing a classic role playing game where weapon damage is calculated by rolling dice. \n",
        "\n",
        "For one attack, the damage is equal to rolling one 6 sided die and one 12 sided die.\n",
        "\n",
        "$$\n",
        "E[\\text{Attack #1}] = E[6\\text{-Sided} + 12\\text{-Sided}] = E[6\\text{-Sided}] + E[12\\text{-Sided}] = 3.5 + 6.5 = 10\n",
        "$$\n",
        "\n",
        "\n",
        "1.   Note that the expected value of rolling a 12-sided die is *not* twice the expected value of rolling a 6-sided die!)\n",
        "\n",
        "2.   Recall that the expected value of a sum is the sum of the expected values!\n",
        "\n",
        "\n",
        "\n",
        "For the other, the damage is equal to rolling two 8 sided dice. \n",
        "\n",
        "$\n",
        "E[\\text{Attack #2}] = 2\\cdot E[8\\text{-Sided}] = 2\\cdot4.5 = 9\n",
        "$\n",
        "\n",
        "Based on these calculations, the first spell would be the better choice. \n",
        "\n",
        "However, let's say you have a special option where, for one of the 8-sided dice, if you roll below a 5 you can say it was a 5.\n",
        "\n",
        "That is, attack values come from the function that gives us:\n",
        "\n",
        "Roll | Attack Value\n",
        ":---:|:---:\n",
        "1 | 5\n",
        "2 | 5\n",
        "3 | 5\n",
        "4 | 5\n",
        "5 | 5\n",
        "6 | 6\n",
        "7 | 7\n",
        "8 | 8\n",
        "\n",
        "Now, we have a different distribution for the probability of a given attack value:\n",
        "\n",
        "Attack Value | Probability\n",
        ":---:|:---:\n",
        "5 | 5/8\n",
        "6 | 1/8\n",
        "7 | 1/8\n",
        "8 | 1/8\n",
        "\n",
        "Thus, the expected value for the first 8 sided die is \n",
        "\n",
        "$\n",
        "E[8\\text{-Sided with Attack Bonus}] = (5\\cdot5/8) + (6\\cdot1/8) + (7\\cdot1/8) + (8\\cdot1/8) = 5.75\n",
        "$\n",
        "\n",
        "Since we could only do this for one die, the expected value for the second 8 sided die does not change so the expected value of the second attack is now\n",
        "\n",
        "$\n",
        "E[\\text{Attack #2 with bonus}] = 5.75 + 4.5 = 10.25\n",
        "$\n",
        "\n",
        "Making the second attack the better choice."
      ]
    },
    {
      "cell_type": "markdown",
      "metadata": {
        "colab_type": "text",
        "id": "Swt2fxm-fG_B"
      },
      "source": [
        "# Exercises: Halloween Chocolate\n"
      ]
    },
    {
      "cell_type": "markdown",
      "metadata": {
        "id": "gB2-EI5P6blT",
        "colab_type": "text"
      },
      "source": [
        "## No. 15 Crescent Way\n"
      ]
    },
    {
      "cell_type": "markdown",
      "metadata": {
        "colab_type": "text",
        "id": "d-co0aAXvjw4"
      },
      "source": [
        "At No. 15 Crescent Way, residents give out a random chocolate bar from a bag with five kinds of chocolate bars: Kit Kat bars, Milky Way bars, Snickers bar, Toblerone bars, and Twix bars.\n",
        "\n",
        "The bag does not have an equal number of each bar, so the probability of getting a specific bar is\n",
        "$$P(\\text{chocolate bar of type } X) = \\begin{cases}\n",
        "0.2 & X =\\text{Kit Kat}\\\\\n",
        "0.3 & X =\\text{Milky Way}\\\\\n",
        "0.15 & X =\\text{Snickers}\\\\\n",
        "0.05 & X =\\text{Toblerone}\\\\\n",
        "0.3 & X =\\text{Twix}\\\\\n",
        "0 & \\text{otherwise}\n",
        "\\end{cases}$$"
      ]
    },
    {
      "cell_type": "markdown",
      "metadata": {
        "colab_type": "text",
        "id": "5mHPD4gvYKLG"
      },
      "source": [
        "## Exercise 1"
      ]
    },
    {
      "cell_type": "markdown",
      "metadata": {
        "colab_type": "text",
        "id": "q-4IEfMbYKLI"
      },
      "source": [
        "What is the probability of getting a Toblerone or a Milky Way?"
      ]
    },
    {
      "cell_type": "markdown",
      "metadata": {
        "colab_type": "text",
        "id": "6odeoxA4YZqQ"
      },
      "source": [
        "### Student Solution"
      ]
    },
    {
      "cell_type": "markdown",
      "metadata": {
        "id": "mzgrbwk4Y25C",
        "colab_type": "text"
      },
      "source": [
        "Your answer here"
      ]
    },
    {
      "cell_type": "markdown",
      "metadata": {
        "colab_type": "text",
        "id": "vTQ-c1BpY1mr"
      },
      "source": [
        "### Answer Key"
      ]
    },
    {
      "cell_type": "markdown",
      "metadata": {
        "colab_type": "text",
        "id": "sd4ESogmY1ms"
      },
      "source": [
        "**Solution**"
      ]
    },
    {
      "cell_type": "markdown",
      "metadata": {
        "id": "-RVrCWqAY7-2",
        "colab_type": "text"
      },
      "source": [
        "$P(\\text{Toblerone or Milky Way}) = P(\\text{Toblerone}) + P(\\text{Milky Way}) = 0.05 + 0.3 = 0.35$"
      ]
    },
    {
      "cell_type": "code",
      "metadata": {
        "id": "tzzaIzUbaHGA",
        "colab_type": "code",
        "colab": {}
      },
      "source": [
        "answer = 0.35"
      ],
      "execution_count": 0,
      "outputs": []
    },
    {
      "cell_type": "markdown",
      "metadata": {
        "colab_type": "text",
        "id": "Cegg8ignY1mt"
      },
      "source": [
        "**Validation**"
      ]
    },
    {
      "cell_type": "code",
      "metadata": {
        "id": "bYinG3MtaGMg",
        "colab_type": "code",
        "colab": {}
      },
      "source": [
        "assert answer == 0.35"
      ],
      "execution_count": 0,
      "outputs": []
    },
    {
      "cell_type": "markdown",
      "metadata": {
        "colab_type": "text",
        "id": "kj2ZMQT-YZqO"
      },
      "source": [
        "## Exercise 2"
      ]
    },
    {
      "cell_type": "markdown",
      "metadata": {
        "colab_type": "text",
        "id": "v5_-qcUYYZqM"
      },
      "source": [
        "If you get two bars, what is the probability that you get a Snickers and a Twix?"
      ]
    },
    {
      "cell_type": "markdown",
      "metadata": {
        "colab_type": "text",
        "id": "Rs6h3KeMYZqJ"
      },
      "source": [
        "### Student Solution"
      ]
    },
    {
      "cell_type": "markdown",
      "metadata": {
        "id": "bDhDF5R5AvQm",
        "colab_type": "text"
      },
      "source": [
        "Your answer here"
      ]
    },
    {
      "cell_type": "markdown",
      "metadata": {
        "colab_type": "text",
        "id": "uGNHmvcNal7B"
      },
      "source": [
        "### Answer Key"
      ]
    },
    {
      "cell_type": "markdown",
      "metadata": {
        "colab_type": "text",
        "id": "zhGm7UHmal7E"
      },
      "source": [
        "**Solution**"
      ]
    },
    {
      "cell_type": "markdown",
      "metadata": {
        "colab_type": "text",
        "id": "BNMdZ8Y_al7E"
      },
      "source": [
        "$P(\\text{Snickers and Twix}) = P(\\text{Snickers})P(\\text{Twix}) + P(\\text{Twix})P(\\text{Snickers})= 2\\cdot0.15 \\cdot 0.3 = 0.09$"
      ]
    },
    {
      "cell_type": "code",
      "metadata": {
        "colab_type": "code",
        "id": "vvSr8WEual7F",
        "colab": {}
      },
      "source": [
        "answer = 0.09"
      ],
      "execution_count": 0,
      "outputs": []
    },
    {
      "cell_type": "markdown",
      "metadata": {
        "colab_type": "text",
        "id": "DM_2-4aIal7H"
      },
      "source": [
        "**Validation**"
      ]
    },
    {
      "cell_type": "code",
      "metadata": {
        "colab_type": "code",
        "id": "POeDUj1sal7I",
        "colab": {}
      },
      "source": [
        "assert answer == 0.09"
      ],
      "execution_count": 0,
      "outputs": []
    },
    {
      "cell_type": "markdown",
      "metadata": {
        "colab_type": "text",
        "id": "iWq38ASlb2aY"
      },
      "source": [
        "## Exercise 3"
      ]
    },
    {
      "cell_type": "markdown",
      "metadata": {
        "colab_type": "text",
        "id": "08TkYi1Yobq9"
      },
      "source": [
        "Write a short Python program that allows you to simulate giving out random chocolate bars.\n",
        "\n",
        "Generate data for giving out 1000 random chocolate bars, and visualize the results.\n",
        "\n",
        ">***Hint:*** Consider using [Python's random.choices function](https://docs.python.org/3/library/random.html) "
      ]
    },
    {
      "cell_type": "markdown",
      "metadata": {
        "colab_type": "text",
        "id": "eKS_GsFa-5Q_"
      },
      "source": [
        "### Student Solution"
      ]
    },
    {
      "cell_type": "code",
      "metadata": {
        "colab_type": "code",
        "id": "jkam75BLTBrm",
        "colab": {}
      },
      "source": [
        "# Your answer goes here"
      ],
      "execution_count": 0,
      "outputs": []
    },
    {
      "cell_type": "markdown",
      "metadata": {
        "colab_type": "text",
        "id": "Tg4z4-snYuc_"
      },
      "source": [
        "### Answer Key"
      ]
    },
    {
      "cell_type": "markdown",
      "metadata": {
        "colab_type": "text",
        "id": "exercise-1-solution-1"
      },
      "source": [
        "**Solution**"
      ]
    },
    {
      "cell_type": "code",
      "metadata": {
        "id": "2Nv178zEA0GR",
        "colab_type": "code",
        "colab": {}
      },
      "source": [
        "import random\n",
        "import numpy as np\n",
        "import matplotlib.pyplot as plt\n",
        "\n",
        "def getChocBars(numBars = 1000):\n",
        "  \"\"\" Gets a chocolate bar from No. 15 Crescent Way numBars number of times.\n",
        "      \n",
        "      Returns a dictionary storing the number of bars of eah type.\n",
        "  \"\"\"\n",
        "  \n",
        "  # A dictionary to store the number of bars we get of each type.\n",
        "  chocBars = {\"Kit Kat\"  : [0.20, 0],\n",
        "              \"Milky Way\": [0.30, 0],\n",
        "              \"Snickers\" : [0.15, 0],\n",
        "              \"Toblerone\": [0.05, 0],\n",
        "              \"Twix\"     : [0.30, 0]\n",
        "             }\n",
        "  barProbs = [chocBars[key][0] for key in chocBars]\n",
        "    \n",
        "  # Get numBars chocolate bars from No. 15 Crescent Way\n",
        "  getBars = random.choices(list(chocBars.keys()), weights=barProbs, k=numBars)  \n",
        "  for bar in getBars:\n",
        "    chocBars[bar][1] += 1\n",
        " \n",
        "  return {key:chocBars[key][1] for key in chocBars}\n",
        "\n",
        "def graphChocBars(numBars = 1000):\n",
        "  chocBarsToGraph = getChocBars(numBars)\n",
        "  N = len(chocBarsToGraph)\n",
        "\n",
        "  ind = np.arange(N)\n",
        "  barHeights = list(chocBarsToGraph.values())\n",
        "  xLabels = list(chocBarsToGraph.keys())\n",
        "  yAxisHeight = max(barHeights)\n",
        "  width = 0.5\n",
        "\n",
        "  plt.bar(ind, barHeights, align='center')\n",
        "\n",
        "  plt.ylabel('Number of Chocolate Bars')\n",
        "  plt.title('Chocolate Bars from No. 15 Crescent Way')\n",
        "  plt.xticks(ind, xLabels)\n",
        "  plt.yticks(np.arange(0, yAxisHeight, yAxisHeight//10))\n",
        "  plt.show()\n",
        "\n",
        "  return chocBarsToGraph\n",
        "\n",
        "# Call the function. Assign the output dictionary to a variable so that we\n",
        "# can use it again in Exercise 5.\n",
        "answerChocBars = graphChocBars(1000)"
      ],
      "execution_count": 0,
      "outputs": []
    },
    {
      "cell_type": "markdown",
      "metadata": {
        "colab_type": "text",
        "id": "jv6F4nYJ-9DB"
      },
      "source": [
        "**Validation**"
      ]
    },
    {
      "cell_type": "markdown",
      "metadata": {
        "colab_type": "text",
        "id": "6ODqhnKqcJrJ"
      },
      "source": [
        "## Exercise 4"
      ]
    },
    {
      "cell_type": "markdown",
      "metadata": {
        "colab_type": "text",
        "id": "G2pA1LZRodtq"
      },
      "source": [
        "\n",
        "Each chocolate bar has a 5-star popularity rating, indicating how happy people are to get that bar:\n",
        "$$\\text{Popularity}(\\text{chocolate bar of type } X) = \\begin{cases}\n",
        "3 & X =\\text{Kit Kat}\\\\\n",
        "2.5 & X =\\text{Milky Way}\\\\\n",
        "2.5 & X =\\text{Snickers}\\\\\n",
        "5 & X =\\text{Toblerone}\\\\\n",
        "4.5 & X =\\text{Twix}\\\\\n",
        "\\end{cases}$$\n",
        "\n",
        "Given these popularity ratings, what is the expected popularity of a random chocolate bar from No. 15 Crescent Way?"
      ]
    },
    {
      "cell_type": "markdown",
      "metadata": {
        "colab_type": "text",
        "id": "BPWFM3cZ_Abw"
      },
      "source": [
        "### Student Solution"
      ]
    },
    {
      "cell_type": "code",
      "metadata": {
        "colab_type": "code",
        "id": "87woiPHCD6Ft",
        "colab": {}
      },
      "source": [
        "# Your answer goes here\n",
        "answer = \"\"\" your answer \"\"\""
      ],
      "execution_count": 0,
      "outputs": []
    },
    {
      "cell_type": "markdown",
      "metadata": {
        "colab_type": "text",
        "id": "exercise-2-key-1"
      },
      "source": [
        "### Answer Key"
      ]
    },
    {
      "cell_type": "markdown",
      "metadata": {
        "colab_type": "text",
        "id": "exercise-2-solution-1"
      },
      "source": [
        "**Solution**"
      ]
    },
    {
      "cell_type": "markdown",
      "metadata": {
        "id": "YmjyCGNq1uZ8",
        "colab_type": "text"
      },
      "source": [
        "\\begin{align*}E[\\text{Popularity}(X)] &= \\displaystyle\\sum_{x}\\text{Popularity}(x)P(x)\\\\ \n",
        "&= 3(0.2) + 2.5(0.3) + 2.5(0.15) + 5(0.05) + 4.5(0.3)\\\\\n",
        "&= 3.325\n",
        "\\end{align*}"
      ]
    },
    {
      "cell_type": "code",
      "metadata": {
        "colab_type": "code",
        "id": "ndn3cSwhdCKv",
        "colab": {}
      },
      "source": [
        "answer = 3.325"
      ],
      "execution_count": 0,
      "outputs": []
    },
    {
      "cell_type": "markdown",
      "metadata": {
        "colab_type": "text",
        "id": "loqM9kP3_Hqo"
      },
      "source": [
        "**Validation**"
      ]
    },
    {
      "cell_type": "code",
      "metadata": {
        "colab_type": "code",
        "id": "4hDVk296cz2a",
        "colab": {}
      },
      "source": [
        "assert answer == 3.325"
      ],
      "execution_count": 0,
      "outputs": []
    },
    {
      "cell_type": "markdown",
      "metadata": {
        "colab_type": "text",
        "id": "gvKyuwz9eGwD"
      },
      "source": [
        "## Exercise 5"
      ]
    },
    {
      "cell_type": "markdown",
      "metadata": {
        "colab_type": "text",
        "id": "Y9ifjMVHoggU"
      },
      "source": [
        "Using your results from Exercise 1, determine the average popularity of your experimental data. How does this compare to the expected chocolate bar popularity?"
      ]
    },
    {
      "cell_type": "markdown",
      "metadata": {
        "colab_type": "text",
        "id": "x_457LlU_KZR"
      },
      "source": [
        "### Student Solution"
      ]
    },
    {
      "cell_type": "code",
      "metadata": {
        "id": "g0jrpOdRJCOq",
        "colab_type": "code",
        "colab": {}
      },
      "source": [
        "# Your solution here"
      ],
      "execution_count": 0,
      "outputs": []
    },
    {
      "cell_type": "markdown",
      "metadata": {
        "colab_type": "text",
        "id": "DSQ03RLSI7Xj"
      },
      "source": [
        "### Answer Key"
      ]
    },
    {
      "cell_type": "markdown",
      "metadata": {
        "colab_type": "text",
        "id": "eyH_0EnzI7Xk"
      },
      "source": [
        "**Solution**"
      ]
    },
    {
      "cell_type": "code",
      "metadata": {
        "colab_type": "code",
        "id": "DMPhBzPCI050",
        "colab": {}
      },
      "source": [
        "def popularityBars(chocBars = answerChocBars):\n",
        "  \"\"\" Input a dictionary of chocolate bar types and their counts.\n",
        "      Outputs the average popularity of the sample choclate bars.\n",
        "  \"\"\"\n",
        "  # A dictionary identifying the popularity of each chocolate bar type.\n",
        "  chocBarPops = {\"Kit Kat\"  : 3,\n",
        "                 \"Milky Way\": 2.5,\n",
        "                 \"Snickers\" : 2.5,\n",
        "                 \"Toblerone\": 5,\n",
        "                 \"Twix\"     : 4.5\n",
        "                }\n",
        "\n",
        "  numBars = sum(chocBars.values())\n",
        "\n",
        "  sumPop = 0\n",
        "  for bar in chocBars:\n",
        "    frequencyBar = chocBars[bar]/numBars\n",
        "    sumPop += chocBarPops[bar]*frequencyBar\n",
        " \n",
        "  return sumPop\n",
        "\n",
        "# Call the function\n",
        "popularityBars()"
      ],
      "execution_count": 0,
      "outputs": []
    },
    {
      "cell_type": "markdown",
      "metadata": {
        "id": "SSh4zLlDKt-f",
        "colab_type": "text"
      },
      "source": [
        "We expect this value to be close to the answer in Exercise 4 since we have a large number of samples, so our experimental mean should be close to the experimental mean."
      ]
    }
  ]
}
