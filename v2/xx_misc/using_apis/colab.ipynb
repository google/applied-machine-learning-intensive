{
  "nbformat": 4,
  "nbformat_minor": 0,
  "metadata": {
    "colab": {
      "name": "Web Crawling and Scraping - Part 1",
      "provenance": [],
      "private_outputs": true,
      "collapsed_sections": [
        "copyright",
        "exercise-1-key-1"
      ],
      "toc_visible": true
    },
    "kernelspec": {
      "display_name": "Python 3",
      "name": "python3"
    }
  },
  "cells": [
    {
      "cell_type": "markdown",
      "metadata": {
        "colab_type": "text",
        "id": "copyright"
      },
      "source": [
        "#### Copyright 2019 Google LLC."
      ]
    },
    {
      "cell_type": "code",
      "metadata": {
        "colab_type": "code",
        "id": "7PLP9Q30PKtv",
        "colab": {}
      },
      "source": [
        "# Licensed under the Apache License, Version 2.0 (the \"License\");\n",
        "# you may not use this file except in compliance with the License.\n",
        "# You may obtain a copy of the License at\n",
        "#\n",
        "# https://www.apache.org/licenses/LICENSE-2.0\n",
        "#\n",
        "# Unless required by applicable law or agreed to in writing, software\n",
        "# distributed under the License is distributed on an \"AS IS\" BASIS,\n",
        "# WITHOUT WARRANTIES OR CONDITIONS OF ANY KIND, either express or implied.\n",
        "# See the License for the specific language governing permissions and\n",
        "# limitations under the License."
      ],
      "execution_count": 0,
      "outputs": []
    },
    {
      "cell_type": "markdown",
      "metadata": {
        "colab_type": "text",
        "id": "f5W9rkuBmBu9"
      },
      "source": [
        "# Web Crawling and Scraping"
      ]
    },
    {
      "cell_type": "markdown",
      "metadata": {
        "colab_type": "text",
        "id": "zIykBQbYXrXA"
      },
      "source": [
        "In this module you will learn how to pull and parse data from a restricted public API."
      ]
    },
    {
      "cell_type": "markdown",
      "metadata": {
        "colab_type": "text",
        "id": "vSwFn8YlaDL2"
      },
      "source": [
        "## Overview"
      ]
    },
    {
      "cell_type": "markdown",
      "metadata": {
        "colab_type": "text",
        "id": "xHVHPJhSaEEM"
      },
      "source": [
        "### Learning Objectives\n",
        "\n",
        "* Authentication with Spotify and Genius API\n",
        "* Authentication with Google Storage\n",
        "* Crawling the Spotify index\n",
        "* Crawling the Genius index\n",
        "* Parsing data from a json response\n",
        "* Scraping data from an html response"
      ]
    },
    {
      "cell_type": "markdown",
      "metadata": {
        "colab_type": "text",
        "id": "gGrUipVEawYy"
      },
      "source": [
        "### Prerequisites\n",
        "\n",
        "* Intermediate Python\n",
        "* Cloud Access"
      ]
    },
    {
      "cell_type": "markdown",
      "metadata": {
        "colab_type": "text",
        "id": "0bExBYnwa7i2"
      },
      "source": [
        "### Estimated Duration\n",
        "\n",
        "90 minutes"
      ]
    },
    {
      "cell_type": "markdown",
      "metadata": {
        "colab_type": "text",
        "id": "SavoD7IUa-vY"
      },
      "source": [
        "### Grading Criteria\n",
        "\n",
        "Each exercise is worth 3 points. The rubric for calculating those points is:\n",
        "\n",
        "| Points | Description |\n",
        "|--------|-------------|\n",
        "| 0      | No attempt at exercise |\n",
        "| 1      | Attempted exercise, but code does not run |\n",
        "| 2      | Attempted exercise, code runs, but produces incorrect answer |\n",
        "| 3      | Exercise completed successfully |\n",
        "\n",
        "There are 1 exercises in this Colab so there are 3 points available. The grading scale will be 3 points."
      ]
    },
    {
      "cell_type": "markdown",
      "metadata": {
        "colab_type": "text",
        "id": "G8u2lYRWbE37"
      },
      "source": [
        "## Web Crawling and Scraping"
      ]
    },
    {
      "cell_type": "markdown",
      "metadata": {
        "colab_type": "text",
        "id": "-Vi3O347bIWz"
      },
      "source": [
        "Why do we need to crawl the web?  Aren't there datasets out there?\n",
        "\n",
        "There are datasets to learn, and conduct research on, but the best experiments and models are tested on new data.  Since new data is constantly being created on the internet, data collection is always in demand.  \n",
        "\n",
        "How are datasets created in the first place?  The answer is through a tedious process of manual labeling.  [Mechanical Turk](https://www.mturk.com/) is a service that allows you to crowdsource data labeling, amongst other tasks.\n",
        "\n",
        "Another way we can obtain labeled data is through web crawling and scraping.\n",
        "\n"
      ]
    },
    {
      "cell_type": "code",
      "metadata": {
        "id": "J_RxMqdryDNo",
        "colab_type": "code",
        "colab": {}
      },
      "source": [
        "# install spotipy library to access spotify api\n",
        "!pip install spotipy"
      ],
      "execution_count": 0,
      "outputs": []
    },
    {
      "cell_type": "markdown",
      "metadata": {
        "id": "WXzrC3CtyQxF",
        "colab_type": "text"
      },
      "source": [
        "## Set up your Spotify API key\n",
        "\n",
        "1. Navigate to https://developer.spotify.com/dashboard/\n",
        "\n",
        "2. Create a ***free*** Spotify account if you don't have one.\n",
        "3. Register an application under your account.\n",
        "\n"
      ]
    },
    {
      "cell_type": "code",
      "metadata": {
        "id": "374rb2ybzoXE",
        "colab_type": "code",
        "colab": {}
      },
      "source": [
        "#Spotify#\n",
        "SPOTIPY_CLIENT_ID = \"38ec4b86f0a04836abb241281abc657d\"\n",
        "SPOTIPY_CLIENT_SECRET = \"2dad51c31ae84a86b8036d257b85d5a6\"\n",
        "REDIRECT_URI = \"http://localhost:8888/callback\"\n",
        "SCOPE = {\"account\": \"user-read-private\", \"top\": \"user-top-read\", \"email\": \"user-read-email\"}"
      ],
      "execution_count": 0,
      "outputs": []
    },
    {
      "cell_type": "code",
      "metadata": {
        "id": "sjFaAvSoxve7",
        "colab_type": "code",
        "colab": {}
      },
      "source": [
        "from spotipy.oauth2 import SpotifyClientCredentials\n",
        "from spotipy import Spotify"
      ],
      "execution_count": 0,
      "outputs": []
    },
    {
      "cell_type": "code",
      "metadata": {
        "id": "WpqXBpdtyOQ7",
        "colab_type": "code",
        "colab": {}
      },
      "source": [
        "client_credentials_manager = SpotifyClientCredentials(client_id=SPOTIPY_CLIENT_ID, client_secret=SPOTIPY_CLIENT_SECRET)\n",
        "sp = Spotify(client_credentials_manager=client_credentials_manager)\n",
        "sp.trace=False"
      ],
      "execution_count": 0,
      "outputs": []
    },
    {
      "cell_type": "code",
      "metadata": {
        "id": "tSlwjJ2j56Ri",
        "colab_type": "code",
        "colab": {}
      },
      "source": [
        "#@title Download and artist image\n",
        "\n",
        "from PIL import Image\n",
        "from urllib.request import urlretrieve\n",
        "from IPython.display import Image\n",
        "\n",
        "def get_image_url(name):\n",
        "  results = sp.search(q='artist:' + name, type='artist')\n",
        "  items = results['artists']['items']\n",
        "  if len(items) > 0:\n",
        "      artist = items[0]\n",
        "      url = artist['name'], artist['images'][0]['url']\n",
        "      return url\n",
        "  else:\n",
        "    return \"no response\"\n",
        "\n",
        "artist_name = 'eminem' #@param {type:\"string\"}\n",
        "url = get_image_url(artist_name)[1]\n",
        "\n",
        "file_name = 'downloaded_image.jpg'\n",
        "urlretrieve(url, file_name)\n",
        "Image(filename=file_name)"
      ],
      "execution_count": 0,
      "outputs": []
    },
    {
      "cell_type": "markdown",
      "metadata": {
        "id": "DxoAzLdUB9fq",
        "colab_type": "text"
      },
      "source": [
        "## Send image to google storage\n",
        "\n",
        "First authenticate your account."
      ]
    },
    {
      "cell_type": "code",
      "metadata": {
        "id": "BvycN0MxCBvt",
        "colab_type": "code",
        "colab": {}
      },
      "source": [
        "from google.colab import auth\n",
        "auth.authenticate_user()"
      ],
      "execution_count": 0,
      "outputs": []
    },
    {
      "cell_type": "code",
      "metadata": {
        "id": "DR7RneI36RIA",
        "colab_type": "code",
        "colab": {}
      },
      "source": [
        "# Set Project ID\n",
        "project_id = 'spotify-amli'\n",
        "\n",
        "# generate unique id for bucket_name\n",
        "import uuid\n",
        "bucket_name = 'colab-sample-bucket-' + str(uuid.uuid1())"
      ],
      "execution_count": 0,
      "outputs": []
    },
    {
      "cell_type": "markdown",
      "metadata": {
        "id": "-1IOFHzgCZyx",
        "colab_type": "text"
      },
      "source": [
        "### Upload using Python"
      ]
    },
    {
      "cell_type": "code",
      "metadata": {
        "id": "aGSoEr_fB8TH",
        "colab_type": "code",
        "colab": {}
      },
      "source": [
        "from googleapiclient.discovery import build\n",
        "gcs_service = build('storage', 'v1')"
      ],
      "execution_count": 0,
      "outputs": []
    },
    {
      "cell_type": "markdown",
      "metadata": {
        "id": "hLwuiO0ZCs1D",
        "colab_type": "text"
      },
      "source": [
        "### Create Bucket"
      ]
    },
    {
      "cell_type": "code",
      "metadata": {
        "id": "DhlwB87IBagJ",
        "colab_type": "code",
        "colab": {}
      },
      "source": [
        "# Use a different globally-unique bucket name from the gsutil example above.\n",
        "import uuid\n",
        "bucket_name = 'colab-sample-bucket-' + str(uuid.uuid1())\n",
        "\n",
        "body = {\n",
        "  'name': bucket_name,\n",
        "  # For a full list of locations, see:\n",
        "  # https://cloud.google.com/storage/docs/bucket-locations\n",
        "  'location': 'us',\n",
        "}\n",
        "gcs_service.buckets().insert(project=project_id, body=body).execute()\n",
        "print('Done')"
      ],
      "execution_count": 0,
      "outputs": []
    },
    {
      "cell_type": "markdown",
      "metadata": {
        "id": "WeYpUFaoEcA5",
        "colab_type": "text"
      },
      "source": [
        "### Upload File to new bucket"
      ]
    },
    {
      "cell_type": "code",
      "metadata": {
        "id": "8wGeHM3k-f7y",
        "colab_type": "code",
        "colab": {}
      },
      "source": [
        "from googleapiclient.http import MediaFileUpload\n",
        "\n",
        "media = MediaFileUpload('downloaded_image.jpg', \n",
        "                        mimetype='image/jpeg',\n",
        "                        resumable=True)\n",
        "\n",
        "request = gcs_service.objects().insert(bucket=bucket_name, \n",
        "                                       name='uploaded.jpg',\n",
        "                                       media_body=media)\n",
        "\n",
        "response = None\n",
        "while response is None:\n",
        "  # _ is a placeholder for a progress object that we ignore.\n",
        "  # (Our file is small, so we skip reporting progress.)\n",
        "  _, response = request.next_chunk()\n",
        "\n",
        "print('Upload complete')"
      ],
      "execution_count": 0,
      "outputs": []
    },
    {
      "cell_type": "markdown",
      "metadata": {
        "id": "6inSJW0WDmF3",
        "colab_type": "text"
      },
      "source": [
        "### Download file from new bucket"
      ]
    },
    {
      "cell_type": "code",
      "metadata": {
        "id": "9yrpsQL8D0gb",
        "colab_type": "code",
        "colab": {}
      },
      "source": [
        "from apiclient.http import MediaIoBaseDownload\n",
        "\n",
        "with open('downloaded.jpg', 'wb') as f:\n",
        "  request = gcs_service.objects().get_media(bucket=bucket_name,\n",
        "                                            object='uploaded.jpg')\n",
        "  media = MediaIoBaseDownload(f, request)\n",
        "\n",
        "  done = False\n",
        "  while not done:\n",
        "    # _ is a placeholder for a progress object that we ignore.\n",
        "    # (Our file is small, so we skip reporting progress.)\n",
        "    _, done = media.next_chunk()\n",
        "\n",
        "print('Download complete')"
      ],
      "execution_count": 0,
      "outputs": []
    },
    {
      "cell_type": "markdown",
      "metadata": {
        "id": "vol0Y1KtEENQ",
        "colab_type": "text"
      },
      "source": [
        "### Finally Inspect Image"
      ]
    },
    {
      "cell_type": "code",
      "metadata": {
        "id": "0uP56PAwDDc2",
        "colab_type": "code",
        "colab": {}
      },
      "source": [
        "Image(filename='downloaded.jpg')"
      ],
      "execution_count": 0,
      "outputs": []
    },
    {
      "cell_type": "markdown",
      "metadata": {
        "id": "P8HAlQEAEyXk",
        "colab_type": "text"
      },
      "source": [
        "## Find a track title from an album and download lyrics\n",
        "\n",
        "1. Query artist of interest\n",
        "2. Query albums from that artist\n",
        "3. Query songs from an album"
      ]
    },
    {
      "cell_type": "code",
      "metadata": {
        "id": "f7-ul5nGFYX0",
        "colab_type": "code",
        "colab": {}
      },
      "source": [
        "#@title Download track titles from an album\n",
        "\n",
        "from PIL import Image\n",
        "from urllib.request import urlretrieve\n",
        "from IPython.display import Image\n",
        "\n",
        "def get_artists(name):\n",
        "  results = sp.search(q='artist:' + name, type='artist')\n",
        "  items = results['artists']['items']\n",
        "  if len(items) > 0:\n",
        "      artist = items[0]\n",
        "      return artist\n",
        "  else:\n",
        "    return \"no response\"\n",
        "\n",
        "artist_name = 'john legend' #@param {type:\"string\"}\n",
        "artists = get_artists(artist_name)\n",
        "\n",
        "print(artists['uri'])\n",
        "\n",
        "def get_albums(uri):\n",
        "  results = sp.artist_albums(uri)\n",
        "  return results  "
      ],
      "execution_count": 0,
      "outputs": []
    },
    {
      "cell_type": "markdown",
      "metadata": {
        "id": "_ZDuwOx0HjKF",
        "colab_type": "text"
      },
      "source": [
        "## Get albums"
      ]
    },
    {
      "cell_type": "code",
      "metadata": {
        "id": "JN7pUgYNVbB2",
        "colab_type": "code",
        "colab": {}
      },
      "source": [
        "results = sp.artist_albums(artists['uri'], album_type='album')"
      ],
      "execution_count": 0,
      "outputs": []
    },
    {
      "cell_type": "code",
      "metadata": {
        "id": "-EtdL73CVm8L",
        "colab_type": "code",
        "colab": {}
      },
      "source": [
        "albums = results['items']"
      ],
      "execution_count": 0,
      "outputs": []
    },
    {
      "cell_type": "markdown",
      "metadata": {
        "id": "8ccXH5rgV9kY",
        "colab_type": "text"
      },
      "source": [
        "### Crawl the next 20"
      ]
    },
    {
      "cell_type": "code",
      "metadata": {
        "id": "c6rBHdelVyRf",
        "colab_type": "code",
        "colab": {}
      },
      "source": [
        "while results['next']:\n",
        "    results = sp.next(results)\n",
        "    albums.extend(results['items'])"
      ],
      "execution_count": 0,
      "outputs": []
    },
    {
      "cell_type": "code",
      "metadata": {
        "id": "svNyJxRUUffy",
        "colab_type": "code",
        "colab": {}
      },
      "source": [
        "album_names = [(item['name'], item['uri']) for item in albums]"
      ],
      "execution_count": 0,
      "outputs": []
    },
    {
      "cell_type": "markdown",
      "metadata": {
        "id": "tIOD3rzaHmip",
        "colab_type": "text"
      },
      "source": [
        "## Get tracks"
      ]
    },
    {
      "cell_type": "code",
      "metadata": {
        "id": "Gu8TgI_Jf74k",
        "colab_type": "code",
        "colab": {}
      },
      "source": [
        "def get_tracks(album_id):\n",
        "  results = sp.album_tracks(album_id)\n",
        "  return results\n",
        "\n",
        "tracks = get_tracks(album_id)"
      ],
      "execution_count": 0,
      "outputs": []
    },
    {
      "cell_type": "code",
      "metadata": {
        "id": "kR5tcaoPgn4c",
        "colab_type": "code",
        "colab": {}
      },
      "source": [
        "track_names = [tracks['items'][i]['name'] for i in range(len(tracks['items']))]\n",
        "track_names"
      ],
      "execution_count": 0,
      "outputs": []
    },
    {
      "cell_type": "markdown",
      "metadata": {
        "id": "J5LdJk9Kh0gx",
        "colab_type": "text"
      },
      "source": [
        "## Create Genius API key at\n",
        "\n",
        "https://genius.com/developers"
      ]
    },
    {
      "cell_type": "code",
      "metadata": {
        "id": "9HG8Iy4RmIFs",
        "colab_type": "code",
        "colab": {}
      },
      "source": [
        "import requests\n",
        "\n",
        "def request_song_info(song_title, artist_name):\n",
        "    base_url = 'https://api.genius.com'\n",
        "    headers = {'Authorization': 'Bearer ' + 'h3dXZsiA82uG64McuHwx1KaUv7rNrD02q7pWjLP_Lao76IN3QWQpTm8xEpPSxdyX'}\n",
        "    search_url = base_url + '/search'\n",
        "    data = {'q': song_title + ' ' + artist_name}\n",
        "    response = requests.get(search_url, data=data, headers=headers)\n",
        "\n",
        "    return response"
      ],
      "execution_count": 0,
      "outputs": []
    },
    {
      "cell_type": "markdown",
      "metadata": {
        "id": "d0RwLBcjl74S",
        "colab_type": "text"
      },
      "source": [
        "## Query Genius API"
      ]
    },
    {
      "cell_type": "code",
      "metadata": {
        "id": "h4hKEHwHnxAQ",
        "colab_type": "code",
        "colab": {}
      },
      "source": [
        "artist_name = artists['name']\n",
        "song_title = track_names[0]\n",
        "response = request_song_info(song_title, artist_name)\n",
        "\n",
        "request_song_info(song_title, artist_name)    \n",
        "json = response.json()\n",
        "remote_song_info = None\n",
        "\n",
        "\n",
        "\n",
        "for hit in json['response']['hits']:\n",
        "    if artist_name.lower() in hit['result']['primary_artist']['name'].lower():\n",
        "        remote_song_info = hit\n",
        "        break"
      ],
      "execution_count": 0,
      "outputs": []
    },
    {
      "cell_type": "code",
      "metadata": {
        "id": "5OnpWZCJDDf4",
        "colab_type": "code",
        "colab": {}
      },
      "source": [
        "remote_song_info"
      ],
      "execution_count": 0,
      "outputs": []
    },
    {
      "cell_type": "markdown",
      "metadata": {
        "id": "o_Y94oIxmD_M",
        "colab_type": "text"
      },
      "source": [
        "## Get Genius song url"
      ]
    },
    {
      "cell_type": "code",
      "metadata": {
        "id": "7h0QZFYer75p",
        "colab_type": "code",
        "colab": {}
      },
      "source": [
        "# Extract lyrics from URL if the song was found\n",
        "if remote_song_info:\n",
        "    song_url = remote_song_info['result']['url']"
      ],
      "execution_count": 0,
      "outputs": []
    },
    {
      "cell_type": "markdown",
      "metadata": {
        "id": "UjqEaj7YmJnJ",
        "colab_type": "text"
      },
      "source": [
        "## Use bs4 to parse lyrics from html"
      ]
    },
    {
      "cell_type": "code",
      "metadata": {
        "id": "RKuagV7_s5K7",
        "colab_type": "code",
        "colab": {}
      },
      "source": [
        "from bs4 import BeautifulSoup\n",
        "\n",
        "def scrap_song_url(url):\n",
        "    page = requests.get(url)\n",
        "    html = BeautifulSoup(page.text, 'html.parser')\n",
        "    lyrics = html.find('div', class_='lyrics').get_text()\n",
        "\n",
        "    return lyrics"
      ],
      "execution_count": 0,
      "outputs": []
    },
    {
      "cell_type": "code",
      "metadata": {
        "id": "2c8n5jMYs_7z",
        "colab_type": "code",
        "colab": {}
      },
      "source": [
        "lyrics = scrap_song_url(song_url)\n",
        "print(lyrics)"
      ],
      "execution_count": 0,
      "outputs": []
    },
    {
      "cell_type": "markdown",
      "metadata": {
        "id": "FtRMwLyZmU_c",
        "colab_type": "text"
      },
      "source": [
        "## Create a data object"
      ]
    },
    {
      "cell_type": "code",
      "metadata": {
        "id": "LL8LxCtV2L3d",
        "colab_type": "code",
        "colab": {}
      },
      "source": [
        "import pandas as pd\n",
        "\n",
        "data = {\n",
        "    'artist_name': artist_name, \n",
        "    'song_title': song_title,\n",
        "    'lyrics': lyrics,\n",
        "    }\n",
        "\n",
        "df = pd.DataFrame([data])\n",
        "\n",
        "df"
      ],
      "execution_count": 0,
      "outputs": []
    },
    {
      "cell_type": "markdown",
      "metadata": {
        "id": "n_9VsHj0mZWf",
        "colab_type": "text"
      },
      "source": [
        "## Create a csv and upload to Google Storage"
      ]
    },
    {
      "cell_type": "code",
      "metadata": {
        "id": "DCBKY5izJpBA",
        "colab_type": "code",
        "colab": {}
      },
      "source": [
        "df.to_csv(f'{artist_name}_{song_title}.csv', header=0)"
      ],
      "execution_count": 0,
      "outputs": []
    },
    {
      "cell_type": "code",
      "metadata": {
        "id": "uG12ODtFX6Xj",
        "colab_type": "code",
        "colab": {}
      },
      "source": [
        "!ls"
      ],
      "execution_count": 0,
      "outputs": []
    },
    {
      "cell_type": "code",
      "metadata": {
        "id": "yBDEYvHZMAHU",
        "colab_type": "code",
        "colab": {}
      },
      "source": [
        "from googleapiclient.http import MediaFileUpload\n",
        "import uuid\n",
        "\n",
        "# Set Project ID\n",
        "project_id = 'spotify-amli'\n",
        "\n",
        "bucket_name = 'lyrics-bucket-' + str(uuid.uuid1())\n",
        "\n",
        "body = {\n",
        "  'name': bucket_name,\n",
        "  # For a full list of locations, see:\n",
        "  # https://cloud.google.com/storage/docs/bucket-locations\n",
        "  'location': 'us',\n",
        "}\n",
        "gcs_service.buckets().insert(project=project_id, body=body).execute()\n",
        "print('Done')\n",
        "\n",
        "media = MediaFileUpload(f'{artist_name}_{song_title}.csv', \n",
        "                        mimetype='text/csv',\n",
        "                        resumable=True)\n",
        "\n",
        "request = gcs_service.objects().insert(bucket=bucket_name, \n",
        "                                       name='sample_lyrics.csv',\n",
        "                                       media_body=media)\n",
        "\n",
        "response = None\n",
        "while response is None:\n",
        "  # _ is a placeholder for a progress object that we ignore.\n",
        "  # (Our file is small, so we skip reporting progress.)\n",
        "  _, response = request.next_chunk()\n",
        "\n",
        "print('Upload complete')"
      ],
      "execution_count": 0,
      "outputs": []
    },
    {
      "cell_type": "markdown",
      "metadata": {
        "colab_type": "text",
        "id": "5WFLU7hWbO8_"
      },
      "source": [
        "# Resources\n",
        "\n",
        "* [BS4](https://www.crummy.com/software/BeautifulSoup/bs4/doc/): A Python library for parsing html documents.\n",
        "\n",
        "* [Spotipy](https://spotipy.readthedocs.io/en/latest/#installation): a Python wrapper for the spotify API.\n",
        "\n",
        "* [Genius](https://genius.com/api-clients): An API library for music lyrics and other metadata."
      ]
    },
    {
      "cell_type": "markdown",
      "metadata": {
        "colab_type": "text",
        "id": "Swt2fxm-fG_B"
      },
      "source": [
        "# Exercises"
      ]
    },
    {
      "cell_type": "markdown",
      "metadata": {
        "colab_type": "text",
        "id": "iWq38ASlb2aY"
      },
      "source": [
        "## Exercise 1"
      ]
    },
    {
      "cell_type": "markdown",
      "metadata": {
        "colab_type": "text",
        "id": "iWq38ASlb2aX"
      },
      "source": [
        "Download all the lyrics from your favorite artist."
      ]
    },
    {
      "cell_type": "markdown",
      "metadata": {
        "colab_type": "text",
        "id": "CYZEXNK1VDIJ"
      },
      "source": [
        "### Student Solution"
      ]
    },
    {
      "cell_type": "code",
      "metadata": {
        "colab_type": "code",
        "id": "TI_WxOyjcfNu",
        "colab": {}
      },
      "source": [
        "# Your answer goes here"
      ],
      "execution_count": 0,
      "outputs": []
    },
    {
      "cell_type": "markdown",
      "metadata": {
        "colab_type": "text",
        "id": "exercise-1-key-1"
      },
      "source": [
        "### Answer Key"
      ]
    },
    {
      "cell_type": "markdown",
      "metadata": {
        "colab_type": "text",
        "id": "exercise-1-solution-1"
      },
      "source": [
        "**Solution**"
      ]
    },
    {
      "cell_type": "code",
      "metadata": {
        "colab_type": "code",
        "id": "AKb-7oqrcfox",
        "colab": {}
      },
      "source": [
        "# Put the recommended solution here; if there is more than one \"good\" solution\n",
        "# that you think students should know put those solutions in subsequent code\n",
        "# boxes with \"# Solution\" in the first line."
      ],
      "execution_count": 0,
      "outputs": []
    },
    {
      "cell_type": "markdown",
      "metadata": {
        "colab_type": "text",
        "id": "5EndkJMJVKjw"
      },
      "source": [
        "**Validation**"
      ]
    },
    {
      "cell_type": "code",
      "metadata": {
        "colab_type": "code",
        "id": "SgzIrUK1dFdQ",
        "colab": {}
      },
      "source": [
        "# If the solution can be auto-graded, perform the autograding here."
      ],
      "execution_count": 0,
      "outputs": []
    }
  ]
}