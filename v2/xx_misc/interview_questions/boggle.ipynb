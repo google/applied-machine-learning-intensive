{
 "cells": [
  {
   "cell_type": "markdown",
   "metadata": {
    "colab_type": "text",
    "id": "copyright"
   },
   "source": [
    "#### Copyright 2019 Google LLC."
   ]
  },
  {
   "cell_type": "code",
   "execution_count": 0,
   "metadata": {
    "colab": {},
    "colab_type": "code",
    "id": "h8rAl_sPizbx"
   },
   "outputs": [],
   "source": [
    "# Licensed under the Apache License, Version 2.0 (the \"License\");\n",
    "# you may not use this file except in compliance with the License.\n",
    "# You may obtain a copy of the License at\n",
    "#\n",
    "# https://www.apache.org/licenses/LICENSE-2.0\n",
    "#\n",
    "# Unless required by applicable law or agreed to in writing, software\n",
    "# distributed under the License is distributed on an \"AS IS\" BASIS,\n",
    "# WITHOUT WARRANTIES OR CONDITIONS OF ANY KIND, either express or implied.\n",
    "# See the License for the specific language governing permissions and\n",
    "# limitations under the License."
   ]
  },
  {
   "cell_type": "markdown",
   "metadata": {
    "colab_type": "text",
    "id": "_CQv90NzRuE7"
   },
   "source": [
    "# Coding Interview: Boggle"
   ]
  },
  {
   "cell_type": "markdown",
   "metadata": {
    "colab_type": "text",
    "id": "_CQv90NzRXE7"
   },
   "source": [
    "In this colab we'll implement a solver for the Boggle game."
   ]
  },
  {
   "cell_type": "markdown",
   "metadata": {
    "colab_type": "text",
    "id": "overview"
   },
   "source": [
    "## Overview"
   ]
  },
  {
   "cell_type": "markdown",
   "metadata": {
    "colab_type": "text",
    "id": "learning-objectives"
   },
   "source": [
    "### Learning Objectives\n",
    "\n",
    "* TODO(joshmcadams)"
   ]
  },
  {
   "cell_type": "markdown",
   "metadata": {
    "colab_type": "text",
    "id": "VZe4Xj9tyQRD"
   },
   "source": [
    "### Prerequisites\n",
    "\n",
    "* TODO(joshmcadams)"
   ]
  },
  {
   "cell_type": "markdown",
   "metadata": {
    "colab_type": "text",
    "id": "duration"
   },
   "source": [
    "### Estimated Duration\n",
    "\n",
    "60 minutes"
   ]
  },
  {
   "cell_type": "markdown",
   "metadata": {
    "colab_type": "text",
    "id": "ZzMSyQFXQIsv"
   },
   "source": [
    "# Exercises"
   ]
  },
  {
   "cell_type": "markdown",
   "metadata": {
    "colab_type": "text",
    "id": "E2ePuPKUKcJT"
   },
   "source": [
    "Scroll down to \"Full Boggle Solution\" to see the complete solution. The subsections below show the step by step."
   ]
  },
  {
   "cell_type": "markdown",
   "metadata": {
    "colab_type": "text",
    "id": "S6sLuG4G_dGD"
   },
   "source": [
    "## Exercise 1: Find All Words"
   ]
  },
  {
   "cell_type": "markdown",
   "metadata": {
    "colab_type": "text",
    "id": "eCkaPh4BQQYT"
   },
   "source": [
    "Boggle is a game where random letters are shown on a 4x4 game board (16 letters total). Players find words on the board by chaining letters that share an edge (no diagonals, just up, down, left, and right). A letter cannot be used twice in the same word. A word must be at least three characters.\n",
    "\n",
    "You need to write a Python function that finds all valid words on a Boggle board.\n",
    "\n",
    "You have a `EnglishDictionary` object that tells you if a sequence of letters is a valid english word.\n",
    "\n",
    "Your function needs to return a sorted list of all unique words that are on the Boggle board."
   ]
  },
  {
   "cell_type": "markdown",
   "metadata": {
    "colab_type": "text",
    "id": "62ycV6eoQRX6"
   },
   "source": [
    "### Student Solution"
   ]
  },
  {
   "cell_type": "code",
   "execution_count": 0,
   "metadata": {
    "colab": {},
    "colab_type": "code",
    "id": "NKeeLUGBBR1W"
   },
   "outputs": [],
   "source": [
    "import random\n",
    "\n",
    "class EnglishDictionary():\n",
    "  def IsValidWord(self, word):\n",
    "    # Randomly say that about 3% of the word checks\n",
    "    # are for a valid word. This is a placeholder for\n",
    "    # code that actually does dictionary lookups. \n",
    "    return random.randint(0, 100) < 3\n",
    "\n",
    "english_dictionary = EnglishDictionary()\n",
    "\n",
    "game_board = [\n",
    "  ['A', 'T', 'B', 'C'],\n",
    "  ['Y', 'E', 'G', 'R'],\n",
    "  ['P', 'U', 'T', 'T'],\n",
    "  ['B', 'I', 'N', 'W'],\n",
    "]\n",
    "\n",
    "\n",
    "### YOUR CODE HERE ###\n",
    "\n",
    "def GetAllWords(game_board, english_dictionary):\n",
    "  pass"
   ]
  },
  {
   "cell_type": "markdown",
   "metadata": {
    "colab_type": "text",
    "id": "exercise-1-key-1"
   },
   "source": [
    "### Answer Key"
   ]
  },
  {
   "cell_type": "markdown",
   "metadata": {
    "colab_type": "text",
    "id": "NYN5v6wWQWSm"
   },
   "source": [
    "**Solution**"
   ]
  },
  {
   "cell_type": "code",
   "execution_count": 0,
   "metadata": {
    "colab": {},
    "colab_type": "code",
    "id": "Ljz00bGpAoN1"
   },
   "outputs": [],
   "source": [
    "import random\n",
    "\n",
    "class EnglishDictionaryMock():\n",
    "  def is_valid_word(self, word):\n",
    "    # Randomly say that about 3% of the word checks\n",
    "    # are for a valid word. This is a placeholder for\n",
    "    # code that actually does dictionary lookups. \n",
    "    return random.randint(0, 100) < 3\n",
    "\n",
    "random_dictionary = EnglishDictionaryMock()\n",
    "\n",
    "sample_board = [\n",
    "  ['A', 'T', 'B', 'C'],\n",
    "  ['Y', 'E', 'G', 'R'],\n",
    "  ['P', 'U', 'T', 'T'],\n",
    "  ['B', 'I', 'N', 'W'],\n",
    "]\n",
    "\n",
    "def get_all_words(game_board, dictionary):\n",
    "  size = len(game_board)\n",
    "  visited = [[False]*size for _ in range(size)]\n",
    "  words_found = set()\n",
    "  temp_word = []\n",
    "  for i in range(size):\n",
    "    for j in range(size):\n",
    "      dfs(game_board, dictionary, visited, words_found, i, j, temp_word)\n",
    "  return words_found\n",
    "\n",
    "def dfs(game_board, dictionary, visited, words_found, i, j, temp_word):\n",
    "  visited[i][j] = True\n",
    "  temp_word.append(game_board[i][j])\n",
    "\n",
    "  w = ''.join(temp_word)\n",
    "  if len(temp_word) >= 3 and dictionary.is_valid_word(w):\n",
    "    words_found.add(w)\n",
    "  \n",
    "  adjacent = [(i-1, j), (i+1, j), (i, j-1), (i, j+1)]\n",
    "  size = len(game_board)\n",
    "  for row, col in adjacent:\n",
    "    if (row in range(size)) and (col in range(size)) and (not visited[row][col]):\n",
    "      dfs(game_board, dictionary, visited, words_found, row, col, temp_word)\n",
    "  \n",
    "  temp_word.pop()\n",
    "  visited[i][j] = False\n",
    "  \n",
    "print(get_all_words(sample_board, random_dictionary))"
   ]
  },
  {
   "cell_type": "markdown",
   "metadata": {
    "colab_type": "text",
    "id": "VWmMs6VWQZAN"
   },
   "source": [
    "**Validation**"
   ]
  },
  {
   "cell_type": "code",
   "execution_count": 0,
   "metadata": {
    "colab": {},
    "colab_type": "code",
    "id": "XiXfn9a5QaSZ"
   },
   "outputs": [],
   "source": [
    "# TODO"
   ]
  },
  {
   "cell_type": "markdown",
   "metadata": {
    "colab_type": "text",
    "id": "d-4gCBppB03t"
   },
   "source": [
    "## Exercise 2: Generate The Game Board"
   ]
  },
  {
   "cell_type": "markdown",
   "metadata": {
    "colab_type": "text",
    "id": "Rn0MIpg1Qgpp"
   },
   "source": [
    "In the example above we hard-coded letters in the game board. Find a way to randomly generate a game board with letters between, and including, 'A' and 'Z'. Also allow the size of the game board to be specified by passing in a single number that represents the number of rows and columns."
   ]
  },
  {
   "cell_type": "markdown",
   "metadata": {
    "colab_type": "text",
    "id": "KsowAAc0QhWj"
   },
   "source": [
    "### Student Solution"
   ]
  },
  {
   "cell_type": "code",
   "execution_count": 0,
   "metadata": {
    "colab": {},
    "colab_type": "code",
    "id": "7dn316n3Bjhg"
   },
   "outputs": [],
   "source": [
    "def GenerateGameBoard(size=4):\n",
    "  pass\n",
    "\n",
    "game_board = GenerateGameBoard(5)"
   ]
  },
  {
   "cell_type": "markdown",
   "metadata": {
    "colab_type": "text",
    "id": "exercise-2-key-1"
   },
   "source": [
    "### Answer Key"
   ]
  },
  {
   "cell_type": "markdown",
   "metadata": {
    "colab_type": "text",
    "id": "rTZIhZsgQsca"
   },
   "source": [
    "**Solution**"
   ]
  },
  {
   "cell_type": "code",
   "execution_count": 0,
   "metadata": {
    "colab": {},
    "colab_type": "code",
    "id": "Qma8NUlpCBPT"
   },
   "outputs": [],
   "source": [
    "from random import choice\n",
    "from string import ascii_uppercase\n",
    "\n",
    "def generate_game_board(size=4):\n",
    "  return [[choice(ascii_uppercase) for _ in range(size)] for _ in range(size)]\n",
    "\n",
    "\n",
    "def print_game_board(board):\n",
    "  for row in board:\n",
    "    print(row)\n",
    "\n",
    "    \n",
    "game_board = generate_game_board(5)\n",
    "print_game_board(game_board)"
   ]
  },
  {
   "cell_type": "markdown",
   "metadata": {
    "colab_type": "text",
    "id": "F35MJELWQukS"
   },
   "source": [
    "**Validation**"
   ]
  },
  {
   "cell_type": "code",
   "execution_count": 0,
   "metadata": {
    "colab": {},
    "colab_type": "code",
    "id": "rgCL44vCQwBo"
   },
   "outputs": [],
   "source": [
    "# TODO"
   ]
  },
  {
   "cell_type": "markdown",
   "metadata": {
    "colab_type": "text",
    "id": "-BgD7OBWCTbg"
   },
   "source": [
    "## Exercise 3: Use A Real Dictionary"
   ]
  },
  {
   "cell_type": "markdown",
   "metadata": {
    "colab_type": "text",
    "id": "MzWh73euQ4Em"
   },
   "source": [
    "Find an English language dictionary that you can upload to the colab. Using Python open the dictionary and use it to implement a real working implementation of `IsValidWord(word)`."
   ]
  },
  {
   "cell_type": "markdown",
   "metadata": {
    "colab_type": "text",
    "id": "fkkUZrbfQ4p8"
   },
   "source": [
    "### Student Solution"
   ]
  },
  {
   "cell_type": "code",
   "execution_count": 0,
   "metadata": {
    "colab": {},
    "colab_type": "code",
    "id": "nJO2iT-eB1G2"
   },
   "outputs": [],
   "source": [
    "### YOUR CODE HERE ###\n",
    "\n",
    "class EnglishDictionary():\n",
    "  def __init(self):\n",
    "    pass # You'll probably want to load the dictionary here\n",
    "    \n",
    "  def IsValidWord(self, word):\n",
    "    pass"
   ]
  },
  {
   "cell_type": "markdown",
   "metadata": {
    "colab_type": "text",
    "id": "exercise-3-key-1"
   },
   "source": [
    "### Answer Key"
   ]
  },
  {
   "cell_type": "markdown",
   "metadata": {
    "colab_type": "text",
    "id": "ehpNEk0jQ8Q2"
   },
   "source": [
    "**Solution**"
   ]
  },
  {
   "cell_type": "code",
   "execution_count": 0,
   "metadata": {
    "colab": {},
    "colab_type": "code",
    "id": "wgZyL0ckCkeF"
   },
   "outputs": [],
   "source": [
    "from urllib.request import urlopen\n",
    "\n",
    "\"\"\"EnglishDictionary implements a list of valid words with 3 or more letters \n",
    "from a given url using a set (constant lookup, but can't check prefix)\n",
    "\"\"\"\n",
    "class EnglishDictionary():\n",
    "  def __init__(self, url):\n",
    "    self._valid_words = set(line.decode('utf-8').strip().upper() for line in urlopen(url) if len(line) > 3)\n",
    "      \n",
    "  def is_valid_word(self, word):\n",
    "    return word.upper() in self._valid_words\n"
   ]
  },
  {
   "cell_type": "markdown",
   "metadata": {
    "colab_type": "text",
    "id": "My6ZlNpqQ-nZ"
   },
   "source": [
    "**Validation**"
   ]
  },
  {
   "cell_type": "code",
   "execution_count": 0,
   "metadata": {
    "colab": {},
    "colab_type": "code",
    "id": "wWTCLVvpQ_9H"
   },
   "outputs": [],
   "source": [
    "# TODO"
   ]
  },
  {
   "cell_type": "markdown",
   "metadata": {
    "colab_type": "text",
    "id": "hy0cuvwwCyoT"
   },
   "source": [
    "## Exercise 4: Bringing It All Together"
   ]
  },
  {
   "cell_type": "markdown",
   "metadata": {
    "colab_type": "text",
    "id": "0eJqN-J3RD9h"
   },
   "source": [
    "Now that you have a game board generator, a working dictionary, and a word finder, write some code to create a game board of size 10 and then print all of the words."
   ]
  },
  {
   "cell_type": "markdown",
   "metadata": {
    "colab_type": "text",
    "id": "l31Q1T7hRFp5"
   },
   "source": [
    "### Student Solution"
   ]
  },
  {
   "cell_type": "code",
   "execution_count": 0,
   "metadata": {
    "colab": {},
    "colab_type": "code",
    "id": "N29qi9t6BszV"
   },
   "outputs": [],
   "source": [
    "### YOUR CODE HERE ###\n",
    "\n",
    "\n",
    "# Test\n",
    "\n",
    "# 1: Generate Board\n",
    "SIZE = 5\n",
    "game = generate_game_board(SIZE)\n",
    "print_game_board(game)\n"
   ]
  },
  {
   "cell_type": "markdown",
   "metadata": {
    "colab_type": "text",
    "id": "exercise-4-key-1"
   },
   "source": [
    "### Answer Key"
   ]
  },
  {
   "cell_type": "markdown",
   "metadata": {
    "colab_type": "text",
    "id": "ndAJmZ_URJHC"
   },
   "source": [
    "**Solution**"
   ]
  },
  {
   "cell_type": "code",
   "execution_count": 0,
   "metadata": {
    "colab": {},
    "colab_type": "code",
    "id": "ZxAq2EYwVPP3"
   },
   "outputs": [],
   "source": [
    "# Create dictionary\n",
    "\n",
    "# list of 10k valid English words : \n",
    "url = 'https://raw.githubusercontent.com/juemura/amli/master/wordlist.txt'\n",
    "en_dict = EnglishDictionary(url)\n",
    "print(en_dict.is_valid_word('hello'))\n",
    "print(en_dict.is_valid_word('python'))\n",
    "\n",
    "\n",
    "# Test\n",
    "\n",
    "# 1: Generate Board\n",
    "SIZE = 5\n",
    "game = generate_game_board(SIZE)\n",
    "print_game_board(game)\n",
    "\n"
   ]
  },
  {
   "cell_type": "code",
   "execution_count": 0,
   "metadata": {
    "colab": {},
    "colab_type": "code",
    "id": "bMZjslyToBzD"
   },
   "outputs": [],
   "source": [
    "## Running time analysis\n",
    "import time\n",
    "\n",
    "# Check running time\n",
    "start_time = time.time()\n",
    "\n",
    "print(get_all_words(game, en_dict))\n",
    "\n",
    "print(\"---DFS solution: {} seconds ---\\n\".format(time.time() - start_time))"
   ]
  },
  {
   "cell_type": "markdown",
   "metadata": {
    "colab_type": "text",
    "id": "Z9dzqWApRPTL"
   },
   "source": [
    "**Validation**"
   ]
  },
  {
   "cell_type": "code",
   "execution_count": 0,
   "metadata": {
    "colab": {},
    "colab_type": "code",
    "id": "aFMpk5v0RQhM"
   },
   "outputs": [],
   "source": [
    "# TODO"
   ]
  },
  {
   "cell_type": "markdown",
   "metadata": {
    "colab_type": "text",
    "id": "Yyrzr5qBF3-D"
   },
   "source": [
    "## Exercise 5: Final Solution and running time analysis"
   ]
  },
  {
   "cell_type": "markdown",
   "metadata": {
    "colab_type": "text",
    "id": "H-yf8DERuIV7"
   },
   "source": [
    "Refactor and provide a final version of Boggle using a DFS approach. What's the running time?"
   ]
  },
  {
   "cell_type": "markdown",
   "metadata": {
    "colab_type": "text",
    "id": "aD6nIiDXRWuh"
   },
   "source": [
    "### Student Solution"
   ]
  },
  {
   "cell_type": "code",
   "execution_count": 0,
   "metadata": {
    "colab": {},
    "colab_type": "code",
    "id": "FK5eBLijE3qs"
   },
   "outputs": [],
   "source": [
    "### YOUR CODE HERE ###"
   ]
  },
  {
   "cell_type": "markdown",
   "metadata": {
    "colab_type": "text",
    "id": "exercise-5-key-1"
   },
   "source": [
    "### Answer Key"
   ]
  },
  {
   "cell_type": "markdown",
   "metadata": {
    "colab_type": "text",
    "id": "Ri5GVhE7RZ0z"
   },
   "source": [
    "**Solution**"
   ]
  },
  {
   "cell_type": "code",
   "execution_count": 0,
   "metadata": {
    "colab": {},
    "colab_type": "code",
    "id": "f_TwN3Z6ujki"
   },
   "outputs": [],
   "source": [
    "#Create dictionary\n",
    "from urllib.request import urlopen\n",
    "\n",
    "\"\"\"EnglishDictionary implements a list of valid words with 3 or more letters \n",
    "from a given url using a set (constant lookup, but can't check prefix)\n",
    "\"\"\"\n",
    "class EnglishDictionary():\n",
    "  def __init__(self, url):\n",
    "    self._valid_words = set(line.decode('utf-8').strip().upper() for line in urlopen(url) if len(line) > 3)\n",
    "      \n",
    "  def is_valid_word(self, word):\n",
    "    return  word.upper() in self._valid_words\n"
   ]
  },
  {
   "cell_type": "code",
   "execution_count": 0,
   "metadata": {
    "colab": {},
    "colab_type": "code",
    "id": "rwtp7Rh9uVhT"
   },
   "outputs": [],
   "source": [
    "# Generate a square game board of a given size\n",
    "from random import choice\n",
    "from string import ascii_uppercase\n",
    "\n",
    "def generate_game_board(size=4):\n",
    "  return [[choice(ascii_uppercase) for _ in range(size)] for _ in range(size)]\n",
    "\n",
    "def print_game_board(board):\n",
    "  for row in board:\n",
    "    print(row)\n"
   ]
  },
  {
   "cell_type": "code",
   "execution_count": 0,
   "metadata": {
    "colab": {},
    "colab_type": "code",
    "id": "qhsF3eVtUUiV"
   },
   "outputs": [],
   "source": [
    "# Find all valid words on the board\n",
    "def get_all_words(game_board, dictionary):\n",
    "  size = len(game_board)\n",
    "  visited = [[False]*size for _ in range(size)]\n",
    "  words_found = set()\n",
    "  temp_word = []\n",
    "  for i in range(size):\n",
    "    for j in range(size):\n",
    "      dfs(game_board, dictionary, visited, words_found, i, j, temp_word)\n",
    "  return words_found\n",
    "\n",
    "def dfs(game_board, dictionary, visited, words_found, i, j, temp_word):\n",
    "  visited[i][j] = True\n",
    "  temp_word.append(game_board[i][j])\n",
    "\n",
    "  w = ''.join(temp_word)\n",
    "  if len(temp_word) >= 3 and dictionary.is_valid_word(w):\n",
    "    words_found.add(w)\n",
    "  \n",
    "  adjacent = [(i-1, j), (i+1, j), (i, j-1), (i, j+1)]\n",
    "  size = len(game_board)\n",
    "  for row, col in adjacent:\n",
    "    if (row in range(size)) and (col in range(size)) and (not visited[row][col]):\n",
    "      dfs(game_board, dictionary, visited, words_found, row, col, temp_word)\n",
    "  \n",
    "  temp_word.pop()\n",
    "  visited[i][j] = False\n",
    "  \n"
   ]
  },
  {
   "cell_type": "code",
   "execution_count": 0,
   "metadata": {
    "colab": {},
    "colab_type": "code",
    "id": "hUZharKxux-J"
   },
   "outputs": [],
   "source": [
    "# Test and check running time\n",
    "import time\n",
    "\n",
    "# Test (this is really slow so I don't advise running it for a larger size)\n",
    "SIZE = 5\n",
    "\n",
    "# list of 10k valid English words : \n",
    "url = 'https://raw.githubusercontent.com/juemura/amli/master/wordlist.txt'\n",
    "en_dict = EnglishDictionary(url)\n",
    "game_5 = generate_game_board(SIZE)\n",
    "\n",
    "# Check running time\n",
    "start_time = time.time()\n",
    "\n",
    "print_game_board(game_5)\n",
    "words = get_all_words(game_5, en_dict)\n",
    "print(\"Found the following {} words\".format(len(words)))\n",
    "print(words)\n",
    "\n",
    "\n",
    "print(\"---DFS solution: {} seconds ---\\n\".format(time.time() - start_time))"
   ]
  },
  {
   "cell_type": "markdown",
   "metadata": {
    "colab_type": "text",
    "id": "_jMPJ7kFTGeo"
   },
   "source": [
    "**Validation**"
   ]
  },
  {
   "cell_type": "code",
   "execution_count": 0,
   "metadata": {
    "colab": {},
    "colab_type": "code",
    "id": "jKAbgVT5TI2v"
   },
   "outputs": [],
   "source": [
    "# TODO"
   ]
  },
  {
   "cell_type": "markdown",
   "metadata": {
    "colab_type": "text",
    "id": "xEhVuFz5zOHd"
   },
   "source": [
    "## Exercise 6: Optimal Solution"
   ]
  },
  {
   "cell_type": "markdown",
   "metadata": {
    "colab_type": "text",
    "id": "xarOtDV0RkZD"
   },
   "source": [
    "Our DFS solution runs in ![Big O](https://github.com/juemura/amli/raw/master/boggle_dfs_complexity.png)\n",
    "\n",
    "Can you do any better?\n",
    "\n",
    "> Hint: The optimal solution for this problem uses a [Trie](https://en.wikipedia.org/wiki/Trie).\n",
    "Check out a Trie implementation at [CTCI](http://www.crackingthecodinginterview.com/).\n"
   ]
  },
  {
   "cell_type": "markdown",
   "metadata": {
    "colab_type": "text",
    "id": "1pvIi1gkRrZ9"
   },
   "source": [
    "### Student Solution"
   ]
  },
  {
   "cell_type": "code",
   "execution_count": 0,
   "metadata": {
    "colab": {},
    "colab_type": "code",
    "id": "C2U6V0T3D4Sk"
   },
   "outputs": [],
   "source": [
    "### YOUR CODE HERE ###"
   ]
  },
  {
   "cell_type": "markdown",
   "metadata": {
    "colab_type": "text",
    "id": "exercise-6-key-1"
   },
   "source": [
    "### Answer Key"
   ]
  },
  {
   "cell_type": "markdown",
   "metadata": {
    "colab_type": "text",
    "id": "e3-IH0IaRzmw"
   },
   "source": [
    "**Solution**"
   ]
  },
  {
   "cell_type": "code",
   "execution_count": 0,
   "metadata": {
    "colab": {},
    "colab_type": "code",
    "id": "IGTL6Fh7zM6w"
   },
   "outputs": [],
   "source": [
    "# Find all valid words on the board using a Trie\n",
    "\n",
    "# Create the Trie and TrieNode classes\n",
    "class TrieNode:\n",
    "  def __init__(self, char=None):\n",
    "    self._children = {}\n",
    "    self._char = char\n",
    "    self._is_complete_word = False\n",
    "    \n",
    "  def get_char(self):\n",
    "    return self._char\n",
    "  \n",
    "  def get_child(self, char):\n",
    "    return self._children.get(char)\n",
    "  \n",
    "  def terminates(self):\n",
    "    return self._is_complete_word\n",
    "  \n",
    "  def set_terminates(self, is_complete_word):\n",
    "    self._is_complete_word = is_complete_word        \n",
    "  \n",
    "  def add(self, word):\n",
    "    current = self\n",
    "    for letter in word:\n",
    "        if letter not in current._children:\n",
    "            current._children[letter] = TrieNode(letter)\n",
    "        current = current._children[letter]\n",
    "    current._is_complete_word = True    \n",
    "  \n",
    "class Trie:\n",
    "  def __init__(self, words=[]):\n",
    "    self._root = TrieNode();\n",
    "    self._depth = 0\n",
    "    self._longest_word = None\n",
    "    self._n_of_complete_words = 0\n",
    "    self.add_words(words)\n",
    "  \n",
    "  def get_root(self):\n",
    "    return self._root\n",
    "  \n",
    "  def get_depth(self):\n",
    "    return self._depth\n",
    "  \n",
    "  def set_depth(self, word):\n",
    "    if len(word) > self._depth:\n",
    "        self._depth = len(word)\n",
    "        self._longest_word = word\n",
    "        \n",
    "  def get_longest_word(self):\n",
    "    return self._longest_word\n",
    "  \n",
    "  def get_size(self):\n",
    "    return self._n_of_complete_words\n",
    "  \n",
    "  def add_words(self, words=[]):\n",
    "    for word in words:\n",
    "      if not self.contains(word, True):\n",
    "        self._n_of_complete_words += 1\n",
    "        self.set_depth(word)\n",
    "        self._root.add(word)\n",
    "  \n",
    "  def contains(self, prefix, is_complete_word=False):\n",
    "    current = self._root\n",
    "    for char in prefix:\n",
    "      current = current.get_child(char)\n",
    "      if current is None:\n",
    "        return False\n",
    "    return not is_complete_word or current.terminates()\n",
    "  \n",
    "# Trie and TrieNode tests\n",
    "test_dict = Trie(['well', 'was', 'try', 'a', 'annual'])\n",
    "print(test_dict.contains('well'))\n",
    "print(test_dict.contains('w'))\n",
    "print(test_dict.contains('tro'))\n",
    "print(test_dict.contains('ans'))\n",
    "print(\"Longest word: {}, size: {}\".format(test_dict.get_longest_word(), test_dict.get_depth()))\n",
    "test_dict_empty = Trie()"
   ]
  },
  {
   "cell_type": "code",
   "execution_count": 0,
   "metadata": {
    "colab": {},
    "colab_type": "code",
    "id": "Rsin09PyTP6o"
   },
   "outputs": [],
   "source": [
    "# Implement a real dictionary lookup\n",
    "from urllib.request import urlopen\n",
    "\n",
    "\"\"\"EnglishDictionary implements given list of words \n",
    "with 3 or more letters using a Trie data structure\n",
    "\"\"\"\n",
    "class EnglishDictionaryTrie():\n",
    "  def __init__(self, url):\n",
    "    self._valid_words = Trie(line.decode('utf-8').strip().upper() for line in urlopen(url) if len(line) > 3)\n",
    "    \n",
    "  def is_prefix(self, word):\n",
    "    return self._valid_words.contains(word.upper(), False)\n",
    "  \n",
    "  def is_valid_word(self, word):\n",
    "    return self._valid_words.contains(word.upper(), True)\n",
    "  \n",
    "  def get_longest_word(self):\n",
    "    return self._valid_words.get_longest_word()\n",
    "  \n",
    "  def get_size_longest_word(self):\n",
    "    return self._valid_words.get_depth()\n",
    "  \n",
    "  def get_size(self):\n",
    "    return self._valid_words.get_size()\n",
    "\n",
    "# Dictionary tests  \n",
    "# list of 10k valid English words : \n",
    "url = 'https://raw.githubusercontent.com/juemura/amli/master/wordlist.txt'\n",
    "test_en_dict = EnglishDictionaryTrie(url)\n",
    "print(test_en_dict.is_prefix('A'))\n",
    "print(test_en_dict.is_valid_word('A'))\n",
    "print(test_en_dict.is_prefix('AA'))\n",
    "print(test_en_dict.is_valid_word('AA'))\n",
    "print(test_en_dict.is_prefix('AAA'))\n",
    "print(test_en_dict.is_valid_word('AAA'))\n",
    "print(test_en_dict.is_prefix('AARON'))\n",
    "print(test_en_dict.is_valid_word('AARON'))\n",
    "print(test_en_dict.is_prefix('AB'))\n",
    "print(test_en_dict.is_valid_word('AB'))\n",
    "print(test_en_dict.is_prefix('ABANDONED'))\n",
    "print(test_en_dict.is_valid_word('ABANDONED'))\n",
    "print(test_en_dict.is_valid_word('PYTHON'))\n",
    "print(\"Number of words added: {}\".format(test_en_dict.get_size()))\n",
    "print(\"Longest word: {}, size: {}\".format(test_en_dict.get_longest_word(), test_en_dict.get_size_longest_word()))"
   ]
  },
  {
   "cell_type": "code",
   "execution_count": 0,
   "metadata": {
    "colab": {},
    "colab_type": "code",
    "id": "deNbaOMfUKei"
   },
   "outputs": [],
   "source": [
    "# Generate a square game board of a given size\n",
    "from random import choice\n",
    "from string import ascii_uppercase\n",
    "\n",
    "def generate_game_board(size=4):\n",
    "  return [[choice(ascii_uppercase) for _ in range(size)] for _ in range(size)]\n",
    "\n",
    "def print_game_board(board):\n",
    "  for row in board:\n",
    "    print(row)"
   ]
  },
  {
   "cell_type": "code",
   "execution_count": 0,
   "metadata": {
    "colab": {},
    "colab_type": "code",
    "id": "4sbnjkNuUPMY"
   },
   "outputs": [],
   "source": [
    "# Find all valid words on the board (up/down/left/right)\n",
    "def get_all_words(game_board, dictionary):\n",
    "  size = len(game_board)\n",
    "  visited = [[False]*size for _ in range(size)]\n",
    "  words_found = set()\n",
    "  temp_word = []\n",
    "  for i in range(size):\n",
    "    for j in range(size):\n",
    "      _helper(game_board, dictionary, visited, words_found, i, j, temp_word)\n",
    "  return words_found\n",
    "\n",
    "def _helper(game_board, dictionary, visited, words_found, i, j, temp_word):\n",
    "  visited[i][j] = True\n",
    "  temp_word.append(game_board[i][j])\n",
    "\n",
    "  w = ''.join(temp_word)\n",
    "  if dictionary.is_prefix(w):\n",
    "    if len(temp_word) >= 3 and dictionary.is_valid_word(w):\n",
    "      words_found.add(w)\n",
    "\n",
    "    adjacent = [(i-1, j), (i+1, j), (i, j-1), (i, j+1)]\n",
    "    size = len(game_board)\n",
    "    for row, col in adjacent:\n",
    "      if (row in range(size)) and (col in range(size)) and (not visited[row][col]):\n",
    "        _helper(game_board, dictionary, visited, words_found, row, col, temp_word)\n",
    "  \n",
    "  temp_word.pop()\n",
    "  visited[i][j] = False\n",
    "  \n"
   ]
  },
  {
   "cell_type": "code",
   "execution_count": 0,
   "metadata": {
    "colab": {},
    "colab_type": "code",
    "id": "lsM-2kqBV1Wg"
   },
   "outputs": [],
   "source": [
    "# Test\n",
    "import time\n",
    "\n",
    "# Check running time\n",
    "start_time = time.time()\n",
    "\n",
    "\n",
    "# Generate dictionary\n",
    "# list of 10k valid English words : \n",
    "url = 'https://raw.githubusercontent.com/juemura/amli/master/wordlist.txt'\n",
    "en_dict_trie = EnglishDictionaryTrie(url)\n",
    "\n",
    "print(\"---Running time to create 10k word tree: {} seconds ---\\n\".format(time.time() - start_time))"
   ]
  },
  {
   "cell_type": "code",
   "execution_count": 0,
   "metadata": {
    "colab": {},
    "colab_type": "code",
    "id": "NEx37-_GfZ_t"
   },
   "outputs": [],
   "source": [
    "# Test with smaller board\n",
    "\n",
    "# Check running time\n",
    "start_time = time.time()\n",
    "\n",
    "print_game_board(game_5)\n",
    "words_5 = get_all_words(game_5, en_dict_trie)\n",
    "print(\"Found the following {} words\".format(len(words_5)))\n",
    "print(words_5)\n",
    "print(\"---Running time for 5x5 Boggle using a Trie: {} seconds ---\\n\".format(time.time() - start_time))"
   ]
  },
  {
   "cell_type": "code",
   "execution_count": 0,
   "metadata": {
    "colab": {},
    "colab_type": "code",
    "id": "jDRtC_vKURD_"
   },
   "outputs": [],
   "source": [
    "# Test with bigger board\n",
    "\n",
    "SIZE = 10\n",
    "game_10 = generate_game_board(SIZE)\n",
    "\n",
    "# Check running time\n",
    "start_time = time.time()\n",
    "\n",
    "print_game_board(game_10)\n",
    "words_10 = get_all_words(game_10, en_dict_trie)\n",
    "print(\"Found the following {} words\".format(len(words_10)))\n",
    "print(words_10)\n",
    "\n",
    "print(\"---Running time for 10x10 Boggle using a Trie: {} seconds ---\\n\".format(time.time() - start_time))"
   ]
  },
  {
   "cell_type": "markdown",
   "metadata": {
    "colab_type": "text",
    "id": "TePWV1mHR90F"
   },
   "source": [
    "**Validation**"
   ]
  },
  {
   "cell_type": "code",
   "execution_count": 0,
   "metadata": {
    "colab": {},
    "colab_type": "code",
    "id": "x3Kp69WDR-_1"
   },
   "outputs": [],
   "source": [
    "# TODO"
   ]
  },
  {
   "cell_type": "markdown",
   "metadata": {
    "colab_type": "text",
    "id": "2hdue0LmejnN"
   },
   "source": [
    "## Exercise 7: Search diagonals\n"
   ]
  },
  {
   "cell_type": "markdown",
   "metadata": {
    "colab_type": "text",
    "id": "sxqiTM3iSGCJ"
   },
   "source": [
    "Now that you have an optimal Boggle solution, can you make it include diagonals?\n",
    "\n",
    "> Hint: For a full Boggle solution (including diagonals), simply modify the adjacent list to include all directions."
   ]
  },
  {
   "cell_type": "markdown",
   "metadata": {
    "colab_type": "text",
    "id": "gzrdBofVSJii"
   },
   "source": [
    "### Student Solution"
   ]
  },
  {
   "cell_type": "code",
   "execution_count": 0,
   "metadata": {
    "colab": {},
    "colab_type": "code",
    "id": "K_H8PlXfEWAA"
   },
   "outputs": [],
   "source": [
    "### YOUR CODE HERE ###"
   ]
  },
  {
   "cell_type": "markdown",
   "metadata": {
    "colab_type": "text",
    "id": "exercise-7-key-1"
   },
   "source": [
    "### Answer Key"
   ]
  },
  {
   "cell_type": "markdown",
   "metadata": {
    "colab_type": "text",
    "id": "cMOaDRXfSM5Y"
   },
   "source": [
    "**Solution**"
   ]
  },
  {
   "cell_type": "code",
   "execution_count": 0,
   "metadata": {
    "colab": {},
    "colab_type": "code",
    "id": "3m68iH9uVy8d"
   },
   "outputs": [],
   "source": [
    "# Find all valid words on the board (including diagonals)\n",
    "def boggle_finder(game_board, dictionary):\n",
    "  size = len(game_board)\n",
    "  visited = [[False]*size for _ in range(size)]\n",
    "  words_found = set()\n",
    "  temp_word = []\n",
    "  for i in range(size):\n",
    "    for j in range(size):\n",
    "      _boggle_helper(game_board, dictionary, visited, words_found, i, j, temp_word)\n",
    "  return words_found\n",
    "\n",
    "def _boggle_helper(game_board, dictionary, visited, words_found, i, j, temp_word):\n",
    "  visited[i][j] = True\n",
    "  temp_word.append(game_board[i][j])\n",
    "\n",
    "  w = ''.join(temp_word)\n",
    "  if dictionary.is_prefix(w):\n",
    "    if len(temp_word) >= 3 and dictionary.is_valid_word(w):\n",
    "      words_found.add(w)\n",
    "\n",
    "    adjacent = [(r, c) for c in range(j-1, j+2) for r in range(i-1, i+2) if not (r == i and c == j)]\n",
    "    size = len(game_board)\n",
    "    for row, col in adjacent:\n",
    "      if (row in range(size)) and (col in range(size)) and (not visited[row][col]):\n",
    "        _boggle_helper(game_board, dictionary, visited, words_found, row, col, temp_word)\n",
    "  \n",
    "  temp_word.pop()\n",
    "  visited[i][j] = False\n",
    "  \n"
   ]
  },
  {
   "cell_type": "code",
   "execution_count": 0,
   "metadata": {
    "colab": {},
    "colab_type": "code",
    "id": "Jk5QuC66npC7"
   },
   "outputs": [],
   "source": [
    "# Generate larger dictionary\n",
    "\n",
    "import time\n",
    "\n",
    "# Check running time\n",
    "start_time = time.time()\n",
    "\n",
    "\n",
    "# Generate dictionary\n",
    "# Here we're using a more comprehensive dictionary (194,000 words).\n",
    "# list of 194k valid English words : \n",
    "url_194k = 'https://raw.githubusercontent.com/juemura/amli/master/english3.txt'\n",
    "en_dict_trie_full = EnglishDictionaryTrie(url_194k)\n",
    "\n",
    "print(\"---Running time to create 194k word prefix tree: {} seconds ---\\n\".format(time.time() - start_time))\n",
    "\n",
    "print(\"Number of words added: {}\".format(en_dict_trie_full.get_size()))\n",
    "print(\"Longest word: {}, size: {}\".format(en_dict_trie_full.get_longest_word(), en_dict_trie_full.get_size_longest_word()))\n"
   ]
  },
  {
   "cell_type": "code",
   "execution_count": 0,
   "metadata": {
    "colab": {},
    "colab_type": "code",
    "id": "jt3kqdA6fhOc"
   },
   "outputs": [],
   "source": [
    "# Test complete Boggle with smaller board\n",
    "\n",
    "# Check running time\n",
    "start_time = time.time()\n",
    "\n",
    "print_game_board(game_5)\n",
    "words_5 = boggle_finder(game_5, en_dict_trie_full)\n",
    "print(\"Found the following {} words\".format(len(words_5)))\n",
    "print(words_5)\n",
    "\n",
    "print(\"---Running time for 5x5 Full Boggle using a Trie: {} seconds ---\\n\".format(time.time() - start_time))\n",
    "print(\"Size of the longest word found: {}\".format(max(map(len, words_5))))"
   ]
  },
  {
   "cell_type": "code",
   "execution_count": 0,
   "metadata": {
    "colab": {},
    "colab_type": "code",
    "id": "wUdTjTduhwJc"
   },
   "outputs": [],
   "source": [
    "# Test complete Boggle with 10x10 board\n",
    "\n",
    "# Check running time\n",
    "start_time = time.time()\n",
    "\n",
    "print_game_board(game_10)\n",
    "words_10 = boggle_finder(game_10, en_dict_trie_full)\n",
    "print(\"Found the following {} words\".format(len(words_10)))\n",
    "print(words_10)\n",
    "\n",
    "print(\"---Running time for 10x10 Full Boggle using a Trie: {} seconds ---\\n\".format(time.time() - start_time))\n",
    "print(\"Size of the longest word found: {}\".format(max(map(len, words_10))))"
   ]
  },
  {
   "cell_type": "code",
   "execution_count": 0,
   "metadata": {
    "colab": {},
    "colab_type": "code",
    "id": "UjXkY7i6Ov_c"
   },
   "outputs": [],
   "source": [
    "# Test complete Boggle with super large board\n",
    "\n",
    "SIZE = 40\n",
    "game_40 = generate_game_board(SIZE)\n",
    "\n",
    "# Check running time\n",
    "start_time = time.time()\n",
    "\n",
    "print_game_board(game_40)\n",
    "words_40 = boggle_finder(game_40, en_dict_trie_full)\n",
    "print(\"Found the following {} words\".format(len(words_40)))\n",
    "print(words_40)\n",
    "\n",
    "print(\"---Running time for 40x40 Full Boggle using a Trie: {} seconds ---\\n\".format(time.time() - start_time))\n",
    "print(\"Size of the longest word found: {}\".format(max(map(len, words_40))))\n"
   ]
  },
  {
   "cell_type": "code",
   "execution_count": 0,
   "metadata": {
    "colab": {},
    "colab_type": "code",
    "id": "oaIR4LGSTEEC"
   },
   "outputs": [],
   "source": [
    "# Test: Insert longest dictionary word in 40x40 board and check if Boggle finds it\n",
    "\n",
    "longest_in_dict = 'DICHLORODIPHENYLTRICHLOROETHANE'\n",
    "print(\"Is this word in the dictionary? \", en_dict_trie_full.is_valid_word(longest_in_dict))\n",
    "\n",
    "start_row = 0\n",
    "start_col = 0\n",
    "\n",
    "game_40_test = game_40\n",
    "for i in range(len(longest_in_dict)):\n",
    "  game_40_test[i+start_row][i+start_col] = longest_in_dict[i]\n",
    "\n",
    "# Check running time\n",
    "start_time = time.time()\n",
    "\n",
    "print_game_board(game_40_test)\n",
    "words_40_test = boggle_finder(game_40_test, en_dict_trie_full)\n",
    "print(\"Found the following {} words\".format(len(words_40_test)))\n",
    "print(words_40_test)\n",
    "\n",
    "print(\"---Running time for 40x40 Full Boggle using a Trie: {} seconds ---\\n\".format(time.time() - start_time))\n",
    "print(\"Size of the longest that it should find: {}\".format(len(longest_in_dict)))\n",
    "print(\"Size of the longest word found: {}\".format(max(map(len, words_40_test))))\n"
   ]
  },
  {
   "cell_type": "markdown",
   "metadata": {
    "colab_type": "text",
    "id": "jc3uMEmdSVU5"
   },
   "source": [
    "**Validation**"
   ]
  },
  {
   "cell_type": "code",
   "execution_count": 0,
   "metadata": {
    "colab": {},
    "colab_type": "code",
    "id": "YNGeV1gWSWx3"
   },
   "outputs": [],
   "source": [
    "# TODO"
   ]
  },
  {
   "cell_type": "markdown",
   "metadata": {
    "colab_type": "text",
    "id": "f3MlZD9l2Ci3"
   },
   "source": [
    "## Exercise 8: Full Boggle Solution"
   ]
  },
  {
   "cell_type": "markdown",
   "metadata": {
    "colab_type": "text",
    "id": "Ib2tYySHSb4g"
   },
   "source": [
    "What's the running time of the optimal solution?\n",
    "Discuss the tradeoffs of different solutions."
   ]
  },
  {
   "cell_type": "markdown",
   "metadata": {
    "colab_type": "text",
    "id": "Jy3ypl6bScZP"
   },
   "source": [
    "### Student Solution"
   ]
  },
  {
   "cell_type": "markdown",
   "metadata": {
    "colab_type": "text",
    "id": "HWFXLcHeSepK"
   },
   "source": [
    "*Your answer goes here*"
   ]
  },
  {
   "cell_type": "markdown",
   "metadata": {
    "colab_type": "text",
    "id": "exercise-8-key-1"
   },
   "source": [
    "### Answer Key"
   ]
  },
  {
   "cell_type": "markdown",
   "metadata": {
    "colab_type": "text",
    "id": "JClsc0T9SiDu"
   },
   "source": [
    "**Solution**"
   ]
  },
  {
   "cell_type": "code",
   "execution_count": 0,
   "metadata": {
    "colab": {},
    "colab_type": "code",
    "id": "BpxWZoz72JYN"
   },
   "outputs": [],
   "source": [
    "# Using a Trie, Boggle runs in O(d) where is the size of the dictionary.\n",
    "# For searching, Boggle runs in O(n) where n is the size of the longest valid word.\n",
    " \n",
    "# Find all valid words on the board using a Trie\n",
    "\n",
    "# Create the Trie and TrieNode classes\n",
    "class TrieNode:\n",
    "  def __init__(self, char=None):\n",
    "    self._children = {}\n",
    "    self._char = char\n",
    "    self._is_complete_word = False\n",
    "    \n",
    "  def get_char(self):\n",
    "    return self._char\n",
    "  \n",
    "  def get_child(self, char):\n",
    "    return self._children.get(char)\n",
    "  \n",
    "  def terminates(self):\n",
    "    return self._is_complete_word\n",
    "  \n",
    "  def set_terminates(self, is_complete_word):\n",
    "    self._is_complete_word = is_complete_word        \n",
    "  \n",
    "  def add(self, word):\n",
    "    current = self\n",
    "    for letter in word:\n",
    "        if letter not in current._children:\n",
    "            current._children[letter] = TrieNode(letter)\n",
    "        current = current._children[letter]\n",
    "    current._is_complete_word = True    \n",
    "  \n",
    "class Trie:\n",
    "  def __init__(self, words=[]):\n",
    "    self._root = TrieNode();\n",
    "    self._depth = 0\n",
    "    self._longest_word = None\n",
    "    self._n_of_complete_words = 0\n",
    "    self.add_words(words)\n",
    "  \n",
    "  def get_root(self):\n",
    "    return self._root\n",
    "  \n",
    "  def get_depth(self):\n",
    "    return self._depth\n",
    "  \n",
    "  def set_depth(self, word):\n",
    "    if len(word) > self._depth:\n",
    "        self._depth = len(word)\n",
    "        self._longest_word = word\n",
    "        \n",
    "  def get_longest_word(self):\n",
    "    return self._longest_word\n",
    "  \n",
    "  def get_size(self):\n",
    "    return self._n_of_complete_words\n",
    "  \n",
    "  def add_words(self, words=[]):\n",
    "    for word in words:\n",
    "      if not self.contains(word, True):\n",
    "        self._n_of_complete_words += 1\n",
    "        self.set_depth(word)\n",
    "        self._root.add(word)\n",
    "  \n",
    "  def contains(self, prefix, is_complete_word=False):\n",
    "    current = self._root\n",
    "    for char in prefix:\n",
    "      current = current.get_child(char)\n",
    "      if current is None:\n",
    "        return False\n",
    "    return not is_complete_word or current.terminates()\n",
    "  \n",
    "\n",
    "\n",
    "# Implement a real dictionary lookup\n",
    "from urllib.request import urlopen\n",
    "\n",
    "\"\"\"Vocabulary implements given list of words \n",
    "with 3 or more letters using a Trie data structure\n",
    "\"\"\"\n",
    "class Vocabulary():\n",
    "  def __init__(self, url):\n",
    "    self._valid_words = Trie(line.decode('utf-8').strip().upper() for line in urlopen(url) if len(line) > 3)\n",
    "    \n",
    "  def is_prefix(self, word):\n",
    "    return self._valid_words.contains(word.upper(), False)\n",
    "  \n",
    "  def is_valid_word(self, word):\n",
    "    return self._valid_words.contains(word.upper(), True)\n",
    "  \n",
    "  def get_longest_word(self):\n",
    "    return self._valid_words.get_longest_word()\n",
    "  \n",
    "  def get_size_longest_word(self):\n",
    "    return self._valid_words.get_depth()\n",
    "  \n",
    "  def get_size(self):\n",
    "    return self._valid_words.get_size()\n",
    "  \n",
    "\n",
    "\n",
    "  \n",
    "# Implement Boggle class\n",
    "from random import choice\n",
    "from string import ascii_uppercase\n",
    "\n",
    "class Boggle():\n",
    "  def __init__(self, size=4, url=None):\n",
    "    self._board = self._generate_game_board(size)\n",
    "    self._vocab = self._generate_vocabulary(url)\n",
    "  \n",
    "  # Generate a square game board of a given size\n",
    "  def _generate_game_board(self, size):\n",
    "    return [[choice(ascii_uppercase) for _ in range(size)] for _ in range(size)]\n",
    "  \n",
    "  def create_new_board(self, size=None):\n",
    "    self._board = self._generate_game_board(size) if size else self._generate_game_board(len(self._board))\n",
    "    \n",
    "  \n",
    "  # Generate Vocabulary\n",
    "  def _generate_vocabulary(self, url):\n",
    "    return Vocabulary(url) if url else Vocabulary()\n",
    "  \n",
    "  def create_new_vocabulary(self, url):\n",
    "    self._vocab = self._generate_vocabulary(url)\n",
    "\n",
    "    \n",
    "  # Print board\n",
    "  def print_game_board(self):\n",
    "    for row in self._board:\n",
    "      print(row)\n",
    "   \n",
    "\n",
    "  # Find all valid words on the board (including diagonals)\n",
    "  def boggle_finder(self):\n",
    "    size = len(self._board)\n",
    "    visited = [[False]*size for _ in range(size)]\n",
    "    words_found = set()\n",
    "    temp_word = []\n",
    "    for i in range(size):\n",
    "      for j in range(size):\n",
    "        self._boggle_helper(self._board, self._vocab, visited, words_found, i, j, temp_word)\n",
    "    return words_found\n",
    "\n",
    "  def _boggle_helper(self, game_board, dictionary, visited, words_found, i, j, temp_word):\n",
    "    visited[i][j] = True\n",
    "    temp_word.append(game_board[i][j])\n",
    "\n",
    "    w = ''.join(temp_word)\n",
    "    if dictionary.is_prefix(w):\n",
    "      if len(temp_word) >= 3 and dictionary.is_valid_word(w):\n",
    "        words_found.add(w)\n",
    "\n",
    "      adjacent = [(r, c) for c in range(j-1, j+2) for r in range(i-1, i+2) if not (r == i and c == j)]\n",
    "      size = len(game_board)\n",
    "      for row, col in adjacent:\n",
    "        if (row in range(size)) and (col in range(size)) and (not visited[row][col]):\n",
    "          self._boggle_helper(game_board, dictionary, visited, words_found, row, col, temp_word)\n",
    "\n",
    "    temp_word.pop()\n",
    "    visited[i][j] = False\n",
    "  \n",
    "  \n",
    "  # Get vocabulary size\n",
    "  def get_vocab_size(self):\n",
    "    return self._vocab.get_size()\n",
    "  \n",
    "  def get_longest_word(self):\n",
    "    return self._vocab.get_longest_word(), self._vocab.get_size_longest_word()"
   ]
  },
  {
   "cell_type": "code",
   "execution_count": 0,
   "metadata": {
    "colab": {},
    "colab_type": "code",
    "id": "MAaL_Mra2gR7"
   },
   "outputs": [],
   "source": [
    "# Test / Play\n",
    "\n",
    "# Generate larger dictionary\n",
    "\n",
    "import time\n",
    "\n",
    "# Check running time\n",
    "start_time = time.time()\n",
    "\n",
    "\n",
    "SIZE = 40 # enter any size you want\n",
    "VOCAB_URL = 'https://raw.githubusercontent.com/juemura/amli/master/english3.txt' # enter any word list\n",
    "\n",
    "# Start new Boggle game\n",
    "game = Boggle(SIZE, VOCAB_URL)\n",
    "\n",
    "middle_time = time.time()\n",
    "print(\"---Running time to create Boggle board and word prefix tree: {} seconds ---\\n\".format(middle_time - start_time))\n",
    "print(\"Number of words added: {}\".format(game.get_vocab_size()))\n",
    "print(\"Longest word: {}, size: {}\".format(*game.get_longest_word()))\n",
    "\n",
    "\n",
    "game.print_game_board()\n",
    "\n",
    "middle_time = time.time()\n",
    "\n",
    "words = game.boggle_finder()\n",
    "print(\"Found the following {} words\".format(len(words)))\n",
    "print(words)\n",
    "\n",
    "end_time = time.time()\n",
    "print(\"---Running time for 40x40 Full Boggle using a Trie: {} seconds ---\\n\".format(end_time - middle_time))\n",
    "print(\"Size of the longest word found: {}\".format(max(map(len, words))))\n",
    "\n",
    "print(\"Total running time: {} seconds ---\\n\".format(end_time - start_time))"
   ]
  },
  {
   "cell_type": "markdown",
   "metadata": {
    "colab_type": "text",
    "id": "LhGAPkQRSmQH"
   },
   "source": [
    "**Validation**"
   ]
  },
  {
   "cell_type": "code",
   "execution_count": 0,
   "metadata": {
    "colab": {},
    "colab_type": "code",
    "id": "75q-rXxOSnVt"
   },
   "outputs": [],
   "source": [
    "# TODO"
   ]
  }
 ],
 "metadata": {
  "colab": {
   "collapsed_sections": [
    "copyright",
    "exercise-1-key-1",
    "exercise-2-key-1",
    "exercise-3-key-1",
    "exercise-4-key-1",
    "exercise-5-key-1",
    "exercise-6-key-1",
    "exercise-7-key-1",
    "exercise-8-key-1"
   ],
   "name": "Coding Interview: Boggle",
   "private_outputs": true,
   "provenance": [],
   "toc_visible": true,
   "version": "0.3.2"
  },
  "kernelspec": {
   "display_name": "Python 3",
   "name": "python3"
  }
 },
 "nbformat": 4,
 "nbformat_minor": 0
}
