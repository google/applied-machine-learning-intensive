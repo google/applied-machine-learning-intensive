{
  "nbformat": 4,
  "nbformat_minor": 0,
  "metadata": {
    "colab": {
      "name": "Feature Engineering: Synthetic Features [Colab]",
      "provenance": [],
      "collapsed_sections": [
        "DdoPErAZfiG8"
      ]
    },
    "kernelspec": {
      "name": "python3",
      "display_name": "Python 3"
    }
  },
  "cells": [
    {
      "cell_type": "markdown",
      "metadata": {
        "id": "AwNzzm4ojLYE",
        "colab_type": "text"
      },
      "source": [
        "# Feature Engineering: Synthetic Features\n",
        "\n",
        "\n",
        "When you are given a raw dataset, you will often encounter some of the following situations:\n",
        "* Based on your domain knowledge, you need to create new features to improve your predictions\n",
        "* The data is spread out into multiple files, and you need to combine them\n",
        "* One or more features can't be used in their current state and need to be transformed\n",
        "* You need to create synthetic features that aggregate information across multiple rows and/or columns\n",
        "\n",
        "Note: Throughout this colab I included many details and explanations about the challenge and/or code syntax that are entirely optional. I left them there to serve as a reference and for those of you who would like to fully understand the code or go more in depth in a particular topic. These are marked with \\**dfc*\\* (digression for the curious).\n",
        "\n",
        "\n",
        "### Real life example: The Instacart Challenge\n",
        "\n",
        "Let's look at one example from this Kaggle Instacart Market Basket Analysis competition: https://www.kaggle.com/c/instacart-market-basket-analysis\n",
        "\n",
        "\"The goal of the competition is to predict which products will be in a user's next order. The dataset is anonymized and contains a sample of over 3 million grocery orders from more than 200,000 Instacart users. For each user, we provide between 4 and 100 of their orders, with the sequence of products purchased in each order. We also provide the week and hour of day the order was placed, and a relative measure of time between orders.\" (https://www.kaggle.com/c/instacart-market-basket-analysis/data)\n",
        "\n",
        "\n",
        "\n",
        "---\n",
        "\n",
        "### The data\n",
        "\n",
        "The goal is very clear and seems reasonable. However, the raw data was provided in 6 different csv files:\n",
        "* **aisles.csv**: a simple list of aisle names and their corresponding id's.\n",
        "* **departments.csv**: another simple list of department names and id's.\n",
        "* **products.csv**: a list of product names with their id's, as well as the aisle id and department id they are associated with.\n",
        "* **orders.csv**: a list of all of the orders contained in the dataset, with a single row for each order, indicating the user_id and eval_set (prior, train, test), along with details about the order (e.g. day of the week and hour of the order)\n",
        "* **order_products__prior.csv**: a list of which products were ordered for a given order_id prior to the most recent order (3,214,874 orders, 32,434,489 rows)\n",
        "* **order_products__train.csv**: training data, which is the same as order_products__prior.csv, but with the most recent orders for 131,209 customers (with a total of 1,384,617 rows).\n",
        "\n",
        "To succeed in this challenge, you would need to know how to cross-reference the information on the different files to be able to match the user information with the orders and products. \n",
        "There were 75,000 rows marked as \"test\" in the orders data. The submission consisted of uploading  a csv containing the predicted list of products included in each of these 75k orders (or None for empty orders).\n",
        "\n",
        "\n",
        "---\n",
        "\n",
        "### What we will learn today\n",
        "\n",
        "In this Colab, we will show some of the essential steps to prepare the data using a small subset of the raw data. We won't cover the actual predictions, but you can give it a try if you want, or check out the public kernels to see what the participants came up with at https://www.kaggle.com/c/instacart-market-basket-analysis/kernels.\n",
        "\n",
        "\\**dfc*\\*  This kernel in particular has a great exploratory analysis: https://www.kaggle.com/philippsp/exploratory-analysis-instacart\n",
        "\n",
        "\n",
        "---\n",
        "\n",
        "### Importing the data\n",
        "\n"
      ]
    },
    {
      "cell_type": "code",
      "metadata": {
        "id": "t8Y8ho5Pi7s6",
        "colab_type": "code",
        "colab": {}
      },
      "source": [
        "# Libraries used:\n",
        "import pandas as pd\n",
        "import numpy as np"
      ],
      "execution_count": 0,
      "outputs": []
    },
    {
      "cell_type": "code",
      "metadata": {
        "id": "D0nQV72S1tWM",
        "colab_type": "code",
        "outputId": "9cc0e8bb-0e92-40e1-c5b6-581c64f3b834",
        "colab": {
          "base_uri": "https://localhost:8080/",
          "height": 221
        }
      },
      "source": [
        "# Import orders data:\n",
        "orders_df = pd.read_csv('https://raw.githubusercontent.com/juemura/amli-kaggle-instacart/master/orders_short.csv', index_col=0) \n",
        "                                                        # *dfc* Since the shortened data was created from another dataframe, \n",
        "                                                        # the first column of each spreadsheet contains the row index \n",
        "                                                        # from the full data set. To preserve the same index, use index_col=0.\n",
        "                                                        # To delete the old index and start fresh, don't include the index_col \n",
        "                                                        # and run either \"orders_df = orders_df.drop(orders_df.columns[0], axis=1)\"\n",
        "                                                        # or \"orders_df.drop(orders_df.columns[0], axis=1, inplace=True)\"\n",
        "print(orders_df.shape) # *dfc* shape contains a tuple with the number of rows and the number of columns. \n",
        "                       # Note that, differently from head() and describe(), shape is not a method, so you don't need to use ().\n",
        "                       # shape is an attribute of pandas.DataFrame. For a complete list of methods and attributes, \n",
        "                       # check out the docs at https://pandas.pydata.org/pandas-docs/stable/reference/api/pandas.DataFrame.html \n",
        "orders_df.head()"
      ],
      "execution_count": 0,
      "outputs": [
        {
          "output_type": "stream",
          "text": [
            "(89, 7)\n"
          ],
          "name": "stdout"
        },
        {
          "output_type": "execute_result",
          "data": {
            "text/html": [
              "<div>\n",
              "<style scoped>\n",
              "    .dataframe tbody tr th:only-of-type {\n",
              "        vertical-align: middle;\n",
              "    }\n",
              "\n",
              "    .dataframe tbody tr th {\n",
              "        vertical-align: top;\n",
              "    }\n",
              "\n",
              "    .dataframe thead th {\n",
              "        text-align: right;\n",
              "    }\n",
              "</style>\n",
              "<table border=\"1\" class=\"dataframe\">\n",
              "  <thead>\n",
              "    <tr style=\"text-align: right;\">\n",
              "      <th></th>\n",
              "      <th>order_id</th>\n",
              "      <th>user_id</th>\n",
              "      <th>eval_set</th>\n",
              "      <th>order_number</th>\n",
              "      <th>order_dow</th>\n",
              "      <th>order_hour_of_day</th>\n",
              "      <th>days_since_prior_order</th>\n",
              "    </tr>\n",
              "  </thead>\n",
              "  <tbody>\n",
              "    <tr>\n",
              "      <th>0</th>\n",
              "      <td>2539329</td>\n",
              "      <td>1</td>\n",
              "      <td>prior</td>\n",
              "      <td>1</td>\n",
              "      <td>2</td>\n",
              "      <td>8</td>\n",
              "      <td>NaN</td>\n",
              "    </tr>\n",
              "    <tr>\n",
              "      <th>1</th>\n",
              "      <td>2398795</td>\n",
              "      <td>1</td>\n",
              "      <td>prior</td>\n",
              "      <td>2</td>\n",
              "      <td>3</td>\n",
              "      <td>7</td>\n",
              "      <td>15.0</td>\n",
              "    </tr>\n",
              "    <tr>\n",
              "      <th>2</th>\n",
              "      <td>473747</td>\n",
              "      <td>1</td>\n",
              "      <td>prior</td>\n",
              "      <td>3</td>\n",
              "      <td>3</td>\n",
              "      <td>12</td>\n",
              "      <td>21.0</td>\n",
              "    </tr>\n",
              "    <tr>\n",
              "      <th>3</th>\n",
              "      <td>2254736</td>\n",
              "      <td>1</td>\n",
              "      <td>prior</td>\n",
              "      <td>4</td>\n",
              "      <td>4</td>\n",
              "      <td>7</td>\n",
              "      <td>29.0</td>\n",
              "    </tr>\n",
              "    <tr>\n",
              "      <th>4</th>\n",
              "      <td>431534</td>\n",
              "      <td>1</td>\n",
              "      <td>prior</td>\n",
              "      <td>5</td>\n",
              "      <td>4</td>\n",
              "      <td>15</td>\n",
              "      <td>28.0</td>\n",
              "    </tr>\n",
              "  </tbody>\n",
              "</table>\n",
              "</div>"
            ],
            "text/plain": [
              "   order_id  user_id eval_set  order_number  order_dow  order_hour_of_day  \\\n",
              "0   2539329        1    prior             1          2                  8   \n",
              "1   2398795        1    prior             2          3                  7   \n",
              "2    473747        1    prior             3          3                 12   \n",
              "3   2254736        1    prior             4          4                  7   \n",
              "4    431534        1    prior             5          4                 15   \n",
              "\n",
              "   days_since_prior_order  \n",
              "0                     NaN  \n",
              "1                    15.0  \n",
              "2                    21.0  \n",
              "3                    29.0  \n",
              "4                    28.0  "
            ]
          },
          "metadata": {
            "tags": []
          },
          "execution_count": 17
        }
      ]
    },
    {
      "cell_type": "code",
      "metadata": {
        "id": "AfwyXgMyAci_",
        "colab_type": "code",
        "outputId": "bbf8a768-9da7-4ba3-fc9e-4ee3cc15d1de",
        "colab": {
          "base_uri": "https://localhost:8080/",
          "height": 51
        }
      },
      "source": [
        "print(\"Number of unique customers: {}\".format(len(orders_df.user_id.unique())))\n",
        "print(\"Number of orders: {}\".format(len(orders_df.order_id.unique())))"
      ],
      "execution_count": 0,
      "outputs": [
        {
          "output_type": "stream",
          "text": [
            "Number of unique customers: 10\n",
            "Number of orders: 89\n"
          ],
          "name": "stdout"
        }
      ]
    },
    {
      "cell_type": "markdown",
      "metadata": {
        "id": "MAtGJ17n_bOV",
        "colab_type": "text"
      },
      "source": [
        "There are only 89 orders compared to the total of ~3.2 million provided by Instacart.\n",
        "\n",
        "Since the original dataset was way too big to load in a colab, we'll work with a smaller subset containing the data for 10 users. You won't need to change anything other than the name files if you want to run this code on the full dataset.\n",
        "\n",
        "\\**dfc*\\* : The code that I used to extract the data for the first 10 users and save it in new csv files can be found here: https://github.com/juemura/amli-kaggle-instacart/blob/master/Data.ipynb"
      ]
    },
    {
      "cell_type": "code",
      "metadata": {
        "id": "NoDvfsy5190q",
        "colab_type": "code",
        "outputId": "30490864-40c4-4b87-ad92-fd3102141923",
        "colab": {
          "base_uri": "https://localhost:8080/",
          "height": 221
        }
      },
      "source": [
        "# Import order_products__prior data:\n",
        "order_products__prior = pd.read_csv('https://raw.githubusercontent.com/juemura/amli-kaggle-instacart/master/order_products__prior_short.csv', index_col=0)\n",
        "print(order_products__prior.shape) # shape contains a tuple with the number of rows and the number of columns\n",
        "order_products__prior.head()"
      ],
      "execution_count": 0,
      "outputs": [
        {
          "output_type": "stream",
          "text": [
            "(885, 4)\n"
          ],
          "name": "stdout"
        },
        {
          "output_type": "execute_result",
          "data": {
            "text/html": [
              "<div>\n",
              "<style scoped>\n",
              "    .dataframe tbody tr th:only-of-type {\n",
              "        vertical-align: middle;\n",
              "    }\n",
              "\n",
              "    .dataframe tbody tr th {\n",
              "        vertical-align: top;\n",
              "    }\n",
              "\n",
              "    .dataframe thead th {\n",
              "        text-align: right;\n",
              "    }\n",
              "</style>\n",
              "<table border=\"1\" class=\"dataframe\">\n",
              "  <thead>\n",
              "    <tr style=\"text-align: right;\">\n",
              "      <th></th>\n",
              "      <th>order_id</th>\n",
              "      <th>product_id</th>\n",
              "      <th>add_to_cart_order</th>\n",
              "      <th>reordered</th>\n",
              "    </tr>\n",
              "  </thead>\n",
              "  <tbody>\n",
              "    <tr>\n",
              "      <th>221645</th>\n",
              "      <td>23391</td>\n",
              "      <td>13198</td>\n",
              "      <td>1</td>\n",
              "      <td>1</td>\n",
              "    </tr>\n",
              "    <tr>\n",
              "      <th>221646</th>\n",
              "      <td>23391</td>\n",
              "      <td>42803</td>\n",
              "      <td>2</td>\n",
              "      <td>1</td>\n",
              "    </tr>\n",
              "    <tr>\n",
              "      <th>221647</th>\n",
              "      <td>23391</td>\n",
              "      <td>8277</td>\n",
              "      <td>3</td>\n",
              "      <td>1</td>\n",
              "    </tr>\n",
              "    <tr>\n",
              "      <th>221648</th>\n",
              "      <td>23391</td>\n",
              "      <td>37602</td>\n",
              "      <td>4</td>\n",
              "      <td>1</td>\n",
              "    </tr>\n",
              "    <tr>\n",
              "      <th>221649</th>\n",
              "      <td>23391</td>\n",
              "      <td>40852</td>\n",
              "      <td>5</td>\n",
              "      <td>1</td>\n",
              "    </tr>\n",
              "  </tbody>\n",
              "</table>\n",
              "</div>"
            ],
            "text/plain": [
              "        order_id  product_id  add_to_cart_order  reordered\n",
              "221645     23391       13198                  1          1\n",
              "221646     23391       42803                  2          1\n",
              "221647     23391        8277                  3          1\n",
              "221648     23391       37602                  4          1\n",
              "221649     23391       40852                  5          1"
            ]
          },
          "metadata": {
            "tags": []
          },
          "execution_count": 4
        }
      ]
    },
    {
      "cell_type": "code",
      "metadata": {
        "id": "P84-0GBK2ATb",
        "colab_type": "code",
        "outputId": "992d0c16-072a-4155-d1cb-6dc02341c376",
        "colab": {
          "base_uri": "https://localhost:8080/",
          "height": 221
        }
      },
      "source": [
        "# Import order_products__train data:\n",
        "order_products__train = pd.read_csv('https://raw.githubusercontent.com/juemura/amli-kaggle-instacart/master/order_products__train_short.csv', index_col=0)\n",
        "print(order_products__train.shape)\n",
        "order_products__train.head()"
      ],
      "execution_count": 0,
      "outputs": [
        {
          "output_type": "stream",
          "text": [
            "(104, 4)\n"
          ],
          "name": "stdout"
        },
        {
          "output_type": "execute_result",
          "data": {
            "text/html": [
              "<div>\n",
              "<style scoped>\n",
              "    .dataframe tbody tr th:only-of-type {\n",
              "        vertical-align: middle;\n",
              "    }\n",
              "\n",
              "    .dataframe tbody tr th {\n",
              "        vertical-align: top;\n",
              "    }\n",
              "\n",
              "    .dataframe thead th {\n",
              "        text-align: right;\n",
              "    }\n",
              "</style>\n",
              "<table border=\"1\" class=\"dataframe\">\n",
              "  <thead>\n",
              "    <tr style=\"text-align: right;\">\n",
              "      <th></th>\n",
              "      <th>order_id</th>\n",
              "      <th>product_id</th>\n",
              "      <th>add_to_cart_order</th>\n",
              "      <th>reordered</th>\n",
              "    </tr>\n",
              "  </thead>\n",
              "  <tbody>\n",
              "    <tr>\n",
              "      <th>214306</th>\n",
              "      <td>525192</td>\n",
              "      <td>12053</td>\n",
              "      <td>1</td>\n",
              "      <td>0</td>\n",
              "    </tr>\n",
              "    <tr>\n",
              "      <th>214307</th>\n",
              "      <td>525192</td>\n",
              "      <td>47272</td>\n",
              "      <td>2</td>\n",
              "      <td>1</td>\n",
              "    </tr>\n",
              "    <tr>\n",
              "      <th>214308</th>\n",
              "      <td>525192</td>\n",
              "      <td>37999</td>\n",
              "      <td>3</td>\n",
              "      <td>1</td>\n",
              "    </tr>\n",
              "    <tr>\n",
              "      <th>214309</th>\n",
              "      <td>525192</td>\n",
              "      <td>13198</td>\n",
              "      <td>4</td>\n",
              "      <td>1</td>\n",
              "    </tr>\n",
              "    <tr>\n",
              "      <th>214310</th>\n",
              "      <td>525192</td>\n",
              "      <td>43967</td>\n",
              "      <td>5</td>\n",
              "      <td>1</td>\n",
              "    </tr>\n",
              "  </tbody>\n",
              "</table>\n",
              "</div>"
            ],
            "text/plain": [
              "        order_id  product_id  add_to_cart_order  reordered\n",
              "214306    525192       12053                  1          0\n",
              "214307    525192       47272                  2          1\n",
              "214308    525192       37999                  3          1\n",
              "214309    525192       13198                  4          1\n",
              "214310    525192       43967                  5          1"
            ]
          },
          "metadata": {
            "tags": []
          },
          "execution_count": 5
        }
      ]
    },
    {
      "cell_type": "code",
      "metadata": {
        "id": "63SrnPlWKIgT",
        "colab_type": "code",
        "outputId": "ecbbf883-4253-4850-d05d-3e26f5626f79",
        "colab": {
          "base_uri": "https://localhost:8080/",
          "height": 136
        }
      },
      "source": [
        "n_of_train_orders = len(orders_df[orders_df['eval_set'] == \"train\"])\n",
        "\n",
        "# Sanity check: \n",
        "assert(n_of_train_orders == len(order_products__train['order_id'].unique()))\n",
        "            # *dfc* Above are two ways to count how many orders are in the training set.\n",
        "            # This assertion helps us check if there is training data that is useless because\n",
        "            # it either has orders in orders_df that have no corresponding label \n",
        "            # in the training data (i.e., we don't know which products were included in \n",
        "            # that order), or we have labels but no way of matching them to a user.\n",
        "\n",
        "print(\"Number of orders in the training set: {}\".format(n_of_train_orders))\n",
        "print(\"\"\"This means that, out of the 10 users in this subset, we have the list of \n",
        "products included in their last order. The other 3 are the users for whom we need to\n",
        "make a prediction (test set). In the full data set these two sets correspond, respectively, \n",
        "to the training set data, which contains the last order for ~131k customers, \n",
        "and the test set, which contains 75k customers for which we need to predict what \n",
        "products were included in their last order.\"\"\")"
      ],
      "execution_count": 0,
      "outputs": [
        {
          "output_type": "stream",
          "text": [
            "Number of orders in the training set: 7\n",
            "This means that, out of the 10 users in this subset, we have the list of \n",
            "products included in their last order. The other 3 are the users for whom we need to\n",
            "make a prediction (test set). In the full data set these two sets correspond, respectively, \n",
            "to the training set data, which contains the last order for ~131k customers, \n",
            "and the test set, which contains 75k customers for which we need to predict what \n",
            "products were included in their last order.\n"
          ],
          "name": "stdout"
        }
      ]
    },
    {
      "cell_type": "code",
      "metadata": {
        "id": "44Gna3V7NpfZ",
        "colab_type": "code",
        "outputId": "62b2f3e0-0281-460d-ee7b-2c33811fef33",
        "colab": {
          "base_uri": "https://localhost:8080/",
          "height": 221
        }
      },
      "source": [
        "products_df = pd.read_csv('https://raw.githubusercontent.com/juemura/amli-kaggle-instacart/master/products_short.csv', index_col=0)\n",
        "print(products_df.shape)\n",
        "products_df.head()"
      ],
      "execution_count": 0,
      "outputs": [
        {
          "output_type": "stream",
          "text": [
            "(431, 4)\n"
          ],
          "name": "stdout"
        },
        {
          "output_type": "execute_result",
          "data": {
            "text/html": [
              "<div>\n",
              "<style scoped>\n",
              "    .dataframe tbody tr th:only-of-type {\n",
              "        vertical-align: middle;\n",
              "    }\n",
              "\n",
              "    .dataframe tbody tr th {\n",
              "        vertical-align: top;\n",
              "    }\n",
              "\n",
              "    .dataframe thead th {\n",
              "        text-align: right;\n",
              "    }\n",
              "</style>\n",
              "<table border=\"1\" class=\"dataframe\">\n",
              "  <thead>\n",
              "    <tr style=\"text-align: right;\">\n",
              "      <th></th>\n",
              "      <th>product_id</th>\n",
              "      <th>product_name</th>\n",
              "      <th>aisle_id</th>\n",
              "      <th>department_id</th>\n",
              "    </tr>\n",
              "  </thead>\n",
              "  <tbody>\n",
              "    <tr>\n",
              "      <th>22</th>\n",
              "      <td>23</td>\n",
              "      <td>Organic Turkey Burgers</td>\n",
              "      <td>49</td>\n",
              "      <td>12</td>\n",
              "    </tr>\n",
              "    <tr>\n",
              "      <th>78</th>\n",
              "      <td>79</td>\n",
              "      <td>Wild Albacore Tuna No Salt Added</td>\n",
              "      <td>95</td>\n",
              "      <td>15</td>\n",
              "    </tr>\n",
              "    <tr>\n",
              "      <th>195</th>\n",
              "      <td>196</td>\n",
              "      <td>Soda</td>\n",
              "      <td>77</td>\n",
              "      <td>7</td>\n",
              "    </tr>\n",
              "    <tr>\n",
              "      <th>247</th>\n",
              "      <td>248</td>\n",
              "      <td>Dried Sweetened Cranberries</td>\n",
              "      <td>117</td>\n",
              "      <td>19</td>\n",
              "    </tr>\n",
              "    <tr>\n",
              "      <th>259</th>\n",
              "      <td>260</td>\n",
              "      <td>Cantaloupe</td>\n",
              "      <td>24</td>\n",
              "      <td>4</td>\n",
              "    </tr>\n",
              "  </tbody>\n",
              "</table>\n",
              "</div>"
            ],
            "text/plain": [
              "     product_id                      product_name  aisle_id  department_id\n",
              "22           23            Organic Turkey Burgers        49             12\n",
              "78           79  Wild Albacore Tuna No Salt Added        95             15\n",
              "195         196                              Soda        77              7\n",
              "247         248       Dried Sweetened Cranberries       117             19\n",
              "259         260                        Cantaloupe        24              4"
            ]
          },
          "metadata": {
            "tags": []
          },
          "execution_count": 7
        }
      ]
    },
    {
      "cell_type": "code",
      "metadata": {
        "id": "8E46JS-K5s2r",
        "colab_type": "code",
        "outputId": "a3bc7182-b1c0-49e1-fb32-9bb33fdf9dd6",
        "colab": {
          "base_uri": "https://localhost:8080/",
          "height": 34
        }
      },
      "source": [
        "print(\"Number of unique products: {}\".format(len(products_df['product_id'].unique())))\n"
      ],
      "execution_count": 0,
      "outputs": [
        {
          "output_type": "stream",
          "text": [
            "Number of unique products: 431\n"
          ],
          "name": "stdout"
        }
      ]
    },
    {
      "cell_type": "markdown",
      "metadata": {
        "id": "DSLD2deEOEXS",
        "colab_type": "text"
      },
      "source": [
        "\n",
        "\n",
        "---\n",
        "\n",
        "### Making sense of the data set\n",
        "\n",
        "Let's take a look at an individual user."
      ]
    },
    {
      "cell_type": "code",
      "metadata": {
        "id": "EtJ6wlf1NJK7",
        "colab_type": "code",
        "outputId": "bc43a234-b159-43fb-91e3-46b0bec73620",
        "colab": {
          "base_uri": "https://localhost:8080/",
          "height": 390
        }
      },
      "source": [
        "orders_df[orders_df['user_id'] == 1] # *dfc* this is the syntax that you would use to return all of the rows that match a given condition"
      ],
      "execution_count": 0,
      "outputs": [
        {
          "output_type": "execute_result",
          "data": {
            "text/html": [
              "<div>\n",
              "<style scoped>\n",
              "    .dataframe tbody tr th:only-of-type {\n",
              "        vertical-align: middle;\n",
              "    }\n",
              "\n",
              "    .dataframe tbody tr th {\n",
              "        vertical-align: top;\n",
              "    }\n",
              "\n",
              "    .dataframe thead th {\n",
              "        text-align: right;\n",
              "    }\n",
              "</style>\n",
              "<table border=\"1\" class=\"dataframe\">\n",
              "  <thead>\n",
              "    <tr style=\"text-align: right;\">\n",
              "      <th></th>\n",
              "      <th>order_id</th>\n",
              "      <th>user_id</th>\n",
              "      <th>eval_set</th>\n",
              "      <th>order_number</th>\n",
              "      <th>order_dow</th>\n",
              "      <th>order_hour_of_day</th>\n",
              "      <th>days_since_prior_order</th>\n",
              "    </tr>\n",
              "  </thead>\n",
              "  <tbody>\n",
              "    <tr>\n",
              "      <th>0</th>\n",
              "      <td>2539329</td>\n",
              "      <td>1</td>\n",
              "      <td>prior</td>\n",
              "      <td>1</td>\n",
              "      <td>2</td>\n",
              "      <td>8</td>\n",
              "      <td>NaN</td>\n",
              "    </tr>\n",
              "    <tr>\n",
              "      <th>1</th>\n",
              "      <td>2398795</td>\n",
              "      <td>1</td>\n",
              "      <td>prior</td>\n",
              "      <td>2</td>\n",
              "      <td>3</td>\n",
              "      <td>7</td>\n",
              "      <td>15.0</td>\n",
              "    </tr>\n",
              "    <tr>\n",
              "      <th>2</th>\n",
              "      <td>473747</td>\n",
              "      <td>1</td>\n",
              "      <td>prior</td>\n",
              "      <td>3</td>\n",
              "      <td>3</td>\n",
              "      <td>12</td>\n",
              "      <td>21.0</td>\n",
              "    </tr>\n",
              "    <tr>\n",
              "      <th>3</th>\n",
              "      <td>2254736</td>\n",
              "      <td>1</td>\n",
              "      <td>prior</td>\n",
              "      <td>4</td>\n",
              "      <td>4</td>\n",
              "      <td>7</td>\n",
              "      <td>29.0</td>\n",
              "    </tr>\n",
              "    <tr>\n",
              "      <th>4</th>\n",
              "      <td>431534</td>\n",
              "      <td>1</td>\n",
              "      <td>prior</td>\n",
              "      <td>5</td>\n",
              "      <td>4</td>\n",
              "      <td>15</td>\n",
              "      <td>28.0</td>\n",
              "    </tr>\n",
              "    <tr>\n",
              "      <th>5</th>\n",
              "      <td>3367565</td>\n",
              "      <td>1</td>\n",
              "      <td>prior</td>\n",
              "      <td>6</td>\n",
              "      <td>2</td>\n",
              "      <td>7</td>\n",
              "      <td>19.0</td>\n",
              "    </tr>\n",
              "    <tr>\n",
              "      <th>6</th>\n",
              "      <td>550135</td>\n",
              "      <td>1</td>\n",
              "      <td>prior</td>\n",
              "      <td>7</td>\n",
              "      <td>1</td>\n",
              "      <td>9</td>\n",
              "      <td>20.0</td>\n",
              "    </tr>\n",
              "    <tr>\n",
              "      <th>7</th>\n",
              "      <td>3108588</td>\n",
              "      <td>1</td>\n",
              "      <td>prior</td>\n",
              "      <td>8</td>\n",
              "      <td>1</td>\n",
              "      <td>14</td>\n",
              "      <td>14.0</td>\n",
              "    </tr>\n",
              "    <tr>\n",
              "      <th>8</th>\n",
              "      <td>2295261</td>\n",
              "      <td>1</td>\n",
              "      <td>prior</td>\n",
              "      <td>9</td>\n",
              "      <td>1</td>\n",
              "      <td>16</td>\n",
              "      <td>0.0</td>\n",
              "    </tr>\n",
              "    <tr>\n",
              "      <th>9</th>\n",
              "      <td>2550362</td>\n",
              "      <td>1</td>\n",
              "      <td>prior</td>\n",
              "      <td>10</td>\n",
              "      <td>4</td>\n",
              "      <td>8</td>\n",
              "      <td>30.0</td>\n",
              "    </tr>\n",
              "    <tr>\n",
              "      <th>10</th>\n",
              "      <td>1187899</td>\n",
              "      <td>1</td>\n",
              "      <td>train</td>\n",
              "      <td>11</td>\n",
              "      <td>4</td>\n",
              "      <td>8</td>\n",
              "      <td>14.0</td>\n",
              "    </tr>\n",
              "  </tbody>\n",
              "</table>\n",
              "</div>"
            ],
            "text/plain": [
              "    order_id  user_id eval_set  order_number  order_dow  order_hour_of_day  \\\n",
              "0    2539329        1    prior             1          2                  8   \n",
              "1    2398795        1    prior             2          3                  7   \n",
              "2     473747        1    prior             3          3                 12   \n",
              "3    2254736        1    prior             4          4                  7   \n",
              "4     431534        1    prior             5          4                 15   \n",
              "5    3367565        1    prior             6          2                  7   \n",
              "6     550135        1    prior             7          1                  9   \n",
              "7    3108588        1    prior             8          1                 14   \n",
              "8    2295261        1    prior             9          1                 16   \n",
              "9    2550362        1    prior            10          4                  8   \n",
              "10   1187899        1    train            11          4                  8   \n",
              "\n",
              "    days_since_prior_order  \n",
              "0                      NaN  \n",
              "1                     15.0  \n",
              "2                     21.0  \n",
              "3                     29.0  \n",
              "4                     28.0  \n",
              "5                     19.0  \n",
              "6                     20.0  \n",
              "7                     14.0  \n",
              "8                      0.0  \n",
              "9                     30.0  \n",
              "10                    14.0  "
            ]
          },
          "metadata": {
            "tags": []
          },
          "execution_count": 8
        }
      ]
    },
    {
      "cell_type": "markdown",
      "metadata": {
        "id": "CDrBJIctPek9",
        "colab_type": "text"
      },
      "source": [
        "Ok, we see all of the data and how it's represented. But it's hard to actually visualize and understand it with all these numerical representations. This is another application of feature engineering. Sometimes you want to put all of your data in a format that is human friendly.\n",
        "\n",
        "Let's take a moment to transform our data set into a format that will help us understand what's going on.\n"
      ]
    },
    {
      "cell_type": "code",
      "metadata": {
        "id": "Po67zayIQnn2",
        "colab_type": "code",
        "outputId": "32385693-3d96-441e-ef67-41ccdaee6c7c",
        "colab": {
          "base_uri": "https://localhost:8080/",
          "height": 34
        }
      },
      "source": [
        "# Step 1: Create a list of fake aliases to represent each customer\n",
        "names = [\"Anna\", \"Betty\", \"Charles\", \"Duke\", \"Elisa\", \"Frank\", \"Gisela\", \"Homer\", \"Ingrid\", \"Jeff\"]\n",
        "\n",
        "# Step 2: Match each name to a user id and save the mapping in a dictionary\n",
        "# Short, pythonic version:\n",
        "aliases = dict(zip(orders_df['user_id'].unique(), names))\n",
        "print(aliases)"
      ],
      "execution_count": 0,
      "outputs": [
        {
          "output_type": "stream",
          "text": [
            "{1: 'Anna', 2: 'Betty', 3: 'Charles', 4: 'Duke', 5: 'Elisa', 6: 'Frank', 7: 'Gisela', 8: 'Homer', 9: 'Ingrid', 10: 'Jeff'}\n"
          ],
          "name": "stdout"
        }
      ]
    },
    {
      "cell_type": "code",
      "metadata": {
        "id": "L2e97kXWTHkF",
        "colab_type": "code",
        "outputId": "c7b6c6b1-b556-47da-ae94-fb512caa63a1",
        "colab": {
          "base_uri": "https://localhost:8080/",
          "height": 34
        }
      },
      "source": [
        "# *dfc* Longer but more digestible version (this does the exact same thing as line 6 in the previous cell, only with more lines of code):\n",
        "unique_customers = orders_df['user_id'].unique()\n",
        "print(unique_customers)"
      ],
      "execution_count": 0,
      "outputs": [
        {
          "output_type": "stream",
          "text": [
            "[ 1  2  3  4  5  6  7  8  9 10]\n"
          ],
          "name": "stdout"
        }
      ]
    },
    {
      "cell_type": "code",
      "metadata": {
        "id": "Y7sX6u2vTZNm",
        "colab_type": "code",
        "outputId": "763948e6-bf53-4f1c-f14d-e959bdfb9a77",
        "colab": {
          "base_uri": "https://localhost:8080/",
          "height": 34
        }
      },
      "source": [
        "aliases_vb = {} # Create empty dictionary\n",
        "for index, value in enumerate(unique_customers): # *dfc* we need to use enumerate to get both the index and value of an iterable.\n",
        "  aliases_vb[value] = names[index]\n",
        "  \n",
        "assert(aliases == aliases_vb)\n",
        "print(aliases_vb)"
      ],
      "execution_count": 0,
      "outputs": [
        {
          "output_type": "stream",
          "text": [
            "{1: 'Anna', 2: 'Betty', 3: 'Charles', 4: 'Duke', 5: 'Elisa', 6: 'Frank', 7: 'Gisela', 8: 'Homer', 9: 'Ingrid', 10: 'Jeff'}\n"
          ],
          "name": "stdout"
        }
      ]
    },
    {
      "cell_type": "code",
      "metadata": {
        "id": "wl-kxUREUkL_",
        "colab_type": "code",
        "outputId": "b115b3c3-122d-4d2a-dc8e-5cd06151c8a6",
        "colab": {
          "base_uri": "https://localhost:8080/",
          "height": 204
        }
      },
      "source": [
        "# Step 3: Replace user_id with names\n",
        "def id_to_name(row):\n",
        "  u_id = row['user_id']\n",
        "  return aliases[u_id]\n",
        "\n",
        "orders_df['customer'] = orders_df.apply(lambda row: id_to_name(row), axis=1)\n",
        "\n",
        "orders_df.head()"
      ],
      "execution_count": 0,
      "outputs": [
        {
          "output_type": "execute_result",
          "data": {
            "text/html": [
              "<div>\n",
              "<style scoped>\n",
              "    .dataframe tbody tr th:only-of-type {\n",
              "        vertical-align: middle;\n",
              "    }\n",
              "\n",
              "    .dataframe tbody tr th {\n",
              "        vertical-align: top;\n",
              "    }\n",
              "\n",
              "    .dataframe thead th {\n",
              "        text-align: right;\n",
              "    }\n",
              "</style>\n",
              "<table border=\"1\" class=\"dataframe\">\n",
              "  <thead>\n",
              "    <tr style=\"text-align: right;\">\n",
              "      <th></th>\n",
              "      <th>order_id</th>\n",
              "      <th>user_id</th>\n",
              "      <th>eval_set</th>\n",
              "      <th>order_number</th>\n",
              "      <th>order_dow</th>\n",
              "      <th>order_hour_of_day</th>\n",
              "      <th>days_since_prior_order</th>\n",
              "      <th>customer</th>\n",
              "    </tr>\n",
              "  </thead>\n",
              "  <tbody>\n",
              "    <tr>\n",
              "      <th>0</th>\n",
              "      <td>2539329</td>\n",
              "      <td>1</td>\n",
              "      <td>prior</td>\n",
              "      <td>1</td>\n",
              "      <td>2</td>\n",
              "      <td>8</td>\n",
              "      <td>NaN</td>\n",
              "      <td>Anna</td>\n",
              "    </tr>\n",
              "    <tr>\n",
              "      <th>1</th>\n",
              "      <td>2398795</td>\n",
              "      <td>1</td>\n",
              "      <td>prior</td>\n",
              "      <td>2</td>\n",
              "      <td>3</td>\n",
              "      <td>7</td>\n",
              "      <td>15.0</td>\n",
              "      <td>Anna</td>\n",
              "    </tr>\n",
              "    <tr>\n",
              "      <th>2</th>\n",
              "      <td>473747</td>\n",
              "      <td>1</td>\n",
              "      <td>prior</td>\n",
              "      <td>3</td>\n",
              "      <td>3</td>\n",
              "      <td>12</td>\n",
              "      <td>21.0</td>\n",
              "      <td>Anna</td>\n",
              "    </tr>\n",
              "    <tr>\n",
              "      <th>3</th>\n",
              "      <td>2254736</td>\n",
              "      <td>1</td>\n",
              "      <td>prior</td>\n",
              "      <td>4</td>\n",
              "      <td>4</td>\n",
              "      <td>7</td>\n",
              "      <td>29.0</td>\n",
              "      <td>Anna</td>\n",
              "    </tr>\n",
              "    <tr>\n",
              "      <th>4</th>\n",
              "      <td>431534</td>\n",
              "      <td>1</td>\n",
              "      <td>prior</td>\n",
              "      <td>5</td>\n",
              "      <td>4</td>\n",
              "      <td>15</td>\n",
              "      <td>28.0</td>\n",
              "      <td>Anna</td>\n",
              "    </tr>\n",
              "  </tbody>\n",
              "</table>\n",
              "</div>"
            ],
            "text/plain": [
              "   order_id  user_id eval_set  order_number  order_dow  order_hour_of_day  \\\n",
              "0   2539329        1    prior             1          2                  8   \n",
              "1   2398795        1    prior             2          3                  7   \n",
              "2    473747        1    prior             3          3                 12   \n",
              "3   2254736        1    prior             4          4                  7   \n",
              "4    431534        1    prior             5          4                 15   \n",
              "\n",
              "   days_since_prior_order customer  \n",
              "0                     NaN     Anna  \n",
              "1                    15.0     Anna  \n",
              "2                    21.0     Anna  \n",
              "3                    29.0     Anna  \n",
              "4                    28.0     Anna  "
            ]
          },
          "metadata": {
            "tags": []
          },
          "execution_count": 18
        }
      ]
    },
    {
      "cell_type": "markdown",
      "metadata": {
        "id": "bn-r0JSwZNzg",
        "colab_type": "text"
      },
      "source": [
        "*dfc* The example above shows one way to create a column. \"<code>apply</code>\" will apply a given function to every row of the dataframe.\n",
        "In this case you don't need to create a separate function (\"<code>id_to_name</code>\"), you could have simply done:"
      ]
    },
    {
      "cell_type": "code",
      "metadata": {
        "id": "-HQY9ryccNqg",
        "colab_type": "code",
        "outputId": "684eb4ba-35da-4c4d-f576-8afaf11f7fa0",
        "colab": {
          "base_uri": "https://localhost:8080/",
          "height": 204
        }
      },
      "source": [
        "*dfc*\n",
        "orders_df['c2'] = orders_df.apply(lambda row: aliases[row['user_id']], axis=1)\n",
        "orders_df.head()"
      ],
      "execution_count": 0,
      "outputs": [
        {
          "output_type": "execute_result",
          "data": {
            "text/html": [
              "<div>\n",
              "<style scoped>\n",
              "    .dataframe tbody tr th:only-of-type {\n",
              "        vertical-align: middle;\n",
              "    }\n",
              "\n",
              "    .dataframe tbody tr th {\n",
              "        vertical-align: top;\n",
              "    }\n",
              "\n",
              "    .dataframe thead th {\n",
              "        text-align: right;\n",
              "    }\n",
              "</style>\n",
              "<table border=\"1\" class=\"dataframe\">\n",
              "  <thead>\n",
              "    <tr style=\"text-align: right;\">\n",
              "      <th></th>\n",
              "      <th>order_id</th>\n",
              "      <th>user_id</th>\n",
              "      <th>eval_set</th>\n",
              "      <th>order_number</th>\n",
              "      <th>order_dow</th>\n",
              "      <th>order_hour_of_day</th>\n",
              "      <th>days_since_prior_order</th>\n",
              "      <th>customer</th>\n",
              "      <th>c2</th>\n",
              "    </tr>\n",
              "  </thead>\n",
              "  <tbody>\n",
              "    <tr>\n",
              "      <th>0</th>\n",
              "      <td>2539329</td>\n",
              "      <td>1</td>\n",
              "      <td>prior</td>\n",
              "      <td>1</td>\n",
              "      <td>2</td>\n",
              "      <td>8</td>\n",
              "      <td>NaN</td>\n",
              "      <td>Anna</td>\n",
              "      <td>Anna</td>\n",
              "    </tr>\n",
              "    <tr>\n",
              "      <th>1</th>\n",
              "      <td>2398795</td>\n",
              "      <td>1</td>\n",
              "      <td>prior</td>\n",
              "      <td>2</td>\n",
              "      <td>3</td>\n",
              "      <td>7</td>\n",
              "      <td>15.0</td>\n",
              "      <td>Anna</td>\n",
              "      <td>Anna</td>\n",
              "    </tr>\n",
              "    <tr>\n",
              "      <th>2</th>\n",
              "      <td>473747</td>\n",
              "      <td>1</td>\n",
              "      <td>prior</td>\n",
              "      <td>3</td>\n",
              "      <td>3</td>\n",
              "      <td>12</td>\n",
              "      <td>21.0</td>\n",
              "      <td>Anna</td>\n",
              "      <td>Anna</td>\n",
              "    </tr>\n",
              "    <tr>\n",
              "      <th>3</th>\n",
              "      <td>2254736</td>\n",
              "      <td>1</td>\n",
              "      <td>prior</td>\n",
              "      <td>4</td>\n",
              "      <td>4</td>\n",
              "      <td>7</td>\n",
              "      <td>29.0</td>\n",
              "      <td>Anna</td>\n",
              "      <td>Anna</td>\n",
              "    </tr>\n",
              "    <tr>\n",
              "      <th>4</th>\n",
              "      <td>431534</td>\n",
              "      <td>1</td>\n",
              "      <td>prior</td>\n",
              "      <td>5</td>\n",
              "      <td>4</td>\n",
              "      <td>15</td>\n",
              "      <td>28.0</td>\n",
              "      <td>Anna</td>\n",
              "      <td>Anna</td>\n",
              "    </tr>\n",
              "  </tbody>\n",
              "</table>\n",
              "</div>"
            ],
            "text/plain": [
              "   order_id  user_id eval_set  order_number  order_dow  order_hour_of_day  \\\n",
              "0   2539329        1    prior             1          2                  8   \n",
              "1   2398795        1    prior             2          3                  7   \n",
              "2    473747        1    prior             3          3                 12   \n",
              "3   2254736        1    prior             4          4                  7   \n",
              "4    431534        1    prior             5          4                 15   \n",
              "\n",
              "   days_since_prior_order customer    c2  \n",
              "0                     NaN     Anna  Anna  \n",
              "1                    15.0     Anna  Anna  \n",
              "2                    21.0     Anna  Anna  \n",
              "3                    29.0     Anna  Anna  \n",
              "4                    28.0     Anna  Anna  "
            ]
          },
          "metadata": {
            "tags": []
          },
          "execution_count": 22
        }
      ]
    },
    {
      "cell_type": "code",
      "metadata": {
        "id": "QkXkrT_1dehZ",
        "colab_type": "code",
        "colab": {}
      },
      "source": [
        "# *dfc*\n",
        "orders_df.drop('c2', inplace=True, axis=1)"
      ],
      "execution_count": 0,
      "outputs": []
    },
    {
      "cell_type": "markdown",
      "metadata": {
        "id": "U3SLD49Ncc5_",
        "colab_type": "text"
      },
      "source": [
        "*dfc* However, you couldn't have assigned <code>aliases[row['user_id']]</code> directly without using apply.\n",
        "\n",
        "<code>df['new_column'] = a_value  # works!</code> \n",
        "\n",
        "<code>df['new_column'] = df['old_column']  # works too!</code>\n",
        "\n",
        "Can you see why the examples below don't?"
      ]
    },
    {
      "cell_type": "code",
      "metadata": {
        "id": "cK923JgHZK_I",
        "colab_type": "code",
        "outputId": "d288a146-f405-4764-e507-831404dd3a58",
        "colab": {
          "base_uri": "https://localhost:8080/",
          "height": 351
        }
      },
      "source": [
        "# *dfc*\n",
        "orders_df['customer'] = aliases[orders_df['user_id']]\n",
        "# TypeError: 'Series' objects are mutable, thus they cannot be hashed\n",
        "\n",
        "orders_df['customer'] = aliases[int(orders_df['user_id'])]\n",
        "# TypeError: cannot convert the series to <class 'int'>"
      ],
      "execution_count": 0,
      "outputs": [
        {
          "output_type": "error",
          "ename": "TypeError",
          "evalue": "ignored",
          "traceback": [
            "\u001b[0;31m---------------------------------------------------------------------------\u001b[0m",
            "\u001b[0;31mTypeError\u001b[0m                                 Traceback (most recent call last)",
            "\u001b[0;32m<ipython-input-21-34d205ad5bf7>\u001b[0m in \u001b[0;36m<module>\u001b[0;34m()\u001b[0m\n\u001b[0;32m----> 1\u001b[0;31m \u001b[0morders_df\u001b[0m\u001b[0;34m[\u001b[0m\u001b[0;34m'c2'\u001b[0m\u001b[0;34m]\u001b[0m \u001b[0;34m=\u001b[0m \u001b[0maliases\u001b[0m\u001b[0;34m[\u001b[0m\u001b[0morders_df\u001b[0m\u001b[0;34m[\u001b[0m\u001b[0;34m'user_id'\u001b[0m\u001b[0;34m]\u001b[0m\u001b[0;34m]\u001b[0m\u001b[0;34m\u001b[0m\u001b[0;34m\u001b[0m\u001b[0m\n\u001b[0m\u001b[1;32m      2\u001b[0m \u001b[0;31m# TypeError: cannot convert the series to <class 'int'>\u001b[0m\u001b[0;34m\u001b[0m\u001b[0;34m\u001b[0m\u001b[0;34m\u001b[0m\u001b[0m\n\u001b[1;32m      3\u001b[0m \u001b[0;34m\u001b[0m\u001b[0m\n\u001b[1;32m      4\u001b[0m \u001b[0;31m# orders_df['customer'] = aliases[int(orders_df['user_id'])]\u001b[0m\u001b[0;34m\u001b[0m\u001b[0;34m\u001b[0m\u001b[0;34m\u001b[0m\u001b[0m\n\u001b[1;32m      5\u001b[0m \u001b[0;31m# TypeError: cannot convert the series to <class 'int'>\u001b[0m\u001b[0;34m\u001b[0m\u001b[0;34m\u001b[0m\u001b[0;34m\u001b[0m\u001b[0m\n",
            "\u001b[0;32m/usr/local/lib/python3.6/dist-packages/pandas/core/generic.py\u001b[0m in \u001b[0;36m__hash__\u001b[0;34m(self)\u001b[0m\n\u001b[1;32m   1043\u001b[0m     \u001b[0;32mdef\u001b[0m \u001b[0m__hash__\u001b[0m\u001b[0;34m(\u001b[0m\u001b[0mself\u001b[0m\u001b[0;34m)\u001b[0m\u001b[0;34m:\u001b[0m\u001b[0;34m\u001b[0m\u001b[0;34m\u001b[0m\u001b[0m\n\u001b[1;32m   1044\u001b[0m         raise TypeError('{0!r} objects are mutable, thus they cannot be'\n\u001b[0;32m-> 1045\u001b[0;31m                         ' hashed'.format(self.__class__.__name__))\n\u001b[0m\u001b[1;32m   1046\u001b[0m \u001b[0;34m\u001b[0m\u001b[0m\n\u001b[1;32m   1047\u001b[0m     \u001b[0;32mdef\u001b[0m \u001b[0m__iter__\u001b[0m\u001b[0;34m(\u001b[0m\u001b[0mself\u001b[0m\u001b[0;34m)\u001b[0m\u001b[0;34m:\u001b[0m\u001b[0;34m\u001b[0m\u001b[0;34m\u001b[0m\u001b[0m\n",
            "\u001b[0;31mTypeError\u001b[0m: 'Series' objects are mutable, thus they cannot be hashed"
          ]
        }
      ]
    },
    {
      "cell_type": "markdown",
      "metadata": {
        "id": "2B0SEGYrc2WA",
        "colab_type": "text"
      },
      "source": [
        "### Exercise 1: \n",
        "Create a column 'order_dow_time' that contains the day of the week and time period of the order (morning, afternoon, evening)"
      ]
    },
    {
      "cell_type": "code",
      "metadata": {
        "id": "mAjqOGThqWz3",
        "colab_type": "code",
        "colab": {}
      },
      "source": [
        "########################\n",
        "## YOUR CODE HERE\n",
        "########################\n",
        "\n"
      ],
      "execution_count": 0,
      "outputs": []
    },
    {
      "cell_type": "markdown",
      "metadata": {
        "id": "DdoPErAZfiG8",
        "colab_type": "text"
      },
      "source": [
        "#### Hint\n",
        "\n",
        "\n"
      ]
    },
    {
      "cell_type": "markdown",
      "metadata": {
        "id": "nVQVOLV-rAu8",
        "colab_type": "text"
      },
      "source": [
        "You can use a function like id_to_name and use if/else statements to check the value contained in two distinct columns."
      ]
    },
    {
      "cell_type": "markdown",
      "metadata": {
        "id": "oMwn8Eh6qbys",
        "colab_type": "text"
      },
      "source": [
        "### [add section] The replace function\n",
        "order_dow\torder_hour_of_day"
      ]
    },
    {
      "cell_type": "code",
      "metadata": {
        "id": "LGMo0ChHqbO8",
        "colab_type": "code",
        "colab": {}
      },
      "source": [
        ""
      ],
      "execution_count": 0,
      "outputs": []
    },
    {
      "cell_type": "markdown",
      "metadata": {
        "id": "EVKtymx1r0dV",
        "colab_type": "text"
      },
      "source": [
        "## Merging dataframes"
      ]
    },
    {
      "cell_type": "markdown",
      "metadata": {
        "id": "qEfyOWzGOYcw",
        "colab_type": "text"
      },
      "source": [
        "In order to train a model that will predict which previously purchased products will be in a customer's next order, we need to build a dataframe where each row represents a customer x product pair, so we can have a \"in_last_order\" column, which will be our label (output).\n",
        "\n",
        "The first step is to merge the orders_data with the dataframes that contain the information about which products were in each order.\n",
        "\n",
        "Pandas provides a <code>merge()</code> method. Go to https://pandas.pydata.org/pandas-docs/stable/user_guide/merging.html for a summary of the different ways to merge, join, and concatenate two dataframes."
      ]
    },
    {
      "cell_type": "code",
      "metadata": {
        "id": "hAqveXiWOG1Q",
        "colab_type": "code",
        "outputId": "4c35fc85-48e5-4514-fe44-4251ab63ca95",
        "colab": {
          "base_uri": "https://localhost:8080/",
          "height": 221
        }
      },
      "source": [
        "df = pd.merge(order_products__prior,orders_data, on=\"order_id\", how=\"inner\")[['eval_set', 'user_id', \n",
        "                                                                              'order_id', 'order_number', \n",
        "                                                                              'order_dow', 'order_hour_of_day', \n",
        "                                                                              'days_since_prior_order', 'product_id', \n",
        "                                                                              'add_to_cart_order', 'reordered']]\n",
        "print(\"Prior df merged with orders data: \", df.shape)\n",
        "df.head()"
      ],
      "execution_count": 0,
      "outputs": [
        {
          "output_type": "stream",
          "text": [
            "Prior df merged with orders data:  (885, 10)\n"
          ],
          "name": "stdout"
        },
        {
          "output_type": "execute_result",
          "data": {
            "text/html": [
              "<div>\n",
              "<style scoped>\n",
              "    .dataframe tbody tr th:only-of-type {\n",
              "        vertical-align: middle;\n",
              "    }\n",
              "\n",
              "    .dataframe tbody tr th {\n",
              "        vertical-align: top;\n",
              "    }\n",
              "\n",
              "    .dataframe thead th {\n",
              "        text-align: right;\n",
              "    }\n",
              "</style>\n",
              "<table border=\"1\" class=\"dataframe\">\n",
              "  <thead>\n",
              "    <tr style=\"text-align: right;\">\n",
              "      <th></th>\n",
              "      <th>eval_set</th>\n",
              "      <th>user_id</th>\n",
              "      <th>order_id</th>\n",
              "      <th>order_number</th>\n",
              "      <th>order_dow</th>\n",
              "      <th>order_hour_of_day</th>\n",
              "      <th>days_since_prior_order</th>\n",
              "      <th>product_id</th>\n",
              "      <th>add_to_cart_order</th>\n",
              "      <th>reordered</th>\n",
              "    </tr>\n",
              "  </thead>\n",
              "  <tbody>\n",
              "    <tr>\n",
              "      <th>0</th>\n",
              "      <td>prior</td>\n",
              "      <td>7</td>\n",
              "      <td>23391</td>\n",
              "      <td>17</td>\n",
              "      <td>0</td>\n",
              "      <td>10</td>\n",
              "      <td>28.0</td>\n",
              "      <td>13198</td>\n",
              "      <td>1</td>\n",
              "      <td>1</td>\n",
              "    </tr>\n",
              "    <tr>\n",
              "      <th>1</th>\n",
              "      <td>prior</td>\n",
              "      <td>7</td>\n",
              "      <td>23391</td>\n",
              "      <td>17</td>\n",
              "      <td>0</td>\n",
              "      <td>10</td>\n",
              "      <td>28.0</td>\n",
              "      <td>42803</td>\n",
              "      <td>2</td>\n",
              "      <td>1</td>\n",
              "    </tr>\n",
              "    <tr>\n",
              "      <th>2</th>\n",
              "      <td>prior</td>\n",
              "      <td>7</td>\n",
              "      <td>23391</td>\n",
              "      <td>17</td>\n",
              "      <td>0</td>\n",
              "      <td>10</td>\n",
              "      <td>28.0</td>\n",
              "      <td>8277</td>\n",
              "      <td>3</td>\n",
              "      <td>1</td>\n",
              "    </tr>\n",
              "    <tr>\n",
              "      <th>3</th>\n",
              "      <td>prior</td>\n",
              "      <td>7</td>\n",
              "      <td>23391</td>\n",
              "      <td>17</td>\n",
              "      <td>0</td>\n",
              "      <td>10</td>\n",
              "      <td>28.0</td>\n",
              "      <td>37602</td>\n",
              "      <td>4</td>\n",
              "      <td>1</td>\n",
              "    </tr>\n",
              "    <tr>\n",
              "      <th>4</th>\n",
              "      <td>prior</td>\n",
              "      <td>7</td>\n",
              "      <td>23391</td>\n",
              "      <td>17</td>\n",
              "      <td>0</td>\n",
              "      <td>10</td>\n",
              "      <td>28.0</td>\n",
              "      <td>40852</td>\n",
              "      <td>5</td>\n",
              "      <td>1</td>\n",
              "    </tr>\n",
              "  </tbody>\n",
              "</table>\n",
              "</div>"
            ],
            "text/plain": [
              "  eval_set  user_id  order_id  order_number  order_dow  order_hour_of_day  \\\n",
              "0    prior        7     23391            17          0                 10   \n",
              "1    prior        7     23391            17          0                 10   \n",
              "2    prior        7     23391            17          0                 10   \n",
              "3    prior        7     23391            17          0                 10   \n",
              "4    prior        7     23391            17          0                 10   \n",
              "\n",
              "   days_since_prior_order  product_id  add_to_cart_order  reordered  \n",
              "0                    28.0       13198                  1          1  \n",
              "1                    28.0       42803                  2          1  \n",
              "2                    28.0        8277                  3          1  \n",
              "3                    28.0       37602                  4          1  \n",
              "4                    28.0       40852                  5          1  "
            ]
          },
          "metadata": {
            "tags": []
          },
          "execution_count": 115
        }
      ]
    },
    {
      "cell_type": "markdown",
      "metadata": {
        "id": "TWh_hX7VVNWg",
        "colab_type": "text"
      },
      "source": [
        "We now have a table with one line per product per order. Note that we used an inner merge because we want the intersection of the two dataframes.\n",
        "Let's create some new columns to work with."
      ]
    },
    {
      "cell_type": "code",
      "metadata": {
        "id": "u7oR63vcUq7B",
        "colab_type": "code",
        "colab": {}
      },
      "source": [
        "df['reorder_total'] = df.groupby(['user_id', 'product_id'])['reordered'].transform('sum')\n",
        "df['user_product_id'] = df['product_id'] + df['user_id'].astype(np.int64) * 100000"
      ],
      "execution_count": 0,
      "outputs": []
    },
    {
      "cell_type": "markdown",
      "metadata": {
        "id": "0-kxpc5pWNd_",
        "colab_type": "text"
      },
      "source": [
        "**reorder_total** is the number of times a product was reordered by an individual user. If a user orders bananas 5 times, reorder_total will be 4.\n",
        "\n",
        "**user_product_id** concatenates user_id and product_id so that we have a unique identifier for each product ever purchased by a user. (this is not actually necessary, but it's an option)\n",
        "\n",
        "\n",
        "\n",
        "\n",
        "---\n",
        "\n",
        "\n",
        "## Your turn\n",
        "TODO: Create the following columns:\n",
        "* **no_of_orders:** the number of times a user placed an order.\n",
        "* **order_ratio:** the ratio of how many orders included a specific product out of the total number of orders that a user placed. \n",
        "\n",
        "We will be using these new columns to build our features."
      ]
    },
    {
      "cell_type": "code",
      "metadata": {
        "id": "lrV99bysXEBl",
        "colab_type": "code",
        "colab": {}
      },
      "source": [
        "########################\n",
        "## YOUR CODE HERE\n",
        "########################\n",
        "\n"
      ],
      "execution_count": 0,
      "outputs": []
    },
    {
      "cell_type": "code",
      "metadata": {
        "id": "4Wv_UhGtX-0j",
        "colab_type": "code",
        "colab": {}
      },
      "source": [
        "# AK 1\n",
        "df['no_of_orders'] = df.groupby(['user_id'])['order_number'].transform('max')\n",
        "df['order_ratio'] = (df['reorder_total'] + 1) / df['no_of_orders']"
      ],
      "execution_count": 0,
      "outputs": []
    },
    {
      "cell_type": "code",
      "metadata": {
        "id": "Ra_jM6PfcdzG",
        "colab_type": "code",
        "outputId": "2f10427f-3255-4b15-c0cc-4e24c4f018e3",
        "colab": {
          "base_uri": "https://localhost:8080/",
          "height": 241
        }
      },
      "source": [
        "rows = df.shape[0] # this will be used later to make sure we did our merge correctly\n",
        "print(df.shape)\n",
        "df.head()"
      ],
      "execution_count": 0,
      "outputs": [
        {
          "output_type": "stream",
          "text": [
            "(885, 14)\n"
          ],
          "name": "stdout"
        },
        {
          "output_type": "execute_result",
          "data": {
            "text/html": [
              "<div>\n",
              "<style scoped>\n",
              "    .dataframe tbody tr th:only-of-type {\n",
              "        vertical-align: middle;\n",
              "    }\n",
              "\n",
              "    .dataframe tbody tr th {\n",
              "        vertical-align: top;\n",
              "    }\n",
              "\n",
              "    .dataframe thead th {\n",
              "        text-align: right;\n",
              "    }\n",
              "</style>\n",
              "<table border=\"1\" class=\"dataframe\">\n",
              "  <thead>\n",
              "    <tr style=\"text-align: right;\">\n",
              "      <th></th>\n",
              "      <th>eval_set</th>\n",
              "      <th>user_id</th>\n",
              "      <th>order_id</th>\n",
              "      <th>order_number</th>\n",
              "      <th>order_dow</th>\n",
              "      <th>order_hour_of_day</th>\n",
              "      <th>days_since_prior_order</th>\n",
              "      <th>product_id</th>\n",
              "      <th>add_to_cart_order</th>\n",
              "      <th>reordered</th>\n",
              "      <th>reorder_total</th>\n",
              "      <th>user_product_id</th>\n",
              "      <th>no_of_orders</th>\n",
              "      <th>order_ratio</th>\n",
              "    </tr>\n",
              "  </thead>\n",
              "  <tbody>\n",
              "    <tr>\n",
              "      <th>0</th>\n",
              "      <td>prior</td>\n",
              "      <td>7</td>\n",
              "      <td>23391</td>\n",
              "      <td>17</td>\n",
              "      <td>0</td>\n",
              "      <td>10</td>\n",
              "      <td>28.0</td>\n",
              "      <td>13198</td>\n",
              "      <td>1</td>\n",
              "      <td>1</td>\n",
              "      <td>7</td>\n",
              "      <td>713198</td>\n",
              "      <td>20</td>\n",
              "      <td>0.40</td>\n",
              "    </tr>\n",
              "    <tr>\n",
              "      <th>1</th>\n",
              "      <td>prior</td>\n",
              "      <td>7</td>\n",
              "      <td>23391</td>\n",
              "      <td>17</td>\n",
              "      <td>0</td>\n",
              "      <td>10</td>\n",
              "      <td>28.0</td>\n",
              "      <td>42803</td>\n",
              "      <td>2</td>\n",
              "      <td>1</td>\n",
              "      <td>6</td>\n",
              "      <td>742803</td>\n",
              "      <td>20</td>\n",
              "      <td>0.35</td>\n",
              "    </tr>\n",
              "    <tr>\n",
              "      <th>2</th>\n",
              "      <td>prior</td>\n",
              "      <td>7</td>\n",
              "      <td>23391</td>\n",
              "      <td>17</td>\n",
              "      <td>0</td>\n",
              "      <td>10</td>\n",
              "      <td>28.0</td>\n",
              "      <td>8277</td>\n",
              "      <td>3</td>\n",
              "      <td>1</td>\n",
              "      <td>2</td>\n",
              "      <td>708277</td>\n",
              "      <td>20</td>\n",
              "      <td>0.15</td>\n",
              "    </tr>\n",
              "    <tr>\n",
              "      <th>3</th>\n",
              "      <td>prior</td>\n",
              "      <td>7</td>\n",
              "      <td>23391</td>\n",
              "      <td>17</td>\n",
              "      <td>0</td>\n",
              "      <td>10</td>\n",
              "      <td>28.0</td>\n",
              "      <td>37602</td>\n",
              "      <td>4</td>\n",
              "      <td>1</td>\n",
              "      <td>11</td>\n",
              "      <td>737602</td>\n",
              "      <td>20</td>\n",
              "      <td>0.60</td>\n",
              "    </tr>\n",
              "    <tr>\n",
              "      <th>4</th>\n",
              "      <td>prior</td>\n",
              "      <td>7</td>\n",
              "      <td>23391</td>\n",
              "      <td>17</td>\n",
              "      <td>0</td>\n",
              "      <td>10</td>\n",
              "      <td>28.0</td>\n",
              "      <td>40852</td>\n",
              "      <td>5</td>\n",
              "      <td>1</td>\n",
              "      <td>12</td>\n",
              "      <td>740852</td>\n",
              "      <td>20</td>\n",
              "      <td>0.65</td>\n",
              "    </tr>\n",
              "  </tbody>\n",
              "</table>\n",
              "</div>"
            ],
            "text/plain": [
              "  eval_set  user_id  order_id  order_number  order_dow  order_hour_of_day  \\\n",
              "0    prior        7     23391            17          0                 10   \n",
              "1    prior        7     23391            17          0                 10   \n",
              "2    prior        7     23391            17          0                 10   \n",
              "3    prior        7     23391            17          0                 10   \n",
              "4    prior        7     23391            17          0                 10   \n",
              "\n",
              "   days_since_prior_order  product_id  add_to_cart_order  reordered  \\\n",
              "0                    28.0       13198                  1          1   \n",
              "1                    28.0       42803                  2          1   \n",
              "2                    28.0        8277                  3          1   \n",
              "3                    28.0       37602                  4          1   \n",
              "4                    28.0       40852                  5          1   \n",
              "\n",
              "   reorder_total  user_product_id  no_of_orders  order_ratio  \n",
              "0              7           713198            20         0.40  \n",
              "1              6           742803            20         0.35  \n",
              "2              2           708277            20         0.15  \n",
              "3             11           737602            20         0.60  \n",
              "4             12           740852            20         0.65  "
            ]
          },
          "metadata": {
            "tags": []
          },
          "execution_count": 118
        }
      ]
    },
    {
      "cell_type": "markdown",
      "metadata": {
        "id": "NtqceKe9X64O",
        "colab_type": "text"
      },
      "source": [
        "Now we will begin creating our labels. \n",
        "\n",
        "TODO: Merge the orders data with the training data.\n",
        "Note that we only need the user_id and product_id columns. Why?"
      ]
    },
    {
      "cell_type": "code",
      "metadata": {
        "id": "61V64e0waDNC",
        "colab_type": "code",
        "colab": {}
      },
      "source": [
        "########################\n",
        "## YOUR CODE HERE\n",
        "########################\n",
        "\n"
      ],
      "execution_count": 0,
      "outputs": []
    },
    {
      "cell_type": "code",
      "metadata": {
        "id": "RtVZHkffaFpx",
        "colab_type": "code",
        "colab": {}
      },
      "source": [
        "# AK 2\n",
        "labels = pd.merge(order_products__train,orders_data, on=\"order_id\", how=\"inner\")[['user_id', 'product_id']]\n"
      ],
      "execution_count": 0,
      "outputs": []
    },
    {
      "cell_type": "code",
      "metadata": {
        "id": "-nAEKHyua1ox",
        "colab_type": "code",
        "outputId": "954c132d-c666-4c60-ae46-0c0550336a71",
        "colab": {
          "base_uri": "https://localhost:8080/",
          "height": 255
        }
      },
      "source": [
        "print(\"labels: \", labels.shape)\n",
        "n_of_customers = len(labels.user_id.unique())\n",
        "print(\"Number of customers: \", n_of_customers)\n",
        "print(\"This is the last order of {} customers, which will be used to create the Y label and train the model.\".format(n_of_customers))\n",
        "labels.head()"
      ],
      "execution_count": 0,
      "outputs": [
        {
          "output_type": "stream",
          "text": [
            "labels:  (104, 2)\n",
            "Number of customers:  7\n",
            "This is the last order of 7 customers, which will be used to create the Y label and train the model.\n"
          ],
          "name": "stdout"
        },
        {
          "output_type": "execute_result",
          "data": {
            "text/html": [
              "<div>\n",
              "<style scoped>\n",
              "    .dataframe tbody tr th:only-of-type {\n",
              "        vertical-align: middle;\n",
              "    }\n",
              "\n",
              "    .dataframe tbody tr th {\n",
              "        vertical-align: top;\n",
              "    }\n",
              "\n",
              "    .dataframe thead th {\n",
              "        text-align: right;\n",
              "    }\n",
              "</style>\n",
              "<table border=\"1\" class=\"dataframe\">\n",
              "  <thead>\n",
              "    <tr style=\"text-align: right;\">\n",
              "      <th></th>\n",
              "      <th>user_id</th>\n",
              "      <th>product_id</th>\n",
              "    </tr>\n",
              "  </thead>\n",
              "  <tbody>\n",
              "    <tr>\n",
              "      <th>0</th>\n",
              "      <td>7</td>\n",
              "      <td>12053</td>\n",
              "    </tr>\n",
              "    <tr>\n",
              "      <th>1</th>\n",
              "      <td>7</td>\n",
              "      <td>47272</td>\n",
              "    </tr>\n",
              "    <tr>\n",
              "      <th>2</th>\n",
              "      <td>7</td>\n",
              "      <td>37999</td>\n",
              "    </tr>\n",
              "    <tr>\n",
              "      <th>3</th>\n",
              "      <td>7</td>\n",
              "      <td>13198</td>\n",
              "    </tr>\n",
              "    <tr>\n",
              "      <th>4</th>\n",
              "      <td>7</td>\n",
              "      <td>43967</td>\n",
              "    </tr>\n",
              "  </tbody>\n",
              "</table>\n",
              "</div>"
            ],
            "text/plain": [
              "   user_id  product_id\n",
              "0        7       12053\n",
              "1        7       47272\n",
              "2        7       37999\n",
              "3        7       13198\n",
              "4        7       43967"
            ]
          },
          "metadata": {
            "tags": []
          },
          "execution_count": 120
        }
      ]
    },
    {
      "cell_type": "markdown",
      "metadata": {
        "id": "SpS-9NndcsFX",
        "colab_type": "text"
      },
      "source": [
        "This is looking good!\n",
        "\n",
        "We need to use *labels* to create a column in *df* indicating which products were in the last order. \n",
        "To do that, we need to merge labels with our initial dataset.\n",
        "\n",
        "TODO: Create a column **in_last_order** filled with 1's (*label* represents the products that were included in the last order, so in_last_order is True for every row)."
      ]
    },
    {
      "cell_type": "code",
      "metadata": {
        "id": "KvpFGtXOa21d",
        "colab_type": "code",
        "colab": {}
      },
      "source": [
        "########################\n",
        "## YOUR CODE HERE\n",
        "########################\n",
        "\n"
      ],
      "execution_count": 0,
      "outputs": []
    },
    {
      "cell_type": "code",
      "metadata": {
        "id": "SgQcZwXUfxKY",
        "colab_type": "code",
        "colab": {}
      },
      "source": [
        "# AK 3\n",
        "labels['in_last_order'] = 1"
      ],
      "execution_count": 0,
      "outputs": []
    },
    {
      "cell_type": "markdown",
      "metadata": {
        "id": "ixR1gQxmgPBh",
        "colab_type": "text"
      },
      "source": [
        "Finally, we need to put it all together.\n",
        "\n",
        "TODO: \n",
        "1. Merge labels with df. Hint: You will need to do a left merge.\n",
        "2. Indicate which items were not in the last order by filling the NaN values with 0's.\n",
        "\n",
        "Hint: You can merge on multiple columns by using a list, or you can use the user_product_id column."
      ]
    },
    {
      "cell_type": "code",
      "metadata": {
        "id": "xYJ2h9qDhSGN",
        "colab_type": "code",
        "colab": {}
      },
      "source": [
        "########################\n",
        "## YOUR CODE HERE\n",
        "########################\n",
        "\n"
      ],
      "execution_count": 0,
      "outputs": []
    },
    {
      "cell_type": "code",
      "metadata": {
        "id": "GR_LytMbhTF9",
        "colab_type": "code",
        "outputId": "87ff9b19-922b-4421-9e83-3da756b8f138",
        "colab": {
          "base_uri": "https://localhost:8080/",
          "height": 224
        }
      },
      "source": [
        "# AK 4\n",
        "df = pd.merge(df, labels, how='left', on=['user_id', 'product_id'])\n",
        "df['in_last_order'].fillna(0, inplace=True)\n",
        "df['in_last_order'] = df['in_last_order'].astype('int32')\n",
        "df.head()"
      ],
      "execution_count": 0,
      "outputs": [
        {
          "output_type": "execute_result",
          "data": {
            "text/html": [
              "<div>\n",
              "<style scoped>\n",
              "    .dataframe tbody tr th:only-of-type {\n",
              "        vertical-align: middle;\n",
              "    }\n",
              "\n",
              "    .dataframe tbody tr th {\n",
              "        vertical-align: top;\n",
              "    }\n",
              "\n",
              "    .dataframe thead th {\n",
              "        text-align: right;\n",
              "    }\n",
              "</style>\n",
              "<table border=\"1\" class=\"dataframe\">\n",
              "  <thead>\n",
              "    <tr style=\"text-align: right;\">\n",
              "      <th></th>\n",
              "      <th>eval_set</th>\n",
              "      <th>user_id</th>\n",
              "      <th>order_id</th>\n",
              "      <th>order_number</th>\n",
              "      <th>order_dow</th>\n",
              "      <th>order_hour_of_day</th>\n",
              "      <th>days_since_prior_order</th>\n",
              "      <th>product_id</th>\n",
              "      <th>add_to_cart_order</th>\n",
              "      <th>reordered</th>\n",
              "      <th>reorder_total</th>\n",
              "      <th>user_product_id</th>\n",
              "      <th>no_of_orders</th>\n",
              "      <th>order_ratio</th>\n",
              "      <th>in_last_order</th>\n",
              "    </tr>\n",
              "  </thead>\n",
              "  <tbody>\n",
              "    <tr>\n",
              "      <th>0</th>\n",
              "      <td>prior</td>\n",
              "      <td>7</td>\n",
              "      <td>23391</td>\n",
              "      <td>17</td>\n",
              "      <td>0</td>\n",
              "      <td>10</td>\n",
              "      <td>28.0</td>\n",
              "      <td>13198</td>\n",
              "      <td>1</td>\n",
              "      <td>1</td>\n",
              "      <td>7</td>\n",
              "      <td>713198</td>\n",
              "      <td>20</td>\n",
              "      <td>0.40</td>\n",
              "      <td>1</td>\n",
              "    </tr>\n",
              "    <tr>\n",
              "      <th>1</th>\n",
              "      <td>prior</td>\n",
              "      <td>7</td>\n",
              "      <td>23391</td>\n",
              "      <td>17</td>\n",
              "      <td>0</td>\n",
              "      <td>10</td>\n",
              "      <td>28.0</td>\n",
              "      <td>42803</td>\n",
              "      <td>2</td>\n",
              "      <td>1</td>\n",
              "      <td>6</td>\n",
              "      <td>742803</td>\n",
              "      <td>20</td>\n",
              "      <td>0.35</td>\n",
              "      <td>0</td>\n",
              "    </tr>\n",
              "    <tr>\n",
              "      <th>2</th>\n",
              "      <td>prior</td>\n",
              "      <td>7</td>\n",
              "      <td>23391</td>\n",
              "      <td>17</td>\n",
              "      <td>0</td>\n",
              "      <td>10</td>\n",
              "      <td>28.0</td>\n",
              "      <td>8277</td>\n",
              "      <td>3</td>\n",
              "      <td>1</td>\n",
              "      <td>2</td>\n",
              "      <td>708277</td>\n",
              "      <td>20</td>\n",
              "      <td>0.15</td>\n",
              "      <td>0</td>\n",
              "    </tr>\n",
              "    <tr>\n",
              "      <th>3</th>\n",
              "      <td>prior</td>\n",
              "      <td>7</td>\n",
              "      <td>23391</td>\n",
              "      <td>17</td>\n",
              "      <td>0</td>\n",
              "      <td>10</td>\n",
              "      <td>28.0</td>\n",
              "      <td>37602</td>\n",
              "      <td>4</td>\n",
              "      <td>1</td>\n",
              "      <td>11</td>\n",
              "      <td>737602</td>\n",
              "      <td>20</td>\n",
              "      <td>0.60</td>\n",
              "      <td>0</td>\n",
              "    </tr>\n",
              "    <tr>\n",
              "      <th>4</th>\n",
              "      <td>prior</td>\n",
              "      <td>7</td>\n",
              "      <td>23391</td>\n",
              "      <td>17</td>\n",
              "      <td>0</td>\n",
              "      <td>10</td>\n",
              "      <td>28.0</td>\n",
              "      <td>40852</td>\n",
              "      <td>5</td>\n",
              "      <td>1</td>\n",
              "      <td>12</td>\n",
              "      <td>740852</td>\n",
              "      <td>20</td>\n",
              "      <td>0.65</td>\n",
              "      <td>1</td>\n",
              "    </tr>\n",
              "  </tbody>\n",
              "</table>\n",
              "</div>"
            ],
            "text/plain": [
              "  eval_set  user_id  order_id  order_number  order_dow  order_hour_of_day  \\\n",
              "0    prior        7     23391            17          0                 10   \n",
              "1    prior        7     23391            17          0                 10   \n",
              "2    prior        7     23391            17          0                 10   \n",
              "3    prior        7     23391            17          0                 10   \n",
              "4    prior        7     23391            17          0                 10   \n",
              "\n",
              "   days_since_prior_order  product_id  add_to_cart_order  reordered  \\\n",
              "0                    28.0       13198                  1          1   \n",
              "1                    28.0       42803                  2          1   \n",
              "2                    28.0        8277                  3          1   \n",
              "3                    28.0       37602                  4          1   \n",
              "4                    28.0       40852                  5          1   \n",
              "\n",
              "   reorder_total  user_product_id  no_of_orders  order_ratio  in_last_order  \n",
              "0              7           713198            20         0.40              1  \n",
              "1              6           742803            20         0.35              0  \n",
              "2              2           708277            20         0.15              0  \n",
              "3             11           737602            20         0.60              0  \n",
              "4             12           740852            20         0.65              1  "
            ]
          },
          "metadata": {
            "tags": []
          },
          "execution_count": 122
        }
      ]
    },
    {
      "cell_type": "code",
      "metadata": {
        "id": "-4eC3LfwiNs5",
        "colab_type": "code",
        "colab": {}
      },
      "source": [
        "# Sanity check to make sure we didn't add any rows.\n",
        "assert(df.shape[0] == rows)"
      ],
      "execution_count": 0,
      "outputs": []
    },
    {
      "cell_type": "markdown",
      "metadata": {
        "id": "DBJ_06SPmbXc",
        "colab_type": "text"
      },
      "source": [
        "That's it! Your data is now ready for feature selection. Once you figure out which features you want to use, and possibly create a few more, you will be able to split this dataframe into input/output and use it to train your model. Note: you might want to use <code>df.drop_duplicates(subset=['user_id', 'product_id'], inplace=True)</code>. Why?\n",
        "\n",
        "\n",
        "## Bonus\n",
        "Say you needed to create a spreadsheet using product names instead of their id's (so humans could understand it). You could merge df with the products_data, but you could also use a lambda function. See the example below:"
      ]
    },
    {
      "cell_type": "code",
      "metadata": {
        "id": "E4mI27TWsBHD",
        "colab_type": "code",
        "outputId": "46698325-9d41-4955-bc1c-53c299718a06",
        "colab": {
          "base_uri": "https://localhost:8080/",
          "height": 292
        }
      },
      "source": [
        "print(df.columns.values)\n",
        "df.head()"
      ],
      "execution_count": 0,
      "outputs": [
        {
          "output_type": "stream",
          "text": [
            "['eval_set' 'user_id' 'order_id' 'order_number' 'order_dow'\n",
            " 'order_hour_of_day' 'days_since_prior_order' 'product_id'\n",
            " 'add_to_cart_order' 'reordered' 'reorder_total' 'user_product_id'\n",
            " 'no_of_orders' 'order_ratio' 'in_last_order']\n"
          ],
          "name": "stdout"
        },
        {
          "output_type": "execute_result",
          "data": {
            "text/html": [
              "<div>\n",
              "<style scoped>\n",
              "    .dataframe tbody tr th:only-of-type {\n",
              "        vertical-align: middle;\n",
              "    }\n",
              "\n",
              "    .dataframe tbody tr th {\n",
              "        vertical-align: top;\n",
              "    }\n",
              "\n",
              "    .dataframe thead th {\n",
              "        text-align: right;\n",
              "    }\n",
              "</style>\n",
              "<table border=\"1\" class=\"dataframe\">\n",
              "  <thead>\n",
              "    <tr style=\"text-align: right;\">\n",
              "      <th></th>\n",
              "      <th>eval_set</th>\n",
              "      <th>user_id</th>\n",
              "      <th>order_id</th>\n",
              "      <th>order_number</th>\n",
              "      <th>order_dow</th>\n",
              "      <th>order_hour_of_day</th>\n",
              "      <th>days_since_prior_order</th>\n",
              "      <th>product_id</th>\n",
              "      <th>add_to_cart_order</th>\n",
              "      <th>reordered</th>\n",
              "      <th>reorder_total</th>\n",
              "      <th>user_product_id</th>\n",
              "      <th>no_of_orders</th>\n",
              "      <th>order_ratio</th>\n",
              "      <th>in_last_order</th>\n",
              "    </tr>\n",
              "  </thead>\n",
              "  <tbody>\n",
              "    <tr>\n",
              "      <th>0</th>\n",
              "      <td>prior</td>\n",
              "      <td>7</td>\n",
              "      <td>23391</td>\n",
              "      <td>17</td>\n",
              "      <td>0</td>\n",
              "      <td>10</td>\n",
              "      <td>28.0</td>\n",
              "      <td>13198</td>\n",
              "      <td>1</td>\n",
              "      <td>1</td>\n",
              "      <td>7</td>\n",
              "      <td>713198</td>\n",
              "      <td>20</td>\n",
              "      <td>0.40</td>\n",
              "      <td>1</td>\n",
              "    </tr>\n",
              "    <tr>\n",
              "      <th>1</th>\n",
              "      <td>prior</td>\n",
              "      <td>7</td>\n",
              "      <td>23391</td>\n",
              "      <td>17</td>\n",
              "      <td>0</td>\n",
              "      <td>10</td>\n",
              "      <td>28.0</td>\n",
              "      <td>42803</td>\n",
              "      <td>2</td>\n",
              "      <td>1</td>\n",
              "      <td>6</td>\n",
              "      <td>742803</td>\n",
              "      <td>20</td>\n",
              "      <td>0.35</td>\n",
              "      <td>0</td>\n",
              "    </tr>\n",
              "    <tr>\n",
              "      <th>2</th>\n",
              "      <td>prior</td>\n",
              "      <td>7</td>\n",
              "      <td>23391</td>\n",
              "      <td>17</td>\n",
              "      <td>0</td>\n",
              "      <td>10</td>\n",
              "      <td>28.0</td>\n",
              "      <td>8277</td>\n",
              "      <td>3</td>\n",
              "      <td>1</td>\n",
              "      <td>2</td>\n",
              "      <td>708277</td>\n",
              "      <td>20</td>\n",
              "      <td>0.15</td>\n",
              "      <td>0</td>\n",
              "    </tr>\n",
              "    <tr>\n",
              "      <th>3</th>\n",
              "      <td>prior</td>\n",
              "      <td>7</td>\n",
              "      <td>23391</td>\n",
              "      <td>17</td>\n",
              "      <td>0</td>\n",
              "      <td>10</td>\n",
              "      <td>28.0</td>\n",
              "      <td>37602</td>\n",
              "      <td>4</td>\n",
              "      <td>1</td>\n",
              "      <td>11</td>\n",
              "      <td>737602</td>\n",
              "      <td>20</td>\n",
              "      <td>0.60</td>\n",
              "      <td>0</td>\n",
              "    </tr>\n",
              "    <tr>\n",
              "      <th>4</th>\n",
              "      <td>prior</td>\n",
              "      <td>7</td>\n",
              "      <td>23391</td>\n",
              "      <td>17</td>\n",
              "      <td>0</td>\n",
              "      <td>10</td>\n",
              "      <td>28.0</td>\n",
              "      <td>40852</td>\n",
              "      <td>5</td>\n",
              "      <td>1</td>\n",
              "      <td>12</td>\n",
              "      <td>740852</td>\n",
              "      <td>20</td>\n",
              "      <td>0.65</td>\n",
              "      <td>1</td>\n",
              "    </tr>\n",
              "  </tbody>\n",
              "</table>\n",
              "</div>"
            ],
            "text/plain": [
              "  eval_set  user_id  order_id  order_number  order_dow  order_hour_of_day  \\\n",
              "0    prior        7     23391            17          0                 10   \n",
              "1    prior        7     23391            17          0                 10   \n",
              "2    prior        7     23391            17          0                 10   \n",
              "3    prior        7     23391            17          0                 10   \n",
              "4    prior        7     23391            17          0                 10   \n",
              "\n",
              "   days_since_prior_order  product_id  add_to_cart_order  reordered  \\\n",
              "0                    28.0       13198                  1          1   \n",
              "1                    28.0       42803                  2          1   \n",
              "2                    28.0        8277                  3          1   \n",
              "3                    28.0       37602                  4          1   \n",
              "4                    28.0       40852                  5          1   \n",
              "\n",
              "   reorder_total  user_product_id  no_of_orders  order_ratio  in_last_order  \n",
              "0              7           713198            20         0.40              1  \n",
              "1              6           742803            20         0.35              0  \n",
              "2              2           708277            20         0.15              0  \n",
              "3             11           737602            20         0.60              0  \n",
              "4             12           740852            20         0.65              1  "
            ]
          },
          "metadata": {
            "tags": []
          },
          "execution_count": 124
        }
      ]
    },
    {
      "cell_type": "code",
      "metadata": {
        "id": "yoTf45oznk0a",
        "colab_type": "code",
        "outputId": "4a6c07c1-fbdf-472f-c1a7-6f75152539b9",
        "colab": {
          "base_uri": "https://localhost:8080/",
          "height": 377
        }
      },
      "source": [
        "product_dict = dict(zip(products_data.product_id, products_data.product_name))\n",
        "\n",
        "def get_name(row):\n",
        "  return product_dict[row['product_id']]\n",
        "\n",
        "df['product_name'] = df.apply(lambda row: get_name(row), axis=1)\n",
        "print(df.columns.values)\n",
        "df.head()\n"
      ],
      "execution_count": 0,
      "outputs": [
        {
          "output_type": "stream",
          "text": [
            "['eval_set' 'user_id' 'order_id' 'order_number' 'order_dow'\n",
            " 'order_hour_of_day' 'days_since_prior_order' 'product_id'\n",
            " 'add_to_cart_order' 'reordered' 'reorder_total' 'user_product_id'\n",
            " 'no_of_orders' 'order_ratio' 'in_last_order' 'product_name']\n"
          ],
          "name": "stdout"
        },
        {
          "output_type": "execute_result",
          "data": {
            "text/html": [
              "<div>\n",
              "<style scoped>\n",
              "    .dataframe tbody tr th:only-of-type {\n",
              "        vertical-align: middle;\n",
              "    }\n",
              "\n",
              "    .dataframe tbody tr th {\n",
              "        vertical-align: top;\n",
              "    }\n",
              "\n",
              "    .dataframe thead th {\n",
              "        text-align: right;\n",
              "    }\n",
              "</style>\n",
              "<table border=\"1\" class=\"dataframe\">\n",
              "  <thead>\n",
              "    <tr style=\"text-align: right;\">\n",
              "      <th></th>\n",
              "      <th>eval_set</th>\n",
              "      <th>user_id</th>\n",
              "      <th>order_id</th>\n",
              "      <th>order_number</th>\n",
              "      <th>order_dow</th>\n",
              "      <th>order_hour_of_day</th>\n",
              "      <th>days_since_prior_order</th>\n",
              "      <th>product_id</th>\n",
              "      <th>add_to_cart_order</th>\n",
              "      <th>reordered</th>\n",
              "      <th>reorder_total</th>\n",
              "      <th>user_product_id</th>\n",
              "      <th>no_of_orders</th>\n",
              "      <th>order_ratio</th>\n",
              "      <th>in_last_order</th>\n",
              "      <th>product_name</th>\n",
              "    </tr>\n",
              "  </thead>\n",
              "  <tbody>\n",
              "    <tr>\n",
              "      <th>0</th>\n",
              "      <td>prior</td>\n",
              "      <td>7</td>\n",
              "      <td>23391</td>\n",
              "      <td>17</td>\n",
              "      <td>0</td>\n",
              "      <td>10</td>\n",
              "      <td>28.0</td>\n",
              "      <td>13198</td>\n",
              "      <td>1</td>\n",
              "      <td>1</td>\n",
              "      <td>7</td>\n",
              "      <td>713198</td>\n",
              "      <td>20</td>\n",
              "      <td>0.40</td>\n",
              "      <td>1</td>\n",
              "      <td>85% Lean Ground Beef</td>\n",
              "    </tr>\n",
              "    <tr>\n",
              "      <th>1</th>\n",
              "      <td>prior</td>\n",
              "      <td>7</td>\n",
              "      <td>23391</td>\n",
              "      <td>17</td>\n",
              "      <td>0</td>\n",
              "      <td>10</td>\n",
              "      <td>28.0</td>\n",
              "      <td>42803</td>\n",
              "      <td>2</td>\n",
              "      <td>1</td>\n",
              "      <td>6</td>\n",
              "      <td>742803</td>\n",
              "      <td>20</td>\n",
              "      <td>0.35</td>\n",
              "      <td>0</td>\n",
              "      <td>Organic Apple Slices</td>\n",
              "    </tr>\n",
              "    <tr>\n",
              "      <th>2</th>\n",
              "      <td>prior</td>\n",
              "      <td>7</td>\n",
              "      <td>23391</td>\n",
              "      <td>17</td>\n",
              "      <td>0</td>\n",
              "      <td>10</td>\n",
              "      <td>28.0</td>\n",
              "      <td>8277</td>\n",
              "      <td>3</td>\n",
              "      <td>1</td>\n",
              "      <td>2</td>\n",
              "      <td>708277</td>\n",
              "      <td>20</td>\n",
              "      <td>0.15</td>\n",
              "      <td>0</td>\n",
              "      <td>Apple Honeycrisp Organic</td>\n",
              "    </tr>\n",
              "    <tr>\n",
              "      <th>3</th>\n",
              "      <td>prior</td>\n",
              "      <td>7</td>\n",
              "      <td>23391</td>\n",
              "      <td>17</td>\n",
              "      <td>0</td>\n",
              "      <td>10</td>\n",
              "      <td>28.0</td>\n",
              "      <td>37602</td>\n",
              "      <td>4</td>\n",
              "      <td>1</td>\n",
              "      <td>11</td>\n",
              "      <td>737602</td>\n",
              "      <td>20</td>\n",
              "      <td>0.60</td>\n",
              "      <td>0</td>\n",
              "      <td>Mexican Coffee</td>\n",
              "    </tr>\n",
              "    <tr>\n",
              "      <th>4</th>\n",
              "      <td>prior</td>\n",
              "      <td>7</td>\n",
              "      <td>23391</td>\n",
              "      <td>17</td>\n",
              "      <td>0</td>\n",
              "      <td>10</td>\n",
              "      <td>28.0</td>\n",
              "      <td>40852</td>\n",
              "      <td>5</td>\n",
              "      <td>1</td>\n",
              "      <td>12</td>\n",
              "      <td>740852</td>\n",
              "      <td>20</td>\n",
              "      <td>0.65</td>\n",
              "      <td>1</td>\n",
              "      <td>Lactose Free Fat Free Milk</td>\n",
              "    </tr>\n",
              "  </tbody>\n",
              "</table>\n",
              "</div>"
            ],
            "text/plain": [
              "  eval_set  user_id  order_id  order_number  order_dow  order_hour_of_day  \\\n",
              "0    prior        7     23391            17          0                 10   \n",
              "1    prior        7     23391            17          0                 10   \n",
              "2    prior        7     23391            17          0                 10   \n",
              "3    prior        7     23391            17          0                 10   \n",
              "4    prior        7     23391            17          0                 10   \n",
              "\n",
              "   days_since_prior_order  product_id  add_to_cart_order  reordered  \\\n",
              "0                    28.0       13198                  1          1   \n",
              "1                    28.0       42803                  2          1   \n",
              "2                    28.0        8277                  3          1   \n",
              "3                    28.0       37602                  4          1   \n",
              "4                    28.0       40852                  5          1   \n",
              "\n",
              "   reorder_total  user_product_id  no_of_orders  order_ratio  in_last_order  \\\n",
              "0              7           713198            20         0.40              1   \n",
              "1              6           742803            20         0.35              0   \n",
              "2              2           708277            20         0.15              0   \n",
              "3             11           737602            20         0.60              0   \n",
              "4             12           740852            20         0.65              1   \n",
              "\n",
              "                 product_name  \n",
              "0        85% Lean Ground Beef  \n",
              "1        Organic Apple Slices  \n",
              "2    Apple Honeycrisp Organic  \n",
              "3              Mexican Coffee  \n",
              "4  Lactose Free Fat Free Milk  "
            ]
          },
          "metadata": {
            "tags": []
          },
          "execution_count": 125
        }
      ]
    },
    {
      "cell_type": "code",
      "metadata": {
        "id": "bb7nxjzxspUJ",
        "colab_type": "code",
        "colab": {}
      },
      "source": [
        "from google.colab import files\n",
        "\n",
        "df.drop('product_id', inplace=True, axis=1)\n",
        "df.to_csv('df.csv')\n",
        "files.download('df.csv')"
      ],
      "execution_count": 0,
      "outputs": []
    },
    {
      "cell_type": "markdown",
      "metadata": {
        "id": "mokORrEG1qDS",
        "colab_type": "text"
      },
      "source": [
        "## Bonus Challenge\n",
        "Create a spreadsheet that shows, for each user, the most frequent day of the week (shown as Monday ... Friday instead of the number encodings), the average hour of the day, the average number of days between orders, the average number of items in each order, and a list of the top 3 products that they order, along with their aisle and department."
      ]
    },
    {
      "cell_type": "markdown",
      "metadata": {
        "id": "UN2Jfe-Zo8qI",
        "colab_type": "text"
      },
      "source": [
        "## Debrief\n",
        "* How do you feel about feature selection?\n",
        "* What was hard?\n",
        "* What was too easy?\n",
        "* Is there anything you'd like to share?"
      ]
    }
  ]
}