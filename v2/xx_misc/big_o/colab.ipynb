{
  "nbformat": 4,
  "nbformat_minor": 0,
  "metadata": {
    "colab": {
      "name": "Big-O",
      "provenance": [],
      "private_outputs": true,
      "collapsed_sections": [
        "QoNIlOCg0ld-",
        "avCsELnN75SG",
        "_QK-C_AJA5Jc",
        "pahtAHF0A6cD",
        "58UpCmu3A7bT",
        "DHTU50GgA9BT",
        "KA7zv7HSA-V4",
        "pUh3yo-eBAOX",
        "3PCLqXQqBBNv",
        "3h5LQkU2BCoF",
        "LvDgs01wBD3k"
      ],
      "toc_visible": true,
      "include_colab_link": true
    },
    "kernelspec": {
      "display_name": "Python 3",
      "language": "python",
      "name": "python3"
    },
    "language_info": {
      "codemirror_mode": {
        "name": "ipython",
        "version": 3
      },
      "file_extension": ".py",
      "mimetype": "text/x-python",
      "name": "python",
      "nbconvert_exporter": "python",
      "pygments_lexer": "ipython3",
      "version": "3.6.6"
    }
  },
  "cells": [
    {
      "cell_type": "markdown",
      "metadata": {
        "id": "view-in-github",
        "colab_type": "text"
      },
      "source": [
        "<a href=\"https://colab.research.google.com/github/google/applied-machine-learning-intensive/blob/master/v2/xx_misc/big_o/colab.ipynb\" target=\"_parent\"><img src=\"https://colab.research.google.com/assets/colab-badge.svg\" alt=\"Open In Colab\"/></a>"
      ]
    },
    {
      "cell_type": "markdown",
      "metadata": {
        "colab_type": "text",
        "id": "QoNIlOCg0ld-"
      },
      "source": [
        "#### Copyright 2020 Google LLC."
      ]
    },
    {
      "cell_type": "code",
      "metadata": {
        "colab_type": "code",
        "id": "0PeOT_r-0qk6",
        "colab": {}
      },
      "source": [
        "# Licensed under the Apache License, Version 2.0 (the \"License\");\n",
        "# you may not use this file except in compliance with the License.\n",
        "# You may obtain a copy of the License at\n",
        "#\n",
        "# https://www.apache.org/licenses/LICENSE-2.0\n",
        "#\n",
        "# Unless required by applicable law or agreed to in writing, software\n",
        "# distributed under the License is distributed on an \"AS IS\" BASIS,\n",
        "# WITHOUT WARRANTIES OR CONDITIONS OF ANY KIND, either express or implied.\n",
        "# See the License for the specific language governing permissions and\n",
        "# limitations under the License."
      ],
      "execution_count": null,
      "outputs": []
    },
    {
      "cell_type": "markdown",
      "metadata": {
        "colab_type": "text",
        "id": "Alas-g2rycpP"
      },
      "source": [
        "# Big-O"
      ]
    },
    {
      "cell_type": "markdown",
      "metadata": {
        "colab_type": "text",
        "id": "ofjGUTFZ4mnn"
      },
      "source": [
        "Big-O notation is the most common notation for analyzing time and space complexity for code. Big-O (indicated by O) strictly indicates the worst case scenario, while Ω (Big-Omega) indicates the best case. Additionally, Θ (Big-Theta) indicates cases where the best and worst case scenarios have the same running time or space complexity. For example, if you have a `for` loop without `break` statements, the code will always iterate over the loop for a predetermined number of times. \n",
        "\n",
        "It's important to note, however, that Ω and Θ are not commonly used in industry. Instead, you'll likely see only Big-O being used, along with the words \"best case,\" \"worst case,\" and \"average case.\"\n",
        "\n",
        "In the exercises below, you'll have a chance to practice analyzing the time and space complexity for a number of functions and code snippets."
      ]
    },
    {
      "cell_type": "markdown",
      "metadata": {
        "colab_type": "text",
        "id": "JNLRw-pC5v0o"
      },
      "source": [
        "# Exercises"
      ]
    },
    {
      "cell_type": "code",
      "metadata": {
        "colab_type": "code",
        "id": "9e7g9bBFkpq2",
        "colab": {}
      },
      "source": [
        "import random"
      ],
      "execution_count": null,
      "outputs": []
    },
    {
      "cell_type": "markdown",
      "metadata": {
        "colab_type": "text",
        "id": "rhQu4mE-1lnN"
      },
      "source": [
        "## Exercise 1: Add two numbers"
      ]
    },
    {
      "cell_type": "markdown",
      "metadata": {
        "colab_type": "text",
        "id": "Qx4rN0VG6iKd"
      },
      "source": [
        "Describe the time and space complexity for the following function using Big-O, Big-Theta, and Big-Omega notation.\n"
      ]
    },
    {
      "cell_type": "code",
      "metadata": {
        "colab_type": "code",
        "id": "4S2QZnGwkprC",
        "colab": {}
      },
      "source": [
        "# Add two numbers\n",
        "\n",
        "def add(x, y):\n",
        "    return x + y"
      ],
      "execution_count": null,
      "outputs": []
    },
    {
      "cell_type": "markdown",
      "metadata": {
        "colab_type": "text",
        "id": "pWHBkBsk7lIq"
      },
      "source": [
        "### Student Solution"
      ]
    },
    {
      "cell_type": "markdown",
      "metadata": {
        "colab_type": "text",
        "id": "M4MfiLUr7rOg"
      },
      "source": [
        "Your answer goes here."
      ]
    },
    {
      "cell_type": "markdown",
      "metadata": {
        "id": "PKt4epH_EioY",
        "colab_type": "text"
      },
      "source": [
        "---"
      ]
    },
    {
      "cell_type": "markdown",
      "metadata": {
        "colab_type": "text",
        "id": "avCsELnN75SG"
      },
      "source": [
        "### Answer Key"
      ]
    },
    {
      "cell_type": "markdown",
      "metadata": {
        "colab_type": "text",
        "id": "jRjc1fdS6ff5"
      },
      "source": [
        "- Time complexity\n",
        "  - Θ(1); constant, \"Big-Theta of 1\"\n",
        "- Space complexity\n",
        "  - Θ(1); constant, \"Big-Theta of 1\""
      ]
    },
    {
      "cell_type": "markdown",
      "metadata": {
        "id": "nN7ZXcplEji6",
        "colab_type": "text"
      },
      "source": [
        "---"
      ]
    },
    {
      "cell_type": "markdown",
      "metadata": {
        "colab_type": "text",
        "id": "pehwCC5n1oQr"
      },
      "source": [
        "## Exercise 2: Search in a list"
      ]
    },
    {
      "cell_type": "markdown",
      "metadata": {
        "colab_type": "text",
        "id": "2g3R25-q98Hh"
      },
      "source": [
        "Describe the time and space complexity for the following function using Big-O, Big-Theta, and Big-Omega notation.\n"
      ]
    },
    {
      "cell_type": "code",
      "metadata": {
        "colab_type": "code",
        "id": "9tgt3M11kprO",
        "colab": {}
      },
      "source": [
        "# Search in a list\n",
        "\n",
        "def find(arr, target):\n",
        "    for item in arr:\n",
        "        if item == target:\n",
        "            return True\n",
        "    return False"
      ],
      "execution_count": null,
      "outputs": []
    },
    {
      "cell_type": "markdown",
      "metadata": {
        "colab_type": "text",
        "id": "MuLSOjck_fpR"
      },
      "source": [
        "### Student Solution"
      ]
    },
    {
      "cell_type": "markdown",
      "metadata": {
        "colab_type": "text",
        "id": "M0dRwq-cA5JT"
      },
      "source": [
        "Your answer goes here."
      ]
    },
    {
      "cell_type": "markdown",
      "metadata": {
        "id": "1CSvjShTElbu",
        "colab_type": "text"
      },
      "source": [
        "---"
      ]
    },
    {
      "cell_type": "markdown",
      "metadata": {
        "colab_type": "text",
        "id": "_QK-C_AJA5Jc"
      },
      "source": [
        "### Answer Key"
      ]
    },
    {
      "cell_type": "markdown",
      "metadata": {
        "colab_type": "text",
        "id": "Z2vD9brQA5Jh"
      },
      "source": [
        "- Time complexity\n",
        "  - O(n); linear in the worst case, \"Big-O of n\"\n",
        "  -  Ω(1); constant in the best case, \"Big-Omega of 1\"\n",
        "\n",
        "- Space complexity\n",
        "  - Θ(1); constant, \"Big-Theta of 1\""
      ]
    },
    {
      "cell_type": "markdown",
      "metadata": {
        "id": "6ZQ2wNF7EoUc",
        "colab_type": "text"
      },
      "source": [
        "---"
      ]
    },
    {
      "cell_type": "markdown",
      "metadata": {
        "colab_type": "text",
        "id": "j0o57mMa1q82"
      },
      "source": [
        "## Exercise 3: Search in an n x n matrix"
      ]
    },
    {
      "cell_type": "markdown",
      "metadata": {
        "colab_type": "text",
        "id": "W6aepRly-CQq"
      },
      "source": [
        "Describe the time and space complexity for the following function using Big-O, Big-Theta, and Big-Omega notation.\n"
      ]
    },
    {
      "cell_type": "code",
      "metadata": {
        "colab_type": "code",
        "id": "DAlrakiKkprU",
        "colab": {}
      },
      "source": [
        "# Search in a nxn matrix\n",
        "\n",
        "def find(matrix, target):\n",
        "    if len(matrix) > 0:\n",
        "        for i in range(len(matrix)):\n",
        "            for j in range(len(matrix[0])):\n",
        "                if matrix[i][j] == target:\n",
        "                    return True\n",
        "    return False"
      ],
      "execution_count": null,
      "outputs": []
    },
    {
      "cell_type": "markdown",
      "metadata": {
        "colab_type": "text",
        "id": "xPcNqzXP_iGq"
      },
      "source": [
        "### Student Solution"
      ]
    },
    {
      "cell_type": "markdown",
      "metadata": {
        "colab_type": "text",
        "id": "4XRir004A6b_"
      },
      "source": [
        "Your answer goes here."
      ]
    },
    {
      "cell_type": "markdown",
      "metadata": {
        "id": "jpYwJvKDFM1J",
        "colab_type": "text"
      },
      "source": [
        "---"
      ]
    },
    {
      "cell_type": "markdown",
      "metadata": {
        "colab_type": "text",
        "id": "pahtAHF0A6cD"
      },
      "source": [
        "### Answer Key"
      ]
    },
    {
      "cell_type": "markdown",
      "metadata": {
        "colab_type": "text",
        "id": "L48M3x04A6cI"
      },
      "source": [
        "- Time complexity\n",
        "  - O(n^2); quadratic in the worst case, \"Big-O of n squared\"\n",
        "  - Ω(1); constant in the best case, \"Big-Omega of 1\"\n",
        "\n",
        "- Space complexity\n",
        "  - Θ(1); constant, \"Big-Theta of 1\""
      ]
    },
    {
      "cell_type": "markdown",
      "metadata": {
        "colab_type": "text",
        "id": "KJuSw9XTFUfh"
      },
      "source": [
        "---"
      ]
    },
    {
      "cell_type": "markdown",
      "metadata": {
        "colab_type": "text",
        "id": "MOWC5nQJ2hU_"
      },
      "source": [
        "## Exercise 4: Replace a character "
      ]
    },
    {
      "cell_type": "markdown",
      "metadata": {
        "colab_type": "text",
        "id": "7z2nV3wG-EOx"
      },
      "source": [
        "The following function replaces a character from a given string with another character or string. For example, remove all commas.\n",
        "\n",
        "Describe the time and space complexity for this function using Big-O, Big-Theta, and Big-Omega notation.\n"
      ]
    },
    {
      "cell_type": "code",
      "metadata": {
        "colab_type": "code",
        "id": "vpAwgcnEkprY",
        "colab": {}
      },
      "source": [
        "# Replace a character from string with another character or string (for example,\n",
        "# remove all commas)\n",
        "\n",
        "def replace(word, char_to_remove, char_to_insert=''):\n",
        "    temp = []\n",
        "    for c in word:\n",
        "        if c != char_to_remove:\n",
        "            temp.append(c)\n",
        "        else:\n",
        "            temp.append(char_to_insert)\n",
        "    return ''.join(temp)"
      ],
      "execution_count": null,
      "outputs": []
    },
    {
      "cell_type": "markdown",
      "metadata": {
        "colab_type": "text",
        "id": "Mk5s48S8AabQ"
      },
      "source": [
        "### Student Solution"
      ]
    },
    {
      "cell_type": "markdown",
      "metadata": {
        "colab_type": "text",
        "id": "-2T_1PbmA7bQ"
      },
      "source": [
        "Your answer goes here."
      ]
    },
    {
      "cell_type": "markdown",
      "metadata": {
        "colab_type": "text",
        "id": "0Aq_Aj_sFVdX"
      },
      "source": [
        "---"
      ]
    },
    {
      "cell_type": "markdown",
      "metadata": {
        "colab_type": "text",
        "id": "58UpCmu3A7bT"
      },
      "source": [
        "### Answer Key"
      ]
    },
    {
      "cell_type": "markdown",
      "metadata": {
        "colab_type": "text",
        "id": "F2NcotIVA7bY"
      },
      "source": [
        "- Time complexity\n",
        "  - Θ(n); linear, \"Big-Theta of n\"\n",
        "\n",
        "- Space complexity\n",
        "  - Θ(n); linear, \"Big-Theta of n\""
      ]
    },
    {
      "cell_type": "markdown",
      "metadata": {
        "colab_type": "text",
        "id": "Xzba2SbuFWxA"
      },
      "source": [
        "---"
      ]
    },
    {
      "cell_type": "markdown",
      "metadata": {
        "colab_type": "text",
        "id": "42kPEQXp2nv1"
      },
      "source": [
        "## Exercise 5: Apply lambda function to dataframe"
      ]
    },
    {
      "cell_type": "markdown",
      "metadata": {
        "colab_type": "text",
        "id": "hF46bR5f-Fmv"
      },
      "source": [
        "Describe the time and space complexity for the following function using Big-O, Big-Theta, and Big-Omega notation.\n"
      ]
    },
    {
      "cell_type": "code",
      "metadata": {
        "colab_type": "code",
        "id": "kFNJCw9Jkprc",
        "colab": {}
      },
      "source": [
        "# Apply lambda function to dataframe\n",
        "import pandas as pd\n",
        "\n",
        "df = pd.DataFrame({'x': [1, 2, 3], 'old_column': [4, 5, 6]})\n",
        "df['new_column'] = df['old_column'].apply(lambda x: x * 1000)"
      ],
      "execution_count": null,
      "outputs": []
    },
    {
      "cell_type": "markdown",
      "metadata": {
        "colab_type": "text",
        "id": "RVfsOP-7AbxW"
      },
      "source": [
        "### Student Solution"
      ]
    },
    {
      "cell_type": "markdown",
      "metadata": {
        "colab_type": "text",
        "id": "zF4FsX9iA9BP"
      },
      "source": [
        "Your answer goes here."
      ]
    },
    {
      "cell_type": "markdown",
      "metadata": {
        "colab_type": "text",
        "id": "UTKuyyE1FYb7"
      },
      "source": [
        "---"
      ]
    },
    {
      "cell_type": "markdown",
      "metadata": {
        "colab_type": "text",
        "id": "DHTU50GgA9BT"
      },
      "source": [
        "### Answer Key"
      ]
    },
    {
      "cell_type": "markdown",
      "metadata": {
        "colab_type": "text",
        "id": "y2Jwr7zUA9BZ"
      },
      "source": [
        "- Time complexity\n",
        "  - Θ(n); linear, \"Big-Theta of n\" where n is the number of rows\n",
        "\n",
        "- Space complexity\n",
        "  - Θ(n); linear, \"Big-Theta of n\" where n is the number of rows\n",
        "\n",
        "`apply` is pretty slow because it loops through each row.\n",
        "Whenever possible, use vectorization. Here's a nice explanation with examples:\n",
        "https://engineering.upside.com/a-beginners-guide-to-optimizing-pandas-code-for-speed-c09ef2c6a4d6"
      ]
    },
    {
      "cell_type": "markdown",
      "metadata": {
        "colab_type": "text",
        "id": "i_5fiONPFZ8v"
      },
      "source": [
        "---"
      ]
    },
    {
      "cell_type": "markdown",
      "metadata": {
        "colab_type": "text",
        "id": "tRVLL0fU22LA"
      },
      "source": [
        "## Exercise 6: Bubble Sort"
      ]
    },
    {
      "cell_type": "markdown",
      "metadata": {
        "colab_type": "text",
        "id": "Pgk4PVBO-HM4"
      },
      "source": [
        "Describe the time and space complexity for the following function using Big-O, Big-Theta, and Big-Omega notation.\n"
      ]
    },
    {
      "cell_type": "code",
      "metadata": {
        "colab_type": "code",
        "id": "HTcQ9UE0kprg",
        "colab": {}
      },
      "source": [
        "# Bubble Sort\n",
        "\n",
        "def bubble_sort(arr):\n",
        "    sorted = False\n",
        "    while(not sorted):\n",
        "        sorted = True\n",
        "        for i, value in enumerate(arr[:-1]):\n",
        "            if value > arr[i+1]:\n",
        "                arr[i], arr[i+1] = arr[i+1], arr[i]\n",
        "                sorted = False\n",
        "    return arr"
      ],
      "execution_count": null,
      "outputs": []
    },
    {
      "cell_type": "markdown",
      "metadata": {
        "colab_type": "text",
        "id": "bdaHdRs1Agbj"
      },
      "source": [
        "### Student Solution"
      ]
    },
    {
      "cell_type": "markdown",
      "metadata": {
        "colab_type": "text",
        "id": "5BDo3TS2A-V1"
      },
      "source": [
        "Your answer goes here."
      ]
    },
    {
      "cell_type": "markdown",
      "metadata": {
        "colab_type": "text",
        "id": "T50WX-eaFb05"
      },
      "source": [
        "---"
      ]
    },
    {
      "cell_type": "markdown",
      "metadata": {
        "colab_type": "text",
        "id": "KA7zv7HSA-V4"
      },
      "source": [
        "### Answer Key"
      ]
    },
    {
      "cell_type": "markdown",
      "metadata": {
        "colab_type": "text",
        "id": "6en-4LQCA-V8"
      },
      "source": [
        "- Time complexity\n",
        "  - O(n^2); quadratic in the worst case, \"Big-O of n squared\"\n",
        "  - Ω(n); linear in the best case, \"Big-Omega of n\"\n",
        "\n",
        "- Space complexity\n",
        "  - Θ(1); constant, \"Big-Theta of n\""
      ]
    },
    {
      "cell_type": "markdown",
      "metadata": {
        "colab_type": "text",
        "id": "rSOBs9CBFcyT"
      },
      "source": [
        "---"
      ]
    },
    {
      "cell_type": "markdown",
      "metadata": {
        "colab_type": "text",
        "id": "2dxmKYue3Mjc"
      },
      "source": [
        "## Exercise 7: (Challenge) Find all contiguous substrings"
      ]
    },
    {
      "cell_type": "markdown",
      "metadata": {
        "colab_type": "text",
        "id": "cwIvN0Ce-MoA"
      },
      "source": [
        "Describe the time and space complexity for the following function using Big-O, Big-Theta, and Big-Omega notation.\n"
      ]
    },
    {
      "cell_type": "code",
      "metadata": {
        "colab_type": "code",
        "id": "3tE6JPjJkprm",
        "colab": {}
      },
      "source": [
        "# Challenges\n",
        "\n",
        "# Find all contiguous substrings\n",
        "\n",
        "def find_cont_substrings(arr):\n",
        "    substrings = set()\n",
        "    for i in range(len(arr)):\n",
        "        for j in range(i,len(arr)):\n",
        "            substrings.add(tuple(arr[i:j+1]))\n",
        "    return substrings"
      ],
      "execution_count": null,
      "outputs": []
    },
    {
      "cell_type": "markdown",
      "metadata": {
        "colab_type": "text",
        "id": "_NJ4mJI1AjCs"
      },
      "source": [
        "### Student Solution"
      ]
    },
    {
      "cell_type": "markdown",
      "metadata": {
        "colab_type": "text",
        "id": "60ebY4OVBAOR"
      },
      "source": [
        "Your answer goes here."
      ]
    },
    {
      "cell_type": "markdown",
      "metadata": {
        "colab_type": "text",
        "id": "ir3onqeDFeyp"
      },
      "source": [
        "---"
      ]
    },
    {
      "cell_type": "markdown",
      "metadata": {
        "colab_type": "text",
        "id": "pUh3yo-eBAOX"
      },
      "source": [
        "### Answer Key"
      ]
    },
    {
      "cell_type": "markdown",
      "metadata": {
        "colab_type": "text",
        "id": "urVZlQVYBAOg"
      },
      "source": [
        "- Time complexity\n",
        "  - Θ(n^2); quadratic, \"Big-Theta of n squared\" (specifically, it's n(n+1)/2, which is the arithmetic sum)\n",
        "\n",
        "- Space complexity\n",
        "  - Θ(n^3); cubic, \"Big-Theta of n cube\", where n is the `len(arr)`"
      ]
    },
    {
      "cell_type": "markdown",
      "metadata": {
        "colab_type": "text",
        "id": "aWTkABEqFfSR"
      },
      "source": [
        "---"
      ]
    },
    {
      "cell_type": "markdown",
      "metadata": {
        "colab_type": "text",
        "id": "QT7zwi_s3Taa"
      },
      "source": [
        "## Exercise 8: (Challenge) Find all contiguous substrings using list comprehension"
      ]
    },
    {
      "cell_type": "markdown",
      "metadata": {
        "colab_type": "text",
        "id": "Zcs_q5LQ-N8D"
      },
      "source": [
        "Describe the time and space complexity for the following function using Big-O, Big-Theta, and Big-Omega notation.\n"
      ]
    },
    {
      "cell_type": "code",
      "metadata": {
        "colab_type": "code",
        "id": "fXKXmUNXkprp",
        "colab": {}
      },
      "source": [
        "# Using list comprehension:\n",
        "\n",
        "def find_substrings(arr):\n",
        "    length = len(arr)\n",
        "    return [arr[i:j+1] for i in range(length) for j in range(i,length)]"
      ],
      "execution_count": null,
      "outputs": []
    },
    {
      "cell_type": "markdown",
      "metadata": {
        "colab_type": "text",
        "id": "2x8FUdaMAkFc"
      },
      "source": [
        "### Student Solution"
      ]
    },
    {
      "cell_type": "markdown",
      "metadata": {
        "colab_type": "text",
        "id": "3bvfNa3dBBNt"
      },
      "source": [
        "Your answer goes here."
      ]
    },
    {
      "cell_type": "markdown",
      "metadata": {
        "colab_type": "text",
        "id": "1QzdJ0U2FiAU"
      },
      "source": [
        "---"
      ]
    },
    {
      "cell_type": "markdown",
      "metadata": {
        "colab_type": "text",
        "id": "3PCLqXQqBBNv"
      },
      "source": [
        "### Answer Key"
      ]
    },
    {
      "cell_type": "markdown",
      "metadata": {
        "colab_type": "text",
        "id": "Ik8HRoa3BBN4"
      },
      "source": [
        "- Time complexity\n",
        "  - Θ(n^2); quadratic, \"Big-Theta of n squared\" (specifically, it's n(n+1)/2, which is the arithmetic sum)\n",
        "\n",
        "- Space complexity\n",
        "  - Θ(n^3); cubic, \"Big-Theta of n cube\", where n is the `len(arr)`"
      ]
    },
    {
      "cell_type": "markdown",
      "metadata": {
        "colab_type": "text",
        "id": "m0HkTDeVFi96"
      },
      "source": [
        "---"
      ]
    },
    {
      "cell_type": "markdown",
      "metadata": {
        "colab_type": "text",
        "id": "q5f9E2_L3e3c"
      },
      "source": [
        "## Exercise 9: (Challenge) Find or implement a faster sorting method"
      ]
    },
    {
      "cell_type": "markdown",
      "metadata": {
        "colab_type": "text",
        "id": "t-gAbfai-RRM"
      },
      "source": [
        "Find or implement a faster sorting method, and describe its time and space complexity using Big-O, Big-Theta, and Big-Omega notation.\n"
      ]
    },
    {
      "cell_type": "markdown",
      "metadata": {
        "colab_type": "text",
        "id": "Th6447X4Al8x"
      },
      "source": [
        "### Student Solution"
      ]
    },
    {
      "cell_type": "code",
      "metadata": {
        "colab_type": "code",
        "id": "1gSQSTFvBCoM",
        "colab": {}
      },
      "source": [
        "# Your code goes here"
      ],
      "execution_count": null,
      "outputs": []
    },
    {
      "cell_type": "markdown",
      "metadata": {
        "colab_type": "text",
        "id": "3eez9IqcBCoC"
      },
      "source": [
        "Your answer goes here."
      ]
    },
    {
      "cell_type": "markdown",
      "metadata": {
        "colab_type": "text",
        "id": "AvJ6H6_mFk8D"
      },
      "source": [
        "---"
      ]
    },
    {
      "cell_type": "markdown",
      "metadata": {
        "colab_type": "text",
        "id": "3h5LQkU2BCoF"
      },
      "source": [
        "### Answer Key"
      ]
    },
    {
      "cell_type": "markdown",
      "metadata": {
        "colab_type": "text",
        "id": "kYmENiP-3kBA"
      },
      "source": [
        "**Merge Sort**\n",
        "\n",
        "- Time complexity\n",
        "  - Θ(nlogn); \"Big-Theta of n*log(n)\"\n",
        "  \n",
        "Notice that, even though bubble sort has a terrible Big O time complexity, in the best case (i.e., when the list is already sorted), bubble sort takes less time and space than merge sort.\n",
        "\n",
        "- Space complexity\n",
        "  - Θ(n); linear, \"Big-Theta of n\""
      ]
    },
    {
      "cell_type": "code",
      "metadata": {
        "colab_type": "code",
        "id": "VpTgwKlukprt",
        "colab": {}
      },
      "source": [
        "def merge_sort(arr):\n",
        "    if len(arr) <= 1:\n",
        "        return arr\n",
        "    middle = len(arr)//2\n",
        "    left = merge_sort(arr[:middle])\n",
        "    right = merge_sort(arr[middle:])\n",
        "    sorted_arr = []\n",
        "    i, j = 0, 0\n",
        "    while i<len(left) and j<len(right):\n",
        "        if right[j] < left[i]:\n",
        "            sorted_arr.append(right[j])\n",
        "            j += 1\n",
        "        else:\n",
        "            sorted_arr.append(left[i])\n",
        "            i += 1\n",
        "    sorted_arr = sorted_arr + left[i:] + right[j:]\n",
        "    return sorted_arr"
      ],
      "execution_count": null,
      "outputs": []
    },
    {
      "cell_type": "markdown",
      "metadata": {
        "colab_type": "text",
        "id": "KEGV_sDK328G"
      },
      "source": [
        "**Quicksort**\n",
        "\n",
        "- Time complexity:  \n",
        "  - O(n^2) and Ω(nlogn); quadratic in the worst case, Big-O of n squared, and n\\*log(n) in the best and average cases. Big-Omega of n\\*log(n) (quicksort is generally considered n\\*log(n) because that's the average case).\n",
        "\n",
        "- Space complexity:  \n",
        "  - Θ(1); constant, Big-Theta of 1 --> in place sorting."
      ]
    },
    {
      "cell_type": "code",
      "metadata": {
        "colab_type": "code",
        "id": "iyPBmvcLkpry",
        "colab": {}
      },
      "source": [
        "def quicksort(arr, left=0, right=None):\n",
        "    if right is None: right = len(arr)-1\n",
        "    if left < right:\n",
        "        mid = partition(arr, left, right)\n",
        "        quicksort(arr, left, mid-1)\n",
        "        quicksort(arr, mid+1, right)\n",
        "    \n",
        "    \n",
        "def partition(arr, left, right):\n",
        "    pivot = arr[right]\n",
        "    i = left - 1 \n",
        "    for j in range(left, right):\n",
        "        if arr[j] <= pivot:\n",
        "            i += 1\n",
        "            arr[i], arr[j] = arr[j], arr[i]\n",
        "    arr[i+1], arr[right] = arr[right], arr[i+1]\n",
        "    return i+1"
      ],
      "execution_count": null,
      "outputs": []
    },
    {
      "cell_type": "markdown",
      "metadata": {
        "colab_type": "text",
        "id": "RRRJ7k8mFnuz"
      },
      "source": [
        "---"
      ]
    },
    {
      "cell_type": "markdown",
      "metadata": {
        "colab_type": "text",
        "id": "nxBL_cM24D4H"
      },
      "source": [
        "## Exercise 10: (Challenge) Generate the power set of a list"
      ]
    },
    {
      "cell_type": "markdown",
      "metadata": {
        "colab_type": "text",
        "id": "r9NprBUq-0K5"
      },
      "source": [
        "Write a function to generate the [power set](https://www.mathsisfun.com/sets/power-set.html) of a list. "
      ]
    },
    {
      "cell_type": "markdown",
      "metadata": {
        "colab_type": "text",
        "id": "hyy1sISQApl4"
      },
      "source": [
        "### Student Solution"
      ]
    },
    {
      "cell_type": "code",
      "metadata": {
        "colab_type": "code",
        "id": "Bu6vx-7ZYoa1",
        "colab": {}
      },
      "source": [
        "# Your code goes here"
      ],
      "execution_count": null,
      "outputs": []
    },
    {
      "cell_type": "markdown",
      "metadata": {
        "colab_type": "text",
        "id": "Bv1TAUwWBD3g"
      },
      "source": [
        "Your answer goes here."
      ]
    },
    {
      "cell_type": "markdown",
      "metadata": {
        "id": "lvgGom53G1uR",
        "colab_type": "text"
      },
      "source": [
        "---"
      ]
    },
    {
      "cell_type": "markdown",
      "metadata": {
        "colab_type": "text",
        "id": "LvDgs01wBD3k"
      },
      "source": [
        "### Answer Key"
      ]
    },
    {
      "cell_type": "markdown",
      "metadata": {
        "colab_type": "text",
        "id": "5Y8ReU6GBD3p"
      },
      "source": [
        "- Time complexity\n",
        "  -Θ(n^2 * (n choose n//2)); \"Big-Theta of n squared times n choose n over 2\"\n",
        "\n",
        "- Space complexity\n",
        "  - Θ(2^n); exponential, \"Big-Theta of 2 to the n\"\n"
      ]
    },
    {
      "cell_type": "code",
      "metadata": {
        "colab_type": "code",
        "id": "LrBm8kj_kpr5",
        "colab": {}
      },
      "source": [
        "# Extra challenge problem: Generate the power set of a list\n",
        "\n",
        "# Iterative approach\n",
        "def get_power_set(arr):\n",
        "    power_set = set()\n",
        "    size = len(arr)\n",
        "    pre_set = [str('')] # set of substrings of size str_len - 1\n",
        "    i_pre_set = [-1] # indices of the last letter for each substring\n",
        "\n",
        "    for str_len in range(size): # n\n",
        "        curr_set = [] \n",
        "        i_curr_set = []\n",
        "        for i, substr in enumerate(pre_set): # n choose (n//2)\n",
        "            for j in range(i_pre_set[i]+1, size): # n\n",
        "                curr_set.append(substr+arr[j])\n",
        "                i_curr_set.append(j)\n",
        "                print(substr+arr[j])\n",
        "        power_set = power_set.union(pre_set) # n choose (n//2)\n",
        "        pre_set = curr_set # n choose (n//2)\n",
        "        i_pre_set = i_curr_set\n",
        "    power_set = power_set.union(pre_set) # 2^n\n",
        "    return list(power_set) # 2^n"
      ],
      "execution_count": null,
      "outputs": []
    },
    {
      "cell_type": "markdown",
      "metadata": {
        "id": "VqVOsFNZG4l8",
        "colab_type": "text"
      },
      "source": [
        "---"
      ]
    }
  ]
}
