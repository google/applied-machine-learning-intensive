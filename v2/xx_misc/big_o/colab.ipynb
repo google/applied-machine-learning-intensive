{
  "nbformat": 4,
  "nbformat_minor": 0,
  "metadata": {
    "colab": {
      "name": "Big-O",
      "provenance": [],
      "private_outputs": true,
      "collapsed_sections": [
        "QoNIlOCg0ld-",
        "avCsELnN75SG",
        "_QK-C_AJA5Jc",
        "pahtAHF0A6cD",
        "58UpCmu3A7bT",
        "DHTU50GgA9BT",
        "KA7zv7HSA-V4",
        "pUh3yo-eBAOX",
        "3PCLqXQqBBNv",
        "3h5LQkU2BCoF",
        "LvDgs01wBD3k"
      ],
      "toc_visible": true
    },
    "kernelspec": {
      "display_name": "Python 3",
      "language": "python",
      "name": "python3"
    },
    "language_info": {
      "codemirror_mode": {
        "name": "ipython",
        "version": 3
      },
      "file_extension": ".py",
      "mimetype": "text/x-python",
      "name": "python",
      "nbconvert_exporter": "python",
      "pygments_lexer": "ipython3",
      "version": "3.6.6"
    }
  },
  "cells": [
    {
      "cell_type": "markdown",
      "metadata": {
        "colab_type": "text",
        "id": "QoNIlOCg0ld-"
      },
      "source": [
        "#### Copyright 2019 Google LLC."
      ]
    },
    {
      "cell_type": "code",
      "metadata": {
        "colab_type": "code",
        "id": "0PeOT_r-0qk6",
        "colab": {}
      },
      "source": [
        "# Licensed under the Apache License, Version 2.0 (the \"License\");\n",
        "# you may not use this file except in compliance with the License.\n",
        "# You may obtain a copy of the License at\n",
        "#\n",
        "# https://www.apache.org/licenses/LICENSE-2.0\n",
        "#\n",
        "# Unless required by applicable law or agreed to in writing, software\n",
        "# distributed under the License is distributed on an \"AS IS\" BASIS,\n",
        "# WITHOUT WARRANTIES OR CONDITIONS OF ANY KIND, either express or implied.\n",
        "# See the License for the specific language governing permissions and\n",
        "# limitations under the License."
      ],
      "execution_count": 0,
      "outputs": []
    },
    {
      "cell_type": "markdown",
      "metadata": {
        "colab_type": "text",
        "id": "Alas-g2rycpP"
      },
      "source": [
        "# Big-O"
      ]
    },
    {
      "cell_type": "markdown",
      "metadata": {
        "colab_type": "text",
        "id": "ofjGUTFZ4mnn"
      },
      "source": [
        "Big-O notation is the most common notation for analyzing time and space complexity for code. Big-O (indicated by O) strictly indicates the worst case scenario, while Ω (Big-Omega) indicated the best case, and Θ (Big-Theta) indicates cases where the best and worst case scenarios have the same running time or space complexity. (For example, if you have a `for` loop without `break` statements, the code will always iterate over the loop for a predetermined number of times.) \n",
        "\n",
        "It's important to note, however, that Ω and Θ are not commonly used in industry. Instead, you'll likely see only Big-O being used along with the \"best case,\" \"worst case,\" and \"average case.\"\n",
        "\n",
        "In the exercises below you'll have a chance to practice analyzing the time and space complexity for a number of functions and code snippets."
      ]
    },
    {
      "cell_type": "markdown",
      "metadata": {
        "colab_type": "text",
        "id": "JNLRw-pC5v0o"
      },
      "source": [
        "# Exercises"
      ]
    },
    {
      "cell_type": "code",
      "metadata": {
        "colab_type": "code",
        "id": "9e7g9bBFkpq2",
        "colab": {}
      },
      "source": [
        "import random"
      ],
      "execution_count": 0,
      "outputs": []
    },
    {
      "cell_type": "markdown",
      "metadata": {
        "colab_type": "text",
        "id": "rhQu4mE-1lnN"
      },
      "source": [
        "## Exercise 1: Add two numbers"
      ]
    },
    {
      "cell_type": "markdown",
      "metadata": {
        "colab_type": "text",
        "id": "Qx4rN0VG6iKd"
      },
      "source": [
        "Describe the time and space complexity for the following function using Big-O, Big-Theta, and Big-Omega notation.\n"
      ]
    },
    {
      "cell_type": "code",
      "metadata": {
        "colab_type": "code",
        "id": "4S2QZnGwkprC",
        "colab": {}
      },
      "source": [
        "# Add two numbers\n",
        "\n",
        "def add(x, y):\n",
        "    return x + y"
      ],
      "execution_count": 0,
      "outputs": []
    },
    {
      "cell_type": "markdown",
      "metadata": {
        "colab_type": "text",
        "id": "pWHBkBsk7lIq"
      },
      "source": [
        "### Student Solution"
      ]
    },
    {
      "cell_type": "markdown",
      "metadata": {
        "colab_type": "text",
        "id": "M4MfiLUr7rOg"
      },
      "source": [
        "Your answer goes here."
      ]
    },
    {
      "cell_type": "markdown",
      "metadata": {
        "colab_type": "text",
        "id": "avCsELnN75SG"
      },
      "source": [
        "### Answer Key"
      ]
    },
    {
      "cell_type": "markdown",
      "metadata": {
        "colab_type": "text",
        "id": "8e6rNrkX8Gw8"
      },
      "source": [
        "**Solution**"
      ]
    },
    {
      "cell_type": "markdown",
      "metadata": {
        "colab_type": "text",
        "id": "jRjc1fdS6ff5"
      },
      "source": [
        "- Time complexity\n",
        "  - Θ(1); constant, \"Big-Theta of 1\"\n",
        "- Space complexity\n",
        "  - Θ(1); constant, \"Big-Theta of 1\""
      ]
    },
    {
      "cell_type": "markdown",
      "metadata": {
        "colab_type": "text",
        "id": "_prr7bbv8PT8"
      },
      "source": [
        "**Validation**"
      ]
    },
    {
      "cell_type": "code",
      "metadata": {
        "colab_type": "code",
        "id": "NR1CgF0J8kEF",
        "colab": {}
      },
      "source": [
        "# Add two numbers\n",
        "\n",
        "loop = 0\n",
        "\n",
        "def add(x, y):\n",
        "    print(f\"Loop #{loop+1}\")\n",
        "    return x + y\n",
        "\n",
        "print(add(3, 5))\n",
        "\n",
        "# Time complexity: Θ(1) [Big-Theta]\n",
        "\n",
        "# Space complexity: Θ(1) [Big-Theta]"
      ],
      "execution_count": 0,
      "outputs": []
    },
    {
      "cell_type": "markdown",
      "metadata": {
        "colab_type": "text",
        "id": "pehwCC5n1oQr"
      },
      "source": [
        "## Exercise 2: Search in a list"
      ]
    },
    {
      "cell_type": "markdown",
      "metadata": {
        "colab_type": "text",
        "id": "2g3R25-q98Hh"
      },
      "source": [
        "Describe the time and space complexity for the following function using Big-O, Big-Theta, and Big-Omega notation.\n"
      ]
    },
    {
      "cell_type": "code",
      "metadata": {
        "colab_type": "code",
        "id": "9tgt3M11kprO",
        "colab": {}
      },
      "source": [
        "# Search in a list\n",
        "\n",
        "def find(arr, target):\n",
        "    for item in arr:\n",
        "        if item == target:\n",
        "            return True\n",
        "    return False"
      ],
      "execution_count": 0,
      "outputs": []
    },
    {
      "cell_type": "markdown",
      "metadata": {
        "colab_type": "text",
        "id": "MuLSOjck_fpR"
      },
      "source": [
        "### Student Solution"
      ]
    },
    {
      "cell_type": "markdown",
      "metadata": {
        "colab_type": "text",
        "id": "M0dRwq-cA5JT"
      },
      "source": [
        "Your answer goes here."
      ]
    },
    {
      "cell_type": "markdown",
      "metadata": {
        "colab_type": "text",
        "id": "_QK-C_AJA5Jc"
      },
      "source": [
        "### Answer Key"
      ]
    },
    {
      "cell_type": "markdown",
      "metadata": {
        "colab_type": "text",
        "id": "ZtTlrLu7A5Je"
      },
      "source": [
        "**Solution**"
      ]
    },
    {
      "cell_type": "markdown",
      "metadata": {
        "colab_type": "text",
        "id": "Z2vD9brQA5Jh"
      },
      "source": [
        "- Time complexity\n",
        "  - O(n); linear in the worst case, \"Big-O of n\"\n",
        "  -  Ω(1); constant in the best case, \"Big-Omega of 1\"\n",
        "\n",
        "- Space complexity\n",
        "  - Θ(1); constant, \"Big-Theta of 1\""
      ]
    },
    {
      "cell_type": "markdown",
      "metadata": {
        "colab_type": "text",
        "id": "WbcoJPblA5Ju"
      },
      "source": [
        "**Validation**"
      ]
    },
    {
      "cell_type": "code",
      "metadata": {
        "colab_type": "code",
        "id": "kCBLJcRwA5Jj",
        "colab": {}
      },
      "source": [
        "# Search in a list\n",
        "\n",
        "def find(arr, target):\n",
        "    for item in arr:\n",
        "        if item == target:\n",
        "            return True\n",
        "    return False\n",
        "\n",
        "lst = random.sample(range(100), 10)\n",
        "print(f\"Unordered list: {lst}\")\n",
        "print(find(lst, 1))\n",
        "\n",
        "# Time complexity: O(n) [Big-O]  |  Ω(1) [Big-Omega]\n",
        "\n",
        "# Space complexity: Θ(1) [Big-Theta]"
      ],
      "execution_count": 0,
      "outputs": []
    },
    {
      "cell_type": "markdown",
      "metadata": {
        "colab_type": "text",
        "id": "j0o57mMa1q82"
      },
      "source": [
        "## Exercise 3: Search in an n x n matrix"
      ]
    },
    {
      "cell_type": "markdown",
      "metadata": {
        "colab_type": "text",
        "id": "W6aepRly-CQq"
      },
      "source": [
        "Describe the time and space complexity for the following function using Big-O, Big-Theta, and Big-Omega notation.\n"
      ]
    },
    {
      "cell_type": "code",
      "metadata": {
        "colab_type": "code",
        "id": "DAlrakiKkprU",
        "colab": {}
      },
      "source": [
        "# Search in a nxn matrix\n",
        "\n",
        "def find(matrix, target):\n",
        "    if len(matrix) > 0:\n",
        "        for i in range(len(matrix)):\n",
        "            for j in range(len(matrix[0])):\n",
        "                if matrix[i][j] == target:\n",
        "                    return True\n",
        "    return False"
      ],
      "execution_count": 0,
      "outputs": []
    },
    {
      "cell_type": "markdown",
      "metadata": {
        "colab_type": "text",
        "id": "xPcNqzXP_iGq"
      },
      "source": [
        "### Student Solution"
      ]
    },
    {
      "cell_type": "markdown",
      "metadata": {
        "colab_type": "text",
        "id": "4XRir004A6b_"
      },
      "source": [
        "Your answer goes here."
      ]
    },
    {
      "cell_type": "markdown",
      "metadata": {
        "colab_type": "text",
        "id": "pahtAHF0A6cD"
      },
      "source": [
        "### Answer Key"
      ]
    },
    {
      "cell_type": "markdown",
      "metadata": {
        "colab_type": "text",
        "id": "v0k51urmA6cG"
      },
      "source": [
        "**Solution**"
      ]
    },
    {
      "cell_type": "markdown",
      "metadata": {
        "colab_type": "text",
        "id": "L48M3x04A6cI"
      },
      "source": [
        "- Time complexity\n",
        "  - O(n^2); quadratic in the worst case, \"Big-O of n squared\"\n",
        "  - Ω(1); constant in the best case, \"Big-Omega of 1\"\n",
        "\n",
        "- Space complexity\n",
        "  - Θ(1); constant, \"Big-Theta of 1\""
      ]
    },
    {
      "cell_type": "markdown",
      "metadata": {
        "colab_type": "text",
        "id": "KGnUswbaA6cS"
      },
      "source": [
        "**Validation**"
      ]
    },
    {
      "cell_type": "code",
      "metadata": {
        "colab_type": "code",
        "id": "wBHBc3nJA6cK",
        "colab": {}
      },
      "source": [
        "# Search in a nxn matrix\n",
        "\n",
        "def find(matrix, target):\n",
        "    if len(matrix) > 0:\n",
        "        for i in range(len(matrix)):\n",
        "            for j in range(len(matrix[0])):\n",
        "                if matrix[i][j] == target:\n",
        "                    return True\n",
        "    return False\n",
        "\n",
        "grid = [random.sample(range(100), 10) for _ in range(10)]\n",
        "print(f'\\n'.join([''.join(['{:4}'.format(i) for i in row]) for row in grid]))\n",
        "print(find(grid, 1))\n",
        "\n",
        "# Time complexity: O(n^2) [Big-O]  |  Ω(1) [Big-Omega]\n",
        "\n",
        "# Space complexity: Θ(1) [Big-Theta]"
      ],
      "execution_count": 0,
      "outputs": []
    },
    {
      "cell_type": "markdown",
      "metadata": {
        "colab_type": "text",
        "id": "MOWC5nQJ2hU_"
      },
      "source": [
        "## Exercise 4: Replace a character "
      ]
    },
    {
      "cell_type": "markdown",
      "metadata": {
        "colab_type": "text",
        "id": "7z2nV3wG-EOx"
      },
      "source": [
        "The following function replaces a character from a given string with another character or string (for example, remove all commas).\n",
        "\n",
        "Describe the time and space complexity for this function using Big-O, Big-Theta, and Big-Omega notation.\n"
      ]
    },
    {
      "cell_type": "code",
      "metadata": {
        "colab_type": "code",
        "id": "vpAwgcnEkprY",
        "colab": {}
      },
      "source": [
        "# Replace a character from string with another character or string (for example,\n",
        "# remove all commas)\n",
        "\n",
        "def replace(word, char_to_remove, char_to_insert=''):\n",
        "    temp = []\n",
        "    for c in word:\n",
        "        if c != char_to_remove:\n",
        "            temp.append(c)\n",
        "        else:\n",
        "            temp.append(char_to_insert)\n",
        "    return ''.join(temp)"
      ],
      "execution_count": 0,
      "outputs": []
    },
    {
      "cell_type": "markdown",
      "metadata": {
        "colab_type": "text",
        "id": "Mk5s48S8AabQ"
      },
      "source": [
        "### Student Solution"
      ]
    },
    {
      "cell_type": "markdown",
      "metadata": {
        "colab_type": "text",
        "id": "-2T_1PbmA7bQ"
      },
      "source": [
        "Your answer goes here."
      ]
    },
    {
      "cell_type": "markdown",
      "metadata": {
        "colab_type": "text",
        "id": "58UpCmu3A7bT"
      },
      "source": [
        "### Answer Key"
      ]
    },
    {
      "cell_type": "markdown",
      "metadata": {
        "colab_type": "text",
        "id": "hnWV4EPwA7bW"
      },
      "source": [
        "**Solution**"
      ]
    },
    {
      "cell_type": "markdown",
      "metadata": {
        "colab_type": "text",
        "id": "F2NcotIVA7bY"
      },
      "source": [
        "- Time complexity\n",
        "  - Θ(n); linear, \"Big-Theta of n\"\n",
        "\n",
        "- Space complexity\n",
        "  - Θ(n); linear, \"Big-Theta of n\""
      ]
    },
    {
      "cell_type": "markdown",
      "metadata": {
        "colab_type": "text",
        "id": "lw3Cu5EUA7bj"
      },
      "source": [
        "**Validation**"
      ]
    },
    {
      "cell_type": "code",
      "metadata": {
        "colab_type": "code",
        "id": "5hBbugBNA7ba",
        "colab": {}
      },
      "source": [
        "# Replace a character from string with another character or string (for example,\n",
        "# remove all commas)\n",
        "\n",
        "def replace(word, char_to_remove, char_to_insert=''):\n",
        "    temp = []\n",
        "    for c in word:\n",
        "        if c != char_to_remove:\n",
        "            temp.append(c)\n",
        "        else:\n",
        "            temp.append(char_to_insert)\n",
        "    return ''.join(temp)\n",
        "\n",
        "w = 'Hello world!!!'\n",
        "print(replace(w, '!', ' :)'))\n",
        "\n",
        "# Time complexity: Θ(n) [Big-Theta]\n",
        "\n",
        "# Space complexity: Θ(n) [Big-Theta]"
      ],
      "execution_count": 0,
      "outputs": []
    },
    {
      "cell_type": "markdown",
      "metadata": {
        "colab_type": "text",
        "id": "42kPEQXp2nv1"
      },
      "source": [
        "## Exercise 5: Apply lambda function to dataframe"
      ]
    },
    {
      "cell_type": "markdown",
      "metadata": {
        "colab_type": "text",
        "id": "hF46bR5f-Fmv"
      },
      "source": [
        "Describe the time and space complexity for the following function using Big-O, Big-Theta, and Big-Omega notation.\n"
      ]
    },
    {
      "cell_type": "code",
      "metadata": {
        "colab_type": "code",
        "id": "kFNJCw9Jkprc",
        "colab": {}
      },
      "source": [
        "# Apply lambda function to dataframe\n",
        "import pandas as pd\n",
        "\n",
        "df = pd.DataFrame({'x': [1, 2, 3], 'old_column': [4, 5, 6]})\n",
        "df['new_column'] = df['old_column'].apply(lambda x: x * 1000)"
      ],
      "execution_count": 0,
      "outputs": []
    },
    {
      "cell_type": "markdown",
      "metadata": {
        "colab_type": "text",
        "id": "RVfsOP-7AbxW"
      },
      "source": [
        "### Student Solution"
      ]
    },
    {
      "cell_type": "markdown",
      "metadata": {
        "colab_type": "text",
        "id": "zF4FsX9iA9BP"
      },
      "source": [
        "Your answer goes here."
      ]
    },
    {
      "cell_type": "markdown",
      "metadata": {
        "colab_type": "text",
        "id": "DHTU50GgA9BT"
      },
      "source": [
        "### Answer Key"
      ]
    },
    {
      "cell_type": "markdown",
      "metadata": {
        "colab_type": "text",
        "id": "drGni1ZTA9BV"
      },
      "source": [
        "**Solution**"
      ]
    },
    {
      "cell_type": "markdown",
      "metadata": {
        "colab_type": "text",
        "id": "y2Jwr7zUA9BZ"
      },
      "source": [
        "- Time complexity\n",
        "  - Θ(n); linear, \"Big-Theta of n\" where n is the number of rows\n",
        "\n",
        "- Space complexity\n",
        "  - Θ(n); linear, \"Big-Theta of n\" where n is the number of rows\n",
        "\n",
        "`apply` is pretty slow because it loops through each row.\n",
        "Whenever possible, use vectorization. Here's a nice explanation with examples:\n",
        "https://engineering.upside.com/a-beginners-guide-to-optimizing-pandas-code-for-speed-c09ef2c6a4d6"
      ]
    },
    {
      "cell_type": "markdown",
      "metadata": {
        "colab_type": "text",
        "id": "TKSC0I81A9Bm"
      },
      "source": [
        "**Validation**"
      ]
    },
    {
      "cell_type": "code",
      "metadata": {
        "colab_type": "code",
        "id": "GwJxBhTUA9Bb",
        "colab": {}
      },
      "source": [
        "# Apply lambda function to dataframe\n",
        "import pandas as pd\n",
        "\n",
        "df = pd.DataFrame({'x': [1, 2, 3], 'old_column': [4, 5, 6]})\n",
        "\n",
        "looptest = 0\n",
        "def multiply_by_1k(value):\n",
        "  global looptest\n",
        "  looptest += 1\n",
        "  print(f\"Loop #{looptest}, Calling function for value: {value}\")\n",
        "  return value*1000\n",
        "\n",
        "df['new_column'] = df['old_column'].apply(lambda x: multiply_by_1k(x))\n",
        "\n",
        "# df['new_column'] = df['old_column'] * 1000 # faster\n",
        "\n",
        "df\n",
        "\n",
        "# Time complexity: Θ(n) [Big-Theta, where n is the number of rows]\n",
        "\n",
        "# Space complexity: Θ(n) [Big-Theta]\n",
        "\n",
        "# `apply` is pretty slow because it loops through each row. Notice how the \n",
        "# function is called once for each row.\n",
        "# Whenever possible, use vectorization. Here's a nice explanation with examples:\n",
        "# https://engineering.upside.com/a-beginners-guide-to-optimizing-pandas-code-for-speed-c09ef2c6a4d6"
      ],
      "execution_count": 0,
      "outputs": []
    },
    {
      "cell_type": "markdown",
      "metadata": {
        "colab_type": "text",
        "id": "tRVLL0fU22LA"
      },
      "source": [
        "## Exercise 6: Bubble Sort"
      ]
    },
    {
      "cell_type": "markdown",
      "metadata": {
        "colab_type": "text",
        "id": "Pgk4PVBO-HM4"
      },
      "source": [
        "Describe the time and space complexity for the following function using Big-O, Big-Theta, and Big-Omega notation.\n"
      ]
    },
    {
      "cell_type": "code",
      "metadata": {
        "colab_type": "code",
        "id": "HTcQ9UE0kprg",
        "colab": {}
      },
      "source": [
        "# Bubble Sort\n",
        "\n",
        "def bubble_sort(arr):\n",
        "    sorted = False\n",
        "    while(not sorted):\n",
        "        sorted = True\n",
        "        for i, value in enumerate(arr[:-1]):\n",
        "            if value > arr[i+1]:\n",
        "                arr[i], arr[i+1] = arr[i+1], arr[i]\n",
        "                sorted = False\n",
        "    return arr"
      ],
      "execution_count": 0,
      "outputs": []
    },
    {
      "cell_type": "markdown",
      "metadata": {
        "colab_type": "text",
        "id": "bdaHdRs1Agbj"
      },
      "source": [
        "### Student Solution"
      ]
    },
    {
      "cell_type": "markdown",
      "metadata": {
        "colab_type": "text",
        "id": "5BDo3TS2A-V1"
      },
      "source": [
        "Your answer goes here."
      ]
    },
    {
      "cell_type": "markdown",
      "metadata": {
        "colab_type": "text",
        "id": "KA7zv7HSA-V4"
      },
      "source": [
        "### Answer Key"
      ]
    },
    {
      "cell_type": "markdown",
      "metadata": {
        "colab_type": "text",
        "id": "-bXmRLCkA-V6"
      },
      "source": [
        "**Solution**"
      ]
    },
    {
      "cell_type": "markdown",
      "metadata": {
        "colab_type": "text",
        "id": "6en-4LQCA-V8"
      },
      "source": [
        "- Time complexity\n",
        "  - O(n^2); quadratic in the worst case, \"Big-O of n squared\"\n",
        "  - Ω(n); linear in the best case, \"Big-Omega of n\"\n",
        "\n",
        "- Space complexity\n",
        "  - Θ(1); constant, \"Big-Theta of n\""
      ]
    },
    {
      "cell_type": "markdown",
      "metadata": {
        "colab_type": "text",
        "id": "TxxqGppbA-WG"
      },
      "source": [
        "**Validation**"
      ]
    },
    {
      "cell_type": "code",
      "metadata": {
        "colab_type": "code",
        "id": "fUJBzLcmA-V-",
        "colab": {}
      },
      "source": [
        "# Bubble Sort\n",
        "\n",
        "def bubble_sort(arr):\n",
        "    sorted = False\n",
        "    loop = 0\n",
        "    while(not sorted):\n",
        "        sorted = True\n",
        "        loop += 1\n",
        "        print(f\"Outer Loop #{loop}\")\n",
        "        for i, value in enumerate(arr[:-1]):\n",
        "            print(f\"    Inner Loop #{i+1}\")\n",
        "            if value > arr[i+1]:\n",
        "                arr[i], arr[i+1] = arr[i+1], arr[i]\n",
        "                sorted = False\n",
        "    return arr\n",
        "\n",
        "lst = random.sample(range(100), 10)\n",
        "print(f\"Quadratic for unordered list: {lst}\")\n",
        "print(f\"Sorted list: {bubble_sort(lst)}\")\n",
        "\n",
        "# Time complexity: O(n^2) [Big-O]  |  Ω(n) [Big-Omega]\n",
        "\n",
        "# Space complexity: Θ(1) [Big-Theta]"
      ],
      "execution_count": 0,
      "outputs": []
    },
    {
      "cell_type": "code",
      "metadata": {
        "colab_type": "code",
        "id": "0OfK6i2rkprj",
        "colab": {}
      },
      "source": [
        "print(f\"Linear for pre-ordered list: {bubble_sort(list(range(10)))}\")"
      ],
      "execution_count": 0,
      "outputs": []
    },
    {
      "cell_type": "markdown",
      "metadata": {
        "colab_type": "text",
        "id": "2dxmKYue3Mjc"
      },
      "source": [
        "## Exercise 7: (Challenge) Find all contiguous substrings"
      ]
    },
    {
      "cell_type": "markdown",
      "metadata": {
        "colab_type": "text",
        "id": "cwIvN0Ce-MoA"
      },
      "source": [
        "Describe the time and space complexity for the following function using Big-O, Big-Theta, and Big-Omega notation.\n"
      ]
    },
    {
      "cell_type": "code",
      "metadata": {
        "colab_type": "code",
        "id": "3tE6JPjJkprm",
        "colab": {}
      },
      "source": [
        "# Challenges\n",
        "\n",
        "# Find all contiguous substrings\n",
        "\n",
        "def find_cont_substrings(arr):\n",
        "    substrings = set()\n",
        "    for i in range(len(arr)):\n",
        "        for j in range(i,len(arr)):\n",
        "            substrings.add(tuple(arr[i:j+1]))\n",
        "    return substrings"
      ],
      "execution_count": 0,
      "outputs": []
    },
    {
      "cell_type": "markdown",
      "metadata": {
        "colab_type": "text",
        "id": "_NJ4mJI1AjCs"
      },
      "source": [
        "### Student Solution"
      ]
    },
    {
      "cell_type": "markdown",
      "metadata": {
        "colab_type": "text",
        "id": "60ebY4OVBAOR"
      },
      "source": [
        "Your answer goes here."
      ]
    },
    {
      "cell_type": "markdown",
      "metadata": {
        "colab_type": "text",
        "id": "pUh3yo-eBAOX"
      },
      "source": [
        "### Answer Key"
      ]
    },
    {
      "cell_type": "markdown",
      "metadata": {
        "colab_type": "text",
        "id": "YD-36nRpBAOc"
      },
      "source": [
        "**Solution**"
      ]
    },
    {
      "cell_type": "markdown",
      "metadata": {
        "colab_type": "text",
        "id": "urVZlQVYBAOg"
      },
      "source": [
        "- Time complexity\n",
        "  - Θ(n^2); quadratic, \"Big-Theta of n squared\" (specifically, it's n(n+1)/2, which is the arithmetic sum)\n",
        "\n",
        "- Space complexity\n",
        "  - Θ(n^3); cubic, \"Big-Theta of n cube\", where n is the `len(arr)`"
      ]
    },
    {
      "cell_type": "markdown",
      "metadata": {
        "colab_type": "text",
        "id": "3Gz9WJfIBAOz"
      },
      "source": [
        "**Validation**"
      ]
    },
    {
      "cell_type": "code",
      "metadata": {
        "colab_type": "code",
        "id": "7_JHymaqBAOl",
        "colab": {}
      },
      "source": [
        "# Find all contiguous substrings\n",
        "\n",
        "def find_cont_substrings(arr):\n",
        "    substrings = set()\n",
        "    for i in range(len(arr)):\n",
        "        print(f\"Outer Loop #{i+1}\")\n",
        "        for j in range(i,len(arr)):\n",
        "            print(f\"    Inner Loop #{j+1}\")\n",
        "            print(arr[i:j+1])\n",
        "            substrings.add(tuple(arr[i:j+1]))\n",
        "    return substrings\n",
        "\n",
        "\n",
        "s = find_cont_substrings(list(range(10)))\n",
        "print(f\"Contiguous substrings for [1..9]: {s}\")\n",
        "print(f\"Number of substrings: {len(s)}\")\n",
        "\n",
        "# Time complexity: Θ(n^2) [Big-Theta] (specifically, it's n(n+1)/2, which is the\n",
        "# arithmetic sum)\n",
        "\n",
        "# Space complexity: Θ(n^3) [Big-Theta, where n is the len(arr)]"
      ],
      "execution_count": 0,
      "outputs": []
    },
    {
      "cell_type": "markdown",
      "metadata": {
        "colab_type": "text",
        "id": "QT7zwi_s3Taa"
      },
      "source": [
        "## Exercise 8: (Challenge) Find all contiguous substrings using list comprehension"
      ]
    },
    {
      "cell_type": "markdown",
      "metadata": {
        "colab_type": "text",
        "id": "Zcs_q5LQ-N8D"
      },
      "source": [
        "Describe the time and space complexity for the following function using Big-O, Big-Theta, and Big-Omega notation.\n"
      ]
    },
    {
      "cell_type": "code",
      "metadata": {
        "colab_type": "code",
        "id": "fXKXmUNXkprp",
        "colab": {}
      },
      "source": [
        "# Using list comprehension:\n",
        "\n",
        "def find_substrings(arr):\n",
        "    length = len(arr)\n",
        "    return [arr[i:j+1] for i in range(length) for j in range(i,length)]"
      ],
      "execution_count": 0,
      "outputs": []
    },
    {
      "cell_type": "markdown",
      "metadata": {
        "colab_type": "text",
        "id": "2x8FUdaMAkFc"
      },
      "source": [
        "### Student Solution"
      ]
    },
    {
      "cell_type": "markdown",
      "metadata": {
        "colab_type": "text",
        "id": "3bvfNa3dBBNt"
      },
      "source": [
        "Your answer goes here."
      ]
    },
    {
      "cell_type": "markdown",
      "metadata": {
        "colab_type": "text",
        "id": "3PCLqXQqBBNv"
      },
      "source": [
        "### Answer Key"
      ]
    },
    {
      "cell_type": "markdown",
      "metadata": {
        "colab_type": "text",
        "id": "1Iu5YJk_BBNv"
      },
      "source": [
        "**Solution**"
      ]
    },
    {
      "cell_type": "markdown",
      "metadata": {
        "colab_type": "text",
        "id": "Ik8HRoa3BBN4"
      },
      "source": [
        "- Time complexity\n",
        "  - Θ(n^2); quadratic, \"Big-Theta of n squared\" (specifically, it's n(n+1)/2, which is the arithmetic sum)\n",
        "\n",
        "- Space complexity\n",
        "  - Θ(n^3); cubic, \"Big-Theta of n cube\", where n is the `len(arr)`"
      ]
    },
    {
      "cell_type": "markdown",
      "metadata": {
        "colab_type": "text",
        "id": "JfbXK0uVBBN8"
      },
      "source": [
        "**Validation**"
      ]
    },
    {
      "cell_type": "code",
      "metadata": {
        "colab_type": "code",
        "id": "_ovOLdWaBBN5",
        "colab": {}
      },
      "source": [
        "# Using list comprehension:\n",
        "\n",
        "def find_substrings(arr):\n",
        "    length = len(arr)\n",
        "    return [arr[i:j+1] for i in range(length) for j in range(i,length)]\n",
        "\n",
        "print(f\"Contiguous substrings for [1..9]: {find_substrings(list(range(10)))}\")\n",
        "\n",
        "# Time complexity: Θ(n^2) [Big-Theta] (specifically, it's n(n+1)/2, which is the\n",
        "# arithmetic sum)\n",
        "\n",
        "# Space complexity: Θ(n^3) [Big-Theta]"
      ],
      "execution_count": 0,
      "outputs": []
    },
    {
      "cell_type": "markdown",
      "metadata": {
        "colab_type": "text",
        "id": "q5f9E2_L3e3c"
      },
      "source": [
        "## Exercise 9: (Challenge) Find or Implement a faster sorting method"
      ]
    },
    {
      "cell_type": "markdown",
      "metadata": {
        "colab_type": "text",
        "id": "t-gAbfai-RRM"
      },
      "source": [
        "Find or Implement a faster sorting method, and describe its time and space complexity using Big-O, Big-Theta, and Big-Omega notation.\n"
      ]
    },
    {
      "cell_type": "markdown",
      "metadata": {
        "colab_type": "text",
        "id": "Th6447X4Al8x"
      },
      "source": [
        "### Student Solution"
      ]
    },
    {
      "cell_type": "code",
      "metadata": {
        "colab_type": "code",
        "id": "1gSQSTFvBCoM",
        "colab": {}
      },
      "source": [
        "# Your code goes here"
      ],
      "execution_count": 0,
      "outputs": []
    },
    {
      "cell_type": "markdown",
      "metadata": {
        "colab_type": "text",
        "id": "3eez9IqcBCoC"
      },
      "source": [
        "Your answer goes here."
      ]
    },
    {
      "cell_type": "markdown",
      "metadata": {
        "colab_type": "text",
        "id": "3h5LQkU2BCoF"
      },
      "source": [
        "### Answer Key"
      ]
    },
    {
      "cell_type": "markdown",
      "metadata": {
        "colab_type": "text",
        "id": "5RHyTTpoBCoI"
      },
      "source": [
        "**Solution**"
      ]
    },
    {
      "cell_type": "markdown",
      "metadata": {
        "colab_type": "text",
        "id": "kYmENiP-3kBA"
      },
      "source": [
        "**Merge Sort**\n",
        "\n",
        "- Time complexity\n",
        "  - Θ(nlogn); \"Big-Theta of n*log(n)\"\n",
        "  \n",
        "Notice that, even though bubble sort is terrible, in the best case (i.e., when the list is already sorted), bubble sort takes less time and space than merge sort.\n",
        "\n",
        "- Space complexity\n",
        "  - Θ(n); linear, \"Big-Theta of n\""
      ]
    },
    {
      "cell_type": "code",
      "metadata": {
        "colab_type": "code",
        "id": "VpTgwKlukprt",
        "colab": {}
      },
      "source": [
        "def merge_sort(arr):\n",
        "    if len(arr) <= 1:\n",
        "        return arr\n",
        "    middle = len(arr)//2\n",
        "    left = merge_sort(arr[:middle])\n",
        "    right = merge_sort(arr[middle:])\n",
        "    sorted_arr = []\n",
        "    i, j = 0, 0\n",
        "    while i<len(left) and j<len(right):\n",
        "        if right[j] < left[i]:\n",
        "            sorted_arr.append(right[j])\n",
        "            j += 1\n",
        "        else:\n",
        "            sorted_arr.append(left[i])\n",
        "            i += 1\n",
        "    sorted_arr = sorted_arr + left[i:] + right[j:]\n",
        "    return sorted_arr"
      ],
      "execution_count": 0,
      "outputs": []
    },
    {
      "cell_type": "markdown",
      "metadata": {
        "colab_type": "text",
        "id": "KEGV_sDK328G"
      },
      "source": [
        "**Quicksort**\n",
        "\n",
        "Time complexity: O(n^2) and Ω(nlogn) --quadratic in the worst case, Big-O of n squared, and n*log(n) in the best and average cases, Big-Omega of n*log(n) (quicksort is generally considered nlogn because that's the average case)\n",
        "\n",
        "Space complexity: Θ(1) --constant, Big-Theta of 1 --> in place sorting"
      ]
    },
    {
      "cell_type": "code",
      "metadata": {
        "colab_type": "code",
        "id": "iyPBmvcLkpry",
        "colab": {}
      },
      "source": [
        "def quicksort(arr, left=0, right=None):\n",
        "    if right is None: right = len(arr)-1\n",
        "    if left < right:\n",
        "        mid = partition(arr, left, right)\n",
        "        quicksort(arr, left, mid-1)\n",
        "        quicksort(arr, mid+1, right)\n",
        "    \n",
        "    \n",
        "def partition(arr, left, right):\n",
        "    pivot = arr[right]\n",
        "    i = left - 1 \n",
        "    for j in range(left, right):\n",
        "        if arr[j] <= pivot:\n",
        "            i += 1\n",
        "            arr[i], arr[j] = arr[j], arr[i]\n",
        "    arr[i+1], arr[right] = arr[right], arr[i+1]\n",
        "    return i+1"
      ],
      "execution_count": 0,
      "outputs": []
    },
    {
      "cell_type": "markdown",
      "metadata": {
        "colab_type": "text",
        "id": "J0ymJjutBCoT"
      },
      "source": [
        "**Validation**"
      ]
    },
    {
      "cell_type": "code",
      "metadata": {
        "colab_type": "code",
        "id": "Ox76di21XXmj",
        "colab": {}
      },
      "source": [
        "def merge_sort(arr, loop=0):\n",
        "    loop += 1\n",
        "    print(f\"Loop #{loop}\")\n",
        "    print(f\"Subproblem: {arr}\")\n",
        "    if len(arr) <= 1:\n",
        "        return arr\n",
        "    middle = len(arr)//2\n",
        "    left = merge_sort(arr[:middle], loop)\n",
        "    right = merge_sort(arr[middle:], loop)\n",
        "    sorted_arr = []\n",
        "    i, j = 0, 0\n",
        "    while i<len(left) and j<len(right):\n",
        "        if right[j] < left[i]:\n",
        "            sorted_arr.append(right[j])\n",
        "            j += 1\n",
        "        else:\n",
        "            sorted_arr.append(left[i])\n",
        "            i += 1\n",
        "    sorted_arr = sorted_arr + left[i:] + right[j:]\n",
        "    print(f\"Merged subproblems: {sorted_arr}\")\n",
        "    return sorted_arr\n",
        "\n",
        "\n",
        "lst = random.sample(range(10), 10)\n",
        "print(f\"Unordered list: {lst}\")\n",
        "print(f\"Sorted list: {merge_sort(lst)}\")\n",
        "\n",
        "# Time complexity: Θ(nlogn) [Big-Theta]\n",
        "# N otice that, even though bubble sort is terrible, in the best case  i.e.,\n",
        "# when the list is already sorted), bubble sort takes less time and space than\n",
        "# merge sort.\n",
        "\n",
        "# Space complexity: Θ(n) [Big-Theta]"
      ],
      "execution_count": 0,
      "outputs": []
    },
    {
      "cell_type": "code",
      "metadata": {
        "colab_type": "code",
        "id": "zKeEx8AJkprv",
        "colab": {}
      },
      "source": [
        "print(f\"Pre-ordered list: {merge_sort(list(range(10)))}\")"
      ],
      "execution_count": 0,
      "outputs": []
    },
    {
      "cell_type": "code",
      "metadata": {
        "colab_type": "code",
        "id": "rN5vRPUdXtRo",
        "colab": {}
      },
      "source": [
        "loop = 0\n",
        "loop2 = 0\n",
        "\n",
        "def quicksort(arr, left=0, right=None):\n",
        "    global loop\n",
        "    loop += 1\n",
        "    print(f\"Loop #{loop}\")\n",
        "    \n",
        "    if right is None: right = len(arr)-1\n",
        "    if left < right:\n",
        "        mid = partition(arr, left, right)\n",
        "        quicksort(arr, left, mid-1)\n",
        "        quicksort(arr, mid+1, right)\n",
        "    \n",
        "    \n",
        "def partition(arr, left, right):\n",
        "    global loop2\n",
        "    loop2 += 1\n",
        "    print(f\"Partition Loop #{loop2}\")\n",
        "    \n",
        "    pivot = arr[right]\n",
        "    print(f\"Pivot: {pivot}\")\n",
        "    i = left - 1 \n",
        "    for j in range(left, right):\n",
        "        if arr[j] <= pivot:\n",
        "            i += 1\n",
        "            arr[i], arr[j] = arr[j], arr[i]\n",
        "    arr[i+1], arr[right] = arr[right], arr[i+1]\n",
        "    print(f\"List after partition: {arr}\")\n",
        "    return i+1\n",
        "\n",
        "\n",
        "lst = random.sample(range(10), 10)\n",
        "print(f\"Unordered list: {lst}\")\n",
        "quicksort(lst)\n",
        "print(f\"Sorted list: {lst}\")\n",
        "\n",
        "# Time complexity: O(n^2) [Big-O]  |  Ω(nlogn)  [Big-Omega] (quicksort is nlogn\n",
        "# in the average case)\n",
        "\n",
        "# Space complexity: Θ(1) [Big-Theta] --> in place sorting"
      ],
      "execution_count": 0,
      "outputs": []
    },
    {
      "cell_type": "code",
      "metadata": {
        "colab_type": "code",
        "id": "vG0J6h4Okpr1",
        "colab": {}
      },
      "source": [
        "loop = 0\n",
        "loop2 = 0\n",
        "\n",
        "print(f\"Pre-ordered list: {quicksort(list(range(10)))}\")"
      ],
      "execution_count": 0,
      "outputs": []
    },
    {
      "cell_type": "markdown",
      "metadata": {
        "colab_type": "text",
        "id": "nxBL_cM24D4H"
      },
      "source": [
        "## Exercise 10: (Challenge) Generate the power set of a list"
      ]
    },
    {
      "cell_type": "markdown",
      "metadata": {
        "colab_type": "text",
        "id": "r9NprBUq-0K5"
      },
      "source": [
        "Write a function to generate the [power set](https://www.mathsisfun.com/sets/power-set.html) of a list. "
      ]
    },
    {
      "cell_type": "markdown",
      "metadata": {
        "colab_type": "text",
        "id": "hyy1sISQApl4"
      },
      "source": [
        "### Student Solution"
      ]
    },
    {
      "cell_type": "code",
      "metadata": {
        "colab_type": "code",
        "id": "Bu6vx-7ZYoa1",
        "colab": {}
      },
      "source": [
        "# Your code goes here"
      ],
      "execution_count": 0,
      "outputs": []
    },
    {
      "cell_type": "markdown",
      "metadata": {
        "colab_type": "text",
        "id": "Bv1TAUwWBD3g"
      },
      "source": [
        "Your answer goes here."
      ]
    },
    {
      "cell_type": "markdown",
      "metadata": {
        "colab_type": "text",
        "id": "LvDgs01wBD3k"
      },
      "source": [
        "### Answer Key"
      ]
    },
    {
      "cell_type": "markdown",
      "metadata": {
        "colab_type": "text",
        "id": "w39OvvLPBD3n"
      },
      "source": [
        "**Solution**"
      ]
    },
    {
      "cell_type": "markdown",
      "metadata": {
        "colab_type": "text",
        "id": "5Y8ReU6GBD3p"
      },
      "source": [
        "- Time complexity\n",
        "  -Θ(n^2 * (n choose n//2)); \"Big-Theta of n squared times n choose n over 2\"\n",
        "\n",
        "- Space complexity\n",
        "  - Θ(2^n); exponential, \"Big-Theta of 2 to the n\"\n"
      ]
    },
    {
      "cell_type": "code",
      "metadata": {
        "colab_type": "code",
        "id": "LrBm8kj_kpr5",
        "colab": {}
      },
      "source": [
        "# Extra challenge problem: Generate the power set of a list\n",
        "\n",
        "# Iterative approach\n",
        "def get_power_set(arr):\n",
        "    power_set = set()\n",
        "    size = len(arr)\n",
        "    pre_set = [str('')] # set of substrings of size str_len - 1\n",
        "    i_pre_set = [-1] # indices of the last letter for each substring\n",
        "\n",
        "    for str_len in range(size): # n\n",
        "        curr_set = [] \n",
        "        i_curr_set = []\n",
        "        for i, substr in enumerate(pre_set): # n choose (n//2)\n",
        "            for j in range(i_pre_set[i]+1, size): # n\n",
        "                curr_set.append(substr+arr[j])\n",
        "                i_curr_set.append(j)\n",
        "                print(substr+arr[j])\n",
        "        power_set = power_set.union(pre_set) # n choose (n//2)\n",
        "        pre_set = curr_set # n choose (n//2)\n",
        "        i_pre_set = i_curr_set\n",
        "    power_set = power_set.union(pre_set) # 2^n\n",
        "    return list(power_set) # 2^n"
      ],
      "execution_count": 0,
      "outputs": []
    },
    {
      "cell_type": "markdown",
      "metadata": {
        "colab_type": "text",
        "id": "vejNsMCWBD3y"
      },
      "source": [
        "**Validation**"
      ]
    },
    {
      "cell_type": "code",
      "metadata": {
        "colab_type": "code",
        "id": "29Ifb5TyGMWu",
        "colab": {}
      },
      "source": [
        "# Extra challenge problem: Generate the power set of a list\n",
        "\n",
        "# Iterative approach\n",
        "def get_power_set(arr):\n",
        "    power_set = set()\n",
        "    size = len(arr)\n",
        "    pre_set = [str('')] # set of substrings of size str_len - 1\n",
        "    i_pre_set = [-1] # indices of the last letter for each substring\n",
        "\n",
        "    for str_len in range(size): # n\n",
        "        print(f\"Outermost Loop (substring lengths) #{str_len+1}\")\n",
        "        curr_set = [] \n",
        "        i_curr_set = []\n",
        "        for i, substr in enumerate(pre_set): # n choose (n//2)\n",
        "            print(f\"    Middle Loop (substrings of length {str_len}) #{i+1}\")\n",
        "            for j in range(i_pre_set[i]+1, size): # n\n",
        "                print(f\"        Innermost Loop (each new substring of length {str_len+1}) #{j+1}\")\n",
        "                curr_set.append(substr+arr[j])\n",
        "                i_curr_set.append(j)\n",
        "                print(substr+arr[j])\n",
        "        power_set = power_set.union(pre_set) # n choose (n//2)\n",
        "        pre_set = curr_set # n choose (n//2)\n",
        "        i_pre_set = i_curr_set\n",
        "    power_set = power_set.union(pre_set) # 2^n\n",
        "    return list(power_set) # 2^n\n",
        "\n",
        "# Time complexity: Θ(n^2 * (n choose n//2)) [Big-Theta]\n",
        "\n",
        "# Space complexity: Θ(2^n) [Big-Theta]"
      ],
      "execution_count": 0,
      "outputs": []
    },
    {
      "cell_type": "code",
      "metadata": {
        "colab_type": "code",
        "id": "0ioQuOisGAlh",
        "colab": {}
      },
      "source": [
        "# Tests\n",
        "test = ['a', 'b', 'c']\n",
        "print(f\"Original list: {test}\")\n",
        "print(f\"Size of original list: {len(test)}\")\n",
        "power_set = get_power_set(test)\n",
        "print(power_set)\n",
        "print(f\"Size of power set: {len(power_set)}\")\n",
        "assert(len(power_set) == 2**len(test))\n",
        "\n",
        "\n",
        "# size of pre_set for each len(arr)\n",
        "# 1, 2, 3, 6, 10, 20, 35, ...\n",
        "\n",
        "# 1 --> 0\n",
        "# 1 1 --> 1\n",
        "# 1 2 1 --> 2\n",
        "# 1 3 3 1 --> 3\n",
        "# 1 4 6 4 1 --> 4\n",
        "# 1 5 10 10 5 1 --> 5\n",
        "# 1 6 15 20 15 6 1 --> 6\n",
        "# 1 7 21 35 35 21 7 1 --> 7\n",
        "# ..."
      ],
      "execution_count": 0,
      "outputs": []
    },
    {
      "cell_type": "code",
      "metadata": {
        "colab_type": "code",
        "id": "CFdsVKKdkpr-",
        "colab": {}
      },
      "source": [
        "test = ['a', 'b', 'c', 'd']\n",
        "print(f\"Original list: {test}\")\n",
        "print(f\"Size of original list: {len(test)}\")\n",
        "power_set = get_power_set(test)\n",
        "print(power_set)\n",
        "print(f\"Size of power set: {len(power_set)}\")\n",
        "assert(len(power_set) == 2**len(test))"
      ],
      "execution_count": 0,
      "outputs": []
    },
    {
      "cell_type": "code",
      "metadata": {
        "colab_type": "code",
        "id": "59Au_37rkpsA",
        "colab": {}
      },
      "source": [
        "test = ['a', 'b', 'c', 'd', 'e']\n",
        "print(f\"Original list: {test}\")\n",
        "print(f\"Size of original list: {len(test)}\")\n",
        "power_set = get_power_set(test)\n",
        "print(power_set)\n",
        "print(f\"Size of power set: {len(power_set)}\")\n",
        "assert(len(power_set) == 2**len(test))"
      ],
      "execution_count": 0,
      "outputs": []
    },
    {
      "cell_type": "code",
      "metadata": {
        "colab_type": "code",
        "id": "vO_PxJVikpsD",
        "colab": {}
      },
      "source": [
        "test = ['a', 'b', 'c', 'd', 'e', 'f']\n",
        "print(f\"Original list: {test}\")\n",
        "print(f\"Size of original list: {len(test)}\")\n",
        "power_set = get_power_set(test)\n",
        "print(power_set)\n",
        "print(f\"Size of power set: {len(power_set)}\")\n",
        "assert(len(power_set) == 2**len(test))"
      ],
      "execution_count": 0,
      "outputs": []
    },
    {
      "cell_type": "code",
      "metadata": {
        "colab_type": "code",
        "id": "dcer62ybkpsG",
        "colab": {}
      },
      "source": [
        "test = ['a', 'b', 'c', 'd', 'e', 'f', 'g']\n",
        "print(f\"Original list: {test}\")\n",
        "print(f\"Size of original list: {len(test)}\")\n",
        "power_set = get_power_set(test)\n",
        "print(power_set)\n",
        "print(f\"Size of power set: {len(power_set)}\")\n",
        "assert(len(power_set) == 2**len(test))"
      ],
      "execution_count": 0,
      "outputs": []
    }
  ]
}