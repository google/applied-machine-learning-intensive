{
  "nbformat": 4,
  "nbformat_minor": 0,
  "metadata": {
    "colab": {
      "name": "Intermediate Python - Lambdas",
      "provenance": [],
      "private_outputs": true,
      "collapsed_sections": [
        "copyright",
        "exercise-1-key-1",
        "exercise-2-key-1"
      ],
      "toc_visible": true,
      "include_colab_link": true
    },
    "kernelspec": {
      "display_name": "Python 3",
      "name": "python3"
    }
  },
  "cells": [
    {
      "cell_type": "markdown",
      "metadata": {
        "id": "view-in-github",
        "colab_type": "text"
      },
      "source": [
        "<a href=\"https://colab.research.google.com/github/google/applied-machine-learning-intensive/blob/master/v2/00_prerequisites/01_intermediate_python/02-lambdas.ipynb\" target=\"_parent\"><img src=\"https://colab.research.google.com/assets/colab-badge.svg\" alt=\"Open In Colab\"/></a>"
      ]
    },
    {
      "cell_type": "markdown",
      "metadata": {
        "colab_type": "text",
        "id": "copyright"
      },
      "source": [
        "#### Copyright 2019 Google LLC."
      ]
    },
    {
      "cell_type": "code",
      "metadata": {
        "colab_type": "code",
        "id": "h8rAl_sPizbx",
        "colab": {}
      },
      "source": [
        "# Licensed under the Apache License, Version 2.0 (the \"License\");\n",
        "# you may not use this file except in compliance with the License.\n",
        "# You may obtain a copy of the License at\n",
        "#\n",
        "# https://www.apache.org/licenses/LICENSE-2.0\n",
        "#\n",
        "# Unless required by applicable law or agreed to in writing, software\n",
        "# distributed under the License is distributed on an \"AS IS\" BASIS,\n",
        "# WITHOUT WARRANTIES OR CONDITIONS OF ANY KIND, either express or implied.\n",
        "# See the License for the specific language governing permissions and\n",
        "# limitations under the License."
      ],
      "execution_count": 0,
      "outputs": []
    },
    {
      "cell_type": "markdown",
      "metadata": {
        "colab_type": "text",
        "id": "zXUyqihI0cQ8"
      },
      "source": [
        "# Intermediate Python - Lambdas\n"
      ]
    },
    {
      "cell_type": "markdown",
      "metadata": {
        "colab_type": "text",
        "id": "RjuRZFi8tg1B"
      },
      "source": [
        "In this colab, we will move on to the concept of lambda functions. You'll learn what a lambda function is and how to use them in your code."
      ]
    },
    {
      "cell_type": "markdown",
      "metadata": {
        "colab_type": "text",
        "id": "6nGxfnkuPKLe"
      },
      "source": [
        "## Lambdas"
      ]
    },
    {
      "cell_type": "markdown",
      "metadata": {
        "colab_type": "text",
        "id": "-LMsrj8C2HO5"
      },
      "source": [
        "You have previously seen how to create named functions and call them."
      ]
    },
    {
      "cell_type": "code",
      "metadata": {
        "colab_type": "code",
        "id": "E3h97Pl_uSrG",
        "colab": {}
      },
      "source": [
        "def my_function():\n",
        "  print(\"Hello ML\")\n",
        "\n",
        "my_function()"
      ],
      "execution_count": 0,
      "outputs": []
    },
    {
      "cell_type": "markdown",
      "metadata": {
        "colab_type": "text",
        "id": "hXE07vNUJprt"
      },
      "source": [
        "What you might not know is that functions are first-class objects in Python, so you can treat them as objects. For example, you can assign functions to variables:"
      ]
    },
    {
      "cell_type": "code",
      "metadata": {
        "colab_type": "code",
        "id": "q_JGeYZnttk3",
        "colab": {}
      },
      "source": [
        "def say_hello():\n",
        "  print(\"Hello\")\n",
        "\n",
        "greeting = say_hello\n",
        "\n",
        "greeting()"
      ],
      "execution_count": 0,
      "outputs": []
    },
    {
      "cell_type": "markdown",
      "metadata": {
        "colab_type": "text",
        "id": "_JXP6aVrt_Mm"
      },
      "source": [
        "And you can pass functions to other functions:"
      ]
    },
    {
      "cell_type": "code",
      "metadata": {
        "colab_type": "code",
        "id": "rIzeqk3MuCVt",
        "colab": {}
      },
      "source": [
        "def say_hello():\n",
        "  print(\"Hello\")\n",
        "\n",
        "def call_another_function(f):\n",
        "  print(\"Calling function {}\".format(f))\n",
        "  f()\n",
        "\n",
        "call_another_function(say_hello)"
      ],
      "execution_count": 0,
      "outputs": []
    },
    {
      "cell_type": "markdown",
      "metadata": {
        "colab_type": "text",
        "id": "cvHwKTFMv2bi"
      },
      "source": [
        "Often, functions can be defined in one line, so it would be nice to have a shorthand rather than having to use the `def` notation. This is exactly the use case for a **`lambda` function**.\n",
        "\n",
        "Lambda functions start with the `lambda` keyword. A colon signals the start of the function body.\n"
      ]
    },
    {
      "cell_type": "code",
      "metadata": {
        "colab_type": "code",
        "id": "jPwC9c0nvn-4",
        "colab": {}
      },
      "source": [
        "my_lambda_func = lambda: print(\"This is a lambda function\")\n",
        "\n",
        "my_lambda_func()"
      ],
      "execution_count": 0,
      "outputs": []
    },
    {
      "cell_type": "markdown",
      "metadata": {
        "colab_type": "text",
        "id": "K1i-0iMtJpjr"
      },
      "source": [
        "\n",
        "\n",
        "Lambda functions can accept arguments. Just put the variable names between the `lambda` keyword and the colon:"
      ]
    },
    {
      "cell_type": "code",
      "metadata": {
        "colab_type": "code",
        "id": "JdCV_sCmwaly",
        "colab": {}
      },
      "source": [
        "add_one = lambda x: x + 1\n",
        "print(add_one(2))\n",
        "\n",
        "add = lambda x, y: x + y\n",
        "print(add(1, 2))"
      ],
      "execution_count": 0,
      "outputs": []
    },
    {
      "cell_type": "markdown",
      "metadata": {
        "colab_type": "text",
        "id": "_m_0kCDawhPz"
      },
      "source": [
        "Sometimes lambda functions do not even need to be named. For example, when you are passing a function to another object (e.g. another function), you can pass a lambda function directly."
      ]
    },
    {
      "cell_type": "code",
      "metadata": {
        "colab_type": "code",
        "id": "RlziAxW1wgmm",
        "colab": {}
      },
      "source": [
        "def call_another_function(f):\n",
        "  print(\"Calling function {}\".format(f))\n",
        "  f()\n",
        "\n",
        "call_another_function(lambda: print(\"This is a lambda function\"))"
      ],
      "execution_count": 0,
      "outputs": []
    },
    {
      "cell_type": "markdown",
      "metadata": {
        "colab_type": "text",
        "id": "2-_I1QCA262w"
      },
      "source": [
        "There are many places where it is Pythonic to use lambdas instead of named function. Some examples are the [map](https://docs.python.org/3/library/functions.html#map), [filter](https://docs.python.org/3/library/functions.html#filter), and [sorted](https://docs.python.org/3/library/functions.html#sorted) built-in functions.\n",
        "\n",
        "One of the most standard use cases of a lambda function is to apply a function to every element of a list. You can do this using `map`. The code below adds one to every element in the list. (We end up needing the [list](https://docs.python.org/3/library/functions.html#func-list) function to make the return value of map become a list again.)"
      ]
    },
    {
      "cell_type": "code",
      "metadata": {
        "colab_type": "code",
        "id": "2VAjjs68xgVy",
        "colab": {}
      },
      "source": [
        "my_list = [4, 7, 9, 12, 34, 67]\n",
        "\n",
        "def add_one(x):\n",
        "  return x + 1\n",
        "\n",
        "list(map(add_one, my_list))"
      ],
      "execution_count": 0,
      "outputs": []
    },
    {
      "cell_type": "markdown",
      "metadata": {
        "colab_type": "text",
        "id": "5_CrV5ejx0RR"
      },
      "source": [
        "With a lambda function, this can be done in one line."
      ]
    },
    {
      "cell_type": "code",
      "metadata": {
        "colab_type": "code",
        "id": "YaO2BUbYx34z",
        "colab": {}
      },
      "source": [
        "my_list = [4, 7, 9, 12, 34, 67]\n",
        "\n",
        "list(map(lambda x: x + 1, my_list))"
      ],
      "execution_count": 0,
      "outputs": []
    },
    {
      "cell_type": "markdown",
      "metadata": {
        "colab_type": "text",
        "id": "2-zIBQSV4o0B"
      },
      "source": [
        "# Exercises"
      ]
    },
    {
      "cell_type": "markdown",
      "metadata": {
        "colab_type": "text",
        "id": "Ic0MFmLJO8Wr"
      },
      "source": [
        "## Exercise 1"
      ]
    },
    {
      "cell_type": "markdown",
      "metadata": {
        "colab_type": "text",
        "id": "pBJKL9gb4qfP"
      },
      "source": [
        "Use the [map](https://docs.python.org/3/library/functions.html#map) function and a lambda to change all of the following strings to upper case."
      ]
    },
    {
      "cell_type": "markdown",
      "metadata": {
        "colab_type": "text",
        "id": "cR13YD1JFfJC"
      },
      "source": [
        "### Student Solution"
      ]
    },
    {
      "cell_type": "code",
      "metadata": {
        "colab_type": "code",
        "id": "wdgnJtP4427K",
        "colab": {}
      },
      "source": [
        "my_strings = [\"I\", \"love\", \"LaMbDa\", \"Functions\"]\n",
        "\n",
        "### YOUR CODE HERE ###"
      ],
      "execution_count": 0,
      "outputs": []
    },
    {
      "cell_type": "markdown",
      "metadata": {
        "id": "izMn2pCCcxwc",
        "colab_type": "text"
      },
      "source": [
        "---"
      ]
    },
    {
      "cell_type": "markdown",
      "metadata": {
        "colab_type": "text",
        "id": "exercise-1-key-1"
      },
      "source": [
        "### Answer Key"
      ]
    },
    {
      "cell_type": "markdown",
      "metadata": {
        "colab_type": "text",
        "id": "exercise-1-solution-1"
      },
      "source": [
        "**Solution**"
      ]
    },
    {
      "cell_type": "code",
      "metadata": {
        "colab_type": "code",
        "id": "9wtdusgpKFRO",
        "colab": {}
      },
      "source": [
        "my_strings = [\"I\", \"love\", \"LaMbDa\", \"Functions\"]\n",
        "\n",
        "list(map(lambda x: x.upper(), my_strings))"
      ],
      "execution_count": 0,
      "outputs": []
    },
    {
      "cell_type": "markdown",
      "metadata": {
        "id": "PyE_TiXfcydc",
        "colab_type": "text"
      },
      "source": [
        "---"
      ]
    },
    {
      "cell_type": "markdown",
      "metadata": {
        "colab_type": "text",
        "id": "IsgFDn9UO_vx"
      },
      "source": [
        "## Exercise 2"
      ]
    },
    {
      "cell_type": "markdown",
      "metadata": {
        "colab_type": "text",
        "id": "1YiifgS2-HN7"
      },
      "source": [
        "Use the [sorted](https://docs.python.org/3/library/functions.html#sorted) function and a lambda to sort the values in `my_list` by the \"sort_order\" value in each dictionary contained within the list."
      ]
    },
    {
      "cell_type": "markdown",
      "metadata": {
        "colab_type": "text",
        "id": "zZw29QnNs6Gl"
      },
      "source": [
        "### Student Solution"
      ]
    },
    {
      "cell_type": "code",
      "metadata": {
        "colab_type": "code",
        "id": "Egd1aN3e-hVL",
        "colab": {}
      },
      "source": [
        "my_list = [\n",
        "  {\"value\": 123, \"sort_order\": 1},\n",
        "  {\"value\": 543, \"sort_order\": 0},\n",
        "  {\"value\": 101, \"sort_order\": 4},\n",
        "  {\"value\": 654, \"sort_order\": 3},\n",
        "]\n",
        "\n",
        "### YOUR CODE HERE ###"
      ],
      "execution_count": 0,
      "outputs": []
    },
    {
      "cell_type": "markdown",
      "metadata": {
        "colab_type": "text",
        "id": "exercise-2-key-1"
      },
      "source": [
        "### Answer Key"
      ]
    },
    {
      "cell_type": "markdown",
      "metadata": {
        "colab_type": "text",
        "id": "wAF4a24dU2ca"
      },
      "source": [
        "**Solution**"
      ]
    },
    {
      "cell_type": "markdown",
      "metadata": {
        "id": "tF_Y1vOWc5q4",
        "colab_type": "text"
      },
      "source": [
        "---"
      ]
    },
    {
      "cell_type": "code",
      "metadata": {
        "colab_type": "code",
        "id": "Rgd_dkZMFfAU",
        "colab": {}
      },
      "source": [
        "my_list = [\n",
        "  {\"value\": 123, \"sort_order\": 1},\n",
        "  {\"value\": 543, \"sort_order\": 0},\n",
        "  {\"value\": 101, \"sort_order\": 4},\n",
        "  {\"value\": 654, \"sort_order\": 3},\n",
        "]\n",
        "\n",
        "sorted(my_list, key=lambda x: x[\"sort_order\"])"
      ],
      "execution_count": 0,
      "outputs": []
    },
    {
      "cell_type": "markdown",
      "metadata": {
        "id": "bSJdYHgBc6sU",
        "colab_type": "text"
      },
      "source": [
        "---"
      ]
    }
  ]
}