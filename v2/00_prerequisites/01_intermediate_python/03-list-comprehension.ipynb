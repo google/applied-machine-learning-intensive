{
  "nbformat": 4,
  "nbformat_minor": 0,
  "metadata": {
    "colab": {
      "name": "Intermediate Python - List Comprehension",
      "provenance": [],
      "private_outputs": true,
      "collapsed_sections": [
        "copyright",
        "exercise-1-key-1"
      ],
      "toc_visible": true,
      "include_colab_link": true
    },
    "kernelspec": {
      "display_name": "Python 3",
      "name": "python3"
    }
  },
  "cells": [
    {
      "cell_type": "markdown",
      "metadata": {
        "id": "view-in-github",
        "colab_type": "text"
      },
      "source": [
        "<a href=\"https://colab.research.google.com/github/google/applied-machine-learning-intensive/blob/master/v2/00_prerequisites/01_intermediate_python/03-list-comprehension.ipynb\" target=\"_parent\"><img src=\"https://colab.research.google.com/assets/colab-badge.svg\" alt=\"Open In Colab\"/></a>"
      ]
    },
    {
      "cell_type": "markdown",
      "metadata": {
        "colab_type": "text",
        "id": "copyright"
      },
      "source": [
        "#### Copyright 2019 Google LLC."
      ]
    },
    {
      "cell_type": "code",
      "metadata": {
        "colab_type": "code",
        "id": "h8rAl_sPizbx",
        "colab": {}
      },
      "source": [
        "# Licensed under the Apache License, Version 2.0 (the \"License\");\n",
        "# you may not use this file except in compliance with the License.\n",
        "# You may obtain a copy of the License at\n",
        "#\n",
        "# https://www.apache.org/licenses/LICENSE-2.0\n",
        "#\n",
        "# Unless required by applicable law or agreed to in writing, software\n",
        "# distributed under the License is distributed on an \"AS IS\" BASIS,\n",
        "# WITHOUT WARRANTIES OR CONDITIONS OF ANY KIND, either express or implied.\n",
        "# See the License for the specific language governing permissions and\n",
        "# limitations under the License."
      ],
      "execution_count": 0,
      "outputs": []
    },
    {
      "cell_type": "markdown",
      "metadata": {
        "colab_type": "text",
        "id": "zXUyqihI0cQ8"
      },
      "source": [
        "# Intermediate Python - List Comprehension\n"
      ]
    },
    {
      "cell_type": "markdown",
      "metadata": {
        "colab_type": "text",
        "id": "u_ff6_8Yi6yV"
      },
      "source": [
        "In this colab, we will discuss list comprehension, an extremely useful and idiomatic way to process lists in Python."
      ]
    },
    {
      "cell_type": "markdown",
      "metadata": {
        "colab_type": "text",
        "id": "1A-dJQ7ePP-W"
      },
      "source": [
        "## List Comprehension"
      ]
    },
    {
      "cell_type": "markdown",
      "metadata": {
        "colab_type": "text",
        "id": "AUikpEkwAVN1"
      },
      "source": [
        "List comprehension is a compact way to create a list of data. Say you want to create a list containing ten random numbers. One way to do this is to just hard-code a ten-element list."
      ]
    },
    {
      "cell_type": "code",
      "metadata": {
        "colab_type": "code",
        "id": "rqUnCfIfAuYU",
        "colab": {}
      },
      "source": [
        "import random\n",
        "\n",
        "[\n",
        "  random.randint(0, 100),\n",
        "  random.randint(0, 100),\n",
        "  random.randint(0, 100),\n",
        "  random.randint(0, 100),\n",
        "  random.randint(0, 100),\n",
        "  random.randint(0, 100),\n",
        "  random.randint(0, 100),\n",
        "  random.randint(0, 100),\n",
        "  random.randint(0, 100),\n",
        "  random.randint(0, 100),\n",
        "]"
      ],
      "execution_count": 0,
      "outputs": []
    },
    {
      "cell_type": "markdown",
      "metadata": {
        "colab_type": "text",
        "id": "-nyI060dEwn3"
      },
      "source": [
        "> *Note*: In the code above, we've introduced the **random** module. [`random`](https://docs.python.org/3/library/random.html) is a Python package that comes as part of the standard Python distribution. To use Python packages we rely on the **import** keyword.\n",
        "\n",
        "That's pretty intensive, and requires a bit of copy-paste work. We could clean it up with a `for` loop:"
      ]
    },
    {
      "cell_type": "code",
      "metadata": {
        "colab_type": "code",
        "id": "dmp8RgFGFC6M",
        "colab": {}
      },
      "source": [
        "import random\n",
        "\n",
        "my_list = []\n",
        "for _ in range(10):\n",
        "  my_list.append(random.randint(0, 100))\n",
        "\n",
        "my_list"
      ],
      "execution_count": 0,
      "outputs": []
    },
    {
      "cell_type": "markdown",
      "metadata": {
        "colab_type": "text",
        "id": "mv4Lm8iNFl70"
      },
      "source": [
        "This looks much nicer. Less repetition is always a good thing.\n",
        "\n",
        "> *Note*: Did you notice the use of the underscore to consume the value returned from range? You can use this when you don't actually need the range value, and it saves Python from assigning it to memory.\n",
        "\n",
        "There is an even more idiomatic way of creating this list of numbers in Python. Here is an example of a list comprehension:"
      ]
    },
    {
      "cell_type": "code",
      "metadata": {
        "colab_type": "code",
        "id": "1Wcy4FXxHnKd",
        "colab": {}
      },
      "source": [
        "import random\n",
        "\n",
        "my_list = [random.randint(0, 100) for _ in range(10)]\n",
        "my_list"
      ],
      "execution_count": 0,
      "outputs": []
    },
    {
      "cell_type": "markdown",
      "metadata": {
        "colab_type": "text",
        "id": "5-8p7fw3IXFD"
      },
      "source": [
        "Let's start by looking at the \"`for _ in range()`\" part. This looks like the `for` loop that we are familiar with. In this case, it is a loop over the range from zero through nine.\n",
        "\n",
        "The strange part is the `for` doesn't start the expression. We are used to seeing a `for` loop with a body of statements indented below it. In this case, the body of the for loop is to the left of the `for` keyword.\n",
        "\n",
        "This is the signature of list comprehension. The body of the loop comes first and the `for` range comes last."
      ]
    },
    {
      "cell_type": "markdown",
      "metadata": {
        "colab_type": "text",
        "id": "KuKXY_avKnnC"
      },
      "source": [
        "`for` isn't the only option for list comprehensions. You can also add an `if` condition."
      ]
    },
    {
      "cell_type": "code",
      "metadata": {
        "colab_type": "code",
        "id": "fH-jnyZ0Kzxn",
        "colab": {}
      },
      "source": [
        "[x for x in range(10) if x % 2 == 0]"
      ],
      "execution_count": 0,
      "outputs": []
    },
    {
      "cell_type": "markdown",
      "metadata": {
        "colab_type": "text",
        "id": "XeterQT63vLd"
      },
      "source": [
        "You can add multiple `if` statements by using boolean operators."
      ]
    },
    {
      "cell_type": "code",
      "metadata": {
        "colab_type": "code",
        "id": "mP_6E32U30YR",
        "colab": {}
      },
      "source": [
        "print([x for x in range(10) if x % 2 == 0 and x % 3 == 0])\n",
        "print([x for x in range(10) if x % 2 == 0 or x % 3 == 0])"
      ],
      "execution_count": 0,
      "outputs": []
    },
    {
      "cell_type": "markdown",
      "metadata": {
        "colab_type": "text",
        "id": "tPvIQlVxO-Kb"
      },
      "source": [
        "You can even have multiple loops chained in a single list comprehension. The left-most loop is the outer loop and the subsequent loops are nested within. However, when cases become sufficiently complicated, we recommend using standard loop notation, to enhance code readability."
      ]
    },
    {
      "cell_type": "code",
      "metadata": {
        "colab_type": "code",
        "id": "-sOogiH1MVFA",
        "colab": {}
      },
      "source": [
        "[(x, y) for x in range(5) for y in range(3)]"
      ],
      "execution_count": 0,
      "outputs": []
    },
    {
      "cell_type": "markdown",
      "metadata": {
        "colab_type": "text",
        "id": "h7cGL8dHP1A4"
      },
      "source": [
        "# Exercises"
      ]
    },
    {
      "cell_type": "markdown",
      "metadata": {
        "colab_type": "text",
        "id": "02rTlQnPOkf_"
      },
      "source": [
        "## Exercise 1"
      ]
    },
    {
      "cell_type": "markdown",
      "metadata": {
        "colab_type": "text",
        "id": "VI0U1vdzP3IE"
      },
      "source": [
        "Create a list expansion that builds a list of numbers between 5 and 67 (inclusive) that are divisible by 7 but not divisible by 3."
      ]
    },
    {
      "cell_type": "markdown",
      "metadata": {
        "colab_type": "text",
        "id": "0frrpHdctK-3"
      },
      "source": [
        "### Student Solution"
      ]
    },
    {
      "cell_type": "code",
      "metadata": {
        "colab_type": "code",
        "id": "iWOZspofRMKN",
        "colab": {}
      },
      "source": [
        "### YOUR CODE HERE ###"
      ],
      "execution_count": 0,
      "outputs": []
    },
    {
      "cell_type": "markdown",
      "metadata": {
        "id": "Oncv1SY4dMix",
        "colab_type": "text"
      },
      "source": [
        "---"
      ]
    },
    {
      "cell_type": "markdown",
      "metadata": {
        "colab_type": "text",
        "id": "exercise-1-key-1"
      },
      "source": [
        "### Answer Key"
      ]
    },
    {
      "cell_type": "markdown",
      "metadata": {
        "colab_type": "text",
        "id": "exercise-1-solution-1"
      },
      "source": [
        "**Solution**"
      ]
    },
    {
      "cell_type": "code",
      "metadata": {
        "colab_type": "code",
        "id": "WqGlVB3JtOZZ",
        "colab": {}
      },
      "source": [
        "[x for x in range(5, 68) if x % 7 == 0 and x % 3 != 0]"
      ],
      "execution_count": 0,
      "outputs": []
    },
    {
      "cell_type": "markdown",
      "metadata": {
        "id": "dRDaQErpdLEq",
        "colab_type": "text"
      },
      "source": [
        "---"
      ]
    },
    {
      "cell_type": "markdown",
      "metadata": {
        "colab_type": "text",
        "id": "8TuriZO94tPm"
      },
      "source": [
        "## Exercise 2"
      ]
    },
    {
      "cell_type": "markdown",
      "metadata": {
        "colab_type": "text",
        "id": "bGalFZy_4tPp"
      },
      "source": [
        "Use list comprehension to find the lengths of all the words in the following sentence."
      ]
    },
    {
      "cell_type": "markdown",
      "metadata": {
        "colab_type": "text",
        "id": "_dzLJsjp4tPr"
      },
      "source": [
        "### Student Solution"
      ]
    },
    {
      "cell_type": "code",
      "metadata": {
        "colab_type": "code",
        "id": "oaLcm3YZ5VZJ",
        "colab": {}
      },
      "source": [
        "sentence = \"I love list comprehension so much it makes me want to cry\"\n",
        "words = sentence.split()\n",
        "print(words)\n",
        "\n",
        "### YOUR CODE GOES HERE ###"
      ],
      "execution_count": 0,
      "outputs": []
    },
    {
      "cell_type": "markdown",
      "metadata": {
        "id": "XOtO1NgCdJyY",
        "colab_type": "text"
      },
      "source": [
        "---"
      ]
    },
    {
      "cell_type": "markdown",
      "metadata": {
        "colab_type": "text",
        "id": "mwE9E1WC6mZu"
      },
      "source": [
        "### Answer Key"
      ]
    },
    {
      "cell_type": "markdown",
      "metadata": {
        "colab_type": "text",
        "id": "cnwfnsE16uH0"
      },
      "source": [
        "**Solution**"
      ]
    },
    {
      "cell_type": "code",
      "metadata": {
        "colab_type": "code",
        "id": "cI8M4Jz56vHu",
        "colab": {}
      },
      "source": [
        "sentence = \"I love list comprehension so much it makes me want to cry\"\n",
        "words = sentence.split()\n",
        "print(words)\n",
        "\n",
        "[len(w) for w in words]"
      ],
      "execution_count": 0,
      "outputs": []
    },
    {
      "cell_type": "markdown",
      "metadata": {
        "id": "m3E3ghP_dKXv",
        "colab_type": "text"
      },
      "source": [
        "---"
      ]
    }
  ]
}