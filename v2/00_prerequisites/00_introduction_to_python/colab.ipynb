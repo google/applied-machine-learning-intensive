{
  "nbformat": 4,
  "nbformat_minor": 0,
  "metadata": {
    "colab": {
      "name": "Copy of T02-01.ipynb",
      "provenance": [],
      "private_outputs": true,
      "collapsed_sections": [
        "copyright"
      ],
      "toc_visible": true,
      "include_colab_link": true
    },
    "kernelspec": {
      "display_name": "Python 3",
      "name": "python3"
    }
  },
  "cells": [
    {
      "cell_type": "markdown",
      "metadata": {
        "id": "view-in-github",
        "colab_type": "text"
      },
      "source": [
        "<a href=\"https://colab.research.google.com/github/google/applied-machine-learning-intensive/blob/master/amli/v2/content/00_prerequisites/00_introduction_to_python/colab.ipynb\" target=\"_parent\"><img src=\"https://colab.research.google.com/assets/colab-badge.svg\" alt=\"Open In Colab\"/></a>"
      ]
    },
    {
      "cell_type": "markdown",
      "metadata": {
        "colab_type": "text",
        "id": "copyright"
      },
      "source": [
        "#### Copyright 2018 Google LLC."
      ]
    },
    {
      "cell_type": "code",
      "metadata": {
        "colab_type": "code",
        "id": "vUL-MxtcowtQ",
        "colab": {}
      },
      "source": [
        "# Licensed under the Apache License, Version 2.0 (the \"License\");\n",
        "# you may not use this file except in compliance with the License.\n",
        "# You may obtain a copy of the License at\n",
        "#\n",
        "# https://www.apache.org/licenses/LICENSE-2.0\n",
        "#\n",
        "# Unless required by applicable law or agreed to in writing, software\n",
        "# distributed under the License is distributed on an \"AS IS\" BASIS,\n",
        "# WITHOUT WARRANTIES OR CONDITIONS OF ANY KIND, either express or implied.\n",
        "# See the License for the specific language governing permissions and\n",
        "# limitations under the License."
      ],
      "execution_count": 0,
      "outputs": []
    },
    {
      "cell_type": "markdown",
      "metadata": {
        "colab_type": "text",
        "id": "ZutSxI49o8Jh"
      },
      "source": [
        "# Introduction to Python"
      ]
    },
    {
      "cell_type": "markdown",
      "metadata": {
        "colab_type": "text",
        "id": "ZutSxI49o8J5"
      },
      "source": [
        "Python the most common language used for machine learning. It is an approachable yet versatile language that is used for various different applications.\n",
        "\n",
        "It can take years to learn all the intricacies of Python, but luckily you can learn enough Python to become proficient in machine learning in a much shorter period of time.\n",
        "\n",
        "This colab is a quick introduction to the core attributes of Python that you'll need to know in order to get started. This is only a brief peek into the parts of the language that you'll commonly encounter as a data scientist. As you progress through this course, we'll introduce you to the Python concepts you'll need along the way.\n",
        "\n",
        "If you already know Python, this lesson should just be a quick refresher. You might be able to simply skip to the exercises at the bottom of the document.\n",
        "\n",
        "If you know another programming language, you will want to pay close attention because Python is markedly different than most popular languages in use today. If you are new to programming, welcome! Hopefully this lesson will give you the tools you will need to get started with data science."
      ]
    },
    {
      "cell_type": "markdown",
      "metadata": {
        "colab_type": "text",
        "id": "overview"
      },
      "source": [
        "## Overview"
      ]
    },
    {
      "cell_type": "markdown",
      "metadata": {
        "colab_type": "text",
        "id": "learning-objectives"
      },
      "source": [
        "### Learning Objectives\n",
        "\n",
        "* Create, use, and troubleshoot variables and data structures\n",
        "* Read and write Python statements, expressions, conditionals, and loops\n",
        "* Use functions"
      ]
    },
    {
      "cell_type": "markdown",
      "metadata": {
        "colab_type": "text",
        "id": "VZe4Xj9tyQRD"
      },
      "source": [
        "### Prerequisites\n",
        "\n",
        "* CS1\n",
        "* CS2 (optional)"
      ]
    },
    {
      "cell_type": "markdown",
      "metadata": {
        "colab_type": "text",
        "id": "duration"
      },
      "source": [
        "### Estimated Duration\n",
        "\n",
        "60 minutes"
      ]
    },
    {
      "cell_type": "markdown",
      "metadata": {
        "colab_type": "text",
        "id": "nitMt74ZpjSN"
      },
      "source": [
        "## Variables\n",
        " \n",
        "One of the most important notions in any programming language is the **variable**. Variables are how we store data that we want to use later.\n",
        " \n",
        "When we have an expression like `2 + 3`, Python calculates the value of `5` and then forgets that the value ever existed. We need some way to store the values of expressions so that they can be used later in the program. To do that, we use variables.\n",
        " \n",
        "In the example below the value of `2 + 3` is stored in the variable `x`."
      ]
    },
    {
      "cell_type": "code",
      "metadata": {
        "colab_type": "code",
        "id": "rNMTYmdOuS1t",
        "colab": {}
      },
      "source": [
        "x = 2 + 3\n",
        "x"
      ],
      "execution_count": 0,
      "outputs": []
    },
    {
      "cell_type": "markdown",
      "metadata": {
        "colab_type": "text",
        "id": "eixDMWWW1oDo"
      },
      "source": [
        "Variables store values and those values can be used in expressions."
      ]
    },
    {
      "cell_type": "code",
      "metadata": {
        "colab_type": "code",
        "id": "mgUEjQbk1yEV",
        "colab": {}
      },
      "source": [
        "x = 2\n",
        "y = 3\n",
        "x + y"
      ],
      "execution_count": 0,
      "outputs": []
    },
    {
      "cell_type": "markdown",
      "metadata": {
        "colab_type": "text",
        "id": "jC17KacSEvdZ"
      },
      "source": [
        "Variable value can also be changed... hence the name variable."
      ]
    },
    {
      "cell_type": "code",
      "metadata": {
        "colab_type": "code",
        "id": "2wYs4zbuE6rA",
        "colab": {}
      },
      "source": [
        "x = 123\n",
        "x = 456\n",
        "x"
      ],
      "execution_count": 0,
      "outputs": []
    },
    {
      "cell_type": "markdown",
      "metadata": {
        "colab_type": "text",
        "id": "mT_0fsbuFses"
      },
      "source": [
        "There are very few rules as to what you can name a variable. The first character needs to be an alphabetic character. After the first character, any alphanumeric character can be used. Underscores are also okay to use anywhere in a variable name, but stay away from naming a variable with two underscores at the beginning, since Python uses leading double-underscores for internal things. (This will be seen in a later lesson.)\n",
        "\n",
        "Here are a few valid variable names:"
      ]
    },
    {
      "cell_type": "code",
      "metadata": {
        "colab_type": "code",
        "id": "_EVPT2D-GbUp",
        "colab": {}
      },
      "source": [
        "number = 1\n",
        "my_number = 2\n",
        "YourNumber = 3\n",
        "_the_number_four = 4\n",
        "n5 = 5\n",
        "NUMBER = 6\n",
        "\n",
        "number + my_number + YourNumber + _the_number_four + n5 + NUMBER"
      ],
      "execution_count": 0,
      "outputs": []
    },
    {
      "cell_type": "markdown",
      "metadata": {
        "colab_type": "text",
        "id": "6LYdiJ4DGyy5"
      },
      "source": [
        "Notice that `number` and `NUMBER` are different variables. Case matters.\n",
        "\n",
        "Although Python will accept other styles, it is common convention to name constants in all-caps (e.g. `THE_NUMBER`) and variables using lower_with_underscore syntax (e.g. `a_number`). See the [Python Style Guide](https://www.python.org/dev/peps/pep-0008/#naming-conventions) for more on naming conventions. Adhere to the guide when you can. It will help others understand your code and it will train you to be able to read other programmers' Python code."
      ]
    },
    {
      "cell_type": "markdown",
      "metadata": {
        "colab_type": "text",
        "id": "n6232TxSHCdA"
      },
      "source": [
        "Naming a variable is an important aspect of computer programming. Variables serve as a form of documentation within your code. Good names will help your teammates and your future self understand what your code is doing when they are trying to modify it. Take some time to think about your variable names as you create new variables.\n",
        " \n",
        "It is also important to keep your variable naming style consistent. Don't use different naming styles (such as `this_variable` and `thisVariable`) in the same file/package unless you have a valid reason to do so."
      ]
    },
    {
      "cell_type": "markdown",
      "metadata": {
        "id": "EpzRj0xf7_Qf",
        "colab_type": "text"
      },
      "source": [
        "## Printing and Strings"
      ]
    },
    {
      "cell_type": "markdown",
      "metadata": {
        "colab_type": "text",
        "id": "z953Qlkk7RvE"
      },
      "source": [
        "### Strings\n",
        "\n",
        "The **string** data type can contain zero or more characters. In order for Python to know that a string is a value and not part of the code, strings have to be wrapped in quotes.\n",
        "\n",
        "Some example strings are:"
      ]
    },
    {
      "cell_type": "code",
      "metadata": {
        "colab_type": "code",
        "id": "bkdwYrWTDdSu",
        "colab": {}
      },
      "source": [
        "\"Python is a \"\n",
        "'useful programming language'"
      ],
      "execution_count": 0,
      "outputs": []
    },
    {
      "cell_type": "markdown",
      "metadata": {
        "colab_type": "text",
        "id": "oG8rzEjCIrFN"
      },
      "source": [
        "Single and double-quotes are interchangeable, and both occur frequently. In general, try to pick one style of quotation marks and stick with it, unless you need to use that type of quote in a string.\n",
        "\n",
        "The following string requires the `'` character within the string, so it makes sense to use `\"` as the quotation marks."
      ]
    },
    {
      "cell_type": "code",
      "metadata": {
        "colab_type": "code",
        "id": "7i7kcmjWJOiq",
        "colab": {}
      },
      "source": [
        "\"I've been learning Python\""
      ],
      "execution_count": 0,
      "outputs": []
    },
    {
      "cell_type": "markdown",
      "metadata": {
        "colab_type": "text",
        "id": "s23P6KyYJXmB"
      },
      "source": [
        "But what if you need to use both `'` and `\"` in the same string? In that case you can *escape* the embedded quote using the `\\` character. The `\\` tells Python to read the character `'` as it is, and not as the end of the quotation."
      ]
    },
    {
      "cell_type": "code",
      "metadata": {
        "colab_type": "code",
        "id": "4ko6NWgQJet7",
        "colab": {}
      },
      "source": [
        "'They\\'ve had a \"good\" trip'"
      ],
      "execution_count": 0,
      "outputs": []
    },
    {
      "cell_type": "markdown",
      "metadata": {
        "colab_type": "text",
        "id": "2oQvnltzJ0ii"
      },
      "source": [
        "You probably noticed that the escape character, `\\`,appears in the output. This is just a side-effect of how Colab is printing the string. We'll learn a cleaner method of printing a string soon."
      ]
    },
    {
      "cell_type": "markdown",
      "metadata": {
        "colab_type": "text",
        "id": "S57KwUN6KYlc"
      },
      "source": [
        "The triple-quote (`\"\"\"` or `'''`) is another type of quote that you can use to create a string. The triple-quote allows you to have a multi-line string. It is often used when writing documentation directly in your code."
      ]
    },
    {
      "cell_type": "code",
      "metadata": {
        "colab_type": "code",
        "id": "kENH5-B_Ky3j",
        "colab": {}
      },
      "source": [
        "\"\"\"This is a string\n",
        "by three double-quotes\n",
        "and spanning multiple lines.\n",
        "\"\"\"\n",
        "\n",
        "'''This is a string\n",
        "surrounded by three single-quotes\n",
        "and spanning multiple lines.\n",
        "'''"
      ],
      "execution_count": 0,
      "outputs": []
    },
    {
      "cell_type": "markdown",
      "metadata": {
        "colab_type": "text",
        "id": "W2DnBnAZK2Hh"
      },
      "source": [
        "You can see in the output that the string shows up on one line with `\\n` added where the line breaks were. `\\n` is a special escape sequence that means \"line feed\", which is typewriter-speak for moving to the next line. `\\t` is another common escape sequence that represents a tab. `\\\\` adds a backslash `\\` to the string."
      ]
    },
    {
      "cell_type": "markdown",
      "metadata": {
        "colab_type": "text",
        "id": "CqrJdWZMLzYt"
      },
      "source": [
        "Strings can be stored in variables. The `+` operator also works on strings, by concatenating them together."
      ]
    },
    {
      "cell_type": "code",
      "metadata": {
        "colab_type": "code",
        "id": "ATDV6CX_MDD6",
        "colab": {}
      },
      "source": [
        "s1 = \"The Python \"\n",
        "s2 = \"programming\"\n",
        "s3 = \" language is easy to learn\"\n",
        "s1 + s2 + s3"
      ],
      "execution_count": 0,
      "outputs": []
    },
    {
      "cell_type": "markdown",
      "metadata": {
        "colab_type": "text",
        "id": "f6yO48xYMQ8h"
      },
      "source": [
        "The `*` operator also works with strings, resulting in the string to be repeated multiple times. However, other arithmetic operators such as `-` and `/` don't work with strings."
      ]
    },
    {
      "cell_type": "code",
      "metadata": {
        "colab_type": "code",
        "id": "tFEZNL-UMMuS",
        "colab": {}
      },
      "source": [
        "'ABC ' * 5"
      ],
      "execution_count": 0,
      "outputs": []
    },
    {
      "cell_type": "markdown",
      "metadata": {
        "colab_type": "text",
        "id": "bmqwHLl6Mng8"
      },
      "source": [
        "Python has a handy built in way to find the length of a string, which is the number of characters in the string."
      ]
    },
    {
      "cell_type": "code",
      "metadata": {
        "colab_type": "code",
        "id": "L-aLHVrANalL",
        "colab": {}
      },
      "source": [
        "len(\"pneumonoultramicroscopicsilicovolcanoconiosis\")"
      ],
      "execution_count": 0,
      "outputs": []
    },
    {
      "cell_type": "markdown",
      "metadata": {
        "colab_type": "text",
        "id": "dG3TxrOxOEry"
      },
      "source": [
        "If you need to extract a specific character from a string, you can specify that character by *indexing* it. Notice that in Python, the first character of a string is at index 0. Most popular programming languages start counting at 0."
      ]
    },
    {
      "cell_type": "code",
      "metadata": {
        "colab_type": "code",
        "id": "fym2JmR4O2O1",
        "colab": {}
      },
      "source": [
        "\"abcdefghijklmnopqrstuvwxyz\"[1]"
      ],
      "execution_count": 0,
      "outputs": []
    },
    {
      "cell_type": "markdown",
      "metadata": {
        "colab_type": "text",
        "id": "mdsjwVSBO_kN"
      },
      "source": [
        "You can also extract a *slice* of a string. A slice is a portion of a string referenced by the starting and ending index. The starting index is inclusive and the ending index is exclusive. The slice below returns a four-character string."
      ]
    },
    {
      "cell_type": "code",
      "metadata": {
        "colab_type": "code",
        "id": "Catcl26sPPpK",
        "colab": {}
      },
      "source": [
        "alphabet = \"abcdefghijklmnopqrstuvwxyz\"\n",
        "alphabet[1:5]"
      ],
      "execution_count": 0,
      "outputs": []
    },
    {
      "cell_type": "markdown",
      "metadata": {
        "colab_type": "text",
        "id": "bv18nj19P0y6"
      },
      "source": [
        "Slices have some handy shortcuts if you want to start at the beginning or go all the way to the end of a string."
      ]
    },
    {
      "cell_type": "code",
      "metadata": {
        "colab_type": "code",
        "id": "s4CTYF86P_8c",
        "colab": {}
      },
      "source": [
        "alphabet[:3]"
      ],
      "execution_count": 0,
      "outputs": []
    },
    {
      "cell_type": "code",
      "metadata": {
        "colab_type": "code",
        "id": "8PNkhfs-QHPg",
        "colab": {}
      },
      "source": [
        "alphabet[23:]"
      ],
      "execution_count": 0,
      "outputs": []
    },
    {
      "cell_type": "markdown",
      "metadata": {
        "colab_type": "text",
        "id": "zMRmvX9qQkON"
      },
      "source": [
        "Strings are *objects* in Python. We won't get into the details of what an object is in this tutorial, other than to mention that objects can have functions and methods called on them using **dot notation**. Below is an example object call on the `alphabet` string, that converts the entire string to upper-case. Notice that the function is called like `alphabet.upper()` instead of `upper(alphabet)`, as we saw with the `len()` function."
      ]
    },
    {
      "cell_type": "code",
      "metadata": {
        "colab_type": "code",
        "id": "zQCvFzGUQg4r",
        "colab": {}
      },
      "source": [
        "alphabet.upper()"
      ],
      "execution_count": 0,
      "outputs": []
    },
    {
      "cell_type": "markdown",
      "metadata": {
        "colab_type": "text",
        "id": "WXBznfKiRcsb"
      },
      "source": [
        "More information on string functionality in Python can be found in the [Python string](https://docs.python.org/3.7/library/string.html) documentation."
      ]
    },
    {
      "cell_type": "markdown",
      "metadata": {
        "colab_type": "text",
        "id": "7TXyYyUBv77C"
      },
      "source": [
        "### Printing\n",
        "\n",
        "So far, we have relied on Colab to print out the data that we have been working with. This works fine for simple examples, but doesn't work if you want to print multiple times in a code snippet.\n",
        "\n",
        "The **`print`** function allows you to print any data structure to the screen."
      ]
    },
    {
      "cell_type": "code",
      "metadata": {
        "colab_type": "code",
        "id": "UeZabHvqv769",
        "colab": {}
      },
      "source": [
        "my_variable = \"I'm a variable\"\n",
        "print(my_variable)\n",
        "print(\"Hello class!\")\n",
        "print(12345)\n",
        "print(123.45)\n",
        "print(['a', 3, 'element list'])\n",
        "print(('a', 3, 'element tuple'))\n",
        "print({\"my\": \"dictionary\"})"
      ],
      "execution_count": 0,
      "outputs": []
    },
    {
      "cell_type": "markdown",
      "metadata": {
        "colab_type": "text",
        "id": "1wopo_J1v766"
      },
      "source": [
        "You'll notice that `print` adds a new line to the output every time it is called. We can add an `end=''` argument to the `print` to take away the new line."
      ]
    },
    {
      "cell_type": "code",
      "metadata": {
        "colab_type": "code",
        "id": "mrmKTVDXv760",
        "colab": {}
      },
      "source": [
        "print(\"The magic number is \", end='')\n",
        "print(42)"
      ],
      "execution_count": 0,
      "outputs": []
    },
    {
      "cell_type": "markdown",
      "metadata": {
        "colab_type": "text",
        "id": "IkXnWJ3Pv76y"
      },
      "source": [
        "There is another Python feature that, though not strictly just for printing, is commonly used when printing: **text formatting**.\n",
        "\n",
        "Text formatting allows you to print multiple values in a single `print` statement, and to mix strings and numbers."
      ]
    },
    {
      "cell_type": "code",
      "metadata": {
        "colab_type": "code",
        "id": "qDCoQSCFv76s",
        "colab": {}
      },
      "source": [
        "print(\"%s says that the numbers %d and %f sum to %f\" % (\"Bob\", 3, 5.1, 3 + 5.1))"
      ],
      "execution_count": 0,
      "outputs": []
    },
    {
      "cell_type": "markdown",
      "metadata": {
        "colab_type": "text",
        "id": "1Nnhnon_v76p"
      },
      "source": [
        "There is quite a bit going on in the code above, so let's break it down into pieces:\n",
        " \n",
        "* The first string we see in the `print` call is `\"%s says that the numbers %d and %f sum to %f\"`. This string contains `%s`, `%d`, and `%f` placeholders. These placeholders tell Python that we expect a string (`%s`), integer (`%d`), or floating-point number (`%f`) that we'll put in the string. (A floating-point number is any non-integer number.)\n",
        " \n",
        "* Next we see a percentage sign `%` after the string. This is the string formatting operator. It comes after a string and precedes the tuple containing the data that will populate the placeholders in the string.\n",
        " \n",
        "* Finally comes the tuple containing the data that will populate the placeholders. The data in the tuple should be in the same order that the placeholders appear in the string. For example, the second placeholder is `%d` and the second item in the tuple is the integer `3`."
      ]
    },
    {
      "cell_type": "markdown",
      "metadata": {
        "colab_type": "text",
        "id": "PihhIEJSv76m"
      },
      "source": [
        "There is a more modern and object-oriented formatting function that can be used to achieve the same goal. Notice the placeholders in the string passed to the `print` function are all curly braces. Also, the floating-point values are truncated to the appropriate number of decimal points in the output."
      ]
    },
    {
      "cell_type": "code",
      "metadata": {
        "colab_type": "code",
        "id": "44loLjJZv76W",
        "colab": {}
      },
      "source": [
        "print(\"{} says that the numbers {} and {} sum to {}\".format(\"Bob\", 3, 5.1, 3 + 5.1))"
      ],
      "execution_count": 0,
      "outputs": []
    },
    {
      "cell_type": "markdown",
      "metadata": {
        "id": "n0pk26GVMdAf",
        "colab_type": "text"
      },
      "source": [
        "When the values you want to print are saved as variables, you can also pass them in the `print` function by typing `f` before the quotation marks and putting the variable names in the curly braces."
      ]
    },
    {
      "cell_type": "code",
      "metadata": {
        "id": "iSrBG3s8MtJz",
        "colab_type": "code",
        "colab": {}
      },
      "source": [
        "name = \"Bob\"\n",
        "value1 = 3\n",
        "value2 = 5.1\n",
        "print(f\"{name} says that the numbers {value1} and {value2} sum to {value1 + value2}\")"
      ],
      "execution_count": 0,
      "outputs": []
    },
    {
      "cell_type": "markdown",
      "metadata": {
        "id": "ED0MmXO9Ytkl",
        "colab_type": "text"
      },
      "source": [
        "#### Practice Problem 1: Printing"
      ]
    },
    {
      "cell_type": "code",
      "metadata": {
        "id": "AGaNNvtlHtA6",
        "colab_type": "code",
        "cellView": "both",
        "colab": {}
      },
      "source": [
        "#@markdown Run this cell before starting the exercise.\n",
        "#@markdown It initializes the values of some hidden variables.\n",
        "\n",
        "name = \"Alex\"\n",
        "favorite_food = \"chocolate\""
      ],
      "execution_count": 0,
      "outputs": []
    },
    {
      "cell_type": "markdown",
      "metadata": {
        "id": "OvfsalseMDaq",
        "colab_type": "text"
      },
      "source": [
        "We have hidden the values of variables `name` and `favorite_food` in the cell above. Use a `print` statement to find out their values."
      ]
    },
    {
      "cell_type": "markdown",
      "metadata": {
        "id": "Pb4rwUm6qXA4",
        "colab_type": "text"
      },
      "source": [
        "**Student Solution**"
      ]
    },
    {
      "cell_type": "code",
      "metadata": {
        "id": "bOsixW2-MCfK",
        "colab_type": "code",
        "colab": {}
      },
      "source": [
        "# Use a print statement to show the values of the hidden variables \n",
        "# \"name\" and \"favorite_food\".\n",
        "print(\"My name is ____. I love eating ____.\")"
      ],
      "execution_count": 0,
      "outputs": []
    },
    {
      "cell_type": "markdown",
      "metadata": {
        "id": "3swOYAvtqfDU",
        "colab_type": "text"
      },
      "source": [
        "##### Answer Key"
      ]
    },
    {
      "cell_type": "code",
      "metadata": {
        "id": "STkClxzKql17",
        "colab_type": "code",
        "colab": {}
      },
      "source": [
        "# Use a print statement to show the values of the hidden variables \n",
        "# \"name\" and \"favorite_food\".\n",
        "\n",
        "# Using text formatting\n",
        "print(\"My name is %s. I love eating %s.\" % (name, favorite_food))\n",
        "\n",
        "# Using `format`\n",
        "print(\"My name is {}. I love eating {}.\".format(name, favorite_food))\n",
        "\n",
        "# Using `f`\n",
        "print(f\"My name is {name}. I love eating {favorite_food}.\")"
      ],
      "execution_count": 0,
      "outputs": []
    },
    {
      "cell_type": "markdown",
      "metadata": {
        "colab_type": "text",
        "id": "I7KYyR11pR7G"
      },
      "source": [
        "## Basic Data Types\n",
        "\n",
        "This section will introduce you to some of the most common data types that you'll encounter. Data types are the foundational building blocks for any Python code."
      ]
    },
    {
      "cell_type": "markdown",
      "metadata": {
        "colab_type": "text",
        "id": "4ee4By1ppGSW"
      },
      "source": [
        "### Integers\n",
        "\n",
        "Integers are just whole numbers. This includes positive whole numbers (1, 2, 3, ...), 0, and negative whole numbers (-1, -2, -3, ...). The cell below demonstrates the addition of two integers."
      ]
    },
    {
      "cell_type": "code",
      "metadata": {
        "colab_type": "code",
        "id": "Y6ENY1AaCe-R",
        "colab": {}
      },
      "source": [
        "42+8"
      ],
      "execution_count": 0,
      "outputs": []
    },
    {
      "cell_type": "markdown",
      "metadata": {
        "colab_type": "text",
        "id": "xa2r21GQDyX_"
      },
      "source": [
        "Python can do all the common operations you are familiar with."
      ]
    },
    {
      "cell_type": "markdown",
      "metadata": {
        "colab_type": "text",
        "id": "JL759v61C8WB"
      },
      "source": [
        "**Subtraction**"
      ]
    },
    {
      "cell_type": "code",
      "metadata": {
        "colab_type": "code",
        "id": "bmpIeEdCC0qy",
        "colab": {}
      },
      "source": [
        "4-2"
      ],
      "execution_count": 0,
      "outputs": []
    },
    {
      "cell_type": "markdown",
      "metadata": {
        "colab_type": "text",
        "id": "MRcuhLf3DBYK"
      },
      "source": [
        "**Multiplication**"
      ]
    },
    {
      "cell_type": "code",
      "metadata": {
        "colab_type": "code",
        "id": "rFTc9fNiDLBO",
        "colab": {}
      },
      "source": [
        "2*3"
      ],
      "execution_count": 0,
      "outputs": []
    },
    {
      "cell_type": "markdown",
      "metadata": {
        "colab_type": "text",
        "id": "MsSSofZeDUMQ"
      },
      "source": [
        "**Exponents**\n",
        "\n",
        "(Note `x**y` and `x^y` are equivalent in Python.)"
      ]
    },
    {
      "cell_type": "code",
      "metadata": {
        "id": "CZrY6jcKTZ-g",
        "colab_type": "code",
        "colab": {}
      },
      "source": [
        "2**3\n",
        "2^3"
      ],
      "execution_count": 0,
      "outputs": []
    },
    {
      "cell_type": "markdown",
      "metadata": {
        "id": "iQ7VTcjQTwL0",
        "colab_type": "text"
      },
      "source": [
        "**Division** is a bit more complicated. If a number doesn't divide evenly, such as `13 / 5`, we get what is called a floating-point number. We will talk about floating-points in a bit, but for now, we can use `//` when dividing, also known as \"floor division\". This operator removes any decimal remainder (e.g. 14.1 and 14.9 both become 14). To find this remainder, we can use a modulo operator, `%`."
      ]
    },
    {
      "cell_type": "code",
      "metadata": {
        "id": "5YSFvvusWbM5",
        "colab_type": "code",
        "colab": {}
      },
      "source": [
        "quotient = 14 // 4\n",
        "remainder = 14 % 4\n",
        "\n",
        "print(f\"Quotient: {quotient}, Remainder: {remainder}\")"
      ],
      "execution_count": 0,
      "outputs": []
    },
    {
      "cell_type": "markdown",
      "metadata": {
        "colab_type": "text",
        "id": "X2TdlbVkD8KL"
      },
      "source": [
        "Multiple mathematical operations can be combined, as below:"
      ]
    },
    {
      "cell_type": "code",
      "metadata": {
        "colab_type": "code",
        "id": "WeEzppbcXmcu",
        "colab": {}
      },
      "source": [
        "7 ** 7 + 7 * 7 - 7 * 7 // 7"
      ],
      "execution_count": 0,
      "outputs": []
    },
    {
      "cell_type": "markdown",
      "metadata": {
        "colab_type": "text",
        "id": "soWd9ICNXksr"
      },
      "source": [
        "The code above can be a bit difficult to read. How does Python know which numbers to process first?\n",
        "\n",
        "Python enforces an order of precedence where operations like taking the exponent come before multiplication and division, which come before addition and subtraction. (See this guide to [order of operations](https://www.mathsisfun.com/operation-order-pemdas.html).) There are actually more operators that what we've seen so far and it can be hard to remember the order of operations, so when in doubt you can wrap parentheses around operations to make things clearer."
      ]
    },
    {
      "cell_type": "code",
      "metadata": {
        "colab_type": "code",
        "id": "WUHW2o4BEeeg",
        "colab": {}
      },
      "source": [
        "(7 ** 7) + (7 * 7) - ((7 * 7) // 7)"
      ],
      "execution_count": 0,
      "outputs": []
    },
    {
      "cell_type": "markdown",
      "metadata": {
        "colab_type": "text",
        "id": "kC10wZPyjLyC"
      },
      "source": [
        "You can change the order of the operations from the standard order by wrapping different expressions in parentheses. Run the code snippets above and below and notice the different results despite having the same numbers and operators."
      ]
    },
    {
      "cell_type": "code",
      "metadata": {
        "colab_type": "code",
        "id": "BZpQixwpFjFZ",
        "colab": {}
      },
      "source": [
        "(7 ** (7 + 7)) * 7 - (7 * (7 // 7))"
      ],
      "execution_count": 0,
      "outputs": []
    },
    {
      "cell_type": "markdown",
      "metadata": {
        "id": "fqQQ2FVTN0__",
        "colab_type": "text"
      },
      "source": [
        "#### Practice Problem 2: Integers"
      ]
    },
    {
      "cell_type": "markdown",
      "metadata": {
        "id": "IAVzd_nmGRK2",
        "colab_type": "text"
      },
      "source": [
        "**Four Fours Problem**\n",
        "\n",
        "Don't spend more than 15 minutes on this problem but give it a few tries.\n",
        "\n",
        "Change the operations and add parenthesis as necessary to try and come up with as many numbers between 1 and 42 as you can."
      ]
    },
    {
      "cell_type": "code",
      "metadata": {
        "id": "UiTK_43yGbRL",
        "colab_type": "code",
        "colab": {}
      },
      "source": [
        "4 + 4 + 4 + 4"
      ],
      "execution_count": 0,
      "outputs": []
    },
    {
      "cell_type": "markdown",
      "metadata": {
        "id": "sN83BIYvMlbJ",
        "colab_type": "text"
      },
      "source": [
        "### Floating-point Numbers"
      ]
    },
    {
      "cell_type": "markdown",
      "metadata": {
        "colab_type": "text",
        "id": "hE54jmP2LS1p"
      },
      "source": [
        "It might seem complicated, but Python has a few ways of representing numbers. You have already seen the integer data type. This section is about floating-point numbers.\n",
        "\n",
        "The different data types representing numbers have a different place in the world of computing. In some languages, it is quite challenging to move from one type of number to another (e.g. from an integer to a floating-point). In Python, the mixing of integers and floating-point numbers is more fluid. This is great most of the time, but can be problematic at times. It is important to be aware, especially when doing division, when you are working with floating-point numbers or integers."
      ]
    },
    {
      "cell_type": "markdown",
      "metadata": {
        "id": "L-axSTVAfdPX",
        "colab_type": "text"
      },
      "source": [
        "Earlier we looked at floor division using `//`. The cell below uses regular division using `/`."
      ]
    },
    {
      "cell_type": "code",
      "metadata": {
        "colab_type": "code",
        "id": "5Xl53vhnDP04",
        "colab": {}
      },
      "source": [
        "50 / 10"
      ],
      "execution_count": 0,
      "outputs": []
    },
    {
      "cell_type": "markdown",
      "metadata": {
        "colab_type": "text",
        "id": "StSlr3ENHczu"
      },
      "source": [
        "In this case we can see that there is a decimal point (`.`) in the output. This is generally how we'll know that we're working with floating-point numbers. \n",
        "\n",
        "You can force operations to be floating-point operations by including one floating-point number in the equation. Note the difference between the following two numbers."
      ]
    },
    {
      "cell_type": "code",
      "metadata": {
        "colab_type": "code",
        "id": "HnX7JoF7IjL-",
        "colab": {}
      },
      "source": [
        "print(2 + 3)\n",
        "print(2.0 + 3)"
      ],
      "execution_count": 0,
      "outputs": []
    },
    {
      "cell_type": "markdown",
      "metadata": {
        "colab_type": "text",
        "id": "gcMocTbXQu4z"
      },
      "source": [
        "The cell below demonstrates a standard division of two floating-point values."
      ]
    },
    {
      "cell_type": "code",
      "metadata": {
        "colab_type": "code",
        "id": "BI-TEL_ARVvM",
        "colab": {}
      },
      "source": [
        "322.231 / 0.03"
      ],
      "execution_count": 0,
      "outputs": []
    },
    {
      "cell_type": "markdown",
      "metadata": {
        "colab_type": "text",
        "id": "DAdljqYvRfif"
      },
      "source": [
        "The result `10741.033333333333` is clearly a floating-point number, with a decimal portion of `.033333333333`. Here is what happens when we apply floor division to two floating-point values:"
      ]
    },
    {
      "cell_type": "code",
      "metadata": {
        "colab_type": "code",
        "id": "RMUAi_QgRl7V",
        "colab": {}
      },
      "source": [
        "322.231 // 0.03"
      ],
      "execution_count": 0,
      "outputs": []
    },
    {
      "cell_type": "markdown",
      "metadata": {
        "colab_type": "text",
        "id": "eGF6o-DSRp8Q"
      },
      "source": [
        "Note that the result `10741.0` has a decimal portion of `.0` now, but the decimal point indicates that it is a floating-point value."
      ]
    },
    {
      "cell_type": "markdown",
      "metadata": {
        "id": "uzHSFAAzqKgC",
        "colab_type": "text"
      },
      "source": [
        "Python has a very useful package with more advanced math tools. To import this package, all you need to do is add the following line to your code."
      ]
    },
    {
      "cell_type": "code",
      "metadata": {
        "id": "qXY1A9pPqdzI",
        "colab_type": "code",
        "colab": {}
      },
      "source": [
        "import math"
      ],
      "execution_count": 0,
      "outputs": []
    },
    {
      "cell_type": "markdown",
      "metadata": {
        "id": "9YCJ7qnbqjFH",
        "colab_type": "text"
      },
      "source": [
        "This package gives us access to a bunch of useful things, such as trigonometric functions like sines and cosines, and mathematical constants like $\\pi$ and $e$. To use them, we just type `math.` followed by the specific function we want to use. In Colab if you've already imported the library, typing `math.` should show a list of available functions.\n",
        "\n",
        "If you get an error running the following cell, make sure you run the cell above which imports the `math` package."
      ]
    },
    {
      "cell_type": "code",
      "metadata": {
        "id": "RWGjupl9rIho",
        "colab_type": "code",
        "colab": {}
      },
      "source": [
        "math.pi"
      ],
      "execution_count": 0,
      "outputs": []
    },
    {
      "cell_type": "markdown",
      "metadata": {
        "id": "Qg3Om6uqSHYq",
        "colab_type": "text"
      },
      "source": [
        "Here, `math.pi` ($\\pi$) is represented as a floating-point number. Since $\\pi$ is an irrational number, its value cannot be represented with a decimal, so the value of `math.pi` is not *exactly* the value of $\\pi$. However for most use cases, it is close enough."
      ]
    },
    {
      "cell_type": "markdown",
      "metadata": {
        "id": "_8UyzFRlPTZe",
        "colab_type": "text"
      },
      "source": [
        "While computers cannot generate truly random numbers, computer scientists have come up with some very clever ways to get pseudo-random numbers. These numbers aren't perfectly random, but are usually close enough such that it doesn't matter. In Python, it is very easy to get a variety of pseudo-random values using the `random` library. It is imported using the same syntax as seen earlier to import the `math` library."
      ]
    },
    {
      "cell_type": "code",
      "metadata": {
        "id": "_cTqHwQRQ0kD",
        "colab_type": "code",
        "colab": {}
      },
      "source": [
        "import random"
      ],
      "execution_count": 0,
      "outputs": []
    },
    {
      "cell_type": "markdown",
      "metadata": {
        "id": "XGe7XRfHRfqA",
        "colab_type": "text"
      },
      "source": [
        "As we saw with the `math` library, any time we want to use a function from the library, we need to preface the function name with `random.`. To get a random floating-point value uniformly chosen between 0 and 10, we can type the following command.\n",
        "\n",
        "If you get an error running the following cell, make sure you run the cell above which imports the `math` package."
      ]
    },
    {
      "cell_type": "code",
      "metadata": {
        "id": "BWoP6GmDVseg",
        "colab_type": "code",
        "colab": {}
      },
      "source": [
        "random.uniform(0, 10)"
      ],
      "execution_count": 0,
      "outputs": []
    },
    {
      "cell_type": "markdown",
      "metadata": {
        "id": "w9_mB1ZNar_K",
        "colab_type": "text"
      },
      "source": [
        "Alternatively, we can get a random value between 0 and 1 using `random.random()` and simply multiply it by 10 to achieve the same thing. There are cases where one method might be preferable over the other,so it is useful to know them both."
      ]
    },
    {
      "cell_type": "code",
      "metadata": {
        "id": "hz9bF9bRbISv",
        "colab_type": "code",
        "colab": {}
      },
      "source": [
        "random.random()*10"
      ],
      "execution_count": 0,
      "outputs": []
    },
    {
      "cell_type": "markdown",
      "metadata": {
        "id": "BRrRfDjdbR_A",
        "colab_type": "text"
      },
      "source": [
        "There are a lot more kinds of random numbers that we can use, but we'll talk about that more a bit later."
      ]
    },
    {
      "cell_type": "markdown",
      "metadata": {
        "colab_type": "text",
        "id": "ZbyMX1f-UFxj"
      },
      "source": [
        "Don't be intimidated by the differences and interactions between floating-point numbers and integers. Most of the time you won't need to be concerned about it. However, if you see surprising results when doing math in Python, but sure to double-check the data types of the numbers in your operations."
      ]
    },
    {
      "cell_type": "markdown",
      "metadata": {
        "colab_type": "text",
        "id": "xhWi4A7G9sxP"
      },
      "source": [
        "### Booleans\n",
        "\n",
        "The boolean is another core data type in Python. Booleans, often abbreviated to \"bools\", can be thought of as switches, with an \"on\" and an \"off\". Bools are represented simply by **True** and **False**."
      ]
    },
    {
      "cell_type": "code",
      "metadata": {
        "colab_type": "code",
        "id": "8kK7X0KTh9cT",
        "colab": {}
      },
      "source": [
        "True"
      ],
      "execution_count": 0,
      "outputs": []
    },
    {
      "cell_type": "code",
      "metadata": {
        "colab_type": "code",
        "id": "yb8R0X5piBmy",
        "colab": {}
      },
      "source": [
        "False"
      ],
      "execution_count": 0,
      "outputs": []
    },
    {
      "cell_type": "markdown",
      "metadata": {
        "colab_type": "text",
        "id": "GjxWzrHGiLvS"
      },
      "source": [
        "Bools are often combined with logical operators such as **`and`** and **`or`**. Suppose you have two boolean variables, `a` and `b`.\n",
        "\n",
        "- `a and b` is `True` if and only if both `a` and `b` are `True`, otherwise it is `False`.\n",
        "- `a or b` is `True` if and only if at least one of `a` or `b` is `True`, otherwise it is `False`."
      ]
    },
    {
      "cell_type": "code",
      "metadata": {
        "colab_type": "code",
        "id": "ku0QRmgOiwqi",
        "colab": {}
      },
      "source": [
        "True and True"
      ],
      "execution_count": 0,
      "outputs": []
    },
    {
      "cell_type": "code",
      "metadata": {
        "colab_type": "code",
        "id": "n5jaK8mAi1kr",
        "colab": {}
      },
      "source": [
        "True and False"
      ],
      "execution_count": 0,
      "outputs": []
    },
    {
      "cell_type": "code",
      "metadata": {
        "colab_type": "code",
        "id": "1QsUSB_HjFQi",
        "colab": {}
      },
      "source": [
        "False and True"
      ],
      "execution_count": 0,
      "outputs": []
    },
    {
      "cell_type": "code",
      "metadata": {
        "colab_type": "code",
        "id": "kbFv2tF2i5uC",
        "colab": {}
      },
      "source": [
        "False and False"
      ],
      "execution_count": 0,
      "outputs": []
    },
    {
      "cell_type": "code",
      "metadata": {
        "colab_type": "code",
        "id": "TvaiLtfIjCHK",
        "colab": {}
      },
      "source": [
        "True or True"
      ],
      "execution_count": 0,
      "outputs": []
    },
    {
      "cell_type": "code",
      "metadata": {
        "colab_type": "code",
        "id": "fNC2DXODjO1j",
        "colab": {}
      },
      "source": [
        "True or False"
      ],
      "execution_count": 0,
      "outputs": []
    },
    {
      "cell_type": "code",
      "metadata": {
        "colab_type": "code",
        "id": "E4Vsi4yyjRIU",
        "colab": {}
      },
      "source": [
        "False or True"
      ],
      "execution_count": 0,
      "outputs": []
    },
    {
      "cell_type": "code",
      "metadata": {
        "colab_type": "code",
        "id": "dPHZfa0SjTpi",
        "colab": {}
      },
      "source": [
        "False or False"
      ],
      "execution_count": 0,
      "outputs": []
    },
    {
      "cell_type": "markdown",
      "metadata": {
        "colab_type": "text",
        "id": "CTFYOYm-jl8s"
      },
      "source": [
        "These expressions of *truthiness* can be expanded beyond two operands:"
      ]
    },
    {
      "cell_type": "code",
      "metadata": {
        "colab_type": "code",
        "id": "dHDN9rlHju1K",
        "colab": {}
      },
      "source": [
        "False and True or True and False or True"
      ],
      "execution_count": 0,
      "outputs": []
    },
    {
      "cell_type": "markdown",
      "metadata": {
        "colab_type": "text",
        "id": "EWds8NZcjzLm"
      },
      "source": [
        "Just like with numbers, you can change the order in which the boolean operators are conducted, with parentheses."
      ]
    },
    {
      "cell_type": "code",
      "metadata": {
        "colab_type": "code",
        "id": "bmNET_M0j8n6",
        "colab": {}
      },
      "source": [
        "False and (True or True and False or True)"
      ],
      "execution_count": 0,
      "outputs": []
    },
    {
      "cell_type": "markdown",
      "metadata": {
        "colab_type": "text",
        "id": "a6qGkJawkKOy"
      },
      "source": [
        "Truthiness can be flipped with the **`not`** operator:"
      ]
    },
    {
      "cell_type": "code",
      "metadata": {
        "colab_type": "code",
        "id": "0QuMqZr-kNuq",
        "colab": {}
      },
      "source": [
        "not True"
      ],
      "execution_count": 0,
      "outputs": []
    },
    {
      "cell_type": "code",
      "metadata": {
        "colab_type": "code",
        "id": "ktrkaFPvkP3C",
        "colab": {}
      },
      "source": [
        "not False"
      ],
      "execution_count": 0,
      "outputs": []
    },
    {
      "cell_type": "markdown",
      "metadata": {
        "colab_type": "text",
        "id": "MAMZiWVKkRyj"
      },
      "source": [
        "In most cases, you won't be working directly with **`True`** and  **`False`**. Most of the time, these values will be returned from other expressions. Take for instance the greater than ($>$), less than ($<$), greater than or equal to ($\\geq$), and less than or equal to ($\\leq$) expressions below:"
      ]
    },
    {
      "cell_type": "code",
      "metadata": {
        "colab_type": "code",
        "id": "kvrU-MbntJxF",
        "colab": {}
      },
      "source": [
        "2 > 1"
      ],
      "execution_count": 0,
      "outputs": []
    },
    {
      "cell_type": "code",
      "metadata": {
        "colab_type": "code",
        "id": "jC3Tu27etMz9",
        "colab": {}
      },
      "source": [
        "2 < 1"
      ],
      "execution_count": 0,
      "outputs": []
    },
    {
      "cell_type": "code",
      "metadata": {
        "colab_type": "code",
        "id": "dyAbguAZtStV",
        "colab": {}
      },
      "source": [
        "1 >= 1"
      ],
      "execution_count": 0,
      "outputs": []
    },
    {
      "cell_type": "code",
      "metadata": {
        "colab_type": "code",
        "id": "lV4LB8yltXX0",
        "colab": {}
      },
      "source": [
        "2 <= 1"
      ],
      "execution_count": 0,
      "outputs": []
    },
    {
      "cell_type": "markdown",
      "metadata": {
        "colab_type": "text",
        "id": "iM0WzNIzt2e6"
      },
      "source": [
        "There are also checks for equality and inequality:"
      ]
    },
    {
      "cell_type": "code",
      "metadata": {
        "colab_type": "code",
        "id": "aWh_nf2Ct6BF",
        "colab": {}
      },
      "source": [
        "1 == 2"
      ],
      "execution_count": 0,
      "outputs": []
    },
    {
      "cell_type": "code",
      "metadata": {
        "colab_type": "code",
        "id": "DqD57oCjt9Fc",
        "colab": {}
      },
      "source": [
        "1 != 2"
      ],
      "execution_count": 0,
      "outputs": []
    },
    {
      "cell_type": "markdown",
      "metadata": {
        "colab_type": "text",
        "id": "bPxW9UbyuOM8"
      },
      "source": [
        "Why is \"equals\" represented as `==` instead of just `=`? As you saw earlier with variables, you can use `=` to assign a value to a variable. Therefore, Python needs a different symbol to check for equality. If you want to assign the variable `a` to the value 3, you can use `a = 3`. Now, if you want to check if it is equal to 3, you can use `a == 3`."
      ]
    },
    {
      "cell_type": "code",
      "metadata": {
        "id": "LvdgS_NdNfah",
        "colab_type": "code",
        "colab": {}
      },
      "source": [
        "a = 3\n",
        "print(a)\n",
        "print(a == 3)\n",
        "print(a == 2)\n",
        "a = 2\n",
        "print(a)\n",
        "print(a == 2)"
      ],
      "execution_count": 0,
      "outputs": []
    },
    {
      "cell_type": "markdown",
      "metadata": {
        "colab_type": "text",
        "id": "xCtBPbjZteEN"
      },
      "source": [
        "You can combine the logical **`and`**, **`or`**, and **`not`** expressions and the **`>`**, **`>=`**, **`<`**, **`<=`**, **`==`**, **`!=`** expressions. Parentheses are again used to change the order of operation evaluation."
      ]
    },
    {
      "cell_type": "code",
      "metadata": {
        "colab_type": "code",
        "id": "31SI26qkutT9",
        "colab": {}
      },
      "source": [
        "(1 < 2) and (3 == 3) or ((4 > 1) and (not 1 < 2))"
      ],
      "execution_count": 0,
      "outputs": []
    },
    {
      "cell_type": "markdown",
      "metadata": {
        "id": "v7Ia_42jhGza",
        "colab_type": "text"
      },
      "source": [
        "\n",
        "We can also use the **`>`**, **`>=`**, **`<`**, **`<=`**, **`==`**, **`!=`** expressions with two strings to determine whether strings are in alphabetical order."
      ]
    },
    {
      "cell_type": "code",
      "metadata": {
        "id": "LKzFY0yohd2V",
        "colab_type": "code",
        "colab": {}
      },
      "source": [
        "'apple' < 'banana'"
      ],
      "execution_count": 0,
      "outputs": []
    },
    {
      "cell_type": "markdown",
      "metadata": {
        "id": "OQ0u4X2Mhs3I",
        "colab_type": "text"
      },
      "source": [
        "Of note is that capital letters are sorted before lowercase e.g. `'A' < 'a'`."
      ]
    },
    {
      "cell_type": "code",
      "metadata": {
        "id": "SlrWHza2Of1e",
        "colab_type": "code",
        "colab": {}
      },
      "source": [
        "'Apple' < 'apple'"
      ],
      "execution_count": 0,
      "outputs": []
    },
    {
      "cell_type": "markdown",
      "metadata": {
        "id": "l1kunoRTl5GQ",
        "colab_type": "text"
      },
      "source": [
        "#### Practice Problem 3: Booleans"
      ]
    },
    {
      "cell_type": "code",
      "metadata": {
        "id": "HQoTKdq-UJeP",
        "colab_type": "code",
        "cellView": "both",
        "colab": {}
      },
      "source": [
        "#@markdown We've hidden the values of variables `favorite_letter` and\n",
        "#@markdown `favorite_number` (an integer between 0 and 100). Use boolean\n",
        "#@markdown expressions to find the values of the letter and the number.\n",
        "\n",
        "#@markdown Run this cell to initialize the hidden \n",
        "#@markdown variables.\n",
        "\n",
        "favorite_letter = 'K'\n",
        "favorite_number = 42"
      ],
      "execution_count": 0,
      "outputs": []
    },
    {
      "cell_type": "code",
      "metadata": {
        "id": "XQOHXOZE6AmK",
        "colab_type": "code",
        "colab": {}
      },
      "source": [
        "favorite_letter == 'A'"
      ],
      "execution_count": 0,
      "outputs": []
    },
    {
      "cell_type": "code",
      "metadata": {
        "id": "dZf8sUgWkWFN",
        "colab_type": "code",
        "colab": {}
      },
      "source": [
        "favorite_number <= 100"
      ],
      "execution_count": 0,
      "outputs": []
    },
    {
      "cell_type": "markdown",
      "metadata": {
        "colab_type": "text",
        "id": "j0CX7jke7lqR"
      },
      "source": [
        "## Conditional Decisions\n",
        "\n",
        "One of the most common patterns in computer science and data science is the `if` statement. You can use `if` to check if a condition is met, and do different things based on whether it is met or not. The `if` statement looks at a boolean value and if that value is `True`, runs some code."
      ]
    },
    {
      "cell_type": "code",
      "metadata": {
        "colab_type": "code",
        "id": "zuF7LVOS7FhQ",
        "colab": {}
      },
      "source": [
        "if 1 > 3:\n",
        "  print(\"One is greater than three\")\n",
        "\n",
        "if 1 < 3:\n",
        "  print(\"One is less than three\")"
      ],
      "execution_count": 0,
      "outputs": []
    },
    {
      "cell_type": "markdown",
      "metadata": {
        "colab_type": "text",
        "id": "Cv30H9ZrB1cI"
      },
      "source": [
        "Only the second `print` statement is run, since it is not `True` that `1 > 3` but it is `True` that `1 < 3`.\n",
        " \n",
        "Notice that the two `print` statements are indented beneath each `if` statement. This isn't by accident. Python creates \"blocks\" of code using the code's indentation level. This indentation can be done with tabs or with spaces, but it must be consistent throughout your code file.\n",
        " \n",
        " ```\n",
        "block 1\n",
        "  block 1.1\n",
        "    block 1.1.1\n",
        " \n",
        "    block 1.1.1\n",
        " \n",
        "  block 1.1\n",
        "``` \n",
        " \n",
        "The code below shows blocks in action."
      ]
    },
    {
      "cell_type": "code",
      "metadata": {
        "colab_type": "code",
        "id": "gBDfIw-bErkp",
        "colab": {}
      },
      "source": [
        "if False:\n",
        "  print(\"This shouldn't print.\")\n",
        "print(\"But this will always print.\")"
      ],
      "execution_count": 0,
      "outputs": []
    },
    {
      "cell_type": "markdown",
      "metadata": {
        "colab_type": "text",
        "id": "RXYHdR-JFiET"
      },
      "source": [
        "In many situations, you will want to run some code if a condition is met, and some different code when it is not. For this, you can use `else`."
      ]
    },
    {
      "cell_type": "code",
      "metadata": {
        "colab_type": "code",
        "id": "5SsJLEarF3kZ",
        "colab": {}
      },
      "source": [
        "if 1 > 3:\n",
        "  print(\"Math as we know it is broken!\")\n",
        "else:\n",
        "  print(\"Everything looks normal.\")"
      ],
      "execution_count": 0,
      "outputs": []
    },
    {
      "cell_type": "markdown",
      "metadata": {
        "colab_type": "text",
        "id": "HyMZNuRjF_J6"
      },
      "source": [
        "You might also want to check many if conditions and only execute the code if one condition passes. For this, you can use the `elif` clause (short for \"else if\").\n",
        "\n",
        "For example, these would be useful if we wanted to do a simple rock, paper, scissors game."
      ]
    },
    {
      "cell_type": "code",
      "metadata": {
        "colab_type": "code",
        "id": "nTi0_DBTGJsK",
        "colab": {}
      },
      "source": [
        "# Choose a random option from the list for the computer player.\n",
        "import random\n",
        "computer = random.choice([\"rock\", \"paper\", \"scissors\"]) \n",
        "\n",
        "my_choice = \"paper\" # Feel free to change this.\n",
        "\n",
        "print(f\"You chose {my_choice}!\")\n",
        "print(f\"The computer chose {computer}!\")\n",
        "\n",
        "if my_choice == computer:\n",
        "  print(\"Draw! Go again!\")\n",
        "\n",
        "elif my_choice == \"rock\" and computer == \"paper\":\n",
        "  print(\"The computer wins. Try again?\")\n",
        "\n",
        "elif my_choice == \"rock\" and computer == \"scissors\":\n",
        "  print(\"You smashed the computer's scissors!\")\n",
        "\n",
        "elif my_choice == \"paper\" and computer == \"rock\":\n",
        "  print(\"You wrapped up the computer's rock!\")\n",
        "\n",
        "elif my_choice == \"paper\" and computer == \"scissors\":\n",
        "  print(\"The computer wins. Try again?\")\n",
        "\n",
        "elif my_choice == \"scissors\" and computer == \"rock\":\n",
        "  print(\"The computer wins. Try again?\")\n",
        "\n",
        "elif my_choice == \"scissors\" and computer == \"paper\":\n",
        "  print(\"You sliced up the computer's paper!\")"
      ],
      "execution_count": 0,
      "outputs": []
    },
    {
      "cell_type": "markdown",
      "metadata": {
        "id": "jlkFACKQoKyL",
        "colab_type": "text"
      },
      "source": [
        "## Basic Data-Structures"
      ]
    },
    {
      "cell_type": "markdown",
      "metadata": {
        "colab_type": "text",
        "id": "4aeUPXVUpoVb"
      },
      "source": [
        "### Lists"
      ]
    },
    {
      "cell_type": "markdown",
      "metadata": {
        "colab_type": "text",
        "id": "hvrg40h6Sacg"
      },
      "source": [
        "So far, the data types we've seen can be thought of as singular entities. We've seen:\n",
        "- strings\n",
        "- integers\n",
        "- floating-points\n",
        "- booleans\n",
        "\n",
        "Often, you'll find yourself needing to work with multiple data elements together. There are several options for organizing a collection of data into a data-structure. One option is to use a list.\n",
        "\n",
        "A list is just a list of multiple values."
      ]
    },
    {
      "cell_type": "code",
      "metadata": {
        "colab_type": "code",
        "id": "0c7EWoTkTBXc",
        "colab": {}
      },
      "source": [
        "[9, 8, 7, 6, 5]"
      ],
      "execution_count": 0,
      "outputs": []
    },
    {
      "cell_type": "markdown",
      "metadata": {
        "colab_type": "text",
        "id": "ffB5qW6iTEkp"
      },
      "source": [
        "The values in a list don't need to have the same data type."
      ]
    },
    {
      "cell_type": "code",
      "metadata": {
        "colab_type": "code",
        "id": "d9UaR3X8THH-",
        "colab": {}
      },
      "source": [
        "[True, \"Shark!\", 3.4, False, 6]"
      ],
      "execution_count": 0,
      "outputs": []
    },
    {
      "cell_type": "markdown",
      "metadata": {
        "colab_type": "text",
        "id": "RaFVKpWYTMoV"
      },
      "source": [
        "You can assign a list to a variable."
      ]
    },
    {
      "cell_type": "code",
      "metadata": {
        "colab_type": "code",
        "id": "GxoedcOvTdBb",
        "colab": {}
      },
      "source": [
        "my_list = [True, \"Shark!\", 3.4, False, 6]\n",
        "my_list"
      ],
      "execution_count": 0,
      "outputs": []
    },
    {
      "cell_type": "markdown",
      "metadata": {
        "colab_type": "text",
        "id": "UzZ3LCjiUnj-"
      },
      "source": [
        "You can also index a list and take slices from it just like you can from a string. Conceptually you can think of \"a string\" to be a sequence of characters similar to a list."
      ]
    },
    {
      "cell_type": "code",
      "metadata": {
        "colab_type": "code",
        "id": "1FGtpudFU9FV",
        "colab": {}
      },
      "source": [
        "print(my_list[3])\n",
        "print(my_list[3:])"
      ],
      "execution_count": 0,
      "outputs": []
    },
    {
      "cell_type": "markdown",
      "metadata": {
        "colab_type": "text",
        "id": "tLH5kW4pXodm"
      },
      "source": [
        "Indexing can also be used to selectively replace items in a list."
      ]
    },
    {
      "cell_type": "code",
      "metadata": {
        "colab_type": "code",
        "id": "aVhNNk3EXtAX",
        "colab": {}
      },
      "source": [
        "print(my_list)\n",
        "my_list[1] = \"Wolf!\"\n",
        "print(my_list)"
      ],
      "execution_count": 0,
      "outputs": []
    },
    {
      "cell_type": "markdown",
      "metadata": {
        "colab_type": "text",
        "id": "rXjH5eZ0VDGo"
      },
      "source": [
        "Lists have other interesting features. For example, there is an in-built method to sort a list."
      ]
    },
    {
      "cell_type": "code",
      "metadata": {
        "colab_type": "code",
        "id": "NsDXdr4OVINd",
        "colab": {}
      },
      "source": [
        "number_list = [4, 2, 7, 9 ,3, 5, 3, 2, 9]\n",
        "number_list.sort()\n",
        "number_list"
      ],
      "execution_count": 0,
      "outputs": []
    },
    {
      "cell_type": "markdown",
      "metadata": {
        "id": "0VK9yibsdHpl",
        "colab_type": "text"
      },
      "source": [
        "You can append an item to a list using `append()`."
      ]
    },
    {
      "cell_type": "code",
      "metadata": {
        "id": "rUs-ifRpdLmY",
        "colab_type": "code",
        "colab": {}
      },
      "source": [
        "letter_list = [\"a\", \"b\", \"c\"]\n",
        "letter_list.append(\"d\")\n",
        "letter_list"
      ],
      "execution_count": 0,
      "outputs": []
    },
    {
      "cell_type": "markdown",
      "metadata": {
        "id": "NBMEjCAmd1C3",
        "colab_type": "text"
      },
      "source": [
        "You can append multiple items to a list using `extend()`."
      ]
    },
    {
      "cell_type": "code",
      "metadata": {
        "id": "YOMz3t0Fd5E_",
        "colab_type": "code",
        "colab": {}
      },
      "source": [
        "letter_list.extend([\"e\", \"f\", \"g\"])\n",
        "letter_list"
      ],
      "execution_count": 0,
      "outputs": []
    },
    {
      "cell_type": "markdown",
      "metadata": {
        "colab_type": "text",
        "id": "lZTvQem9VUQk"
      },
      "source": [
        "You can even have lists within lists!"
      ]
    },
    {
      "cell_type": "code",
      "metadata": {
        "colab_type": "code",
        "id": "oLhCs9bUVXtD",
        "colab": {}
      },
      "source": [
        "[\"List 1\", [\"List 2\", 3, 4], False]"
      ],
      "execution_count": 0,
      "outputs": []
    },
    {
      "cell_type": "markdown",
      "metadata": {
        "colab_type": "text",
        "id": "z1igsdg_Vfaa"
      },
      "source": [
        "Lists-of-lists come in really handy, especially in data science since much of the data that you'll work with will be in a tabular format. In these cases, the internal lists are typically the same size. For example, you might have a list of data points about a customer, such as their age, income, and the amount they spent at your company last month."
      ]
    },
    {
      "cell_type": "code",
      "metadata": {
        "colab_type": "code",
        "id": "vCbbTrx8WCRb",
        "colab": {}
      },
      "source": [
        "customers = [\n",
        "    [\"C0\", 42, 56000, 12.30],\n",
        "    [\"C1\", 19, 15000, 43.21],\n",
        "    [\"C2\", 35, 123000, 45.67],\n",
        "]\n",
        "customers"
      ],
      "execution_count": 0,
      "outputs": []
    },
    {
      "cell_type": "markdown",
      "metadata": {
        "colab_type": "text",
        "id": "RJjfjKPXW3_b"
      },
      "source": [
        "You can use multiple indexing to get data out of a nested list. In the example below we pull out the income of our second customer."
      ]
    },
    {
      "cell_type": "code",
      "metadata": {
        "colab_type": "code",
        "id": "m3tVFhSpXOxU",
        "colab": {}
      },
      "source": [
        "customers[1][2]"
      ],
      "execution_count": 0,
      "outputs": []
    },
    {
      "cell_type": "markdown",
      "metadata": {
        "colab_type": "text",
        "id": "np3pCakUWqzH"
      },
      "source": [
        "We will explore lists more deeply and other data structures in future tutorials."
      ]
    },
    {
      "cell_type": "markdown",
      "metadata": {
        "colab_type": "text",
        "id": "DaHEjvmwpqzT"
      },
      "source": [
        "### Tuples\n",
        "\n",
        "Tuples look and feel a whole lot like lists in Python. They can contain a sequence of data, that can lists and other tuples. The primary difference between lists and tuples is that you can't modify a tuple like you can a list.\n",
        "\n",
        "Before we get too deep into immutability (whether you can change an object's value), let's take a look at a tuple."
      ]
    },
    {
      "cell_type": "code",
      "metadata": {
        "colab_type": "code",
        "id": "s2wbBKB2YYr9",
        "colab": {}
      },
      "source": [
        "my_tuple = (1, \"dog\", 3.987, False, [\"a\", \"list\", \"inside\", 1.0, \"tuples\"])\n",
        "my_tuple"
      ],
      "execution_count": 0,
      "outputs": []
    },
    {
      "cell_type": "markdown",
      "metadata": {
        "colab_type": "text",
        "id": "5gTQ6Gx6Yp1g"
      },
      "source": [
        "The visible difference between a list and a tuple is that we create a tuple with parentheses instead of square brackets.\n",
        "\n",
        "You can index a tuple and take a slice from a tuple just like you can from a list. \n",
        "\n",
        "The only difference is that you can't change the values inside a tuple, like you can with a list. This is useful because Python can perform some optimizations when it knows a data structure can't change. This gives tuples a few powerful properties that lists don't have. We'll take a peek at one of these properties now, and we'll also learn more later in this tutorial.\n",
        "\n",
        "We will use a property of a tuple to swap the values of two variables. In most languages, you need three variables to swap the value of two variables. Here is an example."
      ]
    },
    {
      "cell_type": "code",
      "metadata": {
        "colab_type": "code",
        "id": "0Ufn_-6vZfws",
        "colab": {}
      },
      "source": [
        "var1 = \"Python\"\n",
        "var2 = \"Perl\"\n",
        "\n",
        "tmp = var1\n",
        "var1 = var2\n",
        "var2 = tmp\n",
        "\n",
        "var1, var2"
      ],
      "execution_count": 0,
      "outputs": []
    },
    {
      "cell_type": "markdown",
      "metadata": {
        "colab_type": "text",
        "id": "e86S6sL9ZzwO"
      },
      "source": [
        "We had to introduce the `tmp` variable to perform the swap, and needed three lines code. With tuples, we can do this more cleanly.\n",
        "\n",
        "**Note:** You might have noticed that when we put `var1, var2` at the bottom of the last code section a tuple was printed out. Any sequence of variables separated by commas in Python automatically creates a tuple."
      ]
    },
    {
      "cell_type": "code",
      "metadata": {
        "colab_type": "code",
        "id": "kmbYg8KdaVNW",
        "colab": {}
      },
      "source": [
        "var1 = \"Perl\"\n",
        "var2 = \"Python\"\n",
        "\n",
        "(var1, var2) = (var2, var1)\n",
        "\n",
        "var1, var2"
      ],
      "execution_count": 0,
      "outputs": []
    },
    {
      "cell_type": "markdown",
      "metadata": {
        "colab_type": "text",
        "id": "UMvM-x4baz6o"
      },
      "source": [
        "As you can see, swapping variables using tuples is much easier to read and less error-prone than having to use three variables. It uses the property that the values in a tuple are **immutable**."
      ]
    },
    {
      "cell_type": "markdown",
      "metadata": {
        "colab_type": "text",
        "id": "OUI-5GqHbB5L"
      },
      "source": [
        "Tuples come up everywhere when programming in Python. Sometimes you won't even realize that you are working with a tuple, since they are so integrated with the language."
      ]
    },
    {
      "cell_type": "markdown",
      "metadata": {
        "colab_type": "text",
        "id": "AM2MY7EPpsS5"
      },
      "source": [
        "### Dictionaries\n",
        "\n",
        "Dictionaries are another fundamental data structure in Python. If you have experience with other programming languages, you might have encountered a similar data structure with a different name such as a map, a hashmap, or a hashtable.\n",
        "\n",
        "Dictionaries contain key/value pairs. The reason this data structure is called a dictionary is because you can \"look up\" keys and find the corresponding value, just like you can look up a word in the Oxford Dictionary and find its definitions.\n",
        "\n",
        "Let's take a look at some code that creates a dictionary and accesses a value in the dictionary by key."
      ]
    },
    {
      "cell_type": "code",
      "metadata": {
        "colab_type": "code",
        "id": "GkvFhLkguhln",
        "colab": {}
      },
      "source": [
        "my_dictionary = {\n",
        "    \"pet\": \"cat\",\n",
        "    \"car\": \"Tesla\",\n",
        "    \"lodging\": \"apartment\",\n",
        "}\n",
        "\n",
        "my_dictionary[\"pet\"]"
      ],
      "execution_count": 0,
      "outputs": []
    },
    {
      "cell_type": "markdown",
      "metadata": {
        "colab_type": "text",
        "id": "jhS92kCxu2N-"
      },
      "source": [
        "Notice that we use the same *indexing* notation that should be familiar to you from strings, lists, and tuples. However, instead of a numeric index, the lookup is done by key.\n",
        "\n",
        "A key can be any non-mutable data value. Keys can be numbers, strings, and even tuples. You can't use a dictionary or list as a key, but you can use them as values.\n",
        "\n",
        "The data types of the keys do not need to be the same."
      ]
    },
    {
      "cell_type": "code",
      "metadata": {
        "colab_type": "code",
        "id": "F7H45vAkvTc-",
        "colab": {}
      },
      "source": [
        "the_dictionary = {\n",
        "    57: \"the sneaky fox\",\n",
        "    \"many things\": [1, \"little list\", \" of \", 5.0, \"things\"],\n",
        "    (8, \"ocho\"): \"Hi there\",\n",
        "    \"KEY_ONE\": {\n",
        "        \"a\": \"dictionary\",\n",
        "        \"as a\": \"value\"\n",
        "    },\n",
        "}\n",
        "\n",
        "the_dictionary[(8, \"ocho\")]"
      ],
      "execution_count": 0,
      "outputs": []
    },
    {
      "cell_type": "markdown",
      "metadata": {
        "colab_type": "text",
        "id": "Ljuhxa7sv0Ze"
      },
      "source": [
        "The dictionary above is much more unstructured than dictionaries that you'll typically encounter in practice. However, it illustrates the broad range of key types and value types that a dictionary can store.\n",
        "\n",
        "You can also index many levels down in a dictionary. For example, in `the_dictionary` above, there is a sub-dictionary at the `KEY_ONE` key. Let's pull something out of this dictionary within a dictionary."
      ]
    },
    {
      "cell_type": "code",
      "metadata": {
        "colab_type": "code",
        "id": "-9d8N3kxwgp_",
        "colab": {}
      },
      "source": [
        "the_dictionary[\"KEY_ONE\"]['as a']"
      ],
      "execution_count": 0,
      "outputs": []
    },
    {
      "cell_type": "markdown",
      "metadata": {
        "colab_type": "text",
        "id": "5faIdUYRwrZp"
      },
      "source": [
        "We can also use indexing to access the values of the list that is the value in `the_dictionary` for the key `\"many things\"`."
      ]
    },
    {
      "cell_type": "code",
      "metadata": {
        "colab_type": "code",
        "id": "8QI8rJKMwtyH",
        "colab": {}
      },
      "source": [
        "the_dictionary[\"many things\"][1]"
      ],
      "execution_count": 0,
      "outputs": []
    },
    {
      "cell_type": "markdown",
      "metadata": {
        "colab_type": "text",
        "id": "gBwk3lyzxFlg"
      },
      "source": [
        "Dictionaries, lists, tuples, and other data structures can contain as much nesting as you need."
      ]
    },
    {
      "cell_type": "markdown",
      "metadata": {
        "colab_type": "text",
        "id": "FyKt13WvxO0K"
      },
      "source": [
        "Dictionaries store their values by key. Only one value can exist per key, so if you put write a new value to a key, the old value goes away."
      ]
    },
    {
      "cell_type": "code",
      "metadata": {
        "colab_type": "code",
        "id": "XjvSiO5pxaQb",
        "colab": {}
      },
      "source": [
        "my_dictionary = {\n",
        "    \"k1\": \"name\",\n",
        "    \"k2\": \"age\"\n",
        "}\n",
        "\n",
        "my_dictionary[\"k1\"] = \"surname\"\n",
        "\n",
        "my_dictionary"
      ],
      "execution_count": 0,
      "outputs": []
    },
    {
      "cell_type": "markdown",
      "metadata": {
        "colab_type": "text",
        "id": "dySuvUTfxn-h"
      },
      "source": [
        "You can add entries to a dictionary by assigning them to a key."
      ]
    },
    {
      "cell_type": "code",
      "metadata": {
        "colab_type": "code",
        "id": "KbMBUHKgxtWl",
        "colab": {}
      },
      "source": [
        "my_dictionary[\"k3\"] = \"rank\"\n",
        "\n",
        "my_dictionary"
      ],
      "execution_count": 0,
      "outputs": []
    },
    {
      "cell_type": "markdown",
      "metadata": {
        "colab_type": "text",
        "id": "BAi6X1T9xznZ"
      },
      "source": [
        "And you can remove entries from a dictionary using the **`del`** operator."
      ]
    },
    {
      "cell_type": "code",
      "metadata": {
        "colab_type": "code",
        "id": "DzeaUA_lx7Vh",
        "colab": {}
      },
      "source": [
        "del my_dictionary[\"k2\"]\n",
        "\n",
        "my_dictionary"
      ],
      "execution_count": 0,
      "outputs": []
    },
    {
      "cell_type": "markdown",
      "metadata": {
        "colab_type": "text",
        "id": "DF9ipqh2yDwM"
      },
      "source": [
        "To see if a key exists in a dictionary, you can use the **`in`** operator. Notice that it returns a boolean value."
      ]
    },
    {
      "cell_type": "code",
      "metadata": {
        "colab_type": "code",
        "id": "7-M5xn9DyJcS",
        "colab": {}
      },
      "source": [
        "\"k2\" in my_dictionary"
      ],
      "execution_count": 0,
      "outputs": []
    },
    {
      "cell_type": "markdown",
      "metadata": {
        "colab_type": "text",
        "id": "mGe0UEq4yUaI"
      },
      "source": [
        "It is advisable to check if a key exists in a dictionary before trying to index that key. If you try to access a key that doesn't exist using square brackets, your program will throw an error and possibly crash.\n",
        "\n",
        "There is also a safer **`get`** method on the dictionary object. You provide `get` with a key and a default value to return if the key isn't present."
      ]
    },
    {
      "cell_type": "code",
      "metadata": {
        "colab_type": "code",
        "id": "gm5yy399y2Hk",
        "colab": {}
      },
      "source": [
        "my_dictionary.get(\"k2\", \"There is no 'k2' key value\")"
      ],
      "execution_count": 0,
      "outputs": []
    },
    {
      "cell_type": "markdown",
      "metadata": {
        "colab_type": "text",
        "id": "N4eyTWNPy7Fc"
      },
      "source": [
        "For more on dictionaries, check out the [official Python dictionary documentation](https://docs.python.org/3/tutorial/datastructures.html#dictionaries)."
      ]
    },
    {
      "cell_type": "markdown",
      "metadata": {
        "colab_type": "text",
        "id": "KiF3xtSI40Tw"
      },
      "source": [
        "We've learned about the most fundamental data structures in Python:\n",
        "- numbers\n",
        "- booleans\n",
        "- lists\n",
        "- tuples\n",
        "- dictionaries\n",
        "\n",
        "We've learned how to store data in variables and how to change data in variables, dictionaries and lists. Each of these data types have more functionality than we have gone over in this tutorial, so please take some time to get a broader idea of what can be done with these data types in Python.\n",
        " \n",
        "There are also many data types that we did not cover. As we encounter the need for other types of data in our study of machine learning and data science, we will introduce and explain some of them."
      ]
    },
    {
      "cell_type": "markdown",
      "metadata": {
        "colab_type": "text",
        "id": "qFPc3YgQ7ocD"
      },
      "source": [
        "## `for` Loops\n",
        "\n",
        "The `for` loop is a powerful tool that lets us look at every item in a data structure in order, and perform operations on each element."
      ]
    },
    {
      "cell_type": "code",
      "metadata": {
        "colab_type": "code",
        "id": "sk8Aw0yZJCUf",
        "colab": {}
      },
      "source": [
        "my_list = ['a', 'b', 'c']\n",
        "\n",
        "for item in my_list:\n",
        "  print(item)"
      ],
      "execution_count": 0,
      "outputs": []
    },
    {
      "cell_type": "markdown",
      "metadata": {
        "colab_type": "text",
        "id": "dirxZstuJQnI"
      },
      "source": [
        "As you can see, the `for` loop executes `print` three times, once for each item in the list.\n",
        "\n",
        "The `for` loop works for tuples too."
      ]
    },
    {
      "cell_type": "code",
      "metadata": {
        "colab_type": "code",
        "id": "p4Q9TFIEJZdK",
        "colab": {}
      },
      "source": [
        "my_tuple = (5, 3, 1, -1, -3, -5)\n",
        "for x in my_tuple:\n",
        "  print(x)"
      ],
      "execution_count": 0,
      "outputs": []
    },
    {
      "cell_type": "markdown",
      "metadata": {
        "colab_type": "text",
        "id": "-VfTc3TBJk5r"
      },
      "source": [
        "Dictionaries are a little more interesting. By default, the loop works by indexing the keys."
      ]
    },
    {
      "cell_type": "code",
      "metadata": {
        "colab_type": "code",
        "id": "gSZist0eJrVY",
        "colab": {}
      },
      "source": [
        "my_dictionary = {\n",
        "    \"first_name\": \"Jane\",\n",
        "    \"last_name\": \"Doe\",\n",
        "    \"title\": \"Dr.\"\n",
        "}\n",
        "\n",
        "for k in my_dictionary:\n",
        "  print(f\"{k}: {my_dictionary[k]}\")"
      ],
      "execution_count": 0,
      "outputs": []
    },
    {
      "cell_type": "markdown",
      "metadata": {
        "colab_type": "text",
        "id": "Ir9HX9bSJ827"
      },
      "source": [
        "If only the dictionary's values are of concern to you, it is possible to ask the dictionary to return its values by using the `values()` method."
      ]
    },
    {
      "cell_type": "code",
      "metadata": {
        "colab_type": "code",
        "id": "ktslT2NVKD3o",
        "colab": {}
      },
      "source": [
        "for v in my_dictionary.values():\n",
        "  print(v)"
      ],
      "execution_count": 0,
      "outputs": []
    },
    {
      "cell_type": "markdown",
      "metadata": {
        "colab_type": "text",
        "id": "n4ohtpYDKRPY"
      },
      "source": [
        "If you want both the keys and the values without needing to lookup up `my_dictionary[k]`, you can asked the dictionary for its `items()`."
      ]
    },
    {
      "cell_type": "code",
      "metadata": {
        "colab_type": "code",
        "id": "bGGDRbzPKIf9",
        "colab": {}
      },
      "source": [
        "for (k, v) in my_dictionary.items():\n",
        "  print(f\"{k}: {v}\")"
      ],
      "execution_count": 0,
      "outputs": []
    },
    {
      "cell_type": "markdown",
      "metadata": {
        "colab_type": "text",
        "id": "ivbCdgpXKn0z"
      },
      "source": [
        "You can also use `for` to operate on a string character by character. Each item in a string is a single character."
      ]
    },
    {
      "cell_type": "code",
      "metadata": {
        "colab_type": "code",
        "id": "gt5Ru7HjKkjp",
        "colab": {}
      },
      "source": [
        "for c in \"this string\":\n",
        "  print(c)"
      ],
      "execution_count": 0,
      "outputs": []
    },
    {
      "cell_type": "markdown",
      "metadata": {
        "colab_type": "text",
        "id": "H2y1EkjmK6eL"
      },
      "source": [
        "If you want to iterate over a list or tuple and need the index of each item, you can use the `range` function along with the `len` function to get the indices of the list or tuple."
      ]
    },
    {
      "cell_type": "code",
      "metadata": {
        "colab_type": "code",
        "id": "rGqDXpv6KwYy",
        "colab": {}
      },
      "source": [
        "for i in range(len(my_list)):\n",
        "  print(f\"{i}: {my_list[i]}\")"
      ],
      "execution_count": 0,
      "outputs": []
    },
    {
      "cell_type": "markdown",
      "metadata": {
        "colab_type": "text",
        "id": "7vazK2DeLIxU"
      },
      "source": [
        "`range` is a function that returns a sequence of numbers. It can take one argument, two arguments, or three arguments.\n",
        "\n",
        "When you give one argument to `range`, it is considered to be the end of the range (exclusive)."
      ]
    },
    {
      "cell_type": "code",
      "metadata": {
        "colab_type": "code",
        "id": "7n2oLEzGLXw7",
        "colab": {}
      },
      "source": [
        "for i in range(5):\n",
        "    print(i)"
      ],
      "execution_count": 0,
      "outputs": []
    },
    {
      "cell_type": "markdown",
      "metadata": {
        "colab_type": "text",
        "id": "JNHvCaZcLbOF"
      },
      "source": [
        "When you give two arguments to `range`, they are considered to be the start (inclusive) and end (exclusive) of the sequence."
      ]
    },
    {
      "cell_type": "code",
      "metadata": {
        "colab_type": "code",
        "id": "C8dmRqSPLqQV",
        "colab": {}
      },
      "source": [
        "for i in range(6, 12):\n",
        "    print(i)"
      ],
      "execution_count": 0,
      "outputs": []
    },
    {
      "cell_type": "markdown",
      "metadata": {
        "colab_type": "text",
        "id": "RdmqeIAdLtDK"
      },
      "source": [
        "When you give three arguments to `range`, they are considered to be the start (inclusive), end (exclusive), and step of the sequence of the sequence."
      ]
    },
    {
      "cell_type": "code",
      "metadata": {
        "colab_type": "code",
        "id": "tu933OcnL3eq",
        "colab": {}
      },
      "source": [
        "for i in range(20, 100, 10):\n",
        "    print(i)"
      ],
      "execution_count": 0,
      "outputs": []
    },
    {
      "cell_type": "markdown",
      "metadata": {
        "colab_type": "text",
        "id": "bxhdbYLYL7tY"
      },
      "source": [
        "Ranges are lazily evaluated so even very large ranges will not occupy a significant amount of memory."
      ]
    },
    {
      "cell_type": "markdown",
      "metadata": {
        "id": "rLKvNuQlxkFg",
        "colab_type": "text"
      },
      "source": [
        "`for` loops can also be useful for making a list. For example, if we want to generate a list of random numbers, we could use the `random` library within a `for` loop."
      ]
    },
    {
      "cell_type": "code",
      "metadata": {
        "id": "goP7QXiSiu1v",
        "colab_type": "code",
        "colab": {}
      },
      "source": [
        "import random\n",
        "\n",
        "random_numbers = []\n",
        "for i in range(10):\n",
        "    random_numbers.append(random.randint(0, 10))\n",
        "print(random_numbers)"
      ],
      "execution_count": 0,
      "outputs": []
    },
    {
      "cell_type": "markdown",
      "metadata": {
        "colab_type": "text",
        "id": "iogbsWBcMdbr"
      },
      "source": [
        "## `while` Loops\n",
        "\n",
        "The `while` loop allows you to repeat a block of code until some arbitrary condition is met."
      ]
    },
    {
      "cell_type": "code",
      "metadata": {
        "colab_type": "code",
        "id": "Lo1YXGn8M6XT",
        "colab": {}
      },
      "source": [
        "counter = 0\n",
        "\n",
        "while counter < 5:\n",
        "  print(\"Not done yet, counter = %d\" % counter)\n",
        "  counter += 1\n",
        "\n",
        "print(\"Done, counter = %d\" % counter)"
      ],
      "execution_count": 0,
      "outputs": []
    },
    {
      "cell_type": "markdown",
      "metadata": {
        "colab_type": "text",
        "id": "HhN1wqr1NAQx"
      },
      "source": [
        "`while` loops can be useful in many situations, especially those when you don't know for sure how many times you might need to loop.\n",
        " \n",
        "**Note:** You might have also noticed the `+=` operator in the example above. This is a shortcut that Python provides so that we don't have to write out `counter = counter + 1`. There are equivalents for subtraction, multiplication, division, and more."
      ]
    },
    {
      "cell_type": "markdown",
      "metadata": {
        "colab_type": "text",
        "id": "TwPCggdfN8GP"
      },
      "source": [
        "### `break`\n",
        "\n",
        "There are times when you might want to exit a loop before it is complete. For this case, you can use the `break` statement.\n",
        "\n",
        "In the example below, the `break` statement causes the loop the loop to exit after only 5 iterations, despite having a range of 1,000,000 numbers to iterate."
      ]
    },
    {
      "cell_type": "code",
      "metadata": {
        "colab_type": "code",
        "id": "CHhiRnYTOCqG",
        "colab": {}
      },
      "source": [
        "for x in range(1000000):\n",
        "  if x >= 5:\n",
        "    break\n",
        "  print(x)"
      ],
      "execution_count": 0,
      "outputs": []
    },
    {
      "cell_type": "markdown",
      "metadata": {
        "colab_type": "text",
        "id": "MldYIF3jOTF4"
      },
      "source": [
        "### `continue`\n",
        "\n",
        "`continue` is similar to `break`, but instead of exiting the loop entirely, it just skips the current iteration.\n",
        "\n",
        "Let's see this in action with a loop that prints numbers between 0 and 7 except 4 and 6."
      ]
    },
    {
      "cell_type": "code",
      "metadata": {
        "colab_type": "code",
        "id": "awLAZUqCOfCo",
        "colab": {}
      },
      "source": [
        "for x in range(10):\n",
        "  if x == 4 or x == 6:\n",
        "    continue\n",
        "  print(x)"
      ],
      "execution_count": 0,
      "outputs": []
    },
    {
      "cell_type": "markdown",
      "metadata": {
        "colab_type": "text",
        "id": "u9DuFDG_p2rz"
      },
      "source": [
        "## Functions\n",
        "\n",
        "Functions are a way to organize and re-use your code. Functions allow you to take a block of your code, give it a name, and then call that code by name as many times as you need to.\n",
        "\n",
        "Functions are defined in Python using the `def` statement."
      ]
    },
    {
      "cell_type": "code",
      "metadata": {
        "colab_type": "code",
        "id": "BVpNQ4swQr3u",
        "colab": {}
      },
      "source": [
        "def my_function():\n",
        "  print(\"I wrote a function\")\n",
        "\n",
        "my_function()\n",
        "my_function()\n",
        "my_function()"
      ],
      "execution_count": 0,
      "outputs": []
    },
    {
      "cell_type": "markdown",
      "metadata": {
        "colab_type": "text",
        "id": "6NcFKBi2Q8De"
      },
      "source": [
        "Standard function definitions always begin with the `def` keyword followed by the name of the function. Function naming follows the same rules as variable naming.\n",
        "\n",
        "All function definitions are composed of:\n",
        "\n",
        "- The `def` keyword which tells Python you are about to define a function\n",
        "- Any arguments that you want to pass to the function, wrapped in parentheses (more details on this below)\n",
        "- A colon to end the statement\n",
        "\n",
        "The function's code is indented under the function definition."
      ]
    },
    {
      "cell_type": "markdown",
      "metadata": {
        "colab_type": "text",
        "id": "upFwmsk3R5R4"
      },
      "source": [
        "The arguments that come between the parentheses hold the names of variables that can be used in the function. Function arguments, also called parameters, are used to provide the function with data.\n",
        "\n",
        "**Note:** The reason `my_function` above has nothing within the parentheses is because that particular function has no arguments. A function can have zero or more arguments."
      ]
    },
    {
      "cell_type": "code",
      "metadata": {
        "colab_type": "code",
        "id": "m0Cm8vbzSOxo",
        "colab": {}
      },
      "source": [
        "def doubler(n):\n",
        "  print(n*2)\n",
        "\n",
        "doubler(2)"
      ],
      "execution_count": 0,
      "outputs": []
    },
    {
      "cell_type": "markdown",
      "metadata": {
        "colab_type": "text",
        "id": "tPhUa3P7T9W3"
      },
      "source": [
        "Instead of just printing an output, functions can also return data."
      ]
    },
    {
      "cell_type": "code",
      "metadata": {
        "colab_type": "code",
        "id": "CB1b7Q-dUJkc",
        "colab": {}
      },
      "source": [
        "def doubler(n):\n",
        "  return n*2\n",
        "\n",
        "print(doubler(2))"
      ],
      "execution_count": 0,
      "outputs": []
    },
    {
      "cell_type": "markdown",
      "metadata": {
        "colab_type": "text",
        "id": "dECmjCN-UU0d"
      },
      "source": [
        "Functions can return multiple values as a tuple. The following function returns the minimum and maximum (in that order) of the numbers in a list or tuple."
      ]
    },
    {
      "cell_type": "code",
      "metadata": {
        "colab_type": "code",
        "id": "umXslWytUXkT",
        "colab": {}
      },
      "source": [
        "def min_max(numbers):\n",
        "  min = 0\n",
        "  max = 0\n",
        "  for n in numbers:\n",
        "    if n > max:\n",
        "      max = n\n",
        "    if n < min:\n",
        "      min = n\n",
        "  return min, max\n",
        "\n",
        "print(min_max([-6, 78, -102, 45, 5.98, 3.1243]))"
      ],
      "execution_count": 0,
      "outputs": []
    },
    {
      "cell_type": "markdown",
      "metadata": {
        "colab_type": "text",
        "id": "3sFqKkIuVCfv"
      },
      "source": [
        "It is important to note that when you pass data to a function, the function gets a copy of the data. For numeric, boolean, and string data types, that means that the function can't directly modify the data you passed in. For lists and dictionaries, it is a little more complicated. The function gets a copy of the location/address of the data structure. While the function can change that address, it can modify the data structure.\n",
        "\n",
        "Let's see some examples to solidify the point. In this first example we can see that the number changer can't make any changes to the variable `my_number`."
      ]
    },
    {
      "cell_type": "code",
      "metadata": {
        "colab_type": "code",
        "id": "FMpdW55IVWCJ",
        "colab": {}
      },
      "source": [
        "def number_changer(n):\n",
        "  n = 42\n",
        "\n",
        "my_number = 24\n",
        "number_changer(my_number)\n",
        "print(my_number)"
      ],
      "execution_count": 0,
      "outputs": []
    },
    {
      "cell_type": "markdown",
      "metadata": {
        "colab_type": "text",
        "id": "rGdDthSaWLGt"
      },
      "source": [
        "The same is true for booleans. The function below can't modify `my_bool`."
      ]
    },
    {
      "cell_type": "code",
      "metadata": {
        "colab_type": "code",
        "id": "0IKK0XRaWPxT",
        "colab": {}
      },
      "source": [
        "def bool_changer(b):\n",
        "  b = False\n",
        "\n",
        "my_bool = True\n",
        "bool_changer(my_bool)\n",
        "print(my_bool)"
      ],
      "execution_count": 0,
      "outputs": []
    },
    {
      "cell_type": "markdown",
      "metadata": {
        "colab_type": "text",
        "id": "8cyusJcMWbD9"
      },
      "source": [
        "The same is true for strings."
      ]
    },
    {
      "cell_type": "code",
      "metadata": {
        "colab_type": "code",
        "id": "BiIbX1b2WeGm",
        "colab": {}
      },
      "source": [
        "def string_changer(s):\n",
        "  s = \"Got you!\"\n",
        "\n",
        "my_string = \"You can't get me\"\n",
        "string_changer(my_string)\n",
        "print(my_string)"
      ],
      "execution_count": 0,
      "outputs": []
    },
    {
      "cell_type": "markdown",
      "metadata": {
        "colab_type": "text",
        "id": "2yJ03-RCWrcs"
      },
      "source": [
        "However, lists can be modified. See the example below."
      ]
    },
    {
      "cell_type": "code",
      "metadata": {
        "colab_type": "code",
        "id": "7Wd-GGGeWwBY",
        "colab": {}
      },
      "source": [
        "def list_changer(list_parameter):\n",
        "  list_parameter[0] = \"changed!\"\n",
        "\n",
        "my_list = [1, 2, 3]\n",
        "list_changer(my_list)\n",
        "print(my_list)"
      ],
      "execution_count": 0,
      "outputs": []
    },
    {
      "cell_type": "markdown",
      "metadata": {
        "colab_type": "text",
        "id": "wGqGcQvbXAKJ"
      },
      "source": [
        "What do you think the code below will do?"
      ]
    },
    {
      "cell_type": "code",
      "metadata": {
        "colab_type": "code",
        "id": "D-qahKSCXJj6",
        "colab": {}
      },
      "source": [
        "def list_changer(list_parameter):\n",
        "  list_parameter = [\"this is my list now\"]\n",
        "\n",
        "my_list = [1, 2, 3]\n",
        "list_changer(my_list)\n",
        "print(my_list)"
      ],
      "execution_count": 0,
      "outputs": []
    },
    {
      "cell_type": "markdown",
      "metadata": {
        "id": "E7qbZizOwl1k",
        "colab_type": "text"
      },
      "source": [
        "Functions cannot change the value of the entire list, it can only change individual values within the list."
      ]
    },
    {
      "cell_type": "markdown",
      "metadata": {
        "colab_type": "text",
        "id": "mgArUXxCXT_6"
      },
      "source": [
        "Dictionaries interact with functions exactly like lists do."
      ]
    },
    {
      "cell_type": "code",
      "metadata": {
        "colab_type": "code",
        "id": "-hbfpZx5Xb2E",
        "colab": {}
      },
      "source": [
        "def dictionary_changer(d):\n",
        "  d[\"my_entry\"] = 100\n",
        "\n",
        "my_dictionary = {\"a\": 100, \"b\": \"bee\"}\n",
        "dictionary_changer(my_dictionary)\n",
        "print(my_dictionary)"
      ],
      "execution_count": 0,
      "outputs": []
    },
    {
      "cell_type": "code",
      "metadata": {
        "colab_type": "code",
        "id": "xcpPFrnZXtwM",
        "colab": {}
      },
      "source": [
        "def dictionary_changer(d):\n",
        "  d = {\"this is\": \"my dictionary\"}\n",
        "\n",
        "my_dictionary = {\"a\": 100, \"b\": \"bee\"}\n",
        "dictionary_changer(my_dictionary)\n",
        "print(my_dictionary)"
      ],
      "execution_count": 0,
      "outputs": []
    },
    {
      "cell_type": "markdown",
      "metadata": {
        "colab_type": "text",
        "id": "i7dfFTnqX2O2"
      },
      "source": [
        "So, how can you get a function to modify a number, bool, or string? You can simply assign the return value of the function to the original variable."
      ]
    },
    {
      "cell_type": "code",
      "metadata": {
        "colab_type": "code",
        "id": "xM5nDmNuYA2N",
        "colab": {}
      },
      "source": [
        "def number_changer(n):\n",
        "  return n + 1\n",
        "\n",
        "def boolean_changer(b):\n",
        "  return not b\n",
        "\n",
        "def string_changer(s):\n",
        "  return s.upper()\n",
        "\n",
        "my_number = 42\n",
        "my_bool = False\n",
        "my_string = \"Python\"\n",
        "\n",
        "my_number = number_changer(my_number)\n",
        "my_bool = boolean_changer(my_bool)\n",
        "my_string = string_changer(my_string)\n",
        "\n",
        "print(my_number)\n",
        "print(my_bool)\n",
        "print(my_string)"
      ],
      "execution_count": 0,
      "outputs": []
    },
    {
      "cell_type": "markdown",
      "metadata": {
        "colab_type": "text",
        "id": "w1CW590FbAy4"
      },
      "source": [
        "###  Pass\n",
        "\n",
        "`pass` is a Python keyword that is used as a placeholder when code hasn't been written yet. You'll see `pass` often in your exercises as a placeholder for the code you'll need to write."
      ]
    },
    {
      "cell_type": "code",
      "metadata": {
        "colab_type": "code",
        "id": "_NA64T75bXAU",
        "colab": {}
      },
      "source": [
        "def do_nothing_function():\n",
        "  pass\n",
        "\n",
        "do_nothing_function()"
      ],
      "execution_count": 0,
      "outputs": []
    },
    {
      "cell_type": "markdown",
      "metadata": {
        "id": "o9rgbpgRNRpy",
        "colab_type": "text"
      },
      "source": [
        "### Practice Problem 4: Functions"
      ]
    },
    {
      "cell_type": "code",
      "metadata": {
        "id": "toyYdLMWRT68",
        "colab_type": "code",
        "colab": {}
      },
      "source": [
        "def rock_paper_scissors(player_choice):\n",
        "  # Add code here that takes in the players choice of rock, paper, or scissors\n",
        "  # and plays a game against the computer, which chooses randomly.\n",
        "  # You can copy code from the \"Conditional Decisions\" section if you like.\n",
        "  pass"
      ],
      "execution_count": 0,
      "outputs": []
    },
    {
      "cell_type": "code",
      "metadata": {
        "id": "Vk_s5QMnTf-Y",
        "colab_type": "code",
        "colab": {}
      },
      "source": [
        "rock_paper_scissors(\"rock\")\n",
        "rock_paper_scissors(\"paper\")\n",
        "rock_paper_scissors(\"scissors\")"
      ],
      "execution_count": 0,
      "outputs": []
    },
    {
      "cell_type": "markdown",
      "metadata": {
        "colab_type": "text",
        "id": "D_bKEdYtZdFd"
      },
      "source": [
        "## Comments\n",
        "\n",
        "Comments are simply pieces of your code that will be skipped over when the program is running. While this may sound meaningless, comments are a crucial way for you to communicate with readers of your code (which often includes your future self) about what your code does. Do not underestimate the importance of good code commenting!\n",
        "\n",
        "Python considers the hash (`#`) to be the start of a comment. This hash can be anywhere in a line. Anything after the hash on the same line won't be executed.\n",
        "\n",
        "Let's look at an example."
      ]
    },
    {
      "cell_type": "code",
      "metadata": {
        "colab_type": "code",
        "id": "y6OIz3kWaL5a",
        "colab": {}
      },
      "source": [
        "# This is a comment used to document.\n",
        "# If I need more than one line,\n",
        "# then I need to add more hashes.\n",
        "\n",
        "print(\"Hello\") # Comments don't have to be at the start of a line\n",
        "\n",
        "# print(\"This won't run\")"
      ],
      "execution_count": 0,
      "outputs": []
    },
    {
      "cell_type": "markdown",
      "metadata": {
        "colab_type": "text",
        "id": "rgjTJDgFahSC"
      },
      "source": [
        "# Exercises"
      ]
    },
    {
      "cell_type": "markdown",
      "metadata": {
        "id": "FwMbxGGgfqU3",
        "colab_type": "text"
      },
      "source": [
        "## Practice Problems\n",
        "\n",
        "In case you want to go back and look at the practice problems, we've made some links here to make it easy to go back and find them.\n",
        "\n",
        "*   [Printing](#scrollTo=ED0MmXO9Ytkl)\n",
        "*   [Integers](#scrollTo=fqQQ2FVTN0__)\n",
        "*   [Booleans](#scrollTo=l1kunoRTl5GQ)\n",
        "*   [Functions](#scrollTo=o9rgbpgRNRpy)\n",
        "\n",
        "Once you feel comfortable with the concepts we've covered, you can move on to the challenge problems below."
      ]
    },
    {
      "cell_type": "markdown",
      "metadata": {
        "colab_type": "text",
        "id": "5CORN6WcalLz"
      },
      "source": [
        "## Exercise 1"
      ]
    },
    {
      "cell_type": "markdown",
      "metadata": {
        "colab_type": "text",
        "id": "KlzvSZ13rW19"
      },
      "source": [
        "In the code block below, complete the function by making it return the number cubed."
      ]
    },
    {
      "cell_type": "markdown",
      "metadata": {
        "colab_type": "text",
        "id": "31lkzGYRxu9P"
      },
      "source": [
        "### Student Solution"
      ]
    },
    {
      "cell_type": "code",
      "metadata": {
        "colab_type": "code",
        "id": "-9DYcdrWa3cJ",
        "colab": {}
      },
      "source": [
        "def cube(n):\n",
        "  pass # your code goes here\n",
        "\n",
        "print(cube(5))"
      ],
      "execution_count": 0,
      "outputs": []
    },
    {
      "cell_type": "markdown",
      "metadata": {
        "colab_type": "text",
        "id": "exercise-1-key-1"
      },
      "source": [
        "### Answer Key"
      ]
    },
    {
      "cell_type": "markdown",
      "metadata": {
        "colab_type": "text",
        "id": "exercise-1-solution-1"
      },
      "source": [
        "**Solution**"
      ]
    },
    {
      "cell_type": "code",
      "metadata": {
        "colab_type": "code",
        "id": "zXiy9zOax074",
        "colab": {}
      },
      "source": [
        "def cube(n):\n",
        "  return n**3\n",
        "  # Other solutions include:\n",
        "  # return n*n*n\n",
        "  # return n^3\n",
        "\n",
        "print(cube(5))"
      ],
      "execution_count": 0,
      "outputs": []
    },
    {
      "cell_type": "markdown",
      "metadata": {
        "colab_type": "text",
        "id": "UMhNCyhVxzsr"
      },
      "source": [
        "**Validation**"
      ]
    },
    {
      "cell_type": "code",
      "metadata": {
        "colab_type": "code",
        "id": "gjXCVaI0x2LZ",
        "colab": {}
      },
      "source": [
        "assert list(map(cube, range(11))) == [\n",
        "  0, 1, 8, 27, 64, 125, 216, 343, 512, 729, 1000], \"Wrong result\"\n",
        "\n",
        "\"LGTM\""
      ],
      "execution_count": 0,
      "outputs": []
    },
    {
      "cell_type": "markdown",
      "metadata": {
        "colab_type": "text",
        "id": "vCd361qEbiRB"
      },
      "source": [
        "## Exercise 2"
      ]
    },
    {
      "cell_type": "markdown",
      "metadata": {
        "colab_type": "text",
        "id": "TuYoUIixrY7T"
      },
      "source": [
        "In the code block below, complete the function by making it return the sum of the even numbers of the provided sequence (list or tuple)."
      ]
    },
    {
      "cell_type": "markdown",
      "metadata": {
        "colab_type": "text",
        "id": "XUvoqKWNx5hV"
      },
      "source": [
        "### Student Solution"
      ]
    },
    {
      "cell_type": "code",
      "metadata": {
        "colab_type": "code",
        "id": "TYCBS1xXbsoW",
        "colab": {}
      },
      "source": [
        "def sum_of_evens(seq):\n",
        "  pass # your code goes here\n",
        "\n",
        "print(sum_of_evens([5, 14, 6, -2, 0, 45, 66]))"
      ],
      "execution_count": 0,
      "outputs": []
    },
    {
      "cell_type": "markdown",
      "metadata": {
        "colab_type": "text",
        "id": "exercise-2-key-1"
      },
      "source": [
        "### Answer Key"
      ]
    },
    {
      "cell_type": "markdown",
      "metadata": {
        "colab_type": "text",
        "id": "exercise-2-solution-1"
      },
      "source": [
        "**Solution**"
      ]
    },
    {
      "cell_type": "code",
      "metadata": {
        "colab_type": "code",
        "id": "tbGemFW-x7Z4",
        "colab": {}
      },
      "source": [
        "def sum_of_evens(seq):\n",
        "  output = 0\n",
        "\n",
        "  for x in seq:\n",
        "    if x%2 == 0:\n",
        "      output += x\n",
        "  \n",
        "  return output\n",
        "\n",
        "  # If you are familiar with \"list comprehension\", the following is cleaner.\n",
        "  # return sum([x for x in seq if x%2 == 0])\n",
        "\n",
        "print(sum_of_evens([5, 14, 6, -2, 0, 45, 66]))"
      ],
      "execution_count": 0,
      "outputs": []
    },
    {
      "cell_type": "markdown",
      "metadata": {
        "colab_type": "text",
        "id": "e5hyvH_Sx8xZ"
      },
      "source": [
        "**Validation**"
      ]
    },
    {
      "cell_type": "code",
      "metadata": {
        "colab_type": "code",
        "id": "zGZ6axVlx-XR",
        "colab": {}
      },
      "source": [
        "test_list = [5, 14, 6, -2, 0, 45, 66]\n",
        "assert sum_of_evens(test_list) == 84, \"Wrong Result\"\n",
        "\n",
        "\"LGTM\""
      ],
      "execution_count": 0,
      "outputs": []
    },
    {
      "cell_type": "markdown",
      "metadata": {
        "colab_type": "text",
        "id": "SNzbvnMYbwff"
      },
      "source": [
        "## Exercise 3"
      ]
    },
    {
      "cell_type": "markdown",
      "metadata": {
        "colab_type": "text",
        "id": "VPx_YEOkrbHJ"
      },
      "source": [
        "We've provided a helper function for you that will take a random step, returning either -1 or 1. It is your job to use this function in another function that takes in a starting value `start` and an ending value `end`, goes on a random walk from `start` until it reaches `end`. Your function should return the number of steps required to reach `end`. (Note it may help for debugging to print the value of the random walk at each step.)"
      ]
    },
    {
      "cell_type": "code",
      "metadata": {
        "id": "mFVVIgnneQeX",
        "colab_type": "code",
        "colab": {}
      },
      "source": [
        "import random  \n",
        "\n",
        "def random_step():\n",
        "  # Returns either -1 or 1 at random \n",
        "  return random.choice([-1, 1])"
      ],
      "execution_count": 0,
      "outputs": []
    },
    {
      "cell_type": "markdown",
      "metadata": {
        "colab_type": "text",
        "id": "xfOuW44xx_6C"
      },
      "source": [
        "### Student Solution"
      ]
    },
    {
      "cell_type": "code",
      "metadata": {
        "colab_type": "code",
        "id": "p4ZsxD5vcbsL",
        "colab": {}
      },
      "source": [
        "def random_walks(start, num_steps, num_trials):\n",
        "  pass # your code goes here\n",
        "\n",
        "print(random_walks(0, 5))"
      ],
      "execution_count": 0,
      "outputs": []
    },
    {
      "cell_type": "markdown",
      "metadata": {
        "colab_type": "text",
        "id": "exercise-3-key-1"
      },
      "source": [
        "### Answer Key"
      ]
    },
    {
      "cell_type": "markdown",
      "metadata": {
        "colab_type": "text",
        "id": "exercise-3-solution-1"
      },
      "source": [
        "**Solution**"
      ]
    },
    {
      "cell_type": "code",
      "metadata": {
        "colab_type": "code",
        "id": "hDL7D19lyCyQ",
        "colab": {}
      },
      "source": [
        "def random_walks(start, end):\n",
        "  x = start\n",
        "  counter = 0\n",
        "\n",
        "  while x != end:\n",
        "    x += random_step()\n",
        "    counter += 1\n",
        "    print(counter, x)\n",
        "    \n",
        "  return counter\n",
        "\n",
        "random_walks(0, 5)"
      ],
      "execution_count": 0,
      "outputs": []
    }
  ]
}
