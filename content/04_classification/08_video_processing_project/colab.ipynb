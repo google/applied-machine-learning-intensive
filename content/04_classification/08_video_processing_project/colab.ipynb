{
  "nbformat": 4,
  "nbformat_minor": 0,
  "metadata": {
    "colab": {
      "name": "Video Classification With Pre-Trained Models Project",
      "provenance": [],
      "private_outputs": true,
      "collapsed_sections": [
        "copyright",
        "s5UQCAU90N81"
      ],
      "include_colab_link": true
    },
    "kernelspec": {
      "display_name": "Python 3",
      "name": "python3"
    }
  },
  "cells": [
    {
      "cell_type": "markdown",
      "metadata": {
        "id": "view-in-github",
        "colab_type": "text"
      },
      "source": [
        "<a href=\"https://colab.research.google.com/github/google/applied-machine-learning-intensive/blob/master/content/04_classification/08_video_processing_project/colab.ipynb\" target=\"_parent\"><img src=\"https://colab.research.google.com/assets/colab-badge.svg\" alt=\"Open In Colab\"/></a>"
      ]
    },
    {
      "cell_type": "markdown",
      "metadata": {
        "colab_type": "text",
        "id": "copyright"
      },
      "source": [
        "#### Copyright 2020 Google LLC."
      ]
    },
    {
      "cell_type": "code",
      "metadata": {
        "colab_type": "code",
        "id": "khlO4Bu21oZ4",
        "colab": {}
      },
      "source": [
        "# Licensed under the Apache License, Version 2.0 (the \"License\");\n",
        "# you may not use this file except in compliance with the License.\n",
        "# You may obtain a copy of the License at\n",
        "#\n",
        "# https://www.apache.org/licenses/LICENSE-2.0\n",
        "#\n",
        "# Unless required by applicable law or agreed to in writing, software\n",
        "# distributed under the License is distributed on an \"AS IS\" BASIS,\n",
        "# WITHOUT WARRANTIES OR CONDITIONS OF ANY KIND, either express or implied.\n",
        "# See the License for the specific language governing permissions and\n",
        "# limitations under the License."
      ],
      "execution_count": 0,
      "outputs": []
    },
    {
      "cell_type": "markdown",
      "metadata": {
        "colab_type": "text",
        "id": "AlzIlBsScJJ_"
      },
      "source": [
        "# Video Classification with Pre-Trained Models Project"
      ]
    },
    {
      "cell_type": "markdown",
      "metadata": {
        "colab_type": "text",
        "id": "nTirVS4FWaPx"
      },
      "source": [
        "In this project we will import a pre-existing model that recognizes objects and use the model to identify those objects in a video. We'll edit the video to draw boxes around the identified object, and then we'll reassemble the video so the boxes are shown around objects in the video."
      ]
    },
    {
      "cell_type": "markdown",
      "metadata": {
        "colab_type": "text",
        "id": "YTVUYxPwcHhp"
      },
      "source": [
        "# Exercises"
      ]
    },
    {
      "cell_type": "markdown",
      "metadata": {
        "colab_type": "text",
        "id": "LdIOgOHP1ces"
      },
      "source": [
        "## Exercise 1: Coding"
      ]
    },
    {
      "cell_type": "markdown",
      "metadata": {
        "colab_type": "text",
        "id": "jhTEOK1ZmqN8"
      },
      "source": [
        "You will process a video frame by frame, identify objects in each frame, and draw a bounding box with a label around each car in the video.\n",
        " \n",
        "Use the [SSD MobileNet V1 Coco](https://github.com/tensorflow/models/blob/master/research/object_detection/g3doc/detection_model_zoo.md) (*ssd_mobilenet_v1_coco*) model. The video you'll process can be found [on Pixabay](https://pixabay.com/videos/cars-motorway-speed-motion-traffic-1900/). The 640x360 version of the video is smallest and easiest to handle, though any size should work since you must scale down the images for processing.\n",
        " \n",
        "Your program should:\n",
        " \n",
        "* Read in a video file (use the one in this colab if you want)\n",
        "* Load the TensorFlow model linked above\n",
        "* Loop over each frame of the video\n",
        "* Scale the frame down to a size the model expects\n",
        "* Feed the frame to the model\n",
        "* Loop over detections made by the model\n",
        "* If the detection score is above some threshold, draw a bounding box onto the frame and put a label in or near the box\n",
        "* Write the frame back to a new video\n",
        " \n",
        "Some tips:\n",
        " \n",
        "* Processing an entire video is slow, so consider truncating the video or skipping over frames during development. Skipping frames will make the video choppy. But you'll be able to see a wider variety of images than you would with a truncated video with all of the original frames in the clip.\n",
        "* The model expects a 300x300 image. You'll likely have to scale your frames to fit the model. When you get a bounding box, that box is relative to the scaled image. You'll need to scale the bounding box out to the original image size.\n",
        "* Don't start by trying to process the video. Instead, capture one frame and work with it until you are happy with your object detection, bounding boxes, and labels. Once you get those done, use the same logic on the other frames of the video.\n",
        "* The [Coco labels file](https://github.com/nightrome/cocostuff/blob/master/labels.txt) can be used to identify classified objects.\n",
        " "
      ]
    },
    {
      "cell_type": "markdown",
      "metadata": {
        "colab_type": "text",
        "id": "7XM35vYWSbim"
      },
      "source": [
        "### **Student Solution**"
      ]
    },
    {
      "cell_type": "code",
      "metadata": {
        "colab_type": "code",
        "id": "ivTzfzQN5jDk",
        "colab": {}
      },
      "source": [
        "# Your code goes here"
      ],
      "execution_count": 0,
      "outputs": []
    },
    {
      "cell_type": "markdown",
      "metadata": {
        "id": "VEGDiC-IhcrM",
        "colab_type": "text"
      },
      "source": [
        "---"
      ]
    },
    {
      "cell_type": "markdown",
      "metadata": {
        "colab_type": "text",
        "id": "s5UQCAU90N81"
      },
      "source": [
        "### Answer Key"
      ]
    },
    {
      "cell_type": "markdown",
      "metadata": {
        "id": "0qhgz8jBYJdU",
        "colab_type": "text"
      },
      "source": [
        "First download the smallest version of [this video](https://pixabay.com/videos/cars-motorway-speed-motion-traffic-1900/), and then upload it to the lab with the name `cars.mp4`.\n",
        "\n",
        "Now we can download our pre-trained model and extract it."
      ]
    },
    {
      "cell_type": "code",
      "metadata": {
        "id": "mrdfBKuiVK4y",
        "colab_type": "code",
        "colab": {}
      },
      "source": [
        "import os\n",
        "import shutil\n",
        "import tarfile\n",
        "import urllib.request\n",
        "\n",
        "base_url = 'http://download.tensorflow.org/models/object_detection/'\n",
        "file_name = 'ssd_mobilenet_v1_coco_2018_01_28.tar.gz'\n",
        "\n",
        "url = base_url + file_name\n",
        "\n",
        "urllib.request.urlretrieve(url, file_name)\n",
        "\n",
        "dir_name = file_name[0:-len('.tar.gz')]\n",
        "\n",
        "if os.path.exists(dir_name):\n",
        "  shutil.rmtree(dir_name) \n",
        "\n",
        "tarfile.open(file_name, 'r:gz').extractall('./')\n",
        "\n",
        "os.listdir(dir_name)"
      ],
      "execution_count": 0,
      "outputs": []
    },
    {
      "cell_type": "markdown",
      "metadata": {
        "id": "aZ5__41pcUhy",
        "colab_type": "text"
      },
      "source": [
        "Next we will download a labels file, so we can more easily label our images."
      ]
    },
    {
      "cell_type": "code",
      "metadata": {
        "id": "CGROkmw5bzpU",
        "colab_type": "code",
        "colab": {}
      },
      "source": [
        "base_url = 'https://raw.githubusercontent.com/nightrome/cocostuff/master/'\n",
        "file_name = 'labels.txt'\n",
        "\n",
        "url = base_url + file_name\n",
        "\n",
        "urllib.request.urlretrieve(url, file_name)\n",
        "\n",
        "with open(file_name, 'r') as f:\n",
        "    labels = f.readlines()\n",
        "\n",
        "# Remove the indexes\n",
        "labels = list(map(lambda x: x[x.index(' '):], labels))\n",
        "\n",
        "# Strip leading and trailing whitespace\n",
        "labels = list(map(lambda x: x.strip(), labels))\n",
        "\n",
        "print(len(labels))\n",
        "print(labels[50])"
      ],
      "execution_count": 0,
      "outputs": []
    },
    {
      "cell_type": "markdown",
      "metadata": {
        "id": "ALVfx87dYxUk",
        "colab_type": "text"
      },
      "source": [
        "Next we can load the graph and wrap it."
      ]
    },
    {
      "cell_type": "code",
      "metadata": {
        "id": "v1UVpNX-YqMG",
        "colab_type": "code",
        "colab": {}
      },
      "source": [
        "import tensorflow as tf\n",
        "\n",
        "frozen_graph = os.path.join(dir_name, 'frozen_inference_graph.pb')\n",
        "\n",
        "with tf.io.gfile.GFile(frozen_graph, \"rb\") as f:\n",
        "    graph_def = tf.compat.v1.GraphDef()\n",
        "    loaded = graph_def.ParseFromString(f.read())\n",
        "\n",
        "outputs = (\n",
        "    'num_detections:0',\n",
        "    'detection_classes:0',\n",
        "    'detection_scores:0',\n",
        "    'detection_boxes:0',\n",
        ")\n",
        "\n",
        "def wrap_graph(graph_def, inputs, outputs, print_graph=False):\n",
        "    wrapped = tf.compat.v1.wrap_function(\n",
        "        lambda: tf.compat.v1.import_graph_def(graph_def, name=\"\"), [])\n",
        "\n",
        "    return wrapped.prune(\n",
        "        tf.nest.map_structure(wrapped.graph.as_graph_element, inputs),\n",
        "        tf.nest.map_structure(wrapped.graph.as_graph_element, outputs))\n",
        "    \n",
        "model = wrap_graph(graph_def=graph_def,\n",
        "                   inputs=[\"image_tensor:0\"],\n",
        "                   outputs=outputs)"
      ],
      "execution_count": 0,
      "outputs": []
    },
    {
      "cell_type": "markdown",
      "metadata": {
        "id": "-_SapEMbeJ-X",
        "colab_type": "text"
      },
      "source": [
        "Next we can write a function that adds bounding boxes and labels to the detected objects in a frame."
      ]
    },
    {
      "cell_type": "code",
      "metadata": {
        "id": "OtqCqj2DXedy",
        "colab_type": "code",
        "colab": {}
      },
      "source": [
        "def analyzeDetections(image, detections, show=True):\n",
        "  \"\"\"\n",
        "  Display objects that come from the detections array, plot and label them\n",
        "  \"\"\"\n",
        "  # num_detections:0\n",
        "  detection_count = int(detections[0][0])\n",
        "  print(\"Found\", detection_count, \"objects\")\n",
        "  \n",
        "  # Get original image size\n",
        "  height, width, _ = image.shape\n",
        "  \n",
        "  for i in range(detection_count):\n",
        "    # detection_scores:0\n",
        "    confidence_score = detections[2][0][i]\n",
        "    \n",
        "    if (confidence_score < .8):\n",
        "      continue\n",
        "    \n",
        "    # detection_boxes:0\n",
        "    box = detections[3][0][i]\n",
        "    box_top = box[0]\n",
        "    box_left = box[1]\n",
        "    box_bottom = box[2]\n",
        "    box_right = box[3]\n",
        "    \n",
        "    scaled_left, scaled_right = int(box_left * width), int(box_right * width)\n",
        "    scaled_top, scaled_bottom = int(box_top * height), int(box_bottom * height)\n",
        "\n",
        "    # detection_classes:0\n",
        "    label_id = int(detections[1][0][i])\n",
        "    label_name = labels[label_id]\n",
        "    \n",
        "    print(\"Found label {} (id {}) with a confidence of {}. Bounding box [top: {}, left: {}, bottom: {}, right: {}]\".format(\n",
        "        label_name, label_id, confidence_score, box_top, box_left, box_bottom, box_right))\n",
        "    \n",
        "    # Display the bounding box on the image\n",
        "    cv.rectangle(image, (scaled_left, scaled_top), \\\n",
        "                 (scaled_right, scaled_bottom), (255, 0, 0), thickness=2)\n",
        "    \n",
        "    # Add text with black stroke\n",
        "    cv.putText(image, \"{}\".format(label_name), \\\n",
        "               (scaled_left + 50, scaled_top + 50), cv.FONT_HERSHEY_SIMPLEX, \\\n",
        "               1.0, [0, 0, 0], 6)\n",
        "    cv.putText(image, \"{}\".format(label_name), \\\n",
        "               (scaled_left + 50, scaled_top + 50), cv.FONT_HERSHEY_SIMPLEX, \\\n",
        "               1.0, [255, 255, 255], 2)\n",
        "    \n",
        "  if (show):\n",
        "    plt.imshow(image)\n",
        "    plt.show()\n",
        "    \n",
        "  return image"
      ],
      "execution_count": 0,
      "outputs": []
    },
    {
      "cell_type": "markdown",
      "metadata": {
        "id": "BGGtgL5be4zc",
        "colab_type": "text"
      },
      "source": [
        "And finally, we detect objects in each frame and, frame by frame, write a new video with labeled output."
      ]
    },
    {
      "cell_type": "code",
      "metadata": {
        "id": "YLjKrtQeXTTL",
        "colab_type": "code",
        "colab": {}
      },
      "source": [
        "import cv2 as cv\n",
        "\n",
        "cap = cv.VideoCapture('cars.mp4')\n",
        "\n",
        "height = int(cap.get(cv.CAP_PROP_FRAME_HEIGHT))\n",
        "width = int(cap.get(cv.CAP_PROP_FRAME_WIDTH))\n",
        "fps = cap.get(cv.CAP_PROP_FPS)\n",
        "total_frames = int(cap.get(cv.CAP_PROP_FRAME_COUNT))\n",
        "\n",
        "fourcc = cv.VideoWriter_fourcc(*'MP4V')\n",
        "output = cv.VideoWriter('labeled.mp4', fourcc, fps, (width, height))\n",
        "\n",
        "for i in range(0, total_frames):\n",
        "  if i % 100 == 0:\n",
        "    print(i, total_frames)\n",
        "  \n",
        "  cap.set(cv.CAP_PROP_POS_FRAMES, i)\n",
        "  ret, frame = cap.read()\n",
        "\n",
        "  if not ret:\n",
        "    raise Exception(\"Problem reading frame\", i, \" from video\")\n",
        "\n",
        "  tensor = tf.convert_to_tensor([frame], dtype=tf.uint8)\n",
        "\n",
        "  detections = model(tensor)\n",
        "  output.write(analyzeDetections(frame, detections, show=False))\n",
        "  \n",
        "cap.release()\n",
        "output.release()"
      ],
      "execution_count": 0,
      "outputs": []
    },
    {
      "cell_type": "markdown",
      "metadata": {
        "id": "TPDVLk20dppw",
        "colab_type": "text"
      },
      "source": [
        "---"
      ]
    },
    {
      "cell_type": "markdown",
      "metadata": {
        "colab_type": "text",
        "id": "HniKdSXg0YHR"
      },
      "source": [
        "## Exercise 2: Ethical Implications"
      ]
    },
    {
      "cell_type": "markdown",
      "metadata": {
        "colab_type": "text",
        "id": "W4FvC1Aa0ZT5"
      },
      "source": [
        "Even the most basic models have the potential to affect segments of the population in different ways. It is important to consider how your model might positively and negatively affect different types of users.\n",
        "\n",
        "In this section of the project, you will reflect on the positive and negative implications of your model. Frame the context of your model creation using this narrative:\n",
        "\n",
        "> The city of Seattle is attempting to reduce traffic congestion in its downtown area. As part of this project, they plan to allow each local driver one free trip to downtown Seattle per week. After that, the driver will have to pay a $50 toll for each extra day per week driven. As an early proof of concept for this project, your team is tasked with using machine learning to correctly identify automobiles on the road. The next phase of the project will involve detecting license plate numbers and then cross-referencing that data with RFID chips that should be mounted in all local drivers' cars."
      ]
    },
    {
      "cell_type": "markdown",
      "metadata": {
        "colab_type": "text",
        "id": "lkyzwVQr0brd"
      },
      "source": [
        "### **Student Solution**"
      ]
    },
    {
      "cell_type": "markdown",
      "metadata": {
        "colab_type": "text",
        "id": "gy4I2vG60ebd"
      },
      "source": [
        "**Positive Impact**\n",
        "\n",
        "Your model is trying to solve a problem. Think about who will benefit from that problem being solved and write a brief narrative about how the model will help."
      ]
    },
    {
      "cell_type": "markdown",
      "metadata": {
        "colab_type": "text",
        "id": "k59MK1Ah0fWy"
      },
      "source": [
        "> *Hypothetical entities will benefit because...*\n"
      ]
    },
    {
      "cell_type": "markdown",
      "metadata": {
        "colab_type": "text",
        "id": "gzqkrLnk0hMU"
      },
      "source": [
        "**Negative Impact**\n",
        "\n",
        "Models rarely benefit everyone equally. Think about who might be negatively impacted by the predictions your model is making. This person(s) might not be directly using the model, but they might be impacted indirectly."
      ]
    },
    {
      "cell_type": "markdown",
      "metadata": {
        "colab_type": "text",
        "id": "Hefa1JdP0kj3"
      },
      "source": [
        "> *Hypothetical entity will be negatively impacted because...*"
      ]
    },
    {
      "cell_type": "markdown",
      "metadata": {
        "colab_type": "text",
        "id": "Uax2HAzd0mHX"
      },
      "source": [
        "**Bias**\n",
        "\n",
        "Models can be biased for many reasons. The bias can come from the data used to build the model (e.g., sampling, data collection methods, available sources) and/or from the interpretation of the predictions generated by the model.\n",
        "\n",
        "Think of at least two ways bias might have been introduced to your model and explain both below."
      ]
    },
    {
      "cell_type": "markdown",
      "metadata": {
        "colab_type": "text",
        "id": "6bJGm-qs0oQV"
      },
      "source": [
        "> *One source of bias in the model could be...*\n",
        "\n",
        "> *Another source of bias in the model could be...*"
      ]
    },
    {
      "cell_type": "markdown",
      "metadata": {
        "colab_type": "text",
        "id": "Ybb1zAkC0p2e"
      },
      "source": [
        "**Changing the Dataset to Mitigate Bias**\n",
        "\n",
        "Having bias in your dataset is one of the primary ways in which bias is introduced to a machine learning model. Look back at the input data you fed to your model. Think about how you might change something about the data to reduce bias in your model.\n",
        "\n",
        "What change or changes could you make to reduce the bias in your dataset? Consider the data you have, how and where it was collected, and what other sources of data might be used to reduce bias.\n",
        "\n",
        "Write a summary of changes that could be made to your input data."
      ]
    },
    {
      "cell_type": "markdown",
      "metadata": {
        "colab_type": "text",
        "id": "UFsnF4_h08DD"
      },
      "source": [
        "> *Since the data has potential bias A we can adjust...*"
      ]
    },
    {
      "cell_type": "markdown",
      "metadata": {
        "colab_type": "text",
        "id": "ChEJbhXA02pW"
      },
      "source": [
        "**Changing the Model to Mitigate Bias**\n",
        "\n",
        "Is there any way to reduce bias by changing the model itself? This could include modifying algorithmic choices, tweaking hyperparameters, etc.\n",
        "\n",
        "Write a brief summary of changes you could make to help reduce bias in your model."
      ]
    },
    {
      "cell_type": "markdown",
      "metadata": {
        "colab_type": "text",
        "id": "kEAhgO_U0p8Y"
      },
      "source": [
        "> *Since the model has potential bias A, we can adjust...*"
      ]
    },
    {
      "cell_type": "markdown",
      "metadata": {
        "colab_type": "text",
        "id": "rShB5BQv0wix"
      },
      "source": [
        "**Mitigating Bias Downstream**\n",
        "\n",
        "Models make predictions. Downstream processes make decisions. What processes and/or rules should be in place for people and systems interpreting and acting on the results of your model to reduce bias? Describe these rules and/or processes below."
      ]
    },
    {
      "cell_type": "markdown",
      "metadata": {
        "colab_type": "text",
        "id": "C__BwBP-00HN"
      },
      "source": [
        "> *Since the predictions have potential bias A, we can adjust...*"
      ]
    },
    {
      "cell_type": "markdown",
      "metadata": {
        "id": "1L_4RNXphYtI",
        "colab_type": "text"
      },
      "source": [
        "---"
      ]
    },
    {
      "cell_type": "markdown",
      "metadata": {
        "id": "8TM9YpcIeAM5",
        "colab_type": "text"
      },
      "source": [
        "### Answer Key"
      ]
    },
    {
      "cell_type": "markdown",
      "metadata": {
        "id": "EX8ZvwLReNFq",
        "colab_type": "text"
      },
      "source": [
        "*There are many acceptable solutions to this section. We are looking for critical thinking. An example solution follows.*"
      ]
    },
    {
      "cell_type": "markdown",
      "metadata": {
        "id": "fG4WzFgdeUDB",
        "colab_type": "text"
      },
      "source": [
        "**Positive Impact**\n",
        "\n",
        "Your model is trying to solve a problem. Think about who will benefit from that problem being solved, and write a brief narrative about how the model will help."
      ]
    },
    {
      "cell_type": "markdown",
      "metadata": {
        "id": "S2PUffI7fsOS",
        "colab_type": "text"
      },
      "source": [
        "> *There are many potential beneficiaries. The government might make more money. Bikers might have less car traffic to deal with. Road workers might have to do fewer repairs.*"
      ]
    },
    {
      "cell_type": "markdown",
      "metadata": {
        "id": "apGc2fgsgJGI",
        "colab_type": "text"
      },
      "source": [
        "**Negative Impact**\n",
        "\n",
        "Models rarely benefit everyone equally. Think about who might be negatively impacted by the predictions your model is making. This person(s) might not be directly using the model, but they might be impacted indirectly."
      ]
    },
    {
      "cell_type": "markdown",
      "metadata": {
        "id": "PDf6ecABgKkF",
        "colab_type": "text"
      },
      "source": [
        "> *Obviously people who have to commute via car will be negatively impacted. Also, paid parking lots will suffer due to this model.*"
      ]
    },
    {
      "cell_type": "markdown",
      "metadata": {
        "id": "aLx_EUjFgda7",
        "colab_type": "text"
      },
      "source": [
        "**Bias**\n",
        "\n",
        "Models can be biased for many reasons. The bias can come from the data used to build the model (e.g., sampling, data collection methods, available sources) and from the interpretation of the predictions generated by the model.\n",
        "\n",
        "Think of at least two ways bias might have been introduced to your model, and explain both below."
      ]
    },
    {
      "cell_type": "markdown",
      "metadata": {
        "id": "Axm_ZBICggLc",
        "colab_type": "text"
      },
      "source": [
        "> *The dataset, common objects in context, is curated by humans. The images in the dataset are submitted by humans. Their bias and data collection limitations can bleed into the dataset. For instance, if images of vehicles are taken by people living in cities, then there might be less data about trucks or other types of vehicles.*\n",
        "\n",
        "> *The choice of \"common objects\" is itself a source of bias. Who chose these objects? Are they globally common?*"
      ]
    },
    {
      "cell_type": "markdown",
      "metadata": {
        "id": "XILp4WxBhoib",
        "colab_type": "text"
      },
      "source": [
        "**Changing the Dataset to Mitigate Bias**\n",
        "\n",
        "Having bias in your dataset is one of the primary ways in which bias is introduced to a machine learning model. Look back at the input data that you fed to your model. Think about how you might change something about the data to reduce bias in your model.\n",
        "\n",
        "What change or changes could you make to reduce the bias in your dataset? Consider the data that you have, how and where it was collected, and what other sources of data might be used to reduce bias.\n",
        "\n",
        "Write a summary of changes that could be made to your input data."
      ]
    },
    {
      "cell_type": "markdown",
      "metadata": {
        "id": "RSETSY62hqKT",
        "colab_type": "text"
      },
      "source": [
        "> *More and more diverse data is one change that could be made. The more we add and curate from different sources, the more balanced the model becomes.*"
      ]
    },
    {
      "cell_type": "markdown",
      "metadata": {
        "id": "cLuEPVoLh22Z",
        "colab_type": "text"
      },
      "source": [
        "**Changing the Model to Mitigate Bias**\n",
        "\n",
        "Is there any way to reduce bias by changing the model itself? This could include modifying algorithmic choices, tweaking hyperparameters, etc.\n",
        "\n",
        "Write a brief summary of changes you could make to help reduce bias in your model."
      ]
    },
    {
      "cell_type": "markdown",
      "metadata": {
        "id": "i45ES-wVh3p8",
        "colab_type": "text"
      },
      "source": [
        "> *The most obvious fix for this model is to actually pay attention to the confidences. There are probably some classifications that are being made that should be skipped.*"
      ]
    },
    {
      "cell_type": "markdown",
      "metadata": {
        "id": "Par6Q4cqiFdJ",
        "colab_type": "text"
      },
      "source": [
        "**Mitigating Bias Downstream**\n",
        "\n",
        "Models make predictions. Downstream processes make decisions. What processes and/or rules should be in place for people and systems interpreting and acting on the results of your model to reduce bias? Describe these below."
      ]
    },
    {
      "cell_type": "markdown",
      "metadata": {
        "id": "ZryTXTtuiGWf",
        "colab_type": "text"
      },
      "source": [
        "> *This was already alluded to in the lab, but one way to minimize bias is to cross check the model. The model will identify vehicles and then cross check that with license and RFID data.*"
      ]
    },
    {
      "cell_type": "markdown",
      "metadata": {
        "id": "hyO-DLr1iRei",
        "colab_type": "text"
      },
      "source": [
        "---"
      ]
    }
  ]
}
