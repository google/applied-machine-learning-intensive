{
  "nbformat": 4,
  "nbformat_minor": 0,
  "metadata": {
    "colab": {
      "name": "Basic Classification Project",
      "provenance": [],
      "private_outputs": true,
      "collapsed_sections": [
        "copyright",
        "xSJsNKccqC15",
        "exercise-1-key-1",
        "exercise-2-key-1",
        "exercise-3-key-1"
      ],
      "toc_visible": true,
      "include_colab_link": true
    },
    "kernelspec": {
      "display_name": "Python 3",
      "name": "python3"
    }
  },
  "cells": [
    {
      "cell_type": "markdown",
      "metadata": {
        "id": "view-in-github",
        "colab_type": "text"
      },
      "source": [
        "<a href=\"https://colab.research.google.com/github/google/applied-machine-learning-intensive/blob/master/content/04_classification/04_classification_project/colab.ipynb\" target=\"_parent\"><img src=\"https://colab.research.google.com/assets/colab-badge.svg\" alt=\"Open In Colab\"/></a>"
      ]
    },
    {
      "cell_type": "markdown",
      "metadata": {
        "colab_type": "text",
        "id": "copyright"
      },
      "source": [
        "#### Copyright 2020 Google LLC."
      ]
    },
    {
      "cell_type": "code",
      "metadata": {
        "colab_type": "code",
        "id": "-Xt6PXeVjxQN",
        "colab": {}
      },
      "source": [
        "# Licensed under the Apache License, Version 2.0 (the \"License\");\n",
        "# you may not use this file except in compliance with the License.\n",
        "# You may obtain a copy of the License at\n",
        "#\n",
        "# https://www.apache.org/licenses/LICENSE-2.0\n",
        "#\n",
        "# Unless required by applicable law or agreed to in writing, software\n",
        "# distributed under the License is distributed on an \"AS IS\" BASIS,\n",
        "# WITHOUT WARRANTIES OR CONDITIONS OF ANY KIND, either express or implied.\n",
        "# See the License for the specific language governing permissions and\n",
        "# limitations under the License."
      ],
      "execution_count": 0,
      "outputs": []
    },
    {
      "cell_type": "markdown",
      "metadata": {
        "colab_type": "text",
        "id": "c2hPzRb6j_CA"
      },
      "source": [
        "# Classification Project"
      ]
    },
    {
      "cell_type": "markdown",
      "metadata": {
        "colab_type": "text",
        "id": "-Xt6PXeVjxQX"
      },
      "source": [
        "In this project you will apply what you have learned about classification and TensorFlow to complete a project from Kaggle. The challenge is to achieve a high accuracy score while trying to predict which passengers survived the Titanic ship crash. After building your model, you will upload your predictions to Kaggle and submit the score that you get."
      ]
    },
    {
      "cell_type": "markdown",
      "metadata": {
        "colab_type": "text",
        "id": "HDzCkRNv8Kmz"
      },
      "source": [
        "## The Titanic Dataset\n",
        "\n",
        "[Kaggle](https://www.kaggle.com) has a [dataset](https://www.kaggle.com/c/titanic/data) containing the passenger list on the Titanic. The data contains passenger features such as age, gender, ticket class, as well as whether or not they survived.\n",
        "\n",
        "Your job is to create a binary classifier using TensorFlow to determine if a passenger survived or not. The `Survived` column lets you know if the person survived. Then, upload your predictions to Kaggle and submit your accuracy score at the end of this Colab, along with a brief conclusion.\n"
      ]
    },
    {
      "cell_type": "markdown",
      "metadata": {
        "id": "z4IG3YojoVmk",
        "colab_type": "text"
      },
      "source": [
        "To get the dataset, you'll need to accept the competition's rules by clicking the \"I understand and accept\" button on the [competition rules page](https://www.kaggle.com/c/titanic/rules). Then upload your `kaggle.json` file and run the code below."
      ]
    },
    {
      "cell_type": "code",
      "metadata": {
        "id": "IeVKtKt9oTmI",
        "colab_type": "code",
        "colab": {}
      },
      "source": [
        "! chmod 600 kaggle.json && (ls ~/.kaggle 2>/dev/null || mkdir ~/.kaggle) && cp kaggle.json ~/.kaggle/ && echo 'Done'\n",
        "! kaggle competitions download -c titanic\n",
        "! ls"
      ],
      "execution_count": 0,
      "outputs": []
    },
    {
      "cell_type": "markdown",
      "metadata": {
        "id": "v4VxbBaUpnB6",
        "colab_type": "text"
      },
      "source": [
        "**Note: If you see a \"403 - Forbidden\" error above, you still need to click \"I understand and accept\" on the [competition rules page](https://www.kaggle.com/c/titanic/rules).**\n",
        "\n",
        "Three files are downloaded:\n",
        "\n",
        "1. `train.csv`: training data (contains features and targets)\n",
        "1. `test.csv`: feature data used to make predictions to send to Kaggle\n",
        "1. `gender_submission.csv`: an example competition submission file"
      ]
    },
    {
      "cell_type": "markdown",
      "metadata": {
        "colab_type": "text",
        "id": "-U_zk4L_HpWJ"
      },
      "source": [
        "## Step 1: Exploratory Data Analysis"
      ]
    },
    {
      "cell_type": "markdown",
      "metadata": {
        "id": "4QzpYWY7o0L4",
        "colab_type": "text"
      },
      "source": [
        "Perform exploratory data analysis and data preprocessing. Use as many text and code blocks as you need to explore the data. Note any findings. Repair any data issues you find."
      ]
    },
    {
      "cell_type": "markdown",
      "metadata": {
        "id": "DhhX2RJEyADd",
        "colab_type": "text"
      },
      "source": [
        "**Student Solution**"
      ]
    },
    {
      "cell_type": "code",
      "metadata": {
        "id": "jR0P7qrDx-n9",
        "colab_type": "code",
        "colab": {}
      },
      "source": [
        "# Your code goes here"
      ],
      "execution_count": 0,
      "outputs": []
    },
    {
      "cell_type": "markdown",
      "metadata": {
        "id": "GRiOrGGW6wW6",
        "colab_type": "text"
      },
      "source": [
        "---"
      ]
    },
    {
      "cell_type": "markdown",
      "metadata": {
        "id": "xSJsNKccqC15",
        "colab_type": "text"
      },
      "source": [
        "### Answer Key"
      ]
    },
    {
      "cell_type": "markdown",
      "metadata": {
        "id": "Y-_oL3K6qYsk",
        "colab_type": "text"
      },
      "source": [
        "We first load and describe the data."
      ]
    },
    {
      "cell_type": "code",
      "metadata": {
        "id": "0VjkdAj5qKtr",
        "colab_type": "code",
        "colab": {}
      },
      "source": [
        "import pandas as pd\n",
        "\n",
        "df = pd.read_csv('train.csv')\n",
        "\n",
        "df.describe(include='all')"
      ],
      "execution_count": 0,
      "outputs": []
    },
    {
      "cell_type": "markdown",
      "metadata": {
        "id": "kC1rPaGUqdG0",
        "colab_type": "text"
      },
      "source": [
        "We can see a few columns seem to be missing data, including `Age`, `Cabin` and `Embarked`. `Name` is likely not very useful, nor are `PassengerId` and `Ticket`."
      ]
    },
    {
      "cell_type": "markdown",
      "metadata": {
        "id": "Z6XIOzAZrYRS",
        "colab_type": "text"
      },
      "source": [
        "`Survived` is our target. Let's make sure that it has two unique values."
      ]
    },
    {
      "cell_type": "code",
      "metadata": {
        "id": "gKI3OzeorfJF",
        "colab_type": "code",
        "colab": {}
      },
      "source": [
        "TARGET = 'Survived'\n",
        "df[TARGET].hist()"
      ],
      "execution_count": 0,
      "outputs": []
    },
    {
      "cell_type": "markdown",
      "metadata": {
        "id": "1yLDsHXEq4-b",
        "colab_type": "text"
      },
      "source": [
        "`PClass` is the passenger cabin class. Let's check it out."
      ]
    },
    {
      "cell_type": "code",
      "metadata": {
        "id": "FaO1KS_Lrym7",
        "colab_type": "code",
        "colab": {}
      },
      "source": [
        "df['Pclass'].hist()"
      ],
      "execution_count": 0,
      "outputs": []
    },
    {
      "cell_type": "markdown",
      "metadata": {
        "id": "vYHUTivesGIM",
        "colab_type": "text"
      },
      "source": [
        "This seems to be a categorical column with each number representing a class of service."
      ]
    },
    {
      "cell_type": "markdown",
      "metadata": {
        "id": "RRhssEtSsPHr",
        "colab_type": "text"
      },
      "source": [
        " Next up is `Sex`."
      ]
    },
    {
      "cell_type": "code",
      "metadata": {
        "id": "ibww3MrRsRQl",
        "colab_type": "code",
        "colab": {}
      },
      "source": [
        "df['Sex'].hist()"
      ],
      "execution_count": 0,
      "outputs": []
    },
    {
      "cell_type": "markdown",
      "metadata": {
        "id": "i5yrSlFIsXLA",
        "colab_type": "text"
      },
      "source": [
        "Another categorical column. This one has strings instead of numbers. We'll need to change this later once we decide on the type of model that we are creating."
      ]
    },
    {
      "cell_type": "markdown",
      "metadata": {
        "id": "qKvx64FxsirP",
        "colab_type": "text"
      },
      "source": [
        "`Age` is next. It is definitely missing values. Let's fill those in with the mean age and then see what the data looks like."
      ]
    },
    {
      "cell_type": "code",
      "metadata": {
        "id": "MISiZ9JvsoKE",
        "colab_type": "code",
        "colab": {}
      },
      "source": [
        "df.loc[df['Age'].isna(), 'Age'] = round(df['Age'].mean())\n",
        "\n",
        "_ = df['Age'].hist()"
      ],
      "execution_count": 0,
      "outputs": []
    },
    {
      "cell_type": "markdown",
      "metadata": {
        "id": "V9OpEvTdtIWv",
        "colab_type": "text"
      },
      "source": [
        "`SibSp` seems to be okay:"
      ]
    },
    {
      "cell_type": "code",
      "metadata": {
        "id": "oCFEMUwOtKle",
        "colab_type": "code",
        "colab": {}
      },
      "source": [
        "df['SibSp'].hist()"
      ],
      "execution_count": 0,
      "outputs": []
    },
    {
      "cell_type": "markdown",
      "metadata": {
        "id": "jU-tCUyWtSD2",
        "colab_type": "text"
      },
      "source": [
        "As does `Parch`:"
      ]
    },
    {
      "cell_type": "code",
      "metadata": {
        "id": "upleBDZntWh5",
        "colab_type": "code",
        "colab": {}
      },
      "source": [
        "df['Parch'].hist()"
      ],
      "execution_count": 0,
      "outputs": []
    },
    {
      "cell_type": "markdown",
      "metadata": {
        "id": "TYbhY3n5t1tn",
        "colab_type": "text"
      },
      "source": [
        "The `Fare` might be important since the amount paid might have had an effect on your chances of survival. "
      ]
    },
    {
      "cell_type": "code",
      "metadata": {
        "id": "QaPwoxFWt--5",
        "colab_type": "code",
        "colab": {}
      },
      "source": [
        "df['Fare'].hist()"
      ],
      "execution_count": 0,
      "outputs": []
    },
    {
      "cell_type": "markdown",
      "metadata": {
        "id": "Wo4ztPZQuHj3",
        "colab_type": "text"
      },
      "source": [
        "`Cabin` is missing in more than half the columns, so let's just drop it at the end of our data analysis."
      ]
    },
    {
      "cell_type": "markdown",
      "metadata": {
        "id": "VlByQk3guigR",
        "colab_type": "text"
      },
      "source": [
        "`Embarked` is missing a few values. Let's see the distribution of what is present."
      ]
    },
    {
      "cell_type": "code",
      "metadata": {
        "id": "JRcO_liXumVR",
        "colab_type": "code",
        "colab": {}
      },
      "source": [
        "df['Embarked'].hist()"
      ],
      "execution_count": 0,
      "outputs": []
    },
    {
      "cell_type": "markdown",
      "metadata": {
        "id": "yr_BiFa2voYM",
        "colab_type": "text"
      },
      "source": [
        "We have a few strategies that we could use here. We could add a new code, 'U', for unknown. We could just use 'S' for the missing values since that is where most people embarked from. We could even just remove the offending rows. Or if we decide that the `Embarked` column isn't important, we can remove it.\n",
        "\n",
        "Before we do that, let's look at the data."
      ]
    },
    {
      "cell_type": "code",
      "metadata": {
        "id": "c021Z1-Qu17k",
        "colab_type": "code",
        "colab": {}
      },
      "source": [
        "df[df['Embarked'].isna()]"
      ],
      "execution_count": 0,
      "outputs": []
    },
    {
      "cell_type": "markdown",
      "metadata": {
        "id": "yv5CdMdAwAFc",
        "colab_type": "text"
      },
      "source": [
        "We can try to see if there are any other passengers with the same ticket number or cabin and use their `Embark` value. It turns out that none exist though."
      ]
    },
    {
      "cell_type": "code",
      "metadata": {
        "id": "NN4gGpuMu8jq",
        "colab_type": "code",
        "colab": {}
      },
      "source": [
        "df[(df['Ticket'] == '113572') | (df['Cabin'] == 'B28')]"
      ],
      "execution_count": 0,
      "outputs": []
    },
    {
      "cell_type": "markdown",
      "metadata": {
        "id": "kCj0LkC-wtnS",
        "colab_type": "text"
      },
      "source": [
        "Since we aren't really getting anywhere, we'll just go with the majority and use `S` for Southampton. It turns out that was a [good](https://www.encyclopedia-titanica.org/titanic-survivor/amelia-icard.html) [guess](https://www.encyclopedia-titanica.org/titanic-survivor/martha-evelyn-stone.html)."
      ]
    },
    {
      "cell_type": "code",
      "metadata": {
        "id": "bs3sk6UMxGk1",
        "colab_type": "code",
        "colab": {}
      },
      "source": [
        "df.loc[df['Embarked'].isna(), 'Embarked'] = 'S'"
      ],
      "execution_count": 0,
      "outputs": []
    },
    {
      "cell_type": "markdown",
      "metadata": {
        "id": "advDN9fwxWkv",
        "colab_type": "text"
      },
      "source": [
        "And finally we drop the columns we aren't using."
      ]
    },
    {
      "cell_type": "code",
      "metadata": {
        "id": "_6O61Kp_vuaj",
        "colab_type": "code",
        "colab": {}
      },
      "source": [
        "df = df.drop(labels=['PassengerId', 'Name', 'Ticket', 'Cabin'], axis=1)\n",
        "\n",
        "df.describe(include='all')"
      ],
      "execution_count": 0,
      "outputs": []
    },
    {
      "cell_type": "markdown",
      "metadata": {
        "id": "RGlMqPhCxahQ",
        "colab_type": "text"
      },
      "source": [
        "Next week can see if there are any strong correlations."
      ]
    },
    {
      "cell_type": "code",
      "metadata": {
        "id": "ihpBAhpMxecx",
        "colab_type": "code",
        "colab": {}
      },
      "source": [
        "import matplotlib.pyplot as plt\n",
        "import seaborn as sns\n",
        "\n",
        "plt.figure(figsize=(11,10))\n",
        "\n",
        "_ = sns.heatmap(df.corr(), cmap='coolwarm', annot=True)"
      ],
      "execution_count": 0,
      "outputs": []
    },
    {
      "cell_type": "markdown",
      "metadata": {
        "id": "XpNYvdErx1Oy",
        "colab_type": "text"
      },
      "source": [
        "There's nothing very interesting there."
      ]
    },
    {
      "cell_type": "markdown",
      "metadata": {
        "id": "ONnQ3ujnqHPS",
        "colab_type": "text"
      },
      "source": [
        "---"
      ]
    },
    {
      "cell_type": "markdown",
      "metadata": {
        "colab_type": "text",
        "id": "sxmnIepvmdCx"
      },
      "source": [
        "## Step 2: The Model\n",
        "\n",
        "Build, fit, and evaluate a classification model. Perform any model-specific data processing that you need to perform. If the toolkit you use supports it, create visualizations for loss and accuracy improvements. Use as many text and code blocks as you need to explore the data. Note any findings."
      ]
    },
    {
      "cell_type": "markdown",
      "metadata": {
        "colab_type": "text",
        "id": "LO8x9d6GHwgQ"
      },
      "source": [
        "**Student Solution**"
      ]
    },
    {
      "cell_type": "code",
      "metadata": {
        "colab_type": "code",
        "id": "zKgNoBuEm2h0",
        "colab": {}
      },
      "source": [
        "# Your code goes here"
      ],
      "execution_count": 0,
      "outputs": []
    },
    {
      "cell_type": "markdown",
      "metadata": {
        "id": "ZT46j3S26sE2",
        "colab_type": "text"
      },
      "source": [
        "---"
      ]
    },
    {
      "cell_type": "markdown",
      "metadata": {
        "colab_type": "text",
        "id": "exercise-1-key-1"
      },
      "source": [
        "### Answer Key"
      ]
    },
    {
      "cell_type": "markdown",
      "metadata": {
        "id": "cFGPbTKeygAl",
        "colab_type": "text"
      },
      "source": [
        "We chose to create a deep neural network using TensorFlow. In order to do this, we needed to do some data preprocessing. First, we convert `Pclass`, `Sex`, and `Embarked` into one-hot encoded columns."
      ]
    },
    {
      "cell_type": "code",
      "metadata": {
        "colab_type": "code",
        "id": "hzzf0H2r5F_j",
        "colab": {}
      },
      "source": [
        "FEATURES = []\n",
        "\n",
        "for column in ('Pclass', 'Sex', 'Embarked'):\n",
        "  for value in (sorted(df[column].unique())):\n",
        "    new_column = column + '_' + str(value)\n",
        "    df[new_column] = (df[column] == value).apply(int)\n",
        "    FEATURES.append(new_column)\n",
        "  df = df.drop(column, axis=1)\n",
        "\n",
        "df[FEATURES].describe()"
      ],
      "execution_count": 0,
      "outputs": []
    },
    {
      "cell_type": "markdown",
      "metadata": {
        "id": "PuuzJoji1JAs",
        "colab_type": "text"
      },
      "source": [
        "The remaining columns will need to be normalized."
      ]
    },
    {
      "cell_type": "code",
      "metadata": {
        "id": "iBr5y7qv1L86",
        "colab_type": "code",
        "colab": {}
      },
      "source": [
        "TO_NORMALIZE = ['Age', 'SibSp', 'Parch', 'Fare']\n",
        "\n",
        "df.loc[:, TO_NORMALIZE] = ((df[TO_NORMALIZE] - df[TO_NORMALIZE].min()) / (df[TO_NORMALIZE].max() - df[TO_NORMALIZE].min()))\n",
        "\n",
        "FEATURES += TO_NORMALIZE\n",
        "\n",
        "df.describe(include='all')"
      ],
      "execution_count": 0,
      "outputs": []
    },
    {
      "cell_type": "markdown",
      "metadata": {
        "id": "Ehj8hN9J1zp3",
        "colab_type": "text"
      },
      "source": [
        "We can now build a model."
      ]
    },
    {
      "cell_type": "code",
      "metadata": {
        "id": "kNLNak1-0WXI",
        "colab_type": "code",
        "colab": {}
      },
      "source": [
        "import tensorflow as tf\n",
        "\n",
        "model = tf.keras.Sequential([\n",
        "    tf.keras.layers.Dense(64, activation=tf.nn.relu, \n",
        "                          input_shape=(len(FEATURES),)),\n",
        "    tf.keras.layers.Dense(32, activation=tf.nn.relu),\n",
        "    tf.keras.layers.Dense(16, activation=tf.nn.relu),\n",
        "    tf.keras.layers.Dense(1, activation=tf.nn.sigmoid)\n",
        "])\n",
        "\n",
        "model.compile(\n",
        "    loss='binary_crossentropy',\n",
        "    optimizer='Adam',\n",
        "    metrics=['accuracy']\n",
        ")\n",
        "\n",
        "model.summary()"
      ],
      "execution_count": 0,
      "outputs": []
    },
    {
      "cell_type": "markdown",
      "metadata": {
        "id": "c-O0fuB12IZe",
        "colab_type": "text"
      },
      "source": [
        "We'll now split the data to keep a validation set."
      ]
    },
    {
      "cell_type": "code",
      "metadata": {
        "id": "J64AWdAP2YFg",
        "colab_type": "code",
        "colab": {}
      },
      "source": [
        "from sklearn.model_selection import train_test_split\n",
        "\n",
        "X_train, X_validate, y_train, y_validate = train_test_split(\n",
        "    df[FEATURES], df[TARGET], test_size=0.2, stratify=df['Sex_female'])\n",
        "\n",
        "X_train.shape, X_validate.shape"
      ],
      "execution_count": 0,
      "outputs": []
    },
    {
      "cell_type": "code",
      "metadata": {
        "id": "ygHROCxA2b16",
        "colab_type": "code",
        "colab": {}
      },
      "source": [
        "history = model.fit(X_train, y_train, epochs=500, verbose=1)\n",
        "\n",
        "history.history['accuracy'][-1]"
      ],
      "execution_count": 0,
      "outputs": []
    },
    {
      "cell_type": "markdown",
      "metadata": {
        "id": "dKmk1cFO20DB",
        "colab_type": "text"
      },
      "source": [
        "Let's plot the loss and accuracy."
      ]
    },
    {
      "cell_type": "code",
      "metadata": {
        "id": "4EGpYalA2Lff",
        "colab_type": "code",
        "colab": {}
      },
      "source": [
        "import matplotlib.pyplot as plt\n",
        "\n",
        "plt.figure(figsize=(16,5))\n",
        "\n",
        "plt.subplot(1,2,1)\n",
        "plt.plot(history.history['accuracy'])\n",
        "plt.title('Training Accuracy')\n",
        "plt.ylabel('accuracy')\n",
        "plt.xlabel('epoch')\n",
        "plt.legend(['train_accuracy'], loc='best')\n",
        "\n",
        "plt.subplot(1,2,2)\n",
        "plt.plot(history.history['loss'])\n",
        "plt.title('Training Loss')\n",
        "plt.ylabel('loss')\n",
        "plt.xlabel('epoch')\n",
        "_ = plt.legend(['train_loss'], loc='best')"
      ],
      "execution_count": 0,
      "outputs": []
    },
    {
      "cell_type": "markdown",
      "metadata": {
        "id": "vHBAObin4AKw",
        "colab_type": "text"
      },
      "source": [
        "Let's see how our predictions look."
      ]
    },
    {
      "cell_type": "code",
      "metadata": {
        "id": "PS_jO1Aw30W1",
        "colab_type": "code",
        "colab": {}
      },
      "source": [
        "import matplotlib.pyplot as plt\n",
        "\n",
        "predictions = model.predict(X_validate)\n",
        "\n",
        "_ = plt.hist(predictions)"
      ],
      "execution_count": 0,
      "outputs": []
    },
    {
      "cell_type": "markdown",
      "metadata": {
        "id": "mSv9_EKw4MED",
        "colab_type": "text"
      },
      "source": [
        "Let's calculate the accuracy for a few different threshold values."
      ]
    },
    {
      "cell_type": "code",
      "metadata": {
        "id": "_VlRyuEg4QdI",
        "colab_type": "code",
        "colab": {}
      },
      "source": [
        "from sklearn.metrics import accuracy_score\n",
        "\n",
        "for x in range(3, 9):\n",
        "  threshold = round(0.1 * x, 1)\n",
        "  predicted_class = [int(x > threshold) for x in predictions]\n",
        "  score = round(accuracy_score(y_validate, predicted_class), 2)\n",
        "  print(threshold, score)"
      ],
      "execution_count": 0,
      "outputs": []
    },
    {
      "cell_type": "markdown",
      "metadata": {
        "id": "5qKkVe-d4P_r",
        "colab_type": "text"
      },
      "source": [
        "Our accuracies tended to be slightly better for more conservative thresholds like 0.4."
      ]
    },
    {
      "cell_type": "markdown",
      "metadata": {
        "id": "OuhFFDka6uEO",
        "colab_type": "text"
      },
      "source": [
        "---"
      ]
    },
    {
      "cell_type": "markdown",
      "metadata": {
        "colab_type": "text",
        "id": "yXJCSsAdz-f0"
      },
      "source": [
        "## Step 3: Make Predictions and Upload To Kaggle\n",
        "\n",
        "In this step you will make predictions on the features found in the `test.csv` file and upload them to Kaggle using the [Kaggle API](https://github.com/Kaggle/kaggle-api). Use as many text and code blocks as you need to explore the data. Note any findings."
      ]
    },
    {
      "cell_type": "markdown",
      "metadata": {
        "colab_type": "text",
        "id": "fijeUn4tIFCo"
      },
      "source": [
        "**Student Solution**"
      ]
    },
    {
      "cell_type": "code",
      "metadata": {
        "colab_type": "code",
        "id": "dEWZUCnT9UkK",
        "colab": {}
      },
      "source": [
        "# Your code goes here"
      ],
      "execution_count": 0,
      "outputs": []
    },
    {
      "cell_type": "markdown",
      "metadata": {
        "colab_type": "text",
        "id": "fRZni-CBVjFV"
      },
      "source": [
        "What was your Kaggle score?"
      ]
    },
    {
      "cell_type": "markdown",
      "metadata": {
        "id": "jjN-tBAP6kM7",
        "colab_type": "text"
      },
      "source": [
        "> *Record your score here*"
      ]
    },
    {
      "cell_type": "markdown",
      "metadata": {
        "id": "fSw1rDKv6nOO",
        "colab_type": "text"
      },
      "source": [
        "---"
      ]
    },
    {
      "cell_type": "markdown",
      "metadata": {
        "colab_type": "text",
        "id": "exercise-2-key-1"
      },
      "source": [
        "### Answer Key"
      ]
    },
    {
      "cell_type": "markdown",
      "metadata": {
        "colab_type": "text",
        "id": "q47q8OjlILQ2"
      },
      "source": [
        "**Solution**"
      ]
    },
    {
      "cell_type": "markdown",
      "metadata": {
        "id": "b0FuDHMU8g-r",
        "colab_type": "text"
      },
      "source": [
        "We'll need to load the test data, transform it, and then make predictions that are written to a file and uploaded to Kaggle.\n",
        "\n",
        "First, load the data."
      ]
    },
    {
      "cell_type": "code",
      "metadata": {
        "colab_type": "code",
        "id": "3n1w0QRP9YhA",
        "colab": {}
      },
      "source": [
        "test_df = pd.read_csv('test.csv')\n",
        "test_df.describe(include='all')"
      ],
      "execution_count": 0,
      "outputs": []
    },
    {
      "cell_type": "markdown",
      "metadata": {
        "id": "jKafjwlR8oIN",
        "colab_type": "text"
      },
      "source": [
        "Let's go ahead and one-hot our columns. Double check that we have the same one-hot columns as were in our training data. Sometimes new values can pop in, or old values might not exist. In this case it lines up."
      ]
    },
    {
      "cell_type": "code",
      "metadata": {
        "id": "Ghd9TyCo7d7e",
        "colab_type": "code",
        "colab": {}
      },
      "source": [
        "FEATURES = []\n",
        "\n",
        "for column in ('Pclass', 'Sex', 'Embarked'):\n",
        "  for value in (sorted(test_df[column].unique())):\n",
        "    new_column = column + '_' + str(value)\n",
        "    test_df[new_column] = (test_df[column] == value).apply(int)\n",
        "    FEATURES.append(new_column)\n",
        "  test_df = test_df.drop(column, axis=1)\n",
        "\n",
        "test_df[FEATURES].describe()"
      ],
      "execution_count": 0,
      "outputs": []
    },
    {
      "cell_type": "markdown",
      "metadata": {
        "id": "o3cwoSYW84dA",
        "colab_type": "text"
      },
      "source": [
        "`Age` and `Fare` were both missing values. We'll fill them in with the mean."
      ]
    },
    {
      "cell_type": "code",
      "metadata": {
        "id": "3nJck6S28P1p",
        "colab_type": "code",
        "colab": {}
      },
      "source": [
        "test_df.loc[test_df['Age'].isna(), 'Age'] = test_df['Age'].mean()\n",
        "test_df.loc[test_df['Fare'].isna(), 'Fare'] = test_df['Fare'].mean()"
      ],
      "execution_count": 0,
      "outputs": []
    },
    {
      "cell_type": "markdown",
      "metadata": {
        "id": "om92vW_K9Ab3",
        "colab_type": "text"
      },
      "source": [
        "Now we'll normalize."
      ]
    },
    {
      "cell_type": "code",
      "metadata": {
        "id": "uGYeFZMd7Woj",
        "colab_type": "code",
        "colab": {}
      },
      "source": [
        "TO_NORMALIZE = ['Age', 'SibSp', 'Parch', 'Fare']\n",
        "\n",
        "test_df.loc[:, TO_NORMALIZE] = (\n",
        "    (test_df[TO_NORMALIZE] - test_df[TO_NORMALIZE].min()) /\n",
        "    (test_df[TO_NORMALIZE].max() - test_df[TO_NORMALIZE].min()))\n",
        "\n",
        "FEATURES += TO_NORMALIZE\n",
        "\n",
        "test_df[TO_NORMALIZE].describe()"
      ],
      "execution_count": 0,
      "outputs": []
    },
    {
      "cell_type": "markdown",
      "metadata": {
        "id": "4uYXRQ4R9EL_",
        "colab_type": "text"
      },
      "source": [
        "And finally, drop the columns we don't need. We don't drop `PassengerId` this time since we need it for contest submission."
      ]
    },
    {
      "cell_type": "code",
      "metadata": {
        "id": "EEh_qk0Z8F6Y",
        "colab_type": "code",
        "colab": {}
      },
      "source": [
        "test_df = test_df.drop(labels=['Name', 'Ticket', 'Cabin'], axis=1)\n",
        "\n",
        "test_df.describe(include='all')"
      ],
      "execution_count": 0,
      "outputs": []
    },
    {
      "cell_type": "markdown",
      "metadata": {
        "id": "maZbs31g9a9E",
        "colab_type": "text"
      },
      "source": [
        "Now we can make predictions."
      ]
    },
    {
      "cell_type": "code",
      "metadata": {
        "id": "1I5VhiHu9MLZ",
        "colab_type": "code",
        "colab": {}
      },
      "source": [
        "predictions = [int(x[0] > 0.4) for x in model.predict(test_df[FEATURES])]\n",
        "predictions[:10]"
      ],
      "execution_count": 0,
      "outputs": []
    },
    {
      "cell_type": "code",
      "metadata": {
        "colab_type": "code",
        "id": "YWjWAdDeurzV",
        "colab": {}
      },
      "source": [
        "results = pd.DataFrame({\n",
        "  'PassengerId': test_df['PassengerId'],\n",
        "  'Survived': predictions,\n",
        "})\n",
        "\n",
        "results.to_csv('titanic_predictions.csv', index=False)\n",
        "\n",
        "! head titanic_predictions.csv"
      ],
      "execution_count": 0,
      "outputs": []
    },
    {
      "cell_type": "markdown",
      "metadata": {
        "id": "DCryAJpW91Yf",
        "colab_type": "text"
      },
      "source": [
        "And then submit the model."
      ]
    },
    {
      "cell_type": "code",
      "metadata": {
        "id": "kx0qe_6v93EW",
        "colab_type": "code",
        "colab": {}
      },
      "source": [
        "!kaggle competitions submit -f titanic_predictions.csv -m 'Keras submission' titanic"
      ],
      "execution_count": 0,
      "outputs": []
    },
    {
      "cell_type": "markdown",
      "metadata": {
        "id": "PWEr5kXx-VWX",
        "colab_type": "text"
      },
      "source": [
        "And check your score."
      ]
    },
    {
      "cell_type": "code",
      "metadata": {
        "id": "MIgldrE_-Nbs",
        "colab_type": "code",
        "colab": {}
      },
      "source": [
        "!kaggle competitions submissions titanic"
      ],
      "execution_count": 0,
      "outputs": []
    },
    {
      "cell_type": "markdown",
      "metadata": {
        "id": "tPmd8qwc-oEm",
        "colab_type": "text"
      },
      "source": [
        "---"
      ]
    },
    {
      "cell_type": "markdown",
      "metadata": {
        "colab_type": "text",
        "id": "9KdtnUJP2Uen"
      },
      "source": [
        "## Step 4: Iterate on Your Model\n",
        "\n",
        "In this step you're encouraged to play around with your model settings and to even try different models. See if you can get a better score. Use as many text and code blocks as you need to explore the data. Note any findings."
      ]
    },
    {
      "cell_type": "markdown",
      "metadata": {
        "colab_type": "text",
        "id": "w5rYKVkgT8NL"
      },
      "source": [
        "**Student Solution**"
      ]
    },
    {
      "cell_type": "code",
      "metadata": {
        "colab_type": "code",
        "id": "MDEErS0f8oi7",
        "colab": {}
      },
      "source": [
        "# Your code goes here"
      ],
      "execution_count": 0,
      "outputs": []
    },
    {
      "cell_type": "markdown",
      "metadata": {
        "id": "QkyT_lz6_K7E",
        "colab_type": "text"
      },
      "source": [
        "---"
      ]
    },
    {
      "cell_type": "markdown",
      "metadata": {
        "colab_type": "text",
        "id": "exercise-3-key-1"
      },
      "source": [
        "### Answer Key"
      ]
    },
    {
      "cell_type": "markdown",
      "metadata": {
        "colab_type": "text",
        "id": "SYRk1PknIcdy"
      },
      "source": [
        "There is no answer key for this step. The students will just need to show some adjustment to the model that they created above, or they can create an entirely new model."
      ]
    },
    {
      "cell_type": "markdown",
      "metadata": {
        "colab_type": "text",
        "id": "93t_PYx6-W_N"
      },
      "source": [
        "---"
      ]
    }
  ]
}
