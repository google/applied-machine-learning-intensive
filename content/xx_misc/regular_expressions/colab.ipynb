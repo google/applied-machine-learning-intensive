{
  "nbformat": 4,
  "nbformat_minor": 0,
  "metadata": {
    "colab": {
      "name": "Introduction to Regular Expressions",
      "provenance": [],
      "private_outputs": true,
      "collapsed_sections": [
        "ZPyQ91RzsyCV",
        "-V28jhoJPXPd",
        "8yilKP0HP47B",
        "iU8ubDjiP5ZG"
      ],
      "toc_visible": true,
      "include_colab_link": true
    },
    "kernelspec": {
      "name": "python3",
      "display_name": "Python 3"
    }
  },
  "cells": [
    {
      "cell_type": "markdown",
      "metadata": {
        "id": "view-in-github",
        "colab_type": "text"
      },
      "source": [
        "<a href=\"https://colab.research.google.com/github/google/applied-machine-learning-intensive/blob/master/content/xx_misc/regular_expressions/colab.ipynb\" target=\"_parent\"><img src=\"https://colab.research.google.com/assets/colab-badge.svg\" alt=\"Open In Colab\"/></a>"
      ]
    },
    {
      "cell_type": "markdown",
      "metadata": {
        "id": "ZPyQ91RzsyCV",
        "colab_type": "text"
      },
      "source": [
        "#### Copyright 2020 Google LLC."
      ]
    },
    {
      "cell_type": "code",
      "metadata": {
        "id": "I2vIQjYMsxsf",
        "colab_type": "code",
        "colab": {}
      },
      "source": [
        "# Licensed under the Apache License, Version 2.0 (the \"License\");\n",
        "# you may not use this file except in compliance with the License.\n",
        "# You may obtain a copy of the License at\n",
        "#\n",
        "# https://www.apache.org/licenses/LICENSE-2.0\n",
        "#\n",
        "# Unless required by applicable law or agreed to in writing, software\n",
        "# distributed under the License is distributed on an \"AS IS\" BASIS,\n",
        "# WITHOUT WARRANTIES OR CONDITIONS OF ANY KIND, either express or implied.\n",
        "# See the License for the specific language governing permissions and\n",
        "# limitations under the License."
      ],
      "execution_count": null,
      "outputs": []
    },
    {
      "cell_type": "markdown",
      "metadata": {
        "id": "mzXq4b1bAWvY",
        "colab_type": "text"
      },
      "source": [
        "# Introduction to Regular Expressions"
      ]
    },
    {
      "cell_type": "markdown",
      "metadata": {
        "id": "yiqQT6FKkYLZ",
        "colab_type": "text"
      },
      "source": [
        "[Regular Expressions](https://docs.python.org/3/howto/regex.html) are a powerful feature of the Python programming language. You can access Python's regular expression support through the [re](https://docs.python.org/3/library/re.html#module-re) module."
      ]
    },
    {
      "cell_type": "markdown",
      "metadata": {
        "id": "dmTBPyLcIb2q",
        "colab_type": "text"
      },
      "source": [
        "## Matching Literals"
      ]
    },
    {
      "cell_type": "markdown",
      "metadata": {
        "id": "t1Kv4aJ2BPDi",
        "colab_type": "text"
      },
      "source": [
        "A regular expression is simply a string of text. The most basic regular expression is just a string containing only alphanumeric characters.\n",
        "\n",
        "We use the `re.compile(...)` method to convert the regular expression string into a `Pattern` object."
      ]
    },
    {
      "cell_type": "code",
      "metadata": {
        "id": "Hdf9UDj235Iv",
        "colab_type": "code",
        "colab": {}
      },
      "source": [
        "import re"
      ],
      "execution_count": null,
      "outputs": []
    },
    {
      "cell_type": "code",
      "metadata": {
        "id": "1BbJa6eDBFmw",
        "colab_type": "code",
        "colab": {}
      },
      "source": [
        "pattern = re.compile('Hello')\n",
        "type(pattern)"
      ],
      "execution_count": null,
      "outputs": []
    },
    {
      "cell_type": "markdown",
      "metadata": {
        "id": "Oe3G-7UgGnLF",
        "colab_type": "text"
      },
      "source": [
        "Now that we have a compiled regular expression, we can see if the pattern matches another string."
      ]
    },
    {
      "cell_type": "code",
      "metadata": {
        "id": "q3-FAoxrGGfT",
        "colab_type": "code",
        "colab": {}
      },
      "source": [
        "if pattern.match('Hello World'):\n",
        "  print(\"We found a match\")\n",
        "else:\n",
        "  print(\"No match found\")"
      ],
      "execution_count": null,
      "outputs": []
    },
    {
      "cell_type": "markdown",
      "metadata": {
        "id": "B45PBdJJGqMs",
        "colab_type": "text"
      },
      "source": [
        "In the case above we found a match because `'Hello'` is part of `'Hello World'`.\n",
        "\n",
        "What happens if `'Hello'` is not at the start of a string?"
      ]
    },
    {
      "cell_type": "code",
      "metadata": {
        "id": "lXLLDGFnGywf",
        "colab_type": "code",
        "colab": {}
      },
      "source": [
        "if pattern.match('I said Hello World'):\n",
        "  print(\"We found a match\")\n",
        "else:\n",
        "  print(\"No match found\")"
      ],
      "execution_count": null,
      "outputs": []
    },
    {
      "cell_type": "markdown",
      "metadata": {
        "id": "KtpkCorQG5ld",
        "colab_type": "text"
      },
      "source": [
        "So the match only works if the pattern matches the start of the other string. What if the case is different?"
      ]
    },
    {
      "cell_type": "code",
      "metadata": {
        "id": "UYBJTr_0G8AG",
        "colab_type": "code",
        "colab": {}
      },
      "source": [
        "if pattern.match('HELLO'):\n",
        "  print(\"We found a match\")\n",
        "else:\n",
        "  print(\"No match found\")"
      ],
      "execution_count": null,
      "outputs": []
    },
    {
      "cell_type": "markdown",
      "metadata": {
        "id": "OfMhyvxvG-uH",
        "colab_type": "text"
      },
      "source": [
        "Doesn't work. By default, the match is case sensitive.\n",
        "\n",
        "What if it is only a partial match?"
      ]
    },
    {
      "cell_type": "code",
      "metadata": {
        "id": "Js3nCsDtGkAM",
        "colab_type": "code",
        "colab": {}
      },
      "source": [
        "if pattern.match('He'):\n",
        "  print(\"We found a match\")\n",
        "else:\n",
        "  print(\"No match found\")"
      ],
      "execution_count": null,
      "outputs": []
    },
    {
      "cell_type": "markdown",
      "metadata": {
        "id": "DnepFiVEHByi",
        "colab_type": "text"
      },
      "source": [
        "From what we have seen so far, matching with a string literal is pretty much functionally equivalent to the Python `startswith(...)` method that already comes as part of the `String` class."
      ]
    },
    {
      "cell_type": "code",
      "metadata": {
        "id": "ozYrh_3fHLJW",
        "colab_type": "code",
        "colab": {}
      },
      "source": [
        "if \"Hello World\".startswith(\"Hello\"):\n",
        "  print(\"We found a match\")\n",
        "else:\n",
        "  print(\"No match found\")"
      ],
      "execution_count": null,
      "outputs": []
    },
    {
      "cell_type": "markdown",
      "metadata": {
        "id": "p7epVNgkHtaM",
        "colab_type": "text"
      },
      "source": [
        "Well, that isn't too exciting. But it does provide us with an opportunity for a valuable lesson: *Regular expressions are often not the best solution for a problem.*\n",
        "\n",
        "As we continue on in this colab, we'll see how powerful and expressive regular expressions can be. It is tempting to whip out a regular expression for many cases where they may not be the best solution. The regular expression engine can be slow for many types of expressions. Sometimes using other built-in tools or coding a solution in standard Python is better; sometimes it isn't."
      ]
    },
    {
      "cell_type": "markdown",
      "metadata": {
        "id": "JM7WMkInIgd4",
        "colab_type": "text"
      },
      "source": [
        "## Repetition"
      ]
    },
    {
      "cell_type": "markdown",
      "metadata": {
        "id": "IulSHTqkwCV3",
        "colab_type": "text"
      },
      "source": [
        "Matching exact characters one-by-one is kind of boring and doesn't allow regular expressions to showcase their true power. Let's move on to some more dynamic parts of the regular expression language. We will begin with repetition."
      ]
    },
    {
      "cell_type": "markdown",
      "metadata": {
        "id": "V71t-LbGwu7Q",
        "colab_type": "text"
      },
      "source": [
        "### One or More\n",
        "\n",
        "There are many cases where you'll need \"one or more\" of some character. To accomplish this, you simply add the `+` sign after the character that you want one or more of.\n",
        "\n",
        "In the example below, we create an expression that looks for one or more 'b' characters. Notice how 'abc' and 'abbbbbbbc' are fine, but if we take all of the 'b' characters out, we don't get a match."
      ]
    },
    {
      "cell_type": "code",
      "metadata": {
        "id": "hM17EsfHIlVR",
        "colab_type": "code",
        "colab": {}
      },
      "source": [
        "pattern = re.compile(\"ab+c\")\n",
        "\n",
        "for string in (\n",
        "  'abc',\n",
        "  'abbbbbbbc',\n",
        "  'ac',\n",
        "  ):\n",
        "  print(\"'{}'\".format(string), end=' ')\n",
        "  print('matches' if pattern.match(string) else 'does not match')"
      ],
      "execution_count": null,
      "outputs": []
    },
    {
      "cell_type": "markdown",
      "metadata": {
        "id": "qG66gUuwxOQL",
        "colab_type": "text"
      },
      "source": [
        "### Zero or More\n",
        "\n",
        "Sometimes we find ourselves in a situation where we're actually okay with \"zero or more\" instances of a character. For this we use the '*' sign.\n",
        "\n",
        "In the example below we create an expression that looks for zero or more 'b' characters. In this case all of the matches are successful."
      ]
    },
    {
      "cell_type": "code",
      "metadata": {
        "id": "uApdY0VXxsyB",
        "colab_type": "code",
        "colab": {}
      },
      "source": [
        "pattern = re.compile(\"ab*c\")\n",
        "\n",
        "for string in (\n",
        "  'abc',\n",
        "  'abbbbbbbc',\n",
        "  'ac',\n",
        "  ):\n",
        "  print(\"'{}'\".format(string), end=' ')\n",
        "  print('matches' if pattern.match(string) else 'does not match')"
      ],
      "execution_count": null,
      "outputs": []
    },
    {
      "cell_type": "markdown",
      "metadata": {
        "id": "AaH5C9sXxxvW",
        "colab_type": "text"
      },
      "source": [
        "### One or None\n",
        "\n",
        "We've now seen cases where we will allow one-and-only-one of a character (exact match), one-or-more of a character, and zero-or-more of a character. The next case is the \"one or none\" case. For that we use the '?' sign."
      ]
    },
    {
      "cell_type": "code",
      "metadata": {
        "id": "h1q_CzfKyIaT",
        "colab_type": "code",
        "colab": {}
      },
      "source": [
        "pattern = re.compile(\"ab?c\")\n",
        "\n",
        "for string in (\n",
        "  'abc',\n",
        "  'abbbbbbbc',\n",
        "  'ac',\n",
        "  ):\n",
        "  print(\"'{}'\".format(string), end=' ')\n",
        "  print('matches' if pattern.match(string) else 'does not match')"
      ],
      "execution_count": null,
      "outputs": []
    },
    {
      "cell_type": "markdown",
      "metadata": {
        "id": "0XELmnxbzqyX",
        "colab_type": "text"
      },
      "source": [
        "### M\n",
        "\n",
        "What if you want to match a very specific number of a specific character, but you don't want to type all of those characters in? The `{m}` expression is great for that. The 'm' value specifies exactly how many repetitions you want."
      ]
    },
    {
      "cell_type": "code",
      "metadata": {
        "id": "ZigMHVvWzkqI",
        "colab_type": "code",
        "colab": {}
      },
      "source": [
        "pattern = re.compile(\"ab{7}c\")\n",
        "\n",
        "for string in (\n",
        "  'abc', \n",
        "  'abbbbbbc', \n",
        "  'abbbbbbbc',\n",
        "  'abbbbbbbbc',\n",
        "  ):\n",
        "  print(\"'{}'\".format(string), end=' ')\n",
        "  print('matches' if pattern.match(string) else 'does not match')"
      ],
      "execution_count": null,
      "outputs": []
    },
    {
      "cell_type": "markdown",
      "metadata": {
        "id": "VJ4V0MGc0Jb1",
        "colab_type": "text"
      },
      "source": [
        "### M or More\n",
        "\n",
        "You can also ask for m-or-more of a character. Leaving a dangling comma in the `{m,}` does the trick."
      ]
    },
    {
      "cell_type": "code",
      "metadata": {
        "id": "Jm6TpRT20gnU",
        "colab_type": "code",
        "colab": {}
      },
      "source": [
        "pattern = re.compile(\"ab{2,}c\")\n",
        "\n",
        "for string in (\n",
        "  'abc',\n",
        "  'abbc',\n",
        "  'abbbbbbbbbbbbbbbbbbbbbbbbbbbbbbc',\n",
        "  ):\n",
        "  print(\"'{}'\".format(string), end=' ')\n",
        "  print('matches' if pattern.match(string) else 'does not match')"
      ],
      "execution_count": null,
      "outputs": []
    },
    {
      "cell_type": "markdown",
      "metadata": {
        "id": "r7vBOezF0q4K",
        "colab_type": "text"
      },
      "source": [
        "### M through N\n",
        "\n",
        "You can also request a specific range of repetition using `{m,n}`. Notice that 'n' is *inclusive*. This is one of the rare times that you'll find ranges in Python that are inclusive at the end. Any ideas why? "
      ]
    },
    {
      "cell_type": "code",
      "metadata": {
        "id": "487pvyKX0zQ7",
        "colab_type": "code",
        "colab": {}
      },
      "source": [
        "pattern = re.compile(\"ab{4,6}c\")\n",
        "\n",
        "for string in (\n",
        "  'abbbc',\n",
        "  'abbbbc',\n",
        "  'abbbbbc',\n",
        "  'abbbbbbc',\n",
        "  'abbbbbbbc',\n",
        "  ):\n",
        "  print(\"'{}'\".format(string), end=' ')\n",
        "  print('matches' if pattern.match(string) else 'does not match')"
      ],
      "execution_count": null,
      "outputs": []
    },
    {
      "cell_type": "markdown",
      "metadata": {
        "id": "R5S-YKDU1TOf",
        "colab_type": "text"
      },
      "source": [
        "### N or Fewer\n",
        "\n",
        "Sometimes you want a specific number of repetitions or fewer. For this, you can use a comma before the 'n' parameter like `{,n}`. Notice that \"fewer\" includes zero instances of the character."
      ]
    },
    {
      "cell_type": "code",
      "metadata": {
        "id": "OkobMulo14kS",
        "colab_type": "code",
        "colab": {}
      },
      "source": [
        "pattern = re.compile(\"ab{,4}c\")\n",
        "\n",
        "for string in (\n",
        "  'abbbbbc', \n",
        "  'abbbbc', \n",
        "  'abbbc',\n",
        "  'abbc',\n",
        "  'abc',\n",
        "  'ac',\n",
        "  'a',\n",
        "  ):\n",
        "  print(\"'{}'\".format(string), end=' ')\n",
        "  print('matches' if pattern.match(string) else 'does not match')"
      ],
      "execution_count": null,
      "outputs": []
    },
    {
      "cell_type": "markdown",
      "metadata": {
        "id": "pWn7ZBx8yMnS",
        "colab_type": "text"
      },
      "source": [
        "Though we have illustrated these repetition operations on single characters, they actually apply to more complex combinations of characters, as we'll see soon."
      ]
    },
    {
      "cell_type": "markdown",
      "metadata": {
        "id": "T6S6i1xX70FX",
        "colab_type": "text"
      },
      "source": [
        "## Character Sets"
      ]
    },
    {
      "cell_type": "markdown",
      "metadata": {
        "id": "HWmNiwS_74ZZ",
        "colab_type": "text"
      },
      "source": [
        "Matching a single character with repetition can be very useful, but often we want to work with more than one character. For that, the regular expressions need to have the concept of character sets. Character sets are contained within square brackets: `[]`\n",
        "\n",
        "The character set below specifies that we'll match any string that starts with a vowel."
      ]
    },
    {
      "cell_type": "code",
      "metadata": {
        "id": "potLC8Mv9niZ",
        "colab_type": "code",
        "colab": {}
      },
      "source": [
        "pattern = re.compile('[aeiou]')\n",
        "\n",
        "for string in (\n",
        "  'a',\n",
        "  'e',\n",
        "  'i',\n",
        "  'o',\n",
        "  'u',\n",
        "  'x',\n",
        "  'ax',\n",
        "  'ex',\n",
        "  'ix',\n",
        "  'ox',\n",
        "  'ux',\n",
        "  'xa',\n",
        "  'xe',\n",
        "  'xi',\n",
        "  'xo',\n",
        "  'xu',\n",
        "  'xx',\n",
        "  ):\n",
        "  print(\"'{}'\".format(string), end=' ')\n",
        "  print('matches' if pattern.match(string) else 'does not match')"
      ],
      "execution_count": null,
      "outputs": []
    },
    {
      "cell_type": "markdown",
      "metadata": {
        "id": "rRy_yeLyCyUJ",
        "colab_type": "text"
      },
      "source": [
        "Character sets can be bound to any of the repetition symbols that we have already seen. For example, if we wanted to match words that start with at least two vowels we could use the character set below."
      ]
    },
    {
      "cell_type": "code",
      "metadata": {
        "id": "IqtNeswnDDi4",
        "colab_type": "code",
        "colab": {}
      },
      "source": [
        "pattern = re.compile('[aeiou]{2,}')\n",
        "\n",
        "for string in (\n",
        "  'aardvark',\n",
        "  'earth',\n",
        "  'eat',\n",
        "  'oar',\n",
        "  'aioli',\n",
        "  'ute',\n",
        "  'absolutely',\n",
        "  ):\n",
        "  print(\"'{}'\".format(string), end=' ')\n",
        "  print('matches' if pattern.match(string) else 'does not match')"
      ],
      "execution_count": null,
      "outputs": []
    },
    {
      "cell_type": "markdown",
      "metadata": {
        "id": "1mX56U-WDswC",
        "colab_type": "text"
      },
      "source": [
        "Character sets can also be negated. Simply put a `^` symbol at the start of the character set."
      ]
    },
    {
      "cell_type": "code",
      "metadata": {
        "id": "Oehys5JpD7Dh",
        "colab_type": "code",
        "colab": {}
      },
      "source": [
        "pattern = re.compile('[^aeiou]')\n",
        "\n",
        "for string in (\n",
        "  'aardvark',\n",
        "  'earth',\n",
        "  'ice',\n",
        "  'oar',\n",
        "  'ukulele',\n",
        "  'bathtub',\n",
        "  ):\n",
        "  print(\"'{}'\".format(string), end=' ')\n",
        "  print('matches' if pattern.match(string) else 'does not match')"
      ],
      "execution_count": null,
      "outputs": []
    },
    {
      "cell_type": "markdown",
      "metadata": {
        "id": "aYnzd_-lEHV8",
        "colab_type": "text"
      },
      "source": [
        "## Character Classes\n",
        "\n",
        "Some groupings of characters are so common that they have a shorthand \"character class\" assigned to them. Common character classes are represented by a backslash and a letter designating the class. For instance `\\d` is the class for digits."
      ]
    },
    {
      "cell_type": "code",
      "metadata": {
        "id": "siaH5X2QE4ql",
        "colab_type": "code",
        "colab": {}
      },
      "source": [
        "pattern = re.compile('\\d')\n",
        "\n",
        "for string in (\n",
        "  'abc',\n",
        "  '123',\n",
        "  '1a2b',\n",
        "  ):\n",
        "  print(\"'{}'\".format(string), end=' ')\n",
        "  print('matches' if pattern.match(string) else 'does not match')"
      ],
      "execution_count": null,
      "outputs": []
    },
    {
      "cell_type": "markdown",
      "metadata": {
        "id": "iL0CPdr5E_Qc",
        "colab_type": "text"
      },
      "source": [
        "These classes can have repetitions after them, just like character sets."
      ]
    },
    {
      "cell_type": "code",
      "metadata": {
        "id": "0drzAmTYFG9D",
        "colab_type": "code",
        "colab": {}
      },
      "source": [
        "pattern = re.compile('\\d{4,}')\n",
        "\n",
        "for string in (\n",
        "  'a',\n",
        "  '123',\n",
        "  '1234',\n",
        "  '12345',\n",
        "  '1234a',\n",
        "  ):\n",
        "  print(\"'{}'\".format(string), end=' ')\n",
        "  print('matches' if pattern.match(string) else 'does not match')"
      ],
      "execution_count": null,
      "outputs": []
    },
    {
      "cell_type": "markdown",
      "metadata": {
        "id": "Hxua3xTVFWG5",
        "colab_type": "text"
      },
      "source": [
        "There are many common character classes.\n",
        "\n",
        "* \\d matches digits\n",
        "* \\s matches spaces, tabs, etc.\n",
        "* \\w matches 'word' characters which include the letters of most languages, digits, and the underscore character"
      ]
    },
    {
      "cell_type": "code",
      "metadata": {
        "id": "ugIVdXFtGJ8K",
        "colab_type": "code",
        "colab": {}
      },
      "source": [
        "pattern = re.compile('\\w\\s\\d')\n",
        "\n",
        "for string in (\n",
        "  'a',\n",
        "  '1 3',\n",
        "  '_ 4',\n",
        "  'w 5',\n",
        "  ):\n",
        "  print(\"'{}'\".format(string), end=' ')\n",
        "  print('matches' if pattern.match(string) else 'does not match')"
      ],
      "execution_count": null,
      "outputs": []
    },
    {
      "cell_type": "markdown",
      "metadata": {
        "id": "aGfdT4YiGYhC",
        "colab_type": "text"
      },
      "source": [
        "You can mix these classes with repetitions."
      ]
    },
    {
      "cell_type": "code",
      "metadata": {
        "id": "Fgp-BUFfGcX9",
        "colab_type": "code",
        "colab": {}
      },
      "source": [
        "pattern = re.compile('\\d+\\s\\w+')\n",
        "\n",
        "for string in (\n",
        "  'a',\n",
        "  '16 Candles',\n",
        "  '47 Hats',\n",
        "  'Number 5',\n",
        "  ):\n",
        "  print(\"'{}'\".format(string), end=' ')\n",
        "  print('matches' if pattern.match(string) else 'does not match')"
      ],
      "execution_count": null,
      "outputs": []
    },
    {
      "cell_type": "markdown",
      "metadata": {
        "id": "J9c6ZzP_Hlfv",
        "colab_type": "text"
      },
      "source": [
        "But what if you want to find everything that isn't a digit? Or everything that isn't a space?\n",
        "\n",
        "To do that, simply put the character class in upper-case."
      ]
    },
    {
      "cell_type": "code",
      "metadata": {
        "id": "qFt0rqSMHvyU",
        "colab_type": "code",
        "colab": {}
      },
      "source": [
        "print(\"Not a digit\")\n",
        "pattern = re.compile('\\D')\n",
        "for string in (\n",
        "  'a',\n",
        "  '1',\n",
        "  ' ',\n",
        "  ):\n",
        "  print(\"'{}'\".format(string), end=' ')\n",
        "  print('matches' if pattern.match(string) else 'does not match')\n",
        "\n",
        "print(\"\\n\")\n",
        "print(\"Not a space\")\n",
        "pattern = re.compile('\\S')\n",
        "for string in (\n",
        "  'a',\n",
        "  '1',\n",
        "  ' ',\n",
        "  ):\n",
        "  print(\"'{}'\".format(string), end=' ')\n",
        "  print('matches' if pattern.match(string) else 'does not match')\n",
        "\n",
        "print(\"\\n\")\n",
        "print(\"Not a word\")\n",
        "pattern = re.compile('\\W')\n",
        "for string in (\n",
        "  'a',\n",
        "  '1',\n",
        "  ' ',\n",
        "  ):\n",
        "  print(\"'{}'\".format(string), end=' ')\n",
        "  print('matches' if pattern.match(string) else 'does not match')"
      ],
      "execution_count": null,
      "outputs": []
    },
    {
      "cell_type": "markdown",
      "metadata": {
        "id": "YZ4C2PEAIbu_",
        "colab_type": "text"
      },
      "source": [
        "## Placement\n",
        "\n",
        "We've moved into some pretty powerful stuff, but up until now all of our regular expressions have started matching from the first letter of a string. That is useful, but sometimes you'd like to match from anywhere in the string, or specifically at the end of the string. Let's explore some options for moving past the first character."
      ]
    },
    {
      "cell_type": "markdown",
      "metadata": {
        "id": "NpAo4K9gI3Ex",
        "colab_type": "text"
      },
      "source": [
        "### The Dot\n",
        "\n",
        "So far we have always had to have some character to match, but what if we don't care what character we encounter? The dot (`.`) is a placeholder for any character."
      ]
    },
    {
      "cell_type": "code",
      "metadata": {
        "id": "OABpPeNTLepF",
        "colab_type": "code",
        "colab": {}
      },
      "source": [
        "pattern = re.compile('.')\n",
        "\n",
        "for string in (\n",
        "  'a',\n",
        "  ' ',\n",
        "  '4',\n",
        "  ):\n",
        "  print(\"'{}'\".format(string), end=' ')\n",
        "  print('matches' if pattern.match(string) else 'does not match')"
      ],
      "execution_count": null,
      "outputs": []
    },
    {
      "cell_type": "markdown",
      "metadata": {
        "id": "LfrzGekCLn5q",
        "colab_type": "text"
      },
      "source": [
        "Though it might seem rather bland at first, the dot can be really useful when combined with repetition symbols."
      ]
    },
    {
      "cell_type": "code",
      "metadata": {
        "id": "hzC3VxWNL2md",
        "colab_type": "code",
        "colab": {}
      },
      "source": [
        "pattern = re.compile('.*s')\n",
        "\n",
        "for string in (\n",
        "  'as',\n",
        "  ' oh no bees',\n",
        "  'does this match',\n",
        "  'maybe',\n",
        "  ):\n",
        "  print(\"'{}'\".format(string), end=' ')\n",
        "  print('matches' if pattern.match(string) else 'does not match')"
      ],
      "execution_count": null,
      "outputs": []
    },
    {
      "cell_type": "markdown",
      "metadata": {
        "id": "hsYLeq3tMICA",
        "colab_type": "text"
      },
      "source": [
        "As you can see, using the dot allows us to move past the start of the string we want to match and instead search deeper inside the target string."
      ]
    },
    {
      "cell_type": "markdown",
      "metadata": {
        "id": "X-UTVwpwMVGI",
        "colab_type": "text"
      },
      "source": [
        "### Starting Anchor\n",
        "\n",
        "Now we can search anywhere in a string. However, we might still want to add a starting anchor to the beginning of a string for part of our match. The `^`  anchors our match to the start of the string."
      ]
    },
    {
      "cell_type": "code",
      "metadata": {
        "id": "uF-yWFoMMs4g",
        "colab_type": "code",
        "colab": {}
      },
      "source": [
        "pattern = re.compile('^a.*s')\n",
        "\n",
        "for string in (\n",
        "  'as',\n",
        "  'not as',\n",
        "  'a string that matches',\n",
        "  'a fancy string that matches',\n",
        "  ):\n",
        "  print(\"'{}'\".format(string), end=' ')\n",
        "  print('matches' if pattern.match(string) else 'does not match')"
      ],
      "execution_count": null,
      "outputs": []
    },
    {
      "cell_type": "markdown",
      "metadata": {
        "id": "vPRtVsH7M3Qd",
        "colab_type": "text"
      },
      "source": [
        "### Ending Anchor\n",
        "\n",
        "We can anchor to the end of a string with the `$` symbol."
      ]
    },
    {
      "cell_type": "code",
      "metadata": {
        "id": "-wvo42nZNE_i",
        "colab_type": "code",
        "colab": {}
      },
      "source": [
        "pattern = re.compile('.*s$')\n",
        "\n",
        "for string in (\n",
        "  'as',\n",
        "  'beees',\n",
        "  'sa',\n",
        "  ):\n",
        "  print(\"'{}'\".format(string), end=' ')\n",
        "  print('matches' if pattern.match(string) else 'does not match')\n"
      ],
      "execution_count": null,
      "outputs": []
    },
    {
      "cell_type": "markdown",
      "metadata": {
        "id": "hDEFInB4NSxS",
        "colab_type": "text"
      },
      "source": [
        "## Grouping\n",
        "\n",
        "We have searched for exact patterns in our data, but sometimes we want *either* one thing *or* another. We can group searches with parentheses and match only one item in a group."
      ]
    },
    {
      "cell_type": "code",
      "metadata": {
        "id": "-HBIfz7dNm-O",
        "colab_type": "code",
        "colab": {}
      },
      "source": [
        "pattern = re.compile('.*(cat|dog)')\n",
        "\n",
        "for string in (\n",
        "  'cat',\n",
        "  'dog',\n",
        "  'fat cat',\n",
        "  'lazy dog',\n",
        "  'hog',\n",
        "  ):\n",
        "  print(\"'{}'\".format(string), end=' ')\n",
        "  print('matches' if pattern.match(string) else 'does not match')"
      ],
      "execution_count": null,
      "outputs": []
    },
    {
      "cell_type": "markdown",
      "metadata": {
        "id": "HuaWKVrUN3I2",
        "colab_type": "text"
      },
      "source": [
        "Grouping can also be done on a single item."
      ]
    },
    {
      "cell_type": "code",
      "metadata": {
        "id": "knJF7BbIN-Qi",
        "colab_type": "code",
        "colab": {}
      },
      "source": [
        "pattern = re.compile('.*(dog)')\n",
        "\n",
        "for string in (\n",
        "  'cat',\n",
        "  'dog',\n",
        "  'fat cat',\n",
        "  'lazy dog',\n",
        "  'hog',\n",
        "  ):\n",
        "  print(\"'{}'\".format(string), end=' ')\n",
        "  print('matches' if pattern.match(string) else 'does not match')"
      ],
      "execution_count": null,
      "outputs": []
    },
    {
      "cell_type": "markdown",
      "metadata": {
        "id": "G_h15TJlOBeH",
        "colab_type": "text"
      },
      "source": [
        "But why would you ever group a single item? It turns out that grouping is 'capture grouping' by default and allows you to extract items from a string."
      ]
    },
    {
      "cell_type": "code",
      "metadata": {
        "id": "Eb4PuHQkOObL",
        "colab_type": "code",
        "colab": {}
      },
      "source": [
        "pattern = re.compile('.*(dog)')\n",
        "\n",
        "match = pattern.match(\"hot diggity dog\")\n",
        "\n",
        "if match:\n",
        "  print(match.group(0))\n",
        "  print(match.group(1))"
      ],
      "execution_count": null,
      "outputs": []
    },
    {
      "cell_type": "markdown",
      "metadata": {
        "id": "ZZtPgDNOPWPI",
        "colab_type": "text"
      },
      "source": [
        "In the case above, the entire string is considered group 0 because it matched the expression, but then the string 'dog' is group 1 because it was 'captured' by the parenthesis.\n",
        "\n",
        "You can have more than one capture group:"
      ]
    },
    {
      "cell_type": "code",
      "metadata": {
        "id": "6UrNOQEfPpDM",
        "colab_type": "code",
        "colab": {}
      },
      "source": [
        "pattern = re.compile('.*(dog).*(cat)')\n",
        "\n",
        "match = pattern.match(\"hot diggity dog barked at a scared cat\")\n",
        "\n",
        "if match:\n",
        "  print(match.group(0))\n",
        "  print(match.group(1))\n",
        "  print(match.group(2))"
      ],
      "execution_count": null,
      "outputs": []
    },
    {
      "cell_type": "markdown",
      "metadata": {
        "id": "dDe7jOlDQedr",
        "colab_type": "text"
      },
      "source": [
        "And capture groups can contain multiple values:"
      ]
    },
    {
      "cell_type": "code",
      "metadata": {
        "id": "gZjJOTzTP8gg",
        "colab_type": "code",
        "colab": {}
      },
      "source": [
        "pattern = re.compile('.*(dog).*(mouse|cat)')\n",
        "\n",
        "match = pattern.match(\"hot diggity dog barked at a scared cat\")\n",
        "\n",
        "if match:\n",
        "  print(match.group(0))\n",
        "  print(match.group(1))\n",
        "  print(match.group(2))"
      ],
      "execution_count": null,
      "outputs": []
    },
    {
      "cell_type": "markdown",
      "metadata": {
        "id": "OTBUg028Rkt1",
        "colab_type": "text"
      },
      "source": [
        "Grouping can get even richer. For example:\n",
        "\n",
        "- What happens when you have a group within another group?\n",
        "\n",
        "- Can a group be repeated?\n",
        "\n",
        "These are more intermediate-to-advanced applications of regular expressions that you might want to explore on your own."
      ]
    },
    {
      "cell_type": "markdown",
      "metadata": {
        "id": "DabI2VnhSRfU",
        "colab_type": "text"
      },
      "source": [
        "## Substitution\n",
        "\n",
        "So far we have been concerned with finding patterns in a string. Locating things is great, but sometimes you want to take action. A common action is substitution.\n",
        "\n",
        "Say that I want to replace every instance of 'cat' or 'mouse' in a string with 'whale'. To do that I can compile a pattern that looks for 'cat' or 'mouse' and use that pattern in the `re.sub` method."
      ]
    },
    {
      "cell_type": "code",
      "metadata": {
        "id": "HrMNJxt7Sid2",
        "colab_type": "code",
        "colab": {}
      },
      "source": [
        "pattern = re.compile('(cat|mouse)')\n",
        "\n",
        "re.sub(pattern, 'whale', 'The dog is afraid of the mouse')"
      ],
      "execution_count": null,
      "outputs": []
    },
    {
      "cell_type": "markdown",
      "metadata": {
        "id": "gInFcdH_S8yh",
        "colab_type": "text"
      },
      "source": [
        "So far, we have compiled all of our regular expressions before using them. It turns out that many of the regular expression methods can accept a string and will compile that string for you.\n",
        "\n",
        "You might see something like the code below in practice:"
      ]
    },
    {
      "cell_type": "code",
      "metadata": {
        "id": "9_DKxQqRSDxx",
        "colab_type": "code",
        "colab": {}
      },
      "source": [
        "re.sub('(cat|mouse)', 'whale', 'The dog is afraid of the mouse')"
      ],
      "execution_count": null,
      "outputs": []
    },
    {
      "cell_type": "markdown",
      "metadata": {
        "id": "q_u_YXSlTcjl",
        "colab_type": "text"
      },
      "source": [
        "`sub` is compiling the string \"(cat|mouse)\" into a pattern and then applying it to the input string."
      ]
    },
    {
      "cell_type": "markdown",
      "metadata": {
        "id": "KNIjbwUeTtHU",
        "colab_type": "text"
      },
      "source": [
        "## Raw Strings"
      ]
    },
    {
      "cell_type": "markdown",
      "metadata": {
        "id": "sZXKicD_TqHw",
        "colab_type": "text"
      },
      "source": [
        "While working with Python code that uses regular expressions, you might occasionally encounter a string that looks like `r'my string'` instead of the `'my string'` that you are accustomed to seeing.\n",
        "\n",
        "The `r` designation means that the string is a *raw* string. Let's look at some examples to see what this means."
      ]
    },
    {
      "cell_type": "code",
      "metadata": {
        "id": "kx2fV2d5UNb9",
        "colab_type": "code",
        "colab": {}
      },
      "source": [
        "print('\\tHello')\n",
        "print(r'\\tHello')\n",
        "print('\\\\')\n",
        "print(r'\\\\')"
      ],
      "execution_count": null,
      "outputs": []
    },
    {
      "cell_type": "markdown",
      "metadata": {
        "id": "F_X0xkm3UVS-",
        "colab_type": "text"
      },
      "source": [
        "You'll notice that the regular string containing `\\t` printed a tab character. The raw string printed a literal `\\t`. Likewise the regular string printed `\\` while the raw string printed `\\\\`.\n",
        "\n",
        "When processing a string, Python looks for escape sequences like `\\t` (tab), `\\n` (newline), `\\\\` (backslash) and others to make your printed output more visually appealing.\n",
        "\n",
        "Raw strings turn off that translation. This is useful for regular expressions because the backslash is a common character in regular expressions. Translating backslashes to other characters would break the expression.\n",
        "\n",
        "Should you always use a raw string when creating a regular expression? Probably. Even if it isn't necessary now, the expression might grow over time, and it is helpful to have it in place as a safeguard."
      ]
    },
    {
      "cell_type": "markdown",
      "metadata": {
        "id": "xtS1AJqmVm3V",
        "colab_type": "text"
      },
      "source": [
        "# Exercises"
      ]
    },
    {
      "cell_type": "markdown",
      "metadata": {
        "id": "Nafn1PdrVtUa",
        "colab_type": "text"
      },
      "source": [
        "## Exercise 1: Starts With 'a'"
      ]
    },
    {
      "cell_type": "markdown",
      "metadata": {
        "id": "XQ__Lg0qOe_V",
        "colab_type": "text"
      },
      "source": [
        "Create a regular expression pattern object that matches strings starting with the lower-case letter 'a'. Apply it to the test data provided. Loop over each string of test data and print \"match\" or \"no match\" as a result of your expression."
      ]
    },
    {
      "cell_type": "markdown",
      "metadata": {
        "id": "lTFGywybO2lf",
        "colab_type": "text"
      },
      "source": [
        "### **Student Solution**"
      ]
    },
    {
      "cell_type": "code",
      "metadata": {
        "id": "vZ2RGGupVsJu",
        "colab_type": "code",
        "colab": {}
      },
      "source": [
        "test_data = [\n",
        "  'apple',\n",
        "  'banana',\n",
        "  'grapefruit',\n",
        "  'apricot',\n",
        "  'orange'\n",
        "]\n",
        "\n",
        "# Create a pattern here\n",
        "\n",
        "for test in test_data:\n",
        "  pass # Your pattern match goes here "
      ],
      "execution_count": null,
      "outputs": []
    },
    {
      "cell_type": "markdown",
      "metadata": {
        "id": "JHBNo0N4vnUZ",
        "colab_type": "text"
      },
      "source": [
        "---"
      ]
    },
    {
      "cell_type": "markdown",
      "metadata": {
        "id": "-V28jhoJPXPd",
        "colab_type": "text"
      },
      "source": [
        "### Answer Key"
      ]
    },
    {
      "cell_type": "code",
      "metadata": {
        "id": "D1N7u0n4O2De",
        "colab_type": "code",
        "colab": {}
      },
      "source": [
        "test_data = [\n",
        "  'apple',\n",
        "  'banana',\n",
        "  'grapefruit',\n",
        "  'apricot',\n",
        "  'orange'\n",
        "]\n",
        "\n",
        "pattern = re.compile(r'a.*')\n",
        "\n",
        "for test in test_data:\n",
        "  print(\"'{}'\".format(test), end=' ')\n",
        "  print('matches' if pattern.match(test) else 'does not match')"
      ],
      "execution_count": null,
      "outputs": []
    },
    {
      "cell_type": "markdown",
      "metadata": {
        "id": "7PYb9ZzHvrrX",
        "colab_type": "text"
      },
      "source": [
        "---"
      ]
    },
    {
      "cell_type": "markdown",
      "metadata": {
        "id": "j0pZvUlCWeHI",
        "colab_type": "text"
      },
      "source": [
        "## Exercise 2: Contains 'zoo' or 'ZOO'\n"
      ]
    },
    {
      "cell_type": "markdown",
      "metadata": {
        "id": "KNVoaQ9iPsGM",
        "colab_type": "text"
      },
      "source": [
        "Create a regular expression pattern object that matches strings containing 'zoo' or 'ZOO'. Apply it to the test data provided. Loop over each string of the test data and print \"match\" or \"no match\" as a result of your expression."
      ]
    },
    {
      "cell_type": "markdown",
      "metadata": {
        "colab_type": "text",
        "id": "k2mx2BV7P2Ja"
      },
      "source": [
        "### **Student Solution**"
      ]
    },
    {
      "cell_type": "code",
      "metadata": {
        "id": "FG12_l_QXAt2",
        "colab_type": "code",
        "colab": {}
      },
      "source": [
        "test_data = [\n",
        "  'zoo',\n",
        "  'ZOO',\n",
        "  'bazooka',\n",
        "  'ZOOLANDER',\n",
        "  'kaZoo',\n",
        "  'ZooTopia',\n",
        "  'ZOOT Suit',\n",
        "]\n",
        "\n",
        "# Create a pattern here\n",
        "\n",
        "for test in test_data:\n",
        "  pass # Your pattern match goes here "
      ],
      "execution_count": null,
      "outputs": []
    },
    {
      "cell_type": "markdown",
      "metadata": {
        "id": "G68Mxnmn7gQJ",
        "colab_type": "text"
      },
      "source": [
        "---"
      ]
    },
    {
      "cell_type": "markdown",
      "metadata": {
        "colab_type": "text",
        "id": "8yilKP0HP47B"
      },
      "source": [
        "### Answer Key"
      ]
    },
    {
      "cell_type": "code",
      "metadata": {
        "colab_type": "code",
        "id": "B_iJXM9vP47m",
        "colab": {}
      },
      "source": [
        "test_data = [\n",
        "  'zoo',\n",
        "  'ZOO',\n",
        "  'bazooka',\n",
        "  'ZOOLANDER',\n",
        "  'kaZoo',\n",
        "  'ZooTopia',\n",
        "  'ZOOT Suit',\n",
        "]\n",
        "\n",
        "print('Using pattern.match')\n",
        "pattern = re.compile(r'.*(zoo|ZOO).*')\n",
        "\n",
        "for test in test_data:\n",
        "  print(\"'{}'\".format(test), end=' ')\n",
        "  print('matches' if pattern.match(test) else 'does not match') \n",
        "\n",
        "print('\\n')\n",
        "print('Using pattern.search')\n",
        "pattern = re.compile(r'zoo|ZOO')\n",
        "\n",
        "for test in test_data:\n",
        "  print(\"'{}'\".format(test), end=' ')\n",
        "  print('matches' if pattern.search(test) else 'does not match') "
      ],
      "execution_count": null,
      "outputs": []
    },
    {
      "cell_type": "markdown",
      "metadata": {
        "id": "ueziwyFYvz6y",
        "colab_type": "text"
      },
      "source": [
        "---"
      ]
    },
    {
      "cell_type": "markdown",
      "metadata": {
        "id": "vbEAALlWXeBd",
        "colab_type": "text"
      },
      "source": [
        "## Exercise 3: Endings"
      ]
    },
    {
      "cell_type": "markdown",
      "metadata": {
        "id": "Q3iXKaU8QBFm",
        "colab_type": "text"
      },
      "source": [
        "Create a regular expression pattern object that finds words that end with 'ing', independent of case. Apply it to the test data provided. Loop over each string of the test data and print \"match\" or \"no match\" as a result of your expression."
      ]
    },
    {
      "cell_type": "markdown",
      "metadata": {
        "colab_type": "text",
        "id": "UzTR84hWQIwn"
      },
      "source": [
        "### **Student Solution**"
      ]
    },
    {
      "cell_type": "code",
      "metadata": {
        "id": "y-WkcgvOX0Ab",
        "colab_type": "code",
        "colab": {}
      },
      "source": [
        "test_data = [\n",
        "  'sing',\n",
        "  'talking',\n",
        "  'SCREAMING',\n",
        "  'NeVeReNdInG',\n",
        "  'ingeron',\n",
        "]\n",
        "\n",
        "# Create a pattern here\n",
        "\n",
        "for test in test_data:\n",
        "  pass # Your pattern match goes here "
      ],
      "execution_count": null,
      "outputs": []
    },
    {
      "cell_type": "markdown",
      "metadata": {
        "id": "HKr0xaWGv3tm",
        "colab_type": "text"
      },
      "source": [
        "---"
      ]
    },
    {
      "cell_type": "markdown",
      "metadata": {
        "colab_type": "text",
        "id": "iU8ubDjiP5ZG"
      },
      "source": [
        "### Answer Key"
      ]
    },
    {
      "cell_type": "code",
      "metadata": {
        "colab_type": "code",
        "id": "Ei54d4ZCP5ZL",
        "colab": {}
      },
      "source": [
        "test_data = [\n",
        "  'sing',\n",
        "  'talking',\n",
        "  'SCREAMING',\n",
        "  'NeVeReNdInG',\n",
        "  'ingeron',\n",
        "]\n",
        "\n",
        "# re.IGNORECASE makes the pattern case insensitive.\n",
        "# $ anchors to the end of the word.\n",
        "pattern = re.compile(r'.*ing$', re.IGNORECASE)\n",
        "\n",
        "for test in test_data:\n",
        "  print(\"'{}'\".format(test), end=' ')\n",
        "  print('matches' if pattern.match(test) else 'does not match') "
      ],
      "execution_count": null,
      "outputs": []
    },
    {
      "cell_type": "markdown",
      "metadata": {
        "id": "qVzJZblov7RA",
        "colab_type": "text"
      },
      "source": [
        "---"
      ]
    }
  ]
}
