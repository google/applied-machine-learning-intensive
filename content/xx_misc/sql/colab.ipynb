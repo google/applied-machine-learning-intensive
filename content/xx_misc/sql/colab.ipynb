{
  "cells": [
    {
      "cell_type": "markdown",
      "metadata": {
        "colab_type": "text",
        "id": "copyright"
      },
      "source": [
        "#### Copyright 2019 Google LLC."
      ]
    },
    {
      "cell_type": "code",
      "execution_count": 0,
      "metadata": {
        "colab": {},
        "colab_type": "code",
        "id": "H7jQqY8uLeMj"
      },
      "outputs": [],
      "source": [
        "# Licensed under the Apache License, Version 2.0 (the \"License\");\n",
        "# you may not use this file except in compliance with the License.\n",
        "# You may obtain a copy of the License at\n",
        "#\n",
        "# https://www.apache.org/licenses/LICENSE-2.0\n",
        "#\n",
        "# Unless required by applicable law or agreed to in writing, software\n",
        "# distributed under the License is distributed on an \"AS IS\" BASIS,\n",
        "# WITHOUT WARRANTIES OR CONDITIONS OF ANY KIND, either express or implied.\n",
        "# See the License for the specific language governing permissions and\n",
        "# limitations under the License."
      ]
    },
    {
      "cell_type": "markdown",
      "metadata": {
        "colab_type": "text",
        "id": "56E1PL91CGS0"
      },
      "source": [
        "# Introduction to SQL"
      ]
    },
    {
      "cell_type": "markdown",
      "metadata": {
        "colab_type": "text",
        "id": "6IxstrnXEPXZ",
        "slideshow": {
          "slide_type": "slide"
        }
      },
      "source": [
        "![exploits_of_a_mom.png](https://imgs.xkcd.com/comics/exploits_of_a_mom.png)\n",
        "\n",
        "A lot of the data that we interact with today is stored in databases. For example:\n",
        "\n",
        "- Student records, including grades, at a school\n",
        "- Posts and friends in your favorite social network\n",
        "- News stories on a newspaper's website\n",
        "- Your contacts list on your mobile phone\n",
        "- All images that make up Google Maps\n",
        "\n",
        "All these bits of information are stored in various kinds of databases. Some of these are stored in relational databases that are available as open source tools like Postgresql, MySQL and SQLite, as well as commercial databases such as [Google BigQuery](https://cloud.google.com/bigquery/), [Oracle](https://www.oracle.com/database/technologies/), [Microsoft SQL Server](https://azure.microsoft.com/en-us/services/virtual-machines/sql-server/), or [Amazon Aurora](https://aws.amazon.com/rds/aurora/)\n",
        "\n",
        "Others are stored in proprietary systems like Google's [BigTable](https://en.wikipedia.org/wiki/Bigtable) or Facebook's [Haystack Object Store](https://code.fb.com/core-data/needle-in-a-haystack-efficient-storage-of-billions-of-photos/).\n",
        "\n",
        "Whatever the database might, there needs to be a way to extract data from it and a lot of these systems have agreed on a shared language for accessing data.  For relational databases, this language is called SQL (Structured Query Language, pronounced like \"sequel\")."
      ]
    },
    {
      "cell_type": "markdown",
      "metadata": {
        "colab_type": "text",
        "id": "overview"
      },
      "source": [
        "## Overview"
      ]
    },
    {
      "cell_type": "markdown",
      "metadata": {
        "colab_type": "text",
        "id": "learning-objectives"
      },
      "source": [
        "### Learning Objectives\n",
        "\n",
        "* Write simple SQL queries to perform filtering, sorting, grouping and arithmetic\n",
        "* Use JOIN to merge tables and concept of the different joint (left, right, outer, inner)\n",
        "* Understand the use of keywords: AS, LIMIT, and HAVING\n"
      ]
    },
    {
      "cell_type": "markdown",
      "metadata": {
        "colab_type": "text",
        "id": "prerequisites"
      },
      "source": [
        "### Prerequisites\n",
        "\n",
        "* None"
      ]
    },
    {
      "cell_type": "markdown",
      "metadata": {
        "colab_type": "text",
        "id": "duration"
      },
      "source": [
        "### Estimated Duration\n",
        "\n",
        "60 minutes"
      ]
    },
    {
      "cell_type": "markdown",
      "metadata": {
        "colab_type": "text",
        "id": "xaXCNzId9zE6"
      },
      "source": [
        "# Set up Access to Google BigQuery"
      ]
    },
    {
      "cell_type": "markdown",
      "metadata": {
        "colab_type": "text",
        "id": "W0NEiiRJu77_"
      },
      "source": [
        "## Create Google Cloud Project\n",
        "\n",
        "Go to [Google BigQuery Console](https://console.cloud.google.com/bigquery/)\n",
        "\n",
        "  * Click `CREATE` button to create a new project\n",
        "  * Enter a name for your project, eg: AMLI\n",
        "  * Now you have your own project and should be redirected to BigQuery Console page in [`SANDBOX` mode](https://cloud.google.com/blog/products/data-analytics/query-without-a-credit-card-introducing-bigquery-sandbox) with the following [documentation](https://cloud.google.com/bigquery/docs/sandbox)\n",
        "  * On the left navigation bar, you should see your unique project id as the project name is probably not unique.  Click on the project id.\n",
        "    \n",
        "  \n",
        "  "
      ]
    },
    {
      "cell_type": "markdown",
      "metadata": {
        "colab_type": "text",
        "id": "yNk8wnZPxSJQ"
      },
      "source": [
        "## Create or Add Existing Dataset to Your Project\n",
        "\n",
        "The new project does not have datasets but you can create new dataset or add dataset from Google Cloud public dataset collection.\n",
        "\n",
        "First create your first dataset, and name it `amli`:\n",
        "\n",
        "  * Click your project id on the left navigation bar\n",
        "  * Click `CREATE DATASET` on the bottom right\n",
        "  * Set Dataset ID field to `amli`\n",
        "  * Set Data location to US\n",
        "  * In `SANDBOX` mode, leave the expiration date to 60 days\n",
        "  \n",
        "Next add BigQuery Public Dataset:\n",
        "\n",
        "  * Click here to [add BigQuery public data set](https://console.cloud.google.com/bigquery?project=bigquery-public-data\u0026page=project) to your project\n",
        "  * Click `bigquery-public-data` on the left navigation bar, and click `PIN PROJECT` on the right side of the page.  This will ensure the bigquery-public-data is always readily accessible on your console\n",
        "  "
      ]
    },
    {
      "cell_type": "markdown",
      "metadata": {
        "colab_type": "text",
        "id": "C6yBREeJ-Lx1"
      },
      "source": [
        "## Now we're ready for SQL Colabs\n",
        "\n",
        "__Important:__ Before you start, make sure to change the placeholder project id with **your project id**.  To do that:\n",
        "\n",
        "  * Go to your colab page\n",
        "  * Hit Ctrl-H to bring up the Find/Replace tool\n",
        "  * Enter `replace_with_your_project_id` to find the placeholder project id\n",
        "  * Enter your project id as replacement\n",
        "  * Find and replace all occurrences of the project id."
      ]
    },
    {
      "cell_type": "markdown",
      "metadata": {
        "colab_type": "text",
        "id": "gPcx3ET1EWwQ"
      },
      "source": [
        "# Dataset\n",
        "\n",
        "In this Colab, we will try out SQL hands-on with an Austin bike sharing dataset, hosted on Google BigQuery."
      ]
    },
    {
      "cell_type": "markdown",
      "metadata": {
        "colab_type": "text",
        "id": "0LwBo6spfNaM"
      },
      "source": [
        "## Access the dataset\n",
        "\n",
        "Before we get started, we need to authenticate so we are granted access to the dataset:\n",
        "  * Run the code snippet below\n",
        "  * You'll be presented a URL for you to click to open a new browser tab and ask you to choose which Google account you'll like to connect to Google Cloud\n",
        "  * Click `Allow` in the following screen to approve\n",
        "  * Once you give your approval, you'll be presented with a token code\n",
        "  * Please copy the token code, and go back to your lab and paste the token code in the input box"
      ]
    },
    {
      "cell_type": "code",
      "execution_count": 0,
      "metadata": {
        "colab": {},
        "colab_type": "code",
        "id": "5GVAamRURTzh"
      },
      "outputs": [],
      "source": [
        "# Authenticate to access Google BigQuery\n",
        "\n",
        "project_id = 'replace_with_your_project_id'\n",
        "from google.colab import auth\n",
        "auth.authenticate_user()\n",
        "\n",
        "print ('Authentication completed.')\n"
      ]
    },
    {
      "cell_type": "markdown",
      "metadata": {
        "colab_type": "text",
        "id": "sKsjHCnOHau0"
      },
      "source": [
        "## Verify access to the dataset\n",
        "\n",
        "Once you're authenticated, let's verify that you have access to the dataset by running a simple SQL query.\n",
        "\n",
        "The code snippet contains a few lines:\n",
        " *  The first line of that code block is just a magic invocation that connects us to the database we are going to use.\n",
        " *  The second line introduces SQL syntax for the first time.  The SQL statement translates to: grab (SELECT) all the values (*) in the table called bigquery-public-data.austin_bikeshare.bikeshare_trips (FROM bikeshare_trips table within the bigquery-public-data austin_bikeshare dataset) but only show me the first ten (LIMIT 10).\n",
        " \n",
        "__Note:__ To help you understand the SQL commands we are using, the SQL syntax words are listed in CAPITAL letters, the lowercase words are the names of tables or columns."
      ]
    },
    {
      "cell_type": "code",
      "execution_count": 0,
      "metadata": {
        "colab": {},
        "colab_type": "code",
        "id": "vFhKutFdRdf1"
      },
      "outputs": [],
      "source": [
        "%%bigquery --project replace_with_your_project_id\n",
        "\n",
        "SELECT\n",
        "  *\n",
        "FROM\n",
        "  `bigquery-public-data.austin_bikeshare.bikeshare_trips`\n",
        "LIMIT\n",
        "  10\n",
        "  "
      ]
    },
    {
      "cell_type": "markdown",
      "metadata": {
        "colab_type": "text",
        "id": "NBmETBFBEPXr",
        "slideshow": {
          "slide_type": "slide"
        }
      },
      "source": [
        "The bikeshare_trips table is composed of several columns:\n",
        "\n",
        "Field name | Type |\tMode\t| Description\n",
        "--- | --- | --- | ---\n",
        "trip_id\t| INTEGER\t| NULLABLE\t| Numeric ID of bike trip\n",
        "subscriber_type\t| STRING\t| NULLABLE\t| Type of the Subscriber\n",
        "bikeid\t| INTEGER\t| NULLABLE\t| ID of bike used\n",
        "start_time\t| TIMESTAMP\t| NULLABLE\t| Start timestamp of trip\n",
        "start_station_id\t| INTEGER\t| NULLABLE\t| Numeric reference for start station\n",
        "start_station_name\t| STRING\t| NULLABLE\t| Station name for start station\n",
        "end_station_id\t| INTEGER\t| NULLABLE\t| Numeric reference for end station\n",
        "end_station_name\t| STRING\t| NULLABLE\t| Station name for end station\n",
        "duration_minutes\t| INTEGER\t| NULLABLE\t| Time of trip in minutes\n",
        "\n",
        "We don't always want to read all the columns in a table. For example, if we just want the subscriber type, start time, and duration in minutes columns we could select:"
      ]
    },
    {
      "cell_type": "code",
      "execution_count": 0,
      "metadata": {
        "colab": {},
        "colab_type": "code",
        "id": "QZYKSSZYTGiX"
      },
      "outputs": [],
      "source": [
        "%%bigquery --project replace_with_your_project_id\n",
        "\n",
        "SELECT\n",
        "  subscriber_type, start_time, duration_minutes\n",
        "FROM\n",
        "  `bigquery-public-data.austin_bikeshare.bikeshare_trips`\n",
        "LIMIT\n",
        "  10\n",
        "  "
      ]
    },
    {
      "cell_type": "markdown",
      "metadata": {
        "colab_type": "text",
        "id": "nkM3PjhCEPXx"
      },
      "source": [
        "__Tip:__ SQL doesn't care about line breaks so we can spread a SQL query over multiple lines just to make it easier to read."
      ]
    },
    {
      "cell_type": "markdown",
      "metadata": {
        "colab_type": "text",
        "id": "ey7nIuFlEPXy",
        "slideshow": {
          "slide_type": "slide"
        }
      },
      "source": [
        "# Filtering\n",
        "\n",
        "We've seen how to look only at certain columns of the table but it is often useful to only look at certain rows in a table. For example, we could want to look only at the bike trips which are at least a certain number of minutes. Let's say you're only interested in bike trips of 60 minutes or more:"
      ]
    },
    {
      "cell_type": "code",
      "execution_count": 0,
      "metadata": {
        "colab": {},
        "colab_type": "code",
        "id": "gql4fzTQUDIs"
      },
      "outputs": [],
      "source": [
        "%%bigquery --project replace_with_your_project_id\n",
        "SELECT\n",
        "  subscriber_type, start_time, duration_minutes\n",
        "FROM\n",
        "  `bigquery-public-data.austin_bikeshare.bikeshare_trips`\n",
        "WHERE\n",
        "  duration_minutes \u003e= 60\n",
        "LIMIT\n",
        "  10\n",
        "  "
      ]
    },
    {
      "cell_type": "markdown",
      "metadata": {
        "colab_type": "text",
        "id": "EyQYbY7AEPX6"
      },
      "source": [
        "It's also possible to filter by multiple criteria. For example to look at only bike trips which are 60 minutes or more and only the subscriber type of Walk Up:"
      ]
    },
    {
      "cell_type": "code",
      "execution_count": 0,
      "metadata": {
        "colab": {},
        "colab_type": "code",
        "id": "0bs5mGd_UdQP"
      },
      "outputs": [],
      "source": [
        "%%bigquery --project replace_with_your_project_id\n",
        "SELECT\n",
        "  subscriber_type, start_time, duration_minutes\n",
        "FROM\n",
        "  `bigquery-public-data.austin_bikeshare.bikeshare_trips`\n",
        "WHERE\n",
        "  duration_minutes \u003e= 60\n",
        "AND\n",
        "  subscriber_type = \"Walk Up\"\n",
        "LIMIT\n",
        "  10\n",
        "  "
      ]
    },
    {
      "cell_type": "markdown",
      "metadata": {
        "colab_type": "text",
        "id": "nlbXjr7xEPYL",
        "slideshow": {
          "slide_type": "slide"
        }
      },
      "source": [
        "# Sorting\n",
        "\n",
        "So far, we've only looked at rows of data in the order the query is returning to us.  What if we want to see the rows in a certain sorting order?  We use the `ORDER BY` command to sort them by some other criteria. \n",
        "\n",
        "For example, to see the bike trips in the order of the duration in minutes:"
      ]
    },
    {
      "cell_type": "code",
      "execution_count": 0,
      "metadata": {
        "colab": {},
        "colab_type": "code",
        "id": "5jV5-wvaWBKg"
      },
      "outputs": [],
      "source": [
        "%%bigquery --project replace_with_your_project_id\n",
        "SELECT\n",
        "  subscriber_type, start_time, duration_minutes\n",
        "FROM\n",
        "  `bigquery-public-data.austin_bikeshare.bikeshare_trips`\n",
        "ORDER BY\n",
        "  duration_minutes\n",
        "LIMIT\n",
        "  10\n",
        "  "
      ]
    },
    {
      "cell_type": "markdown",
      "metadata": {
        "colab_type": "text",
        "id": "fpDV0WU-DDto"
      },
      "source": [
        "Well, it turns out by default the sorting order is __ascending__.  To sort the rows in __descending__ order, add the keyword `DESC`."
      ]
    },
    {
      "cell_type": "code",
      "execution_count": 0,
      "metadata": {
        "colab": {},
        "colab_type": "code",
        "id": "MwtzhQEvWQLe"
      },
      "outputs": [],
      "source": [
        "%%bigquery --project replace_with_your_project_id\n",
        "SELECT\n",
        "  subscriber_type, start_time, duration_minutes\n",
        "FROM\n",
        "  `bigquery-public-data.austin_bikeshare.bikeshare_trips`\n",
        "ORDER BY\n",
        "  duration_minutes DESC\n",
        "LIMIT\n",
        "  10\n",
        "  "
      ]
    },
    {
      "cell_type": "markdown",
      "metadata": {
        "colab_type": "text",
        "id": "NpO9MDTDEPYU"
      },
      "source": [
        "Of course, we can mix `WHERE` and `ORDER BY`, to get only the bike trips from Walk Up type of subscribers in the order of the duration. "
      ]
    },
    {
      "cell_type": "code",
      "execution_count": 0,
      "metadata": {
        "colab": {},
        "colab_type": "code",
        "id": "F1bTEawCfz0d"
      },
      "outputs": [],
      "source": [
        "%%bigquery --project replace_with_your_project_id\n",
        "SELECT\n",
        "  subscriber_type, start_time, duration_minutes\n",
        "FROM\n",
        "  `bigquery-public-data.austin_bikeshare.bikeshare_trips`\n",
        "WHERE\n",
        "  subscriber_type = \"Walk Up\"\n",
        "ORDER BY\n",
        "  duration_minutes\n",
        "LIMIT\n",
        "  10\n",
        "  "
      ]
    },
    {
      "cell_type": "markdown",
      "metadata": {
        "colab_type": "text",
        "id": "nug9nEAxEPYg"
      },
      "source": [
        "# Aggregation\n",
        "\n",
        "One very powerful feature of SQL is that it allows us to create summary information by grouping rows together.\n",
        "For example, we could ask ourselves how many bike trips were taken for each subscriber type, and which subscriber type has the most bike trips?"
      ]
    },
    {
      "cell_type": "code",
      "execution_count": 0,
      "metadata": {
        "colab": {},
        "colab_type": "code",
        "id": "KK7-meHzgsTH"
      },
      "outputs": [],
      "source": [
        "%%bigquery --project replace_with_your_project_id\n",
        "SELECT\n",
        "  subscriber_type, COUNT(*)\n",
        "FROM\n",
        "  `bigquery-public-data.austin_bikeshare.bikeshare_trips`\n",
        "GROUP BY\n",
        "  subscriber_type\n",
        "ORDER BY\n",
        "  COUNT(*) DESC\n",
        "LIMIT\n",
        "  10\n",
        "  "
      ]
    },
    {
      "cell_type": "markdown",
      "metadata": {
        "colab_type": "text",
        "id": "dFiWkF-CEPYm"
      },
      "source": [
        "`GROUP BY subscriber_type` takes all the rows with a given subscriber_type and produces a single row in the result. This means that we need to tell SQL how we want to combine the other columns' values into a single row. The above example uses `COUNT(*)` which reports of the number of rows that were combined.\n",
        "\n",
        "Aggregating the values for `subscriber_type` is not hard, since they're all the same, SQL just gives us a single copy of the publisher name.  Other columns, we need to either ignore (causing them to be omitted from the output) or specify a way to aggregate them.\n",
        "\n",
        "We must specify an aggregate function for any column that we `SELECT` in our query (except the column that we're grouping by) in order for the command to succeed.  If we don't specify a way to aggregate the value, SQL will complain. For example, the following query should fail:"
      ]
    },
    {
      "cell_type": "code",
      "execution_count": 0,
      "metadata": {
        "colab": {},
        "colab_type": "code",
        "id": "rsAmRFcLDbCG"
      },
      "outputs": [],
      "source": [
        "%%bigquery --project replace_with_your_project_id\n",
        "SELECT\n",
        "  subscriber_type, duration_minutes\n",
        "FROM\n",
        "  `bigquery-public-data.austin_bikeshare.bikeshare_trips`\n",
        "GROUP BY\n",
        "  subscriber_type\n",
        "ORDER BY\n",
        "  COUNT(*) DESC\n",
        "  "
      ]
    },
    {
      "cell_type": "markdown",
      "metadata": {
        "colab_type": "text",
        "id": "29_MgpniE_7A"
      },
      "source": [
        "Let's go back briefly to the first query in the Aggregation section.  The top result was the count of bike trips for subscriber_type `Walk Up`:\n",
        "\n",
        "subscriber_type | f0_\n",
        "--- | ---\n",
        "Walk Up\t| 374151\n",
        "\n",
        "If you'd like to get a more granular break down of the count, you may specify multiple columns to aggregate within the `GROUP BY` clause, for example: further breakdown the aggregate count by the start station IDs:"
      ]
    },
    {
      "cell_type": "code",
      "execution_count": 0,
      "metadata": {
        "colab": {},
        "colab_type": "code",
        "id": "x1Q-hV6Q23f3"
      },
      "outputs": [],
      "source": [
        "%%bigquery --project replace_with_your_project_id\n",
        "SELECT\n",
        "  subscriber_type, start_station_id, count(*)\n",
        "FROM\n",
        "  `bigquery-public-data.austin_bikeshare.bikeshare_trips`\n",
        "WHERE\n",
        "  subscriber_type = 'Walk Up'\n",
        "GROUP BY\n",
        "  subscriber_type, start_station_id\n",
        "ORDER BY\n",
        "  COUNT(*) DESC\n",
        "  "
      ]
    },
    {
      "cell_type": "markdown",
      "metadata": {
        "colab_type": "text",
        "id": "QJ_t5apyEPY2"
      },
      "source": [
        "Great!  Now that you're familiar with how to aggregate data using SQL query by using `COUNT()` as your aggregation function, let' take a look at other aggregation functions.\n",
        "\n",
        "There are [many such functions](https://www.postgresql.org/docs/9.5/functions-aggregate.html). Some common ones include:\n",
        "\n",
        "- `SUM`: To add the values together\n",
        "- `AVG`: To compute the mean of the values\n",
        "- `MIN` or `MAX`: To compute the minimum and maximum respectively\n",
        "    \n",
        "So we could for example compute the __total__ number of minutes of all bike trips for the subscriber type `Walk Up`:"
      ]
    },
    {
      "cell_type": "code",
      "execution_count": 0,
      "metadata": {
        "colab": {},
        "colab_type": "code",
        "id": "OO51d5-qEPY3"
      },
      "outputs": [],
      "source": [
        "%%bigquery --project replace_with_your_project_id\n",
        "SELECT\n",
        "  subscriber_type, SUM(duration_minutes)\n",
        "FROM\n",
        "  `bigquery-public-data.austin_bikeshare.bikeshare_trips`\n",
        "WHERE\n",
        "  subscriber_type = 'Walk Up'\n",
        "GROUP BY\n",
        "  subscriber_type\n",
        "LIMIT\n",
        "  10\n",
        "  "
      ]
    },
    {
      "cell_type": "markdown",
      "metadata": {
        "colab_type": "text",
        "id": "RYqF0qS8EPZI"
      },
      "source": [
        "# Joining\n",
        "\n",
        "It is frequently the case that the data we need is spread across multiple tables in our database. For example, we might want to store additional information about the starting and ending location of the ride beside their IDs in a table called `bikeshare_stations`.\n",
        "\n",
        "Here's the columns in table `bikeshare_stations`\n",
        "\n",
        "Field name |\tType |\tMode |\tDescription\n",
        "--- | ---| ---| ---\n",
        "station_id |\tINTEGER |\tNULLABLE |\tUnique identifier of a station.\n",
        "name |\tSTRING |\tNULLABLE |\tPublic name of the station.\n",
        "status |\tSTRING |\tNULLABLE |\tStatus of the station. Allowed values: active, closed, moved, ACL only\n",
        "latitude |\tFLOAT |\tNULLABLE |\tThe latitude of station. The field value must be a valid WGS84 latitude in decimal degrees format.\n",
        "longitude |\tFLOAT |\tNULLABLE |\tThe longitude of station. The field value must be a valid WGS84 longitude in decimal degrees format.\n",
        "location |\tSTRING |\tNULLABLE |\tThe latitude and longitude of the station.\n"
      ]
    },
    {
      "cell_type": "code",
      "execution_count": 0,
      "metadata": {
        "colab": {},
        "colab_type": "code",
        "id": "7cfUUmOaEPZJ"
      },
      "outputs": [],
      "source": [
        "%%bigquery --project replace_with_your_project_id\n",
        "SELECT\n",
        "  *\n",
        "FROM\n",
        "  `bigquery-public-data.austin_bikeshare.bikeshare_stations`\n",
        "LIMIT\n",
        "  10\n",
        "  "
      ]
    },
    {
      "cell_type": "markdown",
      "metadata": {
        "colab_type": "text",
        "id": "5jvnKPsWEPZO"
      },
      "source": [
        "This means that we now have the data to answer questions like \"How many bike trips originated from bike station that's currently active?\" but the data are spread across two tables?\n",
        "\n",
        "We could imagine storing the `status` column in our `bikeshare_trips` table since we list the start and end stations IDs for each game but there are a few important reasons why that's a bad idea:\n",
        "\n",
        "1. We would waste space by duplicating data (not a big deal for this example but a real concern for large systems)\n",
        "2. Updating data (for example status of station from active to closed) would require updating\n",
        "   each row in `bikeshare_trips` that refers to that station ID. This is time-consuming and error-prone. \n",
        "   \n",
        "Instead we leave the data in two separate tables and need a way to 'join' the values together. We can do that by just listing multiple table names but the result is a mess:"
      ]
    },
    {
      "cell_type": "code",
      "execution_count": 0,
      "metadata": {
        "colab": {},
        "colab_type": "code",
        "id": "qGhDMSIfEPZO"
      },
      "outputs": [],
      "source": [
        "%%bigquery --project replace_with_your_project_id\n",
        "SELECT\n",
        "  *\n",
        "FROM\n",
        "  `bigquery-public-data.austin_bikeshare.bikeshare_trips`,\n",
        "  `bigquery-public-data.austin_bikeshare.bikeshare_stations`\n",
        "LIMIT\n",
        "  10\n",
        "  "
      ]
    },
    {
      "cell_type": "markdown",
      "metadata": {
        "colab_type": "text",
        "id": "toaM83O0EPZT"
      },
      "source": [
        "If you look carefully you might notice that the rows are identical for the first few columns and then start to \n",
        "differ after `duration_minutes`. That's because SQL joins each row in the first table with each row in the second table. \n",
        "With 96 rows in `bikeshare_stations` and 1,077,929 rows in `bikeshare_trips`, we end up with a table of 103,481184 rows. \n",
        "\n",
        "This rarely if ever is what we want. In most cases, we want to match up some aspect of the rows in the first table with \n",
        "some aspect of the rows in the second table. In most cases, we want to match up based on some column being equal.\n",
        "\n",
        "In our bike sharing example, the `station_id` column of `bikeshare_stations` matches up with the `start_station_id` or `end_station_id` column of `bikeshare_trips`. To force this match, we filter out the ones that don't have the same value for both of these columns:"
      ]
    },
    {
      "cell_type": "code",
      "execution_count": 0,
      "metadata": {
        "colab": {},
        "colab_type": "code",
        "id": "esIt96yIEPZU"
      },
      "outputs": [],
      "source": [
        "%%bigquery --project replace_with_your_project_id\n",
        "SELECT\n",
        "  *\n",
        "FROM\n",
        "  `bigquery-public-data.austin_bikeshare.bikeshare_trips`,\n",
        "  `bigquery-public-data.austin_bikeshare.bikeshare_stations`\n",
        "WHERE\n",
        "  `bigquery-public-data.austin_bikeshare.bikeshare_trips`.start_station_id =\n",
        "  `bigquery-public-data.austin_bikeshare.bikeshare_stations`.station_id\n",
        "LIMIT\n",
        "  10\n",
        "  "
      ]
    },
    {
      "cell_type": "markdown",
      "metadata": {
        "colab_type": "text",
        "id": "tNxkGwZAEPZZ"
      },
      "source": [
        "Notice that the result looks more sensical: we end up with one row from `bikeshare_trips` and the corresponding row from\n",
        "`bikeshare_stations` (copied multiple times since there were only 96 rows in `bikeshare_stations`).\n",
        "\n",
        "We can check the size of the resulting table by running:"
      ]
    },
    {
      "cell_type": "code",
      "execution_count": 0,
      "metadata": {
        "colab": {},
        "colab_type": "code",
        "id": "YqV3YGvoEPZa"
      },
      "outputs": [],
      "source": [
        "%%bigquery --project replace_with_your_project_id\n",
        "SELECT\n",
        "  COUNT(*)\n",
        "FROM\n",
        "  `bigquery-public-data.austin_bikeshare.bikeshare_trips`, \n",
        "  `bigquery-public-data.austin_bikeshare.bikeshare_stations`\n",
        "WHERE\n",
        "  `bigquery-public-data.austin_bikeshare.bikeshare_trips`.start_station_id = \n",
        "  `bigquery-public-data.austin_bikeshare.bikeshare_stations`.station_id\n",
        "  "
      ]
    },
    {
      "cell_type": "markdown",
      "metadata": {
        "colab_type": "text",
        "id": "_GbT-JqKEPZg"
      },
      "source": [
        "Note that this is slightly smaller than the 1,077,929 rows that we started with in `bikeshares_trips` because bike trips whose starting station ID was not part of the list in `bikeshare_stations` got removed by the `WHERE` clause.\n",
        "\n",
        "You might also see some cases where the comma between the table names is replaced with the keyword `JOIN` and `WHERE` is replaced with `ON`. This is synonymous but sometimes preferred to make it clear that you are joining two tables and that your filters are there to specify how those tables are to be joined:"
      ]
    },
    {
      "cell_type": "code",
      "execution_count": 0,
      "metadata": {
        "colab": {},
        "colab_type": "code",
        "id": "jKFDh9E1EPZh"
      },
      "outputs": [],
      "source": [
        "%%bigquery --project replace_with_your_project_id\n",
        "SELECT\n",
        "  COUNT(*)\n",
        "FROM\n",
        "  `bigquery-public-data.austin_bikeshare.bikeshare_trips`\n",
        "  JOIN `bigquery-public-data.austin_bikeshare.bikeshare_stations`\n",
        "ON\n",
        "  `bigquery-public-data.austin_bikeshare.bikeshare_trips`.start_station_id = \n",
        "  `bigquery-public-data.austin_bikeshare.bikeshare_stations`.station_id\n",
        "  "
      ]
    },
    {
      "cell_type": "markdown",
      "metadata": {
        "colab_type": "text",
        "id": "NtI-ebVDEPZl"
      },
      "source": [
        "We can now use all the SQL tools that we've learned on this combined table. For example, to find out which __active__ bike station which has the highest bike trip counts so we can ensure there is always plenty of bikes available, we can run:"
      ]
    },
    {
      "cell_type": "code",
      "execution_count": 0,
      "metadata": {
        "colab": {},
        "colab_type": "code",
        "id": "O-3_k17oEPZm"
      },
      "outputs": [],
      "source": [
        "%%bigquery --project replace_with_your_project_id\n",
        "SELECT\n",
        "  station_id, COUNT(trip_id) AS trip_count\n",
        "FROM\n",
        "  `bigquery-public-data.austin_bikeshare.bikeshare_trips`\n",
        "  JOIN `bigquery-public-data.austin_bikeshare.bikeshare_stations`\n",
        "ON\n",
        "  `bigquery-public-data.austin_bikeshare.bikeshare_trips`.start_station_id = \n",
        "  `bigquery-public-data.austin_bikeshare.bikeshare_stations`.station_id\n",
        "WHERE\n",
        "  duration_minutes \u003e= 60\n",
        "  AND status = 'active'\n",
        "GROUP BY\n",
        "  station_id\n",
        "ORDER BY\n",
        "  trip_count DESC\n",
        "LIMIT\n",
        "  10\n",
        "  "
      ]
    },
    {
      "cell_type": "markdown",
      "metadata": {
        "colab_type": "text",
        "id": "5G0dlYRoVhoz"
      },
      "source": [
        "# Exercises"
      ]
    },
    {
      "cell_type": "markdown",
      "metadata": {
        "colab_type": "text",
        "id": "TA-dLg-wU6hu"
      },
      "source": [
        "## Exercise 1: Filtering"
      ]
    },
    {
      "cell_type": "markdown",
      "metadata": {
        "colab_type": "text",
        "id": "hchYYw-hhwK9"
      },
      "source": [
        "Figure out how to get all the trips on the bike with id of `320` and only include rides which are shorter than 60 minutes."
      ]
    },
    {
      "cell_type": "markdown",
      "metadata": {
        "colab_type": "text",
        "id": "dlmCQggeVyaV"
      },
      "source": [
        "### Student Solution"
      ]
    },
    {
      "cell_type": "code",
      "execution_count": 0,
      "metadata": {
        "colab": {},
        "colab_type": "code",
        "id": "kuEcp8TCqDzU"
      },
      "outputs": [],
      "source": [
        "%%bigquery --project ..."
      ]
    },
    {
      "cell_type": "markdown",
      "metadata": {
        "colab_type": "text",
        "id": "exercise-1-key-1"
      },
      "source": [
        "### Answer Key"
      ]
    },
    {
      "cell_type": "markdown",
      "metadata": {
        "colab_type": "text",
        "id": "exercise-1-solution-1"
      },
      "source": [
        "**Solution**"
      ]
    },
    {
      "cell_type": "code",
      "execution_count": 0,
      "metadata": {
        "colab": {},
        "colab_type": "code",
        "id": "VQCu0qt7Viax"
      },
      "outputs": [],
      "source": [
        "%%bigquery --project replace_with_your_project_id\n",
        "SELECT\n",
        "  subscriber_type, start_time, duration_minutes\n",
        "FROM\n",
        "  `bigquery-public-data.austin_bikeshare.bikeshare_trips`\n",
        "WHERE\n",
        "  duration_minutes \u003c 60\n",
        "AND\n",
        "  bikeid = '320'\n",
        "LIMIT\n",
        "  10\n",
        "  "
      ]
    },
    {
      "cell_type": "markdown",
      "metadata": {
        "colab_type": "text",
        "id": "LGFsAO5WV2gM"
      },
      "source": [
        "**Validation**"
      ]
    },
    {
      "cell_type": "code",
      "execution_count": 0,
      "metadata": {
        "colab": {},
        "colab_type": "code",
        "id": "Lb2sQ3bqV3pU"
      },
      "outputs": [],
      "source": [
        "# TODO(sangto)"
      ]
    },
    {
      "cell_type": "markdown",
      "metadata": {
        "colab_type": "text",
        "id": "1OiP8IdsgD1E"
      },
      "source": [
        "## Exercise 2: Sorting"
      ]
    },
    {
      "cell_type": "markdown",
      "metadata": {
        "colab_type": "text",
        "id": "fvDQHLOuhzZe"
      },
      "source": [
        "Get the start and end station IDs for bike trips that are longer 60 minutes or longer, in the order of the largest number of minutes first and display the top 40 results."
      ]
    },
    {
      "cell_type": "markdown",
      "metadata": {
        "colab_type": "text",
        "id": "kszlO8JrV7_7"
      },
      "source": [
        "### Student Solution"
      ]
    },
    {
      "cell_type": "code",
      "execution_count": 0,
      "metadata": {
        "colab": {},
        "colab_type": "code",
        "id": "4_d67oQyqaQv"
      },
      "outputs": [],
      "source": [
        "%%bigquery --project ..."
      ]
    },
    {
      "cell_type": "markdown",
      "metadata": {
        "colab_type": "text",
        "id": "exercise-2-key-1"
      },
      "source": [
        "### Answer Key"
      ]
    },
    {
      "cell_type": "markdown",
      "metadata": {
        "colab_type": "text",
        "id": "exercise-2-solution-1"
      },
      "source": [
        "**Solution**"
      ]
    },
    {
      "cell_type": "code",
      "execution_count": 0,
      "metadata": {
        "colab": {},
        "colab_type": "code",
        "id": "vPRWJqAFghyB"
      },
      "outputs": [],
      "source": [
        "%%bigquery --project replace_with_your_project_id\n",
        "SELECT\n",
        "  duration_minutes, start_station_id, end_station_id\n",
        "FROM\n",
        "  `bigquery-public-data.austin_bikeshare.bikeshare_trips`\n",
        "WHERE\n",
        "  duration_minutes \u003e= 60\n",
        "ORDER BY\n",
        "  duration_minutes DESC\n",
        "LIMIT\n",
        "  40\n",
        "  "
      ]
    },
    {
      "cell_type": "markdown",
      "metadata": {
        "colab_type": "text",
        "id": "LZuRqDHGWBbb"
      },
      "source": [
        "**Validation**"
      ]
    },
    {
      "cell_type": "code",
      "execution_count": 0,
      "metadata": {
        "colab": {},
        "colab_type": "code",
        "id": "ZAYlmxx6WDsC"
      },
      "outputs": [],
      "source": [
        "# TODO(sangto)"
      ]
    },
    {
      "cell_type": "markdown",
      "metadata": {
        "colab_type": "text",
        "id": "JaGe22JjEPZA"
      },
      "source": [
        "## Exercise 3: Aggregation"
      ]
    },
    {
      "cell_type": "markdown",
      "metadata": {
        "colab_type": "text",
        "id": "uaBH1OOjh2Uh"
      },
      "source": [
        "Compute the average duration of bike trips for each starting station id and list the results in order of highest average to lowest average."
      ]
    },
    {
      "cell_type": "markdown",
      "metadata": {
        "colab_type": "text",
        "id": "J39VOYIhWHf-"
      },
      "source": [
        "### Student Solution"
      ]
    },
    {
      "cell_type": "code",
      "execution_count": 0,
      "metadata": {
        "colab": {},
        "colab_type": "code",
        "id": "D3TFCJuKqbwC"
      },
      "outputs": [],
      "source": [
        "%%bigquery --project ..."
      ]
    },
    {
      "cell_type": "markdown",
      "metadata": {
        "colab_type": "text",
        "id": "exercise-3-key-1"
      },
      "source": [
        "### Answer Key"
      ]
    },
    {
      "cell_type": "markdown",
      "metadata": {
        "colab_type": "text",
        "id": "exercise-3-solution-1"
      },
      "source": [
        "**Solution**"
      ]
    },
    {
      "cell_type": "code",
      "execution_count": 0,
      "metadata": {
        "colab": {},
        "colab_type": "code",
        "id": "71NV6Q72HFM2"
      },
      "outputs": [],
      "source": [
        "%%bigquery --project replace_with_your_project_id\n",
        "SELECT\n",
        "  start_station_id, AVG(duration_minutes)\n",
        "FROM\n",
        "  `bigquery-public-data.austin_bikeshare.bikeshare_trips`\n",
        "GROUP BY\n",
        "  start_station_id\n",
        "ORDER BY\n",
        "  AVG(duration_minutes) DESC\n",
        "LIMIT\n",
        "  10\n",
        "  "
      ]
    },
    {
      "cell_type": "markdown",
      "metadata": {
        "colab_type": "text",
        "id": "Ov7XcF7RWL7x"
      },
      "source": [
        "**Validation**"
      ]
    },
    {
      "cell_type": "code",
      "execution_count": 0,
      "metadata": {
        "colab": {},
        "colab_type": "code",
        "id": "vrtCsbFzWLmX"
      },
      "outputs": [],
      "source": [
        "# TODO(sangto)"
      ]
    },
    {
      "cell_type": "markdown",
      "metadata": {
        "colab_type": "text",
        "id": "Sjun2UCYEPZq"
      },
      "source": [
        "## Exercise 4: Joining"
      ]
    },
    {
      "cell_type": "markdown",
      "metadata": {
        "colab_type": "text",
        "id": "i41zGgvih4yv"
      },
      "source": [
        "Use `JOIN` to show the station IDs of active stations and the duration of bike trips originating and ending at the same station with subscribe type Annual."
      ]
    },
    {
      "cell_type": "markdown",
      "metadata": {
        "colab_type": "text",
        "id": "Fpv3c1yrWSiD"
      },
      "source": [
        "### Student Solution"
      ]
    },
    {
      "cell_type": "code",
      "execution_count": 0,
      "metadata": {
        "colab": {},
        "colab_type": "code",
        "id": "RYHcrK5QqdMf"
      },
      "outputs": [],
      "source": [
        "%%bigquery --project ..."
      ]
    },
    {
      "cell_type": "markdown",
      "metadata": {
        "colab_type": "text",
        "id": "exercise-4-key-1"
      },
      "source": [
        "### Answer Key"
      ]
    },
    {
      "cell_type": "markdown",
      "metadata": {
        "colab_type": "text",
        "id": "exercise-4-solution-1"
      },
      "source": [
        "**Solution**"
      ]
    },
    {
      "cell_type": "code",
      "execution_count": 0,
      "metadata": {
        "colab": {},
        "colab_type": "code",
        "id": "57Sz6Cr2EPZr"
      },
      "outputs": [],
      "source": [
        "%%bigquery --project replace_with_your_project_id\n",
        "SELECT\n",
        "  station_id, AVG(duration_minutes)\n",
        "FROM\n",
        "  `bigquery-public-data.austin_bikeshare.bikeshare_trips`\n",
        "  JOIN `bigquery-public-data.austin_bikeshare.bikeshare_stations`\n",
        "ON\n",
        "  `bigquery-public-data.austin_bikeshare.bikeshare_trips`.start_station_id = \n",
        "  `bigquery-public-data.austin_bikeshare.bikeshare_stations`.station_id\n",
        "WHERE\n",
        "  subscriber_type = 'Annual'\n",
        "  AND start_station_id = end_station_id\n",
        "  AND status = 'active'\n",
        "GROUP BY\n",
        "  station_id\n",
        "LIMIT\n",
        "  10\n"
      ]
    },
    {
      "cell_type": "markdown",
      "metadata": {
        "colab_type": "text",
        "id": "yNxxTEydWW9C"
      },
      "source": [
        "**Validation**"
      ]
    },
    {
      "cell_type": "code",
      "execution_count": 0,
      "metadata": {
        "colab": {},
        "colab_type": "code",
        "id": "Ouvzdj2RWYYB"
      },
      "outputs": [],
      "source": [
        "# TODO(sangto)"
      ]
    }
  ],
  "metadata": {
    "colab": {
      "collapsed_sections": [
        "copyright",
        "exercise-1-key-1",
        "exercise-2-key-1",
        "exercise-3-key-1",
        "exercise-4-key-1"
      ],
      "name": "Introduction to SQL",
      "private_outputs": true,
      "provenance": [],
      "toc_visible": true,
      "version": "0.3.2"
    },
    "kernelspec": {
      "display_name": "Python 3",
      "name": "python3"
    }
  },
  "nbformat": 4,
  "nbformat_minor": 0
}
