{
  "nbformat": 4,
  "nbformat_minor": 0,
  "metadata": {
    "colab": {
      "name": "Introduction to TensorFlow",
      "provenance": [],
      "private_outputs": true,
      "collapsed_sections": [
        "copyright",
        "Enrioe92F6tE"
      ],
      "toc_visible": true,
      "include_colab_link": true
    },
    "kernelspec": {
      "display_name": "Python 3",
      "name": "python3"
    }
  },
  "cells": [
    {
      "cell_type": "markdown",
      "metadata": {
        "id": "view-in-github",
        "colab_type": "text"
      },
      "source": [
        "<a href=\"https://colab.research.google.com/github/google/applied-machine-learning-intensive/blob/master/content/03_regression/05_introduction_to_tensorflow/colab.ipynb\" target=\"_parent\"><img src=\"https://colab.research.google.com/assets/colab-badge.svg\" alt=\"Open In Colab\"/></a>"
      ]
    },
    {
      "cell_type": "markdown",
      "metadata": {
        "colab_type": "text",
        "id": "copyright"
      },
      "source": [
        "#### Copyright 2020 Google LLC."
      ]
    },
    {
      "cell_type": "code",
      "metadata": {
        "colab_type": "code",
        "id": "nUILHfaIXp8i",
        "colab": {}
      },
      "source": [
        "# Licensed under the Apache License, Version 2.0 (the \"License\");\n",
        "# you may not use this file except in compliance with the License.\n",
        "# You may obtain a copy of the License at\n",
        "#\n",
        "# https://www.apache.org/licenses/LICENSE-2.0\n",
        "#\n",
        "# Unless required by applicable law or agreed to in writing, software\n",
        "# distributed under the License is distributed on an \"AS IS\" BASIS,\n",
        "# WITHOUT WARRANTIES OR CONDITIONS OF ANY KIND, either express or implied.\n",
        "# See the License for the specific language governing permissions and\n",
        "# limitations under the License."
      ],
      "execution_count": 0,
      "outputs": []
    },
    {
      "cell_type": "markdown",
      "metadata": {
        "colab_type": "text",
        "id": "_FdRu8E0F6EJ"
      },
      "source": [
        "# Introduction to TensorFlow"
      ]
    },
    {
      "cell_type": "markdown",
      "metadata": {
        "colab_type": "text",
        "id": "-BAA5YllEH3S"
      },
      "source": [
        "[TensorFlow](http://tensorflow.org) is a software library used for high-performance numerical computation. It can be used from a variety of languages and deployed on a large number of operating systems and hardware platforms.\n",
        "\n",
        "TensorFlow is particularly good at machine learning and is often associated with it. However, TensorFlow isn't limited to machine learning applications.\n"
      ]
    },
    {
      "cell_type": "markdown",
      "metadata": {
        "id": "DDm6iXKZBPaB",
        "colab_type": "text"
      },
      "source": [
        "## TensorFlow Version"
      ]
    },
    {
      "cell_type": "markdown",
      "metadata": {
        "id": "5SKPdCbjBSfK",
        "colab_type": "text"
      },
      "source": [
        "In late 2019, TensorFlow moved from version `1.x` to version `2.x`. This move signaled a major change in how programmers use TensorFlow. Many of the APIs used in version 1 are no longer core to the libarary.\n",
        "\n",
        "In this course we use TensorFlow 2 exclusively.\n",
        "\n",
        "TensorFlow 1 and TensorFlow 2 can't be installed in the same environment at the same time. As of early 2020, Colab still defaulted to using TensorFlow 1. In order to enable TensorFlow 2, run the code cell below:"
      ]
    },
    {
      "cell_type": "code",
      "metadata": {
        "id": "DaSeHyW3_eKf",
        "colab_type": "code",
        "colab": {}
      },
      "source": [
        "%tensorflow_version 2.x"
      ],
      "execution_count": 0,
      "outputs": []
    },
    {
      "cell_type": "markdown",
      "metadata": {
        "id": "DlZ4QBIRC9he",
        "colab_type": "text"
      },
      "source": [
        "This cell runs a magic that tells Colab to use TensorFlow 2 instead of TensorFlow 1 by default. This magic needs to run before you actually load TensorFlow.\n",
        "\n",
        "In the future this magic might not be necessary. If you are ever in doubt of which TensorFlow you are using, import `tensorflow` and print out the version."
      ]
    },
    {
      "cell_type": "code",
      "metadata": {
        "id": "zjomxNnvDU5C",
        "colab_type": "code",
        "colab": {}
      },
      "source": [
        "import tensorflow as tf\n",
        "\n",
        "print(tf.__version__)"
      ],
      "execution_count": 0,
      "outputs": []
    },
    {
      "cell_type": "markdown",
      "metadata": {
        "colab_type": "text",
        "id": "r36Rz1wzcUro"
      },
      "source": [
        "## Tensors\n",
        "\n",
        "TensorFlow gets its name from **tensors**, which are arrays of arbitrary dimensionality. Using TensorFlow, you can manipulate tensors with a very high number of dimensions. With that being said, most of the time you will work with one or more of the following low-dimensional tensors:"
      ]
    },
    {
      "cell_type": "markdown",
      "metadata": {
        "id": "Zlsfo3aEEgyg",
        "colab_type": "text"
      },
      "source": [
        "### Scalars"
      ]
    },
    {
      "cell_type": "markdown",
      "metadata": {
        "id": "yzsOB6mlEiZ0",
        "colab_type": "text"
      },
      "source": [
        "A **scalar** is a 0-d array (a 0th-order tensor). An example might be `\"Howdy\"` or `5`.\n",
        "\n",
        "How would we create a scalar tensor, or any tensor for that matter?\n",
        "\n",
        "One ways is to use `tf.constant()`. This creates a **constant tensor**, which is a tensor that cannot change."
      ]
    },
    {
      "cell_type": "code",
      "metadata": {
        "id": "w3EWv5ZKDttp",
        "colab_type": "code",
        "colab": {}
      },
      "source": [
        "scalar_tensor = tf.constant(\"Hi Mom!\")\n",
        "print(scalar_tensor)"
      ],
      "execution_count": 0,
      "outputs": []
    },
    {
      "cell_type": "markdown",
      "metadata": {
        "id": "cGd8aEBwEV5k",
        "colab_type": "text"
      },
      "source": [
        "Notice that the shape of the tensor is `()`, which indicates that the tensor is a scalar."
      ]
    },
    {
      "cell_type": "markdown",
      "metadata": {
        "id": "P4L-BGswEdqK",
        "colab_type": "text"
      },
      "source": [
        "### Vectors"
      ]
    },
    {
      "cell_type": "markdown",
      "metadata": {
        "id": "sltvfWBMEpCm",
        "colab_type": "text"
      },
      "source": [
        "A **vector** is a 1-d array (a 1st-order tensor). An example might be `[2, 3, 5, 7, 11]` or even `[5]`.\n",
        "\n",
        "We can again use `tf.constant()` to create the tensor."
      ]
    },
    {
      "cell_type": "code",
      "metadata": {
        "id": "Ixlx45SoEox0",
        "colab_type": "code",
        "colab": {}
      },
      "source": [
        "vector_tensor = tf.constant([1, 2, 3])\n",
        "print(vector_tensor)"
      ],
      "execution_count": 0,
      "outputs": []
    },
    {
      "cell_type": "markdown",
      "metadata": {
        "id": "mielH7FgFMNn",
        "colab_type": "text"
      },
      "source": [
        "Notice now that our shape has changed to `(3,)`."
      ]
    },
    {
      "cell_type": "markdown",
      "metadata": {
        "id": "uU8GVaBoFQc5",
        "colab_type": "text"
      },
      "source": [
        "### Matrix"
      ]
    },
    {
      "cell_type": "markdown",
      "metadata": {
        "id": "anVENBnUFTx4",
        "colab_type": "text"
      },
      "source": [
        "A **matrix** is a 2-d array (a 2nd-order tensor). For example:\n",
        "\n",
        "```\n",
        "  [\n",
        "    [3.1, 8.2, 5.9],\n",
        "    [4.3, -2.7, 6.5],\n",
        "  ]\n",
        "```"
      ]
    },
    {
      "cell_type": "code",
      "metadata": {
        "id": "jzNZDQH7FdGP",
        "colab_type": "code",
        "colab": {}
      },
      "source": [
        "matrix_tensor = tf.constant([[1.2, 3.4, 5.6], [7.8, 9.0, 1.2]])\n",
        "print(matrix_tensor)"
      ],
      "execution_count": 0,
      "outputs": []
    },
    {
      "cell_type": "markdown",
      "metadata": {
        "id": "Deqzy12KFcsu",
        "colab_type": "text"
      },
      "source": [
        "### Cubes"
      ]
    },
    {
      "cell_type": "markdown",
      "metadata": {
        "id": "_Lbz2LpADxRI",
        "colab_type": "text"
      },
      "source": [
        "A **cube** is a 3d array (a 3rd-order tensor). For example:\n",
        "\n",
        "```\n",
        "  [\n",
        "    [\n",
        "      [3.1, 8.2, 5.9],\n",
        "      [4.3, 2.7, 6.5],\n",
        "    ],\n",
        "    [\n",
        "      [4.5, 5.2, 3.1],\n",
        "      [3.4, 2.0, 5.9],\n",
        "    ],\n",
        "    [\n",
        "      [4.2, 3.7, 9.1],\n",
        "      [6.4, 1.2, 6.4],\n",
        "    ],\n",
        "    [\n",
        "      [9.9, 6.1, 8.8],\n",
        "      [3.1, 8.7, 4.5],\n",
        "    ],\n",
        "  ]\n",
        "```"
      ]
    },
    {
      "cell_type": "markdown",
      "metadata": {
        "id": "bpWv_8WoFsXR",
        "colab_type": "text"
      },
      "source": [
        "#### Exercise 1: Create a Cube\n",
        "\n",
        "Using `tf.constant()` create 3rd-order tensor. Print the tensor.\n",
        "\n",
        "**Student Solution**"
      ]
    },
    {
      "cell_type": "code",
      "metadata": {
        "id": "ZPvWJMc-Frz2",
        "colab_type": "code",
        "colab": {}
      },
      "source": [
        "# Your Code Goes Here"
      ],
      "execution_count": 0,
      "outputs": []
    },
    {
      "cell_type": "markdown",
      "metadata": {
        "id": "MO1f8gLpF6Dn",
        "colab_type": "text"
      },
      "source": [
        "---"
      ]
    },
    {
      "cell_type": "markdown",
      "metadata": {
        "id": "Enrioe92F6tE",
        "colab_type": "text"
      },
      "source": [
        "##### Answer Key"
      ]
    },
    {
      "cell_type": "markdown",
      "metadata": {
        "id": "eWrJVxlYF84u",
        "colab_type": "text"
      },
      "source": [
        "Note that the values in the cube aren't important for this solution to be correct. The important thing is that there are three dimensions."
      ]
    },
    {
      "cell_type": "code",
      "metadata": {
        "id": "Qc-VpNqwGOIV",
        "colab_type": "code",
        "colab": {}
      },
      "source": [
        "%tensorflow_version 2.x\n",
        "\n",
        "import tensorflow as tf\n",
        "\n",
        "cube_tensor = tf.constant([\n",
        "  [\n",
        "    [3.1, 8.2, 5.9],\n",
        "    [4.3, 2.7, 6.5],\n",
        "  ],\n",
        "  [\n",
        "    [4.5, 5.2, 3.1],\n",
        "    [3.4, 2.0, 5.9],\n",
        "  ],\n",
        "  [\n",
        "    [4.2, 3.7, 9.1],\n",
        "    [6.4, 1.2, 6.4],\n",
        "  ],\n",
        "  [\n",
        "    [9.9, 6.1, 8.8],\n",
        "    [3.1, 8.7, 4.5],\n",
        "  ],\n",
        "])\n",
        "print(cube_tensor)"
      ],
      "execution_count": 0,
      "outputs": []
    },
    {
      "cell_type": "markdown",
      "metadata": {
        "id": "YkhysNbqGGGv",
        "colab_type": "text"
      },
      "source": [
        "---"
      ]
    },
    {
      "cell_type": "markdown",
      "metadata": {
        "id": "KozwsHewGTAx",
        "colab_type": "text"
      },
      "source": [
        "### Higher-Order Tensors"
      ]
    },
    {
      "cell_type": "markdown",
      "metadata": {
        "id": "Dn-MhxmCGVmo",
        "colab_type": "text"
      },
      "source": [
        "Tensors can have an arbitrarily large number of dimensions. Your mathematical needs might require large numbers of dimensions, but for the most part you'll likely see tensors in these smaller dimensions that we've covered. "
      ]
    },
    {
      "cell_type": "markdown",
      "metadata": {
        "colab_type": "text",
        "id": "5qS4EkNVE64R"
      },
      "source": [
        "### Variable Tensors\n",
        "\n",
        "A variable is a type of tensor that can change. Creating variable tensors doesn't look much different from creating constant tensors."
      ]
    },
    {
      "cell_type": "code",
      "metadata": {
        "colab_type": "code",
        "id": "CXFIG_FkF5bJ",
        "colab": {}
      },
      "source": [
        "vector_tensor = tf.Variable([1, 2, 3])\n",
        "print(vector_tensor)"
      ],
      "execution_count": 0,
      "outputs": []
    },
    {
      "cell_type": "markdown",
      "metadata": {
        "id": "xTmnToHKHZRC",
        "colab_type": "text"
      },
      "source": [
        "But with variable tensors you can change the values using the `assign()` method."
      ]
    },
    {
      "cell_type": "code",
      "metadata": {
        "id": "2snvQimMHatS",
        "colab_type": "code",
        "colab": {}
      },
      "source": [
        "vector_tensor = tf.Variable([1, 2, 3])\n",
        "\n",
        "vector_tensor.assign([5, 6, 7])\n",
        "\n",
        "print(vector_tensor)"
      ],
      "execution_count": 0,
      "outputs": []
    },
    {
      "cell_type": "markdown",
      "metadata": {
        "colab_type": "text",
        "id": "V1EiBLkwGSmy"
      },
      "source": [
        "### Tensor Operations\n",
        "\n",
        "In order for variables to change, something must operate on them. TensorFlow operations create, destroy, and manipulate tensors. Most of the lines of code in a typical TensorFlow program are operations.\n",
        "\n",
        "Let's start by looking at a basic operation that adds two tensors together."
      ]
    },
    {
      "cell_type": "code",
      "metadata": {
        "colab_type": "code",
        "id": "J8pFGSAxHVxN",
        "colab": {}
      },
      "source": [
        "tensor = tf.constant(3) + tf.constant(4)\n",
        "print(tensor)"
      ],
      "execution_count": 0,
      "outputs": []
    },
    {
      "cell_type": "markdown",
      "metadata": {
        "id": "7UlsaKwGIx09",
        "colab_type": "text"
      },
      "source": [
        "We create two scalar constant tensors and add them together. The result is another tensor.\n",
        "\n",
        "Notice that in order to perform a simple tensor addition operation, we could simply use the standard Python addition symbol. This is because TensorFlow overrides many of the standard operators for use with [`Tensor`](https://www.tensorflow.org/api_docs/python/tf/Tensor) objects.\n",
        "\n",
        "This override works as long as there is a `Tensor` on at least one side of the operator:"
      ]
    },
    {
      "cell_type": "code",
      "metadata": {
        "id": "jHlZQpsIJh7h",
        "colab_type": "code",
        "colab": {}
      },
      "source": [
        "print(tf.constant(3) + 4)\n",
        "print(3 + tf.constant(4))"
      ],
      "execution_count": 0,
      "outputs": []
    },
    {
      "cell_type": "markdown",
      "metadata": {
        "colab_type": "text",
        "id": "J7uQM1BmgDYS"
      },
      "source": [
        "TensorFlow also has support for many more operations than can be represented by standard Python operators. For instance, there are a number of linear algebra operations such as the matrix transpositition:"
      ]
    },
    {
      "cell_type": "code",
      "metadata": {
        "colab_type": "code",
        "id": "XvboMHpfeg8D",
        "colab": {}
      },
      "source": [
        "matrix = tf.constant([\n",
        "  [11, 12, 13],\n",
        "  [21, 22, 23],\n",
        "  [31, 32, 33],\n",
        "])\n",
        "\n",
        "print(tf.transpose(matrix))"
      ],
      "execution_count": 0,
      "outputs": []
    },
    {
      "cell_type": "markdown",
      "metadata": {
        "id": "tCgAH1ucNJ6X",
        "colab_type": "text"
      },
      "source": [
        "You can also calculate matrix multiplication using [`tf.tensordot()`](https://www.tensorflow.org/api_docs/python/tf/tensordot):"
      ]
    },
    {
      "cell_type": "code",
      "metadata": {
        "id": "g6AVCPW-NtXB",
        "colab_type": "code",
        "colab": {}
      },
      "source": [
        "matrix_one = tf.constant([\n",
        "  [2, 2, 2],\n",
        "  [2, 2, 2],\n",
        "  [2, 2, 2],\n",
        "])\n",
        "\n",
        "matrix_two = tf.constant([\n",
        "  [2, 2, 2],\n",
        "  [2, 2, 2],\n",
        "  [2, 2, 2],\n",
        "])\n",
        "\n",
        "tf.tensordot(matrix_one, matrix_two, axes=1)"
      ],
      "execution_count": 0,
      "outputs": []
    },
    {
      "cell_type": "markdown",
      "metadata": {
        "id": "u5sHaOu8NtEZ",
        "colab_type": "text"
      },
      "source": [
        "This is necessary because by default `*` performs elementwise multiplication:"
      ]
    },
    {
      "cell_type": "code",
      "metadata": {
        "id": "G2PCoCejN7KC",
        "colab_type": "code",
        "colab": {}
      },
      "source": [
        "matrix_one = tf.constant([\n",
        "  [2, 2, 2],\n",
        "  [2, 2, 2],\n",
        "  [2, 2, 2],\n",
        "])\n",
        "\n",
        "matrix_two = tf.constant([\n",
        "  [2, 2, 2],\n",
        "  [2, 2, 2],\n",
        "  [2, 2, 2],\n",
        "])\n",
        "\n",
        "matrix_one * matrix_two"
      ],
      "execution_count": 0,
      "outputs": []
    },
    {
      "cell_type": "markdown",
      "metadata": {
        "id": "fqLMXLStOvFA",
        "colab_type": "text"
      },
      "source": [
        "Interestingly, `Tensor` objects can also by passed to NumPy functions in some cases:"
      ]
    },
    {
      "cell_type": "code",
      "metadata": {
        "id": "W2GiNUnEO2Gi",
        "colab_type": "code",
        "colab": {}
      },
      "source": [
        "import tensorflow as tf\n",
        "import numpy as np\n",
        "\n",
        "matrix_one = tf.constant([\n",
        "  [2, 2, 2],\n",
        "  [2, 2, 2],\n",
        "  [2, 2, 2],\n",
        "])\n",
        "\n",
        "matrix_two = tf.constant([\n",
        "  [2, 2, 2],\n",
        "  [2, 2, 2],\n",
        "  [2, 2, 2],\n",
        "])\n",
        "\n",
        "np.dot(matrix_one, matrix_two)"
      ],
      "execution_count": 0,
      "outputs": []
    },
    {
      "cell_type": "markdown",
      "metadata": {
        "colab_type": "text",
        "id": "Af25DbqlpL9P"
      },
      "source": [
        "#### Exercise 2: Linear Equation"
      ]
    },
    {
      "cell_type": "markdown",
      "metadata": {
        "colab_type": "text",
        "id": "xJPDMLjVDLWe"
      },
      "source": [
        "Create a TensorFlow graph that performs the linear equation, `y = mx + b`.\n",
        "\n",
        "*   `m` should be a 0D constant tensor with a value of 12.\n",
        "*   `b` should be a 0D constant tensor with a value of 32.\n",
        "*   `x` should be a 1D constant tensor of shape (5,) and any values you choose.\n",
        "*   `y` should be 1D tensor that receives the result of `mx + b`.\n",
        "\n",
        "Run the equation and print `y`."
      ]
    },
    {
      "cell_type": "markdown",
      "metadata": {
        "colab_type": "text",
        "id": "OeYG9IBhDamd"
      },
      "source": [
        "**Student Solution**"
      ]
    },
    {
      "cell_type": "code",
      "metadata": {
        "colab_type": "code",
        "id": "toVERAtwtupZ",
        "colab": {}
      },
      "source": [
        "# Your code goes here"
      ],
      "execution_count": 0,
      "outputs": []
    },
    {
      "cell_type": "markdown",
      "metadata": {
        "id": "6zpNW7p-OpFG",
        "colab_type": "text"
      },
      "source": [
        "---"
      ]
    },
    {
      "cell_type": "markdown",
      "metadata": {
        "colab_type": "text",
        "id": "exercise-2-key-1"
      },
      "source": [
        "##### Answer Key"
      ]
    },
    {
      "cell_type": "code",
      "metadata": {
        "colab_type": "code",
        "id": "e_MnKd8JOxum",
        "colab": {}
      },
      "source": [
        "import tensorflow as tf\n",
        "\n",
        "m = tf.constant(12)\n",
        "b = tf.constant(32)\n",
        "x = tf.constant([5, 4, 7, 9, 3])\n",
        "y = m * x + b\n",
        "\n",
        "print(y)"
      ],
      "execution_count": 0,
      "outputs": []
    },
    {
      "cell_type": "markdown",
      "metadata": {
        "colab_type": "text",
        "id": "ztk29pL_Dfox"
      },
      "source": [
        "---"
      ]
    },
    {
      "cell_type": "markdown",
      "metadata": {
        "colab_type": "text",
        "id": "fag329aODDtT"
      },
      "source": [
        "### Extracting Values"
      ]
    },
    {
      "cell_type": "markdown",
      "metadata": {
        "colab_type": "text",
        "id": "1Fkn4SQRuosy"
      },
      "source": [
        "Notice that every value that we have seen so far has been a Tensor. This is fine as long as you are working inside of TensorFlow (and even NumPy) in many cases, but what if you wanted to extract the values in a Tensor out to more standard Python values?\n",
        "\n",
        "For that you can use the `.numpy()` method."
      ]
    },
    {
      "cell_type": "code",
      "metadata": {
        "id": "_ijtHHWMPqiI",
        "colab_type": "code",
        "colab": {}
      },
      "source": [
        "tensor = tf.constant([[1, 2], [3, 4]])\n",
        "\n",
        "tensor.numpy()"
      ],
      "execution_count": 0,
      "outputs": []
    },
    {
      "cell_type": "markdown",
      "metadata": {
        "colab_type": "text",
        "id": "Y2VadKhFvkzZ"
      },
      "source": [
        "#### Exercise 3: Tensor to Python List\n",
        "\n",
        "In the example above, you found out how to take the values stored in a `Tensor` object and convert them to a NumPy array using the `numpy()` method. In this exercise you'll go one step further and convert the `Tensor` value into a core Python list.\n",
        "\n",
        "**Student Solution**"
      ]
    },
    {
      "cell_type": "code",
      "metadata": {
        "id": "w3Avr5soQ7-x",
        "colab_type": "code",
        "colab": {}
      },
      "source": [
        "tensor = tf.constant([[1, 2], [3, 4]])\n",
        "\n",
        "# Extract the values inside the tensor as a Python list stored\n",
        "# in a variable named tensor_values.\n",
        "\n",
        "# Print the type of tensor_values\n",
        "\n",
        "# Print tensor_values"
      ],
      "execution_count": 0,
      "outputs": []
    },
    {
      "cell_type": "markdown",
      "metadata": {
        "colab_type": "text",
        "id": "3Q_Yxn-_DII3"
      },
      "source": [
        "---"
      ]
    },
    {
      "cell_type": "markdown",
      "metadata": {
        "colab_type": "text",
        "id": "exercise-4-key-1"
      },
      "source": [
        "##### Answer Key"
      ]
    },
    {
      "cell_type": "markdown",
      "metadata": {
        "colab_type": "text",
        "id": "cDISpyMID0eP"
      },
      "source": [
        "**Solution**"
      ]
    },
    {
      "cell_type": "code",
      "metadata": {
        "colab_type": "code",
        "id": "d_vCgyibDx4W",
        "colab": {}
      },
      "source": [
        "import tensorflow as tf\n",
        "\n",
        "tensor = tf.constant([[1, 2], [3, 4]])\n",
        "\n",
        "# Extract the values inside the tensor as a Python list stored\n",
        "# in a variable named tensor_values.\n",
        "tensor_values = tensor.numpy().tolist()\n",
        "\n",
        "# Print the type of tensor_values\n",
        "print(type(tensor_values))\n",
        "\n",
        "# Print tensor_values\n",
        "print(tensor_values)"
      ],
      "execution_count": 0,
      "outputs": []
    },
    {
      "cell_type": "markdown",
      "metadata": {
        "colab_type": "text",
        "id": "QWORaNTyDy0L"
      },
      "source": [
        "---"
      ]
    },
    {
      "cell_type": "markdown",
      "metadata": {
        "id": "8ktqaeUlRfKu",
        "colab_type": "text"
      },
      "source": [
        "### Conclusion"
      ]
    },
    {
      "cell_type": "markdown",
      "metadata": {
        "id": "sFj5uq0qRgp1",
        "colab_type": "text"
      },
      "source": [
        "In this lab we briefly talked about TensorFlow versions and introduced you to the concept of tensors. This is just the tip of the iceberg in regard to how to use TensorFlow. In future labs, you'll learn about the TensorFlow Estimator interface and the Keras interface. You'll train models, measure model quality, and use models to make predictions. You'll store model state and load saved models."
      ]
    }
  ]
}
