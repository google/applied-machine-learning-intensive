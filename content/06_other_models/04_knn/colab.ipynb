{
  "nbformat": 4,
  "nbformat_minor": 0,
  "metadata": {
    "colab": {
      "name": "K-Nearest-Neighbors (KNN)",
      "provenance": [],
      "private_outputs": true,
      "collapsed_sections": [
        "dAO2bb0bDpI-",
        "_Ugs5pUdVtaS"
      ],
      "include_colab_link": true
    },
    "language_info": {
      "codemirror_mode": {
        "name": "ipython",
        "version": 3
      },
      "file_extension": ".py",
      "mimetype": "text/x-python",
      "name": "python",
      "nbconvert_exporter": "python",
      "pygments_lexer": "ipython3",
      "version": "3.5.2"
    },
    "kernelspec": {
      "name": "python3",
      "display_name": "Python 3"
    }
  },
  "cells": [
    {
      "cell_type": "markdown",
      "metadata": {
        "id": "view-in-github",
        "colab_type": "text"
      },
      "source": [
        "<a href=\"https://colab.research.google.com/github/google/applied-machine-learning-intensive/blob/master/content/06_other_models/04_knn/colab.ipynb\" target=\"_parent\"><img src=\"https://colab.research.google.com/assets/colab-badge.svg\" alt=\"Open In Colab\"/></a>"
      ]
    },
    {
      "cell_type": "markdown",
      "metadata": {
        "id": "dAO2bb0bDpI-",
        "colab_type": "text"
      },
      "source": [
        "#### Copyright 2020 Google LLC."
      ]
    },
    {
      "cell_type": "code",
      "metadata": {
        "id": "iO30fGEDDrkO",
        "colab_type": "code",
        "colab": {}
      },
      "source": [
        "# Licensed under the Apache License, Version 2.0 (the \"License\");\n",
        "# you may not use this file except in compliance with the License.\n",
        "# You may obtain a copy of the License at\n",
        "#\n",
        "# https://www.apache.org/licenses/LICENSE-2.0\n",
        "#\n",
        "# Unless required by applicable law or agreed to in writing, software\n",
        "# distributed under the License is distributed on an \"AS IS\" BASIS,\n",
        "# WITHOUT WARRANTIES OR CONDITIONS OF ANY KIND, either express or implied.\n",
        "# See the License for the specific language governing permissions and\n",
        "# limitations under the License."
      ],
      "execution_count": 0,
      "outputs": []
    },
    {
      "cell_type": "markdown",
      "metadata": {
        "deletable": true,
        "editable": true,
        "id": "LjFnI22EFDIo",
        "colab_type": "text"
      },
      "source": [
        "# K-Nearest-Neighbors (KNN)"
      ]
    },
    {
      "cell_type": "markdown",
      "metadata": {
        "id": "vn1krl8WC4kC",
        "colab_type": "text"
      },
      "source": [
        "The k-nearest neighbors (KNN) algorithm is a simple concept: define some distance metric between the items in your dataset, and find the K closest items. You can then use those items to predict some property of a test item. This prediction is achieved by having them somehow \"vote\" on it."
      ]
    },
    {
      "cell_type": "markdown",
      "metadata": {
        "id": "6DucpmlICqfV",
        "colab_type": "text"
      },
      "source": [
        "## KNN for Classification\n"
      ]
    },
    {
      "cell_type": "markdown",
      "metadata": {
        "id": "zgl3IeAgEUEr",
        "colab_type": "text"
      },
      "source": [
        "In this example we will use KNN to predict whether or not a person will be diagnosed with diabetes. The dataset is the [Pima Indians Diabetes Database](https://www.kaggle.com/uciml/pima-indians-diabetes-database).\n",
        "\n",
        "Upload your `kaggle.json` file and run the code below."
      ]
    },
    {
      "cell_type": "code",
      "metadata": {
        "id": "aYcD3rqsiQLw",
        "colab_type": "code",
        "colab": {}
      },
      "source": [
        "! chmod 600 kaggle.json && (ls ~/.kaggle 2>/dev/null || mkdir ~/.kaggle) && mv kaggle.json ~/.kaggle/ && echo 'Done'\n",
        "! kaggle datasets download uciml/pima-indians-diabetes-database\n",
        "! ls"
      ],
      "execution_count": 0,
      "outputs": []
    },
    {
      "cell_type": "markdown",
      "metadata": {
        "id": "QKAHb-9eipy7",
        "colab_type": "text"
      },
      "source": [
        "Unzip the dataset."
      ]
    },
    {
      "cell_type": "code",
      "metadata": {
        "id": "thXepCahitIp",
        "colab_type": "code",
        "colab": {}
      },
      "source": [
        "! unzip pima-indians-diabetes-database.zip"
      ],
      "execution_count": 0,
      "outputs": []
    },
    {
      "cell_type": "markdown",
      "metadata": {
        "id": "2r3apj-qirmF",
        "colab_type": "text"
      },
      "source": [
        "And then load the dataset into a `DataFrame`."
      ]
    },
    {
      "cell_type": "code",
      "metadata": {
        "id": "F5-QyBteDws3",
        "colab_type": "code",
        "colab": {}
      },
      "source": [
        "import pandas as pd \n",
        "\n",
        "diabetes = pd.read_csv('diabetes.csv')\n",
        "diabetes.sample(n=10)"
      ],
      "execution_count": 0,
      "outputs": []
    },
    {
      "cell_type": "markdown",
      "metadata": {
        "id": "tBXxoEeYi_YH",
        "colab_type": "text"
      },
      "source": [
        "Take a quick look at the data to see how many rows and columns we are dealing with."
      ]
    },
    {
      "cell_type": "code",
      "metadata": {
        "id": "D_ysgP9sEHyv",
        "colab_type": "code",
        "colab": {}
      },
      "source": [
        "diabetes.describe()"
      ],
      "execution_count": 0,
      "outputs": []
    },
    {
      "cell_type": "markdown",
      "metadata": {
        "id": "6CB2QMgVEsag",
        "colab_type": "text"
      },
      "source": [
        "Our features are:\n",
        "- Pregnancies\n",
        "- Glucose\n",
        "- BloodPressure\n",
        "- SkinThickness\n",
        "- Insulin\n",
        "- BMI\n",
        "- DiabetesPedigreeFunction\n",
        "- Age\n",
        "\n",
        "Our target is `Outcome`, which is currently encoded with a 1 for a positive diagnosis and 0 for a negative diagnosis."
      ]
    },
    {
      "cell_type": "code",
      "metadata": {
        "id": "F8zDRrH2E1sk",
        "colab_type": "code",
        "colab": {}
      },
      "source": [
        "print(diabetes.groupby('Outcome').size())"
      ],
      "execution_count": 0,
      "outputs": []
    },
    {
      "cell_type": "markdown",
      "metadata": {
        "id": "7YYpRLoVG9M0",
        "colab_type": "text"
      },
      "source": [
        "Notice there are several zeros in the feature columns (check the **min** values). These are likely cases where the data simply wasn't collected or stored properly. (For example, a blood pressure of 0 does not make sense.) We need to clean these up or they will have an incorrect effect on the outcome of our KNN."
      ]
    },
    {
      "cell_type": "code",
      "metadata": {
        "id": "ZaKRyuhXHdDT",
        "colab_type": "code",
        "colab": {}
      },
      "source": [
        "import numpy as np\n",
        "no_zero = ['Glucose', 'BloodPressure', 'SkinThickness', 'Insulin', 'BMI']\n",
        "\n",
        "for column in no_zero:\n",
        "  diabetes[column] = diabetes[column].replace(0, np.NaN)\n",
        "  mean = int(diabetes[column].mean(skipna=True))\n",
        "  diabetes[column] = diabetes[column].replace(np.NaN, mean)\n",
        "\n",
        "diabetes.describe()"
      ],
      "execution_count": 0,
      "outputs": []
    },
    {
      "cell_type": "markdown",
      "metadata": {
        "id": "yP_5N-vVFwcZ",
        "colab_type": "text"
      },
      "source": [
        "We create training and testing sets (20% for testing), remembering to separate 'Outcome' as our target value."
      ]
    },
    {
      "cell_type": "code",
      "metadata": {
        "id": "8sxRClkUI_80",
        "colab_type": "code",
        "colab": {}
      },
      "source": [
        "from sklearn.model_selection import train_test_split\n",
        "\n",
        "X = diabetes.iloc[:,0:8]\n",
        "y = diabetes.iloc[:,8]\n",
        "X_train, X_test, y_train, y_test = train_test_split(X, y, test_size=0.2)"
      ],
      "execution_count": 0,
      "outputs": []
    },
    {
      "cell_type": "markdown",
      "metadata": {
        "id": "wNmQ-WJSG8U1",
        "colab_type": "text"
      },
      "source": [
        "Now we scale our features using StandardScaler. "
      ]
    },
    {
      "cell_type": "code",
      "metadata": {
        "id": "kUweJhpqJ7-J",
        "colab_type": "code",
        "colab": {}
      },
      "source": [
        "from sklearn.preprocessing import StandardScaler\n",
        "\n",
        "sc_X = StandardScaler()\n",
        "X_train = sc_X.fit_transform(X_train)\n",
        "X_test= sc_X.transform(X_test)"
      ],
      "execution_count": 0,
      "outputs": []
    },
    {
      "cell_type": "markdown",
      "metadata": {
        "id": "wzS68VfgKzs4",
        "colab_type": "text"
      },
      "source": [
        "Finally, we use the scikit-learn KNN model. "
      ]
    },
    {
      "cell_type": "code",
      "metadata": {
        "id": "STqlJ4B6Kuzk",
        "colab_type": "code",
        "colab": {}
      },
      "source": [
        "from sklearn.neighbors import KNeighborsClassifier\n",
        "\n",
        "n_neighbors = 14\n",
        "\n",
        "KNN = KNeighborsClassifier(n_neighbors=n_neighbors, p=2, metric='euclidean')\n",
        "KNN.fit(X_train, y_train)\n",
        "\n",
        "y_pred = KNN.predict(X_test)"
      ],
      "execution_count": 0,
      "outputs": []
    },
    {
      "cell_type": "markdown",
      "metadata": {
        "id": "3JFuPHd0MlSo",
        "colab_type": "text"
      },
      "source": [
        "We now evaluate our model in terms of the confusion matrix, F1 score, and accuracy."
      ]
    },
    {
      "cell_type": "code",
      "metadata": {
        "id": "W6WbuXywMsT5",
        "colab_type": "code",
        "colab": {}
      },
      "source": [
        "from sklearn.metrics import confusion_matrix\n",
        "from sklearn.metrics import f1_score\n",
        "from sklearn.metrics import accuracy_score\n",
        "\n",
        "cm = confusion_matrix(y_test,y_pred)\n",
        "f1 = f1_score(y_test,y_pred)\n",
        "accuracy = accuracy_score(y_test,y_pred)\n",
        "\n",
        "\n",
        "print('The confusion matrix is', cm)\n",
        "print('The F1 score is', f1)\n",
        "print('The accuracy score is', accuracy)"
      ],
      "execution_count": 0,
      "outputs": []
    },
    {
      "cell_type": "markdown",
      "metadata": {
        "id": "a89atWiVOWGQ",
        "colab_type": "text"
      },
      "source": [
        "## K-Nearest-Neighbors for Regression"
      ]
    },
    {
      "cell_type": "markdown",
      "metadata": {
        "id": "NDXgoCAXxExG",
        "colab_type": "text"
      },
      "source": [
        "We can also use KNN for regression. In this example we'll actually build the model from scratch in order to demonstrate its simplicity.\n",
        "\n",
        "For our model we'll use MovieLens data. MovieLens data is available in relation to the following paper:\n",
        "\n",
        "```text\n",
        "F. Maxwell Harper and Joseph A. Konstan. 2015.\n",
        "The MovieLens Datasets: History and Context.\n",
        "ACM Transactions on Interactive Intelligent Systems (TiiS) 5, 4: 19:1–19:19.\n",
        "https://doi.org/10.1145/2827872\n",
        "```\n"
      ]
    },
    {
      "cell_type": "code",
      "metadata": {
        "id": "c9UAjEelkkpX",
        "colab_type": "code",
        "colab": {}
      },
      "source": [
        "! wget http://files.grouplens.org/datasets/movielens/ml-latest-small.zip\n",
        "! unzip ml-latest-small.zip"
      ],
      "execution_count": 0,
      "outputs": []
    },
    {
      "cell_type": "markdown",
      "metadata": {
        "id": "_oVdwx-o4hts",
        "colab_type": "text"
      },
      "source": [
        "We'll use KNN to guess the rating of a movie by looking at the 10 movies that are closest to it in terms of genres and popularity.\n",
        "\n",
        "To start, let's load up every rating in the dataset into a Pandas DataFrame:"
      ]
    },
    {
      "cell_type": "code",
      "metadata": {
        "deletable": true,
        "editable": true,
        "id": "fxzo6I1RFDIq",
        "colab_type": "code",
        "colab": {}
      },
      "source": [
        "import pandas as pd\n",
        "\n",
        "ratings = pd.read_csv('./ml-latest-small/ratings.csv')\n",
        "ratings.sample(n=10)"
      ],
      "execution_count": 0,
      "outputs": []
    },
    {
      "cell_type": "markdown",
      "metadata": {
        "deletable": true,
        "editable": true,
        "id": "vaMWVgAuFDIw",
        "colab_type": "text"
      },
      "source": [
        "Now we'll group everything by `movieId` and compute the mean rating for the movie."
      ]
    },
    {
      "cell_type": "code",
      "metadata": {
        "id": "FQNlvKjHnFXE",
        "colab_type": "code",
        "colab": {}
      },
      "source": [
        "import numpy as np\n",
        "\n",
        "mean_ratings = ratings[['movieId', 'rating']].groupby('movieId').agg({'rating': ['sum', 'mean']})\n",
        "mean_ratings.columns = ['rating_count', 'mean_rating']\n",
        "mean_ratings.sample(n=10)"
      ],
      "execution_count": 0,
      "outputs": []
    },
    {
      "cell_type": "markdown",
      "metadata": {
        "deletable": true,
        "editable": true,
        "id": "uDe77nJjFDI1",
        "colab_type": "text"
      },
      "source": [
        "There is likely a fair amount of variance in the sum of ratings, so we'll normalize that column."
      ]
    },
    {
      "cell_type": "code",
      "metadata": {
        "deletable": true,
        "editable": true,
        "id": "W1IsBi8gFDI2",
        "colab_type": "code",
        "colab": {}
      },
      "source": [
        "mean_ratings['rating_count'] = (\n",
        "    (mean_ratings['rating_count'] - mean_ratings['rating_count'].min()) / \n",
        "    (mean_ratings['rating_count'].max() - mean_ratings['rating_count'].min()))\n",
        "\n",
        "mean_ratings['rating_count'].describe()"
      ],
      "execution_count": 0,
      "outputs": []
    },
    {
      "cell_type": "markdown",
      "metadata": {
        "deletable": true,
        "editable": true,
        "id": "Mgy7PuTYFDI5",
        "colab_type": "text"
      },
      "source": [
        "Now let's get the genre information from the `movies.csv` file. In the genres column, we see the list of genres for each movie separated by a `'|'`. Note that a movie may have more than one genre. \n",
        "\n",
        "First we read the file into a DataFrame. "
      ]
    },
    {
      "cell_type": "code",
      "metadata": {
        "id": "e0Il1YUZCu5N",
        "colab_type": "code",
        "colab": {}
      },
      "source": [
        "movies = pd.read_csv('./ml-latest-small/movies.csv')\n",
        "movies.sample(n=10)"
      ],
      "execution_count": 0,
      "outputs": []
    },
    {
      "cell_type": "code",
      "metadata": {
        "id": "lT6kSrhE0YGv",
        "colab_type": "code",
        "colab": {}
      },
      "source": [
        "movies.describe()"
      ],
      "execution_count": 0,
      "outputs": []
    },
    {
      "cell_type": "markdown",
      "metadata": {
        "id": "55Rl0TPgv6YD",
        "colab_type": "text"
      },
      "source": [
        "Now we split the genres column on the `'|'` and create a new DataFrame called `movies_split`. "
      ]
    },
    {
      "cell_type": "code",
      "metadata": {
        "id": "_J5xMDq7vr4W",
        "colab_type": "code",
        "colab": {}
      },
      "source": [
        "movies_split = movies.genres.str.split('|', expand=True)\n",
        "movies_split.head()"
      ],
      "execution_count": 0,
      "outputs": []
    },
    {
      "cell_type": "markdown",
      "metadata": {
        "id": "1xuTZEM4J9i5",
        "colab_type": "text"
      },
      "source": [
        "We now create a list of all the unique genres that appear in this DataFrame and remove values that indicate that a genre wasn't specified."
      ]
    },
    {
      "cell_type": "code",
      "metadata": {
        "id": "OUPXs_XBwlw9",
        "colab_type": "code",
        "colab": {}
      },
      "source": [
        "genres = list(pd.unique(movies_split.values.ravel()))\n",
        "genres.remove(None)\n",
        "genres.remove('(no genres listed)')\n",
        "genres = sorted(genres)\n",
        "genres"
      ],
      "execution_count": 0,
      "outputs": []
    },
    {
      "cell_type": "markdown",
      "metadata": {
        "id": "LQDnShPNw6YT",
        "colab_type": "text"
      },
      "source": [
        "In the movies DataFrame, we want to recode the values of the genres column to be a list of 20 0s and 1s that correspond to the values in `list` (in the order that they appear in `list`). For example, if a movie has genres 'Adventure and Children', then we would like the element in the genres column to be: \\\n",
        "`[1, 0, 0, 0, 0, 1, 0, 0, 0, 0, 0, 0, 0, 0, 0, 0, 0, 0, 0, 0]`\n",
        "\n",
        "We'll create a look up to make this easier."
      ]
    },
    {
      "cell_type": "code",
      "metadata": {
        "id": "ySlaMGAtqq9e",
        "colab_type": "code",
        "colab": {}
      },
      "source": [
        "genre_to_id = {v:i for i, v in enumerate(genres)}\n",
        "genre_to_id"
      ],
      "execution_count": 0,
      "outputs": []
    },
    {
      "cell_type": "markdown",
      "metadata": {
        "id": "itN7X7X-yZ2G",
        "colab_type": "text"
      },
      "source": [
        "The function defined below iterates through a list of genres and compares the values to the elements of `genres_list`. It then returns an appropriate array of 0s and 1s as described above."
      ]
    },
    {
      "cell_type": "code",
      "metadata": {
        "id": "jiC9efbJyYmk",
        "colab_type": "code",
        "colab": {}
      },
      "source": [
        "# Create the array of 0s and 1s based on genres.\n",
        "def encode_genres(l):\n",
        "  encoding = np.zeros(len(genres)).astype(int)\n",
        "  for genre in l:\n",
        "    if genre in genre_to_id:\n",
        "      encoding[genre_to_id[genre]] = 1\n",
        "  return encoding\n",
        "\n",
        "# Test that f works as expected on an example list.\n",
        "encode_genres(['Adventure', 'Children'])"
      ],
      "execution_count": 0,
      "outputs": []
    },
    {
      "cell_type": "markdown",
      "metadata": {
        "id": "lfRuqHf6zjU5",
        "colab_type": "text"
      },
      "source": [
        "We split the genres column of the movies DataFrame to be a list. We do this in preparation for applying the function, `encode_genres`."
      ]
    },
    {
      "cell_type": "code",
      "metadata": {
        "id": "j8nMO-TxtKqP",
        "colab_type": "code",
        "colab": {}
      },
      "source": [
        "movies['genres'] = movies.genres.str.split('|')\n",
        "movies.sample(n=10)"
      ],
      "execution_count": 0,
      "outputs": []
    },
    {
      "cell_type": "markdown",
      "metadata": {
        "id": "VyheaFd60-sr",
        "colab_type": "text"
      },
      "source": [
        "We apply the function `encode_genres` to the genres column to change the elements to arrays of 0s and 1s representing the genres. We also set the index to be the `movieId`."
      ]
    },
    {
      "cell_type": "code",
      "metadata": {
        "colab_type": "code",
        "id": "ngyoL_vDuKG2",
        "colab": {}
      },
      "source": [
        "movies['genres'] = movies.genres.apply(encode_genres)\n",
        "movies = movies.set_index('movieId')\n",
        "movies.sample(n=10)"
      ],
      "execution_count": 0,
      "outputs": []
    },
    {
      "cell_type": "markdown",
      "metadata": {
        "id": "on2vh-5lSWHJ",
        "colab_type": "text"
      },
      "source": [
        "Now we can add the mean rating and the count of ratings to the movies. Let's first make sure that every index is accounted for."
      ]
    },
    {
      "cell_type": "code",
      "metadata": {
        "id": "4hiNP3aASe9e",
        "colab_type": "code",
        "colab": {}
      },
      "source": [
        "np.setdiff1d(movies.index.to_numpy(), mean_ratings.index.to_numpy())"
      ],
      "execution_count": 0,
      "outputs": []
    },
    {
      "cell_type": "code",
      "metadata": {
        "id": "Baxr5N57Smzd",
        "colab_type": "code",
        "colab": {}
      },
      "source": [
        "np.setdiff1d(mean_ratings.index.to_numpy(), movies.index.to_numpy())"
      ],
      "execution_count": 0,
      "outputs": []
    },
    {
      "cell_type": "markdown",
      "metadata": {
        "id": "WRU0CMCjSqK3",
        "colab_type": "text"
      },
      "source": [
        "It looks like we are missing some IDs from the ratings, so we need to be sure to do an inner join. We don't want to include movies with no ratings or ratings with no movies."
      ]
    },
    {
      "cell_type": "code",
      "metadata": {
        "id": "hsLyPq_BSpwt",
        "colab_type": "code",
        "colab": {}
      },
      "source": [
        "movies = movies.join(mean_ratings, how='inner')\n",
        "movies.sample(n=10)"
      ],
      "execution_count": 0,
      "outputs": []
    },
    {
      "cell_type": "markdown",
      "metadata": {
        "deletable": true,
        "editable": true,
        "id": "KJNB_C6yFDJC",
        "colab_type": "text"
      },
      "source": [
        "Now let's define a function that computes the \"distance\" between two movies based on how similar their genres are and how similar their popularity is. To make sure it works, we'll compute the distance between movie IDs `2` and `2728`:"
      ]
    },
    {
      "cell_type": "code",
      "metadata": {
        "id": "PwzbEaa1ssJT",
        "colab_type": "code",
        "colab": {}
      },
      "source": [
        "from scipy import spatial\n",
        "\n",
        "def distance(a, b):\n",
        "  genre_distance = spatial.distance.euclidean(a['genres'], b['genres'])\n",
        "  popularity_distance = abs(a['rating_count'] - b['rating_count'])\n",
        "  return genre_distance + popularity_distance\n",
        "    \n",
        "distance(movies[movies.index == 2].iloc[0], movies[movies.index == 2728].iloc[0])"
      ],
      "execution_count": 0,
      "outputs": []
    },
    {
      "cell_type": "markdown",
      "metadata": {
        "deletable": true,
        "editable": true,
        "id": "PykcDKS9FDJG",
        "colab_type": "text"
      },
      "source": [
        "Remember, the higher the distance, the less similar the movies are. Let's check what movies `2` and `2728` actually are, and then let's confirm they're not all that similar:"
      ]
    },
    {
      "cell_type": "code",
      "metadata": {
        "deletable": true,
        "editable": true,
        "id": "YdtviIH_FDJH",
        "colab_type": "code",
        "colab": {}
      },
      "source": [
        "print(movies[movies.index == 2].iloc[0])\n",
        "print(movies[movies.index == 2728].iloc[0])"
      ],
      "execution_count": 0,
      "outputs": []
    },
    {
      "cell_type": "markdown",
      "metadata": {
        "deletable": true,
        "editable": true,
        "id": "MZeyQceHFDJK",
        "colab_type": "text"
      },
      "source": [
        "Now we just need a little code to compute the distance between some given test movie (Toy Story, in this example) and all of the movies in our dataset.\n",
        "\n",
        "We'll find the `10` nearest neighbors utilizing a `heapq` to keep our memory usage low. Note that `heapq` pops the smallest values first, so we need to take the negative of the distance in order to remove the largest neighbors first."
      ]
    },
    {
      "cell_type": "code",
      "metadata": {
        "deletable": true,
        "editable": true,
        "id": "Lh8rhcoEFDJK",
        "colab_type": "code",
        "colab": {}
      },
      "source": [
        "import heapq\n",
        "\n",
        "def k_nearest_neighbors(movie_id, K):\n",
        "    distances = []\n",
        "    central_movie = movies[movies.index == movie_id].iloc[0]\n",
        "    for mid, movie in movies.iterrows():\n",
        "        if (mid != movie_id):\n",
        "            dist = distance(central_movie, movie)\n",
        "            if len(distances) < K:\n",
        "              heapq.heappush(distances, (-dist, mid))\n",
        "            else:\n",
        "              _ = heapq.heappushpop(distances, (-dist, mid))\n",
        "    return [x[1] for x in distances]\n",
        "\n",
        "avg_rating = 0.0\n",
        "for id in k_nearest_neighbors(1, 10):\n",
        "  neighbor = movies[movies.index == id].iloc[0]\n",
        "  print(neighbor['title'], neighbor['mean_rating'])\n",
        "  avg_rating += neighbor['mean_rating']\n",
        "\n",
        "print(\"\\nPredicted Rating: \", avg_rating/10)"
      ],
      "execution_count": 0,
      "outputs": []
    },
    {
      "cell_type": "markdown",
      "metadata": {
        "deletable": true,
        "editable": true,
        "id": "IxqjFl8lFDJS",
        "colab_type": "text"
      },
      "source": [
        "How does this compare to Toy Story's actual average rating?"
      ]
    },
    {
      "cell_type": "code",
      "metadata": {
        "deletable": true,
        "editable": true,
        "id": "NqQXZlaVFDJS",
        "colab_type": "code",
        "colab": {}
      },
      "source": [
        "movies[movies.index == 1].iloc[0]['mean_rating']"
      ],
      "execution_count": 0,
      "outputs": []
    },
    {
      "cell_type": "markdown",
      "metadata": {
        "id": "Hrp2xsTMEbsG",
        "colab_type": "text"
      },
      "source": [
        "# Exercise: `KNeighborsRegressor`"
      ]
    },
    {
      "cell_type": "markdown",
      "metadata": {
        "id": "OSrVd6CaUxdJ",
        "colab_type": "text"
      },
      "source": [
        "Earlier in the lab, we built a KNN regressor from scratch. Scikit-learn offers the [`KNeighborsRegressor`](https://scikit-learn.org/stable/modules/generated/sklearn.neighbors.KNeighborsRegressor.html), which can perform the regression for us.\n",
        "\n",
        "In this exercise we'll again use the MovieLens dataset to predict rating. Instead of writing your own regressor, use the [`KNeighborsRegressor`](https://scikit-learn.org/stable/modules/generated/sklearn.neighbors.KNeighborsRegressor.html). You'll need to load the data, prepare it for the regressor, and then build and train your model.\n",
        "\n",
        "Instead of building one model, build one hundred. Try using a neighbor count from `1` to `101`. Train your model using a new neighbor count each time. Keep some holdout data for testing, and calculate the root mean squared error for each neighbor count on the holdout data. Plot the RMSE data vs. the neighbor count to try to determine the optimal number of neighbors to consider for this dataset.\n",
        "\n",
        "Explain your work. Use as many code and text blocks as you need."
      ]
    },
    {
      "cell_type": "markdown",
      "metadata": {
        "id": "qTKJ_SdZVpy_",
        "colab_type": "text"
      },
      "source": [
        "**Student Solution**"
      ]
    },
    {
      "cell_type": "code",
      "metadata": {
        "id": "26J2x2-dVreE",
        "colab_type": "code",
        "colab": {}
      },
      "source": [
        "# Your code goes here."
      ],
      "execution_count": 0,
      "outputs": []
    },
    {
      "cell_type": "markdown",
      "metadata": {
        "id": "hMAutxgZVszk",
        "colab_type": "text"
      },
      "source": [
        "---"
      ]
    },
    {
      "cell_type": "markdown",
      "metadata": {
        "id": "_Ugs5pUdVtaS",
        "colab_type": "text"
      },
      "source": [
        "## Answer Key"
      ]
    },
    {
      "cell_type": "markdown",
      "metadata": {
        "id": "AT7X9NcsV4V1",
        "colab_type": "text"
      },
      "source": [
        "Get Kaggle authentication in place."
      ]
    },
    {
      "cell_type": "code",
      "metadata": {
        "id": "IuTiT20yV3Nt",
        "colab_type": "code",
        "colab": {}
      },
      "source": [
        "! chmod 600 kaggle.json && (ls ~/.kaggle 2>/dev/null || mkdir ~/.kaggle) && mv kaggle.json ~/.kaggle/ && echo 'Done'"
      ],
      "execution_count": 0,
      "outputs": []
    },
    {
      "cell_type": "markdown",
      "metadata": {
        "id": "YbfZFHG9V6pu",
        "colab_type": "text"
      },
      "source": [
        "Decompress the data."
      ]
    },
    {
      "cell_type": "code",
      "metadata": {
        "id": "kmlaiq21V_XU",
        "colab_type": "code",
        "colab": {}
      },
      "source": [
        "! wget http://files.grouplens.org/datasets/movielens/ml-latest-small.zip\n",
        "! unzip ml-latest-small.zip"
      ],
      "execution_count": 0,
      "outputs": []
    },
    {
      "cell_type": "markdown",
      "metadata": {
        "id": "eeOunouhWXm-",
        "colab_type": "text"
      },
      "source": [
        "Perform similar data processing as done in the example above. The biggest difference is that we make each genre a column for the scikit-learn regressor instead of having a column containing a list."
      ]
    },
    {
      "cell_type": "code",
      "metadata": {
        "id": "hJVOlZv16PXw",
        "colab_type": "code",
        "colab": {}
      },
      "source": [
        "import pandas as pd\n",
        "\n",
        "ratings = pd.read_csv('./ml-latest-small/ratings.csv')\n",
        "\n",
        "mean_ratings = ratings[['movieId', 'rating']].groupby(\n",
        "    'movieId').agg({'rating': ['sum', 'mean']})\n",
        "mean_ratings.columns = ['rating_count', 'mean_rating']\n",
        "\n",
        "mean_ratings['rating_count'] = (\n",
        "    (mean_ratings['rating_count'] - mean_ratings['rating_count'].min()) / \n",
        "    (mean_ratings['rating_count'].max() - mean_ratings['rating_count'].min()))\n",
        "\n",
        "movies = pd.read_csv('./ml-latest-small/movies.csv')\n",
        "\n",
        "movies_split = movies.genres.str.split('|', expand=True)\n",
        "\n",
        "genres = list(pd.unique(movies_split.values.ravel()))\n",
        "genres.remove(None)\n",
        "genres.remove('(no genres listed)')\n",
        "genres = sorted(genres)\n",
        "\n",
        "genre_to_id = {v:i for i, v in enumerate(genres)}\n",
        "\n",
        "# Create the array of 0s and 1s based on genres.\n",
        "def encode_genres(l):\n",
        "  encoding = [0 for _ in range(len(genres))] #np.zeros(len(genres)).astype(int)\n",
        "  for genre in l:\n",
        "    if genre in genre_to_id:\n",
        "      encoding[genre_to_id[genre]] = 1\n",
        "  return encoding\n",
        "\n",
        "movies = movies.set_index('movieId')\n",
        "\n",
        "movies = movies.join(pd.DataFrame(\n",
        "    data=movies.genres.apply(encode_genres).to_numpy().tolist(),\n",
        "    index=movies.index,\n",
        "    columns=genres), how='inner')\n",
        "\n",
        "movies = movies.join(mean_ratings, how='inner')\n",
        "\n",
        "movies"
      ],
      "execution_count": 0,
      "outputs": []
    },
    {
      "cell_type": "markdown",
      "metadata": {
        "id": "bkBHs2eMWmIO",
        "colab_type": "text"
      },
      "source": [
        "Now we split off some data for testing and some for training."
      ]
    },
    {
      "cell_type": "code",
      "metadata": {
        "id": "h6J3gVNy5SVB",
        "colab_type": "code",
        "colab": {}
      },
      "source": [
        "from sklearn.neighbors import KNeighborsRegressor\n",
        "from sklearn.model_selection import train_test_split\n",
        "\n",
        "feature_columns = ['rating_count'] + genres\n",
        "\n",
        "X_train, X_test, y_train, y_test = train_test_split(\n",
        "    movies[feature_columns],\n",
        "    movies['mean_rating'],\n",
        "    test_size=0.2,\n",
        "    random_state=42)\n",
        "\n",
        "X_train.shape, X_test.shape, y_train.shape, y_test.shape"
      ],
      "execution_count": 0,
      "outputs": []
    },
    {
      "cell_type": "markdown",
      "metadata": {
        "id": "QobPPwEfWvEs",
        "colab_type": "text"
      },
      "source": [
        "Calculate the RMSE for various neighbor counts and plot the values."
      ]
    },
    {
      "cell_type": "code",
      "metadata": {
        "id": "PaDkoMBPPbJW",
        "colab_type": "code",
        "colab": {}
      },
      "source": [
        "from sklearn.metrics import mean_squared_error\n",
        "\n",
        "import math\n",
        "import matplotlib.pyplot as plt\n",
        "\n",
        "rmses = []\n",
        "for n_neighbors in range(1, 101):\n",
        "  model = KNeighborsRegressor(n_neighbors=n_neighbors, p=2, metric='euclidean')\n",
        "  model.fit(X_train, y_train)\n",
        "  y_pred = model.predict(X_test)\n",
        "  rmses.append(math.sqrt(mean_squared_error(y_test, y_pred)))\n",
        "\n",
        "plt.plot(list(range(1, 101)), rmses)\n",
        "_ = plt.show()"
      ],
      "execution_count": 0,
      "outputs": []
    },
    {
      "cell_type": "markdown",
      "metadata": {
        "id": "85PL36PnOx0V",
        "colab_type": "text"
      },
      "source": [
        "In our case, any count after `40` neighbors seems to perform pretty well."
      ]
    },
    {
      "cell_type": "markdown",
      "metadata": {
        "colab_type": "text",
        "id": "llT-wF3ovabr"
      },
      "source": [
        "---"
      ]
    }
  ]
}
